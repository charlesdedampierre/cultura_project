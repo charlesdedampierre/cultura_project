{
 "cells": [
  {
   "cell_type": "code",
   "execution_count": 9,
   "id": "d441781a-5e58-44aa-a30f-caf5722c9110",
   "metadata": {
    "tags": []
   },
   "outputs": [],
   "source": [
    "import sqlite3\n",
    "import pandas as pd\n",
    "import plotly.express as px\n",
    "import sys\n",
    "from plotly.subplots import make_subplots\n",
    "import plotly.graph_objects as go\n",
    "\n",
    "sys.path.append('../')\n",
    "from functions_env import DB_PATH\n",
    "\n",
    "\n",
    "conn = sqlite3.connect(DB_PATH)\n",
    "cursor = conn.cursor()"
   ]
  },
  {
   "cell_type": "code",
   "execution_count": 10,
   "id": "9df70217-5d2d-4221-ad69-f8b9f231f901",
   "metadata": {
    "tags": []
   },
   "outputs": [],
   "source": [
    "# Load individuals Main Informations\n",
    "individuals = pd.read_sql_query(\"SELECT * FROM individuals_kept\", conn)"
   ]
  },
  {
   "cell_type": "code",
   "execution_count": 11,
   "id": "cd39e07e-1946-4d7a-b20a-abb24bf15c7c",
   "metadata": {
    "tags": []
   },
   "outputs": [
    {
     "name": "stderr",
     "output_type": "stream",
     "text": [
      "/var/folders/lx/9b13r6ln63jb54_3xlf9b_380000gn/T/ipykernel_67524/4189010349.py:3: SettingWithCopyWarning: \n",
      "A value is trying to be set on a copy of a slice from a DataFrame\n",
      "\n",
      "See the caveats in the documentation: https://pandas.pydata.org/pandas-docs/stable/user_guide/indexing.html#returning-a-view-versus-a-copy\n",
      "  df_identifiers['country_name'][df_identifiers['country_name'].isna()]=''\n"
     ]
    }
   ],
   "source": [
    "# Load identifiers meta-data\n",
    "df_identifiers = pd.read_sql_query(\"SELECT * FROM identifiers\", conn)\n",
    "df_identifiers['country_name'][df_identifiers['country_name'].isna()]=''\n",
    "df_identifiers['identifier_name'] = df_identifiers.apply(lambda x : x['identifier_name'] + ' ('  + x['country_name'] + ')' if x['country_name']!='' else x['identifier_name'], axis=1)\n",
    "df_identifiers = df_identifiers.drop(['country_wikidata_id', 'count_records', 'identifier_url'], axis=1).drop_duplicates()\n",
    "df_identifiers = df_identifiers.drop(['country_name', 'identifier_name_country'], axis=1).drop_duplicates()"
   ]
  },
  {
   "cell_type": "code",
   "execution_count": 12,
   "id": "0723fbf5-db85-46c3-b8cc-7d1b12217169",
   "metadata": {
    "tags": []
   },
   "outputs": [],
   "source": [
    "# Load infirmation about individuals and identifiers\n",
    "df_ind_identifiers = pd.read_sql_query(\"SELECT * FROM individual_identifiers\", conn)\n",
    "df_ind_identifiers = df_ind_identifiers.drop('identifier_name', axis=1)\n",
    "df_ind_identifiers = pd.merge(df_ind_identifiers, df_identifiers, on = 'identifiers_wikidata_id', how = 'left')\n",
    "\n",
    "# Freebase is now mixed with Google ID\n",
    "df_ind_identifiers['identifier_name'][df_ind_identifiers['identifier_name']=='Freebase ID'] = 'Google Knowledge Graph ID'\n",
    "df_ind_identifiers['identifiers_wikidata_id'][df_ind_identifiers['identifiers_wikidata_id']=='P646'] = 'P2671'\n",
    "\n",
    "# Mix the two GND\n",
    "df_ind_identifiers['identifier_name'][df_ind_identifiers['identifier_name']=='Deutsche Biographie (GND) ID (Germany)'] = 'GND ID (Germany)'\n",
    "df_ind_identifiers['identifiers_wikidata_id'][df_ind_identifiers['identifiers_wikidata_id']=='P7902'] = 'P227'\n",
    "\n",
    "# Clean wrong objects\n",
    "df_ind_identifiers = df_ind_identifiers[~df_ind_identifiers['individual_name'].str.contains('Painter')]\n",
    "\n",
    "# Remove superceded\n",
    "df_ind_identifiers = df_ind_identifiers[~df_ind_identifiers['identifier_name'].str.contains('superceded')]\n",
    "df_ind_identifiers = df_ind_identifiers[~df_ind_identifiers['identifier_name'].str.contains('obsolete')]\n",
    "\n",
    "# Drop duplicated after mergeing GND and Freebase\n",
    "df_ind_identifiers = df_ind_identifiers.drop_duplicates()"
   ]
  },
  {
   "cell_type": "code",
   "execution_count": 13,
   "id": "b315f9bc-6dae-4d44-b5b7-136545d3a43c",
   "metadata": {
    "tags": []
   },
   "outputs": [],
   "source": [
    "df_final = pd.merge(df_ind_identifiers, individuals, on = 'individual_wikidata_id')\n",
    "df_stats = df_final[['individual_wikidata_id', 'identifier_name']].drop_duplicates()"
   ]
  },
  {
   "cell_type": "code",
   "execution_count": 14,
   "id": "491330d1",
   "metadata": {},
   "outputs": [
    {
     "data": {
      "text/plain": [
       "173017"
      ]
     },
     "execution_count": 14,
     "metadata": {},
     "output_type": "execute_result"
    }
   ],
   "source": [
    "len(set(df_stats.individual_wikidata_id))"
   ]
  },
  {
   "cell_type": "code",
   "execution_count": 15,
   "id": "8019da45-14ad-47aa-acf7-34b53e33d824",
   "metadata": {
    "tags": []
   },
   "outputs": [
    {
     "data": {
      "text/html": [
       "<div>\n",
       "<style scoped>\n",
       "    .dataframe tbody tr th:only-of-type {\n",
       "        vertical-align: middle;\n",
       "    }\n",
       "\n",
       "    .dataframe tbody tr th {\n",
       "        vertical-align: top;\n",
       "    }\n",
       "\n",
       "    .dataframe thead th {\n",
       "        text-align: right;\n",
       "    }\n",
       "</style>\n",
       "<table border=\"1\" class=\"dataframe\">\n",
       "  <thead>\n",
       "    <tr style=\"text-align: right;\">\n",
       "      <th></th>\n",
       "      <th>Catalog</th>\n",
       "      <th>N Individuals</th>\n",
       "      <th>%</th>\n",
       "    </tr>\n",
       "  </thead>\n",
       "  <tbody>\n",
       "    <tr>\n",
       "      <th>0</th>\n",
       "      <td>VIAF ID</td>\n",
       "      <td>139198</td>\n",
       "      <td>80.5</td>\n",
       "    </tr>\n",
       "    <tr>\n",
       "      <th>1</th>\n",
       "      <td>Google Knowledge Graph ID</td>\n",
       "      <td>127136</td>\n",
       "      <td>73.5</td>\n",
       "    </tr>\n",
       "    <tr>\n",
       "      <th>2</th>\n",
       "      <td>GND ID (Germany)</td>\n",
       "      <td>100841</td>\n",
       "      <td>58.3</td>\n",
       "    </tr>\n",
       "    <tr>\n",
       "      <th>3</th>\n",
       "      <td>ISNI</td>\n",
       "      <td>99399</td>\n",
       "      <td>57.5</td>\n",
       "    </tr>\n",
       "    <tr>\n",
       "      <th>4</th>\n",
       "      <td>CERL Thesaurus ID</td>\n",
       "      <td>78983</td>\n",
       "      <td>45.7</td>\n",
       "    </tr>\n",
       "    <tr>\n",
       "      <th>5</th>\n",
       "      <td>Library of Congress authority ID (US)</td>\n",
       "      <td>76335</td>\n",
       "      <td>44.1</td>\n",
       "    </tr>\n",
       "    <tr>\n",
       "      <th>6</th>\n",
       "      <td>IdRef ID (France)</td>\n",
       "      <td>53717</td>\n",
       "      <td>31.0</td>\n",
       "    </tr>\n",
       "    <tr>\n",
       "      <th>7</th>\n",
       "      <td>Nationale Thesaurus voor Auteurs ID (Netherlands)</td>\n",
       "      <td>51121</td>\n",
       "      <td>29.5</td>\n",
       "    </tr>\n",
       "    <tr>\n",
       "      <th>8</th>\n",
       "      <td>Bibliothèque nationale de France ID (France)</td>\n",
       "      <td>50378</td>\n",
       "      <td>29.1</td>\n",
       "    </tr>\n",
       "    <tr>\n",
       "      <th>9</th>\n",
       "      <td>FAST ID</td>\n",
       "      <td>45324</td>\n",
       "      <td>26.2</td>\n",
       "    </tr>\n",
       "    <tr>\n",
       "      <th>10</th>\n",
       "      <td>Open Library ID (US)</td>\n",
       "      <td>43221</td>\n",
       "      <td>25.0</td>\n",
       "    </tr>\n",
       "    <tr>\n",
       "      <th>11</th>\n",
       "      <td>NUKAT ID (Poland)</td>\n",
       "      <td>40323</td>\n",
       "      <td>23.3</td>\n",
       "    </tr>\n",
       "    <tr>\n",
       "      <th>12</th>\n",
       "      <td>PLWABN ID (Poland)</td>\n",
       "      <td>34637</td>\n",
       "      <td>20.0</td>\n",
       "    </tr>\n",
       "    <tr>\n",
       "      <th>13</th>\n",
       "      <td>National Library of Israel J9U ID (Israel)</td>\n",
       "      <td>32987</td>\n",
       "      <td>19.1</td>\n",
       "    </tr>\n",
       "    <tr>\n",
       "      <th>14</th>\n",
       "      <td>NKCR AUT ID (Czech Republic)</td>\n",
       "      <td>32778</td>\n",
       "      <td>18.9</td>\n",
       "    </tr>\n",
       "    <tr>\n",
       "      <th>15</th>\n",
       "      <td>Union List of Artist Names ID (US)</td>\n",
       "      <td>31294</td>\n",
       "      <td>18.1</td>\n",
       "    </tr>\n",
       "    <tr>\n",
       "      <th>16</th>\n",
       "      <td>RKDartists ID (Netherlands)</td>\n",
       "      <td>29509</td>\n",
       "      <td>17.1</td>\n",
       "    </tr>\n",
       "    <tr>\n",
       "      <th>17</th>\n",
       "      <td>Benezit ID</td>\n",
       "      <td>29275</td>\n",
       "      <td>16.9</td>\n",
       "    </tr>\n",
       "    <tr>\n",
       "      <th>18</th>\n",
       "      <td>Prabook ID</td>\n",
       "      <td>27883</td>\n",
       "      <td>16.1</td>\n",
       "    </tr>\n",
       "    <tr>\n",
       "      <th>19</th>\n",
       "      <td>Vatican Library VcBA ID (Vatican City)</td>\n",
       "      <td>27065</td>\n",
       "      <td>15.6</td>\n",
       "    </tr>\n",
       "  </tbody>\n",
       "</table>\n",
       "</div>"
      ],
      "text/plain": [
       "                                              Catalog  N Individuals     %\n",
       "0                                             VIAF ID         139198  80.5\n",
       "1                           Google Knowledge Graph ID         127136  73.5\n",
       "2                                    GND ID (Germany)         100841  58.3\n",
       "3                                                ISNI          99399  57.5\n",
       "4                                   CERL Thesaurus ID          78983  45.7\n",
       "5               Library of Congress authority ID (US)          76335  44.1\n",
       "6                                   IdRef ID (France)          53717  31.0\n",
       "7   Nationale Thesaurus voor Auteurs ID (Netherlands)          51121  29.5\n",
       "8        Bibliothèque nationale de France ID (France)          50378  29.1\n",
       "9                                             FAST ID          45324  26.2\n",
       "10                               Open Library ID (US)          43221  25.0\n",
       "11                                  NUKAT ID (Poland)          40323  23.3\n",
       "12                                 PLWABN ID (Poland)          34637  20.0\n",
       "13         National Library of Israel J9U ID (Israel)          32987  19.1\n",
       "14                       NKCR AUT ID (Czech Republic)          32778  18.9\n",
       "15                 Union List of Artist Names ID (US)          31294  18.1\n",
       "16                        RKDartists ID (Netherlands)          29509  17.1\n",
       "17                                         Benezit ID          29275  16.9\n",
       "18                                         Prabook ID          27883  16.1\n",
       "19             Vatican Library VcBA ID (Vatican City)          27065  15.6"
      ]
     },
     "execution_count": 15,
     "metadata": {},
     "output_type": "execute_result"
    }
   ],
   "source": [
    "# Group by 'identifier_name' and calculate the count and percentage\n",
    "grouped = df_stats.groupby('identifier_name').size().reset_index(name='count')\n",
    "grouped = grouped.sort_values('count', ascending=False).reset_index(drop=True)\n",
    "grouped['percent'] = round(grouped['count']/len(individuals)*100, 1)\n",
    "grouped.columns = ['Catalog', 'N Individuals', '%']\n",
    "\n",
    "grouped['Catalog'] = grouped['Catalog'].str.replace('United States of America', 'US')\n",
    "grouped.head(20)"
   ]
  }
 ],
 "metadata": {
  "kernelspec": {
   "display_name": "Python 3 (ipykernel)",
   "language": "python",
   "name": "python3"
  },
  "language_info": {
   "codemirror_mode": {
    "name": "ipython",
    "version": 3
   },
   "file_extension": ".py",
   "mimetype": "text/x-python",
   "name": "python",
   "nbconvert_exporter": "python",
   "pygments_lexer": "ipython3",
   "version": "3.11.7"
  }
 },
 "nbformat": 4,
 "nbformat_minor": 5
}
