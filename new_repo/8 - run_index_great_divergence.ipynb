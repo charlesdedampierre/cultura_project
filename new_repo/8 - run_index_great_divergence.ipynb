{
 "cells": [
  {
   "cell_type": "code",
   "execution_count": 41,
   "metadata": {},
   "outputs": [
    {
     "name": "stdout",
     "output_type": "stream",
     "text": [
      "108776\n"
     ]
    },
    {
     "data": {
      "text/html": [
       "<div>\n",
       "<style scoped>\n",
       "    .dataframe tbody tr th:only-of-type {\n",
       "        vertical-align: middle;\n",
       "    }\n",
       "\n",
       "    .dataframe tbody tr th {\n",
       "        vertical-align: top;\n",
       "    }\n",
       "\n",
       "    .dataframe thead th {\n",
       "        text-align: right;\n",
       "    }\n",
       "</style>\n",
       "<table border=\"1\" class=\"dataframe\">\n",
       "  <thead>\n",
       "    <tr style=\"text-align: right;\">\n",
       "      <th></th>\n",
       "      <th>decade</th>\n",
       "      <th>N_est</th>\n",
       "      <th>N_est_min</th>\n",
       "      <th>N_est_max</th>\n",
       "      <th>score</th>\n",
       "      <th>region_name</th>\n",
       "    </tr>\n",
       "  </thead>\n",
       "  <tbody>\n",
       "    <tr>\n",
       "      <th>1198</th>\n",
       "      <td>-320</td>\n",
       "      <td>1.547750</td>\n",
       "      <td>0.843489</td>\n",
       "      <td>3.889999</td>\n",
       "      <td>1</td>\n",
       "      <td>Latin World</td>\n",
       "    </tr>\n",
       "    <tr>\n",
       "      <th>1199</th>\n",
       "      <td>-260</td>\n",
       "      <td>4.902122</td>\n",
       "      <td>2.997869</td>\n",
       "      <td>9.257352</td>\n",
       "      <td>1</td>\n",
       "      <td>Latin World</td>\n",
       "    </tr>\n",
       "    <tr>\n",
       "      <th>1200</th>\n",
       "      <td>-220</td>\n",
       "      <td>5.338367</td>\n",
       "      <td>3.144537</td>\n",
       "      <td>10.167047</td>\n",
       "      <td>1</td>\n",
       "      <td>Latin World</td>\n",
       "    </tr>\n",
       "    <tr>\n",
       "      <th>1201</th>\n",
       "      <td>-210</td>\n",
       "      <td>4.902122</td>\n",
       "      <td>2.997869</td>\n",
       "      <td>9.257352</td>\n",
       "      <td>1</td>\n",
       "      <td>Latin World</td>\n",
       "    </tr>\n",
       "    <tr>\n",
       "      <th>1202</th>\n",
       "      <td>-200</td>\n",
       "      <td>19.608488</td>\n",
       "      <td>11.991477</td>\n",
       "      <td>37.029410</td>\n",
       "      <td>4</td>\n",
       "      <td>Latin World</td>\n",
       "    </tr>\n",
       "    <tr>\n",
       "      <th>...</th>\n",
       "      <td>...</td>\n",
       "      <td>...</td>\n",
       "      <td>...</td>\n",
       "      <td>...</td>\n",
       "      <td>...</td>\n",
       "      <td>...</td>\n",
       "    </tr>\n",
       "    <tr>\n",
       "      <th>1256</th>\n",
       "      <td>440</td>\n",
       "      <td>28.839282</td>\n",
       "      <td>16.084086</td>\n",
       "      <td>55.222576</td>\n",
       "      <td>15</td>\n",
       "      <td>Latin World</td>\n",
       "    </tr>\n",
       "    <tr>\n",
       "      <th>1257</th>\n",
       "      <td>460</td>\n",
       "      <td>4.043232</td>\n",
       "      <td>2.261300</td>\n",
       "      <td>7.731090</td>\n",
       "      <td>2</td>\n",
       "      <td>Latin World</td>\n",
       "    </tr>\n",
       "    <tr>\n",
       "      <th>1258</th>\n",
       "      <td>480</td>\n",
       "      <td>10.108080</td>\n",
       "      <td>5.653249</td>\n",
       "      <td>19.327724</td>\n",
       "      <td>5</td>\n",
       "      <td>Latin World</td>\n",
       "    </tr>\n",
       "    <tr>\n",
       "      <th>1259</th>\n",
       "      <td>500</td>\n",
       "      <td>2.021616</td>\n",
       "      <td>1.130650</td>\n",
       "      <td>3.865545</td>\n",
       "      <td>1</td>\n",
       "      <td>Latin World</td>\n",
       "    </tr>\n",
       "    <tr>\n",
       "      <th>1260</th>\n",
       "      <td>510</td>\n",
       "      <td>2.021616</td>\n",
       "      <td>1.130650</td>\n",
       "      <td>3.865545</td>\n",
       "      <td>1</td>\n",
       "      <td>Latin World</td>\n",
       "    </tr>\n",
       "  </tbody>\n",
       "</table>\n",
       "<p>63 rows × 6 columns</p>\n",
       "</div>"
      ],
      "text/plain": [
       "      decade      N_est  N_est_min  N_est_max  score  region_name\n",
       "1198    -320   1.547750   0.843489   3.889999      1  Latin World\n",
       "1199    -260   4.902122   2.997869   9.257352      1  Latin World\n",
       "1200    -220   5.338367   3.144537  10.167047      1  Latin World\n",
       "1201    -210   4.902122   2.997869   9.257352      1  Latin World\n",
       "1202    -200  19.608488  11.991477  37.029410      4  Latin World\n",
       "...      ...        ...        ...        ...    ...          ...\n",
       "1256     440  28.839282  16.084086  55.222576     15  Latin World\n",
       "1257     460   4.043232   2.261300   7.731090      2  Latin World\n",
       "1258     480  10.108080   5.653249  19.327724      5  Latin World\n",
       "1259     500   2.021616   1.130650   3.865545      1  Latin World\n",
       "1260     510   2.021616   1.130650   3.865545      1  Latin World\n",
       "\n",
       "[63 rows x 6 columns]"
      ]
     },
     "execution_count": 41,
     "metadata": {},
     "output_type": "execute_result"
    }
   ],
   "source": [
    "import pandas as pd\n",
    "import numpy as np\n",
    "import plotly.express as px\n",
    "\n",
    "path = 'unseen_species_model.csv'\n",
    "\n",
    "df_cultura = pd.read_csv(path, index_col = [0])\n",
    "\n",
    "df_cultura = df_cultura.rename(columns = {'f0_min':'min_f0', 'f0_max':'max_f0'})\n",
    "\n",
    "\n",
    "df_cultura['N_est'] = df_cultura['f0'] + df_cultura['f1'] + df_cultura['f2']# plus the individual\n",
    "df_cultura['N_est_min']  =  df_cultura['min_f0'] + df_cultura['f1'] + df_cultura['f2']# plus the individual\n",
    "df_cultura['N_est_max']  =  df_cultura['max_f0'] + df_cultura['f1'] + df_cultura['f2']# plus the individual\n",
    "\n",
    "print(len(set(df_cultura.individual_wikidata_id)))\n",
    "\n",
    "df_cultura = df_cultura.groupby(['region_name', 'decade']).agg({'N_est': 'sum', 'N_est_min':'sum', 'N_est_max':'sum', 'individual_wikidata_id':'count'}).reset_index()\n",
    "df_cultura = df_cultura.rename(columns={\"individual_wikidata_id\": \"score\"})\n",
    "df_cultura = df_cultura[df_cultura['decade'] <=1850]\n",
    "\n",
    "df_cultura_world = df_cultura.drop('region_name', axis=1).groupby('decade').sum().reset_index()\n",
    "df_cultura_world['region_name']='world'\n",
    "\n",
    "df_cultura = pd.concat([df_cultura_world, df_cultura])\n",
    "\n",
    "df_cultura[df_cultura['region_name']=='Latin World']\n"
   ]
  },
  {
   "cell_type": "code",
   "execution_count": null,
   "metadata": {},
   "outputs": [],
   "source": []
  },
  {
   "cell_type": "code",
   "execution_count": 42,
   "metadata": {},
   "outputs": [],
   "source": [
    "\n",
    "# df_cultural_latin_world_after = df_cultura[df_cultura['region_name'].isin(['East Slavic',\n",
    "#                 'Italy',\n",
    "#                 'Portugal',\n",
    "#                 'German world',\n",
    "#                 'United Kingdom',\n",
    "#                 'Spain',\n",
    "#                 'Low countries',\n",
    "#                 'France',\n",
    "#                 'Central Europe'])]\n",
    "\n",
    "\n",
    "# df_cultural_latin_world_after = df_cultural_latin_world_after.drop('region_name', axis=1).groupby('decade').sum().reset_index()\n",
    "# df_cultural_latin_world_after['region_name']='Latin World'\n",
    "# df_cultural_latin_world_after = df_cultural_latin_world_after[df_cultural_latin_world_after['decade']>500]\n",
    "\n",
    "# df_cultura = pd.concat([df_cultura, df_cultural_latin_world_after])\n",
    "\n",
    "list(set(df_cultura['region_name']))\n",
    "\n",
    "\n",
    "df_western = df_cultura[df_cultura['region_name'].isin([\n",
    "                'Italy',\n",
    "                'Portugal',\n",
    "                'German world',\n",
    "                'United Kingdom',\n",
    "                'Spain',\n",
    "                'Low countries',\n",
    "                'France',\n",
    "                'Nordic countries'])]\n",
    "\n",
    "df_western = df_western.drop('region_name', axis=1).groupby('decade').sum().reset_index()\n",
    "df_western['region_name']='Latin World'\n",
    "df_western = df_western[df_western['decade']>500]\n",
    "df_cultura = pd.concat([df_cultura, df_western])\n",
    "\n",
    "\n",
    "df_greek_latin= df_cultura[df_cultura['region_name'].isin([\n",
    "                'Latin World', 'Greek World'])]\n",
    "\n",
    "\n",
    "df_greek_latin = df_greek_latin.drop('region_name', axis=1).groupby('decade').sum().reset_index()\n",
    "df_greek_latin['region_name']='Greek Latin'\n",
    "#df_western = df_western[df_western['decade']>500]\n",
    "\n",
    "df_cultura = pd.concat([df_cultura, df_greek_latin])"
   ]
  },
  {
   "cell_type": "code",
   "execution_count": 43,
   "metadata": {},
   "outputs": [
    {
     "name": "stderr",
     "output_type": "stream",
     "text": [
      "/var/folders/lx/9b13r6ln63jb54_3xlf9b_380000gn/T/ipykernel_51891/369001953.py:6: SettingWithCopyWarning:\n",
      "\n",
      "\n",
      "A value is trying to be set on a copy of a slice from a DataFrame.\n",
      "Try using .loc[row_indexer,col_indexer] = value instead\n",
      "\n",
      "See the caveats in the documentation: https://pandas.pydata.org/pandas-docs/stable/user_guide/indexing.html#returning-a-view-versus-a-copy\n",
      "\n"
     ]
    },
    {
     "data": {
      "text/html": [
       "<div>\n",
       "<style scoped>\n",
       "    .dataframe tbody tr th:only-of-type {\n",
       "        vertical-align: middle;\n",
       "    }\n",
       "\n",
       "    .dataframe tbody tr th {\n",
       "        vertical-align: top;\n",
       "    }\n",
       "\n",
       "    .dataframe thead th {\n",
       "        text-align: right;\n",
       "    }\n",
       "</style>\n",
       "<table border=\"1\" class=\"dataframe\">\n",
       "  <thead>\n",
       "    <tr style=\"text-align: right;\">\n",
       "      <th></th>\n",
       "      <th>region_name</th>\n",
       "      <th>decade</th>\n",
       "      <th>N_est</th>\n",
       "      <th>N_est_min</th>\n",
       "      <th>N_est_max</th>\n",
       "      <th>score</th>\n",
       "    </tr>\n",
       "  </thead>\n",
       "  <tbody>\n",
       "    <tr>\n",
       "      <th>0</th>\n",
       "      <td>MENA</td>\n",
       "      <td>-360</td>\n",
       "      <td>5.628656</td>\n",
       "      <td>2.725009</td>\n",
       "      <td>13.321347</td>\n",
       "      <td>1</td>\n",
       "    </tr>\n",
       "    <tr>\n",
       "      <th>1</th>\n",
       "      <td>MENA</td>\n",
       "      <td>500</td>\n",
       "      <td>5.598264</td>\n",
       "      <td>3.174868</td>\n",
       "      <td>10.151776</td>\n",
       "      <td>2</td>\n",
       "    </tr>\n",
       "    <tr>\n",
       "      <th>2</th>\n",
       "      <td>MENA</td>\n",
       "      <td>540</td>\n",
       "      <td>32.201707</td>\n",
       "      <td>19.583313</td>\n",
       "      <td>58.102119</td>\n",
       "      <td>5</td>\n",
       "    </tr>\n",
       "    <tr>\n",
       "      <th>3</th>\n",
       "      <td>MENA</td>\n",
       "      <td>560</td>\n",
       "      <td>12.552315</td>\n",
       "      <td>7.876263</td>\n",
       "      <td>21.453673</td>\n",
       "      <td>2</td>\n",
       "    </tr>\n",
       "    <tr>\n",
       "      <th>4</th>\n",
       "      <td>MENA</td>\n",
       "      <td>570</td>\n",
       "      <td>7.097077</td>\n",
       "      <td>3.830788</td>\n",
       "      <td>15.194774</td>\n",
       "      <td>1</td>\n",
       "    </tr>\n",
       "    <tr>\n",
       "      <th>...</th>\n",
       "      <td>...</td>\n",
       "      <td>...</td>\n",
       "      <td>...</td>\n",
       "      <td>...</td>\n",
       "      <td>...</td>\n",
       "      <td>...</td>\n",
       "    </tr>\n",
       "    <tr>\n",
       "      <th>127</th>\n",
       "      <td>MENA</td>\n",
       "      <td>1810</td>\n",
       "      <td>274.469904</td>\n",
       "      <td>199.392546</td>\n",
       "      <td>405.652094</td>\n",
       "      <td>19</td>\n",
       "    </tr>\n",
       "    <tr>\n",
       "      <th>128</th>\n",
       "      <td>MENA</td>\n",
       "      <td>1820</td>\n",
       "      <td>342.145898</td>\n",
       "      <td>240.021097</td>\n",
       "      <td>527.069789</td>\n",
       "      <td>30</td>\n",
       "    </tr>\n",
       "    <tr>\n",
       "      <th>129</th>\n",
       "      <td>MENA</td>\n",
       "      <td>1830</td>\n",
       "      <td>307.874271</td>\n",
       "      <td>222.475662</td>\n",
       "      <td>455.380301</td>\n",
       "      <td>27</td>\n",
       "    </tr>\n",
       "    <tr>\n",
       "      <th>130</th>\n",
       "      <td>MENA</td>\n",
       "      <td>1840</td>\n",
       "      <td>502.355068</td>\n",
       "      <td>372.761840</td>\n",
       "      <td>718.277240</td>\n",
       "      <td>41</td>\n",
       "    </tr>\n",
       "    <tr>\n",
       "      <th>131</th>\n",
       "      <td>MENA</td>\n",
       "      <td>1850</td>\n",
       "      <td>766.778543</td>\n",
       "      <td>561.783279</td>\n",
       "      <td>1119.779320</td>\n",
       "      <td>47</td>\n",
       "    </tr>\n",
       "  </tbody>\n",
       "</table>\n",
       "<p>132 rows × 6 columns</p>\n",
       "</div>"
      ],
      "text/plain": [
       "    region_name  decade       N_est   N_est_min    N_est_max  score\n",
       "0          MENA    -360    5.628656    2.725009    13.321347      1\n",
       "1          MENA     500    5.598264    3.174868    10.151776      2\n",
       "2          MENA     540   32.201707   19.583313    58.102119      5\n",
       "3          MENA     560   12.552315    7.876263    21.453673      2\n",
       "4          MENA     570    7.097077    3.830788    15.194774      1\n",
       "..          ...     ...         ...         ...          ...    ...\n",
       "127        MENA    1810  274.469904  199.392546   405.652094     19\n",
       "128        MENA    1820  342.145898  240.021097   527.069789     30\n",
       "129        MENA    1830  307.874271  222.475662   455.380301     27\n",
       "130        MENA    1840  502.355068  372.761840   718.277240     41\n",
       "131        MENA    1850  766.778543  561.783279  1119.779320     47\n",
       "\n",
       "[132 rows x 6 columns]"
      ]
     },
     "execution_count": 43,
     "metadata": {},
     "output_type": "execute_result"
    }
   ],
   "source": [
    "# df_cultura = pd.concat([df_cultura, df_cultura_latin_after])\n",
    "# df_cultura = df_cultura.reset_index(drop=True)\n",
    "\n",
    "\n",
    "df_cultura_muslim= df_cultura[df_cultura['region_name'].isin(['Arabic world', 'Persian world'])]\n",
    "df_cultura_muslim['region_name']='MENA'\n",
    "df_cultura_muslim = df_cultura_muslim.groupby(['region_name', 'decade']).sum().reset_index()\n",
    "# df_cultura_muslim = df_cultura_muslim[df_cultura_muslim['decade']>500]\n",
    "df_cultura_muslim"
   ]
  },
  {
   "cell_type": "code",
   "execution_count": 44,
   "metadata": {},
   "outputs": [],
   "source": [
    "df_cultura = pd.concat([df_cultura, df_cultura_muslim])\n",
    "df_cultura = df_cultura.reset_index(drop=True)"
   ]
  },
  {
   "cell_type": "code",
   "execution_count": 45,
   "metadata": {},
   "outputs": [],
   "source": [
    "df_pop = pd.read_csv('/Users/charlesdedampierre/Desktop/cultura_project/gdp_analysis/results/population_interpolated_regions.csv', index_col = [0])\n",
    "df_pop['decade'] = df_pop['year'].apply(lambda x: round(x /50) * 50)\n",
    "df_pop = df_pop.groupby(['region_name', 'decade'])['pop'].mean().reset_index()"
   ]
  },
  {
   "cell_type": "code",
   "execution_count": 46,
   "metadata": {},
   "outputs": [
    {
     "name": "stderr",
     "output_type": "stream",
     "text": [
      "/var/folders/lx/9b13r6ln63jb54_3xlf9b_380000gn/T/ipykernel_51891/3793111182.py:10: SettingWithCopyWarning:\n",
      "\n",
      "\n",
      "A value is trying to be set on a copy of a slice from a DataFrame.\n",
      "Try using .loc[row_indexer,col_indexer] = value instead\n",
      "\n",
      "See the caveats in the documentation: https://pandas.pydata.org/pandas-docs/stable/user_guide/indexing.html#returning-a-view-versus-a-copy\n",
      "\n"
     ]
    }
   ],
   "source": [
    "\n",
    "\n",
    "# df_pop_latin_after = df_pop[df_pop['region_name'].isin(Latin_world_after)]\n",
    "# df_pop_latin_after['region_name']='Latin World'\n",
    "# df_pop_latin_after = df_pop_latin_after.groupby(['region_name', 'decade']).sum().reset_index()\n",
    "# df_pop_latin_after = df_pop_latin_after[df_pop_latin_after['decade']>500]\n",
    "# df_pop = pd.concat([df_pop, df_pop_latin_after])\n",
    "\n",
    "\n",
    "df_pop_muslim = df_pop[df_pop['region_name'].isin(['Arabic world','Persian world'])]\n",
    "\n",
    "df_pop_muslim['region_name']='MENA'\n",
    "df_pop_muslim = df_pop_muslim.groupby(['region_name', 'decade']).sum().reset_index()\n",
    "df_pop_muslim = df_pop_muslim[df_pop_muslim['decade']>500]\n",
    "\n",
    "df_pop = pd.concat([df_pop, df_pop_muslim])\n",
    "df_pop = df_pop.reset_index(drop=True)"
   ]
  },
  {
   "cell_type": "code",
   "execution_count": 47,
   "metadata": {},
   "outputs": [],
   "source": [
    "pop = False\n",
    "if pop is True:\n",
    "\n",
    "    df_cultura= pd.merge(df_cultura, df_pop, on = ['region_name', 'decade'])\n",
    "    df_cultura['N_est'] = df_cultura['N_est']/ df_cultura['pop']\n",
    "\n",
    "    df_cultura['N_est'] = df_cultura['N_est']/df_cultura['pop']\n",
    "    df_cultura['N_est_min'] = df_cultura['N_est_min']/df_cultura['pop']\n",
    "    df_cultura['N_est_max'] = df_cultura['N_est_max']/df_cultura['pop']\n",
    "\n",
    "    print('Population updated')"
   ]
  },
  {
   "cell_type": "code",
   "execution_count": 48,
   "metadata": {},
   "outputs": [
    {
     "data": {
      "text/html": [
       "<div>\n",
       "<style scoped>\n",
       "    .dataframe tbody tr th:only-of-type {\n",
       "        vertical-align: middle;\n",
       "    }\n",
       "\n",
       "    .dataframe tbody tr th {\n",
       "        vertical-align: top;\n",
       "    }\n",
       "\n",
       "    .dataframe thead th {\n",
       "        text-align: right;\n",
       "    }\n",
       "</style>\n",
       "<table border=\"1\" class=\"dataframe\">\n",
       "  <thead>\n",
       "    <tr style=\"text-align: right;\">\n",
       "      <th></th>\n",
       "      <th>decade</th>\n",
       "      <th>N_est</th>\n",
       "      <th>N_est_min</th>\n",
       "      <th>N_est_max</th>\n",
       "      <th>score</th>\n",
       "      <th>region_name</th>\n",
       "    </tr>\n",
       "  </thead>\n",
       "  <tbody>\n",
       "    <tr>\n",
       "      <th>1409</th>\n",
       "      <td>-320</td>\n",
       "      <td>1.547750</td>\n",
       "      <td>0.843489</td>\n",
       "      <td>3.889999</td>\n",
       "      <td>1</td>\n",
       "      <td>Latin World</td>\n",
       "    </tr>\n",
       "    <tr>\n",
       "      <th>1410</th>\n",
       "      <td>-260</td>\n",
       "      <td>4.902122</td>\n",
       "      <td>2.997869</td>\n",
       "      <td>9.257352</td>\n",
       "      <td>1</td>\n",
       "      <td>Latin World</td>\n",
       "    </tr>\n",
       "    <tr>\n",
       "      <th>1411</th>\n",
       "      <td>-220</td>\n",
       "      <td>5.338367</td>\n",
       "      <td>3.144537</td>\n",
       "      <td>10.167047</td>\n",
       "      <td>1</td>\n",
       "      <td>Latin World</td>\n",
       "    </tr>\n",
       "    <tr>\n",
       "      <th>1412</th>\n",
       "      <td>-210</td>\n",
       "      <td>4.902122</td>\n",
       "      <td>2.997869</td>\n",
       "      <td>9.257352</td>\n",
       "      <td>1</td>\n",
       "      <td>Latin World</td>\n",
       "    </tr>\n",
       "    <tr>\n",
       "      <th>1413</th>\n",
       "      <td>-200</td>\n",
       "      <td>19.608488</td>\n",
       "      <td>11.991477</td>\n",
       "      <td>37.029410</td>\n",
       "      <td>4</td>\n",
       "      <td>Latin World</td>\n",
       "    </tr>\n",
       "    <tr>\n",
       "      <th>...</th>\n",
       "      <td>...</td>\n",
       "      <td>...</td>\n",
       "      <td>...</td>\n",
       "      <td>...</td>\n",
       "      <td>...</td>\n",
       "      <td>...</td>\n",
       "    </tr>\n",
       "    <tr>\n",
       "      <th>2050</th>\n",
       "      <td>1810</td>\n",
       "      <td>66865.738649</td>\n",
       "      <td>57155.118197</td>\n",
       "      <td>81536.289834</td>\n",
       "      <td>2748</td>\n",
       "      <td>Latin World</td>\n",
       "    </tr>\n",
       "    <tr>\n",
       "      <th>2051</th>\n",
       "      <td>1820</td>\n",
       "      <td>91920.435842</td>\n",
       "      <td>78524.516819</td>\n",
       "      <td>112176.057642</td>\n",
       "      <td>3807</td>\n",
       "      <td>Latin World</td>\n",
       "    </tr>\n",
       "    <tr>\n",
       "      <th>2052</th>\n",
       "      <td>1830</td>\n",
       "      <td>90159.025207</td>\n",
       "      <td>77382.484750</td>\n",
       "      <td>109162.679542</td>\n",
       "      <td>3979</td>\n",
       "      <td>Latin World</td>\n",
       "    </tr>\n",
       "    <tr>\n",
       "      <th>2053</th>\n",
       "      <td>1840</td>\n",
       "      <td>159646.349895</td>\n",
       "      <td>136794.395969</td>\n",
       "      <td>194019.209979</td>\n",
       "      <td>7118</td>\n",
       "      <td>Latin World</td>\n",
       "    </tr>\n",
       "    <tr>\n",
       "      <th>2054</th>\n",
       "      <td>1850</td>\n",
       "      <td>145661.577612</td>\n",
       "      <td>124683.907849</td>\n",
       "      <td>177427.724983</td>\n",
       "      <td>6560</td>\n",
       "      <td>Latin World</td>\n",
       "    </tr>\n",
       "  </tbody>\n",
       "</table>\n",
       "<p>187 rows × 6 columns</p>\n",
       "</div>"
      ],
      "text/plain": [
       "      decade          N_est      N_est_min      N_est_max  score  region_name\n",
       "1409    -320       1.547750       0.843489       3.889999      1  Latin World\n",
       "1410    -260       4.902122       2.997869       9.257352      1  Latin World\n",
       "1411    -220       5.338367       3.144537      10.167047      1  Latin World\n",
       "1412    -210       4.902122       2.997869       9.257352      1  Latin World\n",
       "1413    -200      19.608488      11.991477      37.029410      4  Latin World\n",
       "...      ...            ...            ...            ...    ...          ...\n",
       "2050    1810   66865.738649   57155.118197   81536.289834   2748  Latin World\n",
       "2051    1820   91920.435842   78524.516819  112176.057642   3807  Latin World\n",
       "2052    1830   90159.025207   77382.484750  109162.679542   3979  Latin World\n",
       "2053    1840  159646.349895  136794.395969  194019.209979   7118  Latin World\n",
       "2054    1850  145661.577612  124683.907849  177427.724983   6560  Latin World\n",
       "\n",
       "[187 rows x 6 columns]"
      ]
     },
     "execution_count": 48,
     "metadata": {},
     "output_type": "execute_result"
    }
   ],
   "source": [
    "df_cultura[df_cultura['region_name']=='Latin World']"
   ]
  },
  {
   "cell_type": "code",
   "execution_count": 49,
   "metadata": {},
   "outputs": [],
   "source": [
    "# df_cultura_world = df_cultura.drop('region_name', axis=1).groupby('decade').sum().reset_index()\n",
    "# df_cultura_world['region_name']='world'\n"
   ]
  },
  {
   "cell_type": "code",
   "execution_count": 50,
   "metadata": {},
   "outputs": [
    {
     "name": "stderr",
     "output_type": "stream",
     "text": [
      "/var/folders/lx/9b13r6ln63jb54_3xlf9b_380000gn/T/ipykernel_51891/1928412201.py:6: SettingWithCopyWarning:\n",
      "\n",
      "\n",
      "A value is trying to be set on a copy of a slice from a DataFrame.\n",
      "Try using .loc[row_indexer,col_indexer] = value instead\n",
      "\n",
      "See the caveats in the documentation: https://pandas.pydata.org/pandas-docs/stable/user_guide/indexing.html#returning-a-view-versus-a-copy\n",
      "\n"
     ]
    },
    {
     "data": {
      "application/vnd.plotly.v1+json": {
       "config": {
        "plotlyServerURL": "https://plot.ly"
       },
       "data": [
        {
         "hovertemplate": "Region=Chinese world<br>Decade=%{x}<br>Estimated Number=%{y}<extra></extra>",
         "legendgroup": "Chinese world",
         "line": {
          "color": "#636efa",
          "dash": "solid"
         },
         "marker": {
          "symbol": "circle"
         },
         "mode": "lines",
         "name": "Chinese world",
         "orientation": "v",
         "showlegend": true,
         "type": "scatter",
         "x": [
          -680,
          -490,
          -470,
          -460,
          -410,
          -400,
          -360,
          -350,
          -280,
          -270,
          -260,
          -240,
          -230,
          -220,
          -190,
          -140,
          -130,
          -110,
          -60,
          -50,
          -40,
          -10,
          0,
          60,
          70,
          100,
          110,
          140,
          160,
          170,
          180,
          190,
          200,
          210,
          220,
          230,
          240,
          250,
          260,
          270,
          280,
          290,
          300,
          310,
          320,
          330,
          340,
          350,
          360,
          370,
          380,
          390,
          400,
          410,
          460,
          470,
          480,
          500,
          520,
          530,
          540,
          560,
          570,
          580,
          600,
          610,
          620,
          640,
          670,
          680,
          700,
          720,
          730,
          740,
          750,
          760,
          770,
          780,
          790,
          800,
          810,
          820,
          840,
          850,
          880,
          900,
          910,
          920,
          930,
          940,
          950,
          960,
          970,
          980,
          990,
          1000,
          1020,
          1040,
          1050,
          1060,
          1070,
          1080,
          1090,
          1100,
          1120,
          1130,
          1140,
          1150,
          1170,
          1180,
          1200,
          1210,
          1230,
          1240,
          1260,
          1270,
          1280,
          1290,
          1300,
          1310,
          1320,
          1330,
          1340,
          1350,
          1360,
          1370,
          1380,
          1390,
          1400,
          1410,
          1420,
          1430,
          1440,
          1450,
          1460,
          1470,
          1480,
          1490,
          1500,
          1510,
          1520,
          1530,
          1540,
          1550,
          1560,
          1570,
          1580,
          1590,
          1600,
          1610,
          1620,
          1630,
          1640,
          1650,
          1660,
          1670,
          1680,
          1690,
          1700,
          1710,
          1720,
          1730,
          1740,
          1750,
          1760,
          1770,
          1780,
          1790,
          1800
         ],
         "xaxis": "x",
         "y": [
          0.684487975456014,
          1.3057633521218486,
          1.3057633521218486,
          1.998910532681794,
          1.3057633521218486,
          1.998910532681794,
          1.3057633521218486,
          1.998910532681794,
          1.3057633521218486,
          1.5692843162547485,
          1.5692843162547485,
          1.5692843162547485,
          2.2624314968146937,
          1.5692843162547485,
          1.5692843162547485,
          2.2624314968146937,
          1.5692843162547485,
          3.4727021661301287,
          1.5692843162547485,
          1.5692843162547485,
          1.5692843162547485,
          2.2624314968146937,
          1.1298119390843113,
          1.1298119390843113,
          1.1298119390843113,
          1.1298119390843113,
          1.1298119390843113,
          3.524638874007382,
          1.8229591196442565,
          1.1298119390843113,
          1.1298119390843113,
          1.1298119390843113,
          2.7392498515184114,
          3.2050320846067426,
          2.228424227752421,
          1.8229591196442565,
          1.8229591196442565,
          1.1298119390843113,
          2.5161063002042017,
          1.812908962211298,
          1.812908962211298,
          1.4074438541031336,
          1.4074438541031336,
          -0.6094974206775374,
          0.7142966735431883,
          0.7142966735431883,
          0.7142966735431883,
          1.4074438541031336,
          1.5323674179593203,
          0.7142966735431883,
          2.3237345859772884,
          1.812908962211298,
          0.7142966735431883,
          1.5323674179593203,
          0.7142966735431883,
          0.7142966735431883,
          1.8979005380901357,
          1.812908962211298,
          1.4074438541031336,
          0.7142966735431883,
          3.702566668822003,
          1.531971480273657,
          1.531971480273657,
          2.725123541483088,
          1.531971480273657,
          1.531971480273657,
          1.531971480273657,
          2.225118660833602,
          2.225118660833602,
          1.531971480273657,
          1.531971480273657,
          2.725123541483088,
          2.225118660833602,
          2.9182658413935476,
          1.531971480273657,
          2.630583768941767,
          2.225118660833602,
          3.7359462302707103,
          2.630583768941767,
          2.225118660833602,
          1.1403395896496236,
          1.8334867702095687,
          2.749777502083724,
          1.1403395896496236,
          1.388106168679904,
          2.2389518783177333,
          2.2389518783177333,
          2.3285368663470014,
          1.388106168679904,
          -0.12848877279663123,
          2.526633950769514,
          1.8334867702095687,
          1.388106168679904,
          2.1853691379353273,
          1.8334867702095687,
          1.388106168679904,
          1.388106168679904,
          2.0812533492398493,
          1.8334867702095687,
          2.3285368663470014,
          1.8697236556352392,
          2.478426542474595,
          1.6342182664166522,
          0.14087985740489897,
          2.766108614926376,
          0.14087985740489897,
          2.0729614343664307,
          2.0729614343664307,
          2.0729614343664307,
          2.1493533342406725,
          2.0729614343664307,
          1.6342182664166522,
          2.5706084255178667,
          2.9892521662405858,
          3.2187264761335412,
          3.577038831142705,
          3.995157846854899,
          2.6550053920898327,
          3.366275652321694,
          3.811866777190709,
          4.2219236169541015,
          3.263755606077812,
          3.3391403181161166,
          4.25827844578854,
          4.05051166669912,
          3.9975923873004118,
          4.4117190390528025,
          4.325224138654641,
          4.717549222987382,
          3.7309410164443486,
          3.160835814803124,
          4.258668483713532,
          4.0922417918248115,
          2.3322774973729667,
          4.178702189019611,
          3.7309410164443486,
          3.8418711946237654,
          3.15966615712043,
          4.143447087585482,
          3.670491780886421,
          4.749722790849364,
          4.749722790849364,
          4.547929270935907,
          4.708121287222652,
          4.05051166669912,
          4.451098771672226,
          4.277850823687677,
          3.5921272791922476,
          4.2436621522151485,
          4.3570880536894325,
          5.342330570999639,
          5.088012878404515,
          5.351710888919008,
          5.597054979014336,
          6.444391754348834,
          5.4516274943829925,
          5.85762092353024,
          5.131049911081396,
          5.748456798279544,
          5.187403001360776,
          4.398022893662101,
          5.191657971070161,
          5.123481133073515,
          4.65147683081951,
          5.338623305026348,
          5.548279915317017,
          5.631829636526317,
          5.5384386388432265,
          6.156590482573317
         ],
         "yaxis": "y"
        },
        {
         "hovertemplate": "Region=Greek World<br>Decade=%{x}<br>Estimated Number=%{y}<extra></extra>",
         "legendgroup": "Greek World",
         "line": {
          "color": "#EF553B",
          "dash": "solid"
         },
         "marker": {
          "symbol": "circle"
         },
         "mode": "lines",
         "name": "Greek World",
         "orientation": "v",
         "showlegend": true,
         "type": "scatter",
         "x": [
          -820,
          -800,
          -700,
          -680,
          -660,
          -620,
          -600,
          -590,
          -570,
          -560,
          -550,
          -530,
          -520,
          -500,
          -490,
          -460,
          -450,
          -440,
          -430,
          -420,
          -410,
          -400,
          -390,
          -380,
          -360,
          -350,
          -340,
          -330,
          -320,
          -310,
          -300,
          -290,
          -280,
          -270,
          -260,
          -250,
          -240,
          -230,
          -220,
          -200,
          -180,
          -170,
          -160,
          -150,
          -140,
          -130,
          -120,
          -110,
          -100,
          -90,
          -80,
          -60,
          -50,
          -40,
          -20,
          0,
          20,
          30,
          40,
          50,
          60,
          70,
          80,
          100,
          110,
          130,
          140,
          150,
          160,
          170,
          180,
          190,
          200,
          210,
          220,
          240,
          250,
          280,
          300,
          310,
          320,
          340,
          350,
          370,
          380,
          400,
          420,
          440,
          450,
          460,
          470,
          480,
          500,
          510,
          520,
          530,
          540,
          550,
          560,
          570,
          590,
          600,
          610,
          620,
          630,
          640,
          660,
          670,
          680,
          690,
          700,
          720,
          730,
          760,
          790,
          880,
          900,
          940,
          960,
          980,
          990,
          1010,
          1040,
          1060,
          1080,
          1100,
          1140,
          1160,
          1180,
          1190,
          1200,
          1210,
          1220,
          1230,
          1240,
          1250,
          1260,
          1280,
          1300,
          1310,
          1320,
          1330,
          1340,
          1360,
          1370,
          1380,
          1390,
          1400,
          1410,
          1420,
          1430,
          1440,
          1450,
          1460,
          1480,
          1490,
          1500,
          1520,
          1530,
          1540,
          1550,
          1560,
          1580,
          1600,
          1620,
          1630,
          1640,
          1650,
          1660,
          1690,
          1700,
          1720,
          1730,
          1740,
          1750,
          1760,
          1770,
          1780,
          1790,
          1800
         ],
         "xaxis": "x",
         "y": [
          1.5343592329829816,
          3.5723841478423037,
          2.227506413542927,
          3.4327935409838903,
          2.920653594102872,
          1.5343592329829816,
          4.010335290454923,
          1.5343592329829816,
          1.5343592329829816,
          4.288894240412252,
          1.5343592329829816,
          2.8448210567265684,
          5.189768826836128,
          5.399343015505695,
          2.8448210567265684,
          6.008724204454571,
          3.5379682372865138,
          0.9984954856102318,
          4.097132951707673,
          5.386441581704902,
          3.5379682372865138,
          5.432843167835272,
          3.5379682372865138,
          2.1516738761666234,
          5.8604795443803885,
          2.8448210567265684,
          4.097584025221937,
          4.097584025221937,
          5.230706303477003,
          3.7611117886007235,
          5.410844464580752,
          3.9574951355554804,
          3.7611117886007235,
          4.015806389167504,
          5.355289449378124,
          2.406368476733404,
          4.352278625788717,
          2.406368476733404,
          4.473746345439601,
          4.6374405492824335,
          2.406368476733404,
          3.7926628378532947,
          4.7066404131445925,
          3.5049807654015135,
          2.406368476733404,
          2.406368476733404,
          5.005498887735777,
          2.406368476733404,
          5.102900446651047,
          4.54314832012805,
          4.417546184034426,
          4.947834182783365,
          3.768388180778792,
          3.5049807654015135,
          3.0995156572933493,
          1.9725887747019824,
          1.9725887747019824,
          1.1574041577199952,
          4.758925093763002,
          2.6657359552619275,
          3.861284409664818,
          1.9725887747019824,
          3.558781648932839,
          4.169813352038202,
          1.9725887747019824,
          2.6657359552619275,
          5.01755673874844,
          2.6657359552619275,
          1.9725887747019824,
          3.071201063370092,
          1.9725887747019824,
          1.9725887747019824,
          3.9184989237572956,
          2.6657359552619275,
          1.9725887747019824,
          4.680638975804192,
          1.9725887747019824,
          3.525571808304788,
          1.5796616592494745,
          1.5796616592494745,
          2.2728088398094197,
          3.977556932047845,
          2.2728088398094197,
          1.5796616592494745,
          4.041559421082295,
          3.6591032009293105,
          1.5796616592494745,
          4.064568309037475,
          1.5796616592494745,
          0.7379853565713609,
          1.5796616592494745,
          3.980508146421141,
          2.6782739479175843,
          1.5796616592494745,
          2.6782739479175843,
          2.6782739479175843,
          4.783643038793893,
          2.3456887779059494,
          3.038835958465895,
          2.3456887779059494,
          2.3456887779059494,
          3.038835958465895,
          3.038835958465895,
          3.73198313902584,
          4.5962722915943965,
          3.9551266903400495,
          3.038835958465895,
          3.038835958465895,
          3.73198313902584,
          2.3456887779059494,
          4.484963295855532,
          3.73198313902584,
          2.3456887779059494,
          2.3456887779059494,
          4.2164555998797555,
          1.9652886846370066,
          2.6584358651969517,
          1.9652886846370066,
          3.8991357115722893,
          1.9652886846370066,
          1.9652886846370066,
          1.9652886846370066,
          3.063900973305116,
          1.9652886846370066,
          2.190629430065629,
          2.190629430065629,
          3.2892417187337384,
          2.883776610625574,
          4.210669991397336,
          3.2892417187337384,
          4.068357201191446,
          4.068357201191446,
          4.210669991397336,
          4.210669991397336,
          2.190629430065629,
          2.190629430065629,
          2.883776610625574,
          5.085284302800309,
          2.883776610625574,
          2.883776610625574,
          4.4785369889033175,
          3.2892417187337384,
          3.653387539563546,
          4.637243539727033,
          3.9440963591670872,
          4.454921982933078,
          4.637243539727033,
          2.8454840704989772,
          2.8454840704989772,
          4.637243539727033,
          2.8454840704989772,
          3.9440963591670872,
          1.7308509499783338,
          5.088558084915489,
          4.047866292426509,
          3.9440963591670872,
          3.129184933210254,
          3.129184933210254,
          3.9440963591670872,
          4.047866292426509,
          4.893213888219931,
          3.5275969983595807,
          5.281047361275673,
          3.9440963591670872,
          2.869976768104594,
          1.756497679243854,
          3.6053252232107678,
          2.869976768104594,
          2.869976768104594,
          2.869976768104594,
          3.9636579739639686,
          3.7151642840037593,
          3.563123948664539,
          1.756497679243854,
          3.9685890567727036,
          4.728791988175186,
          2.869976768104594,
          1.756497679243854,
          4.256271129224484,
          5.5752367891918935
         ],
         "yaxis": "y"
        },
        {
         "hovertemplate": "Region=Indian world<br>Decade=%{x}<br>Estimated Number=%{y}<extra></extra>",
         "legendgroup": "Indian world",
         "line": {
          "color": "#00cc96",
          "dash": "solid"
         },
         "marker": {
          "symbol": "circle"
         },
         "mode": "lines",
         "name": "Indian world",
         "orientation": "v",
         "showlegend": true,
         "type": "scatter",
         "x": [
          -530,
          -500,
          -460,
          -400,
          -360,
          -340,
          -330,
          -220,
          -110,
          180,
          240,
          300,
          420,
          440,
          510,
          520,
          540,
          620,
          640,
          660,
          680,
          700,
          720,
          740,
          760,
          840,
          860,
          880,
          900,
          910,
          920,
          940,
          980,
          1010,
          1040,
          1050,
          1080,
          1100,
          1140,
          1150,
          1170,
          1200,
          1210,
          1240,
          1250,
          1270,
          1300,
          1310,
          1320,
          1340,
          1360,
          1380,
          1400,
          1410,
          1420,
          1440,
          1450,
          1480,
          1490,
          1500,
          1510,
          1520,
          1530,
          1540,
          1550,
          1560,
          1570,
          1580,
          1590,
          1600,
          1610,
          1620,
          1630,
          1640,
          1650,
          1660,
          1670,
          1680,
          1690,
          1700,
          1710,
          1720,
          1730,
          1740,
          1750,
          1760,
          1770,
          1780,
          1790,
          1800
         ],
         "xaxis": "x",
         "y": [
          0.9954174867753407,
          0.9954174867753407,
          1.6885646673352859,
          0.9954174867753407,
          0.9954174867753407,
          0.9954174867753407,
          0.9954174867753407,
          1.2689173638215905,
          1.2689173638215905,
          0.8171133393012268,
          0.8171133393012268,
          0.39379651000703275,
          0.39379651000703275,
          0.39379651000703275,
          0.39379651000703275,
          0.39379651000703275,
          2.3301038713527733,
          1.2314915826846633,
          1.9246387632446087,
          1.2314915826846633,
          1.9246387632446087,
          1.2314915826846633,
          1.2314915826846633,
          1.2314915826846633,
          1.2314915826846633,
          0.8308618417916606,
          0.8308618417916606,
          0.8308618417916606,
          0.8308618417916606,
          0.8308618417916606,
          0.8308618417916606,
          0.8308618417916606,
          1.9294741304597702,
          0.8308618417916606,
          1.9294741304597702,
          1.5240090223516058,
          1.0748884797215068,
          1.0748884797215068,
          1.0748884797215068,
          1.0748884797215068,
          1.0748884797215068,
          1.0748884797215068,
          2.1735007683896166,
          2.8666479489495615,
          1.0748884797215068,
          2.1735007683896166,
          2.4611828408413974,
          1.0748884797215068,
          1.0748884797215068,
          1.768035660281452,
          1.7682824853947752,
          2.866894774062885,
          3.154576846514666,
          1.7682824853947752,
          1.7682824853947752,
          3.3777203978288757,
          2.4614296659547206,
          2.866894774062885,
          3.3777203978288757,
          1.7682824853947752,
          4.035993093852462,
          3.9266814794664606,
          4.035993093852463,
          4.070867578388821,
          2.866894774062885,
          3.154576846514666,
          2.866894774062885,
          4.812080110932234,
          3.7141926344500886,
          3.56004195462283,
          2.866894774062885,
          3.991935351567791,
          2.987479518968581,
          2.4852631074835765,
          3.178410288043522,
          3.178410288043522,
          3.4015538393577316,
          3.178410288043522,
          2.4852631074835765,
          2.890728215591741,
          2.4852631074835765,
          3.4015538393577316,
          3.5877651465115403,
          4.542340425264857,
          3.4015538393577316,
          4.190011199722002,
          3.5838753961516865,
          4.542340425264857,
          3.178410288043522,
          5.143701068588256
         ],
         "yaxis": "y"
        },
        {
         "hovertemplate": "Region=Japan<br>Decade=%{x}<br>Estimated Number=%{y}<extra></extra>",
         "legendgroup": "Japan",
         "line": {
          "color": "#ab63fa",
          "dash": "solid"
         },
         "marker": {
          "symbol": "circle"
         },
         "mode": "lines",
         "name": "Japan",
         "orientation": "v",
         "showlegend": true,
         "type": "scatter",
         "x": [
          10,
          280,
          580,
          630,
          660,
          680,
          690,
          700,
          710,
          720,
          730,
          740,
          750,
          760,
          780,
          800,
          810,
          820,
          840,
          850,
          860,
          880,
          900,
          910,
          920,
          930,
          940,
          950,
          960,
          970,
          980,
          990,
          1000,
          1010,
          1020,
          1030,
          1040,
          1050,
          1070,
          1080,
          1090,
          1100,
          1120,
          1140,
          1150,
          1160,
          1170,
          1180,
          1190,
          1200,
          1210,
          1220,
          1230,
          1240,
          1260,
          1270,
          1280,
          1290,
          1310,
          1320,
          1330,
          1340,
          1350,
          1360,
          1380,
          1420,
          1430,
          1440,
          1450,
          1460,
          1470,
          1480,
          1490,
          1500,
          1510,
          1530,
          1540,
          1550,
          1560,
          1570,
          1580,
          1590,
          1600,
          1610,
          1620,
          1630,
          1640,
          1650,
          1660,
          1670,
          1680,
          1690,
          1700,
          1710,
          1720,
          1730,
          1740,
          1750,
          1760,
          1770,
          1780,
          1790,
          1800
         ],
         "xaxis": "x",
         "y": [
          1.6296761939509492,
          1.2366880427704463,
          1.2147150875221417,
          2.72243487839819,
          2.0292876978382446,
          4.668345027453503,
          2.72243487839819,
          3.8210471670662995,
          2.0292876978382446,
          2.72243487839819,
          2.0292876978382446,
          3.127899986506354,
          2.0292876978382446,
          2.0292876978382446,
          3.892255356943177,
          2.0292876978382446,
          2.3410932433665876,
          1.910453211995179,
          1.910453211995179,
          3.2573839752407427,
          3.0342404239265326,
          3.2573839752407427,
          3.0342404239265326,
          3.2573839752407427,
          3.0342404239265326,
          1.6479460628066422,
          4.287003392421901,
          2.3410932433665876,
          4.33758428707444,
          2.746558351474752,
          3.554919979854706,
          2.746558351474752,
          3.2573839752407427,
          3.0342404239265326,
          2.3410932433665876,
          3.0342404239265326,
          2.746558351474752,
          1.6479460628066422,
          2.3410932433665876,
          2.5709067220662147,
          2.7136723484942005,
          1.8777595415062696,
          2.7136723484942005,
          2.9763718301743793,
          2.9763718301743793,
          2.7690758411337284,
          2.5709067220662147,
          3.9258843545660786,
          3.48719745394037,
          2.9763718301743793,
          3.48719745394037,
          3.3680393257445167,
          3.3680393257445167,
          3.8844068602729536,
          1.8777595415062696,
          2.9763718301743793,
          4.06614030260214,
          1.8777595415062696,
          3.073776439115723,
          3.7194068039001835,
          4.068466913544669,
          1.8777595415062696,
          2.544048990992567,
          3.642661279660677,
          2.799620373232187,
          3.2371961715525126,
          3.042153800719085,
          2.544048990992567,
          3.042153800719085,
          2.544048990992567,
          2.1064731926722415,
          3.7353009812790305,
          2.626054669277939,
          2.544048990992567,
          2.544048990992567,
          2.1064731926722415,
          3.042153800719085,
          2.544048990992567,
          4.0799694376423945,
          3.2371961715525126,
          1.4133260121122964,
          3.042153800719085,
          3.632071870524241,
          4.453578637193246,
          3.196537555639818,
          3.6563929767961136,
          4.509479049785522,
          4.8155862350312235,
          4.60214320289588,
          3.5411464076312527,
          4.960282943456326,
          4.255991039759317,
          5.134804270388454,
          3.5411464076312527,
          4.6542758460475,
          4.196967244755633,
          4.797161122237303,
          4.457437139505408,
          5.439877918227632,
          5.519567563092128,
          5.646884548714758,
          5.3824216988631255,
          5.894266607125014
         ],
         "yaxis": "y"
        },
        {
         "hovertemplate": "Region=Latin World<br>Decade=%{x}<br>Estimated Number=%{y}<extra></extra>",
         "legendgroup": "Latin World",
         "line": {
          "color": "#FFA15A",
          "dash": "solid"
         },
         "marker": {
          "symbol": "circle"
         },
         "mode": "lines",
         "name": "Latin World",
         "orientation": "v",
         "showlegend": true,
         "type": "scatter",
         "x": [
          -320,
          -260,
          -220,
          -210,
          -200,
          -180,
          -160,
          -150,
          -140,
          -130,
          -120,
          -110,
          -100,
          -90,
          -80,
          -70,
          -60,
          -50,
          -40,
          -30,
          -20,
          -10,
          0,
          10,
          20,
          30,
          40,
          50,
          60,
          70,
          80,
          100,
          110,
          120,
          130,
          140,
          150,
          160,
          170,
          180,
          200,
          220,
          230,
          240,
          250,
          270,
          280,
          290,
          300,
          310,
          340,
          350,
          360,
          380,
          390,
          400,
          410,
          420,
          440,
          460,
          480,
          500,
          510,
          510,
          530,
          540,
          550,
          570,
          580,
          590,
          600,
          610,
          630,
          640,
          650,
          660,
          670,
          710,
          740,
          750,
          760,
          780,
          800,
          810,
          820,
          830,
          840,
          850,
          860,
          880,
          890,
          900,
          910,
          920,
          930,
          940,
          950,
          960,
          970,
          980,
          990,
          1000,
          1010,
          1020,
          1030,
          1040,
          1050,
          1060,
          1070,
          1080,
          1090,
          1100,
          1110,
          1120,
          1130,
          1140,
          1150,
          1160,
          1170,
          1180,
          1190,
          1200,
          1210,
          1220,
          1230,
          1240,
          1250,
          1260,
          1270,
          1280,
          1290,
          1300,
          1310,
          1320,
          1330,
          1340,
          1350,
          1360,
          1370,
          1380,
          1390,
          1400,
          1410,
          1420,
          1430,
          1440,
          1450,
          1460,
          1470,
          1480,
          1490,
          1500,
          1510,
          1520,
          1530,
          1540,
          1550,
          1560,
          1570,
          1580,
          1590,
          1600,
          1610,
          1620,
          1630,
          1640,
          1650,
          1660,
          1670,
          1680,
          1690,
          1700,
          1710,
          1720,
          1730,
          1740,
          1750,
          1760,
          1770,
          1780,
          1790,
          1800
         ],
         "xaxis": "x",
         "y": [
          0.43680255449982736,
          1.589668163635167,
          1.6749197124401884,
          1.589668163635167,
          2.9759625247550576,
          1.589668163635167,
          3.257339970123149,
          2.688280452303277,
          1.589668163635167,
          1.589668163635167,
          4.435392764265237,
          2.688280452303277,
          4.297718364737377,
          1.6749197124401884,
          3.2167477361614285,
          3.396150544703875,
          4.538173873970548,
          3.3814276328632222,
          4.0666417435417195,
          3.5394770250798038,
          4.518144306755583,
          1.589668163635167,
          1.8281675940082693,
          1.1350204134483242,
          1.1350204134483242,
          2.3438168038619853,
          2.7995297213105137,
          1.8281675940082693,
          2.7444583258824244,
          2.233632702116434,
          3.9813515793161494,
          3.21446195512816,
          1.1350204134483242,
          2.5213147745682147,
          1.1350204134483242,
          3.7928337503012624,
          1.1350204134483242,
          2.233632702116434,
          1.1350204134483242,
          3.265223164632,
          2.9267798826763793,
          1.1350204134483242,
          3.078694143251742,
          3.449161128810948,
          1.8281675940082693,
          0.7038971669668938,
          3.0064822599609395,
          0.7038971669668938,
          2.0901915280867844,
          0.7038971669668938,
          2.78333870864673,
          0.7038971669668938,
          2.0901915280867844,
          1.8025094556350034,
          1.8025094556350034,
          2.78333870864673,
          0.7038971669668938,
          1.8025094556350034,
          3.3617384330198705,
          1.397044347526839,
          2.313335079400994,
          0.7038971669668938,
          0.7038971669668938,
          1.5316380640323557,
          1.5316380640323557,
          3.016298933719381,
          1.7249100949765894,
          2.399704943476616,
          4.363782618632213,
          1.939199710199312,
          2.313430461780458,
          2.313430461780458,
          1.7249100949765894,
          3.829476480939154,
          1.7249100949765894,
          1.5918656933503412,
          2.2850128739102864,
          2.313430461780458,
          3.612586765022121,
          3.6628577292174516,
          1.7249100949765894,
          3.8657786930888833,
          2.399704943476616,
          2.718701202743221,
          4.147441818295202,
          2.027667281512575,
          4.263409118179437,
          2.3725163983505038,
          2.6757004001256677,
          4.730854502568256,
          2.454706677523228,
          1.551140266100268,
          3.383646997940699,
          2.0234362875297935,
          1.33452010095263,
          3.8488055131108823,
          1.9353073247763088,
          2.464944308310325,
          2.4665471527907337,
          4.805208550185534,
          4.276237909442175,
          4.2139010627315185,
          4.278162967127085,
          3.690197059897846,
          4.085709436332385,
          4.536993322537719,
          3.6378616730656854,
          4.080623368954637,
          2.508063035801077,
          4.838969314280833,
          3.8425835270613717,
          5.033925314001978,
          4.54725759304834,
          4.809565753005793,
          3.661286490209655,
          6.681530500590829,
          4.79465739524984,
          5.3396753567630455,
          4.8917031762506,
          6.87826663778107,
          4.691614551183092,
          6.626459154114914,
          5.920610976623602,
          6.679667263300681,
          5.680180026313957,
          7.615691486977874,
          5.605669269344749,
          6.4505961745113085,
          5.746434011826646,
          7.092058463144829,
          5.312701967933306,
          6.679791309723329,
          5.042792322355186,
          6.007970057835461,
          5.020463334265262,
          7.251472538761797,
          6.126150785490678,
          6.777354212225583,
          6.338863470752312,
          7.968897250198039,
          6.459521532288924,
          7.402935668750511,
          6.372822705683128,
          7.6748478509169225,
          6.884803523885314,
          8.577934435954438,
          7.1459401559324425,
          8.060742292072797,
          7.274040519318333,
          9.09552177760041,
          7.875315589087365,
          9.007021048634071,
          8.21513558802348,
          9.398043214738067,
          8.883435120413338,
          10.084660459677835,
          8.921125294232342,
          9.74454464014749,
          9.370279460692052,
          10.107053734522365,
          9.465556178024928,
          10.244453965465315,
          9.65556813103963,
          10.291718547640507,
          9.674458399646563,
          10.305791170309478,
          9.707131831837684,
          10.118698814560194,
          9.905696190227735,
          10.451439236630808,
          9.963532717987544,
          10.411930350935112,
          10.133702473615758,
          10.54636098584768,
          10.273853047320593,
          10.800511125067354,
          10.543423326215311,
          10.856553492075138,
          10.757551950320222,
          11.196865085575926,
          11.026961523996805,
          11.3285057362827
         ],
         "yaxis": "y"
        }
       ],
       "layout": {
        "height": 800,
        "legend": {
         "title": {
          "text": "Region"
         },
         "tracegroupgap": 0
        },
        "margin": {
         "t": 60
        },
        "template": {
         "data": {
          "bar": [
           {
            "error_x": {
             "color": "#2a3f5f"
            },
            "error_y": {
             "color": "#2a3f5f"
            },
            "marker": {
             "line": {
              "color": "white",
              "width": 0.5
             },
             "pattern": {
              "fillmode": "overlay",
              "size": 10,
              "solidity": 0.2
             }
            },
            "type": "bar"
           }
          ],
          "barpolar": [
           {
            "marker": {
             "line": {
              "color": "white",
              "width": 0.5
             },
             "pattern": {
              "fillmode": "overlay",
              "size": 10,
              "solidity": 0.2
             }
            },
            "type": "barpolar"
           }
          ],
          "carpet": [
           {
            "aaxis": {
             "endlinecolor": "#2a3f5f",
             "gridcolor": "#C8D4E3",
             "linecolor": "#C8D4E3",
             "minorgridcolor": "#C8D4E3",
             "startlinecolor": "#2a3f5f"
            },
            "baxis": {
             "endlinecolor": "#2a3f5f",
             "gridcolor": "#C8D4E3",
             "linecolor": "#C8D4E3",
             "minorgridcolor": "#C8D4E3",
             "startlinecolor": "#2a3f5f"
            },
            "type": "carpet"
           }
          ],
          "choropleth": [
           {
            "colorbar": {
             "outlinewidth": 0,
             "ticks": ""
            },
            "type": "choropleth"
           }
          ],
          "contour": [
           {
            "colorbar": {
             "outlinewidth": 0,
             "ticks": ""
            },
            "colorscale": [
             [
              0,
              "#0d0887"
             ],
             [
              0.1111111111111111,
              "#46039f"
             ],
             [
              0.2222222222222222,
              "#7201a8"
             ],
             [
              0.3333333333333333,
              "#9c179e"
             ],
             [
              0.4444444444444444,
              "#bd3786"
             ],
             [
              0.5555555555555556,
              "#d8576b"
             ],
             [
              0.6666666666666666,
              "#ed7953"
             ],
             [
              0.7777777777777778,
              "#fb9f3a"
             ],
             [
              0.8888888888888888,
              "#fdca26"
             ],
             [
              1,
              "#f0f921"
             ]
            ],
            "type": "contour"
           }
          ],
          "contourcarpet": [
           {
            "colorbar": {
             "outlinewidth": 0,
             "ticks": ""
            },
            "type": "contourcarpet"
           }
          ],
          "heatmap": [
           {
            "colorbar": {
             "outlinewidth": 0,
             "ticks": ""
            },
            "colorscale": [
             [
              0,
              "#0d0887"
             ],
             [
              0.1111111111111111,
              "#46039f"
             ],
             [
              0.2222222222222222,
              "#7201a8"
             ],
             [
              0.3333333333333333,
              "#9c179e"
             ],
             [
              0.4444444444444444,
              "#bd3786"
             ],
             [
              0.5555555555555556,
              "#d8576b"
             ],
             [
              0.6666666666666666,
              "#ed7953"
             ],
             [
              0.7777777777777778,
              "#fb9f3a"
             ],
             [
              0.8888888888888888,
              "#fdca26"
             ],
             [
              1,
              "#f0f921"
             ]
            ],
            "type": "heatmap"
           }
          ],
          "heatmapgl": [
           {
            "colorbar": {
             "outlinewidth": 0,
             "ticks": ""
            },
            "colorscale": [
             [
              0,
              "#0d0887"
             ],
             [
              0.1111111111111111,
              "#46039f"
             ],
             [
              0.2222222222222222,
              "#7201a8"
             ],
             [
              0.3333333333333333,
              "#9c179e"
             ],
             [
              0.4444444444444444,
              "#bd3786"
             ],
             [
              0.5555555555555556,
              "#d8576b"
             ],
             [
              0.6666666666666666,
              "#ed7953"
             ],
             [
              0.7777777777777778,
              "#fb9f3a"
             ],
             [
              0.8888888888888888,
              "#fdca26"
             ],
             [
              1,
              "#f0f921"
             ]
            ],
            "type": "heatmapgl"
           }
          ],
          "histogram": [
           {
            "marker": {
             "pattern": {
              "fillmode": "overlay",
              "size": 10,
              "solidity": 0.2
             }
            },
            "type": "histogram"
           }
          ],
          "histogram2d": [
           {
            "colorbar": {
             "outlinewidth": 0,
             "ticks": ""
            },
            "colorscale": [
             [
              0,
              "#0d0887"
             ],
             [
              0.1111111111111111,
              "#46039f"
             ],
             [
              0.2222222222222222,
              "#7201a8"
             ],
             [
              0.3333333333333333,
              "#9c179e"
             ],
             [
              0.4444444444444444,
              "#bd3786"
             ],
             [
              0.5555555555555556,
              "#d8576b"
             ],
             [
              0.6666666666666666,
              "#ed7953"
             ],
             [
              0.7777777777777778,
              "#fb9f3a"
             ],
             [
              0.8888888888888888,
              "#fdca26"
             ],
             [
              1,
              "#f0f921"
             ]
            ],
            "type": "histogram2d"
           }
          ],
          "histogram2dcontour": [
           {
            "colorbar": {
             "outlinewidth": 0,
             "ticks": ""
            },
            "colorscale": [
             [
              0,
              "#0d0887"
             ],
             [
              0.1111111111111111,
              "#46039f"
             ],
             [
              0.2222222222222222,
              "#7201a8"
             ],
             [
              0.3333333333333333,
              "#9c179e"
             ],
             [
              0.4444444444444444,
              "#bd3786"
             ],
             [
              0.5555555555555556,
              "#d8576b"
             ],
             [
              0.6666666666666666,
              "#ed7953"
             ],
             [
              0.7777777777777778,
              "#fb9f3a"
             ],
             [
              0.8888888888888888,
              "#fdca26"
             ],
             [
              1,
              "#f0f921"
             ]
            ],
            "type": "histogram2dcontour"
           }
          ],
          "mesh3d": [
           {
            "colorbar": {
             "outlinewidth": 0,
             "ticks": ""
            },
            "type": "mesh3d"
           }
          ],
          "parcoords": [
           {
            "line": {
             "colorbar": {
              "outlinewidth": 0,
              "ticks": ""
             }
            },
            "type": "parcoords"
           }
          ],
          "pie": [
           {
            "automargin": true,
            "type": "pie"
           }
          ],
          "scatter": [
           {
            "fillpattern": {
             "fillmode": "overlay",
             "size": 10,
             "solidity": 0.2
            },
            "type": "scatter"
           }
          ],
          "scatter3d": [
           {
            "line": {
             "colorbar": {
              "outlinewidth": 0,
              "ticks": ""
             }
            },
            "marker": {
             "colorbar": {
              "outlinewidth": 0,
              "ticks": ""
             }
            },
            "type": "scatter3d"
           }
          ],
          "scattercarpet": [
           {
            "marker": {
             "colorbar": {
              "outlinewidth": 0,
              "ticks": ""
             }
            },
            "type": "scattercarpet"
           }
          ],
          "scattergeo": [
           {
            "marker": {
             "colorbar": {
              "outlinewidth": 0,
              "ticks": ""
             }
            },
            "type": "scattergeo"
           }
          ],
          "scattergl": [
           {
            "marker": {
             "colorbar": {
              "outlinewidth": 0,
              "ticks": ""
             }
            },
            "type": "scattergl"
           }
          ],
          "scattermapbox": [
           {
            "marker": {
             "colorbar": {
              "outlinewidth": 0,
              "ticks": ""
             }
            },
            "type": "scattermapbox"
           }
          ],
          "scatterpolar": [
           {
            "marker": {
             "colorbar": {
              "outlinewidth": 0,
              "ticks": ""
             }
            },
            "type": "scatterpolar"
           }
          ],
          "scatterpolargl": [
           {
            "marker": {
             "colorbar": {
              "outlinewidth": 0,
              "ticks": ""
             }
            },
            "type": "scatterpolargl"
           }
          ],
          "scatterternary": [
           {
            "marker": {
             "colorbar": {
              "outlinewidth": 0,
              "ticks": ""
             }
            },
            "type": "scatterternary"
           }
          ],
          "surface": [
           {
            "colorbar": {
             "outlinewidth": 0,
             "ticks": ""
            },
            "colorscale": [
             [
              0,
              "#0d0887"
             ],
             [
              0.1111111111111111,
              "#46039f"
             ],
             [
              0.2222222222222222,
              "#7201a8"
             ],
             [
              0.3333333333333333,
              "#9c179e"
             ],
             [
              0.4444444444444444,
              "#bd3786"
             ],
             [
              0.5555555555555556,
              "#d8576b"
             ],
             [
              0.6666666666666666,
              "#ed7953"
             ],
             [
              0.7777777777777778,
              "#fb9f3a"
             ],
             [
              0.8888888888888888,
              "#fdca26"
             ],
             [
              1,
              "#f0f921"
             ]
            ],
            "type": "surface"
           }
          ],
          "table": [
           {
            "cells": {
             "fill": {
              "color": "#EBF0F8"
             },
             "line": {
              "color": "white"
             }
            },
            "header": {
             "fill": {
              "color": "#C8D4E3"
             },
             "line": {
              "color": "white"
             }
            },
            "type": "table"
           }
          ]
         },
         "layout": {
          "annotationdefaults": {
           "arrowcolor": "#2a3f5f",
           "arrowhead": 0,
           "arrowwidth": 1
          },
          "autotypenumbers": "strict",
          "coloraxis": {
           "colorbar": {
            "outlinewidth": 0,
            "ticks": ""
           }
          },
          "colorscale": {
           "diverging": [
            [
             0,
             "#8e0152"
            ],
            [
             0.1,
             "#c51b7d"
            ],
            [
             0.2,
             "#de77ae"
            ],
            [
             0.3,
             "#f1b6da"
            ],
            [
             0.4,
             "#fde0ef"
            ],
            [
             0.5,
             "#f7f7f7"
            ],
            [
             0.6,
             "#e6f5d0"
            ],
            [
             0.7,
             "#b8e186"
            ],
            [
             0.8,
             "#7fbc41"
            ],
            [
             0.9,
             "#4d9221"
            ],
            [
             1,
             "#276419"
            ]
           ],
           "sequential": [
            [
             0,
             "#0d0887"
            ],
            [
             0.1111111111111111,
             "#46039f"
            ],
            [
             0.2222222222222222,
             "#7201a8"
            ],
            [
             0.3333333333333333,
             "#9c179e"
            ],
            [
             0.4444444444444444,
             "#bd3786"
            ],
            [
             0.5555555555555556,
             "#d8576b"
            ],
            [
             0.6666666666666666,
             "#ed7953"
            ],
            [
             0.7777777777777778,
             "#fb9f3a"
            ],
            [
             0.8888888888888888,
             "#fdca26"
            ],
            [
             1,
             "#f0f921"
            ]
           ],
           "sequentialminus": [
            [
             0,
             "#0d0887"
            ],
            [
             0.1111111111111111,
             "#46039f"
            ],
            [
             0.2222222222222222,
             "#7201a8"
            ],
            [
             0.3333333333333333,
             "#9c179e"
            ],
            [
             0.4444444444444444,
             "#bd3786"
            ],
            [
             0.5555555555555556,
             "#d8576b"
            ],
            [
             0.6666666666666666,
             "#ed7953"
            ],
            [
             0.7777777777777778,
             "#fb9f3a"
            ],
            [
             0.8888888888888888,
             "#fdca26"
            ],
            [
             1,
             "#f0f921"
            ]
           ]
          },
          "colorway": [
           "#636efa",
           "#EF553B",
           "#00cc96",
           "#ab63fa",
           "#FFA15A",
           "#19d3f3",
           "#FF6692",
           "#B6E880",
           "#FF97FF",
           "#FECB52"
          ],
          "font": {
           "color": "#2a3f5f"
          },
          "geo": {
           "bgcolor": "white",
           "lakecolor": "white",
           "landcolor": "white",
           "showlakes": true,
           "showland": true,
           "subunitcolor": "#C8D4E3"
          },
          "hoverlabel": {
           "align": "left"
          },
          "hovermode": "closest",
          "mapbox": {
           "style": "light"
          },
          "paper_bgcolor": "white",
          "plot_bgcolor": "white",
          "polar": {
           "angularaxis": {
            "gridcolor": "#EBF0F8",
            "linecolor": "#EBF0F8",
            "ticks": ""
           },
           "bgcolor": "white",
           "radialaxis": {
            "gridcolor": "#EBF0F8",
            "linecolor": "#EBF0F8",
            "ticks": ""
           }
          },
          "scene": {
           "xaxis": {
            "backgroundcolor": "white",
            "gridcolor": "#DFE8F3",
            "gridwidth": 2,
            "linecolor": "#EBF0F8",
            "showbackground": true,
            "ticks": "",
            "zerolinecolor": "#EBF0F8"
           },
           "yaxis": {
            "backgroundcolor": "white",
            "gridcolor": "#DFE8F3",
            "gridwidth": 2,
            "linecolor": "#EBF0F8",
            "showbackground": true,
            "ticks": "",
            "zerolinecolor": "#EBF0F8"
           },
           "zaxis": {
            "backgroundcolor": "white",
            "gridcolor": "#DFE8F3",
            "gridwidth": 2,
            "linecolor": "#EBF0F8",
            "showbackground": true,
            "ticks": "",
            "zerolinecolor": "#EBF0F8"
           }
          },
          "shapedefaults": {
           "line": {
            "color": "#2a3f5f"
           }
          },
          "ternary": {
           "aaxis": {
            "gridcolor": "#DFE8F3",
            "linecolor": "#A2B1C6",
            "ticks": ""
           },
           "baxis": {
            "gridcolor": "#DFE8F3",
            "linecolor": "#A2B1C6",
            "ticks": ""
           },
           "bgcolor": "white",
           "caxis": {
            "gridcolor": "#DFE8F3",
            "linecolor": "#A2B1C6",
            "ticks": ""
           }
          },
          "title": {
           "x": 0.05
          },
          "xaxis": {
           "automargin": true,
           "gridcolor": "#EBF0F8",
           "linecolor": "#EBF0F8",
           "ticks": "",
           "title": {
            "standoff": 15
           },
           "zerolinecolor": "#EBF0F8",
           "zerolinewidth": 2
          },
          "yaxis": {
           "automargin": true,
           "gridcolor": "#EBF0F8",
           "linecolor": "#EBF0F8",
           "ticks": "",
           "title": {
            "standoff": 15
           },
           "zerolinecolor": "#EBF0F8",
           "zerolinewidth": 2
          }
         }
        },
        "xaxis": {
         "anchor": "y",
         "domain": [
          0,
          1
         ],
         "title": {
          "text": ""
         }
        },
        "yaxis": {
         "anchor": "x",
         "domain": [
          0,
          1
         ],
         "title": {
          "text": "Log N_est"
         }
        }
       }
      }
     },
     "metadata": {},
     "output_type": "display_data"
    }
   ],
   "source": [
    "#df = df_cultura[df_cultura['region_name'].isin(['Chinese world', 'Italy', 'France', 'German world', 'United Kingdom'])]\n",
    "\n",
    "# Assuming df_cultura is already defined and contains the necessary columns\n",
    "# df = df_cultura[df_cultura['region_name'].isin(['Italy', 'France','United Kingdom'])]\n",
    "df = df_cultura[df_cultura['region_name'].isin(['Chinese world', 'Latin World', 'Muslim World', 'Greek World', 'Japan', 'Indian world'])]\n",
    "df['N_est'] = np.log(df['N_est'])\n",
    "\n",
    "#df = df[df['decade']>=600]\n",
    "df = df[df['decade']<=1800]\n",
    "\n",
    "# Creating a line plot using Plotly Express\n",
    "fig = px.line(df, x='decade', y='N_est', color='region_name', \n",
    "              title='',\n",
    "              labels={'N_est': 'Estimated Number', 'decade': 'Decade', 'region_name': 'Region'})\n",
    "\n",
    "# Enhancing the plot with additional settings\n",
    "fig.update_layout(\n",
    "    xaxis_title='',\n",
    "    yaxis_title='Log N_est',\n",
    "    legend_title='Region',\n",
    "    template='plotly_white',\n",
    "    height=800\n",
    ")\n",
    "\n",
    "# Show the plot\n",
    "fig.show()"
   ]
  },
  {
   "cell_type": "code",
   "execution_count": 51,
   "metadata": {},
   "outputs": [
    {
     "name": "stderr",
     "output_type": "stream",
     "text": [
      "/var/folders/lx/9b13r6ln63jb54_3xlf9b_380000gn/T/ipykernel_51891/2281911089.py:10: SettingWithCopyWarning:\n",
      "\n",
      "\n",
      "A value is trying to be set on a copy of a slice from a DataFrame\n",
      "\n",
      "See the caveats in the documentation: https://pandas.pydata.org/pandas-docs/stable/user_guide/indexing.html#returning-a-view-versus-a-copy\n",
      "\n",
      "/var/folders/lx/9b13r6ln63jb54_3xlf9b_380000gn/T/ipykernel_51891/2281911089.py:11: SettingWithCopyWarning:\n",
      "\n",
      "\n",
      "A value is trying to be set on a copy of a slice from a DataFrame\n",
      "\n",
      "See the caveats in the documentation: https://pandas.pydata.org/pandas-docs/stable/user_guide/indexing.html#returning-a-view-versus-a-copy\n",
      "\n",
      "/var/folders/lx/9b13r6ln63jb54_3xlf9b_380000gn/T/ipykernel_51891/2281911089.py:12: SettingWithCopyWarning:\n",
      "\n",
      "\n",
      "A value is trying to be set on a copy of a slice from a DataFrame\n",
      "\n",
      "See the caveats in the documentation: https://pandas.pydata.org/pandas-docs/stable/user_guide/indexing.html#returning-a-view-versus-a-copy\n",
      "\n",
      "/var/folders/lx/9b13r6ln63jb54_3xlf9b_380000gn/T/ipykernel_51891/2281911089.py:13: SettingWithCopyWarning:\n",
      "\n",
      "\n",
      "A value is trying to be set on a copy of a slice from a DataFrame\n",
      "\n",
      "See the caveats in the documentation: https://pandas.pydata.org/pandas-docs/stable/user_guide/indexing.html#returning-a-view-versus-a-copy\n",
      "\n"
     ]
    }
   ],
   "source": [
    "import matplotlib.pyplot as plt\n",
    "from statsmodels.nonparametric.smoothers_lowess import lowess\n",
    "\n",
    "df = df_cultura.copy()\n",
    "df = df_cultura[df_cultura['region_name'].isin(['Chinese world', 'Latin World', 'MENA', 'Greek World', 'Japan', 'Indian world', 'East Slavic'])]\n",
    "df = df[~((df['region_name'] == 'Japan') & (df['decade'] < 600))]\n",
    "\n",
    "\n",
    "df['region_name'][df['region_name']=='MENA'] = 'West Asia and North Africa'\n",
    "df['region_name'][df['region_name']=='Latin world'] = 'Western Europe'\n",
    "df['region_name'][df['region_name']=='East Slavic'] = 'East Slavic World'\n",
    "df['region_name'][df['region_name']=='Indian world'] = 'Indian World'\n",
    "df['region_name'][df['region_name']=='Chinese world'] = 'Chinese World'"
   ]
  },
  {
   "cell_type": "code",
   "execution_count": 52,
   "metadata": {},
   "outputs": [
    {
     "name": "stderr",
     "output_type": "stream",
     "text": [
      "/var/folders/lx/9b13r6ln63jb54_3xlf9b_380000gn/T/ipykernel_51891/3221794926.py:23: SettingWithCopyWarning:\n",
      "\n",
      "\n",
      "A value is trying to be set on a copy of a slice from a DataFrame\n",
      "\n",
      "See the caveats in the documentation: https://pandas.pydata.org/pandas-docs/stable/user_guide/indexing.html#returning-a-view-versus-a-copy\n",
      "\n"
     ]
    },
    {
     "data": {
      "image/png": "[encoded data removed]",
      "text/plain": [
       "<Figure size 1200x1200 with 1 Axes>"
      ]
     },
     "metadata": {},
     "output_type": "display_data"
    }
   ],
   "source": [
    "\n",
    "\n",
    "# Filtering logic\n",
    "df['N_est'] = np.log(df['N_est'])  # Applying log transformation\n",
    "df['N_est_min'] = np.log(df['N_est_min'])  # Min bound log\n",
    "df['N_est_max'] = np.log(df['N_est_max'])  # Max bound log\n",
    "\n",
    "\n",
    "# # Define your color scheme\n",
    "# colors = {\n",
    "#     \"Western Europe\": \"#00008b\",\n",
    "# }\n",
    "\n",
    "fig, ax = plt.subplots(figsize=(12, 12))\n",
    "\n",
    "# List for storing text annotations for later adjustment\n",
    "texts = []\n",
    "\n",
    "# Calculate the maximum smoothed value for normalization\n",
    "max_n_est = float('-inf')\n",
    "\n",
    "# Adding smoothing and plotting for each region\n",
    "for region in df['region_name'].unique():\n",
    "    region_data = df[df['region_name'] == region]\n",
    "    region_data.sort_values(by='decade', inplace=True)\n",
    "\n",
    "\n",
    "    n = 0.1\n",
    "\n",
    "    # LOESS smoothing\n",
    "    smoothed = lowess(region_data['N_est'], region_data['decade'], frac=n)\n",
    "    smoothed_min = lowess(region_data['N_est_min'], region_data['decade'], frac=n)\n",
    "    smoothed_max = lowess(region_data['N_est_max'], region_data['decade'], frac=n)\n",
    "\n",
    "    # Update maximum n_est if current is higher\n",
    "    max_n_est = max(max_n_est, max(smoothed[:, 1]))\n",
    "\n",
    "    # Plotting the smoothed mean estimate\n",
    "    ax.plot(smoothed[:, 0], smoothed[:, 1], label=region)\n",
    "\n",
    "    # Plotting the confidence interval as a fill between\n",
    "    ax.fill_between(smoothed[:, 0], smoothed_min[:, 1], smoothed_max[:, 1], alpha=0.3)\n",
    "\n",
    "\n",
    "# Set the size of x-axis and y-axis tick labels\n",
    "ax.tick_params(axis='x', labelsize=14)  # Increase x-axis tick label size\n",
    "ax.tick_params(axis='y', labelsize=14)  # Increase y-axis tick label size\n",
    "\n",
    "ax.set_xticks(np.arange(-800, 1801, 200))  # Set x-ticks every 200 years\n",
    "# Rotating x-ticks by 45 degrees for better readability\n",
    "ax.tick_params(axis='x', rotation=45)\n",
    "ax.set_xlabel('')\n",
    "ax.set_ylabel('Corrected CPI (Log Scale)', fontsize = 16)\n",
    "ax.set_title('The Great Divergences', fontsize = 16)\n",
    "ax.legend()\n",
    "plt.show()\n",
    "\n"
   ]
  },
  {
   "cell_type": "code",
   "execution_count": null,
   "metadata": {},
   "outputs": [],
   "source": []
  },
  {
   "cell_type": "code",
   "execution_count": 53,
   "metadata": {},
   "outputs": [
    {
     "data": {
      "text/plain": [
       "['Italy',\n",
       " 'Nordic countries',\n",
       " 'East Slavic',\n",
       " 'France',\n",
       " 'German world',\n",
       " 'Persian world',\n",
       " 'Japan',\n",
       " 'Indian world',\n",
       " 'Low countries',\n",
       " 'Latin World',\n",
       " 'Greek World',\n",
       " 'United Kingdom',\n",
       " 'Arabic world',\n",
       " 'Portugal',\n",
       " 'Central Europe',\n",
       " 'MENA',\n",
       " 'Chinese world',\n",
       " 'Korea',\n",
       " 'world',\n",
       " 'Greek Latin',\n",
       " 'Spain']"
      ]
     },
     "execution_count": 53,
     "metadata": {},
     "output_type": "execute_result"
    }
   ],
   "source": [
    "list(set(df_cultura['region_name']))"
   ]
  },
  {
   "cell_type": "code",
   "execution_count": null,
   "metadata": {},
   "outputs": [],
   "source": []
  }
 ],
 "metadata": {
  "kernelspec": {
   "display_name": ".venv",
   "language": "python",
   "name": "python3"
  },
  "language_info": {
   "codemirror_mode": {
    "name": "ipython",
    "version": 3
   },
   "file_extension": ".py",
   "mimetype": "text/x-python",
   "name": "python",
   "nbconvert_exporter": "python",
   "pygments_lexer": "ipython3",
   "version": "3.11.7"
  }
 },
 "nbformat": 4,
 "nbformat_minor": 2
}
