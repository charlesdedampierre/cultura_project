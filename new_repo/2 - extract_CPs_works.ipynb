{
   "cells": [
      {
         "cell_type": "code",
         "execution_count": 39,
         "metadata": {},
         "outputs": [
            {
               "name": "stdout",
               "output_type": "stream",
               "text": [
                  "Unique individuals: 172951\n"
               ]
            }
         ],
         "source": [
            "import pandas as pd\n",
            "from dotenv import load_dotenv\n",
            "import os\n",
            "import sqlite3\n",
            "\n",
            "# Load environment variables\n",
            "load_dotenv()\n",
            "\n",
            "# Define paths\n",
            "DATA_PATH = \"db_extract\"\n",
            "DB_PATH = os.getenv(\"DB_PATH\")\n",
            "\n",
            "# Connect to the database\n",
            "conn = sqlite3.connect(DB_PATH)\n",
            "\n",
            "# Ensure the data path exists\n",
            "if not os.path.exists(DATA_PATH):\n",
            "    os.makedirs(DATA_PATH)\n",
            "\n",
            "# Load and process the individuals' data\n",
            "df = pd.read_csv(f\"{DATA_PATH}/df_individuals_score.csv\", index_col=[0])\n",
            "print(f\"Unique individuals: {len(set(df.individual_wikidata_id))}\")"
         ]
      },
      {
         "cell_type": "markdown",
         "metadata": {},
         "source": [
            "### Load individuals with works"
         ]
      },
      {
         "cell_type": "code",
         "execution_count": null,
         "metadata": {},
         "outputs": [],
         "source": [
            "# Load works of individuals and process data\n",
            "\n",
            "# Load works data\n",
            "df_ind_works = pd.read_sql_query(\"SELECT * FROM individual_created_work\", conn)\n",
            "\n",
            "# Count works per individual\n",
            "df_count_work = df_ind_works.groupby(\"individual_wikidata_id\")[\"work_wikidata_id\"].count().rename(\"count_works\").reset_index()\n",
            "\n",
            "# Merge with original data and clean up\n",
            "df_final = pd.merge(df, df_count_work, on=\"individual_wikidata_id\", how=\"left\").fillna(0).drop('productive_year', axis=1)\n",
            "\n",
            "# Save the final data\n",
            "df_final.to_csv(DATA_PATH + \"/df_indi_works.csv\")"
         ]
      },
      {
         "cell_type": "code",
         "execution_count": 46,
         "metadata": {},
         "outputs": [
            {
               "name": "stdout",
               "output_type": "stream",
               "text": [
                  "172951\n"
               ]
            }
         ],
         "source": [
            "print(len(set(df_final.individual_wikidata_id)))"
         ]
      },
      {
         "cell_type": "code",
         "execution_count": 53,
         "metadata": {},
         "outputs": [
            {
               "data": {
                  "text/plain": [
                     "1102"
                  ]
               },
               "execution_count": 53,
               "metadata": {},
               "output_type": "execute_result"
            }
         ],
         "source": [
            "# Filter and count individuals with 0 or 1 work\n",
            "filtered_individuals = len(set(df_final[df_final['count_works'].isin([0,1])].individual_wikidata_id))\n",
            "\n",
            "# Load gender data and merge\n",
            "df_gender = pd.read_sql_query(\"SELECT * FROM individual_gender\", conn)\n",
            "df_final_gender = pd.merge(df_gender[['individual_wikidata_id', 'gender']], df_final, on='individual_wikidata_id')\n",
            "df_final_gender.to_csv(DATA_PATH + \"/df_indi_works_gender.csv\")\n"
         ]
      },
      {
         "cell_type": "code",
         "execution_count": null,
         "metadata": {},
         "outputs": [],
         "source": [
            "\n",
            "# Load occupations data and process\n",
            "df_occupations = pd.read_sql_query(\"SELECT * FROM individual_occupations\", conn)\n",
            "len(set(df_occupations.occupations_name))"
         ]
      },
      {
         "cell_type": "code",
         "execution_count": 47,
         "metadata": {},
         "outputs": [],
         "source": [
            "# Define occupation categories\n",
            "occupation_categories = {\n",
            "    'painter': 'Painter',\n",
            "    'poet': 'Writer',\n",
            "    'composer': 'Musician',\n",
            "    'historian': 'Writer',\n",
            "    'theologian': 'Writer',\n",
            "    'architect': 'Architect',\n",
            "    'sculptor': 'Sculptor',\n",
            "    'translator': 'Writer',\n",
            "    'botanist': 'Writer',\n",
            "    'philosopher': 'Writer',\n",
            "    'drawer': 'Painter',\n",
            "    'mathematician': 'Writer',\n",
            "    'engraver': 'Sculptor',\n",
            "    'playwright': 'Performing Artist',\n",
            "    'singer': 'Musician',\n",
            "    'musician': 'Musician',\n",
            "    'chemist': 'Writer',\n",
            "    'linguist': 'Writer',\n",
            "    'organist': 'Musician',\n",
            "    'astronomer': 'Writer',\n",
            "    'entomologist': 'Writer',\n",
            "    'editor': 'Writer',\n",
            "    'philologist': 'Writer',\n",
            "    'stage actor': 'Performing Artist',\n",
            "    'archaeologist': 'Writer',\n",
            "    'naturalist': 'Writer',\n",
            "    'printmaker': 'Painter',\n",
            "    'physicist': 'Writer',\n",
            "    'opera singer': 'Musician',\n",
            "    'novelist': 'Writer',\n",
            "    'conductor': 'Musician',\n",
            "    'classical philologist': 'Writer',\n",
            "    'cartographer': 'Writer',\n",
            "    'pianist': 'Musician',\n",
            "    'economist': 'Writer',\n",
            "    'copperplate engraver': 'Sculptor',\n",
            "    'illustrator': 'Painter',\n",
            "    'geologist': 'Writer',\n",
            "    'zoologist': 'Writer',\n",
            "    'scientific illustrator': 'Painter',\n",
            "    'scientist': 'Writer',\n",
            "    'geographer': 'Writer',\n",
            "    'art historian': 'Painter',\n",
            "    'violinist': 'Musician'\n",
            "}\n",
            "\n",
            "df_occupations['occupation'] = df_occupations['occupations_name'].apply(lambda x: occupation_categories.get(x, None))\n",
            "df_occupations = df_occupations.dropna()\n",
            "\n",
            "df_unique_occupations = df_occupations[['individual_wikidata_id', 'occupation']].drop_duplicates()\n",
            "df_unique_occupations = df_unique_occupations.sample(frac=1, random_state=42).reset_index(drop=True)\n",
            "df_unique_occupations = df_unique_occupations.drop_duplicates('individual_wikidata_id', keep = 'first')\n",
            "\n",
            "df_final_occupation = pd.merge(df_final, df_unique_occupations, on = 'individual_wikidata_id')\n",
            "df_final_occupation = df_final_occupation[['individual_wikidata_id', 'decade', 'region_name', 'count_works', 'occupation']].drop_duplicates()\n",
            "df_final_occupation.to_csv(DATA_PATH + \"/df_indi_works_occupations.csv\")"
         ]
      },
      {
         "cell_type": "code",
         "execution_count": 48,
         "metadata": {},
         "outputs": [
            {
               "data": {
                  "text/plain": [
                     "139206"
                  ]
               },
               "execution_count": 48,
               "metadata": {},
               "output_type": "execute_result"
            }
         ],
         "source": [
            "# Count the number of unique individual Wikidata IDs in the final occupation dataframe\n",
            "unique_individuals = df_final_occupation['individual_wikidata_id'].nunique()\n",
            "unique_individuals"
         ]
      },
      {
         "cell_type": "code",
         "execution_count": 50,
         "metadata": {},
         "outputs": [
            {
               "data": {
                  "text/plain": [
                     "occupation\n",
                     "Writer               103061\n",
                     "Painter               53245\n",
                     "Musician              29267\n",
                     "Sculptor              13925\n",
                     "Architect             11599\n",
                     "Performing Artist      5736\n",
                     "Name: count, dtype: int64"
                  ]
               },
               "execution_count": 50,
               "metadata": {},
               "output_type": "execute_result"
            }
         ],
         "source": [
            "df_occupations.occupation.value_counts()\n"
         ]
      }
   ],
   "metadata": {
      "kernelspec": {
         "display_name": ".venv",
         "language": "python",
         "name": "python3"
      },
      "language_info": {
         "codemirror_mode": {
            "name": "ipython",
            "version": 3
         },
         "file_extension": ".py",
         "mimetype": "text/x-python",
         "name": "python",
         "nbconvert_exporter": "python",
         "pygments_lexer": "ipython3",
         "version": "3.11.7"
      }
   },
   "nbformat": 4,
   "nbformat_minor": 2
}
