{
 "cells": [
  {
   "cell_type": "code",
   "execution_count": 356,
   "id": "a29490f5-b277-44fa-983b-9f96bd9ecae0",
   "metadata": {
    "scrolled": true
   },
   "outputs": [],
   "source": [
    "import sqlite3\n",
    "import pandas as pd\n",
    "\n",
    "\n",
    "conn = sqlite3.connect('../cultura_1.db')\n",
    "cursor = conn.cursor()\n",
    "\n",
    "df_object = pd.read_sql_query(\"SELECT * FROM individual_created_work\", conn)\n",
    "df_instance = pd.read_sql_query(\"SELECT * FROM created_work\", conn)\n",
    "df_ind_object = pd.merge(df_object, df_instance, on = ['work_wikidata_id', 'work_name'], how = 'left')"
   ]
  },
  {
   "cell_type": "code",
   "execution_count": 437,
   "id": "a9887376-22f3-4cc0-8059-9ad0dc6b4196",
   "metadata": {},
   "outputs": [],
   "source": [
    "df_individual = pd.read_sql_query(\"SELECT * FROM individuals_main_information\", conn)\n",
    "df_individual = df_individual[['individual_wikidata_id', 'birthyear']]\n",
    "\n",
    "df_individual_region = pd.read_sql_query(\"SELECT * FROM individuals_regions\", conn)\n",
    "df_individual_region = df_individual_region[['individual_wikidata_id', 'region_name']].drop_duplicates()\n",
    "\n",
    "df_meta = pd.merge(df_individual, df_individual_region, on = 'individual_wikidata_id')\n",
    "df_meta['productive_year'] = df_meta['birthyear'] + 35"
   ]
  },
  {
   "cell_type": "code",
   "execution_count": 358,
   "id": "0a10afa2-2094-44f9-96ef-d078846898e8",
   "metadata": {},
   "outputs": [],
   "source": [
    "df = pd.merge(df_ind_object, df_meta, on = 'individual_wikidata_id')"
   ]
  },
  {
   "cell_type": "code",
   "execution_count": 359,
   "id": "aa09d38c-273e-4d4b-89ce-8210dba60367",
   "metadata": {},
   "outputs": [],
   "source": [
    "# 373473 objects with a date and a country"
   ]
  },
  {
   "cell_type": "code",
   "execution_count": 360,
   "id": "f411e905-035f-4e89-9abe-88271562af91",
   "metadata": {},
   "outputs": [],
   "source": [
    "df['year'] = df.apply(lambda row: row['creation_year'] if row['creation_year'] is not None else row['productive_year'], axis=1)\n",
    "df = df.dropna(subset= 'year')\n",
    "df['decade'] = df['year'].apply(lambda x : int(x/10)*10)"
   ]
  },
  {
   "cell_type": "code",
   "execution_count": 366,
   "id": "137950e0-cb9e-4c6f-9784-fe1430add9bf",
   "metadata": {},
   "outputs": [],
   "source": [
    "df_trend = df[['work_wikidata_id', 'region_name', 'decade', 'work_category']].drop_duplicates()\n",
    "df_trend = df_trend.groupby(['work_category', 'region_name', 'decade'])['work_wikidata_id'].count().rename('score').reset_index()\n",
    "df_trend = df_trend[df_trend['decade']<=1850].reset_index(drop=True)"
   ]
  },
  {
   "cell_type": "code",
   "execution_count": null,
   "id": "55dfcf8a-ff37-448b-b98f-a637e0f42121",
   "metadata": {},
   "outputs": [],
   "source": []
  },
  {
   "cell_type": "code",
   "execution_count": 369,
   "id": "e5888c64-59d6-4384-9ebf-1ec25aa35370",
   "metadata": {},
   "outputs": [],
   "source": [
    "df_trend.to_csv('data_to_r/df_trend_objects_categories.csv')"
   ]
  },
  {
   "cell_type": "code",
   "execution_count": 334,
   "id": "ac4ec381-65a2-489a-833b-ff17cb18fab3",
   "metadata": {},
   "outputs": [
    {
     "data": {
      "text/plain": [
       "373473"
      ]
     },
     "execution_count": 334,
     "metadata": {},
     "output_type": "execute_result"
    }
   ],
   "source": [
    "len(set(df.work_wikidata_id))"
   ]
  },
  {
   "cell_type": "code",
   "execution_count": 335,
   "id": "e1bc26ea-9e96-4508-baa9-c51dae3de1b9",
   "metadata": {},
   "outputs": [],
   "source": [
    "# if not the year, then get the pic year of the individual (birthyear + 35)"
   ]
  },
  {
   "cell_type": "code",
   "execution_count": 372,
   "id": "6422253c-c5ff-494a-8cf1-81c67358552d",
   "metadata": {},
   "outputs": [
    {
     "data": {
      "text/plain": [
       "'\\ndf_clean = df_clean_categories.groupby([\\'instance_label\\', \\'super_instance_label\\'])[\\'work_wikidata_id\\'].count().rename(\\'count_all\\').reset_index()\\ndf_clean = df_clean.groupby(\\'instance_label\\').agg({\\'super_instance_label\\': lambda x: \" | \".join(list(x)), \\'count_all\\': \\'sum\\'}).reset_index()\\ndf_clean = df_clean.sort_values(\\'count_all\\', ascending=False).reset_index(drop=True)\\ndf_clean.to_clipboard(index=False)\\n'"
      ]
     },
     "execution_count": 372,
     "metadata": {},
     "output_type": "execute_result"
    }
   ],
   "source": [
    "#df_clean_categories = df_instance[df_instance['work_wikidata_id'].isin(list(set(df.work_wikidata_id)))]\n",
    "#df_clean_categories['super_instance_label'][df_clean_categories['super_instance_label'].isna()] = ''\n",
    "#df_clean_categories['instance_label'][df_clean_categories['instance_label'].isna()] = ''\n",
    "#df_clean_categories = df_clean_categories.drop(['work_name', 'inception', 'publication_date'], axis=1).drop_duplicates()\n",
    "\n",
    "\n",
    "\"\"\"\n",
    "df_clean = df_clean_categories.groupby(['instance_label', 'super_instance_label'])['work_wikidata_id'].count().rename('count_all').reset_index()\n",
    "df_clean = df_clean.groupby('instance_label').agg({'super_instance_label': lambda x: \" | \".join(list(x)), 'count_all': 'sum'}).reset_index()\n",
    "df_clean = df_clean.sort_values('count_all', ascending=False).reset_index(drop=True)\n",
    "df_clean.to_clipboard(index=False)\n",
    "\"\"\""
   ]
  },
  {
   "cell_type": "code",
   "execution_count": 375,
   "id": "08f7354a-7346-43b6-b808-c6e4a6ccbbdb",
   "metadata": {},
   "outputs": [],
   "source": [
    "import plotly.express as px"
   ]
  },
  {
   "cell_type": "code",
   "execution_count": 400,
   "id": "8a059e76-4c4b-451e-ad50-a6f5e87761d4",
   "metadata": {},
   "outputs": [
    {
     "data": {
      "text/plain": [
       "{'Arabic world',\n",
       " 'Austria',\n",
       " 'Balkans',\n",
       " 'Belgium',\n",
       " 'British Islands',\n",
       " 'Central Europe',\n",
       " 'Chinese world',\n",
       " 'Denmark',\n",
       " 'Eastern Europe',\n",
       " 'Finland',\n",
       " 'France',\n",
       " 'German world',\n",
       " 'Germany',\n",
       " 'Greece',\n",
       " 'Greek World',\n",
       " 'Iceland',\n",
       " 'Indian world',\n",
       " 'Ireland',\n",
       " 'Italy',\n",
       " 'Japan',\n",
       " 'Korea',\n",
       " 'Latin World',\n",
       " 'Low countries',\n",
       " 'Muslim world',\n",
       " 'Netherlands',\n",
       " 'Nordic countries',\n",
       " 'Northern China',\n",
       " 'Northern France',\n",
       " 'Northern India',\n",
       " 'Northern Italy',\n",
       " 'Northern Japan',\n",
       " 'Northwestern Europe',\n",
       " 'Norway',\n",
       " 'Ottoman Turkey',\n",
       " 'Ottoman world',\n",
       " 'Persian world',\n",
       " 'Portugal',\n",
       " 'Slav world',\n",
       " 'South East Asia',\n",
       " 'Southern China',\n",
       " 'Southern France',\n",
       " 'Southern India',\n",
       " 'Southern Italy',\n",
       " 'Southern Japan',\n",
       " 'Southwestern Europe',\n",
       " 'Spain',\n",
       " 'Sweden',\n",
       " 'Switzerland',\n",
       " 'United Kingdom',\n",
       " 'Western Europe',\n",
       " 'Yangtze',\n",
       " 'mediterranean World'}"
      ]
     },
     "execution_count": 400,
     "metadata": {},
     "output_type": "execute_result"
    }
   ],
   "source": [
    "set(df_trend.region_name)"
   ]
  },
  {
   "cell_type": "code",
   "execution_count": null,
   "id": "f3c44718-dc7b-4fdf-aa2d-ebcc857da634",
   "metadata": {},
   "outputs": [],
   "source": []
  },
  {
   "cell_type": "code",
   "execution_count": 383,
   "id": "735201aa-f1a9-4e7b-a3b8-a5187cbcee10",
   "metadata": {},
   "outputs": [],
   "source": [
    "def make_figure(df, region_name = 'Low countries', min_decade = 1200, max_decade = 1800,  work_category = ['musical work/composition']):\n",
    "\n",
    "    df_fig = df[df['region_name']==region_name]\n",
    "    df_fig = df_fig[df_fig['decade']<=max_decade]\n",
    "    df_fig = df_fig[df_fig['decade']>=min_decade]\n",
    "    #df_fig = df_fig[df_fig['instance_label'].isin(category)]\n",
    "\n",
    "    #top_ids = df_fig.groupby(['instance_label'])['score'].sum().reset_index().sort_values('score', ascending=False)\n",
    "\n",
    "    #top_ids = top_ids[top_ids['identifier_name']!='all_identifiers']\n",
    "    #top_ids = list(top_ids['instance_label'][:10])\n",
    "    #df_fig = df_fig[df_fig['instance_label'].isin(top_ids)]\n",
    "    \n",
    "    #df_fig['score'] = df_fig.groupby('work_category')['score'].transform(lambda x: (x - x.min()) / (x.max() - x.min()) * 9 + 1)\n",
    "    \n",
    "    fig = px.line(df_fig, x = 'decade', y = 'score', color = 'work_category',\n",
    "                  width = 1200, \n",
    "                  height = 600, \n",
    "                  title = region_name, \n",
    "                  template = 'simple_white')\n",
    "                  #line_shape='spline')\n",
    "    \n",
    "    fig.update_layout(legend=dict(title=dict(text='Identifiers Continent')))\n",
    "    fig.update_layout(xaxis=dict(dtick=100))\n",
    "    fig.update_layout(xaxis_title='', yaxis_title='Normalised Score')\n",
    "    \n",
    "    return fig"
   ]
  },
  {
   "cell_type": "code",
   "execution_count": 407,
   "id": "772657d2-ceca-4a4f-9848-e22f12f17f5e",
   "metadata": {},
   "outputs": [],
   "source": [
    "fig = make_figure(df_trend, region_name = 'Korea', min_decade = 600, max_decade = 1800,  work_category = ['musical work/composition'])"
   ]
  },
  {
   "cell_type": "code",
   "execution_count": null,
   "id": "612e87fa-f42d-42cb-82c3-741bea3797b0",
   "metadata": {},
   "outputs": [],
   "source": []
  },
  {
   "cell_type": "code",
   "execution_count": 471,
   "id": "68c0be79-2f3e-4ab0-9ee0-317a10fbefb8",
   "metadata": {},
   "outputs": [],
   "source": [
    "df_count_work = df[['individual_wikidata_id', 'individual_name', 'work_wikidata_id']].drop_duplicates()\n",
    "df_count_work = df_count_work.groupby(['individual_wikidata_id', 'individual_name'])['work_wikidata_id'].count().rename('count_works').reset_index()\n",
    "\n",
    "df_individual = pd.read_sql_query(\"SELECT * FROM individuals_main_information\", conn)\n",
    "df_individual = df_individual[['individual_wikidata_id','individual_name', 'birthyear']]\n",
    "\n",
    "df_count_work = pd.merge(df_count_work, df_individual, on = ['individual_wikidata_id', 'individual_name'], how = 'outer')\n",
    "df_count_work = df_count_work.sort_values('count_works', ascending=False).reset_index(drop=True)\n",
    "df_count_work['count_works'] = df_count_work['count_works'].fillna(0)\n",
    "\n",
    "\n",
    "df_individual_region_group = df_individual_region.groupby('individual_wikidata_id')['region_name'].apply(lambda x : ' | '.join(x))\n",
    "df_count_work = pd.merge(df_count_work, df_individual_region_group, on = ['individual_wikidata_id'])\n",
    "df_count_work = df_count_work.drop_duplicates('individual_wikidata_id', keep = 'first')"
   ]
  },
  {
   "cell_type": "code",
   "execution_count": null,
   "id": "24ece229-ed87-40c3-a2c6-c66b8e68da00",
   "metadata": {},
   "outputs": [],
   "source": []
  },
  {
   "cell_type": "code",
   "execution_count": null,
   "id": "c303150e-d834-4287-b4e7-967649e97a00",
   "metadata": {},
   "outputs": [],
   "source": []
  },
  {
   "cell_type": "code",
   "execution_count": 470,
   "id": "2a9efe72-8bca-445f-9106-a270d14aa2b8",
   "metadata": {},
   "outputs": [],
   "source": []
  },
  {
   "cell_type": "code",
   "execution_count": null,
   "id": "09c73c3c-7ed1-4041-b0d3-01b493e720a4",
   "metadata": {},
   "outputs": [],
   "source": []
  },
  {
   "cell_type": "code",
   "execution_count": null,
   "id": "d3fea81c-9b29-461c-bf36-c4e4faa39f05",
   "metadata": {},
   "outputs": [],
   "source": []
  },
  {
   "cell_type": "code",
   "execution_count": null,
   "id": "aab138d6-f211-4929-a407-68e65847ea60",
   "metadata": {},
   "outputs": [],
   "source": []
  },
  {
   "cell_type": "code",
   "execution_count": null,
   "id": "9bec5abe-0aad-48c6-b6e7-cefd63dff586",
   "metadata": {},
   "outputs": [],
   "source": []
  },
  {
   "cell_type": "code",
   "execution_count": null,
   "id": "609ad66d-050f-4cd1-869a-59d9769dbab7",
   "metadata": {},
   "outputs": [],
   "source": []
  },
  {
   "cell_type": "code",
   "execution_count": null,
   "id": "7815e092-6f92-43c0-800a-60c2c352f668",
   "metadata": {},
   "outputs": [],
   "source": []
  },
  {
   "cell_type": "code",
   "execution_count": null,
   "id": "7b947e41-846b-41f7-b1f7-86010a3d1b53",
   "metadata": {},
   "outputs": [],
   "source": []
  },
  {
   "cell_type": "code",
   "execution_count": null,
   "id": "36a8fb1f-4aad-423a-bb13-66899b65eb6f",
   "metadata": {},
   "outputs": [],
   "source": []
  },
  {
   "cell_type": "code",
   "execution_count": null,
   "id": "074ebef2-bc83-46bc-9bd5-9f0f3b4e72da",
   "metadata": {},
   "outputs": [],
   "source": []
  },
  {
   "cell_type": "code",
   "execution_count": null,
   "id": "314735dc-a59b-49ad-8733-a4697bae92d6",
   "metadata": {},
   "outputs": [],
   "source": []
  }
 ],
 "metadata": {
  "kernelspec": {
   "display_name": "Python 3 (ipykernel)",
   "language": "python",
   "name": "python3"
  },
  "language_info": {
   "codemirror_mode": {
    "name": "ipython",
    "version": 3
   },
   "file_extension": ".py",
   "mimetype": "text/x-python",
   "name": "python",
   "nbconvert_exporter": "python",
   "pygments_lexer": "ipython3",
   "version": "3.8.16"
  }
 },
 "nbformat": 4,
 "nbformat_minor": 5
}
