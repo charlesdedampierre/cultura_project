{
 "cells": [
  {
   "cell_type": "code",
   "execution_count": 1,
   "id": "b12c59d8-4f86-4f1f-ad88-e76ada4deb0e",
   "metadata": {},
   "outputs": [],
   "source": [
    "import pandas as pd\n",
    "import numpy as np\n",
    "import glob\n",
    "\n",
    "\n",
    "from tqdm import tqdm\n",
    "\n",
    "import sys\n",
    "from tqdm import tqdm\n",
    "\n",
    "import warnings\n",
    "warnings.simplefilter(action='ignore', category=FutureWarning)\n",
    "\n",
    "import pandas as pd\n",
    "import numpy as np\n",
    "\n",
    "import itertools\n",
    "\n",
    "sys.path.append('../')\n",
    "\n",
    "from sys_utils import load_model\n",
    "from data_model_region import Region\n",
    "from data_model import Individual\n",
    "import typing as t\n",
    "import random\n",
    "from tqdm import tqdm\n",
    "from bunka_logger import logger"
   ]
  },
  {
   "cell_type": "code",
   "execution_count": 2,
   "id": "6d196bca-c849-4d68-8a46-c8cc61873608",
   "metadata": {},
   "outputs": [],
   "source": [
    "checkpoint_path = '../checkpoints_dev'\n"
   ]
  },
  {
   "cell_type": "code",
   "execution_count": 3,
   "id": "07696763-dfff-46b6-8bd0-65e9956f8a7e",
   "metadata": {},
   "outputs": [],
   "source": [
    "individuals_test = load_model(\n",
    "        Individual, name=checkpoint_path + \"/individuals_corrected.jsonl\"\n",
    "    )"
   ]
  },
  {
   "cell_type": "code",
   "execution_count": null,
   "id": "afbb9c7d-a0fa-4e93-905d-ecc658c86d87",
   "metadata": {},
   "outputs": [],
   "source": []
  },
  {
   "cell_type": "code",
   "execution_count": null,
   "id": "f97b6f07-55dc-4d2f-8f42-8d1e3986408b",
   "metadata": {},
   "outputs": [],
   "source": []
  },
  {
   "cell_type": "code",
   "execution_count": null,
   "id": "e425e1f2-8f47-4674-8b53-57dd090a867f",
   "metadata": {},
   "outputs": [],
   "source": []
  },
  {
   "cell_type": "code",
   "execution_count": null,
   "id": "bb52931a-a27e-488b-82a0-927784efd336",
   "metadata": {},
   "outputs": [],
   "source": []
  },
  {
   "cell_type": "code",
   "execution_count": 110,
   "id": "1a433a5c-7103-41c1-bffc-c9a40d8cdb4e",
   "metadata": {},
   "outputs": [],
   "source": [
    "checkpoint_path = '../checkpoints_dev'\n",
    "\n",
    "regions = load_model(\n",
    "        Region, name=checkpoint_path+\"/regions.jsonl\"\n",
    "    )\n",
    "\n",
    "individuals = load_model(\n",
    "        Individual, name=checkpoint_path + \"/individuals.jsonl\"\n",
    "    )"
   ]
  },
  {
   "cell_type": "code",
   "execution_count": null,
   "id": "c47bd22a-a6ab-4dca-b4c4-c113fd7e1b13",
   "metadata": {},
   "outputs": [],
   "source": []
  },
  {
   "cell_type": "code",
   "execution_count": null,
   "id": "99fff67b-c578-4717-88f7-f879cc724725",
   "metadata": {},
   "outputs": [],
   "source": []
  },
  {
   "cell_type": "code",
   "execution_count": null,
   "id": "41f6389a-cd8c-4071-a1e3-160ef7e89d52",
   "metadata": {},
   "outputs": [],
   "source": []
  },
  {
   "cell_type": "code",
   "execution_count": 489,
   "id": "d52bd787-0ded-417a-8080-b058d42704bb",
   "metadata": {},
   "outputs": [],
   "source": []
  },
  {
   "cell_type": "code",
   "execution_count": 8,
   "id": "f5daa81d-c541-4b05-a5b8-32ebf058e58d",
   "metadata": {},
   "outputs": [
    {
     "data": {
      "text/plain": [
       "['re_south_italy',\n",
       " 're_greek_world',\n",
       " 're_mediterreanean',\n",
       " 're_western_europe',\n",
       " 're_southwestern_europe',\n",
       " 're_italy']"
      ]
     },
     "execution_count": 8,
     "metadata": {},
     "output_type": "execute_result"
    }
   ],
   "source": [
    "ind = [x for x in individuals if x.id.wikidata_id == 'Q7263938']\n",
    "\n",
    "ind[0].regions"
   ]
  },
  {
   "cell_type": "code",
   "execution_count": 500,
   "id": "990e5d28-5810-4b77-810d-4d2e21f89b13",
   "metadata": {},
   "outputs": [
    {
     "data": {
      "text/plain": [
       "'Python of Catana'"
      ]
     },
     "execution_count": 500,
     "metadata": {},
     "output_type": "execute_result"
    }
   ],
   "source": [
    "ind[0].id.name"
   ]
  },
  {
   "cell_type": "code",
   "execution_count": 9,
   "id": "5a128c1b-fa41-48e2-a299-4d1764bddffa",
   "metadata": {},
   "outputs": [],
   "source": [
    "adapted_country = {'Arab Countries':['re_arabic_world', 're_muslim_world'],\n",
    " 'Arab World':['re_arabic_world', 're_muslim_world'],\n",
    " 'Armenian':['re_arabic_world', 're_muslim_world'],\n",
    " 'Danish':['re_nordic_countries', 're_western_europe', 're_northwestern_europe', 're_denmark'],\n",
    " 'English':['re_united_kingdom', 're_western_europe', 're_northwestern_europe'],\n",
    " 'French':['re_france', 're_western_europe', 're_southwestern_europe'],\n",
    " 'Greek ':['re_greek_world', 're_greece'],\n",
    " 'Greek World':['re_greek_world', 're_greece'],\n",
    " 'Indian Countries':['re_indian_world'],\n",
    " 'Italy': ['re_italy', 're_western_europe', 're_southwestern_europe'],\n",
    " 'Latin World':['re_latin'],\n",
    " 'Low Countries':['re_low_countries', 're_western_europe', 're_northwestern_europe'],\n",
    " 'Persian World':['re_persian_world'],\n",
    " 'Portugal':['re_portugal', 're_western_europe', 're_southwestern_europe'],\n",
    " 'Russian':['re_eastern_europe', 're_slav_world'],\n",
    " 'Russsian':['re_eastern_europe', 're_slav_world'],\n",
    " 'Spain':['re_spain','re_western_europe', 're_southwestern_europe'],\n",
    " 'Spanish':['re_spain','re_western_europe', 're_southwestern_europe'],\n",
    " 'Suisse':['re_german_world', 're_western_europe', 're_northwestern_europe', 're_switzerland'],\n",
    " 'Turkish World':['re_greek_world', 're_ottoman_turkey'],\n",
    " 'UK':['re_united_kingdom', 're_western_europe', 're_northwestern_europe']}\n"
   ]
  },
  {
   "cell_type": "code",
   "execution_count": null,
   "id": "a672447c-7cc6-4d0f-9171-bfe4ab7c61ee",
   "metadata": {},
   "outputs": [],
   "source": []
  },
  {
   "cell_type": "code",
   "execution_count": 11,
   "id": "98c690e9-ed27-451c-86b1-2bd34d0a7eb9",
   "metadata": {},
   "outputs": [],
   "source": [
    "def manual_cleaning_of_individuals(env_path = '../data_env'):\n",
    "    \n",
    "    paths = glob.glob(env_path + '/manual_individuals_check/*')\n",
    "\n",
    "    list_df = [pd.read_csv(x) for x in paths]\n",
    "    df_old = pd.concat([x for x in list_df])\n",
    "    df_old = df_old.reset_index(drop=True)\n",
    "\n",
    "    df_old = df_old[['individual_id', 'meta_country', 'productive_year']].drop_duplicates()\n",
    "    df_old['birthyear'] = df_old['productive_year'] - 35\n",
    "    df_old = df_old.dropna().reset_index(drop=True)\n",
    "\n",
    "    df_old['region_code_corrected'] = df_old['meta_country'].apply(lambda x : adapted_country.get(x))\n",
    "    df_old = df_old.rename(columns = {'individual_id':'wikidata_id'})\n",
    "    df_old = df_old.drop('meta_country', axis=1)\n",
    "\n",
    "    #df_new = pd.merge(df_old, df_check, on = 'wikidata_id', how = 'outer')\n",
    "    #df_new = df_new[~df_new['region_code_corrected'].isna()]\n",
    "\n",
    "    df_final = df_old[['wikidata_id', 'region_code_corrected']].copy()\n",
    "    df_final = df_final.explode('region_code_corrected')\n",
    "    df_final = df_final.drop_duplicates().reset_index(drop=True)\n",
    "    \n",
    "    return df_final"
   ]
  },
  {
   "cell_type": "code",
   "execution_count": 12,
   "id": "c4889d99-6bef-46f5-9a14-75d6f21ea8a1",
   "metadata": {},
   "outputs": [],
   "source": [
    "df_wiki_new_region = manual_cleaning_of_individuals()"
   ]
  },
  {
   "cell_type": "code",
   "execution_count": 15,
   "id": "73a343f3-38bc-4234-9b21-0c1cf58519c0",
   "metadata": {},
   "outputs": [],
   "source": [
    "def modify_existing_data(df_wiki_new_region, df_wiki):\n",
    "    \n",
    "    # Merge the dataframes on the 'wikidata_id' column\n",
    "    merged_df = pd.merge(df_wiki, df_wiki_new_region, on='wikidata_id', how='left')\n",
    "    merged_df = merged_df.drop_duplicates()\n",
    "\n",
    "    # Update the 'region_code' column based on the values in 'region_code_corrected'\n",
    "    merged_df.loc[merged_df['region_code_corrected'].notnull(), 'region_code'] = merged_df['region_code_corrected']\n",
    "    merged_df = merged_df.drop('region_code_corrected', axis=1)\n",
    "    merged_df = merged_df.drop_duplicates()\n",
    "    \n",
    "    return merged_df"
   ]
  },
  {
   "cell_type": "code",
   "execution_count": 440,
   "id": "5609deb6-fa38-4813-98d8-4c1002ff58bb",
   "metadata": {},
   "outputs": [],
   "source": []
  },
  {
   "cell_type": "code",
   "execution_count": 164,
   "id": "eb3df5e9-4429-4573-9fae-0443898eec4b",
   "metadata": {},
   "outputs": [],
   "source": [
    "def pipeline_manual_cleaning_region_global(individuals:t.List[Individual], env_path: str)->t.List[Individual]:\n",
    "    \n",
    "\n",
    "    # Get Exisiting Data\n",
    "    df_wiki = [\n",
    "        {\n",
    "            \"wikidata_id\": x.id.wikidata_id,\n",
    "            \"region_code\": x.regions\n",
    "        }\n",
    "        for x in individuals\n",
    "    ]\n",
    "\n",
    "    df_wiki = pd.DataFrame(df_wiki)\n",
    "    df_wiki = df_wiki.explode('region_code')\n",
    "    \n",
    "    # Get new data\n",
    "    df_wiki_new_region = manual_cleaning_of_individuals(env_path)\n",
    "    \n",
    "    # Merge exisitng and new Data and modify the region_name\n",
    "    merged_df = modify_existing_data(df_wiki_new_region, df_wiki)\n",
    "    merged_df = merged_df.groupby(['wikidata_id'])['region_code'].apply(list).reset_index()\n",
    "    \n",
    "\n",
    "    # Add manual cleaning \n",
    "    manual_cleaning = pd.read_csv(env_path + '/manual_individuals_check/ENS - Cultural Index - Countries Databases - individuals_cleaned.csv')\n",
    "\n",
    "    manual_cleaning = manual_cleaning[['wikidata_id', 'region_code_corrected']]\n",
    "    manual_cleaning['region_code_corrected'] = manual_cleaning['region_code_corrected'].apply(lambda x : x.split(','))\n",
    "\n",
    "    merged_df = pd.merge(merged_df, manual_cleaning, on = 'wikidata_id', how = 'outer')\n",
    "    merged_df.loc[merged_df['region_code_corrected'].notnull(), 'region_code'] = merged_df['region_code_corrected']\n",
    "    merged_df = merged_df.drop('region_code_corrected', axis=1)\n",
    "    \n",
    "    \n",
    "    # Fix the format of [None]\n",
    "    df_all_ids = merged_df[['wikidata_id']].copy()\n",
    "    df_change_none = merged_df.explode('region_code')\n",
    "    df_change_none['region_code'][df_change_none['region_code']=='None'] = np.nan\n",
    "    df_change_none = df_change_none.dropna()\n",
    "    df_change_none = df_change_none.groupby('wikidata_id')['region_code'].apply(list).reset_index()\n",
    "\n",
    "    merged_df = pd.merge(df_all_ids, df_change_none, on = 'wikidata_id', how = 'outer')\n",
    "\n",
    "\n",
    "\n",
    "    # create a format to insert into the Indiviudal Model\n",
    "    id_regions = {x['wikidata_id']:x['region_code'] for x in merged_df.to_dict(orient='records')}\n",
    "\n",
    "    logger.info(\"Replacing region_code for corrected individuals\")\n",
    "    \n",
    "    for ind in tqdm(individuals):\n",
    "        region = id_regions.get(ind.id.wikidata_id, None)\n",
    "        \n",
    "        if isinstance(region, list):\n",
    "            ind.regions = region     \n",
    "        else:\n",
    "            ind.regions = None\n",
    "        \n",
    "    return individuals"
   ]
  },
  {
   "cell_type": "code",
   "execution_count": 165,
   "id": "8e668c65-af54-48b0-9a30-7535d6d008d5",
   "metadata": {},
   "outputs": [
    {
     "name": "stderr",
     "output_type": "stream",
     "text": [
      "\u001b[1mINFO      \u001b[0m|\u001b[33m2023-04-07 17:09:37\u001b[0m|\u001b[35m{}\u001b[0m|\u001b[34mpipeline_manual_cleaning_region_global\u001b[0m|\u001b[1mReplacing region_code for corrected individuals\u001b[0m\n",
      "100%|████████████████████████████████| 225636/225636 [00:02<00:00, 103528.54it/s]\n"
     ]
    }
   ],
   "source": [
    "final_individuals = pipeline_manual_cleaning_region_global(individuals, env_path = '../data_env')"
   ]
  },
  {
   "cell_type": "code",
   "execution_count": null,
   "id": "d5acd06f-145b-4c06-86c3-028387fe152d",
   "metadata": {},
   "outputs": [],
   "source": []
  },
  {
   "cell_type": "code",
   "execution_count": null,
   "id": "63464cf5-a6b2-40f8-8532-5d2db14dec7c",
   "metadata": {},
   "outputs": [],
   "source": []
  },
  {
   "cell_type": "code",
   "execution_count": 166,
   "id": "42ca0d99-ee5f-443e-a604-af98d5eb045a",
   "metadata": {},
   "outputs": [],
   "source": [
    "ind = [x for x in final_individuals if x.id.wikidata_id == 'Q9441']"
   ]
  },
  {
   "cell_type": "code",
   "execution_count": null,
   "id": "135e2c15-3149-4840-8e10-83b1be7b7fbd",
   "metadata": {},
   "outputs": [],
   "source": []
  },
  {
   "cell_type": "code",
   "execution_count": null,
   "id": "017931d1-fc0a-422d-b1e5-5867c7438749",
   "metadata": {},
   "outputs": [],
   "source": []
  },
  {
   "cell_type": "code",
   "execution_count": 173,
   "id": "d0478d22-8e41-44c6-bb28-814430ea71c3",
   "metadata": {},
   "outputs": [],
   "source": [
    "from sys_utils import save_model"
   ]
  },
  {
   "cell_type": "code",
   "execution_count": 174,
   "id": "0e2eed71-187a-414f-a671-6597ba55bf6f",
   "metadata": {},
   "outputs": [],
   "source": [
    "save_model(final_individuals, name=\"../checkpoints_dev/individuals_corrected.jsonl\")"
   ]
  },
  {
   "cell_type": "code",
   "execution_count": null,
   "id": "56f054c4-c4c8-449d-bf5e-63275e1fffba",
   "metadata": {},
   "outputs": [],
   "source": []
  },
  {
   "cell_type": "code",
   "execution_count": 175,
   "id": "72d23255-d8d5-4793-bc2e-7052e56f2d10",
   "metadata": {
    "tags": []
   },
   "outputs": [],
   "source": [
    "individuals_test = load_model(\n",
    "        Individual, name=checkpoint_path + \"/individuals_corrected.jsonl\"\n",
    "    )"
   ]
  },
  {
   "cell_type": "code",
   "execution_count": 185,
   "id": "b049bbf5-795d-4fd4-8573-c316b8d0b98b",
   "metadata": {},
   "outputs": [],
   "source": [
    "ind = [x for x in final_individuals if x.id.wikidata_id == 'Q8007920']"
   ]
  },
  {
   "cell_type": "code",
   "execution_count": null,
   "id": "dba629ae-c03e-48ab-9ddf-c207905c4daf",
   "metadata": {},
   "outputs": [],
   "source": []
  },
  {
   "cell_type": "code",
   "execution_count": null,
   "id": "10f6e701-3709-4949-989e-5bb040713a36",
   "metadata": {},
   "outputs": [],
   "source": []
  },
  {
   "cell_type": "code",
   "execution_count": null,
   "id": "9260b7d1-25a8-4464-bd8f-f252df92082a",
   "metadata": {},
   "outputs": [],
   "source": []
  },
  {
   "cell_type": "code",
   "execution_count": null,
   "id": "0663efe2-0e1e-448a-9048-3cf1384ddc48",
   "metadata": {},
   "outputs": [],
   "source": []
  },
  {
   "cell_type": "code",
   "execution_count": null,
   "id": "806b2ed7-0ce7-4a5c-b84a-84d020d99fbb",
   "metadata": {},
   "outputs": [],
   "source": []
  },
  {
   "cell_type": "code",
   "execution_count": null,
   "id": "c306a526-2a08-487a-b31c-8463ccfbe2ea",
   "metadata": {},
   "outputs": [],
   "source": []
  },
  {
   "cell_type": "code",
   "execution_count": null,
   "id": "60b55769-8344-4d6c-a2f8-eddabbaebd13",
   "metadata": {},
   "outputs": [],
   "source": []
  }
 ],
 "metadata": {
  "kernelspec": {
   "display_name": "Python 3 (ipykernel)",
   "language": "python",
   "name": "python3"
  },
  "language_info": {
   "codemirror_mode": {
    "name": "ipython",
    "version": 3
   },
   "file_extension": ".py",
   "mimetype": "text/x-python",
   "name": "python",
   "nbconvert_exporter": "python",
   "pygments_lexer": "ipython3",
   "version": "3.8.17"
  }
 },
 "nbformat": 4,
 "nbformat_minor": 5
}
