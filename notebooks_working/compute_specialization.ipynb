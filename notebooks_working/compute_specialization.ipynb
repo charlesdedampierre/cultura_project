{
 "cells": [
  {
   "cell_type": "code",
   "execution_count": 1,
   "id": "f9d624c9-cd5c-471b-9f15-c98297170e86",
   "metadata": {
    "tags": []
   },
   "outputs": [],
   "source": [
    "import sys\n",
    "from tqdm import tqdm\n",
    "\n",
    "import warnings\n",
    "warnings.simplefilter(action='ignore', category=FutureWarning)\n",
    "\n",
    "import pandas as pd\n",
    "import numpy as np\n",
    "    \n",
    "from sklearn.metrics.pairwise import cosine_similarity\n",
    "import plotly.io as pio"
   ]
  },
  {
   "cell_type": "code",
   "execution_count": null,
   "id": "52cd355b-e9aa-4eef-ad49-c9ad69552968",
   "metadata": {
    "tags": []
   },
   "outputs": [],
   "source": []
  },
  {
   "cell_type": "code",
   "execution_count": 2,
   "id": "a41aa5e3-d65f-4305-bbac-2b12bc4f0285",
   "metadata": {
    "tags": []
   },
   "outputs": [],
   "source": [
    "from node2vec import Node2Vec\n",
    "\n",
    "import networkx as nx"
   ]
  },
  {
   "cell_type": "code",
   "execution_count": 3,
   "id": "4e71e87e-f839-49d7-be7a-3cd3f6fb76f2",
   "metadata": {},
   "outputs": [],
   "source": [
    "\n",
    "sys.path.append('../')"
   ]
  },
  {
   "cell_type": "code",
   "execution_count": 4,
   "id": "ff3eee4c-b720-46de-a7dd-cb7a7c5672ef",
   "metadata": {},
   "outputs": [],
   "source": [
    "sys.path.append('/Users/charlesdedampierre/Desktop/Market Use Cases/bunkatrend/src/functions')"
   ]
  },
  {
   "cell_type": "code",
   "execution_count": null,
   "id": "fa6e1d03-c5d5-4f94-bbc4-9d970e582bc7",
   "metadata": {},
   "outputs": [],
   "source": []
  },
  {
   "cell_type": "code",
   "execution_count": 5,
   "id": "c46c17d4-ddf7-46a1-b839-f5400a1c6e5e",
   "metadata": {},
   "outputs": [],
   "source": [
    "from networks import SemanticNetworks"
   ]
  },
  {
   "cell_type": "code",
   "execution_count": 6,
   "id": "f402eae1-a940-41b1-bb41-156777a4116c",
   "metadata": {},
   "outputs": [],
   "source": [
    "from sys_utils import load_model\n",
    "from data_model_region import Region\n",
    "from data_model import Individual\n",
    "import typing as t\n",
    "import random"
   ]
  },
  {
   "cell_type": "code",
   "execution_count": 7,
   "id": "723e10ec-711e-4062-bb3c-1670b580bfbf",
   "metadata": {},
   "outputs": [],
   "source": [
    "checkpoint_path = '../checkpoints_dev'"
   ]
  },
  {
   "cell_type": "code",
   "execution_count": 8,
   "id": "4ab509c3-cb8a-4c70-88d1-6aadf8213ee2",
   "metadata": {},
   "outputs": [],
   "source": [
    "regions = load_model(\n",
    "        Region, name=checkpoint_path+\"/regions.jsonl\"\n",
    "    )"
   ]
  },
  {
   "cell_type": "code",
   "execution_count": 9,
   "id": "77d8c082-728f-42c5-bd20-fd2631737856",
   "metadata": {},
   "outputs": [],
   "source": [
    "individuals = load_model(\n",
    "        Individual, name=checkpoint_path + \"/individuals.jsonl\"\n",
    "    )"
   ]
  },
  {
   "cell_type": "code",
   "execution_count": 93,
   "id": "7a87d85b-cbd3-4478-8e4f-62e720d32d6d",
   "metadata": {},
   "outputs": [],
   "source": [
    "ind = [x for x in individuals if x.id.wikidata_id == 'Q11385727']"
   ]
  },
  {
   "cell_type": "code",
   "execution_count": null,
   "id": "32b23ef3-b737-4308-aeec-85ea0f931126",
   "metadata": {},
   "outputs": [],
   "source": []
  },
  {
   "cell_type": "code",
   "execution_count": 11,
   "id": "e128cbf1-d6f2-4959-8378-08f7c7831971",
   "metadata": {},
   "outputs": [],
   "source": [
    "# mistake"
   ]
  },
  {
   "cell_type": "code",
   "execution_count": null,
   "id": "87ece7f9-5663-40cf-a4f9-46a56783655e",
   "metadata": {},
   "outputs": [],
   "source": []
  },
  {
   "cell_type": "code",
   "execution_count": null,
   "id": "babd178f-6493-47f4-8636-4b7d3545eb6d",
   "metadata": {},
   "outputs": [],
   "source": []
  },
  {
   "cell_type": "code",
   "execution_count": 12,
   "id": "f34f319e-a831-440b-8b76-98119439ca0d",
   "metadata": {},
   "outputs": [],
   "source": [
    "individuals_filtered = [x for x in individuals if x.regions != None]\n",
    "\n",
    "df_individuals = [\n",
    "    {\n",
    "        \"wikidata_id\": x.id.wikidata_id,\n",
    "        \"name\": x.id.name,\n",
    "        \"year\": x.impact_years,\n",
    "        \"cultural_score\": x.cultural_score,\n",
    "        \"region_code\": x.regions,\n",
    "        \"occupation\":[y.name for y in x.id.occupations]\n",
    "    }\n",
    "    for x in individuals_filtered\n",
    "]\n",
    "\n",
    "df_individuals = pd.DataFrame(df_individuals)\n",
    "df_individuals = df_individuals.dropna()"
   ]
  },
  {
   "cell_type": "code",
   "execution_count": 13,
   "id": "8a987b88-6907-4f2e-8120-5409c24732be",
   "metadata": {},
   "outputs": [],
   "source": [
    "test = df_individuals.explode('occupation')"
   ]
  },
  {
   "cell_type": "code",
   "execution_count": null,
   "id": "e474a41a-ac95-4105-8e8b-45eafbb8a724",
   "metadata": {},
   "outputs": [],
   "source": []
  },
  {
   "cell_type": "code",
   "execution_count": 14,
   "id": "be5c1e71-4f58-4ca4-9220-09bd096e9671",
   "metadata": {},
   "outputs": [],
   "source": [
    "df_individuals = df_individuals.explode('region_code')"
   ]
  },
  {
   "cell_type": "code",
   "execution_count": null,
   "id": "98f844f2-f5e6-4ee6-be9f-c6ae3b03a097",
   "metadata": {},
   "outputs": [],
   "source": []
  },
  {
   "cell_type": "code",
   "execution_count": 87,
   "id": "f8233b36-ac90-46ac-9c9f-fc0893613d4a",
   "metadata": {},
   "outputs": [],
   "source": [
    "\n",
    "reg = 're_japan'\n",
    "reg = list(set(df_individuals.region_code))\n",
    "df_filter = df_individuals[df_individuals['region_code'].isin(reg)].reset_index(drop=True)\n",
    "\n",
    "df_filter[\"year\"] = df_filter[\"year\"].apply(\n",
    "        lambda x: [year for year in range(int(x[0]), int(x[1]) + 10, 10)]\n",
    "    )\n",
    "\n",
    "df_filter = df_filter.explode('year')\n",
    "df_filter = df_filter[df_filter['year']<=1800]"
   ]
  },
  {
   "cell_type": "code",
   "execution_count": 88,
   "id": "9c66d177-3b34-40bb-8e7d-99308a8d3c29",
   "metadata": {},
   "outputs": [
    {
     "data": {
      "text/plain": [
       "70809"
      ]
     },
     "execution_count": 88,
     "metadata": {},
     "output_type": "execute_result"
    }
   ],
   "source": [
    "len(set(df_filter.wikidata_id))"
   ]
  },
  {
   "cell_type": "code",
   "execution_count": 89,
   "id": "35cb759c-38a0-4e02-a8d9-808e9284a684",
   "metadata": {},
   "outputs": [],
   "source": [
    "# get top occupations"
   ]
  },
  {
   "cell_type": "code",
   "execution_count": 90,
   "id": "aba9e95d-2971-4799-a7c4-9839a3b63e18",
   "metadata": {},
   "outputs": [],
   "source": [
    "df_top_occupation = df_filter[['wikidata_id', 'occupation']]\n",
    "df_top_occupation= df_top_occupation.explode('occupation')\n",
    "df_top_occupation = df_top_occupation.drop_duplicates().reset_index(drop=True)\n",
    "top_occupations = df_top_occupation.occupation.value_counts().reset_index().head(2000)\n",
    "top_occupations = list(top_occupations['index'])"
   ]
  },
  {
   "cell_type": "code",
   "execution_count": 91,
   "id": "fb506c22-e8a6-4fbf-8b53-cf297f1de957",
   "metadata": {},
   "outputs": [],
   "source": [
    "top_occupations_fond = df_top_occupation.occupation.value_counts().reset_index().head(200)"
   ]
  },
  {
   "cell_type": "code",
   "execution_count": 92,
   "id": "627c2e76-431f-42b4-854a-96a0842db0b2",
   "metadata": {},
   "outputs": [],
   "source": [
    "top_occupations_fond.to_clipboard(index=False)"
   ]
  },
  {
   "cell_type": "code",
   "execution_count": 19,
   "id": "dd0f4eae-fc26-4b62-ac14-d1cda4c65025",
   "metadata": {},
   "outputs": [],
   "source": [
    "# where is writer ?"
   ]
  },
  {
   "cell_type": "code",
   "execution_count": null,
   "id": "0f2dce99-00bd-4eed-8185-38f42785f3aa",
   "metadata": {},
   "outputs": [],
   "source": []
  },
  {
   "cell_type": "code",
   "execution_count": null,
   "id": "5b180a03-2cbc-4ba0-aacf-43d27696be8e",
   "metadata": {},
   "outputs": [],
   "source": []
  },
  {
   "cell_type": "code",
   "execution_count": null,
   "id": "96d486e9-6911-43e0-80f4-fd073b29c64a",
   "metadata": {},
   "outputs": [],
   "source": []
  },
  {
   "cell_type": "code",
   "execution_count": 20,
   "id": "78867c94-93fc-4f8b-9874-908480a0dad2",
   "metadata": {},
   "outputs": [],
   "source": [
    "#top_occupations = ['mathematician','physicist', 'astronomer', 'philosopher', 'poet']"
   ]
  },
  {
   "cell_type": "code",
   "execution_count": null,
   "id": "d5b83df4-6667-43fb-841e-a61928dd3a5a",
   "metadata": {},
   "outputs": [],
   "source": []
  },
  {
   "cell_type": "code",
   "execution_count": 21,
   "id": "ce95ecda-052d-48c0-ac4e-c269e5971054",
   "metadata": {
    "tags": []
   },
   "outputs": [],
   "source": [
    "def get_mean_occupation(df_1):\n",
    "\n",
    "    df_1 = df_1.drop('year', axis=1)\n",
    "    df_1 = df_1.explode('occupation')\n",
    "    df_1 = df_1[df_1['occupation'].isin(top_occupations)].reset_index(drop=True)\n",
    "    df_1 = df_1.drop_duplicates()\n",
    "\n",
    "    # get mean_occupatio for top 100 individuals\n",
    "    df_1 = df_1.groupby(['wikidata_id', 'name', 'cultural_score'])['occupation'].apply(list).reset_index()\n",
    "    df_1['count_occupations'] = df_1['occupation'].apply(lambda x : len(x))\n",
    "    df_1 = df_1.sort_values('cultural_score', ascending=False)\n",
    "    df_1 = df_1.head(100)\n",
    "    mean_occupation = float(df_1[['count_occupations']].mean())\n",
    "    \n",
    "    return mean_occupation"
   ]
  },
  {
   "cell_type": "code",
   "execution_count": null,
   "id": "dcd866f8-7693-4800-b3b2-25d4d8e9625f",
   "metadata": {},
   "outputs": [],
   "source": []
  },
  {
   "cell_type": "code",
   "execution_count": 22,
   "id": "e6c37880-ebfa-44cc-93f9-cfd56a1b938e",
   "metadata": {},
   "outputs": [
    {
     "name": "stdout",
     "output_type": "stream",
     "text": [
      "5.443608017817372\n"
     ]
    }
   ],
   "source": [
    "df_1 = df_filter[df_filter['year']<=1500]\n",
    "df_1 = df_filter[df_filter['year']>1500]\n",
    "df_1 = df_1.drop('year', axis=1)\n",
    "df_1 = df_1.explode('occupation')\n",
    "#df_1 = df_1[df_1['occupation'].isin(top_occupations)].reset_index(drop=True)\n",
    "df_1 = df_1.drop_duplicates()\n",
    "\n",
    "# get mean_occupatio for top 100 individuals\n",
    "df_1 = df_1.groupby(['wikidata_id', 'name', 'cultural_score'])['occupation'].apply(list).reset_index()\n",
    "df_1['count_occupations'] = df_1['occupation'].apply(lambda x : len(x))\n",
    "df_1 = df_1[df_1['count_occupations']>1]\n",
    "df_1 = df_1.sort_values('cultural_score', ascending=False)\n",
    "#df_1 = df_1.head(200)\n",
    "mean_occupation = float(df_1[['count_occupations']].mean())\n",
    "\n",
    "print(mean_occupation)"
   ]
  },
  {
   "cell_type": "code",
   "execution_count": 23,
   "id": "24d2c563-173c-4dbc-9d56-8df076fa5810",
   "metadata": {},
   "outputs": [],
   "source": [
    "# Tu peux commencer par des pays à croissance forte : UK, France, Japan (1000 - 1800)\n"
   ]
  },
  {
   "cell_type": "code",
   "execution_count": null,
   "id": "9088b038-f27c-4027-9604-005935969b88",
   "metadata": {},
   "outputs": [],
   "source": []
  },
  {
   "cell_type": "code",
   "execution_count": 24,
   "id": "184406cd-d24e-484c-84ae-e5b820a384be",
   "metadata": {},
   "outputs": [],
   "source": [
    "def coocurrence_multiple(data_network:pd.DataFrame(),index_var :str, variables:t.List[str]) -> pd.DataFrame:\n",
    "\n",
    "        fin_list = []\n",
    "        for var in variables:\n",
    "            df_var = data_network[[index_var, var]]\n",
    "            df_var = df_var.drop_duplicates()\n",
    "            df_var = (\n",
    "                df_var.groupby([index_var, var])[index_var]\n",
    "                .count()\n",
    "                .rename(\"weight\")\n",
    "                .reset_index()\n",
    "            )\n",
    "            df_var = df_var.rename(columns={var: \"data\"})\n",
    "            df_var[\"entity\"] = var\n",
    "            fin_list.append(df_var)\n",
    "        \n",
    "        fin = pd.concat([x for x in fin_list])\n",
    "        df_co = pd.merge(fin, fin, on=index_var)\n",
    "        df_co[\"product\"] = df_co[\"weight_x\"] * df_co[\"weight_y\"]\n",
    "        edges = df_co.groupby([\"data_x\", \"data_y\"])[\"product\"].sum().reset_index()\n",
    "        edges.columns = [\"source\", \"target\", \"weight\"]\n",
    "\n",
    "        return edges\n",
    "\n",
    "\n",
    "def weight_to_similarity(edges:pd.DataFrame, global_filter: float = 0.7, n_neighbours: int = 6)->pd.DataFrame:\n",
    "\n",
    "        pivot = edges.pivot(\"source\", \"target\", \"weight\")\n",
    "        pivot = pivot.fillna(0)\n",
    "        similarity = cosine_similarity(pivot)  # compute cosine similarity\n",
    "        df_sim = pd.DataFrame(similarity, index=pivot.index, columns=pivot.columns)\n",
    "        df_sim = df_sim[(df_sim >= global_filter)]\n",
    "        df_sim[\"nodes\"] = df_sim.index\n",
    "\n",
    "        res_g = pd.melt(df_sim, id_vars=[\"nodes\"]).sort_values(\"nodes\")  # time\n",
    "        res_g = res_g.dropna()\n",
    "        res_g.columns = [\"source\", \"target\", \"weight\"]\n",
    "        res_g = res_g.sort_values(\"source\")\n",
    "\n",
    "        # Erase duplicates\n",
    "        duplicates = []\n",
    "        for x, y, i in zip(res_g.source, res_g.target, res_g.index):\n",
    "            if x == y:\n",
    "                duplicates.append(i)\n",
    "\n",
    "        new_edge = res_g.drop(index=duplicates)\n",
    "        new_edge = new_edge[new_edge.weight != 0]\n",
    "\n",
    "        # Filter Neighbours\n",
    "        new_edge[\"rank\"] = new_edge.groupby([\"source\"])[\"weight\"].rank(\n",
    "            method=\"first\", ascending=False\n",
    "        )\n",
    "        new_edge = new_edge[new_edge[\"rank\"] <= n_neighbours]\n",
    "        new_edge = new_edge.sort_values(['source', 'rank']).reset_index(drop=True)\n",
    "\n",
    "        return new_edge"
   ]
  },
  {
   "cell_type": "code",
   "execution_count": null,
   "id": "e8bf2ffc-c314-44b2-982c-4f0379283d54",
   "metadata": {},
   "outputs": [],
   "source": []
  },
  {
   "cell_type": "code",
   "execution_count": 25,
   "id": "34b5424c-9f63-4ff5-ba46-13e31cb45525",
   "metadata": {},
   "outputs": [],
   "source": [
    "def compute_average(data:pd.DataFrame)->float:\n",
    "\n",
    "    df_edge = coocurrence_multiple(data, index_var = 'wikidata_id', variables = ['occupation'])\n",
    "    #df_new_edge = weight_to_similarity(df_edge, global_filter =  0, n_neighbours = 10)\n",
    "\n",
    "    G = nx.from_pandas_edgelist(\n",
    "                df_edge, source=\"source\", target=\"target\", edge_attr=\"weight\"\n",
    "            )\n",
    "\n",
    "    node2vec = Node2Vec(G, dimensions=700, workers=5)\n",
    "    model = node2vec.fit(window=30, min_count=1)\n",
    "\n",
    "    nodes = list(map(str, G.nodes()))\n",
    "    embeddings = np.array([model.wv[x] for x in nodes])\n",
    "    df_embeddings = pd.DataFrame(embeddings)\n",
    "    df_embeddings.index = nodes\n",
    "\n",
    "    dist_cos = cosine_similarity(df_embeddings)\n",
    "    dist_cos = pd.DataFrame(dist_cos, index=df_embeddings.index, columns=df_embeddings.index)\n",
    "\n",
    "    average_mean = dist_cos.mean().mean()\n",
    "\n",
    "    return average_mean, dist_cos"
   ]
  },
  {
   "cell_type": "code",
   "execution_count": null,
   "id": "268c6caa-287c-407b-9485-7da2b3a6c023",
   "metadata": {},
   "outputs": [],
   "source": []
  },
  {
   "cell_type": "code",
   "execution_count": 26,
   "id": "9c349985-b1dc-4092-91cf-758fe4c92845",
   "metadata": {},
   "outputs": [],
   "source": [
    "#500 #1500"
   ]
  },
  {
   "cell_type": "code",
   "execution_count": 27,
   "id": "3dbb2c3f-edd4-40c5-b37e-025c29d9a368",
   "metadata": {},
   "outputs": [],
   "source": [
    "load_occupations = pd.read_csv('Cultural Index - Clean top 50 occupations - data.csv')\n",
    "load_occupations = load_occupations[load_occupations['exclude']!= 1]\n",
    "load_occupations = list(load_occupations['index'])"
   ]
  },
  {
   "cell_type": "code",
   "execution_count": 73,
   "id": "4031e9de-d507-4311-8156-a195f112dcc9",
   "metadata": {},
   "outputs": [
    {
     "name": "stderr",
     "output_type": "stream",
     "text": [
      "  0%|                                                                                                                     | 0/2 [00:00<?, ?it/s]"
     ]
    },
    {
     "data": {
      "application/vnd.jupyter.widget-view+json": {
       "model_id": "28fc9d2c2728462bbcda2d7d840ad3de",
       "version_major": 2,
       "version_minor": 0
      },
      "text/plain": [
       "Computing transition probabilities:   0%|          | 0/285 [00:00<?, ?it/s]"
      ]
     },
     "metadata": {},
     "output_type": "display_data"
    },
    {
     "name": "stderr",
     "output_type": "stream",
     "text": [
      "\n",
      "Generating walks (CPU: 1):   0%|          | 0/2 [00:00<?, ?it/s]\n",
      "Generating walks (CPU: 2):   0%|          | 0/2 [00:00<?, ?it/s]\n",
      "Generating walks (CPU: 1): 100%|██████████| 2/2 [00:00<00:00, 18.33it/s]\n",
      "Generating walks (CPU: 2): 100%|██████████| 2/2 [00:00<00:00, 17.89it/s]\n",
      " 50%|██████████████████████████████████████████████████████▌                                                      | 1/2 [00:06<00:06,  6.17s/it]"
     ]
    },
    {
     "data": {
      "application/vnd.jupyter.widget-view+json": {
       "model_id": "a10759a5b06d4f598f935f1c99f68a71",
       "version_major": 2,
       "version_minor": 0
      },
      "text/plain": [
       "Computing transition probabilities:   0%|          | 0/695 [00:00<?, ?it/s]"
      ]
     },
     "metadata": {},
     "output_type": "display_data"
    },
    {
     "name": "stderr",
     "output_type": "stream",
     "text": [
      "\n",
      "Generating walks (CPU: 1):   0%|          | 0/2 [00:00<?, ?it/s]\n",
      "Generating walks (CPU: 2):   0%|          | 0/2 [00:00<?, ?it/s]\n",
      "Generating walks (CPU: 1): 100%|██████████| 2/2 [00:00<00:00,  4.20it/s]\n",
      "Generating walks (CPU: 2): 100%|██████████| 2/2 [00:00<00:00,  4.20it/s]\n",
      "100%|█████████████████████████████████████████████████████████████████████████████████████████████████████████████| 2/2 [00:28<00:00, 14.24s/it]\n"
     ]
    }
   ],
   "source": [
    "n_top_individuals = 10000000\n",
    "final_list = []\n",
    "final_distances = []\n",
    "\n",
    "year_range = np.arange(550, 1950, 100) \n",
    "ranges = [(start, start+100) for start in year_range[:-1]]\n",
    "\n",
    "#ranges = [[500, 1000], [1000, 1500], [1500, 1850]]\n",
    "\n",
    "\n",
    "ranges = [[800, 1000], [1000, 1200], [1200, 1400], [1500, 1600], [1600, 1800]]\n",
    "ranges = [[500, 1500], [1500, 1800]]\n",
    "#ranges = [[0, 1200],[1200, 1500], [1500, 1800]]\n",
    "\n",
    "for rang in tqdm(ranges):\n",
    "    \n",
    "    try:\n",
    "\n",
    "        df_filter_1 = df_filter[(df_filter['year']>=rang[0])&(df_filter['year']<=rang[1])]\n",
    "        df_filter_1 = df_filter_1.explode('occupation')\n",
    "        df_filter_1 = df_filter_1[df_filter_1['occupation'].isin(top_occupations)]\n",
    "        #df_filter_1 = df_filter_1[df_filter_1['occupation'].isin(load_occupations)]\n",
    "        \n",
    "        df_filter_1 = df_filter_1.drop('year', axis=1).drop_duplicates()\n",
    "        df_filter_1 = df_filter_1.sort_values('cultural_score', ascending=False).reset_index(drop=True)\n",
    "        top_individuals = df_filter_1[['wikidata_id', 'cultural_score']].drop_duplicates()\n",
    "        top_individuals = top_individuals.head(n_top_individuals)\n",
    "        df_filter_1 = df_filter_1[df_filter_1['wikidata_id'].isin(top_individuals['wikidata_id'])]\n",
    "\n",
    "        #random_ind = random.sample(list((set(df_filter_1.wikidata_id))), 100)\n",
    "        #df_filter_1 = df_filter_1[df_filter_1['wikidata_id'].isin(random_ind)]\n",
    "\n",
    "        mean, dist_cos = compute_average(df_filter_1)\n",
    "        \n",
    "        cosine_matrix = np.array(dist_cos)\n",
    "        distances = cosine_matrix[np.triu_indices(len(cosine_matrix), k=1)]\n",
    "\n",
    "        dict_res = {'range':rang, \n",
    "                'average_cosine_similarity':mean, \n",
    "                'count_individuals':len(set(df_filter_1['wikidata_id']))}\n",
    "        final_list.append(dict_res)  \n",
    "        \n",
    "        new_dict = {'range':rang, \n",
    "                'cosine_similarity':distances}\n",
    "        \n",
    "        final_distances.append(new_dict)\n",
    "        \n",
    "    \n",
    "    except:\n",
    "        pass"
   ]
  },
  {
   "cell_type": "code",
   "execution_count": null,
   "id": "9038da4b-58af-4588-8a68-600b228334da",
   "metadata": {},
   "outputs": [],
   "source": []
  },
  {
   "cell_type": "code",
   "execution_count": 74,
   "id": "9c3de35e-f40d-4876-bf67-1b315b578099",
   "metadata": {},
   "outputs": [],
   "source": [
    "box_plots = pd.DataFrame(final_distances).explode('cosine_similarity').reset_index(drop=True)\n",
    "box_plots['range_name'] = box_plots['range'].apply(lambda x : str(x[0])+'-'+str(x[1]))"
   ]
  },
  {
   "cell_type": "code",
   "execution_count": 75,
   "id": "7f7fdc7e-d6b1-4c60-af60-8782cdc9fb4b",
   "metadata": {},
   "outputs": [
    {
     "data": {
      "text/plain": [
       "range_name\n",
       "1500-1800    0.225080\n",
       "500-1500     0.289415\n",
       "Name: cosine_similarity, dtype: float64"
      ]
     },
     "execution_count": 75,
     "metadata": {},
     "output_type": "execute_result"
    }
   ],
   "source": [
    "box_plots.groupby('range_name')['cosine_similarity'].mean()"
   ]
  },
  {
   "cell_type": "code",
   "execution_count": 76,
   "id": "46474800-6008-4411-8651-7c7392a50304",
   "metadata": {},
   "outputs": [],
   "source": [
    "# get the figure"
   ]
  },
  {
   "cell_type": "code",
   "execution_count": 81,
   "id": "ad990570-b924-4bb6-813a-2841ee792729",
   "metadata": {},
   "outputs": [],
   "source": [
    "fig = px.box(box_plots, x ='range_name', y = 'cosine_similarity', width = 400, height = 600, points = False)\n",
    "fig.update_xaxes(showgrid=False, showticklabels=True, zeroline=False)\n",
    "fig.update_yaxes(showgrid=False, showticklabels=True, zeroline=False)\n",
    "fig.write_image(f\"save_figures/box_plot.png\", scale=7)"
   ]
  },
  {
   "cell_type": "code",
   "execution_count": null,
   "id": "cea8c315-50ab-4e61-8a48-c5bb497d37f9",
   "metadata": {},
   "outputs": [],
   "source": []
  },
  {
   "cell_type": "code",
   "execution_count": null,
   "id": "c2bb2a8f-af16-4661-bac5-7e9f7296315d",
   "metadata": {},
   "outputs": [],
   "source": []
  },
  {
   "cell_type": "code",
   "execution_count": null,
   "id": "9a6af7d6-2290-4496-8901-dc1a84c712da",
   "metadata": {},
   "outputs": [],
   "source": []
  },
  {
   "cell_type": "code",
   "execution_count": null,
   "id": "6db45ad7-0e18-4884-ad90-62cab2ef5471",
   "metadata": {},
   "outputs": [],
   "source": []
  },
  {
   "cell_type": "code",
   "execution_count": 71,
   "id": "a6dae7ab-defc-43c4-b6ac-413f132a120e",
   "metadata": {},
   "outputs": [
    {
     "name": "stdout",
     "output_type": "stream",
     "text": [
      "t-statistic: 8.569943115876326\n",
      "p-value: 4.593607010105503e-15\n"
     ]
    }
   ],
   "source": [
    "import scipy.stats as stats\n",
    "\n",
    "# perform the t-test\n",
    "t_stat, p_val = stats.ttest_ind(final_distances[0]['cosine_similarity'], final_distances[1]['cosine_similarity'])\n",
    "\n",
    "# print the results\n",
    "print(\"t-statistic:\", t_stat)\n",
    "print(\"p-value:\", p_val)"
   ]
  },
  {
   "cell_type": "code",
   "execution_count": null,
   "id": "4bb4fab1-cbfa-4cc4-8f54-4d8673185127",
   "metadata": {},
   "outputs": [],
   "source": []
  },
  {
   "cell_type": "code",
   "execution_count": 58,
   "id": "50b8145d-e22d-4087-b41b-1cc66ad86c94",
   "metadata": {},
   "outputs": [
    {
     "data": {
      "application/vnd.plotly.v1+json": {
       "config": {
        "plotlyServerURL": "https://plot.ly"
       },
       "data": [
        {
         "hovertemplate": "range_str=%{x}<br>average_distance=%{y}<extra></extra>",
         "legendgroup": "",
         "line": {
          "color": "#636efa",
          "dash": "solid"
         },
         "marker": {
          "symbol": "circle"
         },
         "mode": "lines",
         "name": "",
         "orientation": "v",
         "showlegend": false,
         "type": "scatter",
         "x": [
          "500-1500",
          "1500-1800"
         ],
         "xaxis": "x",
         "y": [
          0.08614867925643921,
          0.23118406534194946
         ],
         "yaxis": "y"
        }
       ],
       "layout": {
        "autosize": true,
        "legend": {
         "tracegroupgap": 0
        },
        "margin": {
         "t": 60
        },
        "template": {
         "data": {
          "bar": [
           {
            "error_x": {
             "color": "#2a3f5f"
            },
            "error_y": {
             "color": "#2a3f5f"
            },
            "marker": {
             "line": {
              "color": "#E5ECF6",
              "width": 0.5
             },
             "pattern": {
              "fillmode": "overlay",
              "size": 10,
              "solidity": 0.2
             }
            },
            "type": "bar"
           }
          ],
          "barpolar": [
           {
            "marker": {
             "line": {
              "color": "#E5ECF6",
              "width": 0.5
             },
             "pattern": {
              "fillmode": "overlay",
              "size": 10,
              "solidity": 0.2
             }
            },
            "type": "barpolar"
           }
          ],
          "carpet": [
           {
            "aaxis": {
             "endlinecolor": "#2a3f5f",
             "gridcolor": "white",
             "linecolor": "white",
             "minorgridcolor": "white",
             "startlinecolor": "#2a3f5f"
            },
            "baxis": {
             "endlinecolor": "#2a3f5f",
             "gridcolor": "white",
             "linecolor": "white",
             "minorgridcolor": "white",
             "startlinecolor": "#2a3f5f"
            },
            "type": "carpet"
           }
          ],
          "choropleth": [
           {
            "colorbar": {
             "outlinewidth": 0,
             "ticks": ""
            },
            "type": "choropleth"
           }
          ],
          "contour": [
           {
            "colorbar": {
             "outlinewidth": 0,
             "ticks": ""
            },
            "colorscale": [
             [
              0,
              "#0d0887"
             ],
             [
              0.1111111111111111,
              "#46039f"
             ],
             [
              0.2222222222222222,
              "#7201a8"
             ],
             [
              0.3333333333333333,
              "#9c179e"
             ],
             [
              0.4444444444444444,
              "#bd3786"
             ],
             [
              0.5555555555555556,
              "#d8576b"
             ],
             [
              0.6666666666666666,
              "#ed7953"
             ],
             [
              0.7777777777777778,
              "#fb9f3a"
             ],
             [
              0.8888888888888888,
              "#fdca26"
             ],
             [
              1,
              "#f0f921"
             ]
            ],
            "type": "contour"
           }
          ],
          "contourcarpet": [
           {
            "colorbar": {
             "outlinewidth": 0,
             "ticks": ""
            },
            "type": "contourcarpet"
           }
          ],
          "heatmap": [
           {
            "colorbar": {
             "outlinewidth": 0,
             "ticks": ""
            },
            "colorscale": [
             [
              0,
              "#0d0887"
             ],
             [
              0.1111111111111111,
              "#46039f"
             ],
             [
              0.2222222222222222,
              "#7201a8"
             ],
             [
              0.3333333333333333,
              "#9c179e"
             ],
             [
              0.4444444444444444,
              "#bd3786"
             ],
             [
              0.5555555555555556,
              "#d8576b"
             ],
             [
              0.6666666666666666,
              "#ed7953"
             ],
             [
              0.7777777777777778,
              "#fb9f3a"
             ],
             [
              0.8888888888888888,
              "#fdca26"
             ],
             [
              1,
              "#f0f921"
             ]
            ],
            "type": "heatmap"
           }
          ],
          "heatmapgl": [
           {
            "colorbar": {
             "outlinewidth": 0,
             "ticks": ""
            },
            "colorscale": [
             [
              0,
              "#0d0887"
             ],
             [
              0.1111111111111111,
              "#46039f"
             ],
             [
              0.2222222222222222,
              "#7201a8"
             ],
             [
              0.3333333333333333,
              "#9c179e"
             ],
             [
              0.4444444444444444,
              "#bd3786"
             ],
             [
              0.5555555555555556,
              "#d8576b"
             ],
             [
              0.6666666666666666,
              "#ed7953"
             ],
             [
              0.7777777777777778,
              "#fb9f3a"
             ],
             [
              0.8888888888888888,
              "#fdca26"
             ],
             [
              1,
              "#f0f921"
             ]
            ],
            "type": "heatmapgl"
           }
          ],
          "histogram": [
           {
            "marker": {
             "pattern": {
              "fillmode": "overlay",
              "size": 10,
              "solidity": 0.2
             }
            },
            "type": "histogram"
           }
          ],
          "histogram2d": [
           {
            "colorbar": {
             "outlinewidth": 0,
             "ticks": ""
            },
            "colorscale": [
             [
              0,
              "#0d0887"
             ],
             [
              0.1111111111111111,
              "#46039f"
             ],
             [
              0.2222222222222222,
              "#7201a8"
             ],
             [
              0.3333333333333333,
              "#9c179e"
             ],
             [
              0.4444444444444444,
              "#bd3786"
             ],
             [
              0.5555555555555556,
              "#d8576b"
             ],
             [
              0.6666666666666666,
              "#ed7953"
             ],
             [
              0.7777777777777778,
              "#fb9f3a"
             ],
             [
              0.8888888888888888,
              "#fdca26"
             ],
             [
              1,
              "#f0f921"
             ]
            ],
            "type": "histogram2d"
           }
          ],
          "histogram2dcontour": [
           {
            "colorbar": {
             "outlinewidth": 0,
             "ticks": ""
            },
            "colorscale": [
             [
              0,
              "#0d0887"
             ],
             [
              0.1111111111111111,
              "#46039f"
             ],
             [
              0.2222222222222222,
              "#7201a8"
             ],
             [
              0.3333333333333333,
              "#9c179e"
             ],
             [
              0.4444444444444444,
              "#bd3786"
             ],
             [
              0.5555555555555556,
              "#d8576b"
             ],
             [
              0.6666666666666666,
              "#ed7953"
             ],
             [
              0.7777777777777778,
              "#fb9f3a"
             ],
             [
              0.8888888888888888,
              "#fdca26"
             ],
             [
              1,
              "#f0f921"
             ]
            ],
            "type": "histogram2dcontour"
           }
          ],
          "mesh3d": [
           {
            "colorbar": {
             "outlinewidth": 0,
             "ticks": ""
            },
            "type": "mesh3d"
           }
          ],
          "parcoords": [
           {
            "line": {
             "colorbar": {
              "outlinewidth": 0,
              "ticks": ""
             }
            },
            "type": "parcoords"
           }
          ],
          "pie": [
           {
            "automargin": true,
            "type": "pie"
           }
          ],
          "scatter": [
           {
            "marker": {
             "colorbar": {
              "outlinewidth": 0,
              "ticks": ""
             }
            },
            "type": "scatter"
           }
          ],
          "scatter3d": [
           {
            "line": {
             "colorbar": {
              "outlinewidth": 0,
              "ticks": ""
             }
            },
            "marker": {
             "colorbar": {
              "outlinewidth": 0,
              "ticks": ""
             }
            },
            "type": "scatter3d"
           }
          ],
          "scattercarpet": [
           {
            "marker": {
             "colorbar": {
              "outlinewidth": 0,
              "ticks": ""
             }
            },
            "type": "scattercarpet"
           }
          ],
          "scattergeo": [
           {
            "marker": {
             "colorbar": {
              "outlinewidth": 0,
              "ticks": ""
             }
            },
            "type": "scattergeo"
           }
          ],
          "scattergl": [
           {
            "marker": {
             "colorbar": {
              "outlinewidth": 0,
              "ticks": ""
             }
            },
            "type": "scattergl"
           }
          ],
          "scattermapbox": [
           {
            "marker": {
             "colorbar": {
              "outlinewidth": 0,
              "ticks": ""
             }
            },
            "type": "scattermapbox"
           }
          ],
          "scatterpolar": [
           {
            "marker": {
             "colorbar": {
              "outlinewidth": 0,
              "ticks": ""
             }
            },
            "type": "scatterpolar"
           }
          ],
          "scatterpolargl": [
           {
            "marker": {
             "colorbar": {
              "outlinewidth": 0,
              "ticks": ""
             }
            },
            "type": "scatterpolargl"
           }
          ],
          "scatterternary": [
           {
            "marker": {
             "colorbar": {
              "outlinewidth": 0,
              "ticks": ""
             }
            },
            "type": "scatterternary"
           }
          ],
          "surface": [
           {
            "colorbar": {
             "outlinewidth": 0,
             "ticks": ""
            },
            "colorscale": [
             [
              0,
              "#0d0887"
             ],
             [
              0.1111111111111111,
              "#46039f"
             ],
             [
              0.2222222222222222,
              "#7201a8"
             ],
             [
              0.3333333333333333,
              "#9c179e"
             ],
             [
              0.4444444444444444,
              "#bd3786"
             ],
             [
              0.5555555555555556,
              "#d8576b"
             ],
             [
              0.6666666666666666,
              "#ed7953"
             ],
             [
              0.7777777777777778,
              "#fb9f3a"
             ],
             [
              0.8888888888888888,
              "#fdca26"
             ],
             [
              1,
              "#f0f921"
             ]
            ],
            "type": "surface"
           }
          ],
          "table": [
           {
            "cells": {
             "fill": {
              "color": "#EBF0F8"
             },
             "line": {
              "color": "white"
             }
            },
            "header": {
             "fill": {
              "color": "#C8D4E3"
             },
             "line": {
              "color": "white"
             }
            },
            "type": "table"
           }
          ]
         },
         "layout": {
          "annotationdefaults": {
           "arrowcolor": "#2a3f5f",
           "arrowhead": 0,
           "arrowwidth": 1
          },
          "autotypenumbers": "strict",
          "coloraxis": {
           "colorbar": {
            "outlinewidth": 0,
            "ticks": ""
           }
          },
          "colorscale": {
           "diverging": [
            [
             0,
             "#8e0152"
            ],
            [
             0.1,
             "#c51b7d"
            ],
            [
             0.2,
             "#de77ae"
            ],
            [
             0.3,
             "#f1b6da"
            ],
            [
             0.4,
             "#fde0ef"
            ],
            [
             0.5,
             "#f7f7f7"
            ],
            [
             0.6,
             "#e6f5d0"
            ],
            [
             0.7,
             "#b8e186"
            ],
            [
             0.8,
             "#7fbc41"
            ],
            [
             0.9,
             "#4d9221"
            ],
            [
             1,
             "#276419"
            ]
           ],
           "sequential": [
            [
             0,
             "#0d0887"
            ],
            [
             0.1111111111111111,
             "#46039f"
            ],
            [
             0.2222222222222222,
             "#7201a8"
            ],
            [
             0.3333333333333333,
             "#9c179e"
            ],
            [
             0.4444444444444444,
             "#bd3786"
            ],
            [
             0.5555555555555556,
             "#d8576b"
            ],
            [
             0.6666666666666666,
             "#ed7953"
            ],
            [
             0.7777777777777778,
             "#fb9f3a"
            ],
            [
             0.8888888888888888,
             "#fdca26"
            ],
            [
             1,
             "#f0f921"
            ]
           ],
           "sequentialminus": [
            [
             0,
             "#0d0887"
            ],
            [
             0.1111111111111111,
             "#46039f"
            ],
            [
             0.2222222222222222,
             "#7201a8"
            ],
            [
             0.3333333333333333,
             "#9c179e"
            ],
            [
             0.4444444444444444,
             "#bd3786"
            ],
            [
             0.5555555555555556,
             "#d8576b"
            ],
            [
             0.6666666666666666,
             "#ed7953"
            ],
            [
             0.7777777777777778,
             "#fb9f3a"
            ],
            [
             0.8888888888888888,
             "#fdca26"
            ],
            [
             1,
             "#f0f921"
            ]
           ]
          },
          "colorway": [
           "#636efa",
           "#EF553B",
           "#00cc96",
           "#ab63fa",
           "#FFA15A",
           "#19d3f3",
           "#FF6692",
           "#B6E880",
           "#FF97FF",
           "#FECB52"
          ],
          "font": {
           "color": "#2a3f5f"
          },
          "geo": {
           "bgcolor": "white",
           "lakecolor": "white",
           "landcolor": "#E5ECF6",
           "showlakes": true,
           "showland": true,
           "subunitcolor": "white"
          },
          "hoverlabel": {
           "align": "left"
          },
          "hovermode": "closest",
          "mapbox": {
           "style": "light"
          },
          "paper_bgcolor": "white",
          "plot_bgcolor": "#E5ECF6",
          "polar": {
           "angularaxis": {
            "gridcolor": "white",
            "linecolor": "white",
            "ticks": ""
           },
           "bgcolor": "#E5ECF6",
           "radialaxis": {
            "gridcolor": "white",
            "linecolor": "white",
            "ticks": ""
           }
          },
          "scene": {
           "xaxis": {
            "backgroundcolor": "#E5ECF6",
            "gridcolor": "white",
            "gridwidth": 2,
            "linecolor": "white",
            "showbackground": true,
            "ticks": "",
            "zerolinecolor": "white"
           },
           "yaxis": {
            "backgroundcolor": "#E5ECF6",
            "gridcolor": "white",
            "gridwidth": 2,
            "linecolor": "white",
            "showbackground": true,
            "ticks": "",
            "zerolinecolor": "white"
           },
           "zaxis": {
            "backgroundcolor": "#E5ECF6",
            "gridcolor": "white",
            "gridwidth": 2,
            "linecolor": "white",
            "showbackground": true,
            "ticks": "",
            "zerolinecolor": "white"
           }
          },
          "shapedefaults": {
           "line": {
            "color": "#2a3f5f"
           }
          },
          "ternary": {
           "aaxis": {
            "gridcolor": "white",
            "linecolor": "white",
            "ticks": ""
           },
           "baxis": {
            "gridcolor": "white",
            "linecolor": "white",
            "ticks": ""
           },
           "bgcolor": "#E5ECF6",
           "caxis": {
            "gridcolor": "white",
            "linecolor": "white",
            "ticks": ""
           }
          },
          "title": {
           "x": 0.05
          },
          "xaxis": {
           "automargin": true,
           "gridcolor": "white",
           "linecolor": "white",
           "ticks": "",
           "title": {
            "standoff": 15
           },
           "zerolinecolor": "white",
           "zerolinewidth": 2
          },
          "yaxis": {
           "automargin": true,
           "gridcolor": "white",
           "linecolor": "white",
           "ticks": "",
           "title": {
            "standoff": 15
           },
           "zerolinecolor": "white",
           "zerolinewidth": 2
          }
         }
        },
        "xaxis": {
         "anchor": "y",
         "autorange": true,
         "domain": [
          0,
          1
         ],
         "range": [
          0,
          1
         ],
         "title": {
          "text": "range_str"
         },
         "type": "category"
        },
        "yaxis": {
         "anchor": "x",
         "autorange": true,
         "domain": [
          0,
          1
         ],
         "range": [
          0.0780911578072442,
          0.2392415867911445
         ],
         "title": {
          "text": "average_distance"
         },
         "type": "linear"
        }
       }
      },
      "image/png": "[encoded data removed]",
      "text/html": [
       "<div>                            <div id=\"8acf31bc-8015-4045-94c8-e2df0718e6c2\" class=\"plotly-graph-div\" style=\"height:525px; width:2000px;\"></div>            <script type=\"text/javascript\">                require([\"plotly\"], function(Plotly) {                    window.PLOTLYENV=window.PLOTLYENV || {};                                    if (document.getElementById(\"8acf31bc-8015-4045-94c8-e2df0718e6c2\")) {                    Plotly.newPlot(                        \"8acf31bc-8015-4045-94c8-e2df0718e6c2\",                        [{\"hovertemplate\":\"range_str=%{x}<br>average_distance=%{y}<extra></extra>\",\"legendgroup\":\"\",\"line\":{\"color\":\"#636efa\",\"dash\":\"solid\"},\"marker\":{\"symbol\":\"circle\"},\"mode\":\"lines\",\"name\":\"\",\"orientation\":\"v\",\"showlegend\":false,\"x\":[\"500-1500\",\"1500-1800\"],\"xaxis\":\"x\",\"y\":[0.08614867925643921,0.23118406534194946],\"yaxis\":\"y\",\"type\":\"scatter\"}],                        {\"template\":{\"data\":{\"bar\":[{\"error_x\":{\"color\":\"#2a3f5f\"},\"error_y\":{\"color\":\"#2a3f5f\"},\"marker\":{\"line\":{\"color\":\"#E5ECF6\",\"width\":0.5},\"pattern\":{\"fillmode\":\"overlay\",\"size\":10,\"solidity\":0.2}},\"type\":\"bar\"}],\"barpolar\":[{\"marker\":{\"line\":{\"color\":\"#E5ECF6\",\"width\":0.5},\"pattern\":{\"fillmode\":\"overlay\",\"size\":10,\"solidity\":0.2}},\"type\":\"barpolar\"}],\"carpet\":[{\"aaxis\":{\"endlinecolor\":\"#2a3f5f\",\"gridcolor\":\"white\",\"linecolor\":\"white\",\"minorgridcolor\":\"white\",\"startlinecolor\":\"#2a3f5f\"},\"baxis\":{\"endlinecolor\":\"#2a3f5f\",\"gridcolor\":\"white\",\"linecolor\":\"white\",\"minorgridcolor\":\"white\",\"startlinecolor\":\"#2a3f5f\"},\"type\":\"carpet\"}],\"choropleth\":[{\"colorbar\":{\"outlinewidth\":0,\"ticks\":\"\"},\"type\":\"choropleth\"}],\"contour\":[{\"colorbar\":{\"outlinewidth\":0,\"ticks\":\"\"},\"colorscale\":[[0.0,\"#0d0887\"],[0.1111111111111111,\"#46039f\"],[0.2222222222222222,\"#7201a8\"],[0.3333333333333333,\"#9c179e\"],[0.4444444444444444,\"#bd3786\"],[0.5555555555555556,\"#d8576b\"],[0.6666666666666666,\"#ed7953\"],[0.7777777777777778,\"#fb9f3a\"],[0.8888888888888888,\"#fdca26\"],[1.0,\"#f0f921\"]],\"type\":\"contour\"}],\"contourcarpet\":[{\"colorbar\":{\"outlinewidth\":0,\"ticks\":\"\"},\"type\":\"contourcarpet\"}],\"heatmap\":[{\"colorbar\":{\"outlinewidth\":0,\"ticks\":\"\"},\"colorscale\":[[0.0,\"#0d0887\"],[0.1111111111111111,\"#46039f\"],[0.2222222222222222,\"#7201a8\"],[0.3333333333333333,\"#9c179e\"],[0.4444444444444444,\"#bd3786\"],[0.5555555555555556,\"#d8576b\"],[0.6666666666666666,\"#ed7953\"],[0.7777777777777778,\"#fb9f3a\"],[0.8888888888888888,\"#fdca26\"],[1.0,\"#f0f921\"]],\"type\":\"heatmap\"}],\"heatmapgl\":[{\"colorbar\":{\"outlinewidth\":0,\"ticks\":\"\"},\"colorscale\":[[0.0,\"#0d0887\"],[0.1111111111111111,\"#46039f\"],[0.2222222222222222,\"#7201a8\"],[0.3333333333333333,\"#9c179e\"],[0.4444444444444444,\"#bd3786\"],[0.5555555555555556,\"#d8576b\"],[0.6666666666666666,\"#ed7953\"],[0.7777777777777778,\"#fb9f3a\"],[0.8888888888888888,\"#fdca26\"],[1.0,\"#f0f921\"]],\"type\":\"heatmapgl\"}],\"histogram\":[{\"marker\":{\"pattern\":{\"fillmode\":\"overlay\",\"size\":10,\"solidity\":0.2}},\"type\":\"histogram\"}],\"histogram2d\":[{\"colorbar\":{\"outlinewidth\":0,\"ticks\":\"\"},\"colorscale\":[[0.0,\"#0d0887\"],[0.1111111111111111,\"#46039f\"],[0.2222222222222222,\"#7201a8\"],[0.3333333333333333,\"#9c179e\"],[0.4444444444444444,\"#bd3786\"],[0.5555555555555556,\"#d8576b\"],[0.6666666666666666,\"#ed7953\"],[0.7777777777777778,\"#fb9f3a\"],[0.8888888888888888,\"#fdca26\"],[1.0,\"#f0f921\"]],\"type\":\"histogram2d\"}],\"histogram2dcontour\":[{\"colorbar\":{\"outlinewidth\":0,\"ticks\":\"\"},\"colorscale\":[[0.0,\"#0d0887\"],[0.1111111111111111,\"#46039f\"],[0.2222222222222222,\"#7201a8\"],[0.3333333333333333,\"#9c179e\"],[0.4444444444444444,\"#bd3786\"],[0.5555555555555556,\"#d8576b\"],[0.6666666666666666,\"#ed7953\"],[0.7777777777777778,\"#fb9f3a\"],[0.8888888888888888,\"#fdca26\"],[1.0,\"#f0f921\"]],\"type\":\"histogram2dcontour\"}],\"mesh3d\":[{\"colorbar\":{\"outlinewidth\":0,\"ticks\":\"\"},\"type\":\"mesh3d\"}],\"parcoords\":[{\"line\":{\"colorbar\":{\"outlinewidth\":0,\"ticks\":\"\"}},\"type\":\"parcoords\"}],\"pie\":[{\"automargin\":true,\"type\":\"pie\"}],\"scatter\":[{\"marker\":{\"colorbar\":{\"outlinewidth\":0,\"ticks\":\"\"}},\"type\":\"scatter\"}],\"scatter3d\":[{\"line\":{\"colorbar\":{\"outlinewidth\":0,\"ticks\":\"\"}},\"marker\":{\"colorbar\":{\"outlinewidth\":0,\"ticks\":\"\"}},\"type\":\"scatter3d\"}],\"scattercarpet\":[{\"marker\":{\"colorbar\":{\"outlinewidth\":0,\"ticks\":\"\"}},\"type\":\"scattercarpet\"}],\"scattergeo\":[{\"marker\":{\"colorbar\":{\"outlinewidth\":0,\"ticks\":\"\"}},\"type\":\"scattergeo\"}],\"scattergl\":[{\"marker\":{\"colorbar\":{\"outlinewidth\":0,\"ticks\":\"\"}},\"type\":\"scattergl\"}],\"scattermapbox\":[{\"marker\":{\"colorbar\":{\"outlinewidth\":0,\"ticks\":\"\"}},\"type\":\"scattermapbox\"}],\"scatterpolar\":[{\"marker\":{\"colorbar\":{\"outlinewidth\":0,\"ticks\":\"\"}},\"type\":\"scatterpolar\"}],\"scatterpolargl\":[{\"marker\":{\"colorbar\":{\"outlinewidth\":0,\"ticks\":\"\"}},\"type\":\"scatterpolargl\"}],\"scatterternary\":[{\"marker\":{\"colorbar\":{\"outlinewidth\":0,\"ticks\":\"\"}},\"type\":\"scatterternary\"}],\"surface\":[{\"colorbar\":{\"outlinewidth\":0,\"ticks\":\"\"},\"colorscale\":[[0.0,\"#0d0887\"],[0.1111111111111111,\"#46039f\"],[0.2222222222222222,\"#7201a8\"],[0.3333333333333333,\"#9c179e\"],[0.4444444444444444,\"#bd3786\"],[0.5555555555555556,\"#d8576b\"],[0.6666666666666666,\"#ed7953\"],[0.7777777777777778,\"#fb9f3a\"],[0.8888888888888888,\"#fdca26\"],[1.0,\"#f0f921\"]],\"type\":\"surface\"}],\"table\":[{\"cells\":{\"fill\":{\"color\":\"#EBF0F8\"},\"line\":{\"color\":\"white\"}},\"header\":{\"fill\":{\"color\":\"#C8D4E3\"},\"line\":{\"color\":\"white\"}},\"type\":\"table\"}]},\"layout\":{\"annotationdefaults\":{\"arrowcolor\":\"#2a3f5f\",\"arrowhead\":0,\"arrowwidth\":1},\"autotypenumbers\":\"strict\",\"coloraxis\":{\"colorbar\":{\"outlinewidth\":0,\"ticks\":\"\"}},\"colorscale\":{\"diverging\":[[0,\"#8e0152\"],[0.1,\"#c51b7d\"],[0.2,\"#de77ae\"],[0.3,\"#f1b6da\"],[0.4,\"#fde0ef\"],[0.5,\"#f7f7f7\"],[0.6,\"#e6f5d0\"],[0.7,\"#b8e186\"],[0.8,\"#7fbc41\"],[0.9,\"#4d9221\"],[1,\"#276419\"]],\"sequential\":[[0.0,\"#0d0887\"],[0.1111111111111111,\"#46039f\"],[0.2222222222222222,\"#7201a8\"],[0.3333333333333333,\"#9c179e\"],[0.4444444444444444,\"#bd3786\"],[0.5555555555555556,\"#d8576b\"],[0.6666666666666666,\"#ed7953\"],[0.7777777777777778,\"#fb9f3a\"],[0.8888888888888888,\"#fdca26\"],[1.0,\"#f0f921\"]],\"sequentialminus\":[[0.0,\"#0d0887\"],[0.1111111111111111,\"#46039f\"],[0.2222222222222222,\"#7201a8\"],[0.3333333333333333,\"#9c179e\"],[0.4444444444444444,\"#bd3786\"],[0.5555555555555556,\"#d8576b\"],[0.6666666666666666,\"#ed7953\"],[0.7777777777777778,\"#fb9f3a\"],[0.8888888888888888,\"#fdca26\"],[1.0,\"#f0f921\"]]},\"colorway\":[\"#636efa\",\"#EF553B\",\"#00cc96\",\"#ab63fa\",\"#FFA15A\",\"#19d3f3\",\"#FF6692\",\"#B6E880\",\"#FF97FF\",\"#FECB52\"],\"font\":{\"color\":\"#2a3f5f\"},\"geo\":{\"bgcolor\":\"white\",\"lakecolor\":\"white\",\"landcolor\":\"#E5ECF6\",\"showlakes\":true,\"showland\":true,\"subunitcolor\":\"white\"},\"hoverlabel\":{\"align\":\"left\"},\"hovermode\":\"closest\",\"mapbox\":{\"style\":\"light\"},\"paper_bgcolor\":\"white\",\"plot_bgcolor\":\"#E5ECF6\",\"polar\":{\"angularaxis\":{\"gridcolor\":\"white\",\"linecolor\":\"white\",\"ticks\":\"\"},\"bgcolor\":\"#E5ECF6\",\"radialaxis\":{\"gridcolor\":\"white\",\"linecolor\":\"white\",\"ticks\":\"\"}},\"scene\":{\"xaxis\":{\"backgroundcolor\":\"#E5ECF6\",\"gridcolor\":\"white\",\"gridwidth\":2,\"linecolor\":\"white\",\"showbackground\":true,\"ticks\":\"\",\"zerolinecolor\":\"white\"},\"yaxis\":{\"backgroundcolor\":\"#E5ECF6\",\"gridcolor\":\"white\",\"gridwidth\":2,\"linecolor\":\"white\",\"showbackground\":true,\"ticks\":\"\",\"zerolinecolor\":\"white\"},\"zaxis\":{\"backgroundcolor\":\"#E5ECF6\",\"gridcolor\":\"white\",\"gridwidth\":2,\"linecolor\":\"white\",\"showbackground\":true,\"ticks\":\"\",\"zerolinecolor\":\"white\"}},\"shapedefaults\":{\"line\":{\"color\":\"#2a3f5f\"}},\"ternary\":{\"aaxis\":{\"gridcolor\":\"white\",\"linecolor\":\"white\",\"ticks\":\"\"},\"baxis\":{\"gridcolor\":\"white\",\"linecolor\":\"white\",\"ticks\":\"\"},\"bgcolor\":\"#E5ECF6\",\"caxis\":{\"gridcolor\":\"white\",\"linecolor\":\"white\",\"ticks\":\"\"}},\"title\":{\"x\":0.05},\"xaxis\":{\"automargin\":true,\"gridcolor\":\"white\",\"linecolor\":\"white\",\"ticks\":\"\",\"title\":{\"standoff\":15},\"zerolinecolor\":\"white\",\"zerolinewidth\":2},\"yaxis\":{\"automargin\":true,\"gridcolor\":\"white\",\"linecolor\":\"white\",\"ticks\":\"\",\"title\":{\"standoff\":15},\"zerolinecolor\":\"white\",\"zerolinewidth\":2}}},\"xaxis\":{\"anchor\":\"y\",\"domain\":[0.0,1.0],\"title\":{\"text\":\"range_str\"}},\"yaxis\":{\"anchor\":\"x\",\"domain\":[0.0,1.0],\"title\":{\"text\":\"average_distance\"}},\"legend\":{\"tracegroupgap\":0},\"margin\":{\"t\":60},\"width\":2000},                        {\"responsive\": true}                    ).then(function(){\n",
       "                            \n",
       "var gd = document.getElementById('8acf31bc-8015-4045-94c8-e2df0718e6c2');\n",
       "var x = new MutationObserver(function (mutations, observer) {{\n",
       "        var display = window.getComputedStyle(gd).display;\n",
       "        if (!display || display === 'none') {{\n",
       "            console.log([gd, 'removed!']);\n",
       "            Plotly.purge(gd);\n",
       "            observer.disconnect();\n",
       "        }}\n",
       "}});\n",
       "\n",
       "// Listen for the removal of the full notebook cells\n",
       "var notebookContainer = gd.closest('#notebook-container');\n",
       "if (notebookContainer) {{\n",
       "    x.observe(notebookContainer, {childList: true});\n",
       "}}\n",
       "\n",
       "// Listen for the clearing of the current output cell\n",
       "var outputEl = gd.closest('.output');\n",
       "if (outputEl) {{\n",
       "    x.observe(outputEl, {childList: true});\n",
       "}}\n",
       "\n",
       "                        })                };                });            </script>        </div>"
      ]
     },
     "metadata": {},
     "output_type": "display_data"
    },
    {
     "name": "stderr",
     "output_type": "stream",
     "text": [
      "\n",
      "\n",
      "\n",
      "\n",
      "\n"
     ]
    }
   ],
   "source": [
    "import plotly.express as px\n",
    "\n",
    "res = pd.DataFrame(final_list)\n",
    "res['average_distance'] = 1 - res['average_cosine_similarity']\n",
    "\n",
    "res['range_str'] = res['range'].apply(lambda x : str(x[0]) + '-' + str(x[1]))\n",
    "#fig = px.line(res, x = 'range_str', y = 'average_distance', width = 2000, title = reg)\n",
    "fig = px.line(res, x = 'range_str', y = 'average_distance', width = 2000)\n",
    "\n",
    "fig"
   ]
  },
  {
   "cell_type": "code",
   "execution_count": 34,
   "id": "2226b039-d285-46b2-b7ea-0152512b3a54",
   "metadata": {},
   "outputs": [],
   "source": [
    "# Compute the graph"
   ]
  },
  {
   "cell_type": "code",
   "execution_count": null,
   "id": "f9297925-85e0-4aad-874f-cad772cf04b6",
   "metadata": {},
   "outputs": [],
   "source": []
  },
  {
   "cell_type": "code",
   "execution_count": null,
   "id": "23a15256-ec92-43b6-9e11-4a60abd666b1",
   "metadata": {},
   "outputs": [],
   "source": []
  },
  {
   "cell_type": "code",
   "execution_count": 35,
   "id": "64988b0f-bdce-4de6-b89d-58533e295a03",
   "metadata": {},
   "outputs": [],
   "source": [
    "import networkx as nx\n",
    "import numpy as np\n",
    "import pandas as pd\n",
    "import multiprocessing\n",
    "from collections import Counter\n",
    "#import community as community_louvain\n",
    "from sklearn.metrics.pairwise import cosine_similarity\n",
    "from sklearn.manifold import TSNE\n",
    "from sklearn.cluster import KMeans\n",
    "import umap\n",
    "from node2vec import Node2Vec\n",
    "import plotly.graph_objects as go\n",
    "import community.community_louvain as community_louvain\n",
    "\n",
    "class SemanticNetworks:\n",
    "    def __init__(self, df, index_var, variables: list) -> None:\n",
    "        self.data_network = df\n",
    "        self.index_var = index_var\n",
    "        self.variables = variables\n",
    "        pass\n",
    "\n",
    "    \"\"\"\n",
    "    Class made of a wide range of functions performing Networks analysis such as:\n",
    "    - Graph Embeddings\n",
    "    - Graph plots\n",
    "    \"\"\"\n",
    "\n",
    "    def fit_draw(\n",
    "        self,\n",
    "        top_n=100,\n",
    "        global_filter=0.2,\n",
    "        n_neighbours=6,\n",
    "        method=\"node2vec\",\n",
    "        n_cluster=10,\n",
    "        bin_number=30,\n",
    "        black_hole_force=1.5,\n",
    "        color=\"community\",\n",
    "        size=\"size\",\n",
    "        symbol=\"entity\",\n",
    "        textfont_size=9,\n",
    "        edge_size=1,\n",
    "        height=1000,\n",
    "        width=1000,\n",
    "        template=\"plotly_dark\",\n",
    "    ):\n",
    "\n",
    "        self.coocurrence_multiple()\n",
    "        self.get_top_nodes(top_n=top_n)\n",
    "        self.weight_to_similarity(\n",
    "            global_filter=global_filter, n_neighbours=n_neighbours\n",
    "        )\n",
    "\n",
    "        self.compute_network(\n",
    "            density=black_hole_force,\n",
    "            bin_number=bin_number,\n",
    "            method=method,\n",
    "            n_cluster=n_cluster,\n",
    "        )\n",
    "\n",
    "        fig = self.draw_network(\n",
    "            color=color,\n",
    "            size=size,\n",
    "            symbol=symbol,\n",
    "            textfont_size=textfont_size,\n",
    "            edge_size=edge_size,\n",
    "            height_att=height,\n",
    "            width_att=width,\n",
    "            template=template,\n",
    "        )\n",
    "\n",
    "        return fig\n",
    "\n",
    "    def coocurrence_multiple(self) -> pd.DataFrame:\n",
    "\n",
    "        fin = pd.DataFrame()\n",
    "        for var in self.variables:\n",
    "            df_var = self.data_network[[self.index_var, var]]\n",
    "            df_var = df_var.drop_duplicates()\n",
    "            df_var = (\n",
    "                df_var.groupby([self.index_var, var])[self.index_var]\n",
    "                .count()\n",
    "                .rename(\"weight\")\n",
    "                .reset_index()\n",
    "            )\n",
    "            df_var = df_var.rename(columns={var: \"data\"})\n",
    "            df_var[\"entity\"] = var\n",
    "            fin = fin.append(df_var)\n",
    "\n",
    "        self.fin = fin\n",
    "\n",
    "        df_co = pd.merge(self.fin, self.fin, on=self.index_var)\n",
    "        df_co[\"product\"] = df_co[\"weight_x\"] * df_co[\"weight_y\"]\n",
    "        self.edges = df_co.groupby([\"data_x\", \"data_y\"])[\"product\"].sum().reset_index()\n",
    "        self.edges.columns = [\"source\", \"target\", \"weight\"]\n",
    "\n",
    "        return self.edges\n",
    "\n",
    "    def get_top_nodes(self, top_n=300):\n",
    "\n",
    "        # filter by top_n regarding their size\n",
    "        nodes_attr = self.fin[[self.index_var, \"data\", \"entity\"]]\n",
    "        nodes_attr = (\n",
    "            nodes_attr.groupby([\"data\", \"entity\"])[self.index_var]\n",
    "            .count()\n",
    "            .rename(\"size\")\n",
    "            .reset_index()\n",
    "        )\n",
    "        nodes_attr = nodes_attr.sort_values(\"size\", ascending=False).reset_index(\n",
    "            drop=True\n",
    "        )\n",
    "        self.nodes_attr = nodes_attr.head(top_n)\n",
    "        self.edges = self.edges[\n",
    "            self.edges.source.isin(list(self.nodes_attr[\"data\"]))\n",
    "            & self.edges.target.isin(list(self.nodes_attr[\"data\"]))\n",
    "        ]\n",
    "\n",
    "        return self.edges\n",
    "\n",
    "    def weight_to_similarity(self, global_filter: float = 0.7, n_neighbours: int = 6):\n",
    "\n",
    "        \"\"\"\n",
    "\n",
    "        This functions transform an edge list with weights into an edge list whose weights are cosine similarity\n",
    "\n",
    "        parameters:\n",
    "            - cooc_df with the following columns:\n",
    "                - source\n",
    "                - target\n",
    "                - weight\n",
    "            - global_filter: filter with minimum similarity\n",
    "            - n_neighbours: filter with minimum neighbours\n",
    "\n",
    "        output:\n",
    "            - edge_list with the following columns:\n",
    "                - source\n",
    "                - target\n",
    "                - weight (cosine similarity)\n",
    "                - rank (closeness to the source)\n",
    "\n",
    "        \"\"\"\n",
    "\n",
    "        pivot = self.edges.pivot(\"source\", \"target\", \"weight\")\n",
    "        pivot = pivot.fillna(0)\n",
    "        similarity = cosine_similarity(pivot)  # compute cosine similarity\n",
    "        df_sim = pd.DataFrame(similarity, index=pivot.index, columns=pivot.columns)\n",
    "        df_sim = df_sim[(df_sim >= global_filter)]\n",
    "        df_sim[\"nodes\"] = df_sim.index\n",
    "\n",
    "        res_g = pd.melt(df_sim, id_vars=[\"nodes\"]).sort_values(\"nodes\")  # time\n",
    "        res_g = res_g.dropna()\n",
    "        res_g.columns = [\"source\", \"target\", \"weight\"]\n",
    "        res_g = res_g.sort_values(\"source\")\n",
    "\n",
    "        # Erase duplicates\n",
    "        duplicates = []\n",
    "        for x, y, i in zip(res_g.source, res_g.target, res_g.index):\n",
    "            if x == y:\n",
    "                duplicates.append(i)\n",
    "\n",
    "        new_edge = res_g.drop(index=duplicates)\n",
    "        new_edge = new_edge[new_edge.weight != 0]\n",
    "\n",
    "        # Filter Neighbours\n",
    "        new_edge[\"rank\"] = new_edge.groupby([\"source\"])[\"weight\"].rank(\n",
    "            method=\"first\", ascending=False\n",
    "        )\n",
    "        new_edge = new_edge[new_edge[\"rank\"] <= n_neighbours]\n",
    "        self.new_edge = new_edge.reset_index(drop=True)\n",
    "\n",
    "        return self.new_edge\n",
    "\n",
    "    def _get_community_name(self):\n",
    "    \n",
    "            # get a name for the clusters: the top 3 common terms\n",
    "        df_nodes = self.df_node[['community', 'entity', 'size']].reset_index()\n",
    "        df_nodes = df_nodes.rename(columns = {'index':'nodes'})\n",
    "        df_nodes = df_nodes[df_nodes['entity']!= 'centroid']\n",
    "        df_nodes = df_nodes.sort_values(['community', 'size'], ascending=(False, False))\n",
    "        df_nodes_names = df_nodes.groupby('community').head(3)\n",
    "        df_nodes_names = df_nodes_names.groupby('community')['nodes'].apply(lambda x: \" | \".join(x)).reset_index()\n",
    "        df_nodes_names = df_nodes_names.rename(columns = {'nodes':'cluster_name'})\n",
    "        df_nodes = pd.merge(df_nodes, df_nodes_names, on = 'community')\n",
    "        \n",
    "        return df_nodes\n",
    "\n",
    "    def _get_indexed_ids(self):\n",
    "\n",
    "        try:\n",
    "            var = [self.index_var] + self.variables\n",
    "            df = self.data_network[var]\n",
    "\n",
    "            df = df.rename(columns = {self.variables[0]:'nodes'})\n",
    "            df_indexed_net = pd.merge(df, self.df_node, on = 'nodes')\n",
    "            df_indexed_net = df_indexed_net.groupby([self.index_var, 'community'])['nodes'].count().reset_index()\n",
    "            df_indexed_net = df_indexed_net.sort_values([self.index_var, 'nodes'], ascending=(False, False))\n",
    "            df_indexed_net = df_indexed_net.groupby(self.index_var).head(1).reset_index(drop=True)\n",
    "            df_indexed_net = df_indexed_net.rename(columns = {'nodes':'count_elements'})\n",
    "        except:\n",
    "            print(\"The indexed only works for one variable...\")\n",
    "\n",
    "        return df_indexed_net\n",
    "\n",
    "\n",
    "    def compute_network(\n",
    "        self,\n",
    "        density: int = 2,\n",
    "        bin_number: int = 30,\n",
    "        method: str = \"node2vec\",\n",
    "        n_cluster: int = 10,\n",
    "    ):\n",
    "        \"\"\"This function takes edges as input and outputs a Networkx Object 'G' and\n",
    "        coordiate\n",
    "\n",
    "        Args:\n",
    "            density (int, optional): density of the clusters force force-directed algorithm only. Defaults to 1.\n",
    "            larger (int, optional): larger of the nodes_size . Defaults to 4.\n",
    "            bin_number (int, optional):  number of bins to normalize the nodes' size. Defaults to 30.\n",
    "            method (str, optional): node2vec or force_directed algorithm. Defaults to \"node2vec\".\n",
    "            n_cluster (int, optional): [description]. Defaults to 20.\n",
    "\n",
    "        Returns:\n",
    "            [type]: Networkx G object and an array of coordinate for all the nodes in the Networkx G\n",
    "        \"\"\"\n",
    "\n",
    "        def add_black_holes(G, density=2):\n",
    "\n",
    "            # Add centroids in the middle of every 'community' and connects it to\n",
    "            # all the nodes in the 'community'\n",
    "\n",
    "            df_node = pd.DataFrame.from_dict(dict(G.nodes(data=True)), orient=\"index\")\n",
    "            \n",
    "            for community_number in set(df_node.community):\n",
    "\n",
    "                G.add_node(\n",
    "                    f\"network_center_{community_number}\",\n",
    "                    community=community_number,\n",
    "                    size=1,\n",
    "                    entity=\"centroid\",\n",
    "                )\n",
    "\n",
    "                list_nodes = list(\n",
    "                    df_node[df_node[\"community\"] == community_number].index\n",
    "                )\n",
    "\n",
    "                for node in list_nodes:\n",
    "                    G.add_edge(\n",
    "                        f\"network_center_{community_number}\", node, weight=density\n",
    "                    )\n",
    "\n",
    "            return G\n",
    "\n",
    "        # Create Graph Object\n",
    "        G = nx.from_pandas_edgelist(\n",
    "            self.new_edge, source=\"source\", target=\"target\", edge_attr=\"weight\"\n",
    "        )\n",
    "        \n",
    "\n",
    "        # Compute centrality\n",
    "        centrality = nx.degree_centrality(G)\n",
    "        centrality = pd.DataFrame.from_dict(\n",
    "            centrality, orient=\"index\", columns=[\"centrality\"]\n",
    "        )\n",
    "\n",
    "        centrality[\"centrality\"] = pd.qcut(\n",
    "            centrality[\"centrality\"].rank(method=\"first\"),\n",
    "            bin_number,\n",
    "            labels=range(1, bin_number + 1),\n",
    "        )\n",
    "\n",
    "        # add centrality attribute to the G object\n",
    "        node_attr_centrality = centrality.to_dict(\"index\")\n",
    "        nx.set_node_attributes(G, node_attr_centrality)\n",
    "        \n",
    "        self.G = G\n",
    "\n",
    "        if method == \"force_directed\":\n",
    "            # Create the laout with Fruchterman-Reingold force-directed algorithm\n",
    "            # Louvain community\n",
    "            #partition = community_louvain.best_partition(G)\n",
    "            #import community\n",
    "            partition = community_louvain.best_partition(G)\n",
    "            partition = pd.DataFrame.from_dict(\n",
    "                partition, orient=\"index\", columns=[\"community\"]\n",
    "            )\n",
    "\n",
    "            # Add community attribute to the G object\n",
    "            node_attr_community = partition.to_dict(\"index\")\n",
    "            nx.set_node_attributes(G, node_attr_community)\n",
    "            G = add_black_holes(G, density=density)\n",
    "\n",
    "            # Compute the coordinate of nodes based on specific force algorithm\n",
    "            pos_ = nx.spring_layout(G)\n",
    "\n",
    "            self.df_embeddings = pd.DataFrame(pos_).T\n",
    "            self.df_embeddings.index = G.nodes()\n",
    "\n",
    "        elif method == \"node2vec\":\n",
    "\n",
    "            #node2vec = Node2Vec(G, dimensions=700, workers=multiprocessing.cpu_count())\n",
    "            node2vec = Node2Vec(G, dimensions=700, workers=5)\n",
    "            model = node2vec.fit(window=30, min_count=1)\n",
    "            nodes = list(map(str, G.nodes()))\n",
    "            embeddings = np.array([model.wv[x] for x in nodes])\n",
    "\n",
    "            # Get the community with embeddings\n",
    "            cluster_model = KMeans(n_clusters=n_cluster)\n",
    "            community = cluster_model.fit_predict(embeddings)\n",
    "\n",
    "            partition = pd.DataFrame(index=nodes)\n",
    "            partition[\"community\"] = community\n",
    "\n",
    "            # Add community attribute to the G object\n",
    "            node_attr_community = partition.to_dict(\"index\")\n",
    "            nx.set_node_attributes(G, node_attr_community)\n",
    "            G = add_black_holes(G, density=density)\n",
    "\n",
    "            # Re-compute to add the new nodes and get their\n",
    "            node2vec = Node2Vec(G, dimensions=700, workers=multiprocessing.cpu_count())\n",
    "            model = node2vec.fit(window=30, min_count=1)\n",
    "            nodes = list(map(str, G.nodes()))\n",
    "            embeddings = np.array([model.wv[x] for x in nodes])\n",
    "\n",
    "            # Get the 2D embeddings to display data\n",
    "            #tsne = TSNE(n_components=2,  perplexity=5)\n",
    "            tsne = umap.UMAP(n_components=2)\n",
    "\n",
    "            embeddings = tsne.fit_transform(embeddings)\n",
    "            pos_ = {nodes[x]: embeddings[x] for x in range(len(nodes))}\n",
    "\n",
    "            self.df_embeddings = pd.DataFrame(embeddings)\n",
    "            self.df_embeddings.index = nodes\n",
    "\n",
    "        self.G = G\n",
    "        self.pos_ = pos_\n",
    "\n",
    "        self.df_node = pd.DataFrame.from_dict(\n",
    "            dict(self.G.nodes(data=True)), orient=\"index\"\n",
    "        )\n",
    "\n",
    "    def draw_network(\n",
    "        self,\n",
    "        color=\"entity\",\n",
    "        size=\"size\",\n",
    "        symbol=None,\n",
    "        textfont_size=9,\n",
    "        edge_size=3,\n",
    "        height_att=1000,\n",
    "        width_att=1000,\n",
    "        template=\"plotly_dark\",\n",
    "    ):\n",
    "        \"\"\"Output a Graph\n",
    "\n",
    "        Args:\n",
    "            color (str, optional): chose in the nodes attribute the column_name for colors. Defaults to \"entity\".\n",
    "            size (str, optional): chose in the nodes attribute the column_name for size. Defaults to \"size\".\n",
    "            symbol ([type], optional): [description]. Defaults to None.\n",
    "        \"\"\"\n",
    "\n",
    "        # Deal the size of the centroids (as they do not come from the nodes_attr)\n",
    "        clusters = [\n",
    "            self.G.nodes(data=True)[x][\"community\"] for x in list(self.G.nodes())\n",
    "        ]\n",
    "        clusters = dict(Counter(clusters))\n",
    "\n",
    "        # Add the entities and the size\n",
    "        df_nodes = self.nodes_attr.set_index(\"data\")\n",
    "        df_nodes[\"entity\"] = df_nodes[\"entity\"].astype(\"category\").cat.codes\n",
    "        bin_number = 30\n",
    "        df_nodes[\"size\"] = pd.cut(\n",
    "            df_nodes[\"size\"].rank(method=\"first\"),\n",
    "            bin_number,\n",
    "            labels=range(1, bin_number + 1),\n",
    "        )\n",
    "\n",
    "        node_attr = df_nodes.to_dict(\"index\")\n",
    "        nx.set_node_attributes(self.G, node_attr)\n",
    "\n",
    "        self.df_node = pd.DataFrame.from_dict(\n",
    "            dict(self.G.nodes(data=True)), orient=\"index\"\n",
    "        )\n",
    "        self.df_node = pd.merge(\n",
    "            self.df_embeddings, self.df_node, left_index=True, right_index=True\n",
    "        )\n",
    "\n",
    "        # For each edge, make an edge_trace, append to list\n",
    "        edge_trace = []\n",
    "        for edge in self.G.edges():\n",
    "\n",
    "            if self.G.edges()[edge][\"weight\"] > 0:\n",
    "                x0, y0 = self.pos_[edge[0]]\n",
    "                x1, y1 = self.pos_[edge[1]]\n",
    "\n",
    "                \"\"\"text = (\n",
    "                    char_1 + \"--\" + char_2 + \": \" + str(self.G.edges()[edge][\"weight\"])\n",
    "                )\"\"\"\n",
    "\n",
    "                if \"network_center_\" in edge[0]:\n",
    "                    width = 0\n",
    "                elif \"network_center_\" in edge[1]:\n",
    "                    width = 0\n",
    "\n",
    "                else:\n",
    "                    # The bigger the node, the bigger the edge width\n",
    "                    width = edge_size * self.G.edges()[edge][\"weight\"] ** 1.75\n",
    "\n",
    "                trace = go.Scatter(\n",
    "                    x=[x0, x1, None],\n",
    "                    y=[y0, y1, None],\n",
    "                    line=dict(width=width, color=\"cornflowerblue\"),\n",
    "                    mode=\"lines\",\n",
    "                )\n",
    "                # fig.add_trace(trace)\n",
    "            edge_trace.append(trace)\n",
    "\n",
    "        # Make a node trace\n",
    "        node_trace = go.Scatter(\n",
    "            x=[],\n",
    "            y=[],\n",
    "            text=[],\n",
    "            textposition=\"top center\",\n",
    "            textfont_size=textfont_size,\n",
    "            mode=\"markers+text\",\n",
    "            hoverinfo=\"text\",\n",
    "            marker=dict(color=[], size=[], line=None, opacity=[], symbol=[]),\n",
    "        )\n",
    "\n",
    "        # For each nodeget the position and size and add to the node_trace\n",
    "        for node in self.G.nodes():\n",
    "\n",
    "            if \"network_center_\" in node:\n",
    "                continue\n",
    "\n",
    "            x, y = self.pos_[node]\n",
    "            node_trace[\"x\"] += tuple([x])\n",
    "            node_trace[\"y\"] += tuple([y])\n",
    "            node_trace[\"marker\"][\"color\"] += tuple([self.G.nodes()[node][color]])\n",
    "\n",
    "            if symbol is None:\n",
    "                node_trace[\"marker\"][\"symbol\"] = \"circle\"\n",
    "            else:\n",
    "                node_trace[\"marker\"][\"symbol\"] += tuple([self.G.nodes()[node][symbol]])\n",
    "\n",
    "            node_trace[\"text\"] += tuple([\"<b>\" + node + \"</b>\"])\n",
    "            node_trace[\"marker\"][\"opacity\"] += tuple([0.6])\n",
    "            node_trace[\"marker\"][\"size\"] += tuple([self.G.nodes()[node][size]])\n",
    "\n",
    "        # Customize layout\n",
    "        layout = go.Layout(\n",
    "            height=height_att,\n",
    "            width=width_att,\n",
    "            title=\"Semantic Network\",\n",
    "            xaxis={\"showgrid\": False, \"zeroline\": False},  # no gridlines\n",
    "            yaxis={\"showgrid\": False, \"zeroline\": False},  # no gridlines\n",
    "        )\n",
    "\n",
    "        # Create figure\n",
    "        fig = go.Figure(layout=layout)\n",
    "\n",
    "        # Add the traces\n",
    "        for trace in edge_trace:\n",
    "            fig.add_trace(trace)\n",
    "\n",
    "        fig.add_trace(node_trace)\n",
    "        fig.update_layout(showlegend=False)\n",
    "        fig.update_xaxes(showticklabels=False)\n",
    "        fig.update_yaxes(showticklabels=False)\n",
    "        fig.update_layout(template=template)\n",
    "\n",
    "\n",
    "        # Give clusters a name\n",
    "        self.df_topic_name = self._get_community_name()\n",
    "        self.df_topic_name = self.df_topic_name[['nodes', 'cluster_name']]\n",
    "        self.df_node = self.df_node.reset_index()\n",
    "        self.df_node = self.df_node.rename(columns = {'index':'nodes'})\n",
    "        self.df_node = pd.merge(self.df_topic_name, self.df_node, on = 'nodes')\n",
    "\n",
    "\n",
    "        self.df_indexed_net  = self._get_indexed_ids()\n",
    "    \n",
    "        return fig"
   ]
  },
  {
   "cell_type": "code",
   "execution_count": null,
   "id": "1f45aa29-e58a-41dc-8b58-5326f5acdb09",
   "metadata": {},
   "outputs": [],
   "source": []
  },
  {
   "cell_type": "code",
   "execution_count": 36,
   "id": "58c5debc-c8de-4ed3-8adf-689f322c901f",
   "metadata": {},
   "outputs": [],
   "source": [
    "df_top_occupation.occupation.value_counts().reset_index().head(50).to_clipboard(index=False)"
   ]
  },
  {
   "cell_type": "code",
   "execution_count": 37,
   "id": "caf84538-cc3e-4fbe-8404-a6150f56c18b",
   "metadata": {},
   "outputs": [],
   "source": [
    "load_occupations = pd.read_csv('Cultural Index - Clean top 50 occupations - data.csv')\n",
    "load_occupations = load_occupations[load_occupations['exclude']!= 1]\n",
    "load_occupations = list(load_occupations['index'])"
   ]
  },
  {
   "cell_type": "code",
   "execution_count": null,
   "id": "e4186c59-d6b0-4ff9-8a96-f72d0605466b",
   "metadata": {},
   "outputs": [],
   "source": []
  },
  {
   "cell_type": "code",
   "execution_count": null,
   "id": "ef4704d1-ab46-4e75-8be4-ccae37e3e127",
   "metadata": {},
   "outputs": [],
   "source": []
  },
  {
   "cell_type": "code",
   "execution_count": 47,
   "id": "35edba7a-95a3-4ebf-a2b0-0a76735a4a46",
   "metadata": {},
   "outputs": [
    {
     "data": {
      "application/vnd.plotly.v1+json": {
       "config": {
        "plotlyServerURL": "https://plot.ly"
       },
       "data": [
        {
         "line": {
          "color": "cornflowerblue",
          "width": 2.250495051153908
         },
         "mode": "lines",
         "type": "scatter",
         "x": [
          0.049191833079571534,
          0.15755439328054147,
          null
         ],
         "y": [
          0.08397161507536277,
          -0.015616366965879641,
          null
         ]
        },
        {
         "line": {
          "color": "cornflowerblue",
          "width": 2.7693310106400983
         },
         "mode": "lines",
         "type": "scatter",
         "x": [
          0.049191833079571534,
          0.12045214447593951,
          null
         ],
         "y": [
          0.08397161507536277,
          0.05986858676209084,
          null
         ]
        },
        {
         "line": {
          "color": "cornflowerblue",
          "width": 5.264183872755305
         },
         "mode": "lines",
         "type": "scatter",
         "x": [
          0.049191833079571534,
          0.005626041932804303,
          null
         ],
         "y": [
          0.08397161507536277,
          0.005961170696173689,
          null
         ]
        },
        {
         "line": {
          "color": "cornflowerblue",
          "width": 1.3571074274259955
         },
         "mode": "lines",
         "type": "scatter",
         "x": [
          0.049191833079571534,
          0.07486881828719552,
          null
         ],
         "y": [
          0.08397161507536277,
          0.005055224035648257,
          null
         ]
        },
        {
         "line": {
          "color": "cornflowerblue",
          "width": 2.6706817904292186
         },
         "mode": "lines",
         "type": "scatter",
         "x": [
          0.049191833079571534,
          0.09092707058848244,
          null
         ],
         "y": [
          0.08397161507536277,
          -0.047312066868714746,
          null
         ]
        },
        {
         "line": {
          "color": "cornflowerblue",
          "width": 1.0233341138941796
         },
         "mode": "lines",
         "type": "scatter",
         "x": [
          0.049191833079571534,
          0.1364867485793205,
          null
         ],
         "y": [
          0.08397161507536277,
          0.18860438457508294,
          null
         ]
        },
        {
         "line": {
          "color": "cornflowerblue",
          "width": 0.9101496239546407
         },
         "mode": "lines",
         "type": "scatter",
         "x": [
          0.049191833079571534,
          0.2474979717599985,
          null
         ],
         "y": [
          0.08397161507536277,
          0.17855346242246475,
          null
         ]
        },
        {
         "line": {
          "color": "cornflowerblue",
          "width": 0.23976345011123862
         },
         "mode": "lines",
         "type": "scatter",
         "x": [
          0.049191833079571534,
          0.02330018405011712,
          null
         ],
         "y": [
          0.08397161507536277,
          -0.15543754628545023,
          null
         ]
        },
        {
         "line": {
          "color": "cornflowerblue",
          "width": 0.23976345011123862
         },
         "mode": "lines",
         "type": "scatter",
         "x": [
          0.049191833079571534,
          0.02330018405011712,
          null
         ],
         "y": [
          0.08397161507536277,
          -0.15543754628545023,
          null
         ]
        },
        {
         "line": {
          "color": "cornflowerblue",
          "width": 1.6331398274557853
         },
         "mode": "lines",
         "type": "scatter",
         "x": [
          0.15755439328054147,
          0.26173748377046946,
          null
         ],
         "y": [
          -0.015616366965879641,
          0.04680470574236511,
          null
         ]
        },
        {
         "line": {
          "color": "cornflowerblue",
          "width": 2.1631806187323934
         },
         "mode": "lines",
         "type": "scatter",
         "x": [
          0.15755439328054147,
          0.09092707058848244,
          null
         ],
         "y": [
          -0.015616366965879641,
          -0.047312066868714746,
          null
         ]
        },
        {
         "line": {
          "color": "cornflowerblue",
          "width": 2.222239245459099
         },
         "mode": "lines",
         "type": "scatter",
         "x": [
          0.15755439328054147,
          0.18432516943106708,
          null
         ],
         "y": [
          -0.015616366965879641,
          0.052271702132424686,
          null
         ]
        },
        {
         "line": {
          "color": "cornflowerblue",
          "width": 2.070761273156648
         },
         "mode": "lines",
         "type": "scatter",
         "x": [
          0.15755439328054147,
          0.005626041932804303,
          null
         ],
         "y": [
          -0.015616366965879641,
          0.005961170696173689,
          null
         ]
        },
        {
         "line": {
          "color": "cornflowerblue",
          "width": 2.014671424895015
         },
         "mode": "lines",
         "type": "scatter",
         "x": [
          0.15755439328054147,
          0.12045214447593951,
          null
         ],
         "y": [
          -0.015616366965879641,
          0.05986858676209084,
          null
         ]
        },
        {
         "line": {
          "color": "cornflowerblue",
          "width": 0.36917346295219217
         },
         "mode": "lines",
         "type": "scatter",
         "x": [
          0.15755439328054147,
          0.3708251807194992,
          null
         ],
         "y": [
          -0.015616366965879641,
          -0.034623886086538304,
          null
         ]
        },
        {
         "line": {
          "color": "cornflowerblue",
          "width": 1.577178045880686
         },
         "mode": "lines",
         "type": "scatter",
         "x": [
          0.15755439328054147,
          0.07486881828719552,
          null
         ],
         "y": [
          -0.015616366965879641,
          0.005055224035648257,
          null
         ]
        },
        {
         "line": {
          "color": "cornflowerblue",
          "width": 1.413048355577658
         },
         "mode": "lines",
         "type": "scatter",
         "x": [
          0.15755439328054147,
          0.18378312998461743,
          null
         ],
         "y": [
          -0.015616366965879641,
          -0.08239753250181389,
          null
         ]
        },
        {
         "line": {
          "color": "cornflowerblue",
          "width": 1.413048355577658
         },
         "mode": "lines",
         "type": "scatter",
         "x": [
          0.15755439328054147,
          0.18378312998461743,
          null
         ],
         "y": [
          -0.015616366965879641,
          -0.08239753250181389,
          null
         ]
        },
        {
         "line": {
          "color": "cornflowerblue",
          "width": 2.6430409027836035
         },
         "mode": "lines",
         "type": "scatter",
         "x": [
          0.12045214447593951,
          0.26173748377046946,
          null
         ],
         "y": [
          0.05986858676209084,
          0.04680470574236511,
          null
         ]
        },
        {
         "line": {
          "color": "cornflowerblue",
          "width": 2.228190791009565
         },
         "mode": "lines",
         "type": "scatter",
         "x": [
          0.12045214447593951,
          0.1364867485793205,
          null
         ],
         "y": [
          0.05986858676209084,
          0.18860438457508294,
          null
         ]
        },
        {
         "line": {
          "color": "cornflowerblue",
          "width": 2.7549851195836315
         },
         "mode": "lines",
         "type": "scatter",
         "x": [
          0.12045214447593951,
          0.005626041932804303,
          null
         ],
         "y": [
          0.05986858676209084,
          0.005961170696173689,
          null
         ]
        },
        {
         "line": {
          "color": "cornflowerblue",
          "width": 3.7768071828648466
         },
         "mode": "lines",
         "type": "scatter",
         "x": [
          0.12045214447593951,
          0.09092707058848244,
          null
         ],
         "y": [
          0.05986858676209084,
          -0.047312066868714746,
          null
         ]
        },
        {
         "line": {
          "color": "cornflowerblue",
          "width": 4.3337820987411835
         },
         "mode": "lines",
         "type": "scatter",
         "x": [
          0.12045214447593951,
          0.18432516943106708,
          null
         ],
         "y": [
          0.05986858676209084,
          0.052271702132424686,
          null
         ]
        },
        {
         "line": {
          "color": "cornflowerblue",
          "width": 1.838263165214743
         },
         "mode": "lines",
         "type": "scatter",
         "x": [
          0.12045214447593951,
          0.07486881828719552,
          null
         ],
         "y": [
          0.05986858676209084,
          0.005055224035648257,
          null
         ]
        },
        {
         "line": {
          "color": "cornflowerblue",
          "width": 1.541482646282626
         },
         "mode": "lines",
         "type": "scatter",
         "x": [
          0.12045214447593951,
          0.18378312998461743,
          null
         ],
         "y": [
          0.05986858676209084,
          -0.08239753250181389,
          null
         ]
        },
        {
         "line": {
          "color": "cornflowerblue",
          "width": 1.541482646282626
         },
         "mode": "lines",
         "type": "scatter",
         "x": [
          0.12045214447593951,
          0.18378312998461743,
          null
         ],
         "y": [
          0.05986858676209084,
          -0.08239753250181389,
          null
         ]
        },
        {
         "line": {
          "color": "cornflowerblue",
          "width": 3.263242389534791
         },
         "mode": "lines",
         "type": "scatter",
         "x": [
          0.005626041932804303,
          0.09092707058848244,
          null
         ],
         "y": [
          0.005961170696173689,
          -0.047312066868714746,
          null
         ]
        },
        {
         "line": {
          "color": "cornflowerblue",
          "width": 1.4249827810879643
         },
         "mode": "lines",
         "type": "scatter",
         "x": [
          0.005626041932804303,
          0.18432516943106708,
          null
         ],
         "y": [
          0.005961170696173689,
          0.052271702132424686,
          null
         ]
        },
        {
         "line": {
          "color": "cornflowerblue",
          "width": 0.2657526705541644
         },
         "mode": "lines",
         "type": "scatter",
         "x": [
          0.005626041932804303,
          0.02330018405011712,
          null
         ],
         "y": [
          0.005961170696173689,
          -0.15543754628545023,
          null
         ]
        },
        {
         "line": {
          "color": "cornflowerblue",
          "width": 0.2657526705541644
         },
         "mode": "lines",
         "type": "scatter",
         "x": [
          0.005626041932804303,
          0.02330018405011712,
          null
         ],
         "y": [
          0.005961170696173689,
          -0.15543754628545023,
          null
         ]
        },
        {
         "line": {
          "color": "cornflowerblue",
          "width": 0.8576591181026364
         },
         "mode": "lines",
         "type": "scatter",
         "x": [
          0.07486881828719552,
          0.1364867485793205,
          null
         ],
         "y": [
          0.005055224035648257,
          0.18860438457508294,
          null
         ]
        },
        {
         "line": {
          "color": "cornflowerblue",
          "width": 1.500968455081604
         },
         "mode": "lines",
         "type": "scatter",
         "x": [
          0.07486881828719552,
          0.09092707058848244,
          null
         ],
         "y": [
          0.005055224035648257,
          -0.047312066868714746,
          null
         ]
        },
        {
         "line": {
          "color": "cornflowerblue",
          "width": 2.4433718659781554
         },
         "mode": "lines",
         "type": "scatter",
         "x": [
          0.07486881828719552,
          0.18378312998461743,
          null
         ],
         "y": [
          0.005055224035648257,
          -0.08239753250181389,
          null
         ]
        },
        {
         "line": {
          "color": "cornflowerblue",
          "width": 2.9691945426238364
         },
         "mode": "lines",
         "type": "scatter",
         "x": [
          0.07486881828719552,
          0.18432516943106708,
          null
         ],
         "y": [
          0.005055224035648257,
          0.052271702132424686,
          null
         ]
        },
        {
         "line": {
          "color": "cornflowerblue",
          "width": 0.5831956830566454
         },
         "mode": "lines",
         "type": "scatter",
         "x": [
          0.07486881828719552,
          0.02330018405011712,
          null
         ],
         "y": [
          0.005055224035648257,
          -0.15543754628545023,
          null
         ]
        },
        {
         "line": {
          "color": "cornflowerblue",
          "width": 0.5831956830566454
         },
         "mode": "lines",
         "type": "scatter",
         "x": [
          0.07486881828719552,
          0.02330018405011712,
          null
         ],
         "y": [
          0.005055224035648257,
          -0.15543754628545023,
          null
         ]
        },
        {
         "line": {
          "color": "cornflowerblue",
          "width": 0.8247655781113277
         },
         "mode": "lines",
         "type": "scatter",
         "x": [
          0.09092707058848244,
          0.26173748377046946,
          null
         ],
         "y": [
          -0.047312066868714746,
          0.04680470574236511,
          null
         ]
        },
        {
         "line": {
          "color": "cornflowerblue",
          "width": 1.847128708360988
         },
         "mode": "lines",
         "type": "scatter",
         "x": [
          0.09092707058848244,
          0.18378312998461743,
          null
         ],
         "y": [
          -0.047312066868714746,
          -0.08239753250181389,
          null
         ]
        },
        {
         "line": {
          "color": "cornflowerblue",
          "width": 2.0127273113367257
         },
         "mode": "lines",
         "type": "scatter",
         "x": [
          0.09092707058848244,
          0.18432516943106708,
          null
         ],
         "y": [
          -0.047312066868714746,
          0.052271702132424686,
          null
         ]
        },
        {
         "line": {
          "color": "cornflowerblue",
          "width": 0.6585900672559777
         },
         "mode": "lines",
         "type": "scatter",
         "x": [
          0.09092707058848244,
          0.02330018405011712,
          null
         ],
         "y": [
          -0.047312066868714746,
          -0.15543754628545023,
          null
         ]
        },
        {
         "line": {
          "color": "cornflowerblue",
          "width": 0.6585900672559777
         },
         "mode": "lines",
         "type": "scatter",
         "x": [
          0.09092707058848244,
          0.02330018405011712,
          null
         ],
         "y": [
          -0.047312066868714746,
          -0.15543754628545023,
          null
         ]
        },
        {
         "line": {
          "color": "cornflowerblue",
          "width": 1.022761475468144
         },
         "mode": "lines",
         "type": "scatter",
         "x": [
          0.26173748377046946,
          0.2474979717599985,
          null
         ],
         "y": [
          0.04680470574236511,
          0.17855346242246475,
          null
         ]
        },
        {
         "line": {
          "color": "cornflowerblue",
          "width": 2.454572489050954
         },
         "mode": "lines",
         "type": "scatter",
         "x": [
          0.26173748377046946,
          0.18432516943106708,
          null
         ],
         "y": [
          0.04680470574236511,
          0.052271702132424686,
          null
         ]
        },
        {
         "line": {
          "color": "cornflowerblue",
          "width": 0.5835633908034706
         },
         "mode": "lines",
         "type": "scatter",
         "x": [
          0.26173748377046946,
          0.3446195800564963,
          null
         ],
         "y": [
          0.04680470574236511,
          0.14533371252581032,
          null
         ]
        },
        {
         "line": {
          "color": "cornflowerblue",
          "width": 0.2384254631306728
         },
         "mode": "lines",
         "type": "scatter",
         "x": [
          0.26173748377046946,
          0.3708251807194992,
          null
         ],
         "y": [
          0.04680470574236511,
          -0.034623886086538304,
          null
         ]
        },
        {
         "line": {
          "color": "cornflowerblue",
          "width": 0.2384254631306728
         },
         "mode": "lines",
         "type": "scatter",
         "x": [
          0.26173748377046946,
          0.3708251807194992,
          null
         ],
         "y": [
          0.04680470574236511,
          -0.034623886086538304,
          null
         ]
        },
        {
         "line": {
          "color": "cornflowerblue",
          "width": 1.744215165754133
         },
         "mode": "lines",
         "type": "scatter",
         "x": [
          0.2474979717599985,
          0.1364867485793205,
          null
         ],
         "y": [
          0.17855346242246475,
          0.18860438457508294,
          null
         ]
        },
        {
         "line": {
          "color": "cornflowerblue",
          "width": 1.3501942868767391
         },
         "mode": "lines",
         "type": "scatter",
         "x": [
          0.2474979717599985,
          0.3446195800564963,
          null
         ],
         "y": [
          0.17855346242246475,
          0.14533371252581032,
          null
         ]
        },
        {
         "line": {
          "color": "cornflowerblue",
          "width": 0.99880204681008
         },
         "mode": "lines",
         "type": "scatter",
         "x": [
          0.2474979717599985,
          0.18432516943106708,
          null
         ],
         "y": [
          0.17855346242246475,
          0.052271702132424686,
          null
         ]
        },
        {
         "line": {
          "color": "cornflowerblue",
          "width": 0.2670284295495561
         },
         "mode": "lines",
         "type": "scatter",
         "x": [
          0.2474979717599985,
          0.3708251807194992,
          null
         ],
         "y": [
          0.17855346242246475,
          -0.034623886086538304,
          null
         ]
        },
        {
         "line": {
          "color": "cornflowerblue",
          "width": 0.2670284295495561
         },
         "mode": "lines",
         "type": "scatter",
         "x": [
          0.2474979717599985,
          0.3708251807194992,
          null
         ],
         "y": [
          0.17855346242246475,
          -0.034623886086538304,
          null
         ]
        },
        {
         "line": {
          "color": "cornflowerblue",
          "width": 0.8375069828465862
         },
         "mode": "lines",
         "type": "scatter",
         "x": [
          0.18432516943106708,
          0.1364867485793205,
          null
         ],
         "y": [
          0.052271702132424686,
          0.18860438457508294,
          null
         ]
        },
        {
         "line": {
          "color": "cornflowerblue",
          "width": 0.49231704470724125
         },
         "mode": "lines",
         "type": "scatter",
         "x": [
          0.18432516943106708,
          0.3446195800564963,
          null
         ],
         "y": [
          0.052271702132424686,
          0.14533371252581032,
          null
         ]
        },
        {
         "line": {
          "color": "cornflowerblue",
          "width": 0.25788653749951607
         },
         "mode": "lines",
         "type": "scatter",
         "x": [
          0.18432516943106708,
          0.3708251807194992,
          null
         ],
         "y": [
          0.052271702132424686,
          -0.034623886086538304,
          null
         ]
        },
        {
         "line": {
          "color": "cornflowerblue",
          "width": 1.4449141328158157
         },
         "mode": "lines",
         "type": "scatter",
         "x": [
          0.18432516943106708,
          0.18378312998461743,
          null
         ],
         "y": [
          0.052271702132424686,
          -0.08239753250181389,
          null
         ]
        },
        {
         "line": {
          "color": "cornflowerblue",
          "width": 1.4449141328158157
         },
         "mode": "lines",
         "type": "scatter",
         "x": [
          0.18432516943106708,
          0.18378312998461743,
          null
         ],
         "y": [
          0.052271702132424686,
          -0.08239753250181389,
          null
         ]
        },
        {
         "line": {
          "color": "cornflowerblue",
          "width": 0.29890274737995004
         },
         "mode": "lines",
         "type": "scatter",
         "x": [
          0.1364867485793205,
          0.3446195800564963,
          null
         ],
         "y": [
          0.18860438457508294,
          0.14533371252581032,
          null
         ]
        },
        {
         "line": {
          "color": "cornflowerblue",
          "width": 0.29890274737995004
         },
         "mode": "lines",
         "type": "scatter",
         "x": [
          0.1364867485793205,
          0.3446195800564963,
          null
         ],
         "y": [
          0.18860438457508294,
          0.14533371252581032,
          null
         ]
        },
        {
         "line": {
          "color": "cornflowerblue",
          "width": 0.3092774887625109
         },
         "mode": "lines",
         "type": "scatter",
         "x": [
          0.3446195800564963,
          0.18378312998461743,
          null
         ],
         "y": [
          0.14533371252581032,
          -0.08239753250181389,
          null
         ]
        },
        {
         "line": {
          "color": "cornflowerblue",
          "width": 0.3092774887625109
         },
         "mode": "lines",
         "type": "scatter",
         "x": [
          0.3446195800564963,
          0.18378312998461743,
          null
         ],
         "y": [
          0.14533371252581032,
          -0.08239753250181389,
          null
         ]
        },
        {
         "line": {
          "color": "cornflowerblue",
          "width": 0.34204354544743854
         },
         "mode": "lines",
         "type": "scatter",
         "x": [
          0.18378312998461743,
          0.3708251807194992,
          null
         ],
         "y": [
          -0.08239753250181389,
          -0.034623886086538304,
          null
         ]
        },
        {
         "line": {
          "color": "cornflowerblue",
          "width": 1.3810380860784226
         },
         "mode": "lines",
         "type": "scatter",
         "x": [
          0.18378312998461743,
          0.02330018405011712,
          null
         ],
         "y": [
          -0.08239753250181389,
          -0.15543754628545023,
          null
         ]
        },
        {
         "line": {
          "color": "cornflowerblue",
          "width": 1.3810380860784226
         },
         "mode": "lines",
         "type": "scatter",
         "x": [
          0.18378312998461743,
          0.02330018405011712,
          null
         ],
         "y": [
          -0.08239753250181389,
          -0.15543754628545023,
          null
         ]
        },
        {
         "line": {
          "color": "cornflowerblue",
          "width": 1.3810380860784226
         },
         "mode": "lines",
         "type": "scatter",
         "x": [
          0.18378312998461743,
          0.02330018405011712,
          null
         ],
         "y": [
          -0.08239753250181389,
          -0.15543754628545023,
          null
         ]
        },
        {
         "line": {
          "color": "cornflowerblue",
          "width": 1.3810380860784226
         },
         "mode": "lines",
         "type": "scatter",
         "x": [
          0.18378312998461743,
          0.02330018405011712,
          null
         ],
         "y": [
          -0.08239753250181389,
          -0.15543754628545023,
          null
         ]
        },
        {
         "hoverinfo": "text",
         "marker": {
          "color": [
           0,
           0,
           0,
           0,
           1,
           0,
           2,
           2,
           2,
           2,
           2,
           1,
           2,
           1
          ],
          "opacity": [
           0.6,
           0.6,
           0.6,
           0.6,
           0.6,
           0.6,
           0.6,
           0.6,
           0.6,
           0.6,
           0.6,
           0.6,
           0.6,
           0.6
          ],
          "size": [
           21,
           7,
           1,
           24,
           3,
           12,
           10,
           17,
           5,
           14,
           28,
           26,
           19,
           30
          ],
          "symbol": [
           0,
           0,
           0,
           0,
           0,
           0,
           0,
           0,
           0,
           0,
           0,
           0,
           0,
           0
          ]
         },
         "mode": "markers+text",
         "text": [
          "<b>astronomer</b>",
          "<b>chemist</b>",
          "<b>geologist</b>",
          "<b>mathematician</b>",
          "<b>naturalist</b>",
          "<b>physicist</b>",
          "<b>botanist</b>",
          "<b>geographer</b>",
          "<b>zoologist</b>",
          "<b>cartographer</b>",
          "<b>historian</b>",
          "<b>philosopher</b>",
          "<b>linguist</b>",
          "<b>theologian</b>"
         ],
         "textfont": {
          "size": 20
         },
         "textposition": "top center",
         "type": "scatter",
         "x": [
          0.049191833079571534,
          0.15755439328054147,
          0.12045214447593951,
          0.005626041932804303,
          0.07486881828719552,
          0.09092707058848244,
          0.26173748377046946,
          0.2474979717599985,
          0.18432516943106708,
          0.1364867485793205,
          0.3446195800564963,
          0.18378312998461743,
          0.3708251807194992,
          0.02330018405011712
         ],
         "y": [
          0.08397161507536277,
          -0.015616366965879641,
          0.05986858676209084,
          0.005961170696173689,
          0.005055224035648257,
          -0.047312066868714746,
          0.04680470574236511,
          0.17855346242246475,
          0.052271702132424686,
          0.18860438457508294,
          0.14533371252581032,
          -0.08239753250181389,
          -0.034623886086538304,
          -0.15543754628545023
         ]
        }
       ],
       "layout": {
        "height": 1000,
        "showlegend": false,
        "template": {
         "data": {
          "bar": [
           {
            "error_x": {
             "color": "#2a3f5f"
            },
            "error_y": {
             "color": "#2a3f5f"
            },
            "marker": {
             "line": {
              "color": "white",
              "width": 0.5
             },
             "pattern": {
              "fillmode": "overlay",
              "size": 10,
              "solidity": 0.2
             }
            },
            "type": "bar"
           }
          ],
          "barpolar": [
           {
            "marker": {
             "line": {
              "color": "white",
              "width": 0.5
             },
             "pattern": {
              "fillmode": "overlay",
              "size": 10,
              "solidity": 0.2
             }
            },
            "type": "barpolar"
           }
          ],
          "carpet": [
           {
            "aaxis": {
             "endlinecolor": "#2a3f5f",
             "gridcolor": "#C8D4E3",
             "linecolor": "#C8D4E3",
             "minorgridcolor": "#C8D4E3",
             "startlinecolor": "#2a3f5f"
            },
            "baxis": {
             "endlinecolor": "#2a3f5f",
             "gridcolor": "#C8D4E3",
             "linecolor": "#C8D4E3",
             "minorgridcolor": "#C8D4E3",
             "startlinecolor": "#2a3f5f"
            },
            "type": "carpet"
           }
          ],
          "choropleth": [
           {
            "colorbar": {
             "outlinewidth": 0,
             "ticks": ""
            },
            "type": "choropleth"
           }
          ],
          "contour": [
           {
            "colorbar": {
             "outlinewidth": 0,
             "ticks": ""
            },
            "colorscale": [
             [
              0,
              "#0d0887"
             ],
             [
              0.1111111111111111,
              "#46039f"
             ],
             [
              0.2222222222222222,
              "#7201a8"
             ],
             [
              0.3333333333333333,
              "#9c179e"
             ],
             [
              0.4444444444444444,
              "#bd3786"
             ],
             [
              0.5555555555555556,
              "#d8576b"
             ],
             [
              0.6666666666666666,
              "#ed7953"
             ],
             [
              0.7777777777777778,
              "#fb9f3a"
             ],
             [
              0.8888888888888888,
              "#fdca26"
             ],
             [
              1,
              "#f0f921"
             ]
            ],
            "type": "contour"
           }
          ],
          "contourcarpet": [
           {
            "colorbar": {
             "outlinewidth": 0,
             "ticks": ""
            },
            "type": "contourcarpet"
           }
          ],
          "heatmap": [
           {
            "colorbar": {
             "outlinewidth": 0,
             "ticks": ""
            },
            "colorscale": [
             [
              0,
              "#0d0887"
             ],
             [
              0.1111111111111111,
              "#46039f"
             ],
             [
              0.2222222222222222,
              "#7201a8"
             ],
             [
              0.3333333333333333,
              "#9c179e"
             ],
             [
              0.4444444444444444,
              "#bd3786"
             ],
             [
              0.5555555555555556,
              "#d8576b"
             ],
             [
              0.6666666666666666,
              "#ed7953"
             ],
             [
              0.7777777777777778,
              "#fb9f3a"
             ],
             [
              0.8888888888888888,
              "#fdca26"
             ],
             [
              1,
              "#f0f921"
             ]
            ],
            "type": "heatmap"
           }
          ],
          "heatmapgl": [
           {
            "colorbar": {
             "outlinewidth": 0,
             "ticks": ""
            },
            "colorscale": [
             [
              0,
              "#0d0887"
             ],
             [
              0.1111111111111111,
              "#46039f"
             ],
             [
              0.2222222222222222,
              "#7201a8"
             ],
             [
              0.3333333333333333,
              "#9c179e"
             ],
             [
              0.4444444444444444,
              "#bd3786"
             ],
             [
              0.5555555555555556,
              "#d8576b"
             ],
             [
              0.6666666666666666,
              "#ed7953"
             ],
             [
              0.7777777777777778,
              "#fb9f3a"
             ],
             [
              0.8888888888888888,
              "#fdca26"
             ],
             [
              1,
              "#f0f921"
             ]
            ],
            "type": "heatmapgl"
           }
          ],
          "histogram": [
           {
            "marker": {
             "pattern": {
              "fillmode": "overlay",
              "size": 10,
              "solidity": 0.2
             }
            },
            "type": "histogram"
           }
          ],
          "histogram2d": [
           {
            "colorbar": {
             "outlinewidth": 0,
             "ticks": ""
            },
            "colorscale": [
             [
              0,
              "#0d0887"
             ],
             [
              0.1111111111111111,
              "#46039f"
             ],
             [
              0.2222222222222222,
              "#7201a8"
             ],
             [
              0.3333333333333333,
              "#9c179e"
             ],
             [
              0.4444444444444444,
              "#bd3786"
             ],
             [
              0.5555555555555556,
              "#d8576b"
             ],
             [
              0.6666666666666666,
              "#ed7953"
             ],
             [
              0.7777777777777778,
              "#fb9f3a"
             ],
             [
              0.8888888888888888,
              "#fdca26"
             ],
             [
              1,
              "#f0f921"
             ]
            ],
            "type": "histogram2d"
           }
          ],
          "histogram2dcontour": [
           {
            "colorbar": {
             "outlinewidth": 0,
             "ticks": ""
            },
            "colorscale": [
             [
              0,
              "#0d0887"
             ],
             [
              0.1111111111111111,
              "#46039f"
             ],
             [
              0.2222222222222222,
              "#7201a8"
             ],
             [
              0.3333333333333333,
              "#9c179e"
             ],
             [
              0.4444444444444444,
              "#bd3786"
             ],
             [
              0.5555555555555556,
              "#d8576b"
             ],
             [
              0.6666666666666666,
              "#ed7953"
             ],
             [
              0.7777777777777778,
              "#fb9f3a"
             ],
             [
              0.8888888888888888,
              "#fdca26"
             ],
             [
              1,
              "#f0f921"
             ]
            ],
            "type": "histogram2dcontour"
           }
          ],
          "mesh3d": [
           {
            "colorbar": {
             "outlinewidth": 0,
             "ticks": ""
            },
            "type": "mesh3d"
           }
          ],
          "parcoords": [
           {
            "line": {
             "colorbar": {
              "outlinewidth": 0,
              "ticks": ""
             }
            },
            "type": "parcoords"
           }
          ],
          "pie": [
           {
            "automargin": true,
            "type": "pie"
           }
          ],
          "scatter": [
           {
            "marker": {
             "colorbar": {
              "outlinewidth": 0,
              "ticks": ""
             }
            },
            "type": "scatter"
           }
          ],
          "scatter3d": [
           {
            "line": {
             "colorbar": {
              "outlinewidth": 0,
              "ticks": ""
             }
            },
            "marker": {
             "colorbar": {
              "outlinewidth": 0,
              "ticks": ""
             }
            },
            "type": "scatter3d"
           }
          ],
          "scattercarpet": [
           {
            "marker": {
             "colorbar": {
              "outlinewidth": 0,
              "ticks": ""
             }
            },
            "type": "scattercarpet"
           }
          ],
          "scattergeo": [
           {
            "marker": {
             "colorbar": {
              "outlinewidth": 0,
              "ticks": ""
             }
            },
            "type": "scattergeo"
           }
          ],
          "scattergl": [
           {
            "marker": {
             "colorbar": {
              "outlinewidth": 0,
              "ticks": ""
             }
            },
            "type": "scattergl"
           }
          ],
          "scattermapbox": [
           {
            "marker": {
             "colorbar": {
              "outlinewidth": 0,
              "ticks": ""
             }
            },
            "type": "scattermapbox"
           }
          ],
          "scatterpolar": [
           {
            "marker": {
             "colorbar": {
              "outlinewidth": 0,
              "ticks": ""
             }
            },
            "type": "scatterpolar"
           }
          ],
          "scatterpolargl": [
           {
            "marker": {
             "colorbar": {
              "outlinewidth": 0,
              "ticks": ""
             }
            },
            "type": "scatterpolargl"
           }
          ],
          "scatterternary": [
           {
            "marker": {
             "colorbar": {
              "outlinewidth": 0,
              "ticks": ""
             }
            },
            "type": "scatterternary"
           }
          ],
          "surface": [
           {
            "colorbar": {
             "outlinewidth": 0,
             "ticks": ""
            },
            "colorscale": [
             [
              0,
              "#0d0887"
             ],
             [
              0.1111111111111111,
              "#46039f"
             ],
             [
              0.2222222222222222,
              "#7201a8"
             ],
             [
              0.3333333333333333,
              "#9c179e"
             ],
             [
              0.4444444444444444,
              "#bd3786"
             ],
             [
              0.5555555555555556,
              "#d8576b"
             ],
             [
              0.6666666666666666,
              "#ed7953"
             ],
             [
              0.7777777777777778,
              "#fb9f3a"
             ],
             [
              0.8888888888888888,
              "#fdca26"
             ],
             [
              1,
              "#f0f921"
             ]
            ],
            "type": "surface"
           }
          ],
          "table": [
           {
            "cells": {
             "fill": {
              "color": "#EBF0F8"
             },
             "line": {
              "color": "white"
             }
            },
            "header": {
             "fill": {
              "color": "#C8D4E3"
             },
             "line": {
              "color": "white"
             }
            },
            "type": "table"
           }
          ]
         },
         "layout": {
          "annotationdefaults": {
           "arrowcolor": "#2a3f5f",
           "arrowhead": 0,
           "arrowwidth": 1
          },
          "autotypenumbers": "strict",
          "coloraxis": {
           "colorbar": {
            "outlinewidth": 0,
            "ticks": ""
           }
          },
          "colorscale": {
           "diverging": [
            [
             0,
             "#8e0152"
            ],
            [
             0.1,
             "#c51b7d"
            ],
            [
             0.2,
             "#de77ae"
            ],
            [
             0.3,
             "#f1b6da"
            ],
            [
             0.4,
             "#fde0ef"
            ],
            [
             0.5,
             "#f7f7f7"
            ],
            [
             0.6,
             "#e6f5d0"
            ],
            [
             0.7,
             "#b8e186"
            ],
            [
             0.8,
             "#7fbc41"
            ],
            [
             0.9,
             "#4d9221"
            ],
            [
             1,
             "#276419"
            ]
           ],
           "sequential": [
            [
             0,
             "#0d0887"
            ],
            [
             0.1111111111111111,
             "#46039f"
            ],
            [
             0.2222222222222222,
             "#7201a8"
            ],
            [
             0.3333333333333333,
             "#9c179e"
            ],
            [
             0.4444444444444444,
             "#bd3786"
            ],
            [
             0.5555555555555556,
             "#d8576b"
            ],
            [
             0.6666666666666666,
             "#ed7953"
            ],
            [
             0.7777777777777778,
             "#fb9f3a"
            ],
            [
             0.8888888888888888,
             "#fdca26"
            ],
            [
             1,
             "#f0f921"
            ]
           ],
           "sequentialminus": [
            [
             0,
             "#0d0887"
            ],
            [
             0.1111111111111111,
             "#46039f"
            ],
            [
             0.2222222222222222,
             "#7201a8"
            ],
            [
             0.3333333333333333,
             "#9c179e"
            ],
            [
             0.4444444444444444,
             "#bd3786"
            ],
            [
             0.5555555555555556,
             "#d8576b"
            ],
            [
             0.6666666666666666,
             "#ed7953"
            ],
            [
             0.7777777777777778,
             "#fb9f3a"
            ],
            [
             0.8888888888888888,
             "#fdca26"
            ],
            [
             1,
             "#f0f921"
            ]
           ]
          },
          "colorway": [
           "#636efa",
           "#EF553B",
           "#00cc96",
           "#ab63fa",
           "#FFA15A",
           "#19d3f3",
           "#FF6692",
           "#B6E880",
           "#FF97FF",
           "#FECB52"
          ],
          "font": {
           "color": "#2a3f5f"
          },
          "geo": {
           "bgcolor": "white",
           "lakecolor": "white",
           "landcolor": "white",
           "showlakes": true,
           "showland": true,
           "subunitcolor": "#C8D4E3"
          },
          "hoverlabel": {
           "align": "left"
          },
          "hovermode": "closest",
          "mapbox": {
           "style": "light"
          },
          "paper_bgcolor": "white",
          "plot_bgcolor": "white",
          "polar": {
           "angularaxis": {
            "gridcolor": "#EBF0F8",
            "linecolor": "#EBF0F8",
            "ticks": ""
           },
           "bgcolor": "white",
           "radialaxis": {
            "gridcolor": "#EBF0F8",
            "linecolor": "#EBF0F8",
            "ticks": ""
           }
          },
          "scene": {
           "xaxis": {
            "backgroundcolor": "white",
            "gridcolor": "#DFE8F3",
            "gridwidth": 2,
            "linecolor": "#EBF0F8",
            "showbackground": true,
            "ticks": "",
            "zerolinecolor": "#EBF0F8"
           },
           "yaxis": {
            "backgroundcolor": "white",
            "gridcolor": "#DFE8F3",
            "gridwidth": 2,
            "linecolor": "#EBF0F8",
            "showbackground": true,
            "ticks": "",
            "zerolinecolor": "#EBF0F8"
           },
           "zaxis": {
            "backgroundcolor": "white",
            "gridcolor": "#DFE8F3",
            "gridwidth": 2,
            "linecolor": "#EBF0F8",
            "showbackground": true,
            "ticks": "",
            "zerolinecolor": "#EBF0F8"
           }
          },
          "shapedefaults": {
           "line": {
            "color": "#2a3f5f"
           }
          },
          "ternary": {
           "aaxis": {
            "gridcolor": "#DFE8F3",
            "linecolor": "#A2B1C6",
            "ticks": ""
           },
           "baxis": {
            "gridcolor": "#DFE8F3",
            "linecolor": "#A2B1C6",
            "ticks": ""
           },
           "bgcolor": "white",
           "caxis": {
            "gridcolor": "#DFE8F3",
            "linecolor": "#A2B1C6",
            "ticks": ""
           }
          },
          "title": {
           "x": 0.05
          },
          "xaxis": {
           "automargin": true,
           "gridcolor": "#EBF0F8",
           "linecolor": "#EBF0F8",
           "ticks": "",
           "title": {
            "standoff": 15
           },
           "zerolinecolor": "#EBF0F8",
           "zerolinewidth": 2
          },
          "yaxis": {
           "automargin": true,
           "gridcolor": "#EBF0F8",
           "linecolor": "#EBF0F8",
           "ticks": "",
           "title": {
            "standoff": 15
           },
           "zerolinecolor": "#EBF0F8",
           "zerolinewidth": 2
          }
         }
        },
        "title": {
         "text": "Semantic Network"
        },
        "width": 1000,
        "xaxis": {
         "autorange": true,
         "range": [
          -0.022923727874624614,
          0.3978097219190647
         ],
         "showgrid": false,
         "showticklabels": false,
         "type": "linear",
         "zeroline": false
        },
        "yaxis": {
         "autorange": true,
         "range": [
          -0.18436999578427762,
          0.21269458311176348
         ],
         "showgrid": false,
         "showticklabels": false,
         "type": "linear",
         "zeroline": false
        }
       }
      },
      "image/png": "[encoded data removed]",
      "text/html": [
       "<div>                            <div id=\"4fd38dd1-f91e-48e2-86a0-e9582d33c0c8\" class=\"plotly-graph-div\" style=\"height:1000px; width:1000px;\"></div>            <script type=\"text/javascript\">                require([\"plotly\"], function(Plotly) {                    window.PLOTLYENV=window.PLOTLYENV || {};                                    if (document.getElementById(\"4fd38dd1-f91e-48e2-86a0-e9582d33c0c8\")) {                    Plotly.newPlot(                        \"4fd38dd1-f91e-48e2-86a0-e9582d33c0c8\",                        [{\"line\":{\"color\":\"cornflowerblue\",\"width\":2.250495051153908},\"mode\":\"lines\",\"x\":[0.049191833079571534,0.15755439328054147,null],\"y\":[0.08397161507536277,-0.015616366965879641,null],\"type\":\"scatter\"},{\"line\":{\"color\":\"cornflowerblue\",\"width\":2.7693310106400983},\"mode\":\"lines\",\"x\":[0.049191833079571534,0.12045214447593951,null],\"y\":[0.08397161507536277,0.05986858676209084,null],\"type\":\"scatter\"},{\"line\":{\"color\":\"cornflowerblue\",\"width\":5.264183872755305},\"mode\":\"lines\",\"x\":[0.049191833079571534,0.005626041932804303,null],\"y\":[0.08397161507536277,0.005961170696173689,null],\"type\":\"scatter\"},{\"line\":{\"color\":\"cornflowerblue\",\"width\":1.3571074274259955},\"mode\":\"lines\",\"x\":[0.049191833079571534,0.07486881828719552,null],\"y\":[0.08397161507536277,0.005055224035648257,null],\"type\":\"scatter\"},{\"line\":{\"color\":\"cornflowerblue\",\"width\":2.6706817904292186},\"mode\":\"lines\",\"x\":[0.049191833079571534,0.09092707058848244,null],\"y\":[0.08397161507536277,-0.047312066868714746,null],\"type\":\"scatter\"},{\"line\":{\"color\":\"cornflowerblue\",\"width\":1.0233341138941796},\"mode\":\"lines\",\"x\":[0.049191833079571534,0.1364867485793205,null],\"y\":[0.08397161507536277,0.18860438457508294,null],\"type\":\"scatter\"},{\"line\":{\"color\":\"cornflowerblue\",\"width\":0.9101496239546407},\"mode\":\"lines\",\"x\":[0.049191833079571534,0.2474979717599985,null],\"y\":[0.08397161507536277,0.17855346242246475,null],\"type\":\"scatter\"},{\"line\":{\"color\":\"cornflowerblue\",\"width\":0.23976345011123862},\"mode\":\"lines\",\"x\":[0.049191833079571534,0.02330018405011712,null],\"y\":[0.08397161507536277,-0.15543754628545023,null],\"type\":\"scatter\"},{\"line\":{\"color\":\"cornflowerblue\",\"width\":0.23976345011123862},\"mode\":\"lines\",\"x\":[0.049191833079571534,0.02330018405011712,null],\"y\":[0.08397161507536277,-0.15543754628545023,null],\"type\":\"scatter\"},{\"line\":{\"color\":\"cornflowerblue\",\"width\":1.6331398274557853},\"mode\":\"lines\",\"x\":[0.15755439328054147,0.26173748377046946,null],\"y\":[-0.015616366965879641,0.04680470574236511,null],\"type\":\"scatter\"},{\"line\":{\"color\":\"cornflowerblue\",\"width\":2.1631806187323934},\"mode\":\"lines\",\"x\":[0.15755439328054147,0.09092707058848244,null],\"y\":[-0.015616366965879641,-0.047312066868714746,null],\"type\":\"scatter\"},{\"line\":{\"color\":\"cornflowerblue\",\"width\":2.222239245459099},\"mode\":\"lines\",\"x\":[0.15755439328054147,0.18432516943106708,null],\"y\":[-0.015616366965879641,0.052271702132424686,null],\"type\":\"scatter\"},{\"line\":{\"color\":\"cornflowerblue\",\"width\":2.070761273156648},\"mode\":\"lines\",\"x\":[0.15755439328054147,0.005626041932804303,null],\"y\":[-0.015616366965879641,0.005961170696173689,null],\"type\":\"scatter\"},{\"line\":{\"color\":\"cornflowerblue\",\"width\":2.014671424895015},\"mode\":\"lines\",\"x\":[0.15755439328054147,0.12045214447593951,null],\"y\":[-0.015616366965879641,0.05986858676209084,null],\"type\":\"scatter\"},{\"line\":{\"color\":\"cornflowerblue\",\"width\":0.36917346295219217},\"mode\":\"lines\",\"x\":[0.15755439328054147,0.3708251807194992,null],\"y\":[-0.015616366965879641,-0.034623886086538304,null],\"type\":\"scatter\"},{\"line\":{\"color\":\"cornflowerblue\",\"width\":1.577178045880686},\"mode\":\"lines\",\"x\":[0.15755439328054147,0.07486881828719552,null],\"y\":[-0.015616366965879641,0.005055224035648257,null],\"type\":\"scatter\"},{\"line\":{\"color\":\"cornflowerblue\",\"width\":1.413048355577658},\"mode\":\"lines\",\"x\":[0.15755439328054147,0.18378312998461743,null],\"y\":[-0.015616366965879641,-0.08239753250181389,null],\"type\":\"scatter\"},{\"line\":{\"color\":\"cornflowerblue\",\"width\":1.413048355577658},\"mode\":\"lines\",\"x\":[0.15755439328054147,0.18378312998461743,null],\"y\":[-0.015616366965879641,-0.08239753250181389,null],\"type\":\"scatter\"},{\"line\":{\"color\":\"cornflowerblue\",\"width\":2.6430409027836035},\"mode\":\"lines\",\"x\":[0.12045214447593951,0.26173748377046946,null],\"y\":[0.05986858676209084,0.04680470574236511,null],\"type\":\"scatter\"},{\"line\":{\"color\":\"cornflowerblue\",\"width\":2.228190791009565},\"mode\":\"lines\",\"x\":[0.12045214447593951,0.1364867485793205,null],\"y\":[0.05986858676209084,0.18860438457508294,null],\"type\":\"scatter\"},{\"line\":{\"color\":\"cornflowerblue\",\"width\":2.7549851195836315},\"mode\":\"lines\",\"x\":[0.12045214447593951,0.005626041932804303,null],\"y\":[0.05986858676209084,0.005961170696173689,null],\"type\":\"scatter\"},{\"line\":{\"color\":\"cornflowerblue\",\"width\":3.7768071828648466},\"mode\":\"lines\",\"x\":[0.12045214447593951,0.09092707058848244,null],\"y\":[0.05986858676209084,-0.047312066868714746,null],\"type\":\"scatter\"},{\"line\":{\"color\":\"cornflowerblue\",\"width\":4.3337820987411835},\"mode\":\"lines\",\"x\":[0.12045214447593951,0.18432516943106708,null],\"y\":[0.05986858676209084,0.052271702132424686,null],\"type\":\"scatter\"},{\"line\":{\"color\":\"cornflowerblue\",\"width\":1.838263165214743},\"mode\":\"lines\",\"x\":[0.12045214447593951,0.07486881828719552,null],\"y\":[0.05986858676209084,0.005055224035648257,null],\"type\":\"scatter\"},{\"line\":{\"color\":\"cornflowerblue\",\"width\":1.541482646282626},\"mode\":\"lines\",\"x\":[0.12045214447593951,0.18378312998461743,null],\"y\":[0.05986858676209084,-0.08239753250181389,null],\"type\":\"scatter\"},{\"line\":{\"color\":\"cornflowerblue\",\"width\":1.541482646282626},\"mode\":\"lines\",\"x\":[0.12045214447593951,0.18378312998461743,null],\"y\":[0.05986858676209084,-0.08239753250181389,null],\"type\":\"scatter\"},{\"line\":{\"color\":\"cornflowerblue\",\"width\":3.263242389534791},\"mode\":\"lines\",\"x\":[0.005626041932804303,0.09092707058848244,null],\"y\":[0.005961170696173689,-0.047312066868714746,null],\"type\":\"scatter\"},{\"line\":{\"color\":\"cornflowerblue\",\"width\":1.4249827810879643},\"mode\":\"lines\",\"x\":[0.005626041932804303,0.18432516943106708,null],\"y\":[0.005961170696173689,0.052271702132424686,null],\"type\":\"scatter\"},{\"line\":{\"color\":\"cornflowerblue\",\"width\":0.2657526705541644},\"mode\":\"lines\",\"x\":[0.005626041932804303,0.02330018405011712,null],\"y\":[0.005961170696173689,-0.15543754628545023,null],\"type\":\"scatter\"},{\"line\":{\"color\":\"cornflowerblue\",\"width\":0.2657526705541644},\"mode\":\"lines\",\"x\":[0.005626041932804303,0.02330018405011712,null],\"y\":[0.005961170696173689,-0.15543754628545023,null],\"type\":\"scatter\"},{\"line\":{\"color\":\"cornflowerblue\",\"width\":0.8576591181026364},\"mode\":\"lines\",\"x\":[0.07486881828719552,0.1364867485793205,null],\"y\":[0.005055224035648257,0.18860438457508294,null],\"type\":\"scatter\"},{\"line\":{\"color\":\"cornflowerblue\",\"width\":1.500968455081604},\"mode\":\"lines\",\"x\":[0.07486881828719552,0.09092707058848244,null],\"y\":[0.005055224035648257,-0.047312066868714746,null],\"type\":\"scatter\"},{\"line\":{\"color\":\"cornflowerblue\",\"width\":2.4433718659781554},\"mode\":\"lines\",\"x\":[0.07486881828719552,0.18378312998461743,null],\"y\":[0.005055224035648257,-0.08239753250181389,null],\"type\":\"scatter\"},{\"line\":{\"color\":\"cornflowerblue\",\"width\":2.9691945426238364},\"mode\":\"lines\",\"x\":[0.07486881828719552,0.18432516943106708,null],\"y\":[0.005055224035648257,0.052271702132424686,null],\"type\":\"scatter\"},{\"line\":{\"color\":\"cornflowerblue\",\"width\":0.5831956830566454},\"mode\":\"lines\",\"x\":[0.07486881828719552,0.02330018405011712,null],\"y\":[0.005055224035648257,-0.15543754628545023,null],\"type\":\"scatter\"},{\"line\":{\"color\":\"cornflowerblue\",\"width\":0.5831956830566454},\"mode\":\"lines\",\"x\":[0.07486881828719552,0.02330018405011712,null],\"y\":[0.005055224035648257,-0.15543754628545023,null],\"type\":\"scatter\"},{\"line\":{\"color\":\"cornflowerblue\",\"width\":0.8247655781113277},\"mode\":\"lines\",\"x\":[0.09092707058848244,0.26173748377046946,null],\"y\":[-0.047312066868714746,0.04680470574236511,null],\"type\":\"scatter\"},{\"line\":{\"color\":\"cornflowerblue\",\"width\":1.847128708360988},\"mode\":\"lines\",\"x\":[0.09092707058848244,0.18378312998461743,null],\"y\":[-0.047312066868714746,-0.08239753250181389,null],\"type\":\"scatter\"},{\"line\":{\"color\":\"cornflowerblue\",\"width\":2.0127273113367257},\"mode\":\"lines\",\"x\":[0.09092707058848244,0.18432516943106708,null],\"y\":[-0.047312066868714746,0.052271702132424686,null],\"type\":\"scatter\"},{\"line\":{\"color\":\"cornflowerblue\",\"width\":0.6585900672559777},\"mode\":\"lines\",\"x\":[0.09092707058848244,0.02330018405011712,null],\"y\":[-0.047312066868714746,-0.15543754628545023,null],\"type\":\"scatter\"},{\"line\":{\"color\":\"cornflowerblue\",\"width\":0.6585900672559777},\"mode\":\"lines\",\"x\":[0.09092707058848244,0.02330018405011712,null],\"y\":[-0.047312066868714746,-0.15543754628545023,null],\"type\":\"scatter\"},{\"line\":{\"color\":\"cornflowerblue\",\"width\":1.022761475468144},\"mode\":\"lines\",\"x\":[0.26173748377046946,0.2474979717599985,null],\"y\":[0.04680470574236511,0.17855346242246475,null],\"type\":\"scatter\"},{\"line\":{\"color\":\"cornflowerblue\",\"width\":2.454572489050954},\"mode\":\"lines\",\"x\":[0.26173748377046946,0.18432516943106708,null],\"y\":[0.04680470574236511,0.052271702132424686,null],\"type\":\"scatter\"},{\"line\":{\"color\":\"cornflowerblue\",\"width\":0.5835633908034706},\"mode\":\"lines\",\"x\":[0.26173748377046946,0.3446195800564963,null],\"y\":[0.04680470574236511,0.14533371252581032,null],\"type\":\"scatter\"},{\"line\":{\"color\":\"cornflowerblue\",\"width\":0.2384254631306728},\"mode\":\"lines\",\"x\":[0.26173748377046946,0.3708251807194992,null],\"y\":[0.04680470574236511,-0.034623886086538304,null],\"type\":\"scatter\"},{\"line\":{\"color\":\"cornflowerblue\",\"width\":0.2384254631306728},\"mode\":\"lines\",\"x\":[0.26173748377046946,0.3708251807194992,null],\"y\":[0.04680470574236511,-0.034623886086538304,null],\"type\":\"scatter\"},{\"line\":{\"color\":\"cornflowerblue\",\"width\":1.744215165754133},\"mode\":\"lines\",\"x\":[0.2474979717599985,0.1364867485793205,null],\"y\":[0.17855346242246475,0.18860438457508294,null],\"type\":\"scatter\"},{\"line\":{\"color\":\"cornflowerblue\",\"width\":1.3501942868767391},\"mode\":\"lines\",\"x\":[0.2474979717599985,0.3446195800564963,null],\"y\":[0.17855346242246475,0.14533371252581032,null],\"type\":\"scatter\"},{\"line\":{\"color\":\"cornflowerblue\",\"width\":0.99880204681008},\"mode\":\"lines\",\"x\":[0.2474979717599985,0.18432516943106708,null],\"y\":[0.17855346242246475,0.052271702132424686,null],\"type\":\"scatter\"},{\"line\":{\"color\":\"cornflowerblue\",\"width\":0.2670284295495561},\"mode\":\"lines\",\"x\":[0.2474979717599985,0.3708251807194992,null],\"y\":[0.17855346242246475,-0.034623886086538304,null],\"type\":\"scatter\"},{\"line\":{\"color\":\"cornflowerblue\",\"width\":0.2670284295495561},\"mode\":\"lines\",\"x\":[0.2474979717599985,0.3708251807194992,null],\"y\":[0.17855346242246475,-0.034623886086538304,null],\"type\":\"scatter\"},{\"line\":{\"color\":\"cornflowerblue\",\"width\":0.8375069828465862},\"mode\":\"lines\",\"x\":[0.18432516943106708,0.1364867485793205,null],\"y\":[0.052271702132424686,0.18860438457508294,null],\"type\":\"scatter\"},{\"line\":{\"color\":\"cornflowerblue\",\"width\":0.49231704470724125},\"mode\":\"lines\",\"x\":[0.18432516943106708,0.3446195800564963,null],\"y\":[0.052271702132424686,0.14533371252581032,null],\"type\":\"scatter\"},{\"line\":{\"color\":\"cornflowerblue\",\"width\":0.25788653749951607},\"mode\":\"lines\",\"x\":[0.18432516943106708,0.3708251807194992,null],\"y\":[0.052271702132424686,-0.034623886086538304,null],\"type\":\"scatter\"},{\"line\":{\"color\":\"cornflowerblue\",\"width\":1.4449141328158157},\"mode\":\"lines\",\"x\":[0.18432516943106708,0.18378312998461743,null],\"y\":[0.052271702132424686,-0.08239753250181389,null],\"type\":\"scatter\"},{\"line\":{\"color\":\"cornflowerblue\",\"width\":1.4449141328158157},\"mode\":\"lines\",\"x\":[0.18432516943106708,0.18378312998461743,null],\"y\":[0.052271702132424686,-0.08239753250181389,null],\"type\":\"scatter\"},{\"line\":{\"color\":\"cornflowerblue\",\"width\":0.29890274737995004},\"mode\":\"lines\",\"x\":[0.1364867485793205,0.3446195800564963,null],\"y\":[0.18860438457508294,0.14533371252581032,null],\"type\":\"scatter\"},{\"line\":{\"color\":\"cornflowerblue\",\"width\":0.29890274737995004},\"mode\":\"lines\",\"x\":[0.1364867485793205,0.3446195800564963,null],\"y\":[0.18860438457508294,0.14533371252581032,null],\"type\":\"scatter\"},{\"line\":{\"color\":\"cornflowerblue\",\"width\":0.3092774887625109},\"mode\":\"lines\",\"x\":[0.3446195800564963,0.18378312998461743,null],\"y\":[0.14533371252581032,-0.08239753250181389,null],\"type\":\"scatter\"},{\"line\":{\"color\":\"cornflowerblue\",\"width\":0.3092774887625109},\"mode\":\"lines\",\"x\":[0.3446195800564963,0.18378312998461743,null],\"y\":[0.14533371252581032,-0.08239753250181389,null],\"type\":\"scatter\"},{\"line\":{\"color\":\"cornflowerblue\",\"width\":0.34204354544743854},\"mode\":\"lines\",\"x\":[0.18378312998461743,0.3708251807194992,null],\"y\":[-0.08239753250181389,-0.034623886086538304,null],\"type\":\"scatter\"},{\"line\":{\"color\":\"cornflowerblue\",\"width\":1.3810380860784226},\"mode\":\"lines\",\"x\":[0.18378312998461743,0.02330018405011712,null],\"y\":[-0.08239753250181389,-0.15543754628545023,null],\"type\":\"scatter\"},{\"line\":{\"color\":\"cornflowerblue\",\"width\":1.3810380860784226},\"mode\":\"lines\",\"x\":[0.18378312998461743,0.02330018405011712,null],\"y\":[-0.08239753250181389,-0.15543754628545023,null],\"type\":\"scatter\"},{\"line\":{\"color\":\"cornflowerblue\",\"width\":1.3810380860784226},\"mode\":\"lines\",\"x\":[0.18378312998461743,0.02330018405011712,null],\"y\":[-0.08239753250181389,-0.15543754628545023,null],\"type\":\"scatter\"},{\"line\":{\"color\":\"cornflowerblue\",\"width\":1.3810380860784226},\"mode\":\"lines\",\"x\":[0.18378312998461743,0.02330018405011712,null],\"y\":[-0.08239753250181389,-0.15543754628545023,null],\"type\":\"scatter\"},{\"hoverinfo\":\"text\",\"marker\":{\"color\":[0,0,0,0,1,0,2,2,2,2,2,1,2,1],\"opacity\":[0.6,0.6,0.6,0.6,0.6,0.6,0.6,0.6,0.6,0.6,0.6,0.6,0.6,0.6],\"size\":[21,7,1,24,3,12,10,17,5,14,28,26,19,30],\"symbol\":[0,0,0,0,0,0,0,0,0,0,0,0,0,0]},\"mode\":\"markers+text\",\"text\":[\"<b>astronomer</b>\",\"<b>chemist</b>\",\"<b>geologist</b>\",\"<b>mathematician</b>\",\"<b>naturalist</b>\",\"<b>physicist</b>\",\"<b>botanist</b>\",\"<b>geographer</b>\",\"<b>zoologist</b>\",\"<b>cartographer</b>\",\"<b>historian</b>\",\"<b>philosopher</b>\",\"<b>linguist</b>\",\"<b>theologian</b>\"],\"textfont\":{\"size\":20},\"textposition\":\"top center\",\"x\":[0.049191833079571534,0.15755439328054147,0.12045214447593951,0.005626041932804303,0.07486881828719552,0.09092707058848244,0.26173748377046946,0.2474979717599985,0.18432516943106708,0.1364867485793205,0.3446195800564963,0.18378312998461743,0.3708251807194992,0.02330018405011712],\"y\":[0.08397161507536277,-0.015616366965879641,0.05986858676209084,0.005961170696173689,0.005055224035648257,-0.047312066868714746,0.04680470574236511,0.17855346242246475,0.052271702132424686,0.18860438457508294,0.14533371252581032,-0.08239753250181389,-0.034623886086538304,-0.15543754628545023],\"type\":\"scatter\"}],                        {\"height\":1000,\"title\":{\"text\":\"Semantic Network\"},\"width\":1000,\"xaxis\":{\"showgrid\":false,\"zeroline\":false,\"showticklabels\":false},\"yaxis\":{\"showgrid\":false,\"zeroline\":false,\"showticklabels\":false},\"template\":{\"data\":{\"barpolar\":[{\"marker\":{\"line\":{\"color\":\"white\",\"width\":0.5},\"pattern\":{\"fillmode\":\"overlay\",\"size\":10,\"solidity\":0.2}},\"type\":\"barpolar\"}],\"bar\":[{\"error_x\":{\"color\":\"#2a3f5f\"},\"error_y\":{\"color\":\"#2a3f5f\"},\"marker\":{\"line\":{\"color\":\"white\",\"width\":0.5},\"pattern\":{\"fillmode\":\"overlay\",\"size\":10,\"solidity\":0.2}},\"type\":\"bar\"}],\"carpet\":[{\"aaxis\":{\"endlinecolor\":\"#2a3f5f\",\"gridcolor\":\"#C8D4E3\",\"linecolor\":\"#C8D4E3\",\"minorgridcolor\":\"#C8D4E3\",\"startlinecolor\":\"#2a3f5f\"},\"baxis\":{\"endlinecolor\":\"#2a3f5f\",\"gridcolor\":\"#C8D4E3\",\"linecolor\":\"#C8D4E3\",\"minorgridcolor\":\"#C8D4E3\",\"startlinecolor\":\"#2a3f5f\"},\"type\":\"carpet\"}],\"choropleth\":[{\"colorbar\":{\"outlinewidth\":0,\"ticks\":\"\"},\"type\":\"choropleth\"}],\"contourcarpet\":[{\"colorbar\":{\"outlinewidth\":0,\"ticks\":\"\"},\"type\":\"contourcarpet\"}],\"contour\":[{\"colorbar\":{\"outlinewidth\":0,\"ticks\":\"\"},\"colorscale\":[[0.0,\"#0d0887\"],[0.1111111111111111,\"#46039f\"],[0.2222222222222222,\"#7201a8\"],[0.3333333333333333,\"#9c179e\"],[0.4444444444444444,\"#bd3786\"],[0.5555555555555556,\"#d8576b\"],[0.6666666666666666,\"#ed7953\"],[0.7777777777777778,\"#fb9f3a\"],[0.8888888888888888,\"#fdca26\"],[1.0,\"#f0f921\"]],\"type\":\"contour\"}],\"heatmapgl\":[{\"colorbar\":{\"outlinewidth\":0,\"ticks\":\"\"},\"colorscale\":[[0.0,\"#0d0887\"],[0.1111111111111111,\"#46039f\"],[0.2222222222222222,\"#7201a8\"],[0.3333333333333333,\"#9c179e\"],[0.4444444444444444,\"#bd3786\"],[0.5555555555555556,\"#d8576b\"],[0.6666666666666666,\"#ed7953\"],[0.7777777777777778,\"#fb9f3a\"],[0.8888888888888888,\"#fdca26\"],[1.0,\"#f0f921\"]],\"type\":\"heatmapgl\"}],\"heatmap\":[{\"colorbar\":{\"outlinewidth\":0,\"ticks\":\"\"},\"colorscale\":[[0.0,\"#0d0887\"],[0.1111111111111111,\"#46039f\"],[0.2222222222222222,\"#7201a8\"],[0.3333333333333333,\"#9c179e\"],[0.4444444444444444,\"#bd3786\"],[0.5555555555555556,\"#d8576b\"],[0.6666666666666666,\"#ed7953\"],[0.7777777777777778,\"#fb9f3a\"],[0.8888888888888888,\"#fdca26\"],[1.0,\"#f0f921\"]],\"type\":\"heatmap\"}],\"histogram2dcontour\":[{\"colorbar\":{\"outlinewidth\":0,\"ticks\":\"\"},\"colorscale\":[[0.0,\"#0d0887\"],[0.1111111111111111,\"#46039f\"],[0.2222222222222222,\"#7201a8\"],[0.3333333333333333,\"#9c179e\"],[0.4444444444444444,\"#bd3786\"],[0.5555555555555556,\"#d8576b\"],[0.6666666666666666,\"#ed7953\"],[0.7777777777777778,\"#fb9f3a\"],[0.8888888888888888,\"#fdca26\"],[1.0,\"#f0f921\"]],\"type\":\"histogram2dcontour\"}],\"histogram2d\":[{\"colorbar\":{\"outlinewidth\":0,\"ticks\":\"\"},\"colorscale\":[[0.0,\"#0d0887\"],[0.1111111111111111,\"#46039f\"],[0.2222222222222222,\"#7201a8\"],[0.3333333333333333,\"#9c179e\"],[0.4444444444444444,\"#bd3786\"],[0.5555555555555556,\"#d8576b\"],[0.6666666666666666,\"#ed7953\"],[0.7777777777777778,\"#fb9f3a\"],[0.8888888888888888,\"#fdca26\"],[1.0,\"#f0f921\"]],\"type\":\"histogram2d\"}],\"histogram\":[{\"marker\":{\"pattern\":{\"fillmode\":\"overlay\",\"size\":10,\"solidity\":0.2}},\"type\":\"histogram\"}],\"mesh3d\":[{\"colorbar\":{\"outlinewidth\":0,\"ticks\":\"\"},\"type\":\"mesh3d\"}],\"parcoords\":[{\"line\":{\"colorbar\":{\"outlinewidth\":0,\"ticks\":\"\"}},\"type\":\"parcoords\"}],\"pie\":[{\"automargin\":true,\"type\":\"pie\"}],\"scatter3d\":[{\"line\":{\"colorbar\":{\"outlinewidth\":0,\"ticks\":\"\"}},\"marker\":{\"colorbar\":{\"outlinewidth\":0,\"ticks\":\"\"}},\"type\":\"scatter3d\"}],\"scattercarpet\":[{\"marker\":{\"colorbar\":{\"outlinewidth\":0,\"ticks\":\"\"}},\"type\":\"scattercarpet\"}],\"scattergeo\":[{\"marker\":{\"colorbar\":{\"outlinewidth\":0,\"ticks\":\"\"}},\"type\":\"scattergeo\"}],\"scattergl\":[{\"marker\":{\"colorbar\":{\"outlinewidth\":0,\"ticks\":\"\"}},\"type\":\"scattergl\"}],\"scattermapbox\":[{\"marker\":{\"colorbar\":{\"outlinewidth\":0,\"ticks\":\"\"}},\"type\":\"scattermapbox\"}],\"scatterpolargl\":[{\"marker\":{\"colorbar\":{\"outlinewidth\":0,\"ticks\":\"\"}},\"type\":\"scatterpolargl\"}],\"scatterpolar\":[{\"marker\":{\"colorbar\":{\"outlinewidth\":0,\"ticks\":\"\"}},\"type\":\"scatterpolar\"}],\"scatter\":[{\"marker\":{\"colorbar\":{\"outlinewidth\":0,\"ticks\":\"\"}},\"type\":\"scatter\"}],\"scatterternary\":[{\"marker\":{\"colorbar\":{\"outlinewidth\":0,\"ticks\":\"\"}},\"type\":\"scatterternary\"}],\"surface\":[{\"colorbar\":{\"outlinewidth\":0,\"ticks\":\"\"},\"colorscale\":[[0.0,\"#0d0887\"],[0.1111111111111111,\"#46039f\"],[0.2222222222222222,\"#7201a8\"],[0.3333333333333333,\"#9c179e\"],[0.4444444444444444,\"#bd3786\"],[0.5555555555555556,\"#d8576b\"],[0.6666666666666666,\"#ed7953\"],[0.7777777777777778,\"#fb9f3a\"],[0.8888888888888888,\"#fdca26\"],[1.0,\"#f0f921\"]],\"type\":\"surface\"}],\"table\":[{\"cells\":{\"fill\":{\"color\":\"#EBF0F8\"},\"line\":{\"color\":\"white\"}},\"header\":{\"fill\":{\"color\":\"#C8D4E3\"},\"line\":{\"color\":\"white\"}},\"type\":\"table\"}]},\"layout\":{\"annotationdefaults\":{\"arrowcolor\":\"#2a3f5f\",\"arrowhead\":0,\"arrowwidth\":1},\"autotypenumbers\":\"strict\",\"coloraxis\":{\"colorbar\":{\"outlinewidth\":0,\"ticks\":\"\"}},\"colorscale\":{\"diverging\":[[0,\"#8e0152\"],[0.1,\"#c51b7d\"],[0.2,\"#de77ae\"],[0.3,\"#f1b6da\"],[0.4,\"#fde0ef\"],[0.5,\"#f7f7f7\"],[0.6,\"#e6f5d0\"],[0.7,\"#b8e186\"],[0.8,\"#7fbc41\"],[0.9,\"#4d9221\"],[1,\"#276419\"]],\"sequential\":[[0.0,\"#0d0887\"],[0.1111111111111111,\"#46039f\"],[0.2222222222222222,\"#7201a8\"],[0.3333333333333333,\"#9c179e\"],[0.4444444444444444,\"#bd3786\"],[0.5555555555555556,\"#d8576b\"],[0.6666666666666666,\"#ed7953\"],[0.7777777777777778,\"#fb9f3a\"],[0.8888888888888888,\"#fdca26\"],[1.0,\"#f0f921\"]],\"sequentialminus\":[[0.0,\"#0d0887\"],[0.1111111111111111,\"#46039f\"],[0.2222222222222222,\"#7201a8\"],[0.3333333333333333,\"#9c179e\"],[0.4444444444444444,\"#bd3786\"],[0.5555555555555556,\"#d8576b\"],[0.6666666666666666,\"#ed7953\"],[0.7777777777777778,\"#fb9f3a\"],[0.8888888888888888,\"#fdca26\"],[1.0,\"#f0f921\"]]},\"colorway\":[\"#636efa\",\"#EF553B\",\"#00cc96\",\"#ab63fa\",\"#FFA15A\",\"#19d3f3\",\"#FF6692\",\"#B6E880\",\"#FF97FF\",\"#FECB52\"],\"font\":{\"color\":\"#2a3f5f\"},\"geo\":{\"bgcolor\":\"white\",\"lakecolor\":\"white\",\"landcolor\":\"white\",\"showlakes\":true,\"showland\":true,\"subunitcolor\":\"#C8D4E3\"},\"hoverlabel\":{\"align\":\"left\"},\"hovermode\":\"closest\",\"mapbox\":{\"style\":\"light\"},\"paper_bgcolor\":\"white\",\"plot_bgcolor\":\"white\",\"polar\":{\"angularaxis\":{\"gridcolor\":\"#EBF0F8\",\"linecolor\":\"#EBF0F8\",\"ticks\":\"\"},\"bgcolor\":\"white\",\"radialaxis\":{\"gridcolor\":\"#EBF0F8\",\"linecolor\":\"#EBF0F8\",\"ticks\":\"\"}},\"scene\":{\"xaxis\":{\"backgroundcolor\":\"white\",\"gridcolor\":\"#DFE8F3\",\"gridwidth\":2,\"linecolor\":\"#EBF0F8\",\"showbackground\":true,\"ticks\":\"\",\"zerolinecolor\":\"#EBF0F8\"},\"yaxis\":{\"backgroundcolor\":\"white\",\"gridcolor\":\"#DFE8F3\",\"gridwidth\":2,\"linecolor\":\"#EBF0F8\",\"showbackground\":true,\"ticks\":\"\",\"zerolinecolor\":\"#EBF0F8\"},\"zaxis\":{\"backgroundcolor\":\"white\",\"gridcolor\":\"#DFE8F3\",\"gridwidth\":2,\"linecolor\":\"#EBF0F8\",\"showbackground\":true,\"ticks\":\"\",\"zerolinecolor\":\"#EBF0F8\"}},\"shapedefaults\":{\"line\":{\"color\":\"#2a3f5f\"}},\"ternary\":{\"aaxis\":{\"gridcolor\":\"#DFE8F3\",\"linecolor\":\"#A2B1C6\",\"ticks\":\"\"},\"baxis\":{\"gridcolor\":\"#DFE8F3\",\"linecolor\":\"#A2B1C6\",\"ticks\":\"\"},\"bgcolor\":\"white\",\"caxis\":{\"gridcolor\":\"#DFE8F3\",\"linecolor\":\"#A2B1C6\",\"ticks\":\"\"}},\"title\":{\"x\":0.05},\"xaxis\":{\"automargin\":true,\"gridcolor\":\"#EBF0F8\",\"linecolor\":\"#EBF0F8\",\"ticks\":\"\",\"title\":{\"standoff\":15},\"zerolinecolor\":\"#EBF0F8\",\"zerolinewidth\":2},\"yaxis\":{\"automargin\":true,\"gridcolor\":\"#EBF0F8\",\"linecolor\":\"#EBF0F8\",\"ticks\":\"\",\"title\":{\"standoff\":15},\"zerolinecolor\":\"#EBF0F8\",\"zerolinewidth\":2}}},\"showlegend\":false},                        {\"responsive\": true}                    ).then(function(){\n",
       "                            \n",
       "var gd = document.getElementById('4fd38dd1-f91e-48e2-86a0-e9582d33c0c8');\n",
       "var x = new MutationObserver(function (mutations, observer) {{\n",
       "        var display = window.getComputedStyle(gd).display;\n",
       "        if (!display || display === 'none') {{\n",
       "            console.log([gd, 'removed!']);\n",
       "            Plotly.purge(gd);\n",
       "            observer.disconnect();\n",
       "        }}\n",
       "}});\n",
       "\n",
       "// Listen for the removal of the full notebook cells\n",
       "var notebookContainer = gd.closest('#notebook-container');\n",
       "if (notebookContainer) {{\n",
       "    x.observe(notebookContainer, {childList: true});\n",
       "}}\n",
       "\n",
       "// Listen for the clearing of the current output cell\n",
       "var outputEl = gd.closest('.output');\n",
       "if (outputEl) {{\n",
       "    x.observe(outputEl, {childList: true});\n",
       "}}\n",
       "\n",
       "                        })                };                });            </script>        </div>"
      ]
     },
     "metadata": {},
     "output_type": "display_data"
    }
   ],
   "source": [
    "new_top_occupations = df_top_occupation.occupation.value_counts().reset_index().head(50)\n",
    "new_top_occupations = list(new_top_occupations['index'])\n",
    "\n",
    "rang = ranges[0]\n",
    "\n",
    "df_filter_1 = df_filter[(df_filter['year']>=rang[0])&(df_filter['year']<=rang[1])]\n",
    "df_filter_1 = df_filter_1.explode('occupation')\n",
    "df_filter_1 = df_filter_1[df_filter_1['occupation'].isin(load_occupations)]\n",
    "df_filter_1 = df_filter_1.drop('year', axis=1).drop_duplicates()\n",
    "df_filter_1 = df_filter_1.sort_values('cultural_score', ascending=False).reset_index(drop=True)\n",
    "top_individuals = df_filter_1[['wikidata_id', 'cultural_score']].drop_duplicates()\n",
    "top_individuals = top_individuals.head(n_top_individuals)\n",
    "df_filter_1 = df_filter_1[df_filter_1['wikidata_id'].isin(top_individuals['wikidata_id'])]\n",
    "df_filter_1 = df_filter_1[['wikidata_id', 'occupation']].drop_duplicates()\n",
    "\n",
    "model = SemanticNetworks(df_filter_1, index_var = 'wikidata_id', variables = ['occupation'])\n",
    "\n",
    "fig = model.fit_draw(\n",
    "        top_n=50,\n",
    "        global_filter=0,\n",
    "        n_neighbours=5,\n",
    "        method=\"force_directed\",\n",
    "        n_cluster=1,\n",
    "        bin_number=30,\n",
    "        black_hole_force=0,\n",
    "        color=\"community\",\n",
    "        size=\"size\",\n",
    "        symbol=\"entity\",\n",
    "        textfont_size=20,\n",
    "        edge_size=7,\n",
    "        height=1000,\n",
    "        width=1000,\n",
    "        template=\"plotly_white\",\n",
    "    )\n",
    "\n",
    "fig.show()\n",
    "\n",
    "name = str(rang[0]) + '-' + str(rang[1])\n",
    "# Enregistrer l'image en PNG haute qualité\n",
    "fig.write_image(f\"save_figures/{name}.png\", width=800, height=800, scale=7)"
   ]
  },
  {
   "cell_type": "code",
   "execution_count": null,
   "id": "459f0e98-9515-41dc-a18a-a4c2bf167634",
   "metadata": {},
   "outputs": [],
   "source": []
  },
  {
   "cell_type": "code",
   "execution_count": null,
   "id": "a1357c9b-6c95-479d-a365-a922aca9f3db",
   "metadata": {},
   "outputs": [],
   "source": []
  },
  {
   "cell_type": "code",
   "execution_count": 54,
   "id": "20d046ab-28eb-4b8f-9457-d4da9ec588a0",
   "metadata": {},
   "outputs": [
    {
     "data": {
      "application/vnd.plotly.v1+json": {
       "config": {
        "plotlyServerURL": "https://plot.ly"
       },
       "data": [
        {
         "line": {
          "color": "cornflowerblue",
          "width": 0.3981201604370946
         },
         "mode": "lines",
         "type": "scatter",
         "x": [
          -0.1597492898303092,
          -0.17021677582672068,
          null
         ],
         "y": [
          -0.0823050309278933,
          -0.21805015221316162,
          null
         ]
        },
        {
         "line": {
          "color": "cornflowerblue",
          "width": 0.37536782087262544
         },
         "mode": "lines",
         "type": "scatter",
         "x": [
          -0.1597492898303092,
          -0.0641867954803971,
          null
         ],
         "y": [
          -0.0823050309278933,
          -0.1706237001186079,
          null
         ]
        },
        {
         "line": {
          "color": "cornflowerblue",
          "width": 3.5001903510341164
         },
         "mode": "lines",
         "type": "scatter",
         "x": [
          -0.1597492898303092,
          -0.07577859200455012,
          null
         ],
         "y": [
          -0.0823050309278933,
          -0.06503112297864114,
          null
         ]
        },
        {
         "line": {
          "color": "cornflowerblue",
          "width": 0.33480034263014313
         },
         "mode": "lines",
         "type": "scatter",
         "x": [
          -0.1597492898303092,
          0.02679877799701133,
          null
         ],
         "y": [
          -0.0823050309278933,
          -0.08575241740514945,
          null
         ]
        },
        {
         "line": {
          "color": "cornflowerblue",
          "width": 1.8986597733109094
         },
         "mode": "lines",
         "type": "scatter",
         "x": [
          -0.1597492898303092,
          -0.15139480742354725,
          null
         ],
         "y": [
          -0.0823050309278933,
          0.05433721725869814,
          null
         ]
        },
        {
         "line": {
          "color": "cornflowerblue",
          "width": 1.8986597733109094
         },
         "mode": "lines",
         "type": "scatter",
         "x": [
          -0.1597492898303092,
          -0.15139480742354725,
          null
         ],
         "y": [
          -0.0823050309278933,
          0.05433721725869814,
          null
         ]
        },
        {
         "line": {
          "color": "cornflowerblue",
          "width": 0.07675659343654487
         },
         "mode": "lines",
         "type": "scatter",
         "x": [
          -0.17021677582672068,
          0.051863099410376645,
          null
         ],
         "y": [
          -0.21805015221316162,
          -0.27540867807142644,
          null
         ]
        },
        {
         "line": {
          "color": "cornflowerblue",
          "width": 0.09940527107439437
         },
         "mode": "lines",
         "type": "scatter",
         "x": [
          -0.17021677582672068,
          -0.15139480742354725,
          null
         ],
         "y": [
          -0.21805015221316162,
          0.05433721725869814,
          null
         ]
        },
        {
         "line": {
          "color": "cornflowerblue",
          "width": 1.1115829731534133
         },
         "mode": "lines",
         "type": "scatter",
         "x": [
          -0.17021677582672068,
          -0.0641867954803971,
          null
         ],
         "y": [
          -0.21805015221316162,
          -0.1706237001186079,
          null
         ]
        },
        {
         "line": {
          "color": "cornflowerblue",
          "width": 0.31273382267886335
         },
         "mode": "lines",
         "type": "scatter",
         "x": [
          -0.17021677582672068,
          -0.07577859200455012,
          null
         ],
         "y": [
          -0.21805015221316162,
          -0.06503112297864114,
          null
         ]
        },
        {
         "line": {
          "color": "cornflowerblue",
          "width": 0.31273382267886335
         },
         "mode": "lines",
         "type": "scatter",
         "x": [
          -0.17021677582672068,
          -0.07577859200455012,
          null
         ],
         "y": [
          -0.21805015221316162,
          -0.06503112297864114,
          null
         ]
        },
        {
         "line": {
          "color": "cornflowerblue",
          "width": 0.5818794231653457
         },
         "mode": "lines",
         "type": "scatter",
         "x": [
          -0.0641867954803971,
          0.051863099410376645,
          null
         ],
         "y": [
          -0.1706237001186079,
          -0.27540867807142644,
          null
         ]
        },
        {
         "line": {
          "color": "cornflowerblue",
          "width": 0.1738128437734121
         },
         "mode": "lines",
         "type": "scatter",
         "x": [
          -0.0641867954803971,
          -0.1883125899504978,
          null
         ],
         "y": [
          -0.1706237001186079,
          0.17457773401712348,
          null
         ]
        },
        {
         "line": {
          "color": "cornflowerblue",
          "width": 0.2885850824080961
         },
         "mode": "lines",
         "type": "scatter",
         "x": [
          -0.0641867954803971,
          -0.07577859200455012,
          null
         ],
         "y": [
          -0.1706237001186079,
          -0.06503112297864114,
          null
         ]
        },
        {
         "line": {
          "color": "cornflowerblue",
          "width": 0.09134026341345095
         },
         "mode": "lines",
         "type": "scatter",
         "x": [
          -0.0641867954803971,
          0.15965413263229217,
          null
         ],
         "y": [
          -0.1706237001186079,
          -0.22942623955486569,
          null
         ]
        },
        {
         "line": {
          "color": "cornflowerblue",
          "width": 0.09134026341345095
         },
         "mode": "lines",
         "type": "scatter",
         "x": [
          -0.0641867954803971,
          0.15965413263229217,
          null
         ],
         "y": [
          -0.1706237001186079,
          -0.22942623955486569,
          null
         ]
        },
        {
         "line": {
          "color": "cornflowerblue",
          "width": 0.07429484202029396
         },
         "mode": "lines",
         "type": "scatter",
         "x": [
          -0.07577859200455012,
          0.15965413263229217,
          null
         ],
         "y": [
          -0.06503112297864114,
          -0.22942623955486569,
          null
         ]
        },
        {
         "line": {
          "color": "cornflowerblue",
          "width": 0.45453323863048667
         },
         "mode": "lines",
         "type": "scatter",
         "x": [
          -0.07577859200455012,
          0.02679877799701133,
          null
         ],
         "y": [
          -0.06503112297864114,
          -0.08575241740514945,
          null
         ]
        },
        {
         "line": {
          "color": "cornflowerblue",
          "width": 2.3208712486414536
         },
         "mode": "lines",
         "type": "scatter",
         "x": [
          -0.07577859200455012,
          -0.15139480742354725,
          null
         ],
         "y": [
          -0.06503112297864114,
          0.05433721725869814,
          null
         ]
        },
        {
         "line": {
          "color": "cornflowerblue",
          "width": 0.09834958608647942
         },
         "mode": "lines",
         "type": "scatter",
         "x": [
          -0.07577859200455012,
          0.13570973179889473,
          null
         ],
         "y": [
          -0.06503112297864114,
          -0.09280196575928228,
          null
         ]
        },
        {
         "line": {
          "color": "cornflowerblue",
          "width": 0.09834958608647942
         },
         "mode": "lines",
         "type": "scatter",
         "x": [
          -0.07577859200455012,
          0.13570973179889473,
          null
         ],
         "y": [
          -0.06503112297864114,
          -0.09280196575928228,
          null
         ]
        },
        {
         "line": {
          "color": "cornflowerblue",
          "width": 0.24267194536492992
         },
         "mode": "lines",
         "type": "scatter",
         "x": [
          0.02679877799701133,
          0.051863099410376645,
          null
         ],
         "y": [
          -0.08575241740514945,
          -0.27540867807142644,
          null
         ]
        },
        {
         "line": {
          "color": "cornflowerblue",
          "width": 0.22846963312515722
         },
         "mode": "lines",
         "type": "scatter",
         "x": [
          0.02679877799701133,
          0.15965413263229217,
          null
         ],
         "y": [
          -0.08575241740514945,
          -0.22942623955486569,
          null
         ]
        },
        {
         "line": {
          "color": "cornflowerblue",
          "width": 0.6151504524879806
         },
         "mode": "lines",
         "type": "scatter",
         "x": [
          0.02679877799701133,
          0.13570973179889473,
          null
         ],
         "y": [
          -0.08575241740514945,
          -0.09280196575928228,
          null
         ]
        },
        {
         "line": {
          "color": "cornflowerblue",
          "width": 0.5348870087273192
         },
         "mode": "lines",
         "type": "scatter",
         "x": [
          0.02679877799701133,
          -0.15139480742354725,
          null
         ],
         "y": [
          -0.08575241740514945,
          0.05433721725869814,
          null
         ]
        },
        {
         "line": {
          "color": "cornflowerblue",
          "width": 0.5348870087273192
         },
         "mode": "lines",
         "type": "scatter",
         "x": [
          0.02679877799701133,
          -0.15139480742354725,
          null
         ],
         "y": [
          -0.08575241740514945,
          0.05433721725869814,
          null
         ]
        },
        {
         "line": {
          "color": "cornflowerblue",
          "width": 0.1553285289415
         },
         "mode": "lines",
         "type": "scatter",
         "x": [
          -0.15139480742354725,
          -0.19610952030685785,
          null
         ],
         "y": [
          0.05433721725869814,
          0.3008097418368995,
          null
         ]
        },
        {
         "line": {
          "color": "cornflowerblue",
          "width": 0.8817558032334698
         },
         "mode": "lines",
         "type": "scatter",
         "x": [
          -0.15139480742354725,
          -0.30653256118453154,
          null
         ],
         "y": [
          0.05433721725869814,
          0.16383865784515797,
          null
         ]
        },
        {
         "line": {
          "color": "cornflowerblue",
          "width": 0.2715382702058215
         },
         "mode": "lines",
         "type": "scatter",
         "x": [
          -0.15139480742354725,
          -0.1883125899504978,
          null
         ],
         "y": [
          0.05433721725869814,
          0.17457773401712348,
          null
         ]
        },
        {
         "line": {
          "color": "cornflowerblue",
          "width": 0.20817913549451023
         },
         "mode": "lines",
         "type": "scatter",
         "x": [
          -0.15139480742354725,
          -0.2912288542982558,
          null
         ],
         "y": [
          0.05433721725869814,
          0.25826999183957705,
          null
         ]
        },
        {
         "line": {
          "color": "cornflowerblue",
          "width": 0.09260359193281739
         },
         "mode": "lines",
         "type": "scatter",
         "x": [
          -0.15139480742354725,
          0.13570973179889473,
          null
         ],
         "y": [
          0.05433721725869814,
          -0.09280196575928228,
          null
         ]
        },
        {
         "line": {
          "color": "cornflowerblue",
          "width": 0.1649672391438755
         },
         "mode": "lines",
         "type": "scatter",
         "x": [
          -0.15139480742354725,
          -0.2708625712777288,
          null
         ],
         "y": [
          0.05433721725869814,
          0.32508571399460084,
          null
         ]
        },
        {
         "line": {
          "color": "cornflowerblue",
          "width": 0.1649672391438755
         },
         "mode": "lines",
         "type": "scatter",
         "x": [
          -0.15139480742354725,
          -0.2708625712777288,
          null
         ],
         "y": [
          0.05433721725869814,
          0.32508571399460084,
          null
         ]
        },
        {
         "line": {
          "color": "cornflowerblue",
          "width": 0.541412289628881
         },
         "mode": "lines",
         "type": "scatter",
         "x": [
          -0.19610952030685785,
          -0.1883125899504978,
          null
         ],
         "y": [
          0.3008097418368995,
          0.17457773401712348,
          null
         ]
        },
        {
         "line": {
          "color": "cornflowerblue",
          "width": 0.2663867987839523
         },
         "mode": "lines",
         "type": "scatter",
         "x": [
          -0.19610952030685785,
          -0.30653256118453154,
          null
         ],
         "y": [
          0.3008097418368995,
          0.16383865784515797,
          null
         ]
        },
        {
         "line": {
          "color": "cornflowerblue",
          "width": 1.4365596899977715
         },
         "mode": "lines",
         "type": "scatter",
         "x": [
          -0.19610952030685785,
          -0.2912288542982558,
          null
         ],
         "y": [
          0.3008097418368995,
          0.25826999183957705,
          null
         ]
        },
        {
         "line": {
          "color": "cornflowerblue",
          "width": 2.0372782327571355
         },
         "mode": "lines",
         "type": "scatter",
         "x": [
          -0.19610952030685785,
          -0.2708625712777288,
          null
         ],
         "y": [
          0.3008097418368995,
          0.32508571399460084,
          null
         ]
        },
        {
         "line": {
          "color": "cornflowerblue",
          "width": 2.0372782327571355
         },
         "mode": "lines",
         "type": "scatter",
         "x": [
          -0.19610952030685785,
          -0.2708625712777288,
          null
         ],
         "y": [
          0.3008097418368995,
          0.32508571399460084,
          null
         ]
        },
        {
         "line": {
          "color": "cornflowerblue",
          "width": 0.4252567872726537
         },
         "mode": "lines",
         "type": "scatter",
         "x": [
          -0.1883125899504978,
          -0.30653256118453154,
          null
         ],
         "y": [
          0.17457773401712348,
          0.16383865784515797,
          null
         ]
        },
        {
         "line": {
          "color": "cornflowerblue",
          "width": 0.8007890156696739
         },
         "mode": "lines",
         "type": "scatter",
         "x": [
          -0.1883125899504978,
          -0.2912288542982558,
          null
         ],
         "y": [
          0.17457773401712348,
          0.25826999183957705,
          null
         ]
        },
        {
         "line": {
          "color": "cornflowerblue",
          "width": 0.5490390132576635
         },
         "mode": "lines",
         "type": "scatter",
         "x": [
          -0.1883125899504978,
          -0.2708625712777288,
          null
         ],
         "y": [
          0.17457773401712348,
          0.32508571399460084,
          null
         ]
        },
        {
         "line": {
          "color": "cornflowerblue",
          "width": 0.5490390132576635
         },
         "mode": "lines",
         "type": "scatter",
         "x": [
          -0.1883125899504978,
          -0.2708625712777288,
          null
         ],
         "y": [
          0.17457773401712348,
          0.32508571399460084,
          null
         ]
        },
        {
         "line": {
          "color": "cornflowerblue",
          "width": 0.17325887181139482
         },
         "mode": "lines",
         "type": "scatter",
         "x": [
          -0.30653256118453154,
          -0.2708625712777288,
          null
         ],
         "y": [
          0.16383865784515797,
          0.32508571399460084,
          null
         ]
        },
        {
         "line": {
          "color": "cornflowerblue",
          "width": 0.18844352784509716
         },
         "mode": "lines",
         "type": "scatter",
         "x": [
          -0.30653256118453154,
          -0.2912288542982558,
          null
         ],
         "y": [
          0.16383865784515797,
          0.25826999183957705,
          null
         ]
        },
        {
         "line": {
          "color": "cornflowerblue",
          "width": 0.18844352784509716
         },
         "mode": "lines",
         "type": "scatter",
         "x": [
          -0.30653256118453154,
          -0.2912288542982558,
          null
         ],
         "y": [
          0.16383865784515797,
          0.25826999183957705,
          null
         ]
        },
        {
         "line": {
          "color": "cornflowerblue",
          "width": 1.9589874694156735
         },
         "mode": "lines",
         "type": "scatter",
         "x": [
          -0.2912288542982558,
          -0.2708625712777288,
          null
         ],
         "y": [
          0.25826999183957705,
          0.32508571399460084,
          null
         ]
        },
        {
         "line": {
          "color": "cornflowerblue",
          "width": 1.9589874694156735
         },
         "mode": "lines",
         "type": "scatter",
         "x": [
          -0.2912288542982558,
          -0.2708625712777288,
          null
         ],
         "y": [
          0.25826999183957705,
          0.32508571399460084,
          null
         ]
        },
        {
         "line": {
          "color": "cornflowerblue",
          "width": 1.9589874694156735
         },
         "mode": "lines",
         "type": "scatter",
         "x": [
          -0.2912288542982558,
          -0.2708625712777288,
          null
         ],
         "y": [
          0.25826999183957705,
          0.32508571399460084,
          null
         ]
        },
        {
         "line": {
          "color": "cornflowerblue",
          "width": 0.23606531485855442
         },
         "mode": "lines",
         "type": "scatter",
         "x": [
          0.051863099410376645,
          0.13570973179889473,
          null
         ],
         "y": [
          -0.27540867807142644,
          -0.09280196575928228,
          null
         ]
        },
        {
         "line": {
          "color": "cornflowerblue",
          "width": 0.27656071611160676
         },
         "mode": "lines",
         "type": "scatter",
         "x": [
          0.051863099410376645,
          0.15965413263229217,
          null
         ],
         "y": [
          -0.27540867807142644,
          -0.22942623955486569,
          null
         ]
        },
        {
         "line": {
          "color": "cornflowerblue",
          "width": 0.27656071611160676
         },
         "mode": "lines",
         "type": "scatter",
         "x": [
          0.051863099410376645,
          0.15965413263229217,
          null
         ],
         "y": [
          -0.27540867807142644,
          -0.22942623955486569,
          null
         ]
        },
        {
         "line": {
          "color": "cornflowerblue",
          "width": 0.11671488351263964
         },
         "mode": "lines",
         "type": "scatter",
         "x": [
          0.13570973179889473,
          0.15965413263229217,
          null
         ],
         "y": [
          -0.09280196575928228,
          -0.22942623955486569,
          null
         ]
        },
        {
         "line": {
          "color": "cornflowerblue",
          "width": 0.11671488351263964
         },
         "mode": "lines",
         "type": "scatter",
         "x": [
          0.13570973179889473,
          0.15965413263229217,
          null
         ],
         "y": [
          -0.09280196575928228,
          -0.22942623955486569,
          null
         ]
        },
        {
         "line": {
          "color": "cornflowerblue",
          "width": 0.11671488351263964
         },
         "mode": "lines",
         "type": "scatter",
         "x": [
          0.13570973179889473,
          0.15965413263229217,
          null
         ],
         "y": [
          -0.09280196575928228,
          -0.22942623955486569,
          null
         ]
        },
        {
         "hoverinfo": "text",
         "marker": {
          "color": [
           1,
           1,
           1,
           1,
           2,
           1,
           0,
           0,
           0,
           0,
           0,
           2,
           2,
           2
          ],
          "opacity": [
           0.6,
           0.6,
           0.6,
           0.6,
           0.6,
           0.6,
           0.6,
           0.6,
           0.6,
           0.6,
           0.6,
           0.6,
           0.6,
           0.6
          ],
          "size": [
           19,
           14,
           5,
           24,
           26,
           12,
           21,
           1,
           7,
           10,
           3,
           28,
           30,
           17
          ],
          "symbol": [
           0,
           0,
           0,
           0,
           0,
           0,
           0,
           0,
           0,
           0,
           0,
           0,
           0,
           0
          ]
         },
         "mode": "markers+text",
         "text": [
          "<b>astronomer</b>",
          "<b>cartographer</b>",
          "<b>geographer</b>",
          "<b>mathematician</b>",
          "<b>philosopher</b>",
          "<b>physicist</b>",
          "<b>botanist</b>",
          "<b>geologist</b>",
          "<b>chemist</b>",
          "<b>naturalist</b>",
          "<b>zoologist</b>",
          "<b>historian</b>",
          "<b>theologian</b>",
          "<b>linguist</b>"
         ],
         "textfont": {
          "size": 20
         },
         "textposition": "top center",
         "type": "scatter",
         "x": [
          -0.1597492898303092,
          -0.17021677582672068,
          -0.0641867954803971,
          -0.07577859200455012,
          0.02679877799701133,
          -0.15139480742354725,
          -0.19610952030685785,
          -0.1883125899504978,
          -0.30653256118453154,
          -0.2912288542982558,
          -0.2708625712777288,
          0.051863099410376645,
          0.13570973179889473,
          0.15965413263229217
         ],
         "y": [
          -0.0823050309278933,
          -0.21805015221316162,
          -0.1706237001186079,
          -0.06503112297864114,
          -0.08575241740514945,
          0.05433721725869814,
          0.3008097418368995,
          0.17457773401712348,
          0.16383865784515797,
          0.25826999183957705,
          0.32508571399460084,
          -0.27540867807142644,
          -0.09280196575928228,
          -0.22942623955486569
         ]
        }
       ],
       "layout": {
        "height": 1000,
        "showlegend": false,
        "template": {
         "data": {
          "bar": [
           {
            "error_x": {
             "color": "#2a3f5f"
            },
            "error_y": {
             "color": "#2a3f5f"
            },
            "marker": {
             "line": {
              "color": "white",
              "width": 0.5
             },
             "pattern": {
              "fillmode": "overlay",
              "size": 10,
              "solidity": 0.2
             }
            },
            "type": "bar"
           }
          ],
          "barpolar": [
           {
            "marker": {
             "line": {
              "color": "white",
              "width": 0.5
             },
             "pattern": {
              "fillmode": "overlay",
              "size": 10,
              "solidity": 0.2
             }
            },
            "type": "barpolar"
           }
          ],
          "carpet": [
           {
            "aaxis": {
             "endlinecolor": "#2a3f5f",
             "gridcolor": "#C8D4E3",
             "linecolor": "#C8D4E3",
             "minorgridcolor": "#C8D4E3",
             "startlinecolor": "#2a3f5f"
            },
            "baxis": {
             "endlinecolor": "#2a3f5f",
             "gridcolor": "#C8D4E3",
             "linecolor": "#C8D4E3",
             "minorgridcolor": "#C8D4E3",
             "startlinecolor": "#2a3f5f"
            },
            "type": "carpet"
           }
          ],
          "choropleth": [
           {
            "colorbar": {
             "outlinewidth": 0,
             "ticks": ""
            },
            "type": "choropleth"
           }
          ],
          "contour": [
           {
            "colorbar": {
             "outlinewidth": 0,
             "ticks": ""
            },
            "colorscale": [
             [
              0,
              "#0d0887"
             ],
             [
              0.1111111111111111,
              "#46039f"
             ],
             [
              0.2222222222222222,
              "#7201a8"
             ],
             [
              0.3333333333333333,
              "#9c179e"
             ],
             [
              0.4444444444444444,
              "#bd3786"
             ],
             [
              0.5555555555555556,
              "#d8576b"
             ],
             [
              0.6666666666666666,
              "#ed7953"
             ],
             [
              0.7777777777777778,
              "#fb9f3a"
             ],
             [
              0.8888888888888888,
              "#fdca26"
             ],
             [
              1,
              "#f0f921"
             ]
            ],
            "type": "contour"
           }
          ],
          "contourcarpet": [
           {
            "colorbar": {
             "outlinewidth": 0,
             "ticks": ""
            },
            "type": "contourcarpet"
           }
          ],
          "heatmap": [
           {
            "colorbar": {
             "outlinewidth": 0,
             "ticks": ""
            },
            "colorscale": [
             [
              0,
              "#0d0887"
             ],
             [
              0.1111111111111111,
              "#46039f"
             ],
             [
              0.2222222222222222,
              "#7201a8"
             ],
             [
              0.3333333333333333,
              "#9c179e"
             ],
             [
              0.4444444444444444,
              "#bd3786"
             ],
             [
              0.5555555555555556,
              "#d8576b"
             ],
             [
              0.6666666666666666,
              "#ed7953"
             ],
             [
              0.7777777777777778,
              "#fb9f3a"
             ],
             [
              0.8888888888888888,
              "#fdca26"
             ],
             [
              1,
              "#f0f921"
             ]
            ],
            "type": "heatmap"
           }
          ],
          "heatmapgl": [
           {
            "colorbar": {
             "outlinewidth": 0,
             "ticks": ""
            },
            "colorscale": [
             [
              0,
              "#0d0887"
             ],
             [
              0.1111111111111111,
              "#46039f"
             ],
             [
              0.2222222222222222,
              "#7201a8"
             ],
             [
              0.3333333333333333,
              "#9c179e"
             ],
             [
              0.4444444444444444,
              "#bd3786"
             ],
             [
              0.5555555555555556,
              "#d8576b"
             ],
             [
              0.6666666666666666,
              "#ed7953"
             ],
             [
              0.7777777777777778,
              "#fb9f3a"
             ],
             [
              0.8888888888888888,
              "#fdca26"
             ],
             [
              1,
              "#f0f921"
             ]
            ],
            "type": "heatmapgl"
           }
          ],
          "histogram": [
           {
            "marker": {
             "pattern": {
              "fillmode": "overlay",
              "size": 10,
              "solidity": 0.2
             }
            },
            "type": "histogram"
           }
          ],
          "histogram2d": [
           {
            "colorbar": {
             "outlinewidth": 0,
             "ticks": ""
            },
            "colorscale": [
             [
              0,
              "#0d0887"
             ],
             [
              0.1111111111111111,
              "#46039f"
             ],
             [
              0.2222222222222222,
              "#7201a8"
             ],
             [
              0.3333333333333333,
              "#9c179e"
             ],
             [
              0.4444444444444444,
              "#bd3786"
             ],
             [
              0.5555555555555556,
              "#d8576b"
             ],
             [
              0.6666666666666666,
              "#ed7953"
             ],
             [
              0.7777777777777778,
              "#fb9f3a"
             ],
             [
              0.8888888888888888,
              "#fdca26"
             ],
             [
              1,
              "#f0f921"
             ]
            ],
            "type": "histogram2d"
           }
          ],
          "histogram2dcontour": [
           {
            "colorbar": {
             "outlinewidth": 0,
             "ticks": ""
            },
            "colorscale": [
             [
              0,
              "#0d0887"
             ],
             [
              0.1111111111111111,
              "#46039f"
             ],
             [
              0.2222222222222222,
              "#7201a8"
             ],
             [
              0.3333333333333333,
              "#9c179e"
             ],
             [
              0.4444444444444444,
              "#bd3786"
             ],
             [
              0.5555555555555556,
              "#d8576b"
             ],
             [
              0.6666666666666666,
              "#ed7953"
             ],
             [
              0.7777777777777778,
              "#fb9f3a"
             ],
             [
              0.8888888888888888,
              "#fdca26"
             ],
             [
              1,
              "#f0f921"
             ]
            ],
            "type": "histogram2dcontour"
           }
          ],
          "mesh3d": [
           {
            "colorbar": {
             "outlinewidth": 0,
             "ticks": ""
            },
            "type": "mesh3d"
           }
          ],
          "parcoords": [
           {
            "line": {
             "colorbar": {
              "outlinewidth": 0,
              "ticks": ""
             }
            },
            "type": "parcoords"
           }
          ],
          "pie": [
           {
            "automargin": true,
            "type": "pie"
           }
          ],
          "scatter": [
           {
            "marker": {
             "colorbar": {
              "outlinewidth": 0,
              "ticks": ""
             }
            },
            "type": "scatter"
           }
          ],
          "scatter3d": [
           {
            "line": {
             "colorbar": {
              "outlinewidth": 0,
              "ticks": ""
             }
            },
            "marker": {
             "colorbar": {
              "outlinewidth": 0,
              "ticks": ""
             }
            },
            "type": "scatter3d"
           }
          ],
          "scattercarpet": [
           {
            "marker": {
             "colorbar": {
              "outlinewidth": 0,
              "ticks": ""
             }
            },
            "type": "scattercarpet"
           }
          ],
          "scattergeo": [
           {
            "marker": {
             "colorbar": {
              "outlinewidth": 0,
              "ticks": ""
             }
            },
            "type": "scattergeo"
           }
          ],
          "scattergl": [
           {
            "marker": {
             "colorbar": {
              "outlinewidth": 0,
              "ticks": ""
             }
            },
            "type": "scattergl"
           }
          ],
          "scattermapbox": [
           {
            "marker": {
             "colorbar": {
              "outlinewidth": 0,
              "ticks": ""
             }
            },
            "type": "scattermapbox"
           }
          ],
          "scatterpolar": [
           {
            "marker": {
             "colorbar": {
              "outlinewidth": 0,
              "ticks": ""
             }
            },
            "type": "scatterpolar"
           }
          ],
          "scatterpolargl": [
           {
            "marker": {
             "colorbar": {
              "outlinewidth": 0,
              "ticks": ""
             }
            },
            "type": "scatterpolargl"
           }
          ],
          "scatterternary": [
           {
            "marker": {
             "colorbar": {
              "outlinewidth": 0,
              "ticks": ""
             }
            },
            "type": "scatterternary"
           }
          ],
          "surface": [
           {
            "colorbar": {
             "outlinewidth": 0,
             "ticks": ""
            },
            "colorscale": [
             [
              0,
              "#0d0887"
             ],
             [
              0.1111111111111111,
              "#46039f"
             ],
             [
              0.2222222222222222,
              "#7201a8"
             ],
             [
              0.3333333333333333,
              "#9c179e"
             ],
             [
              0.4444444444444444,
              "#bd3786"
             ],
             [
              0.5555555555555556,
              "#d8576b"
             ],
             [
              0.6666666666666666,
              "#ed7953"
             ],
             [
              0.7777777777777778,
              "#fb9f3a"
             ],
             [
              0.8888888888888888,
              "#fdca26"
             ],
             [
              1,
              "#f0f921"
             ]
            ],
            "type": "surface"
           }
          ],
          "table": [
           {
            "cells": {
             "fill": {
              "color": "#EBF0F8"
             },
             "line": {
              "color": "white"
             }
            },
            "header": {
             "fill": {
              "color": "#C8D4E3"
             },
             "line": {
              "color": "white"
             }
            },
            "type": "table"
           }
          ]
         },
         "layout": {
          "annotationdefaults": {
           "arrowcolor": "#2a3f5f",
           "arrowhead": 0,
           "arrowwidth": 1
          },
          "autotypenumbers": "strict",
          "coloraxis": {
           "colorbar": {
            "outlinewidth": 0,
            "ticks": ""
           }
          },
          "colorscale": {
           "diverging": [
            [
             0,
             "#8e0152"
            ],
            [
             0.1,
             "#c51b7d"
            ],
            [
             0.2,
             "#de77ae"
            ],
            [
             0.3,
             "#f1b6da"
            ],
            [
             0.4,
             "#fde0ef"
            ],
            [
             0.5,
             "#f7f7f7"
            ],
            [
             0.6,
             "#e6f5d0"
            ],
            [
             0.7,
             "#b8e186"
            ],
            [
             0.8,
             "#7fbc41"
            ],
            [
             0.9,
             "#4d9221"
            ],
            [
             1,
             "#276419"
            ]
           ],
           "sequential": [
            [
             0,
             "#0d0887"
            ],
            [
             0.1111111111111111,
             "#46039f"
            ],
            [
             0.2222222222222222,
             "#7201a8"
            ],
            [
             0.3333333333333333,
             "#9c179e"
            ],
            [
             0.4444444444444444,
             "#bd3786"
            ],
            [
             0.5555555555555556,
             "#d8576b"
            ],
            [
             0.6666666666666666,
             "#ed7953"
            ],
            [
             0.7777777777777778,
             "#fb9f3a"
            ],
            [
             0.8888888888888888,
             "#fdca26"
            ],
            [
             1,
             "#f0f921"
            ]
           ],
           "sequentialminus": [
            [
             0,
             "#0d0887"
            ],
            [
             0.1111111111111111,
             "#46039f"
            ],
            [
             0.2222222222222222,
             "#7201a8"
            ],
            [
             0.3333333333333333,
             "#9c179e"
            ],
            [
             0.4444444444444444,
             "#bd3786"
            ],
            [
             0.5555555555555556,
             "#d8576b"
            ],
            [
             0.6666666666666666,
             "#ed7953"
            ],
            [
             0.7777777777777778,
             "#fb9f3a"
            ],
            [
             0.8888888888888888,
             "#fdca26"
            ],
            [
             1,
             "#f0f921"
            ]
           ]
          },
          "colorway": [
           "#636efa",
           "#EF553B",
           "#00cc96",
           "#ab63fa",
           "#FFA15A",
           "#19d3f3",
           "#FF6692",
           "#B6E880",
           "#FF97FF",
           "#FECB52"
          ],
          "font": {
           "color": "#2a3f5f"
          },
          "geo": {
           "bgcolor": "white",
           "lakecolor": "white",
           "landcolor": "white",
           "showlakes": true,
           "showland": true,
           "subunitcolor": "#C8D4E3"
          },
          "hoverlabel": {
           "align": "left"
          },
          "hovermode": "closest",
          "mapbox": {
           "style": "light"
          },
          "paper_bgcolor": "white",
          "plot_bgcolor": "white",
          "polar": {
           "angularaxis": {
            "gridcolor": "#EBF0F8",
            "linecolor": "#EBF0F8",
            "ticks": ""
           },
           "bgcolor": "white",
           "radialaxis": {
            "gridcolor": "#EBF0F8",
            "linecolor": "#EBF0F8",
            "ticks": ""
           }
          },
          "scene": {
           "xaxis": {
            "backgroundcolor": "white",
            "gridcolor": "#DFE8F3",
            "gridwidth": 2,
            "linecolor": "#EBF0F8",
            "showbackground": true,
            "ticks": "",
            "zerolinecolor": "#EBF0F8"
           },
           "yaxis": {
            "backgroundcolor": "white",
            "gridcolor": "#DFE8F3",
            "gridwidth": 2,
            "linecolor": "#EBF0F8",
            "showbackground": true,
            "ticks": "",
            "zerolinecolor": "#EBF0F8"
           },
           "zaxis": {
            "backgroundcolor": "white",
            "gridcolor": "#DFE8F3",
            "gridwidth": 2,
            "linecolor": "#EBF0F8",
            "showbackground": true,
            "ticks": "",
            "zerolinecolor": "#EBF0F8"
           }
          },
          "shapedefaults": {
           "line": {
            "color": "#2a3f5f"
           }
          },
          "ternary": {
           "aaxis": {
            "gridcolor": "#DFE8F3",
            "linecolor": "#A2B1C6",
            "ticks": ""
           },
           "baxis": {
            "gridcolor": "#DFE8F3",
            "linecolor": "#A2B1C6",
            "ticks": ""
           },
           "bgcolor": "white",
           "caxis": {
            "gridcolor": "#DFE8F3",
            "linecolor": "#A2B1C6",
            "ticks": ""
           }
          },
          "title": {
           "x": 0.05
          },
          "xaxis": {
           "automargin": true,
           "gridcolor": "#EBF0F8",
           "linecolor": "#EBF0F8",
           "ticks": "",
           "title": {
            "standoff": 15
           },
           "zerolinecolor": "#EBF0F8",
           "zerolinewidth": 2
          },
          "yaxis": {
           "automargin": true,
           "gridcolor": "#EBF0F8",
           "linecolor": "#EBF0F8",
           "ticks": "",
           "title": {
            "standoff": 15
           },
           "zerolinecolor": "#EBF0F8",
           "zerolinewidth": 2
          }
         }
        },
        "title": {
         "text": "Semantic Network"
        },
        "width": 1000,
        "xaxis": {
         "autorange": true,
         "range": [
          -0.3357085502881148,
          0.19276219573905376
         ],
         "showgrid": false,
         "showticklabels": false,
         "type": "linear",
         "zeroline": false
        },
        "yaxis": {
         "autorange": true,
         "range": [
          -0.32436884801687954,
          0.3619104572014374
         ],
         "showgrid": false,
         "showticklabels": false,
         "type": "linear",
         "zeroline": false
        }
       }
      },
      "image/png": "[encoded data removed]",
      "text/html": [
       "<div>                            <div id=\"374c767b-6780-4736-b11d-a161de95cdd2\" class=\"plotly-graph-div\" style=\"height:1000px; width:1000px;\"></div>            <script type=\"text/javascript\">                require([\"plotly\"], function(Plotly) {                    window.PLOTLYENV=window.PLOTLYENV || {};                                    if (document.getElementById(\"374c767b-6780-4736-b11d-a161de95cdd2\")) {                    Plotly.newPlot(                        \"374c767b-6780-4736-b11d-a161de95cdd2\",                        [{\"line\":{\"color\":\"cornflowerblue\",\"width\":0.3981201604370946},\"mode\":\"lines\",\"x\":[-0.1597492898303092,-0.17021677582672068,null],\"y\":[-0.0823050309278933,-0.21805015221316162,null],\"type\":\"scatter\"},{\"line\":{\"color\":\"cornflowerblue\",\"width\":0.37536782087262544},\"mode\":\"lines\",\"x\":[-0.1597492898303092,-0.0641867954803971,null],\"y\":[-0.0823050309278933,-0.1706237001186079,null],\"type\":\"scatter\"},{\"line\":{\"color\":\"cornflowerblue\",\"width\":3.5001903510341164},\"mode\":\"lines\",\"x\":[-0.1597492898303092,-0.07577859200455012,null],\"y\":[-0.0823050309278933,-0.06503112297864114,null],\"type\":\"scatter\"},{\"line\":{\"color\":\"cornflowerblue\",\"width\":0.33480034263014313},\"mode\":\"lines\",\"x\":[-0.1597492898303092,0.02679877799701133,null],\"y\":[-0.0823050309278933,-0.08575241740514945,null],\"type\":\"scatter\"},{\"line\":{\"color\":\"cornflowerblue\",\"width\":1.8986597733109094},\"mode\":\"lines\",\"x\":[-0.1597492898303092,-0.15139480742354725,null],\"y\":[-0.0823050309278933,0.05433721725869814,null],\"type\":\"scatter\"},{\"line\":{\"color\":\"cornflowerblue\",\"width\":1.8986597733109094},\"mode\":\"lines\",\"x\":[-0.1597492898303092,-0.15139480742354725,null],\"y\":[-0.0823050309278933,0.05433721725869814,null],\"type\":\"scatter\"},{\"line\":{\"color\":\"cornflowerblue\",\"width\":0.07675659343654487},\"mode\":\"lines\",\"x\":[-0.17021677582672068,0.051863099410376645,null],\"y\":[-0.21805015221316162,-0.27540867807142644,null],\"type\":\"scatter\"},{\"line\":{\"color\":\"cornflowerblue\",\"width\":0.09940527107439437},\"mode\":\"lines\",\"x\":[-0.17021677582672068,-0.15139480742354725,null],\"y\":[-0.21805015221316162,0.05433721725869814,null],\"type\":\"scatter\"},{\"line\":{\"color\":\"cornflowerblue\",\"width\":1.1115829731534133},\"mode\":\"lines\",\"x\":[-0.17021677582672068,-0.0641867954803971,null],\"y\":[-0.21805015221316162,-0.1706237001186079,null],\"type\":\"scatter\"},{\"line\":{\"color\":\"cornflowerblue\",\"width\":0.31273382267886335},\"mode\":\"lines\",\"x\":[-0.17021677582672068,-0.07577859200455012,null],\"y\":[-0.21805015221316162,-0.06503112297864114,null],\"type\":\"scatter\"},{\"line\":{\"color\":\"cornflowerblue\",\"width\":0.31273382267886335},\"mode\":\"lines\",\"x\":[-0.17021677582672068,-0.07577859200455012,null],\"y\":[-0.21805015221316162,-0.06503112297864114,null],\"type\":\"scatter\"},{\"line\":{\"color\":\"cornflowerblue\",\"width\":0.5818794231653457},\"mode\":\"lines\",\"x\":[-0.0641867954803971,0.051863099410376645,null],\"y\":[-0.1706237001186079,-0.27540867807142644,null],\"type\":\"scatter\"},{\"line\":{\"color\":\"cornflowerblue\",\"width\":0.1738128437734121},\"mode\":\"lines\",\"x\":[-0.0641867954803971,-0.1883125899504978,null],\"y\":[-0.1706237001186079,0.17457773401712348,null],\"type\":\"scatter\"},{\"line\":{\"color\":\"cornflowerblue\",\"width\":0.2885850824080961},\"mode\":\"lines\",\"x\":[-0.0641867954803971,-0.07577859200455012,null],\"y\":[-0.1706237001186079,-0.06503112297864114,null],\"type\":\"scatter\"},{\"line\":{\"color\":\"cornflowerblue\",\"width\":0.09134026341345095},\"mode\":\"lines\",\"x\":[-0.0641867954803971,0.15965413263229217,null],\"y\":[-0.1706237001186079,-0.22942623955486569,null],\"type\":\"scatter\"},{\"line\":{\"color\":\"cornflowerblue\",\"width\":0.09134026341345095},\"mode\":\"lines\",\"x\":[-0.0641867954803971,0.15965413263229217,null],\"y\":[-0.1706237001186079,-0.22942623955486569,null],\"type\":\"scatter\"},{\"line\":{\"color\":\"cornflowerblue\",\"width\":0.07429484202029396},\"mode\":\"lines\",\"x\":[-0.07577859200455012,0.15965413263229217,null],\"y\":[-0.06503112297864114,-0.22942623955486569,null],\"type\":\"scatter\"},{\"line\":{\"color\":\"cornflowerblue\",\"width\":0.45453323863048667},\"mode\":\"lines\",\"x\":[-0.07577859200455012,0.02679877799701133,null],\"y\":[-0.06503112297864114,-0.08575241740514945,null],\"type\":\"scatter\"},{\"line\":{\"color\":\"cornflowerblue\",\"width\":2.3208712486414536},\"mode\":\"lines\",\"x\":[-0.07577859200455012,-0.15139480742354725,null],\"y\":[-0.06503112297864114,0.05433721725869814,null],\"type\":\"scatter\"},{\"line\":{\"color\":\"cornflowerblue\",\"width\":0.09834958608647942},\"mode\":\"lines\",\"x\":[-0.07577859200455012,0.13570973179889473,null],\"y\":[-0.06503112297864114,-0.09280196575928228,null],\"type\":\"scatter\"},{\"line\":{\"color\":\"cornflowerblue\",\"width\":0.09834958608647942},\"mode\":\"lines\",\"x\":[-0.07577859200455012,0.13570973179889473,null],\"y\":[-0.06503112297864114,-0.09280196575928228,null],\"type\":\"scatter\"},{\"line\":{\"color\":\"cornflowerblue\",\"width\":0.24267194536492992},\"mode\":\"lines\",\"x\":[0.02679877799701133,0.051863099410376645,null],\"y\":[-0.08575241740514945,-0.27540867807142644,null],\"type\":\"scatter\"},{\"line\":{\"color\":\"cornflowerblue\",\"width\":0.22846963312515722},\"mode\":\"lines\",\"x\":[0.02679877799701133,0.15965413263229217,null],\"y\":[-0.08575241740514945,-0.22942623955486569,null],\"type\":\"scatter\"},{\"line\":{\"color\":\"cornflowerblue\",\"width\":0.6151504524879806},\"mode\":\"lines\",\"x\":[0.02679877799701133,0.13570973179889473,null],\"y\":[-0.08575241740514945,-0.09280196575928228,null],\"type\":\"scatter\"},{\"line\":{\"color\":\"cornflowerblue\",\"width\":0.5348870087273192},\"mode\":\"lines\",\"x\":[0.02679877799701133,-0.15139480742354725,null],\"y\":[-0.08575241740514945,0.05433721725869814,null],\"type\":\"scatter\"},{\"line\":{\"color\":\"cornflowerblue\",\"width\":0.5348870087273192},\"mode\":\"lines\",\"x\":[0.02679877799701133,-0.15139480742354725,null],\"y\":[-0.08575241740514945,0.05433721725869814,null],\"type\":\"scatter\"},{\"line\":{\"color\":\"cornflowerblue\",\"width\":0.1553285289415},\"mode\":\"lines\",\"x\":[-0.15139480742354725,-0.19610952030685785,null],\"y\":[0.05433721725869814,0.3008097418368995,null],\"type\":\"scatter\"},{\"line\":{\"color\":\"cornflowerblue\",\"width\":0.8817558032334698},\"mode\":\"lines\",\"x\":[-0.15139480742354725,-0.30653256118453154,null],\"y\":[0.05433721725869814,0.16383865784515797,null],\"type\":\"scatter\"},{\"line\":{\"color\":\"cornflowerblue\",\"width\":0.2715382702058215},\"mode\":\"lines\",\"x\":[-0.15139480742354725,-0.1883125899504978,null],\"y\":[0.05433721725869814,0.17457773401712348,null],\"type\":\"scatter\"},{\"line\":{\"color\":\"cornflowerblue\",\"width\":0.20817913549451023},\"mode\":\"lines\",\"x\":[-0.15139480742354725,-0.2912288542982558,null],\"y\":[0.05433721725869814,0.25826999183957705,null],\"type\":\"scatter\"},{\"line\":{\"color\":\"cornflowerblue\",\"width\":0.09260359193281739},\"mode\":\"lines\",\"x\":[-0.15139480742354725,0.13570973179889473,null],\"y\":[0.05433721725869814,-0.09280196575928228,null],\"type\":\"scatter\"},{\"line\":{\"color\":\"cornflowerblue\",\"width\":0.1649672391438755},\"mode\":\"lines\",\"x\":[-0.15139480742354725,-0.2708625712777288,null],\"y\":[0.05433721725869814,0.32508571399460084,null],\"type\":\"scatter\"},{\"line\":{\"color\":\"cornflowerblue\",\"width\":0.1649672391438755},\"mode\":\"lines\",\"x\":[-0.15139480742354725,-0.2708625712777288,null],\"y\":[0.05433721725869814,0.32508571399460084,null],\"type\":\"scatter\"},{\"line\":{\"color\":\"cornflowerblue\",\"width\":0.541412289628881},\"mode\":\"lines\",\"x\":[-0.19610952030685785,-0.1883125899504978,null],\"y\":[0.3008097418368995,0.17457773401712348,null],\"type\":\"scatter\"},{\"line\":{\"color\":\"cornflowerblue\",\"width\":0.2663867987839523},\"mode\":\"lines\",\"x\":[-0.19610952030685785,-0.30653256118453154,null],\"y\":[0.3008097418368995,0.16383865784515797,null],\"type\":\"scatter\"},{\"line\":{\"color\":\"cornflowerblue\",\"width\":1.4365596899977715},\"mode\":\"lines\",\"x\":[-0.19610952030685785,-0.2912288542982558,null],\"y\":[0.3008097418368995,0.25826999183957705,null],\"type\":\"scatter\"},{\"line\":{\"color\":\"cornflowerblue\",\"width\":2.0372782327571355},\"mode\":\"lines\",\"x\":[-0.19610952030685785,-0.2708625712777288,null],\"y\":[0.3008097418368995,0.32508571399460084,null],\"type\":\"scatter\"},{\"line\":{\"color\":\"cornflowerblue\",\"width\":2.0372782327571355},\"mode\":\"lines\",\"x\":[-0.19610952030685785,-0.2708625712777288,null],\"y\":[0.3008097418368995,0.32508571399460084,null],\"type\":\"scatter\"},{\"line\":{\"color\":\"cornflowerblue\",\"width\":0.4252567872726537},\"mode\":\"lines\",\"x\":[-0.1883125899504978,-0.30653256118453154,null],\"y\":[0.17457773401712348,0.16383865784515797,null],\"type\":\"scatter\"},{\"line\":{\"color\":\"cornflowerblue\",\"width\":0.8007890156696739},\"mode\":\"lines\",\"x\":[-0.1883125899504978,-0.2912288542982558,null],\"y\":[0.17457773401712348,0.25826999183957705,null],\"type\":\"scatter\"},{\"line\":{\"color\":\"cornflowerblue\",\"width\":0.5490390132576635},\"mode\":\"lines\",\"x\":[-0.1883125899504978,-0.2708625712777288,null],\"y\":[0.17457773401712348,0.32508571399460084,null],\"type\":\"scatter\"},{\"line\":{\"color\":\"cornflowerblue\",\"width\":0.5490390132576635},\"mode\":\"lines\",\"x\":[-0.1883125899504978,-0.2708625712777288,null],\"y\":[0.17457773401712348,0.32508571399460084,null],\"type\":\"scatter\"},{\"line\":{\"color\":\"cornflowerblue\",\"width\":0.17325887181139482},\"mode\":\"lines\",\"x\":[-0.30653256118453154,-0.2708625712777288,null],\"y\":[0.16383865784515797,0.32508571399460084,null],\"type\":\"scatter\"},{\"line\":{\"color\":\"cornflowerblue\",\"width\":0.18844352784509716},\"mode\":\"lines\",\"x\":[-0.30653256118453154,-0.2912288542982558,null],\"y\":[0.16383865784515797,0.25826999183957705,null],\"type\":\"scatter\"},{\"line\":{\"color\":\"cornflowerblue\",\"width\":0.18844352784509716},\"mode\":\"lines\",\"x\":[-0.30653256118453154,-0.2912288542982558,null],\"y\":[0.16383865784515797,0.25826999183957705,null],\"type\":\"scatter\"},{\"line\":{\"color\":\"cornflowerblue\",\"width\":1.9589874694156735},\"mode\":\"lines\",\"x\":[-0.2912288542982558,-0.2708625712777288,null],\"y\":[0.25826999183957705,0.32508571399460084,null],\"type\":\"scatter\"},{\"line\":{\"color\":\"cornflowerblue\",\"width\":1.9589874694156735},\"mode\":\"lines\",\"x\":[-0.2912288542982558,-0.2708625712777288,null],\"y\":[0.25826999183957705,0.32508571399460084,null],\"type\":\"scatter\"},{\"line\":{\"color\":\"cornflowerblue\",\"width\":1.9589874694156735},\"mode\":\"lines\",\"x\":[-0.2912288542982558,-0.2708625712777288,null],\"y\":[0.25826999183957705,0.32508571399460084,null],\"type\":\"scatter\"},{\"line\":{\"color\":\"cornflowerblue\",\"width\":0.23606531485855442},\"mode\":\"lines\",\"x\":[0.051863099410376645,0.13570973179889473,null],\"y\":[-0.27540867807142644,-0.09280196575928228,null],\"type\":\"scatter\"},{\"line\":{\"color\":\"cornflowerblue\",\"width\":0.27656071611160676},\"mode\":\"lines\",\"x\":[0.051863099410376645,0.15965413263229217,null],\"y\":[-0.27540867807142644,-0.22942623955486569,null],\"type\":\"scatter\"},{\"line\":{\"color\":\"cornflowerblue\",\"width\":0.27656071611160676},\"mode\":\"lines\",\"x\":[0.051863099410376645,0.15965413263229217,null],\"y\":[-0.27540867807142644,-0.22942623955486569,null],\"type\":\"scatter\"},{\"line\":{\"color\":\"cornflowerblue\",\"width\":0.11671488351263964},\"mode\":\"lines\",\"x\":[0.13570973179889473,0.15965413263229217,null],\"y\":[-0.09280196575928228,-0.22942623955486569,null],\"type\":\"scatter\"},{\"line\":{\"color\":\"cornflowerblue\",\"width\":0.11671488351263964},\"mode\":\"lines\",\"x\":[0.13570973179889473,0.15965413263229217,null],\"y\":[-0.09280196575928228,-0.22942623955486569,null],\"type\":\"scatter\"},{\"line\":{\"color\":\"cornflowerblue\",\"width\":0.11671488351263964},\"mode\":\"lines\",\"x\":[0.13570973179889473,0.15965413263229217,null],\"y\":[-0.09280196575928228,-0.22942623955486569,null],\"type\":\"scatter\"},{\"hoverinfo\":\"text\",\"marker\":{\"color\":[1,1,1,1,2,1,0,0,0,0,0,2,2,2],\"opacity\":[0.6,0.6,0.6,0.6,0.6,0.6,0.6,0.6,0.6,0.6,0.6,0.6,0.6,0.6],\"size\":[19,14,5,24,26,12,21,1,7,10,3,28,30,17],\"symbol\":[0,0,0,0,0,0,0,0,0,0,0,0,0,0]},\"mode\":\"markers+text\",\"text\":[\"<b>astronomer</b>\",\"<b>cartographer</b>\",\"<b>geographer</b>\",\"<b>mathematician</b>\",\"<b>philosopher</b>\",\"<b>physicist</b>\",\"<b>botanist</b>\",\"<b>geologist</b>\",\"<b>chemist</b>\",\"<b>naturalist</b>\",\"<b>zoologist</b>\",\"<b>historian</b>\",\"<b>theologian</b>\",\"<b>linguist</b>\"],\"textfont\":{\"size\":20},\"textposition\":\"top center\",\"x\":[-0.1597492898303092,-0.17021677582672068,-0.0641867954803971,-0.07577859200455012,0.02679877799701133,-0.15139480742354725,-0.19610952030685785,-0.1883125899504978,-0.30653256118453154,-0.2912288542982558,-0.2708625712777288,0.051863099410376645,0.13570973179889473,0.15965413263229217],\"y\":[-0.0823050309278933,-0.21805015221316162,-0.1706237001186079,-0.06503112297864114,-0.08575241740514945,0.05433721725869814,0.3008097418368995,0.17457773401712348,0.16383865784515797,0.25826999183957705,0.32508571399460084,-0.27540867807142644,-0.09280196575928228,-0.22942623955486569],\"type\":\"scatter\"}],                        {\"height\":1000,\"title\":{\"text\":\"Semantic Network\"},\"width\":1000,\"xaxis\":{\"showgrid\":false,\"zeroline\":false,\"showticklabels\":false},\"yaxis\":{\"showgrid\":false,\"zeroline\":false,\"showticklabels\":false},\"template\":{\"data\":{\"barpolar\":[{\"marker\":{\"line\":{\"color\":\"white\",\"width\":0.5},\"pattern\":{\"fillmode\":\"overlay\",\"size\":10,\"solidity\":0.2}},\"type\":\"barpolar\"}],\"bar\":[{\"error_x\":{\"color\":\"#2a3f5f\"},\"error_y\":{\"color\":\"#2a3f5f\"},\"marker\":{\"line\":{\"color\":\"white\",\"width\":0.5},\"pattern\":{\"fillmode\":\"overlay\",\"size\":10,\"solidity\":0.2}},\"type\":\"bar\"}],\"carpet\":[{\"aaxis\":{\"endlinecolor\":\"#2a3f5f\",\"gridcolor\":\"#C8D4E3\",\"linecolor\":\"#C8D4E3\",\"minorgridcolor\":\"#C8D4E3\",\"startlinecolor\":\"#2a3f5f\"},\"baxis\":{\"endlinecolor\":\"#2a3f5f\",\"gridcolor\":\"#C8D4E3\",\"linecolor\":\"#C8D4E3\",\"minorgridcolor\":\"#C8D4E3\",\"startlinecolor\":\"#2a3f5f\"},\"type\":\"carpet\"}],\"choropleth\":[{\"colorbar\":{\"outlinewidth\":0,\"ticks\":\"\"},\"type\":\"choropleth\"}],\"contourcarpet\":[{\"colorbar\":{\"outlinewidth\":0,\"ticks\":\"\"},\"type\":\"contourcarpet\"}],\"contour\":[{\"colorbar\":{\"outlinewidth\":0,\"ticks\":\"\"},\"colorscale\":[[0.0,\"#0d0887\"],[0.1111111111111111,\"#46039f\"],[0.2222222222222222,\"#7201a8\"],[0.3333333333333333,\"#9c179e\"],[0.4444444444444444,\"#bd3786\"],[0.5555555555555556,\"#d8576b\"],[0.6666666666666666,\"#ed7953\"],[0.7777777777777778,\"#fb9f3a\"],[0.8888888888888888,\"#fdca26\"],[1.0,\"#f0f921\"]],\"type\":\"contour\"}],\"heatmapgl\":[{\"colorbar\":{\"outlinewidth\":0,\"ticks\":\"\"},\"colorscale\":[[0.0,\"#0d0887\"],[0.1111111111111111,\"#46039f\"],[0.2222222222222222,\"#7201a8\"],[0.3333333333333333,\"#9c179e\"],[0.4444444444444444,\"#bd3786\"],[0.5555555555555556,\"#d8576b\"],[0.6666666666666666,\"#ed7953\"],[0.7777777777777778,\"#fb9f3a\"],[0.8888888888888888,\"#fdca26\"],[1.0,\"#f0f921\"]],\"type\":\"heatmapgl\"}],\"heatmap\":[{\"colorbar\":{\"outlinewidth\":0,\"ticks\":\"\"},\"colorscale\":[[0.0,\"#0d0887\"],[0.1111111111111111,\"#46039f\"],[0.2222222222222222,\"#7201a8\"],[0.3333333333333333,\"#9c179e\"],[0.4444444444444444,\"#bd3786\"],[0.5555555555555556,\"#d8576b\"],[0.6666666666666666,\"#ed7953\"],[0.7777777777777778,\"#fb9f3a\"],[0.8888888888888888,\"#fdca26\"],[1.0,\"#f0f921\"]],\"type\":\"heatmap\"}],\"histogram2dcontour\":[{\"colorbar\":{\"outlinewidth\":0,\"ticks\":\"\"},\"colorscale\":[[0.0,\"#0d0887\"],[0.1111111111111111,\"#46039f\"],[0.2222222222222222,\"#7201a8\"],[0.3333333333333333,\"#9c179e\"],[0.4444444444444444,\"#bd3786\"],[0.5555555555555556,\"#d8576b\"],[0.6666666666666666,\"#ed7953\"],[0.7777777777777778,\"#fb9f3a\"],[0.8888888888888888,\"#fdca26\"],[1.0,\"#f0f921\"]],\"type\":\"histogram2dcontour\"}],\"histogram2d\":[{\"colorbar\":{\"outlinewidth\":0,\"ticks\":\"\"},\"colorscale\":[[0.0,\"#0d0887\"],[0.1111111111111111,\"#46039f\"],[0.2222222222222222,\"#7201a8\"],[0.3333333333333333,\"#9c179e\"],[0.4444444444444444,\"#bd3786\"],[0.5555555555555556,\"#d8576b\"],[0.6666666666666666,\"#ed7953\"],[0.7777777777777778,\"#fb9f3a\"],[0.8888888888888888,\"#fdca26\"],[1.0,\"#f0f921\"]],\"type\":\"histogram2d\"}],\"histogram\":[{\"marker\":{\"pattern\":{\"fillmode\":\"overlay\",\"size\":10,\"solidity\":0.2}},\"type\":\"histogram\"}],\"mesh3d\":[{\"colorbar\":{\"outlinewidth\":0,\"ticks\":\"\"},\"type\":\"mesh3d\"}],\"parcoords\":[{\"line\":{\"colorbar\":{\"outlinewidth\":0,\"ticks\":\"\"}},\"type\":\"parcoords\"}],\"pie\":[{\"automargin\":true,\"type\":\"pie\"}],\"scatter3d\":[{\"line\":{\"colorbar\":{\"outlinewidth\":0,\"ticks\":\"\"}},\"marker\":{\"colorbar\":{\"outlinewidth\":0,\"ticks\":\"\"}},\"type\":\"scatter3d\"}],\"scattercarpet\":[{\"marker\":{\"colorbar\":{\"outlinewidth\":0,\"ticks\":\"\"}},\"type\":\"scattercarpet\"}],\"scattergeo\":[{\"marker\":{\"colorbar\":{\"outlinewidth\":0,\"ticks\":\"\"}},\"type\":\"scattergeo\"}],\"scattergl\":[{\"marker\":{\"colorbar\":{\"outlinewidth\":0,\"ticks\":\"\"}},\"type\":\"scattergl\"}],\"scattermapbox\":[{\"marker\":{\"colorbar\":{\"outlinewidth\":0,\"ticks\":\"\"}},\"type\":\"scattermapbox\"}],\"scatterpolargl\":[{\"marker\":{\"colorbar\":{\"outlinewidth\":0,\"ticks\":\"\"}},\"type\":\"scatterpolargl\"}],\"scatterpolar\":[{\"marker\":{\"colorbar\":{\"outlinewidth\":0,\"ticks\":\"\"}},\"type\":\"scatterpolar\"}],\"scatter\":[{\"marker\":{\"colorbar\":{\"outlinewidth\":0,\"ticks\":\"\"}},\"type\":\"scatter\"}],\"scatterternary\":[{\"marker\":{\"colorbar\":{\"outlinewidth\":0,\"ticks\":\"\"}},\"type\":\"scatterternary\"}],\"surface\":[{\"colorbar\":{\"outlinewidth\":0,\"ticks\":\"\"},\"colorscale\":[[0.0,\"#0d0887\"],[0.1111111111111111,\"#46039f\"],[0.2222222222222222,\"#7201a8\"],[0.3333333333333333,\"#9c179e\"],[0.4444444444444444,\"#bd3786\"],[0.5555555555555556,\"#d8576b\"],[0.6666666666666666,\"#ed7953\"],[0.7777777777777778,\"#fb9f3a\"],[0.8888888888888888,\"#fdca26\"],[1.0,\"#f0f921\"]],\"type\":\"surface\"}],\"table\":[{\"cells\":{\"fill\":{\"color\":\"#EBF0F8\"},\"line\":{\"color\":\"white\"}},\"header\":{\"fill\":{\"color\":\"#C8D4E3\"},\"line\":{\"color\":\"white\"}},\"type\":\"table\"}]},\"layout\":{\"annotationdefaults\":{\"arrowcolor\":\"#2a3f5f\",\"arrowhead\":0,\"arrowwidth\":1},\"autotypenumbers\":\"strict\",\"coloraxis\":{\"colorbar\":{\"outlinewidth\":0,\"ticks\":\"\"}},\"colorscale\":{\"diverging\":[[0,\"#8e0152\"],[0.1,\"#c51b7d\"],[0.2,\"#de77ae\"],[0.3,\"#f1b6da\"],[0.4,\"#fde0ef\"],[0.5,\"#f7f7f7\"],[0.6,\"#e6f5d0\"],[0.7,\"#b8e186\"],[0.8,\"#7fbc41\"],[0.9,\"#4d9221\"],[1,\"#276419\"]],\"sequential\":[[0.0,\"#0d0887\"],[0.1111111111111111,\"#46039f\"],[0.2222222222222222,\"#7201a8\"],[0.3333333333333333,\"#9c179e\"],[0.4444444444444444,\"#bd3786\"],[0.5555555555555556,\"#d8576b\"],[0.6666666666666666,\"#ed7953\"],[0.7777777777777778,\"#fb9f3a\"],[0.8888888888888888,\"#fdca26\"],[1.0,\"#f0f921\"]],\"sequentialminus\":[[0.0,\"#0d0887\"],[0.1111111111111111,\"#46039f\"],[0.2222222222222222,\"#7201a8\"],[0.3333333333333333,\"#9c179e\"],[0.4444444444444444,\"#bd3786\"],[0.5555555555555556,\"#d8576b\"],[0.6666666666666666,\"#ed7953\"],[0.7777777777777778,\"#fb9f3a\"],[0.8888888888888888,\"#fdca26\"],[1.0,\"#f0f921\"]]},\"colorway\":[\"#636efa\",\"#EF553B\",\"#00cc96\",\"#ab63fa\",\"#FFA15A\",\"#19d3f3\",\"#FF6692\",\"#B6E880\",\"#FF97FF\",\"#FECB52\"],\"font\":{\"color\":\"#2a3f5f\"},\"geo\":{\"bgcolor\":\"white\",\"lakecolor\":\"white\",\"landcolor\":\"white\",\"showlakes\":true,\"showland\":true,\"subunitcolor\":\"#C8D4E3\"},\"hoverlabel\":{\"align\":\"left\"},\"hovermode\":\"closest\",\"mapbox\":{\"style\":\"light\"},\"paper_bgcolor\":\"white\",\"plot_bgcolor\":\"white\",\"polar\":{\"angularaxis\":{\"gridcolor\":\"#EBF0F8\",\"linecolor\":\"#EBF0F8\",\"ticks\":\"\"},\"bgcolor\":\"white\",\"radialaxis\":{\"gridcolor\":\"#EBF0F8\",\"linecolor\":\"#EBF0F8\",\"ticks\":\"\"}},\"scene\":{\"xaxis\":{\"backgroundcolor\":\"white\",\"gridcolor\":\"#DFE8F3\",\"gridwidth\":2,\"linecolor\":\"#EBF0F8\",\"showbackground\":true,\"ticks\":\"\",\"zerolinecolor\":\"#EBF0F8\"},\"yaxis\":{\"backgroundcolor\":\"white\",\"gridcolor\":\"#DFE8F3\",\"gridwidth\":2,\"linecolor\":\"#EBF0F8\",\"showbackground\":true,\"ticks\":\"\",\"zerolinecolor\":\"#EBF0F8\"},\"zaxis\":{\"backgroundcolor\":\"white\",\"gridcolor\":\"#DFE8F3\",\"gridwidth\":2,\"linecolor\":\"#EBF0F8\",\"showbackground\":true,\"ticks\":\"\",\"zerolinecolor\":\"#EBF0F8\"}},\"shapedefaults\":{\"line\":{\"color\":\"#2a3f5f\"}},\"ternary\":{\"aaxis\":{\"gridcolor\":\"#DFE8F3\",\"linecolor\":\"#A2B1C6\",\"ticks\":\"\"},\"baxis\":{\"gridcolor\":\"#DFE8F3\",\"linecolor\":\"#A2B1C6\",\"ticks\":\"\"},\"bgcolor\":\"white\",\"caxis\":{\"gridcolor\":\"#DFE8F3\",\"linecolor\":\"#A2B1C6\",\"ticks\":\"\"}},\"title\":{\"x\":0.05},\"xaxis\":{\"automargin\":true,\"gridcolor\":\"#EBF0F8\",\"linecolor\":\"#EBF0F8\",\"ticks\":\"\",\"title\":{\"standoff\":15},\"zerolinecolor\":\"#EBF0F8\",\"zerolinewidth\":2},\"yaxis\":{\"automargin\":true,\"gridcolor\":\"#EBF0F8\",\"linecolor\":\"#EBF0F8\",\"ticks\":\"\",\"title\":{\"standoff\":15},\"zerolinecolor\":\"#EBF0F8\",\"zerolinewidth\":2}}},\"showlegend\":false},                        {\"responsive\": true}                    ).then(function(){\n",
       "                            \n",
       "var gd = document.getElementById('374c767b-6780-4736-b11d-a161de95cdd2');\n",
       "var x = new MutationObserver(function (mutations, observer) {{\n",
       "        var display = window.getComputedStyle(gd).display;\n",
       "        if (!display || display === 'none') {{\n",
       "            console.log([gd, 'removed!']);\n",
       "            Plotly.purge(gd);\n",
       "            observer.disconnect();\n",
       "        }}\n",
       "}});\n",
       "\n",
       "// Listen for the removal of the full notebook cells\n",
       "var notebookContainer = gd.closest('#notebook-container');\n",
       "if (notebookContainer) {{\n",
       "    x.observe(notebookContainer, {childList: true});\n",
       "}}\n",
       "\n",
       "// Listen for the clearing of the current output cell\n",
       "var outputEl = gd.closest('.output');\n",
       "if (outputEl) {{\n",
       "    x.observe(outputEl, {childList: true});\n",
       "}}\n",
       "\n",
       "                        })                };                });            </script>        </div>"
      ]
     },
     "metadata": {},
     "output_type": "display_data"
    }
   ],
   "source": [
    "rang = ranges[1]\n",
    "\n",
    "df_filter_1 = df_filter[(df_filter['year']>=rang[0])&(df_filter['year']<=rang[1])]\n",
    "df_filter_1 = df_filter_1.explode('occupation')\n",
    "df_filter_1 = df_filter_1[df_filter_1['occupation'].isin(load_occupations)]\n",
    "df_filter_1 = df_filter_1.drop('year', axis=1).drop_duplicates()\n",
    "df_filter_1 = df_filter_1.sort_values('cultural_score', ascending=False).reset_index(drop=True)\n",
    "top_individuals = df_filter_1[['wikidata_id', 'cultural_score']].drop_duplicates()\n",
    "top_individuals = top_individuals.head(n_top_individuals)\n",
    "df_filter_1 = df_filter_1[df_filter_1['wikidata_id'].isin(top_individuals['wikidata_id'])]\n",
    "df_filter_1 = df_filter_1[['wikidata_id', 'occupation']].drop_duplicates()\n",
    "\n",
    "model = SemanticNetworks(df_filter_1, index_var = 'wikidata_id', variables = ['occupation'])\n",
    "\n",
    "fig = model.fit_draw(\n",
    "        top_n=50,\n",
    "        global_filter=0,\n",
    "        n_neighbours=5,\n",
    "        method=\"force_directed\",\n",
    "        n_cluster=1,\n",
    "        bin_number=30,\n",
    "        black_hole_force=0,\n",
    "        color=\"community\",\n",
    "        size=\"size\",\n",
    "        symbol=\"entity\",\n",
    "        textfont_size=20,\n",
    "        edge_size=7,\n",
    "        height=1000,\n",
    "        width=1000,\n",
    "        template=\"plotly_white\",\n",
    "    )\n",
    "\n",
    "fig.show()\n",
    "\n",
    "name = str(rang[0]) + '-' + str(rang[1])\n",
    "# Enregistrer l'image en PNG haute qualité\n",
    "fig.write_image(f\"save_figures/{name}.png\", width=800, height=800, scale=7)"
   ]
  },
  {
   "cell_type": "code",
   "execution_count": null,
   "id": "32b4a209-a6b4-4b36-be83-cf7491ca75fc",
   "metadata": {},
   "outputs": [],
   "source": []
  },
  {
   "cell_type": "code",
   "execution_count": 40,
   "id": "14b4e5b2-b56b-40b1-bedf-d3150e71f3b8",
   "metadata": {},
   "outputs": [],
   "source": []
  },
  {
   "cell_type": "code",
   "execution_count": 46,
   "id": "7f99560d-1390-47a3-8f72-2d13cdb1a26d",
   "metadata": {},
   "outputs": [],
   "source": []
  },
  {
   "cell_type": "code",
   "execution_count": null,
   "id": "67280bb3-8769-4654-8894-0180cd5ea037",
   "metadata": {},
   "outputs": [],
   "source": []
  },
  {
   "cell_type": "code",
   "execution_count": null,
   "id": "0b7c5086-844c-403c-bf63-68e38837df54",
   "metadata": {},
   "outputs": [],
   "source": []
  },
  {
   "cell_type": "code",
   "execution_count": null,
   "id": "51bfac8b-3de3-4f44-8f5a-572960bbbea4",
   "metadata": {},
   "outputs": [],
   "source": []
  },
  {
   "cell_type": "code",
   "execution_count": null,
   "id": "0ada6321-c84a-4092-9eb5-b00f958d6000",
   "metadata": {},
   "outputs": [],
   "source": []
  },
  {
   "cell_type": "code",
   "execution_count": null,
   "id": "ddb45160-2193-4005-976d-1e6c05d7d053",
   "metadata": {},
   "outputs": [],
   "source": []
  },
  {
   "cell_type": "code",
   "execution_count": null,
   "id": "a2852b3d-9e15-40f1-b965-eac5581ab05d",
   "metadata": {},
   "outputs": [],
   "source": []
  },
  {
   "cell_type": "code",
   "execution_count": null,
   "id": "4b30522f-d561-40d5-8f14-c8dca911d532",
   "metadata": {},
   "outputs": [],
   "source": []
  },
  {
   "cell_type": "code",
   "execution_count": null,
   "id": "ca0aa802-cbdf-4cbf-b4b4-0f8a27ef5eb8",
   "metadata": {},
   "outputs": [],
   "source": []
  },
  {
   "cell_type": "code",
   "execution_count": null,
   "id": "5df4f686-3c35-4385-8d7b-87d0f61b101a",
   "metadata": {},
   "outputs": [],
   "source": []
  },
  {
   "cell_type": "code",
   "execution_count": 42,
   "id": "ec98564f-e1e4-42a1-a000-e15ff9d7df3b",
   "metadata": {},
   "outputs": [],
   "source": [
    "# proportion de sciences durs"
   ]
  },
  {
   "cell_type": "code",
   "execution_count": null,
   "id": "2e5be715-ddd2-438d-8994-69aa90c9bbde",
   "metadata": {},
   "outputs": [],
   "source": []
  },
  {
   "cell_type": "code",
   "execution_count": null,
   "id": "8bc6f0d4-5a4a-4334-ae40-c2ca58857700",
   "metadata": {},
   "outputs": [],
   "source": []
  },
  {
   "cell_type": "code",
   "execution_count": null,
   "id": "44078da9-329a-40ed-9a11-766227cae242",
   "metadata": {},
   "outputs": [],
   "source": [
    "\n"
   ]
  },
  {
   "cell_type": "code",
   "execution_count": null,
   "id": "2074b7cf-dd3c-4386-bc49-86449854fcfa",
   "metadata": {},
   "outputs": [],
   "source": []
  },
  {
   "cell_type": "code",
   "execution_count": null,
   "id": "0921aac1-302d-4de0-91d4-71ea3264e107",
   "metadata": {},
   "outputs": [],
   "source": []
  },
  {
   "cell_type": "code",
   "execution_count": null,
   "id": "2c5e9b93-a136-4687-9bf0-294ff103862b",
   "metadata": {},
   "outputs": [],
   "source": []
  },
  {
   "cell_type": "code",
   "execution_count": 43,
   "id": "3e30571d-ff84-4103-bfcf-f47b3536b476",
   "metadata": {},
   "outputs": [],
   "source": [
    "# graph de box plot"
   ]
  },
  {
   "cell_type": "code",
   "execution_count": 44,
   "id": "069829bc-637f-49d1-b96c-c78892a5f076",
   "metadata": {},
   "outputs": [
    {
     "data": {
      "text/html": [
       "<div>\n",
       "<style scoped>\n",
       "    .dataframe tbody tr th:only-of-type {\n",
       "        vertical-align: middle;\n",
       "    }\n",
       "\n",
       "    .dataframe tbody tr th {\n",
       "        vertical-align: top;\n",
       "    }\n",
       "\n",
       "    .dataframe thead th {\n",
       "        text-align: right;\n",
       "    }\n",
       "</style>\n",
       "<table border=\"1\" class=\"dataframe\">\n",
       "  <thead>\n",
       "    <tr style=\"text-align: right;\">\n",
       "      <th></th>\n",
       "      <th>range</th>\n",
       "      <th>average_cosine_similarity</th>\n",
       "      <th>count_individuals</th>\n",
       "      <th>average_distance</th>\n",
       "      <th>range_str</th>\n",
       "    </tr>\n",
       "  </thead>\n",
       "  <tbody>\n",
       "    <tr>\n",
       "      <th>0</th>\n",
       "      <td>[500, 1500]</td>\n",
       "      <td>0.913851</td>\n",
       "      <td>2859</td>\n",
       "      <td>0.086149</td>\n",
       "      <td>500-1500</td>\n",
       "    </tr>\n",
       "    <tr>\n",
       "      <th>1</th>\n",
       "      <td>[1500, 1800]</td>\n",
       "      <td>0.768816</td>\n",
       "      <td>17627</td>\n",
       "      <td>0.231184</td>\n",
       "      <td>1500-1800</td>\n",
       "    </tr>\n",
       "  </tbody>\n",
       "</table>\n",
       "</div>"
      ],
      "text/plain": [
       "          range  average_cosine_similarity  count_individuals  \\\n",
       "0   [500, 1500]                   0.913851               2859   \n",
       "1  [1500, 1800]                   0.768816              17627   \n",
       "\n",
       "   average_distance  range_str  \n",
       "0          0.086149   500-1500  \n",
       "1          0.231184  1500-1800  "
      ]
     },
     "execution_count": 44,
     "metadata": {},
     "output_type": "execute_result"
    }
   ],
   "source": [
    "res"
   ]
  },
  {
   "cell_type": "code",
   "execution_count": null,
   "id": "cb1e0ef5-33f1-4328-9f88-9c4d381415ce",
   "metadata": {},
   "outputs": [],
   "source": []
  },
  {
   "cell_type": "code",
   "execution_count": null,
   "id": "1a0edacd-87a6-4d56-9610-3e1030dd75ed",
   "metadata": {},
   "outputs": [],
   "source": []
  },
  {
   "cell_type": "code",
   "execution_count": null,
   "id": "45a0116c-1cc6-4f8d-bae6-2e50fd3f17db",
   "metadata": {},
   "outputs": [],
   "source": []
  },
  {
   "cell_type": "code",
   "execution_count": null,
   "id": "9a18a49a-f685-4480-aba5-d6afe81f5aa9",
   "metadata": {},
   "outputs": [],
   "source": []
  },
  {
   "cell_type": "code",
   "execution_count": 45,
   "id": "c67808c3-5b3c-48f6-9716-729b4c046b8b",
   "metadata": {},
   "outputs": [],
   "source": [
    "# en moyenne les occupations co-occurent de moins en moins. Qaund deux corrélation corrèlent, leur proximité\n",
    "# sémantique est très proche. Les occupations sont globalemet de moins en moins proches\n",
    "# leur distance est donc de plus en plus grande. Or une grande distance entre les occupations et signe\n",
    "# d'une baisse de la co-occurence et donc par définition d'une spécialisation des individus.\n",
    "\n",
    "# les individus ont des occupatiosn de plus en plus séparés des unes des unes des autres. "
   ]
  },
  {
   "cell_type": "code",
   "execution_count": null,
   "id": "3fd52455-a969-4c12-8e9c-d56508a2c96a",
   "metadata": {},
   "outputs": [],
   "source": []
  },
  {
   "cell_type": "code",
   "execution_count": null,
   "id": "07074833-ad1c-4958-a4ad-4f69cd01540c",
   "metadata": {},
   "outputs": [],
   "source": []
  },
  {
   "cell_type": "code",
   "execution_count": null,
   "id": "6b951902-0de3-45a2-9bff-1449395332be",
   "metadata": {},
   "outputs": [],
   "source": []
  },
  {
   "cell_type": "code",
   "execution_count": null,
   "id": "c1e820cf-31fb-4958-b586-54b55b806031",
   "metadata": {},
   "outputs": [],
   "source": []
  },
  {
   "cell_type": "code",
   "execution_count": null,
   "id": "81ca1fb1-2584-43ba-abb1-8b40041bdf0e",
   "metadata": {},
   "outputs": [],
   "source": []
  },
  {
   "cell_type": "code",
   "execution_count": null,
   "id": "1287e101-4de0-4ed7-825f-a32d6e40d053",
   "metadata": {},
   "outputs": [],
   "source": []
  },
  {
   "cell_type": "code",
   "execution_count": null,
   "id": "d9254342-6d54-4987-b135-57ea08927abf",
   "metadata": {},
   "outputs": [],
   "source": []
  },
  {
   "cell_type": "code",
   "execution_count": null,
   "id": "2ac3a4e6-c29c-4876-aa89-dcfec5eec6c0",
   "metadata": {},
   "outputs": [],
   "source": []
  },
  {
   "cell_type": "code",
   "execution_count": null,
   "id": "09d8b835-9d12-4e73-ae2f-40436c8b3132",
   "metadata": {},
   "outputs": [],
   "source": []
  },
  {
   "cell_type": "code",
   "execution_count": null,
   "id": "5be73cd2-d2e0-40bf-baa4-d783eb66cb1a",
   "metadata": {},
   "outputs": [],
   "source": []
  },
  {
   "cell_type": "code",
   "execution_count": null,
   "id": "955eef30-7d6a-4a2b-a939-5377dae51782",
   "metadata": {},
   "outputs": [],
   "source": []
  }
 ],
 "metadata": {
  "kernelspec": {
   "display_name": "Python 3 (ipykernel)",
   "language": "python",
   "name": "python3"
  },
  "language_info": {
   "codemirror_mode": {
    "name": "ipython",
    "version": 3
   },
   "file_extension": ".py",
   "mimetype": "text/x-python",
   "name": "python",
   "nbconvert_exporter": "python",
   "pygments_lexer": "ipython3",
   "version": "3.8.17"
  }
 },
 "nbformat": 4,
 "nbformat_minor": 5
}
