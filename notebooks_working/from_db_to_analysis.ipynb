{
 "cells": [
  {
   "cell_type": "code",
   "execution_count": 3,
   "id": "836797c9-7496-4d1e-be0d-e47ce0411fb0",
   "metadata": {},
   "outputs": [],
   "source": [
    "import sys"
   ]
  },
  {
   "cell_type": "code",
   "execution_count": 4,
   "id": "c763049f-2d78-408c-b3ce-670c27813046",
   "metadata": {},
   "outputs": [],
   "source": [
    "sys.path.append('../')"
   ]
  },
  {
   "cell_type": "code",
   "execution_count": 1,
   "id": "fcc90f84-08cf-4707-87d0-cdbea072228b",
   "metadata": {},
   "outputs": [
    {
     "ename": "ModuleNotFoundError",
     "evalue": "No module named 'data_model'",
     "output_type": "error",
     "traceback": [
      "\u001b[0;31m---------------------------------------------------------------------------\u001b[0m",
      "\u001b[0;31mModuleNotFoundError\u001b[0m                       Traceback (most recent call last)",
      "Cell \u001b[0;32mIn [1], line 1\u001b[0m\n\u001b[0;32m----> 1\u001b[0m \u001b[38;5;28;01mfrom\u001b[39;00m \u001b[38;5;21;01mdata_model\u001b[39;00m \u001b[38;5;28;01mimport\u001b[39;00m Individual, Region\n\u001b[1;32m      3\u001b[0m \u001b[38;5;28;01mfrom\u001b[39;00m \u001b[38;5;21;01msys_utils\u001b[39;00m \u001b[38;5;28;01mimport\u001b[39;00m load_model\n\u001b[1;32m      4\u001b[0m \u001b[38;5;28;01mimport\u001b[39;00m \u001b[38;5;21;01mplotly\u001b[39;00m\u001b[38;5;21;01m.\u001b[39;00m\u001b[38;5;21;01mexpress\u001b[39;00m \u001b[38;5;28;01mas\u001b[39;00m \u001b[38;5;21;01mpx\u001b[39;00m\n",
      "\u001b[0;31mModuleNotFoundError\u001b[0m: No module named 'data_model'"
     ]
    }
   ],
   "source": [
    "from data_model import Individual, Region\n",
    "\n",
    "from sys_utils import load_model\n",
    "import plotly.express as px\n",
    "\n",
    "import pandas as pd\n",
    "import sys\n",
    "import typing as t"
   ]
  },
  {
   "cell_type": "code",
   "execution_count": 2,
   "id": "73d6d32b-15f8-4367-9f90-df51c10e226a",
   "metadata": {},
   "outputs": [],
   "source": [
    "individuals = load_model(\n",
    "        Individual, name=\"checkpoints_dev/checkpoint_5.jsonl\"\n",
    "    )\n",
    "\n",
    "regions = load_model(\n",
    "        Region, name=\"checkpoints_dev/regions.jsonl\"\n",
    "    )"
   ]
  },
  {
   "cell_type": "code",
   "execution_count": 5,
   "id": "4fad29d5-8816-4aaa-9e82-3342e3722ab0",
   "metadata": {},
   "outputs": [],
   "source": []
  },
  {
   "cell_type": "code",
   "execution_count": 9,
   "id": "e45b549c-fc99-455a-86df-3eb40211c6bd",
   "metadata": {},
   "outputs": [],
   "source": []
  },
  {
   "cell_type": "code",
   "execution_count": null,
   "id": "4ca03519-7e12-4b71-b25f-7e5974ec3340",
   "metadata": {},
   "outputs": [],
   "source": []
  },
  {
   "cell_type": "code",
   "execution_count": 2,
   "id": "81e5c6f1-c5c4-4564-82bf-dfe5774bb741",
   "metadata": {},
   "outputs": [
    {
     "ename": "NameError",
     "evalue": "name 't' is not defined",
     "output_type": "error",
     "traceback": [
      "\u001b[0;31m---------------------------------------------------------------------------\u001b[0m",
      "\u001b[0;31mNameError\u001b[0m                                 Traceback (most recent call last)",
      "Cell \u001b[0;32mIn [2], line 1\u001b[0m\n\u001b[0;32m----> 1\u001b[0m \u001b[38;5;28;01mdef\u001b[39;00m \u001b[38;5;21mcreate_df_trend\u001b[39m(individuals:\u001b[43mt\u001b[49m\u001b[38;5;241m.\u001b[39mList[Individual], regions:t\u001b[38;5;241m.\u001b[39mList[Region]):\n\u001b[1;32m      3\u001b[0m     indiv \u001b[38;5;241m=\u001b[39m [x \u001b[38;5;28;01mfor\u001b[39;00m x \u001b[38;5;129;01min\u001b[39;00m individuals \u001b[38;5;28;01mif\u001b[39;00m x\u001b[38;5;241m.\u001b[39mregions \u001b[38;5;241m!=\u001b[39m \u001b[38;5;28;01mNone\u001b[39;00m]\n\u001b[1;32m      5\u001b[0m     df \u001b[38;5;241m=\u001b[39m [{\u001b[38;5;124m'\u001b[39m\u001b[38;5;124mwiki_id\u001b[39m\u001b[38;5;124m'\u001b[39m:x\u001b[38;5;241m.\u001b[39mid\u001b[38;5;241m.\u001b[39mwikidata_id,\n\u001b[1;32m      6\u001b[0m                \u001b[38;5;124m'\u001b[39m\u001b[38;5;124mwikipedia_pages\u001b[39m\u001b[38;5;124m'\u001b[39m: x\u001b[38;5;241m.\u001b[39mwikipedia_pages,\n\u001b[1;32m      7\u001b[0m                \u001b[38;5;124m'\u001b[39m\u001b[38;5;124mname\u001b[39m\u001b[38;5;124m'\u001b[39m:x\u001b[38;5;241m.\u001b[39mid\u001b[38;5;241m.\u001b[39mname,\n\u001b[0;32m   (...)\u001b[0m\n\u001b[1;32m     10\u001b[0m               \u001b[38;5;124m'\u001b[39m\u001b[38;5;124mrange_impact\u001b[39m\u001b[38;5;124m'\u001b[39m:x\u001b[38;5;241m.\u001b[39mimpact_years,\n\u001b[1;32m     11\u001b[0m               \u001b[38;5;124m'\u001b[39m\u001b[38;5;124mcultural_score\u001b[39m\u001b[38;5;124m'\u001b[39m: x\u001b[38;5;241m.\u001b[39mcultural_score} \u001b[38;5;28;01mfor\u001b[39;00m x \u001b[38;5;129;01min\u001b[39;00m indiv]\n",
      "\u001b[0;31mNameError\u001b[0m: name 't' is not defined"
     ]
    }
   ],
   "source": [
    "def create_df_trend(individuals:t.List[Individual], regions:t.List[Region]):\n",
    "\n",
    "    indiv = [x for x in individuals if x.regions != None]\n",
    "\n",
    "    df = [{'wiki_id':x.id.wikidata_id,\n",
    "               'wikipedia_pages': x.wikipedia_pages,\n",
    "               'name':x.id.name,\n",
    "               'birthyear': x.id.birthyear, \n",
    "               'region':x.regions,\n",
    "              'range_impact':x.impact_years,\n",
    "              'cultural_score': x.cultural_score} for x in indiv]\n",
    "\n",
    "    df = pd.DataFrame(df)\n",
    "    df_fig = df.explode('region')\n",
    "\n",
    "    df_fig['year'] =  df_fig['range_impact'].apply(lambda x : [year for year in range(x[0], x[1]+10, 10)])\n",
    "    df_fig = df_fig.explode('year')\n",
    "\n",
    "    df_fig = df_fig.groupby(['region', 'year'])['cultural_score'].sum().reset_index()\n",
    "\n",
    "    return df_fig"
   ]
  },
  {
   "cell_type": "code",
   "execution_count": 20,
   "id": "22abd3b2-0fb6-432c-94e4-df3510710f94",
   "metadata": {},
   "outputs": [],
   "source": []
  },
  {
   "cell_type": "code",
   "execution_count": 21,
   "id": "97cb608a-7ccb-4e02-832f-4d22de736740",
   "metadata": {},
   "outputs": [],
   "source": []
  },
  {
   "cell_type": "code",
   "execution_count": null,
   "id": "31c51758-8b35-41be-8098-b1ea7dd07cd2",
   "metadata": {},
   "outputs": [],
   "source": []
  },
  {
   "cell_type": "code",
   "execution_count": 25,
   "id": "199c4178-8ed2-4c15-ac97-8b44298e0507",
   "metadata": {},
   "outputs": [],
   "source": [
    "df_fig = df_fig[df_fig['year']<=1850]"
   ]
  },
  {
   "cell_type": "code",
   "execution_count": null,
   "id": "edc9361a-4945-4fe9-b660-c96f2863488a",
   "metadata": {},
   "outputs": [],
   "source": [
    "for reg in set(df_fig.region):\n",
    "    df_test = df_fig[df_fig['region']==reg]\n",
    "    fig = px.bar(df_test, x = 'year', y = 'cultural_score', title = reg)\n",
    "    fig.show()"
   ]
  },
  {
   "cell_type": "code",
   "execution_count": null,
   "id": "16885245-0672-4b07-9256-cfbeb388710b",
   "metadata": {},
   "outputs": [],
   "source": []
  },
  {
   "cell_type": "code",
   "execution_count": null,
   "id": "eaa34ba7-6d8b-418b-969f-280a40165c28",
   "metadata": {},
   "outputs": [],
   "source": []
  },
  {
   "cell_type": "code",
   "execution_count": null,
   "id": "52540454-b11a-44bc-b48f-c92746729783",
   "metadata": {},
   "outputs": [],
   "source": []
  },
  {
   "cell_type": "code",
   "execution_count": null,
   "id": "83614722-1a24-429d-afa5-acc0ce53a34d",
   "metadata": {},
   "outputs": [],
   "source": []
  },
  {
   "cell_type": "code",
   "execution_count": null,
   "id": "c7a7f119-b2e9-4943-b4d5-a6941621dc6c",
   "metadata": {},
   "outputs": [],
   "source": [
    "\n",
    "\n",
    "def get_cultural_trends(individuals, regions):\n",
    "    \n",
    "   \n",
    "\n",
    "   \n",
    "\n",
    "    return df_fig"
   ]
  },
  {
   "cell_type": "code",
   "execution_count": null,
   "id": "220a446e-c1b2-4d7c-b65f-104d7442faf7",
   "metadata": {},
   "outputs": [],
   "source": []
  },
  {
   "cell_type": "code",
   "execution_count": null,
   "id": "d0d431bd-4224-4209-8d2a-cea0aa769e6c",
   "metadata": {},
   "outputs": [],
   "source": []
  },
  {
   "cell_type": "code",
   "execution_count": null,
   "id": "2f46d167-114c-4186-88b1-124ce24f87fc",
   "metadata": {},
   "outputs": [],
   "source": []
  },
  {
   "cell_type": "code",
   "execution_count": null,
   "id": "c8d57460-4752-46a1-b703-84ba98d3c555",
   "metadata": {},
   "outputs": [],
   "source": []
  }
 ],
 "metadata": {
  "kernelspec": {
   "display_name": "Python 3 (ipykernel)",
   "language": "python",
   "name": "python3"
  },
  "language_info": {
   "codemirror_mode": {
    "name": "ipython",
    "version": 3
   },
   "file_extension": ".py",
   "mimetype": "text/x-python",
   "name": "python",
   "nbconvert_exporter": "python",
   "pygments_lexer": "ipython3",
   "version": "3.8.16"
  }
 },
 "nbformat": 4,
 "nbformat_minor": 5
}
