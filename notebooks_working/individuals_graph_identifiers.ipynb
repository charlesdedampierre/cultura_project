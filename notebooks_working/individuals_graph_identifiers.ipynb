{
 "cells": [
  {
   "cell_type": "code",
   "execution_count": 1,
   "id": "70480209-ac1c-495a-96f2-74f996ccd012",
   "metadata": {
    "tags": []
   },
   "outputs": [],
   "source": [
    "import sqlite3\n",
    "import pandas as pd\n",
    "\n",
    "import sys\n",
    "\n",
    "sys.path.append('../')\n",
    "from src.functions_env import DB_PATH\n",
    "\n",
    "\n",
    "\n",
    "conn = sqlite3.connect('../cultura_1.db')\n",
    "cursor = conn.cursor()\n",
    "import plotly.express as px"
   ]
  },
  {
   "cell_type": "code",
   "execution_count": null,
   "id": "b7b109f8-b956-408e-83e3-ad8074f4bc17",
   "metadata": {},
   "outputs": [],
   "source": []
  },
  {
   "cell_type": "code",
   "execution_count": 2,
   "id": "6ccc393a-fc37-4dfb-bea4-e91b809cbad2",
   "metadata": {},
   "outputs": [],
   "source": [
    "df_individual = pd.read_sql_query(\"SELECT * FROM individuals_main_information\", conn)\n",
    "df_individual = df_individual[['individual_wikidata_id', 'birthyear']]\n",
    "df_individual_region = pd.read_sql_query(\"SELECT * FROM individuals_regions\", conn)\n",
    "df_individual_region = df_individual_region[['individual_wikidata_id', 'region_name']].drop_duplicates()"
   ]
  },
  {
   "cell_type": "code",
   "execution_count": null,
   "id": "f58908a0-f575-4674-9260-6da6e2c526e0",
   "metadata": {},
   "outputs": [],
   "source": []
  },
  {
   "cell_type": "code",
   "execution_count": 81,
   "id": "e7dc3906-5a00-46bc-9bef-de628da35e98",
   "metadata": {},
   "outputs": [
    {
     "name": "stderr",
     "output_type": "stream",
     "text": [
      "/var/folders/lx/9b13r6ln63jb54_3xlf9b_380000gn/T/ipykernel_51829/132721001.py:2: SettingWithCopyWarning:\n",
      "\n",
      "\n",
      "A value is trying to be set on a copy of a slice from a DataFrame\n",
      "\n",
      "See the caveats in the documentation: https://pandas.pydata.org/pandas-docs/stable/user_guide/indexing.html#returning-a-view-versus-a-copy\n",
      "\n"
     ]
    }
   ],
   "source": [
    "df_identifiers = pd.read_sql_query(\"SELECT * FROM identifiers\", conn)\n",
    "df_identifiers['country_name'][df_identifiers['country_name'].isna()]=''\n",
    "df_identifiers['identifier_name'] = df_identifiers.apply(lambda x : x['identifier_name'] + ' ('  + x['country_name'] + ')' if x['country_name']!='' else x['identifier_name'], axis=1)\n",
    "df_identifiers = df_identifiers.drop(['country_wikidata_id', 'count_records', 'identifier_url'], axis=1).drop_duplicates()\n",
    "\n",
    "df_country =  pd.read_sql_query(\"SELECT * FROM country_continent\", conn)\n",
    "df_country = df_country[['country_name', 'continent_name']]\n",
    "df_country = df_country.drop_duplicates('country_name', keep='first')\n",
    "df_identifiers = pd.merge(df_identifiers, df_country, on = 'country_name', how = 'left')"
   ]
  },
  {
   "cell_type": "code",
   "execution_count": 92,
   "id": "f1d2e944-8af3-4ada-8ceb-63701fd637d8",
   "metadata": {},
   "outputs": [],
   "source": [
    "df_ind_identifiers = pd.read_sql_query(\"SELECT * FROM individual_identifiers\", conn)\n",
    "df_ind_identifiers = df_ind_identifiers.drop('identifier_name', axis=1)\n",
    "df_ind_identifiers = pd.merge(df_ind_identifiers, df_identifiers, on = 'identifiers_wikidata_id', how = 'left')"
   ]
  },
  {
   "cell_type": "code",
   "execution_count": 100,
   "id": "43582c2c-6799-4c2d-9398-d5be739e4282",
   "metadata": {
    "tags": []
   },
   "outputs": [],
   "source": [
    "df_final = pd.merge(df_individual, df_ind_identifiers, on = 'individual_wikidata_id', how = 'left')\n",
    "df_final = pd.merge(df_final, df_individual_region, on = 'individual_wikidata_id')"
   ]
  },
  {
   "cell_type": "code",
   "execution_count": null,
   "id": "6e53d0d4-ea3c-403e-b570-44dc9a0b950d",
   "metadata": {},
   "outputs": [],
   "source": []
  },
  {
   "cell_type": "code",
   "execution_count": 113,
   "id": "2646db26-5587-4145-8a32-aececb2ba4bf",
   "metadata": {},
   "outputs": [],
   "source": [
    "test = df_final[['identifier_name', 'country_name', 'continent_name']].drop_duplicates().dropna()"
   ]
  },
  {
   "cell_type": "code",
   "execution_count": 121,
   "id": "e53ca1e3-7e5c-4793-aed9-1c4e4c2234ef",
   "metadata": {},
   "outputs": [],
   "source": [
    "df_final['decade'] = df_final['birthyear'].apply(lambda x : int((x+35)/10)*10)"
   ]
  },
  {
   "cell_type": "code",
   "execution_count": 137,
   "id": "0a1f2192-7fb9-43fc-b4d5-49c4bcaa9d7f",
   "metadata": {},
   "outputs": [],
   "source": [
    "df_final_region = df_final.groupby(['region_name', 'decade', 'continent_name'])['individual_wikidata_id'].count().rename('score').reset_index()\n",
    "df_final_region = df_final_region[~df_final_region['continent_name'].isna()]"
   ]
  },
  {
   "cell_type": "code",
   "execution_count": 144,
   "id": "799a1b47-dfb4-4fd6-9a17-4beeb129f4fc",
   "metadata": {},
   "outputs": [],
   "source": [
    "all_continents = list(set(df_final_region.continent_name))"
   ]
  },
  {
   "cell_type": "code",
   "execution_count": null,
   "id": "10cdecd1-b0a3-4d6d-a247-51c6bf36b7b3",
   "metadata": {},
   "outputs": [],
   "source": []
  },
  {
   "cell_type": "code",
   "execution_count": 310,
   "id": "c73c5ddf-cdbc-46b8-b81a-989fe30cd861",
   "metadata": {},
   "outputs": [],
   "source": [
    "def make_continent_figure(df, region_name = 'Low countries', min_decade = 1200, max_decade = 1800,  continent = ['Asia']):\n",
    "\n",
    "    df_fig = df[df['region_name']==region_name]\n",
    "    df_fig = df_fig[df_fig['decade']<=max_decade]\n",
    "    df_fig = df_fig[df_fig['decade']>=min_decade]\n",
    "    df_fig = df_fig[df_fig['continent_name'].isin(continent)]\n",
    "    df_fig['score'] = df_fig.groupby('continent_name')['score'].transform(lambda x: (x - x.min()) / (x.max() - x.min()) * 9 + 1)\n",
    "    \n",
    "    fig = px.line(df_fig, x = 'decade', y = 'score', color = 'continent_name',\n",
    "                  width = 1200, \n",
    "                  height = 600, \n",
    "                  title = region_name, \n",
    "                  template = 'simple_white')\n",
    "                  #line_shape='spline')\n",
    "    \n",
    "    fig.update_layout(legend=dict(title=dict(text='Identifiers Continent')))\n",
    "    fig.update_layout(xaxis=dict(dtick=100))\n",
    "    fig.update_layout(xaxis_title='', yaxis_title='Normalised Score')\n",
    "    \n",
    "    return fig"
   ]
  },
  {
   "cell_type": "code",
   "execution_count": null,
   "id": "5b2b7e36-446e-43b3-a8b6-a4b8d0ff1837",
   "metadata": {},
   "outputs": [],
   "source": []
  },
  {
   "cell_type": "code",
   "execution_count": 311,
   "id": "77a67252-2513-434a-92e2-6f926b7c3af9",
   "metadata": {},
   "outputs": [],
   "source": [
    "df_final_region_fifty = df_final_region.copy()\n",
    "df_final_region_fifty['decade'] = df_final_region_fifty['decade'].apply(lambda x: int(x/50)*50)\n",
    "df_final_region_fifty = df_final_region_fifty.groupby(['region_name', 'decade', 'continent_name'])['score'].sum().reset_index()\n",
    "df_final_region_fifty = df_final_region_fifty[df_final_region_fifty['continent_name']!='Africa']"
   ]
  },
  {
   "cell_type": "code",
   "execution_count": null,
   "id": "49c53762-fcc5-4207-8fb3-aab3463e3d9a",
   "metadata": {},
   "outputs": [],
   "source": []
  },
  {
   "cell_type": "code",
   "execution_count": 312,
   "id": "ff634c8f-a8c1-4440-8720-2d1ee5b36678",
   "metadata": {},
   "outputs": [
    {
     "data": {
      "application/vnd.plotly.v1+json": {
       "config": {
        "plotlyServerURL": "https://plot.ly"
       },
       "data": [
        {
         "hovertemplate": "continent_name=Asia<br>decade=%{x}<br>score=%{y}<extra></extra>",
         "legendgroup": "Asia",
         "line": {
          "color": "#1F77B4",
          "dash": "solid"
         },
         "marker": {
          "symbol": "circle"
         },
         "mode": "lines",
         "name": "Asia",
         "orientation": "v",
         "showlegend": true,
         "type": "scatter",
         "x": [
          -500,
          -450,
          -400,
          -350,
          -300,
          -250,
          -200,
          -150,
          -100,
          -50,
          0,
          50,
          100,
          150,
          200,
          250,
          300,
          350,
          400,
          450,
          500,
          550,
          600,
          650,
          700,
          750,
          800,
          850,
          900,
          950,
          1000,
          1050,
          1100,
          1150,
          1200,
          1250,
          1300,
          1350,
          1400,
          1450,
          1500,
          1550,
          1600,
          1650,
          1700,
          1750,
          1800
         ],
         "xaxis": "x",
         "y": [
          1.5633383010432191,
          1.0938897168405366,
          1.053651266766021,
          1.1609538002980626,
          1.3353204172876305,
          1.2280178837555886,
          1.1073025335320417,
          1.1475409836065573,
          1.4962742175856931,
          1,
          1.5767511177347244,
          1.4157973174366618,
          1.375558867362146,
          1.8450074515648285,
          1.8986587183308494,
          2.2339791356184797,
          1.4962742175856931,
          1.6304023845007451,
          1.9120715350223547,
          1.3621460506706409,
          1.1073025335320417,
          1.6304023845007451,
          2.5692995529061102,
          1.7377049180327868,
          2.1400894187779436,
          1.6035767511177348,
          2.3412816691505216,
          1.5767511177347244,
          1.174366616989568,
          1.6974664679582712,
          2.2608047690014903,
          3.172876304023845,
          1.9523099850968704,
          2.2071535022354696,
          1.7779433681073025,
          2.783904619970194,
          3.293591654247392,
          2.8241430700447094,
          2.4754098360655736,
          2.5424739195230996,
          4.219076005961252,
          4.299552906110283,
          7.786885245901638,
          10,
          5.4798807749627425,
          8.09538002980626,
          7.545454545454546
         ],
         "yaxis": "y"
        },
        {
         "hovertemplate": "continent_name=Europe<br>decade=%{x}<br>score=%{y}<extra></extra>",
         "legendgroup": "Europe",
         "line": {
          "color": "#FF7F0E",
          "dash": "solid"
         },
         "marker": {
          "symbol": "circle"
         },
         "mode": "lines",
         "name": "Europe",
         "orientation": "v",
         "showlegend": true,
         "type": "scatter",
         "x": [
          -500,
          -450,
          -400,
          -350,
          -300,
          -250,
          -200,
          -150,
          -100,
          0,
          50,
          100,
          150,
          200,
          250,
          300,
          350,
          400,
          450,
          500,
          550,
          600,
          650,
          700,
          750,
          800,
          850,
          900,
          950,
          1000,
          1050,
          1100,
          1150,
          1200,
          1250,
          1300,
          1350,
          1400,
          1450,
          1500,
          1550,
          1600,
          1650,
          1700,
          1750,
          1800
         ],
         "xaxis": "x",
         "y": [
          4.621951219512195,
          1.0548780487804879,
          1.3567073170731707,
          1.4390243902439024,
          2.591463414634146,
          1.6859756097560976,
          1.0274390243902438,
          1.2469512195121952,
          2.5091463414634148,
          1.8780487804878048,
          2.399390243902439,
          1.3292682926829267,
          1.8231707317073171,
          1.8780487804878048,
          2.8109756097560976,
          1.7134146341463414,
          2.591463414634146,
          2.7286585365853657,
          1.3292682926829267,
          1,
          1.7408536585365852,
          3.332317073170732,
          2.4817073170731705,
          4.128048780487805,
          1.6859756097560976,
          4.265243902439025,
          2.207317073170732,
          1.3567073170731707,
          2.5365853658536586,
          3.0030487804878048,
          6.844512195121951,
          2.975609756097561,
          4.155487804878049,
          2.701219512195122,
          3.9359756097560976,
          4.182926829268292,
          2.097560975609756,
          2.5365853658536586,
          2.426829268292683,
          5.5823170731707314,
          4.951219512195122,
          9.588414634146341,
          10,
          5.692073170731708,
          6.789634146341464,
          5.4176829268292686
         ],
         "yaxis": "y"
        },
        {
         "hovertemplate": "continent_name=Insular Oceania<br>decade=%{x}<br>score=%{y}<extra></extra>",
         "legendgroup": "Insular Oceania",
         "line": {
          "color": "#2CA02C",
          "dash": "solid"
         },
         "marker": {
          "symbol": "circle"
         },
         "mode": "lines",
         "name": "Insular Oceania",
         "orientation": "v",
         "showlegend": true,
         "type": "scatter",
         "x": [
          -500,
          -450,
          -400,
          -350,
          -300,
          -250,
          -200,
          -150,
          -100,
          0,
          50,
          100,
          150,
          200,
          250,
          300,
          350,
          400,
          450,
          500,
          550,
          600,
          650,
          700,
          750,
          800,
          850,
          900,
          950,
          1000,
          1050,
          1100,
          1150,
          1200,
          1250,
          1300,
          1350,
          1400,
          1450,
          1500,
          1550,
          1600,
          1650,
          1700,
          1750,
          1800
         ],
         "xaxis": "x",
         "y": [
          1.4368932038834952,
          1.087378640776699,
          1,
          1.262135922330097,
          1.262135922330097,
          1,
          1.087378640776699,
          1,
          1.4368932038834952,
          1.4368932038834952,
          1.174757281553398,
          1.5242718446601942,
          1.4368932038834952,
          1.6116504854368932,
          2.3106796116504853,
          1.349514563106796,
          1.6990291262135921,
          1.8737864077669903,
          1.174757281553398,
          1,
          1.6990291262135921,
          2.6601941747572813,
          1.7864077669902914,
          2.8349514563106792,
          1.8737864077669903,
          2.7475728155339807,
          1.4368932038834952,
          1,
          1.9611650485436893,
          2.5728155339805827,
          3.6213592233009706,
          2.3106796116504853,
          2.5728155339805827,
          1.9611650485436893,
          3.2718446601941746,
          4.058252427184466,
          2.4854368932038833,
          2.6601941747572813,
          2.3106796116504853,
          5.194174757281553,
          4.58252427184466,
          9.300970873786408,
          10,
          6.941747572815534,
          7.990291262135922,
          6.941747572815534
         ],
         "yaxis": "y"
        },
        {
         "hovertemplate": "continent_name=North America<br>decade=%{x}<br>score=%{y}<extra></extra>",
         "legendgroup": "North America",
         "line": {
          "color": "#D62728",
          "dash": "solid"
         },
         "marker": {
          "symbol": "circle"
         },
         "mode": "lines",
         "name": "North America",
         "orientation": "v",
         "showlegend": true,
         "type": "scatter",
         "x": [
          -500,
          -450,
          -400,
          -350,
          -300,
          -250,
          -200,
          -150,
          -100,
          0,
          50,
          100,
          150,
          200,
          250,
          300,
          350,
          400,
          450,
          500,
          550,
          600,
          650,
          700,
          750,
          800,
          850,
          900,
          950,
          1000,
          1050,
          1100,
          1150,
          1200,
          1250,
          1300,
          1350,
          1400,
          1450,
          1500,
          1550,
          1600,
          1650,
          1700,
          1750,
          1800
         ],
         "xaxis": "x",
         "y": [
          1.4215885947046845,
          1,
          1.0366598778004072,
          1.0366598778004072,
          1.1283095723014256,
          1.0916496945010183,
          1.0183299389002036,
          1.109979633401222,
          1.2016293279022403,
          1.2016293279022403,
          1.164969450101833,
          1.109979633401222,
          1.4032586558044806,
          1.4032586558044806,
          1.54989816700611,
          1.3299389002036661,
          1.3299389002036661,
          1.3482688391038695,
          1.164969450101833,
          1.0366598778004072,
          1.3299389002036661,
          1.8981670061099796,
          1.5132382892057028,
          2.0081466395112018,
          1.5132382892057028,
          1.9164969450101834,
          1.604887983706721,
          1.2932790224032586,
          1.769857433808554,
          1.8431771894093687,
          2.796334012219959,
          1.8615071283095723,
          1.824847250509165,
          1.8065173116089612,
          3.1262729124236253,
          3.474541751527495,
          2.6680244399185336,
          2.6680244399185336,
          2.759674134419552,
          4.574338085539715,
          3.7128309572301426,
          7.543788187372709,
          10,
          5.637474541751527,
          7.45213849287169,
          8.221995926680243
         ],
         "yaxis": "y"
        },
        {
         "hovertemplate": "continent_name=South America<br>decade=%{x}<br>score=%{y}<extra></extra>",
         "legendgroup": "South America",
         "line": {
          "color": "#9467BD",
          "dash": "solid"
         },
         "marker": {
          "symbol": "circle"
         },
         "mode": "lines",
         "name": "South America",
         "orientation": "v",
         "showlegend": true,
         "type": "scatter",
         "x": [
          -500,
          -350,
          -300,
          -250,
          -100,
          0,
          200,
          350,
          650,
          700,
          800,
          1050,
          1500,
          1650,
          1750
         ],
         "xaxis": "x",
         "y": [
          10,
          1,
          4.857142857142857,
          1,
          1,
          1,
          1,
          1,
          2.2857142857142856,
          4.857142857142857,
          1,
          1,
          2.2857142857142856,
          3.571428571428571,
          1
         ],
         "yaxis": "y"
        }
       ],
       "layout": {
        "height": 600,
        "legend": {
         "title": {
          "text": "Identifiers Continent"
         },
         "tracegroupgap": 0
        },
        "template": {
         "data": {
          "bar": [
           {
            "error_x": {
             "color": "rgb(36,36,36)"
            },
            "error_y": {
             "color": "rgb(36,36,36)"
            },
            "marker": {
             "line": {
              "color": "white",
              "width": 0.5
             },
             "pattern": {
              "fillmode": "overlay",
              "size": 10,
              "solidity": 0.2
             }
            },
            "type": "bar"
           }
          ],
          "barpolar": [
           {
            "marker": {
             "line": {
              "color": "white",
              "width": 0.5
             },
             "pattern": {
              "fillmode": "overlay",
              "size": 10,
              "solidity": 0.2
             }
            },
            "type": "barpolar"
           }
          ],
          "carpet": [
           {
            "aaxis": {
             "endlinecolor": "rgb(36,36,36)",
             "gridcolor": "white",
             "linecolor": "white",
             "minorgridcolor": "white",
             "startlinecolor": "rgb(36,36,36)"
            },
            "baxis": {
             "endlinecolor": "rgb(36,36,36)",
             "gridcolor": "white",
             "linecolor": "white",
             "minorgridcolor": "white",
             "startlinecolor": "rgb(36,36,36)"
            },
            "type": "carpet"
           }
          ],
          "choropleth": [
           {
            "colorbar": {
             "outlinewidth": 1,
             "tickcolor": "rgb(36,36,36)",
             "ticks": "outside"
            },
            "type": "choropleth"
           }
          ],
          "contour": [
           {
            "colorbar": {
             "outlinewidth": 1,
             "tickcolor": "rgb(36,36,36)",
             "ticks": "outside"
            },
            "colorscale": [
             [
              0,
              "#440154"
             ],
             [
              0.1111111111111111,
              "#482878"
             ],
             [
              0.2222222222222222,
              "#3e4989"
             ],
             [
              0.3333333333333333,
              "#31688e"
             ],
             [
              0.4444444444444444,
              "#26828e"
             ],
             [
              0.5555555555555556,
              "#1f9e89"
             ],
             [
              0.6666666666666666,
              "#35b779"
             ],
             [
              0.7777777777777778,
              "#6ece58"
             ],
             [
              0.8888888888888888,
              "#b5de2b"
             ],
             [
              1,
              "#fde725"
             ]
            ],
            "type": "contour"
           }
          ],
          "contourcarpet": [
           {
            "colorbar": {
             "outlinewidth": 1,
             "tickcolor": "rgb(36,36,36)",
             "ticks": "outside"
            },
            "type": "contourcarpet"
           }
          ],
          "heatmap": [
           {
            "colorbar": {
             "outlinewidth": 1,
             "tickcolor": "rgb(36,36,36)",
             "ticks": "outside"
            },
            "colorscale": [
             [
              0,
              "#440154"
             ],
             [
              0.1111111111111111,
              "#482878"
             ],
             [
              0.2222222222222222,
              "#3e4989"
             ],
             [
              0.3333333333333333,
              "#31688e"
             ],
             [
              0.4444444444444444,
              "#26828e"
             ],
             [
              0.5555555555555556,
              "#1f9e89"
             ],
             [
              0.6666666666666666,
              "#35b779"
             ],
             [
              0.7777777777777778,
              "#6ece58"
             ],
             [
              0.8888888888888888,
              "#b5de2b"
             ],
             [
              1,
              "#fde725"
             ]
            ],
            "type": "heatmap"
           }
          ],
          "heatmapgl": [
           {
            "colorbar": {
             "outlinewidth": 1,
             "tickcolor": "rgb(36,36,36)",
             "ticks": "outside"
            },
            "colorscale": [
             [
              0,
              "#440154"
             ],
             [
              0.1111111111111111,
              "#482878"
             ],
             [
              0.2222222222222222,
              "#3e4989"
             ],
             [
              0.3333333333333333,
              "#31688e"
             ],
             [
              0.4444444444444444,
              "#26828e"
             ],
             [
              0.5555555555555556,
              "#1f9e89"
             ],
             [
              0.6666666666666666,
              "#35b779"
             ],
             [
              0.7777777777777778,
              "#6ece58"
             ],
             [
              0.8888888888888888,
              "#b5de2b"
             ],
             [
              1,
              "#fde725"
             ]
            ],
            "type": "heatmapgl"
           }
          ],
          "histogram": [
           {
            "marker": {
             "line": {
              "color": "white",
              "width": 0.6
             }
            },
            "type": "histogram"
           }
          ],
          "histogram2d": [
           {
            "colorbar": {
             "outlinewidth": 1,
             "tickcolor": "rgb(36,36,36)",
             "ticks": "outside"
            },
            "colorscale": [
             [
              0,
              "#440154"
             ],
             [
              0.1111111111111111,
              "#482878"
             ],
             [
              0.2222222222222222,
              "#3e4989"
             ],
             [
              0.3333333333333333,
              "#31688e"
             ],
             [
              0.4444444444444444,
              "#26828e"
             ],
             [
              0.5555555555555556,
              "#1f9e89"
             ],
             [
              0.6666666666666666,
              "#35b779"
             ],
             [
              0.7777777777777778,
              "#6ece58"
             ],
             [
              0.8888888888888888,
              "#b5de2b"
             ],
             [
              1,
              "#fde725"
             ]
            ],
            "type": "histogram2d"
           }
          ],
          "histogram2dcontour": [
           {
            "colorbar": {
             "outlinewidth": 1,
             "tickcolor": "rgb(36,36,36)",
             "ticks": "outside"
            },
            "colorscale": [
             [
              0,
              "#440154"
             ],
             [
              0.1111111111111111,
              "#482878"
             ],
             [
              0.2222222222222222,
              "#3e4989"
             ],
             [
              0.3333333333333333,
              "#31688e"
             ],
             [
              0.4444444444444444,
              "#26828e"
             ],
             [
              0.5555555555555556,
              "#1f9e89"
             ],
             [
              0.6666666666666666,
              "#35b779"
             ],
             [
              0.7777777777777778,
              "#6ece58"
             ],
             [
              0.8888888888888888,
              "#b5de2b"
             ],
             [
              1,
              "#fde725"
             ]
            ],
            "type": "histogram2dcontour"
           }
          ],
          "mesh3d": [
           {
            "colorbar": {
             "outlinewidth": 1,
             "tickcolor": "rgb(36,36,36)",
             "ticks": "outside"
            },
            "type": "mesh3d"
           }
          ],
          "parcoords": [
           {
            "line": {
             "colorbar": {
              "outlinewidth": 1,
              "tickcolor": "rgb(36,36,36)",
              "ticks": "outside"
             }
            },
            "type": "parcoords"
           }
          ],
          "pie": [
           {
            "automargin": true,
            "type": "pie"
           }
          ],
          "scatter": [
           {
            "marker": {
             "colorbar": {
              "outlinewidth": 1,
              "tickcolor": "rgb(36,36,36)",
              "ticks": "outside"
             }
            },
            "type": "scatter"
           }
          ],
          "scatter3d": [
           {
            "line": {
             "colorbar": {
              "outlinewidth": 1,
              "tickcolor": "rgb(36,36,36)",
              "ticks": "outside"
             }
            },
            "marker": {
             "colorbar": {
              "outlinewidth": 1,
              "tickcolor": "rgb(36,36,36)",
              "ticks": "outside"
             }
            },
            "type": "scatter3d"
           }
          ],
          "scattercarpet": [
           {
            "marker": {
             "colorbar": {
              "outlinewidth": 1,
              "tickcolor": "rgb(36,36,36)",
              "ticks": "outside"
             }
            },
            "type": "scattercarpet"
           }
          ],
          "scattergeo": [
           {
            "marker": {
             "colorbar": {
              "outlinewidth": 1,
              "tickcolor": "rgb(36,36,36)",
              "ticks": "outside"
             }
            },
            "type": "scattergeo"
           }
          ],
          "scattergl": [
           {
            "marker": {
             "colorbar": {
              "outlinewidth": 1,
              "tickcolor": "rgb(36,36,36)",
              "ticks": "outside"
             }
            },
            "type": "scattergl"
           }
          ],
          "scattermapbox": [
           {
            "marker": {
             "colorbar": {
              "outlinewidth": 1,
              "tickcolor": "rgb(36,36,36)",
              "ticks": "outside"
             }
            },
            "type": "scattermapbox"
           }
          ],
          "scatterpolar": [
           {
            "marker": {
             "colorbar": {
              "outlinewidth": 1,
              "tickcolor": "rgb(36,36,36)",
              "ticks": "outside"
             }
            },
            "type": "scatterpolar"
           }
          ],
          "scatterpolargl": [
           {
            "marker": {
             "colorbar": {
              "outlinewidth": 1,
              "tickcolor": "rgb(36,36,36)",
              "ticks": "outside"
             }
            },
            "type": "scatterpolargl"
           }
          ],
          "scatterternary": [
           {
            "marker": {
             "colorbar": {
              "outlinewidth": 1,
              "tickcolor": "rgb(36,36,36)",
              "ticks": "outside"
             }
            },
            "type": "scatterternary"
           }
          ],
          "surface": [
           {
            "colorbar": {
             "outlinewidth": 1,
             "tickcolor": "rgb(36,36,36)",
             "ticks": "outside"
            },
            "colorscale": [
             [
              0,
              "#440154"
             ],
             [
              0.1111111111111111,
              "#482878"
             ],
             [
              0.2222222222222222,
              "#3e4989"
             ],
             [
              0.3333333333333333,
              "#31688e"
             ],
             [
              0.4444444444444444,
              "#26828e"
             ],
             [
              0.5555555555555556,
              "#1f9e89"
             ],
             [
              0.6666666666666666,
              "#35b779"
             ],
             [
              0.7777777777777778,
              "#6ece58"
             ],
             [
              0.8888888888888888,
              "#b5de2b"
             ],
             [
              1,
              "#fde725"
             ]
            ],
            "type": "surface"
           }
          ],
          "table": [
           {
            "cells": {
             "fill": {
              "color": "rgb(237,237,237)"
             },
             "line": {
              "color": "white"
             }
            },
            "header": {
             "fill": {
              "color": "rgb(217,217,217)"
             },
             "line": {
              "color": "white"
             }
            },
            "type": "table"
           }
          ]
         },
         "layout": {
          "annotationdefaults": {
           "arrowhead": 0,
           "arrowwidth": 1
          },
          "autotypenumbers": "strict",
          "coloraxis": {
           "colorbar": {
            "outlinewidth": 1,
            "tickcolor": "rgb(36,36,36)",
            "ticks": "outside"
           }
          },
          "colorscale": {
           "diverging": [
            [
             0,
             "rgb(103,0,31)"
            ],
            [
             0.1,
             "rgb(178,24,43)"
            ],
            [
             0.2,
             "rgb(214,96,77)"
            ],
            [
             0.3,
             "rgb(244,165,130)"
            ],
            [
             0.4,
             "rgb(253,219,199)"
            ],
            [
             0.5,
             "rgb(247,247,247)"
            ],
            [
             0.6,
             "rgb(209,229,240)"
            ],
            [
             0.7,
             "rgb(146,197,222)"
            ],
            [
             0.8,
             "rgb(67,147,195)"
            ],
            [
             0.9,
             "rgb(33,102,172)"
            ],
            [
             1,
             "rgb(5,48,97)"
            ]
           ],
           "sequential": [
            [
             0,
             "#440154"
            ],
            [
             0.1111111111111111,
             "#482878"
            ],
            [
             0.2222222222222222,
             "#3e4989"
            ],
            [
             0.3333333333333333,
             "#31688e"
            ],
            [
             0.4444444444444444,
             "#26828e"
            ],
            [
             0.5555555555555556,
             "#1f9e89"
            ],
            [
             0.6666666666666666,
             "#35b779"
            ],
            [
             0.7777777777777778,
             "#6ece58"
            ],
            [
             0.8888888888888888,
             "#b5de2b"
            ],
            [
             1,
             "#fde725"
            ]
           ],
           "sequentialminus": [
            [
             0,
             "#440154"
            ],
            [
             0.1111111111111111,
             "#482878"
            ],
            [
             0.2222222222222222,
             "#3e4989"
            ],
            [
             0.3333333333333333,
             "#31688e"
            ],
            [
             0.4444444444444444,
             "#26828e"
            ],
            [
             0.5555555555555556,
             "#1f9e89"
            ],
            [
             0.6666666666666666,
             "#35b779"
            ],
            [
             0.7777777777777778,
             "#6ece58"
            ],
            [
             0.8888888888888888,
             "#b5de2b"
            ],
            [
             1,
             "#fde725"
            ]
           ]
          },
          "colorway": [
           "#1F77B4",
           "#FF7F0E",
           "#2CA02C",
           "#D62728",
           "#9467BD",
           "#8C564B",
           "#E377C2",
           "#7F7F7F",
           "#BCBD22",
           "#17BECF"
          ],
          "font": {
           "color": "rgb(36,36,36)"
          },
          "geo": {
           "bgcolor": "white",
           "lakecolor": "white",
           "landcolor": "white",
           "showlakes": true,
           "showland": true,
           "subunitcolor": "white"
          },
          "hoverlabel": {
           "align": "left"
          },
          "hovermode": "closest",
          "mapbox": {
           "style": "light"
          },
          "paper_bgcolor": "white",
          "plot_bgcolor": "white",
          "polar": {
           "angularaxis": {
            "gridcolor": "rgb(232,232,232)",
            "linecolor": "rgb(36,36,36)",
            "showgrid": false,
            "showline": true,
            "ticks": "outside"
           },
           "bgcolor": "white",
           "radialaxis": {
            "gridcolor": "rgb(232,232,232)",
            "linecolor": "rgb(36,36,36)",
            "showgrid": false,
            "showline": true,
            "ticks": "outside"
           }
          },
          "scene": {
           "xaxis": {
            "backgroundcolor": "white",
            "gridcolor": "rgb(232,232,232)",
            "gridwidth": 2,
            "linecolor": "rgb(36,36,36)",
            "showbackground": true,
            "showgrid": false,
            "showline": true,
            "ticks": "outside",
            "zeroline": false,
            "zerolinecolor": "rgb(36,36,36)"
           },
           "yaxis": {
            "backgroundcolor": "white",
            "gridcolor": "rgb(232,232,232)",
            "gridwidth": 2,
            "linecolor": "rgb(36,36,36)",
            "showbackground": true,
            "showgrid": false,
            "showline": true,
            "ticks": "outside",
            "zeroline": false,
            "zerolinecolor": "rgb(36,36,36)"
           },
           "zaxis": {
            "backgroundcolor": "white",
            "gridcolor": "rgb(232,232,232)",
            "gridwidth": 2,
            "linecolor": "rgb(36,36,36)",
            "showbackground": true,
            "showgrid": false,
            "showline": true,
            "ticks": "outside",
            "zeroline": false,
            "zerolinecolor": "rgb(36,36,36)"
           }
          },
          "shapedefaults": {
           "fillcolor": "black",
           "line": {
            "width": 0
           },
           "opacity": 0.3
          },
          "ternary": {
           "aaxis": {
            "gridcolor": "rgb(232,232,232)",
            "linecolor": "rgb(36,36,36)",
            "showgrid": false,
            "showline": true,
            "ticks": "outside"
           },
           "baxis": {
            "gridcolor": "rgb(232,232,232)",
            "linecolor": "rgb(36,36,36)",
            "showgrid": false,
            "showline": true,
            "ticks": "outside"
           },
           "bgcolor": "white",
           "caxis": {
            "gridcolor": "rgb(232,232,232)",
            "linecolor": "rgb(36,36,36)",
            "showgrid": false,
            "showline": true,
            "ticks": "outside"
           }
          },
          "title": {
           "x": 0.05
          },
          "xaxis": {
           "automargin": true,
           "gridcolor": "rgb(232,232,232)",
           "linecolor": "rgb(36,36,36)",
           "showgrid": false,
           "showline": true,
           "ticks": "outside",
           "title": {
            "standoff": 15
           },
           "zeroline": false,
           "zerolinecolor": "rgb(36,36,36)"
          },
          "yaxis": {
           "automargin": true,
           "gridcolor": "rgb(232,232,232)",
           "linecolor": "rgb(36,36,36)",
           "showgrid": false,
           "showline": true,
           "ticks": "outside",
           "title": {
            "standoff": 15
           },
           "zeroline": false,
           "zerolinecolor": "rgb(36,36,36)"
          }
         }
        },
        "title": {
         "text": "Chinese world"
        },
        "width": 1200,
        "xaxis": {
         "anchor": "y",
         "autorange": true,
         "domain": [
          0,
          1
         ],
         "dtick": 100,
         "range": [
          -500,
          1800
         ],
         "title": {
          "text": ""
         },
         "type": "linear"
        },
        "yaxis": {
         "anchor": "x",
         "autorange": true,
         "domain": [
          0,
          1
         ],
         "range": [
          0.5,
          10.5
         ],
         "title": {
          "text": "Normalised Score"
         },
         "type": "linear"
        }
       }
      },
      "image/png": "[encoded data removed]",
      "text/html": [
       "<div>                            <div id=\"443a2e7f-dc72-4dbc-a142-4593cbc47ce2\" class=\"plotly-graph-div\" style=\"height:600px; width:1200px;\"></div>            <script type=\"text/javascript\">                require([\"plotly\"], function(Plotly) {                    window.PLOTLYENV=window.PLOTLYENV || {};                                    if (document.getElementById(\"443a2e7f-dc72-4dbc-a142-4593cbc47ce2\")) {                    Plotly.newPlot(                        \"443a2e7f-dc72-4dbc-a142-4593cbc47ce2\",                        [{\"hovertemplate\":\"continent_name=Asia<br>decade=%{x}<br>score=%{y}<extra></extra>\",\"legendgroup\":\"Asia\",\"line\":{\"color\":\"#1F77B4\",\"dash\":\"solid\"},\"marker\":{\"symbol\":\"circle\"},\"mode\":\"lines\",\"name\":\"Asia\",\"orientation\":\"v\",\"showlegend\":true,\"x\":[-500,-450,-400,-350,-300,-250,-200,-150,-100,-50,0,50,100,150,200,250,300,350,400,450,500,550,600,650,700,750,800,850,900,950,1000,1050,1100,1150,1200,1250,1300,1350,1400,1450,1500,1550,1600,1650,1700,1750,1800],\"xaxis\":\"x\",\"y\":[1.5633383010432191,1.0938897168405366,1.053651266766021,1.1609538002980626,1.3353204172876305,1.2280178837555886,1.1073025335320417,1.1475409836065573,1.4962742175856931,1.0,1.5767511177347244,1.4157973174366618,1.375558867362146,1.8450074515648285,1.8986587183308494,2.2339791356184797,1.4962742175856931,1.6304023845007451,1.9120715350223547,1.3621460506706409,1.1073025335320417,1.6304023845007451,2.5692995529061102,1.7377049180327868,2.1400894187779436,1.6035767511177348,2.3412816691505216,1.5767511177347244,1.174366616989568,1.6974664679582712,2.2608047690014903,3.172876304023845,1.9523099850968704,2.2071535022354696,1.7779433681073025,2.783904619970194,3.293591654247392,2.8241430700447094,2.4754098360655736,2.5424739195230996,4.219076005961252,4.299552906110283,7.786885245901638,10.0,5.4798807749627425,8.09538002980626,7.545454545454546],\"yaxis\":\"y\",\"type\":\"scatter\"},{\"hovertemplate\":\"continent_name=Europe<br>decade=%{x}<br>score=%{y}<extra></extra>\",\"legendgroup\":\"Europe\",\"line\":{\"color\":\"#FF7F0E\",\"dash\":\"solid\"},\"marker\":{\"symbol\":\"circle\"},\"mode\":\"lines\",\"name\":\"Europe\",\"orientation\":\"v\",\"showlegend\":true,\"x\":[-500,-450,-400,-350,-300,-250,-200,-150,-100,0,50,100,150,200,250,300,350,400,450,500,550,600,650,700,750,800,850,900,950,1000,1050,1100,1150,1200,1250,1300,1350,1400,1450,1500,1550,1600,1650,1700,1750,1800],\"xaxis\":\"x\",\"y\":[4.621951219512195,1.0548780487804879,1.3567073170731707,1.4390243902439024,2.591463414634146,1.6859756097560976,1.0274390243902438,1.2469512195121952,2.5091463414634148,1.8780487804878048,2.399390243902439,1.3292682926829267,1.8231707317073171,1.8780487804878048,2.8109756097560976,1.7134146341463414,2.591463414634146,2.7286585365853657,1.3292682926829267,1.0,1.7408536585365852,3.332317073170732,2.4817073170731705,4.128048780487805,1.6859756097560976,4.265243902439025,2.207317073170732,1.3567073170731707,2.5365853658536586,3.0030487804878048,6.844512195121951,2.975609756097561,4.155487804878049,2.701219512195122,3.9359756097560976,4.182926829268292,2.097560975609756,2.5365853658536586,2.426829268292683,5.5823170731707314,4.951219512195122,9.588414634146341,10.0,5.692073170731708,6.789634146341464,5.4176829268292686],\"yaxis\":\"y\",\"type\":\"scatter\"},{\"hovertemplate\":\"continent_name=Insular Oceania<br>decade=%{x}<br>score=%{y}<extra></extra>\",\"legendgroup\":\"Insular Oceania\",\"line\":{\"color\":\"#2CA02C\",\"dash\":\"solid\"},\"marker\":{\"symbol\":\"circle\"},\"mode\":\"lines\",\"name\":\"Insular Oceania\",\"orientation\":\"v\",\"showlegend\":true,\"x\":[-500,-450,-400,-350,-300,-250,-200,-150,-100,0,50,100,150,200,250,300,350,400,450,500,550,600,650,700,750,800,850,900,950,1000,1050,1100,1150,1200,1250,1300,1350,1400,1450,1500,1550,1600,1650,1700,1750,1800],\"xaxis\":\"x\",\"y\":[1.4368932038834952,1.087378640776699,1.0,1.262135922330097,1.262135922330097,1.0,1.087378640776699,1.0,1.4368932038834952,1.4368932038834952,1.174757281553398,1.5242718446601942,1.4368932038834952,1.6116504854368932,2.3106796116504853,1.349514563106796,1.6990291262135921,1.8737864077669903,1.174757281553398,1.0,1.6990291262135921,2.6601941747572813,1.7864077669902914,2.8349514563106792,1.8737864077669903,2.7475728155339807,1.4368932038834952,1.0,1.9611650485436893,2.5728155339805827,3.6213592233009706,2.3106796116504853,2.5728155339805827,1.9611650485436893,3.2718446601941746,4.058252427184466,2.4854368932038833,2.6601941747572813,2.3106796116504853,5.194174757281553,4.58252427184466,9.300970873786408,10.0,6.941747572815534,7.990291262135922,6.941747572815534],\"yaxis\":\"y\",\"type\":\"scatter\"},{\"hovertemplate\":\"continent_name=North America<br>decade=%{x}<br>score=%{y}<extra></extra>\",\"legendgroup\":\"North America\",\"line\":{\"color\":\"#D62728\",\"dash\":\"solid\"},\"marker\":{\"symbol\":\"circle\"},\"mode\":\"lines\",\"name\":\"North America\",\"orientation\":\"v\",\"showlegend\":true,\"x\":[-500,-450,-400,-350,-300,-250,-200,-150,-100,0,50,100,150,200,250,300,350,400,450,500,550,600,650,700,750,800,850,900,950,1000,1050,1100,1150,1200,1250,1300,1350,1400,1450,1500,1550,1600,1650,1700,1750,1800],\"xaxis\":\"x\",\"y\":[1.4215885947046845,1.0,1.0366598778004072,1.0366598778004072,1.1283095723014256,1.0916496945010183,1.0183299389002036,1.109979633401222,1.2016293279022403,1.2016293279022403,1.164969450101833,1.109979633401222,1.4032586558044806,1.4032586558044806,1.54989816700611,1.3299389002036661,1.3299389002036661,1.3482688391038695,1.164969450101833,1.0366598778004072,1.3299389002036661,1.8981670061099796,1.5132382892057028,2.0081466395112018,1.5132382892057028,1.9164969450101834,1.604887983706721,1.2932790224032586,1.769857433808554,1.8431771894093687,2.796334012219959,1.8615071283095723,1.824847250509165,1.8065173116089612,3.1262729124236253,3.474541751527495,2.6680244399185336,2.6680244399185336,2.759674134419552,4.574338085539715,3.7128309572301426,7.543788187372709,10.0,5.637474541751527,7.45213849287169,8.221995926680243],\"yaxis\":\"y\",\"type\":\"scatter\"},{\"hovertemplate\":\"continent_name=South America<br>decade=%{x}<br>score=%{y}<extra></extra>\",\"legendgroup\":\"South America\",\"line\":{\"color\":\"#9467BD\",\"dash\":\"solid\"},\"marker\":{\"symbol\":\"circle\"},\"mode\":\"lines\",\"name\":\"South America\",\"orientation\":\"v\",\"showlegend\":true,\"x\":[-500,-350,-300,-250,-100,0,200,350,650,700,800,1050,1500,1650,1750],\"xaxis\":\"x\",\"y\":[10.0,1.0,4.857142857142857,1.0,1.0,1.0,1.0,1.0,2.2857142857142856,4.857142857142857,1.0,1.0,2.2857142857142856,3.571428571428571,1.0],\"yaxis\":\"y\",\"type\":\"scatter\"}],                        {\"template\":{\"data\":{\"barpolar\":[{\"marker\":{\"line\":{\"color\":\"white\",\"width\":0.5},\"pattern\":{\"fillmode\":\"overlay\",\"size\":10,\"solidity\":0.2}},\"type\":\"barpolar\"}],\"bar\":[{\"error_x\":{\"color\":\"rgb(36,36,36)\"},\"error_y\":{\"color\":\"rgb(36,36,36)\"},\"marker\":{\"line\":{\"color\":\"white\",\"width\":0.5},\"pattern\":{\"fillmode\":\"overlay\",\"size\":10,\"solidity\":0.2}},\"type\":\"bar\"}],\"carpet\":[{\"aaxis\":{\"endlinecolor\":\"rgb(36,36,36)\",\"gridcolor\":\"white\",\"linecolor\":\"white\",\"minorgridcolor\":\"white\",\"startlinecolor\":\"rgb(36,36,36)\"},\"baxis\":{\"endlinecolor\":\"rgb(36,36,36)\",\"gridcolor\":\"white\",\"linecolor\":\"white\",\"minorgridcolor\":\"white\",\"startlinecolor\":\"rgb(36,36,36)\"},\"type\":\"carpet\"}],\"choropleth\":[{\"colorbar\":{\"outlinewidth\":1,\"tickcolor\":\"rgb(36,36,36)\",\"ticks\":\"outside\"},\"type\":\"choropleth\"}],\"contourcarpet\":[{\"colorbar\":{\"outlinewidth\":1,\"tickcolor\":\"rgb(36,36,36)\",\"ticks\":\"outside\"},\"type\":\"contourcarpet\"}],\"contour\":[{\"colorbar\":{\"outlinewidth\":1,\"tickcolor\":\"rgb(36,36,36)\",\"ticks\":\"outside\"},\"colorscale\":[[0.0,\"#440154\"],[0.1111111111111111,\"#482878\"],[0.2222222222222222,\"#3e4989\"],[0.3333333333333333,\"#31688e\"],[0.4444444444444444,\"#26828e\"],[0.5555555555555556,\"#1f9e89\"],[0.6666666666666666,\"#35b779\"],[0.7777777777777778,\"#6ece58\"],[0.8888888888888888,\"#b5de2b\"],[1.0,\"#fde725\"]],\"type\":\"contour\"}],\"heatmapgl\":[{\"colorbar\":{\"outlinewidth\":1,\"tickcolor\":\"rgb(36,36,36)\",\"ticks\":\"outside\"},\"colorscale\":[[0.0,\"#440154\"],[0.1111111111111111,\"#482878\"],[0.2222222222222222,\"#3e4989\"],[0.3333333333333333,\"#31688e\"],[0.4444444444444444,\"#26828e\"],[0.5555555555555556,\"#1f9e89\"],[0.6666666666666666,\"#35b779\"],[0.7777777777777778,\"#6ece58\"],[0.8888888888888888,\"#b5de2b\"],[1.0,\"#fde725\"]],\"type\":\"heatmapgl\"}],\"heatmap\":[{\"colorbar\":{\"outlinewidth\":1,\"tickcolor\":\"rgb(36,36,36)\",\"ticks\":\"outside\"},\"colorscale\":[[0.0,\"#440154\"],[0.1111111111111111,\"#482878\"],[0.2222222222222222,\"#3e4989\"],[0.3333333333333333,\"#31688e\"],[0.4444444444444444,\"#26828e\"],[0.5555555555555556,\"#1f9e89\"],[0.6666666666666666,\"#35b779\"],[0.7777777777777778,\"#6ece58\"],[0.8888888888888888,\"#b5de2b\"],[1.0,\"#fde725\"]],\"type\":\"heatmap\"}],\"histogram2dcontour\":[{\"colorbar\":{\"outlinewidth\":1,\"tickcolor\":\"rgb(36,36,36)\",\"ticks\":\"outside\"},\"colorscale\":[[0.0,\"#440154\"],[0.1111111111111111,\"#482878\"],[0.2222222222222222,\"#3e4989\"],[0.3333333333333333,\"#31688e\"],[0.4444444444444444,\"#26828e\"],[0.5555555555555556,\"#1f9e89\"],[0.6666666666666666,\"#35b779\"],[0.7777777777777778,\"#6ece58\"],[0.8888888888888888,\"#b5de2b\"],[1.0,\"#fde725\"]],\"type\":\"histogram2dcontour\"}],\"histogram2d\":[{\"colorbar\":{\"outlinewidth\":1,\"tickcolor\":\"rgb(36,36,36)\",\"ticks\":\"outside\"},\"colorscale\":[[0.0,\"#440154\"],[0.1111111111111111,\"#482878\"],[0.2222222222222222,\"#3e4989\"],[0.3333333333333333,\"#31688e\"],[0.4444444444444444,\"#26828e\"],[0.5555555555555556,\"#1f9e89\"],[0.6666666666666666,\"#35b779\"],[0.7777777777777778,\"#6ece58\"],[0.8888888888888888,\"#b5de2b\"],[1.0,\"#fde725\"]],\"type\":\"histogram2d\"}],\"histogram\":[{\"marker\":{\"line\":{\"color\":\"white\",\"width\":0.6}},\"type\":\"histogram\"}],\"mesh3d\":[{\"colorbar\":{\"outlinewidth\":1,\"tickcolor\":\"rgb(36,36,36)\",\"ticks\":\"outside\"},\"type\":\"mesh3d\"}],\"parcoords\":[{\"line\":{\"colorbar\":{\"outlinewidth\":1,\"tickcolor\":\"rgb(36,36,36)\",\"ticks\":\"outside\"}},\"type\":\"parcoords\"}],\"pie\":[{\"automargin\":true,\"type\":\"pie\"}],\"scatter3d\":[{\"line\":{\"colorbar\":{\"outlinewidth\":1,\"tickcolor\":\"rgb(36,36,36)\",\"ticks\":\"outside\"}},\"marker\":{\"colorbar\":{\"outlinewidth\":1,\"tickcolor\":\"rgb(36,36,36)\",\"ticks\":\"outside\"}},\"type\":\"scatter3d\"}],\"scattercarpet\":[{\"marker\":{\"colorbar\":{\"outlinewidth\":1,\"tickcolor\":\"rgb(36,36,36)\",\"ticks\":\"outside\"}},\"type\":\"scattercarpet\"}],\"scattergeo\":[{\"marker\":{\"colorbar\":{\"outlinewidth\":1,\"tickcolor\":\"rgb(36,36,36)\",\"ticks\":\"outside\"}},\"type\":\"scattergeo\"}],\"scattergl\":[{\"marker\":{\"colorbar\":{\"outlinewidth\":1,\"tickcolor\":\"rgb(36,36,36)\",\"ticks\":\"outside\"}},\"type\":\"scattergl\"}],\"scattermapbox\":[{\"marker\":{\"colorbar\":{\"outlinewidth\":1,\"tickcolor\":\"rgb(36,36,36)\",\"ticks\":\"outside\"}},\"type\":\"scattermapbox\"}],\"scatterpolargl\":[{\"marker\":{\"colorbar\":{\"outlinewidth\":1,\"tickcolor\":\"rgb(36,36,36)\",\"ticks\":\"outside\"}},\"type\":\"scatterpolargl\"}],\"scatterpolar\":[{\"marker\":{\"colorbar\":{\"outlinewidth\":1,\"tickcolor\":\"rgb(36,36,36)\",\"ticks\":\"outside\"}},\"type\":\"scatterpolar\"}],\"scatter\":[{\"marker\":{\"colorbar\":{\"outlinewidth\":1,\"tickcolor\":\"rgb(36,36,36)\",\"ticks\":\"outside\"}},\"type\":\"scatter\"}],\"scatterternary\":[{\"marker\":{\"colorbar\":{\"outlinewidth\":1,\"tickcolor\":\"rgb(36,36,36)\",\"ticks\":\"outside\"}},\"type\":\"scatterternary\"}],\"surface\":[{\"colorbar\":{\"outlinewidth\":1,\"tickcolor\":\"rgb(36,36,36)\",\"ticks\":\"outside\"},\"colorscale\":[[0.0,\"#440154\"],[0.1111111111111111,\"#482878\"],[0.2222222222222222,\"#3e4989\"],[0.3333333333333333,\"#31688e\"],[0.4444444444444444,\"#26828e\"],[0.5555555555555556,\"#1f9e89\"],[0.6666666666666666,\"#35b779\"],[0.7777777777777778,\"#6ece58\"],[0.8888888888888888,\"#b5de2b\"],[1.0,\"#fde725\"]],\"type\":\"surface\"}],\"table\":[{\"cells\":{\"fill\":{\"color\":\"rgb(237,237,237)\"},\"line\":{\"color\":\"white\"}},\"header\":{\"fill\":{\"color\":\"rgb(217,217,217)\"},\"line\":{\"color\":\"white\"}},\"type\":\"table\"}]},\"layout\":{\"annotationdefaults\":{\"arrowhead\":0,\"arrowwidth\":1},\"autotypenumbers\":\"strict\",\"coloraxis\":{\"colorbar\":{\"outlinewidth\":1,\"tickcolor\":\"rgb(36,36,36)\",\"ticks\":\"outside\"}},\"colorscale\":{\"diverging\":[[0.0,\"rgb(103,0,31)\"],[0.1,\"rgb(178,24,43)\"],[0.2,\"rgb(214,96,77)\"],[0.3,\"rgb(244,165,130)\"],[0.4,\"rgb(253,219,199)\"],[0.5,\"rgb(247,247,247)\"],[0.6,\"rgb(209,229,240)\"],[0.7,\"rgb(146,197,222)\"],[0.8,\"rgb(67,147,195)\"],[0.9,\"rgb(33,102,172)\"],[1.0,\"rgb(5,48,97)\"]],\"sequential\":[[0.0,\"#440154\"],[0.1111111111111111,\"#482878\"],[0.2222222222222222,\"#3e4989\"],[0.3333333333333333,\"#31688e\"],[0.4444444444444444,\"#26828e\"],[0.5555555555555556,\"#1f9e89\"],[0.6666666666666666,\"#35b779\"],[0.7777777777777778,\"#6ece58\"],[0.8888888888888888,\"#b5de2b\"],[1.0,\"#fde725\"]],\"sequentialminus\":[[0.0,\"#440154\"],[0.1111111111111111,\"#482878\"],[0.2222222222222222,\"#3e4989\"],[0.3333333333333333,\"#31688e\"],[0.4444444444444444,\"#26828e\"],[0.5555555555555556,\"#1f9e89\"],[0.6666666666666666,\"#35b779\"],[0.7777777777777778,\"#6ece58\"],[0.8888888888888888,\"#b5de2b\"],[1.0,\"#fde725\"]]},\"colorway\":[\"#1F77B4\",\"#FF7F0E\",\"#2CA02C\",\"#D62728\",\"#9467BD\",\"#8C564B\",\"#E377C2\",\"#7F7F7F\",\"#BCBD22\",\"#17BECF\"],\"font\":{\"color\":\"rgb(36,36,36)\"},\"geo\":{\"bgcolor\":\"white\",\"lakecolor\":\"white\",\"landcolor\":\"white\",\"showlakes\":true,\"showland\":true,\"subunitcolor\":\"white\"},\"hoverlabel\":{\"align\":\"left\"},\"hovermode\":\"closest\",\"mapbox\":{\"style\":\"light\"},\"paper_bgcolor\":\"white\",\"plot_bgcolor\":\"white\",\"polar\":{\"angularaxis\":{\"gridcolor\":\"rgb(232,232,232)\",\"linecolor\":\"rgb(36,36,36)\",\"showgrid\":false,\"showline\":true,\"ticks\":\"outside\"},\"bgcolor\":\"white\",\"radialaxis\":{\"gridcolor\":\"rgb(232,232,232)\",\"linecolor\":\"rgb(36,36,36)\",\"showgrid\":false,\"showline\":true,\"ticks\":\"outside\"}},\"scene\":{\"xaxis\":{\"backgroundcolor\":\"white\",\"gridcolor\":\"rgb(232,232,232)\",\"gridwidth\":2,\"linecolor\":\"rgb(36,36,36)\",\"showbackground\":true,\"showgrid\":false,\"showline\":true,\"ticks\":\"outside\",\"zeroline\":false,\"zerolinecolor\":\"rgb(36,36,36)\"},\"yaxis\":{\"backgroundcolor\":\"white\",\"gridcolor\":\"rgb(232,232,232)\",\"gridwidth\":2,\"linecolor\":\"rgb(36,36,36)\",\"showbackground\":true,\"showgrid\":false,\"showline\":true,\"ticks\":\"outside\",\"zeroline\":false,\"zerolinecolor\":\"rgb(36,36,36)\"},\"zaxis\":{\"backgroundcolor\":\"white\",\"gridcolor\":\"rgb(232,232,232)\",\"gridwidth\":2,\"linecolor\":\"rgb(36,36,36)\",\"showbackground\":true,\"showgrid\":false,\"showline\":true,\"ticks\":\"outside\",\"zeroline\":false,\"zerolinecolor\":\"rgb(36,36,36)\"}},\"shapedefaults\":{\"fillcolor\":\"black\",\"line\":{\"width\":0},\"opacity\":0.3},\"ternary\":{\"aaxis\":{\"gridcolor\":\"rgb(232,232,232)\",\"linecolor\":\"rgb(36,36,36)\",\"showgrid\":false,\"showline\":true,\"ticks\":\"outside\"},\"baxis\":{\"gridcolor\":\"rgb(232,232,232)\",\"linecolor\":\"rgb(36,36,36)\",\"showgrid\":false,\"showline\":true,\"ticks\":\"outside\"},\"bgcolor\":\"white\",\"caxis\":{\"gridcolor\":\"rgb(232,232,232)\",\"linecolor\":\"rgb(36,36,36)\",\"showgrid\":false,\"showline\":true,\"ticks\":\"outside\"}},\"title\":{\"x\":0.05},\"xaxis\":{\"automargin\":true,\"gridcolor\":\"rgb(232,232,232)\",\"linecolor\":\"rgb(36,36,36)\",\"showgrid\":false,\"showline\":true,\"ticks\":\"outside\",\"title\":{\"standoff\":15},\"zeroline\":false,\"zerolinecolor\":\"rgb(36,36,36)\"},\"yaxis\":{\"automargin\":true,\"gridcolor\":\"rgb(232,232,232)\",\"linecolor\":\"rgb(36,36,36)\",\"showgrid\":false,\"showline\":true,\"ticks\":\"outside\",\"title\":{\"standoff\":15},\"zeroline\":false,\"zerolinecolor\":\"rgb(36,36,36)\"}}},\"xaxis\":{\"anchor\":\"y\",\"domain\":[0.0,1.0],\"title\":{\"text\":\"\"},\"dtick\":100},\"yaxis\":{\"anchor\":\"x\",\"domain\":[0.0,1.0],\"title\":{\"text\":\"Normalised Score\"}},\"legend\":{\"title\":{\"text\":\"Identifiers Continent\"},\"tracegroupgap\":0},\"title\":{\"text\":\"Chinese world\"},\"height\":600,\"width\":1200},                        {\"responsive\": true}                    ).then(function(){\n",
       "                            \n",
       "var gd = document.getElementById('443a2e7f-dc72-4dbc-a142-4593cbc47ce2');\n",
       "var x = new MutationObserver(function (mutations, observer) {{\n",
       "        var display = window.getComputedStyle(gd).display;\n",
       "        if (!display || display === 'none') {{\n",
       "            console.log([gd, 'removed!']);\n",
       "            Plotly.purge(gd);\n",
       "            observer.disconnect();\n",
       "        }}\n",
       "}});\n",
       "\n",
       "// Listen for the removal of the full notebook cells\n",
       "var notebookContainer = gd.closest('#notebook-container');\n",
       "if (notebookContainer) {{\n",
       "    x.observe(notebookContainer, {childList: true});\n",
       "}}\n",
       "\n",
       "// Listen for the clearing of the current output cell\n",
       "var outputEl = gd.closest('.output');\n",
       "if (outputEl) {{\n",
       "    x.observe(outputEl, {childList: true});\n",
       "}}\n",
       "\n",
       "                        })                };                });            </script>        </div>"
      ]
     },
     "metadata": {},
     "output_type": "display_data"
    }
   ],
   "source": [
    "fig = make_continent_figure(df_final_region_fifty,region_name = 'Chinese world', min_decade = -500, max_decade = 1800,  continent = all_continents)\n",
    "fig.show()"
   ]
  },
  {
   "cell_type": "code",
   "execution_count": 6,
   "id": "43c66313-8b95-4133-947b-da0b0c488ade",
   "metadata": {
    "tags": []
   },
   "outputs": [],
   "source": []
  },
  {
   "cell_type": "code",
   "execution_count": 7,
   "id": "c7342602-b326-4150-ac34-4b2bd851e843",
   "metadata": {
    "tags": []
   },
   "outputs": [],
   "source": []
  },
  {
   "cell_type": "code",
   "execution_count": 8,
   "id": "cb456954-f66c-4d2a-875f-a4ff90c59d72",
   "metadata": {
    "tags": []
   },
   "outputs": [],
   "source": [
    "df_final_all = df_final.drop(['identifiers_wikidata_id', 'identifier_name'], axis=1).drop_duplicates()"
   ]
  },
  {
   "cell_type": "code",
   "execution_count": 9,
   "id": "be0cfbed-fbba-4a36-988d-994ae4b0c1d2",
   "metadata": {
    "tags": []
   },
   "outputs": [],
   "source": [
    "df_final_all['identifier_name'] = 'all_identifiers'"
   ]
  },
  {
   "cell_type": "code",
   "execution_count": null,
   "id": "ed807462-3f12-4c50-b1a9-697f8a635a9f",
   "metadata": {},
   "outputs": [],
   "source": []
  },
  {
   "cell_type": "code",
   "execution_count": 11,
   "id": "00957cf7-a202-4ab4-9767-285a3ca57dba",
   "metadata": {
    "tags": []
   },
   "outputs": [],
   "source": [
    "df_graph_bis =  pd.concat([df_final, df_final_all])\n",
    "df_graph_bis = df_graph_bis.dropna()"
   ]
  },
  {
   "cell_type": "code",
   "execution_count": 12,
   "id": "8c6e4c25-4628-4fc8-b89f-8afb2c6f0b26",
   "metadata": {
    "tags": []
   },
   "outputs": [],
   "source": [
    "df_graph_bis['decade'] = df_graph_bis['birthyear'].apply(lambda x : int((x+35)/10)*10)\n",
    "df_graph_bis = df_graph_bis.groupby(['identifier_name', 'region_name', 'decade'])['individual_wikidata_id'].count().rename(\"score\").reset_index()"
   ]
  },
  {
   "cell_type": "code",
   "execution_count": 13,
   "id": "544d8375-3e08-45b8-b865-5b291290e5c5",
   "metadata": {
    "tags": []
   },
   "outputs": [],
   "source": [
    "df_identifiers_new = pd.read_sql_query(\"SELECT * FROM identifiers\", conn)\n",
    "df_identifiers_new = df_identifiers_new[['identifier_name', 'country_name']].copy()\n",
    "df_identifiers_new['country_name'][df_identifiers_new['country_name'].isna()]=''\n",
    "#df_identifiers_new = df_identifiers_new.rename(columns = {'identifier_name':'old_identifier_name'})\n",
    "df_identifiers_new['identifier_name'] = df_identifiers_new.apply(lambda x : x['identifier_name'] + ' ('  + x['country_name'] + ')' if x['country_name']!='' else x['identifier_name'], axis=1)\n"
   ]
  },
  {
   "cell_type": "code",
   "execution_count": 14,
   "id": "0ce51567-4973-490c-9af7-b60e130a38a2",
   "metadata": {
    "tags": []
   },
   "outputs": [],
   "source": [
    "df_graph_bis = pd.merge(df_graph_bis,df_identifiers_new, on = 'identifier_name')"
   ]
  },
  {
   "cell_type": "code",
   "execution_count": null,
   "id": "744715d7-994a-4e19-bf03-6401bc323339",
   "metadata": {
    "tags": []
   },
   "outputs": [],
   "source": []
  },
  {
   "cell_type": "code",
   "execution_count": 15,
   "id": "fe5c002d-67e5-4d03-be64-84933987c80f",
   "metadata": {
    "tags": []
   },
   "outputs": [],
   "source": [
    "from plotly.subplots import make_subplots\n",
    "import plotly.graph_objects as go"
   ]
  },
  {
   "cell_type": "code",
   "execution_count": 318,
   "id": "3ceacaf8-b7e5-4448-9082-09b8f653ad6c",
   "metadata": {},
   "outputs": [
    {
     "data": {
      "text/plain": [
       "{'Architectuurgids architect ID (Netherlands)',\n",
       " 'BWSA ID (Netherlands)',\n",
       " 'Biografisch Portaal van Nederland ID (Netherlands)',\n",
       " 'Biografisch Woordenboek van Nederland: 1880-2000 ID (Netherlands)',\n",
       " 'Boijmans artist ID (Netherlands)',\n",
       " 'Catalogus Professorum Academiae Groninganae ID (Netherlands)',\n",
       " 'Catalogus Professorum Academiae Rheno-Traiectinae ID (Netherlands)',\n",
       " 'CollectieGelderland creator ID (Netherlands)',\n",
       " 'DVN ID (Netherlands)',\n",
       " 'Digitale Bibliotheek voor de Nederlandse Letteren author ID (Netherlands)',\n",
       " 'Dutch Instrument Makers ID (Netherlands)',\n",
       " 'Dutch Senate person ID (Netherlands)',\n",
       " 'ECARTICO person ID (Netherlands)',\n",
       " 'GTAA ID (Netherlands)',\n",
       " 'HNI person/institution ID (Netherlands)',\n",
       " 'IISG ID (Netherlands)',\n",
       " 'Joods Biografisch Woordenboek ID (Netherlands)',\n",
       " 'KNAW past member ID (Netherlands)',\n",
       " 'LastDodo-area-ID (Netherlands)',\n",
       " 'Leidse Hoogleraren ID (Netherlands)',\n",
       " 'MovieMeter person ID (Netherlands)',\n",
       " 'Muziekencyclopedie ID (Netherlands)',\n",
       " 'Nationale Thesaurus voor Auteurs ID (Netherlands)',\n",
       " 'Online Begraafplaatsen person ID (Netherlands)',\n",
       " 'Parlement.com ID (Netherlands)',\n",
       " 'PictoRight ID code (Netherlands)',\n",
       " 'RKDartists ID (Netherlands)',\n",
       " 'RKDlibrary ID (Netherlands)',\n",
       " 'Reliwiki page ID (Netherlands)',\n",
       " 'Repertorium van ambtsdragers en ambtenaren ID (Netherlands)',\n",
       " 'Rijksmuseum Research Library authority ID (Netherlands)',\n",
       " 'Rotterdam City Archives actor ID (Netherlands)',\n",
       " 'Stedelijk Museum Amsterdam ID (Netherlands)',\n",
       " 'University of Amsterdam Album Academicum ID (Netherlands)'}"
      ]
     },
     "execution_count": 318,
     "metadata": {},
     "output_type": "execute_result"
    }
   ],
   "source": [
    "set(df_graph_bis[df_graph_bis['country_name']=='Netherlands'].identifier_name)"
   ]
  },
  {
   "cell_type": "code",
   "execution_count": 24,
   "id": "9f4f6ef3-a9a4-45c3-b6f6-75b10a9b5eed",
   "metadata": {
    "tags": []
   },
   "outputs": [],
   "source": [
    "def make_figure(df_graph_bis, region_name, min_decade = 1200, max_decade = 1800, top_identifiers = 5):\n",
    "\n",
    "    df_fig = df_graph_bis[df_graph_bis['region_name']==region_name]\n",
    "    df_fig = df_fig[df_fig['decade']<=max_decade]\n",
    "    df_fig = df_fig[df_fig['decade']>=min_decade]\n",
    "\n",
    "    one_id_country = df_fig.groupby(['country_name', 'identifier_name'])['score'].sum().reset_index()\n",
    "    one_id_country = one_id_country.sort_values(['country_name', 'score'], ascending=(False, False))\n",
    "    one_id_country = one_id_country.groupby('country_name').head(1)\n",
    "    one_id_country = list(one_id_country['identifier_name'])\n",
    "\n",
    "    df_fig = df_fig[df_fig['identifier_name'].isin(one_id_country)]\n",
    "    top_ids = df_fig.groupby(['identifier_name'])['score'].sum().reset_index().sort_values('score', ascending=False)\n",
    "\n",
    "    #top_ids = top_ids[top_ids['identifier_name']!='all_identifiers']\n",
    "    top_ids = list(top_ids['identifier_name'][:top_identifiers])\n",
    "    df_fig = df_fig[df_fig['identifier_name'].isin(top_ids)]\n",
    "    df_fig_mean = df_fig.groupby(['decade'])['score'].mean().reset_index()\n",
    "    df_fig_mean['identifier_name'] = 'average'\n",
    "\n",
    "    #df_fig = pd.concat([df_fig, df_fig_mean])\n",
    "\n",
    "    fig = px.line(df_fig, x = 'decade', y = 'score', color = 'identifier_name',\n",
    "                  width = 1200, \n",
    "                  height = 600, \n",
    "                  title = region_name, \n",
    "                  template = 'simple_white',\n",
    "                  category_orders={'identifier_name': top_ids})\n",
    "                 #line_shape='spline')\n",
    "\n",
    "\n",
    "    #fig.update_layout(legend=dict(title=dict(text='Top 5 Immaterial Production')))\n",
    "    fig.update_traces(opacity=0.25)\n",
    "\n",
    "    fig2 = px.line(df_fig_mean, x = 'decade', y = 'score',color = 'identifier_name',\n",
    "              width = 1200, \n",
    "              height = 600, \n",
    "              title = region_name, \n",
    "              template = 'simple_white')  \n",
    "                   #line_shape='spline')\n",
    "\n",
    "    fig2.update_traces(line=dict(width=3))\n",
    "    fig3 = go.Figure(data=fig.data + fig2.data)\n",
    "    fig3.update_layout(xaxis_title='', yaxis_title='Number of Individuals',  \n",
    "                       template = 'simple_white',  \n",
    "                       width = 1200, \n",
    "                       height = 600,\n",
    "                      title = region_name)\n",
    "\n",
    "# Update the layout with the category order\n",
    "\n",
    "\n",
    "    #ig3.for_each_trace(lambda t: t.update(name=legend_order.index(t.name)))\n",
    "    fig3.update_layout(legend=dict(title=dict(text='Identifiers')))\n",
    "    #fig3.update_layout(category_orders={'Identifiers': top_ids})\n",
    "    fig3.update_layout(xaxis=dict(dtick=100))\n",
    "\n",
    "    return fig3"
   ]
  },
  {
   "cell_type": "code",
   "execution_count": null,
   "id": "0ecd5250-5604-42cf-8091-3168e3f45b65",
   "metadata": {
    "tags": []
   },
   "outputs": [],
   "source": []
  },
  {
   "cell_type": "code",
   "execution_count": 29,
   "id": "b31a770c-9700-42cd-9f39-d41114982a89",
   "metadata": {
    "tags": []
   },
   "outputs": [
    {
     "data": {
      "application/vnd.plotly.v1+json": {
       "config": {
        "plotlyServerURL": "https://plot.ly"
       },
       "data": [
        {
         "hovertemplate": "identifier_name=VIAF ID<br>decade=%{x}<br>score=%{y}<extra></extra>",
         "legendgroup": "VIAF ID",
         "line": {
          "color": "#1F77B4",
          "dash": "solid"
         },
         "marker": {
          "symbol": "circle"
         },
         "mode": "lines",
         "name": "VIAF ID",
         "opacity": 0.25,
         "showlegend": true,
         "type": "scattergl",
         "x": [
          200,
          210,
          220,
          230,
          240,
          250,
          260,
          280,
          290,
          310,
          320,
          330,
          340,
          380,
          390,
          400,
          410,
          430,
          440,
          470,
          480,
          510,
          530,
          550,
          560,
          570,
          580,
          590,
          600,
          610,
          620,
          630,
          640,
          650,
          660,
          670,
          680,
          690,
          700,
          710,
          720,
          730,
          740,
          750,
          760,
          770,
          780,
          790,
          800,
          810,
          820,
          830,
          840,
          850,
          860,
          870,
          880,
          890,
          900,
          910,
          920,
          930,
          940,
          950,
          960,
          970,
          980,
          990,
          1000,
          1010,
          1020,
          1030,
          1040,
          1050,
          1060,
          1070,
          1080,
          1090,
          1100,
          1110,
          1120,
          1130,
          1140,
          1150,
          1160,
          1170,
          1180,
          1190,
          1200,
          1210,
          1220,
          1230,
          1240,
          1250,
          1260,
          1270,
          1280,
          1290,
          1300,
          1310,
          1320,
          1330,
          1340,
          1350,
          1360,
          1370,
          1380,
          1390,
          1400,
          1410,
          1420,
          1430,
          1440,
          1450,
          1460,
          1470,
          1480,
          1490,
          1500,
          1510,
          1520,
          1530,
          1540,
          1550,
          1560,
          1570,
          1580,
          1590,
          1600,
          1610,
          1620,
          1630,
          1640,
          1650,
          1660,
          1670,
          1680,
          1690,
          1700,
          1710,
          1720,
          1730,
          1740,
          1750,
          1760,
          1770,
          1780,
          1790,
          1800
         ],
         "xaxis": "x",
         "y": [
          2,
          2,
          1,
          13,
          3,
          1,
          1,
          5,
          1,
          1,
          1,
          6,
          3,
          4,
          3,
          2,
          1,
          7,
          1,
          4,
          5,
          1,
          3,
          1,
          2,
          4,
          4,
          1,
          4,
          2,
          1,
          11,
          1,
          2,
          3,
          7,
          4,
          5,
          2,
          4,
          2,
          16,
          8,
          4,
          7,
          8,
          12,
          5,
          9,
          14,
          9,
          13,
          7,
          12,
          8,
          10,
          8,
          8,
          6,
          8,
          11,
          18,
          8,
          11,
          5,
          15,
          19,
          4,
          13,
          14,
          8,
          28,
          8,
          7,
          9,
          4,
          12,
          7,
          10,
          8,
          9,
          20,
          9,
          13,
          10,
          14,
          16,
          16,
          11,
          10,
          23,
          31,
          20,
          15,
          12,
          11,
          13,
          9,
          10,
          10,
          11,
          17,
          9,
          5,
          12,
          8,
          6,
          6,
          10,
          7,
          9,
          11,
          9,
          1,
          7,
          10,
          11,
          6,
          5,
          6,
          7,
          9,
          8,
          4,
          8,
          1,
          9,
          7,
          13,
          8,
          4,
          16,
          3,
          5,
          9,
          7,
          5,
          6,
          3,
          3,
          8,
          7,
          8,
          7,
          5,
          10,
          6,
          6,
          9
         ],
         "yaxis": "y"
        },
        {
         "hovertemplate": "identifier_name=Library of Congress authority ID (United States of America)<br>decade=%{x}<br>score=%{y}<extra></extra>",
         "legendgroup": "Library of Congress authority ID (United States of America)",
         "line": {
          "color": "#FF7F0E",
          "dash": "solid"
         },
         "marker": {
          "symbol": "circle"
         },
         "mode": "lines",
         "name": "Library of Congress authority ID (United States of America)",
         "opacity": 0.25,
         "showlegend": true,
         "type": "scattergl",
         "x": [
          200,
          210,
          220,
          230,
          240,
          250,
          260,
          280,
          290,
          310,
          320,
          330,
          340,
          380,
          390,
          400,
          410,
          430,
          440,
          470,
          480,
          510,
          530,
          550,
          560,
          570,
          580,
          590,
          600,
          610,
          630,
          640,
          650,
          660,
          670,
          680,
          690,
          700,
          710,
          720,
          730,
          740,
          750,
          760,
          770,
          780,
          790,
          800,
          810,
          820,
          830,
          840,
          850,
          860,
          870,
          880,
          890,
          900,
          910,
          920,
          930,
          940,
          950,
          960,
          970,
          980,
          990,
          1000,
          1010,
          1020,
          1030,
          1040,
          1050,
          1060,
          1070,
          1080,
          1090,
          1100,
          1110,
          1120,
          1130,
          1140,
          1150,
          1160,
          1170,
          1180,
          1190,
          1200,
          1210,
          1220,
          1230,
          1240,
          1250,
          1260,
          1270,
          1280,
          1290,
          1300,
          1310,
          1320,
          1330,
          1340,
          1350,
          1360,
          1370,
          1380,
          1390,
          1400,
          1410,
          1420,
          1430,
          1440,
          1450,
          1460,
          1470,
          1480,
          1490,
          1500,
          1510,
          1520,
          1530,
          1540,
          1550,
          1560,
          1580,
          1590,
          1600,
          1610,
          1620,
          1630,
          1640,
          1650,
          1660,
          1670,
          1680,
          1690,
          1700,
          1710,
          1720,
          1730,
          1740,
          1750,
          1760,
          1770,
          1780,
          1790,
          1800
         ],
         "xaxis": "x",
         "y": [
          2,
          2,
          1,
          8,
          3,
          1,
          1,
          5,
          1,
          1,
          1,
          6,
          3,
          2,
          3,
          2,
          1,
          5,
          1,
          4,
          5,
          1,
          2,
          1,
          2,
          4,
          3,
          1,
          4,
          2,
          7,
          1,
          2,
          2,
          7,
          4,
          5,
          2,
          4,
          1,
          15,
          7,
          4,
          6,
          6,
          10,
          4,
          7,
          14,
          7,
          10,
          7,
          11,
          8,
          10,
          7,
          8,
          6,
          8,
          8,
          16,
          8,
          11,
          5,
          14,
          15,
          3,
          12,
          12,
          7,
          22,
          7,
          6,
          8,
          4,
          10,
          7,
          9,
          8,
          8,
          17,
          9,
          11,
          10,
          12,
          15,
          13,
          9,
          9,
          23,
          30,
          20,
          13,
          12,
          9,
          12,
          8,
          10,
          9,
          9,
          16,
          6,
          5,
          12,
          7,
          6,
          5,
          9,
          6,
          8,
          11,
          7,
          1,
          6,
          9,
          7,
          6,
          4,
          5,
          6,
          4,
          5,
          3,
          8,
          7,
          5,
          11,
          7,
          3,
          10,
          3,
          4,
          7,
          6,
          3,
          5,
          3,
          2,
          7,
          5,
          7,
          6,
          4,
          6,
          6,
          6,
          6
         ],
         "yaxis": "y"
        },
        {
         "hovertemplate": "identifier_name=GND ID (Germany)<br>decade=%{x}<br>score=%{y}<extra></extra>",
         "legendgroup": "GND ID (Germany)",
         "line": {
          "color": "#2CA02C",
          "dash": "solid"
         },
         "marker": {
          "symbol": "circle"
         },
         "mode": "lines",
         "name": "GND ID (Germany)",
         "opacity": 0.25,
         "showlegend": true,
         "type": "scattergl",
         "x": [
          200,
          210,
          220,
          230,
          240,
          250,
          260,
          280,
          290,
          310,
          320,
          330,
          340,
          380,
          390,
          400,
          410,
          430,
          440,
          470,
          480,
          510,
          530,
          550,
          560,
          570,
          580,
          590,
          600,
          610,
          630,
          650,
          660,
          670,
          680,
          690,
          700,
          710,
          720,
          730,
          740,
          750,
          760,
          770,
          780,
          790,
          800,
          810,
          820,
          830,
          840,
          850,
          860,
          870,
          880,
          890,
          900,
          910,
          920,
          930,
          940,
          950,
          960,
          970,
          980,
          990,
          1000,
          1010,
          1020,
          1030,
          1040,
          1050,
          1060,
          1070,
          1080,
          1090,
          1100,
          1110,
          1120,
          1130,
          1140,
          1150,
          1160,
          1170,
          1180,
          1190,
          1200,
          1210,
          1220,
          1230,
          1240,
          1250,
          1260,
          1270,
          1280,
          1290,
          1300,
          1310,
          1320,
          1330,
          1340,
          1350,
          1360,
          1370,
          1380,
          1390,
          1400,
          1410,
          1420,
          1430,
          1440,
          1460,
          1470,
          1480,
          1490,
          1500,
          1510,
          1520,
          1530,
          1540,
          1550,
          1560,
          1570,
          1580,
          1590,
          1600,
          1610,
          1620,
          1630,
          1640,
          1650,
          1660,
          1670,
          1680,
          1690,
          1700,
          1710,
          1720,
          1730,
          1740,
          1750,
          1760,
          1770,
          1780,
          1790,
          1800
         ],
         "xaxis": "x",
         "y": [
          2,
          2,
          1,
          12,
          3,
          1,
          1,
          5,
          1,
          1,
          1,
          6,
          3,
          4,
          3,
          2,
          1,
          6,
          1,
          4,
          5,
          1,
          2,
          1,
          2,
          2,
          2,
          1,
          2,
          1,
          9,
          2,
          1,
          6,
          4,
          4,
          1,
          4,
          1,
          11,
          5,
          4,
          5,
          5,
          9,
          5,
          8,
          13,
          6,
          8,
          6,
          11,
          8,
          7,
          7,
          6,
          5,
          8,
          9,
          13,
          7,
          8,
          4,
          14,
          12,
          3,
          13,
          12,
          8,
          19,
          8,
          5,
          6,
          4,
          8,
          6,
          8,
          7,
          8,
          14,
          8,
          10,
          10,
          9,
          14,
          12,
          10,
          8,
          18,
          24,
          16,
          10,
          10,
          8,
          10,
          6,
          8,
          7,
          9,
          11,
          5,
          5,
          11,
          5,
          5,
          2,
          8,
          3,
          6,
          10,
          7,
          5,
          10,
          8,
          4,
          3,
          3,
          6,
          5,
          6,
          3,
          6,
          1,
          7,
          4,
          4,
          7,
          2,
          8,
          2,
          3,
          4,
          3,
          3,
          5,
          1,
          3,
          3,
          2,
          7,
          5,
          4,
          4,
          4,
          4,
          8
         ],
         "yaxis": "y"
        },
        {
         "hovertemplate": "identifier_name=National Library of Israel J9U ID (Israel)<br>decade=%{x}<br>score=%{y}<extra></extra>",
         "legendgroup": "National Library of Israel J9U ID (Israel)",
         "line": {
          "color": "#D62728",
          "dash": "solid"
         },
         "marker": {
          "symbol": "circle"
         },
         "mode": "lines",
         "name": "National Library of Israel J9U ID (Israel)",
         "opacity": 0.25,
         "showlegend": true,
         "type": "scattergl",
         "x": [
          200,
          210,
          220,
          230,
          240,
          250,
          260,
          280,
          290,
          310,
          320,
          330,
          340,
          380,
          390,
          400,
          410,
          430,
          440,
          470,
          480,
          510,
          530,
          550,
          560,
          570,
          580,
          590,
          600,
          610,
          630,
          650,
          660,
          670,
          680,
          690,
          700,
          710,
          720,
          730,
          740,
          750,
          760,
          770,
          780,
          790,
          800,
          810,
          820,
          830,
          840,
          850,
          860,
          870,
          880,
          890,
          900,
          910,
          920,
          930,
          940,
          950,
          960,
          970,
          980,
          990,
          1000,
          1010,
          1020,
          1030,
          1040,
          1050,
          1060,
          1070,
          1080,
          1090,
          1100,
          1110,
          1120,
          1130,
          1140,
          1150,
          1160,
          1170,
          1180,
          1190,
          1200,
          1210,
          1220,
          1230,
          1240,
          1250,
          1260,
          1270,
          1280,
          1290,
          1300,
          1310,
          1320,
          1330,
          1340,
          1350,
          1360,
          1370,
          1380,
          1390,
          1400,
          1410,
          1420,
          1430,
          1440,
          1450,
          1460,
          1470,
          1480,
          1490,
          1500,
          1510,
          1520,
          1530,
          1540,
          1550,
          1560,
          1580,
          1590,
          1600,
          1610,
          1620,
          1630,
          1640,
          1650,
          1660,
          1670,
          1680,
          1690,
          1700,
          1710,
          1720,
          1730,
          1740,
          1750,
          1760,
          1770,
          1780,
          1790,
          1800
         ],
         "xaxis": "x",
         "y": [
          2,
          1,
          1,
          7,
          3,
          1,
          1,
          3,
          1,
          1,
          1,
          6,
          3,
          2,
          2,
          2,
          1,
          4,
          1,
          3,
          5,
          1,
          2,
          1,
          2,
          4,
          1,
          1,
          3,
          2,
          6,
          2,
          2,
          6,
          3,
          5,
          2,
          4,
          2,
          14,
          6,
          3,
          6,
          6,
          8,
          4,
          5,
          13,
          4,
          9,
          5,
          9,
          8,
          8,
          7,
          8,
          5,
          7,
          8,
          13,
          6,
          10,
          5,
          14,
          14,
          2,
          11,
          11,
          7,
          19,
          7,
          6,
          7,
          4,
          8,
          7,
          9,
          7,
          7,
          12,
          9,
          10,
          10,
          9,
          13,
          14,
          9,
          9,
          20,
          22,
          18,
          11,
          10,
          9,
          10,
          8,
          9,
          8,
          9,
          15,
          7,
          5,
          12,
          6,
          4,
          3,
          7,
          5,
          7,
          7,
          7,
          1,
          7,
          8,
          6,
          5,
          2,
          2,
          6,
          3,
          5,
          3,
          8,
          7,
          5,
          7,
          6,
          3,
          8,
          2,
          4,
          6,
          6,
          3,
          4,
          2,
          1,
          5,
          2,
          3,
          2,
          4,
          3,
          4,
          5,
          6
         ],
         "yaxis": "y"
        },
        {
         "hovertemplate": "identifier_name=Nationale Thesaurus voor Auteurs ID (Netherlands)<br>decade=%{x}<br>score=%{y}<extra></extra>",
         "legendgroup": "Nationale Thesaurus voor Auteurs ID (Netherlands)",
         "line": {
          "color": "#9467BD",
          "dash": "solid"
         },
         "marker": {
          "symbol": "circle"
         },
         "mode": "lines",
         "name": "Nationale Thesaurus voor Auteurs ID (Netherlands)",
         "opacity": 0.25,
         "showlegend": true,
         "type": "scattergl",
         "x": [
          200,
          210,
          220,
          230,
          240,
          250,
          260,
          280,
          290,
          310,
          320,
          330,
          340,
          380,
          390,
          400,
          410,
          430,
          440,
          470,
          480,
          510,
          530,
          560,
          570,
          580,
          590,
          600,
          610,
          630,
          650,
          660,
          670,
          680,
          690,
          710,
          730,
          740,
          750,
          760,
          770,
          780,
          790,
          800,
          810,
          820,
          830,
          840,
          850,
          860,
          870,
          880,
          890,
          900,
          910,
          920,
          930,
          940,
          950,
          960,
          970,
          980,
          990,
          1000,
          1010,
          1020,
          1030,
          1040,
          1050,
          1060,
          1070,
          1080,
          1090,
          1100,
          1110,
          1120,
          1130,
          1140,
          1150,
          1160,
          1170,
          1180,
          1190,
          1200,
          1210,
          1220,
          1230,
          1240,
          1250,
          1260,
          1270,
          1280,
          1290,
          1300,
          1310,
          1320,
          1330,
          1340,
          1350,
          1360,
          1370,
          1380,
          1390,
          1400,
          1410,
          1420,
          1430,
          1440,
          1450,
          1460,
          1470,
          1480,
          1490,
          1500,
          1510,
          1520,
          1530,
          1540,
          1550,
          1560,
          1570,
          1580,
          1590,
          1600,
          1610,
          1620,
          1630,
          1640,
          1650,
          1660,
          1670,
          1680,
          1690,
          1700,
          1710,
          1720,
          1730,
          1740,
          1750,
          1760,
          1770,
          1780,
          1790,
          1800
         ],
         "xaxis": "x",
         "y": [
          1,
          2,
          1,
          8,
          2,
          1,
          1,
          5,
          1,
          1,
          1,
          5,
          3,
          1,
          2,
          2,
          1,
          4,
          1,
          4,
          3,
          1,
          1,
          1,
          3,
          2,
          1,
          1,
          1,
          3,
          1,
          1,
          4,
          4,
          3,
          2,
          6,
          6,
          3,
          2,
          8,
          8,
          3,
          6,
          8,
          4,
          5,
          6,
          8,
          7,
          10,
          8,
          5,
          4,
          7,
          6,
          12,
          7,
          9,
          4,
          12,
          12,
          2,
          12,
          11,
          7,
          20,
          5,
          5,
          7,
          3,
          8,
          7,
          5,
          5,
          7,
          9,
          7,
          10,
          8,
          11,
          9,
          11,
          6,
          5,
          10,
          16,
          16,
          9,
          9,
          8,
          7,
          7,
          9,
          6,
          8,
          10,
          6,
          1,
          11,
          6,
          5,
          3,
          7,
          2,
          5,
          7,
          5,
          1,
          6,
          6,
          8,
          3,
          2,
          3,
          3,
          1,
          2,
          3,
          4,
          1,
          6,
          6,
          3,
          5,
          1,
          4,
          2,
          2,
          4,
          2,
          2,
          5,
          1,
          1,
          4,
          1,
          5,
          3,
          2,
          1,
          4,
          4,
          3
         ],
         "yaxis": "y"
        },
        {
         "hovertemplate": "identifier_name=IdRef ID (France)<br>decade=%{x}<br>score=%{y}<extra></extra>",
         "legendgroup": "IdRef ID (France)",
         "line": {
          "color": "#8C564B",
          "dash": "solid"
         },
         "marker": {
          "symbol": "circle"
         },
         "mode": "lines",
         "name": "IdRef ID (France)",
         "opacity": 0.25,
         "showlegend": true,
         "type": "scattergl",
         "x": [
          200,
          210,
          220,
          230,
          240,
          250,
          260,
          280,
          290,
          310,
          320,
          330,
          340,
          380,
          390,
          400,
          430,
          440,
          470,
          480,
          510,
          530,
          560,
          570,
          580,
          600,
          630,
          650,
          660,
          670,
          680,
          690,
          710,
          720,
          730,
          740,
          750,
          760,
          770,
          780,
          790,
          800,
          810,
          820,
          830,
          840,
          850,
          860,
          870,
          880,
          890,
          900,
          910,
          920,
          930,
          940,
          950,
          960,
          970,
          980,
          990,
          1000,
          1010,
          1020,
          1030,
          1040,
          1050,
          1060,
          1070,
          1080,
          1090,
          1100,
          1110,
          1120,
          1130,
          1140,
          1150,
          1160,
          1170,
          1180,
          1190,
          1200,
          1210,
          1220,
          1230,
          1240,
          1250,
          1260,
          1270,
          1280,
          1290,
          1300,
          1310,
          1320,
          1330,
          1340,
          1350,
          1360,
          1370,
          1380,
          1390,
          1400,
          1410,
          1420,
          1430,
          1440,
          1460,
          1470,
          1480,
          1490,
          1500,
          1510,
          1520,
          1530,
          1540,
          1550,
          1560,
          1580,
          1590,
          1600,
          1610,
          1620,
          1630,
          1640,
          1650,
          1660,
          1670,
          1680,
          1690,
          1700,
          1710,
          1720,
          1730,
          1740,
          1750,
          1760,
          1770,
          1780,
          1790,
          1800
         ],
         "xaxis": "x",
         "y": [
          2,
          2,
          1,
          10,
          2,
          1,
          1,
          5,
          1,
          1,
          1,
          5,
          3,
          2,
          3,
          2,
          6,
          1,
          3,
          4,
          1,
          1,
          2,
          1,
          2,
          2,
          5,
          2,
          1,
          4,
          3,
          5,
          2,
          1,
          7,
          6,
          2,
          3,
          5,
          5,
          3,
          3,
          10,
          3,
          4,
          5,
          10,
          6,
          8,
          6,
          6,
          4,
          7,
          6,
          12,
          5,
          8,
          4,
          11,
          11,
          3,
          12,
          12,
          5,
          20,
          6,
          5,
          6,
          2,
          6,
          5,
          6,
          5,
          6,
          14,
          7,
          8,
          8,
          11,
          13,
          12,
          6,
          7,
          13,
          22,
          13,
          8,
          7,
          9,
          5,
          7,
          7,
          4,
          10,
          10,
          3,
          4,
          8,
          5,
          3,
          3,
          8,
          3,
          4,
          6,
          6,
          3,
          7,
          6,
          4,
          1,
          4,
          5,
          2,
          3,
          2,
          6,
          4,
          4,
          6,
          6,
          1,
          3,
          3,
          1,
          4,
          3,
          1,
          5,
          1,
          2,
          3,
          4,
          4,
          5,
          2,
          3,
          2,
          5,
          4
         ],
         "yaxis": "y"
        },
        {
         "hovertemplate": "identifier_name=SELIBR ID (Sweden)<br>decade=%{x}<br>score=%{y}<extra></extra>",
         "legendgroup": "SELIBR ID (Sweden)",
         "line": {
          "color": "#E377C2",
          "dash": "solid"
         },
         "marker": {
          "symbol": "circle"
         },
         "mode": "lines",
         "name": "SELIBR ID (Sweden)",
         "opacity": 0.25,
         "showlegend": true,
         "type": "scattergl",
         "x": [
          200,
          210,
          220,
          230,
          240,
          260,
          280,
          290,
          310,
          320,
          330,
          340,
          380,
          390,
          400,
          410,
          430,
          470,
          480,
          510,
          530,
          570,
          580,
          600,
          610,
          630,
          650,
          660,
          670,
          680,
          690,
          710,
          730,
          740,
          750,
          760,
          770,
          780,
          790,
          800,
          810,
          820,
          830,
          840,
          850,
          860,
          870,
          880,
          890,
          900,
          910,
          920,
          930,
          940,
          950,
          960,
          970,
          980,
          990,
          1000,
          1010,
          1020,
          1030,
          1040,
          1050,
          1060,
          1070,
          1080,
          1090,
          1100,
          1110,
          1120,
          1130,
          1140,
          1150,
          1160,
          1170,
          1180,
          1190,
          1200,
          1210,
          1220,
          1230,
          1240,
          1250,
          1260,
          1270,
          1280,
          1290,
          1300,
          1310,
          1320,
          1330,
          1340,
          1350,
          1360,
          1370,
          1380,
          1390,
          1400,
          1420,
          1430,
          1440,
          1450,
          1460,
          1470,
          1480,
          1490,
          1510,
          1520,
          1530,
          1540,
          1560,
          1580,
          1590,
          1600,
          1610,
          1620,
          1630,
          1640,
          1650,
          1660,
          1670,
          1680,
          1690,
          1700,
          1710,
          1720,
          1740,
          1750,
          1760,
          1770,
          1780,
          1790
         ],
         "xaxis": "x",
         "y": [
          1,
          1,
          1,
          5,
          2,
          1,
          3,
          1,
          1,
          1,
          5,
          2,
          1,
          1,
          2,
          1,
          1,
          4,
          1,
          1,
          2,
          3,
          2,
          2,
          1,
          5,
          1,
          2,
          4,
          2,
          4,
          3,
          9,
          4,
          3,
          2,
          5,
          4,
          2,
          2,
          9,
          3,
          5,
          4,
          8,
          6,
          6,
          4,
          5,
          4,
          5,
          5,
          11,
          5,
          6,
          4,
          9,
          7,
          2,
          11,
          5,
          6,
          10,
          3,
          3,
          4,
          2,
          5,
          6,
          4,
          4,
          6,
          10,
          6,
          5,
          5,
          6,
          10,
          10,
          6,
          3,
          9,
          11,
          11,
          7,
          7,
          9,
          5,
          5,
          7,
          6,
          8,
          9,
          3,
          5,
          6,
          2,
          4,
          2,
          4,
          4,
          4,
          4,
          1,
          3,
          4,
          5,
          2,
          1,
          3,
          1,
          3,
          2,
          3,
          1,
          4,
          3,
          1,
          3,
          1,
          2,
          1,
          2,
          1,
          1,
          2,
          1,
          1,
          2,
          1,
          2,
          1,
          2,
          4
         ],
         "yaxis": "y"
        },
        {
         "hovertemplate": "identifier_name=Encyclopædia Britannica Online ID (United Kingdom)<br>decade=%{x}<br>score=%{y}<extra></extra>",
         "legendgroup": "Encyclopædia Britannica Online ID (United Kingdom)",
         "line": {
          "color": "#7F7F7F",
          "dash": "solid"
         },
         "marker": {
          "symbol": "circle"
         },
         "mode": "lines",
         "name": "Encyclopædia Britannica Online ID (United Kingdom)",
         "opacity": 0.25,
         "showlegend": true,
         "type": "scattergl",
         "x": [
          200,
          210,
          220,
          230,
          240,
          250,
          260,
          280,
          290,
          310,
          320,
          330,
          340,
          380,
          390,
          400,
          430,
          440,
          470,
          480,
          510,
          530,
          550,
          560,
          570,
          580,
          590,
          600,
          610,
          630,
          640,
          650,
          660,
          670,
          680,
          690,
          710,
          720,
          730,
          740,
          750,
          760,
          770,
          780,
          790,
          800,
          810,
          820,
          830,
          840,
          850,
          860,
          870,
          880,
          890,
          900,
          910,
          920,
          930,
          940,
          950,
          960,
          970,
          980,
          1000,
          1010,
          1020,
          1030,
          1040,
          1050,
          1060,
          1070,
          1080,
          1090,
          1100,
          1110,
          1120,
          1130,
          1140,
          1150,
          1160,
          1170,
          1180,
          1190,
          1200,
          1210,
          1220,
          1230,
          1240,
          1260,
          1270,
          1280,
          1290,
          1300,
          1310,
          1320,
          1330,
          1340,
          1360,
          1370,
          1390,
          1400,
          1410,
          1420,
          1430,
          1440,
          1460,
          1470,
          1480,
          1490,
          1500,
          1510,
          1520,
          1530,
          1540,
          1550,
          1560,
          1580,
          1590,
          1600,
          1610,
          1620,
          1630,
          1640,
          1670,
          1690,
          1750,
          1770,
          1780,
          1790
         ],
         "xaxis": "x",
         "y": [
          2,
          2,
          1,
          8,
          2,
          1,
          1,
          2,
          1,
          1,
          1,
          3,
          3,
          3,
          2,
          2,
          2,
          1,
          2,
          3,
          1,
          2,
          1,
          2,
          2,
          1,
          1,
          3,
          1,
          6,
          1,
          2,
          1,
          4,
          2,
          1,
          1,
          1,
          12,
          4,
          3,
          3,
          3,
          4,
          3,
          3,
          5,
          3,
          2,
          4,
          4,
          6,
          4,
          3,
          4,
          2,
          2,
          3,
          5,
          3,
          5,
          2,
          5,
          7,
          7,
          3,
          4,
          9,
          4,
          3,
          2,
          1,
          4,
          3,
          2,
          4,
          2,
          3,
          3,
          5,
          4,
          3,
          6,
          3,
          2,
          2,
          3,
          4,
          6,
          4,
          2,
          4,
          1,
          2,
          4,
          2,
          6,
          2,
          5,
          3,
          1,
          2,
          1,
          3,
          4,
          2,
          2,
          2,
          3,
          3,
          2,
          2,
          4,
          1,
          1,
          1,
          2,
          3,
          2,
          2,
          1,
          1,
          1,
          1,
          1,
          1,
          1,
          1,
          1,
          1
         ],
         "yaxis": "y"
        },
        {
         "hovertemplate": "identifier_name=TDV İslam Ansiklopedisi ID (Turkey)<br>decade=%{x}<br>score=%{y}<extra></extra>",
         "legendgroup": "TDV İslam Ansiklopedisi ID (Turkey)",
         "line": {
          "color": "#BCBD22",
          "dash": "solid"
         },
         "marker": {
          "symbol": "circle"
         },
         "mode": "lines",
         "name": "TDV İslam Ansiklopedisi ID (Turkey)",
         "opacity": 0.25,
         "showlegend": true,
         "type": "scattergl",
         "x": [
          240,
          530,
          560,
          570,
          590,
          600,
          610,
          630,
          640,
          650,
          660,
          670,
          680,
          690,
          700,
          710,
          720,
          730,
          740,
          750,
          760,
          770,
          780,
          790,
          800,
          810,
          820,
          830,
          840,
          850,
          860,
          870,
          880,
          890,
          900,
          910,
          920,
          930,
          950,
          960,
          970,
          980,
          990,
          1000,
          1010,
          1020,
          1030,
          1040,
          1050,
          1060,
          1070,
          1080,
          1090,
          1100,
          1110,
          1120,
          1130,
          1140,
          1150,
          1160,
          1170,
          1180,
          1190,
          1200,
          1210,
          1220,
          1230,
          1240,
          1250,
          1260,
          1270,
          1280,
          1290,
          1300,
          1310,
          1320,
          1330,
          1340,
          1350,
          1360,
          1370,
          1380,
          1400,
          1410,
          1430,
          1440,
          1450,
          1460,
          1470,
          1480,
          1490,
          1500,
          1510,
          1520,
          1530,
          1540,
          1550,
          1560,
          1580,
          1590,
          1600,
          1610,
          1620,
          1630,
          1640,
          1670,
          1680,
          1690,
          1710,
          1720,
          1740,
          1750,
          1790,
          1800
         ],
         "xaxis": "x",
         "y": [
          1,
          1,
          1,
          2,
          1,
          1,
          1,
          5,
          2,
          2,
          1,
          5,
          3,
          2,
          1,
          4,
          2,
          11,
          2,
          2,
          3,
          4,
          6,
          4,
          3,
          7,
          5,
          4,
          4,
          8,
          6,
          5,
          5,
          3,
          4,
          2,
          5,
          7,
          5,
          2,
          5,
          8,
          1,
          8,
          1,
          4,
          5,
          4,
          3,
          3,
          1,
          3,
          3,
          3,
          4,
          4,
          4,
          2,
          4,
          2,
          4,
          3,
          6,
          4,
          2,
          3,
          9,
          7,
          5,
          4,
          2,
          2,
          5,
          7,
          4,
          1,
          3,
          2,
          2,
          5,
          1,
          2,
          4,
          1,
          4,
          4,
          1,
          2,
          3,
          1,
          1,
          1,
          2,
          3,
          2,
          2,
          2,
          3,
          2,
          2,
          3,
          2,
          2,
          1,
          1,
          1,
          1,
          1,
          1,
          2,
          1,
          3,
          1,
          1
         ],
         "yaxis": "y"
        },
        {
         "hovertemplate": "identifier_name=EGAXA ID (Egypt)<br>decade=%{x}<br>score=%{y}<extra></extra>",
         "legendgroup": "EGAXA ID (Egypt)",
         "line": {
          "color": "#17BECF",
          "dash": "solid"
         },
         "marker": {
          "symbol": "circle"
         },
         "mode": "lines",
         "name": "EGAXA ID (Egypt)",
         "opacity": 0.25,
         "showlegend": true,
         "type": "scattergl",
         "x": [
          220,
          230,
          240,
          310,
          330,
          340,
          380,
          480,
          550,
          570,
          600,
          610,
          630,
          650,
          660,
          670,
          680,
          690,
          710,
          730,
          740,
          750,
          760,
          770,
          780,
          790,
          800,
          810,
          820,
          830,
          840,
          850,
          860,
          870,
          880,
          890,
          900,
          910,
          920,
          930,
          950,
          960,
          970,
          980,
          1000,
          1010,
          1020,
          1030,
          1040,
          1060,
          1070,
          1080,
          1090,
          1100,
          1110,
          1130,
          1140,
          1150,
          1160,
          1170,
          1180,
          1190,
          1200,
          1210,
          1220,
          1230,
          1240,
          1250,
          1260,
          1270,
          1280,
          1290,
          1300,
          1310,
          1320,
          1330,
          1340,
          1350,
          1360,
          1370,
          1380,
          1390,
          1400,
          1410,
          1420,
          1430,
          1440,
          1460,
          1470,
          1480,
          1490,
          1510,
          1520,
          1540,
          1560,
          1580,
          1590,
          1600,
          1610,
          1630,
          1640,
          1650,
          1660,
          1670,
          1680,
          1690,
          1700,
          1710,
          1720,
          1730,
          1750,
          1760,
          1770,
          1780,
          1790,
          1800
         ],
         "xaxis": "x",
         "y": [
          1,
          1,
          1,
          1,
          1,
          1,
          1,
          1,
          1,
          1,
          2,
          1,
          2,
          2,
          1,
          1,
          4,
          4,
          1,
          5,
          3,
          3,
          1,
          3,
          3,
          2,
          1,
          7,
          2,
          4,
          2,
          7,
          3,
          5,
          3,
          3,
          4,
          3,
          4,
          6,
          4,
          2,
          7,
          4,
          6,
          5,
          3,
          8,
          3,
          3,
          3,
          2,
          1,
          4,
          1,
          7,
          5,
          5,
          4,
          7,
          7,
          5,
          4,
          3,
          9,
          10,
          8,
          4,
          4,
          4,
          2,
          1,
          4,
          5,
          6,
          6,
          2,
          1,
          5,
          3,
          1,
          1,
          5,
          2,
          5,
          4,
          4,
          2,
          6,
          1,
          3,
          1,
          2,
          1,
          2,
          1,
          1,
          1,
          2,
          1,
          1,
          2,
          3,
          1,
          1,
          2,
          1,
          1,
          3,
          2,
          1,
          1,
          1,
          4,
          1,
          1
         ],
         "yaxis": "y"
        },
        {
         "hovertemplate": "identifier_name=average<br>decade=%{x}<br>score=%{y}<extra></extra>",
         "legendgroup": "average",
         "line": {
          "color": "#1F77B4",
          "dash": "solid",
          "width": 3
         },
         "marker": {
          "symbol": "circle"
         },
         "mode": "lines",
         "name": "average",
         "orientation": "v",
         "showlegend": true,
         "type": "scatter",
         "x": [
          200,
          210,
          220,
          230,
          240,
          250,
          260,
          280,
          290,
          310,
          320,
          330,
          340,
          380,
          390,
          400,
          410,
          430,
          440,
          470,
          480,
          510,
          530,
          550,
          560,
          570,
          580,
          590,
          600,
          610,
          620,
          630,
          640,
          650,
          660,
          670,
          680,
          690,
          700,
          710,
          720,
          730,
          740,
          750,
          760,
          770,
          780,
          790,
          800,
          810,
          820,
          830,
          840,
          850,
          860,
          870,
          880,
          890,
          900,
          910,
          920,
          930,
          940,
          950,
          960,
          970,
          980,
          990,
          1000,
          1010,
          1020,
          1030,
          1040,
          1050,
          1060,
          1070,
          1080,
          1090,
          1100,
          1110,
          1120,
          1130,
          1140,
          1150,
          1160,
          1170,
          1180,
          1190,
          1200,
          1210,
          1220,
          1230,
          1240,
          1250,
          1260,
          1270,
          1280,
          1290,
          1300,
          1310,
          1320,
          1330,
          1340,
          1350,
          1360,
          1370,
          1380,
          1390,
          1400,
          1410,
          1420,
          1430,
          1440,
          1450,
          1460,
          1470,
          1480,
          1490,
          1500,
          1510,
          1520,
          1530,
          1540,
          1550,
          1560,
          1570,
          1580,
          1590,
          1600,
          1610,
          1620,
          1630,
          1640,
          1650,
          1660,
          1670,
          1680,
          1690,
          1700,
          1710,
          1720,
          1730,
          1740,
          1750,
          1760,
          1770,
          1780,
          1790,
          1800
         ],
         "xaxis": "x",
         "y": [
          1.75,
          1.75,
          1,
          8,
          2.2,
          1,
          1,
          4.125,
          1,
          1,
          1,
          4.777777777777778,
          2.6666666666666665,
          2.2222222222222223,
          2.375,
          2,
          1,
          4.375,
          1,
          3.5,
          3.5555555555555554,
          1,
          1.7777777777777777,
          1,
          1.75,
          2.6,
          2.125,
          1,
          2.4,
          1.3333333333333333,
          1,
          5.9,
          1.25,
          1.8,
          1.5,
          4.8,
          3.3,
          3.8,
          1.6,
          2.9,
          1.4285714285714286,
          10.6,
          5.1,
          3.1,
          3.8,
          5.3,
          6.9,
          3.5,
          4.7,
          10,
          4.6,
          6.4,
          5,
          8.8,
          6.6,
          7.3,
          5.8,
          5.6,
          4.4,
          5.7,
          6.5,
          11.3,
          6.125,
          7.7,
          3.7,
          10.6,
          10.9,
          2.5,
          10.5,
          8.6,
          5.9,
          16,
          5.5,
          4.777777777777778,
          5.5,
          2.8,
          6.6,
          5.2,
          6,
          5.3,
          6.333333333333333,
          11,
          6.5,
          8.1,
          7.1,
          8.6,
          10.6,
          10.2,
          6.7,
          5.8,
          13.1,
          17.9,
          13.5,
          9.11111111111111,
          7.9,
          7.1,
          7,
          5.7,
          7.3,
          6.3,
          7.3,
          10.3,
          4.5,
          3.6666666666666665,
          8.7,
          4.6,
          4,
          2.888888888888889,
          6.4,
          3.3333333333333335,
          5.666666666666667,
          6.8,
          5.5,
          1,
          4.3,
          6.5,
          5.6,
          3.7,
          2.5,
          2.9,
          4.5,
          3.111111111111111,
          3.6,
          2.625,
          4.9,
          1,
          4.9,
          3.7,
          5.4,
          4.7,
          2,
          5.5,
          1.9,
          2.875,
          4.75,
          3.2,
          2.2222222222222223,
          3.5,
          1.75,
          1.6666666666666667,
          4,
          3.2857142857142856,
          4.625,
          3.4,
          3,
          3.3333333333333335,
          3.6666666666666665,
          3.7,
          4.75
         ],
         "yaxis": "y"
        }
       ],
       "layout": {
        "height": 600,
        "legend": {
         "title": {
          "text": "Identifiers"
         }
        },
        "template": {
         "data": {
          "bar": [
           {
            "error_x": {
             "color": "rgb(36,36,36)"
            },
            "error_y": {
             "color": "rgb(36,36,36)"
            },
            "marker": {
             "line": {
              "color": "white",
              "width": 0.5
             },
             "pattern": {
              "fillmode": "overlay",
              "size": 10,
              "solidity": 0.2
             }
            },
            "type": "bar"
           }
          ],
          "barpolar": [
           {
            "marker": {
             "line": {
              "color": "white",
              "width": 0.5
             },
             "pattern": {
              "fillmode": "overlay",
              "size": 10,
              "solidity": 0.2
             }
            },
            "type": "barpolar"
           }
          ],
          "carpet": [
           {
            "aaxis": {
             "endlinecolor": "rgb(36,36,36)",
             "gridcolor": "white",
             "linecolor": "white",
             "minorgridcolor": "white",
             "startlinecolor": "rgb(36,36,36)"
            },
            "baxis": {
             "endlinecolor": "rgb(36,36,36)",
             "gridcolor": "white",
             "linecolor": "white",
             "minorgridcolor": "white",
             "startlinecolor": "rgb(36,36,36)"
            },
            "type": "carpet"
           }
          ],
          "choropleth": [
           {
            "colorbar": {
             "outlinewidth": 1,
             "tickcolor": "rgb(36,36,36)",
             "ticks": "outside"
            },
            "type": "choropleth"
           }
          ],
          "contour": [
           {
            "colorbar": {
             "outlinewidth": 1,
             "tickcolor": "rgb(36,36,36)",
             "ticks": "outside"
            },
            "colorscale": [
             [
              0,
              "#440154"
             ],
             [
              0.1111111111111111,
              "#482878"
             ],
             [
              0.2222222222222222,
              "#3e4989"
             ],
             [
              0.3333333333333333,
              "#31688e"
             ],
             [
              0.4444444444444444,
              "#26828e"
             ],
             [
              0.5555555555555556,
              "#1f9e89"
             ],
             [
              0.6666666666666666,
              "#35b779"
             ],
             [
              0.7777777777777778,
              "#6ece58"
             ],
             [
              0.8888888888888888,
              "#b5de2b"
             ],
             [
              1,
              "#fde725"
             ]
            ],
            "type": "contour"
           }
          ],
          "contourcarpet": [
           {
            "colorbar": {
             "outlinewidth": 1,
             "tickcolor": "rgb(36,36,36)",
             "ticks": "outside"
            },
            "type": "contourcarpet"
           }
          ],
          "heatmap": [
           {
            "colorbar": {
             "outlinewidth": 1,
             "tickcolor": "rgb(36,36,36)",
             "ticks": "outside"
            },
            "colorscale": [
             [
              0,
              "#440154"
             ],
             [
              0.1111111111111111,
              "#482878"
             ],
             [
              0.2222222222222222,
              "#3e4989"
             ],
             [
              0.3333333333333333,
              "#31688e"
             ],
             [
              0.4444444444444444,
              "#26828e"
             ],
             [
              0.5555555555555556,
              "#1f9e89"
             ],
             [
              0.6666666666666666,
              "#35b779"
             ],
             [
              0.7777777777777778,
              "#6ece58"
             ],
             [
              0.8888888888888888,
              "#b5de2b"
             ],
             [
              1,
              "#fde725"
             ]
            ],
            "type": "heatmap"
           }
          ],
          "heatmapgl": [
           {
            "colorbar": {
             "outlinewidth": 1,
             "tickcolor": "rgb(36,36,36)",
             "ticks": "outside"
            },
            "colorscale": [
             [
              0,
              "#440154"
             ],
             [
              0.1111111111111111,
              "#482878"
             ],
             [
              0.2222222222222222,
              "#3e4989"
             ],
             [
              0.3333333333333333,
              "#31688e"
             ],
             [
              0.4444444444444444,
              "#26828e"
             ],
             [
              0.5555555555555556,
              "#1f9e89"
             ],
             [
              0.6666666666666666,
              "#35b779"
             ],
             [
              0.7777777777777778,
              "#6ece58"
             ],
             [
              0.8888888888888888,
              "#b5de2b"
             ],
             [
              1,
              "#fde725"
             ]
            ],
            "type": "heatmapgl"
           }
          ],
          "histogram": [
           {
            "marker": {
             "line": {
              "color": "white",
              "width": 0.6
             }
            },
            "type": "histogram"
           }
          ],
          "histogram2d": [
           {
            "colorbar": {
             "outlinewidth": 1,
             "tickcolor": "rgb(36,36,36)",
             "ticks": "outside"
            },
            "colorscale": [
             [
              0,
              "#440154"
             ],
             [
              0.1111111111111111,
              "#482878"
             ],
             [
              0.2222222222222222,
              "#3e4989"
             ],
             [
              0.3333333333333333,
              "#31688e"
             ],
             [
              0.4444444444444444,
              "#26828e"
             ],
             [
              0.5555555555555556,
              "#1f9e89"
             ],
             [
              0.6666666666666666,
              "#35b779"
             ],
             [
              0.7777777777777778,
              "#6ece58"
             ],
             [
              0.8888888888888888,
              "#b5de2b"
             ],
             [
              1,
              "#fde725"
             ]
            ],
            "type": "histogram2d"
           }
          ],
          "histogram2dcontour": [
           {
            "colorbar": {
             "outlinewidth": 1,
             "tickcolor": "rgb(36,36,36)",
             "ticks": "outside"
            },
            "colorscale": [
             [
              0,
              "#440154"
             ],
             [
              0.1111111111111111,
              "#482878"
             ],
             [
              0.2222222222222222,
              "#3e4989"
             ],
             [
              0.3333333333333333,
              "#31688e"
             ],
             [
              0.4444444444444444,
              "#26828e"
             ],
             [
              0.5555555555555556,
              "#1f9e89"
             ],
             [
              0.6666666666666666,
              "#35b779"
             ],
             [
              0.7777777777777778,
              "#6ece58"
             ],
             [
              0.8888888888888888,
              "#b5de2b"
             ],
             [
              1,
              "#fde725"
             ]
            ],
            "type": "histogram2dcontour"
           }
          ],
          "mesh3d": [
           {
            "colorbar": {
             "outlinewidth": 1,
             "tickcolor": "rgb(36,36,36)",
             "ticks": "outside"
            },
            "type": "mesh3d"
           }
          ],
          "parcoords": [
           {
            "line": {
             "colorbar": {
              "outlinewidth": 1,
              "tickcolor": "rgb(36,36,36)",
              "ticks": "outside"
             }
            },
            "type": "parcoords"
           }
          ],
          "pie": [
           {
            "automargin": true,
            "type": "pie"
           }
          ],
          "scatter": [
           {
            "marker": {
             "colorbar": {
              "outlinewidth": 1,
              "tickcolor": "rgb(36,36,36)",
              "ticks": "outside"
             }
            },
            "type": "scatter"
           }
          ],
          "scatter3d": [
           {
            "line": {
             "colorbar": {
              "outlinewidth": 1,
              "tickcolor": "rgb(36,36,36)",
              "ticks": "outside"
             }
            },
            "marker": {
             "colorbar": {
              "outlinewidth": 1,
              "tickcolor": "rgb(36,36,36)",
              "ticks": "outside"
             }
            },
            "type": "scatter3d"
           }
          ],
          "scattercarpet": [
           {
            "marker": {
             "colorbar": {
              "outlinewidth": 1,
              "tickcolor": "rgb(36,36,36)",
              "ticks": "outside"
             }
            },
            "type": "scattercarpet"
           }
          ],
          "scattergeo": [
           {
            "marker": {
             "colorbar": {
              "outlinewidth": 1,
              "tickcolor": "rgb(36,36,36)",
              "ticks": "outside"
             }
            },
            "type": "scattergeo"
           }
          ],
          "scattergl": [
           {
            "marker": {
             "colorbar": {
              "outlinewidth": 1,
              "tickcolor": "rgb(36,36,36)",
              "ticks": "outside"
             }
            },
            "type": "scattergl"
           }
          ],
          "scattermapbox": [
           {
            "marker": {
             "colorbar": {
              "outlinewidth": 1,
              "tickcolor": "rgb(36,36,36)",
              "ticks": "outside"
             }
            },
            "type": "scattermapbox"
           }
          ],
          "scatterpolar": [
           {
            "marker": {
             "colorbar": {
              "outlinewidth": 1,
              "tickcolor": "rgb(36,36,36)",
              "ticks": "outside"
             }
            },
            "type": "scatterpolar"
           }
          ],
          "scatterpolargl": [
           {
            "marker": {
             "colorbar": {
              "outlinewidth": 1,
              "tickcolor": "rgb(36,36,36)",
              "ticks": "outside"
             }
            },
            "type": "scatterpolargl"
           }
          ],
          "scatterternary": [
           {
            "marker": {
             "colorbar": {
              "outlinewidth": 1,
              "tickcolor": "rgb(36,36,36)",
              "ticks": "outside"
             }
            },
            "type": "scatterternary"
           }
          ],
          "surface": [
           {
            "colorbar": {
             "outlinewidth": 1,
             "tickcolor": "rgb(36,36,36)",
             "ticks": "outside"
            },
            "colorscale": [
             [
              0,
              "#440154"
             ],
             [
              0.1111111111111111,
              "#482878"
             ],
             [
              0.2222222222222222,
              "#3e4989"
             ],
             [
              0.3333333333333333,
              "#31688e"
             ],
             [
              0.4444444444444444,
              "#26828e"
             ],
             [
              0.5555555555555556,
              "#1f9e89"
             ],
             [
              0.6666666666666666,
              "#35b779"
             ],
             [
              0.7777777777777778,
              "#6ece58"
             ],
             [
              0.8888888888888888,
              "#b5de2b"
             ],
             [
              1,
              "#fde725"
             ]
            ],
            "type": "surface"
           }
          ],
          "table": [
           {
            "cells": {
             "fill": {
              "color": "rgb(237,237,237)"
             },
             "line": {
              "color": "white"
             }
            },
            "header": {
             "fill": {
              "color": "rgb(217,217,217)"
             },
             "line": {
              "color": "white"
             }
            },
            "type": "table"
           }
          ]
         },
         "layout": {
          "annotationdefaults": {
           "arrowhead": 0,
           "arrowwidth": 1
          },
          "autotypenumbers": "strict",
          "coloraxis": {
           "colorbar": {
            "outlinewidth": 1,
            "tickcolor": "rgb(36,36,36)",
            "ticks": "outside"
           }
          },
          "colorscale": {
           "diverging": [
            [
             0,
             "rgb(103,0,31)"
            ],
            [
             0.1,
             "rgb(178,24,43)"
            ],
            [
             0.2,
             "rgb(214,96,77)"
            ],
            [
             0.3,
             "rgb(244,165,130)"
            ],
            [
             0.4,
             "rgb(253,219,199)"
            ],
            [
             0.5,
             "rgb(247,247,247)"
            ],
            [
             0.6,
             "rgb(209,229,240)"
            ],
            [
             0.7,
             "rgb(146,197,222)"
            ],
            [
             0.8,
             "rgb(67,147,195)"
            ],
            [
             0.9,
             "rgb(33,102,172)"
            ],
            [
             1,
             "rgb(5,48,97)"
            ]
           ],
           "sequential": [
            [
             0,
             "#440154"
            ],
            [
             0.1111111111111111,
             "#482878"
            ],
            [
             0.2222222222222222,
             "#3e4989"
            ],
            [
             0.3333333333333333,
             "#31688e"
            ],
            [
             0.4444444444444444,
             "#26828e"
            ],
            [
             0.5555555555555556,
             "#1f9e89"
            ],
            [
             0.6666666666666666,
             "#35b779"
            ],
            [
             0.7777777777777778,
             "#6ece58"
            ],
            [
             0.8888888888888888,
             "#b5de2b"
            ],
            [
             1,
             "#fde725"
            ]
           ],
           "sequentialminus": [
            [
             0,
             "#440154"
            ],
            [
             0.1111111111111111,
             "#482878"
            ],
            [
             0.2222222222222222,
             "#3e4989"
            ],
            [
             0.3333333333333333,
             "#31688e"
            ],
            [
             0.4444444444444444,
             "#26828e"
            ],
            [
             0.5555555555555556,
             "#1f9e89"
            ],
            [
             0.6666666666666666,
             "#35b779"
            ],
            [
             0.7777777777777778,
             "#6ece58"
            ],
            [
             0.8888888888888888,
             "#b5de2b"
            ],
            [
             1,
             "#fde725"
            ]
           ]
          },
          "colorway": [
           "#1F77B4",
           "#FF7F0E",
           "#2CA02C",
           "#D62728",
           "#9467BD",
           "#8C564B",
           "#E377C2",
           "#7F7F7F",
           "#BCBD22",
           "#17BECF"
          ],
          "font": {
           "color": "rgb(36,36,36)"
          },
          "geo": {
           "bgcolor": "white",
           "lakecolor": "white",
           "landcolor": "white",
           "showlakes": true,
           "showland": true,
           "subunitcolor": "white"
          },
          "hoverlabel": {
           "align": "left"
          },
          "hovermode": "closest",
          "mapbox": {
           "style": "light"
          },
          "paper_bgcolor": "white",
          "plot_bgcolor": "white",
          "polar": {
           "angularaxis": {
            "gridcolor": "rgb(232,232,232)",
            "linecolor": "rgb(36,36,36)",
            "showgrid": false,
            "showline": true,
            "ticks": "outside"
           },
           "bgcolor": "white",
           "radialaxis": {
            "gridcolor": "rgb(232,232,232)",
            "linecolor": "rgb(36,36,36)",
            "showgrid": false,
            "showline": true,
            "ticks": "outside"
           }
          },
          "scene": {
           "xaxis": {
            "backgroundcolor": "white",
            "gridcolor": "rgb(232,232,232)",
            "gridwidth": 2,
            "linecolor": "rgb(36,36,36)",
            "showbackground": true,
            "showgrid": false,
            "showline": true,
            "ticks": "outside",
            "zeroline": false,
            "zerolinecolor": "rgb(36,36,36)"
           },
           "yaxis": {
            "backgroundcolor": "white",
            "gridcolor": "rgb(232,232,232)",
            "gridwidth": 2,
            "linecolor": "rgb(36,36,36)",
            "showbackground": true,
            "showgrid": false,
            "showline": true,
            "ticks": "outside",
            "zeroline": false,
            "zerolinecolor": "rgb(36,36,36)"
           },
           "zaxis": {
            "backgroundcolor": "white",
            "gridcolor": "rgb(232,232,232)",
            "gridwidth": 2,
            "linecolor": "rgb(36,36,36)",
            "showbackground": true,
            "showgrid": false,
            "showline": true,
            "ticks": "outside",
            "zeroline": false,
            "zerolinecolor": "rgb(36,36,36)"
           }
          },
          "shapedefaults": {
           "fillcolor": "black",
           "line": {
            "width": 0
           },
           "opacity": 0.3
          },
          "ternary": {
           "aaxis": {
            "gridcolor": "rgb(232,232,232)",
            "linecolor": "rgb(36,36,36)",
            "showgrid": false,
            "showline": true,
            "ticks": "outside"
           },
           "baxis": {
            "gridcolor": "rgb(232,232,232)",
            "linecolor": "rgb(36,36,36)",
            "showgrid": false,
            "showline": true,
            "ticks": "outside"
           },
           "bgcolor": "white",
           "caxis": {
            "gridcolor": "rgb(232,232,232)",
            "linecolor": "rgb(36,36,36)",
            "showgrid": false,
            "showline": true,
            "ticks": "outside"
           }
          },
          "title": {
           "x": 0.05
          },
          "xaxis": {
           "automargin": true,
           "gridcolor": "rgb(232,232,232)",
           "linecolor": "rgb(36,36,36)",
           "showgrid": false,
           "showline": true,
           "ticks": "outside",
           "title": {
            "standoff": 15
           },
           "zeroline": false,
           "zerolinecolor": "rgb(36,36,36)"
          },
          "yaxis": {
           "automargin": true,
           "gridcolor": "rgb(232,232,232)",
           "linecolor": "rgb(36,36,36)",
           "showgrid": false,
           "showline": true,
           "ticks": "outside",
           "title": {
            "standoff": 15
           },
           "zeroline": false,
           "zerolinecolor": "rgb(36,36,36)"
          }
         }
        },
        "title": {
         "text": "Muslim world"
        },
        "width": 1200,
        "xaxis": {
         "autorange": true,
         "dtick": 100,
         "range": [
          200,
          1800
         ],
         "title": {
          "text": ""
         },
         "type": "linear"
        },
        "yaxis": {
         "autorange": true,
         "range": [
          -0.6666666666666665,
          32.666666666666664
         ],
         "title": {
          "text": "Number of Individuals"
         },
         "type": "linear"
        }
       }
      },
      "image/png": "[encoded data removed]",
      "text/html": [
       "<div>                            <div id=\"255e5d96-eba3-4b5a-92ea-a18384802bea\" class=\"plotly-graph-div\" style=\"height:600px; width:1200px;\"></div>            <script type=\"text/javascript\">                require([\"plotly\"], function(Plotly) {                    window.PLOTLYENV=window.PLOTLYENV || {};                                    if (document.getElementById(\"255e5d96-eba3-4b5a-92ea-a18384802bea\")) {                    Plotly.newPlot(                        \"255e5d96-eba3-4b5a-92ea-a18384802bea\",                        [{\"hovertemplate\":\"identifier_name=VIAF ID<br>decade=%{x}<br>score=%{y}<extra></extra>\",\"legendgroup\":\"VIAF ID\",\"line\":{\"color\":\"#1F77B4\",\"dash\":\"solid\"},\"marker\":{\"symbol\":\"circle\"},\"mode\":\"lines\",\"name\":\"VIAF ID\",\"opacity\":0.25,\"showlegend\":true,\"x\":[200,210,220,230,240,250,260,280,290,310,320,330,340,380,390,400,410,430,440,470,480,510,530,550,560,570,580,590,600,610,620,630,640,650,660,670,680,690,700,710,720,730,740,750,760,770,780,790,800,810,820,830,840,850,860,870,880,890,900,910,920,930,940,950,960,970,980,990,1000,1010,1020,1030,1040,1050,1060,1070,1080,1090,1100,1110,1120,1130,1140,1150,1160,1170,1180,1190,1200,1210,1220,1230,1240,1250,1260,1270,1280,1290,1300,1310,1320,1330,1340,1350,1360,1370,1380,1390,1400,1410,1420,1430,1440,1450,1460,1470,1480,1490,1500,1510,1520,1530,1540,1550,1560,1570,1580,1590,1600,1610,1620,1630,1640,1650,1660,1670,1680,1690,1700,1710,1720,1730,1740,1750,1760,1770,1780,1790,1800],\"xaxis\":\"x\",\"y\":[2,2,1,13,3,1,1,5,1,1,1,6,3,4,3,2,1,7,1,4,5,1,3,1,2,4,4,1,4,2,1,11,1,2,3,7,4,5,2,4,2,16,8,4,7,8,12,5,9,14,9,13,7,12,8,10,8,8,6,8,11,18,8,11,5,15,19,4,13,14,8,28,8,7,9,4,12,7,10,8,9,20,9,13,10,14,16,16,11,10,23,31,20,15,12,11,13,9,10,10,11,17,9,5,12,8,6,6,10,7,9,11,9,1,7,10,11,6,5,6,7,9,8,4,8,1,9,7,13,8,4,16,3,5,9,7,5,6,3,3,8,7,8,7,5,10,6,6,9],\"yaxis\":\"y\",\"type\":\"scattergl\"},{\"hovertemplate\":\"identifier_name=Library of Congress authority ID (United States of America)<br>decade=%{x}<br>score=%{y}<extra></extra>\",\"legendgroup\":\"Library of Congress authority ID (United States of America)\",\"line\":{\"color\":\"#FF7F0E\",\"dash\":\"solid\"},\"marker\":{\"symbol\":\"circle\"},\"mode\":\"lines\",\"name\":\"Library of Congress authority ID (United States of America)\",\"opacity\":0.25,\"showlegend\":true,\"x\":[200,210,220,230,240,250,260,280,290,310,320,330,340,380,390,400,410,430,440,470,480,510,530,550,560,570,580,590,600,610,630,640,650,660,670,680,690,700,710,720,730,740,750,760,770,780,790,800,810,820,830,840,850,860,870,880,890,900,910,920,930,940,950,960,970,980,990,1000,1010,1020,1030,1040,1050,1060,1070,1080,1090,1100,1110,1120,1130,1140,1150,1160,1170,1180,1190,1200,1210,1220,1230,1240,1250,1260,1270,1280,1290,1300,1310,1320,1330,1340,1350,1360,1370,1380,1390,1400,1410,1420,1430,1440,1450,1460,1470,1480,1490,1500,1510,1520,1530,1540,1550,1560,1580,1590,1600,1610,1620,1630,1640,1650,1660,1670,1680,1690,1700,1710,1720,1730,1740,1750,1760,1770,1780,1790,1800],\"xaxis\":\"x\",\"y\":[2,2,1,8,3,1,1,5,1,1,1,6,3,2,3,2,1,5,1,4,5,1,2,1,2,4,3,1,4,2,7,1,2,2,7,4,5,2,4,1,15,7,4,6,6,10,4,7,14,7,10,7,11,8,10,7,8,6,8,8,16,8,11,5,14,15,3,12,12,7,22,7,6,8,4,10,7,9,8,8,17,9,11,10,12,15,13,9,9,23,30,20,13,12,9,12,8,10,9,9,16,6,5,12,7,6,5,9,6,8,11,7,1,6,9,7,6,4,5,6,4,5,3,8,7,5,11,7,3,10,3,4,7,6,3,5,3,2,7,5,7,6,4,6,6,6,6],\"yaxis\":\"y\",\"type\":\"scattergl\"},{\"hovertemplate\":\"identifier_name=GND ID (Germany)<br>decade=%{x}<br>score=%{y}<extra></extra>\",\"legendgroup\":\"GND ID (Germany)\",\"line\":{\"color\":\"#2CA02C\",\"dash\":\"solid\"},\"marker\":{\"symbol\":\"circle\"},\"mode\":\"lines\",\"name\":\"GND ID (Germany)\",\"opacity\":0.25,\"showlegend\":true,\"x\":[200,210,220,230,240,250,260,280,290,310,320,330,340,380,390,400,410,430,440,470,480,510,530,550,560,570,580,590,600,610,630,650,660,670,680,690,700,710,720,730,740,750,760,770,780,790,800,810,820,830,840,850,860,870,880,890,900,910,920,930,940,950,960,970,980,990,1000,1010,1020,1030,1040,1050,1060,1070,1080,1090,1100,1110,1120,1130,1140,1150,1160,1170,1180,1190,1200,1210,1220,1230,1240,1250,1260,1270,1280,1290,1300,1310,1320,1330,1340,1350,1360,1370,1380,1390,1400,1410,1420,1430,1440,1460,1470,1480,1490,1500,1510,1520,1530,1540,1550,1560,1570,1580,1590,1600,1610,1620,1630,1640,1650,1660,1670,1680,1690,1700,1710,1720,1730,1740,1750,1760,1770,1780,1790,1800],\"xaxis\":\"x\",\"y\":[2,2,1,12,3,1,1,5,1,1,1,6,3,4,3,2,1,6,1,4,5,1,2,1,2,2,2,1,2,1,9,2,1,6,4,4,1,4,1,11,5,4,5,5,9,5,8,13,6,8,6,11,8,7,7,6,5,8,9,13,7,8,4,14,12,3,13,12,8,19,8,5,6,4,8,6,8,7,8,14,8,10,10,9,14,12,10,8,18,24,16,10,10,8,10,6,8,7,9,11,5,5,11,5,5,2,8,3,6,10,7,5,10,8,4,3,3,6,5,6,3,6,1,7,4,4,7,2,8,2,3,4,3,3,5,1,3,3,2,7,5,4,4,4,4,8],\"yaxis\":\"y\",\"type\":\"scattergl\"},{\"hovertemplate\":\"identifier_name=National Library of Israel J9U ID (Israel)<br>decade=%{x}<br>score=%{y}<extra></extra>\",\"legendgroup\":\"National Library of Israel J9U ID (Israel)\",\"line\":{\"color\":\"#D62728\",\"dash\":\"solid\"},\"marker\":{\"symbol\":\"circle\"},\"mode\":\"lines\",\"name\":\"National Library of Israel J9U ID (Israel)\",\"opacity\":0.25,\"showlegend\":true,\"x\":[200,210,220,230,240,250,260,280,290,310,320,330,340,380,390,400,410,430,440,470,480,510,530,550,560,570,580,590,600,610,630,650,660,670,680,690,700,710,720,730,740,750,760,770,780,790,800,810,820,830,840,850,860,870,880,890,900,910,920,930,940,950,960,970,980,990,1000,1010,1020,1030,1040,1050,1060,1070,1080,1090,1100,1110,1120,1130,1140,1150,1160,1170,1180,1190,1200,1210,1220,1230,1240,1250,1260,1270,1280,1290,1300,1310,1320,1330,1340,1350,1360,1370,1380,1390,1400,1410,1420,1430,1440,1450,1460,1470,1480,1490,1500,1510,1520,1530,1540,1550,1560,1580,1590,1600,1610,1620,1630,1640,1650,1660,1670,1680,1690,1700,1710,1720,1730,1740,1750,1760,1770,1780,1790,1800],\"xaxis\":\"x\",\"y\":[2,1,1,7,3,1,1,3,1,1,1,6,3,2,2,2,1,4,1,3,5,1,2,1,2,4,1,1,3,2,6,2,2,6,3,5,2,4,2,14,6,3,6,6,8,4,5,13,4,9,5,9,8,8,7,8,5,7,8,13,6,10,5,14,14,2,11,11,7,19,7,6,7,4,8,7,9,7,7,12,9,10,10,9,13,14,9,9,20,22,18,11,10,9,10,8,9,8,9,15,7,5,12,6,4,3,7,5,7,7,7,1,7,8,6,5,2,2,6,3,5,3,8,7,5,7,6,3,8,2,4,6,6,3,4,2,1,5,2,3,2,4,3,4,5,6],\"yaxis\":\"y\",\"type\":\"scattergl\"},{\"hovertemplate\":\"identifier_name=Nationale Thesaurus voor Auteurs ID (Netherlands)<br>decade=%{x}<br>score=%{y}<extra></extra>\",\"legendgroup\":\"Nationale Thesaurus voor Auteurs ID (Netherlands)\",\"line\":{\"color\":\"#9467BD\",\"dash\":\"solid\"},\"marker\":{\"symbol\":\"circle\"},\"mode\":\"lines\",\"name\":\"Nationale Thesaurus voor Auteurs ID (Netherlands)\",\"opacity\":0.25,\"showlegend\":true,\"x\":[200,210,220,230,240,250,260,280,290,310,320,330,340,380,390,400,410,430,440,470,480,510,530,560,570,580,590,600,610,630,650,660,670,680,690,710,730,740,750,760,770,780,790,800,810,820,830,840,850,860,870,880,890,900,910,920,930,940,950,960,970,980,990,1000,1010,1020,1030,1040,1050,1060,1070,1080,1090,1100,1110,1120,1130,1140,1150,1160,1170,1180,1190,1200,1210,1220,1230,1240,1250,1260,1270,1280,1290,1300,1310,1320,1330,1340,1350,1360,1370,1380,1390,1400,1410,1420,1430,1440,1450,1460,1470,1480,1490,1500,1510,1520,1530,1540,1550,1560,1570,1580,1590,1600,1610,1620,1630,1640,1650,1660,1670,1680,1690,1700,1710,1720,1730,1740,1750,1760,1770,1780,1790,1800],\"xaxis\":\"x\",\"y\":[1,2,1,8,2,1,1,5,1,1,1,5,3,1,2,2,1,4,1,4,3,1,1,1,3,2,1,1,1,3,1,1,4,4,3,2,6,6,3,2,8,8,3,6,8,4,5,6,8,7,10,8,5,4,7,6,12,7,9,4,12,12,2,12,11,7,20,5,5,7,3,8,7,5,5,7,9,7,10,8,11,9,11,6,5,10,16,16,9,9,8,7,7,9,6,8,10,6,1,11,6,5,3,7,2,5,7,5,1,6,6,8,3,2,3,3,1,2,3,4,1,6,6,3,5,1,4,2,2,4,2,2,5,1,1,4,1,5,3,2,1,4,4,3],\"yaxis\":\"y\",\"type\":\"scattergl\"},{\"hovertemplate\":\"identifier_name=IdRef ID (France)<br>decade=%{x}<br>score=%{y}<extra></extra>\",\"legendgroup\":\"IdRef ID (France)\",\"line\":{\"color\":\"#8C564B\",\"dash\":\"solid\"},\"marker\":{\"symbol\":\"circle\"},\"mode\":\"lines\",\"name\":\"IdRef ID (France)\",\"opacity\":0.25,\"showlegend\":true,\"x\":[200,210,220,230,240,250,260,280,290,310,320,330,340,380,390,400,430,440,470,480,510,530,560,570,580,600,630,650,660,670,680,690,710,720,730,740,750,760,770,780,790,800,810,820,830,840,850,860,870,880,890,900,910,920,930,940,950,960,970,980,990,1000,1010,1020,1030,1040,1050,1060,1070,1080,1090,1100,1110,1120,1130,1140,1150,1160,1170,1180,1190,1200,1210,1220,1230,1240,1250,1260,1270,1280,1290,1300,1310,1320,1330,1340,1350,1360,1370,1380,1390,1400,1410,1420,1430,1440,1460,1470,1480,1490,1500,1510,1520,1530,1540,1550,1560,1580,1590,1600,1610,1620,1630,1640,1650,1660,1670,1680,1690,1700,1710,1720,1730,1740,1750,1760,1770,1780,1790,1800],\"xaxis\":\"x\",\"y\":[2,2,1,10,2,1,1,5,1,1,1,5,3,2,3,2,6,1,3,4,1,1,2,1,2,2,5,2,1,4,3,5,2,1,7,6,2,3,5,5,3,3,10,3,4,5,10,6,8,6,6,4,7,6,12,5,8,4,11,11,3,12,12,5,20,6,5,6,2,6,5,6,5,6,14,7,8,8,11,13,12,6,7,13,22,13,8,7,9,5,7,7,4,10,10,3,4,8,5,3,3,8,3,4,6,6,3,7,6,4,1,4,5,2,3,2,6,4,4,6,6,1,3,3,1,4,3,1,5,1,2,3,4,4,5,2,3,2,5,4],\"yaxis\":\"y\",\"type\":\"scattergl\"},{\"hovertemplate\":\"identifier_name=SELIBR ID (Sweden)<br>decade=%{x}<br>score=%{y}<extra></extra>\",\"legendgroup\":\"SELIBR ID (Sweden)\",\"line\":{\"color\":\"#E377C2\",\"dash\":\"solid\"},\"marker\":{\"symbol\":\"circle\"},\"mode\":\"lines\",\"name\":\"SELIBR ID (Sweden)\",\"opacity\":0.25,\"showlegend\":true,\"x\":[200,210,220,230,240,260,280,290,310,320,330,340,380,390,400,410,430,470,480,510,530,570,580,600,610,630,650,660,670,680,690,710,730,740,750,760,770,780,790,800,810,820,830,840,850,860,870,880,890,900,910,920,930,940,950,960,970,980,990,1000,1010,1020,1030,1040,1050,1060,1070,1080,1090,1100,1110,1120,1130,1140,1150,1160,1170,1180,1190,1200,1210,1220,1230,1240,1250,1260,1270,1280,1290,1300,1310,1320,1330,1340,1350,1360,1370,1380,1390,1400,1420,1430,1440,1450,1460,1470,1480,1490,1510,1520,1530,1540,1560,1580,1590,1600,1610,1620,1630,1640,1650,1660,1670,1680,1690,1700,1710,1720,1740,1750,1760,1770,1780,1790],\"xaxis\":\"x\",\"y\":[1,1,1,5,2,1,3,1,1,1,5,2,1,1,2,1,1,4,1,1,2,3,2,2,1,5,1,2,4,2,4,3,9,4,3,2,5,4,2,2,9,3,5,4,8,6,6,4,5,4,5,5,11,5,6,4,9,7,2,11,5,6,10,3,3,4,2,5,6,4,4,6,10,6,5,5,6,10,10,6,3,9,11,11,7,7,9,5,5,7,6,8,9,3,5,6,2,4,2,4,4,4,4,1,3,4,5,2,1,3,1,3,2,3,1,4,3,1,3,1,2,1,2,1,1,2,1,1,2,1,2,1,2,4],\"yaxis\":\"y\",\"type\":\"scattergl\"},{\"hovertemplate\":\"identifier_name=Encyclop\\u00e6dia Britannica Online ID (United Kingdom)<br>decade=%{x}<br>score=%{y}<extra></extra>\",\"legendgroup\":\"Encyclop\\u00e6dia Britannica Online ID (United Kingdom)\",\"line\":{\"color\":\"#7F7F7F\",\"dash\":\"solid\"},\"marker\":{\"symbol\":\"circle\"},\"mode\":\"lines\",\"name\":\"Encyclop\\u00e6dia Britannica Online ID (United Kingdom)\",\"opacity\":0.25,\"showlegend\":true,\"x\":[200,210,220,230,240,250,260,280,290,310,320,330,340,380,390,400,430,440,470,480,510,530,550,560,570,580,590,600,610,630,640,650,660,670,680,690,710,720,730,740,750,760,770,780,790,800,810,820,830,840,850,860,870,880,890,900,910,920,930,940,950,960,970,980,1000,1010,1020,1030,1040,1050,1060,1070,1080,1090,1100,1110,1120,1130,1140,1150,1160,1170,1180,1190,1200,1210,1220,1230,1240,1260,1270,1280,1290,1300,1310,1320,1330,1340,1360,1370,1390,1400,1410,1420,1430,1440,1460,1470,1480,1490,1500,1510,1520,1530,1540,1550,1560,1580,1590,1600,1610,1620,1630,1640,1670,1690,1750,1770,1780,1790],\"xaxis\":\"x\",\"y\":[2,2,1,8,2,1,1,2,1,1,1,3,3,3,2,2,2,1,2,3,1,2,1,2,2,1,1,3,1,6,1,2,1,4,2,1,1,1,12,4,3,3,3,4,3,3,5,3,2,4,4,6,4,3,4,2,2,3,5,3,5,2,5,7,7,3,4,9,4,3,2,1,4,3,2,4,2,3,3,5,4,3,6,3,2,2,3,4,6,4,2,4,1,2,4,2,6,2,5,3,1,2,1,3,4,2,2,2,3,3,2,2,4,1,1,1,2,3,2,2,1,1,1,1,1,1,1,1,1,1],\"yaxis\":\"y\",\"type\":\"scattergl\"},{\"hovertemplate\":\"identifier_name=TDV \\u0130slam Ansiklopedisi ID (Turkey)<br>decade=%{x}<br>score=%{y}<extra></extra>\",\"legendgroup\":\"TDV \\u0130slam Ansiklopedisi ID (Turkey)\",\"line\":{\"color\":\"#BCBD22\",\"dash\":\"solid\"},\"marker\":{\"symbol\":\"circle\"},\"mode\":\"lines\",\"name\":\"TDV \\u0130slam Ansiklopedisi ID (Turkey)\",\"opacity\":0.25,\"showlegend\":true,\"x\":[240,530,560,570,590,600,610,630,640,650,660,670,680,690,700,710,720,730,740,750,760,770,780,790,800,810,820,830,840,850,860,870,880,890,900,910,920,930,950,960,970,980,990,1000,1010,1020,1030,1040,1050,1060,1070,1080,1090,1100,1110,1120,1130,1140,1150,1160,1170,1180,1190,1200,1210,1220,1230,1240,1250,1260,1270,1280,1290,1300,1310,1320,1330,1340,1350,1360,1370,1380,1400,1410,1430,1440,1450,1460,1470,1480,1490,1500,1510,1520,1530,1540,1550,1560,1580,1590,1600,1610,1620,1630,1640,1670,1680,1690,1710,1720,1740,1750,1790,1800],\"xaxis\":\"x\",\"y\":[1,1,1,2,1,1,1,5,2,2,1,5,3,2,1,4,2,11,2,2,3,4,6,4,3,7,5,4,4,8,6,5,5,3,4,2,5,7,5,2,5,8,1,8,1,4,5,4,3,3,1,3,3,3,4,4,4,2,4,2,4,3,6,4,2,3,9,7,5,4,2,2,5,7,4,1,3,2,2,5,1,2,4,1,4,4,1,2,3,1,1,1,2,3,2,2,2,3,2,2,3,2,2,1,1,1,1,1,1,2,1,3,1,1],\"yaxis\":\"y\",\"type\":\"scattergl\"},{\"hovertemplate\":\"identifier_name=EGAXA ID (Egypt)<br>decade=%{x}<br>score=%{y}<extra></extra>\",\"legendgroup\":\"EGAXA ID (Egypt)\",\"line\":{\"color\":\"#17BECF\",\"dash\":\"solid\"},\"marker\":{\"symbol\":\"circle\"},\"mode\":\"lines\",\"name\":\"EGAXA ID (Egypt)\",\"opacity\":0.25,\"showlegend\":true,\"x\":[220,230,240,310,330,340,380,480,550,570,600,610,630,650,660,670,680,690,710,730,740,750,760,770,780,790,800,810,820,830,840,850,860,870,880,890,900,910,920,930,950,960,970,980,1000,1010,1020,1030,1040,1060,1070,1080,1090,1100,1110,1130,1140,1150,1160,1170,1180,1190,1200,1210,1220,1230,1240,1250,1260,1270,1280,1290,1300,1310,1320,1330,1340,1350,1360,1370,1380,1390,1400,1410,1420,1430,1440,1460,1470,1480,1490,1510,1520,1540,1560,1580,1590,1600,1610,1630,1640,1650,1660,1670,1680,1690,1700,1710,1720,1730,1750,1760,1770,1780,1790,1800],\"xaxis\":\"x\",\"y\":[1,1,1,1,1,1,1,1,1,1,2,1,2,2,1,1,4,4,1,5,3,3,1,3,3,2,1,7,2,4,2,7,3,5,3,3,4,3,4,6,4,2,7,4,6,5,3,8,3,3,3,2,1,4,1,7,5,5,4,7,7,5,4,3,9,10,8,4,4,4,2,1,4,5,6,6,2,1,5,3,1,1,5,2,5,4,4,2,6,1,3,1,2,1,2,1,1,1,2,1,1,2,3,1,1,2,1,1,3,2,1,1,1,4,1,1],\"yaxis\":\"y\",\"type\":\"scattergl\"},{\"hovertemplate\":\"identifier_name=average<br>decade=%{x}<br>score=%{y}<extra></extra>\",\"legendgroup\":\"average\",\"line\":{\"color\":\"#1F77B4\",\"dash\":\"solid\",\"width\":3},\"marker\":{\"symbol\":\"circle\"},\"mode\":\"lines\",\"name\":\"average\",\"orientation\":\"v\",\"showlegend\":true,\"x\":[200,210,220,230,240,250,260,280,290,310,320,330,340,380,390,400,410,430,440,470,480,510,530,550,560,570,580,590,600,610,620,630,640,650,660,670,680,690,700,710,720,730,740,750,760,770,780,790,800,810,820,830,840,850,860,870,880,890,900,910,920,930,940,950,960,970,980,990,1000,1010,1020,1030,1040,1050,1060,1070,1080,1090,1100,1110,1120,1130,1140,1150,1160,1170,1180,1190,1200,1210,1220,1230,1240,1250,1260,1270,1280,1290,1300,1310,1320,1330,1340,1350,1360,1370,1380,1390,1400,1410,1420,1430,1440,1450,1460,1470,1480,1490,1500,1510,1520,1530,1540,1550,1560,1570,1580,1590,1600,1610,1620,1630,1640,1650,1660,1670,1680,1690,1700,1710,1720,1730,1740,1750,1760,1770,1780,1790,1800],\"xaxis\":\"x\",\"y\":[1.75,1.75,1.0,8.0,2.2,1.0,1.0,4.125,1.0,1.0,1.0,4.777777777777778,2.6666666666666665,2.2222222222222223,2.375,2.0,1.0,4.375,1.0,3.5,3.5555555555555554,1.0,1.7777777777777777,1.0,1.75,2.6,2.125,1.0,2.4,1.3333333333333333,1.0,5.9,1.25,1.8,1.5,4.8,3.3,3.8,1.6,2.9,1.4285714285714286,10.6,5.1,3.1,3.8,5.3,6.9,3.5,4.7,10.0,4.6,6.4,5.0,8.8,6.6,7.3,5.8,5.6,4.4,5.7,6.5,11.3,6.125,7.7,3.7,10.6,10.9,2.5,10.5,8.6,5.9,16.0,5.5,4.777777777777778,5.5,2.8,6.6,5.2,6.0,5.3,6.333333333333333,11.0,6.5,8.1,7.1,8.6,10.6,10.2,6.7,5.8,13.1,17.9,13.5,9.11111111111111,7.9,7.1,7.0,5.7,7.3,6.3,7.3,10.3,4.5,3.6666666666666665,8.7,4.6,4.0,2.888888888888889,6.4,3.3333333333333335,5.666666666666667,6.8,5.5,1.0,4.3,6.5,5.6,3.7,2.5,2.9,4.5,3.111111111111111,3.6,2.625,4.9,1.0,4.9,3.7,5.4,4.7,2.0,5.5,1.9,2.875,4.75,3.2,2.2222222222222223,3.5,1.75,1.6666666666666667,4.0,3.2857142857142856,4.625,3.4,3.0,3.3333333333333335,3.6666666666666665,3.7,4.75],\"yaxis\":\"y\",\"type\":\"scatter\"}],                        {\"template\":{\"data\":{\"barpolar\":[{\"marker\":{\"line\":{\"color\":\"white\",\"width\":0.5},\"pattern\":{\"fillmode\":\"overlay\",\"size\":10,\"solidity\":0.2}},\"type\":\"barpolar\"}],\"bar\":[{\"error_x\":{\"color\":\"rgb(36,36,36)\"},\"error_y\":{\"color\":\"rgb(36,36,36)\"},\"marker\":{\"line\":{\"color\":\"white\",\"width\":0.5},\"pattern\":{\"fillmode\":\"overlay\",\"size\":10,\"solidity\":0.2}},\"type\":\"bar\"}],\"carpet\":[{\"aaxis\":{\"endlinecolor\":\"rgb(36,36,36)\",\"gridcolor\":\"white\",\"linecolor\":\"white\",\"minorgridcolor\":\"white\",\"startlinecolor\":\"rgb(36,36,36)\"},\"baxis\":{\"endlinecolor\":\"rgb(36,36,36)\",\"gridcolor\":\"white\",\"linecolor\":\"white\",\"minorgridcolor\":\"white\",\"startlinecolor\":\"rgb(36,36,36)\"},\"type\":\"carpet\"}],\"choropleth\":[{\"colorbar\":{\"outlinewidth\":1,\"tickcolor\":\"rgb(36,36,36)\",\"ticks\":\"outside\"},\"type\":\"choropleth\"}],\"contourcarpet\":[{\"colorbar\":{\"outlinewidth\":1,\"tickcolor\":\"rgb(36,36,36)\",\"ticks\":\"outside\"},\"type\":\"contourcarpet\"}],\"contour\":[{\"colorbar\":{\"outlinewidth\":1,\"tickcolor\":\"rgb(36,36,36)\",\"ticks\":\"outside\"},\"colorscale\":[[0.0,\"#440154\"],[0.1111111111111111,\"#482878\"],[0.2222222222222222,\"#3e4989\"],[0.3333333333333333,\"#31688e\"],[0.4444444444444444,\"#26828e\"],[0.5555555555555556,\"#1f9e89\"],[0.6666666666666666,\"#35b779\"],[0.7777777777777778,\"#6ece58\"],[0.8888888888888888,\"#b5de2b\"],[1.0,\"#fde725\"]],\"type\":\"contour\"}],\"heatmapgl\":[{\"colorbar\":{\"outlinewidth\":1,\"tickcolor\":\"rgb(36,36,36)\",\"ticks\":\"outside\"},\"colorscale\":[[0.0,\"#440154\"],[0.1111111111111111,\"#482878\"],[0.2222222222222222,\"#3e4989\"],[0.3333333333333333,\"#31688e\"],[0.4444444444444444,\"#26828e\"],[0.5555555555555556,\"#1f9e89\"],[0.6666666666666666,\"#35b779\"],[0.7777777777777778,\"#6ece58\"],[0.8888888888888888,\"#b5de2b\"],[1.0,\"#fde725\"]],\"type\":\"heatmapgl\"}],\"heatmap\":[{\"colorbar\":{\"outlinewidth\":1,\"tickcolor\":\"rgb(36,36,36)\",\"ticks\":\"outside\"},\"colorscale\":[[0.0,\"#440154\"],[0.1111111111111111,\"#482878\"],[0.2222222222222222,\"#3e4989\"],[0.3333333333333333,\"#31688e\"],[0.4444444444444444,\"#26828e\"],[0.5555555555555556,\"#1f9e89\"],[0.6666666666666666,\"#35b779\"],[0.7777777777777778,\"#6ece58\"],[0.8888888888888888,\"#b5de2b\"],[1.0,\"#fde725\"]],\"type\":\"heatmap\"}],\"histogram2dcontour\":[{\"colorbar\":{\"outlinewidth\":1,\"tickcolor\":\"rgb(36,36,36)\",\"ticks\":\"outside\"},\"colorscale\":[[0.0,\"#440154\"],[0.1111111111111111,\"#482878\"],[0.2222222222222222,\"#3e4989\"],[0.3333333333333333,\"#31688e\"],[0.4444444444444444,\"#26828e\"],[0.5555555555555556,\"#1f9e89\"],[0.6666666666666666,\"#35b779\"],[0.7777777777777778,\"#6ece58\"],[0.8888888888888888,\"#b5de2b\"],[1.0,\"#fde725\"]],\"type\":\"histogram2dcontour\"}],\"histogram2d\":[{\"colorbar\":{\"outlinewidth\":1,\"tickcolor\":\"rgb(36,36,36)\",\"ticks\":\"outside\"},\"colorscale\":[[0.0,\"#440154\"],[0.1111111111111111,\"#482878\"],[0.2222222222222222,\"#3e4989\"],[0.3333333333333333,\"#31688e\"],[0.4444444444444444,\"#26828e\"],[0.5555555555555556,\"#1f9e89\"],[0.6666666666666666,\"#35b779\"],[0.7777777777777778,\"#6ece58\"],[0.8888888888888888,\"#b5de2b\"],[1.0,\"#fde725\"]],\"type\":\"histogram2d\"}],\"histogram\":[{\"marker\":{\"line\":{\"color\":\"white\",\"width\":0.6}},\"type\":\"histogram\"}],\"mesh3d\":[{\"colorbar\":{\"outlinewidth\":1,\"tickcolor\":\"rgb(36,36,36)\",\"ticks\":\"outside\"},\"type\":\"mesh3d\"}],\"parcoords\":[{\"line\":{\"colorbar\":{\"outlinewidth\":1,\"tickcolor\":\"rgb(36,36,36)\",\"ticks\":\"outside\"}},\"type\":\"parcoords\"}],\"pie\":[{\"automargin\":true,\"type\":\"pie\"}],\"scatter3d\":[{\"line\":{\"colorbar\":{\"outlinewidth\":1,\"tickcolor\":\"rgb(36,36,36)\",\"ticks\":\"outside\"}},\"marker\":{\"colorbar\":{\"outlinewidth\":1,\"tickcolor\":\"rgb(36,36,36)\",\"ticks\":\"outside\"}},\"type\":\"scatter3d\"}],\"scattercarpet\":[{\"marker\":{\"colorbar\":{\"outlinewidth\":1,\"tickcolor\":\"rgb(36,36,36)\",\"ticks\":\"outside\"}},\"type\":\"scattercarpet\"}],\"scattergeo\":[{\"marker\":{\"colorbar\":{\"outlinewidth\":1,\"tickcolor\":\"rgb(36,36,36)\",\"ticks\":\"outside\"}},\"type\":\"scattergeo\"}],\"scattergl\":[{\"marker\":{\"colorbar\":{\"outlinewidth\":1,\"tickcolor\":\"rgb(36,36,36)\",\"ticks\":\"outside\"}},\"type\":\"scattergl\"}],\"scattermapbox\":[{\"marker\":{\"colorbar\":{\"outlinewidth\":1,\"tickcolor\":\"rgb(36,36,36)\",\"ticks\":\"outside\"}},\"type\":\"scattermapbox\"}],\"scatterpolargl\":[{\"marker\":{\"colorbar\":{\"outlinewidth\":1,\"tickcolor\":\"rgb(36,36,36)\",\"ticks\":\"outside\"}},\"type\":\"scatterpolargl\"}],\"scatterpolar\":[{\"marker\":{\"colorbar\":{\"outlinewidth\":1,\"tickcolor\":\"rgb(36,36,36)\",\"ticks\":\"outside\"}},\"type\":\"scatterpolar\"}],\"scatter\":[{\"marker\":{\"colorbar\":{\"outlinewidth\":1,\"tickcolor\":\"rgb(36,36,36)\",\"ticks\":\"outside\"}},\"type\":\"scatter\"}],\"scatterternary\":[{\"marker\":{\"colorbar\":{\"outlinewidth\":1,\"tickcolor\":\"rgb(36,36,36)\",\"ticks\":\"outside\"}},\"type\":\"scatterternary\"}],\"surface\":[{\"colorbar\":{\"outlinewidth\":1,\"tickcolor\":\"rgb(36,36,36)\",\"ticks\":\"outside\"},\"colorscale\":[[0.0,\"#440154\"],[0.1111111111111111,\"#482878\"],[0.2222222222222222,\"#3e4989\"],[0.3333333333333333,\"#31688e\"],[0.4444444444444444,\"#26828e\"],[0.5555555555555556,\"#1f9e89\"],[0.6666666666666666,\"#35b779\"],[0.7777777777777778,\"#6ece58\"],[0.8888888888888888,\"#b5de2b\"],[1.0,\"#fde725\"]],\"type\":\"surface\"}],\"table\":[{\"cells\":{\"fill\":{\"color\":\"rgb(237,237,237)\"},\"line\":{\"color\":\"white\"}},\"header\":{\"fill\":{\"color\":\"rgb(217,217,217)\"},\"line\":{\"color\":\"white\"}},\"type\":\"table\"}]},\"layout\":{\"annotationdefaults\":{\"arrowhead\":0,\"arrowwidth\":1},\"autotypenumbers\":\"strict\",\"coloraxis\":{\"colorbar\":{\"outlinewidth\":1,\"tickcolor\":\"rgb(36,36,36)\",\"ticks\":\"outside\"}},\"colorscale\":{\"diverging\":[[0.0,\"rgb(103,0,31)\"],[0.1,\"rgb(178,24,43)\"],[0.2,\"rgb(214,96,77)\"],[0.3,\"rgb(244,165,130)\"],[0.4,\"rgb(253,219,199)\"],[0.5,\"rgb(247,247,247)\"],[0.6,\"rgb(209,229,240)\"],[0.7,\"rgb(146,197,222)\"],[0.8,\"rgb(67,147,195)\"],[0.9,\"rgb(33,102,172)\"],[1.0,\"rgb(5,48,97)\"]],\"sequential\":[[0.0,\"#440154\"],[0.1111111111111111,\"#482878\"],[0.2222222222222222,\"#3e4989\"],[0.3333333333333333,\"#31688e\"],[0.4444444444444444,\"#26828e\"],[0.5555555555555556,\"#1f9e89\"],[0.6666666666666666,\"#35b779\"],[0.7777777777777778,\"#6ece58\"],[0.8888888888888888,\"#b5de2b\"],[1.0,\"#fde725\"]],\"sequentialminus\":[[0.0,\"#440154\"],[0.1111111111111111,\"#482878\"],[0.2222222222222222,\"#3e4989\"],[0.3333333333333333,\"#31688e\"],[0.4444444444444444,\"#26828e\"],[0.5555555555555556,\"#1f9e89\"],[0.6666666666666666,\"#35b779\"],[0.7777777777777778,\"#6ece58\"],[0.8888888888888888,\"#b5de2b\"],[1.0,\"#fde725\"]]},\"colorway\":[\"#1F77B4\",\"#FF7F0E\",\"#2CA02C\",\"#D62728\",\"#9467BD\",\"#8C564B\",\"#E377C2\",\"#7F7F7F\",\"#BCBD22\",\"#17BECF\"],\"font\":{\"color\":\"rgb(36,36,36)\"},\"geo\":{\"bgcolor\":\"white\",\"lakecolor\":\"white\",\"landcolor\":\"white\",\"showlakes\":true,\"showland\":true,\"subunitcolor\":\"white\"},\"hoverlabel\":{\"align\":\"left\"},\"hovermode\":\"closest\",\"mapbox\":{\"style\":\"light\"},\"paper_bgcolor\":\"white\",\"plot_bgcolor\":\"white\",\"polar\":{\"angularaxis\":{\"gridcolor\":\"rgb(232,232,232)\",\"linecolor\":\"rgb(36,36,36)\",\"showgrid\":false,\"showline\":true,\"ticks\":\"outside\"},\"bgcolor\":\"white\",\"radialaxis\":{\"gridcolor\":\"rgb(232,232,232)\",\"linecolor\":\"rgb(36,36,36)\",\"showgrid\":false,\"showline\":true,\"ticks\":\"outside\"}},\"scene\":{\"xaxis\":{\"backgroundcolor\":\"white\",\"gridcolor\":\"rgb(232,232,232)\",\"gridwidth\":2,\"linecolor\":\"rgb(36,36,36)\",\"showbackground\":true,\"showgrid\":false,\"showline\":true,\"ticks\":\"outside\",\"zeroline\":false,\"zerolinecolor\":\"rgb(36,36,36)\"},\"yaxis\":{\"backgroundcolor\":\"white\",\"gridcolor\":\"rgb(232,232,232)\",\"gridwidth\":2,\"linecolor\":\"rgb(36,36,36)\",\"showbackground\":true,\"showgrid\":false,\"showline\":true,\"ticks\":\"outside\",\"zeroline\":false,\"zerolinecolor\":\"rgb(36,36,36)\"},\"zaxis\":{\"backgroundcolor\":\"white\",\"gridcolor\":\"rgb(232,232,232)\",\"gridwidth\":2,\"linecolor\":\"rgb(36,36,36)\",\"showbackground\":true,\"showgrid\":false,\"showline\":true,\"ticks\":\"outside\",\"zeroline\":false,\"zerolinecolor\":\"rgb(36,36,36)\"}},\"shapedefaults\":{\"fillcolor\":\"black\",\"line\":{\"width\":0},\"opacity\":0.3},\"ternary\":{\"aaxis\":{\"gridcolor\":\"rgb(232,232,232)\",\"linecolor\":\"rgb(36,36,36)\",\"showgrid\":false,\"showline\":true,\"ticks\":\"outside\"},\"baxis\":{\"gridcolor\":\"rgb(232,232,232)\",\"linecolor\":\"rgb(36,36,36)\",\"showgrid\":false,\"showline\":true,\"ticks\":\"outside\"},\"bgcolor\":\"white\",\"caxis\":{\"gridcolor\":\"rgb(232,232,232)\",\"linecolor\":\"rgb(36,36,36)\",\"showgrid\":false,\"showline\":true,\"ticks\":\"outside\"}},\"title\":{\"x\":0.05},\"xaxis\":{\"automargin\":true,\"gridcolor\":\"rgb(232,232,232)\",\"linecolor\":\"rgb(36,36,36)\",\"showgrid\":false,\"showline\":true,\"ticks\":\"outside\",\"title\":{\"standoff\":15},\"zeroline\":false,\"zerolinecolor\":\"rgb(36,36,36)\"},\"yaxis\":{\"automargin\":true,\"gridcolor\":\"rgb(232,232,232)\",\"linecolor\":\"rgb(36,36,36)\",\"showgrid\":false,\"showline\":true,\"ticks\":\"outside\",\"title\":{\"standoff\":15},\"zeroline\":false,\"zerolinecolor\":\"rgb(36,36,36)\"}}},\"xaxis\":{\"title\":{\"text\":\"\"},\"dtick\":100},\"yaxis\":{\"title\":{\"text\":\"Number of Individuals\"}},\"width\":1200,\"height\":600,\"title\":{\"text\":\"Muslim world\"},\"legend\":{\"title\":{\"text\":\"Identifiers\"}}},                        {\"responsive\": true}                    ).then(function(){\n",
       "                            \n",
       "var gd = document.getElementById('255e5d96-eba3-4b5a-92ea-a18384802bea');\n",
       "var x = new MutationObserver(function (mutations, observer) {{\n",
       "        var display = window.getComputedStyle(gd).display;\n",
       "        if (!display || display === 'none') {{\n",
       "            console.log([gd, 'removed!']);\n",
       "            Plotly.purge(gd);\n",
       "            observer.disconnect();\n",
       "        }}\n",
       "}});\n",
       "\n",
       "// Listen for the removal of the full notebook cells\n",
       "var notebookContainer = gd.closest('#notebook-container');\n",
       "if (notebookContainer) {{\n",
       "    x.observe(notebookContainer, {childList: true});\n",
       "}}\n",
       "\n",
       "// Listen for the clearing of the current output cell\n",
       "var outputEl = gd.closest('.output');\n",
       "if (outputEl) {{\n",
       "    x.observe(outputEl, {childList: true});\n",
       "}}\n",
       "\n",
       "                        })                };                });            </script>        </div>"
      ]
     },
     "metadata": {},
     "output_type": "display_data"
    }
   ],
   "source": [
    "region_name = 'Muslim world'\n",
    "\n",
    "fig3 = make_figure(df_graph_bis, region_name = region_name, min_decade = 200, max_decade = 1800, top_identifiers = 10)\n",
    "\n",
    "fig3.show()\n",
    "fig3.write_image(f\"graph_18_05/{region_name}_identifiers.png\", scale=7)"
   ]
  },
  {
   "cell_type": "code",
   "execution_count": 18,
   "id": "28718a62-fd58-4cdb-a140-8ce53ada80f8",
   "metadata": {
    "tags": []
   },
   "outputs": [],
   "source": []
  },
  {
   "cell_type": "code",
   "execution_count": null,
   "id": "23b840ea-0fbb-41a9-b69d-69f9f0e13021",
   "metadata": {
    "tags": []
   },
   "outputs": [],
   "source": []
  },
  {
   "cell_type": "code",
   "execution_count": 207,
   "id": "db6ad161-1ff4-486b-8e56-88e2fa67396d",
   "metadata": {
    "tags": []
   },
   "outputs": [],
   "source": [
    "#for region_name in list(set(df_graph_bis['region_name']))[:10]:\n"
   ]
  },
  {
   "cell_type": "code",
   "execution_count": 200,
   "id": "44536494-a7d0-4dd2-8b80-54d14902b123",
   "metadata": {},
   "outputs": [],
   "source": []
  },
  {
   "cell_type": "code",
   "execution_count": null,
   "id": "2958c751-4e04-48c5-835c-7c8eec11f152",
   "metadata": {
    "tags": []
   },
   "outputs": [],
   "source": []
  },
  {
   "cell_type": "code",
   "execution_count": 280,
   "id": "236bb21d-f21c-49f7-be64-8cbc02e3b378",
   "metadata": {},
   "outputs": [],
   "source": [
    "df_count = df_final[['decade', 'region_name', 'individual_wikidata_id']].drop_duplicates()\n",
    "df_count = df_count.groupby(['decade', 'region_name'])['individual_wikidata_id'].count().rename('score').reset_index()\n",
    "df_count['type'] = 'count'\n",
    "df_sum = df_final.groupby(['decade', 'region_name'])['identifiers_wikidata_id'].count().rename('score').reset_index()\n",
    "df_sum['type'] = 'sum'\n",
    "df_graph = pd.concat([df_count, df_sum])\n",
    "#df_count['decade'] = df_count['decade'].apply(lambda x: int(x/50)*50)\n",
    "#df_count = df_count.groupby(['region_name', 'decade'])['score'].sum().reset_index()"
   ]
  },
  {
   "cell_type": "code",
   "execution_count": null,
   "id": "c47a3003-b898-4509-a5f2-10090f563820",
   "metadata": {},
   "outputs": [],
   "source": []
  },
  {
   "cell_type": "code",
   "execution_count": 281,
   "id": "ed6bb50d-c0a5-4f4d-90ca-9f872a40ed3f",
   "metadata": {},
   "outputs": [],
   "source": [
    "def make_figure_comparison(df, region_name = 'Low countries', min_decade = 1200, max_decade = 1800):\n",
    "\n",
    "    df_fig = df[df['region_name']==region_name]\n",
    "    df_fig = df_fig[df_fig['decade']<=max_decade]\n",
    "    df_fig = df_fig[df_fig['decade']>=min_decade]\n",
    "    df_fig['score'] = df_fig.groupby('type')['score'].transform(lambda x: (x - x.min()) / (x.max() - x.min()) * 9 + 1)\n",
    "    \n",
    "    fig = px.line(df_fig, \n",
    "                  x = 'decade', \n",
    "                  y = 'score',\n",
    "                  color = 'type',\n",
    "                  width = 1200, \n",
    "                  height = 600, \n",
    "                  title = region_name, \n",
    "                  template = 'simple_white')\n",
    "                  #line_shape='spline')\n",
    "    \n",
    "    fig.update_layout(legend=dict(title=dict(text='Score Type')))\n",
    "    fig.update_layout(xaxis=dict(dtick=100))\n",
    "    \n",
    "    return df_fig, fig"
   ]
  },
  {
   "cell_type": "code",
   "execution_count": 282,
   "id": "9453a2c4-08c8-4d2c-882a-71a8eba6baaa",
   "metadata": {},
   "outputs": [],
   "source": [
    "df_fig, fig = make_figure_comparison(df_graph, region_name = 'Chinese world', min_decade = -500, max_decade = 1800)"
   ]
  },
  {
   "cell_type": "code",
   "execution_count": null,
   "id": "db42a262-5d48-4a3d-8617-7e6991e0117d",
   "metadata": {},
   "outputs": [],
   "source": []
  },
  {
   "cell_type": "code",
   "execution_count": null,
   "id": "61a67ece-6c9f-4249-bf60-a5d8d2355869",
   "metadata": {},
   "outputs": [],
   "source": []
  },
  {
   "cell_type": "code",
   "execution_count": 283,
   "id": "5bb9acc3-5ac8-4e66-8b32-428d4ab95e2b",
   "metadata": {},
   "outputs": [],
   "source": [
    "import sys\n",
    "sys.path.append('../')\n",
    "from functions_environment import get_population\n",
    "data_path_environment = '../data_env'\n",
    "\n",
    "df_population_decade = get_population(data_path_environment)\n",
    "df_population_decade = df_population_decade.rename(columns={'year':'decade'})"
   ]
  },
  {
   "cell_type": "code",
   "execution_count": 284,
   "id": "44bf55cc-0f9b-49dd-8728-2a518feccae1",
   "metadata": {},
   "outputs": [],
   "source": [
    "df_individual_region = pd.read_sql_query(\"SELECT * FROM individuals_regions\", conn)\n",
    "df_regions = df_individual_region[['region_code', 'region_name']].drop_duplicates()"
   ]
  },
  {
   "cell_type": "code",
   "execution_count": null,
   "id": "5cc6f6ac-4522-41ef-a7dd-add56c68fab9",
   "metadata": {},
   "outputs": [],
   "source": []
  },
  {
   "cell_type": "code",
   "execution_count": 285,
   "id": "495899b4-c833-44e8-9adf-1df5cb1745fe",
   "metadata": {},
   "outputs": [],
   "source": [
    "df_trend = pd.merge(df_count, df_regions, on = 'region_name')\n",
    "df_trend = pd.merge(df_trend, df_population_decade, on =['region_code', 'decade'])\n",
    "df_trend['score_capita'] = df_trend['score']/df_trend['population']\n"
   ]
  },
  {
   "cell_type": "code",
   "execution_count": null,
   "id": "47e87017-e801-412b-afa1-36e19b5df1b5",
   "metadata": {},
   "outputs": [],
   "source": []
  },
  {
   "cell_type": "code",
   "execution_count": 332,
   "id": "80121d84-cced-4a08-bceb-3c131df78207",
   "metadata": {},
   "outputs": [],
   "source": [
    "#set(df_count.region_name)"
   ]
  },
  {
   "cell_type": "code",
   "execution_count": null,
   "id": "9d39bc33-a8c2-4e55-918f-64ebb6f27688",
   "metadata": {},
   "outputs": [],
   "source": [
    "# russian world?"
   ]
  },
  {
   "cell_type": "code",
   "execution_count": 325,
   "id": "b772295d-4eed-42b9-86d1-d70e83912c7d",
   "metadata": {},
   "outputs": [
    {
     "data": {
      "text/plain": [
       "{'Arabic world',\n",
       " 'Austria',\n",
       " 'Balkans',\n",
       " 'Belgium',\n",
       " 'British Islands',\n",
       " 'Central Europe',\n",
       " 'Chinese world',\n",
       " 'Denmark',\n",
       " 'Eastern Europe',\n",
       " 'France',\n",
       " 'German world',\n",
       " 'Germany',\n",
       " 'Greece',\n",
       " 'Greek World',\n",
       " 'Iceland',\n",
       " 'Indian world',\n",
       " 'Ireland',\n",
       " 'Italy',\n",
       " 'Japan',\n",
       " 'Korea',\n",
       " 'Latin World',\n",
       " 'Low countries',\n",
       " 'Muslim world',\n",
       " 'Netherlands',\n",
       " 'Nordic countries',\n",
       " 'Northwestern Europe',\n",
       " 'Ottoman Turkey',\n",
       " 'Persian world',\n",
       " 'Portugal',\n",
       " 'Southwestern Europe',\n",
       " 'Spain',\n",
       " 'Sweden',\n",
       " 'Switzerland',\n",
       " 'United Kingdom',\n",
       " 'Western Europe'}"
      ]
     },
     "execution_count": 325,
     "metadata": {},
     "output_type": "execute_result"
    }
   ],
   "source": [
    "set(df_trend.region_name)"
   ]
  },
  {
   "cell_type": "code",
   "execution_count": 322,
   "id": "c935ac51-2d49-4e67-9db4-14f75ebcd37d",
   "metadata": {},
   "outputs": [],
   "source": [
    "df_trend.to_csv('data_to_r/df_individual_trend.csv')"
   ]
  },
  {
   "cell_type": "code",
   "execution_count": 286,
   "id": "6cb48cfc-0e6e-41b5-8aa8-6278daa83ccd",
   "metadata": {},
   "outputs": [],
   "source": [
    "import numpy as np"
   ]
  },
  {
   "cell_type": "code",
   "execution_count": 287,
   "id": "74547b52-e4a4-4af3-9f27-4022c87f394f",
   "metadata": {},
   "outputs": [],
   "source": [
    "def make_score_per_capita(df, region_name = 'Low countries', min_decade = 1200, max_decade = 1800):\n",
    "\n",
    "    df_fig = df[df['region_name']==region_name]\n",
    "    df_fig = df_fig[df_fig['decade']<=max_decade]\n",
    "    df_fig = df_fig[df_fig['decade']>=min_decade]\n",
    "    df_fig['score_capita'] = np.log(1 + df_fig['score_capita'])\n",
    "    #df_fig['score'] = df_fig.groupby('continent_name')['score'].transform(lambda x: (x - x.min()) / (x.max() - x.min()) * 9 + 1)\n",
    "    fig = px.line(df_fig, x = 'decade', y = 'score_capita',\n",
    "                  width = 1200, \n",
    "                  height = 600, \n",
    "                  title = region_name, \n",
    "                  template = 'simple_white')\n",
    "                  #line_shape='spline')\n",
    "    \n",
    "    fig.update_layout(legend=dict(title=dict(text='Identifiers Continent')))\n",
    "    fig.update_layout(xaxis=dict(dtick=100))\n",
    "    fig.update_layout(xaxis_title='', yaxis_title='Log Score per Capita')\n",
    "    \n",
    "    return fig"
   ]
  },
  {
   "cell_type": "code",
   "execution_count": 300,
   "id": "357a1a2e-55b0-444b-a338-536bc8326365",
   "metadata": {},
   "outputs": [
    {
     "data": {
      "application/vnd.plotly.v1+json": {
       "config": {
        "plotlyServerURL": "https://plot.ly"
       },
       "data": [
        {
         "hovertemplate": "decade=%{x}<br>score_capita=%{y}<extra></extra>",
         "legendgroup": "",
         "line": {
          "color": "#1F77B4",
          "dash": "solid"
         },
         "marker": {
          "symbol": "circle"
         },
         "mode": "lines",
         "name": "",
         "orientation": "v",
         "showlegend": false,
         "type": "scatter",
         "x": [
          620,
          630,
          660,
          680,
          690,
          700,
          710,
          720,
          730,
          740,
          750,
          780,
          800,
          810,
          820,
          830,
          840,
          850,
          860,
          880,
          890,
          900,
          910,
          920,
          930,
          940,
          950,
          960,
          970,
          980,
          990,
          1000,
          1010,
          1020,
          1030,
          1040,
          1050,
          1060,
          1070,
          1080,
          1090,
          1120,
          1130,
          1140,
          1150,
          1160,
          1170,
          1180,
          1190,
          1200,
          1210,
          1220,
          1230,
          1240,
          1250,
          1260,
          1270,
          1280,
          1300,
          1310,
          1320,
          1330,
          1340,
          1350,
          1360,
          1380,
          1390,
          1410,
          1420,
          1430,
          1440,
          1450,
          1460,
          1470,
          1480,
          1490,
          1500,
          1510,
          1530,
          1540,
          1550,
          1560,
          1570,
          1580,
          1590,
          1600,
          1610,
          1620,
          1630,
          1640,
          1650,
          1660,
          1670,
          1680,
          1690,
          1700,
          1710,
          1720,
          1730,
          1740,
          1750,
          1760,
          1770,
          1780,
          1790,
          1800,
          1810,
          1820,
          1830,
          1840,
          1850
         ],
         "xaxis": "x",
         "y": [
          0.1705963382670654,
          0.16694227161446692,
          0.2924262358737592,
          1.1874304814566203,
          0.7495612698400368,
          0.27193371548364176,
          0.27312945878048517,
          0.27433583049888643,
          0.6687400602077102,
          0.14793607382707094,
          0.278020161540044,
          0.8338145100499165,
          0.4010694966351263,
          0.507645970848611,
          0.28701695769497027,
          0.2883502983369867,
          0.15530209043230014,
          0.5162164724008671,
          0.4117856709107537,
          0.864418901167315,
          0.15926779392563092,
          0.6248980800258385,
          0.4211698188724252,
          0.531949255217284,
          1.1373983137032662,
          0.8077686580975998,
          0.7282385003712153,
          0.1663577058049406,
          0.4385508326939298,
          1.2822250012256842,
          0.17284281283941083,
          0.7646886357774432,
          0.32811564203027155,
          0.3322409186014503,
          1.1631508098056809,
          0.34081377744934993,
          0.18746295629437323,
          0.19014428247516366,
          0.4936578201436254,
          0.49995595152908684,
          0.7414139215297799,
          0.654850895482665,
          0.5340824859302581,
          0.541488403342866,
          0.680877087968131,
          0.21175822908908445,
          0.8628321533493879,
          1.2960597742486921,
          0.9171487327847917,
          1.1260112628562242,
          0.8825287767646248,
          0.4640806109426134,
          1.250022489937265,
          0.31709595765807425,
          0.4353180712578455,
          0.1632278979783749,
          0.6232888827965649,
          1.1075809586508703,
          0.2795848622191615,
          0.5714381543419246,
          0.7798304197287471,
          0.35412211316644243,
          0.24077307788167548,
          0.12310605814529818,
          0.4088264558108693,
          0.5344072315490461,
          0.10786307639970057,
          0.10157574304622614,
          0.18852633368083746,
          0.0959815460598206,
          0.5219902211060512,
          0.251314428280906,
          0.3765971241073122,
          0.16207895002305245,
          0.5668534552356532,
          0.21932154283963448,
          0.21256144198367288,
          0.1420825136137728,
          0.30600951420419326,
          0.18924199963852834,
          0.1841924647297664,
          0.5038142015281867,
          0.411814335786823,
          0.40270648566908473,
          0.4338967752706275,
          0.6325225587435105,
          0.5014491922271478,
          0.301930532478065,
          0.5333047423195908,
          0.5069448639123062,
          0.5083380602941889,
          0.4858084862791702,
          0.510677519500317,
          0.7202039819474586,
          0.7442144701669513,
          0.6046825261745864,
          0.41354166635767625,
          0.4758396773086457,
          0.707186977227428,
          0.3720741172835574,
          0.8426789145309089,
          0.8712041083635658,
          0.7111194229643758,
          1.1950427185822203,
          1.092961328183672,
          1.0265901710105827,
          1.1509802741854256,
          1.0922020103071906,
          1.2065012506792947,
          1.2278240201481159,
          1.3088363020808866
         ],
         "yaxis": "y"
        }
       ],
       "layout": {
        "height": 600,
        "legend": {
         "title": {
          "text": "Identifiers Continent"
         },
         "tracegroupgap": 0
        },
        "template": {
         "data": {
          "bar": [
           {
            "error_x": {
             "color": "rgb(36,36,36)"
            },
            "error_y": {
             "color": "rgb(36,36,36)"
            },
            "marker": {
             "line": {
              "color": "white",
              "width": 0.5
             },
             "pattern": {
              "fillmode": "overlay",
              "size": 10,
              "solidity": 0.2
             }
            },
            "type": "bar"
           }
          ],
          "barpolar": [
           {
            "marker": {
             "line": {
              "color": "white",
              "width": 0.5
             },
             "pattern": {
              "fillmode": "overlay",
              "size": 10,
              "solidity": 0.2
             }
            },
            "type": "barpolar"
           }
          ],
          "carpet": [
           {
            "aaxis": {
             "endlinecolor": "rgb(36,36,36)",
             "gridcolor": "white",
             "linecolor": "white",
             "minorgridcolor": "white",
             "startlinecolor": "rgb(36,36,36)"
            },
            "baxis": {
             "endlinecolor": "rgb(36,36,36)",
             "gridcolor": "white",
             "linecolor": "white",
             "minorgridcolor": "white",
             "startlinecolor": "rgb(36,36,36)"
            },
            "type": "carpet"
           }
          ],
          "choropleth": [
           {
            "colorbar": {
             "outlinewidth": 1,
             "tickcolor": "rgb(36,36,36)",
             "ticks": "outside"
            },
            "type": "choropleth"
           }
          ],
          "contour": [
           {
            "colorbar": {
             "outlinewidth": 1,
             "tickcolor": "rgb(36,36,36)",
             "ticks": "outside"
            },
            "colorscale": [
             [
              0,
              "#440154"
             ],
             [
              0.1111111111111111,
              "#482878"
             ],
             [
              0.2222222222222222,
              "#3e4989"
             ],
             [
              0.3333333333333333,
              "#31688e"
             ],
             [
              0.4444444444444444,
              "#26828e"
             ],
             [
              0.5555555555555556,
              "#1f9e89"
             ],
             [
              0.6666666666666666,
              "#35b779"
             ],
             [
              0.7777777777777778,
              "#6ece58"
             ],
             [
              0.8888888888888888,
              "#b5de2b"
             ],
             [
              1,
              "#fde725"
             ]
            ],
            "type": "contour"
           }
          ],
          "contourcarpet": [
           {
            "colorbar": {
             "outlinewidth": 1,
             "tickcolor": "rgb(36,36,36)",
             "ticks": "outside"
            },
            "type": "contourcarpet"
           }
          ],
          "heatmap": [
           {
            "colorbar": {
             "outlinewidth": 1,
             "tickcolor": "rgb(36,36,36)",
             "ticks": "outside"
            },
            "colorscale": [
             [
              0,
              "#440154"
             ],
             [
              0.1111111111111111,
              "#482878"
             ],
             [
              0.2222222222222222,
              "#3e4989"
             ],
             [
              0.3333333333333333,
              "#31688e"
             ],
             [
              0.4444444444444444,
              "#26828e"
             ],
             [
              0.5555555555555556,
              "#1f9e89"
             ],
             [
              0.6666666666666666,
              "#35b779"
             ],
             [
              0.7777777777777778,
              "#6ece58"
             ],
             [
              0.8888888888888888,
              "#b5de2b"
             ],
             [
              1,
              "#fde725"
             ]
            ],
            "type": "heatmap"
           }
          ],
          "heatmapgl": [
           {
            "colorbar": {
             "outlinewidth": 1,
             "tickcolor": "rgb(36,36,36)",
             "ticks": "outside"
            },
            "colorscale": [
             [
              0,
              "#440154"
             ],
             [
              0.1111111111111111,
              "#482878"
             ],
             [
              0.2222222222222222,
              "#3e4989"
             ],
             [
              0.3333333333333333,
              "#31688e"
             ],
             [
              0.4444444444444444,
              "#26828e"
             ],
             [
              0.5555555555555556,
              "#1f9e89"
             ],
             [
              0.6666666666666666,
              "#35b779"
             ],
             [
              0.7777777777777778,
              "#6ece58"
             ],
             [
              0.8888888888888888,
              "#b5de2b"
             ],
             [
              1,
              "#fde725"
             ]
            ],
            "type": "heatmapgl"
           }
          ],
          "histogram": [
           {
            "marker": {
             "line": {
              "color": "white",
              "width": 0.6
             }
            },
            "type": "histogram"
           }
          ],
          "histogram2d": [
           {
            "colorbar": {
             "outlinewidth": 1,
             "tickcolor": "rgb(36,36,36)",
             "ticks": "outside"
            },
            "colorscale": [
             [
              0,
              "#440154"
             ],
             [
              0.1111111111111111,
              "#482878"
             ],
             [
              0.2222222222222222,
              "#3e4989"
             ],
             [
              0.3333333333333333,
              "#31688e"
             ],
             [
              0.4444444444444444,
              "#26828e"
             ],
             [
              0.5555555555555556,
              "#1f9e89"
             ],
             [
              0.6666666666666666,
              "#35b779"
             ],
             [
              0.7777777777777778,
              "#6ece58"
             ],
             [
              0.8888888888888888,
              "#b5de2b"
             ],
             [
              1,
              "#fde725"
             ]
            ],
            "type": "histogram2d"
           }
          ],
          "histogram2dcontour": [
           {
            "colorbar": {
             "outlinewidth": 1,
             "tickcolor": "rgb(36,36,36)",
             "ticks": "outside"
            },
            "colorscale": [
             [
              0,
              "#440154"
             ],
             [
              0.1111111111111111,
              "#482878"
             ],
             [
              0.2222222222222222,
              "#3e4989"
             ],
             [
              0.3333333333333333,
              "#31688e"
             ],
             [
              0.4444444444444444,
              "#26828e"
             ],
             [
              0.5555555555555556,
              "#1f9e89"
             ],
             [
              0.6666666666666666,
              "#35b779"
             ],
             [
              0.7777777777777778,
              "#6ece58"
             ],
             [
              0.8888888888888888,
              "#b5de2b"
             ],
             [
              1,
              "#fde725"
             ]
            ],
            "type": "histogram2dcontour"
           }
          ],
          "mesh3d": [
           {
            "colorbar": {
             "outlinewidth": 1,
             "tickcolor": "rgb(36,36,36)",
             "ticks": "outside"
            },
            "type": "mesh3d"
           }
          ],
          "parcoords": [
           {
            "line": {
             "colorbar": {
              "outlinewidth": 1,
              "tickcolor": "rgb(36,36,36)",
              "ticks": "outside"
             }
            },
            "type": "parcoords"
           }
          ],
          "pie": [
           {
            "automargin": true,
            "type": "pie"
           }
          ],
          "scatter": [
           {
            "marker": {
             "colorbar": {
              "outlinewidth": 1,
              "tickcolor": "rgb(36,36,36)",
              "ticks": "outside"
             }
            },
            "type": "scatter"
           }
          ],
          "scatter3d": [
           {
            "line": {
             "colorbar": {
              "outlinewidth": 1,
              "tickcolor": "rgb(36,36,36)",
              "ticks": "outside"
             }
            },
            "marker": {
             "colorbar": {
              "outlinewidth": 1,
              "tickcolor": "rgb(36,36,36)",
              "ticks": "outside"
             }
            },
            "type": "scatter3d"
           }
          ],
          "scattercarpet": [
           {
            "marker": {
             "colorbar": {
              "outlinewidth": 1,
              "tickcolor": "rgb(36,36,36)",
              "ticks": "outside"
             }
            },
            "type": "scattercarpet"
           }
          ],
          "scattergeo": [
           {
            "marker": {
             "colorbar": {
              "outlinewidth": 1,
              "tickcolor": "rgb(36,36,36)",
              "ticks": "outside"
             }
            },
            "type": "scattergeo"
           }
          ],
          "scattergl": [
           {
            "marker": {
             "colorbar": {
              "outlinewidth": 1,
              "tickcolor": "rgb(36,36,36)",
              "ticks": "outside"
             }
            },
            "type": "scattergl"
           }
          ],
          "scattermapbox": [
           {
            "marker": {
             "colorbar": {
              "outlinewidth": 1,
              "tickcolor": "rgb(36,36,36)",
              "ticks": "outside"
             }
            },
            "type": "scattermapbox"
           }
          ],
          "scatterpolar": [
           {
            "marker": {
             "colorbar": {
              "outlinewidth": 1,
              "tickcolor": "rgb(36,36,36)",
              "ticks": "outside"
             }
            },
            "type": "scatterpolar"
           }
          ],
          "scatterpolargl": [
           {
            "marker": {
             "colorbar": {
              "outlinewidth": 1,
              "tickcolor": "rgb(36,36,36)",
              "ticks": "outside"
             }
            },
            "type": "scatterpolargl"
           }
          ],
          "scatterternary": [
           {
            "marker": {
             "colorbar": {
              "outlinewidth": 1,
              "tickcolor": "rgb(36,36,36)",
              "ticks": "outside"
             }
            },
            "type": "scatterternary"
           }
          ],
          "surface": [
           {
            "colorbar": {
             "outlinewidth": 1,
             "tickcolor": "rgb(36,36,36)",
             "ticks": "outside"
            },
            "colorscale": [
             [
              0,
              "#440154"
             ],
             [
              0.1111111111111111,
              "#482878"
             ],
             [
              0.2222222222222222,
              "#3e4989"
             ],
             [
              0.3333333333333333,
              "#31688e"
             ],
             [
              0.4444444444444444,
              "#26828e"
             ],
             [
              0.5555555555555556,
              "#1f9e89"
             ],
             [
              0.6666666666666666,
              "#35b779"
             ],
             [
              0.7777777777777778,
              "#6ece58"
             ],
             [
              0.8888888888888888,
              "#b5de2b"
             ],
             [
              1,
              "#fde725"
             ]
            ],
            "type": "surface"
           }
          ],
          "table": [
           {
            "cells": {
             "fill": {
              "color": "rgb(237,237,237)"
             },
             "line": {
              "color": "white"
             }
            },
            "header": {
             "fill": {
              "color": "rgb(217,217,217)"
             },
             "line": {
              "color": "white"
             }
            },
            "type": "table"
           }
          ]
         },
         "layout": {
          "annotationdefaults": {
           "arrowhead": 0,
           "arrowwidth": 1
          },
          "autotypenumbers": "strict",
          "coloraxis": {
           "colorbar": {
            "outlinewidth": 1,
            "tickcolor": "rgb(36,36,36)",
            "ticks": "outside"
           }
          },
          "colorscale": {
           "diverging": [
            [
             0,
             "rgb(103,0,31)"
            ],
            [
             0.1,
             "rgb(178,24,43)"
            ],
            [
             0.2,
             "rgb(214,96,77)"
            ],
            [
             0.3,
             "rgb(244,165,130)"
            ],
            [
             0.4,
             "rgb(253,219,199)"
            ],
            [
             0.5,
             "rgb(247,247,247)"
            ],
            [
             0.6,
             "rgb(209,229,240)"
            ],
            [
             0.7,
             "rgb(146,197,222)"
            ],
            [
             0.8,
             "rgb(67,147,195)"
            ],
            [
             0.9,
             "rgb(33,102,172)"
            ],
            [
             1,
             "rgb(5,48,97)"
            ]
           ],
           "sequential": [
            [
             0,
             "#440154"
            ],
            [
             0.1111111111111111,
             "#482878"
            ],
            [
             0.2222222222222222,
             "#3e4989"
            ],
            [
             0.3333333333333333,
             "#31688e"
            ],
            [
             0.4444444444444444,
             "#26828e"
            ],
            [
             0.5555555555555556,
             "#1f9e89"
            ],
            [
             0.6666666666666666,
             "#35b779"
            ],
            [
             0.7777777777777778,
             "#6ece58"
            ],
            [
             0.8888888888888888,
             "#b5de2b"
            ],
            [
             1,
             "#fde725"
            ]
           ],
           "sequentialminus": [
            [
             0,
             "#440154"
            ],
            [
             0.1111111111111111,
             "#482878"
            ],
            [
             0.2222222222222222,
             "#3e4989"
            ],
            [
             0.3333333333333333,
             "#31688e"
            ],
            [
             0.4444444444444444,
             "#26828e"
            ],
            [
             0.5555555555555556,
             "#1f9e89"
            ],
            [
             0.6666666666666666,
             "#35b779"
            ],
            [
             0.7777777777777778,
             "#6ece58"
            ],
            [
             0.8888888888888888,
             "#b5de2b"
            ],
            [
             1,
             "#fde725"
            ]
           ]
          },
          "colorway": [
           "#1F77B4",
           "#FF7F0E",
           "#2CA02C",
           "#D62728",
           "#9467BD",
           "#8C564B",
           "#E377C2",
           "#7F7F7F",
           "#BCBD22",
           "#17BECF"
          ],
          "font": {
           "color": "rgb(36,36,36)"
          },
          "geo": {
           "bgcolor": "white",
           "lakecolor": "white",
           "landcolor": "white",
           "showlakes": true,
           "showland": true,
           "subunitcolor": "white"
          },
          "hoverlabel": {
           "align": "left"
          },
          "hovermode": "closest",
          "mapbox": {
           "style": "light"
          },
          "paper_bgcolor": "white",
          "plot_bgcolor": "white",
          "polar": {
           "angularaxis": {
            "gridcolor": "rgb(232,232,232)",
            "linecolor": "rgb(36,36,36)",
            "showgrid": false,
            "showline": true,
            "ticks": "outside"
           },
           "bgcolor": "white",
           "radialaxis": {
            "gridcolor": "rgb(232,232,232)",
            "linecolor": "rgb(36,36,36)",
            "showgrid": false,
            "showline": true,
            "ticks": "outside"
           }
          },
          "scene": {
           "xaxis": {
            "backgroundcolor": "white",
            "gridcolor": "rgb(232,232,232)",
            "gridwidth": 2,
            "linecolor": "rgb(36,36,36)",
            "showbackground": true,
            "showgrid": false,
            "showline": true,
            "ticks": "outside",
            "zeroline": false,
            "zerolinecolor": "rgb(36,36,36)"
           },
           "yaxis": {
            "backgroundcolor": "white",
            "gridcolor": "rgb(232,232,232)",
            "gridwidth": 2,
            "linecolor": "rgb(36,36,36)",
            "showbackground": true,
            "showgrid": false,
            "showline": true,
            "ticks": "outside",
            "zeroline": false,
            "zerolinecolor": "rgb(36,36,36)"
           },
           "zaxis": {
            "backgroundcolor": "white",
            "gridcolor": "rgb(232,232,232)",
            "gridwidth": 2,
            "linecolor": "rgb(36,36,36)",
            "showbackground": true,
            "showgrid": false,
            "showline": true,
            "ticks": "outside",
            "zeroline": false,
            "zerolinecolor": "rgb(36,36,36)"
           }
          },
          "shapedefaults": {
           "fillcolor": "black",
           "line": {
            "width": 0
           },
           "opacity": 0.3
          },
          "ternary": {
           "aaxis": {
            "gridcolor": "rgb(232,232,232)",
            "linecolor": "rgb(36,36,36)",
            "showgrid": false,
            "showline": true,
            "ticks": "outside"
           },
           "baxis": {
            "gridcolor": "rgb(232,232,232)",
            "linecolor": "rgb(36,36,36)",
            "showgrid": false,
            "showline": true,
            "ticks": "outside"
           },
           "bgcolor": "white",
           "caxis": {
            "gridcolor": "rgb(232,232,232)",
            "linecolor": "rgb(36,36,36)",
            "showgrid": false,
            "showline": true,
            "ticks": "outside"
           }
          },
          "title": {
           "x": 0.05
          },
          "xaxis": {
           "automargin": true,
           "gridcolor": "rgb(232,232,232)",
           "linecolor": "rgb(36,36,36)",
           "showgrid": false,
           "showline": true,
           "ticks": "outside",
           "title": {
            "standoff": 15
           },
           "zeroline": false,
           "zerolinecolor": "rgb(36,36,36)"
          },
          "yaxis": {
           "automargin": true,
           "gridcolor": "rgb(232,232,232)",
           "linecolor": "rgb(36,36,36)",
           "showgrid": false,
           "showline": true,
           "ticks": "outside",
           "title": {
            "standoff": 15
           },
           "zeroline": false,
           "zerolinecolor": "rgb(36,36,36)"
          }
         }
        },
        "title": {
         "text": "Japan"
        },
        "width": 1200,
        "xaxis": {
         "anchor": "y",
         "autorange": true,
         "domain": [
          0,
          1
         ],
         "dtick": 100,
         "range": [
          620,
          1850
         ],
         "title": {
          "text": ""
         },
         "type": "linear"
        },
        "yaxis": {
         "anchor": "x",
         "autorange": true,
         "domain": [
          0,
          1
         ],
         "range": [
          0.028600726280872485,
          1.3762171218598347
         ],
         "title": {
          "text": "Log Score per Capita"
         },
         "type": "linear"
        }
       }
      },
      "image/png": "[encoded data removed]",
      "text/html": [
       "<div>                            <div id=\"4b0afc1f-1815-4104-a85c-a85d02b2830d\" class=\"plotly-graph-div\" style=\"height:600px; width:1200px;\"></div>            <script type=\"text/javascript\">                require([\"plotly\"], function(Plotly) {                    window.PLOTLYENV=window.PLOTLYENV || {};                                    if (document.getElementById(\"4b0afc1f-1815-4104-a85c-a85d02b2830d\")) {                    Plotly.newPlot(                        \"4b0afc1f-1815-4104-a85c-a85d02b2830d\",                        [{\"hovertemplate\":\"decade=%{x}<br>score_capita=%{y}<extra></extra>\",\"legendgroup\":\"\",\"line\":{\"color\":\"#1F77B4\",\"dash\":\"solid\"},\"marker\":{\"symbol\":\"circle\"},\"mode\":\"lines\",\"name\":\"\",\"orientation\":\"v\",\"showlegend\":false,\"x\":[620,630,660,680,690,700,710,720,730,740,750,780,800,810,820,830,840,850,860,880,890,900,910,920,930,940,950,960,970,980,990,1000,1010,1020,1030,1040,1050,1060,1070,1080,1090,1120,1130,1140,1150,1160,1170,1180,1190,1200,1210,1220,1230,1240,1250,1260,1270,1280,1300,1310,1320,1330,1340,1350,1360,1380,1390,1410,1420,1430,1440,1450,1460,1470,1480,1490,1500,1510,1530,1540,1550,1560,1570,1580,1590,1600,1610,1620,1630,1640,1650,1660,1670,1680,1690,1700,1710,1720,1730,1740,1750,1760,1770,1780,1790,1800,1810,1820,1830,1840,1850],\"xaxis\":\"x\",\"y\":[0.1705963382670654,0.16694227161446692,0.2924262358737592,1.1874304814566203,0.7495612698400368,0.27193371548364176,0.27312945878048517,0.27433583049888643,0.6687400602077102,0.14793607382707094,0.278020161540044,0.8338145100499165,0.4010694966351263,0.507645970848611,0.28701695769497027,0.2883502983369867,0.15530209043230014,0.5162164724008671,0.4117856709107537,0.864418901167315,0.15926779392563092,0.6248980800258385,0.4211698188724252,0.531949255217284,1.1373983137032662,0.8077686580975998,0.7282385003712153,0.1663577058049406,0.4385508326939298,1.2822250012256842,0.17284281283941083,0.7646886357774432,0.32811564203027155,0.3322409186014503,1.1631508098056809,0.34081377744934993,0.18746295629437323,0.19014428247516366,0.4936578201436254,0.49995595152908684,0.7414139215297799,0.654850895482665,0.5340824859302581,0.541488403342866,0.680877087968131,0.21175822908908445,0.8628321533493879,1.2960597742486921,0.9171487327847917,1.1260112628562242,0.8825287767646248,0.4640806109426134,1.250022489937265,0.31709595765807425,0.4353180712578455,0.1632278979783749,0.6232888827965649,1.1075809586508703,0.2795848622191615,0.5714381543419246,0.7798304197287471,0.35412211316644243,0.24077307788167548,0.12310605814529818,0.4088264558108693,0.5344072315490461,0.10786307639970057,0.10157574304622614,0.18852633368083746,0.0959815460598206,0.5219902211060512,0.251314428280906,0.3765971241073122,0.16207895002305245,0.5668534552356532,0.21932154283963448,0.21256144198367288,0.1420825136137728,0.30600951420419326,0.18924199963852834,0.1841924647297664,0.5038142015281867,0.411814335786823,0.40270648566908473,0.4338967752706275,0.6325225587435105,0.5014491922271478,0.301930532478065,0.5333047423195908,0.5069448639123062,0.5083380602941889,0.4858084862791702,0.510677519500317,0.7202039819474586,0.7442144701669513,0.6046825261745864,0.41354166635767625,0.4758396773086457,0.707186977227428,0.3720741172835574,0.8426789145309089,0.8712041083635658,0.7111194229643758,1.1950427185822203,1.092961328183672,1.0265901710105827,1.1509802741854256,1.0922020103071906,1.2065012506792947,1.2278240201481159,1.3088363020808866],\"yaxis\":\"y\",\"type\":\"scatter\"}],                        {\"template\":{\"data\":{\"barpolar\":[{\"marker\":{\"line\":{\"color\":\"white\",\"width\":0.5},\"pattern\":{\"fillmode\":\"overlay\",\"size\":10,\"solidity\":0.2}},\"type\":\"barpolar\"}],\"bar\":[{\"error_x\":{\"color\":\"rgb(36,36,36)\"},\"error_y\":{\"color\":\"rgb(36,36,36)\"},\"marker\":{\"line\":{\"color\":\"white\",\"width\":0.5},\"pattern\":{\"fillmode\":\"overlay\",\"size\":10,\"solidity\":0.2}},\"type\":\"bar\"}],\"carpet\":[{\"aaxis\":{\"endlinecolor\":\"rgb(36,36,36)\",\"gridcolor\":\"white\",\"linecolor\":\"white\",\"minorgridcolor\":\"white\",\"startlinecolor\":\"rgb(36,36,36)\"},\"baxis\":{\"endlinecolor\":\"rgb(36,36,36)\",\"gridcolor\":\"white\",\"linecolor\":\"white\",\"minorgridcolor\":\"white\",\"startlinecolor\":\"rgb(36,36,36)\"},\"type\":\"carpet\"}],\"choropleth\":[{\"colorbar\":{\"outlinewidth\":1,\"tickcolor\":\"rgb(36,36,36)\",\"ticks\":\"outside\"},\"type\":\"choropleth\"}],\"contourcarpet\":[{\"colorbar\":{\"outlinewidth\":1,\"tickcolor\":\"rgb(36,36,36)\",\"ticks\":\"outside\"},\"type\":\"contourcarpet\"}],\"contour\":[{\"colorbar\":{\"outlinewidth\":1,\"tickcolor\":\"rgb(36,36,36)\",\"ticks\":\"outside\"},\"colorscale\":[[0.0,\"#440154\"],[0.1111111111111111,\"#482878\"],[0.2222222222222222,\"#3e4989\"],[0.3333333333333333,\"#31688e\"],[0.4444444444444444,\"#26828e\"],[0.5555555555555556,\"#1f9e89\"],[0.6666666666666666,\"#35b779\"],[0.7777777777777778,\"#6ece58\"],[0.8888888888888888,\"#b5de2b\"],[1.0,\"#fde725\"]],\"type\":\"contour\"}],\"heatmapgl\":[{\"colorbar\":{\"outlinewidth\":1,\"tickcolor\":\"rgb(36,36,36)\",\"ticks\":\"outside\"},\"colorscale\":[[0.0,\"#440154\"],[0.1111111111111111,\"#482878\"],[0.2222222222222222,\"#3e4989\"],[0.3333333333333333,\"#31688e\"],[0.4444444444444444,\"#26828e\"],[0.5555555555555556,\"#1f9e89\"],[0.6666666666666666,\"#35b779\"],[0.7777777777777778,\"#6ece58\"],[0.8888888888888888,\"#b5de2b\"],[1.0,\"#fde725\"]],\"type\":\"heatmapgl\"}],\"heatmap\":[{\"colorbar\":{\"outlinewidth\":1,\"tickcolor\":\"rgb(36,36,36)\",\"ticks\":\"outside\"},\"colorscale\":[[0.0,\"#440154\"],[0.1111111111111111,\"#482878\"],[0.2222222222222222,\"#3e4989\"],[0.3333333333333333,\"#31688e\"],[0.4444444444444444,\"#26828e\"],[0.5555555555555556,\"#1f9e89\"],[0.6666666666666666,\"#35b779\"],[0.7777777777777778,\"#6ece58\"],[0.8888888888888888,\"#b5de2b\"],[1.0,\"#fde725\"]],\"type\":\"heatmap\"}],\"histogram2dcontour\":[{\"colorbar\":{\"outlinewidth\":1,\"tickcolor\":\"rgb(36,36,36)\",\"ticks\":\"outside\"},\"colorscale\":[[0.0,\"#440154\"],[0.1111111111111111,\"#482878\"],[0.2222222222222222,\"#3e4989\"],[0.3333333333333333,\"#31688e\"],[0.4444444444444444,\"#26828e\"],[0.5555555555555556,\"#1f9e89\"],[0.6666666666666666,\"#35b779\"],[0.7777777777777778,\"#6ece58\"],[0.8888888888888888,\"#b5de2b\"],[1.0,\"#fde725\"]],\"type\":\"histogram2dcontour\"}],\"histogram2d\":[{\"colorbar\":{\"outlinewidth\":1,\"tickcolor\":\"rgb(36,36,36)\",\"ticks\":\"outside\"},\"colorscale\":[[0.0,\"#440154\"],[0.1111111111111111,\"#482878\"],[0.2222222222222222,\"#3e4989\"],[0.3333333333333333,\"#31688e\"],[0.4444444444444444,\"#26828e\"],[0.5555555555555556,\"#1f9e89\"],[0.6666666666666666,\"#35b779\"],[0.7777777777777778,\"#6ece58\"],[0.8888888888888888,\"#b5de2b\"],[1.0,\"#fde725\"]],\"type\":\"histogram2d\"}],\"histogram\":[{\"marker\":{\"line\":{\"color\":\"white\",\"width\":0.6}},\"type\":\"histogram\"}],\"mesh3d\":[{\"colorbar\":{\"outlinewidth\":1,\"tickcolor\":\"rgb(36,36,36)\",\"ticks\":\"outside\"},\"type\":\"mesh3d\"}],\"parcoords\":[{\"line\":{\"colorbar\":{\"outlinewidth\":1,\"tickcolor\":\"rgb(36,36,36)\",\"ticks\":\"outside\"}},\"type\":\"parcoords\"}],\"pie\":[{\"automargin\":true,\"type\":\"pie\"}],\"scatter3d\":[{\"line\":{\"colorbar\":{\"outlinewidth\":1,\"tickcolor\":\"rgb(36,36,36)\",\"ticks\":\"outside\"}},\"marker\":{\"colorbar\":{\"outlinewidth\":1,\"tickcolor\":\"rgb(36,36,36)\",\"ticks\":\"outside\"}},\"type\":\"scatter3d\"}],\"scattercarpet\":[{\"marker\":{\"colorbar\":{\"outlinewidth\":1,\"tickcolor\":\"rgb(36,36,36)\",\"ticks\":\"outside\"}},\"type\":\"scattercarpet\"}],\"scattergeo\":[{\"marker\":{\"colorbar\":{\"outlinewidth\":1,\"tickcolor\":\"rgb(36,36,36)\",\"ticks\":\"outside\"}},\"type\":\"scattergeo\"}],\"scattergl\":[{\"marker\":{\"colorbar\":{\"outlinewidth\":1,\"tickcolor\":\"rgb(36,36,36)\",\"ticks\":\"outside\"}},\"type\":\"scattergl\"}],\"scattermapbox\":[{\"marker\":{\"colorbar\":{\"outlinewidth\":1,\"tickcolor\":\"rgb(36,36,36)\",\"ticks\":\"outside\"}},\"type\":\"scattermapbox\"}],\"scatterpolargl\":[{\"marker\":{\"colorbar\":{\"outlinewidth\":1,\"tickcolor\":\"rgb(36,36,36)\",\"ticks\":\"outside\"}},\"type\":\"scatterpolargl\"}],\"scatterpolar\":[{\"marker\":{\"colorbar\":{\"outlinewidth\":1,\"tickcolor\":\"rgb(36,36,36)\",\"ticks\":\"outside\"}},\"type\":\"scatterpolar\"}],\"scatter\":[{\"marker\":{\"colorbar\":{\"outlinewidth\":1,\"tickcolor\":\"rgb(36,36,36)\",\"ticks\":\"outside\"}},\"type\":\"scatter\"}],\"scatterternary\":[{\"marker\":{\"colorbar\":{\"outlinewidth\":1,\"tickcolor\":\"rgb(36,36,36)\",\"ticks\":\"outside\"}},\"type\":\"scatterternary\"}],\"surface\":[{\"colorbar\":{\"outlinewidth\":1,\"tickcolor\":\"rgb(36,36,36)\",\"ticks\":\"outside\"},\"colorscale\":[[0.0,\"#440154\"],[0.1111111111111111,\"#482878\"],[0.2222222222222222,\"#3e4989\"],[0.3333333333333333,\"#31688e\"],[0.4444444444444444,\"#26828e\"],[0.5555555555555556,\"#1f9e89\"],[0.6666666666666666,\"#35b779\"],[0.7777777777777778,\"#6ece58\"],[0.8888888888888888,\"#b5de2b\"],[1.0,\"#fde725\"]],\"type\":\"surface\"}],\"table\":[{\"cells\":{\"fill\":{\"color\":\"rgb(237,237,237)\"},\"line\":{\"color\":\"white\"}},\"header\":{\"fill\":{\"color\":\"rgb(217,217,217)\"},\"line\":{\"color\":\"white\"}},\"type\":\"table\"}]},\"layout\":{\"annotationdefaults\":{\"arrowhead\":0,\"arrowwidth\":1},\"autotypenumbers\":\"strict\",\"coloraxis\":{\"colorbar\":{\"outlinewidth\":1,\"tickcolor\":\"rgb(36,36,36)\",\"ticks\":\"outside\"}},\"colorscale\":{\"diverging\":[[0.0,\"rgb(103,0,31)\"],[0.1,\"rgb(178,24,43)\"],[0.2,\"rgb(214,96,77)\"],[0.3,\"rgb(244,165,130)\"],[0.4,\"rgb(253,219,199)\"],[0.5,\"rgb(247,247,247)\"],[0.6,\"rgb(209,229,240)\"],[0.7,\"rgb(146,197,222)\"],[0.8,\"rgb(67,147,195)\"],[0.9,\"rgb(33,102,172)\"],[1.0,\"rgb(5,48,97)\"]],\"sequential\":[[0.0,\"#440154\"],[0.1111111111111111,\"#482878\"],[0.2222222222222222,\"#3e4989\"],[0.3333333333333333,\"#31688e\"],[0.4444444444444444,\"#26828e\"],[0.5555555555555556,\"#1f9e89\"],[0.6666666666666666,\"#35b779\"],[0.7777777777777778,\"#6ece58\"],[0.8888888888888888,\"#b5de2b\"],[1.0,\"#fde725\"]],\"sequentialminus\":[[0.0,\"#440154\"],[0.1111111111111111,\"#482878\"],[0.2222222222222222,\"#3e4989\"],[0.3333333333333333,\"#31688e\"],[0.4444444444444444,\"#26828e\"],[0.5555555555555556,\"#1f9e89\"],[0.6666666666666666,\"#35b779\"],[0.7777777777777778,\"#6ece58\"],[0.8888888888888888,\"#b5de2b\"],[1.0,\"#fde725\"]]},\"colorway\":[\"#1F77B4\",\"#FF7F0E\",\"#2CA02C\",\"#D62728\",\"#9467BD\",\"#8C564B\",\"#E377C2\",\"#7F7F7F\",\"#BCBD22\",\"#17BECF\"],\"font\":{\"color\":\"rgb(36,36,36)\"},\"geo\":{\"bgcolor\":\"white\",\"lakecolor\":\"white\",\"landcolor\":\"white\",\"showlakes\":true,\"showland\":true,\"subunitcolor\":\"white\"},\"hoverlabel\":{\"align\":\"left\"},\"hovermode\":\"closest\",\"mapbox\":{\"style\":\"light\"},\"paper_bgcolor\":\"white\",\"plot_bgcolor\":\"white\",\"polar\":{\"angularaxis\":{\"gridcolor\":\"rgb(232,232,232)\",\"linecolor\":\"rgb(36,36,36)\",\"showgrid\":false,\"showline\":true,\"ticks\":\"outside\"},\"bgcolor\":\"white\",\"radialaxis\":{\"gridcolor\":\"rgb(232,232,232)\",\"linecolor\":\"rgb(36,36,36)\",\"showgrid\":false,\"showline\":true,\"ticks\":\"outside\"}},\"scene\":{\"xaxis\":{\"backgroundcolor\":\"white\",\"gridcolor\":\"rgb(232,232,232)\",\"gridwidth\":2,\"linecolor\":\"rgb(36,36,36)\",\"showbackground\":true,\"showgrid\":false,\"showline\":true,\"ticks\":\"outside\",\"zeroline\":false,\"zerolinecolor\":\"rgb(36,36,36)\"},\"yaxis\":{\"backgroundcolor\":\"white\",\"gridcolor\":\"rgb(232,232,232)\",\"gridwidth\":2,\"linecolor\":\"rgb(36,36,36)\",\"showbackground\":true,\"showgrid\":false,\"showline\":true,\"ticks\":\"outside\",\"zeroline\":false,\"zerolinecolor\":\"rgb(36,36,36)\"},\"zaxis\":{\"backgroundcolor\":\"white\",\"gridcolor\":\"rgb(232,232,232)\",\"gridwidth\":2,\"linecolor\":\"rgb(36,36,36)\",\"showbackground\":true,\"showgrid\":false,\"showline\":true,\"ticks\":\"outside\",\"zeroline\":false,\"zerolinecolor\":\"rgb(36,36,36)\"}},\"shapedefaults\":{\"fillcolor\":\"black\",\"line\":{\"width\":0},\"opacity\":0.3},\"ternary\":{\"aaxis\":{\"gridcolor\":\"rgb(232,232,232)\",\"linecolor\":\"rgb(36,36,36)\",\"showgrid\":false,\"showline\":true,\"ticks\":\"outside\"},\"baxis\":{\"gridcolor\":\"rgb(232,232,232)\",\"linecolor\":\"rgb(36,36,36)\",\"showgrid\":false,\"showline\":true,\"ticks\":\"outside\"},\"bgcolor\":\"white\",\"caxis\":{\"gridcolor\":\"rgb(232,232,232)\",\"linecolor\":\"rgb(36,36,36)\",\"showgrid\":false,\"showline\":true,\"ticks\":\"outside\"}},\"title\":{\"x\":0.05},\"xaxis\":{\"automargin\":true,\"gridcolor\":\"rgb(232,232,232)\",\"linecolor\":\"rgb(36,36,36)\",\"showgrid\":false,\"showline\":true,\"ticks\":\"outside\",\"title\":{\"standoff\":15},\"zeroline\":false,\"zerolinecolor\":\"rgb(36,36,36)\"},\"yaxis\":{\"automargin\":true,\"gridcolor\":\"rgb(232,232,232)\",\"linecolor\":\"rgb(36,36,36)\",\"showgrid\":false,\"showline\":true,\"ticks\":\"outside\",\"title\":{\"standoff\":15},\"zeroline\":false,\"zerolinecolor\":\"rgb(36,36,36)\"}}},\"xaxis\":{\"anchor\":\"y\",\"domain\":[0.0,1.0],\"title\":{\"text\":\"\"},\"dtick\":100},\"yaxis\":{\"anchor\":\"x\",\"domain\":[0.0,1.0],\"title\":{\"text\":\"Log Score per Capita\"}},\"legend\":{\"tracegroupgap\":0,\"title\":{\"text\":\"Identifiers Continent\"}},\"title\":{\"text\":\"Japan\"},\"height\":600,\"width\":1200},                        {\"responsive\": true}                    ).then(function(){\n",
       "                            \n",
       "var gd = document.getElementById('4b0afc1f-1815-4104-a85c-a85d02b2830d');\n",
       "var x = new MutationObserver(function (mutations, observer) {{\n",
       "        var display = window.getComputedStyle(gd).display;\n",
       "        if (!display || display === 'none') {{\n",
       "            console.log([gd, 'removed!']);\n",
       "            Plotly.purge(gd);\n",
       "            observer.disconnect();\n",
       "        }}\n",
       "}});\n",
       "\n",
       "// Listen for the removal of the full notebook cells\n",
       "var notebookContainer = gd.closest('#notebook-container');\n",
       "if (notebookContainer) {{\n",
       "    x.observe(notebookContainer, {childList: true});\n",
       "}}\n",
       "\n",
       "// Listen for the clearing of the current output cell\n",
       "var outputEl = gd.closest('.output');\n",
       "if (outputEl) {{\n",
       "    x.observe(outputEl, {childList: true});\n",
       "}}\n",
       "\n",
       "                        })                };                });            </script>        </div>"
      ]
     },
     "metadata": {},
     "output_type": "display_data"
    }
   ],
   "source": [
    "region_name = 'Japan'\n",
    "fig = make_score_per_capita(df_trend, region_name = region_name, min_decade = -500, max_decade = 1850)\n",
    "fig.show()\n",
    "fig.write_image(f\"graph_18_05/{region_name}_cultural_score.png\", scale=7)"
   ]
  },
  {
   "cell_type": "code",
   "execution_count": null,
   "id": "80e8ba4f-1162-4911-bb4e-d3027879fc81",
   "metadata": {},
   "outputs": [],
   "source": []
  },
  {
   "cell_type": "code",
   "execution_count": null,
   "id": "bf2ba589-2eb4-45ee-b75b-eb5f25199357",
   "metadata": {},
   "outputs": [],
   "source": []
  },
  {
   "cell_type": "code",
   "execution_count": 217,
   "id": "3401ef69-6446-4a52-b373-61b12213a2f5",
   "metadata": {},
   "outputs": [],
   "source": []
  },
  {
   "cell_type": "code",
   "execution_count": null,
   "id": "4168a551-b480-4361-85bd-e8139c10c2f8",
   "metadata": {},
   "outputs": [],
   "source": []
  },
  {
   "cell_type": "code",
   "execution_count": null,
   "id": "ee9be353-e813-4f42-951e-eee8c2eaeb5e",
   "metadata": {},
   "outputs": [],
   "source": []
  },
  {
   "cell_type": "code",
   "execution_count": null,
   "id": "d77775ea-d7ee-46c7-a8fa-cc8ac5aa294f",
   "metadata": {},
   "outputs": [],
   "source": []
  },
  {
   "cell_type": "code",
   "execution_count": null,
   "id": "080258ea-6677-4a27-8ab7-58d6a0b9e9ec",
   "metadata": {},
   "outputs": [],
   "source": []
  },
  {
   "cell_type": "code",
   "execution_count": null,
   "id": "a806a0d3-3719-488b-8871-8d7ffa7a6376",
   "metadata": {},
   "outputs": [],
   "source": []
  },
  {
   "cell_type": "code",
   "execution_count": null,
   "id": "5623ef92-0f98-4a63-9baa-3b0a15be95fc",
   "metadata": {},
   "outputs": [],
   "source": []
  },
  {
   "cell_type": "code",
   "execution_count": null,
   "id": "b939fa5f-aad1-430b-a7c8-c007b52daa63",
   "metadata": {
    "tags": []
   },
   "outputs": [],
   "source": []
  },
  {
   "cell_type": "code",
   "execution_count": null,
   "id": "7dbdd7ae-28f0-4daf-83fa-76d3c19653ce",
   "metadata": {
    "tags": []
   },
   "outputs": [],
   "source": []
  },
  {
   "cell_type": "code",
   "execution_count": null,
   "id": "80c145e9-33cf-4276-8dbb-3816d0a52998",
   "metadata": {
    "tags": []
   },
   "outputs": [],
   "source": []
  },
  {
   "cell_type": "code",
   "execution_count": null,
   "id": "b7c471b9-4825-49c7-a299-e272e6987649",
   "metadata": {
    "tags": []
   },
   "outputs": [],
   "source": []
  },
  {
   "cell_type": "code",
   "execution_count": null,
   "id": "9396d55b-5004-4ae0-9a27-df2d604c4dd4",
   "metadata": {
    "tags": []
   },
   "outputs": [],
   "source": []
  },
  {
   "cell_type": "code",
   "execution_count": null,
   "id": "16864be7-c63c-418e-a2ca-95b87206556f",
   "metadata": {},
   "outputs": [],
   "source": []
  }
 ],
 "metadata": {
  "kernelspec": {
   "display_name": "Python 3 (ipykernel)",
   "language": "python",
   "name": "python3"
  },
  "language_info": {
   "codemirror_mode": {
    "name": "ipython",
    "version": 3
   },
   "file_extension": ".py",
   "mimetype": "text/x-python",
   "name": "python",
   "nbconvert_exporter": "python",
   "pygments_lexer": "ipython3",
   "version": "3.8.17"
  }
 },
 "nbformat": 4,
 "nbformat_minor": 5
}
