{
 "cells": [
  {
   "cell_type": "code",
   "execution_count": 1,
   "id": "65d4957e-a249-4be6-adc7-de9a46ed00e5",
   "metadata": {},
   "outputs": [
    {
     "name": "stderr",
     "output_type": "stream",
     "text": [
      "100%|████████████████████████████████| 225636/225636 [00:11<00:00, 19130.45it/s]\n"
     ]
    }
   ],
   "source": [
    "import sys\n",
    "sys.path.append('../')\n",
    "\n",
    "import seaborn as sns\n",
    "from data_model import Individual\n",
    "from sys_utils import load_model\n",
    "\n",
    "checkpoint_path = '../checkpoints_dev'\n",
    "\n",
    "individuals = load_model(\n",
    "        Individual, name=checkpoint_path + \"/individuals.jsonl\"\n",
    "    )\n",
    "\n",
    "from tqdm import tqdm\n",
    "\n",
    "all_page = []\n",
    "for ind in tqdm(individuals):\n",
    "    try:\n",
    "        for page in ind.wikipedia_pages:\n",
    "            res = page.dict()\n",
    "            res['wikidata_id'] = ind.id.wikidata_id\n",
    "            all_page.append(res)\n",
    "    except:\n",
    "        pass\n",
    "    \n",
    "template = 'simple_white'\n",
    "\n",
    "import pandas as pd\n",
    "\n",
    "df_proxies_all = pd.DataFrame(all_page)\n",
    "df_proxies = df_proxies_all[~df_proxies_all['language'].str.contains('commons.wikimedia')]\n",
    "df_proxies = df_proxies.groupby('wikidata_id').sum()"
   ]
  },
  {
   "cell_type": "code",
   "execution_count": 3,
   "id": "b8ff6508-8092-4e44-afad-dbb64735d2af",
   "metadata": {},
   "outputs": [],
   "source": [
    "# cultural index and count for Low Countries"
   ]
  },
  {
   "cell_type": "code",
   "execution_count": null,
   "id": "25b02d9d-d954-4e07-ade0-a004afc3b433",
   "metadata": {},
   "outputs": [],
   "source": []
  },
  {
   "cell_type": "code",
   "execution_count": null,
   "id": "60978d8a-8651-424c-afcc-09d4aeb60df6",
   "metadata": {},
   "outputs": [],
   "source": []
  },
  {
   "cell_type": "code",
   "execution_count": 20,
   "id": "28e5ce7a-9f93-4af2-9f58-90066f0c0120",
   "metadata": {},
   "outputs": [
    {
     "data": {
      "text/plain": [
       "Individual(id=RawIndividual(wikidata_id='Q6121397', name='Santos Domínguez y Benguria', birthyear=1841, gender=['male'], raw_nationalities=[RawNationality(wikidata_id='Q29', name='Spain', location='Point(-3.5 40.2)')], raw_birthcities=None, occupations=[Occupation(wikidata_id='Q42973', name='architect', category=['artist'])]), impact_years=(1850, 1900), cultural_score=0.10024749047065873, country=Country(name='Spain', code='es'), wikipedia_pages=[WikipediaPage(url='https://es.wikipedia.org/wiki/Santos_Dom%C3%ADnguez_y_Benguria', language='es', links_ext_count=5, links_out_count=25, links_in_count=9, author='Doctor seisdedos', author_editcount=2986, editors=16, minor_edits=9, revisions=26, pageviews=23, characters=1187, references=0, unique_references=0, words=199, created_at='2006-11-19')], regions=['re_western_europe', 're_spain'], identifiers=[ExternalID(wikidata_id='P213', name='ISNI'), ExternalID(wikidata_id='P214', name='VIAF ID'), ExternalID(wikidata_id='P244', name='Library of Congress authority ID'), ExternalID(wikidata_id='P2163', name='FAST ID'), ExternalID(wikidata_id='P2671', name='Google Knowledge Graph ID'), ExternalID(wikidata_id='P7859', name='WorldCat Identities ID')])"
      ]
     },
     "execution_count": 20,
     "metadata": {},
     "output_type": "execute_result"
    }
   ],
   "source": [
    "individuals_filtered[1]."
   ]
  },
  {
   "cell_type": "code",
   "execution_count": 21,
   "id": "38e3c882-392a-4311-8c33-ef70914eef6f",
   "metadata": {},
   "outputs": [],
   "source": [
    "individuals_filtered = [x for x in individuals if x.regions != None]\n",
    "\n",
    "df_individuals = [\n",
    "    {\n",
    "        \"wikidata_id\": x.id.wikidata_id,\n",
    "        \"region_code\": x.regions,\n",
    "        \"cultural_score\":x.cultural_score,\n",
    "         \"year\": x.impact_years,\n",
    "        \"birthyear\":x.id.birthyear\n",
    "    }\n",
    "    for x in individuals_filtered\n",
    "]\n",
    "\n",
    "\n",
    "from data_model_region import Region\n",
    "df = pd.DataFrame(df_individuals)\n",
    "df = df.explode('region_code')\n",
    "\n",
    "regions = load_model(\n",
    "    Region, name=checkpoint_path + \"/regions.jsonl\"\n",
    ")\n",
    "\n",
    "df_regions = [\n",
    "        {\n",
    "            \"region_code\": x.code,\n",
    "            \"region_name\": x.name,\n",
    "        }\n",
    "        for x in regions\n",
    "    ]\n",
    "\n",
    "df_regions = pd.DataFrame(df_regions)\n",
    "df = pd.merge(df, df_regions, on = 'region_code')\n"
   ]
  },
  {
   "cell_type": "code",
   "execution_count": null,
   "id": "e303d649-f31b-4619-8780-314a58a7445c",
   "metadata": {},
   "outputs": [],
   "source": []
  },
  {
   "cell_type": "code",
   "execution_count": 22,
   "id": "ff94d14e-4266-4713-a799-53cee7075414",
   "metadata": {},
   "outputs": [],
   "source": [
    "region = 'Low countries'"
   ]
  },
  {
   "cell_type": "code",
   "execution_count": 27,
   "id": "6e6c2763-22c9-46f2-99e4-f28244f31c64",
   "metadata": {},
   "outputs": [],
   "source": [
    "df_filtered = df[df['region_name']==region]\n",
    "df_filtered = df_filtered.dropna()\n",
    "df_filtered['decade'] = df_filtered['birthyear'].apply(lambda x: round(x / 10) * 10)"
   ]
  },
  {
   "cell_type": "code",
   "execution_count": 34,
   "id": "515f7714-a034-4283-a08e-da05f5665088",
   "metadata": {},
   "outputs": [],
   "source": [
    "df_final = pd.merge(df_proxies, df_filtered, on = 'wikidata_id')"
   ]
  },
  {
   "cell_type": "code",
   "execution_count": null,
   "id": "8af32a4b-d1b0-4694-bfb3-ab6db99b7d14",
   "metadata": {},
   "outputs": [],
   "source": []
  },
  {
   "cell_type": "code",
   "execution_count": 76,
   "id": "ad127552-9362-4b7c-b7e1-a3216fcf3b74",
   "metadata": {},
   "outputs": [
    {
     "name": "stderr",
     "output_type": "stream",
     "text": [
      "/var/folders/lx/9b13r6ln63jb54_3xlf9b_380000gn/T/ipykernel_26265/1638368517.py:14: FutureWarning: In a future version of pandas all arguments of DataFrame.drop except for the argument 'labels' will be keyword-only.\n",
      "  df_normalized = df_normalized.drop('birthyear', 1)\n"
     ]
    }
   ],
   "source": [
    "df_count = df_final.groupby(['decade'])['wikidata_id'].count().reset_index()\n",
    "df_count.columns = ['decade', 'count_individuals']\n",
    "df_others = df_final.groupby(['decade']).sum().reset_index()\n",
    "df_fig = pd.merge(df_others, df_count, on = 'decade')\n",
    "\n",
    "\n",
    "from sklearn.preprocessing import MinMaxScaler\n",
    "# create a MinMaxScaler object\n",
    "scaler = MinMaxScaler()\n",
    "\n",
    "# fit and transform the dataframe\n",
    "df_normalized = pd.DataFrame(scaler.fit_transform(df_fig), columns=df_fig.columns)\n",
    "df_normalized['decade'] = df_fig['decade']\n",
    "df_normalized = df_normalized.drop('birthyear', 1)\n",
    "df_normalized = df_normalized.set_index('decade').unstack().reset_index()\n",
    "df_normalized.columns = ['proxy', 'decade','value']\n",
    "\n",
    "df_normalized = df_normalized[(df_normalized['decade']>=1200)&(df_normalized['decade']<=1850)]"
   ]
  },
  {
   "cell_type": "code",
   "execution_count": null,
   "id": "4887bb09-0568-444c-a034-3a0935515517",
   "metadata": {},
   "outputs": [],
   "source": []
  },
  {
   "cell_type": "code",
   "execution_count": 77,
   "id": "55284943-93fc-4401-8cc1-56c9ed365744",
   "metadata": {},
   "outputs": [],
   "source": []
  },
  {
   "cell_type": "code",
   "execution_count": null,
   "id": "00bc9bbb-36de-4f88-aa4e-267543b9d930",
   "metadata": {},
   "outputs": [],
   "source": []
  },
  {
   "cell_type": "code",
   "execution_count": 81,
   "id": "4486d580-f5bc-42bf-b547-100968305574",
   "metadata": {},
   "outputs": [
    {
     "data": {
      "text/plain": [
       "'temp-plot.html'"
      ]
     },
     "execution_count": 81,
     "metadata": {},
     "output_type": "execute_result"
    }
   ],
   "source": [
    "import plotly.express as px\n",
    "fig = px.line(df_normalized, \n",
    "              x = 'decade', \n",
    "              y = 'value', \n",
    "              color = 'proxy', \n",
    "              width = 1000, \n",
    "              height = 600, \n",
    "              title = \"Low Countries - Correlation between Proxies\", \n",
    "              template = 'plotly_white')\n",
    "\n",
    "fig.update_xaxes(showgrid=False, showticklabels=True, zeroline=False)\n",
    "fig.update_yaxes(showgrid=False, showticklabels=True, zeroline=False)\n",
    "fig.update_layout(title_font=dict(size=20))\n",
    "\n",
    "fig.update_layout(\n",
    "    xaxis_title=\"\",\n",
    "    yaxis_title='Proxies')\n",
    "import plotly\n",
    "plotly.offline.plot(fig)\n",
    "#fig.write_image(f\"save_figures/identifiers_line.png\", scale=7)"
   ]
  },
  {
   "cell_type": "code",
   "execution_count": null,
   "id": "2353573c-af7c-4455-be59-9cbabe30be7d",
   "metadata": {},
   "outputs": [],
   "source": []
  },
  {
   "cell_type": "code",
   "execution_count": null,
   "id": "7497868f-e53c-4a7b-a7a0-efed6599db0e",
   "metadata": {},
   "outputs": [],
   "source": []
  },
  {
   "cell_type": "code",
   "execution_count": null,
   "id": "1c45e944-7ff8-4766-b3ac-3cd3af90954f",
   "metadata": {},
   "outputs": [],
   "source": []
  },
  {
   "cell_type": "code",
   "execution_count": null,
   "id": "5a82298a-0b0e-42c4-bf3a-989c047367fa",
   "metadata": {},
   "outputs": [],
   "source": []
  },
  {
   "cell_type": "code",
   "execution_count": null,
   "id": "1a7063ba-bcae-485e-98b3-e1830f98a2b6",
   "metadata": {},
   "outputs": [],
   "source": []
  }
 ],
 "metadata": {
  "kernelspec": {
   "display_name": "Python 3 (ipykernel)",
   "language": "python",
   "name": "python3"
  },
  "language_info": {
   "codemirror_mode": {
    "name": "ipython",
    "version": 3
   },
   "file_extension": ".py",
   "mimetype": "text/x-python",
   "name": "python",
   "nbconvert_exporter": "python",
   "pygments_lexer": "ipython3",
   "version": "3.8.16"
  }
 },
 "nbformat": 4,
 "nbformat_minor": 5
}
