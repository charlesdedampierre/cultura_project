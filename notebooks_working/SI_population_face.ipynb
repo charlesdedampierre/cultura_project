{
 "cells": [
  {
   "cell_type": "code",
   "execution_count": 1,
   "id": "22fe866c-e3e9-4005-8705-771cdbe5a29c",
   "metadata": {},
   "outputs": [],
   "source": [
    "import pandas as pd"
   ]
  },
  {
   "cell_type": "code",
   "execution_count": 20,
   "id": "b22c3221-ebda-4657-a9d3-9026de193860",
   "metadata": {},
   "outputs": [],
   "source": [
    "df_pop = pd.read_csv('/Users/charlesdedampierre/Desktop/ENS Projects/cultural_index/src/enricher/data_env/ENS - Cultural Index - Countries Databases - population_consolidate_date_harmonization.csv')\n",
    "\n",
    "df_pop[\"value\"] = df_pop[\"value\"].apply(lambda x: x.replace(\",\", \".\"))\n",
    "df_pop[\"value\"] = df_pop[\"value\"].astype(float)\n",
    "\n",
    "df_pop[\"year\"] = df_pop[\"year\"].apply(lambda x: x.replace(\"\\u202f\", \"\"))\n",
    "df_pop['year'] = df_pop['year'].astype(int)\n",
    "\n",
    "df_pop = df_pop.groupby([\"region_code\", \"year\"])[\"value\"].sum().reset_index()\n",
    "df_pop = df_pop.sort_values(['region_code', 'year'])"
   ]
  },
  {
   "cell_type": "code",
   "execution_count": null,
   "id": "bcb7dd9f-9045-43ef-857b-1706a22cc39e",
   "metadata": {},
   "outputs": [],
   "source": []
  },
  {
   "cell_type": "code",
   "execution_count": 15,
   "id": "2beb9934-cdc5-44c3-b3c9-5d619949cc49",
   "metadata": {},
   "outputs": [],
   "source": [
    "import plotly.express as px\n",
    "import plotly\n",
    "\n",
    "fig = px.scatter(df, x=\"year\", y=\"value\", facet_col=\"region_code\", width = 4000, height = 4000)\n"
   ]
  },
  {
   "cell_type": "code",
   "execution_count": null,
   "id": "5528e873-e71a-4b9e-acbf-0da3f62c4509",
   "metadata": {},
   "outputs": [],
   "source": []
  },
  {
   "cell_type": "code",
   "execution_count": 22,
   "id": "a77d688a-6ce9-43ae-856c-6bded5733fa2",
   "metadata": {},
   "outputs": [
    {
     "data": {
      "text/html": [
       "<div>\n",
       "<style scoped>\n",
       "    .dataframe tbody tr th:only-of-type {\n",
       "        vertical-align: middle;\n",
       "    }\n",
       "\n",
       "    .dataframe tbody tr th {\n",
       "        vertical-align: top;\n",
       "    }\n",
       "\n",
       "    .dataframe thead th {\n",
       "        text-align: right;\n",
       "    }\n",
       "</style>\n",
       "<table border=\"1\" class=\"dataframe\">\n",
       "  <thead>\n",
       "    <tr style=\"text-align: right;\">\n",
       "      <th></th>\n",
       "      <th>region_code</th>\n",
       "      <th>year</th>\n",
       "      <th>value</th>\n",
       "    </tr>\n",
       "  </thead>\n",
       "  <tbody>\n",
       "    <tr>\n",
       "      <th>0</th>\n",
       "      <td>re_andalusia</td>\n",
       "      <td>800</td>\n",
       "      <td>3.75</td>\n",
       "    </tr>\n",
       "    <tr>\n",
       "      <th>1</th>\n",
       "      <td>re_andalusia</td>\n",
       "      <td>900</td>\n",
       "      <td>3.85</td>\n",
       "    </tr>\n",
       "    <tr>\n",
       "      <th>2</th>\n",
       "      <td>re_andalusia</td>\n",
       "      <td>1000</td>\n",
       "      <td>4.00</td>\n",
       "    </tr>\n",
       "    <tr>\n",
       "      <th>3</th>\n",
       "      <td>re_andalusia</td>\n",
       "      <td>1100</td>\n",
       "      <td>4.50</td>\n",
       "    </tr>\n",
       "    <tr>\n",
       "      <th>4</th>\n",
       "      <td>re_andalusia</td>\n",
       "      <td>1200</td>\n",
       "      <td>5.50</td>\n",
       "    </tr>\n",
       "    <tr>\n",
       "      <th>...</th>\n",
       "      <td>...</td>\n",
       "      <td>...</td>\n",
       "      <td>...</td>\n",
       "    </tr>\n",
       "    <tr>\n",
       "      <th>673</th>\n",
       "      <td>re_western_europe</td>\n",
       "      <td>1650</td>\n",
       "      <td>68.55</td>\n",
       "    </tr>\n",
       "    <tr>\n",
       "      <th>674</th>\n",
       "      <td>re_western_europe</td>\n",
       "      <td>1700</td>\n",
       "      <td>77.90</td>\n",
       "    </tr>\n",
       "    <tr>\n",
       "      <th>675</th>\n",
       "      <td>re_western_europe</td>\n",
       "      <td>1750</td>\n",
       "      <td>87.40</td>\n",
       "    </tr>\n",
       "    <tr>\n",
       "      <th>676</th>\n",
       "      <td>re_western_europe</td>\n",
       "      <td>1800</td>\n",
       "      <td>110.80</td>\n",
       "    </tr>\n",
       "    <tr>\n",
       "      <th>677</th>\n",
       "      <td>re_western_europe</td>\n",
       "      <td>1850</td>\n",
       "      <td>154.50</td>\n",
       "    </tr>\n",
       "  </tbody>\n",
       "</table>\n",
       "<p>678 rows × 3 columns</p>\n",
       "</div>"
      ],
      "text/plain": [
       "           region_code  year   value\n",
       "0         re_andalusia   800    3.75\n",
       "1         re_andalusia   900    3.85\n",
       "2         re_andalusia  1000    4.00\n",
       "3         re_andalusia  1100    4.50\n",
       "4         re_andalusia  1200    5.50\n",
       "..                 ...   ...     ...\n",
       "673  re_western_europe  1650   68.55\n",
       "674  re_western_europe  1700   77.90\n",
       "675  re_western_europe  1750   87.40\n",
       "676  re_western_europe  1800  110.80\n",
       "677  re_western_europe  1850  154.50\n",
       "\n",
       "[678 rows x 3 columns]"
      ]
     },
     "execution_count": 22,
     "metadata": {},
     "output_type": "execute_result"
    }
   ],
   "source": [
    "df_pop"
   ]
  },
  {
   "cell_type": "code",
   "execution_count": 28,
   "id": "93191c7d-3eb9-4e8d-a34f-eeb9217a2319",
   "metadata": {},
   "outputs": [],
   "source": [
    "import plotly.express as px\n",
    "\n",
    "df = px.data.tips()\n",
    "fig = px.scatter(df_pop, x=\"year\", y=\"value\", facet_col=\"region_code\",\n",
    "                facet_col_wrap=4,  width = 4000, height = 4000)\n",
    "\n"
   ]
  },
  {
   "cell_type": "code",
   "execution_count": 29,
   "id": "30509416-bd0b-494d-90ba-660cb27689b5",
   "metadata": {
    "collapsed": true,
    "jupyter": {
     "outputs_hidden": true
    },
    "tags": []
   },
   "outputs": [
    {
     "data": {
      "text/plain": [
       "'temp-plot.html'"
      ]
     },
     "execution_count": 29,
     "metadata": {},
     "output_type": "execute_result"
    }
   ],
   "source": [
    "plotly.offline.plot(fig)"
   ]
  },
  {
   "cell_type": "code",
   "execution_count": null,
   "id": "3d3c53f8-895f-40c2-af7b-ff5dc2456186",
   "metadata": {},
   "outputs": [],
   "source": []
  }
 ],
 "metadata": {
  "kernelspec": {
   "display_name": "Python 3 (ipykernel)",
   "language": "python",
   "name": "python3"
  },
  "language_info": {
   "codemirror_mode": {
    "name": "ipython",
    "version": 3
   },
   "file_extension": ".py",
   "mimetype": "text/x-python",
   "name": "python",
   "nbconvert_exporter": "python",
   "pygments_lexer": "ipython3",
   "version": "3.8.16"
  }
 },
 "nbformat": 4,
 "nbformat_minor": 5
}
