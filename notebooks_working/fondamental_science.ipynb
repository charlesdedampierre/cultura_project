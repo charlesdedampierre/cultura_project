{
 "cells": [
  {
   "cell_type": "code",
   "execution_count": 1,
   "id": "debeaea9-1c80-47f6-937d-c407d770885c",
   "metadata": {},
   "outputs": [],
   "source": [
    "import sys\n",
    "from tqdm import tqdm\n",
    "\n",
    "import warnings\n",
    "warnings.simplefilter(action='ignore', category=FutureWarning)\n",
    "\n",
    "import pandas as pd\n",
    "import numpy as np"
   ]
  },
  {
   "cell_type": "code",
   "execution_count": 2,
   "id": "2f8d8a41-7d44-42ac-9d61-c771d46cd391",
   "metadata": {},
   "outputs": [],
   "source": [
    "sys.path.append('../')"
   ]
  },
  {
   "cell_type": "code",
   "execution_count": 3,
   "id": "64cb4224-270f-4f74-b08d-ee6941efe892",
   "metadata": {},
   "outputs": [],
   "source": [
    "from sys_utils import load_model\n",
    "from data_model_region import Region\n",
    "from data_model import Individual\n",
    "import typing as t\n",
    "import random"
   ]
  },
  {
   "cell_type": "code",
   "execution_count": 4,
   "id": "1d16be7b-88c3-470f-bcbd-57d8355de32f",
   "metadata": {},
   "outputs": [],
   "source": [
    "checkpoint_path = '../checkpoints_dev'"
   ]
  },
  {
   "cell_type": "code",
   "execution_count": 5,
   "id": "8f79e60b-f3f1-4326-a7fe-12722df50a41",
   "metadata": {},
   "outputs": [],
   "source": [
    "regions = load_model(\n",
    "        Region, name=checkpoint_path+\"/regions.jsonl\"\n",
    "    )"
   ]
  },
  {
   "cell_type": "code",
   "execution_count": 6,
   "id": "13aeac55-03c8-4b37-b63d-586a7b285213",
   "metadata": {},
   "outputs": [],
   "source": [
    "individuals = load_model(\n",
    "        Individual, name=checkpoint_path + \"/individuals.jsonl\"\n",
    "    )"
   ]
  },
  {
   "cell_type": "code",
   "execution_count": 7,
   "id": "a787cdb2-e852-45d7-966a-d8223b7bbfb7",
   "metadata": {},
   "outputs": [],
   "source": [
    "manual = pd.read_csv('Manual_data/Cultural Index -  occupations work - fondamental.csv')\n",
    "manual = manual.set_index('index')\n",
    "manual = manual.drop('occupation', axis=1)\n",
    "manual = manual.unstack().reset_index()\n",
    "manual.columns = ['category', 'occupation', 'presence']\n",
    "df_occupation_fondamental = manual.dropna().reset_index(drop=True)\n",
    "df_occupation_fondamental = df_occupation_fondamental.drop('presence', axis=1)"
   ]
  },
  {
   "cell_type": "code",
   "execution_count": 8,
   "id": "7e73aa48-1348-4087-bd07-3f6b75fa3ecb",
   "metadata": {},
   "outputs": [
    {
     "data": {
      "text/html": [
       "<div>\n",
       "<style scoped>\n",
       "    .dataframe tbody tr th:only-of-type {\n",
       "        vertical-align: middle;\n",
       "    }\n",
       "\n",
       "    .dataframe tbody tr th {\n",
       "        vertical-align: top;\n",
       "    }\n",
       "\n",
       "    .dataframe thead th {\n",
       "        text-align: right;\n",
       "    }\n",
       "</style>\n",
       "<table border=\"1\" class=\"dataframe\">\n",
       "  <thead>\n",
       "    <tr style=\"text-align: right;\">\n",
       "      <th></th>\n",
       "      <th>category</th>\n",
       "      <th>occupation</th>\n",
       "    </tr>\n",
       "  </thead>\n",
       "  <tbody>\n",
       "    <tr>\n",
       "      <th>0</th>\n",
       "      <td>Math and Phys sciences</td>\n",
       "      <td>mathematician</td>\n",
       "    </tr>\n",
       "    <tr>\n",
       "      <th>1</th>\n",
       "      <td>Math and Phys sciences</td>\n",
       "      <td>astronomer</td>\n",
       "    </tr>\n",
       "    <tr>\n",
       "      <th>2</th>\n",
       "      <td>Math and Phys sciences</td>\n",
       "      <td>physicist</td>\n",
       "    </tr>\n",
       "    <tr>\n",
       "      <th>3</th>\n",
       "      <td>Math and Phys sciences</td>\n",
       "      <td>chemist</td>\n",
       "    </tr>\n",
       "    <tr>\n",
       "      <th>4</th>\n",
       "      <td>Math and Phys sciences</td>\n",
       "      <td>mineralogist</td>\n",
       "    </tr>\n",
       "    <tr>\n",
       "      <th>5</th>\n",
       "      <td>Life sciences</td>\n",
       "      <td>botanist</td>\n",
       "    </tr>\n",
       "    <tr>\n",
       "      <th>6</th>\n",
       "      <td>Life sciences</td>\n",
       "      <td>naturalist</td>\n",
       "    </tr>\n",
       "    <tr>\n",
       "      <th>7</th>\n",
       "      <td>Life sciences</td>\n",
       "      <td>entomologist</td>\n",
       "    </tr>\n",
       "    <tr>\n",
       "      <th>8</th>\n",
       "      <td>Life sciences</td>\n",
       "      <td>zoologist</td>\n",
       "    </tr>\n",
       "    <tr>\n",
       "      <th>9</th>\n",
       "      <td>Life sciences</td>\n",
       "      <td>anatomist</td>\n",
       "    </tr>\n",
       "    <tr>\n",
       "      <th>10</th>\n",
       "      <td>Life sciences</td>\n",
       "      <td>agronomist</td>\n",
       "    </tr>\n",
       "    <tr>\n",
       "      <th>11</th>\n",
       "      <td>Life sciences</td>\n",
       "      <td>biologist</td>\n",
       "    </tr>\n",
       "    <tr>\n",
       "      <th>12</th>\n",
       "      <td>Life sciences</td>\n",
       "      <td>paleontologist</td>\n",
       "    </tr>\n",
       "    <tr>\n",
       "      <th>13</th>\n",
       "      <td>Life sciences</td>\n",
       "      <td>physiologist</td>\n",
       "    </tr>\n",
       "    <tr>\n",
       "      <th>14</th>\n",
       "      <td>Life sciences</td>\n",
       "      <td>ichthyologist</td>\n",
       "    </tr>\n",
       "    <tr>\n",
       "      <th>15</th>\n",
       "      <td>Social Sciences</td>\n",
       "      <td>linguist</td>\n",
       "    </tr>\n",
       "    <tr>\n",
       "      <th>16</th>\n",
       "      <td>Social Sciences</td>\n",
       "      <td>economist</td>\n",
       "    </tr>\n",
       "    <tr>\n",
       "      <th>17</th>\n",
       "      <td>Social Sciences</td>\n",
       "      <td>grammarian</td>\n",
       "    </tr>\n",
       "    <tr>\n",
       "      <th>18</th>\n",
       "      <td>Social Sciences</td>\n",
       "      <td>anthropologist</td>\n",
       "    </tr>\n",
       "    <tr>\n",
       "      <th>19</th>\n",
       "      <td>Social Sciences</td>\n",
       "      <td>political scientist</td>\n",
       "    </tr>\n",
       "  </tbody>\n",
       "</table>\n",
       "</div>"
      ],
      "text/plain": [
       "                  category           occupation\n",
       "0   Math and Phys sciences        mathematician\n",
       "1   Math and Phys sciences           astronomer\n",
       "2   Math and Phys sciences            physicist\n",
       "3   Math and Phys sciences              chemist\n",
       "4   Math and Phys sciences         mineralogist\n",
       "5            Life sciences             botanist\n",
       "6            Life sciences           naturalist\n",
       "7            Life sciences         entomologist\n",
       "8            Life sciences            zoologist\n",
       "9            Life sciences            anatomist\n",
       "10           Life sciences           agronomist\n",
       "11           Life sciences            biologist\n",
       "12           Life sciences       paleontologist\n",
       "13           Life sciences         physiologist\n",
       "14           Life sciences        ichthyologist\n",
       "15         Social Sciences             linguist\n",
       "16         Social Sciences            economist\n",
       "17         Social Sciences           grammarian\n",
       "18         Social Sciences       anthropologist\n",
       "19         Social Sciences  political scientist"
      ]
     },
     "execution_count": 8,
     "metadata": {},
     "output_type": "execute_result"
    }
   ],
   "source": [
    "df_occupation_fondamental"
   ]
  },
  {
   "cell_type": "code",
   "execution_count": 79,
   "id": "9d8f11ec-596d-4a23-9dd6-34b94888e9ec",
   "metadata": {},
   "outputs": [],
   "source": [
    "def get_math_phys_index(individuals: t.List[Individual], df_occupation_fondamental:pd.DataFrame()):\n",
    "\n",
    "    indiv = [x for x in individuals if x.regions != None]\n",
    "\n",
    "    df = [\n",
    "        {\n",
    "            \"wiki_id\": x.id.wikidata_id,\n",
    "            \"name\": x.id.name,\n",
    "            \"birthyear\": x.id.birthyear,\n",
    "            \"region_code\": x.regions,\n",
    "            \"range_impact\": x.impact_years,\n",
    "            \"occupation\": [y.name for y in x.id.occupations],\n",
    "        }\n",
    "        for x in indiv\n",
    "    ]\n",
    "\n",
    "    df = pd.DataFrame(df)\n",
    "    df_explode = df.explode('occupation')\n",
    "    df_merge = pd.merge(df_explode, df_occupation_fondamental, on = 'occupation')\n",
    "\n",
    "    df_merge['math_phys_score'] = 0\n",
    "    df_merge['math_phys_score'][df_merge['category']=='Math and Phys sciences'] = 1\n",
    "\n",
    "    df_fig = df_merge.explode(\"region_code\")\n",
    "\n",
    "    df_fig[\"year\"] = df_fig[\"range_impact\"].apply(\n",
    "            lambda x: [year for year in range(int(x[0]), int(x[1]) + 10, 10)]\n",
    "        )\n",
    "    df_fig = df_fig.explode(\"year\")\n",
    "\n",
    "    df_len = df_fig.groupby([\"region_code\", \"year\"])['wiki_id'].count().reset_index()\n",
    "    df_sum = df_fig.groupby([\"region_code\", \"year\"])['math_phys_score'].sum().reset_index()\n",
    "\n",
    "    df_final = pd.merge(df_len, df_sum, on = ['region_code', 'year'])\n",
    "    df_final['math_phys_index'] = df_final['math_phys_score']/df_final['wiki_id']\n",
    "\n",
    "    return df_final"
   ]
  },
  {
   "cell_type": "code",
   "execution_count": null,
   "id": "0d337d62-97cb-498f-9438-5289232f6067",
   "metadata": {},
   "outputs": [],
   "source": []
  },
  {
   "cell_type": "code",
   "execution_count": 134,
   "id": "7bbe2e84-0ff6-4882-9911-5558d804cca8",
   "metadata": {},
   "outputs": [
    {
     "name": "stderr",
     "output_type": "stream",
     "text": [
      "/var/folders/lx/9b13r6ln63jb54_3xlf9b_380000gn/T/ipykernel_39824/3081362045.py:22: SettingWithCopyWarning:\n",
      "\n",
      "\n",
      "A value is trying to be set on a copy of a slice from a DataFrame\n",
      "\n",
      "See the caveats in the documentation: https://pandas.pydata.org/pandas-docs/stable/user_guide/indexing.html#returning-a-view-versus-a-copy\n",
      "\n"
     ]
    }
   ],
   "source": [
    "df_math_phys = get_math_phys_index(individuals, df_occupation_fondamental)"
   ]
  },
  {
   "cell_type": "code",
   "execution_count": 135,
   "id": "813f4bbc-116e-4d24-9de8-b5bac06b40b3",
   "metadata": {},
   "outputs": [],
   "source": [
    "df_math_phys = df_math_phys[df_math_phys['wiki_id']>=3]"
   ]
  },
  {
   "cell_type": "code",
   "execution_count": null,
   "id": "f2018fb2-6828-4592-bee4-2c6c70da13d9",
   "metadata": {},
   "outputs": [],
   "source": []
  },
  {
   "cell_type": "code",
   "execution_count": null,
   "id": "62cfd217-824f-4fc9-8159-ba4837332500",
   "metadata": {},
   "outputs": [],
   "source": []
  },
  {
   "cell_type": "code",
   "execution_count": 137,
   "id": "1621e43e-8c79-4386-adac-9b9fc2c618b9",
   "metadata": {},
   "outputs": [],
   "source": [
    "df_trend = df_math_phys.copy()\n",
    "df_trend = df_trend.rename(columns = {'math_phys_index':'cultural_score'})\n",
    "df_trend = df_trend.drop(['wiki_id', 'math_phys_score'], axis=1)"
   ]
  },
  {
   "cell_type": "code",
   "execution_count": 138,
   "id": "81bbd1a4-59d8-4eff-86bc-89c89b77620f",
   "metadata": {},
   "outputs": [],
   "source": [
    "import plotly.express as px"
   ]
  },
  {
   "cell_type": "code",
   "execution_count": null,
   "id": "293cb147-725f-4bc6-b29d-69526f1e6baf",
   "metadata": {},
   "outputs": [],
   "source": []
  },
  {
   "cell_type": "code",
   "execution_count": 1,
   "id": "3ff97b30-cfea-4c47-8cf9-350ffb2bcede",
   "metadata": {},
   "outputs": [
    {
     "ename": "NameError",
     "evalue": "name 'df_trend' is not defined",
     "output_type": "error",
     "traceback": [
      "\u001b[0;31m---------------------------------------------------------------------------\u001b[0m",
      "\u001b[0;31mNameError\u001b[0m                                 Traceback (most recent call last)",
      "Cell \u001b[0;32mIn[1], line 1\u001b[0m\n\u001b[0;32m----> 1\u001b[0m \u001b[39mfor\u001b[39;00m region \u001b[39min\u001b[39;00m \u001b[39mset\u001b[39m(df_trend\u001b[39m.\u001b[39mregion_code):\n\u001b[1;32m      2\u001b[0m     df_test \u001b[39m=\u001b[39m df_trend[df_trend[\u001b[39m'\u001b[39m\u001b[39mregion_code\u001b[39m\u001b[39m'\u001b[39m]\u001b[39m==\u001b[39mregion]\n\u001b[1;32m      3\u001b[0m     df_test \u001b[39m=\u001b[39m df_test\u001b[39m.\u001b[39mrename(columns \u001b[39m=\u001b[39m {\u001b[39m'\u001b[39m\u001b[39mcultural_score\u001b[39m\u001b[39m'\u001b[39m:\u001b[39m'\u001b[39m\u001b[39mmath_phys_score\u001b[39m\u001b[39m'\u001b[39m})\n",
      "\u001b[0;31mNameError\u001b[0m: name 'df_trend' is not defined"
     ]
    }
   ],
   "source": [
    "for region in set(df_trend.region_code):\n",
    "    df_test = df_trend[df_trend['region_code']==region]\n",
    "    df_test = df_test.rename(columns = {'cultural_score':'math_phys_score'})\n",
    "    fig = px.line(df_test, x = 'year', y = 'math_phys_score', title = region)\n",
    "    fig.show()"
   ]
  },
  {
   "cell_type": "code",
   "execution_count": null,
   "id": "03cc8364-9b5b-4bf3-9d5d-7aea51720af9",
   "metadata": {},
   "outputs": [],
   "source": []
  },
  {
   "cell_type": "code",
   "execution_count": null,
   "id": "a9f88036-7fee-4fff-8003-8e65f563f7c7",
   "metadata": {},
   "outputs": [],
   "source": []
  },
  {
   "cell_type": "code",
   "execution_count": null,
   "id": "6ed8d0ae-2d2f-48f5-9ccc-5390a7a29b18",
   "metadata": {},
   "outputs": [],
   "source": []
  },
  {
   "cell_type": "code",
   "execution_count": 141,
   "id": "f859927f-0ee2-41c9-ad8c-7a0ef17a7800",
   "metadata": {},
   "outputs": [],
   "source": [
    "from functions_environment import get_maddison_data, get_population"
   ]
  },
  {
   "cell_type": "code",
   "execution_count": 142,
   "id": "1199cfbd-2f7e-46e7-8705-cffbe8ce1062",
   "metadata": {},
   "outputs": [],
   "source": [
    "data_path_environment = '../data_env'"
   ]
  },
  {
   "cell_type": "code",
   "execution_count": 143,
   "id": "31d249c5-3d06-494c-b7be-51833e6b0b3f",
   "metadata": {},
   "outputs": [],
   "source": [
    "df_maddison = get_maddison_data(data_path_environment)\n",
    "df_maddison = df_maddison.drop('country_code_maddison', axis=1)\n",
    "\n",
    "df_population = get_population(data_path_environment)"
   ]
  },
  {
   "cell_type": "code",
   "execution_count": null,
   "id": "7b7d5f9c-2ea6-4a51-8963-92f3f05bb53d",
   "metadata": {},
   "outputs": [],
   "source": []
  },
  {
   "cell_type": "code",
   "execution_count": null,
   "id": "e42b2a07-88b5-4189-aee0-19cb17273fa1",
   "metadata": {},
   "outputs": [],
   "source": []
  },
  {
   "cell_type": "code",
   "execution_count": 144,
   "id": "54a0db5d-60a9-4d8c-8d34-f1bdd70c34e9",
   "metadata": {},
   "outputs": [],
   "source": [
    "year_range = np.arange(-1000, 1850, 1)\n",
    "df_year = pd.DataFrame(year_range, columns = ['year']).reset_index(drop=True)\n",
    "\n",
    "\n",
    "df_trend_interpolated_list = []\n",
    "for reg in set(df_trend['region_code']):\n",
    "\n",
    "    res = df_trend[df_trend['region_code']==reg]\n",
    "    res = pd.merge(res, df_year, on = 'year', how = 'outer')\n",
    "    res['region_code'] = reg\n",
    "    res = res.sort_values('year', ascending=True\n",
    "                         )\n",
    "    res['cultural_score_interpolared'] = res['cultural_score'].interpolate(method='linear')\n",
    "    res = res.reset_index(drop=True)\n",
    "    res = res[~res['cultural_score_interpolared'].isna()]\n",
    "\n",
    "    df_trend_interpolated_list.append(res)\n",
    "    \n",
    "df_trend_interpolated = pd.concat([x for x in df_trend_interpolated_list])\n",
    "df_trend_interpolated = df_trend_interpolated.reset_index(drop=True)"
   ]
  },
  {
   "cell_type": "code",
   "execution_count": null,
   "id": "7930040a-338b-4d7f-bad3-e4eb565ada96",
   "metadata": {},
   "outputs": [],
   "source": []
  },
  {
   "cell_type": "code",
   "execution_count": 145,
   "id": "e64c7634-4fb2-4719-b646-eba56b4e7f8c",
   "metadata": {},
   "outputs": [],
   "source": [
    "df_pop_interpolated_list = []\n",
    "for reg in set(df_population['region_code']):\n",
    "\n",
    "    res = df_population[df_population['region_code']==reg]\n",
    "    res = pd.merge(res, df_year, on = 'year', how = 'outer')\n",
    "    res['region_code'] = reg\n",
    "    res = res.sort_values('year', ascending=True\n",
    "                         )\n",
    "    res['population_interpolated'] = res['value'].interpolate(method='linear')\n",
    "    res = res.reset_index(drop=True)\n",
    "    res = res[~res['population_interpolated'].isna()]\n",
    "\n",
    "    df_pop_interpolated_list.append(res)\n",
    "    \n",
    "df_pop_interpolated = pd.concat([x for x in df_pop_interpolated_list])\n",
    "df_pop_interpolated = df_pop_interpolated.reset_index(drop=True)"
   ]
  },
  {
   "cell_type": "code",
   "execution_count": 146,
   "id": "22e48ff5-852e-4e86-b2cb-bfdae19324a2",
   "metadata": {},
   "outputs": [],
   "source": [
    "final_df = pd.merge(df_trend_interpolated, df_maddison, on = ['region_code', 'year'])\n",
    "final_df = pd.merge(final_df, df_pop_interpolated, on = ['region_code', 'year'])\n",
    "\n",
    "final_df = final_df.drop(['cultural_score', 'value'], axis=1)"
   ]
  },
  {
   "cell_type": "code",
   "execution_count": 147,
   "id": "c136b9d9-93f2-4468-88c6-66de10929639",
   "metadata": {},
   "outputs": [],
   "source": [
    "final_df = final_df.rename(columns = {'cultural_score_interpolared':'math_phys_score_interpolared'})"
   ]
  },
  {
   "cell_type": "code",
   "execution_count": 148,
   "id": "c13a88e1-39e0-4080-a129-d134355f5aed",
   "metadata": {},
   "outputs": [],
   "source": [
    "final_df.to_csv('../data_stats/data_stats_math_phys_1003.csv')"
   ]
  },
  {
   "cell_type": "code",
   "execution_count": null,
   "id": "8e348a3d-7af4-439a-8bd9-a7688ef3f060",
   "metadata": {},
   "outputs": [],
   "source": []
  },
  {
   "cell_type": "code",
   "execution_count": null,
   "id": "606e9b53-a566-4ee0-9083-994c3e9a7d2b",
   "metadata": {},
   "outputs": [],
   "source": []
  }
 ],
 "metadata": {
  "kernelspec": {
   "display_name": "Python 3 (ipykernel)",
   "language": "python",
   "name": "python3"
  },
  "language_info": {
   "codemirror_mode": {
    "name": "ipython",
    "version": 3
   },
   "file_extension": ".py",
   "mimetype": "text/x-python",
   "name": "python",
   "nbconvert_exporter": "python",
   "pygments_lexer": "ipython3",
   "version": "3.8.17"
  }
 },
 "nbformat": 4,
 "nbformat_minor": 5
}
