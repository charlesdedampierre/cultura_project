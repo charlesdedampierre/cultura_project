{
 "cells": [
  {
   "cell_type": "code",
   "execution_count": 1,
   "id": "b50717e1-818f-4dcd-89b1-4039f7ce2af5",
   "metadata": {},
   "outputs": [],
   "source": [
    "import sys\n",
    "sys.path.append('../')"
   ]
  },
  {
   "cell_type": "code",
   "execution_count": 2,
   "id": "a66d3518-9dc8-4c93-86fd-c754d294078d",
   "metadata": {},
   "outputs": [],
   "source": [
    "import seaborn as sns\n",
    "from data_model import Individual\n",
    "from sys_utils import load_model\n",
    "import plotly.express as px"
   ]
  },
  {
   "cell_type": "code",
   "execution_count": 3,
   "id": "cc70c654-14a7-475a-8edc-d336f10810ba",
   "metadata": {},
   "outputs": [],
   "source": [
    "checkpoint_path = '../checkpoints_dev'"
   ]
  },
  {
   "cell_type": "code",
   "execution_count": 4,
   "id": "5717c181-894a-4d20-891e-42ac59e3fa74",
   "metadata": {},
   "outputs": [],
   "source": [
    "individuals = load_model(\n",
    "        Individual, name=checkpoint_path + \"/individuals.jsonl\"\n",
    "    )\n",
    "\n"
   ]
  },
  {
   "cell_type": "code",
   "execution_count": null,
   "id": "b109d17c-b5fb-498e-a386-2d74ca340e95",
   "metadata": {},
   "outputs": [],
   "source": []
  },
  {
   "cell_type": "code",
   "execution_count": 5,
   "id": "a147ae7a-e3b0-4218-8fc6-8a6bf2b4bde9",
   "metadata": {},
   "outputs": [],
   "source": [
    "individuals_filtered = [x for x in individuals if x.regions != None]\n",
    "individuals_filtered = [x for x in individuals_filtered if x.identifiers != None]\n",
    "\n",
    "df_individuals = [\n",
    "    {\n",
    "        \"wikidata_id\": x.id.wikidata_id,\n",
    "        \"identifier\":[y.name for y in x.identifiers],\n",
    "        \"region_code\": x.regions,\n",
    "         \"year\": x.impact_years,\n",
    "    }\n",
    "    for x in individuals_filtered\n",
    "]\n"
   ]
  },
  {
   "cell_type": "code",
   "execution_count": null,
   "id": "2726d360-02f9-4a20-a550-f010ff22755b",
   "metadata": {},
   "outputs": [],
   "source": []
  },
  {
   "cell_type": "code",
   "execution_count": 7,
   "id": "ffc8d67b-630b-4267-a5de-4958b14042b8",
   "metadata": {},
   "outputs": [],
   "source": [
    "import pandas as pd"
   ]
  },
  {
   "cell_type": "code",
   "execution_count": 8,
   "id": "da1fff44-e379-47de-a815-546e43041f35",
   "metadata": {},
   "outputs": [],
   "source": [
    "from data_model_region import Region\n",
    "df = pd.DataFrame(df_individuals)\n",
    "df = df.explode('region_code')\n",
    "\n",
    "regions = load_model(\n",
    "    Region, name=checkpoint_path + \"/regions.jsonl\"\n",
    ")\n",
    "\n",
    "df_regions = [\n",
    "        {\n",
    "            \"region_code\": x.code,\n",
    "            \"region_name\": x.name,\n",
    "        }\n",
    "        for x in regions\n",
    "    ]\n",
    "\n",
    "df_regions = pd.DataFrame(df_regions)\n",
    "df = pd.merge(df, df_regions, on = 'region_code')"
   ]
  },
  {
   "cell_type": "code",
   "execution_count": null,
   "id": "f7ccfa3b-385e-4779-a281-4baa9fd560cb",
   "metadata": {},
   "outputs": [],
   "source": []
  },
  {
   "cell_type": "code",
   "execution_count": null,
   "id": "260e9f89-b4da-4a01-819c-021eac2b8284",
   "metadata": {},
   "outputs": [],
   "source": []
  },
  {
   "cell_type": "code",
   "execution_count": 9,
   "id": "d4ec8eb2-3646-4d6b-b116-beaf16d179ef",
   "metadata": {},
   "outputs": [
    {
     "name": "stderr",
     "output_type": "stream",
     "text": [
      "/var/folders/lx/9b13r6ln63jb54_3xlf9b_380000gn/T/ipykernel_25876/2564892623.py:6: SettingWithCopyWarning: \n",
      "A value is trying to be set on a copy of a slice from a DataFrame.\n",
      "Try using .loc[row_indexer,col_indexer] = value instead\n",
      "\n",
      "See the caveats in the documentation: https://pandas.pydata.org/pandas-docs/stable/user_guide/indexing.html#returning-a-view-versus-a-copy\n",
      "  df_country[\"year\"] = df_country[\"year\"].apply(\n"
     ]
    }
   ],
   "source": [
    "region_name = 'Low countries'\n",
    "min_year = 1300\n",
    "max_year = 1850\n",
    "\n",
    "df_country = df[df['region_name']==region_name]\n",
    "df_country[\"year\"] = df_country[\"year\"].apply(\n",
    "        lambda x: [year for year in range(int(x[0]), int(x[1]) + 10, 10)]\n",
    "    )\n",
    "\n",
    "df_country = df_country.explode('year').reset_index(drop=True)\n",
    "\n",
    "top_identifiers = df_country[['wikidata_id','identifier']].explode('identifier').drop_duplicates().reset_index(drop=True)\n",
    "top_identifiers = top_identifiers['identifier'].value_counts().reset_index().head(40)\n",
    "top_identifiers = list(top_identifiers['index'])\n",
    "\n",
    "df_country_fil = df_country.explode('identifier')\n",
    "df_country_fil = df_country_fil[df_country_fil['identifier'].isin(top_identifiers)].reset_index(drop=True)\n",
    "\n",
    "\n",
    "df_fig = df_country_fil.groupby(['identifier', 'year'])['wikidata_id'].count().reset_index()\n",
    "df_fig = df_fig[(df_fig['year']<= max_year)&(df_fig['year']>= min_year)]\n",
    "\n",
    "df_fig = df_fig.rename(columns = {'wikidata_id':'Number of Individuals'})\n",
    "\n"
   ]
  },
  {
   "cell_type": "code",
   "execution_count": null,
   "id": "038e1454-da31-470c-b049-5667beb5af4a",
   "metadata": {},
   "outputs": [],
   "source": []
  },
  {
   "cell_type": "code",
   "execution_count": 15,
   "id": "2d992465-ec14-4f4f-a430-d6c627d88da2",
   "metadata": {},
   "outputs": [
    {
     "data": {
      "text/plain": [
       "'temp-plot.html'"
      ]
     },
     "execution_count": 15,
     "metadata": {},
     "output_type": "execute_result"
    }
   ],
   "source": [
    "fig = px.line(df_fig, x = 'year', \n",
    "              y = 'Number of Individuals', \n",
    "              color = 'identifier', \n",
    "              width = 2000, \n",
    "              height = 1000, \n",
    "              title = \"Low Countres - Relations between identifiers\", \n",
    "              template = 'plotly_white')\n",
    "\n",
    "fig.update_xaxes(showgrid=False, showticklabels=True, zeroline=False)\n",
    "fig.update_yaxes(showgrid=False, showticklabels=True, zeroline=False)\n",
    "fig.update_layout(title_font=dict(size=30))\n",
    "\n",
    "fig.update_layout(\n",
    "    xaxis_title=\"\",\n",
    "    yaxis_title='Number of Individuals added')\n",
    "import plotly\n",
    "plotly.offline.plot(fig)\n",
    "#fig.write_image(f\"save_figures/identifiers_line.png\", scale=7)"
   ]
  },
  {
   "cell_type": "code",
   "execution_count": null,
   "id": "be79ab35-44df-4acf-9191-e5fdcbc17932",
   "metadata": {},
   "outputs": [],
   "source": [
    "import plotly"
   ]
  },
  {
   "cell_type": "code",
   "execution_count": null,
   "id": "15e6d301-4e0f-4aa7-bb35-62e3a9c607e9",
   "metadata": {},
   "outputs": [],
   "source": [
    "plotly.offline.plot(fig)"
   ]
  },
  {
   "cell_type": "code",
   "execution_count": null,
   "id": "c0f05ad4-819f-4650-8405-5e095c843e4a",
   "metadata": {},
   "outputs": [],
   "source": []
  }
 ],
 "metadata": {
  "kernelspec": {
   "display_name": "Python 3 (ipykernel)",
   "language": "python",
   "name": "python3"
  },
  "language_info": {
   "codemirror_mode": {
    "name": "ipython",
    "version": 3
   },
   "file_extension": ".py",
   "mimetype": "text/x-python",
   "name": "python",
   "nbconvert_exporter": "python",
   "pygments_lexer": "ipython3",
   "version": "3.8.16"
  }
 },
 "nbformat": 4,
 "nbformat_minor": 5
}
