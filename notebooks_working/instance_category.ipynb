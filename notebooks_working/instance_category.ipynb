{
 "cells": [
  {
   "cell_type": "code",
   "execution_count": 21,
   "id": "4e5d3cf0-1470-4479-943d-8d12e4cd9071",
   "metadata": {},
   "outputs": [],
   "source": [
    "import sqlite3\n",
    "import pandas as pd\n",
    "from sentence_transformers import SentenceTransformer\n",
    "import numpy as np\n",
    "from sklearn.manifold import TSNE\n",
    "\n",
    "\n",
    "conn = sqlite3.connect('../cultura_1.db')\n",
    "cursor = conn.cursor()\n",
    "\n",
    "df_object = pd.read_sql_query(\"SELECT * FROM created_work\", conn)\n"
   ]
  },
  {
   "cell_type": "code",
   "execution_count": 30,
   "id": "30d37051-c2ae-4e8d-b3b9-8029a6620d96",
   "metadata": {},
   "outputs": [],
   "source": [
    "df_count= df_object[['instance_label', 'super_instance_label']].drop_duplicates()"
   ]
  },
  {
   "cell_type": "code",
   "execution_count": 38,
   "id": "7489e2e4-d5e5-4f2a-a18e-cf26cc3d6a0b",
   "metadata": {},
   "outputs": [],
   "source": [
    "df_model = df_count[['super_instance_label']].dropna().drop_duplicates().reset_index(drop=True)"
   ]
  },
  {
   "cell_type": "code",
   "execution_count": 39,
   "id": "4cede572-5e70-4b95-9d14-7cbf0a32b1d7",
   "metadata": {},
   "outputs": [],
   "source": [
    "model = SentenceTransformer('all-mpnet-base-v2')"
   ]
  },
  {
   "cell_type": "code",
   "execution_count": 40,
   "id": "651ca720-d779-4550-a0dc-bef1d5d3af1e",
   "metadata": {},
   "outputs": [
    {
     "data": {
      "application/vnd.jupyter.widget-view+json": {
       "model_id": "20b55c2a6cf74699bdbe418ee9dafb83",
       "version_major": 2,
       "version_minor": 0
      },
      "text/plain": [
       "Batches:   0%|          | 0/14 [00:00<?, ?it/s]"
      ]
     },
     "metadata": {},
     "output_type": "display_data"
    }
   ],
   "source": [
    "embeddings = model.encode(df_model['super_instance_label'].to_list(), show_progress_bar=True)"
   ]
  },
  {
   "cell_type": "code",
   "execution_count": 41,
   "id": "d8ff4bff-6473-41a1-b0cd-c6dfe31120ba",
   "metadata": {},
   "outputs": [],
   "source": [
    "reducer = TSNE(n_components=1)\n",
    "reduced_embeddings = reducer.fit_transform(embeddings)"
   ]
  },
  {
   "cell_type": "code",
   "execution_count": 42,
   "id": "34951d8d-3246-41ee-a724-8babd82c16f5",
   "metadata": {},
   "outputs": [],
   "source": [
    "df_model['rank'] = reduced_embeddings\n",
    "df_model = df_model.sort_values('rank')"
   ]
  },
  {
   "cell_type": "code",
   "execution_count": 46,
   "id": "00255cef-2462-46ad-a989-745d8515f01a",
   "metadata": {},
   "outputs": [],
   "source": [
    "df_final = pd.merge(df_model, df_object, on = 'super_instance_label', how = 'outer')\n",
    "df_final = df_final.sort_values('rank', ascending=False)"
   ]
  },
  {
   "cell_type": "code",
   "execution_count": 73,
   "id": "b2ff210e-27ea-4468-9248-b0bd50f93fda",
   "metadata": {},
   "outputs": [],
   "source": [
    "#df_final[df_final['super_instance_label'] == np.nan]"
   ]
  },
  {
   "cell_type": "code",
   "execution_count": null,
   "id": "18559e05-3803-498d-ae47-06d77c2f3021",
   "metadata": {},
   "outputs": [],
   "source": []
  },
  {
   "cell_type": "code",
   "execution_count": 75,
   "id": "fa0d7de8-7663-45a2-8ea4-485d9f1a6d03",
   "metadata": {},
   "outputs": [],
   "source": [
    "res = df_final.groupby('instance_label')['super_instance_label'].apply(list).reset_index()"
   ]
  },
  {
   "cell_type": "code",
   "execution_count": 76,
   "id": "4a191cf9-b08d-482d-b009-dec5dc4dfd4e",
   "metadata": {},
   "outputs": [],
   "source": [
    "res['super_instance_label'] = res['super_instance_label'].apply(lambda x : list(set(x)))\n",
    "#res['super_instance_label'] = res['super_instance_label'].apply(lambda x : ' | '.join(x) if x is not None else None)"
   ]
  },
  {
   "cell_type": "code",
   "execution_count": null,
   "id": "9fc94486-9580-43c1-81ce-e50043c7b4f2",
   "metadata": {},
   "outputs": [],
   "source": []
  },
  {
   "cell_type": "code",
   "execution_count": null,
   "id": "cd141cc7-abe0-4e94-95ad-57329e704f4a",
   "metadata": {},
   "outputs": [],
   "source": []
  },
  {
   "cell_type": "code",
   "execution_count": 49,
   "id": "f755394b-6450-4e29-a301-1131590e40a8",
   "metadata": {},
   "outputs": [
    {
     "name": "stdout",
     "output_type": "stream",
     "text": [
      "huggingface/tokenizers: The current process just got forked, after parallelism has already been used. Disabling parallelism to avoid deadlocks...\n",
      "To disable this warning, you can either:\n",
      "\t- Avoid using `tokenizers` before the fork if possible\n",
      "\t- Explicitly set the environment variable TOKENIZERS_PARALLELISM=(true | false)\n"
     ]
    }
   ],
   "source": [
    "df_final.to_clipboard(index=False)"
   ]
  },
  {
   "cell_type": "code",
   "execution_count": 79,
   "id": "464dbdac-b3d3-4dce-bf0f-8d228d9b32d9",
   "metadata": {},
   "outputs": [],
   "source": [
    "df_object = pd.read_sql_query(\"SELECT * FROM individual_created_work\", conn)\n"
   ]
  },
  {
   "cell_type": "code",
   "execution_count": null,
   "id": "2bcda65a-d0bc-4306-b3a0-d4c2275c1b65",
   "metadata": {},
   "outputs": [],
   "source": []
  },
  {
   "cell_type": "code",
   "execution_count": null,
   "id": "12ebaf50-a87c-4625-a899-a6310fffbc78",
   "metadata": {},
   "outputs": [],
   "source": [
    "df_object = df_object[['individual_wikidata_id', 'notable_work_wikidata_id', 'creation_year', 'instance_label']].drop_duplicates()\n",
    "df_object = df_object.drop_duplicates('notable_work_wikidata_id', keep= 'first')\n",
    "\n",
    "df_individual = pd.read_sql_query(\"SELECT * FROM individuals_main_information\", conn)\n",
    "df_individual = df_individual[['individual_wikidata_id', 'birthyear']]\n",
    "\n",
    "df_individual_region = pd.read_sql_query(\"SELECT * FROM individuals_regions\", conn)\n",
    "df_individual_region = df_individual_region[['individual_wikidata_id', 'region_name']].drop_duplicates()\n",
    "\n",
    "df = pd.merge(df_object, df_individual, on = 'individual_wikidata_id')\n",
    "df['productive_year'] = df['birthyear'] + 35\n",
    "df['year'] = df.apply(lambda row: row['creation_year'] if row['creation_year'] is not None else row['productive_year'], axis=1)\n",
    "df = df.dropna(subset= 'year')\n",
    "#df = df[df['year']<=1860]\n",
    "\n",
    "df = pd.merge(df, df_individual_region, on = 'individual_wikidata_id')"
   ]
  },
  {
   "cell_type": "code",
   "execution_count": null,
   "id": "3cba6edd-267d-45ec-85b1-97d4e5a40f1c",
   "metadata": {},
   "outputs": [],
   "source": []
  },
  {
   "cell_type": "code",
   "execution_count": null,
   "id": "21f3de90-8a09-4fad-aa31-8b26dedfae33",
   "metadata": {},
   "outputs": [],
   "source": []
  },
  {
   "cell_type": "code",
   "execution_count": null,
   "id": "87e49830-02b0-4f60-b716-3477b1ae5e19",
   "metadata": {},
   "outputs": [],
   "source": []
  },
  {
   "cell_type": "code",
   "execution_count": null,
   "id": "6a441df8-f45b-4288-aa3a-345d6ee2bebe",
   "metadata": {},
   "outputs": [],
   "source": []
  },
  {
   "cell_type": "code",
   "execution_count": null,
   "id": "82dcd923-9648-46f0-87b3-9dc4cdcb3adf",
   "metadata": {},
   "outputs": [],
   "source": []
  }
 ],
 "metadata": {
  "kernelspec": {
   "display_name": "Python 3 (ipykernel)",
   "language": "python",
   "name": "python3"
  },
  "language_info": {
   "codemirror_mode": {
    "name": "ipython",
    "version": 3
   },
   "file_extension": ".py",
   "mimetype": "text/x-python",
   "name": "python",
   "nbconvert_exporter": "python",
   "pygments_lexer": "ipython3",
   "version": "3.8.16"
  }
 },
 "nbformat": 4,
 "nbformat_minor": 5
}
