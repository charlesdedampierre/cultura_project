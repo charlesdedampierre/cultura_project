{
 "cells": [
  {
   "cell_type": "code",
   "execution_count": 1,
   "id": "8164e778-6167-41c4-a448-8efa91975d62",
   "metadata": {},
   "outputs": [],
   "source": [
    "import pandas as pd"
   ]
  },
  {
   "cell_type": "code",
   "execution_count": 2,
   "id": "6a30a742-0310-4e05-aef9-a0d37b0cf813",
   "metadata": {},
   "outputs": [
    {
     "name": "stderr",
     "output_type": "stream",
     "text": [
      "100%|████████████████████████████████| 225636/225636 [00:11<00:00, 19435.76it/s]\n"
     ]
    }
   ],
   "source": [
    "import sys\n",
    "sys.path.append('../')\n",
    "\n",
    "import seaborn as sns\n",
    "from data_model import Individual\n",
    "from sys_utils import load_model\n",
    "\n",
    "checkpoint_path = '../checkpoints_dev'\n",
    "\n",
    "individuals = load_model(\n",
    "        Individual, name=checkpoint_path + \"/individuals.jsonl\"\n",
    "    )\n",
    "\n",
    "from tqdm import tqdm\n",
    "template = 'simple_white'"
   ]
  },
  {
   "cell_type": "code",
   "execution_count": 62,
   "id": "a98bcf93-d5a3-45aa-be51-876ff2039a32",
   "metadata": {},
   "outputs": [],
   "source": [
    "individuals_filtered = [x for x in individuals if x.regions != None]\n",
    "\n",
    "df_individuals = [\n",
    "    {\n",
    "        \"wikidata_id\": x.id.wikidata_id,\n",
    "        \"region_code\": x.regions,\n",
    "        \"cultural_score\":x.cultural_score,\n",
    "         \"year\": x.impact_years,\n",
    "        'birthyear':x.id.birthyear\n",
    "    }\n",
    "    for x in individuals_filtered\n",
    "]\n",
    "\n",
    "\n",
    "from data_model_region import Region\n",
    "df = pd.DataFrame(df_individuals)\n",
    "df = df.explode('region_code')\n",
    "\n",
    "regions = load_model(\n",
    "    Region, name=checkpoint_path + \"/regions.jsonl\"\n",
    ")\n",
    "\n",
    "df_regions = [\n",
    "        {\n",
    "            \"region_code\": x.code,\n",
    "            \"region_name\": x.name,\n",
    "        }\n",
    "        for x in regions\n",
    "    ]\n",
    "\n",
    "df_regions = pd.DataFrame(df_regions)\n",
    "df = pd.merge(df, df_regions, on = 'region_code')\n",
    "df = df.dropna()\n"
   ]
  },
  {
   "cell_type": "code",
   "execution_count": 63,
   "id": "fed3fa8e-efd5-4f23-bc13-d26213ba9621",
   "metadata": {},
   "outputs": [],
   "source": []
  },
  {
   "cell_type": "code",
   "execution_count": 79,
   "id": "34e5198c-0e3c-45cf-bdbc-40dd445c894d",
   "metadata": {},
   "outputs": [],
   "source": [
    "import numpy as np"
   ]
  },
  {
   "cell_type": "code",
   "execution_count": 97,
   "id": "fa777ab8-39c6-46dd-b2b3-a76b34591adc",
   "metadata": {},
   "outputs": [],
   "source": [
    "df['decade'] = df['birthyear'].apply(lambda x: round(x / 50) * 50)\n",
    "# Group by region_name and sort each group by cultural_score in descending order\n",
    "groups = df.groupby('region_name')\n",
    "sorted_groups = [g.sort_values('cultural_score', ascending=False).reset_index(drop=True) for _, g in groups]\n",
    "\n",
    "# Filter out the top 20% of wikidata_id for each region_name\n",
    "filtered_groups = [g.iloc[int(len(g)*0.1):] for g in sorted_groups]\n",
    "\n",
    "\n",
    "# Concatenate the filtered groups back into a single dataframe\n",
    "df_less_top = pd.concat(filtered_groups).reset_index(drop=True)\n",
    "df_fig = df_less_top.groupby(['region_name', 'decade'])['cultural_score'].sum().reset_index()\n",
    "df_fig['cultural_score'] = np.log(1 + df_fig['cultural_score'])\n"
   ]
  },
  {
   "cell_type": "code",
   "execution_count": null,
   "id": "8de70b4a-7aba-455b-8097-5b763244d678",
   "metadata": {},
   "outputs": [],
   "source": []
  },
  {
   "cell_type": "code",
   "execution_count": null,
   "id": "765da81a-ae75-4e0f-8249-a53c459deee0",
   "metadata": {},
   "outputs": [],
   "source": []
  },
  {
   "cell_type": "code",
   "execution_count": 101,
   "id": "8ecb5879-267b-4afd-a194-69b94d41b2eb",
   "metadata": {},
   "outputs": [
    {
     "name": "stderr",
     "output_type": "stream",
     "text": [
      "/var/folders/lx/9b13r6ln63jb54_3xlf9b_380000gn/T/ipykernel_33702/2604702602.py:6: SettingWithCopyWarning:\n",
      "\n",
      "\n",
      "A value is trying to be set on a copy of a slice from a DataFrame.\n",
      "Try using .loc[row_indexer,col_indexer] = value instead\n",
      "\n",
      "See the caveats in the documentation: https://pandas.pydata.org/pandas-docs/stable/user_guide/indexing.html#returning-a-view-versus-a-copy\n",
      "\n"
     ]
    },
    {
     "data": {
      "text/plain": [
       "'temp-plot.html'"
      ]
     },
     "execution_count": 101,
     "metadata": {},
     "output_type": "execute_result"
    }
   ],
   "source": [
    "region = 'Chinese world'\n",
    "min_date = -800\n",
    "max_date = 1850\n",
    "\n",
    "df_fig_filtered = df_fig[(df_fig['region_name']==region)&(df_fig['decade']>=min_date)&(df_fig['decade']<=max_date)]\n",
    "df_fig_filtered['cultural_score'] = (df_fig_filtered['cultural_score'] - df_fig_filtered['cultural_score'].min()) / (df_fig_filtered['cultural_score'].max() - df_fig_filtered['cultural_score'].min())\n",
    "\n",
    "\n",
    "import plotly.express as px\n",
    "fig = px.line(df_fig_filtered, \n",
    "              x = 'decade', \n",
    "              y = 'cultural_score', \n",
    "              width = 1000, \n",
    "              height = 600, \n",
    "              title = f'{region} (Top 90% Individuals)',\n",
    "              template = 'plotly_white')\n",
    "\n",
    "fig.update_xaxes(showgrid=True, showticklabels=True, zeroline=False)\n",
    "fig.update_yaxes(showgrid=True, showticklabels=True, zeroline=False)\n",
    "fig.update_layout(title_font=dict(size=20))\n",
    "\n",
    "fig.update_layout(\n",
    "    xaxis_title=\"\",\n",
    "    yaxis_title='Log Cultural Index')\n",
    "import plotly\n",
    "plotly.offline.plot(fig)"
   ]
  },
  {
   "cell_type": "code",
   "execution_count": null,
   "id": "a9ca0017-cdd6-4801-b337-db9193a2f42e",
   "metadata": {},
   "outputs": [],
   "source": []
  },
  {
   "cell_type": "code",
   "execution_count": 69,
   "id": "05d7dd14-5496-4565-bb42-ddcdb3902ad8",
   "metadata": {},
   "outputs": [
    {
     "data": {
      "text/plain": [
       "'temp-plot.html'"
      ]
     },
     "execution_count": 69,
     "metadata": {},
     "output_type": "execute_result"
    }
   ],
   "source": []
  },
  {
   "cell_type": "code",
   "execution_count": null,
   "id": "1fc02116-b0a2-4bfa-a4b0-af649be8f1c5",
   "metadata": {},
   "outputs": [],
   "source": []
  },
  {
   "cell_type": "code",
   "execution_count": null,
   "id": "345b10af-5833-49bc-b8dc-00daad679877",
   "metadata": {},
   "outputs": [],
   "source": []
  },
  {
   "cell_type": "code",
   "execution_count": null,
   "id": "f9c706d4-ac8f-4afa-b906-fcbae44e0049",
   "metadata": {},
   "outputs": [],
   "source": []
  },
  {
   "cell_type": "code",
   "execution_count": null,
   "id": "fde32f43-e703-452e-9172-4ddfd0e0208d",
   "metadata": {},
   "outputs": [],
   "source": []
  },
  {
   "cell_type": "code",
   "execution_count": null,
   "id": "eb8d56c2-2a24-4166-a7d0-523968f20158",
   "metadata": {},
   "outputs": [],
   "source": []
  },
  {
   "cell_type": "code",
   "execution_count": null,
   "id": "6959874f-dad6-437a-bc44-8dc525e1bd71",
   "metadata": {},
   "outputs": [],
   "source": []
  },
  {
   "cell_type": "code",
   "execution_count": null,
   "id": "a9caba79-528b-4140-9f00-f77cf5d0b530",
   "metadata": {},
   "outputs": [],
   "source": []
  }
 ],
 "metadata": {
  "kernelspec": {
   "display_name": "Python 3 (ipykernel)",
   "language": "python",
   "name": "python3"
  },
  "language_info": {
   "codemirror_mode": {
    "name": "ipython",
    "version": 3
   },
   "file_extension": ".py",
   "mimetype": "text/x-python",
   "name": "python",
   "nbconvert_exporter": "python",
   "pygments_lexer": "ipython3",
   "version": "3.8.16"
  }
 },
 "nbformat": 4,
 "nbformat_minor": 5
}
