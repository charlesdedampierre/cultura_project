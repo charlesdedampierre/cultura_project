{
 "cells": [
  {
   "cell_type": "code",
   "execution_count": null,
   "id": "9f469bc1-d2bb-40b7-b8c3-4738f0702f9f",
   "metadata": {},
   "outputs": [],
   "source": []
  },
  {
   "cell_type": "code",
   "execution_count": 1,
   "id": "74185eb6-40ad-4f20-ad4e-e1d77f5c3c19",
   "metadata": {
    "tags": []
   },
   "outputs": [],
   "source": [
    "import sys\n",
    "sys.path.append('../')\n",
    "\n",
    "import seaborn as sns\n",
    "from data_model import Individual\n",
    "from sys_utils import load_model\n",
    "\n",
    "checkpoint_path = '../checkpoints_dev'\n",
    "\n",
    "individuals = load_model(\n",
    "        Individual, name=checkpoint_path + \"/individuals.jsonl\"\n",
    "    )\n",
    "\n",
    "from tqdm import tqdm\n",
    "\n",
    "all_page = []\n",
    "for ind in tqdm(individuals):\n",
    "    try:\n",
    "        for page in ind.wikipedia_pages:\n",
    "            res = page.dict()\n",
    "            res['wikidata_id'] = ind.id.wikidata_id\n",
    "            all_page.append(res)\n",
    "    except:\n",
    "        pass\n",
    "    \n",
    "template = 'simple_white'\n",
    "\n",
    "import pandas as pd\n",
    "\n",
    "df_proxies_all = pd.DataFrame(all_page)\n",
    "df_proxies = df_proxies_all[~df_proxies_all['language'].str.contains('commons.wikimedia')]"
   ]
  },
  {
   "cell_type": "code",
   "execution_count": 2,
   "id": "2582415b-ade2-4039-8448-da6a60d691de",
   "metadata": {},
   "outputs": [],
   "source": []
  },
  {
   "cell_type": "code",
   "execution_count": 3,
   "id": "502fe7c4-a529-4b86-b5d1-aa6b31b04649",
   "metadata": {},
   "outputs": [],
   "source": []
  },
  {
   "cell_type": "code",
   "execution_count": 4,
   "id": "c1057b07-c791-4404-83db-e8c3bd739eff",
   "metadata": {},
   "outputs": [],
   "source": []
  },
  {
   "cell_type": "code",
   "execution_count": null,
   "id": "9f224a32-6efb-46f9-ae78-a9cea76e40cd",
   "metadata": {},
   "outputs": [],
   "source": []
  },
  {
   "cell_type": "code",
   "execution_count": 6,
   "id": "197e1a85-9887-4efc-84ce-aca274d85cdf",
   "metadata": {},
   "outputs": [],
   "source": []
  },
  {
   "cell_type": "code",
   "execution_count": 7,
   "id": "c6cdeac8-a7f6-496f-bb2c-847a9f971acc",
   "metadata": {},
   "outputs": [],
   "source": [
    "#individuals[0].wikipedia_pages"
   ]
  },
  {
   "cell_type": "code",
   "execution_count": 8,
   "id": "c7d4a707-078b-4aa6-b37b-7a57cbd54958",
   "metadata": {},
   "outputs": [
    {
     "name": "stderr",
     "output_type": "stream",
     "text": [
      "100%|████████████████████████████████| 225636/225636 [00:14<00:00, 15760.85it/s]\n"
     ]
    }
   ],
   "source": []
  },
  {
   "cell_type": "code",
   "execution_count": null,
   "id": "c57e1565-c049-4aae-a806-6667a4706284",
   "metadata": {},
   "outputs": [],
   "source": []
  },
  {
   "cell_type": "code",
   "execution_count": 9,
   "id": "cf68615a-2542-4d8e-8dd2-983246d1188d",
   "metadata": {},
   "outputs": [],
   "source": []
  },
  {
   "cell_type": "code",
   "execution_count": 10,
   "id": "4d2e2d6a-a1fb-402f-bb23-1ee868d6eb31",
   "metadata": {},
   "outputs": [],
   "source": [
    "\n",
    "df_proxies = df_proxies.drop(['url', 'author', 'created_at', 'author_editcount'], axis=1)\n",
    "df_proxies = df_proxies.fillna(0)"
   ]
  },
  {
   "cell_type": "code",
   "execution_count": 11,
   "id": "c3b89487-2321-4b31-b257-f0cd64a898ad",
   "metadata": {},
   "outputs": [],
   "source": [
    "df_proxies_group = df_proxies.groupby('wikidata_id').sum()"
   ]
  },
  {
   "cell_type": "code",
   "execution_count": null,
   "id": "2f70b3b2-27a3-438a-8914-1f23cbae1974",
   "metadata": {},
   "outputs": [],
   "source": []
  },
  {
   "cell_type": "code",
   "execution_count": null,
   "id": "42271cdd-16c5-41af-a51e-195a66625e90",
   "metadata": {},
   "outputs": [],
   "source": [
    "fig = sns.clustermap(df_proxies_group.corr(), method=\"complete\", cmap='Blues', annot=True, \n",
    "               annot_kws={\"size\": 7}, vmin=0, vmax=1, figsize=(9,9));\n",
    "\n",
    "\n",
    "fig.savefig(\"save_figures/proxies_correlation.png\", dpi = 600)"
   ]
  },
  {
   "cell_type": "code",
   "execution_count": null,
   "id": "629ed631-5094-4951-b510-13dd497fb85e",
   "metadata": {},
   "outputs": [],
   "source": []
  },
  {
   "cell_type": "code",
   "execution_count": null,
   "id": "f3db84a9-ee0c-456b-82c8-69ea78589ef5",
   "metadata": {},
   "outputs": [],
   "source": []
  },
  {
   "cell_type": "code",
   "execution_count": null,
   "id": "38d581e4-24d9-44a8-9d42-e85809f85fe0",
   "metadata": {},
   "outputs": [],
   "source": []
  },
  {
   "cell_type": "code",
   "execution_count": 13,
   "id": "4f8e4c9b-66d3-4a43-ad57-ab3c5370da62",
   "metadata": {},
   "outputs": [],
   "source": [
    "# get the yearly adds"
   ]
  },
  {
   "cell_type": "code",
   "execution_count": 14,
   "id": "54642d34-7b6f-406a-a372-9f0e2234c489",
   "metadata": {},
   "outputs": [],
   "source": [
    "individuals_filtered = [x for x in individuals if x.regions != None]\n",
    "individuals_filtered = [x for x in individuals_filtered if x.identifiers != None]\n",
    "\n",
    "df_individuals = [\n",
    "    {\n",
    "        \"wikidata_id\": x.id.wikidata_id,\n",
    "        \"region_code\": x.regions,\n",
    "        \"cultural_score\":x.cultural_score,\n",
    "         \"year\": x.impact_years,\n",
    "    }\n",
    "    for x in individuals_filtered\n",
    "]\n",
    "\n",
    "\n",
    "from data_model_region import Region\n",
    "df = pd.DataFrame(df_individuals)\n",
    "df = df.explode('region_code')\n",
    "\n",
    "regions = load_model(\n",
    "    Region, name=checkpoint_path + \"/regions.jsonl\"\n",
    ")\n",
    "\n",
    "df_regions = [\n",
    "        {\n",
    "            \"region_code\": x.code,\n",
    "            \"region_name\": x.name,\n",
    "        }\n",
    "        for x in regions\n",
    "    ]\n",
    "\n",
    "df_regions = pd.DataFrame(df_regions)\n",
    "df = pd.merge(df, df_regions, on = 'region_code')\n"
   ]
  },
  {
   "cell_type": "code",
   "execution_count": 28,
   "id": "bd3c4f14-cf9b-45c8-8440-0d7f6e15b775",
   "metadata": {},
   "outputs": [],
   "source": [
    "\n",
    "\n",
    "df_created_at = df_proxies_all[['language', 'wikidata_id', 'created_at']].dropna()\n",
    "df_created_at = df_created_at.drop_duplicates()\n",
    "df_created_at['creation_year'] = df_created_at['created_at'].apply(lambda x : x[:4])\n",
    "df_created_at = df_created_at.drop('created_at', axis=1)\n",
    "\n",
    "df = pd.merge(df, df_created_at, on = 'wikidata_id')"
   ]
  },
  {
   "cell_type": "code",
   "execution_count": 31,
   "id": "d0b846d9-e04f-4a28-abd1-22ee8714d935",
   "metadata": {},
   "outputs": [],
   "source": [
    "df_wiki = df.drop('creation_year', axis=1)"
   ]
  },
  {
   "cell_type": "code",
   "execution_count": 32,
   "id": "726730b5-8dd0-424e-919c-828d1fc5bdcb",
   "metadata": {},
   "outputs": [
    {
     "data": {
      "text/html": [
       "<div>\n",
       "<style scoped>\n",
       "    .dataframe tbody tr th:only-of-type {\n",
       "        vertical-align: middle;\n",
       "    }\n",
       "\n",
       "    .dataframe tbody tr th {\n",
       "        vertical-align: top;\n",
       "    }\n",
       "\n",
       "    .dataframe thead th {\n",
       "        text-align: right;\n",
       "    }\n",
       "</style>\n",
       "<table border=\"1\" class=\"dataframe\">\n",
       "  <thead>\n",
       "    <tr style=\"text-align: right;\">\n",
       "      <th></th>\n",
       "      <th>wikidata_id</th>\n",
       "      <th>region_code</th>\n",
       "      <th>cultural_score</th>\n",
       "      <th>year</th>\n",
       "      <th>region_name</th>\n",
       "      <th>language</th>\n",
       "    </tr>\n",
       "  </thead>\n",
       "  <tbody>\n",
       "    <tr>\n",
       "      <th>0</th>\n",
       "      <td>Q6121397</td>\n",
       "      <td>re_western_europe</td>\n",
       "      <td>0.100247</td>\n",
       "      <td>(1850, 1900)</td>\n",
       "      <td>Western Europe</td>\n",
       "      <td>es</td>\n",
       "    </tr>\n",
       "    <tr>\n",
       "      <th>1</th>\n",
       "      <td>Q6121397</td>\n",
       "      <td>re_spain</td>\n",
       "      <td>0.100247</td>\n",
       "      <td>(1850, 1900)</td>\n",
       "      <td>Spain</td>\n",
       "      <td>es</td>\n",
       "    </tr>\n",
       "    <tr>\n",
       "      <th>2</th>\n",
       "      <td>Q861742</td>\n",
       "      <td>re_western_europe</td>\n",
       "      <td>0.101501</td>\n",
       "      <td>(1700, 1750)</td>\n",
       "      <td>Western Europe</td>\n",
       "      <td>en</td>\n",
       "    </tr>\n",
       "    <tr>\n",
       "      <th>3</th>\n",
       "      <td>Q861742</td>\n",
       "      <td>re_western_europe</td>\n",
       "      <td>0.101501</td>\n",
       "      <td>(1700, 1750)</td>\n",
       "      <td>Western Europe</td>\n",
       "      <td>es</td>\n",
       "    </tr>\n",
       "    <tr>\n",
       "      <th>4</th>\n",
       "      <td>Q861742</td>\n",
       "      <td>re_western_europe</td>\n",
       "      <td>0.101501</td>\n",
       "      <td>(1700, 1750)</td>\n",
       "      <td>Western Europe</td>\n",
       "      <td>fr</td>\n",
       "    </tr>\n",
       "    <tr>\n",
       "      <th>...</th>\n",
       "      <td>...</td>\n",
       "      <td>...</td>\n",
       "      <td>...</td>\n",
       "      <td>...</td>\n",
       "      <td>...</td>\n",
       "      <td>...</td>\n",
       "    </tr>\n",
       "    <tr>\n",
       "      <th>2208546</th>\n",
       "      <td>Q495259</td>\n",
       "      <td>re_korea</td>\n",
       "      <td>0.104791</td>\n",
       "      <td>(1690, 1740)</td>\n",
       "      <td>Korea</td>\n",
       "      <td>tr</td>\n",
       "    </tr>\n",
       "    <tr>\n",
       "      <th>2208547</th>\n",
       "      <td>Q495259</td>\n",
       "      <td>re_korea</td>\n",
       "      <td>0.104791</td>\n",
       "      <td>(1690, 1740)</td>\n",
       "      <td>Korea</td>\n",
       "      <td>zh</td>\n",
       "    </tr>\n",
       "    <tr>\n",
       "      <th>2208548</th>\n",
       "      <td>Q16180175</td>\n",
       "      <td>re_korea</td>\n",
       "      <td>0.101152</td>\n",
       "      <td>(1440, 1490)</td>\n",
       "      <td>Korea</td>\n",
       "      <td>ko</td>\n",
       "    </tr>\n",
       "    <tr>\n",
       "      <th>2208549</th>\n",
       "      <td>Q12624212</td>\n",
       "      <td>re_korea</td>\n",
       "      <td>0.100188</td>\n",
       "      <td>(1690, 1740)</td>\n",
       "      <td>Korea</td>\n",
       "      <td>ko</td>\n",
       "    </tr>\n",
       "    <tr>\n",
       "      <th>2208550</th>\n",
       "      <td>Q16180374</td>\n",
       "      <td>re_korea</td>\n",
       "      <td>0.100103</td>\n",
       "      <td>(1550, 1600)</td>\n",
       "      <td>Korea</td>\n",
       "      <td>ko</td>\n",
       "    </tr>\n",
       "  </tbody>\n",
       "</table>\n",
       "<p>2208551 rows × 6 columns</p>\n",
       "</div>"
      ],
      "text/plain": [
       "        wikidata_id        region_code  cultural_score          year  \\\n",
       "0          Q6121397  re_western_europe        0.100247  (1850, 1900)   \n",
       "1          Q6121397           re_spain        0.100247  (1850, 1900)   \n",
       "2           Q861742  re_western_europe        0.101501  (1700, 1750)   \n",
       "3           Q861742  re_western_europe        0.101501  (1700, 1750)   \n",
       "4           Q861742  re_western_europe        0.101501  (1700, 1750)   \n",
       "...             ...                ...             ...           ...   \n",
       "2208546     Q495259           re_korea        0.104791  (1690, 1740)   \n",
       "2208547     Q495259           re_korea        0.104791  (1690, 1740)   \n",
       "2208548   Q16180175           re_korea        0.101152  (1440, 1490)   \n",
       "2208549   Q12624212           re_korea        0.100188  (1690, 1740)   \n",
       "2208550   Q16180374           re_korea        0.100103  (1550, 1600)   \n",
       "\n",
       "            region_name language  \n",
       "0        Western Europe       es  \n",
       "1                 Spain       es  \n",
       "2        Western Europe       en  \n",
       "3        Western Europe       es  \n",
       "4        Western Europe       fr  \n",
       "...                 ...      ...  \n",
       "2208546           Korea       tr  \n",
       "2208547           Korea       zh  \n",
       "2208548           Korea       ko  \n",
       "2208549           Korea       ko  \n",
       "2208550           Korea       ko  \n",
       "\n",
       "[2208551 rows x 6 columns]"
      ]
     },
     "execution_count": 32,
     "metadata": {},
     "output_type": "execute_result"
    }
   ],
   "source": [
    "df_wiki"
   ]
  },
  {
   "cell_type": "code",
   "execution_count": null,
   "id": "3a9e8eed-4a7d-4e40-8f3f-4aa9e31b0eb9",
   "metadata": {},
   "outputs": [],
   "source": []
  },
  {
   "cell_type": "code",
   "execution_count": 67,
   "id": "c89f6e91-eff2-4b26-a959-d845cc1bd830",
   "metadata": {},
   "outputs": [],
   "source": [
    "region = ['France']\n",
    "wikis = ['en', 'fr', 'ja', 'zh']"
   ]
  },
  {
   "cell_type": "code",
   "execution_count": 68,
   "id": "88845807-e319-4854-a8c8-2923b9b0e6dd",
   "metadata": {},
   "outputs": [],
   "source": [
    "import numpy as np"
   ]
  },
  {
   "cell_type": "code",
   "execution_count": 69,
   "id": "eb991ccb-f044-4727-93c9-c1f4287a6d52",
   "metadata": {},
   "outputs": [
    {
     "name": "stderr",
     "output_type": "stream",
     "text": [
      "/var/folders/lx/9b13r6ln63jb54_3xlf9b_380000gn/T/ipykernel_25900/4034611567.py:2: SettingWithCopyWarning:\n",
      "\n",
      "\n",
      "A value is trying to be set on a copy of a slice from a DataFrame.\n",
      "Try using .loc[row_indexer,col_indexer] = value instead\n",
      "\n",
      "See the caveats in the documentation: https://pandas.pydata.org/pandas-docs/stable/user_guide/indexing.html#returning-a-view-versus-a-copy\n",
      "\n"
     ]
    }
   ],
   "source": [
    "df_filtered = df_wiki[(df_wiki['language'].isin(wikis)) & (df_wiki['region_name'].isin(region))]\n",
    "df_filtered['decade'] = df_filtered['year'].apply(\n",
    "        lambda x: [year for year in range(int(x[0]), int(x[1]) + 10, 10)]\n",
    "    )\n",
    "df_filtered = df_filtered.explode('decade')\n",
    "df_filtered = df_filtered.groupby(['language', 'decade'])['cultural_score'].sum().reset_index()\n",
    "df_filtered = df_filtered[(df_filtered['decade']>=1000)&(df_filtered['decade']<=1850)]\n",
    "df_filtered['cultural_score'] = np.log(1 + df_filtered['cultural_score'])\n",
    "wiki_code = pd.read_csv('manual_data/Wikipedia_language - code.csv')\n",
    "wiki_code = wiki_code.rename(columns = {'code':'language'})\n",
    "df_filtered = pd.merge(df_filtered, wiki_code, on = 'language')\n",
    "df_filtered = df_filtered.rename(columns = {'english_language_name':'wikipedia'})"
   ]
  },
  {
   "cell_type": "code",
   "execution_count": null,
   "id": "9ddcd88d-8d1b-4bcc-963d-a79bc4806c8c",
   "metadata": {},
   "outputs": [],
   "source": []
  },
  {
   "cell_type": "code",
   "execution_count": null,
   "id": "3fa544cf-4f97-40b9-955f-c079dbf62263",
   "metadata": {},
   "outputs": [],
   "source": []
  },
  {
   "cell_type": "code",
   "execution_count": 70,
   "id": "23dc6415-16e2-4dbe-9fd9-a01ed553861d",
   "metadata": {},
   "outputs": [
    {
     "data": {
      "text/plain": [
       "'temp-plot.html'"
      ]
     },
     "execution_count": 70,
     "metadata": {},
     "output_type": "execute_result"
    }
   ],
   "source": [
    "fig = px.line(df_filtered, x = 'decade', \n",
    "              y = 'cultural_score', \n",
    "              color = 'wikipedia', \n",
    "              width = 1000, \n",
    "              height = 600, \n",
    "              title = 'France Cultural Score',\n",
    "             template = 'plotly_white')\n",
    "\n",
    "fig.update_xaxes(showgrid=False, showticklabels=True, zeroline=False)\n",
    "fig.update_yaxes(showgrid=False, showticklabels=True, zeroline=False)\n",
    "fig.update_layout(title_font=dict(size=20))\n",
    "fig.update_layout(\n",
    "    xaxis_title=\"\",\n",
    "    yaxis_title='Cultural Score')\n",
    "import plotly\n",
    "plotly.offline.plot(fig)\n"
   ]
  },
  {
   "cell_type": "code",
   "execution_count": 39,
   "id": "76ee8225-db61-4dd4-ab8d-dd92378bd1d6",
   "metadata": {},
   "outputs": [],
   "source": []
  },
  {
   "cell_type": "code",
   "execution_count": null,
   "id": "7c4efe5e-6872-44e7-98a6-6cb14ac474d7",
   "metadata": {},
   "outputs": [],
   "source": []
  },
  {
   "cell_type": "code",
   "execution_count": 71,
   "id": "f1bba636-90fc-4f35-89db-0fc22114f5fd",
   "metadata": {},
   "outputs": [],
   "source": [
    "\n",
    "#fig.write_image(f\"save_figures/identifiers_line.png\", scale=7)"
   ]
  },
  {
   "cell_type": "code",
   "execution_count": null,
   "id": "af4aaf32-306c-4027-865d-e0b519de1041",
   "metadata": {},
   "outputs": [],
   "source": []
  },
  {
   "cell_type": "code",
   "execution_count": null,
   "id": "e70f6ff0-0907-46b6-b28a-d21c4c173a99",
   "metadata": {},
   "outputs": [],
   "source": []
  },
  {
   "cell_type": "code",
   "execution_count": 18,
   "id": "11a091f9-3de2-4c8c-858d-dec0ee48991b",
   "metadata": {},
   "outputs": [],
   "source": [
    "import plotly.express as px"
   ]
  },
  {
   "cell_type": "code",
   "execution_count": 25,
   "id": "a777c9cf-80d9-4630-9945-494421d9d599",
   "metadata": {},
   "outputs": [
    {
     "name": "stderr",
     "output_type": "stream",
     "text": [
      "/var/folders/lx/9b13r6ln63jb54_3xlf9b_380000gn/T/ipykernel_25900/3352572912.py:9: SettingWithCopyWarning:\n",
      "\n",
      "\n",
      "A value is trying to be set on a copy of a slice from a DataFrame.\n",
      "Try using .loc[row_indexer,col_indexer] = value instead\n",
      "\n",
      "See the caveats in the documentation: https://pandas.pydata.org/pandas-docs/stable/user_guide/indexing.html#returning-a-view-versus-a-copy\n",
      "\n"
     ]
    },
    {
     "data": {
      "application/vnd.plotly.v1+json": {
       "config": {
        "plotlyServerURL": "https://plot.ly"
       },
       "data": [
        {
         "hovertemplate": "creation_year=2001<br>year=%{x}<br>cultural_score=%{y}<extra></extra>",
         "legendgroup": "2001",
         "line": {
          "color": "#636efa",
          "dash": "solid"
         },
         "marker": {
          "symbol": "circle"
         },
         "mode": "lines",
         "name": "2001",
         "orientation": "v",
         "showlegend": true,
         "type": "scatter",
         "x": [
          1400,
          1450,
          1460,
          1470,
          1480,
          1490,
          1500,
          1510,
          1520,
          1530,
          1540,
          1550,
          1560,
          1570,
          1580,
          1600,
          1610,
          1620,
          1630,
          1640,
          1650,
          1660,
          1670,
          1680,
          1690,
          1700,
          1710,
          1720,
          1730,
          1830,
          1840,
          1850
         ],
         "xaxis": "x",
         "y": [
          0.11010312447101582,
          0.11643433977719254,
          0.11643433977719254,
          0.3706909398117274,
          0.6617074037541734,
          0.6617074037541734,
          0.6617074037541734,
          0.5452730639769807,
          0.5452730639769807,
          0.46829886709298135,
          0.17728240315053545,
          0.17728240315053545,
          0.17728240315053545,
          0.17728240315053545,
          0.17728240315053545,
          0.12526732805993687,
          0.4555634974541183,
          1.015315473651149,
          1.1371529200511235,
          1.7587527286892022,
          1.7587527286892022,
          1.6334854006292652,
          1.3031892312350837,
          0.8713997613310858,
          0.7495623149311113,
          0.12796250629303263,
          0.12796250629303263,
          0.12796250629303263,
          0.12796250629303263,
          0.11344966454986417,
          0.11344966454986417,
          0.11344966454986417
         ],
         "yaxis": "y"
        },
        {
         "hovertemplate": "creation_year=2002<br>year=%{x}<br>cultural_score=%{y}<extra></extra>",
         "legendgroup": "2002",
         "line": {
          "color": "#EF553B",
          "dash": "solid"
         },
         "marker": {
          "symbol": "circle"
         },
         "mode": "lines",
         "name": "2002",
         "orientation": "v",
         "showlegend": true,
         "type": "scatter",
         "x": [
          1400,
          1410,
          1420,
          1430,
          1440,
          1450,
          1460,
          1470,
          1480,
          1490,
          1500,
          1510,
          1520,
          1530,
          1540,
          1550,
          1560,
          1570,
          1580,
          1590,
          1600,
          1610,
          1620,
          1630,
          1640,
          1650,
          1660,
          1670,
          1680,
          1690,
          1710,
          1720,
          1730,
          1740,
          1750,
          1760,
          1770,
          1780,
          1790,
          1800,
          1810,
          1820,
          1830,
          1840,
          1850
         ],
         "xaxis": "x",
         "y": [
          0.42240472499282106,
          0.3090811383267107,
          0.3090811383267107,
          0.3090811383267107,
          0.19821512490223808,
          0.19821512490223808,
          0.3428027089483475,
          0.46569145279827706,
          0.591776767189208,
          0.591776767189208,
          0.591776767189208,
          0.591776767189208,
          0.4211604915120605,
          0.29827174766213094,
          0.5820712939792098,
          0.6846653907396332,
          0.9959836098036949,
          1.1272866690239158,
          1.536041585927168,
          1.850851210920633,
          1.617528648559066,
          1.7532243912154741,
          1.4419061721514121,
          1.4146883355366966,
          1.5004569634774019,
          1.1856473384839368,
          1.009085040137494,
          0.7707952007206627,
          0.7707952007206627,
          0.6667099781151573,
          0.17761313147296193,
          0.17761313147296193,
          0.17761313147296193,
          0.17761313147296193,
          0.17761313147296193,
          0.17761313147296193,
          0.1109809229655384,
          0.1109809229655384,
          0.1109809229655384,
          0.2117404733968553,
          0.2117404733968553,
          0.357865558784297,
          0.24688463581875858,
          0.24688463581875858,
          0.397820936562713
         ],
         "yaxis": "y"
        },
        {
         "hovertemplate": "creation_year=2003<br>year=%{x}<br>cultural_score=%{y}<extra></extra>",
         "legendgroup": "2003",
         "line": {
          "color": "#00cc96",
          "dash": "solid"
         },
         "marker": {
          "symbol": "circle"
         },
         "mode": "lines",
         "name": "2003",
         "orientation": "v",
         "showlegend": true,
         "type": "scatter",
         "x": [
          1400,
          1410,
          1420,
          1430,
          1440,
          1450,
          1460,
          1470,
          1490,
          1500,
          1510,
          1520,
          1530,
          1540,
          1550,
          1560,
          1570,
          1580,
          1590,
          1600,
          1610,
          1620,
          1630,
          1640,
          1650,
          1660,
          1670,
          1680,
          1690,
          1700,
          1710,
          1720,
          1730,
          1740,
          1750,
          1760,
          1770,
          1780,
          1790,
          1800,
          1810,
          1820,
          1830,
          1840,
          1850
         ],
         "xaxis": "x",
         "y": [
          0.2694003308619358,
          0.4344449188420865,
          0.5657029387667977,
          0.5657029387667977,
          0.5657029387667977,
          0.5657029387667977,
          0.4007919306295307,
          0.13125801992471117,
          0.10144565923692207,
          0.22432534208560884,
          0.35341640806084934,
          0.6934736752542974,
          0.8095138953723342,
          0.9676752093119998,
          1.080970057076955,
          1.0853059324695988,
          1.44065973859583,
          1.3252804747329887,
          1.92475540999438,
          2.5627762772610145,
          2.547670846519549,
          2.420455288278218,
          2.173070409962739,
          2.302152493932958,
          1.9319176489268446,
          1.4497947420261739,
          1.2501596657657625,
          1.3551000079794258,
          1.1180400141934335,
          1.178133447568774,
          0.9370857797016803,
          0.727350108973554,
          0.8307058138794237,
          0.9501652620285486,
          1.3029635466125558,
          0.8891100259363895,
          0.7848773834301686,
          0.7877954197257465,
          0.9274025990924365,
          0.7030028087296483,
          0.7085053825893005,
          1.1446827864433518,
          1.7421176277863226,
          1.8546988662726072,
          2.695665936818437
         ],
         "yaxis": "y"
        },
        {
         "hovertemplate": "creation_year=2004<br>year=%{x}<br>cultural_score=%{y}<extra></extra>",
         "legendgroup": "2004",
         "line": {
          "color": "#ab63fa",
          "dash": "solid"
         },
         "marker": {
          "symbol": "circle"
         },
         "mode": "lines",
         "name": "2004",
         "orientation": "v",
         "showlegend": true,
         "type": "scatter",
         "x": [
          1400,
          1410,
          1420,
          1430,
          1440,
          1450,
          1460,
          1470,
          1480,
          1490,
          1500,
          1510,
          1520,
          1530,
          1540,
          1550,
          1560,
          1570,
          1580,
          1590,
          1600,
          1610,
          1620,
          1630,
          1640,
          1650,
          1660,
          1670,
          1680,
          1690,
          1700,
          1710,
          1720,
          1730,
          1740,
          1750,
          1760,
          1770,
          1780,
          1790,
          1800,
          1810,
          1820,
          1830,
          1840,
          1850
         ],
         "xaxis": "x",
         "y": [
          0.11294505494614304,
          0.3237592182710355,
          0.3237592182710355,
          0.3237592182710355,
          0.21081416332489245,
          0.32603262343918393,
          0.6597762961311127,
          0.7971545971513172,
          0.7971545971513172,
          1.0524508489149715,
          1.2858560458378505,
          1.8212760876506584,
          1.936188980597868,
          2.1486937835700797,
          2.5651902452264332,
          2.4170977161613463,
          2.747186008192863,
          2.637808295004113,
          2.7600871968360385,
          2.830323687839122,
          3.091342169011592,
          3.6546785242478643,
          3.997529947183378,
          4.464708958556945,
          4.82994093302945,
          5.27433816470489,
          4.699684503959752,
          4.473311538483091,
          3.6832934999765166,
          2.8887526588242753,
          2.3754652662154885,
          1.6106072222341443,
          1.507745940150459,
          1.0635788276922802,
          1.5099376500678205,
          1.4075299887871238,
          0.9846499394523416,
          1.0017926505137904,
          1.0017926505137904,
          1.0017926505137904,
          0.763063840084174,
          1.3138075988269247,
          2.2722195370284624,
          2.6871456599626993,
          3.566845927883684,
          4.094716916620312
         ],
         "yaxis": "y"
        },
        {
         "hovertemplate": "creation_year=2005<br>year=%{x}<br>cultural_score=%{y}<extra></extra>",
         "legendgroup": "2005",
         "line": {
          "color": "#FFA15A",
          "dash": "solid"
         },
         "marker": {
          "symbol": "circle"
         },
         "mode": "lines",
         "name": "2005",
         "orientation": "v",
         "showlegend": true,
         "type": "scatter",
         "x": [
          1400,
          1410,
          1420,
          1430,
          1440,
          1450,
          1460,
          1470,
          1480,
          1490,
          1500,
          1510,
          1520,
          1530,
          1540,
          1550,
          1560,
          1570,
          1580,
          1590,
          1600,
          1610,
          1620,
          1630,
          1640,
          1650,
          1660,
          1670,
          1680,
          1690,
          1700,
          1710,
          1720,
          1730,
          1740,
          1750,
          1760,
          1770,
          1780,
          1790,
          1800,
          1810,
          1820,
          1830,
          1840,
          1850
         ],
         "xaxis": "x",
         "y": [
          0.10401544489557826,
          0.20769224814167142,
          0.4345041423465492,
          0.766624519116418,
          0.9824925513443986,
          1.111271564082633,
          1.428514307055709,
          1.3227975534107672,
          1.3021071231270136,
          1.4035792672672598,
          1.4057184762822759,
          2.3270033601279305,
          2.4334019135653344,
          3.3220329794136076,
          3.644656350853981,
          3.532619490591164,
          3.6305144905511804,
          3.1157643584433994,
          3.432354621967568,
          3.730872495409352,
          4.0555620504441965,
          5.8526473619314165,
          6.936483582976632,
          7.790550145383403,
          8.125796515576875,
          7.704434624176573,
          7.786415532221494,
          6.406592742895959,
          5.110231069234882,
          4.138398866866047,
          3.471350693230257,
          2.8186451418157477,
          1.9896093101796797,
          1.8858573271015524,
          1.8853267442852313,
          2.137758492864973,
          1.9474230683601361,
          2.0458268611406436,
          2.0427265846078697,
          1.8213343945756328,
          2.2449733799622806,
          3.1462363928380292,
          4.099694046298401,
          5.469778385818208,
          6.652740177782766,
          8.12246155927671
         ],
         "yaxis": "y"
        },
        {
         "hovertemplate": "creation_year=2006<br>year=%{x}<br>cultural_score=%{y}<extra></extra>",
         "legendgroup": "2006",
         "line": {
          "color": "#19d3f3",
          "dash": "solid"
         },
         "marker": {
          "symbol": "circle"
         },
         "mode": "lines",
         "name": "2006",
         "orientation": "v",
         "showlegend": true,
         "type": "scatter",
         "x": [
          1400,
          1410,
          1420,
          1430,
          1440,
          1450,
          1460,
          1470,
          1480,
          1490,
          1500,
          1510,
          1520,
          1530,
          1540,
          1550,
          1560,
          1570,
          1580,
          1590,
          1600,
          1610,
          1620,
          1630,
          1640,
          1650,
          1660,
          1670,
          1680,
          1690,
          1700,
          1710,
          1720,
          1730,
          1740,
          1750,
          1760,
          1770,
          1780,
          1790,
          1800,
          1810,
          1820,
          1830,
          1840,
          1850
         ],
         "xaxis": "x",
         "y": [
          0.20293295983974713,
          0.20293295983974713,
          0.1009096859278897,
          0.3111212498681668,
          0.4153455555103913,
          0.31443586958250164,
          0.7267618992895167,
          1.1470105511199091,
          1.2474444217419576,
          1.1406161111757678,
          1.4578325178437133,
          2.279845918300233,
          2.388484558960062,
          2.3929339982706144,
          3.45521435419517,
          3.766492789067778,
          4.394364280338041,
          3.987360236424846,
          4.311091294847665,
          4.828860744413188,
          4.7359530872086735,
          6.107453611203117,
          6.000962181256921,
          6.644909630876882,
          7.25267522264825,
          7.231818629106758,
          7.302735758711994,
          5.922995781099083,
          5.080838400511361,
          4.021881594348076,
          2.891565365966855,
          2.2868936082160034,
          1.5575117041327364,
          1.462107805205179,
          1.361444412158664,
          1.6670292114141494,
          1.549353281320488,
          1.3341846976929577,
          1.1258537568855107,
          1.3308146241003227,
          1.6450181322838562,
          1.9623319687175431,
          2.6911845638906673,
          4.058826563482916,
          4.586629399747208,
          4.787914899041233
         ],
         "yaxis": "y"
        },
        {
         "hovertemplate": "creation_year=2007<br>year=%{x}<br>cultural_score=%{y}<extra></extra>",
         "legendgroup": "2007",
         "line": {
          "color": "#FF6692",
          "dash": "solid"
         },
         "marker": {
          "symbol": "circle"
         },
         "mode": "lines",
         "name": "2007",
         "orientation": "v",
         "showlegend": true,
         "type": "scatter",
         "x": [
          1400,
          1410,
          1420,
          1430,
          1440,
          1450,
          1460,
          1470,
          1480,
          1490,
          1500,
          1510,
          1520,
          1530,
          1540,
          1550,
          1560,
          1570,
          1580,
          1590,
          1600,
          1610,
          1620,
          1630,
          1640,
          1650,
          1660,
          1670,
          1680,
          1690,
          1700,
          1710,
          1720,
          1730,
          1740,
          1750,
          1760,
          1770,
          1780,
          1790,
          1800,
          1810,
          1820,
          1830,
          1840,
          1850
         ],
         "xaxis": "x",
         "y": [
          0.20541163835443185,
          0.3083691414442903,
          0.3083691414442903,
          0.4244922687301848,
          0.4256970712465335,
          0.32207228505741187,
          0.634049875310169,
          0.9412661993422745,
          1.254793110280483,
          1.449444765052454,
          1.652595226943467,
          2.4781625824958198,
          3.2023398363461606,
          3.1054803688276635,
          3.522561206812057,
          3.6302309524873273,
          4.3504674641254,
          4.676859683740355,
          4.778288444363537,
          6.230545131886458,
          8.293619132764086,
          10.166862782082271,
          12.443377768592788,
          14.37375802234673,
          15.30021822602751,
          14.688539109059331,
          12.20280299110264,
          10.942332705227358,
          7.843676389439248,
          5.071193024990906,
          3.3190424717901634,
          2.472316953955723,
          2.4682869200471007,
          1.4370690288710595,
          1.7500450737459547,
          1.7492474725880653,
          2.172311415955074,
          2.174964033818678,
          2.0788366512853456,
          2.4939233690251,
          2.6007102139203933,
          3.3137609597873574,
          4.53070044194576,
          5.9764833038627,
          6.58754717693599,
          7.600970684319786
         ],
         "yaxis": "y"
        },
        {
         "hovertemplate": "creation_year=2008<br>year=%{x}<br>cultural_score=%{y}<extra></extra>",
         "legendgroup": "2008",
         "line": {
          "color": "#B6E880",
          "dash": "solid"
         },
         "marker": {
          "symbol": "circle"
         },
         "mode": "lines",
         "name": "2008",
         "orientation": "v",
         "showlegend": true,
         "type": "scatter",
         "x": [
          1400,
          1410,
          1420,
          1430,
          1440,
          1450,
          1460,
          1470,
          1480,
          1490,
          1500,
          1510,
          1520,
          1530,
          1540,
          1550,
          1560,
          1570,
          1580,
          1590,
          1600,
          1610,
          1620,
          1630,
          1640,
          1650,
          1660,
          1670,
          1680,
          1690,
          1700,
          1710,
          1720,
          1730,
          1740,
          1750,
          1760,
          1770,
          1780,
          1790,
          1800,
          1810,
          1820,
          1830,
          1840,
          1850
         ],
         "xaxis": "x",
         "y": [
          0.2157797675363446,
          0.7216412921164567,
          0.7216412921164567,
          0.6139126165559928,
          0.505861524580112,
          0.6073602507882251,
          0.9131116588098471,
          0.5105921450264201,
          0.6125712313160727,
          1.1279835371612175,
          1.437338406985861,
          1.8421328480438088,
          2.042487162156851,
          2.1430740376459485,
          2.3459244315472314,
          2.1432703367682837,
          2.345992819512838,
          2.051083472111498,
          1.8612462612048646,
          1.9649452685929394,
          2.396353201293358,
          2.8014111231436107,
          3.1176774593070697,
          3.938900133226842,
          4.1355085009530175,
          4.133914390597508,
          4.1099270893770425,
          4.426258310111838,
          3.806765178744463,
          2.9775582808195455,
          2.6691135040262974,
          2.678107876400511,
          2.174581758560136,
          1.241610464627648,
          1.3416219696914917,
          1.4443272196683021,
          1.8488642670779658,
          1.8433978232737271,
          1.9398290066936021,
          2.0475036388680445,
          2.1596289997610483,
          2.4707917231390217,
          3.294525662516631,
          3.8095999752941143,
          4.224406917030206,
          5.245453715360481
         ],
         "yaxis": "y"
        },
        {
         "hovertemplate": "creation_year=2009<br>year=%{x}<br>cultural_score=%{y}<extra></extra>",
         "legendgroup": "2009",
         "line": {
          "color": "#FF97FF",
          "dash": "solid"
         },
         "marker": {
          "symbol": "circle"
         },
         "mode": "lines",
         "name": "2009",
         "orientation": "v",
         "showlegend": true,
         "type": "scatter",
         "x": [
          1410,
          1420,
          1430,
          1440,
          1450,
          1460,
          1480,
          1490,
          1500,
          1510,
          1520,
          1530,
          1540,
          1550,
          1560,
          1570,
          1580,
          1590,
          1600,
          1610,
          1620,
          1630,
          1640,
          1650,
          1660,
          1670,
          1680,
          1690,
          1700,
          1710,
          1720,
          1730,
          1740,
          1750,
          1760,
          1770,
          1780,
          1790,
          1800,
          1810,
          1820,
          1830,
          1840,
          1850
         ],
         "xaxis": "x",
         "y": [
          0.1008816475395018,
          0.1008816475395018,
          0.1008816475395018,
          0.1008816475395018,
          0.1008816475395018,
          0.1008816475395018,
          0.20728528296167031,
          0.31024649116326086,
          0.4108965016128523,
          0.7197322643597992,
          1.2386905048220986,
          1.3395418569945594,
          1.6461251376216677,
          2.2615446600437537,
          2.6751837077462945,
          2.675416992610679,
          3.189226415117926,
          4.324091214423619,
          4.9493683019258095,
          6.076958122356254,
          6.797785823574854,
          8.431843685997512,
          9.554636246801012,
          9.538070248961922,
          9.930124475290746,
          8.488940196379348,
          7.663645211438094,
          6.128887305275813,
          3.9733270815027653,
          3.060029125928208,
          1.6310531911397856,
          1.4297673135496705,
          1.1220156320711845,
          0.7136466281994768,
          1.328173993740013,
          1.3296399091604358,
          1.7391067034965697,
          1.9397536597290614,
          2.54948342422536,
          3.1839859082650417,
          3.599351762638512,
          4.110243009663896,
          4.617925677895908,
          4.933182414816222
         ],
         "yaxis": "y"
        },
        {
         "hovertemplate": "creation_year=2010<br>year=%{x}<br>cultural_score=%{y}<extra></extra>",
         "legendgroup": "2010",
         "line": {
          "color": "#FECB52",
          "dash": "solid"
         },
         "marker": {
          "symbol": "circle"
         },
         "mode": "lines",
         "name": "2010",
         "orientation": "v",
         "showlegend": true,
         "type": "scatter",
         "x": [
          1400,
          1410,
          1420,
          1430,
          1440,
          1450,
          1460,
          1470,
          1480,
          1490,
          1500,
          1510,
          1520,
          1530,
          1540,
          1550,
          1560,
          1570,
          1580,
          1590,
          1600,
          1610,
          1620,
          1630,
          1640,
          1650,
          1660,
          1670,
          1680,
          1690,
          1700,
          1710,
          1720,
          1730,
          1740,
          1750,
          1760,
          1770,
          1780,
          1790,
          1800,
          1810,
          1820,
          1830,
          1840,
          1850
         ],
         "xaxis": "x",
         "y": [
          0.10234310250622664,
          0.10030131231641087,
          0.10030131231641087,
          0.10030131231641087,
          0.10030131231641087,
          0.10030131231641087,
          0.20592695479308515,
          0.2059106134889555,
          0.2059106134889555,
          0.2059106134889555,
          0.3073040997110673,
          0.511713489965697,
          0.8166336296541234,
          1.0202597658589763,
          1.529236077556631,
          1.7339669566572815,
          2.245890690646969,
          2.65739696869435,
          3.2706355391642288,
          4.481516063458758,
          6.024136513293778,
          7.554655756094223,
          9.080131843599798,
          12.12451177434737,
          15.364446270284711,
          15.982136937283363,
          16.47104627073046,
          16.461363877277982,
          15.037756735010957,
          12.183595101100975,
          8.12953896770563,
          7.012553894699715,
          4.877464294039304,
          3.556190369965322,
          3.046037220319123,
          2.9514797466066147,
          3.3486184636377714,
          3.145126918301128,
          3.247440556006106,
          3.454405540692785,
          3.9602840262529444,
          4.067707009231887,
          4.381086948654802,
          4.282788427484786,
          4.999301171281048,
          5.405298409699295
         ],
         "yaxis": "y"
        },
        {
         "hovertemplate": "creation_year=2011<br>year=%{x}<br>cultural_score=%{y}<extra></extra>",
         "legendgroup": "2011",
         "line": {
          "color": "#636efa",
          "dash": "solid"
         },
         "marker": {
          "symbol": "circle"
         },
         "mode": "lines",
         "name": "2011",
         "orientation": "v",
         "showlegend": true,
         "type": "scatter",
         "x": [
          1400,
          1410,
          1420,
          1430,
          1440,
          1450,
          1460,
          1470,
          1480,
          1490,
          1500,
          1510,
          1520,
          1530,
          1540,
          1550,
          1560,
          1570,
          1580,
          1590,
          1600,
          1610,
          1620,
          1630,
          1640,
          1650,
          1660,
          1670,
          1680,
          1690,
          1700,
          1710,
          1720,
          1730,
          1740,
          1750,
          1760,
          1770,
          1780,
          1790,
          1800,
          1810,
          1820,
          1830,
          1840,
          1850
         ],
         "xaxis": "x",
         "y": [
          0.10305746041681849,
          0.30550891146179965,
          0.30550891146179965,
          0.41039047369165793,
          0.41039047369165793,
          0.3073330132748394,
          0.40941201725210574,
          0.20696056620712455,
          0.20696056620712455,
          0.2025945494922078,
          0.6066352720194641,
          1.2176777789909672,
          1.629215280568761,
          2.038183752163656,
          2.445494663580466,
          3.7792022660995164,
          3.88405456931076,
          4.285019543385328,
          5.598523181095509,
          7.00900229871866,
          7.7154939878093245,
          9.114044807157034,
          11.642094440221356,
          14.464076052225069,
          17.07731626281276,
          18.795684200663494,
          19.708706881242865,
          18.89589864230826,
          16.873592683645278,
          14.258646592307212,
          10.833631136362756,
          7.599488019974323,
          5.981121530721843,
          4.3657964954874675,
          3.5539724778701203,
          3.050333932684332,
          2.545398533182423,
          3.2553000504991436,
          3.2549543907931464,
          3.3553248159667435,
          3.9684029918439636,
          3.9707681478134256,
          4.071847398266036,
          3.667346003024127,
          4.790919904823861,
          5.414052550015545
         ],
         "yaxis": "y"
        },
        {
         "hovertemplate": "creation_year=2012<br>year=%{x}<br>cultural_score=%{y}<extra></extra>",
         "legendgroup": "2012",
         "line": {
          "color": "#EF553B",
          "dash": "solid"
         },
         "marker": {
          "symbol": "circle"
         },
         "mode": "lines",
         "name": "2012",
         "orientation": "v",
         "showlegend": true,
         "type": "scatter",
         "x": [
          1400,
          1410,
          1420,
          1430,
          1440,
          1450,
          1460,
          1470,
          1480,
          1490,
          1500,
          1510,
          1520,
          1530,
          1540,
          1550,
          1560,
          1570,
          1580,
          1590,
          1600,
          1610,
          1620,
          1630,
          1640,
          1650,
          1660,
          1670,
          1680,
          1690,
          1700,
          1710,
          1720,
          1730,
          1740,
          1750,
          1760,
          1770,
          1780,
          1790,
          1800,
          1810,
          1820,
          1830,
          1840,
          1850
         ],
         "xaxis": "x",
         "y": [
          0.20336118119685628,
          0.20336118119685628,
          0.20336118119685628,
          0.20336118119685628,
          0.20336118119685628,
          0.10353389746260246,
          0.30505643234359064,
          0.40670362973750834,
          0.40670362973750834,
          0.5078698335507184,
          0.5078698335507184,
          0.6085940199458952,
          0.7088306092512744,
          0.9110206412843485,
          1.4239880317159515,
          1.6280569437481796,
          1.6280569437481796,
          2.1280048436631547,
          2.8424434288114004,
          3.6610976746621433,
          4.562856343348137,
          6.577166961581376,
          7.888507975797507,
          9.099150644681124,
          9.993602618024289,
          11.19244471709343,
          10.687186125635185,
          9.883598965351299,
          9.379739310185833,
          8.071856015319389,
          7.07404179681878,
          4.954483685673472,
          4.860008196236106,
          3.74949728495164,
          4.059922065339418,
          3.8625005442759037,
          3.563538200022625,
          4.578288614692454,
          4.4790410340959115,
          4.6853450209465555,
          4.282449468537946,
          4.696523099343136,
          5.408140190999843,
          5.521830301626991,
          6.335113567353144,
          6.947274927755859
         ],
         "yaxis": "y"
        },
        {
         "hovertemplate": "creation_year=2013<br>year=%{x}<br>cultural_score=%{y}<extra></extra>",
         "legendgroup": "2013",
         "line": {
          "color": "#00cc96",
          "dash": "solid"
         },
         "marker": {
          "symbol": "circle"
         },
         "mode": "lines",
         "name": "2013",
         "orientation": "v",
         "showlegend": true,
         "type": "scatter",
         "x": [
          1420,
          1430,
          1440,
          1450,
          1460,
          1470,
          1480,
          1490,
          1500,
          1510,
          1520,
          1530,
          1540,
          1550,
          1560,
          1570,
          1580,
          1590,
          1600,
          1610,
          1620,
          1630,
          1640,
          1650,
          1660,
          1670,
          1680,
          1690,
          1700,
          1710,
          1720,
          1730,
          1740,
          1750,
          1760,
          1770,
          1780,
          1790,
          1800,
          1810,
          1820,
          1830,
          1840,
          1850
         ],
         "xaxis": "x",
         "y": [
          0.2023790796771383,
          0.2023790796771383,
          0.2023790796771383,
          0.30540089014977806,
          0.30540089014977806,
          0.30540089014977806,
          0.2043094877625573,
          0.3050724996168046,
          0.6074490073908732,
          0.8074722074166727,
          1.0114827953924264,
          1.0114827953924264,
          1.1146538420238408,
          1.2191855898147843,
          1.2200415357116254,
          1.223677284770167,
          1.424815944134219,
          1.7311854414122207,
          2.3357698988443003,
          3.4404441556714547,
          4.045482365842822,
          4.950226180881739,
          5.251047740200587,
          5.247074398471842,
          5.149726850024052,
          4.551405460380651,
          4.454987038140146,
          3.446165468759794,
          3.0448389970414764,
          3.1465398294838,
          3.0432959838784197,
          2.433033425646187,
          2.0281788895806905,
          2.6399731079367332,
          2.841438409715609,
          3.0424953754596116,
          2.838911663102919,
          3.7616105252247274,
          3.760375652538522,
          3.958741477244736,
          3.9606871635321323,
          3.9636503414217734,
          4.165734968807001,
          3.8574235563864394
         ],
         "yaxis": "y"
        },
        {
         "hovertemplate": "creation_year=2014<br>year=%{x}<br>cultural_score=%{y}<extra></extra>",
         "legendgroup": "2014",
         "line": {
          "color": "#ab63fa",
          "dash": "solid"
         },
         "marker": {
          "symbol": "circle"
         },
         "mode": "lines",
         "name": "2014",
         "orientation": "v",
         "showlegend": true,
         "type": "scatter",
         "x": [
          1450,
          1460,
          1470,
          1480,
          1490,
          1500,
          1510,
          1520,
          1530,
          1540,
          1550,
          1560,
          1570,
          1580,
          1590,
          1600,
          1610,
          1620,
          1630,
          1640,
          1650,
          1660,
          1670,
          1680,
          1690,
          1700,
          1710,
          1720,
          1730,
          1740,
          1750,
          1760,
          1770,
          1780,
          1790,
          1800,
          1810,
          1820,
          1830,
          1840,
          1850
         ],
         "xaxis": "x",
         "y": [
          0.10147111976133696,
          0.20265736189888944,
          0.3040263594883924,
          0.405428937540752,
          0.6068498812876514,
          0.9086419602782374,
          1.2097873246276825,
          1.3120638520516095,
          1.3111261632130768,
          1.3103901743000321,
          1.413035899437122,
          1.520524995971389,
          1.3190208763530606,
          1.5189930045094355,
          1.8208213848148185,
          2.0223700895703223,
          2.9362263203887533,
          4.037715384228571,
          5.351437382921806,
          6.362192184793696,
          7.173300472980183,
          7.9814408531030345,
          8.074161397326082,
          6.764788533858252,
          5.755949062183918,
          5.0519207862957165,
          4.543255117931043,
          3.938285639722872,
          2.728900805154929,
          2.8295397062126173,
          2.8284278862415433,
          2.7279816815342177,
          2.425252714811957,
          2.2226434588564383,
          2.528718165969362,
          2.427313831493542,
          2.3280437364396107,
          3.254341878463031,
          4.278822104906308,
          5.1971269614396585,
          6.427785157118764
         ],
         "yaxis": "y"
        },
        {
         "hovertemplate": "creation_year=2015<br>year=%{x}<br>cultural_score=%{y}<extra></extra>",
         "legendgroup": "2015",
         "line": {
          "color": "#FFA15A",
          "dash": "solid"
         },
         "marker": {
          "symbol": "circle"
         },
         "mode": "lines",
         "name": "2015",
         "orientation": "v",
         "showlegend": true,
         "type": "scatter",
         "x": [
          1510,
          1520,
          1530,
          1540,
          1550,
          1560,
          1570,
          1580,
          1590,
          1600,
          1610,
          1620,
          1630,
          1640,
          1650,
          1660,
          1670,
          1680,
          1690,
          1700,
          1710,
          1720,
          1730,
          1740,
          1750,
          1760,
          1770,
          1780,
          1790,
          1800,
          1810,
          1820,
          1830,
          1840,
          1850
         ],
         "xaxis": "x",
         "y": [
          0.10032965377592164,
          0.6038656825910604,
          0.6038656825910604,
          0.704058976997921,
          1.2127041400856564,
          1.718399697253401,
          1.81870414246634,
          1.720047379870779,
          1.8219211095783998,
          2.5265843320825625,
          2.7268707860047403,
          2.7255495139753148,
          3.5374374954862366,
          3.5374197449617206,
          3.7386250772966,
          3.5460196844860308,
          3.1395111353004013,
          3.137901785929632,
          2.225461716303199,
          1.922312391498085,
          1.7224411386629215,
          1.414032098549687,
          1.3152697678154446,
          1.1176281611746282,
          1.0175461503012784,
          1.1192027309092036,
          1.015994921701867,
          0.916526134169154,
          0.9166254653009154,
          1.2235400166926793,
          1.7291509951384139,
          2.3432370473048745,
          3.5642450247794395,
          4.686474270093797,
          5.399189763608841
         ],
         "yaxis": "y"
        },
        {
         "hovertemplate": "creation_year=2016<br>year=%{x}<br>cultural_score=%{y}<extra></extra>",
         "legendgroup": "2016",
         "line": {
          "color": "#19d3f3",
          "dash": "solid"
         },
         "marker": {
          "symbol": "circle"
         },
         "mode": "lines",
         "name": "2016",
         "orientation": "v",
         "showlegend": true,
         "type": "scatter",
         "x": [
          1460,
          1470,
          1480,
          1490,
          1500,
          1510,
          1520,
          1530,
          1540,
          1550,
          1560,
          1570,
          1580,
          1590,
          1600,
          1610,
          1620,
          1630,
          1640,
          1650,
          1660,
          1670,
          1680,
          1690,
          1700,
          1710,
          1720,
          1730,
          1740,
          1750,
          1760,
          1770,
          1780,
          1790,
          1800,
          1810,
          1820,
          1830,
          1840,
          1850
         ],
         "xaxis": "x",
         "y": [
          0.10122810017811468,
          0.10122810017811468,
          0.10122810017811468,
          0.10122810017811468,
          0.20239193192142801,
          0.5068635046571446,
          0.506743120479802,
          0.9111911856591356,
          1.216139907474411,
          1.4190527121342202,
          1.3178888803909068,
          1.424414239942144,
          1.6338676678819366,
          1.6320464580719627,
          1.6287399853730005,
          1.6270958154260993,
          2.434739762382677,
          2.829596420476715,
          3.0221332396130327,
          3.2246062602597965,
          3.4261622530146676,
          3.4313838844077122,
          3.030672860273922,
          2.425558212576434,
          2.2274631977635977,
          1.8238302623530032,
          1.4213788707534702,
          1.5180298586691565,
          1.2120175652208987,
          1.3155399103960743,
          1.3150523683922368,
          1.415621816914334,
          1.4150205750779723,
          1.5185611405992245,
          1.8239807805360742,
          2.0238254947323915,
          2.2208566507849015,
          2.3250771502320795,
          3.040784448895653,
          3.345930913047847
         ],
         "yaxis": "y"
        },
        {
         "hovertemplate": "creation_year=2017<br>year=%{x}<br>cultural_score=%{y}<extra></extra>",
         "legendgroup": "2017",
         "line": {
          "color": "#FF6692",
          "dash": "solid"
         },
         "marker": {
          "symbol": "circle"
         },
         "mode": "lines",
         "name": "2017",
         "orientation": "v",
         "showlegend": true,
         "type": "scatter",
         "x": [
          1400,
          1410,
          1440,
          1450,
          1460,
          1470,
          1480,
          1490,
          1500,
          1510,
          1520,
          1530,
          1540,
          1550,
          1560,
          1570,
          1580,
          1590,
          1600,
          1610,
          1620,
          1630,
          1640,
          1650,
          1660,
          1670,
          1680,
          1690,
          1700,
          1710,
          1720,
          1730,
          1740,
          1750,
          1760,
          1770,
          1780,
          1790,
          1800,
          1810,
          1820,
          1830,
          1840,
          1850
         ],
         "xaxis": "x",
         "y": [
          0.10008076249568555,
          0.10008076249568555,
          0.10218481429106781,
          0.10218481429106781,
          0.10218481429106781,
          0.20526705172562537,
          0.20526705172562537,
          0.3067160268456173,
          0.3071134959535172,
          0.40784914417569895,
          0.5089815721224664,
          0.6091036260859897,
          0.9124803733507172,
          1.0135066926726073,
          1.616614637296788,
          1.9211610618236763,
          1.920194951380087,
          2.0198373552058206,
          2.0208525575617973,
          2.2213906435782005,
          1.918175780622081,
          1.9157080217998392,
          2.119017859598685,
          2.1181410951296065,
          2.115029896550998,
          2.012291567599846,
          1.7101770104652463,
          1.5120560318037526,
          1.2085798765017288,
          1.0068071395668576,
          0.8062038639217414,
          0.5059288124146083,
          0.4055680044821792,
          0.20087466921684455,
          0.5040941082186392,
          0.5051563304963338,
          0.7082389920764073,
          1.0107254905559304,
          1.4265773473907963,
          1.5278960776039487,
          1.6304787998773091,
          2.0347262144572356,
          2.646886232513346,
          3.0522020691255847
         ],
         "yaxis": "y"
        },
        {
         "hovertemplate": "creation_year=2018<br>year=%{x}<br>cultural_score=%{y}<extra></extra>",
         "legendgroup": "2018",
         "line": {
          "color": "#B6E880",
          "dash": "solid"
         },
         "marker": {
          "symbol": "circle"
         },
         "mode": "lines",
         "name": "2018",
         "orientation": "v",
         "showlegend": true,
         "type": "scatter",
         "x": [
          1560,
          1570,
          1580,
          1590,
          1600,
          1610,
          1620,
          1630,
          1640,
          1650,
          1660,
          1670,
          1680,
          1690,
          1700,
          1710,
          1720,
          1730,
          1740,
          1750,
          1760,
          1770,
          1780,
          1790,
          1800,
          1810,
          1820,
          1830,
          1840,
          1850
         ],
         "xaxis": "x",
         "y": [
          0.20206526505689615,
          0.20206526505689615,
          0.3036877621237386,
          0.4040172555642504,
          0.7050155645793509,
          0.9064715472690061,
          1.1078930783213665,
          1.608790459894475,
          1.911459196441732,
          1.9123414910876715,
          1.8117416045388026,
          1.9135215371554883,
          1.610154567977233,
          1.1092571864041247,
          0.8064669845635554,
          1.0073586016751654,
          0.90751375892751,
          0.9074411616711825,
          0.9084086284380621,
          1.311554913268115,
          1.5122651889313092,
          1.6142870094594919,
          1.6143762956268009,
          1.6129991441023166,
          1.8160084793393287,
          1.6177882824190322,
          1.5173093516614204,
          1.4161985530229115,
          1.8230976509537753,
          1.930889065224421
         ],
         "yaxis": "y"
        },
        {
         "hovertemplate": "creation_year=2019<br>year=%{x}<br>cultural_score=%{y}<extra></extra>",
         "legendgroup": "2019",
         "line": {
          "color": "#FF97FF",
          "dash": "solid"
         },
         "marker": {
          "symbol": "circle"
         },
         "mode": "lines",
         "name": "2019",
         "orientation": "v",
         "showlegend": true,
         "type": "scatter",
         "x": [
          1500,
          1510,
          1520,
          1530,
          1540,
          1550,
          1560,
          1570,
          1580,
          1590,
          1600,
          1610,
          1620,
          1630,
          1640,
          1650,
          1660,
          1670,
          1680,
          1690,
          1700,
          1710,
          1720,
          1730,
          1740,
          1750,
          1760,
          1770,
          1780,
          1790,
          1800,
          1810,
          1820,
          1830,
          1840,
          1850
         ],
         "xaxis": "x",
         "y": [
          0.10302390381169056,
          0.10302390381169056,
          0.10302390381169056,
          0.20449370181030518,
          0.507763271917354,
          0.507763271917354,
          0.7092678097477755,
          0.8094030266566746,
          0.9106980654394373,
          0.8092282674408227,
          0.808056500028915,
          1.0095704971898039,
          0.8065115876044735,
          1.0088047957686215,
          1.1124672113373053,
          1.2128397484111761,
          1.1125319537483676,
          1.111855154017509,
          1.0103856219607275,
          0.8082055390810886,
          0.8059534572210599,
          0.8065689778603335,
          0.6047789698280008,
          0.604771213368327,
          0.7069908794420353,
          0.9098180643206337,
          0.8085737518701092,
          0.9092938966089397,
          1.0104156230551111,
          1.0127506327336908,
          1.2123805073796063,
          1.5179462107494317,
          1.7217014500051737,
          2.3336945451482127,
          2.5355099190960804,
          2.842151440984284
         ],
         "yaxis": "y"
        },
        {
         "hovertemplate": "creation_year=2020<br>year=%{x}<br>cultural_score=%{y}<extra></extra>",
         "legendgroup": "2020",
         "line": {
          "color": "#FECB52",
          "dash": "solid"
         },
         "marker": {
          "symbol": "circle"
         },
         "mode": "lines",
         "name": "2020",
         "orientation": "v",
         "showlegend": true,
         "type": "scatter",
         "x": [
          1550,
          1560,
          1570,
          1580,
          1590,
          1600,
          1610,
          1620,
          1630,
          1640,
          1650,
          1660,
          1670,
          1680,
          1690,
          1700,
          1710,
          1720,
          1730,
          1740,
          1750,
          1760,
          1770,
          1780,
          1790,
          1800,
          1810,
          1820,
          1830,
          1840,
          1850
         ],
         "xaxis": "x",
         "y": [
          0.30103475609920166,
          0.7080570176706845,
          0.9104527778804652,
          1.2133519012692369,
          1.6161423077116521,
          1.8181598716042524,
          2.0192044494412684,
          1.6121821878697857,
          1.7139643348871874,
          1.9140022806200836,
          2.0134975112403635,
          2.5142759229084697,
          2.0121965889722517,
          2.113873539334006,
          2.211237418435919,
          1.8094719764454998,
          1.4080278703894566,
          0.7052318948287501,
          0.8055984871390796,
          0.7039215367773255,
          0.30237975044823007,
          0.201208123316981,
          0.10036659231032936,
          0.40286856682277383,
          0.5039655885996885,
          0.807544709528499,
          1.820585730934694,
          2.228756695071454,
          3.2387083254874836,
          3.44358858560888,
          3.7521851359130056
         ],
         "yaxis": "y"
        },
        {
         "hovertemplate": "creation_year=2021<br>year=%{x}<br>cultural_score=%{y}<extra></extra>",
         "legendgroup": "2021",
         "line": {
          "color": "#636efa",
          "dash": "solid"
         },
         "marker": {
          "symbol": "circle"
         },
         "mode": "lines",
         "name": "2021",
         "orientation": "v",
         "showlegend": true,
         "type": "scatter",
         "x": [
          1400,
          1410,
          1420,
          1430,
          1480,
          1490,
          1500,
          1510,
          1520,
          1530,
          1540,
          1550,
          1560,
          1570,
          1580,
          1590,
          1600,
          1610,
          1620,
          1630,
          1640,
          1650,
          1660,
          1670,
          1680,
          1690,
          1700,
          1710,
          1720,
          1730,
          1740,
          1750,
          1760,
          1770,
          1780,
          1790,
          1800,
          1810,
          1820,
          1830,
          1840,
          1850
         ],
         "xaxis": "x",
         "y": [
          0.10121347513433324,
          0.10121347513433324,
          0.10121347513433324,
          0.10121347513433324,
          0.10039846297061766,
          0.10039846297061766,
          0.2008720922790992,
          0.2008720922790992,
          0.2008720922790992,
          0.2008720922790992,
          0.20095848987246404,
          0.3018558615207079,
          0.6057270467307418,
          0.7068034726065455,
          0.7068034726065455,
          0.7068034726065455,
          0.8090556161907346,
          1.012421199412308,
          0.6080763848937926,
          0.6073290072675996,
          0.6073290072675996,
          0.9108210602769615,
          0.90984774842075,
          0.8062913380686922,
          1.0069780765217633,
          1.0081185032969227,
          1.2094921402080936,
          1.3099467231488682,
          1.210132443669232,
          1.109700722521904,
          1.1109142782239056,
          1.110060721044616,
          1.0089252007278893,
          0.8060558849363411,
          0.8063064754582367,
          1.0098180057547461,
          0.9085401768522676,
          0.9083097202531918,
          1.9146558364558113,
          2.927827434965573,
          3.534870873013044,
          3.9394007689603474
         ],
         "yaxis": "y"
        },
        {
         "hovertemplate": "creation_year=2022<br>year=%{x}<br>cultural_score=%{y}<extra></extra>",
         "legendgroup": "2022",
         "line": {
          "color": "#EF553B",
          "dash": "solid"
         },
         "marker": {
          "symbol": "circle"
         },
         "mode": "lines",
         "name": "2022",
         "orientation": "v",
         "showlegend": true,
         "type": "scatter",
         "x": [
          1560,
          1570,
          1580,
          1590,
          1600,
          1610,
          1620,
          1630,
          1640,
          1650,
          1660,
          1670,
          1680,
          1690,
          1700,
          1710,
          1720,
          1730,
          1740,
          1750,
          1760,
          1770,
          1780,
          1790,
          1800,
          1810,
          1820,
          1830,
          1840,
          1850
         ],
         "xaxis": "x",
         "y": [
          0.20084533306527796,
          0.20084533306527796,
          0.30202287134949907,
          0.30202287134949907,
          0.30202287134949907,
          0.30202287134949907,
          0.30278171152374633,
          0.30278171152374633,
          0.20160417323952523,
          0.20160417323952523,
          0.20160417323952523,
          0.20160417323952523,
          0.30360389124440446,
          0.404245391076319,
          0.6062813215741378,
          0.6062813215741378,
          0.7067104494073406,
          0.7067104494073406,
          0.40310655816293617,
          0.40385042903410784,
          0.20181449853628897,
          0.3044451601707989,
          0.3046214629879609,
          0.40479965335117424,
          0.40479965335117424,
          0.5051065851877354,
          0.5051065851877354,
          0.7063068085226898,
          0.809085826760723,
          0.7089076363975098
         ],
         "yaxis": "y"
        }
       ],
       "layout": {
        "height": 600,
        "legend": {
         "title": {
          "text": "creation_year"
         },
         "tracegroupgap": 0
        },
        "template": {
         "data": {
          "bar": [
           {
            "error_x": {
             "color": "#2a3f5f"
            },
            "error_y": {
             "color": "#2a3f5f"
            },
            "marker": {
             "line": {
              "color": "white",
              "width": 0.5
             },
             "pattern": {
              "fillmode": "overlay",
              "size": 10,
              "solidity": 0.2
             }
            },
            "type": "bar"
           }
          ],
          "barpolar": [
           {
            "marker": {
             "line": {
              "color": "white",
              "width": 0.5
             },
             "pattern": {
              "fillmode": "overlay",
              "size": 10,
              "solidity": 0.2
             }
            },
            "type": "barpolar"
           }
          ],
          "carpet": [
           {
            "aaxis": {
             "endlinecolor": "#2a3f5f",
             "gridcolor": "#C8D4E3",
             "linecolor": "#C8D4E3",
             "minorgridcolor": "#C8D4E3",
             "startlinecolor": "#2a3f5f"
            },
            "baxis": {
             "endlinecolor": "#2a3f5f",
             "gridcolor": "#C8D4E3",
             "linecolor": "#C8D4E3",
             "minorgridcolor": "#C8D4E3",
             "startlinecolor": "#2a3f5f"
            },
            "type": "carpet"
           }
          ],
          "choropleth": [
           {
            "colorbar": {
             "outlinewidth": 0,
             "ticks": ""
            },
            "type": "choropleth"
           }
          ],
          "contour": [
           {
            "colorbar": {
             "outlinewidth": 0,
             "ticks": ""
            },
            "colorscale": [
             [
              0,
              "#0d0887"
             ],
             [
              0.1111111111111111,
              "#46039f"
             ],
             [
              0.2222222222222222,
              "#7201a8"
             ],
             [
              0.3333333333333333,
              "#9c179e"
             ],
             [
              0.4444444444444444,
              "#bd3786"
             ],
             [
              0.5555555555555556,
              "#d8576b"
             ],
             [
              0.6666666666666666,
              "#ed7953"
             ],
             [
              0.7777777777777778,
              "#fb9f3a"
             ],
             [
              0.8888888888888888,
              "#fdca26"
             ],
             [
              1,
              "#f0f921"
             ]
            ],
            "type": "contour"
           }
          ],
          "contourcarpet": [
           {
            "colorbar": {
             "outlinewidth": 0,
             "ticks": ""
            },
            "type": "contourcarpet"
           }
          ],
          "heatmap": [
           {
            "colorbar": {
             "outlinewidth": 0,
             "ticks": ""
            },
            "colorscale": [
             [
              0,
              "#0d0887"
             ],
             [
              0.1111111111111111,
              "#46039f"
             ],
             [
              0.2222222222222222,
              "#7201a8"
             ],
             [
              0.3333333333333333,
              "#9c179e"
             ],
             [
              0.4444444444444444,
              "#bd3786"
             ],
             [
              0.5555555555555556,
              "#d8576b"
             ],
             [
              0.6666666666666666,
              "#ed7953"
             ],
             [
              0.7777777777777778,
              "#fb9f3a"
             ],
             [
              0.8888888888888888,
              "#fdca26"
             ],
             [
              1,
              "#f0f921"
             ]
            ],
            "type": "heatmap"
           }
          ],
          "heatmapgl": [
           {
            "colorbar": {
             "outlinewidth": 0,
             "ticks": ""
            },
            "colorscale": [
             [
              0,
              "#0d0887"
             ],
             [
              0.1111111111111111,
              "#46039f"
             ],
             [
              0.2222222222222222,
              "#7201a8"
             ],
             [
              0.3333333333333333,
              "#9c179e"
             ],
             [
              0.4444444444444444,
              "#bd3786"
             ],
             [
              0.5555555555555556,
              "#d8576b"
             ],
             [
              0.6666666666666666,
              "#ed7953"
             ],
             [
              0.7777777777777778,
              "#fb9f3a"
             ],
             [
              0.8888888888888888,
              "#fdca26"
             ],
             [
              1,
              "#f0f921"
             ]
            ],
            "type": "heatmapgl"
           }
          ],
          "histogram": [
           {
            "marker": {
             "pattern": {
              "fillmode": "overlay",
              "size": 10,
              "solidity": 0.2
             }
            },
            "type": "histogram"
           }
          ],
          "histogram2d": [
           {
            "colorbar": {
             "outlinewidth": 0,
             "ticks": ""
            },
            "colorscale": [
             [
              0,
              "#0d0887"
             ],
             [
              0.1111111111111111,
              "#46039f"
             ],
             [
              0.2222222222222222,
              "#7201a8"
             ],
             [
              0.3333333333333333,
              "#9c179e"
             ],
             [
              0.4444444444444444,
              "#bd3786"
             ],
             [
              0.5555555555555556,
              "#d8576b"
             ],
             [
              0.6666666666666666,
              "#ed7953"
             ],
             [
              0.7777777777777778,
              "#fb9f3a"
             ],
             [
              0.8888888888888888,
              "#fdca26"
             ],
             [
              1,
              "#f0f921"
             ]
            ],
            "type": "histogram2d"
           }
          ],
          "histogram2dcontour": [
           {
            "colorbar": {
             "outlinewidth": 0,
             "ticks": ""
            },
            "colorscale": [
             [
              0,
              "#0d0887"
             ],
             [
              0.1111111111111111,
              "#46039f"
             ],
             [
              0.2222222222222222,
              "#7201a8"
             ],
             [
              0.3333333333333333,
              "#9c179e"
             ],
             [
              0.4444444444444444,
              "#bd3786"
             ],
             [
              0.5555555555555556,
              "#d8576b"
             ],
             [
              0.6666666666666666,
              "#ed7953"
             ],
             [
              0.7777777777777778,
              "#fb9f3a"
             ],
             [
              0.8888888888888888,
              "#fdca26"
             ],
             [
              1,
              "#f0f921"
             ]
            ],
            "type": "histogram2dcontour"
           }
          ],
          "mesh3d": [
           {
            "colorbar": {
             "outlinewidth": 0,
             "ticks": ""
            },
            "type": "mesh3d"
           }
          ],
          "parcoords": [
           {
            "line": {
             "colorbar": {
              "outlinewidth": 0,
              "ticks": ""
             }
            },
            "type": "parcoords"
           }
          ],
          "pie": [
           {
            "automargin": true,
            "type": "pie"
           }
          ],
          "scatter": [
           {
            "marker": {
             "colorbar": {
              "outlinewidth": 0,
              "ticks": ""
             }
            },
            "type": "scatter"
           }
          ],
          "scatter3d": [
           {
            "line": {
             "colorbar": {
              "outlinewidth": 0,
              "ticks": ""
             }
            },
            "marker": {
             "colorbar": {
              "outlinewidth": 0,
              "ticks": ""
             }
            },
            "type": "scatter3d"
           }
          ],
          "scattercarpet": [
           {
            "marker": {
             "colorbar": {
              "outlinewidth": 0,
              "ticks": ""
             }
            },
            "type": "scattercarpet"
           }
          ],
          "scattergeo": [
           {
            "marker": {
             "colorbar": {
              "outlinewidth": 0,
              "ticks": ""
             }
            },
            "type": "scattergeo"
           }
          ],
          "scattergl": [
           {
            "marker": {
             "colorbar": {
              "outlinewidth": 0,
              "ticks": ""
             }
            },
            "type": "scattergl"
           }
          ],
          "scattermapbox": [
           {
            "marker": {
             "colorbar": {
              "outlinewidth": 0,
              "ticks": ""
             }
            },
            "type": "scattermapbox"
           }
          ],
          "scatterpolar": [
           {
            "marker": {
             "colorbar": {
              "outlinewidth": 0,
              "ticks": ""
             }
            },
            "type": "scatterpolar"
           }
          ],
          "scatterpolargl": [
           {
            "marker": {
             "colorbar": {
              "outlinewidth": 0,
              "ticks": ""
             }
            },
            "type": "scatterpolargl"
           }
          ],
          "scatterternary": [
           {
            "marker": {
             "colorbar": {
              "outlinewidth": 0,
              "ticks": ""
             }
            },
            "type": "scatterternary"
           }
          ],
          "surface": [
           {
            "colorbar": {
             "outlinewidth": 0,
             "ticks": ""
            },
            "colorscale": [
             [
              0,
              "#0d0887"
             ],
             [
              0.1111111111111111,
              "#46039f"
             ],
             [
              0.2222222222222222,
              "#7201a8"
             ],
             [
              0.3333333333333333,
              "#9c179e"
             ],
             [
              0.4444444444444444,
              "#bd3786"
             ],
             [
              0.5555555555555556,
              "#d8576b"
             ],
             [
              0.6666666666666666,
              "#ed7953"
             ],
             [
              0.7777777777777778,
              "#fb9f3a"
             ],
             [
              0.8888888888888888,
              "#fdca26"
             ],
             [
              1,
              "#f0f921"
             ]
            ],
            "type": "surface"
           }
          ],
          "table": [
           {
            "cells": {
             "fill": {
              "color": "#EBF0F8"
             },
             "line": {
              "color": "white"
             }
            },
            "header": {
             "fill": {
              "color": "#C8D4E3"
             },
             "line": {
              "color": "white"
             }
            },
            "type": "table"
           }
          ]
         },
         "layout": {
          "annotationdefaults": {
           "arrowcolor": "#2a3f5f",
           "arrowhead": 0,
           "arrowwidth": 1
          },
          "autotypenumbers": "strict",
          "coloraxis": {
           "colorbar": {
            "outlinewidth": 0,
            "ticks": ""
           }
          },
          "colorscale": {
           "diverging": [
            [
             0,
             "#8e0152"
            ],
            [
             0.1,
             "#c51b7d"
            ],
            [
             0.2,
             "#de77ae"
            ],
            [
             0.3,
             "#f1b6da"
            ],
            [
             0.4,
             "#fde0ef"
            ],
            [
             0.5,
             "#f7f7f7"
            ],
            [
             0.6,
             "#e6f5d0"
            ],
            [
             0.7,
             "#b8e186"
            ],
            [
             0.8,
             "#7fbc41"
            ],
            [
             0.9,
             "#4d9221"
            ],
            [
             1,
             "#276419"
            ]
           ],
           "sequential": [
            [
             0,
             "#0d0887"
            ],
            [
             0.1111111111111111,
             "#46039f"
            ],
            [
             0.2222222222222222,
             "#7201a8"
            ],
            [
             0.3333333333333333,
             "#9c179e"
            ],
            [
             0.4444444444444444,
             "#bd3786"
            ],
            [
             0.5555555555555556,
             "#d8576b"
            ],
            [
             0.6666666666666666,
             "#ed7953"
            ],
            [
             0.7777777777777778,
             "#fb9f3a"
            ],
            [
             0.8888888888888888,
             "#fdca26"
            ],
            [
             1,
             "#f0f921"
            ]
           ],
           "sequentialminus": [
            [
             0,
             "#0d0887"
            ],
            [
             0.1111111111111111,
             "#46039f"
            ],
            [
             0.2222222222222222,
             "#7201a8"
            ],
            [
             0.3333333333333333,
             "#9c179e"
            ],
            [
             0.4444444444444444,
             "#bd3786"
            ],
            [
             0.5555555555555556,
             "#d8576b"
            ],
            [
             0.6666666666666666,
             "#ed7953"
            ],
            [
             0.7777777777777778,
             "#fb9f3a"
            ],
            [
             0.8888888888888888,
             "#fdca26"
            ],
            [
             1,
             "#f0f921"
            ]
           ]
          },
          "colorway": [
           "#636efa",
           "#EF553B",
           "#00cc96",
           "#ab63fa",
           "#FFA15A",
           "#19d3f3",
           "#FF6692",
           "#B6E880",
           "#FF97FF",
           "#FECB52"
          ],
          "font": {
           "color": "#2a3f5f"
          },
          "geo": {
           "bgcolor": "white",
           "lakecolor": "white",
           "landcolor": "white",
           "showlakes": true,
           "showland": true,
           "subunitcolor": "#C8D4E3"
          },
          "hoverlabel": {
           "align": "left"
          },
          "hovermode": "closest",
          "mapbox": {
           "style": "light"
          },
          "paper_bgcolor": "white",
          "plot_bgcolor": "white",
          "polar": {
           "angularaxis": {
            "gridcolor": "#EBF0F8",
            "linecolor": "#EBF0F8",
            "ticks": ""
           },
           "bgcolor": "white",
           "radialaxis": {
            "gridcolor": "#EBF0F8",
            "linecolor": "#EBF0F8",
            "ticks": ""
           }
          },
          "scene": {
           "xaxis": {
            "backgroundcolor": "white",
            "gridcolor": "#DFE8F3",
            "gridwidth": 2,
            "linecolor": "#EBF0F8",
            "showbackground": true,
            "ticks": "",
            "zerolinecolor": "#EBF0F8"
           },
           "yaxis": {
            "backgroundcolor": "white",
            "gridcolor": "#DFE8F3",
            "gridwidth": 2,
            "linecolor": "#EBF0F8",
            "showbackground": true,
            "ticks": "",
            "zerolinecolor": "#EBF0F8"
           },
           "zaxis": {
            "backgroundcolor": "white",
            "gridcolor": "#DFE8F3",
            "gridwidth": 2,
            "linecolor": "#EBF0F8",
            "showbackground": true,
            "ticks": "",
            "zerolinecolor": "#EBF0F8"
           }
          },
          "shapedefaults": {
           "line": {
            "color": "#2a3f5f"
           }
          },
          "ternary": {
           "aaxis": {
            "gridcolor": "#DFE8F3",
            "linecolor": "#A2B1C6",
            "ticks": ""
           },
           "baxis": {
            "gridcolor": "#DFE8F3",
            "linecolor": "#A2B1C6",
            "ticks": ""
           },
           "bgcolor": "white",
           "caxis": {
            "gridcolor": "#DFE8F3",
            "linecolor": "#A2B1C6",
            "ticks": ""
           }
          },
          "title": {
           "x": 0.05
          },
          "xaxis": {
           "automargin": true,
           "gridcolor": "#EBF0F8",
           "linecolor": "#EBF0F8",
           "ticks": "",
           "title": {
            "standoff": 15
           },
           "zerolinecolor": "#EBF0F8",
           "zerolinewidth": 2
          },
          "yaxis": {
           "automargin": true,
           "gridcolor": "#EBF0F8",
           "linecolor": "#EBF0F8",
           "ticks": "",
           "title": {
            "standoff": 15
           },
           "zerolinecolor": "#EBF0F8",
           "zerolinewidth": 2
          }
         }
        },
        "title": {
         "font": {
          "size": 25
         },
         "text": "Low countries - English Wikipedia"
        },
        "width": 1000,
        "xaxis": {
         "anchor": "y",
         "autorange": true,
         "domain": [
          0,
          1
         ],
         "range": [
          1400,
          1850
         ],
         "showgrid": false,
         "showticklabels": true,
         "title": {
          "text": ""
         },
         "type": "linear",
         "zeroline": false
        },
        "yaxis": {
         "anchor": "x",
         "autorange": true,
         "domain": [
          0,
          1
         ],
         "range": [
          -0.9892873552124911,
          20.79807499895104
         ],
         "showgrid": false,
         "showticklabels": true,
         "title": {
          "text": "Number of Individuals added"
         },
         "type": "linear",
         "zeroline": false
        }
       }
      },
      "image/png": "[encoded data removed]",
      "text/html": [
       "<div>                            <div id=\"fb90a0df-66fe-4023-8267-9c607c52c14b\" class=\"plotly-graph-div\" style=\"height:600px; width:1000px;\"></div>            <script type=\"text/javascript\">                require([\"plotly\"], function(Plotly) {                    window.PLOTLYENV=window.PLOTLYENV || {};                                    if (document.getElementById(\"fb90a0df-66fe-4023-8267-9c607c52c14b\")) {                    Plotly.newPlot(                        \"fb90a0df-66fe-4023-8267-9c607c52c14b\",                        [{\"hovertemplate\":\"creation_year=2001<br>year=%{x}<br>cultural_score=%{y}<extra></extra>\",\"legendgroup\":\"2001\",\"line\":{\"color\":\"#636efa\",\"dash\":\"solid\"},\"marker\":{\"symbol\":\"circle\"},\"mode\":\"lines\",\"name\":\"2001\",\"orientation\":\"v\",\"showlegend\":true,\"x\":[1400,1450,1460,1470,1480,1490,1500,1510,1520,1530,1540,1550,1560,1570,1580,1600,1610,1620,1630,1640,1650,1660,1670,1680,1690,1700,1710,1720,1730,1830,1840,1850],\"xaxis\":\"x\",\"y\":[0.11010312447101582,0.11643433977719254,0.11643433977719254,0.3706909398117274,0.6617074037541734,0.6617074037541734,0.6617074037541734,0.5452730639769807,0.5452730639769807,0.46829886709298135,0.17728240315053545,0.17728240315053545,0.17728240315053545,0.17728240315053545,0.17728240315053545,0.12526732805993687,0.4555634974541183,1.015315473651149,1.1371529200511235,1.7587527286892022,1.7587527286892022,1.6334854006292652,1.3031892312350837,0.8713997613310858,0.7495623149311113,0.12796250629303263,0.12796250629303263,0.12796250629303263,0.12796250629303263,0.11344966454986417,0.11344966454986417,0.11344966454986417],\"yaxis\":\"y\",\"type\":\"scatter\"},{\"hovertemplate\":\"creation_year=2002<br>year=%{x}<br>cultural_score=%{y}<extra></extra>\",\"legendgroup\":\"2002\",\"line\":{\"color\":\"#EF553B\",\"dash\":\"solid\"},\"marker\":{\"symbol\":\"circle\"},\"mode\":\"lines\",\"name\":\"2002\",\"orientation\":\"v\",\"showlegend\":true,\"x\":[1400,1410,1420,1430,1440,1450,1460,1470,1480,1490,1500,1510,1520,1530,1540,1550,1560,1570,1580,1590,1600,1610,1620,1630,1640,1650,1660,1670,1680,1690,1710,1720,1730,1740,1750,1760,1770,1780,1790,1800,1810,1820,1830,1840,1850],\"xaxis\":\"x\",\"y\":[0.42240472499282106,0.3090811383267107,0.3090811383267107,0.3090811383267107,0.19821512490223808,0.19821512490223808,0.3428027089483475,0.46569145279827706,0.591776767189208,0.591776767189208,0.591776767189208,0.591776767189208,0.4211604915120605,0.29827174766213094,0.5820712939792098,0.6846653907396332,0.9959836098036949,1.1272866690239158,1.536041585927168,1.850851210920633,1.617528648559066,1.7532243912154741,1.4419061721514121,1.4146883355366966,1.5004569634774019,1.1856473384839368,1.009085040137494,0.7707952007206627,0.7707952007206627,0.6667099781151573,0.17761313147296193,0.17761313147296193,0.17761313147296193,0.17761313147296193,0.17761313147296193,0.17761313147296193,0.1109809229655384,0.1109809229655384,0.1109809229655384,0.2117404733968553,0.2117404733968553,0.357865558784297,0.24688463581875858,0.24688463581875858,0.397820936562713],\"yaxis\":\"y\",\"type\":\"scatter\"},{\"hovertemplate\":\"creation_year=2003<br>year=%{x}<br>cultural_score=%{y}<extra></extra>\",\"legendgroup\":\"2003\",\"line\":{\"color\":\"#00cc96\",\"dash\":\"solid\"},\"marker\":{\"symbol\":\"circle\"},\"mode\":\"lines\",\"name\":\"2003\",\"orientation\":\"v\",\"showlegend\":true,\"x\":[1400,1410,1420,1430,1440,1450,1460,1470,1490,1500,1510,1520,1530,1540,1550,1560,1570,1580,1590,1600,1610,1620,1630,1640,1650,1660,1670,1680,1690,1700,1710,1720,1730,1740,1750,1760,1770,1780,1790,1800,1810,1820,1830,1840,1850],\"xaxis\":\"x\",\"y\":[0.2694003308619358,0.4344449188420865,0.5657029387667977,0.5657029387667977,0.5657029387667977,0.5657029387667977,0.4007919306295307,0.13125801992471117,0.10144565923692207,0.22432534208560884,0.35341640806084934,0.6934736752542974,0.8095138953723342,0.9676752093119998,1.080970057076955,1.0853059324695988,1.44065973859583,1.3252804747329887,1.92475540999438,2.5627762772610145,2.547670846519549,2.420455288278218,2.173070409962739,2.302152493932958,1.9319176489268446,1.4497947420261739,1.2501596657657625,1.3551000079794258,1.1180400141934335,1.178133447568774,0.9370857797016803,0.727350108973554,0.8307058138794237,0.9501652620285486,1.3029635466125558,0.8891100259363895,0.7848773834301686,0.7877954197257465,0.9274025990924365,0.7030028087296483,0.7085053825893005,1.1446827864433518,1.7421176277863226,1.8546988662726072,2.695665936818437],\"yaxis\":\"y\",\"type\":\"scatter\"},{\"hovertemplate\":\"creation_year=2004<br>year=%{x}<br>cultural_score=%{y}<extra></extra>\",\"legendgroup\":\"2004\",\"line\":{\"color\":\"#ab63fa\",\"dash\":\"solid\"},\"marker\":{\"symbol\":\"circle\"},\"mode\":\"lines\",\"name\":\"2004\",\"orientation\":\"v\",\"showlegend\":true,\"x\":[1400,1410,1420,1430,1440,1450,1460,1470,1480,1490,1500,1510,1520,1530,1540,1550,1560,1570,1580,1590,1600,1610,1620,1630,1640,1650,1660,1670,1680,1690,1700,1710,1720,1730,1740,1750,1760,1770,1780,1790,1800,1810,1820,1830,1840,1850],\"xaxis\":\"x\",\"y\":[0.11294505494614304,0.3237592182710355,0.3237592182710355,0.3237592182710355,0.21081416332489245,0.32603262343918393,0.6597762961311127,0.7971545971513172,0.7971545971513172,1.0524508489149715,1.2858560458378505,1.8212760876506584,1.936188980597868,2.1486937835700797,2.5651902452264332,2.4170977161613463,2.747186008192863,2.637808295004113,2.7600871968360385,2.830323687839122,3.091342169011592,3.6546785242478643,3.997529947183378,4.464708958556945,4.82994093302945,5.27433816470489,4.699684503959752,4.473311538483091,3.6832934999765166,2.8887526588242753,2.3754652662154885,1.6106072222341443,1.507745940150459,1.0635788276922802,1.5099376500678205,1.4075299887871238,0.9846499394523416,1.0017926505137904,1.0017926505137904,1.0017926505137904,0.763063840084174,1.3138075988269247,2.2722195370284624,2.6871456599626993,3.566845927883684,4.094716916620312],\"yaxis\":\"y\",\"type\":\"scatter\"},{\"hovertemplate\":\"creation_year=2005<br>year=%{x}<br>cultural_score=%{y}<extra></extra>\",\"legendgroup\":\"2005\",\"line\":{\"color\":\"#FFA15A\",\"dash\":\"solid\"},\"marker\":{\"symbol\":\"circle\"},\"mode\":\"lines\",\"name\":\"2005\",\"orientation\":\"v\",\"showlegend\":true,\"x\":[1400,1410,1420,1430,1440,1450,1460,1470,1480,1490,1500,1510,1520,1530,1540,1550,1560,1570,1580,1590,1600,1610,1620,1630,1640,1650,1660,1670,1680,1690,1700,1710,1720,1730,1740,1750,1760,1770,1780,1790,1800,1810,1820,1830,1840,1850],\"xaxis\":\"x\",\"y\":[0.10401544489557826,0.20769224814167142,0.4345041423465492,0.766624519116418,0.9824925513443986,1.111271564082633,1.428514307055709,1.3227975534107672,1.3021071231270136,1.4035792672672598,1.4057184762822759,2.3270033601279305,2.4334019135653344,3.3220329794136076,3.644656350853981,3.532619490591164,3.6305144905511804,3.1157643584433994,3.432354621967568,3.730872495409352,4.0555620504441965,5.8526473619314165,6.936483582976632,7.790550145383403,8.125796515576875,7.704434624176573,7.786415532221494,6.406592742895959,5.110231069234882,4.138398866866047,3.471350693230257,2.8186451418157477,1.9896093101796797,1.8858573271015524,1.8853267442852313,2.137758492864973,1.9474230683601361,2.0458268611406436,2.0427265846078697,1.8213343945756328,2.2449733799622806,3.1462363928380292,4.099694046298401,5.469778385818208,6.652740177782766,8.12246155927671],\"yaxis\":\"y\",\"type\":\"scatter\"},{\"hovertemplate\":\"creation_year=2006<br>year=%{x}<br>cultural_score=%{y}<extra></extra>\",\"legendgroup\":\"2006\",\"line\":{\"color\":\"#19d3f3\",\"dash\":\"solid\"},\"marker\":{\"symbol\":\"circle\"},\"mode\":\"lines\",\"name\":\"2006\",\"orientation\":\"v\",\"showlegend\":true,\"x\":[1400,1410,1420,1430,1440,1450,1460,1470,1480,1490,1500,1510,1520,1530,1540,1550,1560,1570,1580,1590,1600,1610,1620,1630,1640,1650,1660,1670,1680,1690,1700,1710,1720,1730,1740,1750,1760,1770,1780,1790,1800,1810,1820,1830,1840,1850],\"xaxis\":\"x\",\"y\":[0.20293295983974713,0.20293295983974713,0.1009096859278897,0.3111212498681668,0.4153455555103913,0.31443586958250164,0.7267618992895167,1.1470105511199091,1.2474444217419576,1.1406161111757678,1.4578325178437133,2.279845918300233,2.388484558960062,2.3929339982706144,3.45521435419517,3.766492789067778,4.394364280338041,3.987360236424846,4.311091294847665,4.828860744413188,4.7359530872086735,6.107453611203117,6.000962181256921,6.644909630876882,7.25267522264825,7.231818629106758,7.302735758711994,5.922995781099083,5.080838400511361,4.021881594348076,2.891565365966855,2.2868936082160034,1.5575117041327364,1.462107805205179,1.361444412158664,1.6670292114141494,1.549353281320488,1.3341846976929577,1.1258537568855107,1.3308146241003227,1.6450181322838562,1.9623319687175431,2.6911845638906673,4.058826563482916,4.586629399747208,4.787914899041233],\"yaxis\":\"y\",\"type\":\"scatter\"},{\"hovertemplate\":\"creation_year=2007<br>year=%{x}<br>cultural_score=%{y}<extra></extra>\",\"legendgroup\":\"2007\",\"line\":{\"color\":\"#FF6692\",\"dash\":\"solid\"},\"marker\":{\"symbol\":\"circle\"},\"mode\":\"lines\",\"name\":\"2007\",\"orientation\":\"v\",\"showlegend\":true,\"x\":[1400,1410,1420,1430,1440,1450,1460,1470,1480,1490,1500,1510,1520,1530,1540,1550,1560,1570,1580,1590,1600,1610,1620,1630,1640,1650,1660,1670,1680,1690,1700,1710,1720,1730,1740,1750,1760,1770,1780,1790,1800,1810,1820,1830,1840,1850],\"xaxis\":\"x\",\"y\":[0.20541163835443185,0.3083691414442903,0.3083691414442903,0.4244922687301848,0.4256970712465335,0.32207228505741187,0.634049875310169,0.9412661993422745,1.254793110280483,1.449444765052454,1.652595226943467,2.4781625824958198,3.2023398363461606,3.1054803688276635,3.522561206812057,3.6302309524873273,4.3504674641254,4.676859683740355,4.778288444363537,6.230545131886458,8.293619132764086,10.166862782082271,12.443377768592788,14.37375802234673,15.30021822602751,14.688539109059331,12.20280299110264,10.942332705227358,7.843676389439248,5.071193024990906,3.3190424717901634,2.472316953955723,2.4682869200471007,1.4370690288710595,1.7500450737459547,1.7492474725880653,2.172311415955074,2.174964033818678,2.0788366512853456,2.4939233690251,2.6007102139203933,3.3137609597873574,4.53070044194576,5.9764833038627,6.58754717693599,7.600970684319786],\"yaxis\":\"y\",\"type\":\"scatter\"},{\"hovertemplate\":\"creation_year=2008<br>year=%{x}<br>cultural_score=%{y}<extra></extra>\",\"legendgroup\":\"2008\",\"line\":{\"color\":\"#B6E880\",\"dash\":\"solid\"},\"marker\":{\"symbol\":\"circle\"},\"mode\":\"lines\",\"name\":\"2008\",\"orientation\":\"v\",\"showlegend\":true,\"x\":[1400,1410,1420,1430,1440,1450,1460,1470,1480,1490,1500,1510,1520,1530,1540,1550,1560,1570,1580,1590,1600,1610,1620,1630,1640,1650,1660,1670,1680,1690,1700,1710,1720,1730,1740,1750,1760,1770,1780,1790,1800,1810,1820,1830,1840,1850],\"xaxis\":\"x\",\"y\":[0.2157797675363446,0.7216412921164567,0.7216412921164567,0.6139126165559928,0.505861524580112,0.6073602507882251,0.9131116588098471,0.5105921450264201,0.6125712313160727,1.1279835371612175,1.437338406985861,1.8421328480438088,2.042487162156851,2.1430740376459485,2.3459244315472314,2.1432703367682837,2.345992819512838,2.051083472111498,1.8612462612048646,1.9649452685929394,2.396353201293358,2.8014111231436107,3.1176774593070697,3.938900133226842,4.1355085009530175,4.133914390597508,4.1099270893770425,4.426258310111838,3.806765178744463,2.9775582808195455,2.6691135040262974,2.678107876400511,2.174581758560136,1.241610464627648,1.3416219696914917,1.4443272196683021,1.8488642670779658,1.8433978232737271,1.9398290066936021,2.0475036388680445,2.1596289997610483,2.4707917231390217,3.294525662516631,3.8095999752941143,4.224406917030206,5.245453715360481],\"yaxis\":\"y\",\"type\":\"scatter\"},{\"hovertemplate\":\"creation_year=2009<br>year=%{x}<br>cultural_score=%{y}<extra></extra>\",\"legendgroup\":\"2009\",\"line\":{\"color\":\"#FF97FF\",\"dash\":\"solid\"},\"marker\":{\"symbol\":\"circle\"},\"mode\":\"lines\",\"name\":\"2009\",\"orientation\":\"v\",\"showlegend\":true,\"x\":[1410,1420,1430,1440,1450,1460,1480,1490,1500,1510,1520,1530,1540,1550,1560,1570,1580,1590,1600,1610,1620,1630,1640,1650,1660,1670,1680,1690,1700,1710,1720,1730,1740,1750,1760,1770,1780,1790,1800,1810,1820,1830,1840,1850],\"xaxis\":\"x\",\"y\":[0.1008816475395018,0.1008816475395018,0.1008816475395018,0.1008816475395018,0.1008816475395018,0.1008816475395018,0.20728528296167031,0.31024649116326086,0.4108965016128523,0.7197322643597992,1.2386905048220986,1.3395418569945594,1.6461251376216677,2.2615446600437537,2.6751837077462945,2.675416992610679,3.189226415117926,4.324091214423619,4.9493683019258095,6.076958122356254,6.797785823574854,8.431843685997512,9.554636246801012,9.538070248961922,9.930124475290746,8.488940196379348,7.663645211438094,6.128887305275813,3.9733270815027653,3.060029125928208,1.6310531911397856,1.4297673135496705,1.1220156320711845,0.7136466281994768,1.328173993740013,1.3296399091604358,1.7391067034965697,1.9397536597290614,2.54948342422536,3.1839859082650417,3.599351762638512,4.110243009663896,4.617925677895908,4.933182414816222],\"yaxis\":\"y\",\"type\":\"scatter\"},{\"hovertemplate\":\"creation_year=2010<br>year=%{x}<br>cultural_score=%{y}<extra></extra>\",\"legendgroup\":\"2010\",\"line\":{\"color\":\"#FECB52\",\"dash\":\"solid\"},\"marker\":{\"symbol\":\"circle\"},\"mode\":\"lines\",\"name\":\"2010\",\"orientation\":\"v\",\"showlegend\":true,\"x\":[1400,1410,1420,1430,1440,1450,1460,1470,1480,1490,1500,1510,1520,1530,1540,1550,1560,1570,1580,1590,1600,1610,1620,1630,1640,1650,1660,1670,1680,1690,1700,1710,1720,1730,1740,1750,1760,1770,1780,1790,1800,1810,1820,1830,1840,1850],\"xaxis\":\"x\",\"y\":[0.10234310250622664,0.10030131231641087,0.10030131231641087,0.10030131231641087,0.10030131231641087,0.10030131231641087,0.20592695479308515,0.2059106134889555,0.2059106134889555,0.2059106134889555,0.3073040997110673,0.511713489965697,0.8166336296541234,1.0202597658589763,1.529236077556631,1.7339669566572815,2.245890690646969,2.65739696869435,3.2706355391642288,4.481516063458758,6.024136513293778,7.554655756094223,9.080131843599798,12.12451177434737,15.364446270284711,15.982136937283363,16.47104627073046,16.461363877277982,15.037756735010957,12.183595101100975,8.12953896770563,7.012553894699715,4.877464294039304,3.556190369965322,3.046037220319123,2.9514797466066147,3.3486184636377714,3.145126918301128,3.247440556006106,3.454405540692785,3.9602840262529444,4.067707009231887,4.381086948654802,4.282788427484786,4.999301171281048,5.405298409699295],\"yaxis\":\"y\",\"type\":\"scatter\"},{\"hovertemplate\":\"creation_year=2011<br>year=%{x}<br>cultural_score=%{y}<extra></extra>\",\"legendgroup\":\"2011\",\"line\":{\"color\":\"#636efa\",\"dash\":\"solid\"},\"marker\":{\"symbol\":\"circle\"},\"mode\":\"lines\",\"name\":\"2011\",\"orientation\":\"v\",\"showlegend\":true,\"x\":[1400,1410,1420,1430,1440,1450,1460,1470,1480,1490,1500,1510,1520,1530,1540,1550,1560,1570,1580,1590,1600,1610,1620,1630,1640,1650,1660,1670,1680,1690,1700,1710,1720,1730,1740,1750,1760,1770,1780,1790,1800,1810,1820,1830,1840,1850],\"xaxis\":\"x\",\"y\":[0.10305746041681849,0.30550891146179965,0.30550891146179965,0.41039047369165793,0.41039047369165793,0.3073330132748394,0.40941201725210574,0.20696056620712455,0.20696056620712455,0.2025945494922078,0.6066352720194641,1.2176777789909672,1.629215280568761,2.038183752163656,2.445494663580466,3.7792022660995164,3.88405456931076,4.285019543385328,5.598523181095509,7.00900229871866,7.7154939878093245,9.114044807157034,11.642094440221356,14.464076052225069,17.07731626281276,18.795684200663494,19.708706881242865,18.89589864230826,16.873592683645278,14.258646592307212,10.833631136362756,7.599488019974323,5.981121530721843,4.3657964954874675,3.5539724778701203,3.050333932684332,2.545398533182423,3.2553000504991436,3.2549543907931464,3.3553248159667435,3.9684029918439636,3.9707681478134256,4.071847398266036,3.667346003024127,4.790919904823861,5.414052550015545],\"yaxis\":\"y\",\"type\":\"scatter\"},{\"hovertemplate\":\"creation_year=2012<br>year=%{x}<br>cultural_score=%{y}<extra></extra>\",\"legendgroup\":\"2012\",\"line\":{\"color\":\"#EF553B\",\"dash\":\"solid\"},\"marker\":{\"symbol\":\"circle\"},\"mode\":\"lines\",\"name\":\"2012\",\"orientation\":\"v\",\"showlegend\":true,\"x\":[1400,1410,1420,1430,1440,1450,1460,1470,1480,1490,1500,1510,1520,1530,1540,1550,1560,1570,1580,1590,1600,1610,1620,1630,1640,1650,1660,1670,1680,1690,1700,1710,1720,1730,1740,1750,1760,1770,1780,1790,1800,1810,1820,1830,1840,1850],\"xaxis\":\"x\",\"y\":[0.20336118119685628,0.20336118119685628,0.20336118119685628,0.20336118119685628,0.20336118119685628,0.10353389746260246,0.30505643234359064,0.40670362973750834,0.40670362973750834,0.5078698335507184,0.5078698335507184,0.6085940199458952,0.7088306092512744,0.9110206412843485,1.4239880317159515,1.6280569437481796,1.6280569437481796,2.1280048436631547,2.8424434288114004,3.6610976746621433,4.562856343348137,6.577166961581376,7.888507975797507,9.099150644681124,9.993602618024289,11.19244471709343,10.687186125635185,9.883598965351299,9.379739310185833,8.071856015319389,7.07404179681878,4.954483685673472,4.860008196236106,3.74949728495164,4.059922065339418,3.8625005442759037,3.563538200022625,4.578288614692454,4.4790410340959115,4.6853450209465555,4.282449468537946,4.696523099343136,5.408140190999843,5.521830301626991,6.335113567353144,6.947274927755859],\"yaxis\":\"y\",\"type\":\"scatter\"},{\"hovertemplate\":\"creation_year=2013<br>year=%{x}<br>cultural_score=%{y}<extra></extra>\",\"legendgroup\":\"2013\",\"line\":{\"color\":\"#00cc96\",\"dash\":\"solid\"},\"marker\":{\"symbol\":\"circle\"},\"mode\":\"lines\",\"name\":\"2013\",\"orientation\":\"v\",\"showlegend\":true,\"x\":[1420,1430,1440,1450,1460,1470,1480,1490,1500,1510,1520,1530,1540,1550,1560,1570,1580,1590,1600,1610,1620,1630,1640,1650,1660,1670,1680,1690,1700,1710,1720,1730,1740,1750,1760,1770,1780,1790,1800,1810,1820,1830,1840,1850],\"xaxis\":\"x\",\"y\":[0.2023790796771383,0.2023790796771383,0.2023790796771383,0.30540089014977806,0.30540089014977806,0.30540089014977806,0.2043094877625573,0.3050724996168046,0.6074490073908732,0.8074722074166727,1.0114827953924264,1.0114827953924264,1.1146538420238408,1.2191855898147843,1.2200415357116254,1.223677284770167,1.424815944134219,1.7311854414122207,2.3357698988443003,3.4404441556714547,4.045482365842822,4.950226180881739,5.251047740200587,5.247074398471842,5.149726850024052,4.551405460380651,4.454987038140146,3.446165468759794,3.0448389970414764,3.1465398294838,3.0432959838784197,2.433033425646187,2.0281788895806905,2.6399731079367332,2.841438409715609,3.0424953754596116,2.838911663102919,3.7616105252247274,3.760375652538522,3.958741477244736,3.9606871635321323,3.9636503414217734,4.165734968807001,3.8574235563864394],\"yaxis\":\"y\",\"type\":\"scatter\"},{\"hovertemplate\":\"creation_year=2014<br>year=%{x}<br>cultural_score=%{y}<extra></extra>\",\"legendgroup\":\"2014\",\"line\":{\"color\":\"#ab63fa\",\"dash\":\"solid\"},\"marker\":{\"symbol\":\"circle\"},\"mode\":\"lines\",\"name\":\"2014\",\"orientation\":\"v\",\"showlegend\":true,\"x\":[1450,1460,1470,1480,1490,1500,1510,1520,1530,1540,1550,1560,1570,1580,1590,1600,1610,1620,1630,1640,1650,1660,1670,1680,1690,1700,1710,1720,1730,1740,1750,1760,1770,1780,1790,1800,1810,1820,1830,1840,1850],\"xaxis\":\"x\",\"y\":[0.10147111976133696,0.20265736189888944,0.3040263594883924,0.405428937540752,0.6068498812876514,0.9086419602782374,1.2097873246276825,1.3120638520516095,1.3111261632130768,1.3103901743000321,1.413035899437122,1.520524995971389,1.3190208763530606,1.5189930045094355,1.8208213848148185,2.0223700895703223,2.9362263203887533,4.037715384228571,5.351437382921806,6.362192184793696,7.173300472980183,7.9814408531030345,8.074161397326082,6.764788533858252,5.755949062183918,5.0519207862957165,4.543255117931043,3.938285639722872,2.728900805154929,2.8295397062126173,2.8284278862415433,2.7279816815342177,2.425252714811957,2.2226434588564383,2.528718165969362,2.427313831493542,2.3280437364396107,3.254341878463031,4.278822104906308,5.1971269614396585,6.427785157118764],\"yaxis\":\"y\",\"type\":\"scatter\"},{\"hovertemplate\":\"creation_year=2015<br>year=%{x}<br>cultural_score=%{y}<extra></extra>\",\"legendgroup\":\"2015\",\"line\":{\"color\":\"#FFA15A\",\"dash\":\"solid\"},\"marker\":{\"symbol\":\"circle\"},\"mode\":\"lines\",\"name\":\"2015\",\"orientation\":\"v\",\"showlegend\":true,\"x\":[1510,1520,1530,1540,1550,1560,1570,1580,1590,1600,1610,1620,1630,1640,1650,1660,1670,1680,1690,1700,1710,1720,1730,1740,1750,1760,1770,1780,1790,1800,1810,1820,1830,1840,1850],\"xaxis\":\"x\",\"y\":[0.10032965377592164,0.6038656825910604,0.6038656825910604,0.704058976997921,1.2127041400856564,1.718399697253401,1.81870414246634,1.720047379870779,1.8219211095783998,2.5265843320825625,2.7268707860047403,2.7255495139753148,3.5374374954862366,3.5374197449617206,3.7386250772966,3.5460196844860308,3.1395111353004013,3.137901785929632,2.225461716303199,1.922312391498085,1.7224411386629215,1.414032098549687,1.3152697678154446,1.1176281611746282,1.0175461503012784,1.1192027309092036,1.015994921701867,0.916526134169154,0.9166254653009154,1.2235400166926793,1.7291509951384139,2.3432370473048745,3.5642450247794395,4.686474270093797,5.399189763608841],\"yaxis\":\"y\",\"type\":\"scatter\"},{\"hovertemplate\":\"creation_year=2016<br>year=%{x}<br>cultural_score=%{y}<extra></extra>\",\"legendgroup\":\"2016\",\"line\":{\"color\":\"#19d3f3\",\"dash\":\"solid\"},\"marker\":{\"symbol\":\"circle\"},\"mode\":\"lines\",\"name\":\"2016\",\"orientation\":\"v\",\"showlegend\":true,\"x\":[1460,1470,1480,1490,1500,1510,1520,1530,1540,1550,1560,1570,1580,1590,1600,1610,1620,1630,1640,1650,1660,1670,1680,1690,1700,1710,1720,1730,1740,1750,1760,1770,1780,1790,1800,1810,1820,1830,1840,1850],\"xaxis\":\"x\",\"y\":[0.10122810017811468,0.10122810017811468,0.10122810017811468,0.10122810017811468,0.20239193192142801,0.5068635046571446,0.506743120479802,0.9111911856591356,1.216139907474411,1.4190527121342202,1.3178888803909068,1.424414239942144,1.6338676678819366,1.6320464580719627,1.6287399853730005,1.6270958154260993,2.434739762382677,2.829596420476715,3.0221332396130327,3.2246062602597965,3.4261622530146676,3.4313838844077122,3.030672860273922,2.425558212576434,2.2274631977635977,1.8238302623530032,1.4213788707534702,1.5180298586691565,1.2120175652208987,1.3155399103960743,1.3150523683922368,1.415621816914334,1.4150205750779723,1.5185611405992245,1.8239807805360742,2.0238254947323915,2.2208566507849015,2.3250771502320795,3.040784448895653,3.345930913047847],\"yaxis\":\"y\",\"type\":\"scatter\"},{\"hovertemplate\":\"creation_year=2017<br>year=%{x}<br>cultural_score=%{y}<extra></extra>\",\"legendgroup\":\"2017\",\"line\":{\"color\":\"#FF6692\",\"dash\":\"solid\"},\"marker\":{\"symbol\":\"circle\"},\"mode\":\"lines\",\"name\":\"2017\",\"orientation\":\"v\",\"showlegend\":true,\"x\":[1400,1410,1440,1450,1460,1470,1480,1490,1500,1510,1520,1530,1540,1550,1560,1570,1580,1590,1600,1610,1620,1630,1640,1650,1660,1670,1680,1690,1700,1710,1720,1730,1740,1750,1760,1770,1780,1790,1800,1810,1820,1830,1840,1850],\"xaxis\":\"x\",\"y\":[0.10008076249568555,0.10008076249568555,0.10218481429106781,0.10218481429106781,0.10218481429106781,0.20526705172562537,0.20526705172562537,0.3067160268456173,0.3071134959535172,0.40784914417569895,0.5089815721224664,0.6091036260859897,0.9124803733507172,1.0135066926726073,1.616614637296788,1.9211610618236763,1.920194951380087,2.0198373552058206,2.0208525575617973,2.2213906435782005,1.918175780622081,1.9157080217998392,2.119017859598685,2.1181410951296065,2.115029896550998,2.012291567599846,1.7101770104652463,1.5120560318037526,1.2085798765017288,1.0068071395668576,0.8062038639217414,0.5059288124146083,0.4055680044821792,0.20087466921684455,0.5040941082186392,0.5051563304963338,0.7082389920764073,1.0107254905559304,1.4265773473907963,1.5278960776039487,1.6304787998773091,2.0347262144572356,2.646886232513346,3.0522020691255847],\"yaxis\":\"y\",\"type\":\"scatter\"},{\"hovertemplate\":\"creation_year=2018<br>year=%{x}<br>cultural_score=%{y}<extra></extra>\",\"legendgroup\":\"2018\",\"line\":{\"color\":\"#B6E880\",\"dash\":\"solid\"},\"marker\":{\"symbol\":\"circle\"},\"mode\":\"lines\",\"name\":\"2018\",\"orientation\":\"v\",\"showlegend\":true,\"x\":[1560,1570,1580,1590,1600,1610,1620,1630,1640,1650,1660,1670,1680,1690,1700,1710,1720,1730,1740,1750,1760,1770,1780,1790,1800,1810,1820,1830,1840,1850],\"xaxis\":\"x\",\"y\":[0.20206526505689615,0.20206526505689615,0.3036877621237386,0.4040172555642504,0.7050155645793509,0.9064715472690061,1.1078930783213665,1.608790459894475,1.911459196441732,1.9123414910876715,1.8117416045388026,1.9135215371554883,1.610154567977233,1.1092571864041247,0.8064669845635554,1.0073586016751654,0.90751375892751,0.9074411616711825,0.9084086284380621,1.311554913268115,1.5122651889313092,1.6142870094594919,1.6143762956268009,1.6129991441023166,1.8160084793393287,1.6177882824190322,1.5173093516614204,1.4161985530229115,1.8230976509537753,1.930889065224421],\"yaxis\":\"y\",\"type\":\"scatter\"},{\"hovertemplate\":\"creation_year=2019<br>year=%{x}<br>cultural_score=%{y}<extra></extra>\",\"legendgroup\":\"2019\",\"line\":{\"color\":\"#FF97FF\",\"dash\":\"solid\"},\"marker\":{\"symbol\":\"circle\"},\"mode\":\"lines\",\"name\":\"2019\",\"orientation\":\"v\",\"showlegend\":true,\"x\":[1500,1510,1520,1530,1540,1550,1560,1570,1580,1590,1600,1610,1620,1630,1640,1650,1660,1670,1680,1690,1700,1710,1720,1730,1740,1750,1760,1770,1780,1790,1800,1810,1820,1830,1840,1850],\"xaxis\":\"x\",\"y\":[0.10302390381169056,0.10302390381169056,0.10302390381169056,0.20449370181030518,0.507763271917354,0.507763271917354,0.7092678097477755,0.8094030266566746,0.9106980654394373,0.8092282674408227,0.808056500028915,1.0095704971898039,0.8065115876044735,1.0088047957686215,1.1124672113373053,1.2128397484111761,1.1125319537483676,1.111855154017509,1.0103856219607275,0.8082055390810886,0.8059534572210599,0.8065689778603335,0.6047789698280008,0.604771213368327,0.7069908794420353,0.9098180643206337,0.8085737518701092,0.9092938966089397,1.0104156230551111,1.0127506327336908,1.2123805073796063,1.5179462107494317,1.7217014500051737,2.3336945451482127,2.5355099190960804,2.842151440984284],\"yaxis\":\"y\",\"type\":\"scatter\"},{\"hovertemplate\":\"creation_year=2020<br>year=%{x}<br>cultural_score=%{y}<extra></extra>\",\"legendgroup\":\"2020\",\"line\":{\"color\":\"#FECB52\",\"dash\":\"solid\"},\"marker\":{\"symbol\":\"circle\"},\"mode\":\"lines\",\"name\":\"2020\",\"orientation\":\"v\",\"showlegend\":true,\"x\":[1550,1560,1570,1580,1590,1600,1610,1620,1630,1640,1650,1660,1670,1680,1690,1700,1710,1720,1730,1740,1750,1760,1770,1780,1790,1800,1810,1820,1830,1840,1850],\"xaxis\":\"x\",\"y\":[0.30103475609920166,0.7080570176706845,0.9104527778804652,1.2133519012692369,1.6161423077116521,1.8181598716042524,2.0192044494412684,1.6121821878697857,1.7139643348871874,1.9140022806200836,2.0134975112403635,2.5142759229084697,2.0121965889722517,2.113873539334006,2.211237418435919,1.8094719764454998,1.4080278703894566,0.7052318948287501,0.8055984871390796,0.7039215367773255,0.30237975044823007,0.201208123316981,0.10036659231032936,0.40286856682277383,0.5039655885996885,0.807544709528499,1.820585730934694,2.228756695071454,3.2387083254874836,3.44358858560888,3.7521851359130056],\"yaxis\":\"y\",\"type\":\"scatter\"},{\"hovertemplate\":\"creation_year=2021<br>year=%{x}<br>cultural_score=%{y}<extra></extra>\",\"legendgroup\":\"2021\",\"line\":{\"color\":\"#636efa\",\"dash\":\"solid\"},\"marker\":{\"symbol\":\"circle\"},\"mode\":\"lines\",\"name\":\"2021\",\"orientation\":\"v\",\"showlegend\":true,\"x\":[1400,1410,1420,1430,1480,1490,1500,1510,1520,1530,1540,1550,1560,1570,1580,1590,1600,1610,1620,1630,1640,1650,1660,1670,1680,1690,1700,1710,1720,1730,1740,1750,1760,1770,1780,1790,1800,1810,1820,1830,1840,1850],\"xaxis\":\"x\",\"y\":[0.10121347513433324,0.10121347513433324,0.10121347513433324,0.10121347513433324,0.10039846297061766,0.10039846297061766,0.2008720922790992,0.2008720922790992,0.2008720922790992,0.2008720922790992,0.20095848987246404,0.3018558615207079,0.6057270467307418,0.7068034726065455,0.7068034726065455,0.7068034726065455,0.8090556161907346,1.012421199412308,0.6080763848937926,0.6073290072675996,0.6073290072675996,0.9108210602769615,0.90984774842075,0.8062913380686922,1.0069780765217633,1.0081185032969227,1.2094921402080936,1.3099467231488682,1.210132443669232,1.109700722521904,1.1109142782239056,1.110060721044616,1.0089252007278893,0.8060558849363411,0.8063064754582367,1.0098180057547461,0.9085401768522676,0.9083097202531918,1.9146558364558113,2.927827434965573,3.534870873013044,3.9394007689603474],\"yaxis\":\"y\",\"type\":\"scatter\"},{\"hovertemplate\":\"creation_year=2022<br>year=%{x}<br>cultural_score=%{y}<extra></extra>\",\"legendgroup\":\"2022\",\"line\":{\"color\":\"#EF553B\",\"dash\":\"solid\"},\"marker\":{\"symbol\":\"circle\"},\"mode\":\"lines\",\"name\":\"2022\",\"orientation\":\"v\",\"showlegend\":true,\"x\":[1560,1570,1580,1590,1600,1610,1620,1630,1640,1650,1660,1670,1680,1690,1700,1710,1720,1730,1740,1750,1760,1770,1780,1790,1800,1810,1820,1830,1840,1850],\"xaxis\":\"x\",\"y\":[0.20084533306527796,0.20084533306527796,0.30202287134949907,0.30202287134949907,0.30202287134949907,0.30202287134949907,0.30278171152374633,0.30278171152374633,0.20160417323952523,0.20160417323952523,0.20160417323952523,0.20160417323952523,0.30360389124440446,0.404245391076319,0.6062813215741378,0.6062813215741378,0.7067104494073406,0.7067104494073406,0.40310655816293617,0.40385042903410784,0.20181449853628897,0.3044451601707989,0.3046214629879609,0.40479965335117424,0.40479965335117424,0.5051065851877354,0.5051065851877354,0.7063068085226898,0.809085826760723,0.7089076363975098],\"yaxis\":\"y\",\"type\":\"scatter\"}],                        {\"template\":{\"data\":{\"barpolar\":[{\"marker\":{\"line\":{\"color\":\"white\",\"width\":0.5},\"pattern\":{\"fillmode\":\"overlay\",\"size\":10,\"solidity\":0.2}},\"type\":\"barpolar\"}],\"bar\":[{\"error_x\":{\"color\":\"#2a3f5f\"},\"error_y\":{\"color\":\"#2a3f5f\"},\"marker\":{\"line\":{\"color\":\"white\",\"width\":0.5},\"pattern\":{\"fillmode\":\"overlay\",\"size\":10,\"solidity\":0.2}},\"type\":\"bar\"}],\"carpet\":[{\"aaxis\":{\"endlinecolor\":\"#2a3f5f\",\"gridcolor\":\"#C8D4E3\",\"linecolor\":\"#C8D4E3\",\"minorgridcolor\":\"#C8D4E3\",\"startlinecolor\":\"#2a3f5f\"},\"baxis\":{\"endlinecolor\":\"#2a3f5f\",\"gridcolor\":\"#C8D4E3\",\"linecolor\":\"#C8D4E3\",\"minorgridcolor\":\"#C8D4E3\",\"startlinecolor\":\"#2a3f5f\"},\"type\":\"carpet\"}],\"choropleth\":[{\"colorbar\":{\"outlinewidth\":0,\"ticks\":\"\"},\"type\":\"choropleth\"}],\"contourcarpet\":[{\"colorbar\":{\"outlinewidth\":0,\"ticks\":\"\"},\"type\":\"contourcarpet\"}],\"contour\":[{\"colorbar\":{\"outlinewidth\":0,\"ticks\":\"\"},\"colorscale\":[[0.0,\"#0d0887\"],[0.1111111111111111,\"#46039f\"],[0.2222222222222222,\"#7201a8\"],[0.3333333333333333,\"#9c179e\"],[0.4444444444444444,\"#bd3786\"],[0.5555555555555556,\"#d8576b\"],[0.6666666666666666,\"#ed7953\"],[0.7777777777777778,\"#fb9f3a\"],[0.8888888888888888,\"#fdca26\"],[1.0,\"#f0f921\"]],\"type\":\"contour\"}],\"heatmapgl\":[{\"colorbar\":{\"outlinewidth\":0,\"ticks\":\"\"},\"colorscale\":[[0.0,\"#0d0887\"],[0.1111111111111111,\"#46039f\"],[0.2222222222222222,\"#7201a8\"],[0.3333333333333333,\"#9c179e\"],[0.4444444444444444,\"#bd3786\"],[0.5555555555555556,\"#d8576b\"],[0.6666666666666666,\"#ed7953\"],[0.7777777777777778,\"#fb9f3a\"],[0.8888888888888888,\"#fdca26\"],[1.0,\"#f0f921\"]],\"type\":\"heatmapgl\"}],\"heatmap\":[{\"colorbar\":{\"outlinewidth\":0,\"ticks\":\"\"},\"colorscale\":[[0.0,\"#0d0887\"],[0.1111111111111111,\"#46039f\"],[0.2222222222222222,\"#7201a8\"],[0.3333333333333333,\"#9c179e\"],[0.4444444444444444,\"#bd3786\"],[0.5555555555555556,\"#d8576b\"],[0.6666666666666666,\"#ed7953\"],[0.7777777777777778,\"#fb9f3a\"],[0.8888888888888888,\"#fdca26\"],[1.0,\"#f0f921\"]],\"type\":\"heatmap\"}],\"histogram2dcontour\":[{\"colorbar\":{\"outlinewidth\":0,\"ticks\":\"\"},\"colorscale\":[[0.0,\"#0d0887\"],[0.1111111111111111,\"#46039f\"],[0.2222222222222222,\"#7201a8\"],[0.3333333333333333,\"#9c179e\"],[0.4444444444444444,\"#bd3786\"],[0.5555555555555556,\"#d8576b\"],[0.6666666666666666,\"#ed7953\"],[0.7777777777777778,\"#fb9f3a\"],[0.8888888888888888,\"#fdca26\"],[1.0,\"#f0f921\"]],\"type\":\"histogram2dcontour\"}],\"histogram2d\":[{\"colorbar\":{\"outlinewidth\":0,\"ticks\":\"\"},\"colorscale\":[[0.0,\"#0d0887\"],[0.1111111111111111,\"#46039f\"],[0.2222222222222222,\"#7201a8\"],[0.3333333333333333,\"#9c179e\"],[0.4444444444444444,\"#bd3786\"],[0.5555555555555556,\"#d8576b\"],[0.6666666666666666,\"#ed7953\"],[0.7777777777777778,\"#fb9f3a\"],[0.8888888888888888,\"#fdca26\"],[1.0,\"#f0f921\"]],\"type\":\"histogram2d\"}],\"histogram\":[{\"marker\":{\"pattern\":{\"fillmode\":\"overlay\",\"size\":10,\"solidity\":0.2}},\"type\":\"histogram\"}],\"mesh3d\":[{\"colorbar\":{\"outlinewidth\":0,\"ticks\":\"\"},\"type\":\"mesh3d\"}],\"parcoords\":[{\"line\":{\"colorbar\":{\"outlinewidth\":0,\"ticks\":\"\"}},\"type\":\"parcoords\"}],\"pie\":[{\"automargin\":true,\"type\":\"pie\"}],\"scatter3d\":[{\"line\":{\"colorbar\":{\"outlinewidth\":0,\"ticks\":\"\"}},\"marker\":{\"colorbar\":{\"outlinewidth\":0,\"ticks\":\"\"}},\"type\":\"scatter3d\"}],\"scattercarpet\":[{\"marker\":{\"colorbar\":{\"outlinewidth\":0,\"ticks\":\"\"}},\"type\":\"scattercarpet\"}],\"scattergeo\":[{\"marker\":{\"colorbar\":{\"outlinewidth\":0,\"ticks\":\"\"}},\"type\":\"scattergeo\"}],\"scattergl\":[{\"marker\":{\"colorbar\":{\"outlinewidth\":0,\"ticks\":\"\"}},\"type\":\"scattergl\"}],\"scattermapbox\":[{\"marker\":{\"colorbar\":{\"outlinewidth\":0,\"ticks\":\"\"}},\"type\":\"scattermapbox\"}],\"scatterpolargl\":[{\"marker\":{\"colorbar\":{\"outlinewidth\":0,\"ticks\":\"\"}},\"type\":\"scatterpolargl\"}],\"scatterpolar\":[{\"marker\":{\"colorbar\":{\"outlinewidth\":0,\"ticks\":\"\"}},\"type\":\"scatterpolar\"}],\"scatter\":[{\"marker\":{\"colorbar\":{\"outlinewidth\":0,\"ticks\":\"\"}},\"type\":\"scatter\"}],\"scatterternary\":[{\"marker\":{\"colorbar\":{\"outlinewidth\":0,\"ticks\":\"\"}},\"type\":\"scatterternary\"}],\"surface\":[{\"colorbar\":{\"outlinewidth\":0,\"ticks\":\"\"},\"colorscale\":[[0.0,\"#0d0887\"],[0.1111111111111111,\"#46039f\"],[0.2222222222222222,\"#7201a8\"],[0.3333333333333333,\"#9c179e\"],[0.4444444444444444,\"#bd3786\"],[0.5555555555555556,\"#d8576b\"],[0.6666666666666666,\"#ed7953\"],[0.7777777777777778,\"#fb9f3a\"],[0.8888888888888888,\"#fdca26\"],[1.0,\"#f0f921\"]],\"type\":\"surface\"}],\"table\":[{\"cells\":{\"fill\":{\"color\":\"#EBF0F8\"},\"line\":{\"color\":\"white\"}},\"header\":{\"fill\":{\"color\":\"#C8D4E3\"},\"line\":{\"color\":\"white\"}},\"type\":\"table\"}]},\"layout\":{\"annotationdefaults\":{\"arrowcolor\":\"#2a3f5f\",\"arrowhead\":0,\"arrowwidth\":1},\"autotypenumbers\":\"strict\",\"coloraxis\":{\"colorbar\":{\"outlinewidth\":0,\"ticks\":\"\"}},\"colorscale\":{\"diverging\":[[0,\"#8e0152\"],[0.1,\"#c51b7d\"],[0.2,\"#de77ae\"],[0.3,\"#f1b6da\"],[0.4,\"#fde0ef\"],[0.5,\"#f7f7f7\"],[0.6,\"#e6f5d0\"],[0.7,\"#b8e186\"],[0.8,\"#7fbc41\"],[0.9,\"#4d9221\"],[1,\"#276419\"]],\"sequential\":[[0.0,\"#0d0887\"],[0.1111111111111111,\"#46039f\"],[0.2222222222222222,\"#7201a8\"],[0.3333333333333333,\"#9c179e\"],[0.4444444444444444,\"#bd3786\"],[0.5555555555555556,\"#d8576b\"],[0.6666666666666666,\"#ed7953\"],[0.7777777777777778,\"#fb9f3a\"],[0.8888888888888888,\"#fdca26\"],[1.0,\"#f0f921\"]],\"sequentialminus\":[[0.0,\"#0d0887\"],[0.1111111111111111,\"#46039f\"],[0.2222222222222222,\"#7201a8\"],[0.3333333333333333,\"#9c179e\"],[0.4444444444444444,\"#bd3786\"],[0.5555555555555556,\"#d8576b\"],[0.6666666666666666,\"#ed7953\"],[0.7777777777777778,\"#fb9f3a\"],[0.8888888888888888,\"#fdca26\"],[1.0,\"#f0f921\"]]},\"colorway\":[\"#636efa\",\"#EF553B\",\"#00cc96\",\"#ab63fa\",\"#FFA15A\",\"#19d3f3\",\"#FF6692\",\"#B6E880\",\"#FF97FF\",\"#FECB52\"],\"font\":{\"color\":\"#2a3f5f\"},\"geo\":{\"bgcolor\":\"white\",\"lakecolor\":\"white\",\"landcolor\":\"white\",\"showlakes\":true,\"showland\":true,\"subunitcolor\":\"#C8D4E3\"},\"hoverlabel\":{\"align\":\"left\"},\"hovermode\":\"closest\",\"mapbox\":{\"style\":\"light\"},\"paper_bgcolor\":\"white\",\"plot_bgcolor\":\"white\",\"polar\":{\"angularaxis\":{\"gridcolor\":\"#EBF0F8\",\"linecolor\":\"#EBF0F8\",\"ticks\":\"\"},\"bgcolor\":\"white\",\"radialaxis\":{\"gridcolor\":\"#EBF0F8\",\"linecolor\":\"#EBF0F8\",\"ticks\":\"\"}},\"scene\":{\"xaxis\":{\"backgroundcolor\":\"white\",\"gridcolor\":\"#DFE8F3\",\"gridwidth\":2,\"linecolor\":\"#EBF0F8\",\"showbackground\":true,\"ticks\":\"\",\"zerolinecolor\":\"#EBF0F8\"},\"yaxis\":{\"backgroundcolor\":\"white\",\"gridcolor\":\"#DFE8F3\",\"gridwidth\":2,\"linecolor\":\"#EBF0F8\",\"showbackground\":true,\"ticks\":\"\",\"zerolinecolor\":\"#EBF0F8\"},\"zaxis\":{\"backgroundcolor\":\"white\",\"gridcolor\":\"#DFE8F3\",\"gridwidth\":2,\"linecolor\":\"#EBF0F8\",\"showbackground\":true,\"ticks\":\"\",\"zerolinecolor\":\"#EBF0F8\"}},\"shapedefaults\":{\"line\":{\"color\":\"#2a3f5f\"}},\"ternary\":{\"aaxis\":{\"gridcolor\":\"#DFE8F3\",\"linecolor\":\"#A2B1C6\",\"ticks\":\"\"},\"baxis\":{\"gridcolor\":\"#DFE8F3\",\"linecolor\":\"#A2B1C6\",\"ticks\":\"\"},\"bgcolor\":\"white\",\"caxis\":{\"gridcolor\":\"#DFE8F3\",\"linecolor\":\"#A2B1C6\",\"ticks\":\"\"}},\"title\":{\"x\":0.05},\"xaxis\":{\"automargin\":true,\"gridcolor\":\"#EBF0F8\",\"linecolor\":\"#EBF0F8\",\"ticks\":\"\",\"title\":{\"standoff\":15},\"zerolinecolor\":\"#EBF0F8\",\"zerolinewidth\":2},\"yaxis\":{\"automargin\":true,\"gridcolor\":\"#EBF0F8\",\"linecolor\":\"#EBF0F8\",\"ticks\":\"\",\"title\":{\"standoff\":15},\"zerolinecolor\":\"#EBF0F8\",\"zerolinewidth\":2}}},\"xaxis\":{\"anchor\":\"y\",\"domain\":[0.0,1.0],\"title\":{\"text\":\"\"},\"showgrid\":false,\"showticklabels\":true,\"zeroline\":false},\"yaxis\":{\"anchor\":\"x\",\"domain\":[0.0,1.0],\"title\":{\"text\":\"Number of Individuals added\"},\"showgrid\":false,\"showticklabels\":true,\"zeroline\":false},\"legend\":{\"title\":{\"text\":\"creation_year\"},\"tracegroupgap\":0},\"title\":{\"text\":\"Low countries - English Wikipedia\",\"font\":{\"size\":25}},\"height\":600,\"width\":1000},                        {\"responsive\": true}                    ).then(function(){\n",
       "                            \n",
       "var gd = document.getElementById('fb90a0df-66fe-4023-8267-9c607c52c14b');\n",
       "var x = new MutationObserver(function (mutations, observer) {{\n",
       "        var display = window.getComputedStyle(gd).display;\n",
       "        if (!display || display === 'none') {{\n",
       "            console.log([gd, 'removed!']);\n",
       "            Plotly.purge(gd);\n",
       "            observer.disconnect();\n",
       "        }}\n",
       "}});\n",
       "\n",
       "// Listen for the removal of the full notebook cells\n",
       "var notebookContainer = gd.closest('#notebook-container');\n",
       "if (notebookContainer) {{\n",
       "    x.observe(notebookContainer, {childList: true});\n",
       "}}\n",
       "\n",
       "// Listen for the clearing of the current output cell\n",
       "var outputEl = gd.closest('.output');\n",
       "if (outputEl) {{\n",
       "    x.observe(outputEl, {childList: true});\n",
       "}}\n",
       "\n",
       "                        })                };                });            </script>        </div>"
      ]
     },
     "metadata": {},
     "output_type": "display_data"
    }
   ],
   "source": [
    "region_name = 'Low countries'\n",
    "wiki_language = 'en'\n",
    "\n",
    "#wiki_language = 'en'\n",
    "new_df = df[df['language']==wiki_language].reset_index(drop=True)\n",
    "\n",
    "\n",
    "df_country = new_df[new_df['region_name']==region_name]\n",
    "df_country[\"year\"] = df_country[\"year\"].apply(\n",
    "        lambda x: [year for year in range(int(x[0]), int(x[1]) + 10, 10)]\n",
    "    )\n",
    "\n",
    "df_country = df_country.explode('year').reset_index(drop=True)\n",
    "\n",
    "\n",
    "df_fig = df_country.groupby(['creation_year', 'year'])['cultural_score'].sum().reset_index()\n",
    "#df_fig = df_fig[(df_fig['year']<= max_year)&(df_fig['year']>= min_year)]\n",
    "df_fig = df_fig[(df_fig['year']<= 1850)]\n",
    "df_fig = df_fig[(df_fig['year']>= 1400)]\n",
    "\n",
    "fig = px.line(df_fig, \n",
    "              x = 'year', \n",
    "              y = 'cultural_score', \n",
    "              color = 'creation_year', \n",
    "              width = 1000, \n",
    "              height = 600, \n",
    "              template = 'plotly_white',\n",
    "              title = region_name + ' - ' + 'English Wikipedia')\n",
    "#df_fig = df_fig.rename(columns = {'wikidata_id':'Number of Individuals'})\n",
    "\n",
    "fig.update_xaxes(showgrid=False, showticklabels=True, zeroline=False)\n",
    "fig.update_yaxes(showgrid=False, showticklabels=True, zeroline=False)\n",
    "fig.update_layout(title_font=dict(size=25))\n",
    "\n",
    "#fig.write_image(f\"save_figures/creation_date_{region_name}_{wiki_language}_cultural_score.png\", scale=5)\n",
    "fig.update_layout(\n",
    "    xaxis_title=\"\",\n",
    "    yaxis_title='Number of Individuals added')"
   ]
  },
  {
   "cell_type": "code",
   "execution_count": null,
   "id": "071294f7-94a9-4172-bc3d-255acfcc922b",
   "metadata": {},
   "outputs": [],
   "source": []
  },
  {
   "cell_type": "code",
   "execution_count": null,
   "id": "40707465-e489-4774-b286-8b143ba924f9",
   "metadata": {},
   "outputs": [],
   "source": [
    "\n",
    "corr_test = df_country.groupby(['creation_year', 'year'])['wikidata_id'].count().reset_index()"
   ]
  },
  {
   "cell_type": "code",
   "execution_count": null,
   "id": "e80d4417-dc82-4e34-b0b1-8361d5c3c358",
   "metadata": {},
   "outputs": [],
   "source": [
    "df_corr = corr_test.pivot(index = 'year', columns = 'creation_year', values = 'wikidata_id')\n",
    "df_corr = df_corr.fillna(0)\n",
    "\n",
    "\n",
    "fig = sns.clustermap(df_corr.corr(), method=\"complete\", cmap='Reds', annot=True, \n",
    "               annot_kws={\"size\": 7}, vmin=0, vmax=1, figsize=(9,9));\n",
    "\n",
    "\n",
    "fig.savefig(\"save_figures/creation_date_correlation_en_greek_world.png\", dpi = 600)"
   ]
  },
  {
   "cell_type": "code",
   "execution_count": null,
   "id": "9e19638d-29c9-46be-b7d7-c9600b577a34",
   "metadata": {},
   "outputs": [],
   "source": [
    "# top 10 languages correlation on cultural index"
   ]
  },
  {
   "cell_type": "code",
   "execution_count": null,
   "id": "3ad900c8-bf2e-4763-80ba-0ff7ef61f4a2",
   "metadata": {},
   "outputs": [],
   "source": []
  },
  {
   "cell_type": "code",
   "execution_count": null,
   "id": "63089f71-f6ad-4ee8-996d-863fc92e806e",
   "metadata": {},
   "outputs": [],
   "source": [
    "wiki_ref_lang = pd.read_csv('manual_data/Wikipedia_language - code.csv')\n",
    "wiki_ref_lang = wiki_ref_lang.rename(columns = {'code':'language'})\n",
    "\n",
    "df_proxies_all_clean = pd.merge(df_proxies_all, wiki_ref_lang, on = 'language', how = 'outer')"
   ]
  },
  {
   "cell_type": "code",
   "execution_count": null,
   "id": "1638c6ae-b17c-43e5-a515-e378ff7a69ad",
   "metadata": {},
   "outputs": [],
   "source": []
  },
  {
   "cell_type": "code",
   "execution_count": null,
   "id": "91a344ac-a6a0-447f-8403-09124c498623",
   "metadata": {},
   "outputs": [],
   "source": [
    "count_contributions = df_proxies_all_clean[['url', 'english_language_name', 'unique_references']].dropna()\n",
    "count_contributions = count_contributions.groupby('english_language_name')['unique_references'].mean().reset_index()\n",
    "count_contributions = count_contributions.sort_values('unique_references', ascending=False).reset_index(drop=True)\n",
    "#count_contributions = count_contributions.head(20)\n",
    "count_contributions['unique_references'] = round(count_contributions['unique_references'], 0)\n"
   ]
  },
  {
   "cell_type": "code",
   "execution_count": null,
   "id": "93ace7ee-7ea9-4b95-8906-c4be168e1acd",
   "metadata": {},
   "outputs": [],
   "source": [
    "count_contributions['unique_references'].head(20).mean()"
   ]
  },
  {
   "cell_type": "code",
   "execution_count": null,
   "id": "f7aeaad6-600e-46d6-8f54-b7b3786a959f",
   "metadata": {},
   "outputs": [],
   "source": [
    "\n",
    "\n",
    "fig = px.bar(count_contributions, x = 'english_language_name', y = 'unique_references',  text_auto=True)\n",
    "fig.update_xaxes(showgrid=False, showticklabels=True, zeroline=False)\n",
    "fig.update_yaxes(showgrid=False, showticklabels=True, zeroline=False)"
   ]
  },
  {
   "cell_type": "code",
   "execution_count": null,
   "id": "0d27e5ff-3d9f-4b2f-b780-bac51490be1d",
   "metadata": {},
   "outputs": [],
   "source": []
  },
  {
   "cell_type": "code",
   "execution_count": null,
   "id": "808aa367-4159-43f5-9d7a-d88fb6d35df6",
   "metadata": {},
   "outputs": [],
   "source": [
    "\n",
    "\n",
    "fig.write_image(f\"save_figures/mean_unique_editors.png\", scale=7)"
   ]
  },
  {
   "cell_type": "code",
   "execution_count": null,
   "id": "5dee21d6-3b1e-4baa-ad42-a69ea8f53ff1",
   "metadata": {},
   "outputs": [],
   "source": []
  },
  {
   "cell_type": "code",
   "execution_count": null,
   "id": "2edcadba-60a4-4140-b510-b068b80c4f93",
   "metadata": {},
   "outputs": [],
   "source": [
    "#df_proxies_all[].to_clipboard(index=False)"
   ]
  },
  {
   "cell_type": "code",
   "execution_count": null,
   "id": "edbacdec-d333-48e9-b6f6-4942280fb92d",
   "metadata": {},
   "outputs": [],
   "source": []
  },
  {
   "cell_type": "code",
   "execution_count": null,
   "id": "84d7803b-8fa9-45e9-8d6f-ce01676e42e7",
   "metadata": {},
   "outputs": [],
   "source": [
    "df_proxies_all_non_english = df_proxies_all[df_proxies_all['language']!= 'en']\n",
    "df_proxies_all_non_english['english_language_name'] = 'Non-English'"
   ]
  },
  {
   "cell_type": "code",
   "execution_count": null,
   "id": "741b4e35-07dd-42cb-969d-9bdae6a4cff8",
   "metadata": {},
   "outputs": [],
   "source": []
  },
  {
   "cell_type": "code",
   "execution_count": null,
   "id": "cb9c65bd-6157-4d88-a17a-bd2d0f187837",
   "metadata": {},
   "outputs": [],
   "source": [
    "len(set(df_proxies_all.wikidata_id))"
   ]
  },
  {
   "cell_type": "code",
   "execution_count": null,
   "id": "2909f97f-e043-4f4a-adcd-4e597f71f6e6",
   "metadata": {},
   "outputs": [],
   "source": [
    "final_lang = pd.concat([df_proxies_all, df_proxies_all_non_english])"
   ]
  },
  {
   "cell_type": "code",
   "execution_count": null,
   "id": "70f4e2ec-0749-4376-b522-9d0caf6f08a4",
   "metadata": {},
   "outputs": [],
   "source": [
    "countries = ['English', 'Non-English']"
   ]
  },
  {
   "cell_type": "code",
   "execution_count": null,
   "id": "2d921a1e-fbb9-48da-9353-792414ac9c23",
   "metadata": {},
   "outputs": [],
   "source": [
    "df_inter = final_lang[final_lang['english_language_name'].isin(countries)]\n",
    "df_inter = df_inter[['english_language_name', 'wikidata_id']].drop_duplicates().reset_index(drop=True)"
   ]
  },
  {
   "cell_type": "code",
   "execution_count": null,
   "id": "b1c2e65c-9d8c-4ebe-91ca-732df285465d",
   "metadata": {},
   "outputs": [],
   "source": [
    "len(set(df_inter.wikidata_id))"
   ]
  },
  {
   "cell_type": "code",
   "execution_count": null,
   "id": "86e12a2e-4cf5-4711-a6e6-0d1e9706193d",
   "metadata": {},
   "outputs": [],
   "source": [
    "def intersection(lst1, lst2):\n",
    "    lst3 = [value for value in lst1 if value in lst2]\n",
    "    return lst3"
   ]
  },
  {
   "cell_type": "code",
   "execution_count": null,
   "id": "0092da46-1d8d-42f6-a3db-ad88f261e4d3",
   "metadata": {},
   "outputs": [],
   "source": [
    "lst1 = set(list(df_inter[df_inter['english_language_name']==countries[0]]['wikidata_id']))\n",
    "lst2 = set(list(df_inter[df_inter['english_language_name']==countries[1]]['wikidata_id']))\n",
    "#lst3 = set(list(df_inter[df_inter['english_language_name']==countries[2]]['wikidata_id']))"
   ]
  },
  {
   "cell_type": "code",
   "execution_count": null,
   "id": "fc513a84-0887-433c-abb4-fd05e78697d9",
   "metadata": {},
   "outputs": [],
   "source": [
    "from matplotlib_venn import venn3, venn3_circles"
   ]
  },
  {
   "cell_type": "code",
   "execution_count": null,
   "id": "c3783b8e-ce45-4227-b00e-6502b497f7d9",
   "metadata": {},
   "outputs": [],
   "source": [
    "fig = venn2([lst1, lst2], countries)"
   ]
  },
  {
   "cell_type": "code",
   "execution_count": null,
   "id": "3782fed3-a24e-45ef-9bd3-817d3e55f35d",
   "metadata": {},
   "outputs": [],
   "source": [
    "type(fig)"
   ]
  },
  {
   "cell_type": "code",
   "execution_count": null,
   "id": "b9ae70da-0fcf-4fe0-a1eb-1ea2361b7008",
   "metadata": {},
   "outputs": [],
   "source": []
  },
  {
   "cell_type": "code",
   "execution_count": null,
   "id": "24df68c9-3275-4d40-8012-dce434798f29",
   "metadata": {},
   "outputs": [],
   "source": []
  },
  {
   "cell_type": "code",
   "execution_count": null,
   "id": "67e5596b-e617-4d6d-ba40-286c5b87eb53",
   "metadata": {},
   "outputs": [],
   "source": []
  },
  {
   "cell_type": "code",
   "execution_count": null,
   "id": "d67cee00-ec53-4c17-a160-524f8b606039",
   "metadata": {},
   "outputs": [],
   "source": []
  },
  {
   "cell_type": "code",
   "execution_count": null,
   "id": "11ea1b5f-95be-40ce-8e58-4d80d4acd935",
   "metadata": {},
   "outputs": [],
   "source": []
  },
  {
   "cell_type": "code",
   "execution_count": null,
   "id": "a1a3d037-5d0d-4a79-a50b-abb850013982",
   "metadata": {},
   "outputs": [],
   "source": []
  },
  {
   "cell_type": "code",
   "execution_count": null,
   "id": "0520376a-b1d5-432f-b470-23331f3b0665",
   "metadata": {},
   "outputs": [],
   "source": []
  },
  {
   "cell_type": "code",
   "execution_count": null,
   "id": "f0d654a3-07a8-4eba-a798-dc60bbbf4e3f",
   "metadata": {},
   "outputs": [],
   "source": []
  },
  {
   "cell_type": "code",
   "execution_count": null,
   "id": "7d225c68-6b04-4db5-a08f-147f62bb2ce3",
   "metadata": {},
   "outputs": [],
   "source": []
  },
  {
   "cell_type": "code",
   "execution_count": null,
   "id": "f9d72645-cbbc-4e2a-a15d-71234d9e3b4b",
   "metadata": {},
   "outputs": [],
   "source": []
  },
  {
   "cell_type": "code",
   "execution_count": null,
   "id": "7ee6d3c2-82fd-41f5-8a1e-19d0a87e68dd",
   "metadata": {},
   "outputs": [],
   "source": []
  },
  {
   "cell_type": "code",
   "execution_count": null,
   "id": "8222a975-11fb-4f4b-8a31-6e4d6ae6c84f",
   "metadata": {},
   "outputs": [],
   "source": []
  },
  {
   "cell_type": "code",
   "execution_count": null,
   "id": "3bff9fcc-ef54-4c6e-8e3a-df90b9e06753",
   "metadata": {},
   "outputs": [],
   "source": [
    "df_language = df.drop(['creation_year'], axis=1)"
   ]
  },
  {
   "cell_type": "code",
   "execution_count": null,
   "id": "dff13aee-f7c8-4a44-8cb5-d515c40e7339",
   "metadata": {},
   "outputs": [],
   "source": [
    "df_language[\"year\"] = df_language[\"year\"].apply(\n",
    "                lambda x: [year for year in range(int(x[0]), int(x[1]) + 10, 10)]\n",
    "            )"
   ]
  },
  {
   "cell_type": "code",
   "execution_count": null,
   "id": "ca793892-5dbd-4249-85b3-42fd0458f214",
   "metadata": {},
   "outputs": [],
   "source": [
    "df_language = df_language.explode('year')"
   ]
  },
  {
   "cell_type": "code",
   "execution_count": null,
   "id": "1fcb4507-c300-4baa-a258-e8eee45e15db",
   "metadata": {},
   "outputs": [],
   "source": [
    "top_languages = df_language[['wikidata_id', 'language']].drop_duplicates()['language'].value_counts().reset_index().head(10)"
   ]
  },
  {
   "cell_type": "code",
   "execution_count": null,
   "id": "b32b53d5-2c11-4085-acd8-6d9ad03c658b",
   "metadata": {},
   "outputs": [],
   "source": [
    "top_languages = list(top_languages['index'])"
   ]
  },
  {
   "cell_type": "code",
   "execution_count": null,
   "id": "d1939e69-b6b3-4cc4-8c27-d0aa706ecb30",
   "metadata": {},
   "outputs": [],
   "source": [
    "df_language_corr = df_language.groupby(['language', 'region_code', 'year'])['wikidata_id'].count().reset_index()"
   ]
  },
  {
   "cell_type": "code",
   "execution_count": null,
   "id": "733d40c0-1124-469c-b9bc-6258a73331b5",
   "metadata": {},
   "outputs": [],
   "source": []
  },
  {
   "cell_type": "code",
   "execution_count": null,
   "id": "b670f814-6075-4d8f-8223-536a4cd7ee24",
   "metadata": {},
   "outputs": [],
   "source": [
    "all_regions = []\n",
    "for region_code in tqdm(list(set(df_language_corr.region_code))):\n",
    "\n",
    "    df_inter = df_language_corr[df_language_corr['region_code']==region_code]\n",
    "    df_fin = df_inter.pivot(index = 'year', columns = 'language', values = 'wikidata_id')\n",
    "    df_fin = df_fin.fillna(0)\n",
    "    df_fin = df_fin.corr()\n",
    "    df_fin.index.name = 'language_1'\n",
    "    df_fin = df_fin.unstack().reset_index()\n",
    "    df_fin = df_fin[df_fin[0] != 1].reset_index(drop=True)\n",
    "    df_fin['region_code'] = region_code\n",
    "    all_regions.append(df_fin)"
   ]
  },
  {
   "cell_type": "code",
   "execution_count": null,
   "id": "fa2c83fa-2a54-4679-8d57-2acb884e01e5",
   "metadata": {},
   "outputs": [],
   "source": [
    "df_corr_wiki = pd.concat([x for x in all_regions])\n",
    "df_corr_wiki = df_corr_wiki.rename(columns = {0:\"correlation\"})"
   ]
  },
  {
   "cell_type": "code",
   "execution_count": null,
   "id": "e6ca8cf3-d12b-47e3-9004-9450ebc5bf99",
   "metadata": {},
   "outputs": [],
   "source": []
  },
  {
   "cell_type": "code",
   "execution_count": null,
   "id": "776e8c96-d4e3-47d4-b667-8f394987adeb",
   "metadata": {},
   "outputs": [],
   "source": [
    "fig = px.histogram(df_corr_wiki, x = 'correlation')\n",
    "# Add linear density trace\n",
    "fig.update_xaxes(showgrid=False, showticklabels=True, zeroline=False)\n",
    "fig.update_yaxes(showgrid=False, showticklabels=True, zeroline=False)"
   ]
  },
  {
   "cell_type": "code",
   "execution_count": null,
   "id": "8421b28c-fafc-49d3-a394-7254fe4fdc7a",
   "metadata": {},
   "outputs": [],
   "source": [
    "fig.write_image(f\"save_figures/distrribution_pairwise_wiki_correlation_all_regions.png\", scale=7)"
   ]
  },
  {
   "cell_type": "code",
   "execution_count": null,
   "id": "c9ab09f7-a039-4e8f-9a19-ec12a9669601",
   "metadata": {},
   "outputs": [],
   "source": []
  },
  {
   "cell_type": "code",
   "execution_count": null,
   "id": "ad421178-eebf-4550-8a05-a0e471c6379a",
   "metadata": {},
   "outputs": [],
   "source": []
  }
 ],
 "metadata": {
  "kernelspec": {
   "display_name": "Python 3 (ipykernel)",
   "language": "python",
   "name": "python3"
  },
  "language_info": {
   "codemirror_mode": {
    "name": "ipython",
    "version": 3
   },
   "file_extension": ".py",
   "mimetype": "text/x-python",
   "name": "python",
   "nbconvert_exporter": "python",
   "pygments_lexer": "ipython3",
   "version": "3.8.16"
  }
 },
 "nbformat": 4,
 "nbformat_minor": 5
}
