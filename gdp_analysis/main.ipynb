{
 "cells": [
  {
   "cell_type": "code",
   "execution_count": 1,
   "metadata": {},
   "outputs": [],
   "source": [
    "#!pip install openpyxl"
   ]
  },
  {
   "cell_type": "code",
   "execution_count": 2,
   "metadata": {},
   "outputs": [
    {
     "data": {
      "text/plain": [
       "77"
      ]
     },
     "execution_count": 2,
     "metadata": {},
     "output_type": "execute_result"
    }
   ],
   "source": [
    "import pandas as pd\n",
    "pd.options.mode.chained_assignment = None\n",
    "\n",
    "df_gdp = pd.read_excel('data/mpd2023_provisional.xlsx', sheet_name='GDPpc')\n",
    "df_regions = df_gdp[:2]\n",
    "df_regions = df_regions.T\n",
    "df_regions = df_regions[1:]\n",
    "df_regions = df_regions.reset_index()\n",
    "\n",
    "df_regions.columns = ['country_name', 'region', 'iso_a3']\n",
    "\n",
    "df_gfp_values = df_gdp[2:]\n",
    "df_gfp_values = df_gfp_values[~df_gfp_values['GDP pc 2011 prices'].isna()]\n",
    "df_gfp_values = df_gfp_values.set_index('GDP pc 2011 prices')\n",
    "df_gfp_values = df_gfp_values.unstack().reset_index()\n",
    "df_gfp_values.columns = ['country_name', 'year', 'gdp_pc']\n",
    "df_gfp_values = df_gfp_values.dropna()\n",
    "df_gfp_values = df_gfp_values[df_gfp_values['year']<=1900]\n",
    "\n",
    "df_gfp_values = pd.merge(df_gfp_values, df_regions, on = 'country_name')\n",
    "df_gfp_values = df_gfp_values.reset_index(drop=True)\n",
    "df_gfp_values = df_gfp_values.drop(columns=['region'])\n",
    "\n",
    "len(set(df_gfp_values['country_name']))"
   ]
  },
  {
   "cell_type": "markdown",
   "metadata": {},
   "source": [
    "### Display country GDP per capita"
   ]
  },
  {
   "cell_type": "code",
   "execution_count": null,
   "metadata": {},
   "outputs": [],
   "source": [
    "import pandas as pd\n",
    "import matplotlib.pyplot as plt\n",
    "import os\n",
    "\n",
    "show = True\n",
    "\n",
    "# Create the directory if it doesn't exist\n",
    "directory = \"gdp_pc_country_fig\"\n",
    "if not os.path.exists(directory):\n",
    "    os.makedirs(directory)\n",
    "    \n",
    "# Assuming your DataFrame is named df_gdp\n",
    "# Group the DataFrame by country_name\n",
    "grouped = df_gfp_values.groupby('country_name')\n",
    "\n",
    "# Plot GDP per capita over time for each country\n",
    "for name, group in grouped:\n",
    "    plt.scatter(group['year'], group['gdp_pc'], s=10)\n",
    "    plt.title(name)\n",
    "    plt.ylabel('Real GDP per capita in 2011$')\n",
    "    plt.savefig(os.path.join(directory, f'{name}.png'))\n",
    "    # Show plot\n",
    "    if show:\n",
    "        plt.show()"
   ]
  },
  {
   "cell_type": "markdown",
   "metadata": {},
   "source": [
    "### Load Population"
   ]
  },
  {
   "cell_type": "code",
   "execution_count": 4,
   "metadata": {},
   "outputs": [
    {
     "data": {
      "text/plain": [
       "169"
      ]
     },
     "execution_count": 4,
     "metadata": {},
     "output_type": "execute_result"
    }
   ],
   "source": [
    "df_population = pd.read_excel('data/mpd2023_provisional.xlsx', sheet_name='Population')\n",
    "df_population = df_population[2:]\n",
    "df_population = df_population[~df_population['Population'].isna()]\n",
    "df_population = df_population.set_index('Population')\n",
    "df_population = df_population.unstack().reset_index()\n",
    "df_population.columns = ['country_name', 'year', 'pop']\n",
    "df_population = df_population[df_population['year']<=1900]\n",
    "\n",
    "len(set(df_population['country_name']))\n"
   ]
  },
  {
   "cell_type": "markdown",
   "metadata": {},
   "source": [
    "### Interpolate Population"
   ]
  },
  {
   "cell_type": "code",
   "execution_count": 5,
   "metadata": {},
   "outputs": [],
   "source": [
    "import itertools\n",
    "\n",
    "all_years = range(1, 1901)\n",
    "all_countries = df_population['country_name'].unique()\n",
    "df_regions_years = pd.DataFrame(list(itertools.product(all_countries, all_years)), columns=['country_name', 'year'])\n",
    "\n",
    "df_population_all = pd.merge(df_population, df_regions_years, on = ['country_name', 'year'], how = 'outer')\n",
    "df_population_all = df_population_all.sort_values(by=['country_name', 'year'])\n",
    "\n",
    "# Bfore 1800, interloate linearly, after 1800, interpolate exponentially\n",
    "#linear_interpolated = df_population_all[df_population_all['year'] <= 1800]\n",
    "linear_interpolated = df_population_all.copy()"
   ]
  },
  {
   "cell_type": "markdown",
   "metadata": {},
   "source": [
    "### Linear Interpolation Before 1800"
   ]
  },
  {
   "cell_type": "code",
   "execution_count": 6,
   "metadata": {},
   "outputs": [],
   "source": [
    "df_int = []\n",
    "for country in linear_interpolated['country_name'].unique():\n",
    "    res= linear_interpolated[linear_interpolated['country_name']==country]\n",
    "    res['pop'] = pd.to_numeric(res['pop'], errors='coerce')\n",
    "    res['pop'] = res['pop'].interpolate(how = 'linear')\n",
    "    df_int.append(res)\n",
    "\n",
    "linear_interpolated_final = pd.concat([x for x in df_int])\n",
    "linear_interpolated_final = linear_interpolated_final.dropna().reset_index(drop=True)"
   ]
  },
  {
   "cell_type": "code",
   "execution_count": 7,
   "metadata": {},
   "outputs": [
    {
     "data": {
      "text/html": [
       "<div>\n",
       "<style scoped>\n",
       "    .dataframe tbody tr th:only-of-type {\n",
       "        vertical-align: middle;\n",
       "    }\n",
       "\n",
       "    .dataframe tbody tr th {\n",
       "        vertical-align: top;\n",
       "    }\n",
       "\n",
       "    .dataframe thead th {\n",
       "        text-align: right;\n",
       "    }\n",
       "</style>\n",
       "<table border=\"1\" class=\"dataframe\">\n",
       "  <thead>\n",
       "    <tr style=\"text-align: right;\">\n",
       "      <th></th>\n",
       "      <th>country_name</th>\n",
       "      <th>year</th>\n",
       "      <th>pop</th>\n",
       "    </tr>\n",
       "  </thead>\n",
       "  <tbody>\n",
       "    <tr>\n",
       "      <th>15705</th>\n",
       "      <td>China</td>\n",
       "      <td>1100</td>\n",
       "      <td>67800.0</td>\n",
       "    </tr>\n",
       "  </tbody>\n",
       "</table>\n",
       "</div>"
      ],
      "text/plain": [
       "      country_name  year      pop\n",
       "15705        China  1100  67800.0"
      ]
     },
     "execution_count": 7,
     "metadata": {},
     "output_type": "execute_result"
    }
   ],
   "source": [
    "test = linear_interpolated_final.copy()\n",
    "test = test[test['country_name']=='China']\n",
    "test[test['year']==1100]"
   ]
  },
  {
   "cell_type": "markdown",
   "metadata": {},
   "source": [
    "### Quadratic interpolation after 1800"
   ]
  },
  {
   "cell_type": "code",
   "execution_count": 8,
   "metadata": {},
   "outputs": [],
   "source": [
    "# exponential_interpolated = df_population_all[df_population_all['year'] >= 1800]\n",
    "\n",
    "# df_int = []\n",
    "# for country in exponential_interpolated['country_name'].unique():\n",
    "#     res= exponential_interpolated[exponential_interpolated['country_name']==country]\n",
    "#     res['pop'] = pd.to_numeric(res['pop'], errors='coerce')\n",
    "#     res['pop'] = res['pop'].interpolate(how = 'quadratic')\n",
    "#     df_int.append(res)\n",
    "\n",
    "# expo_interpolated_final = pd.concat([x for x in df_int])\n",
    "# expo_interpolated_final = expo_interpolated_final.dropna().reset_index(drop=True)"
   ]
  },
  {
   "cell_type": "markdown",
   "metadata": {},
   "source": [
    "### Concat the two datasets"
   ]
  },
  {
   "cell_type": "code",
   "execution_count": 9,
   "metadata": {},
   "outputs": [],
   "source": [
    "df_population_interpolated = linear_interpolated_final.copy()\n",
    "# df_population_interpolated = pd.concat([linear_interpolated_final, expo_interpolated_final])\n",
    "df_population_interpolated = df_population_interpolated.dropna()"
   ]
  },
  {
   "cell_type": "markdown",
   "metadata": {},
   "source": [
    "### Merge population and GDP per capita"
   ]
  },
  {
   "cell_type": "code",
   "execution_count": 10,
   "metadata": {},
   "outputs": [],
   "source": [
    "df_gdp_population = pd.merge(df_population_interpolated, df_gfp_values, on = ['country_name', 'year'], how = 'right')"
   ]
  },
  {
   "cell_type": "markdown",
   "metadata": {},
   "source": [
    "### Regions Analysis"
   ]
  },
  {
   "cell_type": "code",
   "execution_count": 11,
   "metadata": {},
   "outputs": [
    {
     "data": {
      "text/html": [
       "<div>\n",
       "<style scoped>\n",
       "    .dataframe tbody tr th:only-of-type {\n",
       "        vertical-align: middle;\n",
       "    }\n",
       "\n",
       "    .dataframe tbody tr th {\n",
       "        vertical-align: top;\n",
       "    }\n",
       "\n",
       "    .dataframe thead th {\n",
       "        text-align: right;\n",
       "    }\n",
       "</style>\n",
       "<table border=\"1\" class=\"dataframe\">\n",
       "  <thead>\n",
       "    <tr style=\"text-align: right;\">\n",
       "      <th></th>\n",
       "      <th>region</th>\n",
       "      <th>iso_a3</th>\n",
       "    </tr>\n",
       "  </thead>\n",
       "  <tbody>\n",
       "    <tr>\n",
       "      <th>44</th>\n",
       "      <td>Chinese world</td>\n",
       "      <td>MNG</td>\n",
       "    </tr>\n",
       "    <tr>\n",
       "      <th>45</th>\n",
       "      <td>Chinese world</td>\n",
       "      <td>TWN</td>\n",
       "    </tr>\n",
       "    <tr>\n",
       "      <th>46</th>\n",
       "      <td>Chinese world</td>\n",
       "      <td>CHN</td>\n",
       "    </tr>\n",
       "  </tbody>\n",
       "</table>\n",
       "</div>"
      ],
      "text/plain": [
       "           region iso_a3\n",
       "44  Chinese world    MNG\n",
       "45  Chinese world    TWN\n",
       "46  Chinese world    CHN"
      ]
     },
     "execution_count": 11,
     "metadata": {},
     "output_type": "execute_result"
    }
   ],
   "source": [
    "# load regions and equivalent country_name\n",
    "df_regions_culture = pd.read_csv('../environnement_data/ENS - Cultural Index - Countries Databases - consolidate_table.csv')\n",
    "df_regions_culture = df_regions_culture[['region', 'iso_a3']].drop_duplicates()\n",
    "list(set(df_regions_culture.region))\n",
    "df_regions_culture[df_regions_culture['region']=='Chinese world']"
   ]
  },
  {
   "cell_type": "code",
   "execution_count": 12,
   "metadata": {},
   "outputs": [],
   "source": [
    "keep_regions_list = ['Italy',\n",
    " 'Portugal', #OK\n",
    " 'Low countries', # Weighted Average of Belgium and Netherlands normalized by population\n",
    " 'Nordic countries', # Average of Norway, Sweden, Denmark and Iceland normalized by population\n",
    " 'Indian world',\n",
    " 'Chinese world',\n",
    " 'Korea',\n",
    " 'Arabic world',\n",
    " 'Greek World',\n",
    " 'Eastern Europe',\n",
    " 'France',\n",
    " 'Persian world',\n",
    " 'Japan',\n",
    " 'Latin World',\n",
    " 'Spain',\n",
    " 'United Kingdom',\n",
    " 'Balkans',\n",
    " 'German world']"
   ]
  },
  {
   "cell_type": "code",
   "execution_count": 21,
   "metadata": {},
   "outputs": [],
   "source": [
    "df_gdp_pop_regions = pd.merge(df_gdp_population, df_regions_culture, on = ['iso_a3'])\n",
    "df_gdp_pop_regions = df_gdp_pop_regions[df_gdp_pop_regions['region'].isin(keep_regions_list)]\n",
    "\n",
    "df_gdp_weighted = df_gdp_pop_regions.groupby(['region', 'year']).apply(lambda x: (x['gdp_pc'] * x['pop']).sum() / x['pop'].sum())\n",
    "df_gdp_weighted = df_gdp_weighted.reset_index()\n",
    "df_gdp_weighted = df_gdp_weighted.rename(columns={0: 'gdp_pc_weighted'})\n",
    "\n",
    "df_gdp_weighted = df_gdp_weighted[df_gdp_weighted['year']>1]"
   ]
  },
  {
   "cell_type": "markdown",
   "metadata": {},
   "source": [
    "### Display regions GDP per capita"
   ]
  },
  {
   "cell_type": "code",
   "execution_count": 29,
   "metadata": {},
   "outputs": [
    {
     "data": {
      "text/html": [
       "<div>\n",
       "<style scoped>\n",
       "    .dataframe tbody tr th:only-of-type {\n",
       "        vertical-align: middle;\n",
       "    }\n",
       "\n",
       "    .dataframe tbody tr th {\n",
       "        vertical-align: top;\n",
       "    }\n",
       "\n",
       "    .dataframe thead th {\n",
       "        text-align: right;\n",
       "    }\n",
       "</style>\n",
       "<table border=\"1\" class=\"dataframe\">\n",
       "  <thead>\n",
       "    <tr style=\"text-align: right;\">\n",
       "      <th></th>\n",
       "      <th>region</th>\n",
       "      <th>year</th>\n",
       "      <th>gdp_pc_weighted</th>\n",
       "      <th>decade</th>\n",
       "    </tr>\n",
       "  </thead>\n",
       "  <tbody>\n",
       "    <tr>\n",
       "      <th>0</th>\n",
       "      <td>Arabic world</td>\n",
       "      <td>1000</td>\n",
       "      <td>1056.285714</td>\n",
       "      <td>1000</td>\n",
       "    </tr>\n",
       "    <tr>\n",
       "      <th>1</th>\n",
       "      <td>Arabic world</td>\n",
       "      <td>1120</td>\n",
       "      <td>1060.638037</td>\n",
       "      <td>1120</td>\n",
       "    </tr>\n",
       "    <tr>\n",
       "      <th>2</th>\n",
       "      <td>Arabic world</td>\n",
       "      <td>1280</td>\n",
       "      <td>1068.000000</td>\n",
       "      <td>1280</td>\n",
       "    </tr>\n",
       "    <tr>\n",
       "      <th>3</th>\n",
       "      <td>Arabic world</td>\n",
       "      <td>1300</td>\n",
       "      <td>972.000000</td>\n",
       "      <td>1300</td>\n",
       "    </tr>\n",
       "    <tr>\n",
       "      <th>4</th>\n",
       "      <td>Arabic world</td>\n",
       "      <td>1400</td>\n",
       "      <td>1164.000000</td>\n",
       "      <td>1400</td>\n",
       "    </tr>\n",
       "    <tr>\n",
       "      <th>...</th>\n",
       "      <td>...</td>\n",
       "      <td>...</td>\n",
       "      <td>...</td>\n",
       "      <td>...</td>\n",
       "    </tr>\n",
       "    <tr>\n",
       "      <th>657</th>\n",
       "      <td>United Kingdom</td>\n",
       "      <td>1840</td>\n",
       "      <td>4018.000000</td>\n",
       "      <td>1840</td>\n",
       "    </tr>\n",
       "    <tr>\n",
       "      <th>658</th>\n",
       "      <td>United Kingdom</td>\n",
       "      <td>1850</td>\n",
       "      <td>4332.000000</td>\n",
       "      <td>1850</td>\n",
       "    </tr>\n",
       "    <tr>\n",
       "      <th>659</th>\n",
       "      <td>United Kingdom</td>\n",
       "      <td>1860</td>\n",
       "      <td>5086.000000</td>\n",
       "      <td>1860</td>\n",
       "    </tr>\n",
       "    <tr>\n",
       "      <th>660</th>\n",
       "      <td>United Kingdom</td>\n",
       "      <td>1870</td>\n",
       "      <td>5829.000000</td>\n",
       "      <td>1870</td>\n",
       "    </tr>\n",
       "    <tr>\n",
       "      <th>661</th>\n",
       "      <td>United Kingdom</td>\n",
       "      <td>1880</td>\n",
       "      <td>5997.000000</td>\n",
       "      <td>1880</td>\n",
       "    </tr>\n",
       "  </tbody>\n",
       "</table>\n",
       "<p>662 rows × 4 columns</p>\n",
       "</div>"
      ],
      "text/plain": [
       "             region  year  gdp_pc_weighted  decade\n",
       "0      Arabic world  1000      1056.285714    1000\n",
       "1      Arabic world  1120      1060.638037    1120\n",
       "2      Arabic world  1280      1068.000000    1280\n",
       "3      Arabic world  1300       972.000000    1300\n",
       "4      Arabic world  1400      1164.000000    1400\n",
       "..              ...   ...              ...     ...\n",
       "657  United Kingdom  1840      4018.000000    1840\n",
       "658  United Kingdom  1850      4332.000000    1850\n",
       "659  United Kingdom  1860      5086.000000    1860\n",
       "660  United Kingdom  1870      5829.000000    1870\n",
       "661  United Kingdom  1880      5997.000000    1880\n",
       "\n",
       "[662 rows x 4 columns]"
      ]
     },
     "execution_count": 29,
     "metadata": {},
     "output_type": "execute_result"
    }
   ],
   "source": [
    "df_gdp_weighted['decade'] = df_gdp_weighted['year'] // 10 * 10\n",
    "df_gdp_weighted = df_gdp_weighted.drop_duplicates(subset=['region', 'decade'], keep='first')\n",
    "df_gdp_weighted = df_gdp_weighted[df_gdp_weighted['year']>=1000]\n",
    "df_gdp_weighted = df_gdp_weighted[df_gdp_weighted['year']<=1880]\n",
    "df_gdp_weighted = df_gdp_weighted.reset_index(drop=True)"
   ]
  },
  {
   "cell_type": "markdown",
   "metadata": {},
   "source": [
    "### Add Population"
   ]
  },
  {
   "cell_type": "code",
   "execution_count": 37,
   "metadata": {},
   "outputs": [],
   "source": [
    "df_pop_regions = df_gdp_pop_regions.groupby(['region', 'year']).apply(lambda x: x['pop'].sum()).reset_index()\n",
    "df_pop_regions = df_pop_regions.rename(columns={0: 'pop'})"
   ]
  },
  {
   "cell_type": "markdown",
   "metadata": {},
   "source": [
    "### Wieghted GDP and Population"
   ]
  },
  {
   "cell_type": "code",
   "execution_count": 40,
   "metadata": {},
   "outputs": [],
   "source": [
    "df_gdp_weighted_pop = pd.merge(df_gdp_weighted, df_pop_regions, on = ['region', 'year'])\n",
    "df_gdp_weighted_pop.to_csv('results/gdp_wieghted_pop.csv', index=False)"
   ]
  },
  {
   "cell_type": "code",
   "execution_count": 41,
   "metadata": {},
   "outputs": [
    {
     "data": {
      "text/html": [
       "<div>\n",
       "<style scoped>\n",
       "    .dataframe tbody tr th:only-of-type {\n",
       "        vertical-align: middle;\n",
       "    }\n",
       "\n",
       "    .dataframe tbody tr th {\n",
       "        vertical-align: top;\n",
       "    }\n",
       "\n",
       "    .dataframe thead th {\n",
       "        text-align: right;\n",
       "    }\n",
       "</style>\n",
       "<table border=\"1\" class=\"dataframe\">\n",
       "  <thead>\n",
       "    <tr style=\"text-align: right;\">\n",
       "      <th></th>\n",
       "      <th>region</th>\n",
       "      <th>year</th>\n",
       "      <th>gdp_pc_weighted</th>\n",
       "      <th>decade</th>\n",
       "      <th>pop</th>\n",
       "    </tr>\n",
       "  </thead>\n",
       "  <tbody>\n",
       "    <tr>\n",
       "      <th>0</th>\n",
       "      <td>Arabic world</td>\n",
       "      <td>1000</td>\n",
       "      <td>1056.285714</td>\n",
       "      <td>1000</td>\n",
       "      <td>7000.0</td>\n",
       "    </tr>\n",
       "    <tr>\n",
       "      <th>1</th>\n",
       "      <td>Arabic world</td>\n",
       "      <td>1120</td>\n",
       "      <td>1060.638037</td>\n",
       "      <td>1120</td>\n",
       "      <td>6520.0</td>\n",
       "    </tr>\n",
       "    <tr>\n",
       "      <th>2</th>\n",
       "      <td>Arabic world</td>\n",
       "      <td>1280</td>\n",
       "      <td>1068.000000</td>\n",
       "      <td>1280</td>\n",
       "      <td>4440.0</td>\n",
       "    </tr>\n",
       "    <tr>\n",
       "      <th>3</th>\n",
       "      <td>Arabic world</td>\n",
       "      <td>1300</td>\n",
       "      <td>972.000000</td>\n",
       "      <td>1300</td>\n",
       "      <td>4400.0</td>\n",
       "    </tr>\n",
       "    <tr>\n",
       "      <th>4</th>\n",
       "      <td>Arabic world</td>\n",
       "      <td>1400</td>\n",
       "      <td>1164.000000</td>\n",
       "      <td>1400</td>\n",
       "      <td>4200.0</td>\n",
       "    </tr>\n",
       "    <tr>\n",
       "      <th>5</th>\n",
       "      <td>Arabic world</td>\n",
       "      <td>1500</td>\n",
       "      <td>1084.000000</td>\n",
       "      <td>1500</td>\n",
       "      <td>4000.0</td>\n",
       "    </tr>\n",
       "    <tr>\n",
       "      <th>6</th>\n",
       "      <td>Arabic world</td>\n",
       "      <td>1820</td>\n",
       "      <td>832.465167</td>\n",
       "      <td>1820</td>\n",
       "      <td>15517.0</td>\n",
       "    </tr>\n",
       "    <tr>\n",
       "      <th>7</th>\n",
       "      <td>Arabic world</td>\n",
       "      <td>1870</td>\n",
       "      <td>1091.754910</td>\n",
       "      <td>1870</td>\n",
       "      <td>22453.0</td>\n",
       "    </tr>\n",
       "    <tr>\n",
       "      <th>8</th>\n",
       "      <td>Balkans</td>\n",
       "      <td>1833</td>\n",
       "      <td>1537.000000</td>\n",
       "      <td>1830</td>\n",
       "      <td>2605.0</td>\n",
       "    </tr>\n",
       "    <tr>\n",
       "      <th>9</th>\n",
       "      <td>Balkans</td>\n",
       "      <td>1840</td>\n",
       "      <td>1932.000000</td>\n",
       "      <td>1840</td>\n",
       "      <td>2777.0</td>\n",
       "    </tr>\n",
       "  </tbody>\n",
       "</table>\n",
       "</div>"
      ],
      "text/plain": [
       "         region  year  gdp_pc_weighted  decade      pop\n",
       "0  Arabic world  1000      1056.285714    1000   7000.0\n",
       "1  Arabic world  1120      1060.638037    1120   6520.0\n",
       "2  Arabic world  1280      1068.000000    1280   4440.0\n",
       "3  Arabic world  1300       972.000000    1300   4400.0\n",
       "4  Arabic world  1400      1164.000000    1400   4200.0\n",
       "5  Arabic world  1500      1084.000000    1500   4000.0\n",
       "6  Arabic world  1820       832.465167    1820  15517.0\n",
       "7  Arabic world  1870      1091.754910    1870  22453.0\n",
       "8       Balkans  1833      1537.000000    1830   2605.0\n",
       "9       Balkans  1840      1932.000000    1840   2777.0"
      ]
     },
     "execution_count": 41,
     "metadata": {},
     "output_type": "execute_result"
    }
   ],
   "source": [
    "df_gdp_weighted_pop.head(10)"
   ]
  },
  {
   "cell_type": "markdown",
   "metadata": {},
   "source": [
    "## Display"
   ]
  },
  {
   "cell_type": "code",
   "execution_count": null,
   "metadata": {},
   "outputs": [],
   "source": [
    "show = True\n",
    "\n",
    "# Create the directory if it doesn't exist\n",
    "directory = \"gdp_pc_region_fig\"\n",
    "if not os.path.exists(directory):\n",
    "    os.makedirs(directory)\n",
    "    \n",
    "# Assuming your DataFrame is named df_gdp\n",
    "# Group the DataFrame by country_name\n",
    "grouped = df_gdp_weighted.groupby('region')\n",
    "\n",
    "# Plot GDP per capita over time for each country\n",
    "for name, group in grouped:\n",
    "    plt.scatter(group['year'], group['gdp_pc_weighted'], s=10)\n",
    "    plt.title(name)\n",
    "    plt.ylabel('Real GDP per capita in 2011$ (Population Weighted Average)')\n",
    "    plt.savefig(os.path.join(directory, f'{name}.png'))\n",
    "    # Show plot\n",
    "    if show:\n",
    "        plt.show()"
   ]
  },
  {
   "cell_type": "markdown",
   "metadata": {},
   "source": [
    "<!-- ### Load Culture -->"
   ]
  },
  {
   "cell_type": "code",
   "execution_count": 39,
   "metadata": {},
   "outputs": [],
   "source": [
    "# df_culture = pd.read_csv('../unseen_species_model/results/occupation/unseen_data_occupation.csv', index_col=[0])\n",
    "# df_culture = df_culture.drop(columns=['occupation', 'model_type'])\n",
    "# df_culture = df_culture.groupby(['region_name', 'decade']).sum().reset_index()"
   ]
  },
  {
   "cell_type": "code",
   "execution_count": null,
   "metadata": {},
   "outputs": [],
   "source": []
  }
 ],
 "metadata": {
  "kernelspec": {
   "display_name": ".venv",
   "language": "python",
   "name": "python3"
  },
  "language_info": {
   "codemirror_mode": {
    "name": "ipython",
    "version": 3
   },
   "file_extension": ".py",
   "mimetype": "text/x-python",
   "name": "python",
   "nbconvert_exporter": "python",
   "pygments_lexer": "ipython3",
   "version": "3.11.7"
  }
 },
 "nbformat": 4,
 "nbformat_minor": 2
}
