{
 "cells": [
  {
   "cell_type": "code",
   "execution_count": 29,
   "metadata": {},
   "outputs": [],
   "source": [
    "#!pip install openpyxl"
   ]
  },
  {
   "cell_type": "code",
   "execution_count": 30,
   "metadata": {},
   "outputs": [
    {
     "data": {
      "text/plain": [
       "77"
      ]
     },
     "execution_count": 30,
     "metadata": {},
     "output_type": "execute_result"
    }
   ],
   "source": [
    "import pandas as pd\n",
    "pd.options.mode.chained_assignment = None\n",
    "\n",
    "df_gdp = pd.read_excel('data/mpd2023_provisional.xlsx', sheet_name='GDPpc')\n",
    "df_regions = df_gdp[:2]\n",
    "df_regions = df_regions.T\n",
    "df_regions = df_regions[1:]\n",
    "df_regions = df_regions.reset_index()\n",
    "\n",
    "df_regions.columns = ['country_name', 'region', 'iso_a3']\n",
    "\n",
    "df_gfp_values = df_gdp[2:]\n",
    "df_gfp_values = df_gfp_values[~df_gfp_values['GDP pc 2011 prices'].isna()]\n",
    "df_gfp_values = df_gfp_values.set_index('GDP pc 2011 prices')\n",
    "df_gfp_values = df_gfp_values.unstack().reset_index()\n",
    "df_gfp_values.columns = ['country_name', 'year', 'gdp_pc']\n",
    "df_gfp_values = df_gfp_values.dropna()\n",
    "df_gfp_values = df_gfp_values[df_gfp_values['year']<=1900]\n",
    "\n",
    "df_gfp_values = pd.merge(df_gfp_values, df_regions, on = 'country_name')\n",
    "df_gfp_values = df_gfp_values.reset_index(drop=True)\n",
    "df_gfp_values = df_gfp_values.drop(columns=['region'])\n",
    "\n",
    "len(set(df_gfp_values['country_name']))"
   ]
  },
  {
   "cell_type": "code",
   "execution_count": 52,
   "metadata": {},
   "outputs": [],
   "source": [
    "df_gfp_values[['country_name', 'iso_a3']].drop_duplicates().reset_index(drop=True).to_csv('results/iso.csv')"
   ]
  },
  {
   "cell_type": "code",
   "execution_count": 31,
   "metadata": {},
   "outputs": [
    {
     "data": {
      "text/html": [
       "<div>\n",
       "<style scoped>\n",
       "    .dataframe tbody tr th:only-of-type {\n",
       "        vertical-align: middle;\n",
       "    }\n",
       "\n",
       "    .dataframe tbody tr th {\n",
       "        vertical-align: top;\n",
       "    }\n",
       "\n",
       "    .dataframe thead th {\n",
       "        text-align: right;\n",
       "    }\n",
       "</style>\n",
       "<table border=\"1\" class=\"dataframe\">\n",
       "  <thead>\n",
       "    <tr style=\"text-align: right;\">\n",
       "      <th></th>\n",
       "      <th>country_name</th>\n",
       "      <th>year</th>\n",
       "      <th>gdp_pc</th>\n",
       "      <th>iso_a3</th>\n",
       "    </tr>\n",
       "  </thead>\n",
       "  <tbody>\n",
       "    <tr>\n",
       "      <th>3379</th>\n",
       "      <td>Japan</td>\n",
       "      <td>730</td>\n",
       "      <td>597.84</td>\n",
       "      <td>JPN</td>\n",
       "    </tr>\n",
       "    <tr>\n",
       "      <th>3380</th>\n",
       "      <td>Japan</td>\n",
       "      <td>1000</td>\n",
       "      <td>1009.65</td>\n",
       "      <td>JPN</td>\n",
       "    </tr>\n",
       "    <tr>\n",
       "      <th>3381</th>\n",
       "      <td>Japan</td>\n",
       "      <td>1120</td>\n",
       "      <td>926.97</td>\n",
       "      <td>JPN</td>\n",
       "    </tr>\n",
       "    <tr>\n",
       "      <th>3382</th>\n",
       "      <td>Japan</td>\n",
       "      <td>1280</td>\n",
       "      <td>841.11</td>\n",
       "      <td>JPN</td>\n",
       "    </tr>\n",
       "    <tr>\n",
       "      <th>3383</th>\n",
       "      <td>Japan</td>\n",
       "      <td>1450</td>\n",
       "      <td>866.55</td>\n",
       "      <td>JPN</td>\n",
       "    </tr>\n",
       "    <tr>\n",
       "      <th>3384</th>\n",
       "      <td>Japan</td>\n",
       "      <td>1600</td>\n",
       "      <td>1061</td>\n",
       "      <td>JPN</td>\n",
       "    </tr>\n",
       "    <tr>\n",
       "      <th>3385</th>\n",
       "      <td>Japan</td>\n",
       "      <td>1700</td>\n",
       "      <td>1073</td>\n",
       "      <td>JPN</td>\n",
       "    </tr>\n",
       "    <tr>\n",
       "      <th>3386</th>\n",
       "      <td>Japan</td>\n",
       "      <td>1721</td>\n",
       "      <td>1073.25</td>\n",
       "      <td>JPN</td>\n",
       "    </tr>\n",
       "    <tr>\n",
       "      <th>3387</th>\n",
       "      <td>Japan</td>\n",
       "      <td>1750</td>\n",
       "      <td>953</td>\n",
       "      <td>JPN</td>\n",
       "    </tr>\n",
       "    <tr>\n",
       "      <th>3388</th>\n",
       "      <td>Japan</td>\n",
       "      <td>1800</td>\n",
       "      <td>1317</td>\n",
       "      <td>JPN</td>\n",
       "    </tr>\n",
       "    <tr>\n",
       "      <th>3389</th>\n",
       "      <td>Japan</td>\n",
       "      <td>1804</td>\n",
       "      <td>1316.52</td>\n",
       "      <td>JPN</td>\n",
       "    </tr>\n",
       "    <tr>\n",
       "      <th>3390</th>\n",
       "      <td>Japan</td>\n",
       "      <td>1820</td>\n",
       "      <td>1317</td>\n",
       "      <td>JPN</td>\n",
       "    </tr>\n",
       "    <tr>\n",
       "      <th>3391</th>\n",
       "      <td>Japan</td>\n",
       "      <td>1846</td>\n",
       "      <td>1435.77</td>\n",
       "      <td>JPN</td>\n",
       "    </tr>\n",
       "    <tr>\n",
       "      <th>3392</th>\n",
       "      <td>Japan</td>\n",
       "      <td>1850</td>\n",
       "      <td>1436</td>\n",
       "      <td>JPN</td>\n",
       "    </tr>\n",
       "    <tr>\n",
       "      <th>3393</th>\n",
       "      <td>Japan</td>\n",
       "      <td>1870</td>\n",
       "      <td>1580</td>\n",
       "      <td>JPN</td>\n",
       "    </tr>\n",
       "    <tr>\n",
       "      <th>3394</th>\n",
       "      <td>Japan</td>\n",
       "      <td>1874</td>\n",
       "      <td>1607.49</td>\n",
       "      <td>JPN</td>\n",
       "    </tr>\n",
       "    <tr>\n",
       "      <th>3395</th>\n",
       "      <td>Japan</td>\n",
       "      <td>1885</td>\n",
       "      <td>1728.680473</td>\n",
       "      <td>JPN</td>\n",
       "    </tr>\n",
       "    <tr>\n",
       "      <th>3396</th>\n",
       "      <td>Japan</td>\n",
       "      <td>1886</td>\n",
       "      <td>1831.882235</td>\n",
       "      <td>JPN</td>\n",
       "    </tr>\n",
       "    <tr>\n",
       "      <th>3397</th>\n",
       "      <td>Japan</td>\n",
       "      <td>1887</td>\n",
       "      <td>1847.529454</td>\n",
       "      <td>JPN</td>\n",
       "    </tr>\n",
       "    <tr>\n",
       "      <th>3398</th>\n",
       "      <td>Japan</td>\n",
       "      <td>1888</td>\n",
       "      <td>1723.568603</td>\n",
       "      <td>JPN</td>\n",
       "    </tr>\n",
       "    <tr>\n",
       "      <th>3399</th>\n",
       "      <td>Japan</td>\n",
       "      <td>1889</td>\n",
       "      <td>1754.53375</td>\n",
       "      <td>JPN</td>\n",
       "    </tr>\n",
       "    <tr>\n",
       "      <th>3400</th>\n",
       "      <td>Japan</td>\n",
       "      <td>1890</td>\n",
       "      <td>1853.575448</td>\n",
       "      <td>JPN</td>\n",
       "    </tr>\n",
       "    <tr>\n",
       "      <th>3401</th>\n",
       "      <td>Japan</td>\n",
       "      <td>1891</td>\n",
       "      <td>1749.737129</td>\n",
       "      <td>JPN</td>\n",
       "    </tr>\n",
       "    <tr>\n",
       "      <th>3402</th>\n",
       "      <td>Japan</td>\n",
       "      <td>1892</td>\n",
       "      <td>1841.701905</td>\n",
       "      <td>JPN</td>\n",
       "    </tr>\n",
       "    <tr>\n",
       "      <th>3403</th>\n",
       "      <td>Japan</td>\n",
       "      <td>1893</td>\n",
       "      <td>1832.443896</td>\n",
       "      <td>JPN</td>\n",
       "    </tr>\n",
       "    <tr>\n",
       "      <th>3404</th>\n",
       "      <td>Japan</td>\n",
       "      <td>1894</td>\n",
       "      <td>2016.418739</td>\n",
       "      <td>JPN</td>\n",
       "    </tr>\n",
       "    <tr>\n",
       "      <th>3405</th>\n",
       "      <td>Japan</td>\n",
       "      <td>1895</td>\n",
       "      <td>2021.825427</td>\n",
       "      <td>JPN</td>\n",
       "    </tr>\n",
       "    <tr>\n",
       "      <th>3406</th>\n",
       "      <td>Japan</td>\n",
       "      <td>1896</td>\n",
       "      <td>1904.443167</td>\n",
       "      <td>JPN</td>\n",
       "    </tr>\n",
       "    <tr>\n",
       "      <th>3407</th>\n",
       "      <td>Japan</td>\n",
       "      <td>1897</td>\n",
       "      <td>1904.510987</td>\n",
       "      <td>JPN</td>\n",
       "    </tr>\n",
       "    <tr>\n",
       "      <th>3408</th>\n",
       "      <td>Japan</td>\n",
       "      <td>1898</td>\n",
       "      <td>2232.854528</td>\n",
       "      <td>JPN</td>\n",
       "    </tr>\n",
       "    <tr>\n",
       "      <th>3409</th>\n",
       "      <td>Japan</td>\n",
       "      <td>1899</td>\n",
       "      <td>2104.557182</td>\n",
       "      <td>JPN</td>\n",
       "    </tr>\n",
       "    <tr>\n",
       "      <th>3410</th>\n",
       "      <td>Japan</td>\n",
       "      <td>1900</td>\n",
       "      <td>2123.250608</td>\n",
       "      <td>JPN</td>\n",
       "    </tr>\n",
       "  </tbody>\n",
       "</table>\n",
       "</div>"
      ],
      "text/plain": [
       "     country_name  year       gdp_pc iso_a3\n",
       "3379        Japan   730       597.84    JPN\n",
       "3380        Japan  1000      1009.65    JPN\n",
       "3381        Japan  1120       926.97    JPN\n",
       "3382        Japan  1280       841.11    JPN\n",
       "3383        Japan  1450       866.55    JPN\n",
       "3384        Japan  1600         1061    JPN\n",
       "3385        Japan  1700         1073    JPN\n",
       "3386        Japan  1721      1073.25    JPN\n",
       "3387        Japan  1750          953    JPN\n",
       "3388        Japan  1800         1317    JPN\n",
       "3389        Japan  1804      1316.52    JPN\n",
       "3390        Japan  1820         1317    JPN\n",
       "3391        Japan  1846      1435.77    JPN\n",
       "3392        Japan  1850         1436    JPN\n",
       "3393        Japan  1870         1580    JPN\n",
       "3394        Japan  1874      1607.49    JPN\n",
       "3395        Japan  1885  1728.680473    JPN\n",
       "3396        Japan  1886  1831.882235    JPN\n",
       "3397        Japan  1887  1847.529454    JPN\n",
       "3398        Japan  1888  1723.568603    JPN\n",
       "3399        Japan  1889   1754.53375    JPN\n",
       "3400        Japan  1890  1853.575448    JPN\n",
       "3401        Japan  1891  1749.737129    JPN\n",
       "3402        Japan  1892  1841.701905    JPN\n",
       "3403        Japan  1893  1832.443896    JPN\n",
       "3404        Japan  1894  2016.418739    JPN\n",
       "3405        Japan  1895  2021.825427    JPN\n",
       "3406        Japan  1896  1904.443167    JPN\n",
       "3407        Japan  1897  1904.510987    JPN\n",
       "3408        Japan  1898  2232.854528    JPN\n",
       "3409        Japan  1899  2104.557182    JPN\n",
       "3410        Japan  1900  2123.250608    JPN"
      ]
     },
     "execution_count": 31,
     "metadata": {},
     "output_type": "execute_result"
    }
   ],
   "source": [
    "df_gfp_values[df_gfp_values['country_name']=='Japan']"
   ]
  },
  {
   "cell_type": "code",
   "execution_count": 32,
   "metadata": {},
   "outputs": [
    {
     "data": {
      "text/plain": [
       "['Syrian Arab Republic',\n",
       " 'India',\n",
       " 'Ireland',\n",
       " 'Netherlands',\n",
       " 'Canada',\n",
       " 'Cuba',\n",
       " 'Argentina',\n",
       " 'Czechoslovakia',\n",
       " 'Spain',\n",
       " 'Republic of Korea',\n",
       " 'D.P.R. of Korea',\n",
       " 'Romania',\n",
       " 'Former Yugoslavia',\n",
       " 'Iran (Islamic Republic of)',\n",
       " 'Viet Nam',\n",
       " 'Colombia',\n",
       " 'Denmark',\n",
       " 'Jordan',\n",
       " 'United States',\n",
       " 'Nepal',\n",
       " 'Uruguay',\n",
       " 'Greece',\n",
       " 'Lebanon',\n",
       " 'Sweden',\n",
       " 'Sri Lanka',\n",
       " 'Albania',\n",
       " 'Bolivia (Plurinational State of)',\n",
       " 'Algeria',\n",
       " 'Indonesia',\n",
       " 'Australia',\n",
       " 'Italy',\n",
       " 'Bulgaria',\n",
       " 'Japan',\n",
       " 'Morocco',\n",
       " 'Philippines',\n",
       " 'Brazil',\n",
       " 'China',\n",
       " 'Portugal',\n",
       " 'Thailand',\n",
       " 'Iraq',\n",
       " 'Poland',\n",
       " 'State of Palestine',\n",
       " 'Chile',\n",
       " 'France',\n",
       " 'Malaysia',\n",
       " 'Germany',\n",
       " 'Hungary',\n",
       " 'Austria',\n",
       " 'Belgium',\n",
       " 'China, Hong Kong SAR',\n",
       " 'Finland',\n",
       " 'Ecuador',\n",
       " 'Liberia',\n",
       " 'Egypt',\n",
       " 'Saudi Arabia',\n",
       " 'Jamaica',\n",
       " 'Myanmar',\n",
       " 'Norway',\n",
       " 'Taiwan, Province of China',\n",
       " 'Estonia',\n",
       " 'South Africa',\n",
       " 'Singapore',\n",
       " 'United Kingdom',\n",
       " 'Tunisia',\n",
       " 'Turkey',\n",
       " 'Mexico',\n",
       " 'New Zealand',\n",
       " 'Russian Federation',\n",
       " 'Former USSR',\n",
       " 'Iceland',\n",
       " 'Venezuela (Bolivarian Republic of)',\n",
       " 'Switzerland',\n",
       " 'Peru']"
      ]
     },
     "execution_count": 32,
     "metadata": {},
     "output_type": "execute_result"
    }
   ],
   "source": [
    "list(set(df_gfp_values[(df_gfp_values['year']>=1800) & (df_gfp_values['year']<=1880)].country_name))"
   ]
  },
  {
   "cell_type": "markdown",
   "metadata": {},
   "source": [
    "### Display country GDP per capita"
   ]
  },
  {
   "cell_type": "code",
   "execution_count": 33,
   "metadata": {},
   "outputs": [
    {
     "data": {
      "image/png": "[encoded data removed]",
      "text/plain": [
       "<Figure size 640x480 with 1 Axes>"
      ]
     },
     "metadata": {},
     "output_type": "display_data"
    }
   ],
   "source": [
    "import pandas as pd\n",
    "import matplotlib.pyplot as plt\n",
    "import os\n",
    "\n",
    "show = False\n",
    "\n",
    "# Create the directory if it doesn't exist\n",
    "directory = \"gdp_pc_country_fig\"\n",
    "if not os.path.exists(directory):\n",
    "    os.makedirs(directory)\n",
    "    \n",
    "# Assuming your DataFrame is named df_gdp\n",
    "# Group the DataFrame by country_name\n",
    "grouped = df_gfp_values.groupby('country_name')\n",
    "\n",
    "# Plot GDP per capita over time for each country\n",
    "for name, group in grouped:\n",
    "    plt.scatter(group['year'], group['gdp_pc'], s=10)\n",
    "    plt.title(name)\n",
    "    plt.ylabel('Real GDP per capita in 2011$')\n",
    "    plt.savefig(os.path.join(directory, f'{name}.png'))\n",
    "    # Show plot\n",
    "    if show:\n",
    "        plt.show()"
   ]
  },
  {
   "cell_type": "markdown",
   "metadata": {},
   "source": [
    "### Load Population"
   ]
  },
  {
   "cell_type": "code",
   "execution_count": 55,
   "metadata": {},
   "outputs": [
    {
     "data": {
      "text/plain": [
       "169"
      ]
     },
     "execution_count": 55,
     "metadata": {},
     "output_type": "execute_result"
    }
   ],
   "source": [
    "df_population = pd.read_excel('data/mpd2023_provisional.xlsx', sheet_name='Population')\n",
    "df_population = df_population[2:]\n",
    "df_population = df_population[~df_population['Population'].isna()]\n",
    "df_population = df_population.set_index('Population')\n",
    "df_population = df_population.unstack().reset_index()\n",
    "df_population.columns = ['country_name', 'year', 'pop']\n",
    "df_population = df_population[df_population['year']<=1900]\n",
    "\n",
    "len(set(df_population['country_name']))"
   ]
  },
  {
   "cell_type": "code",
   "execution_count": null,
   "metadata": {},
   "outputs": [],
   "source": []
  },
  {
   "cell_type": "markdown",
   "metadata": {},
   "source": [
    "### Interpolate Population"
   ]
  },
  {
   "cell_type": "code",
   "execution_count": 35,
   "metadata": {},
   "outputs": [],
   "source": [
    "import itertools\n",
    "\n",
    "all_years = range(1, 1901)\n",
    "all_countries = df_population['country_name'].unique()\n",
    "df_regions_years = pd.DataFrame(list(itertools.product(all_countries, all_years)), columns=['country_name', 'year'])\n",
    "\n",
    "df_population_all = pd.merge(df_population, df_regions_years, on = ['country_name', 'year'], how = 'outer')\n",
    "df_population_all = df_population_all.sort_values(by=['country_name', 'year'])\n",
    "\n",
    "# Bfore 1800, interloate linearly, after 1800, interpolate exponentially\n",
    "#linear_interpolated = df_population_all[df_population_all['year'] <= 1800]\n",
    "linear_interpolated = df_population_all.copy()"
   ]
  },
  {
   "cell_type": "markdown",
   "metadata": {},
   "source": [
    "### Linear Interpolation Before 1800"
   ]
  },
  {
   "cell_type": "code",
   "execution_count": 36,
   "metadata": {},
   "outputs": [],
   "source": [
    "df_int = []\n",
    "for country in linear_interpolated['country_name'].unique():\n",
    "    res= linear_interpolated[linear_interpolated['country_name']==country]\n",
    "    res['pop'] = pd.to_numeric(res['pop'], errors='coerce')\n",
    "    res['pop'] = res['pop'].interpolate(how = 'linear')\n",
    "    df_int.append(res)\n",
    "\n",
    "linear_interpolated_final = pd.concat([x for x in df_int])\n",
    "linear_interpolated_final = linear_interpolated_final.dropna().reset_index(drop=True)"
   ]
  },
  {
   "cell_type": "code",
   "execution_count": 37,
   "metadata": {},
   "outputs": [
    {
     "data": {
      "text/html": [
       "<div>\n",
       "<style scoped>\n",
       "    .dataframe tbody tr th:only-of-type {\n",
       "        vertical-align: middle;\n",
       "    }\n",
       "\n",
       "    .dataframe tbody tr th {\n",
       "        vertical-align: top;\n",
       "    }\n",
       "\n",
       "    .dataframe thead th {\n",
       "        text-align: right;\n",
       "    }\n",
       "</style>\n",
       "<table border=\"1\" class=\"dataframe\">\n",
       "  <thead>\n",
       "    <tr style=\"text-align: right;\">\n",
       "      <th></th>\n",
       "      <th>country_name</th>\n",
       "      <th>year</th>\n",
       "      <th>pop</th>\n",
       "    </tr>\n",
       "  </thead>\n",
       "  <tbody>\n",
       "    <tr>\n",
       "      <th>15705</th>\n",
       "      <td>China</td>\n",
       "      <td>1100</td>\n",
       "      <td>67800.0</td>\n",
       "    </tr>\n",
       "  </tbody>\n",
       "</table>\n",
       "</div>"
      ],
      "text/plain": [
       "      country_name  year      pop\n",
       "15705        China  1100  67800.0"
      ]
     },
     "execution_count": 37,
     "metadata": {},
     "output_type": "execute_result"
    }
   ],
   "source": [
    "test = linear_interpolated_final.copy()\n",
    "test = test[test['country_name']=='China']\n",
    "test[test['year']==1100]"
   ]
  },
  {
   "cell_type": "markdown",
   "metadata": {},
   "source": [
    "### Quadratic interpolation after 1800"
   ]
  },
  {
   "cell_type": "code",
   "execution_count": 38,
   "metadata": {},
   "outputs": [],
   "source": [
    "# exponential_interpolated = df_population_all[df_population_all['year'] >= 1800]\n",
    "\n",
    "# df_int = []\n",
    "# for country in exponential_interpolated['country_name'].unique():\n",
    "#     res= exponential_interpolated[exponential_interpolated['country_name']==country]\n",
    "#     res['pop'] = pd.to_numeric(res['pop'], errors='coerce')\n",
    "#     res['pop'] = res['pop'].interpolate(how = 'quadratic')\n",
    "#     df_int.append(res)\n",
    "\n",
    "# expo_interpolated_final = pd.concat([x for x in df_int])\n",
    "# expo_interpolated_final = expo_interpolated_final.dropna().reset_index(drop=True)"
   ]
  },
  {
   "cell_type": "markdown",
   "metadata": {},
   "source": [
    "### Concat the two datasets"
   ]
  },
  {
   "cell_type": "code",
   "execution_count": 39,
   "metadata": {},
   "outputs": [],
   "source": [
    "df_population_interpolated = linear_interpolated_final.copy()\n",
    "# df_population_interpolated = pd.concat([linear_interpolated_final, expo_interpolated_final])\n",
    "df_population_interpolated = df_population_interpolated.dropna()\n",
    "df_population_interpolated.to_csv('results/population_interpolated.csv')"
   ]
  },
  {
   "cell_type": "code",
   "execution_count": null,
   "metadata": {},
   "outputs": [],
   "source": []
  },
  {
   "cell_type": "markdown",
   "metadata": {},
   "source": [
    "### Merge population and GDP per capita"
   ]
  },
  {
   "cell_type": "code",
   "execution_count": null,
   "metadata": {},
   "outputs": [],
   "source": []
  },
  {
   "cell_type": "code",
   "execution_count": 40,
   "metadata": {},
   "outputs": [],
   "source": [
    "df_gdp_population = pd.merge(df_population_interpolated, df_gfp_values, on = ['country_name', 'year'], how = 'right')"
   ]
  },
  {
   "cell_type": "markdown",
   "metadata": {},
   "source": [
    "### Regions Analysis"
   ]
  },
  {
   "cell_type": "code",
   "execution_count": 41,
   "metadata": {},
   "outputs": [
    {
     "data": {
      "text/html": [
       "<div>\n",
       "<style scoped>\n",
       "    .dataframe tbody tr th:only-of-type {\n",
       "        vertical-align: middle;\n",
       "    }\n",
       "\n",
       "    .dataframe tbody tr th {\n",
       "        vertical-align: top;\n",
       "    }\n",
       "\n",
       "    .dataframe thead th {\n",
       "        text-align: right;\n",
       "    }\n",
       "</style>\n",
       "<table border=\"1\" class=\"dataframe\">\n",
       "  <thead>\n",
       "    <tr style=\"text-align: right;\">\n",
       "      <th></th>\n",
       "      <th>region</th>\n",
       "      <th>iso_a3</th>\n",
       "    </tr>\n",
       "  </thead>\n",
       "  <tbody>\n",
       "    <tr>\n",
       "      <th>44</th>\n",
       "      <td>Chinese world</td>\n",
       "      <td>MNG</td>\n",
       "    </tr>\n",
       "    <tr>\n",
       "      <th>45</th>\n",
       "      <td>Chinese world</td>\n",
       "      <td>TWN</td>\n",
       "    </tr>\n",
       "    <tr>\n",
       "      <th>46</th>\n",
       "      <td>Chinese world</td>\n",
       "      <td>CHN</td>\n",
       "    </tr>\n",
       "  </tbody>\n",
       "</table>\n",
       "</div>"
      ],
      "text/plain": [
       "           region iso_a3\n",
       "44  Chinese world    MNG\n",
       "45  Chinese world    TWN\n",
       "46  Chinese world    CHN"
      ]
     },
     "execution_count": 41,
     "metadata": {},
     "output_type": "execute_result"
    }
   ],
   "source": [
    "# load regions and equivalent country_name\n",
    "df_regions_culture = pd.read_csv('../environnement_data/ENS - Cultural Index - Countries Databases - consolidate_table.csv')\n",
    "df_regions_culture = df_regions_culture[['region', 'iso_a3']].drop_duplicates()\n",
    "list(set(df_regions_culture.region))\n",
    "df_regions_culture[df_regions_culture['region']=='Chinese world']"
   ]
  },
  {
   "cell_type": "code",
   "execution_count": 42,
   "metadata": {},
   "outputs": [],
   "source": [
    "keep_regions_list = ['Italy',\n",
    " 'Portugal', #OK\n",
    " 'Low countries', # Weighted Average of Belgium and Netherlands normalized by population\n",
    " 'Nordic countries', # Average of Norway, Sweden, Denmark and Iceland normalized by population\n",
    " 'Indian world',\n",
    " 'Chinese world',\n",
    " 'Korea',\n",
    " 'Arabic world',\n",
    " 'Greek World',\n",
    " 'Eastern Europe',\n",
    " 'France',\n",
    " 'Persian world',\n",
    " 'Japan',\n",
    " 'Latin World',\n",
    " 'Spain',\n",
    " 'United Kingdom',\n",
    " 'Balkans',\n",
    " 'German world']"
   ]
  },
  {
   "cell_type": "code",
   "execution_count": null,
   "metadata": {},
   "outputs": [],
   "source": []
  },
  {
   "cell_type": "code",
   "execution_count": 43,
   "metadata": {},
   "outputs": [],
   "source": [
    "df_gdp_pop_regions = pd.merge(df_gdp_population, df_regions_culture, on = ['iso_a3'])\n",
    "df_gdp_pop_regions = df_gdp_pop_regions[df_gdp_pop_regions['region'].isin(keep_regions_list)]\n",
    "\n",
    "df_gdp_weighted = df_gdp_pop_regions.groupby(['region', 'year']).apply(lambda x: (x['gdp_pc'] * x['pop']).sum() / x['pop'].sum())\n",
    "df_gdp_weighted = df_gdp_weighted.reset_index()\n",
    "df_gdp_weighted = df_gdp_weighted.rename(columns={0: 'gdp_pc_weighted'})\n",
    "\n",
    "df_gdp_weighted = df_gdp_weighted[df_gdp_weighted['year']>1]\n",
    "\n",
    "\n",
    "# Step 1: Round the 'year' column to the nearest multiple of 50\n",
    "df_gdp_weighted = df_gdp_weighted[df_gdp_weighted['year']>=1000]\n",
    "df_gdp_weighted = df_gdp_weighted[df_gdp_weighted['year']<=1880]\n",
    "\n",
    "#df_gdp_weighted['decade'] = (df_gdp_weighted['year'] // 50) * 50\n",
    "\n",
    "df_gdp_weighted['decade'] = df_gdp_weighted['year'].apply(lambda x: round(x / 50) * 50)\n",
    "df_gdp_weighted = df_gdp_weighted.groupby(['region', 'decade'])['gdp_pc_weighted'].mean().reset_index()\n",
    "\n",
    "df_gdp_pop_regions['decade'] = df_gdp_pop_regions['year'].apply(lambda x: round(x / 50) * 50)\n",
    "df_gdp_pop_regions = df_gdp_pop_regions.groupby(['region', 'decade'])['pop'].mean().reset_index()\n",
    "\n",
    "# Add population\n",
    "\n",
    "df_pop_regions = df_gdp_pop_regions.groupby(['region', 'decade']).apply(lambda x: x['pop'].sum()).reset_index()\n",
    "df_pop_regions = df_pop_regions.rename(columns={0: 'pop'})\n",
    "\n",
    "\n",
    "# Weighted GDP and population\n",
    "df_gdp_weighted_pop = pd.merge(df_gdp_weighted, df_pop_regions, on = ['region', 'decade'])\n",
    "df_gdp_weighted_pop.to_csv('results/gdp_weighted_pop_fifty.csv', index=False)"
   ]
  },
  {
   "cell_type": "markdown",
   "metadata": {},
   "source": [
    "### Every 10 years"
   ]
  },
  {
   "cell_type": "code",
   "execution_count": 44,
   "metadata": {},
   "outputs": [],
   "source": [
    "df_gdp_pop_regions = pd.merge(df_gdp_population, df_regions_culture, on = ['iso_a3'])\n",
    "df_gdp_pop_regions = df_gdp_pop_regions[df_gdp_pop_regions['region'].isin(keep_regions_list)]\n",
    "\n",
    "df_gdp_weighted = df_gdp_pop_regions.groupby(['region', 'year']).apply(lambda x: (x['gdp_pc'] * x['pop']).sum() / x['pop'].sum())\n",
    "df_gdp_weighted = df_gdp_weighted.reset_index()\n",
    "df_gdp_weighted = df_gdp_weighted.rename(columns={0: 'gdp_pc_weighted'})\n",
    "\n",
    "df_gdp_weighted = df_gdp_weighted[df_gdp_weighted['year']>1]\n",
    "\n",
    "\n",
    "# Step 1: Round the 'year' column to the nearest multiple of 50\n",
    "df_gdp_weighted = df_gdp_weighted[df_gdp_weighted['year']>=1000]\n",
    "df_gdp_weighted = df_gdp_weighted[df_gdp_weighted['year']<=1880]\n",
    "\n",
    "#df_gdp_weighted['decade'] = (df_gdp_weighted['year'] // 50) * 50\n",
    "\n",
    "df_gdp_weighted['decade'] = df_gdp_weighted['year'].apply(lambda x: round(x / 10) * 10)\n",
    "df_gdp_weighted = df_gdp_weighted.groupby(['region', 'decade'])['gdp_pc_weighted'].mean().reset_index()\n",
    "\n",
    "\n",
    "df_gdp_pop_regions['decade'] = df_gdp_pop_regions['year'].apply(lambda x: round(x / 10) * 10)\n",
    "df_gdp_pop_regions = df_gdp_pop_regions.groupby(['region', 'decade'])['pop'].mean().reset_index()\n",
    "\n",
    "# Add population\n",
    "\n",
    "df_pop_regions = df_gdp_pop_regions.groupby(['region', 'decade']).apply(lambda x: x['pop'].sum()).reset_index()\n",
    "df_pop_regions = df_pop_regions.rename(columns={0: 'pop'})\n",
    "\n",
    "\n",
    "# Weighted GDP and population\n",
    "df_gdp_weighted_pop = pd.merge(df_gdp_weighted, df_pop_regions, on = ['region', 'decade'])\n",
    "df_gdp_weighted_pop.to_csv('results/gdp_weighted_pop_decade.csv', index=False)"
   ]
  },
  {
   "cell_type": "markdown",
   "metadata": {},
   "source": [
    "## Display"
   ]
  },
  {
   "cell_type": "code",
   "execution_count": 45,
   "metadata": {},
   "outputs": [
    {
     "data": {
      "image/png": "[encoded data removed]",
      "text/plain": [
       "<Figure size 640x480 with 1 Axes>"
      ]
     },
     "metadata": {},
     "output_type": "display_data"
    }
   ],
   "source": [
    "show = True\n",
    "\n",
    "# Create the directory if it doesn't exist\n",
    "directory = \"gdp_pc_region_fig\"\n",
    "if not os.path.exists(directory):\n",
    "    os.makedirs(directory)\n",
    "    \n",
    "# Assuming your DataFrame is named df_gdp\n",
    "# Group the DataFrame by country_name\n",
    "grouped = df_gdp_weighted.groupby('region')\n",
    "\n",
    "# Plot GDP per capita over time for each country\n",
    "for name, group in grouped:\n",
    "    #plt.scatter(group['decade'], group['gdp_pc_weighted'], s=10)\n",
    "    plt.plot(group['decade'], group['gdp_pc_weighted'])\n",
    "    plt.title(name)\n",
    "    plt.ylabel('Real GDP per capita in 2011$ (Population Weighted Average)')\n",
    "    plt.savefig(os.path.join(directory, f'{name}.png'))\n"
   ]
  },
  {
   "cell_type": "markdown",
   "metadata": {},
   "source": [
    "<!-- ### Load Culture -->"
   ]
  },
  {
   "cell_type": "code",
   "execution_count": 46,
   "metadata": {},
   "outputs": [],
   "source": [
    "# df_culture = pd.read_csv('../unseen_species_model/results/occupation/unseen_data_occupation.csv', index_col=[0])\n",
    "# df_culture = df_culture.drop(columns=['occupation', 'model_type'])\n",
    "# df_culture = df_culture.groupby(['region_name', 'decade']).sum().reset_index()"
   ]
  },
  {
   "cell_type": "markdown",
   "metadata": {},
   "source": [
    "### Reading"
   ]
  },
  {
   "cell_type": "code",
   "execution_count": 47,
   "metadata": {},
   "outputs": [
    {
     "data": {
      "text/plain": [
       "['Korea',\n",
       " 'France',\n",
       " 'Greek World',\n",
       " 'Latin World',\n",
       " 'Nordic countries',\n",
       " 'Balkans',\n",
       " 'Portugal',\n",
       " 'United Kingdom',\n",
       " 'Low countries',\n",
       " 'German world',\n",
       " 'Arabic world',\n",
       " 'Chinese world',\n",
       " 'Japan',\n",
       " 'Eastern Europe',\n",
       " 'Italy',\n",
       " 'Persian world',\n",
       " 'Spain',\n",
       " 'Indian world']"
      ]
     },
     "execution_count": 47,
     "metadata": {},
     "output_type": "execute_result"
    }
   ],
   "source": [
    "import pandas as pd\n",
    "df = pd.read_csv('results/gdp_weighted_pop_decade.csv')\n",
    "df = df[df['decade']>=1800]\n",
    "list(set(df.region))"
   ]
  }
 ],
 "metadata": {
  "kernelspec": {
   "display_name": ".venv",
   "language": "python",
   "name": "python3"
  },
  "language_info": {
   "codemirror_mode": {
    "name": "ipython",
    "version": 3
   },
   "file_extension": ".py",
   "mimetype": "text/x-python",
   "name": "python",
   "nbconvert_exporter": "python",
   "pygments_lexer": "ipython3",
   "version": "3.11.7"
  }
 },
 "nbformat": 4,
 "nbformat_minor": 2
}
