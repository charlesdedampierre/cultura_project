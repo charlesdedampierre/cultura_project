{
 "cells": [
  {
   "cell_type": "code",
   "execution_count": 1,
   "id": "30e202a7-a59f-4efe-9c1c-21c77febe1dc",
   "metadata": {
    "tags": []
   },
   "outputs": [],
   "source": [
    "import sqlite3\n",
    "import pandas as pd\n",
    "import plotly.express as px\n",
    "import sys\n",
    "from plotly.subplots import make_subplots\n",
    "import plotly.graph_objects as go\n",
    "\n",
    "sys.path.append('../')\n",
    "from functions_env import DB_PATH\n",
    "\n",
    "\n",
    "conn = sqlite3.connect(DB_PATH)\n",
    "cursor = conn.cursor()"
   ]
  },
  {
   "cell_type": "code",
   "execution_count": 2,
   "id": "f81c7b5d-a6f5-4851-9df5-1ef041c078c4",
   "metadata": {
    "tags": []
   },
   "outputs": [],
   "source": [
    "df_individuals = pd.read_sql_query(\"SELECT * FROM individuals_main_information\", conn)"
   ]
  },
  {
   "cell_type": "code",
   "execution_count": null,
   "id": "f47322ae-49bc-4a98-862f-9dfe18e0119e",
   "metadata": {},
   "outputs": [],
   "source": [
    " list_data = []\n",
    "    data_art_sci = pd.DataFrame()\n",
    "    for path in paths:\n",
    "        new = pd.read_csv(path, index_col=[0])\n",
    "        list_data.append(new)\n",
    "\n",
    "    data_art_sci = pd.concat([x for x in list_data])"
   ]
  },
  {
   "cell_type": "code",
   "execution_count": 6,
   "id": "817e6b19-2854-40bf-b7f6-bab71515cda4",
   "metadata": {
    "tags": []
   },
   "outputs": [],
   "source": [
    "import glob"
   ]
  },
  {
   "cell_type": "code",
   "execution_count": 11,
   "id": "0ff7af45-abf5-4823-80d1-1ffb9b72a075",
   "metadata": {
    "tags": []
   },
   "outputs": [],
   "source": [
    "data = pd.read_csv('../raw_data/wikidata_data/individual_info/individuals_info_chunk_rest.csv', index_col = [0])"
   ]
  },
  {
   "cell_type": "code",
   "execution_count": null,
   "id": "39db4369-b4b9-42ae-b1ed-ae8023a543e9",
   "metadata": {
    "tags": []
   },
   "outputs": [],
   "source": []
  },
  {
   "cell_type": "code",
   "execution_count": 4,
   "id": "5c11e899-5970-4f7e-8cf2-7b8b40284995",
   "metadata": {
    "tags": []
   },
   "outputs": [],
   "source": [
    "paths = '../raw_data/wikidata_data/individual_info'"
   ]
  },
  {
   "cell_type": "code",
   "execution_count": null,
   "id": "2024505e-e50f-42b1-9eaf-c1be4e871771",
   "metadata": {},
   "outputs": [],
   "source": []
  },
  {
   "cell_type": "code",
   "execution_count": 3,
   "id": "1b2ab973-d9d3-4418-a24b-59ac2f5ee417",
   "metadata": {
    "tags": []
   },
   "outputs": [
    {
     "data": {
      "text/html": [
       "<div>\n",
       "<style scoped>\n",
       "    .dataframe tbody tr th:only-of-type {\n",
       "        vertical-align: middle;\n",
       "    }\n",
       "\n",
       "    .dataframe tbody tr th {\n",
       "        vertical-align: top;\n",
       "    }\n",
       "\n",
       "    .dataframe thead th {\n",
       "        text-align: right;\n",
       "    }\n",
       "</style>\n",
       "<table border=\"1\" class=\"dataframe\">\n",
       "  <thead>\n",
       "    <tr style=\"text-align: right;\">\n",
       "      <th></th>\n",
       "      <th>individual_wikidata_id</th>\n",
       "      <th>individual_name</th>\n",
       "      <th>birthyear</th>\n",
       "      <th>individual_impact_years</th>\n",
       "      <th>country_code</th>\n",
       "      <th>country_name</th>\n",
       "      <th>wikipedia_cultural_score</th>\n",
       "      <th>identifier_score</th>\n",
       "    </tr>\n",
       "  </thead>\n",
       "  <tbody>\n",
       "    <tr>\n",
       "      <th>0</th>\n",
       "      <td>Q77297362</td>\n",
       "      <td>Jean Jacques Morgan</td>\n",
       "      <td>1756.0</td>\n",
       "      <td>1770-1820</td>\n",
       "      <td>fr</td>\n",
       "      <td>France</td>\n",
       "      <td>NaN</td>\n",
       "      <td>1.0</td>\n",
       "    </tr>\n",
       "    <tr>\n",
       "      <th>1</th>\n",
       "      <td>Q6121397</td>\n",
       "      <td>Santos Domínguez y Benguria</td>\n",
       "      <td>1841.0</td>\n",
       "      <td>1850-1900</td>\n",
       "      <td>es</td>\n",
       "      <td>Spain</td>\n",
       "      <td>0.100247</td>\n",
       "      <td>6.0</td>\n",
       "    </tr>\n",
       "    <tr>\n",
       "      <th>2</th>\n",
       "      <td>Q55696859</td>\n",
       "      <td>Albert Lemoine</td>\n",
       "      <td>1824.0</td>\n",
       "      <td>1830-1880</td>\n",
       "      <td>None</td>\n",
       "      <td>None</td>\n",
       "      <td>NaN</td>\n",
       "      <td>26.0</td>\n",
       "    </tr>\n",
       "    <tr>\n",
       "      <th>3</th>\n",
       "      <td>Q861742</td>\n",
       "      <td>Edmond Plumier</td>\n",
       "      <td>1694.0</td>\n",
       "      <td>1700-1750</td>\n",
       "      <td>be</td>\n",
       "      <td>Belgium</td>\n",
       "      <td>0.101501</td>\n",
       "      <td>13.0</td>\n",
       "    </tr>\n",
       "    <tr>\n",
       "      <th>4</th>\n",
       "      <td>Q1611181</td>\n",
       "      <td>Hermann Gebhardt</td>\n",
       "      <td>1824.0</td>\n",
       "      <td>1830-1880</td>\n",
       "      <td>de</td>\n",
       "      <td>Germany</td>\n",
       "      <td>0.100100</td>\n",
       "      <td>10.0</td>\n",
       "    </tr>\n",
       "    <tr>\n",
       "      <th>...</th>\n",
       "      <td>...</td>\n",
       "      <td>...</td>\n",
       "      <td>...</td>\n",
       "      <td>...</td>\n",
       "      <td>...</td>\n",
       "      <td>...</td>\n",
       "      <td>...</td>\n",
       "      <td>...</td>\n",
       "    </tr>\n",
       "    <tr>\n",
       "      <th>220765</th>\n",
       "      <td>Q97948480</td>\n",
       "      <td>Emma Leroux de Lincy</td>\n",
       "      <td>NaN</td>\n",
       "      <td>None</td>\n",
       "      <td>None</td>\n",
       "      <td>None</td>\n",
       "      <td>NaN</td>\n",
       "      <td>7.0</td>\n",
       "    </tr>\n",
       "    <tr>\n",
       "      <th>220766</th>\n",
       "      <td>Q98455990</td>\n",
       "      <td>Sarah McMurray</td>\n",
       "      <td>NaN</td>\n",
       "      <td>None</td>\n",
       "      <td>None</td>\n",
       "      <td>None</td>\n",
       "      <td>NaN</td>\n",
       "      <td>7.0</td>\n",
       "    </tr>\n",
       "    <tr>\n",
       "      <th>220767</th>\n",
       "      <td>Q98755154</td>\n",
       "      <td>Barthélemy Baur</td>\n",
       "      <td>NaN</td>\n",
       "      <td>None</td>\n",
       "      <td>None</td>\n",
       "      <td>None</td>\n",
       "      <td>NaN</td>\n",
       "      <td>8.0</td>\n",
       "    </tr>\n",
       "    <tr>\n",
       "      <th>220768</th>\n",
       "      <td>Q99514831</td>\n",
       "      <td>V. E. Gurliov</td>\n",
       "      <td>NaN</td>\n",
       "      <td>None</td>\n",
       "      <td>None</td>\n",
       "      <td>None</td>\n",
       "      <td>NaN</td>\n",
       "      <td>2.0</td>\n",
       "    </tr>\n",
       "    <tr>\n",
       "      <th>220769</th>\n",
       "      <td>Q99541088</td>\n",
       "      <td>Angelo Tessarin</td>\n",
       "      <td>NaN</td>\n",
       "      <td>None</td>\n",
       "      <td>None</td>\n",
       "      <td>None</td>\n",
       "      <td>NaN</td>\n",
       "      <td>10.0</td>\n",
       "    </tr>\n",
       "  </tbody>\n",
       "</table>\n",
       "<p>220770 rows × 8 columns</p>\n",
       "</div>"
      ],
      "text/plain": [
       "       individual_wikidata_id              individual_name  birthyear  \\\n",
       "0                   Q77297362          Jean Jacques Morgan     1756.0   \n",
       "1                    Q6121397  Santos Domínguez y Benguria     1841.0   \n",
       "2                   Q55696859               Albert Lemoine     1824.0   \n",
       "3                     Q861742               Edmond Plumier     1694.0   \n",
       "4                    Q1611181             Hermann Gebhardt     1824.0   \n",
       "...                       ...                          ...        ...   \n",
       "220765              Q97948480         Emma Leroux de Lincy        NaN   \n",
       "220766              Q98455990               Sarah McMurray        NaN   \n",
       "220767              Q98755154              Barthélemy Baur        NaN   \n",
       "220768              Q99514831                V. E. Gurliov        NaN   \n",
       "220769              Q99541088              Angelo Tessarin        NaN   \n",
       "\n",
       "       individual_impact_years country_code country_name  \\\n",
       "0                    1770-1820           fr       France   \n",
       "1                    1850-1900           es        Spain   \n",
       "2                    1830-1880         None         None   \n",
       "3                    1700-1750           be      Belgium   \n",
       "4                    1830-1880           de      Germany   \n",
       "...                        ...          ...          ...   \n",
       "220765                    None         None         None   \n",
       "220766                    None         None         None   \n",
       "220767                    None         None         None   \n",
       "220768                    None         None         None   \n",
       "220769                    None         None         None   \n",
       "\n",
       "        wikipedia_cultural_score  identifier_score  \n",
       "0                            NaN               1.0  \n",
       "1                       0.100247               6.0  \n",
       "2                            NaN              26.0  \n",
       "3                       0.101501              13.0  \n",
       "4                       0.100100              10.0  \n",
       "...                          ...               ...  \n",
       "220765                       NaN               7.0  \n",
       "220766                       NaN               7.0  \n",
       "220767                       NaN               8.0  \n",
       "220768                       NaN               2.0  \n",
       "220769                       NaN              10.0  \n",
       "\n",
       "[220770 rows x 8 columns]"
      ]
     },
     "execution_count": 3,
     "metadata": {},
     "output_type": "execute_result"
    }
   ],
   "source": [
    "df_individuals"
   ]
  },
  {
   "cell_type": "code",
   "execution_count": null,
   "id": "2d10ffa1-5019-4e53-90bb-055630b3f0e9",
   "metadata": {},
   "outputs": [],
   "source": []
  }
 ],
 "metadata": {
  "kernelspec": {
   "display_name": "Python 3 (ipykernel)",
   "language": "python",
   "name": "python3"
  },
  "language_info": {
   "codemirror_mode": {
    "name": "ipython",
    "version": 3
   },
   "file_extension": ".py",
   "mimetype": "text/x-python",
   "name": "python",
   "nbconvert_exporter": "python",
   "pygments_lexer": "ipython3",
   "version": "3.8.18"
  }
 },
 "nbformat": 4,
 "nbformat_minor": 5
}
