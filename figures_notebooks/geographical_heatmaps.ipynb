{
 "cells": [
  {
   "cell_type": "code",
   "execution_count": 147,
   "metadata": {},
   "outputs": [],
   "source": [
    "import sqlite3\n",
    "import pandas as pd\n",
    "import plotly.express as px\n",
    "import sys\n",
    "import plotly.graph_objects as go\n",
    "\n",
    "sys.path.append('../')\n",
    "from functions_env import DB_PATH\n",
    "\n",
    "\n",
    "conn = sqlite3.connect(DB_PATH)\n",
    "cursor = conn.cursor()\n",
    "\n",
    "import io\n",
    "\n",
    "import folium\n",
    "from PIL import Image, ImageDraw, ImageFont"
   ]
  },
  {
   "cell_type": "code",
   "execution_count": 148,
   "metadata": {},
   "outputs": [],
   "source": [
    "df_deathcity = pd.read_csv('/Users/charlesdedampierre/Desktop/cultura_project/raw_data/wikidata_data/deathcity_location.csv')\n",
    "df_deathcity = df_deathcity[['deathcity_wiki_id', 'location']]\n",
    "df_deathcity = df_deathcity.dropna()\n",
    "df_deathcity  = df_deathcity[df_deathcity['location'].str.contains('Point')]\n",
    "df_deathcity['city_longitude'] = df_deathcity['location'].apply(lambda x: x.split(' ')[0].split('(')[1]).astype(float)\n",
    "df_deathcity['city_latitude'] = df_deathcity['location'].apply(lambda x: x.split(' ')[1].split(')')[0]).astype(float)\n",
    "df_deathcity = df_deathcity.drop('location', axis=1)\n",
    "df_deathcity = df_deathcity.rename(columns={'deathcity_wiki_id':'deathcity_wikidata_id'})\n",
    "\n",
    "df_ind_deathcity = pd.read_sql_query(\"SELECT * FROM individual_deathcity\", conn)\n",
    "df_ind_regions = pd.read_sql_query(\"SELECT * FROM individuals_regions\", conn)\n",
    "df_fin_deathcity = pd.merge(df_deathcity, df_ind_deathcity, on = 'deathcity_wikidata_id')\n",
    "\n",
    "\n",
    "df_year = pd.read_sql_query(\"SELECT * FROM individuals_main_information\", conn)\n",
    "df_year['productive_year'] = df_year['birthyear'] + 35\n",
    "df_year = df_year[['individual_wikidata_id', 'productive_year']]\n",
    "df_year = df_year.dropna()\n",
    "df_year['decade'] = df_year['productive_year'].apply(lambda x: round(x / 10) * 10)\n",
    "\n",
    "df_region = pd.merge(df_ind_regions, df_year)"
   ]
  },
  {
   "cell_type": "code",
   "execution_count": 159,
   "id": "4a5ed56f",
   "metadata": {},
   "outputs": [],
   "source": [
    "def make_picture(df_region, \n",
    "                 re_region = 'Chinese world',\n",
    "                 min_date= 1400,\n",
    "                 max_date = 1850, \n",
    "                 min_opacity = 0.9,\n",
    "                 blur = 11, \n",
    "                 radius = 10, \n",
    "                 text_position = (320, 40), \n",
    "                 left_padding =  0.15, \n",
    "                 right_padding = 0.3,\n",
    "                 zoom_start = 4.4,\n",
    "                 image_text = None):\n",
    "\n",
    "    df_map =df_region[df_region['region_name']==re_region]\n",
    "    df_map = df_map[(df_map['decade']>=min_date)&(df_map['decade']<=max_date)]\n",
    "\n",
    "    df_map = pd.merge(df_map, df_fin_deathcity, on = 'individual_wikidata_id')\n",
    "    data_loc = df_map.groupby(['city_latitude', 'city_longitude'])['individual_wikidata_id'].count().reset_index()\n",
    "    m = folium.Map(location=data_loc[['city_latitude', 'city_longitude']].mean().to_list(), zoom_start=zoom_start)\n",
    "    heat_data = [[row['city_latitude'], row['city_longitude']] for index, row in data_loc.iterrows()]\n",
    "    HeatMap(heat_data, min_opacity=min_opacity, blur=blur, radius=radius).add_to(m)\n",
    "\n",
    "    img_data = m._to_png(2)\n",
    "    img = Image.open(io.BytesIO(img_data))\n",
    "\n",
    "    # Crop on the right side\n",
    "    right = int(img.width * right_padding)  # Adjust this value to control the amount to crop on the right side\n",
    "    left = int(img.width * left_padding)  # Adjust this value to control the amount to crop on the left side\n",
    "    top = 0\n",
    "    width = img.width - right - left\n",
    "    height = img.height\n",
    "\n",
    "    cropped_img = img.crop((left, top, left + width, top + height))\n",
    "    draw = ImageDraw.Draw(cropped_img)\n",
    "    font = ImageFont.truetype(\"FreeMono.ttf\", 70)  # You can specify the font file and size\n",
    "\n",
    "\n",
    "    if image_text is None:\n",
    "        # Define the text and position\n",
    "        text = str(min_date) +'-'+str(max_date)\n",
    "    else:\n",
    "        text = image_text\n",
    "\n",
    "    position = text_position  # X and Y coordinates where you want to place the text\n",
    "    # Define the text color\n",
    "    text_color = (0, 0, 0)  # RGB color (white in this example)\n",
    "\n",
    "    # Add the text to the image\n",
    "    draw.text(position, text, fill=text_color, font=font)\n",
    "    cropped_img.save(f\"figures/new_maps/{re_region}_{text}.png\")"
   ]
  },
  {
   "cell_type": "markdown",
   "id": "93667ea7",
   "metadata": {},
   "source": [
    "## Chinese World"
   ]
  },
  {
   "cell_type": "code",
   "execution_count": 161,
   "id": "d61476fb",
   "metadata": {},
   "outputs": [],
   "source": [
    "make_picture(df_region, \n",
    "                 re_region = 'Chinese world',\n",
    "                 min_date= -500,\n",
    "                 max_date = 960, \n",
    "                 min_opacity = 0.9,\n",
    "                 blur = 11, \n",
    "                 radius = 10, \n",
    "                 text_position = (320, 40), \n",
    "                 left_padding =  0.15, \n",
    "                 right_padding = 0.3,\n",
    "                 image_text = '500BC-960',\n",
    "                 zoom_start=4.4\n",
    "                 )"
   ]
  },
  {
   "cell_type": "code",
   "execution_count": 162,
   "id": "acb9d90c",
   "metadata": {},
   "outputs": [],
   "source": [
    "make_picture(df_region, \n",
    "                 re_region = 'Chinese world',\n",
    "                 min_date= 960,\n",
    "                 max_date = 1368, \n",
    "                 min_opacity = 0.9,\n",
    "                 blur = 11, \n",
    "                 radius = 10, \n",
    "                 text_position = (320, 40), \n",
    "                 left_padding =  0.15, \n",
    "                 right_padding = 0.3,\n",
    "                zoom_start = 4.4)"
   ]
  },
  {
   "cell_type": "code",
   "execution_count": 192,
   "id": "63a19588",
   "metadata": {},
   "outputs": [],
   "source": [
    "make_picture(df_region, \n",
    "                 re_region = 'Chinese world',\n",
    "                 min_date= 1368,\n",
    "                 max_date = 1850, \n",
    "                 min_opacity = 0.9,\n",
    "                 blur = 11, \n",
    "                 radius = 10, \n",
    "                 text_position = (320, 40), \n",
    "                 left_padding =  0.15, \n",
    "                 right_padding = 0.3,\n",
    "                  zoom_start = 4.4)"
   ]
  },
  {
   "cell_type": "markdown",
   "id": "4e92b926",
   "metadata": {},
   "source": [
    "## Western Europe"
   ]
  },
  {
   "cell_type": "code",
   "execution_count": 202,
   "id": "6db9e721",
   "metadata": {},
   "outputs": [],
   "source": [
    "make_picture(df_region, \n",
    "                 re_region = 'Western Europe',\n",
    "                 min_date= -800,\n",
    "                 max_date = 1200, \n",
    "                 min_opacity = 0.5,\n",
    "                 blur = 4, \n",
    "                 radius = 5, \n",
    "                 text_position = (320, 40), \n",
    "                 left_padding =  0.3, \n",
    "                 right_padding = 0.15,\n",
    "                 image_text='800BC-1200',\n",
    "                zoom_start = 4.2)"
   ]
  },
  {
   "cell_type": "code",
   "execution_count": 198,
   "id": "f05af18f",
   "metadata": {},
   "outputs": [],
   "source": [
    "make_picture(df_region, \n",
    "                 re_region = 'Western Europe',\n",
    "                 min_date= 1200,\n",
    "                 max_date = 1850, \n",
    "                 min_opacity = 1,\n",
    "                 blur = 4, \n",
    "                 radius = 2, \n",
    "                 text_position = (320, 40), \n",
    "                 left_padding =  0.3, \n",
    "                 right_padding = 0.15,\n",
    "                zoom_start = 4)"
   ]
  },
  {
   "cell_type": "markdown",
   "id": "8d0591f3",
   "metadata": {},
   "source": [
    "## Japan"
   ]
  },
  {
   "cell_type": "code",
   "execution_count": 216,
   "id": "9790f2b2",
   "metadata": {},
   "outputs": [],
   "source": [
    "make_picture(df_region, \n",
    "                 re_region = 'Japan',\n",
    "                 min_date= 0,\n",
    "                 max_date = 1185, \n",
    "                 min_opacity = 0.5,\n",
    "                 blur = 8, \n",
    "                 radius = 12, \n",
    "                 text_position = (320, 40), \n",
    "                 left_padding =  0.3, \n",
    "                 right_padding = 0.15,\n",
    "                zoom_start = 5.2)"
   ]
  },
  {
   "cell_type": "code",
   "execution_count": 217,
   "id": "78538ec6",
   "metadata": {},
   "outputs": [],
   "source": [
    "make_picture(df_region, \n",
    "                 re_region = 'Japan',\n",
    "                 min_date= 1185,\n",
    "                 max_date = 1850, \n",
    "                min_opacity = 0.8,\n",
    "                 blur = 4, \n",
    "                 radius = 5,\n",
    "                 text_position = (320, 40), \n",
    "                 left_padding =  0.3, \n",
    "                 right_padding = 0.15,\n",
    "                zoom_start = 5.2)"
   ]
  },
  {
   "cell_type": "code",
   "execution_count": null,
   "id": "07c73de4",
   "metadata": {},
   "outputs": [],
   "source": []
  },
  {
   "cell_type": "code",
   "execution_count": 153,
   "metadata": {},
   "outputs": [
    {
     "data": {
      "text/plain": [
       "\"from ipyleaflet import Map, Heatmap\\nre_region = 'Chinese world'\\nmin_date= 1400\\nmax_date = 1850\\ndf_region = pd.merge(df_ind_regions, df_year)\\n\\ndf_map =df_region[df_region['region_name']==re_region]\\ndf_map = df_map[(df_map['decade']>=min_date)&(df_map['decade']<=max_date)]\\n\\ndf_map = pd.merge(df_map, df_fin_deathcity, on = 'individual_wikidata_id')\\ndata_loc = df_map.groupby(['city_latitude', 'city_longitude'])['individual_wikidata_id'].count().reset_index()\\n\\nlatitudes = data_loc['city_latitude'].values\\nlongitudes = data_loc['city_longitude'].values\\ncount = data_loc['individual_wikidata_id'].values\\n\\nmin_opacity = 0.7\\nblur = 12\\nradius = 10\\nzoom = 4\\n\\nm = Map(center= data_loc[['city_latitude', 'city_longitude']].mean().to_list(), zoom=zoom)\\n#m = Map(zoom=3)\\n\\nheatmap = Heatmap(locations=[[latitudes[i], longitudes[i], count[i]] for i in range(len(data_loc))],\\n                  radius=radius, min_opacity=min_opacity, blur=blur)\\n\\nm.add_layer(heatmap)\\nm\""
      ]
     },
     "execution_count": 153,
     "metadata": {},
     "output_type": "execute_result"
    }
   ],
   "source": [
    "\"\"\"from ipyleaflet import Map, Heatmap\n",
    "re_region = 'Chinese world'\n",
    "min_date= 1400\n",
    "max_date = 1850\n",
    "df_region = pd.merge(df_ind_regions, df_year)\n",
    "\n",
    "df_map =df_region[df_region['region_name']==re_region]\n",
    "df_map = df_map[(df_map['decade']>=min_date)&(df_map['decade']<=max_date)]\n",
    "\n",
    "df_map = pd.merge(df_map, df_fin_deathcity, on = 'individual_wikidata_id')\n",
    "data_loc = df_map.groupby(['city_latitude', 'city_longitude'])['individual_wikidata_id'].count().reset_index()\n",
    "\n",
    "latitudes = data_loc['city_latitude'].values\n",
    "longitudes = data_loc['city_longitude'].values\n",
    "count = data_loc['individual_wikidata_id'].values\n",
    "\n",
    "min_opacity = 0.7\n",
    "blur = 12\n",
    "radius = 10\n",
    "zoom = 4\n",
    "\n",
    "m = Map(center= data_loc[['city_latitude', 'city_longitude']].mean().to_list(), zoom=zoom)\n",
    "#m = Map(zoom=3)\n",
    "\n",
    "heatmap = Heatmap(locations=[[latitudes[i], longitudes[i], count[i]] for i in range(len(data_loc))],\n",
    "                  radius=radius, min_opacity=min_opacity, blur=blur)\n",
    "\n",
    "m.add_layer(heatmap)\n",
    "m\"\"\""
   ]
  },
  {
   "cell_type": "code",
   "execution_count": null,
   "id": "6c4c3ad8-731a-477b-af6e-eb048476b667",
   "metadata": {},
   "outputs": [],
   "source": []
  }
 ],
 "metadata": {
  "kernelspec": {
   "display_name": ".venv",
   "language": "python",
   "name": "python3"
  },
  "language_info": {
   "codemirror_mode": {
    "name": "ipython",
    "version": 3
   },
   "file_extension": ".py",
   "mimetype": "text/x-python",
   "name": "python",
   "nbconvert_exporter": "python",
   "pygments_lexer": "ipython3",
   "version": "3.11.5"
  }
 },
 "nbformat": 4,
 "nbformat_minor": 5
}
