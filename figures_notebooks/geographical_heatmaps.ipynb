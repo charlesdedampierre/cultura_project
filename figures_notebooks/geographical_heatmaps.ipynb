{
 "cells": [
  {
   "cell_type": "code",
   "execution_count": 1,
   "id": "3df52662-cc87-4867-8adf-a43b31d26fbf",
   "metadata": {},
   "outputs": [],
   "source": [
    "import sys\n",
    "from tqdm import tqdm\n",
    "\n",
    "import warnings\n",
    "warnings.simplefilter(action='ignore', category=FutureWarning)\n",
    "\n",
    "import pandas as pd\n",
    "import numpy as np\n",
    "\n",
    "import itertools\n",
    "\n",
    "sys.path.append('../')\n",
    "\n",
    "from sys_utils import load_model\n",
    "from data_model_region import Region\n",
    "from data_model import Individual\n",
    "import typing as t\n",
    "import random\n",
    "from tqdm import tqdm"
   ]
  },
  {
   "cell_type": "code",
   "execution_count": 2,
   "id": "b2903f96-366b-491e-aeca-ad9947083730",
   "metadata": {},
   "outputs": [],
   "source": [
    "checkpoint_path = '../checkpoints_dev'\n",
    "\n",
    "regions = load_model(\n",
    "        Region, name=checkpoint_path+\"/regions.jsonl\"\n",
    "    )\n",
    "\n",
    "individuals = load_model(\n",
    "        Individual, name=checkpoint_path + \"/individuals.jsonl\"\n",
    "    )"
   ]
  },
  {
   "cell_type": "code",
   "execution_count": 13,
   "id": "6208b0d7-a6c4-4a5b-b161-0a7182e7e352",
   "metadata": {},
   "outputs": [],
   "source": [
    "individuals_filtered = [x for x in individuals if x.regions != None]\n",
    "individuals_filtered = [x for x in individuals_filtered if x.id.raw_birthcities != None]\n"
   ]
  },
  {
   "cell_type": "code",
   "execution_count": null,
   "id": "e0b5ead6-54d4-486e-8b95-204a0e19b5bb",
   "metadata": {},
   "outputs": [],
   "source": []
  },
  {
   "cell_type": "code",
   "execution_count": 76,
   "id": "1c3f615b-ab85-494e-85af-c7d5e6cf569a",
   "metadata": {},
   "outputs": [],
   "source": [
    "df_individuals = [\n",
    "    {\n",
    "        \"wikidata_id\": x.id.wikidata_id,\n",
    "        \"identifier\":[y.location for y in x.id.raw_birthcities],\n",
    "        \"region_code\": x.regions,\n",
    "         \"range_impact\": x.impact_years,\n",
    "        'cultural_score': x.cultural_score\n",
    "    }\n",
    "    for x in individuals_filtered\n",
    "]\n",
    "\n",
    "df_individuals = pd.DataFrame(df_individuals)"
   ]
  },
  {
   "cell_type": "code",
   "execution_count": null,
   "id": "b6cbefc8-65b9-4410-9a57-9cde66f55cdc",
   "metadata": {},
   "outputs": [],
   "source": [
    "df_region = df_individuals.explode('region_code')\n"
   ]
  },
  {
   "cell_type": "code",
   "execution_count": null,
   "id": "f4c183a6-57a1-4c46-a867-7b48901af22e",
   "metadata": {},
   "outputs": [],
   "source": []
  },
  {
   "cell_type": "code",
   "execution_count": 77,
   "id": "e9c1fc10-13dc-4aa2-a235-398d6ada40b2",
   "metadata": {},
   "outputs": [],
   "source": [
    "re_region = 're_japan'\n",
    "min_date= 700\n",
    "max_date = 1400"
   ]
  },
  {
   "cell_type": "code",
   "execution_count": null,
   "id": "197d49ea-2023-4d74-8e9d-46ae312f75fa",
   "metadata": {},
   "outputs": [],
   "source": []
  },
  {
   "cell_type": "code",
   "execution_count": 99,
   "id": "53e64ac0-377a-458b-8bb8-f99fd0e4ec88",
   "metadata": {},
   "outputs": [],
   "source": [
    "\n",
    "df_map = df_region[df_region['region_code']==re_region]\n",
    "df_map = df_map.explode('identifier')\n",
    "df_map = df_map.drop_duplicates('wikidata_id', keep = 'first').reset_index(drop=True)\n",
    "df_map = df_map[df_map['identifier']!='nan'].reset_index(drop=True)\n",
    "\n",
    "\n",
    "df_map['city_longitude'] = df_map['identifier'].apply(lambda x: x.split(' ')[0].split('(')[1]).astype(float)\n",
    "df_map['city_latitude'] = df_map['identifier'].apply(lambda x: x.split(' ')[1].split(')')[0]).astype(float)\n",
    "\n",
    "df_map[\"year\"] = df_map[\"range_impact\"].apply(\n",
    "        lambda x: [year for year in range(int(x[0]), int(x[1]) + 10, 10)]\n",
    "    )\n",
    "df_map = df_map.explode(\"year\")"
   ]
  },
  {
   "cell_type": "code",
   "execution_count": 110,
   "id": "ac205c00-eec3-46a0-a336-860eb5912364",
   "metadata": {},
   "outputs": [],
   "source": [
    "df_map = df_map[(df_map['year']>=min_date)&(df_map['year']<=max_date)]\n"
   ]
  },
  {
   "cell_type": "code",
   "execution_count": 111,
   "id": "128efba5-27d8-44fe-8def-62b552f053d5",
   "metadata": {},
   "outputs": [],
   "source": [
    "df_map.to_csv('maps/df_map.csv')"
   ]
  },
  {
   "cell_type": "code",
   "execution_count": 100,
   "id": "f60c9413-9d1d-46cd-bcf3-72a3c5755625",
   "metadata": {},
   "outputs": [],
   "source": [
    "\n",
    "data_loc = df_map.groupby(['city_latitude', 'city_longitude'])['cultural_score'].sum().reset_index()\n",
    "\n",
    "latitudes = data_loc['city_latitude'].values\n",
    "longitudes = data_loc['city_longitude'].values\n",
    "count = data_loc['cultural_score'].values"
   ]
  },
  {
   "cell_type": "code",
   "execution_count": null,
   "id": "a95fd403-1172-4c95-b32c-7143c659233a",
   "metadata": {},
   "outputs": [],
   "source": []
  },
  {
   "cell_type": "code",
   "execution_count": 101,
   "id": "40aac738-3033-4d87-b1a8-dc096c720bef",
   "metadata": {},
   "outputs": [],
   "source": [
    "min_opacity = 0.7\n",
    "blur = 12\n",
    "radius = 8\n",
    "zoom = 4"
   ]
  },
  {
   "cell_type": "code",
   "execution_count": 112,
   "id": "c7e5180a-006d-4a17-8437-a099aeb2bf63",
   "metadata": {},
   "outputs": [],
   "source": [
    "from ipyleaflet import Map, Heatmap\n"
   ]
  },
  {
   "cell_type": "code",
   "execution_count": 102,
   "id": "148a0bb2-d2c4-4286-a606-7adfb00f9e6b",
   "metadata": {},
   "outputs": [],
   "source": [
    "m = Map(center= data_loc[['city_latitude', 'city_longitude']].mean().to_list(), zoom=zoom)\n",
    "#m = Map(zoom=3)\n",
    "\n",
    "heatmap = Heatmap(locations=[[latitudes[i], longitudes[i], count[i]] for i in range(len(data_loc))],\n",
    "                  radius=radius, min_opacity=min_opacity, blur=blur)\n",
    "\n",
    "m.add_layer(heatmap)"
   ]
  },
  {
   "cell_type": "code",
   "execution_count": null,
   "id": "58e46498-6ea1-41e0-8071-cd8912b413d5",
   "metadata": {},
   "outputs": [],
   "source": []
  },
  {
   "cell_type": "code",
   "execution_count": null,
   "id": "d4f19192-8dfa-497e-a993-d2c7bb190410",
   "metadata": {},
   "outputs": [],
   "source": []
  },
  {
   "cell_type": "code",
   "execution_count": null,
   "id": "2816e801-c90d-4f67-a32a-4fb892ea1354",
   "metadata": {},
   "outputs": [],
   "source": []
  },
  {
   "cell_type": "code",
   "execution_count": null,
   "id": "0d556872-fdc2-4985-9ae5-060685ebfdce",
   "metadata": {},
   "outputs": [],
   "source": []
  },
  {
   "cell_type": "code",
   "execution_count": null,
   "id": "6c4c3ad8-731a-477b-af6e-eb048476b667",
   "metadata": {},
   "outputs": [],
   "source": []
  }
 ],
 "metadata": {
  "kernelspec": {
   "display_name": "Python 3 (ipykernel)",
   "language": "python",
   "name": "python3"
  },
  "language_info": {
   "codemirror_mode": {
    "name": "ipython",
    "version": 3
   },
   "file_extension": ".py",
   "mimetype": "text/x-python",
   "name": "python",
   "nbconvert_exporter": "python",
   "pygments_lexer": "ipython3",
   "version": "3.8.18"
  }
 },
 "nbformat": 4,
 "nbformat_minor": 5
}
