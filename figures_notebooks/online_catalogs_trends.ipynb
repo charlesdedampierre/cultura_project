{
 "cells": [
  {
   "cell_type": "code",
   "execution_count": 1,
   "id": "cc1436b3-f7be-4e65-9857-acc83c112b1a",
   "metadata": {
    "tags": []
   },
   "outputs": [],
   "source": [
    "import sqlite3\n",
    "import pandas as pd\n",
    "import plotly.express as px\n",
    "import sys\n",
    "from plotly.subplots import make_subplots\n",
    "import plotly.graph_objects as go\n",
    "\n",
    "sys.path.append('../')\n",
    "from functions_env import DB_PATH\n",
    "\n",
    "\n",
    "conn = sqlite3.connect(DB_PATH)\n",
    "cursor = conn.cursor()"
   ]
  },
  {
   "cell_type": "code",
   "execution_count": 2,
   "id": "43c061e9-e48a-48df-8fd3-ca78fc346a36",
   "metadata": {
    "tags": []
   },
   "outputs": [],
   "source": [
    "# Load individuals Main Informations\n",
    "df_individual = pd.read_sql_query(\"SELECT * FROM individuals_main_information\", conn)\n",
    "df_individual = df_individual[['individual_wikidata_id', 'birthyear']]\n",
    "\n",
    "df_individual = df_individual[~df_individual['birthyear'].isna()]\n",
    "df_individual['decade'] = df_individual['birthyear'].apply(lambda x : int(x/10)*10)"
   ]
  },
  {
   "cell_type": "code",
   "execution_count": 3,
   "id": "dc80a4ad-a7a2-494b-98ce-47d91af3e71d",
   "metadata": {
    "tags": []
   },
   "outputs": [
    {
     "name": "stderr",
     "output_type": "stream",
     "text": [
      "/var/folders/lx/9b13r6ln63jb54_3xlf9b_380000gn/T/ipykernel_7150/808557147.py:7: SettingWithCopyWarning: \n",
      "A value is trying to be set on a copy of a slice from a DataFrame\n",
      "\n",
      "See the caveats in the documentation: https://pandas.pydata.org/pandas-docs/stable/user_guide/indexing.html#returning-a-view-versus-a-copy\n",
      "  df_identifiers['country_name'][df_identifiers['country_name'].isna()]=''\n"
     ]
    }
   ],
   "source": [
    "# Load invividuals Regions\n",
    "df_individual_region = pd.read_sql_query(\"SELECT * FROM individuals_regions\", conn)\n",
    "df_individual_region = df_individual_region[['individual_wikidata_id', 'region_name']].drop_duplicates()\n",
    "\n",
    "# Load identifiers meta-data\n",
    "df_identifiers = pd.read_sql_query(\"SELECT * FROM identifiers\", conn)\n",
    "df_identifiers['country_name'][df_identifiers['country_name'].isna()]=''\n",
    "df_identifiers['identifier_name'] = df_identifiers.apply(lambda x : x['identifier_name'] + ' ('  + x['country_name'] + ')' if x['country_name']!='' else x['identifier_name'], axis=1)\n",
    "df_identifiers = df_identifiers.drop(['country_wikidata_id', 'count_records', 'identifier_url'], axis=1).drop_duplicates()\n",
    "df_identifiers = df_identifiers.drop(['country_name', 'identifier_name_country'], axis=1).drop_duplicates()\n"
   ]
  },
  {
   "cell_type": "code",
   "execution_count": null,
   "id": "d19fb836-5daa-4869-a078-5d6dbdbc60fd",
   "metadata": {
    "tags": []
   },
   "outputs": [],
   "source": []
  },
  {
   "cell_type": "code",
   "execution_count": 4,
   "id": "7b8b00f2-f0ca-4555-9e62-c834b9f41729",
   "metadata": {
    "tags": []
   },
   "outputs": [],
   "source": [
    "\n",
    "#df_country =  pd.read_sql_query(\"SELECT * FROM country_continent\", conn)\n",
    "#df_country = df_country[['country_name', 'continent_name']]\n",
    "#df_country = df_country.drop_duplicates('country_name', keep='first')\n",
    "#df_identifiers = pd.merge(df_identifiers, df_country, on = 'country_name', how = 'left')\n",
    "\n"
   ]
  },
  {
   "cell_type": "code",
   "execution_count": 5,
   "id": "33b92b28-a6c4-4588-bdd8-0d728b8ed37a",
   "metadata": {
    "tags": []
   },
   "outputs": [],
   "source": [
    "# Load infirmation about individuals and identifiers\n",
    "df_ind_identifiers = pd.read_sql_query(\"SELECT * FROM individual_identifiers\", conn)\n",
    "df_ind_identifiers = df_ind_identifiers.drop('identifier_name', axis=1)\n",
    "df_ind_identifiers = pd.merge(df_ind_identifiers, df_identifiers, on = 'identifiers_wikidata_id', how = 'left')\n",
    "\n",
    "# Freebase is now mixed with Google ID\n",
    "df_ind_identifiers['identifier_name'][df_ind_identifiers['identifier_name']=='Freebase ID'] = 'Google Knowledge Graph ID'\n",
    "df_ind_identifiers['identifiers_wikidata_id'][df_ind_identifiers['identifiers_wikidata_id']=='P646'] = 'P2671'\n",
    "\n",
    "# Mix the two GND\n",
    "df_ind_identifiers['identifier_name'][df_ind_identifiers['identifier_name']=='Deutsche Biographie (GND) ID (Germany)'] = 'GND ID (Germany)'\n",
    "df_ind_identifiers['identifiers_wikidata_id'][df_ind_identifiers['identifiers_wikidata_id']=='P7902'] = 'P227'\n",
    "\n",
    "# Clean wrong objects\n",
    "df_ind_identifiers = df_ind_identifiers[~df_ind_identifiers['individual_name'].str.contains('Painter')]\n",
    "\n",
    "# Remove superceded\n",
    "df_ind_identifiers = df_ind_identifiers[~df_ind_identifiers['identifier_name'].str.contains('superceded')]\n",
    "df_ind_identifiers = df_ind_identifiers[~df_ind_identifiers['identifier_name'].str.contains('obsolete')]\n",
    "\n",
    "# Drop duplicated after mergeing GND and Freebase\n",
    "df_ind_identifiers = df_ind_identifiers.drop_duplicates()"
   ]
  },
  {
   "cell_type": "code",
   "execution_count": 6,
   "id": "30038917-7d95-40d8-8b7f-31398d07d7c5",
   "metadata": {
    "tags": []
   },
   "outputs": [],
   "source": [
    "# Merge everything\n",
    "\n",
    "df_final = pd.merge(df_individual, df_ind_identifiers, on = 'individual_wikidata_id')\n",
    "df_final = pd.merge(df_final, df_individual_region, on = 'individual_wikidata_id')"
   ]
  },
  {
   "cell_type": "code",
   "execution_count": 7,
   "id": "bcc39e0d-e599-40ce-8618-90d15d80a318",
   "metadata": {
    "tags": []
   },
   "outputs": [
    {
     "name": "stderr",
     "output_type": "stream",
     "text": [
      "/var/folders/lx/9b13r6ln63jb54_3xlf9b_380000gn/T/ipykernel_7150/1539816987.py:6: SettingWithCopyWarning: \n",
      "A value is trying to be set on a copy of a slice from a DataFrame\n",
      "\n",
      "See the caveats in the documentation: https://pandas.pydata.org/pandas-docs/stable/user_guide/indexing.html#returning-a-view-versus-a-copy\n",
      "  df_country_id['country_name'][df_country_id['country_name'].isna()]=''\n"
     ]
    }
   ],
   "source": [
    "df_fig = df_final[['individual_wikidata_id', 'decade', 'identifier_name', 'region_name']]\n",
    "df_fig = df_fig.groupby(['identifier_name', 'region_name', 'decade'])['individual_wikidata_id'].count().rename(\"score\").reset_index()\n",
    "\n",
    "\n",
    "df_country_id = pd.read_sql_query(\"SELECT * FROM identifiers\", conn)\n",
    "df_country_id['country_name'][df_country_id['country_name'].isna()]=''\n",
    "df_country_id['identifier_name'] = df_country_id.apply(lambda x : x['identifier_name'] + ' ('  + x['country_name'] + ')' if x['country_name']!='' else x['identifier_name'], axis=1)\n",
    "df_country_id = df_country_id[['identifier_name', 'country_name']].drop_duplicates()\n",
    "\n",
    "df_fig = pd.merge(df_fig, df_country_id, on = 'identifier_name')\n"
   ]
  },
  {
   "cell_type": "code",
   "execution_count": null,
   "id": "0b4bfa47-f28f-4aba-95f1-f22d0215760b",
   "metadata": {
    "tags": []
   },
   "outputs": [],
   "source": []
  },
  {
   "cell_type": "code",
   "execution_count": 19,
   "id": "183f3769-7738-4dff-89ac-f7844bc4f548",
   "metadata": {
    "tags": []
   },
   "outputs": [
    {
     "data": {
      "application/vnd.plotly.v1+json": {
       "config": {
        "plotlyServerURL": "https://plot.ly"
       },
       "data": [
        {
         "hovertemplate": "identifier_name=GND ID (Germany)<br>decade=%{x}<br>score=%{y}<extra></extra>",
         "legendgroup": "GND ID (Germany)",
         "line": {
          "color": "#1F77B4",
          "dash": "solid",
          "shape": "spline"
         },
         "marker": {
          "symbol": "circle"
         },
         "mode": "lines",
         "name": "GND ID (Germany)",
         "opacity": 0.25,
         "orientation": "v",
         "showlegend": true,
         "type": "scatter",
         "x": [
          -300,
          -250,
          -200,
          -150,
          -100,
          -50,
          0,
          50,
          100,
          150,
          200,
          250,
          300,
          350,
          400,
          450,
          500
         ],
         "xaxis": "x",
         "y": [
          1,
          7,
          17,
          21,
          37,
          41,
          14,
          16,
          19,
          11,
          18,
          13,
          13,
          15,
          29,
          1,
          6
         ],
         "yaxis": "y"
        },
        {
         "hovertemplate": "identifier_name=CIRIS author ID (France)<br>decade=%{x}<br>score=%{y}<extra></extra>",
         "legendgroup": "CIRIS author ID (France)",
         "line": {
          "color": "#FF7F0E",
          "dash": "solid",
          "shape": "spline"
         },
         "marker": {
          "symbol": "circle"
         },
         "mode": "lines",
         "name": "CIRIS author ID (France)",
         "opacity": 0.25,
         "orientation": "v",
         "showlegend": true,
         "type": "scatter",
         "x": [
          -300,
          -250,
          -200,
          -150,
          -100,
          -50,
          0,
          50,
          100,
          150,
          200,
          250,
          300,
          350,
          400,
          450,
          500
         ],
         "xaxis": "x",
         "y": [
          1,
          6,
          15,
          19,
          35,
          35,
          9,
          14,
          18,
          11,
          16,
          13,
          12,
          13,
          27,
          1,
          6
         ],
         "yaxis": "y"
        },
        {
         "hovertemplate": "identifier_name=Library of Congress authority ID (United States of America)<br>decade=%{x}<br>score=%{y}<extra></extra>",
         "legendgroup": "Library of Congress authority ID (United States of America)",
         "line": {
          "color": "#2CA02C",
          "dash": "solid",
          "shape": "spline"
         },
         "marker": {
          "symbol": "circle"
         },
         "mode": "lines",
         "name": "Library of Congress authority ID (United States of America)",
         "opacity": 0.25,
         "orientation": "v",
         "showlegend": true,
         "type": "scatter",
         "x": [
          -300,
          -250,
          -200,
          -150,
          -100,
          -50,
          0,
          50,
          100,
          150,
          200,
          250,
          300,
          350,
          400,
          450,
          500
         ],
         "xaxis": "x",
         "y": [
          1,
          7,
          14,
          19,
          32,
          32,
          12,
          12,
          18,
          10,
          14,
          10,
          10,
          15,
          26,
          1,
          6
         ],
         "yaxis": "y"
        },
        {
         "hovertemplate": "identifier_name=Treccani ID (Italy)<br>decade=%{x}<br>score=%{y}<extra></extra>",
         "legendgroup": "Treccani ID (Italy)",
         "line": {
          "color": "#D62728",
          "dash": "solid",
          "shape": "spline"
         },
         "marker": {
          "symbol": "circle"
         },
         "mode": "lines",
         "name": "Treccani ID (Italy)",
         "opacity": 0.25,
         "orientation": "v",
         "showlegend": true,
         "type": "scatter",
         "x": [
          -300,
          -250,
          -200,
          -150,
          -100,
          -50,
          0,
          50,
          100,
          150,
          200,
          250,
          300,
          350,
          400,
          450,
          500
         ],
         "xaxis": "x",
         "y": [
          1,
          7,
          10,
          16,
          37,
          26,
          11,
          10,
          13,
          7,
          12,
          8,
          12,
          14,
          17,
          1,
          5
         ],
         "yaxis": "y"
        },
        {
         "hovertemplate": "identifier_name=Nationale Thesaurus voor Auteurs ID (Netherlands)<br>decade=%{x}<br>score=%{y}<extra></extra>",
         "legendgroup": "Nationale Thesaurus voor Auteurs ID (Netherlands)",
         "line": {
          "color": "#9467BD",
          "dash": "solid",
          "shape": "spline"
         },
         "marker": {
          "symbol": "circle"
         },
         "mode": "lines",
         "name": "Nationale Thesaurus voor Auteurs ID (Netherlands)",
         "opacity": 0.25,
         "orientation": "v",
         "showlegend": true,
         "type": "scatter",
         "x": [
          -250,
          -200,
          -150,
          -100,
          -50,
          0,
          50,
          100,
          150,
          200,
          250,
          300,
          350,
          400,
          450,
          500
         ],
         "xaxis": "x",
         "y": [
          7,
          8,
          10,
          24,
          28,
          12,
          12,
          15,
          8,
          12,
          12,
          11,
          13,
          27,
          1,
          5
         ],
         "yaxis": "y"
        },
        {
         "hovertemplate": "identifier_name=NUKAT ID (Poland)<br>decade=%{x}<br>score=%{y}<extra></extra>",
         "legendgroup": "NUKAT ID (Poland)",
         "line": {
          "color": "#8C564B",
          "dash": "solid",
          "shape": "spline"
         },
         "marker": {
          "symbol": "circle"
         },
         "mode": "lines",
         "name": "NUKAT ID (Poland)",
         "opacity": 0.25,
         "orientation": "v",
         "showlegend": true,
         "type": "scatter",
         "x": [
          -250,
          -200,
          -150,
          -100,
          -50,
          0,
          50,
          100,
          150,
          200,
          250,
          300,
          350,
          400,
          450,
          500
         ],
         "xaxis": "x",
         "y": [
          5,
          5,
          5,
          24,
          21,
          10,
          11,
          15,
          7,
          9,
          8,
          10,
          12,
          24,
          1,
          5
         ],
         "yaxis": "y"
        },
        {
         "hovertemplate": "identifier_name=National Library of Israel J9U ID (Israel)<br>decade=%{x}<br>score=%{y}<extra></extra>",
         "legendgroup": "National Library of Israel J9U ID (Israel)",
         "line": {
          "color": "#E377C2",
          "dash": "solid",
          "shape": "spline"
         },
         "marker": {
          "symbol": "circle"
         },
         "mode": "lines",
         "name": "National Library of Israel J9U ID (Israel)",
         "opacity": 0.25,
         "orientation": "v",
         "showlegend": true,
         "type": "scatter",
         "x": [
          -250,
          -200,
          -150,
          -100,
          -50,
          0,
          50,
          100,
          150,
          200,
          250,
          300,
          350,
          400,
          450,
          500
         ],
         "xaxis": "x",
         "y": [
          5,
          6,
          9,
          22,
          19,
          10,
          12,
          13,
          7,
          11,
          6,
          10,
          11,
          23,
          1,
          5
         ],
         "yaxis": "y"
        },
        {
         "hovertemplate": "identifier_name=Vatican Library VcBA ID (Vatican City)<br>decade=%{x}<br>score=%{y}<extra></extra>",
         "legendgroup": "Vatican Library VcBA ID (Vatican City)",
         "line": {
          "color": "#7F7F7F",
          "dash": "solid",
          "shape": "spline"
         },
         "marker": {
          "symbol": "circle"
         },
         "mode": "lines",
         "name": "Vatican Library VcBA ID (Vatican City)",
         "opacity": 0.25,
         "orientation": "v",
         "showlegend": true,
         "type": "scatter",
         "x": [
          -250,
          -200,
          -150,
          -100,
          -50,
          0,
          50,
          100,
          150,
          200,
          250,
          300,
          350,
          400,
          450,
          500
         ],
         "xaxis": "x",
         "y": [
          6,
          5,
          5,
          20,
          21,
          9,
          13,
          14,
          6,
          11,
          8,
          10,
          13,
          22,
          1,
          5
         ],
         "yaxis": "y"
        },
        {
         "hovertemplate": "identifier_name=NORAF ID (Norway)<br>decade=%{x}<br>score=%{y}<extra></extra>",
         "legendgroup": "NORAF ID (Norway)",
         "line": {
          "color": "#BCBD22",
          "dash": "solid",
          "shape": "spline"
         },
         "marker": {
          "symbol": "circle"
         },
         "mode": "lines",
         "name": "NORAF ID (Norway)",
         "opacity": 0.25,
         "orientation": "v",
         "showlegend": true,
         "type": "scatter",
         "x": [
          -250,
          -200,
          -150,
          -100,
          -50,
          0,
          50,
          100,
          150,
          200,
          250,
          300,
          350,
          400,
          450,
          500
         ],
         "xaxis": "x",
         "y": [
          5,
          3,
          5,
          22,
          18,
          8,
          12,
          14,
          8,
          7,
          4,
          8,
          11,
          23,
          1,
          4
         ],
         "yaxis": "y"
        },
        {
         "hovertemplate": "identifier_name=Biblioteca Nacional de España ID (Spain)<br>decade=%{x}<br>score=%{y}<extra></extra>",
         "legendgroup": "Biblioteca Nacional de España ID (Spain)",
         "line": {
          "color": "#17BECF",
          "dash": "solid",
          "shape": "spline"
         },
         "marker": {
          "symbol": "circle"
         },
         "mode": "lines",
         "name": "Biblioteca Nacional de España ID (Spain)",
         "opacity": 0.25,
         "orientation": "v",
         "showlegend": true,
         "type": "scatter",
         "x": [
          -250,
          -200,
          -150,
          -100,
          -50,
          0,
          50,
          100,
          150,
          200,
          250,
          300,
          350,
          400,
          450,
          500
         ],
         "xaxis": "x",
         "y": [
          5,
          4,
          3,
          19,
          16,
          9,
          11,
          13,
          4,
          9,
          11,
          9,
          11,
          18,
          1,
          5
         ],
         "yaxis": "y"
        },
        {
         "hovertemplate": "identifier_name=Libris-URI (Sweden)<br>decade=%{x}<br>score=%{y}<extra></extra>",
         "legendgroup": "Libris-URI (Sweden)",
         "line": {
          "color": "#1F77B4",
          "dash": "solid",
          "shape": "spline"
         },
         "marker": {
          "symbol": "circle"
         },
         "mode": "lines",
         "name": "Libris-URI (Sweden)",
         "opacity": 0.25,
         "orientation": "v",
         "showlegend": true,
         "type": "scatter",
         "x": [
          -250,
          -200,
          -150,
          -100,
          -50,
          0,
          50,
          100,
          150,
          200,
          250,
          300,
          350,
          400,
          450,
          500
         ],
         "xaxis": "x",
         "y": [
          4,
          2,
          6,
          14,
          14,
          8,
          10,
          11,
          5,
          8,
          10,
          9,
          10,
          20,
          1,
          5
         ],
         "yaxis": "y"
        },
        {
         "hovertemplate": "identifier_name=NKCR AUT ID (Czech Republic)<br>decade=%{x}<br>score=%{y}<extra></extra>",
         "legendgroup": "NKCR AUT ID (Czech Republic)",
         "line": {
          "color": "#FF7F0E",
          "dash": "solid",
          "shape": "spline"
         },
         "marker": {
          "symbol": "circle"
         },
         "mode": "lines",
         "name": "NKCR AUT ID (Czech Republic)",
         "opacity": 0.25,
         "orientation": "v",
         "showlegend": true,
         "type": "scatter",
         "x": [
          -250,
          -200,
          -150,
          -100,
          -50,
          0,
          50,
          100,
          150,
          200,
          250,
          300,
          350,
          400,
          450,
          500
         ],
         "xaxis": "x",
         "y": [
          5,
          4,
          3,
          13,
          15,
          7,
          10,
          9,
          6,
          9,
          7,
          8,
          8,
          18,
          1,
          3
         ],
         "yaxis": "y"
        },
        {
         "hovertemplate": "identifier_name=Encyclopædia Britannica Online ID (United Kingdom)<br>decade=%{x}<br>score=%{y}<extra></extra>",
         "legendgroup": "Encyclopædia Britannica Online ID (United Kingdom)",
         "line": {
          "color": "#2CA02C",
          "dash": "solid",
          "shape": "spline"
         },
         "marker": {
          "symbol": "circle"
         },
         "mode": "lines",
         "name": "Encyclopædia Britannica Online ID (United Kingdom)",
         "opacity": 0.25,
         "orientation": "v",
         "showlegend": true,
         "type": "scatter",
         "x": [
          -250,
          -200,
          -150,
          -100,
          -50,
          0,
          50,
          100,
          150,
          200,
          250,
          300,
          350,
          400,
          450,
          500
         ],
         "xaxis": "x",
         "y": [
          6,
          3,
          6,
          20,
          19,
          6,
          12,
          10,
          2,
          9,
          2,
          4,
          11,
          8,
          1,
          3
         ],
         "yaxis": "y"
        },
        {
         "hovertemplate": "identifier_name=National Library of Greece ID (Greece)<br>decade=%{x}<br>score=%{y}<extra></extra>",
         "legendgroup": "National Library of Greece ID (Greece)",
         "line": {
          "color": "#D62728",
          "dash": "solid",
          "shape": "spline"
         },
         "marker": {
          "symbol": "circle"
         },
         "mode": "lines",
         "name": "National Library of Greece ID (Greece)",
         "opacity": 0.25,
         "orientation": "v",
         "showlegend": true,
         "type": "scatter",
         "x": [
          -250,
          -200,
          -150,
          -100,
          -50,
          0,
          50,
          100,
          150,
          200,
          250,
          300,
          350,
          400,
          450,
          500
         ],
         "xaxis": "x",
         "y": [
          4,
          3,
          2,
          14,
          14,
          8,
          9,
          11,
          6,
          6,
          5,
          8,
          8,
          16,
          1,
          3
         ],
         "yaxis": "y"
        },
        {
         "hovertemplate": "identifier_name=CiNii Books author ID (Japan)<br>decade=%{x}<br>score=%{y}<extra></extra>",
         "legendgroup": "CiNii Books author ID (Japan)",
         "line": {
          "color": "#9467BD",
          "dash": "solid",
          "shape": "spline"
         },
         "marker": {
          "symbol": "circle"
         },
         "mode": "lines",
         "name": "CiNii Books author ID (Japan)",
         "opacity": 0.25,
         "orientation": "v",
         "showlegend": true,
         "type": "scatter",
         "x": [
          -250,
          -200,
          -150,
          -100,
          -50,
          0,
          50,
          100,
          150,
          200,
          250,
          300,
          350,
          400,
          450,
          500
         ],
         "xaxis": "x",
         "y": [
          5,
          4,
          4,
          13,
          11,
          6,
          8,
          10,
          6,
          5,
          4,
          9,
          7,
          11,
          1,
          2
         ],
         "yaxis": "y"
        },
        {
         "hovertemplate": "identifier_name=Canadiana Name Authority ID (Canada)<br>decade=%{x}<br>score=%{y}<extra></extra>",
         "legendgroup": "Canadiana Name Authority ID (Canada)",
         "line": {
          "color": "#8C564B",
          "dash": "solid",
          "shape": "spline"
         },
         "marker": {
          "symbol": "circle"
         },
         "mode": "lines",
         "name": "Canadiana Name Authority ID (Canada)",
         "opacity": 0.25,
         "orientation": "v",
         "showlegend": true,
         "type": "scatter",
         "x": [
          -250,
          -200,
          -150,
          -100,
          -50,
          0,
          50,
          100,
          150,
          200,
          250,
          300,
          350,
          400,
          500
         ],
         "xaxis": "x",
         "y": [
          3,
          4,
          5,
          15,
          11,
          8,
          9,
          7,
          3,
          4,
          3,
          6,
          7,
          13,
          2
         ],
         "yaxis": "y"
        },
        {
         "hovertemplate": "identifier_name=Portuguese National Library author ID (Portugal)<br>decade=%{x}<br>score=%{y}<extra></extra>",
         "legendgroup": "Portuguese National Library author ID (Portugal)",
         "line": {
          "color": "#E377C2",
          "dash": "solid",
          "shape": "spline"
         },
         "marker": {
          "symbol": "circle"
         },
         "mode": "lines",
         "name": "Portuguese National Library author ID (Portugal)",
         "opacity": 0.25,
         "orientation": "v",
         "showlegend": true,
         "type": "scatter",
         "x": [
          -250,
          -200,
          -100,
          -50,
          0,
          50,
          100,
          150,
          200,
          250,
          300,
          350,
          400,
          450,
          500
         ],
         "xaxis": "x",
         "y": [
          3,
          1,
          11,
          13,
          6,
          9,
          7,
          4,
          5,
          6,
          8,
          7,
          14,
          1,
          4
         ],
         "yaxis": "y"
        },
        {
         "hovertemplate": "identifier_name=NLA Trove people ID (Australia)<br>decade=%{x}<br>score=%{y}<extra></extra>",
         "legendgroup": "NLA Trove people ID (Australia)",
         "line": {
          "color": "#7F7F7F",
          "dash": "solid",
          "shape": "spline"
         },
         "marker": {
          "symbol": "circle"
         },
         "mode": "lines",
         "name": "NLA Trove people ID (Australia)",
         "opacity": 0.25,
         "orientation": "v",
         "showlegend": true,
         "type": "scatter",
         "x": [
          -250,
          -200,
          -150,
          -100,
          -50,
          0,
          50,
          100,
          150,
          200,
          250,
          300,
          350,
          400,
          450,
          500
         ],
         "xaxis": "x",
         "y": [
          3,
          1,
          1,
          14,
          12,
          7,
          8,
          8,
          3,
          5,
          1,
          9,
          8,
          14,
          1,
          4
         ],
         "yaxis": "y"
        },
        {
         "hovertemplate": "identifier_name=NSK ID (Croatia)<br>decade=%{x}<br>score=%{y}<extra></extra>",
         "legendgroup": "NSK ID (Croatia)",
         "line": {
          "color": "#BCBD22",
          "dash": "solid",
          "shape": "spline"
         },
         "marker": {
          "symbol": "circle"
         },
         "mode": "lines",
         "name": "NSK ID (Croatia)",
         "opacity": 0.25,
         "orientation": "v",
         "showlegend": true,
         "type": "scatter",
         "x": [
          -250,
          -200,
          -150,
          -100,
          -50,
          0,
          50,
          100,
          150,
          200,
          250,
          300,
          350,
          400,
          500
         ],
         "xaxis": "x",
         "y": [
          3,
          2,
          2,
          9,
          11,
          5,
          10,
          7,
          5,
          4,
          6,
          5,
          7,
          11,
          2
         ],
         "yaxis": "y"
        },
        {
         "hovertemplate": "identifier_name=CONOR.SI ID (Slovenia)<br>decade=%{x}<br>score=%{y}<extra></extra>",
         "legendgroup": "CONOR.SI ID (Slovenia)",
         "line": {
          "color": "#17BECF",
          "dash": "solid",
          "shape": "spline"
         },
         "marker": {
          "symbol": "circle"
         },
         "mode": "lines",
         "name": "CONOR.SI ID (Slovenia)",
         "opacity": 0.25,
         "orientation": "v",
         "showlegend": true,
         "type": "scatter",
         "x": [
          -250,
          -200,
          -150,
          -100,
          -50,
          0,
          50,
          100,
          150,
          200,
          250,
          300,
          350,
          400,
          500
         ],
         "xaxis": "x",
         "y": [
          4,
          1,
          2,
          10,
          9,
          6,
          8,
          9,
          3,
          3,
          5,
          9,
          7,
          8,
          4
         ],
         "yaxis": "y"
        },
        {
         "hovertemplate": "identifier_name=average<br>decade=%{x}<br>score=%{y}<extra></extra>",
         "legendgroup": "average",
         "line": {
          "color": "#1F77B4",
          "dash": "solid",
          "shape": "spline",
          "width": 3
         },
         "marker": {
          "symbol": "circle"
         },
         "mode": "lines",
         "name": "average",
         "orientation": "v",
         "showlegend": true,
         "type": "scatter",
         "x": [
          -300,
          -250,
          -200,
          -150,
          -100,
          -50,
          0,
          50,
          100,
          150,
          200,
          250,
          300,
          350,
          400,
          450,
          500
         ],
         "xaxis": "x",
         "y": [
          1,
          5,
          5.6,
          7.526315789473684,
          20.25,
          19.3,
          8.55,
          10.8,
          12.05,
          6.1,
          8.85,
          7.1,
          9,
          10.4,
          18.45,
          1,
          4.2
         ],
         "yaxis": "y"
        }
       ],
       "layout": {
        "height": 800,
        "legend": {
         "title": {
          "text": "Identifiers"
         }
        },
        "template": {
         "data": {
          "bar": [
           {
            "error_x": {
             "color": "rgb(36,36,36)"
            },
            "error_y": {
             "color": "rgb(36,36,36)"
            },
            "marker": {
             "line": {
              "color": "white",
              "width": 0.5
             },
             "pattern": {
              "fillmode": "overlay",
              "size": 10,
              "solidity": 0.2
             }
            },
            "type": "bar"
           }
          ],
          "barpolar": [
           {
            "marker": {
             "line": {
              "color": "white",
              "width": 0.5
             },
             "pattern": {
              "fillmode": "overlay",
              "size": 10,
              "solidity": 0.2
             }
            },
            "type": "barpolar"
           }
          ],
          "carpet": [
           {
            "aaxis": {
             "endlinecolor": "rgb(36,36,36)",
             "gridcolor": "white",
             "linecolor": "white",
             "minorgridcolor": "white",
             "startlinecolor": "rgb(36,36,36)"
            },
            "baxis": {
             "endlinecolor": "rgb(36,36,36)",
             "gridcolor": "white",
             "linecolor": "white",
             "minorgridcolor": "white",
             "startlinecolor": "rgb(36,36,36)"
            },
            "type": "carpet"
           }
          ],
          "choropleth": [
           {
            "colorbar": {
             "outlinewidth": 1,
             "tickcolor": "rgb(36,36,36)",
             "ticks": "outside"
            },
            "type": "choropleth"
           }
          ],
          "contour": [
           {
            "colorbar": {
             "outlinewidth": 1,
             "tickcolor": "rgb(36,36,36)",
             "ticks": "outside"
            },
            "colorscale": [
             [
              0,
              "#440154"
             ],
             [
              0.1111111111111111,
              "#482878"
             ],
             [
              0.2222222222222222,
              "#3e4989"
             ],
             [
              0.3333333333333333,
              "#31688e"
             ],
             [
              0.4444444444444444,
              "#26828e"
             ],
             [
              0.5555555555555556,
              "#1f9e89"
             ],
             [
              0.6666666666666666,
              "#35b779"
             ],
             [
              0.7777777777777778,
              "#6ece58"
             ],
             [
              0.8888888888888888,
              "#b5de2b"
             ],
             [
              1,
              "#fde725"
             ]
            ],
            "type": "contour"
           }
          ],
          "contourcarpet": [
           {
            "colorbar": {
             "outlinewidth": 1,
             "tickcolor": "rgb(36,36,36)",
             "ticks": "outside"
            },
            "type": "contourcarpet"
           }
          ],
          "heatmap": [
           {
            "colorbar": {
             "outlinewidth": 1,
             "tickcolor": "rgb(36,36,36)",
             "ticks": "outside"
            },
            "colorscale": [
             [
              0,
              "#440154"
             ],
             [
              0.1111111111111111,
              "#482878"
             ],
             [
              0.2222222222222222,
              "#3e4989"
             ],
             [
              0.3333333333333333,
              "#31688e"
             ],
             [
              0.4444444444444444,
              "#26828e"
             ],
             [
              0.5555555555555556,
              "#1f9e89"
             ],
             [
              0.6666666666666666,
              "#35b779"
             ],
             [
              0.7777777777777778,
              "#6ece58"
             ],
             [
              0.8888888888888888,
              "#b5de2b"
             ],
             [
              1,
              "#fde725"
             ]
            ],
            "type": "heatmap"
           }
          ],
          "heatmapgl": [
           {
            "colorbar": {
             "outlinewidth": 1,
             "tickcolor": "rgb(36,36,36)",
             "ticks": "outside"
            },
            "colorscale": [
             [
              0,
              "#440154"
             ],
             [
              0.1111111111111111,
              "#482878"
             ],
             [
              0.2222222222222222,
              "#3e4989"
             ],
             [
              0.3333333333333333,
              "#31688e"
             ],
             [
              0.4444444444444444,
              "#26828e"
             ],
             [
              0.5555555555555556,
              "#1f9e89"
             ],
             [
              0.6666666666666666,
              "#35b779"
             ],
             [
              0.7777777777777778,
              "#6ece58"
             ],
             [
              0.8888888888888888,
              "#b5de2b"
             ],
             [
              1,
              "#fde725"
             ]
            ],
            "type": "heatmapgl"
           }
          ],
          "histogram": [
           {
            "marker": {
             "line": {
              "color": "white",
              "width": 0.6
             }
            },
            "type": "histogram"
           }
          ],
          "histogram2d": [
           {
            "colorbar": {
             "outlinewidth": 1,
             "tickcolor": "rgb(36,36,36)",
             "ticks": "outside"
            },
            "colorscale": [
             [
              0,
              "#440154"
             ],
             [
              0.1111111111111111,
              "#482878"
             ],
             [
              0.2222222222222222,
              "#3e4989"
             ],
             [
              0.3333333333333333,
              "#31688e"
             ],
             [
              0.4444444444444444,
              "#26828e"
             ],
             [
              0.5555555555555556,
              "#1f9e89"
             ],
             [
              0.6666666666666666,
              "#35b779"
             ],
             [
              0.7777777777777778,
              "#6ece58"
             ],
             [
              0.8888888888888888,
              "#b5de2b"
             ],
             [
              1,
              "#fde725"
             ]
            ],
            "type": "histogram2d"
           }
          ],
          "histogram2dcontour": [
           {
            "colorbar": {
             "outlinewidth": 1,
             "tickcolor": "rgb(36,36,36)",
             "ticks": "outside"
            },
            "colorscale": [
             [
              0,
              "#440154"
             ],
             [
              0.1111111111111111,
              "#482878"
             ],
             [
              0.2222222222222222,
              "#3e4989"
             ],
             [
              0.3333333333333333,
              "#31688e"
             ],
             [
              0.4444444444444444,
              "#26828e"
             ],
             [
              0.5555555555555556,
              "#1f9e89"
             ],
             [
              0.6666666666666666,
              "#35b779"
             ],
             [
              0.7777777777777778,
              "#6ece58"
             ],
             [
              0.8888888888888888,
              "#b5de2b"
             ],
             [
              1,
              "#fde725"
             ]
            ],
            "type": "histogram2dcontour"
           }
          ],
          "mesh3d": [
           {
            "colorbar": {
             "outlinewidth": 1,
             "tickcolor": "rgb(36,36,36)",
             "ticks": "outside"
            },
            "type": "mesh3d"
           }
          ],
          "parcoords": [
           {
            "line": {
             "colorbar": {
              "outlinewidth": 1,
              "tickcolor": "rgb(36,36,36)",
              "ticks": "outside"
             }
            },
            "type": "parcoords"
           }
          ],
          "pie": [
           {
            "automargin": true,
            "type": "pie"
           }
          ],
          "scatter": [
           {
            "marker": {
             "colorbar": {
              "outlinewidth": 1,
              "tickcolor": "rgb(36,36,36)",
              "ticks": "outside"
             }
            },
            "type": "scatter"
           }
          ],
          "scatter3d": [
           {
            "line": {
             "colorbar": {
              "outlinewidth": 1,
              "tickcolor": "rgb(36,36,36)",
              "ticks": "outside"
             }
            },
            "marker": {
             "colorbar": {
              "outlinewidth": 1,
              "tickcolor": "rgb(36,36,36)",
              "ticks": "outside"
             }
            },
            "type": "scatter3d"
           }
          ],
          "scattercarpet": [
           {
            "marker": {
             "colorbar": {
              "outlinewidth": 1,
              "tickcolor": "rgb(36,36,36)",
              "ticks": "outside"
             }
            },
            "type": "scattercarpet"
           }
          ],
          "scattergeo": [
           {
            "marker": {
             "colorbar": {
              "outlinewidth": 1,
              "tickcolor": "rgb(36,36,36)",
              "ticks": "outside"
             }
            },
            "type": "scattergeo"
           }
          ],
          "scattergl": [
           {
            "marker": {
             "colorbar": {
              "outlinewidth": 1,
              "tickcolor": "rgb(36,36,36)",
              "ticks": "outside"
             }
            },
            "type": "scattergl"
           }
          ],
          "scattermapbox": [
           {
            "marker": {
             "colorbar": {
              "outlinewidth": 1,
              "tickcolor": "rgb(36,36,36)",
              "ticks": "outside"
             }
            },
            "type": "scattermapbox"
           }
          ],
          "scatterpolar": [
           {
            "marker": {
             "colorbar": {
              "outlinewidth": 1,
              "tickcolor": "rgb(36,36,36)",
              "ticks": "outside"
             }
            },
            "type": "scatterpolar"
           }
          ],
          "scatterpolargl": [
           {
            "marker": {
             "colorbar": {
              "outlinewidth": 1,
              "tickcolor": "rgb(36,36,36)",
              "ticks": "outside"
             }
            },
            "type": "scatterpolargl"
           }
          ],
          "scatterternary": [
           {
            "marker": {
             "colorbar": {
              "outlinewidth": 1,
              "tickcolor": "rgb(36,36,36)",
              "ticks": "outside"
             }
            },
            "type": "scatterternary"
           }
          ],
          "surface": [
           {
            "colorbar": {
             "outlinewidth": 1,
             "tickcolor": "rgb(36,36,36)",
             "ticks": "outside"
            },
            "colorscale": [
             [
              0,
              "#440154"
             ],
             [
              0.1111111111111111,
              "#482878"
             ],
             [
              0.2222222222222222,
              "#3e4989"
             ],
             [
              0.3333333333333333,
              "#31688e"
             ],
             [
              0.4444444444444444,
              "#26828e"
             ],
             [
              0.5555555555555556,
              "#1f9e89"
             ],
             [
              0.6666666666666666,
              "#35b779"
             ],
             [
              0.7777777777777778,
              "#6ece58"
             ],
             [
              0.8888888888888888,
              "#b5de2b"
             ],
             [
              1,
              "#fde725"
             ]
            ],
            "type": "surface"
           }
          ],
          "table": [
           {
            "cells": {
             "fill": {
              "color": "rgb(237,237,237)"
             },
             "line": {
              "color": "white"
             }
            },
            "header": {
             "fill": {
              "color": "rgb(217,217,217)"
             },
             "line": {
              "color": "white"
             }
            },
            "type": "table"
           }
          ]
         },
         "layout": {
          "annotationdefaults": {
           "arrowhead": 0,
           "arrowwidth": 1
          },
          "autotypenumbers": "strict",
          "coloraxis": {
           "colorbar": {
            "outlinewidth": 1,
            "tickcolor": "rgb(36,36,36)",
            "ticks": "outside"
           }
          },
          "colorscale": {
           "diverging": [
            [
             0,
             "rgb(103,0,31)"
            ],
            [
             0.1,
             "rgb(178,24,43)"
            ],
            [
             0.2,
             "rgb(214,96,77)"
            ],
            [
             0.3,
             "rgb(244,165,130)"
            ],
            [
             0.4,
             "rgb(253,219,199)"
            ],
            [
             0.5,
             "rgb(247,247,247)"
            ],
            [
             0.6,
             "rgb(209,229,240)"
            ],
            [
             0.7,
             "rgb(146,197,222)"
            ],
            [
             0.8,
             "rgb(67,147,195)"
            ],
            [
             0.9,
             "rgb(33,102,172)"
            ],
            [
             1,
             "rgb(5,48,97)"
            ]
           ],
           "sequential": [
            [
             0,
             "#440154"
            ],
            [
             0.1111111111111111,
             "#482878"
            ],
            [
             0.2222222222222222,
             "#3e4989"
            ],
            [
             0.3333333333333333,
             "#31688e"
            ],
            [
             0.4444444444444444,
             "#26828e"
            ],
            [
             0.5555555555555556,
             "#1f9e89"
            ],
            [
             0.6666666666666666,
             "#35b779"
            ],
            [
             0.7777777777777778,
             "#6ece58"
            ],
            [
             0.8888888888888888,
             "#b5de2b"
            ],
            [
             1,
             "#fde725"
            ]
           ],
           "sequentialminus": [
            [
             0,
             "#440154"
            ],
            [
             0.1111111111111111,
             "#482878"
            ],
            [
             0.2222222222222222,
             "#3e4989"
            ],
            [
             0.3333333333333333,
             "#31688e"
            ],
            [
             0.4444444444444444,
             "#26828e"
            ],
            [
             0.5555555555555556,
             "#1f9e89"
            ],
            [
             0.6666666666666666,
             "#35b779"
            ],
            [
             0.7777777777777778,
             "#6ece58"
            ],
            [
             0.8888888888888888,
             "#b5de2b"
            ],
            [
             1,
             "#fde725"
            ]
           ]
          },
          "colorway": [
           "#1F77B4",
           "#FF7F0E",
           "#2CA02C",
           "#D62728",
           "#9467BD",
           "#8C564B",
           "#E377C2",
           "#7F7F7F",
           "#BCBD22",
           "#17BECF"
          ],
          "font": {
           "color": "rgb(36,36,36)"
          },
          "geo": {
           "bgcolor": "white",
           "lakecolor": "white",
           "landcolor": "white",
           "showlakes": true,
           "showland": true,
           "subunitcolor": "white"
          },
          "hoverlabel": {
           "align": "left"
          },
          "hovermode": "closest",
          "mapbox": {
           "style": "light"
          },
          "paper_bgcolor": "white",
          "plot_bgcolor": "white",
          "polar": {
           "angularaxis": {
            "gridcolor": "rgb(232,232,232)",
            "linecolor": "rgb(36,36,36)",
            "showgrid": false,
            "showline": true,
            "ticks": "outside"
           },
           "bgcolor": "white",
           "radialaxis": {
            "gridcolor": "rgb(232,232,232)",
            "linecolor": "rgb(36,36,36)",
            "showgrid": false,
            "showline": true,
            "ticks": "outside"
           }
          },
          "scene": {
           "xaxis": {
            "backgroundcolor": "white",
            "gridcolor": "rgb(232,232,232)",
            "gridwidth": 2,
            "linecolor": "rgb(36,36,36)",
            "showbackground": true,
            "showgrid": false,
            "showline": true,
            "ticks": "outside",
            "zeroline": false,
            "zerolinecolor": "rgb(36,36,36)"
           },
           "yaxis": {
            "backgroundcolor": "white",
            "gridcolor": "rgb(232,232,232)",
            "gridwidth": 2,
            "linecolor": "rgb(36,36,36)",
            "showbackground": true,
            "showgrid": false,
            "showline": true,
            "ticks": "outside",
            "zeroline": false,
            "zerolinecolor": "rgb(36,36,36)"
           },
           "zaxis": {
            "backgroundcolor": "white",
            "gridcolor": "rgb(232,232,232)",
            "gridwidth": 2,
            "linecolor": "rgb(36,36,36)",
            "showbackground": true,
            "showgrid": false,
            "showline": true,
            "ticks": "outside",
            "zeroline": false,
            "zerolinecolor": "rgb(36,36,36)"
           }
          },
          "shapedefaults": {
           "fillcolor": "black",
           "line": {
            "width": 0
           },
           "opacity": 0.3
          },
          "ternary": {
           "aaxis": {
            "gridcolor": "rgb(232,232,232)",
            "linecolor": "rgb(36,36,36)",
            "showgrid": false,
            "showline": true,
            "ticks": "outside"
           },
           "baxis": {
            "gridcolor": "rgb(232,232,232)",
            "linecolor": "rgb(36,36,36)",
            "showgrid": false,
            "showline": true,
            "ticks": "outside"
           },
           "bgcolor": "white",
           "caxis": {
            "gridcolor": "rgb(232,232,232)",
            "linecolor": "rgb(36,36,36)",
            "showgrid": false,
            "showline": true,
            "ticks": "outside"
           }
          },
          "title": {
           "x": 0.05
          },
          "xaxis": {
           "automargin": true,
           "gridcolor": "rgb(232,232,232)",
           "linecolor": "rgb(36,36,36)",
           "showgrid": false,
           "showline": true,
           "ticks": "outside",
           "title": {
            "standoff": 15
           },
           "zeroline": false,
           "zerolinecolor": "rgb(36,36,36)"
          },
          "yaxis": {
           "automargin": true,
           "gridcolor": "rgb(232,232,232)",
           "linecolor": "rgb(36,36,36)",
           "showgrid": false,
           "showline": true,
           "ticks": "outside",
           "title": {
            "standoff": 15
           },
           "zeroline": false,
           "zerolinecolor": "rgb(36,36,36)"
          }
         }
        },
        "title": {
         "text": ""
        },
        "width": 1300,
        "xaxis": {
         "autorange": true,
         "dtick": 100,
         "range": [
          -300,
          500
         ],
         "title": {
          "text": ""
         },
         "type": "linear"
        },
        "yaxis": {
         "autorange": true,
         "range": [
          -1.2222222222222223,
          43.22222222222222
         ],
         "title": {
          "text": "Number of Individuals"
         },
         "type": "linear"
        }
       }
      },
      "image/png": "[encoded data removed]",
      "text/html": [
       "<div>                            <div id=\"713a6918-08ba-4db7-b4e8-39528aee62ba\" class=\"plotly-graph-div\" style=\"height:800px; width:1300px;\"></div>            <script type=\"text/javascript\">                require([\"plotly\"], function(Plotly) {                    window.PLOTLYENV=window.PLOTLYENV || {};                                    if (document.getElementById(\"713a6918-08ba-4db7-b4e8-39528aee62ba\")) {                    Plotly.newPlot(                        \"713a6918-08ba-4db7-b4e8-39528aee62ba\",                        [{\"hovertemplate\":\"identifier_name=GND ID (Germany)<br>decade=%{x}<br>score=%{y}<extra></extra>\",\"legendgroup\":\"GND ID (Germany)\",\"line\":{\"color\":\"#1F77B4\",\"dash\":\"solid\",\"shape\":\"spline\"},\"marker\":{\"symbol\":\"circle\"},\"mode\":\"lines\",\"name\":\"GND ID (Germany)\",\"opacity\":0.25,\"orientation\":\"v\",\"showlegend\":true,\"x\":[-300,-250,-200,-150,-100,-50,0,50,100,150,200,250,300,350,400,450,500],\"xaxis\":\"x\",\"y\":[1,7,17,21,37,41,14,16,19,11,18,13,13,15,29,1,6],\"yaxis\":\"y\",\"type\":\"scatter\"},{\"hovertemplate\":\"identifier_name=CIRIS author ID (France)<br>decade=%{x}<br>score=%{y}<extra></extra>\",\"legendgroup\":\"CIRIS author ID (France)\",\"line\":{\"color\":\"#FF7F0E\",\"dash\":\"solid\",\"shape\":\"spline\"},\"marker\":{\"symbol\":\"circle\"},\"mode\":\"lines\",\"name\":\"CIRIS author ID (France)\",\"opacity\":0.25,\"orientation\":\"v\",\"showlegend\":true,\"x\":[-300,-250,-200,-150,-100,-50,0,50,100,150,200,250,300,350,400,450,500],\"xaxis\":\"x\",\"y\":[1,6,15,19,35,35,9,14,18,11,16,13,12,13,27,1,6],\"yaxis\":\"y\",\"type\":\"scatter\"},{\"hovertemplate\":\"identifier_name=Library of Congress authority ID (United States of America)<br>decade=%{x}<br>score=%{y}<extra></extra>\",\"legendgroup\":\"Library of Congress authority ID (United States of America)\",\"line\":{\"color\":\"#2CA02C\",\"dash\":\"solid\",\"shape\":\"spline\"},\"marker\":{\"symbol\":\"circle\"},\"mode\":\"lines\",\"name\":\"Library of Congress authority ID (United States of America)\",\"opacity\":0.25,\"orientation\":\"v\",\"showlegend\":true,\"x\":[-300,-250,-200,-150,-100,-50,0,50,100,150,200,250,300,350,400,450,500],\"xaxis\":\"x\",\"y\":[1,7,14,19,32,32,12,12,18,10,14,10,10,15,26,1,6],\"yaxis\":\"y\",\"type\":\"scatter\"},{\"hovertemplate\":\"identifier_name=Treccani ID (Italy)<br>decade=%{x}<br>score=%{y}<extra></extra>\",\"legendgroup\":\"Treccani ID (Italy)\",\"line\":{\"color\":\"#D62728\",\"dash\":\"solid\",\"shape\":\"spline\"},\"marker\":{\"symbol\":\"circle\"},\"mode\":\"lines\",\"name\":\"Treccani ID (Italy)\",\"opacity\":0.25,\"orientation\":\"v\",\"showlegend\":true,\"x\":[-300,-250,-200,-150,-100,-50,0,50,100,150,200,250,300,350,400,450,500],\"xaxis\":\"x\",\"y\":[1,7,10,16,37,26,11,10,13,7,12,8,12,14,17,1,5],\"yaxis\":\"y\",\"type\":\"scatter\"},{\"hovertemplate\":\"identifier_name=Nationale Thesaurus voor Auteurs ID (Netherlands)<br>decade=%{x}<br>score=%{y}<extra></extra>\",\"legendgroup\":\"Nationale Thesaurus voor Auteurs ID (Netherlands)\",\"line\":{\"color\":\"#9467BD\",\"dash\":\"solid\",\"shape\":\"spline\"},\"marker\":{\"symbol\":\"circle\"},\"mode\":\"lines\",\"name\":\"Nationale Thesaurus voor Auteurs ID (Netherlands)\",\"opacity\":0.25,\"orientation\":\"v\",\"showlegend\":true,\"x\":[-250,-200,-150,-100,-50,0,50,100,150,200,250,300,350,400,450,500],\"xaxis\":\"x\",\"y\":[7,8,10,24,28,12,12,15,8,12,12,11,13,27,1,5],\"yaxis\":\"y\",\"type\":\"scatter\"},{\"hovertemplate\":\"identifier_name=NUKAT ID (Poland)<br>decade=%{x}<br>score=%{y}<extra></extra>\",\"legendgroup\":\"NUKAT ID (Poland)\",\"line\":{\"color\":\"#8C564B\",\"dash\":\"solid\",\"shape\":\"spline\"},\"marker\":{\"symbol\":\"circle\"},\"mode\":\"lines\",\"name\":\"NUKAT ID (Poland)\",\"opacity\":0.25,\"orientation\":\"v\",\"showlegend\":true,\"x\":[-250,-200,-150,-100,-50,0,50,100,150,200,250,300,350,400,450,500],\"xaxis\":\"x\",\"y\":[5,5,5,24,21,10,11,15,7,9,8,10,12,24,1,5],\"yaxis\":\"y\",\"type\":\"scatter\"},{\"hovertemplate\":\"identifier_name=National Library of Israel J9U ID (Israel)<br>decade=%{x}<br>score=%{y}<extra></extra>\",\"legendgroup\":\"National Library of Israel J9U ID (Israel)\",\"line\":{\"color\":\"#E377C2\",\"dash\":\"solid\",\"shape\":\"spline\"},\"marker\":{\"symbol\":\"circle\"},\"mode\":\"lines\",\"name\":\"National Library of Israel J9U ID (Israel)\",\"opacity\":0.25,\"orientation\":\"v\",\"showlegend\":true,\"x\":[-250,-200,-150,-100,-50,0,50,100,150,200,250,300,350,400,450,500],\"xaxis\":\"x\",\"y\":[5,6,9,22,19,10,12,13,7,11,6,10,11,23,1,5],\"yaxis\":\"y\",\"type\":\"scatter\"},{\"hovertemplate\":\"identifier_name=Vatican Library VcBA ID (Vatican City)<br>decade=%{x}<br>score=%{y}<extra></extra>\",\"legendgroup\":\"Vatican Library VcBA ID (Vatican City)\",\"line\":{\"color\":\"#7F7F7F\",\"dash\":\"solid\",\"shape\":\"spline\"},\"marker\":{\"symbol\":\"circle\"},\"mode\":\"lines\",\"name\":\"Vatican Library VcBA ID (Vatican City)\",\"opacity\":0.25,\"orientation\":\"v\",\"showlegend\":true,\"x\":[-250,-200,-150,-100,-50,0,50,100,150,200,250,300,350,400,450,500],\"xaxis\":\"x\",\"y\":[6,5,5,20,21,9,13,14,6,11,8,10,13,22,1,5],\"yaxis\":\"y\",\"type\":\"scatter\"},{\"hovertemplate\":\"identifier_name=NORAF ID (Norway)<br>decade=%{x}<br>score=%{y}<extra></extra>\",\"legendgroup\":\"NORAF ID (Norway)\",\"line\":{\"color\":\"#BCBD22\",\"dash\":\"solid\",\"shape\":\"spline\"},\"marker\":{\"symbol\":\"circle\"},\"mode\":\"lines\",\"name\":\"NORAF ID (Norway)\",\"opacity\":0.25,\"orientation\":\"v\",\"showlegend\":true,\"x\":[-250,-200,-150,-100,-50,0,50,100,150,200,250,300,350,400,450,500],\"xaxis\":\"x\",\"y\":[5,3,5,22,18,8,12,14,8,7,4,8,11,23,1,4],\"yaxis\":\"y\",\"type\":\"scatter\"},{\"hovertemplate\":\"identifier_name=Biblioteca Nacional de Espa\\u00f1a ID (Spain)<br>decade=%{x}<br>score=%{y}<extra></extra>\",\"legendgroup\":\"Biblioteca Nacional de Espa\\u00f1a ID (Spain)\",\"line\":{\"color\":\"#17BECF\",\"dash\":\"solid\",\"shape\":\"spline\"},\"marker\":{\"symbol\":\"circle\"},\"mode\":\"lines\",\"name\":\"Biblioteca Nacional de Espa\\u00f1a ID (Spain)\",\"opacity\":0.25,\"orientation\":\"v\",\"showlegend\":true,\"x\":[-250,-200,-150,-100,-50,0,50,100,150,200,250,300,350,400,450,500],\"xaxis\":\"x\",\"y\":[5,4,3,19,16,9,11,13,4,9,11,9,11,18,1,5],\"yaxis\":\"y\",\"type\":\"scatter\"},{\"hovertemplate\":\"identifier_name=Libris-URI (Sweden)<br>decade=%{x}<br>score=%{y}<extra></extra>\",\"legendgroup\":\"Libris-URI (Sweden)\",\"line\":{\"color\":\"#1F77B4\",\"dash\":\"solid\",\"shape\":\"spline\"},\"marker\":{\"symbol\":\"circle\"},\"mode\":\"lines\",\"name\":\"Libris-URI (Sweden)\",\"opacity\":0.25,\"orientation\":\"v\",\"showlegend\":true,\"x\":[-250,-200,-150,-100,-50,0,50,100,150,200,250,300,350,400,450,500],\"xaxis\":\"x\",\"y\":[4,2,6,14,14,8,10,11,5,8,10,9,10,20,1,5],\"yaxis\":\"y\",\"type\":\"scatter\"},{\"hovertemplate\":\"identifier_name=NKCR AUT ID (Czech Republic)<br>decade=%{x}<br>score=%{y}<extra></extra>\",\"legendgroup\":\"NKCR AUT ID (Czech Republic)\",\"line\":{\"color\":\"#FF7F0E\",\"dash\":\"solid\",\"shape\":\"spline\"},\"marker\":{\"symbol\":\"circle\"},\"mode\":\"lines\",\"name\":\"NKCR AUT ID (Czech Republic)\",\"opacity\":0.25,\"orientation\":\"v\",\"showlegend\":true,\"x\":[-250,-200,-150,-100,-50,0,50,100,150,200,250,300,350,400,450,500],\"xaxis\":\"x\",\"y\":[5,4,3,13,15,7,10,9,6,9,7,8,8,18,1,3],\"yaxis\":\"y\",\"type\":\"scatter\"},{\"hovertemplate\":\"identifier_name=Encyclop\\u00e6dia Britannica Online ID (United Kingdom)<br>decade=%{x}<br>score=%{y}<extra></extra>\",\"legendgroup\":\"Encyclop\\u00e6dia Britannica Online ID (United Kingdom)\",\"line\":{\"color\":\"#2CA02C\",\"dash\":\"solid\",\"shape\":\"spline\"},\"marker\":{\"symbol\":\"circle\"},\"mode\":\"lines\",\"name\":\"Encyclop\\u00e6dia Britannica Online ID (United Kingdom)\",\"opacity\":0.25,\"orientation\":\"v\",\"showlegend\":true,\"x\":[-250,-200,-150,-100,-50,0,50,100,150,200,250,300,350,400,450,500],\"xaxis\":\"x\",\"y\":[6,3,6,20,19,6,12,10,2,9,2,4,11,8,1,3],\"yaxis\":\"y\",\"type\":\"scatter\"},{\"hovertemplate\":\"identifier_name=National Library of Greece ID (Greece)<br>decade=%{x}<br>score=%{y}<extra></extra>\",\"legendgroup\":\"National Library of Greece ID (Greece)\",\"line\":{\"color\":\"#D62728\",\"dash\":\"solid\",\"shape\":\"spline\"},\"marker\":{\"symbol\":\"circle\"},\"mode\":\"lines\",\"name\":\"National Library of Greece ID (Greece)\",\"opacity\":0.25,\"orientation\":\"v\",\"showlegend\":true,\"x\":[-250,-200,-150,-100,-50,0,50,100,150,200,250,300,350,400,450,500],\"xaxis\":\"x\",\"y\":[4,3,2,14,14,8,9,11,6,6,5,8,8,16,1,3],\"yaxis\":\"y\",\"type\":\"scatter\"},{\"hovertemplate\":\"identifier_name=CiNii Books author ID (Japan)<br>decade=%{x}<br>score=%{y}<extra></extra>\",\"legendgroup\":\"CiNii Books author ID (Japan)\",\"line\":{\"color\":\"#9467BD\",\"dash\":\"solid\",\"shape\":\"spline\"},\"marker\":{\"symbol\":\"circle\"},\"mode\":\"lines\",\"name\":\"CiNii Books author ID (Japan)\",\"opacity\":0.25,\"orientation\":\"v\",\"showlegend\":true,\"x\":[-250,-200,-150,-100,-50,0,50,100,150,200,250,300,350,400,450,500],\"xaxis\":\"x\",\"y\":[5,4,4,13,11,6,8,10,6,5,4,9,7,11,1,2],\"yaxis\":\"y\",\"type\":\"scatter\"},{\"hovertemplate\":\"identifier_name=Canadiana Name Authority ID (Canada)<br>decade=%{x}<br>score=%{y}<extra></extra>\",\"legendgroup\":\"Canadiana Name Authority ID (Canada)\",\"line\":{\"color\":\"#8C564B\",\"dash\":\"solid\",\"shape\":\"spline\"},\"marker\":{\"symbol\":\"circle\"},\"mode\":\"lines\",\"name\":\"Canadiana Name Authority ID (Canada)\",\"opacity\":0.25,\"orientation\":\"v\",\"showlegend\":true,\"x\":[-250,-200,-150,-100,-50,0,50,100,150,200,250,300,350,400,500],\"xaxis\":\"x\",\"y\":[3,4,5,15,11,8,9,7,3,4,3,6,7,13,2],\"yaxis\":\"y\",\"type\":\"scatter\"},{\"hovertemplate\":\"identifier_name=Portuguese National Library author ID (Portugal)<br>decade=%{x}<br>score=%{y}<extra></extra>\",\"legendgroup\":\"Portuguese National Library author ID (Portugal)\",\"line\":{\"color\":\"#E377C2\",\"dash\":\"solid\",\"shape\":\"spline\"},\"marker\":{\"symbol\":\"circle\"},\"mode\":\"lines\",\"name\":\"Portuguese National Library author ID (Portugal)\",\"opacity\":0.25,\"orientation\":\"v\",\"showlegend\":true,\"x\":[-250,-200,-100,-50,0,50,100,150,200,250,300,350,400,450,500],\"xaxis\":\"x\",\"y\":[3,1,11,13,6,9,7,4,5,6,8,7,14,1,4],\"yaxis\":\"y\",\"type\":\"scatter\"},{\"hovertemplate\":\"identifier_name=NLA Trove people ID (Australia)<br>decade=%{x}<br>score=%{y}<extra></extra>\",\"legendgroup\":\"NLA Trove people ID (Australia)\",\"line\":{\"color\":\"#7F7F7F\",\"dash\":\"solid\",\"shape\":\"spline\"},\"marker\":{\"symbol\":\"circle\"},\"mode\":\"lines\",\"name\":\"NLA Trove people ID (Australia)\",\"opacity\":0.25,\"orientation\":\"v\",\"showlegend\":true,\"x\":[-250,-200,-150,-100,-50,0,50,100,150,200,250,300,350,400,450,500],\"xaxis\":\"x\",\"y\":[3,1,1,14,12,7,8,8,3,5,1,9,8,14,1,4],\"yaxis\":\"y\",\"type\":\"scatter\"},{\"hovertemplate\":\"identifier_name=NSK ID (Croatia)<br>decade=%{x}<br>score=%{y}<extra></extra>\",\"legendgroup\":\"NSK ID (Croatia)\",\"line\":{\"color\":\"#BCBD22\",\"dash\":\"solid\",\"shape\":\"spline\"},\"marker\":{\"symbol\":\"circle\"},\"mode\":\"lines\",\"name\":\"NSK ID (Croatia)\",\"opacity\":0.25,\"orientation\":\"v\",\"showlegend\":true,\"x\":[-250,-200,-150,-100,-50,0,50,100,150,200,250,300,350,400,500],\"xaxis\":\"x\",\"y\":[3,2,2,9,11,5,10,7,5,4,6,5,7,11,2],\"yaxis\":\"y\",\"type\":\"scatter\"},{\"hovertemplate\":\"identifier_name=CONOR.SI ID (Slovenia)<br>decade=%{x}<br>score=%{y}<extra></extra>\",\"legendgroup\":\"CONOR.SI ID (Slovenia)\",\"line\":{\"color\":\"#17BECF\",\"dash\":\"solid\",\"shape\":\"spline\"},\"marker\":{\"symbol\":\"circle\"},\"mode\":\"lines\",\"name\":\"CONOR.SI ID (Slovenia)\",\"opacity\":0.25,\"orientation\":\"v\",\"showlegend\":true,\"x\":[-250,-200,-150,-100,-50,0,50,100,150,200,250,300,350,400,500],\"xaxis\":\"x\",\"y\":[4,1,2,10,9,6,8,9,3,3,5,9,7,8,4],\"yaxis\":\"y\",\"type\":\"scatter\"},{\"hovertemplate\":\"identifier_name=average<br>decade=%{x}<br>score=%{y}<extra></extra>\",\"legendgroup\":\"average\",\"line\":{\"color\":\"#1F77B4\",\"dash\":\"solid\",\"shape\":\"spline\",\"width\":3},\"marker\":{\"symbol\":\"circle\"},\"mode\":\"lines\",\"name\":\"average\",\"orientation\":\"v\",\"showlegend\":true,\"x\":[-300,-250,-200,-150,-100,-50,0,50,100,150,200,250,300,350,400,450,500],\"xaxis\":\"x\",\"y\":[1.0,5.0,5.6,7.526315789473684,20.25,19.3,8.55,10.8,12.05,6.1,8.85,7.1,9.0,10.4,18.45,1.0,4.2],\"yaxis\":\"y\",\"type\":\"scatter\"}],                        {\"template\":{\"data\":{\"barpolar\":[{\"marker\":{\"line\":{\"color\":\"white\",\"width\":0.5},\"pattern\":{\"fillmode\":\"overlay\",\"size\":10,\"solidity\":0.2}},\"type\":\"barpolar\"}],\"bar\":[{\"error_x\":{\"color\":\"rgb(36,36,36)\"},\"error_y\":{\"color\":\"rgb(36,36,36)\"},\"marker\":{\"line\":{\"color\":\"white\",\"width\":0.5},\"pattern\":{\"fillmode\":\"overlay\",\"size\":10,\"solidity\":0.2}},\"type\":\"bar\"}],\"carpet\":[{\"aaxis\":{\"endlinecolor\":\"rgb(36,36,36)\",\"gridcolor\":\"white\",\"linecolor\":\"white\",\"minorgridcolor\":\"white\",\"startlinecolor\":\"rgb(36,36,36)\"},\"baxis\":{\"endlinecolor\":\"rgb(36,36,36)\",\"gridcolor\":\"white\",\"linecolor\":\"white\",\"minorgridcolor\":\"white\",\"startlinecolor\":\"rgb(36,36,36)\"},\"type\":\"carpet\"}],\"choropleth\":[{\"colorbar\":{\"outlinewidth\":1,\"tickcolor\":\"rgb(36,36,36)\",\"ticks\":\"outside\"},\"type\":\"choropleth\"}],\"contourcarpet\":[{\"colorbar\":{\"outlinewidth\":1,\"tickcolor\":\"rgb(36,36,36)\",\"ticks\":\"outside\"},\"type\":\"contourcarpet\"}],\"contour\":[{\"colorbar\":{\"outlinewidth\":1,\"tickcolor\":\"rgb(36,36,36)\",\"ticks\":\"outside\"},\"colorscale\":[[0.0,\"#440154\"],[0.1111111111111111,\"#482878\"],[0.2222222222222222,\"#3e4989\"],[0.3333333333333333,\"#31688e\"],[0.4444444444444444,\"#26828e\"],[0.5555555555555556,\"#1f9e89\"],[0.6666666666666666,\"#35b779\"],[0.7777777777777778,\"#6ece58\"],[0.8888888888888888,\"#b5de2b\"],[1.0,\"#fde725\"]],\"type\":\"contour\"}],\"heatmapgl\":[{\"colorbar\":{\"outlinewidth\":1,\"tickcolor\":\"rgb(36,36,36)\",\"ticks\":\"outside\"},\"colorscale\":[[0.0,\"#440154\"],[0.1111111111111111,\"#482878\"],[0.2222222222222222,\"#3e4989\"],[0.3333333333333333,\"#31688e\"],[0.4444444444444444,\"#26828e\"],[0.5555555555555556,\"#1f9e89\"],[0.6666666666666666,\"#35b779\"],[0.7777777777777778,\"#6ece58\"],[0.8888888888888888,\"#b5de2b\"],[1.0,\"#fde725\"]],\"type\":\"heatmapgl\"}],\"heatmap\":[{\"colorbar\":{\"outlinewidth\":1,\"tickcolor\":\"rgb(36,36,36)\",\"ticks\":\"outside\"},\"colorscale\":[[0.0,\"#440154\"],[0.1111111111111111,\"#482878\"],[0.2222222222222222,\"#3e4989\"],[0.3333333333333333,\"#31688e\"],[0.4444444444444444,\"#26828e\"],[0.5555555555555556,\"#1f9e89\"],[0.6666666666666666,\"#35b779\"],[0.7777777777777778,\"#6ece58\"],[0.8888888888888888,\"#b5de2b\"],[1.0,\"#fde725\"]],\"type\":\"heatmap\"}],\"histogram2dcontour\":[{\"colorbar\":{\"outlinewidth\":1,\"tickcolor\":\"rgb(36,36,36)\",\"ticks\":\"outside\"},\"colorscale\":[[0.0,\"#440154\"],[0.1111111111111111,\"#482878\"],[0.2222222222222222,\"#3e4989\"],[0.3333333333333333,\"#31688e\"],[0.4444444444444444,\"#26828e\"],[0.5555555555555556,\"#1f9e89\"],[0.6666666666666666,\"#35b779\"],[0.7777777777777778,\"#6ece58\"],[0.8888888888888888,\"#b5de2b\"],[1.0,\"#fde725\"]],\"type\":\"histogram2dcontour\"}],\"histogram2d\":[{\"colorbar\":{\"outlinewidth\":1,\"tickcolor\":\"rgb(36,36,36)\",\"ticks\":\"outside\"},\"colorscale\":[[0.0,\"#440154\"],[0.1111111111111111,\"#482878\"],[0.2222222222222222,\"#3e4989\"],[0.3333333333333333,\"#31688e\"],[0.4444444444444444,\"#26828e\"],[0.5555555555555556,\"#1f9e89\"],[0.6666666666666666,\"#35b779\"],[0.7777777777777778,\"#6ece58\"],[0.8888888888888888,\"#b5de2b\"],[1.0,\"#fde725\"]],\"type\":\"histogram2d\"}],\"histogram\":[{\"marker\":{\"line\":{\"color\":\"white\",\"width\":0.6}},\"type\":\"histogram\"}],\"mesh3d\":[{\"colorbar\":{\"outlinewidth\":1,\"tickcolor\":\"rgb(36,36,36)\",\"ticks\":\"outside\"},\"type\":\"mesh3d\"}],\"parcoords\":[{\"line\":{\"colorbar\":{\"outlinewidth\":1,\"tickcolor\":\"rgb(36,36,36)\",\"ticks\":\"outside\"}},\"type\":\"parcoords\"}],\"pie\":[{\"automargin\":true,\"type\":\"pie\"}],\"scatter3d\":[{\"line\":{\"colorbar\":{\"outlinewidth\":1,\"tickcolor\":\"rgb(36,36,36)\",\"ticks\":\"outside\"}},\"marker\":{\"colorbar\":{\"outlinewidth\":1,\"tickcolor\":\"rgb(36,36,36)\",\"ticks\":\"outside\"}},\"type\":\"scatter3d\"}],\"scattercarpet\":[{\"marker\":{\"colorbar\":{\"outlinewidth\":1,\"tickcolor\":\"rgb(36,36,36)\",\"ticks\":\"outside\"}},\"type\":\"scattercarpet\"}],\"scattergeo\":[{\"marker\":{\"colorbar\":{\"outlinewidth\":1,\"tickcolor\":\"rgb(36,36,36)\",\"ticks\":\"outside\"}},\"type\":\"scattergeo\"}],\"scattergl\":[{\"marker\":{\"colorbar\":{\"outlinewidth\":1,\"tickcolor\":\"rgb(36,36,36)\",\"ticks\":\"outside\"}},\"type\":\"scattergl\"}],\"scattermapbox\":[{\"marker\":{\"colorbar\":{\"outlinewidth\":1,\"tickcolor\":\"rgb(36,36,36)\",\"ticks\":\"outside\"}},\"type\":\"scattermapbox\"}],\"scatterpolargl\":[{\"marker\":{\"colorbar\":{\"outlinewidth\":1,\"tickcolor\":\"rgb(36,36,36)\",\"ticks\":\"outside\"}},\"type\":\"scatterpolargl\"}],\"scatterpolar\":[{\"marker\":{\"colorbar\":{\"outlinewidth\":1,\"tickcolor\":\"rgb(36,36,36)\",\"ticks\":\"outside\"}},\"type\":\"scatterpolar\"}],\"scatter\":[{\"marker\":{\"colorbar\":{\"outlinewidth\":1,\"tickcolor\":\"rgb(36,36,36)\",\"ticks\":\"outside\"}},\"type\":\"scatter\"}],\"scatterternary\":[{\"marker\":{\"colorbar\":{\"outlinewidth\":1,\"tickcolor\":\"rgb(36,36,36)\",\"ticks\":\"outside\"}},\"type\":\"scatterternary\"}],\"surface\":[{\"colorbar\":{\"outlinewidth\":1,\"tickcolor\":\"rgb(36,36,36)\",\"ticks\":\"outside\"},\"colorscale\":[[0.0,\"#440154\"],[0.1111111111111111,\"#482878\"],[0.2222222222222222,\"#3e4989\"],[0.3333333333333333,\"#31688e\"],[0.4444444444444444,\"#26828e\"],[0.5555555555555556,\"#1f9e89\"],[0.6666666666666666,\"#35b779\"],[0.7777777777777778,\"#6ece58\"],[0.8888888888888888,\"#b5de2b\"],[1.0,\"#fde725\"]],\"type\":\"surface\"}],\"table\":[{\"cells\":{\"fill\":{\"color\":\"rgb(237,237,237)\"},\"line\":{\"color\":\"white\"}},\"header\":{\"fill\":{\"color\":\"rgb(217,217,217)\"},\"line\":{\"color\":\"white\"}},\"type\":\"table\"}]},\"layout\":{\"annotationdefaults\":{\"arrowhead\":0,\"arrowwidth\":1},\"autotypenumbers\":\"strict\",\"coloraxis\":{\"colorbar\":{\"outlinewidth\":1,\"tickcolor\":\"rgb(36,36,36)\",\"ticks\":\"outside\"}},\"colorscale\":{\"diverging\":[[0.0,\"rgb(103,0,31)\"],[0.1,\"rgb(178,24,43)\"],[0.2,\"rgb(214,96,77)\"],[0.3,\"rgb(244,165,130)\"],[0.4,\"rgb(253,219,199)\"],[0.5,\"rgb(247,247,247)\"],[0.6,\"rgb(209,229,240)\"],[0.7,\"rgb(146,197,222)\"],[0.8,\"rgb(67,147,195)\"],[0.9,\"rgb(33,102,172)\"],[1.0,\"rgb(5,48,97)\"]],\"sequential\":[[0.0,\"#440154\"],[0.1111111111111111,\"#482878\"],[0.2222222222222222,\"#3e4989\"],[0.3333333333333333,\"#31688e\"],[0.4444444444444444,\"#26828e\"],[0.5555555555555556,\"#1f9e89\"],[0.6666666666666666,\"#35b779\"],[0.7777777777777778,\"#6ece58\"],[0.8888888888888888,\"#b5de2b\"],[1.0,\"#fde725\"]],\"sequentialminus\":[[0.0,\"#440154\"],[0.1111111111111111,\"#482878\"],[0.2222222222222222,\"#3e4989\"],[0.3333333333333333,\"#31688e\"],[0.4444444444444444,\"#26828e\"],[0.5555555555555556,\"#1f9e89\"],[0.6666666666666666,\"#35b779\"],[0.7777777777777778,\"#6ece58\"],[0.8888888888888888,\"#b5de2b\"],[1.0,\"#fde725\"]]},\"colorway\":[\"#1F77B4\",\"#FF7F0E\",\"#2CA02C\",\"#D62728\",\"#9467BD\",\"#8C564B\",\"#E377C2\",\"#7F7F7F\",\"#BCBD22\",\"#17BECF\"],\"font\":{\"color\":\"rgb(36,36,36)\"},\"geo\":{\"bgcolor\":\"white\",\"lakecolor\":\"white\",\"landcolor\":\"white\",\"showlakes\":true,\"showland\":true,\"subunitcolor\":\"white\"},\"hoverlabel\":{\"align\":\"left\"},\"hovermode\":\"closest\",\"mapbox\":{\"style\":\"light\"},\"paper_bgcolor\":\"white\",\"plot_bgcolor\":\"white\",\"polar\":{\"angularaxis\":{\"gridcolor\":\"rgb(232,232,232)\",\"linecolor\":\"rgb(36,36,36)\",\"showgrid\":false,\"showline\":true,\"ticks\":\"outside\"},\"bgcolor\":\"white\",\"radialaxis\":{\"gridcolor\":\"rgb(232,232,232)\",\"linecolor\":\"rgb(36,36,36)\",\"showgrid\":false,\"showline\":true,\"ticks\":\"outside\"}},\"scene\":{\"xaxis\":{\"backgroundcolor\":\"white\",\"gridcolor\":\"rgb(232,232,232)\",\"gridwidth\":2,\"linecolor\":\"rgb(36,36,36)\",\"showbackground\":true,\"showgrid\":false,\"showline\":true,\"ticks\":\"outside\",\"zeroline\":false,\"zerolinecolor\":\"rgb(36,36,36)\"},\"yaxis\":{\"backgroundcolor\":\"white\",\"gridcolor\":\"rgb(232,232,232)\",\"gridwidth\":2,\"linecolor\":\"rgb(36,36,36)\",\"showbackground\":true,\"showgrid\":false,\"showline\":true,\"ticks\":\"outside\",\"zeroline\":false,\"zerolinecolor\":\"rgb(36,36,36)\"},\"zaxis\":{\"backgroundcolor\":\"white\",\"gridcolor\":\"rgb(232,232,232)\",\"gridwidth\":2,\"linecolor\":\"rgb(36,36,36)\",\"showbackground\":true,\"showgrid\":false,\"showline\":true,\"ticks\":\"outside\",\"zeroline\":false,\"zerolinecolor\":\"rgb(36,36,36)\"}},\"shapedefaults\":{\"fillcolor\":\"black\",\"line\":{\"width\":0},\"opacity\":0.3},\"ternary\":{\"aaxis\":{\"gridcolor\":\"rgb(232,232,232)\",\"linecolor\":\"rgb(36,36,36)\",\"showgrid\":false,\"showline\":true,\"ticks\":\"outside\"},\"baxis\":{\"gridcolor\":\"rgb(232,232,232)\",\"linecolor\":\"rgb(36,36,36)\",\"showgrid\":false,\"showline\":true,\"ticks\":\"outside\"},\"bgcolor\":\"white\",\"caxis\":{\"gridcolor\":\"rgb(232,232,232)\",\"linecolor\":\"rgb(36,36,36)\",\"showgrid\":false,\"showline\":true,\"ticks\":\"outside\"}},\"title\":{\"x\":0.05},\"xaxis\":{\"automargin\":true,\"gridcolor\":\"rgb(232,232,232)\",\"linecolor\":\"rgb(36,36,36)\",\"showgrid\":false,\"showline\":true,\"ticks\":\"outside\",\"title\":{\"standoff\":15},\"zeroline\":false,\"zerolinecolor\":\"rgb(36,36,36)\"},\"yaxis\":{\"automargin\":true,\"gridcolor\":\"rgb(232,232,232)\",\"linecolor\":\"rgb(36,36,36)\",\"showgrid\":false,\"showline\":true,\"ticks\":\"outside\",\"title\":{\"standoff\":15},\"zeroline\":false,\"zerolinecolor\":\"rgb(36,36,36)\"}}},\"xaxis\":{\"title\":{\"text\":\"\"},\"dtick\":100},\"yaxis\":{\"title\":{\"text\":\"Number of Individuals\"}},\"width\":1300,\"height\":800,\"title\":{\"text\":\"\"},\"legend\":{\"title\":{\"text\":\"Identifiers\"}}},                        {\"responsive\": true}                    ).then(function(){\n",
       "                            \n",
       "var gd = document.getElementById('713a6918-08ba-4db7-b4e8-39528aee62ba');\n",
       "var x = new MutationObserver(function (mutations, observer) {{\n",
       "        var display = window.getComputedStyle(gd).display;\n",
       "        if (!display || display === 'none') {{\n",
       "            console.log([gd, 'removed!']);\n",
       "            Plotly.purge(gd);\n",
       "            observer.disconnect();\n",
       "        }}\n",
       "}});\n",
       "\n",
       "// Listen for the removal of the full notebook cells\n",
       "var notebookContainer = gd.closest('#notebook-container');\n",
       "if (notebookContainer) {{\n",
       "    x.observe(notebookContainer, {childList: true});\n",
       "}}\n",
       "\n",
       "// Listen for the clearing of the current output cell\n",
       "var outputEl = gd.closest('.output');\n",
       "if (outputEl) {{\n",
       "    x.observe(outputEl, {childList: true});\n",
       "}}\n",
       "\n",
       "                        })                };                });            </script>        </div>"
      ]
     },
     "metadata": {},
     "output_type": "display_data"
    }
   ],
   "source": [
    "def make_figure(df_graph_bis, region_name, min_decade = 1200, max_decade = 1800, top_identifiers = 5, one_id_country = False):\n",
    "    \n",
    "    \n",
    "    df_fig = df_graph_bis[df_graph_bis['region_name']==region_name]\n",
    "    df_fig = df_fig[df_fig['decade']<=max_decade]\n",
    "    df_fig = df_fig[df_fig['decade']>=min_decade]\n",
    "    \n",
    "    if one_id_country:\n",
    "        \n",
    "        df_fig = df_fig[df_fig['country_name']!='']\n",
    "        one_id_country = df_fig.groupby(['country_name', 'identifier_name'])['score'].sum().reset_index()\n",
    "        one_id_country = one_id_country.sort_values(['country_name', 'score'], ascending=(False, False))\n",
    "        one_id_country = one_id_country.groupby('country_name').head(1)\n",
    "        one_id_country = list(one_id_country['identifier_name'])\n",
    "        df_fig = df_fig[df_fig['identifier_name'].isin(one_id_country)]\n",
    "        \n",
    "    top_ids = df_fig.groupby(['identifier_name'])['score'].sum().reset_index().sort_values('score', ascending=False)\n",
    "\n",
    "    #top_ids = top_ids[top_ids['identifier_name']!='all_identifiers']\n",
    "    top_ids = list(top_ids['identifier_name'][:top_identifiers])\n",
    "    df_fig = df_fig[df_fig['identifier_name'].isin(top_ids)]\n",
    "    df_fig_mean = df_fig.groupby(['decade'])['score'].mean().reset_index()\n",
    "    df_fig_mean['identifier_name'] = 'average'\n",
    "\n",
    "    #df_fig = pd.concat([df_fig, df_fig_mean])\n",
    "\n",
    "    fig = px.line(df_fig, x = 'decade', y = 'score', color = 'identifier_name',\n",
    "                  width = 1200, \n",
    "                  height = 600, \n",
    "                  title = region_name, \n",
    "                  template = 'simple_white',\n",
    "                  category_orders={'identifier_name': top_ids}, line_shape='spline')\n",
    "\n",
    "\n",
    "    #fig.update_layout(legend=dict(title=dict(text='Top 5 Immaterial Production')))\n",
    "    fig.update_traces(opacity=0.25)\n",
    "\n",
    "    fig2 = px.line(df_fig_mean, x = 'decade', y = 'score',color = 'identifier_name',\n",
    "              width = 1200, \n",
    "              height = 600, \n",
    "              title = region_name, \n",
    "              template = 'simple_white', line_shape='spline')\n",
    "\n",
    "    fig2.update_traces(line=dict(width=3))\n",
    "    fig3 = go.Figure(data=fig.data + fig2.data)\n",
    "    fig3.update_layout(xaxis_title='', yaxis_title='Number of Individuals',  \n",
    "                       template = 'simple_white',  \n",
    "                       width = 1300, \n",
    "                       height = 800,\n",
    "                      title = '')\n",
    "\n",
    "# Update the layout with the category order\n",
    "\n",
    "\n",
    "    #ig3.for_each_trace(lambda t: t.update(name=legend_order.index(t.name)))\n",
    "    fig3.update_layout(legend=dict(title=dict(text='Identifiers')))\n",
    "    #fig3.update_layout(category_orders={'Identifiers': top_ids})\n",
    "    fig3.update_layout(xaxis=dict(dtick=100))\n",
    "\n",
    "    return fig3, df_fig\n",
    "\n",
    "\n",
    "\n",
    "df_fig_fifty = df_fig.copy()\n",
    "df_fig_fifty['decade'] = df_fig_fifty['decade'].apply(lambda x : round(x/50)*50)\n",
    "df_fig_fifty['decade'] = df_fig_fifty['decade'].apply(lambda x : round(x/50)*50)\n",
    "df_fig_fifty = df_fig_fifty.groupby(['identifier_name', 'country_name', 'region_name', 'decade'])['score'].sum().reset_index()\n",
    "\n",
    "region_name = 'Italy'\n",
    "\n",
    "fig_italy, df_fig_italy = make_figure(df_fig_fifty, \n",
    "                   region_name = region_name, \n",
    "                   min_decade = -300, \n",
    "                   max_decade = 500, \n",
    "                   top_identifiers = 20,\n",
    "                  one_id_country = True)\n",
    "\n",
    "fig_italy.show()\n",
    "fig_italy.write_image(f\"figures/italy_identifiers.png\", scale=7)"
   ]
  },
  {
   "cell_type": "code",
   "execution_count": 16,
   "id": "55c16212-8d8b-48e0-af57-c64017595fc6",
   "metadata": {
    "tags": []
   },
   "outputs": [
    {
     "data": {
      "text/plain": [
       "0.8841142962007862"
      ]
     },
     "execution_count": 16,
     "metadata": {},
     "output_type": "execute_result"
    }
   ],
   "source": [
    "df_corr = df_fig_italy.pivot(index ='decade', columns = 'identifier_name', values = 'score')\n",
    "df_corr = df_corr.fillna(0)\n",
    "df_corr.corr().stack().mean()"
   ]
  },
  {
   "cell_type": "code",
   "execution_count": null,
   "id": "1507247c-5d19-40cc-bf4a-557fa5314139",
   "metadata": {
    "tags": []
   },
   "outputs": [],
   "source": []
  },
  {
   "cell_type": "code",
   "execution_count": null,
   "id": "9727cd35-1e53-415e-b4ef-d488f969d976",
   "metadata": {},
   "outputs": [],
   "source": []
  },
  {
   "cell_type": "code",
   "execution_count": 20,
   "id": "b44a4737-37c9-4f82-bf1d-3219990e329c",
   "metadata": {},
   "outputs": [
    {
     "data": {
      "application/vnd.plotly.v1+json": {
       "config": {
        "plotlyServerURL": "https://plot.ly"
       },
       "data": [
        {
         "hovertemplate": "identifier_name=GND ID (Germany)<br>decade=%{x}<br>score=%{y}<extra></extra>",
         "legendgroup": "GND ID (Germany)",
         "line": {
          "color": "#1F77B4",
          "dash": "solid",
          "shape": "spline"
         },
         "marker": {
          "symbol": "circle"
         },
         "mode": "lines",
         "name": "GND ID (Germany)",
         "opacity": 0.25,
         "orientation": "v",
         "showlegend": true,
         "type": "scatter",
         "x": [
          -800,
          -700,
          -650,
          -600,
          -550,
          -500,
          -450,
          -400,
          -350,
          -300,
          -250,
          -200,
          -150,
          -100,
          -50,
          0,
          50,
          100,
          150,
          200,
          250,
          300,
          350,
          400,
          450,
          500
         ],
         "xaxis": "x",
         "y": [
          5,
          9,
          9,
          49,
          13,
          87,
          54,
          87,
          55,
          64,
          25,
          24,
          18,
          27,
          17,
          10,
          17,
          30,
          13,
          32,
          10,
          19,
          17,
          22,
          22,
          37
         ],
         "yaxis": "y"
        },
        {
         "hovertemplate": "identifier_name=TLG author ID (United States of America)<br>decade=%{x}<br>score=%{y}<extra></extra>",
         "legendgroup": "TLG author ID (United States of America)",
         "line": {
          "color": "#FF7F0E",
          "dash": "solid",
          "shape": "spline"
         },
         "marker": {
          "symbol": "circle"
         },
         "mode": "lines",
         "name": "TLG author ID (United States of America)",
         "opacity": 0.25,
         "orientation": "v",
         "showlegend": true,
         "type": "scatter",
         "x": [
          -800,
          -700,
          -650,
          -600,
          -550,
          -500,
          -450,
          -400,
          -350,
          -300,
          -250,
          -200,
          -150,
          -100,
          -50,
          0,
          50,
          100,
          150,
          200,
          250,
          300,
          350,
          400,
          450,
          500
         ],
         "xaxis": "x",
         "y": [
          2,
          6,
          8,
          22,
          9,
          63,
          46,
          66,
          42,
          61,
          24,
          18,
          16,
          20,
          11,
          8,
          13,
          26,
          10,
          22,
          8,
          14,
          11,
          17,
          14,
          26
         ],
         "yaxis": "y"
        },
        {
         "hovertemplate": "identifier_name=CIRIS author ID (France)<br>decade=%{x}<br>score=%{y}<extra></extra>",
         "legendgroup": "CIRIS author ID (France)",
         "line": {
          "color": "#2CA02C",
          "dash": "solid",
          "shape": "spline"
         },
         "marker": {
          "symbol": "circle"
         },
         "mode": "lines",
         "name": "CIRIS author ID (France)",
         "opacity": 0.25,
         "orientation": "v",
         "showlegend": true,
         "type": "scatter",
         "x": [
          -800,
          -700,
          -650,
          -600,
          -550,
          -500,
          -450,
          -400,
          -350,
          -300,
          -250,
          -200,
          -150,
          -100,
          -50,
          0,
          50,
          100,
          150,
          200,
          250,
          300,
          350,
          400,
          450,
          500
         ],
         "xaxis": "x",
         "y": [
          3,
          7,
          7,
          19,
          9,
          56,
          37,
          60,
          44,
          55,
          19,
          18,
          12,
          19,
          13,
          9,
          17,
          28,
          12,
          29,
          9,
          15,
          15,
          18,
          19,
          32
         ],
         "yaxis": "y"
        },
        {
         "hovertemplate": "identifier_name=Treccani ID (Italy)<br>decade=%{x}<br>score=%{y}<extra></extra>",
         "legendgroup": "Treccani ID (Italy)",
         "line": {
          "color": "#D62728",
          "dash": "solid",
          "shape": "spline"
         },
         "marker": {
          "symbol": "circle"
         },
         "mode": "lines",
         "name": "Treccani ID (Italy)",
         "opacity": 0.25,
         "orientation": "v",
         "showlegend": true,
         "type": "scatter",
         "x": [
          -800,
          -700,
          -650,
          -600,
          -550,
          -500,
          -450,
          -400,
          -350,
          -300,
          -250,
          -200,
          -150,
          -100,
          -50,
          0,
          50,
          100,
          150,
          200,
          250,
          300,
          350,
          400,
          450,
          500
         ],
         "xaxis": "x",
         "y": [
          3,
          7,
          7,
          18,
          10,
          57,
          34,
          45,
          42,
          38,
          14,
          17,
          13,
          17,
          11,
          7,
          12,
          19,
          12,
          23,
          6,
          10,
          14,
          13,
          15,
          17
         ],
         "yaxis": "y"
        },
        {
         "hovertemplate": "identifier_name=Nationale Thesaurus voor Auteurs ID (Netherlands)<br>decade=%{x}<br>score=%{y}<extra></extra>",
         "legendgroup": "Nationale Thesaurus voor Auteurs ID (Netherlands)",
         "line": {
          "color": "#9467BD",
          "dash": "solid",
          "shape": "spline"
         },
         "marker": {
          "symbol": "circle"
         },
         "mode": "lines",
         "name": "Nationale Thesaurus voor Auteurs ID (Netherlands)",
         "opacity": 0.25,
         "orientation": "v",
         "showlegend": true,
         "type": "scatter",
         "x": [
          -800,
          -700,
          -650,
          -600,
          -550,
          -500,
          -450,
          -400,
          -350,
          -300,
          -250,
          -200,
          -150,
          -100,
          -50,
          0,
          50,
          100,
          150,
          200,
          250,
          300,
          350,
          400,
          450,
          500
         ],
         "xaxis": "x",
         "y": [
          2,
          4,
          6,
          16,
          8,
          33,
          25,
          38,
          27,
          36,
          14,
          12,
          8,
          11,
          10,
          10,
          13,
          22,
          11,
          23,
          10,
          13,
          13,
          15,
          20,
          30
         ],
         "yaxis": "y"
        },
        {
         "hovertemplate": "identifier_name=Encyclopædia Britannica Online ID (United Kingdom)<br>decade=%{x}<br>score=%{y}<extra></extra>",
         "legendgroup": "Encyclopædia Britannica Online ID (United Kingdom)",
         "line": {
          "color": "#8C564B",
          "dash": "solid",
          "shape": "spline"
         },
         "marker": {
          "symbol": "circle"
         },
         "mode": "lines",
         "name": "Encyclopædia Britannica Online ID (United Kingdom)",
         "opacity": 0.25,
         "orientation": "v",
         "showlegend": true,
         "type": "scatter",
         "x": [
          -800,
          -700,
          -650,
          -600,
          -550,
          -500,
          -450,
          -400,
          -350,
          -300,
          -250,
          -200,
          -150,
          -100,
          -50,
          0,
          50,
          100,
          150,
          200,
          250,
          300,
          350,
          400,
          450,
          500
         ],
         "xaxis": "x",
         "y": [
          2,
          7,
          8,
          25,
          10,
          52,
          25,
          39,
          31,
          24,
          10,
          10,
          8,
          10,
          8,
          8,
          11,
          17,
          13,
          21,
          6,
          11,
          16,
          10,
          11,
          16
         ],
         "yaxis": "y"
        },
        {
         "hovertemplate": "identifier_name=National Library of Israel J9U ID (Israel)<br>decade=%{x}<br>score=%{y}<extra></extra>",
         "legendgroup": "National Library of Israel J9U ID (Israel)",
         "line": {
          "color": "#E377C2",
          "dash": "solid",
          "shape": "spline"
         },
         "marker": {
          "symbol": "circle"
         },
         "mode": "lines",
         "name": "National Library of Israel J9U ID (Israel)",
         "opacity": 0.25,
         "orientation": "v",
         "showlegend": true,
         "type": "scatter",
         "x": [
          -800,
          -700,
          -650,
          -600,
          -550,
          -500,
          -450,
          -400,
          -350,
          -300,
          -250,
          -200,
          -150,
          -100,
          -50,
          0,
          50,
          100,
          150,
          200,
          250,
          300,
          350,
          400,
          450,
          500
         ],
         "xaxis": "x",
         "y": [
          1,
          4,
          5,
          13,
          8,
          36,
          23,
          33,
          21,
          28,
          10,
          11,
          6,
          11,
          7,
          10,
          16,
          24,
          11,
          22,
          7,
          16,
          15,
          16,
          18,
          29
         ],
         "yaxis": "y"
        },
        {
         "hovertemplate": "identifier_name=Vatican Library VcBA ID (Vatican City)<br>decade=%{x}<br>score=%{y}<extra></extra>",
         "legendgroup": "Vatican Library VcBA ID (Vatican City)",
         "line": {
          "color": "#7F7F7F",
          "dash": "solid",
          "shape": "spline"
         },
         "marker": {
          "symbol": "circle"
         },
         "mode": "lines",
         "name": "Vatican Library VcBA ID (Vatican City)",
         "opacity": 0.25,
         "orientation": "v",
         "showlegend": true,
         "type": "scatter",
         "x": [
          -800,
          -700,
          -650,
          -600,
          -550,
          -500,
          -450,
          -400,
          -350,
          -300,
          -250,
          -200,
          -150,
          -100,
          -50,
          0,
          50,
          100,
          150,
          200,
          250,
          300,
          350,
          400,
          450,
          500
         ],
         "xaxis": "x",
         "y": [
          1,
          2,
          6,
          10,
          7,
          24,
          19,
          25,
          19,
          28,
          8,
          9,
          7,
          11,
          7,
          10,
          12,
          20,
          12,
          23,
          5,
          15,
          15,
          13,
          18,
          30
         ],
         "yaxis": "y"
        },
        {
         "hovertemplate": "identifier_name=NUKAT ID (Poland)<br>decade=%{x}<br>score=%{y}<extra></extra>",
         "legendgroup": "NUKAT ID (Poland)",
         "line": {
          "color": "#BCBD22",
          "dash": "solid",
          "shape": "spline"
         },
         "marker": {
          "symbol": "circle"
         },
         "mode": "lines",
         "name": "NUKAT ID (Poland)",
         "opacity": 0.25,
         "orientation": "v",
         "showlegend": true,
         "type": "scatter",
         "x": [
          -800,
          -700,
          -650,
          -600,
          -550,
          -500,
          -450,
          -400,
          -350,
          -300,
          -250,
          -200,
          -150,
          -100,
          -50,
          0,
          50,
          100,
          150,
          200,
          250,
          300,
          350,
          400,
          450,
          500
         ],
         "xaxis": "x",
         "y": [
          2,
          3,
          6,
          10,
          7,
          28,
          19,
          21,
          22,
          19,
          12,
          7,
          7,
          9,
          6,
          9,
          12,
          19,
          10,
          18,
          7,
          13,
          14,
          13,
          17,
          28
         ],
         "yaxis": "y"
        },
        {
         "hovertemplate": "identifier_name=NORAF ID (Norway)<br>decade=%{x}<br>score=%{y}<extra></extra>",
         "legendgroup": "NORAF ID (Norway)",
         "line": {
          "color": "#17BECF",
          "dash": "solid",
          "shape": "spline"
         },
         "marker": {
          "symbol": "circle"
         },
         "mode": "lines",
         "name": "NORAF ID (Norway)",
         "opacity": 0.25,
         "orientation": "v",
         "showlegend": true,
         "type": "scatter",
         "x": [
          -800,
          -700,
          -650,
          -600,
          -550,
          -500,
          -450,
          -400,
          -350,
          -300,
          -250,
          -200,
          -150,
          -100,
          -50,
          0,
          50,
          100,
          150,
          200,
          250,
          300,
          350,
          400,
          450,
          500
         ],
         "xaxis": "x",
         "y": [
          1,
          1,
          6,
          6,
          7,
          25,
          15,
          28,
          17,
          24,
          9,
          11,
          5,
          6,
          7,
          9,
          13,
          13,
          10,
          19,
          6,
          12,
          13,
          12,
          16,
          26
         ],
         "yaxis": "y"
        },
        {
         "hovertemplate": "identifier_name=Biblioteca Nacional de España ID (Spain)<br>decade=%{x}<br>score=%{y}<extra></extra>",
         "legendgroup": "Biblioteca Nacional de España ID (Spain)",
         "line": {
          "color": "#1F77B4",
          "dash": "solid",
          "shape": "spline"
         },
         "marker": {
          "symbol": "circle"
         },
         "mode": "lines",
         "name": "Biblioteca Nacional de España ID (Spain)",
         "opacity": 0.25,
         "orientation": "v",
         "showlegend": true,
         "type": "scatter",
         "x": [
          -800,
          -700,
          -650,
          -600,
          -550,
          -500,
          -450,
          -400,
          -350,
          -300,
          -250,
          -200,
          -150,
          -100,
          -50,
          0,
          50,
          100,
          150,
          200,
          250,
          300,
          350,
          400,
          450,
          500
         ],
         "xaxis": "x",
         "y": [
          2,
          2,
          6,
          8,
          6,
          22,
          13,
          21,
          18,
          19,
          9,
          5,
          6,
          8,
          4,
          9,
          12,
          18,
          9,
          17,
          6,
          12,
          13,
          9,
          13,
          20
         ],
         "yaxis": "y"
        },
        {
         "hovertemplate": "identifier_name=SELIBR ID (Sweden)<br>decade=%{x}<br>score=%{y}<extra></extra>",
         "legendgroup": "SELIBR ID (Sweden)",
         "line": {
          "color": "#FF7F0E",
          "dash": "solid",
          "shape": "spline"
         },
         "marker": {
          "symbol": "circle"
         },
         "mode": "lines",
         "name": "SELIBR ID (Sweden)",
         "opacity": 0.25,
         "orientation": "v",
         "showlegend": true,
         "type": "scatter",
         "x": [
          -800,
          -700,
          -650,
          -600,
          -550,
          -500,
          -450,
          -400,
          -350,
          -300,
          -250,
          -200,
          -150,
          -100,
          -50,
          0,
          50,
          100,
          150,
          200,
          250,
          300,
          350,
          400,
          450,
          500
         ],
         "xaxis": "x",
         "y": [
          1,
          2,
          6,
          7,
          7,
          21,
          12,
          14,
          12,
          19,
          7,
          8,
          7,
          5,
          6,
          8,
          11,
          17,
          9,
          16,
          7,
          11,
          11,
          11,
          13,
          23
         ],
         "yaxis": "y"
        },
        {
         "hovertemplate": "identifier_name=Great Russian Encyclopedia Online ID (old version) (Russia)<br>decade=%{x}<br>score=%{y}<extra></extra>",
         "legendgroup": "Great Russian Encyclopedia Online ID (old version) (Russia)",
         "line": {
          "color": "#2CA02C",
          "dash": "solid",
          "shape": "spline"
         },
         "marker": {
          "symbol": "circle"
         },
         "mode": "lines",
         "name": "Great Russian Encyclopedia Online ID (old version) (Russia)",
         "opacity": 0.25,
         "orientation": "v",
         "showlegend": true,
         "type": "scatter",
         "x": [
          -800,
          -700,
          -650,
          -600,
          -550,
          -500,
          -450,
          -400,
          -350,
          -300,
          -250,
          -200,
          -150,
          -100,
          -50,
          0,
          50,
          100,
          150,
          200,
          250,
          300,
          350,
          400,
          450,
          500
         ],
         "xaxis": "x",
         "y": [
          1,
          4,
          6,
          12,
          6,
          33,
          19,
          23,
          18,
          17,
          7,
          5,
          5,
          7,
          4,
          6,
          9,
          12,
          4,
          10,
          3,
          7,
          10,
          4,
          6,
          11
         ],
         "yaxis": "y"
        },
        {
         "hovertemplate": "identifier_name=National Library of Greece ID (Greece)<br>decade=%{x}<br>score=%{y}<extra></extra>",
         "legendgroup": "National Library of Greece ID (Greece)",
         "line": {
          "color": "#D62728",
          "dash": "solid",
          "shape": "spline"
         },
         "marker": {
          "symbol": "circle"
         },
         "mode": "lines",
         "name": "National Library of Greece ID (Greece)",
         "opacity": 0.25,
         "orientation": "v",
         "showlegend": true,
         "type": "scatter",
         "x": [
          -800,
          -700,
          -650,
          -600,
          -550,
          -500,
          -450,
          -400,
          -350,
          -300,
          -250,
          -200,
          -150,
          -100,
          -50,
          0,
          50,
          100,
          150,
          200,
          250,
          300,
          350,
          400,
          450,
          500
         ],
         "xaxis": "x",
         "y": [
          1,
          2,
          6,
          8,
          6,
          15,
          16,
          16,
          16,
          12,
          7,
          3,
          5,
          4,
          5,
          6,
          9,
          10,
          5,
          14,
          5,
          10,
          16,
          9,
          9,
          16
         ],
         "yaxis": "y"
        },
        {
         "hovertemplate": "identifier_name=Hrvatska enciklopedija ID (Croatia)<br>decade=%{x}<br>score=%{y}<extra></extra>",
         "legendgroup": "Hrvatska enciklopedija ID (Croatia)",
         "line": {
          "color": "#9467BD",
          "dash": "solid",
          "shape": "spline"
         },
         "marker": {
          "symbol": "circle"
         },
         "mode": "lines",
         "name": "Hrvatska enciklopedija ID (Croatia)",
         "opacity": 0.25,
         "orientation": "v",
         "showlegend": true,
         "type": "scatter",
         "x": [
          -800,
          -700,
          -650,
          -600,
          -550,
          -500,
          -450,
          -400,
          -350,
          -300,
          -250,
          -200,
          -150,
          -100,
          -50,
          0,
          50,
          100,
          150,
          200,
          250,
          300,
          350,
          400,
          450,
          500
         ],
         "xaxis": "x",
         "y": [
          2,
          5,
          5,
          11,
          9,
          30,
          19,
          20,
          17,
          16,
          7,
          4,
          5,
          6,
          4,
          5,
          10,
          9,
          4,
          8,
          4,
          5,
          8,
          3,
          3,
          5
         ],
         "yaxis": "y"
        },
        {
         "hovertemplate": "identifier_name=Canadiana Name Authority ID (Canada)<br>decade=%{x}<br>score=%{y}<extra></extra>",
         "legendgroup": "Canadiana Name Authority ID (Canada)",
         "line": {
          "color": "#8C564B",
          "dash": "solid",
          "shape": "spline"
         },
         "marker": {
          "symbol": "circle"
         },
         "mode": "lines",
         "name": "Canadiana Name Authority ID (Canada)",
         "opacity": 0.25,
         "orientation": "v",
         "showlegend": true,
         "type": "scatter",
         "x": [
          -800,
          -650,
          -600,
          -550,
          -500,
          -450,
          -400,
          -350,
          -300,
          -250,
          -200,
          -150,
          -100,
          -50,
          0,
          50,
          100,
          150,
          200,
          250,
          300,
          350,
          400,
          450,
          500
         ],
         "xaxis": "x",
         "y": [
          1,
          4,
          10,
          6,
          16,
          12,
          14,
          11,
          9,
          6,
          6,
          3,
          5,
          6,
          7,
          10,
          11,
          10,
          12,
          3,
          10,
          12,
          10,
          7,
          16
         ],
         "yaxis": "y"
        },
        {
         "hovertemplate": "identifier_name=NKCR AUT ID (Czech Republic)<br>decade=%{x}<br>score=%{y}<extra></extra>",
         "legendgroup": "NKCR AUT ID (Czech Republic)",
         "line": {
          "color": "#E377C2",
          "dash": "solid",
          "shape": "spline"
         },
         "marker": {
          "symbol": "circle"
         },
         "mode": "lines",
         "name": "NKCR AUT ID (Czech Republic)",
         "opacity": 0.25,
         "orientation": "v",
         "showlegend": true,
         "type": "scatter",
         "x": [
          -800,
          -700,
          -650,
          -600,
          -550,
          -500,
          -450,
          -400,
          -350,
          -300,
          -250,
          -200,
          -150,
          -100,
          -50,
          0,
          50,
          100,
          150,
          200,
          250,
          300,
          350,
          400,
          450,
          500
         ],
         "xaxis": "x",
         "y": [
          1,
          2,
          5,
          7,
          6,
          18,
          11,
          12,
          9,
          10,
          6,
          2,
          3,
          4,
          3,
          7,
          8,
          13,
          9,
          15,
          6,
          10,
          13,
          7,
          7,
          18
         ],
         "yaxis": "y"
        },
        {
         "hovertemplate": "identifier_name=CiNii Books author ID (Japan)<br>decade=%{x}<br>score=%{y}<extra></extra>",
         "legendgroup": "CiNii Books author ID (Japan)",
         "line": {
          "color": "#7F7F7F",
          "dash": "solid",
          "shape": "spline"
         },
         "marker": {
          "symbol": "circle"
         },
         "mode": "lines",
         "name": "CiNii Books author ID (Japan)",
         "opacity": 0.25,
         "orientation": "v",
         "showlegend": true,
         "type": "scatter",
         "x": [
          -800,
          -700,
          -650,
          -600,
          -550,
          -500,
          -450,
          -400,
          -350,
          -300,
          -250,
          -200,
          -150,
          -100,
          -50,
          0,
          50,
          100,
          150,
          200,
          250,
          300,
          350,
          400,
          450,
          500
         ],
         "xaxis": "x",
         "y": [
          1,
          3,
          5,
          7,
          4,
          13,
          10,
          11,
          11,
          16,
          8,
          4,
          4,
          3,
          5,
          7,
          10,
          14,
          7,
          16,
          3,
          10,
          10,
          6,
          8,
          16
         ],
         "yaxis": "y"
        },
        {
         "hovertemplate": "identifier_name=Den Store Danske ID (Denmark)<br>decade=%{x}<br>score=%{y}<extra></extra>",
         "legendgroup": "Den Store Danske ID (Denmark)",
         "line": {
          "color": "#BCBD22",
          "dash": "solid",
          "shape": "spline"
         },
         "marker": {
          "symbol": "circle"
         },
         "mode": "lines",
         "name": "Den Store Danske ID (Denmark)",
         "opacity": 0.25,
         "orientation": "v",
         "showlegend": true,
         "type": "scatter",
         "x": [
          -800,
          -700,
          -650,
          -600,
          -550,
          -500,
          -450,
          -400,
          -350,
          -300,
          -250,
          -200,
          -150,
          -100,
          -50,
          0,
          50,
          100,
          150,
          200,
          250,
          300,
          350,
          400,
          450,
          500
         ],
         "xaxis": "x",
         "y": [
          1,
          1,
          6,
          10,
          7,
          24,
          15,
          20,
          8,
          14,
          6,
          6,
          4,
          4,
          4,
          5,
          7,
          9,
          6,
          10,
          2,
          6,
          7,
          1,
          5,
          2
         ],
         "yaxis": "y"
        },
        {
         "hovertemplate": "identifier_name=NLA Trove people ID (Australia)<br>decade=%{x}<br>score=%{y}<extra></extra>",
         "legendgroup": "NLA Trove people ID (Australia)",
         "line": {
          "color": "#17BECF",
          "dash": "solid",
          "shape": "spline"
         },
         "marker": {
          "symbol": "circle"
         },
         "mode": "lines",
         "name": "NLA Trove people ID (Australia)",
         "opacity": 0.25,
         "orientation": "v",
         "showlegend": true,
         "type": "scatter",
         "x": [
          -800,
          -650,
          -600,
          -550,
          -500,
          -450,
          -400,
          -350,
          -300,
          -250,
          -200,
          -150,
          -100,
          -50,
          0,
          50,
          100,
          150,
          200,
          250,
          300,
          350,
          400,
          450,
          500
         ],
         "xaxis": "x",
         "y": [
          1,
          3,
          3,
          6,
          11,
          8,
          7,
          6,
          8,
          4,
          2,
          2,
          4,
          2,
          6,
          8,
          11,
          7,
          13,
          4,
          12,
          12,
          6,
          9,
          14
         ],
         "yaxis": "y"
        },
        {
         "hovertemplate": "identifier_name=average<br>decade=%{x}<br>score=%{y}<extra></extra>",
         "legendgroup": "average",
         "line": {
          "color": "#1F77B4",
          "dash": "solid",
          "shape": "spline",
          "width": 3
         },
         "marker": {
          "symbol": "circle"
         },
         "mode": "lines",
         "name": "average",
         "orientation": "v",
         "showlegend": true,
         "type": "scatter",
         "x": [
          -800,
          -700,
          -650,
          -600,
          -550,
          -500,
          -450,
          -400,
          -350,
          -300,
          -250,
          -200,
          -150,
          -100,
          -50,
          0,
          50,
          100,
          150,
          200,
          250,
          300,
          350,
          400,
          450,
          500
         ],
         "xaxis": "x",
         "y": [
          1.7,
          3.9444444444444446,
          6,
          13.55,
          7.55,
          33.2,
          21.6,
          30,
          22.3,
          25.85,
          10.6,
          9.1,
          7.2,
          9.55,
          7,
          7.8,
          11.5,
          17.1,
          9.2,
          18.15,
          5.85,
          11.55,
          12.75,
          10.75,
          12.5,
          20.6
         ],
         "yaxis": "y"
        }
       ],
       "layout": {
        "height": 800,
        "legend": {
         "title": {
          "text": "Identifiers"
         }
        },
        "template": {
         "data": {
          "bar": [
           {
            "error_x": {
             "color": "rgb(36,36,36)"
            },
            "error_y": {
             "color": "rgb(36,36,36)"
            },
            "marker": {
             "line": {
              "color": "white",
              "width": 0.5
             },
             "pattern": {
              "fillmode": "overlay",
              "size": 10,
              "solidity": 0.2
             }
            },
            "type": "bar"
           }
          ],
          "barpolar": [
           {
            "marker": {
             "line": {
              "color": "white",
              "width": 0.5
             },
             "pattern": {
              "fillmode": "overlay",
              "size": 10,
              "solidity": 0.2
             }
            },
            "type": "barpolar"
           }
          ],
          "carpet": [
           {
            "aaxis": {
             "endlinecolor": "rgb(36,36,36)",
             "gridcolor": "white",
             "linecolor": "white",
             "minorgridcolor": "white",
             "startlinecolor": "rgb(36,36,36)"
            },
            "baxis": {
             "endlinecolor": "rgb(36,36,36)",
             "gridcolor": "white",
             "linecolor": "white",
             "minorgridcolor": "white",
             "startlinecolor": "rgb(36,36,36)"
            },
            "type": "carpet"
           }
          ],
          "choropleth": [
           {
            "colorbar": {
             "outlinewidth": 1,
             "tickcolor": "rgb(36,36,36)",
             "ticks": "outside"
            },
            "type": "choropleth"
           }
          ],
          "contour": [
           {
            "colorbar": {
             "outlinewidth": 1,
             "tickcolor": "rgb(36,36,36)",
             "ticks": "outside"
            },
            "colorscale": [
             [
              0,
              "#440154"
             ],
             [
              0.1111111111111111,
              "#482878"
             ],
             [
              0.2222222222222222,
              "#3e4989"
             ],
             [
              0.3333333333333333,
              "#31688e"
             ],
             [
              0.4444444444444444,
              "#26828e"
             ],
             [
              0.5555555555555556,
              "#1f9e89"
             ],
             [
              0.6666666666666666,
              "#35b779"
             ],
             [
              0.7777777777777778,
              "#6ece58"
             ],
             [
              0.8888888888888888,
              "#b5de2b"
             ],
             [
              1,
              "#fde725"
             ]
            ],
            "type": "contour"
           }
          ],
          "contourcarpet": [
           {
            "colorbar": {
             "outlinewidth": 1,
             "tickcolor": "rgb(36,36,36)",
             "ticks": "outside"
            },
            "type": "contourcarpet"
           }
          ],
          "heatmap": [
           {
            "colorbar": {
             "outlinewidth": 1,
             "tickcolor": "rgb(36,36,36)",
             "ticks": "outside"
            },
            "colorscale": [
             [
              0,
              "#440154"
             ],
             [
              0.1111111111111111,
              "#482878"
             ],
             [
              0.2222222222222222,
              "#3e4989"
             ],
             [
              0.3333333333333333,
              "#31688e"
             ],
             [
              0.4444444444444444,
              "#26828e"
             ],
             [
              0.5555555555555556,
              "#1f9e89"
             ],
             [
              0.6666666666666666,
              "#35b779"
             ],
             [
              0.7777777777777778,
              "#6ece58"
             ],
             [
              0.8888888888888888,
              "#b5de2b"
             ],
             [
              1,
              "#fde725"
             ]
            ],
            "type": "heatmap"
           }
          ],
          "heatmapgl": [
           {
            "colorbar": {
             "outlinewidth": 1,
             "tickcolor": "rgb(36,36,36)",
             "ticks": "outside"
            },
            "colorscale": [
             [
              0,
              "#440154"
             ],
             [
              0.1111111111111111,
              "#482878"
             ],
             [
              0.2222222222222222,
              "#3e4989"
             ],
             [
              0.3333333333333333,
              "#31688e"
             ],
             [
              0.4444444444444444,
              "#26828e"
             ],
             [
              0.5555555555555556,
              "#1f9e89"
             ],
             [
              0.6666666666666666,
              "#35b779"
             ],
             [
              0.7777777777777778,
              "#6ece58"
             ],
             [
              0.8888888888888888,
              "#b5de2b"
             ],
             [
              1,
              "#fde725"
             ]
            ],
            "type": "heatmapgl"
           }
          ],
          "histogram": [
           {
            "marker": {
             "line": {
              "color": "white",
              "width": 0.6
             }
            },
            "type": "histogram"
           }
          ],
          "histogram2d": [
           {
            "colorbar": {
             "outlinewidth": 1,
             "tickcolor": "rgb(36,36,36)",
             "ticks": "outside"
            },
            "colorscale": [
             [
              0,
              "#440154"
             ],
             [
              0.1111111111111111,
              "#482878"
             ],
             [
              0.2222222222222222,
              "#3e4989"
             ],
             [
              0.3333333333333333,
              "#31688e"
             ],
             [
              0.4444444444444444,
              "#26828e"
             ],
             [
              0.5555555555555556,
              "#1f9e89"
             ],
             [
              0.6666666666666666,
              "#35b779"
             ],
             [
              0.7777777777777778,
              "#6ece58"
             ],
             [
              0.8888888888888888,
              "#b5de2b"
             ],
             [
              1,
              "#fde725"
             ]
            ],
            "type": "histogram2d"
           }
          ],
          "histogram2dcontour": [
           {
            "colorbar": {
             "outlinewidth": 1,
             "tickcolor": "rgb(36,36,36)",
             "ticks": "outside"
            },
            "colorscale": [
             [
              0,
              "#440154"
             ],
             [
              0.1111111111111111,
              "#482878"
             ],
             [
              0.2222222222222222,
              "#3e4989"
             ],
             [
              0.3333333333333333,
              "#31688e"
             ],
             [
              0.4444444444444444,
              "#26828e"
             ],
             [
              0.5555555555555556,
              "#1f9e89"
             ],
             [
              0.6666666666666666,
              "#35b779"
             ],
             [
              0.7777777777777778,
              "#6ece58"
             ],
             [
              0.8888888888888888,
              "#b5de2b"
             ],
             [
              1,
              "#fde725"
             ]
            ],
            "type": "histogram2dcontour"
           }
          ],
          "mesh3d": [
           {
            "colorbar": {
             "outlinewidth": 1,
             "tickcolor": "rgb(36,36,36)",
             "ticks": "outside"
            },
            "type": "mesh3d"
           }
          ],
          "parcoords": [
           {
            "line": {
             "colorbar": {
              "outlinewidth": 1,
              "tickcolor": "rgb(36,36,36)",
              "ticks": "outside"
             }
            },
            "type": "parcoords"
           }
          ],
          "pie": [
           {
            "automargin": true,
            "type": "pie"
           }
          ],
          "scatter": [
           {
            "marker": {
             "colorbar": {
              "outlinewidth": 1,
              "tickcolor": "rgb(36,36,36)",
              "ticks": "outside"
             }
            },
            "type": "scatter"
           }
          ],
          "scatter3d": [
           {
            "line": {
             "colorbar": {
              "outlinewidth": 1,
              "tickcolor": "rgb(36,36,36)",
              "ticks": "outside"
             }
            },
            "marker": {
             "colorbar": {
              "outlinewidth": 1,
              "tickcolor": "rgb(36,36,36)",
              "ticks": "outside"
             }
            },
            "type": "scatter3d"
           }
          ],
          "scattercarpet": [
           {
            "marker": {
             "colorbar": {
              "outlinewidth": 1,
              "tickcolor": "rgb(36,36,36)",
              "ticks": "outside"
             }
            },
            "type": "scattercarpet"
           }
          ],
          "scattergeo": [
           {
            "marker": {
             "colorbar": {
              "outlinewidth": 1,
              "tickcolor": "rgb(36,36,36)",
              "ticks": "outside"
             }
            },
            "type": "scattergeo"
           }
          ],
          "scattergl": [
           {
            "marker": {
             "colorbar": {
              "outlinewidth": 1,
              "tickcolor": "rgb(36,36,36)",
              "ticks": "outside"
             }
            },
            "type": "scattergl"
           }
          ],
          "scattermapbox": [
           {
            "marker": {
             "colorbar": {
              "outlinewidth": 1,
              "tickcolor": "rgb(36,36,36)",
              "ticks": "outside"
             }
            },
            "type": "scattermapbox"
           }
          ],
          "scatterpolar": [
           {
            "marker": {
             "colorbar": {
              "outlinewidth": 1,
              "tickcolor": "rgb(36,36,36)",
              "ticks": "outside"
             }
            },
            "type": "scatterpolar"
           }
          ],
          "scatterpolargl": [
           {
            "marker": {
             "colorbar": {
              "outlinewidth": 1,
              "tickcolor": "rgb(36,36,36)",
              "ticks": "outside"
             }
            },
            "type": "scatterpolargl"
           }
          ],
          "scatterternary": [
           {
            "marker": {
             "colorbar": {
              "outlinewidth": 1,
              "tickcolor": "rgb(36,36,36)",
              "ticks": "outside"
             }
            },
            "type": "scatterternary"
           }
          ],
          "surface": [
           {
            "colorbar": {
             "outlinewidth": 1,
             "tickcolor": "rgb(36,36,36)",
             "ticks": "outside"
            },
            "colorscale": [
             [
              0,
              "#440154"
             ],
             [
              0.1111111111111111,
              "#482878"
             ],
             [
              0.2222222222222222,
              "#3e4989"
             ],
             [
              0.3333333333333333,
              "#31688e"
             ],
             [
              0.4444444444444444,
              "#26828e"
             ],
             [
              0.5555555555555556,
              "#1f9e89"
             ],
             [
              0.6666666666666666,
              "#35b779"
             ],
             [
              0.7777777777777778,
              "#6ece58"
             ],
             [
              0.8888888888888888,
              "#b5de2b"
             ],
             [
              1,
              "#fde725"
             ]
            ],
            "type": "surface"
           }
          ],
          "table": [
           {
            "cells": {
             "fill": {
              "color": "rgb(237,237,237)"
             },
             "line": {
              "color": "white"
             }
            },
            "header": {
             "fill": {
              "color": "rgb(217,217,217)"
             },
             "line": {
              "color": "white"
             }
            },
            "type": "table"
           }
          ]
         },
         "layout": {
          "annotationdefaults": {
           "arrowhead": 0,
           "arrowwidth": 1
          },
          "autotypenumbers": "strict",
          "coloraxis": {
           "colorbar": {
            "outlinewidth": 1,
            "tickcolor": "rgb(36,36,36)",
            "ticks": "outside"
           }
          },
          "colorscale": {
           "diverging": [
            [
             0,
             "rgb(103,0,31)"
            ],
            [
             0.1,
             "rgb(178,24,43)"
            ],
            [
             0.2,
             "rgb(214,96,77)"
            ],
            [
             0.3,
             "rgb(244,165,130)"
            ],
            [
             0.4,
             "rgb(253,219,199)"
            ],
            [
             0.5,
             "rgb(247,247,247)"
            ],
            [
             0.6,
             "rgb(209,229,240)"
            ],
            [
             0.7,
             "rgb(146,197,222)"
            ],
            [
             0.8,
             "rgb(67,147,195)"
            ],
            [
             0.9,
             "rgb(33,102,172)"
            ],
            [
             1,
             "rgb(5,48,97)"
            ]
           ],
           "sequential": [
            [
             0,
             "#440154"
            ],
            [
             0.1111111111111111,
             "#482878"
            ],
            [
             0.2222222222222222,
             "#3e4989"
            ],
            [
             0.3333333333333333,
             "#31688e"
            ],
            [
             0.4444444444444444,
             "#26828e"
            ],
            [
             0.5555555555555556,
             "#1f9e89"
            ],
            [
             0.6666666666666666,
             "#35b779"
            ],
            [
             0.7777777777777778,
             "#6ece58"
            ],
            [
             0.8888888888888888,
             "#b5de2b"
            ],
            [
             1,
             "#fde725"
            ]
           ],
           "sequentialminus": [
            [
             0,
             "#440154"
            ],
            [
             0.1111111111111111,
             "#482878"
            ],
            [
             0.2222222222222222,
             "#3e4989"
            ],
            [
             0.3333333333333333,
             "#31688e"
            ],
            [
             0.4444444444444444,
             "#26828e"
            ],
            [
             0.5555555555555556,
             "#1f9e89"
            ],
            [
             0.6666666666666666,
             "#35b779"
            ],
            [
             0.7777777777777778,
             "#6ece58"
            ],
            [
             0.8888888888888888,
             "#b5de2b"
            ],
            [
             1,
             "#fde725"
            ]
           ]
          },
          "colorway": [
           "#1F77B4",
           "#FF7F0E",
           "#2CA02C",
           "#D62728",
           "#9467BD",
           "#8C564B",
           "#E377C2",
           "#7F7F7F",
           "#BCBD22",
           "#17BECF"
          ],
          "font": {
           "color": "rgb(36,36,36)"
          },
          "geo": {
           "bgcolor": "white",
           "lakecolor": "white",
           "landcolor": "white",
           "showlakes": true,
           "showland": true,
           "subunitcolor": "white"
          },
          "hoverlabel": {
           "align": "left"
          },
          "hovermode": "closest",
          "mapbox": {
           "style": "light"
          },
          "paper_bgcolor": "white",
          "plot_bgcolor": "white",
          "polar": {
           "angularaxis": {
            "gridcolor": "rgb(232,232,232)",
            "linecolor": "rgb(36,36,36)",
            "showgrid": false,
            "showline": true,
            "ticks": "outside"
           },
           "bgcolor": "white",
           "radialaxis": {
            "gridcolor": "rgb(232,232,232)",
            "linecolor": "rgb(36,36,36)",
            "showgrid": false,
            "showline": true,
            "ticks": "outside"
           }
          },
          "scene": {
           "xaxis": {
            "backgroundcolor": "white",
            "gridcolor": "rgb(232,232,232)",
            "gridwidth": 2,
            "linecolor": "rgb(36,36,36)",
            "showbackground": true,
            "showgrid": false,
            "showline": true,
            "ticks": "outside",
            "zeroline": false,
            "zerolinecolor": "rgb(36,36,36)"
           },
           "yaxis": {
            "backgroundcolor": "white",
            "gridcolor": "rgb(232,232,232)",
            "gridwidth": 2,
            "linecolor": "rgb(36,36,36)",
            "showbackground": true,
            "showgrid": false,
            "showline": true,
            "ticks": "outside",
            "zeroline": false,
            "zerolinecolor": "rgb(36,36,36)"
           },
           "zaxis": {
            "backgroundcolor": "white",
            "gridcolor": "rgb(232,232,232)",
            "gridwidth": 2,
            "linecolor": "rgb(36,36,36)",
            "showbackground": true,
            "showgrid": false,
            "showline": true,
            "ticks": "outside",
            "zeroline": false,
            "zerolinecolor": "rgb(36,36,36)"
           }
          },
          "shapedefaults": {
           "fillcolor": "black",
           "line": {
            "width": 0
           },
           "opacity": 0.3
          },
          "ternary": {
           "aaxis": {
            "gridcolor": "rgb(232,232,232)",
            "linecolor": "rgb(36,36,36)",
            "showgrid": false,
            "showline": true,
            "ticks": "outside"
           },
           "baxis": {
            "gridcolor": "rgb(232,232,232)",
            "linecolor": "rgb(36,36,36)",
            "showgrid": false,
            "showline": true,
            "ticks": "outside"
           },
           "bgcolor": "white",
           "caxis": {
            "gridcolor": "rgb(232,232,232)",
            "linecolor": "rgb(36,36,36)",
            "showgrid": false,
            "showline": true,
            "ticks": "outside"
           }
          },
          "title": {
           "x": 0.05
          },
          "xaxis": {
           "automargin": true,
           "gridcolor": "rgb(232,232,232)",
           "linecolor": "rgb(36,36,36)",
           "showgrid": false,
           "showline": true,
           "ticks": "outside",
           "title": {
            "standoff": 15
           },
           "zeroline": false,
           "zerolinecolor": "rgb(36,36,36)"
          },
          "yaxis": {
           "automargin": true,
           "gridcolor": "rgb(232,232,232)",
           "linecolor": "rgb(36,36,36)",
           "showgrid": false,
           "showline": true,
           "ticks": "outside",
           "title": {
            "standoff": 15
           },
           "zeroline": false,
           "zerolinecolor": "rgb(36,36,36)"
          }
         }
        },
        "title": {
         "text": ""
        },
        "width": 1300,
        "xaxis": {
         "autorange": true,
         "dtick": 100,
         "range": [
          -800,
          500
         ],
         "title": {
          "text": ""
         },
         "type": "linear"
        },
        "yaxis": {
         "autorange": true,
         "range": [
          -3.7777777777777786,
          91.77777777777777
         ],
         "title": {
          "text": "Number of Individuals"
         },
         "type": "linear"
        }
       }
      },
      "image/png": "[encoded data removed]",
      "text/html": [
       "<div>                            <div id=\"2a3dd14d-56e7-4a6f-8b09-aa48acde1900\" class=\"plotly-graph-div\" style=\"height:800px; width:1300px;\"></div>            <script type=\"text/javascript\">                require([\"plotly\"], function(Plotly) {                    window.PLOTLYENV=window.PLOTLYENV || {};                                    if (document.getElementById(\"2a3dd14d-56e7-4a6f-8b09-aa48acde1900\")) {                    Plotly.newPlot(                        \"2a3dd14d-56e7-4a6f-8b09-aa48acde1900\",                        [{\"hovertemplate\":\"identifier_name=GND ID (Germany)<br>decade=%{x}<br>score=%{y}<extra></extra>\",\"legendgroup\":\"GND ID (Germany)\",\"line\":{\"color\":\"#1F77B4\",\"dash\":\"solid\",\"shape\":\"spline\"},\"marker\":{\"symbol\":\"circle\"},\"mode\":\"lines\",\"name\":\"GND ID (Germany)\",\"opacity\":0.25,\"orientation\":\"v\",\"showlegend\":true,\"x\":[-800,-700,-650,-600,-550,-500,-450,-400,-350,-300,-250,-200,-150,-100,-50,0,50,100,150,200,250,300,350,400,450,500],\"xaxis\":\"x\",\"y\":[5,9,9,49,13,87,54,87,55,64,25,24,18,27,17,10,17,30,13,32,10,19,17,22,22,37],\"yaxis\":\"y\",\"type\":\"scatter\"},{\"hovertemplate\":\"identifier_name=TLG author ID (United States of America)<br>decade=%{x}<br>score=%{y}<extra></extra>\",\"legendgroup\":\"TLG author ID (United States of America)\",\"line\":{\"color\":\"#FF7F0E\",\"dash\":\"solid\",\"shape\":\"spline\"},\"marker\":{\"symbol\":\"circle\"},\"mode\":\"lines\",\"name\":\"TLG author ID (United States of America)\",\"opacity\":0.25,\"orientation\":\"v\",\"showlegend\":true,\"x\":[-800,-700,-650,-600,-550,-500,-450,-400,-350,-300,-250,-200,-150,-100,-50,0,50,100,150,200,250,300,350,400,450,500],\"xaxis\":\"x\",\"y\":[2,6,8,22,9,63,46,66,42,61,24,18,16,20,11,8,13,26,10,22,8,14,11,17,14,26],\"yaxis\":\"y\",\"type\":\"scatter\"},{\"hovertemplate\":\"identifier_name=CIRIS author ID (France)<br>decade=%{x}<br>score=%{y}<extra></extra>\",\"legendgroup\":\"CIRIS author ID (France)\",\"line\":{\"color\":\"#2CA02C\",\"dash\":\"solid\",\"shape\":\"spline\"},\"marker\":{\"symbol\":\"circle\"},\"mode\":\"lines\",\"name\":\"CIRIS author ID (France)\",\"opacity\":0.25,\"orientation\":\"v\",\"showlegend\":true,\"x\":[-800,-700,-650,-600,-550,-500,-450,-400,-350,-300,-250,-200,-150,-100,-50,0,50,100,150,200,250,300,350,400,450,500],\"xaxis\":\"x\",\"y\":[3,7,7,19,9,56,37,60,44,55,19,18,12,19,13,9,17,28,12,29,9,15,15,18,19,32],\"yaxis\":\"y\",\"type\":\"scatter\"},{\"hovertemplate\":\"identifier_name=Treccani ID (Italy)<br>decade=%{x}<br>score=%{y}<extra></extra>\",\"legendgroup\":\"Treccani ID (Italy)\",\"line\":{\"color\":\"#D62728\",\"dash\":\"solid\",\"shape\":\"spline\"},\"marker\":{\"symbol\":\"circle\"},\"mode\":\"lines\",\"name\":\"Treccani ID (Italy)\",\"opacity\":0.25,\"orientation\":\"v\",\"showlegend\":true,\"x\":[-800,-700,-650,-600,-550,-500,-450,-400,-350,-300,-250,-200,-150,-100,-50,0,50,100,150,200,250,300,350,400,450,500],\"xaxis\":\"x\",\"y\":[3,7,7,18,10,57,34,45,42,38,14,17,13,17,11,7,12,19,12,23,6,10,14,13,15,17],\"yaxis\":\"y\",\"type\":\"scatter\"},{\"hovertemplate\":\"identifier_name=Nationale Thesaurus voor Auteurs ID (Netherlands)<br>decade=%{x}<br>score=%{y}<extra></extra>\",\"legendgroup\":\"Nationale Thesaurus voor Auteurs ID (Netherlands)\",\"line\":{\"color\":\"#9467BD\",\"dash\":\"solid\",\"shape\":\"spline\"},\"marker\":{\"symbol\":\"circle\"},\"mode\":\"lines\",\"name\":\"Nationale Thesaurus voor Auteurs ID (Netherlands)\",\"opacity\":0.25,\"orientation\":\"v\",\"showlegend\":true,\"x\":[-800,-700,-650,-600,-550,-500,-450,-400,-350,-300,-250,-200,-150,-100,-50,0,50,100,150,200,250,300,350,400,450,500],\"xaxis\":\"x\",\"y\":[2,4,6,16,8,33,25,38,27,36,14,12,8,11,10,10,13,22,11,23,10,13,13,15,20,30],\"yaxis\":\"y\",\"type\":\"scatter\"},{\"hovertemplate\":\"identifier_name=Encyclop\\u00e6dia Britannica Online ID (United Kingdom)<br>decade=%{x}<br>score=%{y}<extra></extra>\",\"legendgroup\":\"Encyclop\\u00e6dia Britannica Online ID (United Kingdom)\",\"line\":{\"color\":\"#8C564B\",\"dash\":\"solid\",\"shape\":\"spline\"},\"marker\":{\"symbol\":\"circle\"},\"mode\":\"lines\",\"name\":\"Encyclop\\u00e6dia Britannica Online ID (United Kingdom)\",\"opacity\":0.25,\"orientation\":\"v\",\"showlegend\":true,\"x\":[-800,-700,-650,-600,-550,-500,-450,-400,-350,-300,-250,-200,-150,-100,-50,0,50,100,150,200,250,300,350,400,450,500],\"xaxis\":\"x\",\"y\":[2,7,8,25,10,52,25,39,31,24,10,10,8,10,8,8,11,17,13,21,6,11,16,10,11,16],\"yaxis\":\"y\",\"type\":\"scatter\"},{\"hovertemplate\":\"identifier_name=National Library of Israel J9U ID (Israel)<br>decade=%{x}<br>score=%{y}<extra></extra>\",\"legendgroup\":\"National Library of Israel J9U ID (Israel)\",\"line\":{\"color\":\"#E377C2\",\"dash\":\"solid\",\"shape\":\"spline\"},\"marker\":{\"symbol\":\"circle\"},\"mode\":\"lines\",\"name\":\"National Library of Israel J9U ID (Israel)\",\"opacity\":0.25,\"orientation\":\"v\",\"showlegend\":true,\"x\":[-800,-700,-650,-600,-550,-500,-450,-400,-350,-300,-250,-200,-150,-100,-50,0,50,100,150,200,250,300,350,400,450,500],\"xaxis\":\"x\",\"y\":[1,4,5,13,8,36,23,33,21,28,10,11,6,11,7,10,16,24,11,22,7,16,15,16,18,29],\"yaxis\":\"y\",\"type\":\"scatter\"},{\"hovertemplate\":\"identifier_name=Vatican Library VcBA ID (Vatican City)<br>decade=%{x}<br>score=%{y}<extra></extra>\",\"legendgroup\":\"Vatican Library VcBA ID (Vatican City)\",\"line\":{\"color\":\"#7F7F7F\",\"dash\":\"solid\",\"shape\":\"spline\"},\"marker\":{\"symbol\":\"circle\"},\"mode\":\"lines\",\"name\":\"Vatican Library VcBA ID (Vatican City)\",\"opacity\":0.25,\"orientation\":\"v\",\"showlegend\":true,\"x\":[-800,-700,-650,-600,-550,-500,-450,-400,-350,-300,-250,-200,-150,-100,-50,0,50,100,150,200,250,300,350,400,450,500],\"xaxis\":\"x\",\"y\":[1,2,6,10,7,24,19,25,19,28,8,9,7,11,7,10,12,20,12,23,5,15,15,13,18,30],\"yaxis\":\"y\",\"type\":\"scatter\"},{\"hovertemplate\":\"identifier_name=NUKAT ID (Poland)<br>decade=%{x}<br>score=%{y}<extra></extra>\",\"legendgroup\":\"NUKAT ID (Poland)\",\"line\":{\"color\":\"#BCBD22\",\"dash\":\"solid\",\"shape\":\"spline\"},\"marker\":{\"symbol\":\"circle\"},\"mode\":\"lines\",\"name\":\"NUKAT ID (Poland)\",\"opacity\":0.25,\"orientation\":\"v\",\"showlegend\":true,\"x\":[-800,-700,-650,-600,-550,-500,-450,-400,-350,-300,-250,-200,-150,-100,-50,0,50,100,150,200,250,300,350,400,450,500],\"xaxis\":\"x\",\"y\":[2,3,6,10,7,28,19,21,22,19,12,7,7,9,6,9,12,19,10,18,7,13,14,13,17,28],\"yaxis\":\"y\",\"type\":\"scatter\"},{\"hovertemplate\":\"identifier_name=NORAF ID (Norway)<br>decade=%{x}<br>score=%{y}<extra></extra>\",\"legendgroup\":\"NORAF ID (Norway)\",\"line\":{\"color\":\"#17BECF\",\"dash\":\"solid\",\"shape\":\"spline\"},\"marker\":{\"symbol\":\"circle\"},\"mode\":\"lines\",\"name\":\"NORAF ID (Norway)\",\"opacity\":0.25,\"orientation\":\"v\",\"showlegend\":true,\"x\":[-800,-700,-650,-600,-550,-500,-450,-400,-350,-300,-250,-200,-150,-100,-50,0,50,100,150,200,250,300,350,400,450,500],\"xaxis\":\"x\",\"y\":[1,1,6,6,7,25,15,28,17,24,9,11,5,6,7,9,13,13,10,19,6,12,13,12,16,26],\"yaxis\":\"y\",\"type\":\"scatter\"},{\"hovertemplate\":\"identifier_name=Biblioteca Nacional de Espa\\u00f1a ID (Spain)<br>decade=%{x}<br>score=%{y}<extra></extra>\",\"legendgroup\":\"Biblioteca Nacional de Espa\\u00f1a ID (Spain)\",\"line\":{\"color\":\"#1F77B4\",\"dash\":\"solid\",\"shape\":\"spline\"},\"marker\":{\"symbol\":\"circle\"},\"mode\":\"lines\",\"name\":\"Biblioteca Nacional de Espa\\u00f1a ID (Spain)\",\"opacity\":0.25,\"orientation\":\"v\",\"showlegend\":true,\"x\":[-800,-700,-650,-600,-550,-500,-450,-400,-350,-300,-250,-200,-150,-100,-50,0,50,100,150,200,250,300,350,400,450,500],\"xaxis\":\"x\",\"y\":[2,2,6,8,6,22,13,21,18,19,9,5,6,8,4,9,12,18,9,17,6,12,13,9,13,20],\"yaxis\":\"y\",\"type\":\"scatter\"},{\"hovertemplate\":\"identifier_name=SELIBR ID (Sweden)<br>decade=%{x}<br>score=%{y}<extra></extra>\",\"legendgroup\":\"SELIBR ID (Sweden)\",\"line\":{\"color\":\"#FF7F0E\",\"dash\":\"solid\",\"shape\":\"spline\"},\"marker\":{\"symbol\":\"circle\"},\"mode\":\"lines\",\"name\":\"SELIBR ID (Sweden)\",\"opacity\":0.25,\"orientation\":\"v\",\"showlegend\":true,\"x\":[-800,-700,-650,-600,-550,-500,-450,-400,-350,-300,-250,-200,-150,-100,-50,0,50,100,150,200,250,300,350,400,450,500],\"xaxis\":\"x\",\"y\":[1,2,6,7,7,21,12,14,12,19,7,8,7,5,6,8,11,17,9,16,7,11,11,11,13,23],\"yaxis\":\"y\",\"type\":\"scatter\"},{\"hovertemplate\":\"identifier_name=Great Russian Encyclopedia Online ID (old version) (Russia)<br>decade=%{x}<br>score=%{y}<extra></extra>\",\"legendgroup\":\"Great Russian Encyclopedia Online ID (old version) (Russia)\",\"line\":{\"color\":\"#2CA02C\",\"dash\":\"solid\",\"shape\":\"spline\"},\"marker\":{\"symbol\":\"circle\"},\"mode\":\"lines\",\"name\":\"Great Russian Encyclopedia Online ID (old version) (Russia)\",\"opacity\":0.25,\"orientation\":\"v\",\"showlegend\":true,\"x\":[-800,-700,-650,-600,-550,-500,-450,-400,-350,-300,-250,-200,-150,-100,-50,0,50,100,150,200,250,300,350,400,450,500],\"xaxis\":\"x\",\"y\":[1,4,6,12,6,33,19,23,18,17,7,5,5,7,4,6,9,12,4,10,3,7,10,4,6,11],\"yaxis\":\"y\",\"type\":\"scatter\"},{\"hovertemplate\":\"identifier_name=National Library of Greece ID (Greece)<br>decade=%{x}<br>score=%{y}<extra></extra>\",\"legendgroup\":\"National Library of Greece ID (Greece)\",\"line\":{\"color\":\"#D62728\",\"dash\":\"solid\",\"shape\":\"spline\"},\"marker\":{\"symbol\":\"circle\"},\"mode\":\"lines\",\"name\":\"National Library of Greece ID (Greece)\",\"opacity\":0.25,\"orientation\":\"v\",\"showlegend\":true,\"x\":[-800,-700,-650,-600,-550,-500,-450,-400,-350,-300,-250,-200,-150,-100,-50,0,50,100,150,200,250,300,350,400,450,500],\"xaxis\":\"x\",\"y\":[1,2,6,8,6,15,16,16,16,12,7,3,5,4,5,6,9,10,5,14,5,10,16,9,9,16],\"yaxis\":\"y\",\"type\":\"scatter\"},{\"hovertemplate\":\"identifier_name=Hrvatska enciklopedija ID (Croatia)<br>decade=%{x}<br>score=%{y}<extra></extra>\",\"legendgroup\":\"Hrvatska enciklopedija ID (Croatia)\",\"line\":{\"color\":\"#9467BD\",\"dash\":\"solid\",\"shape\":\"spline\"},\"marker\":{\"symbol\":\"circle\"},\"mode\":\"lines\",\"name\":\"Hrvatska enciklopedija ID (Croatia)\",\"opacity\":0.25,\"orientation\":\"v\",\"showlegend\":true,\"x\":[-800,-700,-650,-600,-550,-500,-450,-400,-350,-300,-250,-200,-150,-100,-50,0,50,100,150,200,250,300,350,400,450,500],\"xaxis\":\"x\",\"y\":[2,5,5,11,9,30,19,20,17,16,7,4,5,6,4,5,10,9,4,8,4,5,8,3,3,5],\"yaxis\":\"y\",\"type\":\"scatter\"},{\"hovertemplate\":\"identifier_name=Canadiana Name Authority ID (Canada)<br>decade=%{x}<br>score=%{y}<extra></extra>\",\"legendgroup\":\"Canadiana Name Authority ID (Canada)\",\"line\":{\"color\":\"#8C564B\",\"dash\":\"solid\",\"shape\":\"spline\"},\"marker\":{\"symbol\":\"circle\"},\"mode\":\"lines\",\"name\":\"Canadiana Name Authority ID (Canada)\",\"opacity\":0.25,\"orientation\":\"v\",\"showlegend\":true,\"x\":[-800,-650,-600,-550,-500,-450,-400,-350,-300,-250,-200,-150,-100,-50,0,50,100,150,200,250,300,350,400,450,500],\"xaxis\":\"x\",\"y\":[1,4,10,6,16,12,14,11,9,6,6,3,5,6,7,10,11,10,12,3,10,12,10,7,16],\"yaxis\":\"y\",\"type\":\"scatter\"},{\"hovertemplate\":\"identifier_name=NKCR AUT ID (Czech Republic)<br>decade=%{x}<br>score=%{y}<extra></extra>\",\"legendgroup\":\"NKCR AUT ID (Czech Republic)\",\"line\":{\"color\":\"#E377C2\",\"dash\":\"solid\",\"shape\":\"spline\"},\"marker\":{\"symbol\":\"circle\"},\"mode\":\"lines\",\"name\":\"NKCR AUT ID (Czech Republic)\",\"opacity\":0.25,\"orientation\":\"v\",\"showlegend\":true,\"x\":[-800,-700,-650,-600,-550,-500,-450,-400,-350,-300,-250,-200,-150,-100,-50,0,50,100,150,200,250,300,350,400,450,500],\"xaxis\":\"x\",\"y\":[1,2,5,7,6,18,11,12,9,10,6,2,3,4,3,7,8,13,9,15,6,10,13,7,7,18],\"yaxis\":\"y\",\"type\":\"scatter\"},{\"hovertemplate\":\"identifier_name=CiNii Books author ID (Japan)<br>decade=%{x}<br>score=%{y}<extra></extra>\",\"legendgroup\":\"CiNii Books author ID (Japan)\",\"line\":{\"color\":\"#7F7F7F\",\"dash\":\"solid\",\"shape\":\"spline\"},\"marker\":{\"symbol\":\"circle\"},\"mode\":\"lines\",\"name\":\"CiNii Books author ID (Japan)\",\"opacity\":0.25,\"orientation\":\"v\",\"showlegend\":true,\"x\":[-800,-700,-650,-600,-550,-500,-450,-400,-350,-300,-250,-200,-150,-100,-50,0,50,100,150,200,250,300,350,400,450,500],\"xaxis\":\"x\",\"y\":[1,3,5,7,4,13,10,11,11,16,8,4,4,3,5,7,10,14,7,16,3,10,10,6,8,16],\"yaxis\":\"y\",\"type\":\"scatter\"},{\"hovertemplate\":\"identifier_name=Den Store Danske ID (Denmark)<br>decade=%{x}<br>score=%{y}<extra></extra>\",\"legendgroup\":\"Den Store Danske ID (Denmark)\",\"line\":{\"color\":\"#BCBD22\",\"dash\":\"solid\",\"shape\":\"spline\"},\"marker\":{\"symbol\":\"circle\"},\"mode\":\"lines\",\"name\":\"Den Store Danske ID (Denmark)\",\"opacity\":0.25,\"orientation\":\"v\",\"showlegend\":true,\"x\":[-800,-700,-650,-600,-550,-500,-450,-400,-350,-300,-250,-200,-150,-100,-50,0,50,100,150,200,250,300,350,400,450,500],\"xaxis\":\"x\",\"y\":[1,1,6,10,7,24,15,20,8,14,6,6,4,4,4,5,7,9,6,10,2,6,7,1,5,2],\"yaxis\":\"y\",\"type\":\"scatter\"},{\"hovertemplate\":\"identifier_name=NLA Trove people ID (Australia)<br>decade=%{x}<br>score=%{y}<extra></extra>\",\"legendgroup\":\"NLA Trove people ID (Australia)\",\"line\":{\"color\":\"#17BECF\",\"dash\":\"solid\",\"shape\":\"spline\"},\"marker\":{\"symbol\":\"circle\"},\"mode\":\"lines\",\"name\":\"NLA Trove people ID (Australia)\",\"opacity\":0.25,\"orientation\":\"v\",\"showlegend\":true,\"x\":[-800,-650,-600,-550,-500,-450,-400,-350,-300,-250,-200,-150,-100,-50,0,50,100,150,200,250,300,350,400,450,500],\"xaxis\":\"x\",\"y\":[1,3,3,6,11,8,7,6,8,4,2,2,4,2,6,8,11,7,13,4,12,12,6,9,14],\"yaxis\":\"y\",\"type\":\"scatter\"},{\"hovertemplate\":\"identifier_name=average<br>decade=%{x}<br>score=%{y}<extra></extra>\",\"legendgroup\":\"average\",\"line\":{\"color\":\"#1F77B4\",\"dash\":\"solid\",\"shape\":\"spline\",\"width\":3},\"marker\":{\"symbol\":\"circle\"},\"mode\":\"lines\",\"name\":\"average\",\"orientation\":\"v\",\"showlegend\":true,\"x\":[-800,-700,-650,-600,-550,-500,-450,-400,-350,-300,-250,-200,-150,-100,-50,0,50,100,150,200,250,300,350,400,450,500],\"xaxis\":\"x\",\"y\":[1.7,3.9444444444444446,6.0,13.55,7.55,33.2,21.6,30.0,22.3,25.85,10.6,9.1,7.2,9.55,7.0,7.8,11.5,17.1,9.2,18.15,5.85,11.55,12.75,10.75,12.5,20.6],\"yaxis\":\"y\",\"type\":\"scatter\"}],                        {\"template\":{\"data\":{\"barpolar\":[{\"marker\":{\"line\":{\"color\":\"white\",\"width\":0.5},\"pattern\":{\"fillmode\":\"overlay\",\"size\":10,\"solidity\":0.2}},\"type\":\"barpolar\"}],\"bar\":[{\"error_x\":{\"color\":\"rgb(36,36,36)\"},\"error_y\":{\"color\":\"rgb(36,36,36)\"},\"marker\":{\"line\":{\"color\":\"white\",\"width\":0.5},\"pattern\":{\"fillmode\":\"overlay\",\"size\":10,\"solidity\":0.2}},\"type\":\"bar\"}],\"carpet\":[{\"aaxis\":{\"endlinecolor\":\"rgb(36,36,36)\",\"gridcolor\":\"white\",\"linecolor\":\"white\",\"minorgridcolor\":\"white\",\"startlinecolor\":\"rgb(36,36,36)\"},\"baxis\":{\"endlinecolor\":\"rgb(36,36,36)\",\"gridcolor\":\"white\",\"linecolor\":\"white\",\"minorgridcolor\":\"white\",\"startlinecolor\":\"rgb(36,36,36)\"},\"type\":\"carpet\"}],\"choropleth\":[{\"colorbar\":{\"outlinewidth\":1,\"tickcolor\":\"rgb(36,36,36)\",\"ticks\":\"outside\"},\"type\":\"choropleth\"}],\"contourcarpet\":[{\"colorbar\":{\"outlinewidth\":1,\"tickcolor\":\"rgb(36,36,36)\",\"ticks\":\"outside\"},\"type\":\"contourcarpet\"}],\"contour\":[{\"colorbar\":{\"outlinewidth\":1,\"tickcolor\":\"rgb(36,36,36)\",\"ticks\":\"outside\"},\"colorscale\":[[0.0,\"#440154\"],[0.1111111111111111,\"#482878\"],[0.2222222222222222,\"#3e4989\"],[0.3333333333333333,\"#31688e\"],[0.4444444444444444,\"#26828e\"],[0.5555555555555556,\"#1f9e89\"],[0.6666666666666666,\"#35b779\"],[0.7777777777777778,\"#6ece58\"],[0.8888888888888888,\"#b5de2b\"],[1.0,\"#fde725\"]],\"type\":\"contour\"}],\"heatmapgl\":[{\"colorbar\":{\"outlinewidth\":1,\"tickcolor\":\"rgb(36,36,36)\",\"ticks\":\"outside\"},\"colorscale\":[[0.0,\"#440154\"],[0.1111111111111111,\"#482878\"],[0.2222222222222222,\"#3e4989\"],[0.3333333333333333,\"#31688e\"],[0.4444444444444444,\"#26828e\"],[0.5555555555555556,\"#1f9e89\"],[0.6666666666666666,\"#35b779\"],[0.7777777777777778,\"#6ece58\"],[0.8888888888888888,\"#b5de2b\"],[1.0,\"#fde725\"]],\"type\":\"heatmapgl\"}],\"heatmap\":[{\"colorbar\":{\"outlinewidth\":1,\"tickcolor\":\"rgb(36,36,36)\",\"ticks\":\"outside\"},\"colorscale\":[[0.0,\"#440154\"],[0.1111111111111111,\"#482878\"],[0.2222222222222222,\"#3e4989\"],[0.3333333333333333,\"#31688e\"],[0.4444444444444444,\"#26828e\"],[0.5555555555555556,\"#1f9e89\"],[0.6666666666666666,\"#35b779\"],[0.7777777777777778,\"#6ece58\"],[0.8888888888888888,\"#b5de2b\"],[1.0,\"#fde725\"]],\"type\":\"heatmap\"}],\"histogram2dcontour\":[{\"colorbar\":{\"outlinewidth\":1,\"tickcolor\":\"rgb(36,36,36)\",\"ticks\":\"outside\"},\"colorscale\":[[0.0,\"#440154\"],[0.1111111111111111,\"#482878\"],[0.2222222222222222,\"#3e4989\"],[0.3333333333333333,\"#31688e\"],[0.4444444444444444,\"#26828e\"],[0.5555555555555556,\"#1f9e89\"],[0.6666666666666666,\"#35b779\"],[0.7777777777777778,\"#6ece58\"],[0.8888888888888888,\"#b5de2b\"],[1.0,\"#fde725\"]],\"type\":\"histogram2dcontour\"}],\"histogram2d\":[{\"colorbar\":{\"outlinewidth\":1,\"tickcolor\":\"rgb(36,36,36)\",\"ticks\":\"outside\"},\"colorscale\":[[0.0,\"#440154\"],[0.1111111111111111,\"#482878\"],[0.2222222222222222,\"#3e4989\"],[0.3333333333333333,\"#31688e\"],[0.4444444444444444,\"#26828e\"],[0.5555555555555556,\"#1f9e89\"],[0.6666666666666666,\"#35b779\"],[0.7777777777777778,\"#6ece58\"],[0.8888888888888888,\"#b5de2b\"],[1.0,\"#fde725\"]],\"type\":\"histogram2d\"}],\"histogram\":[{\"marker\":{\"line\":{\"color\":\"white\",\"width\":0.6}},\"type\":\"histogram\"}],\"mesh3d\":[{\"colorbar\":{\"outlinewidth\":1,\"tickcolor\":\"rgb(36,36,36)\",\"ticks\":\"outside\"},\"type\":\"mesh3d\"}],\"parcoords\":[{\"line\":{\"colorbar\":{\"outlinewidth\":1,\"tickcolor\":\"rgb(36,36,36)\",\"ticks\":\"outside\"}},\"type\":\"parcoords\"}],\"pie\":[{\"automargin\":true,\"type\":\"pie\"}],\"scatter3d\":[{\"line\":{\"colorbar\":{\"outlinewidth\":1,\"tickcolor\":\"rgb(36,36,36)\",\"ticks\":\"outside\"}},\"marker\":{\"colorbar\":{\"outlinewidth\":1,\"tickcolor\":\"rgb(36,36,36)\",\"ticks\":\"outside\"}},\"type\":\"scatter3d\"}],\"scattercarpet\":[{\"marker\":{\"colorbar\":{\"outlinewidth\":1,\"tickcolor\":\"rgb(36,36,36)\",\"ticks\":\"outside\"}},\"type\":\"scattercarpet\"}],\"scattergeo\":[{\"marker\":{\"colorbar\":{\"outlinewidth\":1,\"tickcolor\":\"rgb(36,36,36)\",\"ticks\":\"outside\"}},\"type\":\"scattergeo\"}],\"scattergl\":[{\"marker\":{\"colorbar\":{\"outlinewidth\":1,\"tickcolor\":\"rgb(36,36,36)\",\"ticks\":\"outside\"}},\"type\":\"scattergl\"}],\"scattermapbox\":[{\"marker\":{\"colorbar\":{\"outlinewidth\":1,\"tickcolor\":\"rgb(36,36,36)\",\"ticks\":\"outside\"}},\"type\":\"scattermapbox\"}],\"scatterpolargl\":[{\"marker\":{\"colorbar\":{\"outlinewidth\":1,\"tickcolor\":\"rgb(36,36,36)\",\"ticks\":\"outside\"}},\"type\":\"scatterpolargl\"}],\"scatterpolar\":[{\"marker\":{\"colorbar\":{\"outlinewidth\":1,\"tickcolor\":\"rgb(36,36,36)\",\"ticks\":\"outside\"}},\"type\":\"scatterpolar\"}],\"scatter\":[{\"marker\":{\"colorbar\":{\"outlinewidth\":1,\"tickcolor\":\"rgb(36,36,36)\",\"ticks\":\"outside\"}},\"type\":\"scatter\"}],\"scatterternary\":[{\"marker\":{\"colorbar\":{\"outlinewidth\":1,\"tickcolor\":\"rgb(36,36,36)\",\"ticks\":\"outside\"}},\"type\":\"scatterternary\"}],\"surface\":[{\"colorbar\":{\"outlinewidth\":1,\"tickcolor\":\"rgb(36,36,36)\",\"ticks\":\"outside\"},\"colorscale\":[[0.0,\"#440154\"],[0.1111111111111111,\"#482878\"],[0.2222222222222222,\"#3e4989\"],[0.3333333333333333,\"#31688e\"],[0.4444444444444444,\"#26828e\"],[0.5555555555555556,\"#1f9e89\"],[0.6666666666666666,\"#35b779\"],[0.7777777777777778,\"#6ece58\"],[0.8888888888888888,\"#b5de2b\"],[1.0,\"#fde725\"]],\"type\":\"surface\"}],\"table\":[{\"cells\":{\"fill\":{\"color\":\"rgb(237,237,237)\"},\"line\":{\"color\":\"white\"}},\"header\":{\"fill\":{\"color\":\"rgb(217,217,217)\"},\"line\":{\"color\":\"white\"}},\"type\":\"table\"}]},\"layout\":{\"annotationdefaults\":{\"arrowhead\":0,\"arrowwidth\":1},\"autotypenumbers\":\"strict\",\"coloraxis\":{\"colorbar\":{\"outlinewidth\":1,\"tickcolor\":\"rgb(36,36,36)\",\"ticks\":\"outside\"}},\"colorscale\":{\"diverging\":[[0.0,\"rgb(103,0,31)\"],[0.1,\"rgb(178,24,43)\"],[0.2,\"rgb(214,96,77)\"],[0.3,\"rgb(244,165,130)\"],[0.4,\"rgb(253,219,199)\"],[0.5,\"rgb(247,247,247)\"],[0.6,\"rgb(209,229,240)\"],[0.7,\"rgb(146,197,222)\"],[0.8,\"rgb(67,147,195)\"],[0.9,\"rgb(33,102,172)\"],[1.0,\"rgb(5,48,97)\"]],\"sequential\":[[0.0,\"#440154\"],[0.1111111111111111,\"#482878\"],[0.2222222222222222,\"#3e4989\"],[0.3333333333333333,\"#31688e\"],[0.4444444444444444,\"#26828e\"],[0.5555555555555556,\"#1f9e89\"],[0.6666666666666666,\"#35b779\"],[0.7777777777777778,\"#6ece58\"],[0.8888888888888888,\"#b5de2b\"],[1.0,\"#fde725\"]],\"sequentialminus\":[[0.0,\"#440154\"],[0.1111111111111111,\"#482878\"],[0.2222222222222222,\"#3e4989\"],[0.3333333333333333,\"#31688e\"],[0.4444444444444444,\"#26828e\"],[0.5555555555555556,\"#1f9e89\"],[0.6666666666666666,\"#35b779\"],[0.7777777777777778,\"#6ece58\"],[0.8888888888888888,\"#b5de2b\"],[1.0,\"#fde725\"]]},\"colorway\":[\"#1F77B4\",\"#FF7F0E\",\"#2CA02C\",\"#D62728\",\"#9467BD\",\"#8C564B\",\"#E377C2\",\"#7F7F7F\",\"#BCBD22\",\"#17BECF\"],\"font\":{\"color\":\"rgb(36,36,36)\"},\"geo\":{\"bgcolor\":\"white\",\"lakecolor\":\"white\",\"landcolor\":\"white\",\"showlakes\":true,\"showland\":true,\"subunitcolor\":\"white\"},\"hoverlabel\":{\"align\":\"left\"},\"hovermode\":\"closest\",\"mapbox\":{\"style\":\"light\"},\"paper_bgcolor\":\"white\",\"plot_bgcolor\":\"white\",\"polar\":{\"angularaxis\":{\"gridcolor\":\"rgb(232,232,232)\",\"linecolor\":\"rgb(36,36,36)\",\"showgrid\":false,\"showline\":true,\"ticks\":\"outside\"},\"bgcolor\":\"white\",\"radialaxis\":{\"gridcolor\":\"rgb(232,232,232)\",\"linecolor\":\"rgb(36,36,36)\",\"showgrid\":false,\"showline\":true,\"ticks\":\"outside\"}},\"scene\":{\"xaxis\":{\"backgroundcolor\":\"white\",\"gridcolor\":\"rgb(232,232,232)\",\"gridwidth\":2,\"linecolor\":\"rgb(36,36,36)\",\"showbackground\":true,\"showgrid\":false,\"showline\":true,\"ticks\":\"outside\",\"zeroline\":false,\"zerolinecolor\":\"rgb(36,36,36)\"},\"yaxis\":{\"backgroundcolor\":\"white\",\"gridcolor\":\"rgb(232,232,232)\",\"gridwidth\":2,\"linecolor\":\"rgb(36,36,36)\",\"showbackground\":true,\"showgrid\":false,\"showline\":true,\"ticks\":\"outside\",\"zeroline\":false,\"zerolinecolor\":\"rgb(36,36,36)\"},\"zaxis\":{\"backgroundcolor\":\"white\",\"gridcolor\":\"rgb(232,232,232)\",\"gridwidth\":2,\"linecolor\":\"rgb(36,36,36)\",\"showbackground\":true,\"showgrid\":false,\"showline\":true,\"ticks\":\"outside\",\"zeroline\":false,\"zerolinecolor\":\"rgb(36,36,36)\"}},\"shapedefaults\":{\"fillcolor\":\"black\",\"line\":{\"width\":0},\"opacity\":0.3},\"ternary\":{\"aaxis\":{\"gridcolor\":\"rgb(232,232,232)\",\"linecolor\":\"rgb(36,36,36)\",\"showgrid\":false,\"showline\":true,\"ticks\":\"outside\"},\"baxis\":{\"gridcolor\":\"rgb(232,232,232)\",\"linecolor\":\"rgb(36,36,36)\",\"showgrid\":false,\"showline\":true,\"ticks\":\"outside\"},\"bgcolor\":\"white\",\"caxis\":{\"gridcolor\":\"rgb(232,232,232)\",\"linecolor\":\"rgb(36,36,36)\",\"showgrid\":false,\"showline\":true,\"ticks\":\"outside\"}},\"title\":{\"x\":0.05},\"xaxis\":{\"automargin\":true,\"gridcolor\":\"rgb(232,232,232)\",\"linecolor\":\"rgb(36,36,36)\",\"showgrid\":false,\"showline\":true,\"ticks\":\"outside\",\"title\":{\"standoff\":15},\"zeroline\":false,\"zerolinecolor\":\"rgb(36,36,36)\"},\"yaxis\":{\"automargin\":true,\"gridcolor\":\"rgb(232,232,232)\",\"linecolor\":\"rgb(36,36,36)\",\"showgrid\":false,\"showline\":true,\"ticks\":\"outside\",\"title\":{\"standoff\":15},\"zeroline\":false,\"zerolinecolor\":\"rgb(36,36,36)\"}}},\"xaxis\":{\"title\":{\"text\":\"\"},\"dtick\":100},\"yaxis\":{\"title\":{\"text\":\"Number of Individuals\"}},\"width\":1300,\"height\":800,\"title\":{\"text\":\"\"},\"legend\":{\"title\":{\"text\":\"Identifiers\"}}},                        {\"responsive\": true}                    ).then(function(){\n",
       "                            \n",
       "var gd = document.getElementById('2a3dd14d-56e7-4a6f-8b09-aa48acde1900');\n",
       "var x = new MutationObserver(function (mutations, observer) {{\n",
       "        var display = window.getComputedStyle(gd).display;\n",
       "        if (!display || display === 'none') {{\n",
       "            console.log([gd, 'removed!']);\n",
       "            Plotly.purge(gd);\n",
       "            observer.disconnect();\n",
       "        }}\n",
       "}});\n",
       "\n",
       "// Listen for the removal of the full notebook cells\n",
       "var notebookContainer = gd.closest('#notebook-container');\n",
       "if (notebookContainer) {{\n",
       "    x.observe(notebookContainer, {childList: true});\n",
       "}}\n",
       "\n",
       "// Listen for the clearing of the current output cell\n",
       "var outputEl = gd.closest('.output');\n",
       "if (outputEl) {{\n",
       "    x.observe(outputEl, {childList: true});\n",
       "}}\n",
       "\n",
       "                        })                };                });            </script>        </div>"
      ]
     },
     "metadata": {},
     "output_type": "display_data"
    }
   ],
   "source": [
    "fig_greek, df_fig_greek = make_figure(df_fig_fifty, region_name = 'Greek World', min_decade = -800, max_decade = 500, top_identifiers = 20,\n",
    "                  one_id_country = True)\n",
    "\n",
    "fig_greek.write_image(f\"figures/greek_identifiers.png\", scale=7)\n",
    "fig_greek.show()"
   ]
  },
  {
   "cell_type": "code",
   "execution_count": 18,
   "id": "4dc333e3-1e8c-4e19-a10b-63f114aba4a3",
   "metadata": {
    "tags": []
   },
   "outputs": [
    {
     "data": {
      "text/plain": [
       "0.799308659853217"
      ]
     },
     "execution_count": 18,
     "metadata": {},
     "output_type": "execute_result"
    }
   ],
   "source": [
    "df_corr = df_fig_greek.pivot(index ='decade', columns = 'identifier_name', values = 'score')\n",
    "df_corr = df_corr.fillna(0)\n",
    "df_corr.corr().stack().mean()"
   ]
  },
  {
   "cell_type": "code",
   "execution_count": null,
   "id": "6a34e194-67aa-4e67-a502-936030b7c9bb",
   "metadata": {
    "tags": []
   },
   "outputs": [],
   "source": []
  },
  {
   "cell_type": "markdown",
   "id": "12a46427-dd4f-47a7-9ff2-4743d1b88f67",
   "metadata": {},
   "source": [
    "## Count catalogs per country and continents"
   ]
  },
  {
   "cell_type": "code",
   "execution_count": null,
   "id": "56de0b81-3f73-4d15-a335-3ed6585bcd92",
   "metadata": {
    "tags": []
   },
   "outputs": [],
   "source": [
    "test = df_fig[df_fig['region_name'].isin(['Italy', 'Greek World'])]\n",
    "test = test[(test['decade']>=-800)&(test['decade']<=500)]\n",
    "len(set(test.identifier_name))\n",
    "\n",
    "test = pd.merge(df_identifiers, test, on = 'identifier_name')\n",
    "\n",
    "df_identifiers_2 = pd.read_sql_query(\"SELECT * FROM identifiers\", conn)\n",
    "df_identifiers_2 = df_identifiers_2[['identifiers_wikidata_id', 'country_name']].dropna()\n",
    "\n",
    "test = pd.merge(test, df_identifiers_2, on = 'identifiers_wikidata_id')\n",
    "df_country =  pd.read_sql_query(\"SELECT * FROM country_continent\", conn)\n",
    "df_country = df_country[['country_name', 'continent_name']]\n",
    "test = pd.merge(df_country, test, on = 'country_name')\n",
    "set(test.continent_name)"
   ]
  },
  {
   "cell_type": "code",
   "execution_count": null,
   "id": "98f39a54-daaa-4e21-8717-06a729ce29c4",
   "metadata": {},
   "outputs": [],
   "source": []
  },
  {
   "cell_type": "code",
   "execution_count": null,
   "id": "f1747775-37b4-4fb9-9df3-ee9ea8ede6c3",
   "metadata": {},
   "outputs": [],
   "source": []
  }
 ],
 "metadata": {
  "kernelspec": {
   "display_name": "Python 3 (ipykernel)",
   "language": "python",
   "name": "python3"
  },
  "language_info": {
   "codemirror_mode": {
    "name": "ipython",
    "version": 3
   },
   "file_extension": ".py",
   "mimetype": "text/x-python",
   "name": "python",
   "nbconvert_exporter": "python",
   "pygments_lexer": "ipython3",
   "version": "3.8.18"
  }
 },
 "nbformat": 4,
 "nbformat_minor": 5
}
