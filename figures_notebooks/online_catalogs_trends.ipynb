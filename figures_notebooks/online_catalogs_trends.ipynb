{
 "cells": [
  {
   "cell_type": "code",
   "execution_count": 1,
   "id": "cc1436b3-f7be-4e65-9857-acc83c112b1a",
   "metadata": {
    "tags": []
   },
   "outputs": [],
   "source": [
    "import sqlite3\n",
    "import pandas as pd\n",
    "import plotly.express as px\n",
    "import sys\n",
    "from plotly.subplots import make_subplots\n",
    "import plotly.graph_objects as go\n",
    "\n",
    "sys.path.append('../')\n",
    "from functions_env import DB_PATH\n",
    "\n",
    "\n",
    "conn = sqlite3.connect(DB_PATH)\n",
    "cursor = conn.cursor()"
   ]
  },
  {
   "cell_type": "code",
   "execution_count": 2,
   "id": "43c061e9-e48a-48df-8fd3-ca78fc346a36",
   "metadata": {
    "tags": []
   },
   "outputs": [],
   "source": [
    "# Load individuals Main Informations\n",
    "df_individual = pd.read_sql_query(\"SELECT * FROM individuals_main_information\", conn)\n",
    "df_individual = df_individual[['individual_wikidata_id', 'birthyear']]\n",
    "\n",
    "df_individual = df_individual[~df_individual['birthyear'].isna()]\n",
    "df_individual['decade'] = df_individual['birthyear'].apply(lambda x : int(x/10)*10)"
   ]
  },
  {
   "cell_type": "code",
   "execution_count": 3,
   "id": "dc80a4ad-a7a2-494b-98ce-47d91af3e71d",
   "metadata": {
    "tags": []
   },
   "outputs": [
    {
     "name": "stderr",
     "output_type": "stream",
     "text": [
      "/var/folders/lx/9b13r6ln63jb54_3xlf9b_380000gn/T/ipykernel_5945/808557147.py:7: SettingWithCopyWarning: \n",
      "A value is trying to be set on a copy of a slice from a DataFrame\n",
      "\n",
      "See the caveats in the documentation: https://pandas.pydata.org/pandas-docs/stable/user_guide/indexing.html#returning-a-view-versus-a-copy\n",
      "  df_identifiers['country_name'][df_identifiers['country_name'].isna()]=''\n"
     ]
    }
   ],
   "source": [
    "# Load invividuals Regions\n",
    "df_individual_region = pd.read_sql_query(\"SELECT * FROM individuals_regions\", conn)\n",
    "df_individual_region = df_individual_region[['individual_wikidata_id', 'region_name']].drop_duplicates()\n",
    "\n",
    "# Load identifiers meta-data\n",
    "df_identifiers = pd.read_sql_query(\"SELECT * FROM identifiers\", conn)\n",
    "df_identifiers['country_name'][df_identifiers['country_name'].isna()]=''\n",
    "df_identifiers['identifier_name'] = df_identifiers.apply(lambda x : x['identifier_name'] + ' ('  + x['country_name'] + ')' if x['country_name']!='' else x['identifier_name'], axis=1)\n",
    "df_identifiers = df_identifiers.drop(['country_wikidata_id', 'count_records', 'identifier_url'], axis=1).drop_duplicates()\n",
    "df_identifiers = df_identifiers.drop(['country_name', 'identifier_name_country'], axis=1).drop_duplicates()\n"
   ]
  },
  {
   "cell_type": "code",
   "execution_count": null,
   "id": "d19fb836-5daa-4869-a078-5d6dbdbc60fd",
   "metadata": {
    "tags": []
   },
   "outputs": [],
   "source": []
  },
  {
   "cell_type": "code",
   "execution_count": 4,
   "id": "7b8b00f2-f0ca-4555-9e62-c834b9f41729",
   "metadata": {
    "tags": []
   },
   "outputs": [],
   "source": [
    "\n",
    "#df_country =  pd.read_sql_query(\"SELECT * FROM country_continent\", conn)\n",
    "#df_country = df_country[['country_name', 'continent_name']]\n",
    "#df_country = df_country.drop_duplicates('country_name', keep='first')\n",
    "#df_identifiers = pd.merge(df_identifiers, df_country, on = 'country_name', how = 'left')\n",
    "\n"
   ]
  },
  {
   "cell_type": "code",
   "execution_count": 5,
   "id": "33b92b28-a6c4-4588-bdd8-0d728b8ed37a",
   "metadata": {
    "tags": []
   },
   "outputs": [],
   "source": [
    "# Load infirmation about individuals and identifiers\n",
    "df_ind_identifiers = pd.read_sql_query(\"SELECT * FROM individual_identifiers\", conn)\n",
    "df_ind_identifiers = df_ind_identifiers.drop('identifier_name', axis=1)\n",
    "df_ind_identifiers = pd.merge(df_ind_identifiers, df_identifiers, on = 'identifiers_wikidata_id', how = 'left')\n",
    "\n",
    "# Freebase is now mixed with Google ID\n",
    "df_ind_identifiers['identifier_name'][df_ind_identifiers['identifier_name']=='Freebase ID'] = 'Google Knowledge Graph ID'\n",
    "df_ind_identifiers['identifiers_wikidata_id'][df_ind_identifiers['identifiers_wikidata_id']=='P646'] = 'P2671'\n",
    "\n",
    "# Mix the two GND\n",
    "df_ind_identifiers['identifier_name'][df_ind_identifiers['identifier_name']=='Deutsche Biographie (GND) ID (Germany)'] = 'GND ID (Germany)'\n",
    "df_ind_identifiers['identifiers_wikidata_id'][df_ind_identifiers['identifiers_wikidata_id']=='P7902'] = 'P227'\n",
    "\n",
    "# Clean wrong objects\n",
    "df_ind_identifiers = df_ind_identifiers[~df_ind_identifiers['individual_name'].str.contains('Painter')]\n",
    "\n",
    "# Remove superceded\n",
    "df_ind_identifiers = df_ind_identifiers[~df_ind_identifiers['identifier_name'].str.contains('superceded')]\n",
    "df_ind_identifiers = df_ind_identifiers[~df_ind_identifiers['identifier_name'].str.contains('obsolete')]\n",
    "\n",
    "# Drop duplicated after mergeing GND and Freebase\n",
    "df_ind_identifiers = df_ind_identifiers.drop_duplicates()"
   ]
  },
  {
   "cell_type": "code",
   "execution_count": 6,
   "id": "30038917-7d95-40d8-8b7f-31398d07d7c5",
   "metadata": {
    "tags": []
   },
   "outputs": [],
   "source": [
    "# Merge everything\n",
    "\n",
    "df_final = pd.merge(df_individual, df_ind_identifiers, on = 'individual_wikidata_id')\n",
    "df_final = pd.merge(df_final, df_individual_region, on = 'individual_wikidata_id')"
   ]
  },
  {
   "cell_type": "code",
   "execution_count": 7,
   "id": "bcc39e0d-e599-40ce-8618-90d15d80a318",
   "metadata": {
    "tags": []
   },
   "outputs": [
    {
     "name": "stderr",
     "output_type": "stream",
     "text": [
      "/var/folders/lx/9b13r6ln63jb54_3xlf9b_380000gn/T/ipykernel_5945/1539816987.py:6: SettingWithCopyWarning: \n",
      "A value is trying to be set on a copy of a slice from a DataFrame\n",
      "\n",
      "See the caveats in the documentation: https://pandas.pydata.org/pandas-docs/stable/user_guide/indexing.html#returning-a-view-versus-a-copy\n",
      "  df_country_id['country_name'][df_country_id['country_name'].isna()]=''\n"
     ]
    }
   ],
   "source": [
    "df_fig = df_final[['individual_wikidata_id', 'decade', 'identifier_name', 'region_name']]\n",
    "df_fig = df_fig.groupby(['identifier_name', 'region_name', 'decade'])['individual_wikidata_id'].count().rename(\"score\").reset_index()\n",
    "\n",
    "\n",
    "df_country_id = pd.read_sql_query(\"SELECT * FROM identifiers\", conn)\n",
    "df_country_id['country_name'][df_country_id['country_name'].isna()]=''\n",
    "df_country_id['identifier_name'] = df_country_id.apply(lambda x : x['identifier_name'] + ' ('  + x['country_name'] + ')' if x['country_name']!='' else x['identifier_name'], axis=1)\n",
    "df_country_id = df_country_id[['identifier_name', 'country_name']].drop_duplicates()\n",
    "\n",
    "df_fig = pd.merge(df_fig, df_country_id, on = 'identifier_name')\n"
   ]
  },
  {
   "cell_type": "code",
   "execution_count": null,
   "id": "0b4bfa47-f28f-4aba-95f1-f22d0215760b",
   "metadata": {
    "tags": []
   },
   "outputs": [],
   "source": []
  },
  {
   "cell_type": "code",
   "execution_count": 8,
   "id": "183f3769-7738-4dff-89ac-f7844bc4f548",
   "metadata": {
    "tags": []
   },
   "outputs": [
    {
     "data": {
      "application/vnd.plotly.v1+json": {
       "config": {
        "plotlyServerURL": "https://plot.ly"
       },
       "data": [
        {
         "hovertemplate": "identifier_name=GND ID (Germany)<br>decade=%{x}<br>score=%{y}<extra></extra>",
         "legendgroup": "GND ID (Germany)",
         "line": {
          "color": "#1F77B4",
          "dash": "solid"
         },
         "marker": {
          "symbol": "circle"
         },
         "mode": "lines",
         "name": "GND ID (Germany)",
         "opacity": 0.25,
         "orientation": "v",
         "showlegend": true,
         "type": "scatter",
         "x": [
          -300,
          -250,
          -200,
          -150,
          -100,
          -50,
          0,
          50,
          100,
          150,
          200,
          250,
          300,
          350,
          400,
          450,
          500
         ],
         "xaxis": "x",
         "y": [
          1,
          7,
          18,
          22,
          40,
          44,
          19,
          19,
          25,
          12,
          21,
          13,
          15,
          11,
          25,
          4,
          5
         ],
         "yaxis": "y"
        },
        {
         "hovertemplate": "identifier_name=CIRIS author ID (France)<br>decade=%{x}<br>score=%{y}<extra></extra>",
         "legendgroup": "CIRIS author ID (France)",
         "line": {
          "color": "#FF7F0E",
          "dash": "solid"
         },
         "marker": {
          "symbol": "circle"
         },
         "mode": "lines",
         "name": "CIRIS author ID (France)",
         "opacity": 0.25,
         "orientation": "v",
         "showlegend": true,
         "type": "scatter",
         "x": [
          -300,
          -250,
          -200,
          -150,
          -100,
          -50,
          0,
          50,
          100,
          150,
          200,
          250,
          300,
          350,
          400,
          450,
          500
         ],
         "xaxis": "x",
         "y": [
          1,
          5,
          16,
          19,
          37,
          38,
          14,
          18,
          25,
          12,
          19,
          13,
          14,
          11,
          23,
          4,
          5
         ],
         "yaxis": "y"
        },
        {
         "hovertemplate": "identifier_name=Library of Congress authority ID (United States of America)<br>decade=%{x}<br>score=%{y}<extra></extra>",
         "legendgroup": "Library of Congress authority ID (United States of America)",
         "line": {
          "color": "#2CA02C",
          "dash": "solid"
         },
         "marker": {
          "symbol": "circle"
         },
         "mode": "lines",
         "name": "Library of Congress authority ID (United States of America)",
         "opacity": 0.25,
         "orientation": "v",
         "showlegend": true,
         "type": "scatter",
         "x": [
          -300,
          -250,
          -200,
          -150,
          -100,
          -50,
          0,
          50,
          100,
          150,
          200,
          250,
          300,
          350,
          400,
          450,
          500
         ],
         "xaxis": "x",
         "y": [
          1,
          7,
          15,
          19,
          34,
          35,
          17,
          15,
          23,
          11,
          17,
          10,
          12,
          11,
          22,
          4,
          5
         ],
         "yaxis": "y"
        },
        {
         "hovertemplate": "identifier_name=Nationale Thesaurus voor Auteurs ID (Netherlands)<br>decade=%{x}<br>score=%{y}<extra></extra>",
         "legendgroup": "Nationale Thesaurus voor Auteurs ID (Netherlands)",
         "line": {
          "color": "#D62728",
          "dash": "solid"
         },
         "marker": {
          "symbol": "circle"
         },
         "mode": "lines",
         "name": "Nationale Thesaurus voor Auteurs ID (Netherlands)",
         "opacity": 0.25,
         "orientation": "v",
         "showlegend": true,
         "type": "scatter",
         "x": [
          -250,
          -200,
          -150,
          -100,
          -50,
          0,
          50,
          100,
          150,
          200,
          250,
          300,
          350,
          400,
          450,
          500
         ],
         "xaxis": "x",
         "y": [
          6,
          9,
          11,
          25,
          32,
          17,
          16,
          21,
          9,
          15,
          12,
          12,
          10,
          23,
          4,
          4
         ],
         "yaxis": "y"
        },
        {
         "hovertemplate": "identifier_name=Treccani ID (Italy)<br>decade=%{x}<br>score=%{y}<extra></extra>",
         "legendgroup": "Treccani ID (Italy)",
         "line": {
          "color": "#9467BD",
          "dash": "solid"
         },
         "marker": {
          "symbol": "circle"
         },
         "mode": "lines",
         "name": "Treccani ID (Italy)",
         "opacity": 0.25,
         "orientation": "v",
         "showlegend": true,
         "type": "scatter",
         "x": [
          -300,
          -250,
          -200,
          -150,
          -100,
          -50,
          0,
          50,
          100,
          150,
          200,
          250,
          300,
          350,
          400,
          450,
          500
         ],
         "xaxis": "x",
         "y": [
          1,
          7,
          10,
          17,
          40,
          30,
          16,
          14,
          19,
          8,
          11,
          8,
          13,
          10,
          14,
          3,
          4
         ],
         "yaxis": "y"
        },
        {
         "hovertemplate": "identifier_name=National Library of Israel J9U ID (Israel)<br>decade=%{x}<br>score=%{y}<extra></extra>",
         "legendgroup": "National Library of Israel J9U ID (Israel)",
         "line": {
          "color": "#8C564B",
          "dash": "solid"
         },
         "marker": {
          "symbol": "circle"
         },
         "mode": "lines",
         "name": "National Library of Israel J9U ID (Israel)",
         "opacity": 0.25,
         "orientation": "v",
         "showlegend": true,
         "type": "scatter",
         "x": [
          -250,
          -200,
          -150,
          -100,
          -50,
          0,
          50,
          100,
          150,
          200,
          250,
          300,
          350,
          400,
          450,
          500
         ],
         "xaxis": "x",
         "y": [
          4,
          7,
          10,
          25,
          23,
          16,
          15,
          18,
          8,
          14,
          6,
          11,
          8,
          19,
          4,
          4
         ],
         "yaxis": "y"
        },
        {
         "hovertemplate": "identifier_name=NUKAT ID (Poland)<br>decade=%{x}<br>score=%{y}<extra></extra>",
         "legendgroup": "NUKAT ID (Poland)",
         "line": {
          "color": "#E377C2",
          "dash": "solid"
         },
         "marker": {
          "symbol": "circle"
         },
         "mode": "lines",
         "name": "NUKAT ID (Poland)",
         "opacity": 0.25,
         "orientation": "v",
         "showlegend": true,
         "type": "scatter",
         "x": [
          -250,
          -200,
          -150,
          -100,
          -50,
          0,
          50,
          100,
          150,
          200,
          250,
          300,
          350,
          400,
          450,
          500
         ],
         "xaxis": "x",
         "y": [
          4,
          5,
          7,
          25,
          25,
          15,
          14,
          20,
          8,
          12,
          8,
          11,
          9,
          20,
          4,
          4
         ],
         "yaxis": "y"
        },
        {
         "hovertemplate": "identifier_name=Vatican Library VcBA ID (Vatican City)<br>decade=%{x}<br>score=%{y}<extra></extra>",
         "legendgroup": "Vatican Library VcBA ID (Vatican City)",
         "line": {
          "color": "#7F7F7F",
          "dash": "solid"
         },
         "marker": {
          "symbol": "circle"
         },
         "mode": "lines",
         "name": "Vatican Library VcBA ID (Vatican City)",
         "opacity": 0.25,
         "orientation": "v",
         "showlegend": true,
         "type": "scatter",
         "x": [
          -250,
          -200,
          -150,
          -100,
          -50,
          0,
          50,
          100,
          150,
          200,
          250,
          300,
          350,
          400,
          450,
          500
         ],
         "xaxis": "x",
         "y": [
          5,
          6,
          7,
          21,
          24,
          15,
          16,
          19,
          7,
          14,
          8,
          11,
          11,
          18,
          3,
          4
         ],
         "yaxis": "y"
        },
        {
         "hovertemplate": "identifier_name=NORAF ID (Norway)<br>decade=%{x}<br>score=%{y}<extra></extra>",
         "legendgroup": "NORAF ID (Norway)",
         "line": {
          "color": "#BCBD22",
          "dash": "solid"
         },
         "marker": {
          "symbol": "circle"
         },
         "mode": "lines",
         "name": "NORAF ID (Norway)",
         "opacity": 0.25,
         "orientation": "v",
         "showlegend": true,
         "type": "scatter",
         "x": [
          -250,
          -200,
          -150,
          -100,
          -50,
          0,
          50,
          100,
          150,
          200,
          250,
          300,
          350,
          400,
          450,
          500
         ],
         "xaxis": "x",
         "y": [
          4,
          4,
          7,
          22,
          21,
          14,
          13,
          17,
          9,
          9,
          4,
          9,
          9,
          20,
          3,
          4
         ],
         "yaxis": "y"
        },
        {
         "hovertemplate": "identifier_name=Biblioteca Nacional de España ID (Spain)<br>decade=%{x}<br>score=%{y}<extra></extra>",
         "legendgroup": "Biblioteca Nacional de España ID (Spain)",
         "line": {
          "color": "#17BECF",
          "dash": "solid"
         },
         "marker": {
          "symbol": "circle"
         },
         "mode": "lines",
         "name": "Biblioteca Nacional de España ID (Spain)",
         "opacity": 0.25,
         "orientation": "v",
         "showlegend": true,
         "type": "scatter",
         "x": [
          -250,
          -200,
          -150,
          -100,
          -50,
          0,
          50,
          100,
          150,
          200,
          250,
          300,
          350,
          400,
          450,
          500
         ],
         "xaxis": "x",
         "y": [
          4,
          4,
          4,
          20,
          19,
          15,
          14,
          16,
          5,
          14,
          11,
          10,
          9,
          15,
          3,
          4
         ],
         "yaxis": "y"
        },
        {
         "hovertemplate": "identifier_name=Libris-URI (Sweden)<br>decade=%{x}<br>score=%{y}<extra></extra>",
         "legendgroup": "Libris-URI (Sweden)",
         "line": {
          "color": "#1F77B4",
          "dash": "solid"
         },
         "marker": {
          "symbol": "circle"
         },
         "mode": "lines",
         "name": "Libris-URI (Sweden)",
         "opacity": 0.25,
         "orientation": "v",
         "showlegend": true,
         "type": "scatter",
         "x": [
          -250,
          -200,
          -150,
          -100,
          -50,
          0,
          50,
          100,
          150,
          200,
          250,
          300,
          350,
          400,
          450,
          500
         ],
         "xaxis": "x",
         "y": [
          4,
          3,
          8,
          14,
          17,
          14,
          13,
          16,
          6,
          11,
          10,
          10,
          8,
          18,
          2,
          4
         ],
         "yaxis": "y"
        },
        {
         "hovertemplate": "identifier_name=Encyclopædia Britannica Online ID (United Kingdom)<br>decade=%{x}<br>score=%{y}<extra></extra>",
         "legendgroup": "Encyclopædia Britannica Online ID (United Kingdom)",
         "line": {
          "color": "#FF7F0E",
          "dash": "solid"
         },
         "marker": {
          "symbol": "circle"
         },
         "mode": "lines",
         "name": "Encyclopædia Britannica Online ID (United Kingdom)",
         "opacity": 0.25,
         "orientation": "v",
         "showlegend": true,
         "type": "scatter",
         "x": [
          -250,
          -200,
          -150,
          -100,
          -50,
          0,
          50,
          100,
          150,
          200,
          250,
          300,
          350,
          400,
          450,
          500
         ],
         "xaxis": "x",
         "y": [
          5,
          3,
          7,
          23,
          22,
          12,
          16,
          14,
          3,
          14,
          2,
          5,
          8,
          7,
          2,
          3
         ],
         "yaxis": "y"
        },
        {
         "hovertemplate": "identifier_name=NKCR AUT ID (Czech Republic)<br>decade=%{x}<br>score=%{y}<extra></extra>",
         "legendgroup": "NKCR AUT ID (Czech Republic)",
         "line": {
          "color": "#2CA02C",
          "dash": "solid"
         },
         "marker": {
          "symbol": "circle"
         },
         "mode": "lines",
         "name": "NKCR AUT ID (Czech Republic)",
         "opacity": 0.25,
         "orientation": "v",
         "showlegend": true,
         "type": "scatter",
         "x": [
          -250,
          -200,
          -150,
          -100,
          -50,
          0,
          50,
          100,
          150,
          200,
          250,
          300,
          350,
          400,
          450,
          500
         ],
         "xaxis": "x",
         "y": [
          4,
          4,
          3,
          13,
          16,
          11,
          12,
          12,
          7,
          12,
          7,
          9,
          7,
          15,
          4,
          3
         ],
         "yaxis": "y"
        },
        {
         "hovertemplate": "identifier_name=National Library of Greece ID (Greece)<br>decade=%{x}<br>score=%{y}<extra></extra>",
         "legendgroup": "National Library of Greece ID (Greece)",
         "line": {
          "color": "#D62728",
          "dash": "solid"
         },
         "marker": {
          "symbol": "circle"
         },
         "mode": "lines",
         "name": "National Library of Greece ID (Greece)",
         "opacity": 0.25,
         "orientation": "v",
         "showlegend": true,
         "type": "scatter",
         "x": [
          -250,
          -200,
          -150,
          -100,
          -50,
          0,
          50,
          100,
          150,
          200,
          250,
          300,
          350,
          400,
          450,
          500
         ],
         "xaxis": "x",
         "y": [
          3,
          3,
          2,
          13,
          17,
          13,
          11,
          13,
          7,
          8,
          5,
          9,
          7,
          12,
          3,
          2
         ],
         "yaxis": "y"
        },
        {
         "hovertemplate": "identifier_name=CiNii Books author ID (Japan)<br>decade=%{x}<br>score=%{y}<extra></extra>",
         "legendgroup": "CiNii Books author ID (Japan)",
         "line": {
          "color": "#9467BD",
          "dash": "solid"
         },
         "marker": {
          "symbol": "circle"
         },
         "mode": "lines",
         "name": "CiNii Books author ID (Japan)",
         "opacity": 0.25,
         "orientation": "v",
         "showlegend": true,
         "type": "scatter",
         "x": [
          -250,
          -200,
          -150,
          -100,
          -50,
          0,
          50,
          100,
          150,
          200,
          250,
          300,
          350,
          400,
          450,
          500
         ],
         "xaxis": "x",
         "y": [
          4,
          4,
          5,
          13,
          14,
          11,
          9,
          15,
          7,
          7,
          4,
          10,
          6,
          9,
          3,
          2
         ],
         "yaxis": "y"
        },
        {
         "hovertemplate": "identifier_name=Canadiana Name Authority ID (Canada)<br>decade=%{x}<br>score=%{y}<extra></extra>",
         "legendgroup": "Canadiana Name Authority ID (Canada)",
         "line": {
          "color": "#8C564B",
          "dash": "solid"
         },
         "marker": {
          "symbol": "circle"
         },
         "mode": "lines",
         "name": "Canadiana Name Authority ID (Canada)",
         "opacity": 0.25,
         "orientation": "v",
         "showlegend": true,
         "type": "scatter",
         "x": [
          -250,
          -200,
          -150,
          -100,
          -50,
          0,
          50,
          100,
          150,
          200,
          250,
          300,
          350,
          400,
          450,
          500
         ],
         "xaxis": "x",
         "y": [
          2,
          4,
          6,
          15,
          14,
          13,
          10,
          13,
          4,
          7,
          3,
          6,
          6,
          11,
          1,
          2
         ],
         "yaxis": "y"
        },
        {
         "hovertemplate": "identifier_name=Portuguese National Library author ID (Portugal)<br>decade=%{x}<br>score=%{y}<extra></extra>",
         "legendgroup": "Portuguese National Library author ID (Portugal)",
         "line": {
          "color": "#E377C2",
          "dash": "solid"
         },
         "marker": {
          "symbol": "circle"
         },
         "mode": "lines",
         "name": "Portuguese National Library author ID (Portugal)",
         "opacity": 0.25,
         "orientation": "v",
         "showlegend": true,
         "type": "scatter",
         "x": [
          -250,
          -200,
          -100,
          -50,
          0,
          50,
          100,
          150,
          200,
          250,
          300,
          350,
          400,
          450,
          500
         ],
         "xaxis": "x",
         "y": [
          3,
          1,
          11,
          16,
          12,
          11,
          10,
          5,
          8,
          6,
          8,
          7,
          13,
          2,
          3
         ],
         "yaxis": "y"
        },
        {
         "hovertemplate": "identifier_name=NLA Trove people ID (Australia)<br>decade=%{x}<br>score=%{y}<extra></extra>",
         "legendgroup": "NLA Trove people ID (Australia)",
         "line": {
          "color": "#7F7F7F",
          "dash": "solid"
         },
         "marker": {
          "symbol": "circle"
         },
         "mode": "lines",
         "name": "NLA Trove people ID (Australia)",
         "opacity": 0.25,
         "orientation": "v",
         "showlegend": true,
         "type": "scatter",
         "x": [
          -250,
          -200,
          -150,
          -100,
          -50,
          0,
          50,
          100,
          150,
          200,
          250,
          300,
          350,
          400,
          450,
          500
         ],
         "xaxis": "x",
         "y": [
          2,
          1,
          2,
          14,
          13,
          11,
          9,
          11,
          4,
          9,
          1,
          9,
          7,
          12,
          3,
          4
         ],
         "yaxis": "y"
        },
        {
         "hovertemplate": "identifier_name=NSK ID (Croatia)<br>decade=%{x}<br>score=%{y}<extra></extra>",
         "legendgroup": "NSK ID (Croatia)",
         "line": {
          "color": "#BCBD22",
          "dash": "solid"
         },
         "marker": {
          "symbol": "circle"
         },
         "mode": "lines",
         "name": "NSK ID (Croatia)",
         "opacity": 0.25,
         "orientation": "v",
         "showlegend": true,
         "type": "scatter",
         "x": [
          -250,
          -200,
          -150,
          -100,
          -50,
          0,
          50,
          100,
          150,
          200,
          250,
          300,
          350,
          400,
          450,
          500
         ],
         "xaxis": "x",
         "y": [
          3,
          2,
          2,
          10,
          11,
          11,
          10,
          9,
          5,
          6,
          6,
          6,
          7,
          10,
          2,
          2
         ],
         "yaxis": "y"
        },
        {
         "hovertemplate": "identifier_name=CONOR.SI ID (Slovenia)<br>decade=%{x}<br>score=%{y}<extra></extra>",
         "legendgroup": "CONOR.SI ID (Slovenia)",
         "line": {
          "color": "#17BECF",
          "dash": "solid"
         },
         "marker": {
          "symbol": "circle"
         },
         "mode": "lines",
         "name": "CONOR.SI ID (Slovenia)",
         "opacity": 0.25,
         "orientation": "v",
         "showlegend": true,
         "type": "scatter",
         "x": [
          -250,
          -200,
          -150,
          -100,
          -50,
          0,
          50,
          100,
          150,
          200,
          250,
          300,
          350,
          400,
          500
         ],
         "xaxis": "x",
         "y": [
          4,
          1,
          3,
          10,
          12,
          12,
          11,
          10,
          4,
          5,
          5,
          8,
          5,
          7,
          4
         ],
         "yaxis": "y"
        },
        {
         "hovertemplate": "identifier_name=average<br>decade=%{x}<br>score=%{y}<extra></extra>",
         "legendgroup": "average",
         "line": {
          "color": "#1F77B4",
          "dash": "solid",
          "width": 3
         },
         "marker": {
          "symbol": "circle"
         },
         "mode": "lines",
         "name": "average",
         "orientation": "v",
         "showlegend": true,
         "type": "scatter",
         "x": [
          -300,
          -250,
          -200,
          -150,
          -100,
          -50,
          0,
          50,
          100,
          150,
          200,
          250,
          300,
          350,
          400,
          450,
          500
         ],
         "xaxis": "x",
         "y": [
          1,
          4.35,
          6,
          8.473684210526315,
          21.25,
          22.15,
          13.9,
          13.3,
          16.3,
          7.05,
          11.65,
          7.1,
          9.9,
          8.35,
          15.65,
          3.0526315789473686,
          3.6
         ],
         "yaxis": "y"
        }
       ],
       "layout": {
        "height": 800,
        "legend": {
         "title": {
          "text": "Identifiers"
         }
        },
        "template": {
         "data": {
          "bar": [
           {
            "error_x": {
             "color": "rgb(36,36,36)"
            },
            "error_y": {
             "color": "rgb(36,36,36)"
            },
            "marker": {
             "line": {
              "color": "white",
              "width": 0.5
             },
             "pattern": {
              "fillmode": "overlay",
              "size": 10,
              "solidity": 0.2
             }
            },
            "type": "bar"
           }
          ],
          "barpolar": [
           {
            "marker": {
             "line": {
              "color": "white",
              "width": 0.5
             },
             "pattern": {
              "fillmode": "overlay",
              "size": 10,
              "solidity": 0.2
             }
            },
            "type": "barpolar"
           }
          ],
          "carpet": [
           {
            "aaxis": {
             "endlinecolor": "rgb(36,36,36)",
             "gridcolor": "white",
             "linecolor": "white",
             "minorgridcolor": "white",
             "startlinecolor": "rgb(36,36,36)"
            },
            "baxis": {
             "endlinecolor": "rgb(36,36,36)",
             "gridcolor": "white",
             "linecolor": "white",
             "minorgridcolor": "white",
             "startlinecolor": "rgb(36,36,36)"
            },
            "type": "carpet"
           }
          ],
          "choropleth": [
           {
            "colorbar": {
             "outlinewidth": 1,
             "tickcolor": "rgb(36,36,36)",
             "ticks": "outside"
            },
            "type": "choropleth"
           }
          ],
          "contour": [
           {
            "colorbar": {
             "outlinewidth": 1,
             "tickcolor": "rgb(36,36,36)",
             "ticks": "outside"
            },
            "colorscale": [
             [
              0,
              "#440154"
             ],
             [
              0.1111111111111111,
              "#482878"
             ],
             [
              0.2222222222222222,
              "#3e4989"
             ],
             [
              0.3333333333333333,
              "#31688e"
             ],
             [
              0.4444444444444444,
              "#26828e"
             ],
             [
              0.5555555555555556,
              "#1f9e89"
             ],
             [
              0.6666666666666666,
              "#35b779"
             ],
             [
              0.7777777777777778,
              "#6ece58"
             ],
             [
              0.8888888888888888,
              "#b5de2b"
             ],
             [
              1,
              "#fde725"
             ]
            ],
            "type": "contour"
           }
          ],
          "contourcarpet": [
           {
            "colorbar": {
             "outlinewidth": 1,
             "tickcolor": "rgb(36,36,36)",
             "ticks": "outside"
            },
            "type": "contourcarpet"
           }
          ],
          "heatmap": [
           {
            "colorbar": {
             "outlinewidth": 1,
             "tickcolor": "rgb(36,36,36)",
             "ticks": "outside"
            },
            "colorscale": [
             [
              0,
              "#440154"
             ],
             [
              0.1111111111111111,
              "#482878"
             ],
             [
              0.2222222222222222,
              "#3e4989"
             ],
             [
              0.3333333333333333,
              "#31688e"
             ],
             [
              0.4444444444444444,
              "#26828e"
             ],
             [
              0.5555555555555556,
              "#1f9e89"
             ],
             [
              0.6666666666666666,
              "#35b779"
             ],
             [
              0.7777777777777778,
              "#6ece58"
             ],
             [
              0.8888888888888888,
              "#b5de2b"
             ],
             [
              1,
              "#fde725"
             ]
            ],
            "type": "heatmap"
           }
          ],
          "heatmapgl": [
           {
            "colorbar": {
             "outlinewidth": 1,
             "tickcolor": "rgb(36,36,36)",
             "ticks": "outside"
            },
            "colorscale": [
             [
              0,
              "#440154"
             ],
             [
              0.1111111111111111,
              "#482878"
             ],
             [
              0.2222222222222222,
              "#3e4989"
             ],
             [
              0.3333333333333333,
              "#31688e"
             ],
             [
              0.4444444444444444,
              "#26828e"
             ],
             [
              0.5555555555555556,
              "#1f9e89"
             ],
             [
              0.6666666666666666,
              "#35b779"
             ],
             [
              0.7777777777777778,
              "#6ece58"
             ],
             [
              0.8888888888888888,
              "#b5de2b"
             ],
             [
              1,
              "#fde725"
             ]
            ],
            "type": "heatmapgl"
           }
          ],
          "histogram": [
           {
            "marker": {
             "line": {
              "color": "white",
              "width": 0.6
             }
            },
            "type": "histogram"
           }
          ],
          "histogram2d": [
           {
            "colorbar": {
             "outlinewidth": 1,
             "tickcolor": "rgb(36,36,36)",
             "ticks": "outside"
            },
            "colorscale": [
             [
              0,
              "#440154"
             ],
             [
              0.1111111111111111,
              "#482878"
             ],
             [
              0.2222222222222222,
              "#3e4989"
             ],
             [
              0.3333333333333333,
              "#31688e"
             ],
             [
              0.4444444444444444,
              "#26828e"
             ],
             [
              0.5555555555555556,
              "#1f9e89"
             ],
             [
              0.6666666666666666,
              "#35b779"
             ],
             [
              0.7777777777777778,
              "#6ece58"
             ],
             [
              0.8888888888888888,
              "#b5de2b"
             ],
             [
              1,
              "#fde725"
             ]
            ],
            "type": "histogram2d"
           }
          ],
          "histogram2dcontour": [
           {
            "colorbar": {
             "outlinewidth": 1,
             "tickcolor": "rgb(36,36,36)",
             "ticks": "outside"
            },
            "colorscale": [
             [
              0,
              "#440154"
             ],
             [
              0.1111111111111111,
              "#482878"
             ],
             [
              0.2222222222222222,
              "#3e4989"
             ],
             [
              0.3333333333333333,
              "#31688e"
             ],
             [
              0.4444444444444444,
              "#26828e"
             ],
             [
              0.5555555555555556,
              "#1f9e89"
             ],
             [
              0.6666666666666666,
              "#35b779"
             ],
             [
              0.7777777777777778,
              "#6ece58"
             ],
             [
              0.8888888888888888,
              "#b5de2b"
             ],
             [
              1,
              "#fde725"
             ]
            ],
            "type": "histogram2dcontour"
           }
          ],
          "mesh3d": [
           {
            "colorbar": {
             "outlinewidth": 1,
             "tickcolor": "rgb(36,36,36)",
             "ticks": "outside"
            },
            "type": "mesh3d"
           }
          ],
          "parcoords": [
           {
            "line": {
             "colorbar": {
              "outlinewidth": 1,
              "tickcolor": "rgb(36,36,36)",
              "ticks": "outside"
             }
            },
            "type": "parcoords"
           }
          ],
          "pie": [
           {
            "automargin": true,
            "type": "pie"
           }
          ],
          "scatter": [
           {
            "fillpattern": {
             "fillmode": "overlay",
             "size": 10,
             "solidity": 0.2
            },
            "type": "scatter"
           }
          ],
          "scatter3d": [
           {
            "line": {
             "colorbar": {
              "outlinewidth": 1,
              "tickcolor": "rgb(36,36,36)",
              "ticks": "outside"
             }
            },
            "marker": {
             "colorbar": {
              "outlinewidth": 1,
              "tickcolor": "rgb(36,36,36)",
              "ticks": "outside"
             }
            },
            "type": "scatter3d"
           }
          ],
          "scattercarpet": [
           {
            "marker": {
             "colorbar": {
              "outlinewidth": 1,
              "tickcolor": "rgb(36,36,36)",
              "ticks": "outside"
             }
            },
            "type": "scattercarpet"
           }
          ],
          "scattergeo": [
           {
            "marker": {
             "colorbar": {
              "outlinewidth": 1,
              "tickcolor": "rgb(36,36,36)",
              "ticks": "outside"
             }
            },
            "type": "scattergeo"
           }
          ],
          "scattergl": [
           {
            "marker": {
             "colorbar": {
              "outlinewidth": 1,
              "tickcolor": "rgb(36,36,36)",
              "ticks": "outside"
             }
            },
            "type": "scattergl"
           }
          ],
          "scattermapbox": [
           {
            "marker": {
             "colorbar": {
              "outlinewidth": 1,
              "tickcolor": "rgb(36,36,36)",
              "ticks": "outside"
             }
            },
            "type": "scattermapbox"
           }
          ],
          "scatterpolar": [
           {
            "marker": {
             "colorbar": {
              "outlinewidth": 1,
              "tickcolor": "rgb(36,36,36)",
              "ticks": "outside"
             }
            },
            "type": "scatterpolar"
           }
          ],
          "scatterpolargl": [
           {
            "marker": {
             "colorbar": {
              "outlinewidth": 1,
              "tickcolor": "rgb(36,36,36)",
              "ticks": "outside"
             }
            },
            "type": "scatterpolargl"
           }
          ],
          "scatterternary": [
           {
            "marker": {
             "colorbar": {
              "outlinewidth": 1,
              "tickcolor": "rgb(36,36,36)",
              "ticks": "outside"
             }
            },
            "type": "scatterternary"
           }
          ],
          "surface": [
           {
            "colorbar": {
             "outlinewidth": 1,
             "tickcolor": "rgb(36,36,36)",
             "ticks": "outside"
            },
            "colorscale": [
             [
              0,
              "#440154"
             ],
             [
              0.1111111111111111,
              "#482878"
             ],
             [
              0.2222222222222222,
              "#3e4989"
             ],
             [
              0.3333333333333333,
              "#31688e"
             ],
             [
              0.4444444444444444,
              "#26828e"
             ],
             [
              0.5555555555555556,
              "#1f9e89"
             ],
             [
              0.6666666666666666,
              "#35b779"
             ],
             [
              0.7777777777777778,
              "#6ece58"
             ],
             [
              0.8888888888888888,
              "#b5de2b"
             ],
             [
              1,
              "#fde725"
             ]
            ],
            "type": "surface"
           }
          ],
          "table": [
           {
            "cells": {
             "fill": {
              "color": "rgb(237,237,237)"
             },
             "line": {
              "color": "white"
             }
            },
            "header": {
             "fill": {
              "color": "rgb(217,217,217)"
             },
             "line": {
              "color": "white"
             }
            },
            "type": "table"
           }
          ]
         },
         "layout": {
          "annotationdefaults": {
           "arrowhead": 0,
           "arrowwidth": 1
          },
          "autotypenumbers": "strict",
          "coloraxis": {
           "colorbar": {
            "outlinewidth": 1,
            "tickcolor": "rgb(36,36,36)",
            "ticks": "outside"
           }
          },
          "colorscale": {
           "diverging": [
            [
             0,
             "rgb(103,0,31)"
            ],
            [
             0.1,
             "rgb(178,24,43)"
            ],
            [
             0.2,
             "rgb(214,96,77)"
            ],
            [
             0.3,
             "rgb(244,165,130)"
            ],
            [
             0.4,
             "rgb(253,219,199)"
            ],
            [
             0.5,
             "rgb(247,247,247)"
            ],
            [
             0.6,
             "rgb(209,229,240)"
            ],
            [
             0.7,
             "rgb(146,197,222)"
            ],
            [
             0.8,
             "rgb(67,147,195)"
            ],
            [
             0.9,
             "rgb(33,102,172)"
            ],
            [
             1,
             "rgb(5,48,97)"
            ]
           ],
           "sequential": [
            [
             0,
             "#440154"
            ],
            [
             0.1111111111111111,
             "#482878"
            ],
            [
             0.2222222222222222,
             "#3e4989"
            ],
            [
             0.3333333333333333,
             "#31688e"
            ],
            [
             0.4444444444444444,
             "#26828e"
            ],
            [
             0.5555555555555556,
             "#1f9e89"
            ],
            [
             0.6666666666666666,
             "#35b779"
            ],
            [
             0.7777777777777778,
             "#6ece58"
            ],
            [
             0.8888888888888888,
             "#b5de2b"
            ],
            [
             1,
             "#fde725"
            ]
           ],
           "sequentialminus": [
            [
             0,
             "#440154"
            ],
            [
             0.1111111111111111,
             "#482878"
            ],
            [
             0.2222222222222222,
             "#3e4989"
            ],
            [
             0.3333333333333333,
             "#31688e"
            ],
            [
             0.4444444444444444,
             "#26828e"
            ],
            [
             0.5555555555555556,
             "#1f9e89"
            ],
            [
             0.6666666666666666,
             "#35b779"
            ],
            [
             0.7777777777777778,
             "#6ece58"
            ],
            [
             0.8888888888888888,
             "#b5de2b"
            ],
            [
             1,
             "#fde725"
            ]
           ]
          },
          "colorway": [
           "#1F77B4",
           "#FF7F0E",
           "#2CA02C",
           "#D62728",
           "#9467BD",
           "#8C564B",
           "#E377C2",
           "#7F7F7F",
           "#BCBD22",
           "#17BECF"
          ],
          "font": {
           "color": "rgb(36,36,36)"
          },
          "geo": {
           "bgcolor": "white",
           "lakecolor": "white",
           "landcolor": "white",
           "showlakes": true,
           "showland": true,
           "subunitcolor": "white"
          },
          "hoverlabel": {
           "align": "left"
          },
          "hovermode": "closest",
          "mapbox": {
           "style": "light"
          },
          "paper_bgcolor": "white",
          "plot_bgcolor": "white",
          "polar": {
           "angularaxis": {
            "gridcolor": "rgb(232,232,232)",
            "linecolor": "rgb(36,36,36)",
            "showgrid": false,
            "showline": true,
            "ticks": "outside"
           },
           "bgcolor": "white",
           "radialaxis": {
            "gridcolor": "rgb(232,232,232)",
            "linecolor": "rgb(36,36,36)",
            "showgrid": false,
            "showline": true,
            "ticks": "outside"
           }
          },
          "scene": {
           "xaxis": {
            "backgroundcolor": "white",
            "gridcolor": "rgb(232,232,232)",
            "gridwidth": 2,
            "linecolor": "rgb(36,36,36)",
            "showbackground": true,
            "showgrid": false,
            "showline": true,
            "ticks": "outside",
            "zeroline": false,
            "zerolinecolor": "rgb(36,36,36)"
           },
           "yaxis": {
            "backgroundcolor": "white",
            "gridcolor": "rgb(232,232,232)",
            "gridwidth": 2,
            "linecolor": "rgb(36,36,36)",
            "showbackground": true,
            "showgrid": false,
            "showline": true,
            "ticks": "outside",
            "zeroline": false,
            "zerolinecolor": "rgb(36,36,36)"
           },
           "zaxis": {
            "backgroundcolor": "white",
            "gridcolor": "rgb(232,232,232)",
            "gridwidth": 2,
            "linecolor": "rgb(36,36,36)",
            "showbackground": true,
            "showgrid": false,
            "showline": true,
            "ticks": "outside",
            "zeroline": false,
            "zerolinecolor": "rgb(36,36,36)"
           }
          },
          "shapedefaults": {
           "fillcolor": "black",
           "line": {
            "width": 0
           },
           "opacity": 0.3
          },
          "ternary": {
           "aaxis": {
            "gridcolor": "rgb(232,232,232)",
            "linecolor": "rgb(36,36,36)",
            "showgrid": false,
            "showline": true,
            "ticks": "outside"
           },
           "baxis": {
            "gridcolor": "rgb(232,232,232)",
            "linecolor": "rgb(36,36,36)",
            "showgrid": false,
            "showline": true,
            "ticks": "outside"
           },
           "bgcolor": "white",
           "caxis": {
            "gridcolor": "rgb(232,232,232)",
            "linecolor": "rgb(36,36,36)",
            "showgrid": false,
            "showline": true,
            "ticks": "outside"
           }
          },
          "title": {
           "x": 0.05
          },
          "xaxis": {
           "automargin": true,
           "gridcolor": "rgb(232,232,232)",
           "linecolor": "rgb(36,36,36)",
           "showgrid": false,
           "showline": true,
           "ticks": "outside",
           "title": {
            "standoff": 15
           },
           "zeroline": false,
           "zerolinecolor": "rgb(36,36,36)"
          },
          "yaxis": {
           "automargin": true,
           "gridcolor": "rgb(232,232,232)",
           "linecolor": "rgb(36,36,36)",
           "showgrid": false,
           "showline": true,
           "ticks": "outside",
           "title": {
            "standoff": 15
           },
           "zeroline": false,
           "zerolinecolor": "rgb(36,36,36)"
          }
         }
        },
        "title": {
         "text": "Italy"
        },
        "width": 1300,
        "xaxis": {
         "dtick": 100,
         "title": {
          "text": ""
         }
        },
        "yaxis": {
         "title": {
          "text": "Number of Individuals"
         }
        }
       }
      }
     },
     "metadata": {},
     "output_type": "display_data"
    }
   ],
   "source": [
    "def make_figure(df_graph_bis, region_name, min_decade = 1200, max_decade = 1800, top_identifiers = 5, one_id_country = False):\n",
    "    \n",
    "    \n",
    "    df_fig = df_graph_bis[df_graph_bis['region_name']==region_name]\n",
    "    df_fig = df_fig[df_fig['decade']<=max_decade]\n",
    "    df_fig = df_fig[df_fig['decade']>=min_decade]\n",
    "    \n",
    "    if one_id_country:\n",
    "        \n",
    "        df_fig = df_fig[df_fig['country_name']!='']\n",
    "        one_id_country = df_fig.groupby(['country_name', 'identifier_name'])['score'].sum().reset_index()\n",
    "        one_id_country = one_id_country.sort_values(['country_name', 'score'], ascending=(False, False))\n",
    "        one_id_country = one_id_country.groupby('country_name').head(1)\n",
    "        one_id_country = list(one_id_country['identifier_name'])\n",
    "        df_fig = df_fig[df_fig['identifier_name'].isin(one_id_country)]\n",
    "        \n",
    "    top_ids = df_fig.groupby(['identifier_name'])['score'].sum().reset_index().sort_values('score', ascending=False)\n",
    "\n",
    "    #top_ids = top_ids[top_ids['identifier_name']!='all_identifiers']\n",
    "    top_ids = list(top_ids['identifier_name'][:top_identifiers])\n",
    "    df_fig = df_fig[df_fig['identifier_name'].isin(top_ids)]\n",
    "    df_fig_mean = df_fig.groupby(['decade'])['score'].mean().reset_index()\n",
    "    df_fig_mean['identifier_name'] = 'average'\n",
    "\n",
    "    #df_fig = pd.concat([df_fig, df_fig_mean])\n",
    "\n",
    "    fig = px.line(df_fig, x = 'decade', y = 'score', color = 'identifier_name',\n",
    "                  width = 1200, \n",
    "                  height = 600, \n",
    "                  title = region_name, \n",
    "                  template = 'simple_white',\n",
    "                  category_orders={'identifier_name': top_ids}) \n",
    "                  #line_shape='spline')\n",
    "\n",
    "\n",
    "    #fig.update_layout(legend=dict(title=dict(text='Top 5 Immaterial Production')))\n",
    "    fig.update_traces(opacity=0.25)\n",
    "\n",
    "    fig2 = px.line(df_fig_mean, x = 'decade', y = 'score',color = 'identifier_name',\n",
    "              width = 1200, \n",
    "              height = 600, \n",
    "              title = region_name, \n",
    "              template = 'simple_white')\n",
    "              #line_shape='spline')\n",
    "\n",
    "    fig2.update_traces(line=dict(width=3))\n",
    "    fig3 = go.Figure(data=fig.data + fig2.data)\n",
    "    fig3.update_layout(xaxis_title='', yaxis_title='Number of Individuals',  \n",
    "                       template = 'simple_white',  \n",
    "                       width = 1300, \n",
    "                       height = 800,\n",
    "                      title = region_name)\n",
    "\n",
    "# Update the layout with the category order\n",
    "\n",
    "\n",
    "    #ig3.for_each_trace(lambda t: t.update(name=legend_order.index(t.name)))\n",
    "    fig3.update_layout(legend=dict(title=dict(text='Identifiers')))\n",
    "    #fig3.update_layout(category_orders={'Identifiers': top_ids})\n",
    "    fig3.update_layout(xaxis=dict(dtick=100))\n",
    "    #fig3.update_layout(title_text=region_name)\n",
    "\n",
    "    return fig3, df_fig\n",
    "\n",
    "\n",
    "df_fig_fifty = df_fig.copy()\n",
    "df_fig_fifty['decade'] = df_fig_fifty['decade'].apply(lambda x : round(x/50)*50)\n",
    "df_fig_fifty = df_fig_fifty.groupby(['identifier_name', 'country_name', 'region_name', 'decade'])['score'].sum().reset_index()\n",
    "\n",
    "region_name = 'Italy'\n",
    "\n",
    "fig_italy, df_fig_italy = make_figure(df_fig_fifty, \n",
    "                   region_name = region_name, \n",
    "                   min_decade = -300, \n",
    "                   max_decade = 500, \n",
    "                   top_identifiers = 20,\n",
    "                  one_id_country = True)\n",
    "\n",
    "fig_italy.show()\n",
    "fig_italy.write_image(f\"figures/italy_identifiers.png\", scale=7)"
   ]
  },
  {
   "cell_type": "code",
   "execution_count": 9,
   "id": "55c16212-8d8b-48e0-af57-c64017595fc6",
   "metadata": {
    "tags": []
   },
   "outputs": [
    {
     "data": {
      "text/plain": [
       "0.8889329746744962"
      ]
     },
     "execution_count": 9,
     "metadata": {},
     "output_type": "execute_result"
    }
   ],
   "source": [
    "df_corr = df_fig_italy.pivot(index ='decade', columns = 'identifier_name', values = 'score')\n",
    "df_corr = df_corr.fillna(0)\n",
    "df_corr.corr().stack().mean()"
   ]
  },
  {
   "cell_type": "code",
   "execution_count": null,
   "id": "1507247c-5d19-40cc-bf4a-557fa5314139",
   "metadata": {
    "tags": []
   },
   "outputs": [],
   "source": []
  },
  {
   "cell_type": "code",
   "execution_count": null,
   "id": "9727cd35-1e53-415e-b4ef-d488f969d976",
   "metadata": {},
   "outputs": [],
   "source": []
  },
  {
   "cell_type": "code",
   "execution_count": 10,
   "id": "b44a4737-37c9-4f82-bf1d-3219990e329c",
   "metadata": {},
   "outputs": [
    {
     "data": {
      "application/vnd.plotly.v1+json": {
       "config": {
        "plotlyServerURL": "https://plot.ly"
       },
       "data": [
        {
         "hovertemplate": "identifier_name=GND ID (Germany)<br>decade=%{x}<br>score=%{y}<extra></extra>",
         "legendgroup": "GND ID (Germany)",
         "line": {
          "color": "#1F77B4",
          "dash": "solid"
         },
         "marker": {
          "symbol": "circle"
         },
         "mode": "lines",
         "name": "GND ID (Germany)",
         "opacity": 0.25,
         "orientation": "v",
         "showlegend": true,
         "type": "scatter",
         "x": [
          -800,
          -700,
          -650,
          -600,
          -550,
          -500,
          -450,
          -400,
          -350,
          -300,
          -250,
          -200,
          -150,
          -100,
          -50,
          0,
          50,
          100,
          150,
          200,
          250,
          300,
          350,
          400,
          450,
          500
         ],
         "xaxis": "x",
         "y": [
          5,
          8,
          4,
          45,
          10,
          78,
          43,
          71,
          49,
          54,
          18,
          20,
          16,
          16,
          8,
          9,
          16,
          24,
          13,
          26,
          8,
          19,
          17,
          16,
          17,
          23
         ],
         "yaxis": "y"
        },
        {
         "hovertemplate": "identifier_name=TLG author ID (United States of America)<br>decade=%{x}<br>score=%{y}<extra></extra>",
         "legendgroup": "TLG author ID (United States of America)",
         "line": {
          "color": "#FF7F0E",
          "dash": "solid"
         },
         "marker": {
          "symbol": "circle"
         },
         "mode": "lines",
         "name": "TLG author ID (United States of America)",
         "opacity": 0.25,
         "orientation": "v",
         "showlegend": true,
         "type": "scatter",
         "x": [
          -800,
          -700,
          -650,
          -600,
          -550,
          -500,
          -450,
          -400,
          -350,
          -300,
          -250,
          -200,
          -150,
          -100,
          -50,
          0,
          50,
          100,
          150,
          200,
          250,
          300,
          350,
          400,
          450,
          500
         ],
         "xaxis": "x",
         "y": [
          2,
          6,
          3,
          20,
          9,
          56,
          36,
          55,
          39,
          52,
          18,
          16,
          14,
          11,
          3,
          7,
          12,
          21,
          9,
          18,
          7,
          14,
          11,
          13,
          10,
          18
         ],
         "yaxis": "y"
        },
        {
         "hovertemplate": "identifier_name=CIRIS author ID (France)<br>decade=%{x}<br>score=%{y}<extra></extra>",
         "legendgroup": "CIRIS author ID (France)",
         "line": {
          "color": "#2CA02C",
          "dash": "solid"
         },
         "marker": {
          "symbol": "circle"
         },
         "mode": "lines",
         "name": "CIRIS author ID (France)",
         "opacity": 0.25,
         "orientation": "v",
         "showlegend": true,
         "type": "scatter",
         "x": [
          -800,
          -700,
          -650,
          -600,
          -550,
          -500,
          -450,
          -400,
          -350,
          -300,
          -250,
          -200,
          -150,
          -100,
          -50,
          0,
          50,
          100,
          150,
          200,
          250,
          300,
          350,
          400,
          450,
          500
         ],
         "xaxis": "x",
         "y": [
          3,
          6,
          3,
          16,
          8,
          49,
          28,
          46,
          41,
          45,
          14,
          16,
          12,
          14,
          5,
          8,
          15,
          22,
          11,
          24,
          7,
          15,
          15,
          15,
          14,
          21
         ],
         "yaxis": "y"
        },
        {
         "hovertemplate": "identifier_name=Treccani ID (Italy)<br>decade=%{x}<br>score=%{y}<extra></extra>",
         "legendgroup": "Treccani ID (Italy)",
         "line": {
          "color": "#D62728",
          "dash": "solid"
         },
         "marker": {
          "symbol": "circle"
         },
         "mode": "lines",
         "name": "Treccani ID (Italy)",
         "opacity": 0.25,
         "orientation": "v",
         "showlegend": true,
         "type": "scatter",
         "x": [
          -800,
          -700,
          -650,
          -600,
          -550,
          -500,
          -450,
          -400,
          -350,
          -300,
          -250,
          -200,
          -150,
          -100,
          -50,
          0,
          50,
          100,
          150,
          200,
          250,
          300,
          350,
          400,
          450,
          500
         ],
         "xaxis": "x",
         "y": [
          3,
          5,
          3,
          17,
          8,
          48,
          27,
          34,
          37,
          34,
          9,
          18,
          12,
          10,
          4,
          6,
          11,
          15,
          12,
          20,
          4,
          10,
          15,
          9,
          13,
          14
         ],
         "yaxis": "y"
        },
        {
         "hovertemplate": "identifier_name=Nationale Thesaurus voor Auteurs ID (Netherlands)<br>decade=%{x}<br>score=%{y}<extra></extra>",
         "legendgroup": "Nationale Thesaurus voor Auteurs ID (Netherlands)",
         "line": {
          "color": "#9467BD",
          "dash": "solid"
         },
         "marker": {
          "symbol": "circle"
         },
         "mode": "lines",
         "name": "Nationale Thesaurus voor Auteurs ID (Netherlands)",
         "opacity": 0.25,
         "orientation": "v",
         "showlegend": true,
         "type": "scatter",
         "x": [
          -800,
          -700,
          -650,
          -600,
          -550,
          -500,
          -450,
          -400,
          -350,
          -300,
          -250,
          -200,
          -150,
          -100,
          -50,
          0,
          50,
          100,
          150,
          200,
          250,
          300,
          350,
          400,
          450,
          500
         ],
         "xaxis": "x",
         "y": [
          2,
          3,
          2,
          16,
          8,
          31,
          20,
          29,
          24,
          31,
          10,
          11,
          7,
          9,
          4,
          9,
          12,
          18,
          10,
          17,
          8,
          13,
          13,
          12,
          14,
          23
         ],
         "yaxis": "y"
        },
        {
         "hovertemplate": "identifier_name=Encyclopædia Britannica Online ID (United Kingdom)<br>decade=%{x}<br>score=%{y}<extra></extra>",
         "legendgroup": "Encyclopædia Britannica Online ID (United Kingdom)",
         "line": {
          "color": "#8C564B",
          "dash": "solid"
         },
         "marker": {
          "symbol": "circle"
         },
         "mode": "lines",
         "name": "Encyclopædia Britannica Online ID (United Kingdom)",
         "opacity": 0.25,
         "orientation": "v",
         "showlegend": true,
         "type": "scatter",
         "x": [
          -800,
          -700,
          -650,
          -600,
          -550,
          -500,
          -450,
          -400,
          -350,
          -300,
          -250,
          -200,
          -150,
          -100,
          -50,
          0,
          50,
          100,
          150,
          200,
          250,
          300,
          350,
          400,
          450,
          500
         ],
         "xaxis": "x",
         "y": [
          2,
          8,
          4,
          24,
          8,
          46,
          20,
          28,
          31,
          21,
          9,
          11,
          7,
          6,
          4,
          7,
          9,
          14,
          13,
          14,
          4,
          11,
          16,
          9,
          10,
          14
         ],
         "yaxis": "y"
        },
        {
         "hovertemplate": "identifier_name=National Library of Israel J9U ID (Israel)<br>decade=%{x}<br>score=%{y}<extra></extra>",
         "legendgroup": "National Library of Israel J9U ID (Israel)",
         "line": {
          "color": "#E377C2",
          "dash": "solid"
         },
         "marker": {
          "symbol": "circle"
         },
         "mode": "lines",
         "name": "National Library of Israel J9U ID (Israel)",
         "opacity": 0.25,
         "orientation": "v",
         "showlegend": true,
         "type": "scatter",
         "x": [
          -800,
          -700,
          -650,
          -600,
          -550,
          -500,
          -450,
          -400,
          -350,
          -300,
          -250,
          -200,
          -150,
          -100,
          -50,
          0,
          50,
          100,
          150,
          200,
          250,
          300,
          350,
          400,
          450,
          500
         ],
         "xaxis": "x",
         "y": [
          1,
          4,
          1,
          12,
          6,
          35,
          18,
          25,
          20,
          23,
          8,
          10,
          5,
          7,
          2,
          9,
          15,
          21,
          11,
          15,
          5,
          16,
          15,
          12,
          12,
          23
         ],
         "yaxis": "y"
        },
        {
         "hovertemplate": "identifier_name=Vatican Library VcBA ID (Vatican City)<br>decade=%{x}<br>score=%{y}<extra></extra>",
         "legendgroup": "Vatican Library VcBA ID (Vatican City)",
         "line": {
          "color": "#7F7F7F",
          "dash": "solid"
         },
         "marker": {
          "symbol": "circle"
         },
         "mode": "lines",
         "name": "Vatican Library VcBA ID (Vatican City)",
         "opacity": 0.25,
         "orientation": "v",
         "showlegend": true,
         "type": "scatter",
         "x": [
          -800,
          -700,
          -650,
          -600,
          -550,
          -500,
          -450,
          -400,
          -350,
          -300,
          -250,
          -200,
          -150,
          -100,
          -50,
          0,
          50,
          100,
          150,
          200,
          250,
          300,
          350,
          400,
          450,
          500
         ],
         "xaxis": "x",
         "y": [
          1,
          2,
          2,
          9,
          7,
          21,
          15,
          19,
          17,
          23,
          7,
          9,
          5,
          8,
          3,
          9,
          11,
          17,
          12,
          16,
          4,
          15,
          14,
          10,
          13,
          22
         ],
         "yaxis": "y"
        },
        {
         "hovertemplate": "identifier_name=NUKAT ID (Poland)<br>decade=%{x}<br>score=%{y}<extra></extra>",
         "legendgroup": "NUKAT ID (Poland)",
         "line": {
          "color": "#BCBD22",
          "dash": "solid"
         },
         "marker": {
          "symbol": "circle"
         },
         "mode": "lines",
         "name": "NUKAT ID (Poland)",
         "opacity": 0.25,
         "orientation": "v",
         "showlegend": true,
         "type": "scatter",
         "x": [
          -800,
          -700,
          -650,
          -600,
          -550,
          -500,
          -450,
          -400,
          -350,
          -300,
          -250,
          -200,
          -150,
          -100,
          -50,
          0,
          50,
          100,
          150,
          200,
          250,
          300,
          350,
          400,
          450,
          500
         ],
         "xaxis": "x",
         "y": [
          2,
          3,
          2,
          10,
          6,
          25,
          16,
          16,
          19,
          17,
          10,
          8,
          5,
          7,
          2,
          7,
          11,
          16,
          10,
          12,
          5,
          13,
          13,
          11,
          12,
          22
         ],
         "yaxis": "y"
        },
        {
         "hovertemplate": "identifier_name=NORAF ID (Norway)<br>decade=%{x}<br>score=%{y}<extra></extra>",
         "legendgroup": "NORAF ID (Norway)",
         "line": {
          "color": "#17BECF",
          "dash": "solid"
         },
         "marker": {
          "symbol": "circle"
         },
         "mode": "lines",
         "name": "NORAF ID (Norway)",
         "opacity": 0.25,
         "orientation": "v",
         "showlegend": true,
         "type": "scatter",
         "x": [
          -800,
          -700,
          -650,
          -600,
          -550,
          -500,
          -450,
          -400,
          -350,
          -300,
          -250,
          -200,
          -150,
          -100,
          -50,
          0,
          50,
          100,
          150,
          200,
          250,
          300,
          350,
          400,
          450,
          500
         ],
         "xaxis": "x",
         "y": [
          1,
          1,
          2,
          6,
          7,
          23,
          13,
          20,
          15,
          22,
          7,
          9,
          3,
          6,
          3,
          8,
          12,
          12,
          9,
          13,
          4,
          12,
          12,
          9,
          11,
          19
         ],
         "yaxis": "y"
        },
        {
         "hovertemplate": "identifier_name=Biblioteca Nacional de España ID (Spain)<br>decade=%{x}<br>score=%{y}<extra></extra>",
         "legendgroup": "Biblioteca Nacional de España ID (Spain)",
         "line": {
          "color": "#1F77B4",
          "dash": "solid"
         },
         "marker": {
          "symbol": "circle"
         },
         "mode": "lines",
         "name": "Biblioteca Nacional de España ID (Spain)",
         "opacity": 0.25,
         "orientation": "v",
         "showlegend": true,
         "type": "scatter",
         "x": [
          -800,
          -700,
          -650,
          -600,
          -550,
          -500,
          -450,
          -400,
          -350,
          -300,
          -250,
          -200,
          -150,
          -100,
          -50,
          0,
          50,
          100,
          150,
          200,
          250,
          300,
          350,
          400,
          450,
          500
         ],
         "xaxis": "x",
         "y": [
          2,
          2,
          2,
          8,
          6,
          22,
          12,
          17,
          17,
          19,
          7,
          6,
          5,
          6,
          1,
          7,
          11,
          16,
          8,
          11,
          4,
          12,
          13,
          7,
          9,
          15
         ],
         "yaxis": "y"
        },
        {
         "hovertemplate": "identifier_name=SELIBR ID (Sweden)<br>decade=%{x}<br>score=%{y}<extra></extra>",
         "legendgroup": "SELIBR ID (Sweden)",
         "line": {
          "color": "#FF7F0E",
          "dash": "solid"
         },
         "marker": {
          "symbol": "circle"
         },
         "mode": "lines",
         "name": "SELIBR ID (Sweden)",
         "opacity": 0.25,
         "orientation": "v",
         "showlegend": true,
         "type": "scatter",
         "x": [
          -800,
          -700,
          -650,
          -600,
          -550,
          -500,
          -450,
          -400,
          -350,
          -300,
          -250,
          -200,
          -150,
          -100,
          -50,
          0,
          50,
          100,
          150,
          200,
          250,
          300,
          350,
          400,
          450,
          500
         ],
         "xaxis": "x",
         "y": [
          1,
          2,
          2,
          7,
          7,
          21,
          11,
          12,
          10,
          16,
          6,
          7,
          5,
          5,
          2,
          7,
          10,
          14,
          8,
          12,
          5,
          12,
          11,
          9,
          10,
          19
         ],
         "yaxis": "y"
        },
        {
         "hovertemplate": "identifier_name=Great Russian Encyclopedia Online ID (old version) (Russia)<br>decade=%{x}<br>score=%{y}<extra></extra>",
         "legendgroup": "Great Russian Encyclopedia Online ID (old version) (Russia)",
         "line": {
          "color": "#2CA02C",
          "dash": "solid"
         },
         "marker": {
          "symbol": "circle"
         },
         "mode": "lines",
         "name": "Great Russian Encyclopedia Online ID (old version) (Russia)",
         "opacity": 0.25,
         "orientation": "v",
         "showlegend": true,
         "type": "scatter",
         "x": [
          -800,
          -700,
          -650,
          -600,
          -550,
          -500,
          -450,
          -400,
          -350,
          -300,
          -250,
          -200,
          -150,
          -100,
          -50,
          0,
          50,
          100,
          150,
          200,
          250,
          300,
          350,
          400,
          450,
          500
         ],
         "xaxis": "x",
         "y": [
          1,
          4,
          2,
          11,
          6,
          32,
          15,
          21,
          18,
          16,
          6,
          6,
          3,
          6,
          2,
          6,
          7,
          10,
          3,
          9,
          2,
          8,
          9,
          4,
          5,
          11
         ],
         "yaxis": "y"
        },
        {
         "hovertemplate": "identifier_name=National Library of Greece ID (Greece)<br>decade=%{x}<br>score=%{y}<extra></extra>",
         "legendgroup": "National Library of Greece ID (Greece)",
         "line": {
          "color": "#D62728",
          "dash": "solid"
         },
         "marker": {
          "symbol": "circle"
         },
         "mode": "lines",
         "name": "National Library of Greece ID (Greece)",
         "opacity": 0.25,
         "orientation": "v",
         "showlegend": true,
         "type": "scatter",
         "x": [
          -800,
          -700,
          -650,
          -600,
          -550,
          -500,
          -450,
          -400,
          -350,
          -300,
          -250,
          -200,
          -150,
          -100,
          -50,
          0,
          50,
          100,
          150,
          200,
          250,
          300,
          350,
          400,
          450,
          500
         ],
         "xaxis": "x",
         "y": [
          1,
          2,
          2,
          8,
          6,
          16,
          13,
          12,
          15,
          11,
          7,
          4,
          5,
          4,
          1,
          5,
          9,
          9,
          5,
          10,
          3,
          10,
          14,
          7,
          7,
          12
         ],
         "yaxis": "y"
        },
        {
         "hovertemplate": "identifier_name=Hrvatska enciklopedija ID (Croatia)<br>decade=%{x}<br>score=%{y}<extra></extra>",
         "legendgroup": "Hrvatska enciklopedija ID (Croatia)",
         "line": {
          "color": "#9467BD",
          "dash": "solid"
         },
         "marker": {
          "symbol": "circle"
         },
         "mode": "lines",
         "name": "Hrvatska enciklopedija ID (Croatia)",
         "opacity": 0.25,
         "orientation": "v",
         "showlegend": true,
         "type": "scatter",
         "x": [
          -800,
          -700,
          -650,
          -600,
          -550,
          -500,
          -450,
          -400,
          -350,
          -300,
          -250,
          -200,
          -150,
          -100,
          -50,
          0,
          50,
          100,
          150,
          200,
          250,
          300,
          350,
          400,
          450,
          500
         ],
         "xaxis": "x",
         "y": [
          2,
          5,
          1,
          10,
          7,
          27,
          16,
          15,
          16,
          13,
          5,
          5,
          5,
          6,
          1,
          6,
          7,
          6,
          4,
          6,
          2,
          6,
          9,
          4,
          3,
          5
         ],
         "yaxis": "y"
        },
        {
         "hovertemplate": "identifier_name=NKCR AUT ID (Czech Republic)<br>decade=%{x}<br>score=%{y}<extra></extra>",
         "legendgroup": "NKCR AUT ID (Czech Republic)",
         "line": {
          "color": "#8C564B",
          "dash": "solid"
         },
         "marker": {
          "symbol": "circle"
         },
         "mode": "lines",
         "name": "NKCR AUT ID (Czech Republic)",
         "opacity": 0.25,
         "orientation": "v",
         "showlegend": true,
         "type": "scatter",
         "x": [
          -800,
          -700,
          -650,
          -600,
          -550,
          -500,
          -450,
          -400,
          -350,
          -300,
          -250,
          -200,
          -150,
          -100,
          -50,
          0,
          50,
          100,
          150,
          200,
          250,
          300,
          350,
          400,
          450,
          500
         ],
         "xaxis": "x",
         "y": [
          1,
          2,
          2,
          7,
          6,
          17,
          11,
          11,
          10,
          10,
          4,
          3,
          3,
          4,
          1,
          8,
          8,
          11,
          8,
          11,
          4,
          11,
          12,
          6,
          5,
          13
         ],
         "yaxis": "y"
        },
        {
         "hovertemplate": "identifier_name=Canadiana Name Authority ID (Canada)<br>decade=%{x}<br>score=%{y}<extra></extra>",
         "legendgroup": "Canadiana Name Authority ID (Canada)",
         "line": {
          "color": "#E377C2",
          "dash": "solid"
         },
         "marker": {
          "symbol": "circle"
         },
         "mode": "lines",
         "name": "Canadiana Name Authority ID (Canada)",
         "opacity": 0.25,
         "orientation": "v",
         "showlegend": true,
         "type": "scatter",
         "x": [
          -800,
          -650,
          -600,
          -550,
          -500,
          -450,
          -400,
          -350,
          -300,
          -250,
          -200,
          -150,
          -100,
          -50,
          0,
          50,
          100,
          150,
          200,
          250,
          300,
          350,
          400,
          450,
          500
         ],
         "xaxis": "x",
         "y": [
          1,
          1,
          10,
          5,
          15,
          11,
          13,
          9,
          9,
          5,
          6,
          2,
          5,
          2,
          6,
          10,
          7,
          9,
          7,
          2,
          11,
          11,
          8,
          6,
          11
         ],
         "yaxis": "y"
        },
        {
         "hovertemplate": "identifier_name=CiNii Books author ID (Japan)<br>decade=%{x}<br>score=%{y}<extra></extra>",
         "legendgroup": "CiNii Books author ID (Japan)",
         "line": {
          "color": "#7F7F7F",
          "dash": "solid"
         },
         "marker": {
          "symbol": "circle"
         },
         "mode": "lines",
         "name": "CiNii Books author ID (Japan)",
         "opacity": 0.25,
         "orientation": "v",
         "showlegend": true,
         "type": "scatter",
         "x": [
          -800,
          -700,
          -650,
          -600,
          -550,
          -500,
          -450,
          -400,
          -350,
          -300,
          -250,
          -200,
          -150,
          -100,
          -50,
          0,
          50,
          100,
          150,
          200,
          250,
          300,
          350,
          400,
          450,
          500
         ],
         "xaxis": "x",
         "y": [
          1,
          3,
          1,
          7,
          4,
          13,
          10,
          10,
          10,
          13,
          6,
          5,
          3,
          3,
          2,
          5,
          10,
          11,
          6,
          13,
          2,
          12,
          9,
          3,
          6,
          12
         ],
         "yaxis": "y"
        },
        {
         "hovertemplate": "identifier_name=Den Store Danske ID (Denmark)<br>decade=%{x}<br>score=%{y}<extra></extra>",
         "legendgroup": "Den Store Danske ID (Denmark)",
         "line": {
          "color": "#BCBD22",
          "dash": "solid"
         },
         "marker": {
          "symbol": "circle"
         },
         "mode": "lines",
         "name": "Den Store Danske ID (Denmark)",
         "opacity": 0.25,
         "orientation": "v",
         "showlegend": true,
         "type": "scatter",
         "x": [
          -800,
          -650,
          -600,
          -550,
          -500,
          -450,
          -400,
          -350,
          -300,
          -250,
          -200,
          -150,
          -100,
          -50,
          0,
          50,
          100,
          150,
          200,
          250,
          300,
          350,
          400,
          450,
          500
         ],
         "xaxis": "x",
         "y": [
          1,
          2,
          10,
          6,
          23,
          13,
          14,
          7,
          13,
          5,
          8,
          2,
          3,
          2,
          6,
          5,
          5,
          5,
          8,
          2,
          6,
          8,
          1,
          5,
          2
         ],
         "yaxis": "y"
        },
        {
         "hovertemplate": "identifier_name=NLA Trove people ID (Australia)<br>decade=%{x}<br>score=%{y}<extra></extra>",
         "legendgroup": "NLA Trove people ID (Australia)",
         "line": {
          "color": "#17BECF",
          "dash": "solid"
         },
         "marker": {
          "symbol": "circle"
         },
         "mode": "lines",
         "name": "NLA Trove people ID (Australia)",
         "opacity": 0.25,
         "orientation": "v",
         "showlegend": true,
         "type": "scatter",
         "x": [
          -800,
          -600,
          -550,
          -500,
          -450,
          -400,
          -350,
          -300,
          -250,
          -200,
          -150,
          -100,
          -50,
          0,
          50,
          100,
          150,
          200,
          250,
          300,
          350,
          400,
          450,
          500
         ],
         "xaxis": "x",
         "y": [
          1,
          3,
          5,
          11,
          8,
          6,
          6,
          7,
          3,
          3,
          1,
          3,
          1,
          6,
          8,
          9,
          6,
          7,
          2,
          12,
          12,
          3,
          8,
          11
         ],
         "yaxis": "y"
        },
        {
         "hovertemplate": "identifier_name=average<br>decade=%{x}<br>score=%{y}<extra></extra>",
         "legendgroup": "average",
         "line": {
          "color": "#1F77B4",
          "dash": "solid",
          "width": 3
         },
         "marker": {
          "symbol": "circle"
         },
         "mode": "lines",
         "name": "average",
         "orientation": "v",
         "showlegend": true,
         "type": "scatter",
         "x": [
          -800,
          -700,
          -650,
          -600,
          -550,
          -500,
          -450,
          -400,
          -350,
          -300,
          -250,
          -200,
          -150,
          -100,
          -50,
          0,
          50,
          100,
          150,
          200,
          250,
          300,
          350,
          400,
          450,
          500
         ],
         "xaxis": "x",
         "y": [
          1.7,
          3.8823529411764706,
          2.1578947368421053,
          12.8,
          6.75,
          30.45,
          17.8,
          23.7,
          20.5,
          22.45,
          8.2,
          9.05,
          6,
          6.95,
          2.65,
          7.05,
          10.45,
          13.9,
          8.6,
          13.45,
          4.2,
          11.9,
          12.45,
          8.4,
          9.5,
          15.5
         ],
         "yaxis": "y"
        }
       ],
       "layout": {
        "height": 800,
        "legend": {
         "title": {
          "text": "Identifiers"
         }
        },
        "template": {
         "data": {
          "bar": [
           {
            "error_x": {
             "color": "rgb(36,36,36)"
            },
            "error_y": {
             "color": "rgb(36,36,36)"
            },
            "marker": {
             "line": {
              "color": "white",
              "width": 0.5
             },
             "pattern": {
              "fillmode": "overlay",
              "size": 10,
              "solidity": 0.2
             }
            },
            "type": "bar"
           }
          ],
          "barpolar": [
           {
            "marker": {
             "line": {
              "color": "white",
              "width": 0.5
             },
             "pattern": {
              "fillmode": "overlay",
              "size": 10,
              "solidity": 0.2
             }
            },
            "type": "barpolar"
           }
          ],
          "carpet": [
           {
            "aaxis": {
             "endlinecolor": "rgb(36,36,36)",
             "gridcolor": "white",
             "linecolor": "white",
             "minorgridcolor": "white",
             "startlinecolor": "rgb(36,36,36)"
            },
            "baxis": {
             "endlinecolor": "rgb(36,36,36)",
             "gridcolor": "white",
             "linecolor": "white",
             "minorgridcolor": "white",
             "startlinecolor": "rgb(36,36,36)"
            },
            "type": "carpet"
           }
          ],
          "choropleth": [
           {
            "colorbar": {
             "outlinewidth": 1,
             "tickcolor": "rgb(36,36,36)",
             "ticks": "outside"
            },
            "type": "choropleth"
           }
          ],
          "contour": [
           {
            "colorbar": {
             "outlinewidth": 1,
             "tickcolor": "rgb(36,36,36)",
             "ticks": "outside"
            },
            "colorscale": [
             [
              0,
              "#440154"
             ],
             [
              0.1111111111111111,
              "#482878"
             ],
             [
              0.2222222222222222,
              "#3e4989"
             ],
             [
              0.3333333333333333,
              "#31688e"
             ],
             [
              0.4444444444444444,
              "#26828e"
             ],
             [
              0.5555555555555556,
              "#1f9e89"
             ],
             [
              0.6666666666666666,
              "#35b779"
             ],
             [
              0.7777777777777778,
              "#6ece58"
             ],
             [
              0.8888888888888888,
              "#b5de2b"
             ],
             [
              1,
              "#fde725"
             ]
            ],
            "type": "contour"
           }
          ],
          "contourcarpet": [
           {
            "colorbar": {
             "outlinewidth": 1,
             "tickcolor": "rgb(36,36,36)",
             "ticks": "outside"
            },
            "type": "contourcarpet"
           }
          ],
          "heatmap": [
           {
            "colorbar": {
             "outlinewidth": 1,
             "tickcolor": "rgb(36,36,36)",
             "ticks": "outside"
            },
            "colorscale": [
             [
              0,
              "#440154"
             ],
             [
              0.1111111111111111,
              "#482878"
             ],
             [
              0.2222222222222222,
              "#3e4989"
             ],
             [
              0.3333333333333333,
              "#31688e"
             ],
             [
              0.4444444444444444,
              "#26828e"
             ],
             [
              0.5555555555555556,
              "#1f9e89"
             ],
             [
              0.6666666666666666,
              "#35b779"
             ],
             [
              0.7777777777777778,
              "#6ece58"
             ],
             [
              0.8888888888888888,
              "#b5de2b"
             ],
             [
              1,
              "#fde725"
             ]
            ],
            "type": "heatmap"
           }
          ],
          "heatmapgl": [
           {
            "colorbar": {
             "outlinewidth": 1,
             "tickcolor": "rgb(36,36,36)",
             "ticks": "outside"
            },
            "colorscale": [
             [
              0,
              "#440154"
             ],
             [
              0.1111111111111111,
              "#482878"
             ],
             [
              0.2222222222222222,
              "#3e4989"
             ],
             [
              0.3333333333333333,
              "#31688e"
             ],
             [
              0.4444444444444444,
              "#26828e"
             ],
             [
              0.5555555555555556,
              "#1f9e89"
             ],
             [
              0.6666666666666666,
              "#35b779"
             ],
             [
              0.7777777777777778,
              "#6ece58"
             ],
             [
              0.8888888888888888,
              "#b5de2b"
             ],
             [
              1,
              "#fde725"
             ]
            ],
            "type": "heatmapgl"
           }
          ],
          "histogram": [
           {
            "marker": {
             "line": {
              "color": "white",
              "width": 0.6
             }
            },
            "type": "histogram"
           }
          ],
          "histogram2d": [
           {
            "colorbar": {
             "outlinewidth": 1,
             "tickcolor": "rgb(36,36,36)",
             "ticks": "outside"
            },
            "colorscale": [
             [
              0,
              "#440154"
             ],
             [
              0.1111111111111111,
              "#482878"
             ],
             [
              0.2222222222222222,
              "#3e4989"
             ],
             [
              0.3333333333333333,
              "#31688e"
             ],
             [
              0.4444444444444444,
              "#26828e"
             ],
             [
              0.5555555555555556,
              "#1f9e89"
             ],
             [
              0.6666666666666666,
              "#35b779"
             ],
             [
              0.7777777777777778,
              "#6ece58"
             ],
             [
              0.8888888888888888,
              "#b5de2b"
             ],
             [
              1,
              "#fde725"
             ]
            ],
            "type": "histogram2d"
           }
          ],
          "histogram2dcontour": [
           {
            "colorbar": {
             "outlinewidth": 1,
             "tickcolor": "rgb(36,36,36)",
             "ticks": "outside"
            },
            "colorscale": [
             [
              0,
              "#440154"
             ],
             [
              0.1111111111111111,
              "#482878"
             ],
             [
              0.2222222222222222,
              "#3e4989"
             ],
             [
              0.3333333333333333,
              "#31688e"
             ],
             [
              0.4444444444444444,
              "#26828e"
             ],
             [
              0.5555555555555556,
              "#1f9e89"
             ],
             [
              0.6666666666666666,
              "#35b779"
             ],
             [
              0.7777777777777778,
              "#6ece58"
             ],
             [
              0.8888888888888888,
              "#b5de2b"
             ],
             [
              1,
              "#fde725"
             ]
            ],
            "type": "histogram2dcontour"
           }
          ],
          "mesh3d": [
           {
            "colorbar": {
             "outlinewidth": 1,
             "tickcolor": "rgb(36,36,36)",
             "ticks": "outside"
            },
            "type": "mesh3d"
           }
          ],
          "parcoords": [
           {
            "line": {
             "colorbar": {
              "outlinewidth": 1,
              "tickcolor": "rgb(36,36,36)",
              "ticks": "outside"
             }
            },
            "type": "parcoords"
           }
          ],
          "pie": [
           {
            "automargin": true,
            "type": "pie"
           }
          ],
          "scatter": [
           {
            "fillpattern": {
             "fillmode": "overlay",
             "size": 10,
             "solidity": 0.2
            },
            "type": "scatter"
           }
          ],
          "scatter3d": [
           {
            "line": {
             "colorbar": {
              "outlinewidth": 1,
              "tickcolor": "rgb(36,36,36)",
              "ticks": "outside"
             }
            },
            "marker": {
             "colorbar": {
              "outlinewidth": 1,
              "tickcolor": "rgb(36,36,36)",
              "ticks": "outside"
             }
            },
            "type": "scatter3d"
           }
          ],
          "scattercarpet": [
           {
            "marker": {
             "colorbar": {
              "outlinewidth": 1,
              "tickcolor": "rgb(36,36,36)",
              "ticks": "outside"
             }
            },
            "type": "scattercarpet"
           }
          ],
          "scattergeo": [
           {
            "marker": {
             "colorbar": {
              "outlinewidth": 1,
              "tickcolor": "rgb(36,36,36)",
              "ticks": "outside"
             }
            },
            "type": "scattergeo"
           }
          ],
          "scattergl": [
           {
            "marker": {
             "colorbar": {
              "outlinewidth": 1,
              "tickcolor": "rgb(36,36,36)",
              "ticks": "outside"
             }
            },
            "type": "scattergl"
           }
          ],
          "scattermapbox": [
           {
            "marker": {
             "colorbar": {
              "outlinewidth": 1,
              "tickcolor": "rgb(36,36,36)",
              "ticks": "outside"
             }
            },
            "type": "scattermapbox"
           }
          ],
          "scatterpolar": [
           {
            "marker": {
             "colorbar": {
              "outlinewidth": 1,
              "tickcolor": "rgb(36,36,36)",
              "ticks": "outside"
             }
            },
            "type": "scatterpolar"
           }
          ],
          "scatterpolargl": [
           {
            "marker": {
             "colorbar": {
              "outlinewidth": 1,
              "tickcolor": "rgb(36,36,36)",
              "ticks": "outside"
             }
            },
            "type": "scatterpolargl"
           }
          ],
          "scatterternary": [
           {
            "marker": {
             "colorbar": {
              "outlinewidth": 1,
              "tickcolor": "rgb(36,36,36)",
              "ticks": "outside"
             }
            },
            "type": "scatterternary"
           }
          ],
          "surface": [
           {
            "colorbar": {
             "outlinewidth": 1,
             "tickcolor": "rgb(36,36,36)",
             "ticks": "outside"
            },
            "colorscale": [
             [
              0,
              "#440154"
             ],
             [
              0.1111111111111111,
              "#482878"
             ],
             [
              0.2222222222222222,
              "#3e4989"
             ],
             [
              0.3333333333333333,
              "#31688e"
             ],
             [
              0.4444444444444444,
              "#26828e"
             ],
             [
              0.5555555555555556,
              "#1f9e89"
             ],
             [
              0.6666666666666666,
              "#35b779"
             ],
             [
              0.7777777777777778,
              "#6ece58"
             ],
             [
              0.8888888888888888,
              "#b5de2b"
             ],
             [
              1,
              "#fde725"
             ]
            ],
            "type": "surface"
           }
          ],
          "table": [
           {
            "cells": {
             "fill": {
              "color": "rgb(237,237,237)"
             },
             "line": {
              "color": "white"
             }
            },
            "header": {
             "fill": {
              "color": "rgb(217,217,217)"
             },
             "line": {
              "color": "white"
             }
            },
            "type": "table"
           }
          ]
         },
         "layout": {
          "annotationdefaults": {
           "arrowhead": 0,
           "arrowwidth": 1
          },
          "autotypenumbers": "strict",
          "coloraxis": {
           "colorbar": {
            "outlinewidth": 1,
            "tickcolor": "rgb(36,36,36)",
            "ticks": "outside"
           }
          },
          "colorscale": {
           "diverging": [
            [
             0,
             "rgb(103,0,31)"
            ],
            [
             0.1,
             "rgb(178,24,43)"
            ],
            [
             0.2,
             "rgb(214,96,77)"
            ],
            [
             0.3,
             "rgb(244,165,130)"
            ],
            [
             0.4,
             "rgb(253,219,199)"
            ],
            [
             0.5,
             "rgb(247,247,247)"
            ],
            [
             0.6,
             "rgb(209,229,240)"
            ],
            [
             0.7,
             "rgb(146,197,222)"
            ],
            [
             0.8,
             "rgb(67,147,195)"
            ],
            [
             0.9,
             "rgb(33,102,172)"
            ],
            [
             1,
             "rgb(5,48,97)"
            ]
           ],
           "sequential": [
            [
             0,
             "#440154"
            ],
            [
             0.1111111111111111,
             "#482878"
            ],
            [
             0.2222222222222222,
             "#3e4989"
            ],
            [
             0.3333333333333333,
             "#31688e"
            ],
            [
             0.4444444444444444,
             "#26828e"
            ],
            [
             0.5555555555555556,
             "#1f9e89"
            ],
            [
             0.6666666666666666,
             "#35b779"
            ],
            [
             0.7777777777777778,
             "#6ece58"
            ],
            [
             0.8888888888888888,
             "#b5de2b"
            ],
            [
             1,
             "#fde725"
            ]
           ],
           "sequentialminus": [
            [
             0,
             "#440154"
            ],
            [
             0.1111111111111111,
             "#482878"
            ],
            [
             0.2222222222222222,
             "#3e4989"
            ],
            [
             0.3333333333333333,
             "#31688e"
            ],
            [
             0.4444444444444444,
             "#26828e"
            ],
            [
             0.5555555555555556,
             "#1f9e89"
            ],
            [
             0.6666666666666666,
             "#35b779"
            ],
            [
             0.7777777777777778,
             "#6ece58"
            ],
            [
             0.8888888888888888,
             "#b5de2b"
            ],
            [
             1,
             "#fde725"
            ]
           ]
          },
          "colorway": [
           "#1F77B4",
           "#FF7F0E",
           "#2CA02C",
           "#D62728",
           "#9467BD",
           "#8C564B",
           "#E377C2",
           "#7F7F7F",
           "#BCBD22",
           "#17BECF"
          ],
          "font": {
           "color": "rgb(36,36,36)"
          },
          "geo": {
           "bgcolor": "white",
           "lakecolor": "white",
           "landcolor": "white",
           "showlakes": true,
           "showland": true,
           "subunitcolor": "white"
          },
          "hoverlabel": {
           "align": "left"
          },
          "hovermode": "closest",
          "mapbox": {
           "style": "light"
          },
          "paper_bgcolor": "white",
          "plot_bgcolor": "white",
          "polar": {
           "angularaxis": {
            "gridcolor": "rgb(232,232,232)",
            "linecolor": "rgb(36,36,36)",
            "showgrid": false,
            "showline": true,
            "ticks": "outside"
           },
           "bgcolor": "white",
           "radialaxis": {
            "gridcolor": "rgb(232,232,232)",
            "linecolor": "rgb(36,36,36)",
            "showgrid": false,
            "showline": true,
            "ticks": "outside"
           }
          },
          "scene": {
           "xaxis": {
            "backgroundcolor": "white",
            "gridcolor": "rgb(232,232,232)",
            "gridwidth": 2,
            "linecolor": "rgb(36,36,36)",
            "showbackground": true,
            "showgrid": false,
            "showline": true,
            "ticks": "outside",
            "zeroline": false,
            "zerolinecolor": "rgb(36,36,36)"
           },
           "yaxis": {
            "backgroundcolor": "white",
            "gridcolor": "rgb(232,232,232)",
            "gridwidth": 2,
            "linecolor": "rgb(36,36,36)",
            "showbackground": true,
            "showgrid": false,
            "showline": true,
            "ticks": "outside",
            "zeroline": false,
            "zerolinecolor": "rgb(36,36,36)"
           },
           "zaxis": {
            "backgroundcolor": "white",
            "gridcolor": "rgb(232,232,232)",
            "gridwidth": 2,
            "linecolor": "rgb(36,36,36)",
            "showbackground": true,
            "showgrid": false,
            "showline": true,
            "ticks": "outside",
            "zeroline": false,
            "zerolinecolor": "rgb(36,36,36)"
           }
          },
          "shapedefaults": {
           "fillcolor": "black",
           "line": {
            "width": 0
           },
           "opacity": 0.3
          },
          "ternary": {
           "aaxis": {
            "gridcolor": "rgb(232,232,232)",
            "linecolor": "rgb(36,36,36)",
            "showgrid": false,
            "showline": true,
            "ticks": "outside"
           },
           "baxis": {
            "gridcolor": "rgb(232,232,232)",
            "linecolor": "rgb(36,36,36)",
            "showgrid": false,
            "showline": true,
            "ticks": "outside"
           },
           "bgcolor": "white",
           "caxis": {
            "gridcolor": "rgb(232,232,232)",
            "linecolor": "rgb(36,36,36)",
            "showgrid": false,
            "showline": true,
            "ticks": "outside"
           }
          },
          "title": {
           "x": 0.05
          },
          "xaxis": {
           "automargin": true,
           "gridcolor": "rgb(232,232,232)",
           "linecolor": "rgb(36,36,36)",
           "showgrid": false,
           "showline": true,
           "ticks": "outside",
           "title": {
            "standoff": 15
           },
           "zeroline": false,
           "zerolinecolor": "rgb(36,36,36)"
          },
          "yaxis": {
           "automargin": true,
           "gridcolor": "rgb(232,232,232)",
           "linecolor": "rgb(36,36,36)",
           "showgrid": false,
           "showline": true,
           "ticks": "outside",
           "title": {
            "standoff": 15
           },
           "zeroline": false,
           "zerolinecolor": "rgb(36,36,36)"
          }
         }
        },
        "title": {
         "text": "Greek World"
        },
        "width": 1300,
        "xaxis": {
         "dtick": 100,
         "title": {
          "text": ""
         }
        },
        "yaxis": {
         "title": {
          "text": "Number of Individuals"
         }
        }
       }
      }
     },
     "metadata": {},
     "output_type": "display_data"
    }
   ],
   "source": [
    "fig_greek, df_fig_greek = make_figure(df_fig_fifty, region_name = 'Greek World', min_decade = -800, max_decade = 500, top_identifiers = 20,\n",
    "                  one_id_country = True)\n",
    "\n",
    "fig_greek.write_image(f\"figures/greek_identifiers.png\", scale=7)\n",
    "fig_greek.show()"
   ]
  },
  {
   "cell_type": "code",
   "execution_count": 11,
   "id": "4dc333e3-1e8c-4e19-a10b-63f114aba4a3",
   "metadata": {
    "tags": []
   },
   "outputs": [
    {
     "data": {
      "text/plain": [
       "0.8324238135717549"
      ]
     },
     "execution_count": 11,
     "metadata": {},
     "output_type": "execute_result"
    }
   ],
   "source": [
    "df_corr = df_fig_greek.pivot(index ='decade', columns = 'identifier_name', values = 'score')\n",
    "df_corr = df_corr.fillna(0)\n",
    "df_corr.corr().stack().mean()"
   ]
  },
  {
   "cell_type": "code",
   "execution_count": 12,
   "id": "6a34e194-67aa-4e67-a502-936030b7c9bb",
   "metadata": {
    "tags": []
   },
   "outputs": [],
   "source": [
    "# fig, df_fig = make_figure(df_fig_fifty, region_name = 'Chinese world', min_decade = -800, max_decade = 1800, top_identifiers = 20,\n",
    "#                   one_id_country = True)\n",
    "\n",
    "# fig.write_image(f\"figures/china_identifiers.png\", scale=7)\n",
    "# fig.show()"
   ]
  },
  {
   "cell_type": "markdown",
   "id": "12a46427-dd4f-47a7-9ff2-4743d1b88f67",
   "metadata": {},
   "source": [
    "## Count catalogs per country and continents"
   ]
  },
  {
   "cell_type": "code",
   "execution_count": 13,
   "metadata": {},
   "outputs": [
    {
     "data": {
      "text/plain": [
       "['Yangtze',\n",
       " 'Ireland',\n",
       " 'Northern India',\n",
       " 'Oceania',\n",
       " 'Northern Japan',\n",
       " 'Southern Italy',\n",
       " 'Central America',\n",
       " 'Austria',\n",
       " 'Southern Japan',\n",
       " 'Northern China',\n",
       " 'Muslim world',\n",
       " 'Balkans',\n",
       " 'Greek World',\n",
       " 'Low countries',\n",
       " 'Chinese world',\n",
       " 'East Slavic',\n",
       " 'Portugal',\n",
       " 'Italy',\n",
       " 'Southern China',\n",
       " 'Sweden',\n",
       " 'Latin World',\n",
       " 'Greece',\n",
       " 'United Kingdom',\n",
       " 'British Islands',\n",
       " 'Netherlands',\n",
       " 'Belgium',\n",
       " 'Eastern Europe',\n",
       " 'Nordic countries',\n",
       " 'Indian world',\n",
       " 'Norway',\n",
       " 'Japan',\n",
       " 'Central Europe',\n",
       " 'North America',\n",
       " 'Africa',\n",
       " 'Ottoman world',\n",
       " 'South East Asia',\n",
       " 'mediterranean World',\n",
       " 'Finland',\n",
       " 'German world',\n",
       " 'Southern France',\n",
       " 'Persian world',\n",
       " 'Northwestern Europe',\n",
       " 'Southwestern Europe',\n",
       " 'Spain',\n",
       " 'Arabian peninsula',\n",
       " 'France',\n",
       " 'Denmark',\n",
       " 'Arabic world',\n",
       " 'Germany',\n",
       " 'Northern France',\n",
       " 'Southern India',\n",
       " 'Ottoman Turkey',\n",
       " 'Western Europe',\n",
       " 'South America',\n",
       " 'Iceland',\n",
       " 'Switzerland',\n",
       " 'Northern Italy',\n",
       " 'Korea']"
      ]
     },
     "execution_count": 13,
     "metadata": {},
     "output_type": "execute_result"
    }
   ],
   "source": [
    "list(set(df_fig_fifty.region_name))"
   ]
  },
  {
   "cell_type": "code",
   "execution_count": null,
   "id": "a8c8d07a",
   "metadata": {},
   "outputs": [],
   "source": []
  },
  {
   "cell_type": "code",
   "execution_count": 14,
   "metadata": {},
   "outputs": [],
   "source": [
    "fig, df_fig_mena = make_figure(df_fig, region_name = 'Muslim world', min_decade = 500, max_decade = 1800, top_identifiers = 10,\n",
    "                  one_id_country = True)\n",
    "\n"
   ]
  },
  {
   "cell_type": "code",
   "execution_count": 15,
   "id": "d676847b",
   "metadata": {},
   "outputs": [],
   "source": [
    "fig, df_fig_mena = make_figure(df_fig, region_name = 'Chinese world', min_decade = -800, max_decade = 1800, top_identifiers = 10,\n",
    "                  one_id_country = True)"
   ]
  },
  {
   "cell_type": "code",
   "execution_count": null,
   "id": "70edf094",
   "metadata": {},
   "outputs": [],
   "source": []
  },
  {
   "cell_type": "code",
   "execution_count": 16,
   "id": "68677470",
   "metadata": {},
   "outputs": [],
   "source": [
    "#fig.update_layout(title='MENA')"
   ]
  },
  {
   "cell_type": "code",
   "execution_count": 17,
   "id": "f9da8e43",
   "metadata": {},
   "outputs": [
    {
     "data": {
      "application/vnd.plotly.v1+json": {
       "config": {
        "plotlyServerURL": "https://plot.ly"
       },
       "data": [
        {
         "hovertemplate": "identifier_name=CBDB ID (United States of America)<br>decade=%{x}<br>score=%{y}<extra></extra>",
         "legendgroup": "CBDB ID (United States of America)",
         "line": {
          "color": "#1F77B4",
          "dash": "solid"
         },
         "marker": {
          "symbol": "circle"
         },
         "mode": "lines",
         "name": "CBDB ID (United States of America)",
         "opacity": 0.25,
         "showlegend": true,
         "type": "scattergl",
         "x": [
          -710,
          -680,
          -570,
          -550,
          -260,
          -220,
          -190,
          -170,
          -150,
          -140,
          -40,
          0,
          30,
          40,
          70,
          100,
          130,
          140,
          150,
          160,
          170,
          180,
          190,
          200,
          210,
          220,
          230,
          240,
          250,
          260,
          270,
          280,
          300,
          320,
          340,
          360,
          410,
          420,
          430,
          440,
          450,
          460,
          500,
          530,
          540,
          550,
          560,
          570,
          580,
          590,
          600,
          610,
          620,
          630,
          640,
          650,
          660,
          670,
          680,
          690,
          700,
          710,
          720,
          730,
          740,
          750,
          760,
          770,
          780,
          790,
          800,
          810,
          830,
          840,
          850,
          860,
          870,
          880,
          890,
          900,
          910,
          920,
          930,
          940,
          950,
          960,
          970,
          980,
          990,
          1000,
          1010,
          1020,
          1030,
          1040,
          1050,
          1070,
          1080,
          1090,
          1100,
          1110,
          1120,
          1130,
          1140,
          1150,
          1160,
          1170,
          1180,
          1190,
          1200,
          1210,
          1220,
          1230,
          1240,
          1250,
          1260,
          1270,
          1280,
          1290,
          1300,
          1310,
          1320,
          1330,
          1340,
          1350,
          1360,
          1370,
          1380,
          1390,
          1400,
          1410,
          1420,
          1430,
          1440,
          1450,
          1460,
          1470,
          1480,
          1490,
          1500,
          1510,
          1520,
          1530,
          1540,
          1550,
          1560,
          1570,
          1580,
          1590,
          1600,
          1610,
          1620,
          1630,
          1640,
          1650,
          1660,
          1670,
          1680,
          1690,
          1700,
          1710,
          1720,
          1730,
          1740,
          1750,
          1760,
          1770,
          1780,
          1790,
          1800
         ],
         "xaxis": "x",
         "y": [
          1,
          1,
          1,
          1,
          1,
          1,
          2,
          3,
          1,
          1,
          1,
          2,
          2,
          1,
          2,
          1,
          2,
          1,
          6,
          1,
          2,
          1,
          3,
          1,
          2,
          2,
          1,
          1,
          1,
          1,
          1,
          1,
          2,
          2,
          2,
          1,
          1,
          1,
          1,
          3,
          1,
          1,
          2,
          1,
          1,
          3,
          1,
          5,
          3,
          5,
          6,
          1,
          2,
          1,
          2,
          3,
          3,
          3,
          4,
          10,
          7,
          5,
          6,
          5,
          3,
          5,
          7,
          7,
          5,
          5,
          5,
          3,
          6,
          2,
          4,
          2,
          3,
          3,
          1,
          1,
          7,
          5,
          4,
          1,
          4,
          2,
          1,
          3,
          2,
          6,
          6,
          4,
          8,
          3,
          5,
          2,
          6,
          1,
          5,
          1,
          4,
          4,
          3,
          3,
          2,
          5,
          1,
          7,
          5,
          1,
          7,
          11,
          17,
          7,
          11,
          13,
          11,
          8,
          10,
          13,
          7,
          11,
          4,
          15,
          16,
          16,
          2,
          10,
          6,
          2,
          14,
          9,
          7,
          11,
          9,
          14,
          18,
          16,
          14,
          16,
          11,
          4,
          9,
          13,
          9,
          16,
          25,
          29,
          26,
          45,
          82,
          38,
          50,
          29,
          43,
          19,
          20,
          28,
          18,
          18,
          33,
          40,
          39,
          42,
          61,
          36,
          30,
          54,
          35
         ],
         "yaxis": "y"
        },
        {
         "hovertemplate": "identifier_name=ctext data entity ID (People's Republic of China)<br>decade=%{x}<br>score=%{y}<extra></extra>",
         "legendgroup": "ctext data entity ID (People's Republic of China)",
         "line": {
          "color": "#FF7F0E",
          "dash": "solid"
         },
         "marker": {
          "symbol": "circle"
         },
         "mode": "lines",
         "name": "ctext data entity ID (People's Republic of China)",
         "opacity": 0.25,
         "showlegend": true,
         "type": "scattergl",
         "x": [
          -710,
          -550,
          -540,
          -500,
          -380,
          -340,
          -290,
          -270,
          -250,
          -190,
          -170,
          -140,
          -70,
          -50,
          -40,
          -30,
          0,
          20,
          30,
          40,
          50,
          70,
          100,
          120,
          130,
          140,
          150,
          160,
          170,
          180,
          190,
          200,
          210,
          220,
          230,
          240,
          250,
          260,
          270,
          280,
          290,
          300,
          320,
          340,
          350,
          360,
          370,
          390,
          400,
          430,
          440,
          460,
          500,
          510,
          530,
          540,
          550,
          570,
          580,
          590,
          600,
          610,
          620,
          640,
          650,
          660,
          670,
          680,
          690,
          700,
          710,
          720,
          730,
          740,
          750,
          760,
          770,
          780,
          790,
          800,
          810,
          830,
          840,
          850,
          860,
          870,
          880,
          900,
          910,
          920,
          930,
          940,
          950,
          960,
          970,
          980,
          990,
          1000,
          1010,
          1020,
          1030,
          1040,
          1050,
          1070,
          1080,
          1090,
          1100,
          1110,
          1120,
          1130,
          1140,
          1150,
          1160,
          1170,
          1180,
          1190,
          1200,
          1220,
          1230,
          1240,
          1250,
          1260,
          1270,
          1280,
          1290,
          1300,
          1310,
          1320,
          1330,
          1340,
          1350,
          1360,
          1370,
          1390,
          1400,
          1410,
          1420,
          1430,
          1440,
          1450,
          1460,
          1470,
          1480,
          1490,
          1500,
          1510,
          1520,
          1530,
          1540,
          1550,
          1560,
          1570,
          1580,
          1590,
          1600,
          1610,
          1620,
          1630,
          1640,
          1650,
          1660,
          1670,
          1680,
          1690,
          1700,
          1710,
          1720,
          1730,
          1740,
          1750,
          1760,
          1770,
          1780,
          1790,
          1800
         ],
         "xaxis": "x",
         "y": [
          1,
          1,
          1,
          1,
          1,
          1,
          1,
          2,
          1,
          1,
          3,
          1,
          2,
          2,
          1,
          1,
          1,
          1,
          2,
          1,
          1,
          3,
          3,
          1,
          2,
          3,
          5,
          3,
          3,
          3,
          5,
          1,
          3,
          8,
          5,
          2,
          6,
          2,
          1,
          1,
          1,
          4,
          4,
          2,
          1,
          2,
          1,
          1,
          2,
          1,
          2,
          2,
          2,
          1,
          1,
          1,
          3,
          5,
          3,
          4,
          2,
          1,
          1,
          2,
          1,
          1,
          2,
          2,
          7,
          4,
          2,
          4,
          4,
          2,
          3,
          4,
          6,
          3,
          4,
          2,
          3,
          5,
          1,
          4,
          2,
          2,
          2,
          1,
          4,
          5,
          4,
          1,
          4,
          2,
          1,
          3,
          2,
          6,
          6,
          4,
          8,
          3,
          5,
          2,
          5,
          1,
          4,
          1,
          4,
          4,
          2,
          3,
          2,
          3,
          1,
          5,
          3,
          4,
          9,
          14,
          1,
          5,
          9,
          3,
          8,
          8,
          12,
          4,
          10,
          4,
          3,
          10,
          13,
          5,
          3,
          2,
          9,
          3,
          3,
          6,
          5,
          9,
          10,
          9,
          13,
          13,
          10,
          4,
          6,
          10,
          6,
          15,
          16,
          24,
          20,
          29,
          46,
          34,
          29,
          16,
          28,
          13,
          17,
          18,
          12,
          12,
          25,
          20,
          24,
          28,
          34,
          23,
          19,
          15,
          21
         ],
         "yaxis": "y"
        },
        {
         "hovertemplate": "identifier_name=GND ID (Germany)<br>decade=%{x}<br>score=%{y}<extra></extra>",
         "legendgroup": "GND ID (Germany)",
         "line": {
          "color": "#2CA02C",
          "dash": "solid"
         },
         "marker": {
          "symbol": "circle"
         },
         "mode": "lines",
         "name": "GND ID (Germany)",
         "opacity": 0.25,
         "showlegend": true,
         "type": "scattergl",
         "x": [
          -710,
          -570,
          -550,
          -540,
          -500,
          -440,
          -400,
          -380,
          -360,
          -340,
          -310,
          -290,
          -270,
          -190,
          -170,
          -150,
          -140,
          -70,
          -50,
          -40,
          -30,
          0,
          20,
          30,
          40,
          50,
          70,
          100,
          120,
          130,
          140,
          150,
          170,
          180,
          190,
          200,
          210,
          220,
          230,
          240,
          250,
          260,
          270,
          280,
          290,
          300,
          320,
          330,
          340,
          350,
          360,
          370,
          380,
          390,
          400,
          410,
          440,
          450,
          460,
          480,
          490,
          500,
          510,
          530,
          540,
          550,
          560,
          570,
          580,
          590,
          600,
          620,
          630,
          640,
          650,
          660,
          670,
          680,
          690,
          700,
          710,
          720,
          730,
          740,
          750,
          760,
          770,
          780,
          790,
          800,
          810,
          830,
          840,
          850,
          860,
          870,
          910,
          920,
          930,
          950,
          960,
          980,
          990,
          1000,
          1010,
          1020,
          1030,
          1040,
          1050,
          1070,
          1080,
          1090,
          1100,
          1110,
          1120,
          1130,
          1140,
          1150,
          1160,
          1170,
          1190,
          1200,
          1210,
          1220,
          1230,
          1240,
          1250,
          1260,
          1270,
          1280,
          1290,
          1300,
          1310,
          1320,
          1330,
          1340,
          1350,
          1360,
          1370,
          1380,
          1390,
          1420,
          1430,
          1440,
          1450,
          1460,
          1470,
          1480,
          1490,
          1500,
          1510,
          1520,
          1530,
          1540,
          1550,
          1560,
          1570,
          1580,
          1590,
          1600,
          1610,
          1620,
          1630,
          1640,
          1650,
          1660,
          1670,
          1680,
          1690,
          1700,
          1710,
          1720,
          1730,
          1740,
          1750,
          1760,
          1770,
          1780,
          1790,
          1800
         ],
         "xaxis": "x",
         "y": [
          1,
          1,
          1,
          1,
          1,
          1,
          1,
          2,
          1,
          1,
          1,
          2,
          2,
          2,
          3,
          1,
          1,
          1,
          1,
          2,
          1,
          1,
          1,
          2,
          1,
          1,
          3,
          1,
          1,
          1,
          1,
          2,
          2,
          1,
          3,
          1,
          1,
          4,
          3,
          1,
          2,
          1,
          1,
          1,
          1,
          1,
          1,
          1,
          5,
          1,
          1,
          1,
          2,
          1,
          2,
          1,
          2,
          1,
          3,
          1,
          1,
          1,
          1,
          2,
          1,
          2,
          1,
          2,
          3,
          3,
          4,
          1,
          2,
          3,
          1,
          1,
          1,
          3,
          3,
          6,
          2,
          2,
          1,
          1,
          2,
          2,
          6,
          2,
          3,
          3,
          2,
          5,
          1,
          2,
          2,
          1,
          3,
          2,
          2,
          2,
          1,
          2,
          2,
          6,
          7,
          5,
          7,
          2,
          6,
          3,
          6,
          1,
          3,
          1,
          3,
          3,
          2,
          1,
          1,
          3,
          5,
          3,
          1,
          3,
          10,
          6,
          3,
          5,
          10,
          4,
          3,
          3,
          4,
          2,
          3,
          1,
          5,
          4,
          5,
          2,
          3,
          5,
          1,
          1,
          5,
          7,
          5,
          5,
          4,
          5,
          6,
          5,
          2,
          5,
          8,
          7,
          13,
          16,
          13,
          19,
          22,
          21,
          17,
          14,
          13,
          11,
          11,
          16,
          10,
          10,
          9,
          11,
          10,
          10,
          11,
          16,
          8,
          7,
          15,
          15
         ],
         "yaxis": "y"
        },
        {
         "hovertemplate": "identifier_name=Academia Sinica authority ID (Taiwan)<br>decade=%{x}<br>score=%{y}<extra></extra>",
         "legendgroup": "Academia Sinica authority ID (Taiwan)",
         "line": {
          "color": "#D62728",
          "dash": "solid"
         },
         "marker": {
          "symbol": "circle"
         },
         "mode": "lines",
         "name": "Academia Sinica authority ID (Taiwan)",
         "opacity": 0.25,
         "showlegend": true,
         "type": "scattergl",
         "x": [
          -170,
          -140,
          130,
          150,
          190,
          220,
          300,
          360,
          450,
          570,
          600,
          760,
          770,
          780,
          960,
          1000,
          1010,
          1030,
          1040,
          1050,
          1080,
          1100,
          1120,
          1130,
          1230,
          1240,
          1250,
          1280,
          1290,
          1300,
          1310,
          1320,
          1330,
          1340,
          1350,
          1360,
          1370,
          1390,
          1400,
          1410,
          1420,
          1430,
          1440,
          1450,
          1460,
          1470,
          1480,
          1490,
          1500,
          1510,
          1520,
          1530,
          1540,
          1550,
          1560,
          1570,
          1580,
          1590,
          1600,
          1610,
          1620,
          1630,
          1640,
          1650,
          1660,
          1670,
          1680,
          1690,
          1700,
          1710,
          1720,
          1730,
          1740,
          1750,
          1760,
          1770,
          1780,
          1790,
          1800
         ],
         "xaxis": "x",
         "y": [
          1,
          1,
          1,
          1,
          1,
          1,
          1,
          1,
          1,
          1,
          1,
          1,
          4,
          1,
          1,
          2,
          2,
          2,
          1,
          1,
          1,
          1,
          1,
          2,
          2,
          1,
          1,
          2,
          5,
          6,
          9,
          4,
          8,
          3,
          3,
          13,
          13,
          5,
          4,
          2,
          9,
          3,
          5,
          7,
          6,
          11,
          9,
          8,
          6,
          10,
          10,
          4,
          5,
          8,
          7,
          11,
          16,
          23,
          18,
          31,
          33,
          29,
          23,
          13,
          15,
          14,
          15,
          15,
          12,
          10,
          19,
          16,
          20,
          19,
          28,
          19,
          13,
          12,
          14
         ],
         "yaxis": "y"
        },
        {
         "hovertemplate": "identifier_name=NLA Trove people ID (Australia)<br>decade=%{x}<br>score=%{y}<extra></extra>",
         "legendgroup": "NLA Trove people ID (Australia)",
         "line": {
          "color": "#9467BD",
          "dash": "solid"
         },
         "marker": {
          "symbol": "circle"
         },
         "mode": "lines",
         "name": "NLA Trove people ID (Australia)",
         "opacity": 0.25,
         "showlegend": true,
         "type": "scattergl",
         "x": [
          -570,
          -550,
          -540,
          -520,
          -400,
          -380,
          -360,
          -340,
          -270,
          -170,
          -150,
          -140,
          -70,
          -30,
          0,
          20,
          30,
          70,
          100,
          120,
          130,
          140,
          150,
          170,
          180,
          190,
          210,
          220,
          230,
          240,
          250,
          260,
          270,
          280,
          300,
          310,
          320,
          330,
          340,
          360,
          370,
          380,
          390,
          400,
          410,
          440,
          450,
          460,
          500,
          510,
          530,
          550,
          560,
          570,
          580,
          590,
          600,
          620,
          630,
          640,
          660,
          670,
          680,
          690,
          700,
          710,
          720,
          730,
          740,
          750,
          760,
          770,
          780,
          790,
          800,
          810,
          830,
          850,
          860,
          880,
          910,
          920,
          930,
          950,
          960,
          980,
          990,
          1000,
          1010,
          1020,
          1030,
          1040,
          1050,
          1070,
          1080,
          1090,
          1100,
          1110,
          1120,
          1130,
          1140,
          1150,
          1160,
          1170,
          1190,
          1200,
          1210,
          1220,
          1230,
          1240,
          1250,
          1260,
          1270,
          1280,
          1290,
          1300,
          1310,
          1320,
          1330,
          1340,
          1350,
          1360,
          1370,
          1380,
          1390,
          1400,
          1420,
          1430,
          1440,
          1450,
          1460,
          1470,
          1480,
          1490,
          1500,
          1510,
          1520,
          1530,
          1540,
          1550,
          1560,
          1570,
          1580,
          1590,
          1600,
          1610,
          1620,
          1630,
          1640,
          1650,
          1660,
          1670,
          1680,
          1690,
          1700,
          1710,
          1720,
          1730,
          1740,
          1750,
          1760,
          1770,
          1780,
          1790,
          1800
         ],
         "xaxis": "x",
         "y": [
          1,
          1,
          1,
          1,
          1,
          1,
          1,
          1,
          2,
          2,
          1,
          1,
          1,
          1,
          1,
          1,
          2,
          3,
          1,
          1,
          1,
          1,
          1,
          2,
          1,
          1,
          1,
          2,
          3,
          1,
          1,
          1,
          1,
          1,
          1,
          1,
          1,
          1,
          4,
          1,
          2,
          2,
          1,
          2,
          1,
          2,
          1,
          1,
          1,
          1,
          2,
          2,
          1,
          3,
          3,
          3,
          2,
          1,
          2,
          1,
          1,
          1,
          3,
          6,
          5,
          3,
          2,
          1,
          1,
          2,
          3,
          6,
          2,
          1,
          1,
          2,
          3,
          1,
          1,
          2,
          3,
          2,
          3,
          2,
          3,
          2,
          2,
          4,
          6,
          3,
          8,
          3,
          6,
          2,
          5,
          1,
          2,
          1,
          3,
          3,
          2,
          1,
          1,
          2,
          2,
          2,
          1,
          1,
          9,
          5,
          2,
          2,
          6,
          4,
          5,
          2,
          4,
          1,
          3,
          2,
          5,
          5,
          6,
          3,
          4,
          1,
          5,
          1,
          2,
          3,
          4,
          9,
          8,
          9,
          8,
          6,
          6,
          2,
          5,
          10,
          8,
          10,
          13,
          16,
          12,
          21,
          23,
          16,
          15,
          6,
          6,
          9,
          16,
          10,
          7,
          6,
          13,
          10,
          12,
          13,
          15,
          8,
          8,
          14,
          12
         ],
         "yaxis": "y"
        },
        {
         "hovertemplate": "identifier_name=Nationale Thesaurus voor Auteurs ID (Netherlands)<br>decade=%{x}<br>score=%{y}<extra></extra>",
         "legendgroup": "Nationale Thesaurus voor Auteurs ID (Netherlands)",
         "line": {
          "color": "#8C564B",
          "dash": "solid"
         },
         "marker": {
          "symbol": "circle"
         },
         "mode": "lines",
         "name": "Nationale Thesaurus voor Auteurs ID (Netherlands)",
         "opacity": 0.25,
         "showlegend": true,
         "type": "scattergl",
         "x": [
          -710,
          -570,
          -550,
          -540,
          -440,
          -400,
          -380,
          -360,
          -340,
          -310,
          -290,
          -270,
          -190,
          -170,
          -150,
          -140,
          -70,
          -50,
          -40,
          20,
          30,
          40,
          50,
          70,
          100,
          120,
          130,
          140,
          150,
          170,
          180,
          190,
          200,
          210,
          220,
          230,
          250,
          260,
          270,
          280,
          290,
          300,
          310,
          320,
          330,
          340,
          350,
          360,
          370,
          380,
          390,
          400,
          410,
          420,
          440,
          450,
          460,
          480,
          490,
          500,
          510,
          530,
          540,
          550,
          560,
          570,
          580,
          590,
          600,
          620,
          630,
          640,
          650,
          660,
          670,
          680,
          690,
          700,
          710,
          720,
          730,
          750,
          760,
          770,
          780,
          790,
          800,
          810,
          830,
          850,
          860,
          870,
          910,
          920,
          930,
          950,
          960,
          980,
          990,
          1000,
          1010,
          1020,
          1030,
          1040,
          1050,
          1070,
          1080,
          1090,
          1100,
          1110,
          1120,
          1130,
          1140,
          1150,
          1170,
          1190,
          1200,
          1210,
          1220,
          1230,
          1240,
          1250,
          1260,
          1270,
          1280,
          1290,
          1300,
          1310,
          1320,
          1330,
          1340,
          1350,
          1360,
          1370,
          1380,
          1390,
          1410,
          1420,
          1440,
          1450,
          1460,
          1470,
          1480,
          1490,
          1500,
          1510,
          1520,
          1530,
          1540,
          1550,
          1560,
          1570,
          1580,
          1590,
          1600,
          1610,
          1620,
          1630,
          1640,
          1650,
          1660,
          1670,
          1680,
          1690,
          1700,
          1710,
          1720,
          1730,
          1740,
          1750,
          1760,
          1770,
          1780,
          1790,
          1800
         ],
         "xaxis": "x",
         "y": [
          1,
          1,
          1,
          1,
          1,
          1,
          1,
          1,
          1,
          1,
          1,
          2,
          2,
          3,
          1,
          1,
          2,
          1,
          1,
          1,
          2,
          1,
          1,
          3,
          1,
          1,
          1,
          2,
          1,
          2,
          1,
          2,
          1,
          2,
          3,
          3,
          1,
          2,
          1,
          1,
          1,
          1,
          2,
          1,
          1,
          2,
          2,
          1,
          1,
          2,
          1,
          2,
          1,
          1,
          2,
          1,
          2,
          1,
          1,
          1,
          1,
          1,
          1,
          2,
          1,
          3,
          3,
          4,
          4,
          1,
          2,
          3,
          1,
          2,
          1,
          2,
          5,
          5,
          2,
          1,
          1,
          2,
          2,
          5,
          1,
          1,
          2,
          3,
          5,
          2,
          1,
          1,
          2,
          2,
          1,
          1,
          1,
          3,
          1,
          4,
          8,
          5,
          7,
          2,
          5,
          3,
          5,
          1,
          2,
          1,
          3,
          3,
          2,
          1,
          3,
          2,
          1,
          1,
          1,
          7,
          6,
          3,
          1,
          7,
          5,
          3,
          4,
          4,
          3,
          3,
          1,
          4,
          4,
          5,
          2,
          2,
          1,
          6,
          1,
          2,
          4,
          8,
          4,
          5,
          4,
          9,
          4,
          3,
          5,
          8,
          6,
          9,
          14,
          16,
          14,
          23,
          18,
          14,
          9,
          11,
          6,
          6,
          11,
          9,
          6,
          8,
          10,
          8,
          9,
          9,
          9,
          8,
          9,
          17,
          7
         ],
         "yaxis": "y"
        },
        {
         "hovertemplate": "identifier_name=IdRef ID (France)<br>decade=%{x}<br>score=%{y}<extra></extra>",
         "legendgroup": "IdRef ID (France)",
         "line": {
          "color": "#E377C2",
          "dash": "solid"
         },
         "marker": {
          "symbol": "circle"
         },
         "mode": "lines",
         "name": "IdRef ID (France)",
         "opacity": 0.25,
         "showlegend": true,
         "type": "scattergl",
         "x": [
          -710,
          -570,
          -550,
          -540,
          -520,
          -440,
          -400,
          -380,
          -360,
          -340,
          -310,
          -290,
          -270,
          -190,
          -170,
          -150,
          -140,
          -70,
          -50,
          -40,
          -30,
          0,
          20,
          30,
          40,
          70,
          120,
          130,
          140,
          150,
          160,
          180,
          190,
          200,
          210,
          220,
          230,
          250,
          260,
          270,
          300,
          310,
          320,
          330,
          340,
          350,
          360,
          370,
          380,
          390,
          400,
          410,
          420,
          440,
          460,
          480,
          490,
          510,
          530,
          540,
          550,
          560,
          570,
          580,
          590,
          600,
          620,
          630,
          640,
          660,
          680,
          690,
          700,
          710,
          720,
          730,
          750,
          760,
          770,
          790,
          800,
          810,
          830,
          850,
          870,
          880,
          910,
          920,
          930,
          960,
          980,
          990,
          1000,
          1010,
          1020,
          1030,
          1040,
          1050,
          1070,
          1080,
          1090,
          1100,
          1110,
          1120,
          1130,
          1140,
          1150,
          1160,
          1170,
          1190,
          1200,
          1210,
          1220,
          1230,
          1240,
          1250,
          1260,
          1270,
          1280,
          1300,
          1310,
          1320,
          1330,
          1340,
          1350,
          1360,
          1370,
          1380,
          1390,
          1410,
          1420,
          1440,
          1450,
          1460,
          1470,
          1480,
          1490,
          1500,
          1510,
          1520,
          1530,
          1540,
          1550,
          1560,
          1570,
          1580,
          1590,
          1600,
          1610,
          1620,
          1630,
          1640,
          1650,
          1660,
          1670,
          1680,
          1690,
          1700,
          1710,
          1720,
          1730,
          1740,
          1750,
          1760,
          1770,
          1780,
          1790,
          1800
         ],
         "xaxis": "x",
         "y": [
          1,
          1,
          1,
          1,
          1,
          1,
          1,
          1,
          1,
          1,
          1,
          1,
          2,
          2,
          2,
          1,
          1,
          2,
          1,
          1,
          1,
          1,
          1,
          2,
          1,
          2,
          1,
          1,
          2,
          3,
          1,
          1,
          1,
          1,
          2,
          2,
          3,
          1,
          1,
          1,
          1,
          1,
          1,
          1,
          3,
          1,
          1,
          2,
          1,
          1,
          2,
          1,
          1,
          2,
          2,
          1,
          1,
          1,
          2,
          1,
          2,
          1,
          2,
          3,
          4,
          2,
          1,
          2,
          3,
          1,
          2,
          2,
          7,
          2,
          1,
          1,
          2,
          2,
          6,
          1,
          3,
          2,
          4,
          1,
          1,
          1,
          1,
          2,
          1,
          1,
          2,
          1,
          4,
          6,
          4,
          6,
          2,
          4,
          2,
          4,
          1,
          1,
          1,
          3,
          3,
          2,
          1,
          1,
          3,
          2,
          3,
          1,
          1,
          4,
          4,
          2,
          3,
          5,
          2,
          4,
          3,
          1,
          1,
          1,
          3,
          3,
          1,
          1,
          2,
          1,
          3,
          2,
          1,
          3,
          6,
          2,
          3,
          2,
          4,
          7,
          3,
          3,
          8,
          5,
          8,
          10,
          7,
          11,
          18,
          11,
          12,
          8,
          9,
          11,
          6,
          10,
          6,
          8,
          5,
          8,
          9,
          9,
          3,
          8,
          7,
          4,
          4,
          5
         ],
         "yaxis": "y"
        },
        {
         "hovertemplate": "identifier_name=National Library of Israel J9U ID (Israel)<br>decade=%{x}<br>score=%{y}<extra></extra>",
         "legendgroup": "National Library of Israel J9U ID (Israel)",
         "line": {
          "color": "#7F7F7F",
          "dash": "solid"
         },
         "marker": {
          "symbol": "circle"
         },
         "mode": "lines",
         "name": "National Library of Israel J9U ID (Israel)",
         "opacity": 0.25,
         "showlegend": true,
         "type": "scattergl",
         "x": [
          -710,
          -570,
          -550,
          -540,
          -500,
          -440,
          -400,
          -380,
          -360,
          -340,
          -310,
          -290,
          -270,
          -190,
          -170,
          -150,
          -140,
          -70,
          -50,
          -40,
          -30,
          0,
          20,
          30,
          40,
          50,
          70,
          120,
          130,
          140,
          150,
          170,
          180,
          190,
          200,
          210,
          220,
          230,
          250,
          260,
          270,
          280,
          300,
          320,
          340,
          350,
          360,
          370,
          380,
          390,
          400,
          410,
          440,
          450,
          460,
          480,
          490,
          500,
          510,
          530,
          540,
          550,
          560,
          570,
          580,
          590,
          600,
          620,
          630,
          640,
          660,
          670,
          680,
          690,
          700,
          710,
          720,
          730,
          740,
          750,
          760,
          770,
          780,
          790,
          800,
          810,
          830,
          850,
          860,
          880,
          910,
          920,
          930,
          980,
          1000,
          1010,
          1020,
          1030,
          1040,
          1050,
          1070,
          1080,
          1090,
          1100,
          1110,
          1120,
          1130,
          1140,
          1150,
          1160,
          1170,
          1190,
          1200,
          1210,
          1220,
          1230,
          1240,
          1250,
          1260,
          1270,
          1280,
          1290,
          1300,
          1310,
          1320,
          1330,
          1350,
          1360,
          1370,
          1380,
          1390,
          1420,
          1440,
          1460,
          1470,
          1480,
          1490,
          1500,
          1510,
          1520,
          1530,
          1540,
          1550,
          1560,
          1570,
          1580,
          1590,
          1600,
          1610,
          1620,
          1630,
          1640,
          1650,
          1660,
          1670,
          1680,
          1690,
          1700,
          1710,
          1720,
          1730,
          1740,
          1750,
          1760,
          1770,
          1780,
          1790,
          1800
         ],
         "xaxis": "x",
         "y": [
          1,
          1,
          1,
          1,
          1,
          1,
          1,
          1,
          1,
          1,
          1,
          1,
          2,
          1,
          3,
          1,
          1,
          2,
          1,
          1,
          1,
          1,
          1,
          2,
          1,
          1,
          3,
          1,
          1,
          3,
          2,
          1,
          1,
          2,
          1,
          2,
          3,
          3,
          1,
          2,
          1,
          1,
          1,
          1,
          3,
          1,
          1,
          1,
          2,
          1,
          2,
          1,
          2,
          1,
          1,
          1,
          1,
          1,
          1,
          2,
          1,
          1,
          1,
          3,
          2,
          2,
          4,
          1,
          2,
          2,
          1,
          1,
          1,
          3,
          5,
          2,
          1,
          1,
          1,
          2,
          2,
          5,
          2,
          1,
          2,
          3,
          2,
          1,
          1,
          1,
          2,
          2,
          1,
          3,
          4,
          7,
          4,
          7,
          2,
          6,
          1,
          3,
          1,
          3,
          1,
          3,
          3,
          2,
          1,
          1,
          1,
          2,
          1,
          1,
          1,
          4,
          4,
          2,
          3,
          3,
          2,
          1,
          3,
          4,
          1,
          2,
          2,
          4,
          3,
          1,
          3,
          4,
          1,
          1,
          6,
          3,
          3,
          3,
          4,
          4,
          2,
          1,
          7,
          5,
          6,
          9,
          9,
          9,
          16,
          12,
          10,
          11,
          8,
          2,
          6,
          7,
          6,
          4,
          6,
          8,
          7,
          5,
          5,
          6,
          3,
          4,
          9,
          9
         ],
         "yaxis": "y"
        },
        {
         "hovertemplate": "identifier_name=NDL Authority ID (Japan)<br>decade=%{x}<br>score=%{y}<extra></extra>",
         "legendgroup": "NDL Authority ID (Japan)",
         "line": {
          "color": "#BCBD22",
          "dash": "solid"
         },
         "marker": {
          "symbol": "circle"
         },
         "mode": "lines",
         "name": "NDL Authority ID (Japan)",
         "opacity": 0.25,
         "showlegend": true,
         "type": "scattergl",
         "x": [
          -570,
          -550,
          -540,
          -400,
          -360,
          -340,
          -290,
          -270,
          -170,
          -150,
          -140,
          -70,
          -50,
          20,
          30,
          50,
          70,
          100,
          120,
          130,
          140,
          150,
          180,
          190,
          200,
          210,
          220,
          230,
          240,
          250,
          260,
          270,
          280,
          300,
          310,
          330,
          340,
          360,
          370,
          380,
          390,
          400,
          410,
          440,
          450,
          480,
          490,
          500,
          510,
          530,
          540,
          550,
          560,
          570,
          580,
          590,
          600,
          620,
          630,
          640,
          660,
          680,
          690,
          700,
          710,
          730,
          750,
          760,
          770,
          790,
          800,
          810,
          830,
          860,
          870,
          930,
          960,
          980,
          1000,
          1010,
          1020,
          1030,
          1040,
          1050,
          1070,
          1080,
          1100,
          1110,
          1120,
          1130,
          1140,
          1150,
          1170,
          1190,
          1210,
          1230,
          1240,
          1250,
          1260,
          1270,
          1280,
          1300,
          1310,
          1320,
          1330,
          1340,
          1350,
          1360,
          1370,
          1390,
          1420,
          1450,
          1460,
          1470,
          1480,
          1500,
          1510,
          1520,
          1540,
          1550,
          1560,
          1570,
          1580,
          1590,
          1600,
          1610,
          1620,
          1630,
          1640,
          1650,
          1660,
          1670,
          1680,
          1690,
          1700,
          1710,
          1720,
          1730,
          1740,
          1750,
          1760,
          1770,
          1780,
          1790,
          1800
         ],
         "xaxis": "x",
         "y": [
          1,
          1,
          1,
          1,
          1,
          1,
          1,
          2,
          1,
          1,
          1,
          1,
          1,
          1,
          1,
          1,
          3,
          1,
          1,
          1,
          1,
          1,
          1,
          2,
          1,
          1,
          2,
          3,
          1,
          1,
          1,
          1,
          1,
          1,
          1,
          1,
          4,
          1,
          2,
          1,
          1,
          2,
          1,
          2,
          1,
          1,
          1,
          1,
          1,
          2,
          1,
          2,
          1,
          1,
          2,
          4,
          2,
          1,
          2,
          1,
          1,
          2,
          3,
          4,
          2,
          1,
          2,
          1,
          5,
          1,
          3,
          1,
          2,
          1,
          1,
          1,
          1,
          2,
          2,
          4,
          2,
          4,
          2,
          2,
          2,
          3,
          2,
          1,
          3,
          3,
          2,
          1,
          1,
          1,
          1,
          3,
          1,
          1,
          2,
          2,
          1,
          3,
          2,
          1,
          1,
          1,
          1,
          2,
          2,
          1,
          2,
          1,
          1,
          4,
          3,
          1,
          3,
          3,
          3,
          5,
          2,
          4,
          8,
          5,
          5,
          11,
          5,
          5,
          6,
          6,
          2,
          4,
          6,
          4,
          2,
          6,
          8,
          6,
          4,
          4,
          5,
          6,
          5,
          7,
          6
         ],
         "yaxis": "y"
        },
        {
         "hovertemplate": "identifier_name=Encyclopædia Britannica Online ID (United Kingdom)<br>decade=%{x}<br>score=%{y}<extra></extra>",
         "legendgroup": "Encyclopædia Britannica Online ID (United Kingdom)",
         "line": {
          "color": "#17BECF",
          "dash": "solid"
         },
         "marker": {
          "symbol": "circle"
         },
         "mode": "lines",
         "name": "Encyclopædia Britannica Online ID (United Kingdom)",
         "opacity": 0.25,
         "showlegend": true,
         "type": "scattergl",
         "x": [
          -570,
          -550,
          -540,
          -500,
          -440,
          -380,
          -360,
          -340,
          -310,
          -290,
          -270,
          -200,
          -190,
          -170,
          -160,
          -150,
          -140,
          -50,
          0,
          20,
          30,
          40,
          50,
          70,
          150,
          160,
          180,
          190,
          210,
          220,
          250,
          260,
          280,
          300,
          310,
          330,
          340,
          350,
          360,
          370,
          380,
          400,
          420,
          440,
          450,
          460,
          480,
          490,
          530,
          540,
          550,
          560,
          590,
          600,
          620,
          630,
          640,
          660,
          670,
          680,
          690,
          700,
          710,
          720,
          740,
          760,
          770,
          780,
          790,
          800,
          810,
          830,
          850,
          880,
          900,
          910,
          930,
          950,
          960,
          980,
          1000,
          1010,
          1020,
          1030,
          1040,
          1050,
          1080,
          1100,
          1120,
          1130,
          1140,
          1160,
          1170,
          1180,
          1190,
          1200,
          1210,
          1220,
          1230,
          1240,
          1250,
          1260,
          1270,
          1280,
          1300,
          1310,
          1320,
          1350,
          1370,
          1380,
          1390,
          1400,
          1420,
          1440,
          1460,
          1470,
          1480,
          1490,
          1500,
          1510,
          1520,
          1530,
          1540,
          1550,
          1560,
          1570,
          1580,
          1590,
          1600,
          1610,
          1620,
          1630,
          1640,
          1650,
          1660,
          1680,
          1690,
          1700,
          1710,
          1720,
          1750,
          1760,
          1780,
          1790,
          1800
         ],
         "xaxis": "x",
         "y": [
          1,
          1,
          1,
          1,
          1,
          1,
          1,
          1,
          1,
          1,
          2,
          1,
          1,
          3,
          1,
          1,
          1,
          1,
          1,
          1,
          3,
          1,
          1,
          1,
          1,
          1,
          1,
          1,
          1,
          3,
          2,
          1,
          1,
          2,
          1,
          1,
          4,
          1,
          1,
          1,
          2,
          3,
          1,
          1,
          1,
          1,
          2,
          1,
          1,
          2,
          1,
          1,
          1,
          2,
          1,
          2,
          1,
          1,
          1,
          2,
          2,
          2,
          2,
          1,
          2,
          2,
          3,
          1,
          1,
          1,
          2,
          2,
          2,
          1,
          1,
          1,
          2,
          1,
          1,
          2,
          3,
          6,
          5,
          5,
          2,
          3,
          4,
          2,
          1,
          2,
          2,
          1,
          2,
          1,
          3,
          4,
          1,
          1,
          4,
          4,
          3,
          3,
          3,
          3,
          4,
          2,
          1,
          1,
          1,
          1,
          3,
          1,
          1,
          1,
          1,
          5,
          2,
          1,
          3,
          2,
          2,
          1,
          1,
          3,
          4,
          2,
          3,
          5,
          2,
          7,
          3,
          7,
          3,
          3,
          1,
          3,
          1,
          1,
          3,
          2,
          1,
          2,
          2,
          2,
          1
         ],
         "yaxis": "y"
        },
        {
         "hovertemplate": "identifier_name=average<br>decade=%{x}<br>score=%{y}<extra></extra>",
         "legendgroup": "average",
         "line": {
          "color": "#1F77B4",
          "dash": "solid",
          "width": 3
         },
         "marker": {
          "symbol": "circle"
         },
         "mode": "lines",
         "name": "average",
         "orientation": "v",
         "showlegend": true,
         "type": "scatter",
         "x": [
          -710,
          -680,
          -570,
          -550,
          -540,
          -520,
          -500,
          -440,
          -400,
          -380,
          -360,
          -340,
          -310,
          -290,
          -270,
          -260,
          -250,
          -220,
          -200,
          -190,
          -170,
          -160,
          -150,
          -140,
          -70,
          -50,
          -40,
          -30,
          0,
          20,
          30,
          40,
          50,
          70,
          100,
          120,
          130,
          140,
          150,
          160,
          170,
          180,
          190,
          200,
          210,
          220,
          230,
          240,
          250,
          260,
          270,
          280,
          290,
          300,
          310,
          320,
          330,
          340,
          350,
          360,
          370,
          380,
          390,
          400,
          410,
          420,
          430,
          440,
          450,
          460,
          480,
          490,
          500,
          510,
          530,
          540,
          550,
          560,
          570,
          580,
          590,
          600,
          610,
          620,
          630,
          640,
          650,
          660,
          670,
          680,
          690,
          700,
          710,
          720,
          730,
          740,
          750,
          760,
          770,
          780,
          790,
          800,
          810,
          830,
          840,
          850,
          860,
          870,
          880,
          890,
          900,
          910,
          920,
          930,
          940,
          950,
          960,
          970,
          980,
          990,
          1000,
          1010,
          1020,
          1030,
          1040,
          1050,
          1070,
          1080,
          1090,
          1100,
          1110,
          1120,
          1130,
          1140,
          1150,
          1160,
          1170,
          1180,
          1190,
          1200,
          1210,
          1220,
          1230,
          1240,
          1250,
          1260,
          1270,
          1280,
          1290,
          1300,
          1310,
          1320,
          1330,
          1340,
          1350,
          1360,
          1370,
          1380,
          1390,
          1400,
          1410,
          1420,
          1430,
          1440,
          1450,
          1460,
          1470,
          1480,
          1490,
          1500,
          1510,
          1520,
          1530,
          1540,
          1550,
          1560,
          1570,
          1580,
          1590,
          1600,
          1610,
          1620,
          1630,
          1640,
          1650,
          1660,
          1670,
          1680,
          1690,
          1700,
          1710,
          1720,
          1730,
          1740,
          1750,
          1760,
          1770,
          1780,
          1790,
          1800
         ],
         "xaxis": "x",
         "y": [
          1,
          1,
          1,
          1,
          1,
          1,
          1,
          1,
          1,
          1.1428571428571428,
          1,
          1,
          1,
          1.1428571428571428,
          2,
          1,
          1,
          1,
          1,
          1.5714285714285714,
          2.4,
          1,
          1,
          1,
          1.5714285714285714,
          1.1428571428571428,
          1.1666666666666667,
          1,
          1.1428571428571428,
          1,
          2,
          1,
          1,
          2.5555555555555554,
          1.3333333333333333,
          1,
          1.2222222222222223,
          1.75,
          2.3,
          1.5,
          2,
          1.2222222222222223,
          2.1,
          1,
          1.6666666666666667,
          3,
          3,
          1.2,
          1.7777777777777777,
          1.3333333333333333,
          1,
          1,
          1,
          1.5,
          1.2,
          1.5714285714285714,
          1,
          3.2222222222222223,
          1.1666666666666667,
          1.1,
          1.375,
          1.7142857142857142,
          1,
          2.125,
          1,
          1,
          1,
          2,
          1,
          1.625,
          1.1666666666666667,
          1,
          1.2857142857142858,
          1,
          1.5555555555555556,
          1.125,
          2,
          1,
          2.7777777777777777,
          2.75,
          3.3333333333333335,
          2.9,
          1,
          1.1111111111111112,
          1.875,
          2,
          1.5,
          1.3333333333333333,
          1.4285714285714286,
          2.3333333333333335,
          4.555555555555555,
          5,
          2.4444444444444446,
          2.25,
          1.875,
          1.6666666666666667,
          2.5,
          2.6,
          5.3,
          2.125,
          2,
          2.4444444444444446,
          2.3333333333333335,
          3.7777777777777777,
          1.3333333333333333,
          2.125,
          1.4285714285714286,
          1.5,
          1.6666666666666667,
          1,
          1,
          2.875,
          2.857142857142857,
          2.111111111111111,
          1,
          2.3333333333333335,
          1.4444444444444444,
          1,
          2.4444444444444446,
          1.6666666666666667,
          4.1,
          5.8,
          4,
          6.2,
          2.2,
          4.3,
          2.125,
          4.2,
          1,
          2.5,
          1,
          2.8,
          3,
          2.111111111111111,
          1.5,
          1.2857142857142858,
          2.5555555555555554,
          1,
          3.2222222222222223,
          2.75,
          1,
          2.375,
          6.3,
          6.2,
          2.5,
          3.888888888888889,
          6.444444444444445,
          3.7,
          4.714285714285714,
          4.7,
          5.7,
          2.5,
          4.666666666666667,
          2.125,
          4.2,
          6.777777777777778,
          6.5,
          1.7142857142857142,
          3.8,
          3,
          1.6,
          5.8,
          3.4,
          2.5555555555555554,
          4.5,
          4.1,
          7.7,
          6.4,
          6.444444444444445,
          5.9,
          7.3,
          6.2,
          2.7777777777777777,
          4.3,
          8,
          5.9,
          9.4,
          13,
          14.7,
          13.6,
          22.3,
          25.4,
          18.2,
          16.8,
          11.4,
          12.5,
          9.777777777777779,
          12.1,
          10.7,
          8,
          8.3,
          13.7,
          14,
          14.666666666666666,
          13.5,
          18.4,
          13.11111111111111,
          10.1,
          14.9,
          12.5
         ],
         "yaxis": "y"
        }
       ],
       "layout": {
        "height": 800,
        "legend": {
         "title": {
          "text": "Identifiers"
         }
        },
        "template": {
         "data": {
          "bar": [
           {
            "error_x": {
             "color": "rgb(36,36,36)"
            },
            "error_y": {
             "color": "rgb(36,36,36)"
            },
            "marker": {
             "line": {
              "color": "white",
              "width": 0.5
             },
             "pattern": {
              "fillmode": "overlay",
              "size": 10,
              "solidity": 0.2
             }
            },
            "type": "bar"
           }
          ],
          "barpolar": [
           {
            "marker": {
             "line": {
              "color": "white",
              "width": 0.5
             },
             "pattern": {
              "fillmode": "overlay",
              "size": 10,
              "solidity": 0.2
             }
            },
            "type": "barpolar"
           }
          ],
          "carpet": [
           {
            "aaxis": {
             "endlinecolor": "rgb(36,36,36)",
             "gridcolor": "white",
             "linecolor": "white",
             "minorgridcolor": "white",
             "startlinecolor": "rgb(36,36,36)"
            },
            "baxis": {
             "endlinecolor": "rgb(36,36,36)",
             "gridcolor": "white",
             "linecolor": "white",
             "minorgridcolor": "white",
             "startlinecolor": "rgb(36,36,36)"
            },
            "type": "carpet"
           }
          ],
          "choropleth": [
           {
            "colorbar": {
             "outlinewidth": 1,
             "tickcolor": "rgb(36,36,36)",
             "ticks": "outside"
            },
            "type": "choropleth"
           }
          ],
          "contour": [
           {
            "colorbar": {
             "outlinewidth": 1,
             "tickcolor": "rgb(36,36,36)",
             "ticks": "outside"
            },
            "colorscale": [
             [
              0,
              "#440154"
             ],
             [
              0.1111111111111111,
              "#482878"
             ],
             [
              0.2222222222222222,
              "#3e4989"
             ],
             [
              0.3333333333333333,
              "#31688e"
             ],
             [
              0.4444444444444444,
              "#26828e"
             ],
             [
              0.5555555555555556,
              "#1f9e89"
             ],
             [
              0.6666666666666666,
              "#35b779"
             ],
             [
              0.7777777777777778,
              "#6ece58"
             ],
             [
              0.8888888888888888,
              "#b5de2b"
             ],
             [
              1,
              "#fde725"
             ]
            ],
            "type": "contour"
           }
          ],
          "contourcarpet": [
           {
            "colorbar": {
             "outlinewidth": 1,
             "tickcolor": "rgb(36,36,36)",
             "ticks": "outside"
            },
            "type": "contourcarpet"
           }
          ],
          "heatmap": [
           {
            "colorbar": {
             "outlinewidth": 1,
             "tickcolor": "rgb(36,36,36)",
             "ticks": "outside"
            },
            "colorscale": [
             [
              0,
              "#440154"
             ],
             [
              0.1111111111111111,
              "#482878"
             ],
             [
              0.2222222222222222,
              "#3e4989"
             ],
             [
              0.3333333333333333,
              "#31688e"
             ],
             [
              0.4444444444444444,
              "#26828e"
             ],
             [
              0.5555555555555556,
              "#1f9e89"
             ],
             [
              0.6666666666666666,
              "#35b779"
             ],
             [
              0.7777777777777778,
              "#6ece58"
             ],
             [
              0.8888888888888888,
              "#b5de2b"
             ],
             [
              1,
              "#fde725"
             ]
            ],
            "type": "heatmap"
           }
          ],
          "heatmapgl": [
           {
            "colorbar": {
             "outlinewidth": 1,
             "tickcolor": "rgb(36,36,36)",
             "ticks": "outside"
            },
            "colorscale": [
             [
              0,
              "#440154"
             ],
             [
              0.1111111111111111,
              "#482878"
             ],
             [
              0.2222222222222222,
              "#3e4989"
             ],
             [
              0.3333333333333333,
              "#31688e"
             ],
             [
              0.4444444444444444,
              "#26828e"
             ],
             [
              0.5555555555555556,
              "#1f9e89"
             ],
             [
              0.6666666666666666,
              "#35b779"
             ],
             [
              0.7777777777777778,
              "#6ece58"
             ],
             [
              0.8888888888888888,
              "#b5de2b"
             ],
             [
              1,
              "#fde725"
             ]
            ],
            "type": "heatmapgl"
           }
          ],
          "histogram": [
           {
            "marker": {
             "line": {
              "color": "white",
              "width": 0.6
             }
            },
            "type": "histogram"
           }
          ],
          "histogram2d": [
           {
            "colorbar": {
             "outlinewidth": 1,
             "tickcolor": "rgb(36,36,36)",
             "ticks": "outside"
            },
            "colorscale": [
             [
              0,
              "#440154"
             ],
             [
              0.1111111111111111,
              "#482878"
             ],
             [
              0.2222222222222222,
              "#3e4989"
             ],
             [
              0.3333333333333333,
              "#31688e"
             ],
             [
              0.4444444444444444,
              "#26828e"
             ],
             [
              0.5555555555555556,
              "#1f9e89"
             ],
             [
              0.6666666666666666,
              "#35b779"
             ],
             [
              0.7777777777777778,
              "#6ece58"
             ],
             [
              0.8888888888888888,
              "#b5de2b"
             ],
             [
              1,
              "#fde725"
             ]
            ],
            "type": "histogram2d"
           }
          ],
          "histogram2dcontour": [
           {
            "colorbar": {
             "outlinewidth": 1,
             "tickcolor": "rgb(36,36,36)",
             "ticks": "outside"
            },
            "colorscale": [
             [
              0,
              "#440154"
             ],
             [
              0.1111111111111111,
              "#482878"
             ],
             [
              0.2222222222222222,
              "#3e4989"
             ],
             [
              0.3333333333333333,
              "#31688e"
             ],
             [
              0.4444444444444444,
              "#26828e"
             ],
             [
              0.5555555555555556,
              "#1f9e89"
             ],
             [
              0.6666666666666666,
              "#35b779"
             ],
             [
              0.7777777777777778,
              "#6ece58"
             ],
             [
              0.8888888888888888,
              "#b5de2b"
             ],
             [
              1,
              "#fde725"
             ]
            ],
            "type": "histogram2dcontour"
           }
          ],
          "mesh3d": [
           {
            "colorbar": {
             "outlinewidth": 1,
             "tickcolor": "rgb(36,36,36)",
             "ticks": "outside"
            },
            "type": "mesh3d"
           }
          ],
          "parcoords": [
           {
            "line": {
             "colorbar": {
              "outlinewidth": 1,
              "tickcolor": "rgb(36,36,36)",
              "ticks": "outside"
             }
            },
            "type": "parcoords"
           }
          ],
          "pie": [
           {
            "automargin": true,
            "type": "pie"
           }
          ],
          "scatter": [
           {
            "fillpattern": {
             "fillmode": "overlay",
             "size": 10,
             "solidity": 0.2
            },
            "type": "scatter"
           }
          ],
          "scatter3d": [
           {
            "line": {
             "colorbar": {
              "outlinewidth": 1,
              "tickcolor": "rgb(36,36,36)",
              "ticks": "outside"
             }
            },
            "marker": {
             "colorbar": {
              "outlinewidth": 1,
              "tickcolor": "rgb(36,36,36)",
              "ticks": "outside"
             }
            },
            "type": "scatter3d"
           }
          ],
          "scattercarpet": [
           {
            "marker": {
             "colorbar": {
              "outlinewidth": 1,
              "tickcolor": "rgb(36,36,36)",
              "ticks": "outside"
             }
            },
            "type": "scattercarpet"
           }
          ],
          "scattergeo": [
           {
            "marker": {
             "colorbar": {
              "outlinewidth": 1,
              "tickcolor": "rgb(36,36,36)",
              "ticks": "outside"
             }
            },
            "type": "scattergeo"
           }
          ],
          "scattergl": [
           {
            "marker": {
             "colorbar": {
              "outlinewidth": 1,
              "tickcolor": "rgb(36,36,36)",
              "ticks": "outside"
             }
            },
            "type": "scattergl"
           }
          ],
          "scattermapbox": [
           {
            "marker": {
             "colorbar": {
              "outlinewidth": 1,
              "tickcolor": "rgb(36,36,36)",
              "ticks": "outside"
             }
            },
            "type": "scattermapbox"
           }
          ],
          "scatterpolar": [
           {
            "marker": {
             "colorbar": {
              "outlinewidth": 1,
              "tickcolor": "rgb(36,36,36)",
              "ticks": "outside"
             }
            },
            "type": "scatterpolar"
           }
          ],
          "scatterpolargl": [
           {
            "marker": {
             "colorbar": {
              "outlinewidth": 1,
              "tickcolor": "rgb(36,36,36)",
              "ticks": "outside"
             }
            },
            "type": "scatterpolargl"
           }
          ],
          "scatterternary": [
           {
            "marker": {
             "colorbar": {
              "outlinewidth": 1,
              "tickcolor": "rgb(36,36,36)",
              "ticks": "outside"
             }
            },
            "type": "scatterternary"
           }
          ],
          "surface": [
           {
            "colorbar": {
             "outlinewidth": 1,
             "tickcolor": "rgb(36,36,36)",
             "ticks": "outside"
            },
            "colorscale": [
             [
              0,
              "#440154"
             ],
             [
              0.1111111111111111,
              "#482878"
             ],
             [
              0.2222222222222222,
              "#3e4989"
             ],
             [
              0.3333333333333333,
              "#31688e"
             ],
             [
              0.4444444444444444,
              "#26828e"
             ],
             [
              0.5555555555555556,
              "#1f9e89"
             ],
             [
              0.6666666666666666,
              "#35b779"
             ],
             [
              0.7777777777777778,
              "#6ece58"
             ],
             [
              0.8888888888888888,
              "#b5de2b"
             ],
             [
              1,
              "#fde725"
             ]
            ],
            "type": "surface"
           }
          ],
          "table": [
           {
            "cells": {
             "fill": {
              "color": "rgb(237,237,237)"
             },
             "line": {
              "color": "white"
             }
            },
            "header": {
             "fill": {
              "color": "rgb(217,217,217)"
             },
             "line": {
              "color": "white"
             }
            },
            "type": "table"
           }
          ]
         },
         "layout": {
          "annotationdefaults": {
           "arrowhead": 0,
           "arrowwidth": 1
          },
          "autotypenumbers": "strict",
          "coloraxis": {
           "colorbar": {
            "outlinewidth": 1,
            "tickcolor": "rgb(36,36,36)",
            "ticks": "outside"
           }
          },
          "colorscale": {
           "diverging": [
            [
             0,
             "rgb(103,0,31)"
            ],
            [
             0.1,
             "rgb(178,24,43)"
            ],
            [
             0.2,
             "rgb(214,96,77)"
            ],
            [
             0.3,
             "rgb(244,165,130)"
            ],
            [
             0.4,
             "rgb(253,219,199)"
            ],
            [
             0.5,
             "rgb(247,247,247)"
            ],
            [
             0.6,
             "rgb(209,229,240)"
            ],
            [
             0.7,
             "rgb(146,197,222)"
            ],
            [
             0.8,
             "rgb(67,147,195)"
            ],
            [
             0.9,
             "rgb(33,102,172)"
            ],
            [
             1,
             "rgb(5,48,97)"
            ]
           ],
           "sequential": [
            [
             0,
             "#440154"
            ],
            [
             0.1111111111111111,
             "#482878"
            ],
            [
             0.2222222222222222,
             "#3e4989"
            ],
            [
             0.3333333333333333,
             "#31688e"
            ],
            [
             0.4444444444444444,
             "#26828e"
            ],
            [
             0.5555555555555556,
             "#1f9e89"
            ],
            [
             0.6666666666666666,
             "#35b779"
            ],
            [
             0.7777777777777778,
             "#6ece58"
            ],
            [
             0.8888888888888888,
             "#b5de2b"
            ],
            [
             1,
             "#fde725"
            ]
           ],
           "sequentialminus": [
            [
             0,
             "#440154"
            ],
            [
             0.1111111111111111,
             "#482878"
            ],
            [
             0.2222222222222222,
             "#3e4989"
            ],
            [
             0.3333333333333333,
             "#31688e"
            ],
            [
             0.4444444444444444,
             "#26828e"
            ],
            [
             0.5555555555555556,
             "#1f9e89"
            ],
            [
             0.6666666666666666,
             "#35b779"
            ],
            [
             0.7777777777777778,
             "#6ece58"
            ],
            [
             0.8888888888888888,
             "#b5de2b"
            ],
            [
             1,
             "#fde725"
            ]
           ]
          },
          "colorway": [
           "#1F77B4",
           "#FF7F0E",
           "#2CA02C",
           "#D62728",
           "#9467BD",
           "#8C564B",
           "#E377C2",
           "#7F7F7F",
           "#BCBD22",
           "#17BECF"
          ],
          "font": {
           "color": "rgb(36,36,36)"
          },
          "geo": {
           "bgcolor": "white",
           "lakecolor": "white",
           "landcolor": "white",
           "showlakes": true,
           "showland": true,
           "subunitcolor": "white"
          },
          "hoverlabel": {
           "align": "left"
          },
          "hovermode": "closest",
          "mapbox": {
           "style": "light"
          },
          "paper_bgcolor": "white",
          "plot_bgcolor": "white",
          "polar": {
           "angularaxis": {
            "gridcolor": "rgb(232,232,232)",
            "linecolor": "rgb(36,36,36)",
            "showgrid": false,
            "showline": true,
            "ticks": "outside"
           },
           "bgcolor": "white",
           "radialaxis": {
            "gridcolor": "rgb(232,232,232)",
            "linecolor": "rgb(36,36,36)",
            "showgrid": false,
            "showline": true,
            "ticks": "outside"
           }
          },
          "scene": {
           "xaxis": {
            "backgroundcolor": "white",
            "gridcolor": "rgb(232,232,232)",
            "gridwidth": 2,
            "linecolor": "rgb(36,36,36)",
            "showbackground": true,
            "showgrid": false,
            "showline": true,
            "ticks": "outside",
            "zeroline": false,
            "zerolinecolor": "rgb(36,36,36)"
           },
           "yaxis": {
            "backgroundcolor": "white",
            "gridcolor": "rgb(232,232,232)",
            "gridwidth": 2,
            "linecolor": "rgb(36,36,36)",
            "showbackground": true,
            "showgrid": false,
            "showline": true,
            "ticks": "outside",
            "zeroline": false,
            "zerolinecolor": "rgb(36,36,36)"
           },
           "zaxis": {
            "backgroundcolor": "white",
            "gridcolor": "rgb(232,232,232)",
            "gridwidth": 2,
            "linecolor": "rgb(36,36,36)",
            "showbackground": true,
            "showgrid": false,
            "showline": true,
            "ticks": "outside",
            "zeroline": false,
            "zerolinecolor": "rgb(36,36,36)"
           }
          },
          "shapedefaults": {
           "fillcolor": "black",
           "line": {
            "width": 0
           },
           "opacity": 0.3
          },
          "ternary": {
           "aaxis": {
            "gridcolor": "rgb(232,232,232)",
            "linecolor": "rgb(36,36,36)",
            "showgrid": false,
            "showline": true,
            "ticks": "outside"
           },
           "baxis": {
            "gridcolor": "rgb(232,232,232)",
            "linecolor": "rgb(36,36,36)",
            "showgrid": false,
            "showline": true,
            "ticks": "outside"
           },
           "bgcolor": "white",
           "caxis": {
            "gridcolor": "rgb(232,232,232)",
            "linecolor": "rgb(36,36,36)",
            "showgrid": false,
            "showline": true,
            "ticks": "outside"
           }
          },
          "title": {
           "x": 0.05
          },
          "xaxis": {
           "automargin": true,
           "gridcolor": "rgb(232,232,232)",
           "linecolor": "rgb(36,36,36)",
           "showgrid": false,
           "showline": true,
           "ticks": "outside",
           "title": {
            "standoff": 15
           },
           "zeroline": false,
           "zerolinecolor": "rgb(36,36,36)"
          },
          "yaxis": {
           "automargin": true,
           "gridcolor": "rgb(232,232,232)",
           "linecolor": "rgb(36,36,36)",
           "showgrid": false,
           "showline": true,
           "ticks": "outside",
           "title": {
            "standoff": 15
           },
           "zeroline": false,
           "zerolinecolor": "rgb(36,36,36)"
          }
         }
        },
        "title": {
         "text": "Chinese world"
        },
        "width": 1300,
        "xaxis": {
         "dtick": 100,
         "title": {
          "text": ""
         }
        },
        "yaxis": {
         "title": {
          "text": "Number of Individuals"
         }
        }
       }
      }
     },
     "metadata": {},
     "output_type": "display_data"
    }
   ],
   "source": [
    "fig.write_image(f\"figures/mena_identifiers.png\", scale=7)\n",
    "fig.show()"
   ]
  },
  {
   "cell_type": "code",
   "execution_count": null,
   "id": "24d8f225",
   "metadata": {},
   "outputs": [],
   "source": []
  },
  {
   "cell_type": "code",
   "execution_count": 18,
   "metadata": {},
   "outputs": [
    {
     "ename": "ValueError",
     "evalue": "Index contains duplicate entries, cannot reshape",
     "output_type": "error",
     "traceback": [
      "\u001b[0;31m---------------------------------------------------------------------------\u001b[0m",
      "\u001b[0;31mValueError\u001b[0m                                Traceback (most recent call last)",
      "Cell \u001b[0;32mIn[18], line 1\u001b[0m\n\u001b[0;32m----> 1\u001b[0m df_corr \u001b[38;5;241m=\u001b[39m \u001b[43mdf_fig\u001b[49m\u001b[38;5;241;43m.\u001b[39;49m\u001b[43mpivot\u001b[49m\u001b[43m(\u001b[49m\u001b[43mindex\u001b[49m\u001b[43m \u001b[49m\u001b[38;5;241;43m=\u001b[39;49m\u001b[38;5;124;43m'\u001b[39;49m\u001b[38;5;124;43mdecade\u001b[39;49m\u001b[38;5;124;43m'\u001b[39;49m\u001b[43m,\u001b[49m\u001b[43m \u001b[49m\u001b[43mcolumns\u001b[49m\u001b[43m \u001b[49m\u001b[38;5;241;43m=\u001b[39;49m\u001b[43m \u001b[49m\u001b[38;5;124;43m'\u001b[39;49m\u001b[38;5;124;43midentifier_name\u001b[39;49m\u001b[38;5;124;43m'\u001b[39;49m\u001b[43m,\u001b[49m\u001b[43m \u001b[49m\u001b[43mvalues\u001b[49m\u001b[43m \u001b[49m\u001b[38;5;241;43m=\u001b[39;49m\u001b[43m \u001b[49m\u001b[38;5;124;43m'\u001b[39;49m\u001b[38;5;124;43mscore\u001b[39;49m\u001b[38;5;124;43m'\u001b[39;49m\u001b[43m)\u001b[49m\n\u001b[1;32m      2\u001b[0m df_corr \u001b[38;5;241m=\u001b[39m df_corr\u001b[38;5;241m.\u001b[39mfillna(\u001b[38;5;241m0\u001b[39m)\n\u001b[1;32m      3\u001b[0m df_corr\u001b[38;5;241m.\u001b[39mcorr()\u001b[38;5;241m.\u001b[39mstack()\u001b[38;5;241m.\u001b[39mmean()\n",
      "File \u001b[0;32m~/Desktop/cultura_project/.venv/lib/python3.11/site-packages/pandas/core/frame.py:9025\u001b[0m, in \u001b[0;36mDataFrame.pivot\u001b[0;34m(self, columns, index, values)\u001b[0m\n\u001b[1;32m   9018\u001b[0m \u001b[38;5;129m@Substitution\u001b[39m(\u001b[38;5;124m\"\u001b[39m\u001b[38;5;124m\"\u001b[39m)\n\u001b[1;32m   9019\u001b[0m \u001b[38;5;129m@Appender\u001b[39m(_shared_docs[\u001b[38;5;124m\"\u001b[39m\u001b[38;5;124mpivot\u001b[39m\u001b[38;5;124m\"\u001b[39m])\n\u001b[1;32m   9020\u001b[0m \u001b[38;5;28;01mdef\u001b[39;00m \u001b[38;5;21mpivot\u001b[39m(\n\u001b[1;32m   9021\u001b[0m     \u001b[38;5;28mself\u001b[39m, \u001b[38;5;241m*\u001b[39m, columns, index\u001b[38;5;241m=\u001b[39mlib\u001b[38;5;241m.\u001b[39mno_default, values\u001b[38;5;241m=\u001b[39mlib\u001b[38;5;241m.\u001b[39mno_default\n\u001b[1;32m   9022\u001b[0m ) \u001b[38;5;241m-\u001b[39m\u001b[38;5;241m>\u001b[39m DataFrame:\n\u001b[1;32m   9023\u001b[0m     \u001b[38;5;28;01mfrom\u001b[39;00m \u001b[38;5;21;01mpandas\u001b[39;00m\u001b[38;5;21;01m.\u001b[39;00m\u001b[38;5;21;01mcore\u001b[39;00m\u001b[38;5;21;01m.\u001b[39;00m\u001b[38;5;21;01mreshape\u001b[39;00m\u001b[38;5;21;01m.\u001b[39;00m\u001b[38;5;21;01mpivot\u001b[39;00m \u001b[38;5;28;01mimport\u001b[39;00m pivot\n\u001b[0;32m-> 9025\u001b[0m     \u001b[38;5;28;01mreturn\u001b[39;00m \u001b[43mpivot\u001b[49m\u001b[43m(\u001b[49m\u001b[38;5;28;43mself\u001b[39;49m\u001b[43m,\u001b[49m\u001b[43m \u001b[49m\u001b[43mindex\u001b[49m\u001b[38;5;241;43m=\u001b[39;49m\u001b[43mindex\u001b[49m\u001b[43m,\u001b[49m\u001b[43m \u001b[49m\u001b[43mcolumns\u001b[49m\u001b[38;5;241;43m=\u001b[39;49m\u001b[43mcolumns\u001b[49m\u001b[43m,\u001b[49m\u001b[43m \u001b[49m\u001b[43mvalues\u001b[49m\u001b[38;5;241;43m=\u001b[39;49m\u001b[43mvalues\u001b[49m\u001b[43m)\u001b[49m\n",
      "File \u001b[0;32m~/Desktop/cultura_project/.venv/lib/python3.11/site-packages/pandas/core/reshape/pivot.py:553\u001b[0m, in \u001b[0;36mpivot\u001b[0;34m(data, columns, index, values)\u001b[0m\n\u001b[1;32m    549\u001b[0m         indexed \u001b[38;5;241m=\u001b[39m data\u001b[38;5;241m.\u001b[39m_constructor_sliced(data[values]\u001b[38;5;241m.\u001b[39m_values, index\u001b[38;5;241m=\u001b[39mmultiindex)\n\u001b[1;32m    550\u001b[0m \u001b[38;5;66;03m# error: Argument 1 to \"unstack\" of \"DataFrame\" has incompatible type \"Union\u001b[39;00m\n\u001b[1;32m    551\u001b[0m \u001b[38;5;66;03m# [List[Any], ExtensionArray, ndarray[Any, Any], Index, Series]\"; expected\u001b[39;00m\n\u001b[1;32m    552\u001b[0m \u001b[38;5;66;03m# \"Hashable\"\u001b[39;00m\n\u001b[0;32m--> 553\u001b[0m result \u001b[38;5;241m=\u001b[39m \u001b[43mindexed\u001b[49m\u001b[38;5;241;43m.\u001b[39;49m\u001b[43munstack\u001b[49m\u001b[43m(\u001b[49m\u001b[43mcolumns_listlike\u001b[49m\u001b[43m)\u001b[49m  \u001b[38;5;66;03m# type: ignore[arg-type]\u001b[39;00m\n\u001b[1;32m    554\u001b[0m result\u001b[38;5;241m.\u001b[39mindex\u001b[38;5;241m.\u001b[39mnames \u001b[38;5;241m=\u001b[39m [\n\u001b[1;32m    555\u001b[0m     name \u001b[38;5;28;01mif\u001b[39;00m name \u001b[38;5;129;01mis\u001b[39;00m \u001b[38;5;129;01mnot\u001b[39;00m lib\u001b[38;5;241m.\u001b[39mno_default \u001b[38;5;28;01melse\u001b[39;00m \u001b[38;5;28;01mNone\u001b[39;00m \u001b[38;5;28;01mfor\u001b[39;00m name \u001b[38;5;129;01min\u001b[39;00m result\u001b[38;5;241m.\u001b[39mindex\u001b[38;5;241m.\u001b[39mnames\n\u001b[1;32m    556\u001b[0m ]\n\u001b[1;32m    558\u001b[0m \u001b[38;5;28;01mreturn\u001b[39;00m result\n",
      "File \u001b[0;32m~/Desktop/cultura_project/.venv/lib/python3.11/site-packages/pandas/core/series.py:4455\u001b[0m, in \u001b[0;36mSeries.unstack\u001b[0;34m(self, level, fill_value, sort)\u001b[0m\n\u001b[1;32m   4410\u001b[0m \u001b[38;5;250m\u001b[39m\u001b[38;5;124;03m\"\"\"\u001b[39;00m\n\u001b[1;32m   4411\u001b[0m \u001b[38;5;124;03mUnstack, also known as pivot, Series with MultiIndex to produce DataFrame.\u001b[39;00m\n\u001b[1;32m   4412\u001b[0m \n\u001b[0;32m   (...)\u001b[0m\n\u001b[1;32m   4451\u001b[0m \u001b[38;5;124;03mb    2    4\u001b[39;00m\n\u001b[1;32m   4452\u001b[0m \u001b[38;5;124;03m\"\"\"\u001b[39;00m\n\u001b[1;32m   4453\u001b[0m \u001b[38;5;28;01mfrom\u001b[39;00m \u001b[38;5;21;01mpandas\u001b[39;00m\u001b[38;5;21;01m.\u001b[39;00m\u001b[38;5;21;01mcore\u001b[39;00m\u001b[38;5;21;01m.\u001b[39;00m\u001b[38;5;21;01mreshape\u001b[39;00m\u001b[38;5;21;01m.\u001b[39;00m\u001b[38;5;21;01mreshape\u001b[39;00m \u001b[38;5;28;01mimport\u001b[39;00m unstack\n\u001b[0;32m-> 4455\u001b[0m \u001b[38;5;28;01mreturn\u001b[39;00m \u001b[43munstack\u001b[49m\u001b[43m(\u001b[49m\u001b[38;5;28;43mself\u001b[39;49m\u001b[43m,\u001b[49m\u001b[43m \u001b[49m\u001b[43mlevel\u001b[49m\u001b[43m,\u001b[49m\u001b[43m \u001b[49m\u001b[43mfill_value\u001b[49m\u001b[43m,\u001b[49m\u001b[43m \u001b[49m\u001b[43msort\u001b[49m\u001b[43m)\u001b[49m\n",
      "File \u001b[0;32m~/Desktop/cultura_project/.venv/lib/python3.11/site-packages/pandas/core/reshape/reshape.py:517\u001b[0m, in \u001b[0;36munstack\u001b[0;34m(obj, level, fill_value, sort)\u001b[0m\n\u001b[1;32m    515\u001b[0m \u001b[38;5;28;01mif\u001b[39;00m is_1d_only_ea_dtype(obj\u001b[38;5;241m.\u001b[39mdtype):\n\u001b[1;32m    516\u001b[0m     \u001b[38;5;28;01mreturn\u001b[39;00m _unstack_extension_series(obj, level, fill_value, sort\u001b[38;5;241m=\u001b[39msort)\n\u001b[0;32m--> 517\u001b[0m unstacker \u001b[38;5;241m=\u001b[39m \u001b[43m_Unstacker\u001b[49m\u001b[43m(\u001b[49m\n\u001b[1;32m    518\u001b[0m \u001b[43m    \u001b[49m\u001b[43mobj\u001b[49m\u001b[38;5;241;43m.\u001b[39;49m\u001b[43mindex\u001b[49m\u001b[43m,\u001b[49m\u001b[43m \u001b[49m\u001b[43mlevel\u001b[49m\u001b[38;5;241;43m=\u001b[39;49m\u001b[43mlevel\u001b[49m\u001b[43m,\u001b[49m\u001b[43m \u001b[49m\u001b[43mconstructor\u001b[49m\u001b[38;5;241;43m=\u001b[39;49m\u001b[43mobj\u001b[49m\u001b[38;5;241;43m.\u001b[39;49m\u001b[43m_constructor_expanddim\u001b[49m\u001b[43m,\u001b[49m\u001b[43m \u001b[49m\u001b[43msort\u001b[49m\u001b[38;5;241;43m=\u001b[39;49m\u001b[43msort\u001b[49m\n\u001b[1;32m    519\u001b[0m \u001b[43m\u001b[49m\u001b[43m)\u001b[49m\n\u001b[1;32m    520\u001b[0m \u001b[38;5;28;01mreturn\u001b[39;00m unstacker\u001b[38;5;241m.\u001b[39mget_result(\n\u001b[1;32m    521\u001b[0m     obj\u001b[38;5;241m.\u001b[39m_values, value_columns\u001b[38;5;241m=\u001b[39m\u001b[38;5;28;01mNone\u001b[39;00m, fill_value\u001b[38;5;241m=\u001b[39mfill_value\n\u001b[1;32m    522\u001b[0m )\n",
      "File \u001b[0;32m~/Desktop/cultura_project/.venv/lib/python3.11/site-packages/pandas/core/reshape/reshape.py:154\u001b[0m, in \u001b[0;36m_Unstacker.__init__\u001b[0;34m(self, index, level, constructor, sort)\u001b[0m\n\u001b[1;32m    146\u001b[0m \u001b[38;5;28;01mif\u001b[39;00m num_cells \u001b[38;5;241m>\u001b[39m np\u001b[38;5;241m.\u001b[39miinfo(np\u001b[38;5;241m.\u001b[39mint32)\u001b[38;5;241m.\u001b[39mmax:\n\u001b[1;32m    147\u001b[0m     warnings\u001b[38;5;241m.\u001b[39mwarn(\n\u001b[1;32m    148\u001b[0m         \u001b[38;5;124mf\u001b[39m\u001b[38;5;124m\"\u001b[39m\u001b[38;5;124mThe following operation may generate \u001b[39m\u001b[38;5;132;01m{\u001b[39;00mnum_cells\u001b[38;5;132;01m}\u001b[39;00m\u001b[38;5;124m cells \u001b[39m\u001b[38;5;124m\"\u001b[39m\n\u001b[1;32m    149\u001b[0m         \u001b[38;5;124mf\u001b[39m\u001b[38;5;124m\"\u001b[39m\u001b[38;5;124min the resulting pandas object.\u001b[39m\u001b[38;5;124m\"\u001b[39m,\n\u001b[1;32m    150\u001b[0m         PerformanceWarning,\n\u001b[1;32m    151\u001b[0m         stacklevel\u001b[38;5;241m=\u001b[39mfind_stack_level(),\n\u001b[1;32m    152\u001b[0m     )\n\u001b[0;32m--> 154\u001b[0m \u001b[38;5;28;43mself\u001b[39;49m\u001b[38;5;241;43m.\u001b[39;49m\u001b[43m_make_selectors\u001b[49m\u001b[43m(\u001b[49m\u001b[43m)\u001b[49m\n",
      "File \u001b[0;32m~/Desktop/cultura_project/.venv/lib/python3.11/site-packages/pandas/core/reshape/reshape.py:210\u001b[0m, in \u001b[0;36m_Unstacker._make_selectors\u001b[0;34m(self)\u001b[0m\n\u001b[1;32m    207\u001b[0m mask\u001b[38;5;241m.\u001b[39mput(selector, \u001b[38;5;28;01mTrue\u001b[39;00m)\n\u001b[1;32m    209\u001b[0m \u001b[38;5;28;01mif\u001b[39;00m mask\u001b[38;5;241m.\u001b[39msum() \u001b[38;5;241m<\u001b[39m \u001b[38;5;28mlen\u001b[39m(\u001b[38;5;28mself\u001b[39m\u001b[38;5;241m.\u001b[39mindex):\n\u001b[0;32m--> 210\u001b[0m     \u001b[38;5;28;01mraise\u001b[39;00m \u001b[38;5;167;01mValueError\u001b[39;00m(\u001b[38;5;124m\"\u001b[39m\u001b[38;5;124mIndex contains duplicate entries, cannot reshape\u001b[39m\u001b[38;5;124m\"\u001b[39m)\n\u001b[1;32m    212\u001b[0m \u001b[38;5;28mself\u001b[39m\u001b[38;5;241m.\u001b[39mgroup_index \u001b[38;5;241m=\u001b[39m comp_index\n\u001b[1;32m    213\u001b[0m \u001b[38;5;28mself\u001b[39m\u001b[38;5;241m.\u001b[39mmask \u001b[38;5;241m=\u001b[39m mask\n",
      "\u001b[0;31mValueError\u001b[0m: Index contains duplicate entries, cannot reshape"
     ]
    }
   ],
   "source": [
    "df_corr = df_fig.pivot(index ='decade', columns = 'identifier_name', values = 'score')\n",
    "df_corr = df_corr.fillna(0)\n",
    "df_corr.corr().stack().mean()"
   ]
  },
  {
   "cell_type": "code",
   "execution_count": null,
   "metadata": {},
   "outputs": [
    {
     "data": {
      "application/vnd.plotly.v1+json": {
       "config": {
        "plotlyServerURL": "https://plot.ly"
       },
       "data": [
        {
         "hovertemplate": "identifier_name=Biografisch Portaal van Nederland ID (Netherlands)<br>decade=%{x}<br>score=%{y}<extra></extra>",
         "legendgroup": "Biografisch Portaal van Nederland ID (Netherlands)",
         "line": {
          "color": "#1F77B4",
          "dash": "solid"
         },
         "marker": {
          "symbol": "circle"
         },
         "mode": "lines",
         "name": "Biografisch Portaal van Nederland ID (Netherlands)",
         "opacity": 0.25,
         "orientation": "v",
         "showlegend": true,
         "type": "scatter",
         "x": [
          1200,
          1250,
          1300,
          1350,
          1400,
          1450,
          1500,
          1550,
          1600,
          1650,
          1700,
          1750,
          1800
         ],
         "xaxis": "x",
         "y": [
          3,
          1,
          2,
          9,
          25,
          58,
          196,
          428,
          1297,
          906,
          573,
          905,
          1686
         ],
         "yaxis": "y"
        },
        {
         "hovertemplate": "identifier_name=GND ID (Germany)<br>decade=%{x}<br>score=%{y}<extra></extra>",
         "legendgroup": "GND ID (Germany)",
         "line": {
          "color": "#FF7F0E",
          "dash": "solid"
         },
         "marker": {
          "symbol": "circle"
         },
         "mode": "lines",
         "name": "GND ID (Germany)",
         "opacity": 0.25,
         "orientation": "v",
         "showlegend": true,
         "type": "scatter",
         "x": [
          1200,
          1250,
          1300,
          1350,
          1400,
          1450,
          1500,
          1550,
          1600,
          1650,
          1700,
          1750,
          1800
         ],
         "xaxis": "x",
         "y": [
          7,
          5,
          3,
          17,
          45,
          74,
          226,
          401,
          926,
          609,
          429,
          476,
          1113
         ],
         "yaxis": "y"
        },
        {
         "hovertemplate": "identifier_name=Union List of Artist Names ID (United States of America)<br>decade=%{x}<br>score=%{y}<extra></extra>",
         "legendgroup": "Union List of Artist Names ID (United States of America)",
         "line": {
          "color": "#2CA02C",
          "dash": "solid"
         },
         "marker": {
          "symbol": "circle"
         },
         "mode": "lines",
         "name": "Union List of Artist Names ID (United States of America)",
         "opacity": 0.25,
         "orientation": "v",
         "showlegend": true,
         "type": "scatter",
         "x": [
          1350,
          1400,
          1450,
          1500,
          1550,
          1600,
          1650,
          1700,
          1750,
          1800
         ],
         "xaxis": "x",
         "y": [
          8,
          22,
          47,
          123,
          232,
          946,
          590,
          265,
          404,
          908
         ],
         "yaxis": "y"
        },
        {
         "hovertemplate": "identifier_name=Bibliothèque nationale de France ID (France)<br>decade=%{x}<br>score=%{y}<extra></extra>",
         "legendgroup": "Bibliothèque nationale de France ID (France)",
         "line": {
          "color": "#D62728",
          "dash": "solid"
         },
         "marker": {
          "symbol": "circle"
         },
         "mode": "lines",
         "name": "Bibliothèque nationale de France ID (France)",
         "opacity": 0.25,
         "orientation": "v",
         "showlegend": true,
         "type": "scatter",
         "x": [
          1200,
          1250,
          1300,
          1350,
          1400,
          1450,
          1500,
          1550,
          1600,
          1650,
          1700,
          1750,
          1800
         ],
         "xaxis": "x",
         "y": [
          5,
          5,
          3,
          9,
          28,
          47,
          132,
          256,
          550,
          349,
          209,
          232,
          515
         ],
         "yaxis": "y"
        },
        {
         "hovertemplate": "identifier_name=British Museum person or institution ID (United Kingdom)<br>decade=%{x}<br>score=%{y}<extra></extra>",
         "legendgroup": "British Museum person or institution ID (United Kingdom)",
         "line": {
          "color": "#9467BD",
          "dash": "solid"
         },
         "marker": {
          "symbol": "circle"
         },
         "mode": "lines",
         "name": "British Museum person or institution ID (United Kingdom)",
         "opacity": 0.25,
         "orientation": "v",
         "showlegend": true,
         "type": "scatter",
         "x": [
          1350,
          1400,
          1450,
          1500,
          1550,
          1600,
          1650,
          1700,
          1750,
          1800
         ],
         "xaxis": "x",
         "y": [
          3,
          7,
          17,
          86,
          160,
          504,
          285,
          153,
          168,
          266
         ],
         "yaxis": "y"
        },
        {
         "hovertemplate": "identifier_name=NUKAT ID (Poland)<br>decade=%{x}<br>score=%{y}<extra></extra>",
         "legendgroup": "NUKAT ID (Poland)",
         "line": {
          "color": "#8C564B",
          "dash": "solid"
         },
         "marker": {
          "symbol": "circle"
         },
         "mode": "lines",
         "name": "NUKAT ID (Poland)",
         "opacity": 0.25,
         "orientation": "v",
         "showlegend": true,
         "type": "scatter",
         "x": [
          1200,
          1250,
          1300,
          1350,
          1400,
          1450,
          1500,
          1550,
          1600,
          1650,
          1700,
          1750,
          1800
         ],
         "xaxis": "x",
         "y": [
          4,
          4,
          2,
          8,
          17,
          23,
          109,
          205,
          307,
          199,
          109,
          63,
          272
         ],
         "yaxis": "y"
        },
        {
         "hovertemplate": "identifier_name=National Library of Israel J9U ID (Israel)<br>decade=%{x}<br>score=%{y}<extra></extra>",
         "legendgroup": "National Library of Israel J9U ID (Israel)",
         "line": {
          "color": "#E377C2",
          "dash": "solid"
         },
         "marker": {
          "symbol": "circle"
         },
         "mode": "lines",
         "name": "National Library of Israel J9U ID (Israel)",
         "opacity": 0.25,
         "orientation": "v",
         "showlegend": true,
         "type": "scatter",
         "x": [
          1200,
          1250,
          1300,
          1350,
          1400,
          1450,
          1500,
          1550,
          1600,
          1650,
          1700,
          1750,
          1800
         ],
         "xaxis": "x",
         "y": [
          5,
          4,
          1,
          8,
          23,
          33,
          79,
          146,
          296,
          176,
          120,
          61,
          192
         ],
         "yaxis": "y"
        },
        {
         "hovertemplate": "identifier_name=Dictionnaire des peintres belges ID (Belgium)<br>decade=%{x}<br>score=%{y}<extra></extra>",
         "legendgroup": "Dictionnaire des peintres belges ID (Belgium)",
         "line": {
          "color": "#7F7F7F",
          "dash": "solid"
         },
         "marker": {
          "symbol": "circle"
         },
         "mode": "lines",
         "name": "Dictionnaire des peintres belges ID (Belgium)",
         "opacity": 0.25,
         "orientation": "v",
         "showlegend": true,
         "type": "scatter",
         "x": [
          1350,
          1400,
          1450,
          1500,
          1550,
          1600,
          1650,
          1700,
          1750,
          1800
         ],
         "xaxis": "x",
         "y": [
          5,
          9,
          25,
          66,
          75,
          223,
          140,
          68,
          98,
          426
         ],
         "yaxis": "y"
        },
        {
         "hovertemplate": "identifier_name=Vatican Library VcBA ID (Vatican City)<br>decade=%{x}<br>score=%{y}<extra></extra>",
         "legendgroup": "Vatican Library VcBA ID (Vatican City)",
         "line": {
          "color": "#BCBD22",
          "dash": "solid"
         },
         "marker": {
          "symbol": "circle"
         },
         "mode": "lines",
         "name": "Vatican Library VcBA ID (Vatican City)",
         "opacity": 0.25,
         "orientation": "v",
         "showlegend": true,
         "type": "scatter",
         "x": [
          1200,
          1250,
          1300,
          1350,
          1400,
          1450,
          1500,
          1550,
          1600,
          1650,
          1700,
          1750,
          1800
         ],
         "xaxis": "x",
         "y": [
          4,
          2,
          2,
          9,
          18,
          13,
          100,
          174,
          273,
          173,
          101,
          54,
          210
         ],
         "yaxis": "y"
        },
        {
         "hovertemplate": "identifier_name=Biblioteca Nacional de España ID (Spain)<br>decade=%{x}<br>score=%{y}<extra></extra>",
         "legendgroup": "Biblioteca Nacional de España ID (Spain)",
         "line": {
          "color": "#17BECF",
          "dash": "solid"
         },
         "marker": {
          "symbol": "circle"
         },
         "mode": "lines",
         "name": "Biblioteca Nacional de España ID (Spain)",
         "opacity": 0.25,
         "orientation": "v",
         "showlegend": true,
         "type": "scatter",
         "x": [
          1200,
          1250,
          1300,
          1350,
          1400,
          1450,
          1500,
          1550,
          1600,
          1650,
          1700,
          1750,
          1800
         ],
         "xaxis": "x",
         "y": [
          5,
          3,
          1,
          4,
          12,
          26,
          84,
          196,
          361,
          175,
          85,
          41,
          117
         ],
         "yaxis": "y"
        },
        {
         "hovertemplate": "identifier_name=NKCR AUT ID (Czech Republic)<br>decade=%{x}<br>score=%{y}<extra></extra>",
         "legendgroup": "NKCR AUT ID (Czech Republic)",
         "line": {
          "color": "#1F77B4",
          "dash": "solid"
         },
         "marker": {
          "symbol": "circle"
         },
         "mode": "lines",
         "name": "NKCR AUT ID (Czech Republic)",
         "opacity": 0.25,
         "orientation": "v",
         "showlegend": true,
         "type": "scatter",
         "x": [
          1200,
          1250,
          1350,
          1400,
          1450,
          1500,
          1550,
          1600,
          1650,
          1700,
          1750,
          1800
         ],
         "xaxis": "x",
         "y": [
          4,
          1,
          5,
          17,
          23,
          86,
          161,
          249,
          201,
          143,
          63,
          112
         ],
         "yaxis": "y"
        },
        {
         "hovertemplate": "identifier_name=SELIBR ID (Sweden)<br>decade=%{x}<br>score=%{y}<extra></extra>",
         "legendgroup": "SELIBR ID (Sweden)",
         "line": {
          "color": "#FF7F0E",
          "dash": "solid"
         },
         "marker": {
          "symbol": "circle"
         },
         "mode": "lines",
         "name": "SELIBR ID (Sweden)",
         "opacity": 0.25,
         "orientation": "v",
         "showlegend": true,
         "type": "scatter",
         "x": [
          1200,
          1250,
          1300,
          1350,
          1400,
          1450,
          1500,
          1550,
          1600,
          1650,
          1700,
          1750,
          1800
         ],
         "xaxis": "x",
         "y": [
          3,
          4,
          1,
          5,
          11,
          12,
          61,
          112,
          178,
          115,
          49,
          17,
          52
         ],
         "yaxis": "y"
        },
        {
         "hovertemplate": "identifier_name=Athenaeum person ID (Finland)<br>decade=%{x}<br>score=%{y}<extra></extra>",
         "legendgroup": "Athenaeum person ID (Finland)",
         "line": {
          "color": "#2CA02C",
          "dash": "solid"
         },
         "marker": {
          "symbol": "circle"
         },
         "mode": "lines",
         "name": "Athenaeum person ID (Finland)",
         "opacity": 0.25,
         "orientation": "v",
         "showlegend": true,
         "type": "scatter",
         "x": [
          1350,
          1400,
          1450,
          1500,
          1550,
          1600,
          1650,
          1700,
          1750,
          1800
         ],
         "xaxis": "x",
         "y": [
          4,
          5,
          15,
          28,
          48,
          254,
          94,
          11,
          28,
          131
         ],
         "yaxis": "y"
        },
        {
         "hovertemplate": "identifier_name=Kunstindeks Danmark Artist ID (Denmark)<br>decade=%{x}<br>score=%{y}<extra></extra>",
         "legendgroup": "Kunstindeks Danmark Artist ID (Denmark)",
         "line": {
          "color": "#D62728",
          "dash": "solid"
         },
         "marker": {
          "symbol": "circle"
         },
         "mode": "lines",
         "name": "Kunstindeks Danmark Artist ID (Denmark)",
         "opacity": 0.25,
         "orientation": "v",
         "showlegend": true,
         "type": "scatter",
         "x": [
          1400,
          1450,
          1500,
          1550,
          1600,
          1650,
          1700,
          1750,
          1800
         ],
         "xaxis": "x",
         "y": [
          3,
          10,
          25,
          64,
          298,
          128,
          16,
          11,
          5
         ],
         "yaxis": "y"
        },
        {
         "hovertemplate": "identifier_name=Portuguese National Library author ID (Portugal)<br>decade=%{x}<br>score=%{y}<extra></extra>",
         "legendgroup": "Portuguese National Library author ID (Portugal)",
         "line": {
          "color": "#9467BD",
          "dash": "solid"
         },
         "marker": {
          "symbol": "circle"
         },
         "mode": "lines",
         "name": "Portuguese National Library author ID (Portugal)",
         "opacity": 0.25,
         "orientation": "v",
         "showlegend": true,
         "type": "scatter",
         "x": [
          1200,
          1250,
          1350,
          1400,
          1450,
          1500,
          1550,
          1600,
          1650,
          1700,
          1750,
          1800
         ],
         "xaxis": "x",
         "y": [
          1,
          1,
          3,
          5,
          10,
          54,
          90,
          130,
          102,
          57,
          23,
          71
         ],
         "yaxis": "y"
        },
        {
         "hovertemplate": "identifier_name=DigitaltMuseum ID (Norway)<br>decade=%{x}<br>score=%{y}<extra></extra>",
         "legendgroup": "DigitaltMuseum ID (Norway)",
         "line": {
          "color": "#8C564B",
          "dash": "solid"
         },
         "marker": {
          "symbol": "circle"
         },
         "mode": "lines",
         "name": "DigitaltMuseum ID (Norway)",
         "opacity": 0.25,
         "orientation": "v",
         "showlegend": true,
         "type": "scatter",
         "x": [
          1400,
          1450,
          1500,
          1550,
          1600,
          1650,
          1700,
          1750,
          1800
         ],
         "xaxis": "x",
         "y": [
          3,
          6,
          26,
          59,
          253,
          109,
          28,
          30,
          29
         ],
         "yaxis": "y"
        },
        {
         "hovertemplate": "identifier_name=NLA Trove people ID (Australia)<br>decade=%{x}<br>score=%{y}<extra></extra>",
         "legendgroup": "NLA Trove people ID (Australia)",
         "line": {
          "color": "#E377C2",
          "dash": "solid"
         },
         "marker": {
          "symbol": "circle"
         },
         "mode": "lines",
         "name": "NLA Trove people ID (Australia)",
         "opacity": 0.25,
         "orientation": "v",
         "showlegend": true,
         "type": "scatter",
         "x": [
          1200,
          1300,
          1350,
          1400,
          1450,
          1500,
          1550,
          1600,
          1650,
          1700,
          1750,
          1800
         ],
         "xaxis": "x",
         "y": [
          3,
          1,
          4,
          10,
          10,
          30,
          72,
          114,
          71,
          45,
          29,
          92
         ],
         "yaxis": "y"
        },
        {
         "hovertemplate": "identifier_name=Unione Romana Biblioteche Scientifiche ID (Italy)<br>decade=%{x}<br>score=%{y}<extra></extra>",
         "legendgroup": "Unione Romana Biblioteche Scientifiche ID (Italy)",
         "line": {
          "color": "#7F7F7F",
          "dash": "solid"
         },
         "marker": {
          "symbol": "circle"
         },
         "mode": "lines",
         "name": "Unione Romana Biblioteche Scientifiche ID (Italy)",
         "opacity": 0.25,
         "orientation": "v",
         "showlegend": true,
         "type": "scatter",
         "x": [
          1200,
          1350,
          1400,
          1450,
          1500,
          1550,
          1600,
          1650,
          1700,
          1750,
          1800
         ],
         "xaxis": "x",
         "y": [
          1,
          7,
          8,
          13,
          36,
          54,
          119,
          58,
          32,
          26,
          102
         ],
         "yaxis": "y"
        },
        {
         "hovertemplate": "identifier_name=National Library of Greece ID (Greece)<br>decade=%{x}<br>score=%{y}<extra></extra>",
         "legendgroup": "National Library of Greece ID (Greece)",
         "line": {
          "color": "#BCBD22",
          "dash": "solid"
         },
         "marker": {
          "symbol": "circle"
         },
         "mode": "lines",
         "name": "National Library of Greece ID (Greece)",
         "opacity": 0.25,
         "orientation": "v",
         "showlegend": true,
         "type": "scatter",
         "x": [
          1200,
          1350,
          1400,
          1450,
          1500,
          1550,
          1600,
          1650,
          1700,
          1750,
          1800
         ],
         "xaxis": "x",
         "y": [
          1,
          2,
          4,
          1,
          20,
          39,
          57,
          62,
          46,
          20,
          87
         ],
         "yaxis": "y"
        },
        {
         "hovertemplate": "identifier_name=Web umenia creator ID (Slovakia)<br>decade=%{x}<br>score=%{y}<extra></extra>",
         "legendgroup": "Web umenia creator ID (Slovakia)",
         "line": {
          "color": "#17BECF",
          "dash": "solid"
         },
         "marker": {
          "symbol": "circle"
         },
         "mode": "lines",
         "name": "Web umenia creator ID (Slovakia)",
         "opacity": 0.25,
         "orientation": "v",
         "showlegend": true,
         "type": "scatter",
         "x": [
          1400,
          1450,
          1500,
          1550,
          1600,
          1650,
          1700,
          1750,
          1800
         ],
         "xaxis": "x",
         "y": [
          2,
          6,
          15,
          50,
          157,
          57,
          13,
          6,
          16
         ],
         "yaxis": "y"
        },
        {
         "hovertemplate": "identifier_name=average<br>decade=%{x}<br>score=%{y}<extra></extra>",
         "legendgroup": "average",
         "line": {
          "color": "#1F77B4",
          "dash": "solid",
          "width": 3
         },
         "marker": {
          "symbol": "circle"
         },
         "mode": "lines",
         "name": "average",
         "orientation": "v",
         "showlegend": true,
         "type": "scatter",
         "x": [
          1200,
          1250,
          1300,
          1350,
          1400,
          1450,
          1500,
          1550,
          1600,
          1650,
          1700,
          1750,
          1800
         ],
         "xaxis": "x",
         "y": [
          3.5384615384615383,
          3,
          1.7777777777777777,
          6.470588235294118,
          13.7,
          23.45,
          79.1,
          151.1,
          374.6,
          229.95,
          127.6,
          137.75,
          320.1
         ],
         "yaxis": "y"
        }
       ],
       "layout": {
        "height": 800,
        "legend": {
         "title": {
          "text": "Identifiers"
         }
        },
        "template": {
         "data": {
          "bar": [
           {
            "error_x": {
             "color": "rgb(36,36,36)"
            },
            "error_y": {
             "color": "rgb(36,36,36)"
            },
            "marker": {
             "line": {
              "color": "white",
              "width": 0.5
             },
             "pattern": {
              "fillmode": "overlay",
              "size": 10,
              "solidity": 0.2
             }
            },
            "type": "bar"
           }
          ],
          "barpolar": [
           {
            "marker": {
             "line": {
              "color": "white",
              "width": 0.5
             },
             "pattern": {
              "fillmode": "overlay",
              "size": 10,
              "solidity": 0.2
             }
            },
            "type": "barpolar"
           }
          ],
          "carpet": [
           {
            "aaxis": {
             "endlinecolor": "rgb(36,36,36)",
             "gridcolor": "white",
             "linecolor": "white",
             "minorgridcolor": "white",
             "startlinecolor": "rgb(36,36,36)"
            },
            "baxis": {
             "endlinecolor": "rgb(36,36,36)",
             "gridcolor": "white",
             "linecolor": "white",
             "minorgridcolor": "white",
             "startlinecolor": "rgb(36,36,36)"
            },
            "type": "carpet"
           }
          ],
          "choropleth": [
           {
            "colorbar": {
             "outlinewidth": 1,
             "tickcolor": "rgb(36,36,36)",
             "ticks": "outside"
            },
            "type": "choropleth"
           }
          ],
          "contour": [
           {
            "colorbar": {
             "outlinewidth": 1,
             "tickcolor": "rgb(36,36,36)",
             "ticks": "outside"
            },
            "colorscale": [
             [
              0,
              "#440154"
             ],
             [
              0.1111111111111111,
              "#482878"
             ],
             [
              0.2222222222222222,
              "#3e4989"
             ],
             [
              0.3333333333333333,
              "#31688e"
             ],
             [
              0.4444444444444444,
              "#26828e"
             ],
             [
              0.5555555555555556,
              "#1f9e89"
             ],
             [
              0.6666666666666666,
              "#35b779"
             ],
             [
              0.7777777777777778,
              "#6ece58"
             ],
             [
              0.8888888888888888,
              "#b5de2b"
             ],
             [
              1,
              "#fde725"
             ]
            ],
            "type": "contour"
           }
          ],
          "contourcarpet": [
           {
            "colorbar": {
             "outlinewidth": 1,
             "tickcolor": "rgb(36,36,36)",
             "ticks": "outside"
            },
            "type": "contourcarpet"
           }
          ],
          "heatmap": [
           {
            "colorbar": {
             "outlinewidth": 1,
             "tickcolor": "rgb(36,36,36)",
             "ticks": "outside"
            },
            "colorscale": [
             [
              0,
              "#440154"
             ],
             [
              0.1111111111111111,
              "#482878"
             ],
             [
              0.2222222222222222,
              "#3e4989"
             ],
             [
              0.3333333333333333,
              "#31688e"
             ],
             [
              0.4444444444444444,
              "#26828e"
             ],
             [
              0.5555555555555556,
              "#1f9e89"
             ],
             [
              0.6666666666666666,
              "#35b779"
             ],
             [
              0.7777777777777778,
              "#6ece58"
             ],
             [
              0.8888888888888888,
              "#b5de2b"
             ],
             [
              1,
              "#fde725"
             ]
            ],
            "type": "heatmap"
           }
          ],
          "heatmapgl": [
           {
            "colorbar": {
             "outlinewidth": 1,
             "tickcolor": "rgb(36,36,36)",
             "ticks": "outside"
            },
            "colorscale": [
             [
              0,
              "#440154"
             ],
             [
              0.1111111111111111,
              "#482878"
             ],
             [
              0.2222222222222222,
              "#3e4989"
             ],
             [
              0.3333333333333333,
              "#31688e"
             ],
             [
              0.4444444444444444,
              "#26828e"
             ],
             [
              0.5555555555555556,
              "#1f9e89"
             ],
             [
              0.6666666666666666,
              "#35b779"
             ],
             [
              0.7777777777777778,
              "#6ece58"
             ],
             [
              0.8888888888888888,
              "#b5de2b"
             ],
             [
              1,
              "#fde725"
             ]
            ],
            "type": "heatmapgl"
           }
          ],
          "histogram": [
           {
            "marker": {
             "line": {
              "color": "white",
              "width": 0.6
             }
            },
            "type": "histogram"
           }
          ],
          "histogram2d": [
           {
            "colorbar": {
             "outlinewidth": 1,
             "tickcolor": "rgb(36,36,36)",
             "ticks": "outside"
            },
            "colorscale": [
             [
              0,
              "#440154"
             ],
             [
              0.1111111111111111,
              "#482878"
             ],
             [
              0.2222222222222222,
              "#3e4989"
             ],
             [
              0.3333333333333333,
              "#31688e"
             ],
             [
              0.4444444444444444,
              "#26828e"
             ],
             [
              0.5555555555555556,
              "#1f9e89"
             ],
             [
              0.6666666666666666,
              "#35b779"
             ],
             [
              0.7777777777777778,
              "#6ece58"
             ],
             [
              0.8888888888888888,
              "#b5de2b"
             ],
             [
              1,
              "#fde725"
             ]
            ],
            "type": "histogram2d"
           }
          ],
          "histogram2dcontour": [
           {
            "colorbar": {
             "outlinewidth": 1,
             "tickcolor": "rgb(36,36,36)",
             "ticks": "outside"
            },
            "colorscale": [
             [
              0,
              "#440154"
             ],
             [
              0.1111111111111111,
              "#482878"
             ],
             [
              0.2222222222222222,
              "#3e4989"
             ],
             [
              0.3333333333333333,
              "#31688e"
             ],
             [
              0.4444444444444444,
              "#26828e"
             ],
             [
              0.5555555555555556,
              "#1f9e89"
             ],
             [
              0.6666666666666666,
              "#35b779"
             ],
             [
              0.7777777777777778,
              "#6ece58"
             ],
             [
              0.8888888888888888,
              "#b5de2b"
             ],
             [
              1,
              "#fde725"
             ]
            ],
            "type": "histogram2dcontour"
           }
          ],
          "mesh3d": [
           {
            "colorbar": {
             "outlinewidth": 1,
             "tickcolor": "rgb(36,36,36)",
             "ticks": "outside"
            },
            "type": "mesh3d"
           }
          ],
          "parcoords": [
           {
            "line": {
             "colorbar": {
              "outlinewidth": 1,
              "tickcolor": "rgb(36,36,36)",
              "ticks": "outside"
             }
            },
            "type": "parcoords"
           }
          ],
          "pie": [
           {
            "automargin": true,
            "type": "pie"
           }
          ],
          "scatter": [
           {
            "fillpattern": {
             "fillmode": "overlay",
             "size": 10,
             "solidity": 0.2
            },
            "type": "scatter"
           }
          ],
          "scatter3d": [
           {
            "line": {
             "colorbar": {
              "outlinewidth": 1,
              "tickcolor": "rgb(36,36,36)",
              "ticks": "outside"
             }
            },
            "marker": {
             "colorbar": {
              "outlinewidth": 1,
              "tickcolor": "rgb(36,36,36)",
              "ticks": "outside"
             }
            },
            "type": "scatter3d"
           }
          ],
          "scattercarpet": [
           {
            "marker": {
             "colorbar": {
              "outlinewidth": 1,
              "tickcolor": "rgb(36,36,36)",
              "ticks": "outside"
             }
            },
            "type": "scattercarpet"
           }
          ],
          "scattergeo": [
           {
            "marker": {
             "colorbar": {
              "outlinewidth": 1,
              "tickcolor": "rgb(36,36,36)",
              "ticks": "outside"
             }
            },
            "type": "scattergeo"
           }
          ],
          "scattergl": [
           {
            "marker": {
             "colorbar": {
              "outlinewidth": 1,
              "tickcolor": "rgb(36,36,36)",
              "ticks": "outside"
             }
            },
            "type": "scattergl"
           }
          ],
          "scattermapbox": [
           {
            "marker": {
             "colorbar": {
              "outlinewidth": 1,
              "tickcolor": "rgb(36,36,36)",
              "ticks": "outside"
             }
            },
            "type": "scattermapbox"
           }
          ],
          "scatterpolar": [
           {
            "marker": {
             "colorbar": {
              "outlinewidth": 1,
              "tickcolor": "rgb(36,36,36)",
              "ticks": "outside"
             }
            },
            "type": "scatterpolar"
           }
          ],
          "scatterpolargl": [
           {
            "marker": {
             "colorbar": {
              "outlinewidth": 1,
              "tickcolor": "rgb(36,36,36)",
              "ticks": "outside"
             }
            },
            "type": "scatterpolargl"
           }
          ],
          "scatterternary": [
           {
            "marker": {
             "colorbar": {
              "outlinewidth": 1,
              "tickcolor": "rgb(36,36,36)",
              "ticks": "outside"
             }
            },
            "type": "scatterternary"
           }
          ],
          "surface": [
           {
            "colorbar": {
             "outlinewidth": 1,
             "tickcolor": "rgb(36,36,36)",
             "ticks": "outside"
            },
            "colorscale": [
             [
              0,
              "#440154"
             ],
             [
              0.1111111111111111,
              "#482878"
             ],
             [
              0.2222222222222222,
              "#3e4989"
             ],
             [
              0.3333333333333333,
              "#31688e"
             ],
             [
              0.4444444444444444,
              "#26828e"
             ],
             [
              0.5555555555555556,
              "#1f9e89"
             ],
             [
              0.6666666666666666,
              "#35b779"
             ],
             [
              0.7777777777777778,
              "#6ece58"
             ],
             [
              0.8888888888888888,
              "#b5de2b"
             ],
             [
              1,
              "#fde725"
             ]
            ],
            "type": "surface"
           }
          ],
          "table": [
           {
            "cells": {
             "fill": {
              "color": "rgb(237,237,237)"
             },
             "line": {
              "color": "white"
             }
            },
            "header": {
             "fill": {
              "color": "rgb(217,217,217)"
             },
             "line": {
              "color": "white"
             }
            },
            "type": "table"
           }
          ]
         },
         "layout": {
          "annotationdefaults": {
           "arrowhead": 0,
           "arrowwidth": 1
          },
          "autotypenumbers": "strict",
          "coloraxis": {
           "colorbar": {
            "outlinewidth": 1,
            "tickcolor": "rgb(36,36,36)",
            "ticks": "outside"
           }
          },
          "colorscale": {
           "diverging": [
            [
             0,
             "rgb(103,0,31)"
            ],
            [
             0.1,
             "rgb(178,24,43)"
            ],
            [
             0.2,
             "rgb(214,96,77)"
            ],
            [
             0.3,
             "rgb(244,165,130)"
            ],
            [
             0.4,
             "rgb(253,219,199)"
            ],
            [
             0.5,
             "rgb(247,247,247)"
            ],
            [
             0.6,
             "rgb(209,229,240)"
            ],
            [
             0.7,
             "rgb(146,197,222)"
            ],
            [
             0.8,
             "rgb(67,147,195)"
            ],
            [
             0.9,
             "rgb(33,102,172)"
            ],
            [
             1,
             "rgb(5,48,97)"
            ]
           ],
           "sequential": [
            [
             0,
             "#440154"
            ],
            [
             0.1111111111111111,
             "#482878"
            ],
            [
             0.2222222222222222,
             "#3e4989"
            ],
            [
             0.3333333333333333,
             "#31688e"
            ],
            [
             0.4444444444444444,
             "#26828e"
            ],
            [
             0.5555555555555556,
             "#1f9e89"
            ],
            [
             0.6666666666666666,
             "#35b779"
            ],
            [
             0.7777777777777778,
             "#6ece58"
            ],
            [
             0.8888888888888888,
             "#b5de2b"
            ],
            [
             1,
             "#fde725"
            ]
           ],
           "sequentialminus": [
            [
             0,
             "#440154"
            ],
            [
             0.1111111111111111,
             "#482878"
            ],
            [
             0.2222222222222222,
             "#3e4989"
            ],
            [
             0.3333333333333333,
             "#31688e"
            ],
            [
             0.4444444444444444,
             "#26828e"
            ],
            [
             0.5555555555555556,
             "#1f9e89"
            ],
            [
             0.6666666666666666,
             "#35b779"
            ],
            [
             0.7777777777777778,
             "#6ece58"
            ],
            [
             0.8888888888888888,
             "#b5de2b"
            ],
            [
             1,
             "#fde725"
            ]
           ]
          },
          "colorway": [
           "#1F77B4",
           "#FF7F0E",
           "#2CA02C",
           "#D62728",
           "#9467BD",
           "#8C564B",
           "#E377C2",
           "#7F7F7F",
           "#BCBD22",
           "#17BECF"
          ],
          "font": {
           "color": "rgb(36,36,36)"
          },
          "geo": {
           "bgcolor": "white",
           "lakecolor": "white",
           "landcolor": "white",
           "showlakes": true,
           "showland": true,
           "subunitcolor": "white"
          },
          "hoverlabel": {
           "align": "left"
          },
          "hovermode": "closest",
          "mapbox": {
           "style": "light"
          },
          "paper_bgcolor": "white",
          "plot_bgcolor": "white",
          "polar": {
           "angularaxis": {
            "gridcolor": "rgb(232,232,232)",
            "linecolor": "rgb(36,36,36)",
            "showgrid": false,
            "showline": true,
            "ticks": "outside"
           },
           "bgcolor": "white",
           "radialaxis": {
            "gridcolor": "rgb(232,232,232)",
            "linecolor": "rgb(36,36,36)",
            "showgrid": false,
            "showline": true,
            "ticks": "outside"
           }
          },
          "scene": {
           "xaxis": {
            "backgroundcolor": "white",
            "gridcolor": "rgb(232,232,232)",
            "gridwidth": 2,
            "linecolor": "rgb(36,36,36)",
            "showbackground": true,
            "showgrid": false,
            "showline": true,
            "ticks": "outside",
            "zeroline": false,
            "zerolinecolor": "rgb(36,36,36)"
           },
           "yaxis": {
            "backgroundcolor": "white",
            "gridcolor": "rgb(232,232,232)",
            "gridwidth": 2,
            "linecolor": "rgb(36,36,36)",
            "showbackground": true,
            "showgrid": false,
            "showline": true,
            "ticks": "outside",
            "zeroline": false,
            "zerolinecolor": "rgb(36,36,36)"
           },
           "zaxis": {
            "backgroundcolor": "white",
            "gridcolor": "rgb(232,232,232)",
            "gridwidth": 2,
            "linecolor": "rgb(36,36,36)",
            "showbackground": true,
            "showgrid": false,
            "showline": true,
            "ticks": "outside",
            "zeroline": false,
            "zerolinecolor": "rgb(36,36,36)"
           }
          },
          "shapedefaults": {
           "fillcolor": "black",
           "line": {
            "width": 0
           },
           "opacity": 0.3
          },
          "ternary": {
           "aaxis": {
            "gridcolor": "rgb(232,232,232)",
            "linecolor": "rgb(36,36,36)",
            "showgrid": false,
            "showline": true,
            "ticks": "outside"
           },
           "baxis": {
            "gridcolor": "rgb(232,232,232)",
            "linecolor": "rgb(36,36,36)",
            "showgrid": false,
            "showline": true,
            "ticks": "outside"
           },
           "bgcolor": "white",
           "caxis": {
            "gridcolor": "rgb(232,232,232)",
            "linecolor": "rgb(36,36,36)",
            "showgrid": false,
            "showline": true,
            "ticks": "outside"
           }
          },
          "title": {
           "x": 0.05
          },
          "xaxis": {
           "automargin": true,
           "gridcolor": "rgb(232,232,232)",
           "linecolor": "rgb(36,36,36)",
           "showgrid": false,
           "showline": true,
           "ticks": "outside",
           "title": {
            "standoff": 15
           },
           "zeroline": false,
           "zerolinecolor": "rgb(36,36,36)"
          },
          "yaxis": {
           "automargin": true,
           "gridcolor": "rgb(232,232,232)",
           "linecolor": "rgb(36,36,36)",
           "showgrid": false,
           "showline": true,
           "ticks": "outside",
           "title": {
            "standoff": 15
           },
           "zeroline": false,
           "zerolinecolor": "rgb(36,36,36)"
          }
         }
        },
        "title": {
         "text": "Low countries"
        },
        "width": 1300,
        "xaxis": {
         "dtick": 100,
         "title": {
          "text": ""
         }
        },
        "yaxis": {
         "title": {
          "text": "Number of Individuals"
         }
        }
       }
      }
     },
     "metadata": {},
     "output_type": "display_data"
    }
   ],
   "source": [
    "fig, df_fig_low_countries = make_figure(df_fig_fifty, region_name = 'Low countries', min_decade = 1200, max_decade = 1800, top_identifiers = 20,\n",
    "                  one_id_country = True)\n",
    "\n",
    "fig.write_image(f\"figures/low_countries_identifiers.png\", scale=7)\n",
    "fig.show()"
   ]
  },
  {
   "cell_type": "code",
   "execution_count": null,
   "metadata": {},
   "outputs": [
    {
     "data": {
      "text/plain": [
       "0.8889329746744962"
      ]
     },
     "execution_count": 17,
     "metadata": {},
     "output_type": "execute_result"
    }
   ],
   "source": [
    "df_corr = df_fig_italy.pivot(index ='decade', columns = 'identifier_name', values = 'score')\n",
    "df_corr = df_corr.fillna(0)\n",
    "df_corr.corr().stack().mean()"
   ]
  },
  {
   "cell_type": "code",
   "execution_count": null,
   "id": "56de0b81-3f73-4d15-a335-3ed6585bcd92",
   "metadata": {
    "tags": []
   },
   "outputs": [],
   "source": []
  },
  {
   "cell_type": "code",
   "execution_count": 25,
   "id": "98f39a54-daaa-4e21-8717-06a729ce29c4",
   "metadata": {},
   "outputs": [],
   "source": [
    "import matplotlib.pyplot as plt\n",
    "import pandas as pd\n",
    "import numpy as np\n",
    "import statsmodels.api as sm\n",
    "\n",
    "def make_figure(df_graph_bis, region_name, min_decade=-500, max_decade=1800, top_identifiers=5, one_id_country=False):\n",
    "    df_fig = df_graph_bis[df_graph_bis['region_name'] == region_name]\n",
    "    df_fig = df_fig[(df_fig['decade'] <= max_decade) & (df_fig['decade'] >= min_decade)]\n",
    "    \n",
    "    if one_id_country:\n",
    "        df_fig = df_fig[df_fig['country_name'] != '']\n",
    "        one_id_country = df_fig.groupby(['country_name', 'identifier_name'])['score'].sum().reset_index()\n",
    "        one_id_country = one_id_country.sort_values(['country_name', 'score'], ascending=(False, False))\n",
    "        one_id_country = one_id_country.groupby('country_name').head(1)\n",
    "        one_id_country = list(one_id_country['identifier_name'])\n",
    "        df_fig = df_fig[df_fig['identifier_name'].isin(one_id_country)]\n",
    "    \n",
    "    top_ids = df_fig.groupby('identifier_name')['score'].sum().reset_index().sort_values('score', ascending=False)\n",
    "    top_ids = list(top_ids['identifier_name'][:top_identifiers])\n",
    "    df_fig = df_fig[df_fig['identifier_name'].isin(top_ids)]\n",
    "    \n",
    "    df_fig_mean = df_fig.groupby('decade')['score'].mean().reset_index()\n",
    "    df_fig_mean['identifier_name'] = 'average'\n",
    "\n",
    "    plt.figure(figsize=(9, 7))\n",
    "\n",
    "\n",
    "    # Plot LOWESS regression for each top identifier with alpha\n",
    "    for identifier in top_ids:\n",
    "        subset = df_fig[df_fig['identifier_name'] == identifier]\n",
    "        lowess = sm.nonparametric.lowess(subset['score'], subset['decade'], frac=0.15)\n",
    "        plt.plot(lowess[:, 0], lowess[:, 1], label=identifier, linewidth=2, alpha=0.25)\n",
    "\n",
    "    # Calculate and plot LOWESS for the average score without alpha\n",
    "    lowess_mean = sm.nonparametric.lowess(df_fig_mean['score'], df_fig_mean['decade'], frac=0.15)\n",
    "    plt.plot(lowess_mean[:, 0], lowess_mean[:, 1], label='average', linewidth=3, color='black')\n",
    "\n",
    "    # Set the title and labels\n",
    "    plt.title(region_name, fontsize=20)\n",
    "    plt.xlabel('', fontsize=20)\n",
    "    plt.ylabel('Log Number of CPs', fontsize=20)\n",
    "    \n",
    "    # Set the scale, limits, and ticks\n",
    "    plt.yscale('log')\n",
    "    plt.xticks(np.arange(min_decade, max_decade + 1, 500), fontsize=20)\n",
    "    plt.yticks(fontsize=20)\n",
    "    plt.xlim(min_decade, max_decade)\n",
    "    \n",
    "    # Add the legend and grid\n",
    "    plt.legend(title='', fontsize=10, title_fontsize=15)\n",
    "    plt.grid(False)\n",
    "\n",
    "    # Save the figure\n",
    "    plt.savefig(f\"figures/{region_name.lower()}_identifiers.png\", dpi=300)\n",
    "    \n",
    "    plt.show()\n",
    "\n",
    "    return df_fig\n",
    "\n",
    "# Example usage:\n",
    "# Assuming df_fig_fifty is already defined and contains the data\n"
   ]
  },
  {
   "cell_type": "code",
   "execution_count": 30,
   "id": "3bb53a2e",
   "metadata": {},
   "outputs": [
    {
     "data": {
      "image/png": "[encoded data removed]",
      "text/plain": [
       "<Figure size 900x700 with 1 Axes>"
      ]
     },
     "metadata": {},
     "output_type": "display_data"
    }
   ],
   "source": [
    "\n",
    "region_name = 'Chinese world'\n",
    "\n",
    "df_fig_china = make_figure(df_fig_fifty,\n",
    "            region_name=region_name,\n",
    "            min_decade=-800,\n",
    "            max_decade=1800,\n",
    "            top_identifiers=5,\n",
    "            one_id_country=False)\n"
   ]
  },
  {
   "cell_type": "code",
   "execution_count": 24,
   "id": "57e59b9e",
   "metadata": {},
   "outputs": [
    {
     "data": {
      "text/plain": [
       "(Figure({\n",
       "     'data': [{'hovertemplate': ('identifier_name=CBDB ID (Unite' ... '}<br>score=%{y}<extra></extra>'),\n",
       "               'legendgroup': 'CBDB ID (United States of America)',\n",
       "               'line': {'color': '#1F77B4', 'dash': 'solid'},\n",
       "               'marker': {'symbol': 'circle'},\n",
       "               'mode': 'lines',\n",
       "               'name': 'CBDB ID (United States of America)',\n",
       "               'opacity': 0.25,\n",
       "               'orientation': 'v',\n",
       "               'showlegend': True,\n",
       "               'type': 'scatter',\n",
       "               'x': array([-250, -200, -150,  -50,    0,   50,  100,  150,  200,  250,  300,  350,\n",
       "                            400,  450,  500,  550,  600,  650,  700,  750,  800,  850,  900,  950,\n",
       "                           1000, 1050, 1100, 1150, 1200, 1250, 1300, 1350, 1400, 1450, 1500, 1550,\n",
       "                           1600, 1650, 1700, 1750, 1800]),\n",
       "               'xaxis': 'x',\n",
       "               'y': array([  1,   3,   5,   1,   2,   5,   1,  12,   9,   5,   5,   3,   2,   6,\n",
       "                             2,  11,  17,  12,  32,  27,  18,  17,  17,  12,  21,  18,  17,  17,\n",
       "                            21,  59,  49,  62,  34,  50,  75,  51, 207, 179, 117, 218, 198]),\n",
       "               'yaxis': 'y'},\n",
       "              {'hovertemplate': ('identifier_name=ctext data ent' ... '}<br>score=%{y}<extra></extra>'),\n",
       "               'legendgroup': \"ctext data entity ID (People's Republic of China)\",\n",
       "               'line': {'color': '#FF7F0E', 'dash': 'solid'},\n",
       "               'marker': {'symbol': 'circle'},\n",
       "               'mode': 'lines',\n",
       "               'name': \"ctext data entity ID (People's Republic of China)\",\n",
       "               'opacity': 0.25,\n",
       "               'orientation': 'v',\n",
       "               'showlegend': True,\n",
       "               'type': 'scatter',\n",
       "               'x': array([-500, -400, -350, -300, -250, -200, -150,  -50,    0,   50,  100,  150,\n",
       "                            200,  250,  300,  350,  400,  450,  500,  550,  600,  650,  700,  750,\n",
       "                            800,  850,  900,  950, 1000, 1050, 1100, 1150, 1200, 1250, 1300, 1350,\n",
       "                           1400, 1450, 1500, 1550, 1600, 1650, 1700, 1750, 1800]),\n",
       "               'xaxis': 'x',\n",
       "               'y': array([  1,   1,   1,   1,   3,   1,   4,   6,   2,   7,   4,  16,  20,  16,\n",
       "                            10,   6,   3,   5,   3,  10,  11,   6,  19,  19,  12,  14,  12,  12,\n",
       "                            21,  18,  15,  14,  13,  38,  35,  40,  19,  26,  55,  41, 135, 120,\n",
       "                            84, 129,  93]),\n",
       "               'yaxis': 'y'},\n",
       "              {'hovertemplate': 'identifier_name=GND ID (Germany)<br>decade=%{x}<br>score=%{y}<extra></extra>',\n",
       "               'legendgroup': 'GND ID (Germany)',\n",
       "               'line': {'color': '#2CA02C', 'dash': 'solid'},\n",
       "               'marker': {'symbol': 'circle'},\n",
       "               'mode': 'lines',\n",
       "               'name': 'GND ID (Germany)',\n",
       "               'opacity': 0.25,\n",
       "               'orientation': 'v',\n",
       "               'showlegend': True,\n",
       "               'type': 'scatter',\n",
       "               'x': array([-500, -450, -400, -350, -300, -250, -200, -150,  -50,    0,   50,  100,\n",
       "                            150,  200,  250,  300,  350,  400,  450,  500,  550,  600,  650,  700,\n",
       "                            750,  800,  850,  900,  950, 1000, 1050, 1100, 1150, 1200, 1250, 1300,\n",
       "                           1350, 1400, 1450, 1500, 1550, 1600, 1650, 1700, 1750, 1800]),\n",
       "               'xaxis': 'x',\n",
       "               'y': array([ 1,  1,  3,  2,  3,  2,  2,  5,  5,  2,  7,  2,  6, 10,  8,  4,  9,  6,\n",
       "                            6,  4,  8, 11,  8, 16, 12, 10, 11,  5,  5, 22, 18, 14, 10, 12, 34, 16,\n",
       "                           18, 10, 19, 25, 35, 91, 66, 56, 55, 70]),\n",
       "               'yaxis': 'y'},\n",
       "              {'hovertemplate': ('identifier_name=Academia Sinic' ... '}<br>score=%{y}<extra></extra>'),\n",
       "               'legendgroup': 'Academia Sinica authority ID (Taiwan)',\n",
       "               'line': {'color': '#D62728', 'dash': 'solid'},\n",
       "               'marker': {'symbol': 'circle'},\n",
       "               'mode': 'lines',\n",
       "               'name': 'Academia Sinica authority ID (Taiwan)',\n",
       "               'opacity': 0.25,\n",
       "               'orientation': 'v',\n",
       "               'showlegend': True,\n",
       "               'type': 'scatter',\n",
       "               'x': array([-150,  150,  200,  300,  350,  450,  550,  600,  750,  800,  950, 1000,\n",
       "                           1050, 1100, 1150, 1250, 1300, 1350, 1400, 1450, 1500, 1550, 1600, 1650,\n",
       "                           1700, 1750, 1800]),\n",
       "               'xaxis': 'x',\n",
       "               'y': array([  2,   2,   2,   1,   1,   1,   1,   1,   5,   1,   1,   4,   4,   3,\n",
       "                             2,   4,  26,  40,  20,  32,  43,  35, 121,  94,  71, 102,  64]),\n",
       "               'yaxis': 'y'},\n",
       "              {'hovertemplate': ('identifier_name=NLA Trove peop' ... '}<br>score=%{y}<extra></extra>'),\n",
       "               'legendgroup': 'NLA Trove people ID (Australia)',\n",
       "               'line': {'color': '#9467BD', 'dash': 'solid'},\n",
       "               'marker': {'symbol': 'circle'},\n",
       "               'mode': 'lines',\n",
       "               'name': 'NLA Trove people ID (Australia)',\n",
       "               'opacity': 0.25,\n",
       "               'orientation': 'v',\n",
       "               'showlegend': True,\n",
       "               'type': 'scatter',\n",
       "               'x': array([-500, -400, -350, -250, -150,  -50,    0,   50,  100,  150,  200,  250,\n",
       "                            300,  350,  400,  450,  500,  550,  600,  650,  700,  750,  800,  850,\n",
       "                            900,  950, 1000, 1050, 1100, 1150, 1200, 1250, 1300, 1350, 1400, 1450,\n",
       "                           1500, 1550, 1600, 1650, 1700, 1750, 1800]),\n",
       "               'xaxis': 'x',\n",
       "               'y': array([ 1,  2,  2,  2,  4,  2,  2,  5,  2,  5,  5,  7,  4,  8,  6,  4,  2,  8,\n",
       "                            9,  5, 19, 13,  6,  5,  7,  8, 17, 19, 12,  9,  6, 24, 16, 21, 13, 19,\n",
       "                           37, 35, 85, 52, 52, 58, 61]),\n",
       "               'yaxis': 'y'},\n",
       "              {'hovertemplate': 'identifier_name=average<br>decade=%{x}<br>score=%{y}<extra></extra>',\n",
       "               'legendgroup': 'average',\n",
       "               'line': {'color': '#1F77B4', 'dash': 'solid', 'width': 3},\n",
       "               'marker': {'symbol': 'circle'},\n",
       "               'mode': 'lines',\n",
       "               'name': 'average',\n",
       "               'orientation': 'v',\n",
       "               'showlegend': True,\n",
       "               'type': 'scatter',\n",
       "               'x': array([-500, -450, -400, -350, -300, -250, -200, -150,  -50,    0,   50,  100,\n",
       "                            150,  200,  250,  300,  350,  400,  450,  500,  550,  600,  650,  700,\n",
       "                            750,  800,  850,  900,  950, 1000, 1050, 1100, 1150, 1200, 1250, 1300,\n",
       "                           1350, 1400, 1450, 1500, 1550, 1600, 1650, 1700, 1750, 1800]),\n",
       "               'xaxis': 'x',\n",
       "               'y': array([  1.        ,   1.        ,   2.        ,   1.66666667,   2.        ,\n",
       "                             2.        ,   2.        ,   4.        ,   3.5       ,   2.        ,\n",
       "                             6.        ,   2.25      ,   8.2       ,   9.2       ,   9.        ,\n",
       "                             4.8       ,   5.4       ,   4.25      ,   4.4       ,   2.75      ,\n",
       "                             7.6       ,   9.8       ,   7.75      ,  21.5       ,  15.2       ,\n",
       "                             9.4       ,  11.75      ,  10.25      ,   7.6       ,  17.        ,\n",
       "                            15.4       ,  12.2       ,  10.4       ,  13.        ,  31.8       ,\n",
       "                            28.4       ,  36.2       ,  19.2       ,  29.2       ,  47.        ,\n",
       "                            39.4       , 127.8       , 102.2       ,  76.        , 112.4       ,\n",
       "                            97.2       ]),\n",
       "               'yaxis': 'y'}],\n",
       "     'layout': {'height': 800,\n",
       "                'legend': {'title': {'text': 'Identifiers'}},\n",
       "                'template': '...',\n",
       "                'title': {'text': 'Chinese world'},\n",
       "                'width': 1300,\n",
       "                'xaxis': {'dtick': 100, 'title': {'text': ''}},\n",
       "                'yaxis': {'title': {'text': 'Number of Individuals'}}}\n",
       " }),\n",
       "                                           identifier_name  \\\n",
       " 3095                Academia Sinica authority ID (Taiwan)   \n",
       " 3096                Academia Sinica authority ID (Taiwan)   \n",
       " 3097                Academia Sinica authority ID (Taiwan)   \n",
       " 3098                Academia Sinica authority ID (Taiwan)   \n",
       " 3099                Academia Sinica authority ID (Taiwan)   \n",
       " ...                                                   ...   \n",
       " 244115  ctext data entity ID (People's Republic of China)   \n",
       " 244116  ctext data entity ID (People's Republic of China)   \n",
       " 244117  ctext data entity ID (People's Republic of China)   \n",
       " 244118  ctext data entity ID (People's Republic of China)   \n",
       " 244119  ctext data entity ID (People's Republic of China)   \n",
       " \n",
       "                       country_name    region_name  decade  score  \n",
       " 3095                        Taiwan  Chinese world    -150      2  \n",
       " 3096                        Taiwan  Chinese world     150      2  \n",
       " 3097                        Taiwan  Chinese world     200      2  \n",
       " 3098                        Taiwan  Chinese world     300      1  \n",
       " 3099                        Taiwan  Chinese world     350      1  \n",
       " ...                            ...            ...     ...    ...  \n",
       " 244115  People's Republic of China  Chinese world    1600    135  \n",
       " 244116  People's Republic of China  Chinese world    1650    120  \n",
       " 244117  People's Republic of China  Chinese world    1700     84  \n",
       " 244118  People's Republic of China  Chinese world    1750    129  \n",
       " 244119  People's Republic of China  Chinese world    1800     93  \n",
       " \n",
       " [202 rows x 5 columns])"
      ]
     },
     "execution_count": 24,
     "metadata": {},
     "output_type": "execute_result"
    }
   ],
   "source": [
    "df_fig_china"
   ]
  },
  {
   "cell_type": "code",
   "execution_count": 19,
   "id": "52680209",
   "metadata": {},
   "outputs": [
    {
     "ename": "AttributeError",
     "evalue": "'tuple' object has no attribute 'pivot'",
     "output_type": "error",
     "traceback": [
      "\u001b[0;31m---------------------------------------------------------------------------\u001b[0m",
      "\u001b[0;31mAttributeError\u001b[0m                            Traceback (most recent call last)",
      "Cell \u001b[0;32mIn[19], line 11\u001b[0m\n\u001b[1;32m      1\u001b[0m region_name \u001b[38;5;241m=\u001b[39m \u001b[38;5;124m'\u001b[39m\u001b[38;5;124mChinese world\u001b[39m\u001b[38;5;124m'\u001b[39m\n\u001b[1;32m      3\u001b[0m df_fig_china \u001b[38;5;241m=\u001b[39m make_figure(df_fig_fifty,\n\u001b[1;32m      4\u001b[0m             region_name\u001b[38;5;241m=\u001b[39mregion_name,\n\u001b[1;32m      5\u001b[0m             min_decade\u001b[38;5;241m=\u001b[39m\u001b[38;5;241m-\u001b[39m\u001b[38;5;241m500\u001b[39m,\n\u001b[1;32m      6\u001b[0m             max_decade\u001b[38;5;241m=\u001b[39m\u001b[38;5;241m1800\u001b[39m,\n\u001b[1;32m      7\u001b[0m             top_identifiers\u001b[38;5;241m=\u001b[39m\u001b[38;5;241m5\u001b[39m,\n\u001b[1;32m      8\u001b[0m             one_id_country\u001b[38;5;241m=\u001b[39m\u001b[38;5;28;01mTrue\u001b[39;00m)\n\u001b[0;32m---> 11\u001b[0m df_corr \u001b[38;5;241m=\u001b[39m \u001b[43mdf_fig_china\u001b[49m\u001b[38;5;241;43m.\u001b[39;49m\u001b[43mpivot\u001b[49m(index \u001b[38;5;241m=\u001b[39m\u001b[38;5;124m'\u001b[39m\u001b[38;5;124mdecade\u001b[39m\u001b[38;5;124m'\u001b[39m, columns \u001b[38;5;241m=\u001b[39m \u001b[38;5;124m'\u001b[39m\u001b[38;5;124midentifier_name\u001b[39m\u001b[38;5;124m'\u001b[39m, values \u001b[38;5;241m=\u001b[39m \u001b[38;5;124m'\u001b[39m\u001b[38;5;124mscore\u001b[39m\u001b[38;5;124m'\u001b[39m)\n\u001b[1;32m     12\u001b[0m df_corr \u001b[38;5;241m=\u001b[39m df_corr\u001b[38;5;241m.\u001b[39mfillna(\u001b[38;5;241m0\u001b[39m)\n\u001b[1;32m     13\u001b[0m df_corr\u001b[38;5;241m.\u001b[39mcorr()\u001b[38;5;241m.\u001b[39mstack()\u001b[38;5;241m.\u001b[39mmean()\n",
      "\u001b[0;31mAttributeError\u001b[0m: 'tuple' object has no attribute 'pivot'"
     ]
    }
   ],
   "source": [
    "\n",
    "\n",
    "df_corr = df_fig_china.pivot(index ='decade', columns = 'identifier_name', values = 'score')\n",
    "df_corr = df_corr.fillna(0)\n",
    "df_corr.corr().stack().mean()\n",
    "\n"
   ]
  },
  {
   "cell_type": "code",
   "execution_count": null,
   "id": "f1747775-37b4-4fb9-9df3-ee9ea8ede6c3",
   "metadata": {},
   "outputs": [],
   "source": []
  }
 ],
 "metadata": {
  "kernelspec": {
   "display_name": "Python 3 (ipykernel)",
   "language": "python",
   "name": "python3"
  },
  "language_info": {
   "codemirror_mode": {
    "name": "ipython",
    "version": 3
   },
   "file_extension": ".py",
   "mimetype": "text/x-python",
   "name": "python",
   "nbconvert_exporter": "python",
   "pygments_lexer": "ipython3",
   "version": "3.11.7"
  }
 },
 "nbformat": 4,
 "nbformat_minor": 5
}
