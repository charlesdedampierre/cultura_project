{
 "cells": [
  {
   "cell_type": "code",
   "execution_count": 2,
   "id": "cc1436b3-f7be-4e65-9857-acc83c112b1a",
   "metadata": {
    "tags": []
   },
   "outputs": [],
   "source": [
    "import sqlite3\n",
    "import pandas as pd\n",
    "import plotly.express as px\n",
    "import sys\n",
    "from plotly.subplots import make_subplots\n",
    "import plotly.graph_objects as go\n",
    "\n",
    "sys.path.append('../')\n",
    "from functions_env import DB_PATH\n",
    "\n",
    "\n",
    "conn = sqlite3.connect(DB_PATH)\n",
    "cursor = conn.cursor()"
   ]
  },
  {
   "cell_type": "code",
   "execution_count": 3,
   "id": "43c061e9-e48a-48df-8fd3-ca78fc346a36",
   "metadata": {
    "tags": []
   },
   "outputs": [],
   "source": [
    "# Load individuals Main Informations\n",
    "df_individual = pd.read_sql_query(\"SELECT * FROM individuals_main_information\", conn)\n",
    "df_individual = df_individual[['individual_wikidata_id', 'birthyear']]\n",
    "\n",
    "df_individual = df_individual[~df_individual['birthyear'].isna()]\n",
    "df_individual['decade'] = df_individual['birthyear'].apply(lambda x : int(x/10)*10)"
   ]
  },
  {
   "cell_type": "code",
   "execution_count": 4,
   "id": "dc80a4ad-a7a2-494b-98ce-47d91af3e71d",
   "metadata": {
    "tags": []
   },
   "outputs": [
    {
     "name": "stderr",
     "output_type": "stream",
     "text": [
      "/var/folders/lx/9b13r6ln63jb54_3xlf9b_380000gn/T/ipykernel_79373/808557147.py:7: SettingWithCopyWarning: \n",
      "A value is trying to be set on a copy of a slice from a DataFrame\n",
      "\n",
      "See the caveats in the documentation: https://pandas.pydata.org/pandas-docs/stable/user_guide/indexing.html#returning-a-view-versus-a-copy\n",
      "  df_identifiers['country_name'][df_identifiers['country_name'].isna()]=''\n"
     ]
    }
   ],
   "source": [
    "# Load invividuals Regions\n",
    "df_individual_region = pd.read_sql_query(\"SELECT * FROM individuals_regions\", conn)\n",
    "df_individual_region = df_individual_region[['individual_wikidata_id', 'region_name']].drop_duplicates()\n",
    "\n",
    "# Load identifiers meta-data\n",
    "df_identifiers = pd.read_sql_query(\"SELECT * FROM identifiers\", conn)\n",
    "df_identifiers['country_name'][df_identifiers['country_name'].isna()]=''\n",
    "df_identifiers['identifier_name'] = df_identifiers.apply(lambda x : x['identifier_name'] + ' ('  + x['country_name'] + ')' if x['country_name']!='' else x['identifier_name'], axis=1)\n",
    "df_identifiers = df_identifiers.drop(['country_wikidata_id', 'count_records', 'identifier_url'], axis=1).drop_duplicates()\n",
    "df_identifiers = df_identifiers.drop(['country_name', 'identifier_name_country'], axis=1).drop_duplicates()\n"
   ]
  },
  {
   "cell_type": "code",
   "execution_count": null,
   "id": "d19fb836-5daa-4869-a078-5d6dbdbc60fd",
   "metadata": {
    "tags": []
   },
   "outputs": [],
   "source": []
  },
  {
   "cell_type": "code",
   "execution_count": 5,
   "id": "7b8b00f2-f0ca-4555-9e62-c834b9f41729",
   "metadata": {
    "tags": []
   },
   "outputs": [],
   "source": [
    "\n",
    "#df_country =  pd.read_sql_query(\"SELECT * FROM country_continent\", conn)\n",
    "#df_country = df_country[['country_name', 'continent_name']]\n",
    "#df_country = df_country.drop_duplicates('country_name', keep='first')\n",
    "#df_identifiers = pd.merge(df_identifiers, df_country, on = 'country_name', how = 'left')\n",
    "\n"
   ]
  },
  {
   "cell_type": "code",
   "execution_count": 6,
   "id": "33b92b28-a6c4-4588-bdd8-0d728b8ed37a",
   "metadata": {
    "tags": []
   },
   "outputs": [],
   "source": [
    "# Load infirmation about individuals and identifiers\n",
    "df_ind_identifiers = pd.read_sql_query(\"SELECT * FROM individual_identifiers\", conn)\n",
    "df_ind_identifiers = df_ind_identifiers.drop('identifier_name', axis=1)\n",
    "df_ind_identifiers = pd.merge(df_ind_identifiers, df_identifiers, on = 'identifiers_wikidata_id', how = 'left')\n",
    "\n",
    "# Freebase is now mixed with Google ID\n",
    "df_ind_identifiers['identifier_name'][df_ind_identifiers['identifier_name']=='Freebase ID'] = 'Google Knowledge Graph ID'\n",
    "df_ind_identifiers['identifiers_wikidata_id'][df_ind_identifiers['identifiers_wikidata_id']=='P646'] = 'P2671'\n",
    "\n",
    "# Mix the two GND\n",
    "df_ind_identifiers['identifier_name'][df_ind_identifiers['identifier_name']=='Deutsche Biographie (GND) ID (Germany)'] = 'GND ID (Germany)'\n",
    "df_ind_identifiers['identifiers_wikidata_id'][df_ind_identifiers['identifiers_wikidata_id']=='P7902'] = 'P227'\n",
    "\n",
    "# Clean wrong objects\n",
    "df_ind_identifiers = df_ind_identifiers[~df_ind_identifiers['individual_name'].str.contains('Painter')]\n",
    "\n",
    "# Remove superceded\n",
    "df_ind_identifiers = df_ind_identifiers[~df_ind_identifiers['identifier_name'].str.contains('superceded')]\n",
    "df_ind_identifiers = df_ind_identifiers[~df_ind_identifiers['identifier_name'].str.contains('obsolete')]\n",
    "\n",
    "# Drop duplicated after mergeing GND and Freebase\n",
    "df_ind_identifiers = df_ind_identifiers.drop_duplicates()"
   ]
  },
  {
   "cell_type": "code",
   "execution_count": 7,
   "id": "30038917-7d95-40d8-8b7f-31398d07d7c5",
   "metadata": {
    "tags": []
   },
   "outputs": [],
   "source": [
    "# Merge everything\n",
    "\n",
    "df_final = pd.merge(df_individual, df_ind_identifiers, on = 'individual_wikidata_id')\n",
    "df_final = pd.merge(df_final, df_individual_region, on = 'individual_wikidata_id')"
   ]
  },
  {
   "cell_type": "code",
   "execution_count": 8,
   "id": "bcc39e0d-e599-40ce-8618-90d15d80a318",
   "metadata": {
    "tags": []
   },
   "outputs": [
    {
     "name": "stderr",
     "output_type": "stream",
     "text": [
      "/var/folders/lx/9b13r6ln63jb54_3xlf9b_380000gn/T/ipykernel_79373/1539816987.py:6: SettingWithCopyWarning: \n",
      "A value is trying to be set on a copy of a slice from a DataFrame\n",
      "\n",
      "See the caveats in the documentation: https://pandas.pydata.org/pandas-docs/stable/user_guide/indexing.html#returning-a-view-versus-a-copy\n",
      "  df_country_id['country_name'][df_country_id['country_name'].isna()]=''\n"
     ]
    }
   ],
   "source": [
    "df_fig = df_final[['individual_wikidata_id', 'decade', 'identifier_name', 'region_name']]\n",
    "df_fig = df_fig.groupby(['identifier_name', 'region_name', 'decade'])['individual_wikidata_id'].count().rename(\"score\").reset_index()\n",
    "\n",
    "\n",
    "df_country_id = pd.read_sql_query(\"SELECT * FROM identifiers\", conn)\n",
    "df_country_id['country_name'][df_country_id['country_name'].isna()]=''\n",
    "df_country_id['identifier_name'] = df_country_id.apply(lambda x : x['identifier_name'] + ' ('  + x['country_name'] + ')' if x['country_name']!='' else x['identifier_name'], axis=1)\n",
    "df_country_id = df_country_id[['identifier_name', 'country_name']].drop_duplicates()\n",
    "\n",
    "df_fig = pd.merge(df_fig, df_country_id, on = 'identifier_name')\n"
   ]
  },
  {
   "cell_type": "code",
   "execution_count": null,
   "id": "0b4bfa47-f28f-4aba-95f1-f22d0215760b",
   "metadata": {
    "tags": []
   },
   "outputs": [],
   "source": []
  },
  {
   "cell_type": "code",
   "execution_count": 9,
   "id": "183f3769-7738-4dff-89ac-f7844bc4f548",
   "metadata": {
    "tags": []
   },
   "outputs": [
    {
     "data": {
      "application/vnd.plotly.v1+json": {
       "config": {
        "plotlyServerURL": "https://plot.ly"
       },
       "data": [
        {
         "hovertemplate": "identifier_name=GND ID (Germany)<br>decade=%{x}<br>score=%{y}<extra></extra>",
         "legendgroup": "GND ID (Germany)",
         "line": {
          "color": "#1F77B4",
          "dash": "solid"
         },
         "marker": {
          "symbol": "circle"
         },
         "mode": "lines",
         "name": "GND ID (Germany)",
         "opacity": 0.25,
         "orientation": "v",
         "showlegend": true,
         "type": "scatter",
         "x": [
          -300,
          -250,
          -200,
          -150,
          -100,
          -50,
          0,
          50,
          100,
          150,
          200,
          250,
          300,
          350,
          400,
          450,
          500
         ],
         "xaxis": "x",
         "y": [
          1,
          7,
          18,
          22,
          40,
          44,
          19,
          20,
          25,
          12,
          21,
          13,
          15,
          11,
          25,
          4,
          5
         ],
         "yaxis": "y"
        },
        {
         "hovertemplate": "identifier_name=CIRIS author ID (France)<br>decade=%{x}<br>score=%{y}<extra></extra>",
         "legendgroup": "CIRIS author ID (France)",
         "line": {
          "color": "#FF7F0E",
          "dash": "solid"
         },
         "marker": {
          "symbol": "circle"
         },
         "mode": "lines",
         "name": "CIRIS author ID (France)",
         "opacity": 0.25,
         "orientation": "v",
         "showlegend": true,
         "type": "scatter",
         "x": [
          -300,
          -250,
          -200,
          -150,
          -100,
          -50,
          0,
          50,
          100,
          150,
          200,
          250,
          300,
          350,
          400,
          450,
          500
         ],
         "xaxis": "x",
         "y": [
          1,
          5,
          16,
          19,
          37,
          38,
          14,
          19,
          25,
          12,
          19,
          13,
          14,
          11,
          23,
          4,
          5
         ],
         "yaxis": "y"
        },
        {
         "hovertemplate": "identifier_name=Library of Congress authority ID (United States of America)<br>decade=%{x}<br>score=%{y}<extra></extra>",
         "legendgroup": "Library of Congress authority ID (United States of America)",
         "line": {
          "color": "#2CA02C",
          "dash": "solid"
         },
         "marker": {
          "symbol": "circle"
         },
         "mode": "lines",
         "name": "Library of Congress authority ID (United States of America)",
         "opacity": 0.25,
         "orientation": "v",
         "showlegend": true,
         "type": "scatter",
         "x": [
          -300,
          -250,
          -200,
          -150,
          -100,
          -50,
          0,
          50,
          100,
          150,
          200,
          250,
          300,
          350,
          400,
          450,
          500
         ],
         "xaxis": "x",
         "y": [
          1,
          7,
          15,
          19,
          34,
          35,
          17,
          16,
          23,
          11,
          17,
          10,
          12,
          11,
          22,
          4,
          5
         ],
         "yaxis": "y"
        },
        {
         "hovertemplate": "identifier_name=Nationale Thesaurus voor Auteurs ID (Netherlands)<br>decade=%{x}<br>score=%{y}<extra></extra>",
         "legendgroup": "Nationale Thesaurus voor Auteurs ID (Netherlands)",
         "line": {
          "color": "#D62728",
          "dash": "solid"
         },
         "marker": {
          "symbol": "circle"
         },
         "mode": "lines",
         "name": "Nationale Thesaurus voor Auteurs ID (Netherlands)",
         "opacity": 0.25,
         "orientation": "v",
         "showlegend": true,
         "type": "scatter",
         "x": [
          -250,
          -200,
          -150,
          -100,
          -50,
          0,
          50,
          100,
          150,
          200,
          250,
          300,
          350,
          400,
          450,
          500
         ],
         "xaxis": "x",
         "y": [
          6,
          9,
          11,
          25,
          32,
          17,
          17,
          21,
          9,
          15,
          12,
          12,
          10,
          23,
          4,
          4
         ],
         "yaxis": "y"
        },
        {
         "hovertemplate": "identifier_name=Treccani ID (Italy)<br>decade=%{x}<br>score=%{y}<extra></extra>",
         "legendgroup": "Treccani ID (Italy)",
         "line": {
          "color": "#9467BD",
          "dash": "solid"
         },
         "marker": {
          "symbol": "circle"
         },
         "mode": "lines",
         "name": "Treccani ID (Italy)",
         "opacity": 0.25,
         "orientation": "v",
         "showlegend": true,
         "type": "scatter",
         "x": [
          -300,
          -250,
          -200,
          -150,
          -100,
          -50,
          0,
          50,
          100,
          150,
          200,
          250,
          300,
          350,
          400,
          450,
          500
         ],
         "xaxis": "x",
         "y": [
          1,
          7,
          10,
          17,
          40,
          30,
          16,
          14,
          19,
          8,
          11,
          8,
          13,
          10,
          14,
          3,
          4
         ],
         "yaxis": "y"
        },
        {
         "hovertemplate": "identifier_name=National Library of Israel J9U ID (Israel)<br>decade=%{x}<br>score=%{y}<extra></extra>",
         "legendgroup": "National Library of Israel J9U ID (Israel)",
         "line": {
          "color": "#8C564B",
          "dash": "solid"
         },
         "marker": {
          "symbol": "circle"
         },
         "mode": "lines",
         "name": "National Library of Israel J9U ID (Israel)",
         "opacity": 0.25,
         "orientation": "v",
         "showlegend": true,
         "type": "scatter",
         "x": [
          -250,
          -200,
          -150,
          -100,
          -50,
          0,
          50,
          100,
          150,
          200,
          250,
          300,
          350,
          400,
          450,
          500
         ],
         "xaxis": "x",
         "y": [
          4,
          7,
          10,
          25,
          23,
          16,
          16,
          18,
          8,
          14,
          6,
          11,
          8,
          19,
          4,
          4
         ],
         "yaxis": "y"
        },
        {
         "hovertemplate": "identifier_name=NUKAT ID (Poland)<br>decade=%{x}<br>score=%{y}<extra></extra>",
         "legendgroup": "NUKAT ID (Poland)",
         "line": {
          "color": "#E377C2",
          "dash": "solid"
         },
         "marker": {
          "symbol": "circle"
         },
         "mode": "lines",
         "name": "NUKAT ID (Poland)",
         "opacity": 0.25,
         "orientation": "v",
         "showlegend": true,
         "type": "scatter",
         "x": [
          -250,
          -200,
          -150,
          -100,
          -50,
          0,
          50,
          100,
          150,
          200,
          250,
          300,
          350,
          400,
          450,
          500
         ],
         "xaxis": "x",
         "y": [
          4,
          5,
          7,
          25,
          25,
          15,
          15,
          20,
          8,
          12,
          8,
          11,
          9,
          20,
          4,
          4
         ],
         "yaxis": "y"
        },
        {
         "hovertemplate": "identifier_name=Vatican Library VcBA ID (Vatican City)<br>decade=%{x}<br>score=%{y}<extra></extra>",
         "legendgroup": "Vatican Library VcBA ID (Vatican City)",
         "line": {
          "color": "#7F7F7F",
          "dash": "solid"
         },
         "marker": {
          "symbol": "circle"
         },
         "mode": "lines",
         "name": "Vatican Library VcBA ID (Vatican City)",
         "opacity": 0.25,
         "orientation": "v",
         "showlegend": true,
         "type": "scatter",
         "x": [
          -250,
          -200,
          -150,
          -100,
          -50,
          0,
          50,
          100,
          150,
          200,
          250,
          300,
          350,
          400,
          450,
          500
         ],
         "xaxis": "x",
         "y": [
          5,
          6,
          7,
          21,
          24,
          15,
          17,
          19,
          7,
          14,
          8,
          11,
          11,
          18,
          3,
          4
         ],
         "yaxis": "y"
        },
        {
         "hovertemplate": "identifier_name=NORAF ID (Norway)<br>decade=%{x}<br>score=%{y}<extra></extra>",
         "legendgroup": "NORAF ID (Norway)",
         "line": {
          "color": "#BCBD22",
          "dash": "solid"
         },
         "marker": {
          "symbol": "circle"
         },
         "mode": "lines",
         "name": "NORAF ID (Norway)",
         "opacity": 0.25,
         "orientation": "v",
         "showlegend": true,
         "type": "scatter",
         "x": [
          -250,
          -200,
          -150,
          -100,
          -50,
          0,
          50,
          100,
          150,
          200,
          250,
          300,
          350,
          400,
          450,
          500
         ],
         "xaxis": "x",
         "y": [
          4,
          4,
          7,
          22,
          21,
          14,
          14,
          17,
          9,
          9,
          4,
          9,
          9,
          20,
          3,
          4
         ],
         "yaxis": "y"
        },
        {
         "hovertemplate": "identifier_name=Biblioteca Nacional de España ID (Spain)<br>decade=%{x}<br>score=%{y}<extra></extra>",
         "legendgroup": "Biblioteca Nacional de España ID (Spain)",
         "line": {
          "color": "#17BECF",
          "dash": "solid"
         },
         "marker": {
          "symbol": "circle"
         },
         "mode": "lines",
         "name": "Biblioteca Nacional de España ID (Spain)",
         "opacity": 0.25,
         "orientation": "v",
         "showlegend": true,
         "type": "scatter",
         "x": [
          -250,
          -200,
          -150,
          -100,
          -50,
          0,
          50,
          100,
          150,
          200,
          250,
          300,
          350,
          400,
          450,
          500
         ],
         "xaxis": "x",
         "y": [
          4,
          4,
          4,
          20,
          19,
          15,
          14,
          16,
          5,
          14,
          11,
          10,
          9,
          15,
          3,
          4
         ],
         "yaxis": "y"
        },
        {
         "hovertemplate": "identifier_name=Libris-URI (Sweden)<br>decade=%{x}<br>score=%{y}<extra></extra>",
         "legendgroup": "Libris-URI (Sweden)",
         "line": {
          "color": "#1F77B4",
          "dash": "solid"
         },
         "marker": {
          "symbol": "circle"
         },
         "mode": "lines",
         "name": "Libris-URI (Sweden)",
         "opacity": 0.25,
         "orientation": "v",
         "showlegend": true,
         "type": "scatter",
         "x": [
          -250,
          -200,
          -150,
          -100,
          -50,
          0,
          50,
          100,
          150,
          200,
          250,
          300,
          350,
          400,
          450,
          500
         ],
         "xaxis": "x",
         "y": [
          4,
          3,
          8,
          14,
          17,
          14,
          13,
          16,
          6,
          11,
          10,
          10,
          8,
          18,
          2,
          4
         ],
         "yaxis": "y"
        },
        {
         "hovertemplate": "identifier_name=Encyclopædia Britannica Online ID (United Kingdom)<br>decade=%{x}<br>score=%{y}<extra></extra>",
         "legendgroup": "Encyclopædia Britannica Online ID (United Kingdom)",
         "line": {
          "color": "#FF7F0E",
          "dash": "solid"
         },
         "marker": {
          "symbol": "circle"
         },
         "mode": "lines",
         "name": "Encyclopædia Britannica Online ID (United Kingdom)",
         "opacity": 0.25,
         "orientation": "v",
         "showlegend": true,
         "type": "scatter",
         "x": [
          -250,
          -200,
          -150,
          -100,
          -50,
          0,
          50,
          100,
          150,
          200,
          250,
          300,
          350,
          400,
          450,
          500
         ],
         "xaxis": "x",
         "y": [
          5,
          3,
          7,
          23,
          22,
          12,
          16,
          14,
          3,
          14,
          2,
          5,
          8,
          7,
          2,
          3
         ],
         "yaxis": "y"
        },
        {
         "hovertemplate": "identifier_name=NKCR AUT ID (Czech Republic)<br>decade=%{x}<br>score=%{y}<extra></extra>",
         "legendgroup": "NKCR AUT ID (Czech Republic)",
         "line": {
          "color": "#2CA02C",
          "dash": "solid"
         },
         "marker": {
          "symbol": "circle"
         },
         "mode": "lines",
         "name": "NKCR AUT ID (Czech Republic)",
         "opacity": 0.25,
         "orientation": "v",
         "showlegend": true,
         "type": "scatter",
         "x": [
          -250,
          -200,
          -150,
          -100,
          -50,
          0,
          50,
          100,
          150,
          200,
          250,
          300,
          350,
          400,
          450,
          500
         ],
         "xaxis": "x",
         "y": [
          4,
          4,
          3,
          13,
          16,
          11,
          12,
          12,
          7,
          12,
          7,
          9,
          7,
          15,
          4,
          3
         ],
         "yaxis": "y"
        },
        {
         "hovertemplate": "identifier_name=National Library of Greece ID (Greece)<br>decade=%{x}<br>score=%{y}<extra></extra>",
         "legendgroup": "National Library of Greece ID (Greece)",
         "line": {
          "color": "#D62728",
          "dash": "solid"
         },
         "marker": {
          "symbol": "circle"
         },
         "mode": "lines",
         "name": "National Library of Greece ID (Greece)",
         "opacity": 0.25,
         "orientation": "v",
         "showlegend": true,
         "type": "scatter",
         "x": [
          -250,
          -200,
          -150,
          -100,
          -50,
          0,
          50,
          100,
          150,
          200,
          250,
          300,
          350,
          400,
          450,
          500
         ],
         "xaxis": "x",
         "y": [
          3,
          3,
          2,
          13,
          17,
          13,
          11,
          13,
          7,
          8,
          5,
          9,
          7,
          12,
          3,
          2
         ],
         "yaxis": "y"
        },
        {
         "hovertemplate": "identifier_name=CiNii Books author ID (Japan)<br>decade=%{x}<br>score=%{y}<extra></extra>",
         "legendgroup": "CiNii Books author ID (Japan)",
         "line": {
          "color": "#9467BD",
          "dash": "solid"
         },
         "marker": {
          "symbol": "circle"
         },
         "mode": "lines",
         "name": "CiNii Books author ID (Japan)",
         "opacity": 0.25,
         "orientation": "v",
         "showlegend": true,
         "type": "scatter",
         "x": [
          -250,
          -200,
          -150,
          -100,
          -50,
          0,
          50,
          100,
          150,
          200,
          250,
          300,
          350,
          400,
          450,
          500
         ],
         "xaxis": "x",
         "y": [
          4,
          4,
          5,
          13,
          14,
          11,
          9,
          15,
          7,
          7,
          4,
          10,
          6,
          9,
          3,
          2
         ],
         "yaxis": "y"
        },
        {
         "hovertemplate": "identifier_name=Canadiana Name Authority ID (Canada)<br>decade=%{x}<br>score=%{y}<extra></extra>",
         "legendgroup": "Canadiana Name Authority ID (Canada)",
         "line": {
          "color": "#8C564B",
          "dash": "solid"
         },
         "marker": {
          "symbol": "circle"
         },
         "mode": "lines",
         "name": "Canadiana Name Authority ID (Canada)",
         "opacity": 0.25,
         "orientation": "v",
         "showlegend": true,
         "type": "scatter",
         "x": [
          -250,
          -200,
          -150,
          -100,
          -50,
          0,
          50,
          100,
          150,
          200,
          250,
          300,
          350,
          400,
          450,
          500
         ],
         "xaxis": "x",
         "y": [
          2,
          4,
          6,
          15,
          14,
          13,
          10,
          13,
          4,
          7,
          3,
          6,
          6,
          11,
          1,
          2
         ],
         "yaxis": "y"
        },
        {
         "hovertemplate": "identifier_name=Portuguese National Library author ID (Portugal)<br>decade=%{x}<br>score=%{y}<extra></extra>",
         "legendgroup": "Portuguese National Library author ID (Portugal)",
         "line": {
          "color": "#E377C2",
          "dash": "solid"
         },
         "marker": {
          "symbol": "circle"
         },
         "mode": "lines",
         "name": "Portuguese National Library author ID (Portugal)",
         "opacity": 0.25,
         "orientation": "v",
         "showlegend": true,
         "type": "scatter",
         "x": [
          -250,
          -200,
          -100,
          -50,
          0,
          50,
          100,
          150,
          200,
          250,
          300,
          350,
          400,
          450,
          500
         ],
         "xaxis": "x",
         "y": [
          3,
          1,
          11,
          16,
          12,
          11,
          10,
          5,
          8,
          6,
          8,
          7,
          13,
          2,
          3
         ],
         "yaxis": "y"
        },
        {
         "hovertemplate": "identifier_name=NLA Trove people ID (Australia)<br>decade=%{x}<br>score=%{y}<extra></extra>",
         "legendgroup": "NLA Trove people ID (Australia)",
         "line": {
          "color": "#7F7F7F",
          "dash": "solid"
         },
         "marker": {
          "symbol": "circle"
         },
         "mode": "lines",
         "name": "NLA Trove people ID (Australia)",
         "opacity": 0.25,
         "orientation": "v",
         "showlegend": true,
         "type": "scatter",
         "x": [
          -250,
          -200,
          -150,
          -100,
          -50,
          0,
          50,
          100,
          150,
          200,
          250,
          300,
          350,
          400,
          450,
          500
         ],
         "xaxis": "x",
         "y": [
          2,
          1,
          2,
          14,
          13,
          11,
          9,
          11,
          4,
          9,
          1,
          9,
          7,
          12,
          3,
          4
         ],
         "yaxis": "y"
        },
        {
         "hovertemplate": "identifier_name=NSK ID (Croatia)<br>decade=%{x}<br>score=%{y}<extra></extra>",
         "legendgroup": "NSK ID (Croatia)",
         "line": {
          "color": "#BCBD22",
          "dash": "solid"
         },
         "marker": {
          "symbol": "circle"
         },
         "mode": "lines",
         "name": "NSK ID (Croatia)",
         "opacity": 0.25,
         "orientation": "v",
         "showlegend": true,
         "type": "scatter",
         "x": [
          -250,
          -200,
          -150,
          -100,
          -50,
          0,
          50,
          100,
          150,
          200,
          250,
          300,
          350,
          400,
          450,
          500
         ],
         "xaxis": "x",
         "y": [
          3,
          2,
          2,
          10,
          11,
          11,
          10,
          9,
          5,
          6,
          6,
          6,
          7,
          10,
          2,
          2
         ],
         "yaxis": "y"
        },
        {
         "hovertemplate": "identifier_name=CONOR.SI ID (Slovenia)<br>decade=%{x}<br>score=%{y}<extra></extra>",
         "legendgroup": "CONOR.SI ID (Slovenia)",
         "line": {
          "color": "#17BECF",
          "dash": "solid"
         },
         "marker": {
          "symbol": "circle"
         },
         "mode": "lines",
         "name": "CONOR.SI ID (Slovenia)",
         "opacity": 0.25,
         "orientation": "v",
         "showlegend": true,
         "type": "scatter",
         "x": [
          -250,
          -200,
          -150,
          -100,
          -50,
          0,
          50,
          100,
          150,
          200,
          250,
          300,
          350,
          400,
          500
         ],
         "xaxis": "x",
         "y": [
          4,
          1,
          3,
          10,
          12,
          12,
          11,
          10,
          4,
          5,
          5,
          8,
          5,
          7,
          4
         ],
         "yaxis": "y"
        },
        {
         "hovertemplate": "identifier_name=average<br>decade=%{x}<br>score=%{y}<extra></extra>",
         "legendgroup": "average",
         "line": {
          "color": "#1F77B4",
          "dash": "solid",
          "width": 3
         },
         "marker": {
          "symbol": "circle"
         },
         "mode": "lines",
         "name": "average",
         "orientation": "v",
         "showlegend": true,
         "type": "scatter",
         "x": [
          -300,
          -250,
          -200,
          -150,
          -100,
          -50,
          0,
          50,
          100,
          150,
          200,
          250,
          300,
          350,
          400,
          450,
          500
         ],
         "xaxis": "x",
         "y": [
          1,
          4.35,
          6,
          8.473684210526315,
          21.25,
          22.15,
          13.9,
          13.7,
          16.3,
          7.05,
          11.65,
          7.1,
          9.9,
          8.35,
          15.65,
          3.0526315789473686,
          3.6
         ],
         "yaxis": "y"
        }
       ],
       "layout": {
        "height": 800,
        "legend": {
         "title": {
          "text": "Identifiers"
         }
        },
        "template": {
         "data": {
          "bar": [
           {
            "error_x": {
             "color": "rgb(36,36,36)"
            },
            "error_y": {
             "color": "rgb(36,36,36)"
            },
            "marker": {
             "line": {
              "color": "white",
              "width": 0.5
             },
             "pattern": {
              "fillmode": "overlay",
              "size": 10,
              "solidity": 0.2
             }
            },
            "type": "bar"
           }
          ],
          "barpolar": [
           {
            "marker": {
             "line": {
              "color": "white",
              "width": 0.5
             },
             "pattern": {
              "fillmode": "overlay",
              "size": 10,
              "solidity": 0.2
             }
            },
            "type": "barpolar"
           }
          ],
          "carpet": [
           {
            "aaxis": {
             "endlinecolor": "rgb(36,36,36)",
             "gridcolor": "white",
             "linecolor": "white",
             "minorgridcolor": "white",
             "startlinecolor": "rgb(36,36,36)"
            },
            "baxis": {
             "endlinecolor": "rgb(36,36,36)",
             "gridcolor": "white",
             "linecolor": "white",
             "minorgridcolor": "white",
             "startlinecolor": "rgb(36,36,36)"
            },
            "type": "carpet"
           }
          ],
          "choropleth": [
           {
            "colorbar": {
             "outlinewidth": 1,
             "tickcolor": "rgb(36,36,36)",
             "ticks": "outside"
            },
            "type": "choropleth"
           }
          ],
          "contour": [
           {
            "colorbar": {
             "outlinewidth": 1,
             "tickcolor": "rgb(36,36,36)",
             "ticks": "outside"
            },
            "colorscale": [
             [
              0,
              "#440154"
             ],
             [
              0.1111111111111111,
              "#482878"
             ],
             [
              0.2222222222222222,
              "#3e4989"
             ],
             [
              0.3333333333333333,
              "#31688e"
             ],
             [
              0.4444444444444444,
              "#26828e"
             ],
             [
              0.5555555555555556,
              "#1f9e89"
             ],
             [
              0.6666666666666666,
              "#35b779"
             ],
             [
              0.7777777777777778,
              "#6ece58"
             ],
             [
              0.8888888888888888,
              "#b5de2b"
             ],
             [
              1,
              "#fde725"
             ]
            ],
            "type": "contour"
           }
          ],
          "contourcarpet": [
           {
            "colorbar": {
             "outlinewidth": 1,
             "tickcolor": "rgb(36,36,36)",
             "ticks": "outside"
            },
            "type": "contourcarpet"
           }
          ],
          "heatmap": [
           {
            "colorbar": {
             "outlinewidth": 1,
             "tickcolor": "rgb(36,36,36)",
             "ticks": "outside"
            },
            "colorscale": [
             [
              0,
              "#440154"
             ],
             [
              0.1111111111111111,
              "#482878"
             ],
             [
              0.2222222222222222,
              "#3e4989"
             ],
             [
              0.3333333333333333,
              "#31688e"
             ],
             [
              0.4444444444444444,
              "#26828e"
             ],
             [
              0.5555555555555556,
              "#1f9e89"
             ],
             [
              0.6666666666666666,
              "#35b779"
             ],
             [
              0.7777777777777778,
              "#6ece58"
             ],
             [
              0.8888888888888888,
              "#b5de2b"
             ],
             [
              1,
              "#fde725"
             ]
            ],
            "type": "heatmap"
           }
          ],
          "heatmapgl": [
           {
            "colorbar": {
             "outlinewidth": 1,
             "tickcolor": "rgb(36,36,36)",
             "ticks": "outside"
            },
            "colorscale": [
             [
              0,
              "#440154"
             ],
             [
              0.1111111111111111,
              "#482878"
             ],
             [
              0.2222222222222222,
              "#3e4989"
             ],
             [
              0.3333333333333333,
              "#31688e"
             ],
             [
              0.4444444444444444,
              "#26828e"
             ],
             [
              0.5555555555555556,
              "#1f9e89"
             ],
             [
              0.6666666666666666,
              "#35b779"
             ],
             [
              0.7777777777777778,
              "#6ece58"
             ],
             [
              0.8888888888888888,
              "#b5de2b"
             ],
             [
              1,
              "#fde725"
             ]
            ],
            "type": "heatmapgl"
           }
          ],
          "histogram": [
           {
            "marker": {
             "line": {
              "color": "white",
              "width": 0.6
             }
            },
            "type": "histogram"
           }
          ],
          "histogram2d": [
           {
            "colorbar": {
             "outlinewidth": 1,
             "tickcolor": "rgb(36,36,36)",
             "ticks": "outside"
            },
            "colorscale": [
             [
              0,
              "#440154"
             ],
             [
              0.1111111111111111,
              "#482878"
             ],
             [
              0.2222222222222222,
              "#3e4989"
             ],
             [
              0.3333333333333333,
              "#31688e"
             ],
             [
              0.4444444444444444,
              "#26828e"
             ],
             [
              0.5555555555555556,
              "#1f9e89"
             ],
             [
              0.6666666666666666,
              "#35b779"
             ],
             [
              0.7777777777777778,
              "#6ece58"
             ],
             [
              0.8888888888888888,
              "#b5de2b"
             ],
             [
              1,
              "#fde725"
             ]
            ],
            "type": "histogram2d"
           }
          ],
          "histogram2dcontour": [
           {
            "colorbar": {
             "outlinewidth": 1,
             "tickcolor": "rgb(36,36,36)",
             "ticks": "outside"
            },
            "colorscale": [
             [
              0,
              "#440154"
             ],
             [
              0.1111111111111111,
              "#482878"
             ],
             [
              0.2222222222222222,
              "#3e4989"
             ],
             [
              0.3333333333333333,
              "#31688e"
             ],
             [
              0.4444444444444444,
              "#26828e"
             ],
             [
              0.5555555555555556,
              "#1f9e89"
             ],
             [
              0.6666666666666666,
              "#35b779"
             ],
             [
              0.7777777777777778,
              "#6ece58"
             ],
             [
              0.8888888888888888,
              "#b5de2b"
             ],
             [
              1,
              "#fde725"
             ]
            ],
            "type": "histogram2dcontour"
           }
          ],
          "mesh3d": [
           {
            "colorbar": {
             "outlinewidth": 1,
             "tickcolor": "rgb(36,36,36)",
             "ticks": "outside"
            },
            "type": "mesh3d"
           }
          ],
          "parcoords": [
           {
            "line": {
             "colorbar": {
              "outlinewidth": 1,
              "tickcolor": "rgb(36,36,36)",
              "ticks": "outside"
             }
            },
            "type": "parcoords"
           }
          ],
          "pie": [
           {
            "automargin": true,
            "type": "pie"
           }
          ],
          "scatter": [
           {
            "fillpattern": {
             "fillmode": "overlay",
             "size": 10,
             "solidity": 0.2
            },
            "type": "scatter"
           }
          ],
          "scatter3d": [
           {
            "line": {
             "colorbar": {
              "outlinewidth": 1,
              "tickcolor": "rgb(36,36,36)",
              "ticks": "outside"
             }
            },
            "marker": {
             "colorbar": {
              "outlinewidth": 1,
              "tickcolor": "rgb(36,36,36)",
              "ticks": "outside"
             }
            },
            "type": "scatter3d"
           }
          ],
          "scattercarpet": [
           {
            "marker": {
             "colorbar": {
              "outlinewidth": 1,
              "tickcolor": "rgb(36,36,36)",
              "ticks": "outside"
             }
            },
            "type": "scattercarpet"
           }
          ],
          "scattergeo": [
           {
            "marker": {
             "colorbar": {
              "outlinewidth": 1,
              "tickcolor": "rgb(36,36,36)",
              "ticks": "outside"
             }
            },
            "type": "scattergeo"
           }
          ],
          "scattergl": [
           {
            "marker": {
             "colorbar": {
              "outlinewidth": 1,
              "tickcolor": "rgb(36,36,36)",
              "ticks": "outside"
             }
            },
            "type": "scattergl"
           }
          ],
          "scattermapbox": [
           {
            "marker": {
             "colorbar": {
              "outlinewidth": 1,
              "tickcolor": "rgb(36,36,36)",
              "ticks": "outside"
             }
            },
            "type": "scattermapbox"
           }
          ],
          "scatterpolar": [
           {
            "marker": {
             "colorbar": {
              "outlinewidth": 1,
              "tickcolor": "rgb(36,36,36)",
              "ticks": "outside"
             }
            },
            "type": "scatterpolar"
           }
          ],
          "scatterpolargl": [
           {
            "marker": {
             "colorbar": {
              "outlinewidth": 1,
              "tickcolor": "rgb(36,36,36)",
              "ticks": "outside"
             }
            },
            "type": "scatterpolargl"
           }
          ],
          "scatterternary": [
           {
            "marker": {
             "colorbar": {
              "outlinewidth": 1,
              "tickcolor": "rgb(36,36,36)",
              "ticks": "outside"
             }
            },
            "type": "scatterternary"
           }
          ],
          "surface": [
           {
            "colorbar": {
             "outlinewidth": 1,
             "tickcolor": "rgb(36,36,36)",
             "ticks": "outside"
            },
            "colorscale": [
             [
              0,
              "#440154"
             ],
             [
              0.1111111111111111,
              "#482878"
             ],
             [
              0.2222222222222222,
              "#3e4989"
             ],
             [
              0.3333333333333333,
              "#31688e"
             ],
             [
              0.4444444444444444,
              "#26828e"
             ],
             [
              0.5555555555555556,
              "#1f9e89"
             ],
             [
              0.6666666666666666,
              "#35b779"
             ],
             [
              0.7777777777777778,
              "#6ece58"
             ],
             [
              0.8888888888888888,
              "#b5de2b"
             ],
             [
              1,
              "#fde725"
             ]
            ],
            "type": "surface"
           }
          ],
          "table": [
           {
            "cells": {
             "fill": {
              "color": "rgb(237,237,237)"
             },
             "line": {
              "color": "white"
             }
            },
            "header": {
             "fill": {
              "color": "rgb(217,217,217)"
             },
             "line": {
              "color": "white"
             }
            },
            "type": "table"
           }
          ]
         },
         "layout": {
          "annotationdefaults": {
           "arrowhead": 0,
           "arrowwidth": 1
          },
          "autotypenumbers": "strict",
          "coloraxis": {
           "colorbar": {
            "outlinewidth": 1,
            "tickcolor": "rgb(36,36,36)",
            "ticks": "outside"
           }
          },
          "colorscale": {
           "diverging": [
            [
             0,
             "rgb(103,0,31)"
            ],
            [
             0.1,
             "rgb(178,24,43)"
            ],
            [
             0.2,
             "rgb(214,96,77)"
            ],
            [
             0.3,
             "rgb(244,165,130)"
            ],
            [
             0.4,
             "rgb(253,219,199)"
            ],
            [
             0.5,
             "rgb(247,247,247)"
            ],
            [
             0.6,
             "rgb(209,229,240)"
            ],
            [
             0.7,
             "rgb(146,197,222)"
            ],
            [
             0.8,
             "rgb(67,147,195)"
            ],
            [
             0.9,
             "rgb(33,102,172)"
            ],
            [
             1,
             "rgb(5,48,97)"
            ]
           ],
           "sequential": [
            [
             0,
             "#440154"
            ],
            [
             0.1111111111111111,
             "#482878"
            ],
            [
             0.2222222222222222,
             "#3e4989"
            ],
            [
             0.3333333333333333,
             "#31688e"
            ],
            [
             0.4444444444444444,
             "#26828e"
            ],
            [
             0.5555555555555556,
             "#1f9e89"
            ],
            [
             0.6666666666666666,
             "#35b779"
            ],
            [
             0.7777777777777778,
             "#6ece58"
            ],
            [
             0.8888888888888888,
             "#b5de2b"
            ],
            [
             1,
             "#fde725"
            ]
           ],
           "sequentialminus": [
            [
             0,
             "#440154"
            ],
            [
             0.1111111111111111,
             "#482878"
            ],
            [
             0.2222222222222222,
             "#3e4989"
            ],
            [
             0.3333333333333333,
             "#31688e"
            ],
            [
             0.4444444444444444,
             "#26828e"
            ],
            [
             0.5555555555555556,
             "#1f9e89"
            ],
            [
             0.6666666666666666,
             "#35b779"
            ],
            [
             0.7777777777777778,
             "#6ece58"
            ],
            [
             0.8888888888888888,
             "#b5de2b"
            ],
            [
             1,
             "#fde725"
            ]
           ]
          },
          "colorway": [
           "#1F77B4",
           "#FF7F0E",
           "#2CA02C",
           "#D62728",
           "#9467BD",
           "#8C564B",
           "#E377C2",
           "#7F7F7F",
           "#BCBD22",
           "#17BECF"
          ],
          "font": {
           "color": "rgb(36,36,36)"
          },
          "geo": {
           "bgcolor": "white",
           "lakecolor": "white",
           "landcolor": "white",
           "showlakes": true,
           "showland": true,
           "subunitcolor": "white"
          },
          "hoverlabel": {
           "align": "left"
          },
          "hovermode": "closest",
          "mapbox": {
           "style": "light"
          },
          "paper_bgcolor": "white",
          "plot_bgcolor": "white",
          "polar": {
           "angularaxis": {
            "gridcolor": "rgb(232,232,232)",
            "linecolor": "rgb(36,36,36)",
            "showgrid": false,
            "showline": true,
            "ticks": "outside"
           },
           "bgcolor": "white",
           "radialaxis": {
            "gridcolor": "rgb(232,232,232)",
            "linecolor": "rgb(36,36,36)",
            "showgrid": false,
            "showline": true,
            "ticks": "outside"
           }
          },
          "scene": {
           "xaxis": {
            "backgroundcolor": "white",
            "gridcolor": "rgb(232,232,232)",
            "gridwidth": 2,
            "linecolor": "rgb(36,36,36)",
            "showbackground": true,
            "showgrid": false,
            "showline": true,
            "ticks": "outside",
            "zeroline": false,
            "zerolinecolor": "rgb(36,36,36)"
           },
           "yaxis": {
            "backgroundcolor": "white",
            "gridcolor": "rgb(232,232,232)",
            "gridwidth": 2,
            "linecolor": "rgb(36,36,36)",
            "showbackground": true,
            "showgrid": false,
            "showline": true,
            "ticks": "outside",
            "zeroline": false,
            "zerolinecolor": "rgb(36,36,36)"
           },
           "zaxis": {
            "backgroundcolor": "white",
            "gridcolor": "rgb(232,232,232)",
            "gridwidth": 2,
            "linecolor": "rgb(36,36,36)",
            "showbackground": true,
            "showgrid": false,
            "showline": true,
            "ticks": "outside",
            "zeroline": false,
            "zerolinecolor": "rgb(36,36,36)"
           }
          },
          "shapedefaults": {
           "fillcolor": "black",
           "line": {
            "width": 0
           },
           "opacity": 0.3
          },
          "ternary": {
           "aaxis": {
            "gridcolor": "rgb(232,232,232)",
            "linecolor": "rgb(36,36,36)",
            "showgrid": false,
            "showline": true,
            "ticks": "outside"
           },
           "baxis": {
            "gridcolor": "rgb(232,232,232)",
            "linecolor": "rgb(36,36,36)",
            "showgrid": false,
            "showline": true,
            "ticks": "outside"
           },
           "bgcolor": "white",
           "caxis": {
            "gridcolor": "rgb(232,232,232)",
            "linecolor": "rgb(36,36,36)",
            "showgrid": false,
            "showline": true,
            "ticks": "outside"
           }
          },
          "title": {
           "x": 0.05
          },
          "xaxis": {
           "automargin": true,
           "gridcolor": "rgb(232,232,232)",
           "linecolor": "rgb(36,36,36)",
           "showgrid": false,
           "showline": true,
           "ticks": "outside",
           "title": {
            "standoff": 15
           },
           "zeroline": false,
           "zerolinecolor": "rgb(36,36,36)"
          },
          "yaxis": {
           "automargin": true,
           "gridcolor": "rgb(232,232,232)",
           "linecolor": "rgb(36,36,36)",
           "showgrid": false,
           "showline": true,
           "ticks": "outside",
           "title": {
            "standoff": 15
           },
           "zeroline": false,
           "zerolinecolor": "rgb(36,36,36)"
          }
         }
        },
        "title": {
         "text": "Italy"
        },
        "width": 1300,
        "xaxis": {
         "dtick": 100,
         "title": {
          "text": ""
         }
        },
        "yaxis": {
         "title": {
          "text": "Number of Individuals"
         }
        }
       }
      }
     },
     "metadata": {},
     "output_type": "display_data"
    }
   ],
   "source": [
    "def make_figure(df_graph_bis, region_name, min_decade = 1200, max_decade = 1800, top_identifiers = 5, one_id_country = False):\n",
    "    \n",
    "    \n",
    "    df_fig = df_graph_bis[df_graph_bis['region_name']==region_name]\n",
    "    df_fig = df_fig[df_fig['decade']<=max_decade]\n",
    "    df_fig = df_fig[df_fig['decade']>=min_decade]\n",
    "    \n",
    "    if one_id_country:\n",
    "        \n",
    "        df_fig = df_fig[df_fig['country_name']!='']\n",
    "        one_id_country = df_fig.groupby(['country_name', 'identifier_name'])['score'].sum().reset_index()\n",
    "        one_id_country = one_id_country.sort_values(['country_name', 'score'], ascending=(False, False))\n",
    "        one_id_country = one_id_country.groupby('country_name').head(1)\n",
    "        one_id_country = list(one_id_country['identifier_name'])\n",
    "        df_fig = df_fig[df_fig['identifier_name'].isin(one_id_country)]\n",
    "        \n",
    "    top_ids = df_fig.groupby(['identifier_name'])['score'].sum().reset_index().sort_values('score', ascending=False)\n",
    "\n",
    "    #top_ids = top_ids[top_ids['identifier_name']!='all_identifiers']\n",
    "    top_ids = list(top_ids['identifier_name'][:top_identifiers])\n",
    "    df_fig = df_fig[df_fig['identifier_name'].isin(top_ids)]\n",
    "    df_fig_mean = df_fig.groupby(['decade'])['score'].mean().reset_index()\n",
    "    df_fig_mean['identifier_name'] = 'average'\n",
    "\n",
    "    #df_fig = pd.concat([df_fig, df_fig_mean])\n",
    "\n",
    "    fig = px.line(df_fig, x = 'decade', y = 'score', color = 'identifier_name',\n",
    "                  width = 1200, \n",
    "                  height = 600, \n",
    "                  title = region_name, \n",
    "                  template = 'simple_white',\n",
    "                  category_orders={'identifier_name': top_ids}) \n",
    "                  #line_shape='spline')\n",
    "\n",
    "\n",
    "    #fig.update_layout(legend=dict(title=dict(text='Top 5 Immaterial Production')))\n",
    "    fig.update_traces(opacity=0.25)\n",
    "\n",
    "    fig2 = px.line(df_fig_mean, x = 'decade', y = 'score',color = 'identifier_name',\n",
    "              width = 1200, \n",
    "              height = 600, \n",
    "              title = region_name, \n",
    "              template = 'simple_white')\n",
    "              #line_shape='spline')\n",
    "\n",
    "    fig2.update_traces(line=dict(width=3))\n",
    "    fig3 = go.Figure(data=fig.data + fig2.data)\n",
    "    fig3.update_layout(xaxis_title='', yaxis_title='Number of Individuals',  \n",
    "                       template = 'simple_white',  \n",
    "                       width = 1300, \n",
    "                       height = 800,\n",
    "                      title = region_name)\n",
    "\n",
    "# Update the layout with the category order\n",
    "\n",
    "\n",
    "    #ig3.for_each_trace(lambda t: t.update(name=legend_order.index(t.name)))\n",
    "    fig3.update_layout(legend=dict(title=dict(text='Identifiers')))\n",
    "    #fig3.update_layout(category_orders={'Identifiers': top_ids})\n",
    "    fig3.update_layout(xaxis=dict(dtick=100))\n",
    "    #fig3.update_layout(title_text=region_name)\n",
    "\n",
    "    return fig3, df_fig\n",
    "\n",
    "\n",
    "df_fig_fifty = df_fig.copy()\n",
    "df_fig_fifty['decade'] = df_fig_fifty['decade'].apply(lambda x : round(x/50)*50)\n",
    "df_fig_fifty = df_fig_fifty.groupby(['identifier_name', 'country_name', 'region_name', 'decade'])['score'].sum().reset_index()\n",
    "\n",
    "region_name = 'Italy'\n",
    "\n",
    "fig_italy, df_fig_italy = make_figure(df_fig_fifty, \n",
    "                   region_name = region_name, \n",
    "                   min_decade = -300, \n",
    "                   max_decade = 500, \n",
    "                   top_identifiers = 20,\n",
    "                  one_id_country = True)\n",
    "\n",
    "fig_italy.show()\n",
    "fig_italy.write_image(f\"figures/italy_identifiers.png\", scale=7)"
   ]
  },
  {
   "cell_type": "code",
   "execution_count": 10,
   "id": "55c16212-8d8b-48e0-af57-c64017595fc6",
   "metadata": {
    "tags": []
   },
   "outputs": [
    {
     "data": {
      "text/plain": [
       "0.8901595863749558"
      ]
     },
     "execution_count": 10,
     "metadata": {},
     "output_type": "execute_result"
    }
   ],
   "source": [
    "df_corr = df_fig_italy.pivot(index ='decade', columns = 'identifier_name', values = 'score')\n",
    "df_corr = df_corr.fillna(0)\n",
    "df_corr.corr().stack().mean()"
   ]
  },
  {
   "cell_type": "code",
   "execution_count": null,
   "id": "1507247c-5d19-40cc-bf4a-557fa5314139",
   "metadata": {
    "tags": []
   },
   "outputs": [],
   "source": []
  },
  {
   "cell_type": "code",
   "execution_count": null,
   "id": "9727cd35-1e53-415e-b4ef-d488f969d976",
   "metadata": {},
   "outputs": [],
   "source": []
  },
  {
   "cell_type": "code",
   "execution_count": 11,
   "id": "b44a4737-37c9-4f82-bf1d-3219990e329c",
   "metadata": {},
   "outputs": [
    {
     "data": {
      "application/vnd.plotly.v1+json": {
       "config": {
        "plotlyServerURL": "https://plot.ly"
       },
       "data": [
        {
         "hovertemplate": "identifier_name=GND ID (Germany)<br>decade=%{x}<br>score=%{y}<extra></extra>",
         "legendgroup": "GND ID (Germany)",
         "line": {
          "color": "#1F77B4",
          "dash": "solid"
         },
         "marker": {
          "symbol": "circle"
         },
         "mode": "lines",
         "name": "GND ID (Germany)",
         "opacity": 0.25,
         "orientation": "v",
         "showlegend": true,
         "type": "scatter",
         "x": [
          -800,
          -700,
          -650,
          -600,
          -550,
          -500,
          -450,
          -400,
          -350,
          -300,
          -250,
          -200,
          -150,
          -100,
          -50,
          0,
          50,
          100,
          150,
          200,
          250,
          300,
          350,
          400,
          450,
          500
         ],
         "xaxis": "x",
         "y": [
          5,
          8,
          4,
          45,
          10,
          78,
          43,
          71,
          49,
          54,
          18,
          20,
          16,
          16,
          8,
          9,
          15,
          24,
          13,
          26,
          8,
          19,
          17,
          16,
          17,
          23
         ],
         "yaxis": "y"
        },
        {
         "hovertemplate": "identifier_name=TLG author ID (United States of America)<br>decade=%{x}<br>score=%{y}<extra></extra>",
         "legendgroup": "TLG author ID (United States of America)",
         "line": {
          "color": "#FF7F0E",
          "dash": "solid"
         },
         "marker": {
          "symbol": "circle"
         },
         "mode": "lines",
         "name": "TLG author ID (United States of America)",
         "opacity": 0.25,
         "orientation": "v",
         "showlegend": true,
         "type": "scatter",
         "x": [
          -800,
          -700,
          -650,
          -600,
          -550,
          -500,
          -450,
          -400,
          -350,
          -300,
          -250,
          -200,
          -150,
          -100,
          -50,
          0,
          50,
          100,
          150,
          200,
          250,
          300,
          350,
          400,
          450,
          500
         ],
         "xaxis": "x",
         "y": [
          2,
          6,
          3,
          20,
          9,
          56,
          36,
          55,
          39,
          52,
          18,
          16,
          14,
          11,
          3,
          7,
          11,
          21,
          9,
          18,
          7,
          14,
          11,
          13,
          10,
          18
         ],
         "yaxis": "y"
        },
        {
         "hovertemplate": "identifier_name=CIRIS author ID (France)<br>decade=%{x}<br>score=%{y}<extra></extra>",
         "legendgroup": "CIRIS author ID (France)",
         "line": {
          "color": "#2CA02C",
          "dash": "solid"
         },
         "marker": {
          "symbol": "circle"
         },
         "mode": "lines",
         "name": "CIRIS author ID (France)",
         "opacity": 0.25,
         "orientation": "v",
         "showlegend": true,
         "type": "scatter",
         "x": [
          -800,
          -700,
          -650,
          -600,
          -550,
          -500,
          -450,
          -400,
          -350,
          -300,
          -250,
          -200,
          -150,
          -100,
          -50,
          0,
          50,
          100,
          150,
          200,
          250,
          300,
          350,
          400,
          450,
          500
         ],
         "xaxis": "x",
         "y": [
          3,
          6,
          3,
          16,
          8,
          49,
          28,
          46,
          41,
          45,
          14,
          16,
          12,
          14,
          5,
          8,
          14,
          22,
          11,
          24,
          7,
          15,
          15,
          15,
          14,
          21
         ],
         "yaxis": "y"
        },
        {
         "hovertemplate": "identifier_name=Treccani ID (Italy)<br>decade=%{x}<br>score=%{y}<extra></extra>",
         "legendgroup": "Treccani ID (Italy)",
         "line": {
          "color": "#D62728",
          "dash": "solid"
         },
         "marker": {
          "symbol": "circle"
         },
         "mode": "lines",
         "name": "Treccani ID (Italy)",
         "opacity": 0.25,
         "orientation": "v",
         "showlegend": true,
         "type": "scatter",
         "x": [
          -800,
          -700,
          -650,
          -600,
          -550,
          -500,
          -450,
          -400,
          -350,
          -300,
          -250,
          -200,
          -150,
          -100,
          -50,
          0,
          50,
          100,
          150,
          200,
          250,
          300,
          350,
          400,
          450,
          500
         ],
         "xaxis": "x",
         "y": [
          3,
          5,
          3,
          17,
          8,
          48,
          27,
          34,
          37,
          34,
          9,
          18,
          12,
          10,
          4,
          6,
          11,
          15,
          12,
          20,
          4,
          10,
          15,
          9,
          13,
          14
         ],
         "yaxis": "y"
        },
        {
         "hovertemplate": "identifier_name=Nationale Thesaurus voor Auteurs ID (Netherlands)<br>decade=%{x}<br>score=%{y}<extra></extra>",
         "legendgroup": "Nationale Thesaurus voor Auteurs ID (Netherlands)",
         "line": {
          "color": "#9467BD",
          "dash": "solid"
         },
         "marker": {
          "symbol": "circle"
         },
         "mode": "lines",
         "name": "Nationale Thesaurus voor Auteurs ID (Netherlands)",
         "opacity": 0.25,
         "orientation": "v",
         "showlegend": true,
         "type": "scatter",
         "x": [
          -800,
          -700,
          -650,
          -600,
          -550,
          -500,
          -450,
          -400,
          -350,
          -300,
          -250,
          -200,
          -150,
          -100,
          -50,
          0,
          50,
          100,
          150,
          200,
          250,
          300,
          350,
          400,
          450,
          500
         ],
         "xaxis": "x",
         "y": [
          2,
          3,
          2,
          16,
          8,
          31,
          20,
          29,
          24,
          31,
          10,
          11,
          7,
          9,
          4,
          9,
          11,
          18,
          10,
          17,
          8,
          13,
          13,
          12,
          14,
          23
         ],
         "yaxis": "y"
        },
        {
         "hovertemplate": "identifier_name=Encyclopædia Britannica Online ID (United Kingdom)<br>decade=%{x}<br>score=%{y}<extra></extra>",
         "legendgroup": "Encyclopædia Britannica Online ID (United Kingdom)",
         "line": {
          "color": "#8C564B",
          "dash": "solid"
         },
         "marker": {
          "symbol": "circle"
         },
         "mode": "lines",
         "name": "Encyclopædia Britannica Online ID (United Kingdom)",
         "opacity": 0.25,
         "orientation": "v",
         "showlegend": true,
         "type": "scatter",
         "x": [
          -800,
          -700,
          -650,
          -600,
          -550,
          -500,
          -450,
          -400,
          -350,
          -300,
          -250,
          -200,
          -150,
          -100,
          -50,
          0,
          50,
          100,
          150,
          200,
          250,
          300,
          350,
          400,
          450,
          500
         ],
         "xaxis": "x",
         "y": [
          2,
          8,
          4,
          24,
          8,
          46,
          20,
          28,
          31,
          21,
          9,
          11,
          7,
          6,
          4,
          7,
          9,
          14,
          13,
          14,
          4,
          11,
          16,
          9,
          10,
          14
         ],
         "yaxis": "y"
        },
        {
         "hovertemplate": "identifier_name=National Library of Israel J9U ID (Israel)<br>decade=%{x}<br>score=%{y}<extra></extra>",
         "legendgroup": "National Library of Israel J9U ID (Israel)",
         "line": {
          "color": "#E377C2",
          "dash": "solid"
         },
         "marker": {
          "symbol": "circle"
         },
         "mode": "lines",
         "name": "National Library of Israel J9U ID (Israel)",
         "opacity": 0.25,
         "orientation": "v",
         "showlegend": true,
         "type": "scatter",
         "x": [
          -800,
          -700,
          -650,
          -600,
          -550,
          -500,
          -450,
          -400,
          -350,
          -300,
          -250,
          -200,
          -150,
          -100,
          -50,
          0,
          50,
          100,
          150,
          200,
          250,
          300,
          350,
          400,
          450,
          500
         ],
         "xaxis": "x",
         "y": [
          1,
          4,
          1,
          12,
          6,
          35,
          18,
          25,
          20,
          23,
          8,
          10,
          5,
          7,
          2,
          9,
          14,
          21,
          11,
          15,
          5,
          16,
          15,
          12,
          12,
          23
         ],
         "yaxis": "y"
        },
        {
         "hovertemplate": "identifier_name=Vatican Library VcBA ID (Vatican City)<br>decade=%{x}<br>score=%{y}<extra></extra>",
         "legendgroup": "Vatican Library VcBA ID (Vatican City)",
         "line": {
          "color": "#7F7F7F",
          "dash": "solid"
         },
         "marker": {
          "symbol": "circle"
         },
         "mode": "lines",
         "name": "Vatican Library VcBA ID (Vatican City)",
         "opacity": 0.25,
         "orientation": "v",
         "showlegend": true,
         "type": "scatter",
         "x": [
          -800,
          -700,
          -650,
          -600,
          -550,
          -500,
          -450,
          -400,
          -350,
          -300,
          -250,
          -200,
          -150,
          -100,
          -50,
          0,
          50,
          100,
          150,
          200,
          250,
          300,
          350,
          400,
          450,
          500
         ],
         "xaxis": "x",
         "y": [
          1,
          2,
          2,
          9,
          7,
          21,
          15,
          19,
          17,
          23,
          7,
          9,
          5,
          8,
          3,
          9,
          10,
          17,
          12,
          16,
          4,
          15,
          14,
          10,
          13,
          22
         ],
         "yaxis": "y"
        },
        {
         "hovertemplate": "identifier_name=NUKAT ID (Poland)<br>decade=%{x}<br>score=%{y}<extra></extra>",
         "legendgroup": "NUKAT ID (Poland)",
         "line": {
          "color": "#BCBD22",
          "dash": "solid"
         },
         "marker": {
          "symbol": "circle"
         },
         "mode": "lines",
         "name": "NUKAT ID (Poland)",
         "opacity": 0.25,
         "orientation": "v",
         "showlegend": true,
         "type": "scatter",
         "x": [
          -800,
          -700,
          -650,
          -600,
          -550,
          -500,
          -450,
          -400,
          -350,
          -300,
          -250,
          -200,
          -150,
          -100,
          -50,
          0,
          50,
          100,
          150,
          200,
          250,
          300,
          350,
          400,
          450,
          500
         ],
         "xaxis": "x",
         "y": [
          2,
          3,
          2,
          10,
          6,
          25,
          16,
          16,
          19,
          17,
          10,
          8,
          5,
          7,
          2,
          7,
          10,
          16,
          10,
          12,
          5,
          13,
          13,
          11,
          12,
          22
         ],
         "yaxis": "y"
        },
        {
         "hovertemplate": "identifier_name=NORAF ID (Norway)<br>decade=%{x}<br>score=%{y}<extra></extra>",
         "legendgroup": "NORAF ID (Norway)",
         "line": {
          "color": "#17BECF",
          "dash": "solid"
         },
         "marker": {
          "symbol": "circle"
         },
         "mode": "lines",
         "name": "NORAF ID (Norway)",
         "opacity": 0.25,
         "orientation": "v",
         "showlegend": true,
         "type": "scatter",
         "x": [
          -800,
          -700,
          -650,
          -600,
          -550,
          -500,
          -450,
          -400,
          -350,
          -300,
          -250,
          -200,
          -150,
          -100,
          -50,
          0,
          50,
          100,
          150,
          200,
          250,
          300,
          350,
          400,
          450,
          500
         ],
         "xaxis": "x",
         "y": [
          1,
          1,
          2,
          6,
          7,
          23,
          13,
          20,
          15,
          22,
          7,
          9,
          3,
          6,
          3,
          8,
          11,
          12,
          9,
          13,
          4,
          12,
          12,
          9,
          11,
          19
         ],
         "yaxis": "y"
        },
        {
         "hovertemplate": "identifier_name=Biblioteca Nacional de España ID (Spain)<br>decade=%{x}<br>score=%{y}<extra></extra>",
         "legendgroup": "Biblioteca Nacional de España ID (Spain)",
         "line": {
          "color": "#1F77B4",
          "dash": "solid"
         },
         "marker": {
          "symbol": "circle"
         },
         "mode": "lines",
         "name": "Biblioteca Nacional de España ID (Spain)",
         "opacity": 0.25,
         "orientation": "v",
         "showlegend": true,
         "type": "scatter",
         "x": [
          -800,
          -700,
          -650,
          -600,
          -550,
          -500,
          -450,
          -400,
          -350,
          -300,
          -250,
          -200,
          -150,
          -100,
          -50,
          0,
          50,
          100,
          150,
          200,
          250,
          300,
          350,
          400,
          450,
          500
         ],
         "xaxis": "x",
         "y": [
          2,
          2,
          2,
          8,
          6,
          22,
          12,
          17,
          17,
          19,
          7,
          6,
          5,
          6,
          1,
          7,
          11,
          16,
          8,
          11,
          4,
          12,
          13,
          7,
          9,
          15
         ],
         "yaxis": "y"
        },
        {
         "hovertemplate": "identifier_name=SELIBR ID (Sweden)<br>decade=%{x}<br>score=%{y}<extra></extra>",
         "legendgroup": "SELIBR ID (Sweden)",
         "line": {
          "color": "#FF7F0E",
          "dash": "solid"
         },
         "marker": {
          "symbol": "circle"
         },
         "mode": "lines",
         "name": "SELIBR ID (Sweden)",
         "opacity": 0.25,
         "orientation": "v",
         "showlegend": true,
         "type": "scatter",
         "x": [
          -800,
          -700,
          -650,
          -600,
          -550,
          -500,
          -450,
          -400,
          -350,
          -300,
          -250,
          -200,
          -150,
          -100,
          -50,
          0,
          50,
          100,
          150,
          200,
          250,
          300,
          350,
          400,
          450,
          500
         ],
         "xaxis": "x",
         "y": [
          1,
          2,
          2,
          7,
          7,
          21,
          11,
          12,
          10,
          16,
          6,
          7,
          5,
          5,
          2,
          7,
          10,
          14,
          8,
          12,
          5,
          12,
          11,
          9,
          10,
          19
         ],
         "yaxis": "y"
        },
        {
         "hovertemplate": "identifier_name=Great Russian Encyclopedia Online ID (old version) (Russia)<br>decade=%{x}<br>score=%{y}<extra></extra>",
         "legendgroup": "Great Russian Encyclopedia Online ID (old version) (Russia)",
         "line": {
          "color": "#2CA02C",
          "dash": "solid"
         },
         "marker": {
          "symbol": "circle"
         },
         "mode": "lines",
         "name": "Great Russian Encyclopedia Online ID (old version) (Russia)",
         "opacity": 0.25,
         "orientation": "v",
         "showlegend": true,
         "type": "scatter",
         "x": [
          -800,
          -700,
          -650,
          -600,
          -550,
          -500,
          -450,
          -400,
          -350,
          -300,
          -250,
          -200,
          -150,
          -100,
          -50,
          0,
          50,
          100,
          150,
          200,
          250,
          300,
          350,
          400,
          450,
          500
         ],
         "xaxis": "x",
         "y": [
          1,
          4,
          2,
          11,
          6,
          32,
          15,
          21,
          18,
          16,
          6,
          6,
          3,
          6,
          2,
          6,
          7,
          10,
          3,
          9,
          2,
          8,
          9,
          4,
          5,
          11
         ],
         "yaxis": "y"
        },
        {
         "hovertemplate": "identifier_name=National Library of Greece ID (Greece)<br>decade=%{x}<br>score=%{y}<extra></extra>",
         "legendgroup": "National Library of Greece ID (Greece)",
         "line": {
          "color": "#D62728",
          "dash": "solid"
         },
         "marker": {
          "symbol": "circle"
         },
         "mode": "lines",
         "name": "National Library of Greece ID (Greece)",
         "opacity": 0.25,
         "orientation": "v",
         "showlegend": true,
         "type": "scatter",
         "x": [
          -800,
          -700,
          -650,
          -600,
          -550,
          -500,
          -450,
          -400,
          -350,
          -300,
          -250,
          -200,
          -150,
          -100,
          -50,
          0,
          50,
          100,
          150,
          200,
          250,
          300,
          350,
          400,
          450,
          500
         ],
         "xaxis": "x",
         "y": [
          1,
          2,
          2,
          8,
          6,
          16,
          13,
          12,
          15,
          11,
          7,
          4,
          5,
          4,
          1,
          5,
          9,
          9,
          5,
          10,
          3,
          10,
          14,
          7,
          7,
          12
         ],
         "yaxis": "y"
        },
        {
         "hovertemplate": "identifier_name=Hrvatska enciklopedija ID (Croatia)<br>decade=%{x}<br>score=%{y}<extra></extra>",
         "legendgroup": "Hrvatska enciklopedija ID (Croatia)",
         "line": {
          "color": "#9467BD",
          "dash": "solid"
         },
         "marker": {
          "symbol": "circle"
         },
         "mode": "lines",
         "name": "Hrvatska enciklopedija ID (Croatia)",
         "opacity": 0.25,
         "orientation": "v",
         "showlegend": true,
         "type": "scatter",
         "x": [
          -800,
          -700,
          -650,
          -600,
          -550,
          -500,
          -450,
          -400,
          -350,
          -300,
          -250,
          -200,
          -150,
          -100,
          -50,
          0,
          50,
          100,
          150,
          200,
          250,
          300,
          350,
          400,
          450,
          500
         ],
         "xaxis": "x",
         "y": [
          2,
          5,
          1,
          10,
          7,
          27,
          16,
          15,
          16,
          13,
          5,
          5,
          5,
          6,
          1,
          6,
          7,
          6,
          4,
          6,
          2,
          6,
          9,
          4,
          3,
          5
         ],
         "yaxis": "y"
        },
        {
         "hovertemplate": "identifier_name=NKCR AUT ID (Czech Republic)<br>decade=%{x}<br>score=%{y}<extra></extra>",
         "legendgroup": "NKCR AUT ID (Czech Republic)",
         "line": {
          "color": "#8C564B",
          "dash": "solid"
         },
         "marker": {
          "symbol": "circle"
         },
         "mode": "lines",
         "name": "NKCR AUT ID (Czech Republic)",
         "opacity": 0.25,
         "orientation": "v",
         "showlegend": true,
         "type": "scatter",
         "x": [
          -800,
          -700,
          -650,
          -600,
          -550,
          -500,
          -450,
          -400,
          -350,
          -300,
          -250,
          -200,
          -150,
          -100,
          -50,
          0,
          50,
          100,
          150,
          200,
          250,
          300,
          350,
          400,
          450,
          500
         ],
         "xaxis": "x",
         "y": [
          1,
          2,
          2,
          7,
          6,
          17,
          11,
          11,
          10,
          10,
          4,
          3,
          3,
          4,
          1,
          8,
          8,
          11,
          8,
          11,
          4,
          11,
          12,
          6,
          5,
          13
         ],
         "yaxis": "y"
        },
        {
         "hovertemplate": "identifier_name=Canadiana Name Authority ID (Canada)<br>decade=%{x}<br>score=%{y}<extra></extra>",
         "legendgroup": "Canadiana Name Authority ID (Canada)",
         "line": {
          "color": "#E377C2",
          "dash": "solid"
         },
         "marker": {
          "symbol": "circle"
         },
         "mode": "lines",
         "name": "Canadiana Name Authority ID (Canada)",
         "opacity": 0.25,
         "orientation": "v",
         "showlegend": true,
         "type": "scatter",
         "x": [
          -800,
          -650,
          -600,
          -550,
          -500,
          -450,
          -400,
          -350,
          -300,
          -250,
          -200,
          -150,
          -100,
          -50,
          0,
          50,
          100,
          150,
          200,
          250,
          300,
          350,
          400,
          450,
          500
         ],
         "xaxis": "x",
         "y": [
          1,
          1,
          10,
          5,
          15,
          11,
          13,
          9,
          9,
          5,
          6,
          2,
          5,
          2,
          6,
          10,
          7,
          9,
          7,
          2,
          11,
          11,
          8,
          6,
          11
         ],
         "yaxis": "y"
        },
        {
         "hovertemplate": "identifier_name=CiNii Books author ID (Japan)<br>decade=%{x}<br>score=%{y}<extra></extra>",
         "legendgroup": "CiNii Books author ID (Japan)",
         "line": {
          "color": "#7F7F7F",
          "dash": "solid"
         },
         "marker": {
          "symbol": "circle"
         },
         "mode": "lines",
         "name": "CiNii Books author ID (Japan)",
         "opacity": 0.25,
         "orientation": "v",
         "showlegend": true,
         "type": "scatter",
         "x": [
          -800,
          -700,
          -650,
          -600,
          -550,
          -500,
          -450,
          -400,
          -350,
          -300,
          -250,
          -200,
          -150,
          -100,
          -50,
          0,
          50,
          100,
          150,
          200,
          250,
          300,
          350,
          400,
          450,
          500
         ],
         "xaxis": "x",
         "y": [
          1,
          3,
          1,
          7,
          4,
          13,
          10,
          10,
          10,
          13,
          6,
          5,
          3,
          3,
          2,
          5,
          10,
          11,
          6,
          13,
          2,
          12,
          9,
          3,
          6,
          12
         ],
         "yaxis": "y"
        },
        {
         "hovertemplate": "identifier_name=Den Store Danske ID (Denmark)<br>decade=%{x}<br>score=%{y}<extra></extra>",
         "legendgroup": "Den Store Danske ID (Denmark)",
         "line": {
          "color": "#BCBD22",
          "dash": "solid"
         },
         "marker": {
          "symbol": "circle"
         },
         "mode": "lines",
         "name": "Den Store Danske ID (Denmark)",
         "opacity": 0.25,
         "orientation": "v",
         "showlegend": true,
         "type": "scatter",
         "x": [
          -800,
          -650,
          -600,
          -550,
          -500,
          -450,
          -400,
          -350,
          -300,
          -250,
          -200,
          -150,
          -100,
          -50,
          0,
          50,
          100,
          150,
          200,
          250,
          300,
          350,
          400,
          450,
          500
         ],
         "xaxis": "x",
         "y": [
          1,
          2,
          10,
          6,
          23,
          13,
          14,
          7,
          13,
          5,
          8,
          2,
          3,
          2,
          6,
          5,
          5,
          5,
          8,
          2,
          6,
          8,
          1,
          5,
          2
         ],
         "yaxis": "y"
        },
        {
         "hovertemplate": "identifier_name=NLA Trove people ID (Australia)<br>decade=%{x}<br>score=%{y}<extra></extra>",
         "legendgroup": "NLA Trove people ID (Australia)",
         "line": {
          "color": "#17BECF",
          "dash": "solid"
         },
         "marker": {
          "symbol": "circle"
         },
         "mode": "lines",
         "name": "NLA Trove people ID (Australia)",
         "opacity": 0.25,
         "orientation": "v",
         "showlegend": true,
         "type": "scatter",
         "x": [
          -800,
          -600,
          -550,
          -500,
          -450,
          -400,
          -350,
          -300,
          -250,
          -200,
          -150,
          -100,
          -50,
          0,
          50,
          100,
          150,
          200,
          250,
          300,
          350,
          400,
          450,
          500
         ],
         "xaxis": "x",
         "y": [
          1,
          3,
          5,
          11,
          8,
          6,
          6,
          7,
          3,
          3,
          1,
          3,
          1,
          6,
          8,
          9,
          6,
          7,
          2,
          12,
          12,
          3,
          8,
          11
         ],
         "yaxis": "y"
        },
        {
         "hovertemplate": "identifier_name=average<br>decade=%{x}<br>score=%{y}<extra></extra>",
         "legendgroup": "average",
         "line": {
          "color": "#1F77B4",
          "dash": "solid",
          "width": 3
         },
         "marker": {
          "symbol": "circle"
         },
         "mode": "lines",
         "name": "average",
         "orientation": "v",
         "showlegend": true,
         "type": "scatter",
         "x": [
          -800,
          -700,
          -650,
          -600,
          -550,
          -500,
          -450,
          -400,
          -350,
          -300,
          -250,
          -200,
          -150,
          -100,
          -50,
          0,
          50,
          100,
          150,
          200,
          250,
          300,
          350,
          400,
          450,
          500
         ],
         "xaxis": "x",
         "y": [
          1.7,
          3.8823529411764706,
          2.1578947368421053,
          12.8,
          6.75,
          30.45,
          17.8,
          23.7,
          20.5,
          22.45,
          8.2,
          9.05,
          6,
          6.95,
          2.65,
          7.05,
          10.05,
          13.9,
          8.6,
          13.45,
          4.2,
          11.9,
          12.45,
          8.4,
          9.5,
          15.5
         ],
         "yaxis": "y"
        }
       ],
       "layout": {
        "height": 800,
        "legend": {
         "title": {
          "text": "Identifiers"
         }
        },
        "template": {
         "data": {
          "bar": [
           {
            "error_x": {
             "color": "rgb(36,36,36)"
            },
            "error_y": {
             "color": "rgb(36,36,36)"
            },
            "marker": {
             "line": {
              "color": "white",
              "width": 0.5
             },
             "pattern": {
              "fillmode": "overlay",
              "size": 10,
              "solidity": 0.2
             }
            },
            "type": "bar"
           }
          ],
          "barpolar": [
           {
            "marker": {
             "line": {
              "color": "white",
              "width": 0.5
             },
             "pattern": {
              "fillmode": "overlay",
              "size": 10,
              "solidity": 0.2
             }
            },
            "type": "barpolar"
           }
          ],
          "carpet": [
           {
            "aaxis": {
             "endlinecolor": "rgb(36,36,36)",
             "gridcolor": "white",
             "linecolor": "white",
             "minorgridcolor": "white",
             "startlinecolor": "rgb(36,36,36)"
            },
            "baxis": {
             "endlinecolor": "rgb(36,36,36)",
             "gridcolor": "white",
             "linecolor": "white",
             "minorgridcolor": "white",
             "startlinecolor": "rgb(36,36,36)"
            },
            "type": "carpet"
           }
          ],
          "choropleth": [
           {
            "colorbar": {
             "outlinewidth": 1,
             "tickcolor": "rgb(36,36,36)",
             "ticks": "outside"
            },
            "type": "choropleth"
           }
          ],
          "contour": [
           {
            "colorbar": {
             "outlinewidth": 1,
             "tickcolor": "rgb(36,36,36)",
             "ticks": "outside"
            },
            "colorscale": [
             [
              0,
              "#440154"
             ],
             [
              0.1111111111111111,
              "#482878"
             ],
             [
              0.2222222222222222,
              "#3e4989"
             ],
             [
              0.3333333333333333,
              "#31688e"
             ],
             [
              0.4444444444444444,
              "#26828e"
             ],
             [
              0.5555555555555556,
              "#1f9e89"
             ],
             [
              0.6666666666666666,
              "#35b779"
             ],
             [
              0.7777777777777778,
              "#6ece58"
             ],
             [
              0.8888888888888888,
              "#b5de2b"
             ],
             [
              1,
              "#fde725"
             ]
            ],
            "type": "contour"
           }
          ],
          "contourcarpet": [
           {
            "colorbar": {
             "outlinewidth": 1,
             "tickcolor": "rgb(36,36,36)",
             "ticks": "outside"
            },
            "type": "contourcarpet"
           }
          ],
          "heatmap": [
           {
            "colorbar": {
             "outlinewidth": 1,
             "tickcolor": "rgb(36,36,36)",
             "ticks": "outside"
            },
            "colorscale": [
             [
              0,
              "#440154"
             ],
             [
              0.1111111111111111,
              "#482878"
             ],
             [
              0.2222222222222222,
              "#3e4989"
             ],
             [
              0.3333333333333333,
              "#31688e"
             ],
             [
              0.4444444444444444,
              "#26828e"
             ],
             [
              0.5555555555555556,
              "#1f9e89"
             ],
             [
              0.6666666666666666,
              "#35b779"
             ],
             [
              0.7777777777777778,
              "#6ece58"
             ],
             [
              0.8888888888888888,
              "#b5de2b"
             ],
             [
              1,
              "#fde725"
             ]
            ],
            "type": "heatmap"
           }
          ],
          "heatmapgl": [
           {
            "colorbar": {
             "outlinewidth": 1,
             "tickcolor": "rgb(36,36,36)",
             "ticks": "outside"
            },
            "colorscale": [
             [
              0,
              "#440154"
             ],
             [
              0.1111111111111111,
              "#482878"
             ],
             [
              0.2222222222222222,
              "#3e4989"
             ],
             [
              0.3333333333333333,
              "#31688e"
             ],
             [
              0.4444444444444444,
              "#26828e"
             ],
             [
              0.5555555555555556,
              "#1f9e89"
             ],
             [
              0.6666666666666666,
              "#35b779"
             ],
             [
              0.7777777777777778,
              "#6ece58"
             ],
             [
              0.8888888888888888,
              "#b5de2b"
             ],
             [
              1,
              "#fde725"
             ]
            ],
            "type": "heatmapgl"
           }
          ],
          "histogram": [
           {
            "marker": {
             "line": {
              "color": "white",
              "width": 0.6
             }
            },
            "type": "histogram"
           }
          ],
          "histogram2d": [
           {
            "colorbar": {
             "outlinewidth": 1,
             "tickcolor": "rgb(36,36,36)",
             "ticks": "outside"
            },
            "colorscale": [
             [
              0,
              "#440154"
             ],
             [
              0.1111111111111111,
              "#482878"
             ],
             [
              0.2222222222222222,
              "#3e4989"
             ],
             [
              0.3333333333333333,
              "#31688e"
             ],
             [
              0.4444444444444444,
              "#26828e"
             ],
             [
              0.5555555555555556,
              "#1f9e89"
             ],
             [
              0.6666666666666666,
              "#35b779"
             ],
             [
              0.7777777777777778,
              "#6ece58"
             ],
             [
              0.8888888888888888,
              "#b5de2b"
             ],
             [
              1,
              "#fde725"
             ]
            ],
            "type": "histogram2d"
           }
          ],
          "histogram2dcontour": [
           {
            "colorbar": {
             "outlinewidth": 1,
             "tickcolor": "rgb(36,36,36)",
             "ticks": "outside"
            },
            "colorscale": [
             [
              0,
              "#440154"
             ],
             [
              0.1111111111111111,
              "#482878"
             ],
             [
              0.2222222222222222,
              "#3e4989"
             ],
             [
              0.3333333333333333,
              "#31688e"
             ],
             [
              0.4444444444444444,
              "#26828e"
             ],
             [
              0.5555555555555556,
              "#1f9e89"
             ],
             [
              0.6666666666666666,
              "#35b779"
             ],
             [
              0.7777777777777778,
              "#6ece58"
             ],
             [
              0.8888888888888888,
              "#b5de2b"
             ],
             [
              1,
              "#fde725"
             ]
            ],
            "type": "histogram2dcontour"
           }
          ],
          "mesh3d": [
           {
            "colorbar": {
             "outlinewidth": 1,
             "tickcolor": "rgb(36,36,36)",
             "ticks": "outside"
            },
            "type": "mesh3d"
           }
          ],
          "parcoords": [
           {
            "line": {
             "colorbar": {
              "outlinewidth": 1,
              "tickcolor": "rgb(36,36,36)",
              "ticks": "outside"
             }
            },
            "type": "parcoords"
           }
          ],
          "pie": [
           {
            "automargin": true,
            "type": "pie"
           }
          ],
          "scatter": [
           {
            "fillpattern": {
             "fillmode": "overlay",
             "size": 10,
             "solidity": 0.2
            },
            "type": "scatter"
           }
          ],
          "scatter3d": [
           {
            "line": {
             "colorbar": {
              "outlinewidth": 1,
              "tickcolor": "rgb(36,36,36)",
              "ticks": "outside"
             }
            },
            "marker": {
             "colorbar": {
              "outlinewidth": 1,
              "tickcolor": "rgb(36,36,36)",
              "ticks": "outside"
             }
            },
            "type": "scatter3d"
           }
          ],
          "scattercarpet": [
           {
            "marker": {
             "colorbar": {
              "outlinewidth": 1,
              "tickcolor": "rgb(36,36,36)",
              "ticks": "outside"
             }
            },
            "type": "scattercarpet"
           }
          ],
          "scattergeo": [
           {
            "marker": {
             "colorbar": {
              "outlinewidth": 1,
              "tickcolor": "rgb(36,36,36)",
              "ticks": "outside"
             }
            },
            "type": "scattergeo"
           }
          ],
          "scattergl": [
           {
            "marker": {
             "colorbar": {
              "outlinewidth": 1,
              "tickcolor": "rgb(36,36,36)",
              "ticks": "outside"
             }
            },
            "type": "scattergl"
           }
          ],
          "scattermapbox": [
           {
            "marker": {
             "colorbar": {
              "outlinewidth": 1,
              "tickcolor": "rgb(36,36,36)",
              "ticks": "outside"
             }
            },
            "type": "scattermapbox"
           }
          ],
          "scatterpolar": [
           {
            "marker": {
             "colorbar": {
              "outlinewidth": 1,
              "tickcolor": "rgb(36,36,36)",
              "ticks": "outside"
             }
            },
            "type": "scatterpolar"
           }
          ],
          "scatterpolargl": [
           {
            "marker": {
             "colorbar": {
              "outlinewidth": 1,
              "tickcolor": "rgb(36,36,36)",
              "ticks": "outside"
             }
            },
            "type": "scatterpolargl"
           }
          ],
          "scatterternary": [
           {
            "marker": {
             "colorbar": {
              "outlinewidth": 1,
              "tickcolor": "rgb(36,36,36)",
              "ticks": "outside"
             }
            },
            "type": "scatterternary"
           }
          ],
          "surface": [
           {
            "colorbar": {
             "outlinewidth": 1,
             "tickcolor": "rgb(36,36,36)",
             "ticks": "outside"
            },
            "colorscale": [
             [
              0,
              "#440154"
             ],
             [
              0.1111111111111111,
              "#482878"
             ],
             [
              0.2222222222222222,
              "#3e4989"
             ],
             [
              0.3333333333333333,
              "#31688e"
             ],
             [
              0.4444444444444444,
              "#26828e"
             ],
             [
              0.5555555555555556,
              "#1f9e89"
             ],
             [
              0.6666666666666666,
              "#35b779"
             ],
             [
              0.7777777777777778,
              "#6ece58"
             ],
             [
              0.8888888888888888,
              "#b5de2b"
             ],
             [
              1,
              "#fde725"
             ]
            ],
            "type": "surface"
           }
          ],
          "table": [
           {
            "cells": {
             "fill": {
              "color": "rgb(237,237,237)"
             },
             "line": {
              "color": "white"
             }
            },
            "header": {
             "fill": {
              "color": "rgb(217,217,217)"
             },
             "line": {
              "color": "white"
             }
            },
            "type": "table"
           }
          ]
         },
         "layout": {
          "annotationdefaults": {
           "arrowhead": 0,
           "arrowwidth": 1
          },
          "autotypenumbers": "strict",
          "coloraxis": {
           "colorbar": {
            "outlinewidth": 1,
            "tickcolor": "rgb(36,36,36)",
            "ticks": "outside"
           }
          },
          "colorscale": {
           "diverging": [
            [
             0,
             "rgb(103,0,31)"
            ],
            [
             0.1,
             "rgb(178,24,43)"
            ],
            [
             0.2,
             "rgb(214,96,77)"
            ],
            [
             0.3,
             "rgb(244,165,130)"
            ],
            [
             0.4,
             "rgb(253,219,199)"
            ],
            [
             0.5,
             "rgb(247,247,247)"
            ],
            [
             0.6,
             "rgb(209,229,240)"
            ],
            [
             0.7,
             "rgb(146,197,222)"
            ],
            [
             0.8,
             "rgb(67,147,195)"
            ],
            [
             0.9,
             "rgb(33,102,172)"
            ],
            [
             1,
             "rgb(5,48,97)"
            ]
           ],
           "sequential": [
            [
             0,
             "#440154"
            ],
            [
             0.1111111111111111,
             "#482878"
            ],
            [
             0.2222222222222222,
             "#3e4989"
            ],
            [
             0.3333333333333333,
             "#31688e"
            ],
            [
             0.4444444444444444,
             "#26828e"
            ],
            [
             0.5555555555555556,
             "#1f9e89"
            ],
            [
             0.6666666666666666,
             "#35b779"
            ],
            [
             0.7777777777777778,
             "#6ece58"
            ],
            [
             0.8888888888888888,
             "#b5de2b"
            ],
            [
             1,
             "#fde725"
            ]
           ],
           "sequentialminus": [
            [
             0,
             "#440154"
            ],
            [
             0.1111111111111111,
             "#482878"
            ],
            [
             0.2222222222222222,
             "#3e4989"
            ],
            [
             0.3333333333333333,
             "#31688e"
            ],
            [
             0.4444444444444444,
             "#26828e"
            ],
            [
             0.5555555555555556,
             "#1f9e89"
            ],
            [
             0.6666666666666666,
             "#35b779"
            ],
            [
             0.7777777777777778,
             "#6ece58"
            ],
            [
             0.8888888888888888,
             "#b5de2b"
            ],
            [
             1,
             "#fde725"
            ]
           ]
          },
          "colorway": [
           "#1F77B4",
           "#FF7F0E",
           "#2CA02C",
           "#D62728",
           "#9467BD",
           "#8C564B",
           "#E377C2",
           "#7F7F7F",
           "#BCBD22",
           "#17BECF"
          ],
          "font": {
           "color": "rgb(36,36,36)"
          },
          "geo": {
           "bgcolor": "white",
           "lakecolor": "white",
           "landcolor": "white",
           "showlakes": true,
           "showland": true,
           "subunitcolor": "white"
          },
          "hoverlabel": {
           "align": "left"
          },
          "hovermode": "closest",
          "mapbox": {
           "style": "light"
          },
          "paper_bgcolor": "white",
          "plot_bgcolor": "white",
          "polar": {
           "angularaxis": {
            "gridcolor": "rgb(232,232,232)",
            "linecolor": "rgb(36,36,36)",
            "showgrid": false,
            "showline": true,
            "ticks": "outside"
           },
           "bgcolor": "white",
           "radialaxis": {
            "gridcolor": "rgb(232,232,232)",
            "linecolor": "rgb(36,36,36)",
            "showgrid": false,
            "showline": true,
            "ticks": "outside"
           }
          },
          "scene": {
           "xaxis": {
            "backgroundcolor": "white",
            "gridcolor": "rgb(232,232,232)",
            "gridwidth": 2,
            "linecolor": "rgb(36,36,36)",
            "showbackground": true,
            "showgrid": false,
            "showline": true,
            "ticks": "outside",
            "zeroline": false,
            "zerolinecolor": "rgb(36,36,36)"
           },
           "yaxis": {
            "backgroundcolor": "white",
            "gridcolor": "rgb(232,232,232)",
            "gridwidth": 2,
            "linecolor": "rgb(36,36,36)",
            "showbackground": true,
            "showgrid": false,
            "showline": true,
            "ticks": "outside",
            "zeroline": false,
            "zerolinecolor": "rgb(36,36,36)"
           },
           "zaxis": {
            "backgroundcolor": "white",
            "gridcolor": "rgb(232,232,232)",
            "gridwidth": 2,
            "linecolor": "rgb(36,36,36)",
            "showbackground": true,
            "showgrid": false,
            "showline": true,
            "ticks": "outside",
            "zeroline": false,
            "zerolinecolor": "rgb(36,36,36)"
           }
          },
          "shapedefaults": {
           "fillcolor": "black",
           "line": {
            "width": 0
           },
           "opacity": 0.3
          },
          "ternary": {
           "aaxis": {
            "gridcolor": "rgb(232,232,232)",
            "linecolor": "rgb(36,36,36)",
            "showgrid": false,
            "showline": true,
            "ticks": "outside"
           },
           "baxis": {
            "gridcolor": "rgb(232,232,232)",
            "linecolor": "rgb(36,36,36)",
            "showgrid": false,
            "showline": true,
            "ticks": "outside"
           },
           "bgcolor": "white",
           "caxis": {
            "gridcolor": "rgb(232,232,232)",
            "linecolor": "rgb(36,36,36)",
            "showgrid": false,
            "showline": true,
            "ticks": "outside"
           }
          },
          "title": {
           "x": 0.05
          },
          "xaxis": {
           "automargin": true,
           "gridcolor": "rgb(232,232,232)",
           "linecolor": "rgb(36,36,36)",
           "showgrid": false,
           "showline": true,
           "ticks": "outside",
           "title": {
            "standoff": 15
           },
           "zeroline": false,
           "zerolinecolor": "rgb(36,36,36)"
          },
          "yaxis": {
           "automargin": true,
           "gridcolor": "rgb(232,232,232)",
           "linecolor": "rgb(36,36,36)",
           "showgrid": false,
           "showline": true,
           "ticks": "outside",
           "title": {
            "standoff": 15
           },
           "zeroline": false,
           "zerolinecolor": "rgb(36,36,36)"
          }
         }
        },
        "title": {
         "text": "Greek World"
        },
        "width": 1300,
        "xaxis": {
         "dtick": 100,
         "title": {
          "text": ""
         }
        },
        "yaxis": {
         "title": {
          "text": "Number of Individuals"
         }
        }
       }
      }
     },
     "metadata": {},
     "output_type": "display_data"
    }
   ],
   "source": [
    "fig_greek, df_fig_greek = make_figure(df_fig_fifty, region_name = 'Greek World', min_decade = -800, max_decade = 500, top_identifiers = 20,\n",
    "                  one_id_country = True)\n",
    "\n",
    "fig_greek.write_image(f\"figures/greek_identifiers.png\", scale=7)\n",
    "fig_greek.show()"
   ]
  },
  {
   "cell_type": "code",
   "execution_count": 12,
   "id": "4dc333e3-1e8c-4e19-a10b-63f114aba4a3",
   "metadata": {
    "tags": []
   },
   "outputs": [
    {
     "data": {
      "text/plain": [
       "0.8321062197606176"
      ]
     },
     "execution_count": 12,
     "metadata": {},
     "output_type": "execute_result"
    }
   ],
   "source": [
    "df_corr = df_fig_greek.pivot(index ='decade', columns = 'identifier_name', values = 'score')\n",
    "df_corr = df_corr.fillna(0)\n",
    "df_corr.corr().stack().mean()"
   ]
  },
  {
   "cell_type": "code",
   "execution_count": 13,
   "id": "6a34e194-67aa-4e67-a502-936030b7c9bb",
   "metadata": {
    "tags": []
   },
   "outputs": [
    {
     "data": {
      "application/vnd.plotly.v1+json": {
       "config": {
        "plotlyServerURL": "https://plot.ly"
       },
       "data": [
        {
         "hovertemplate": "identifier_name=CBDB ID (United States of America)<br>decade=%{x}<br>score=%{y}<extra></extra>",
         "legendgroup": "CBDB ID (United States of America)",
         "line": {
          "color": "#1F77B4",
          "dash": "solid"
         },
         "marker": {
          "symbol": "circle"
         },
         "mode": "lines",
         "name": "CBDB ID (United States of America)",
         "opacity": 0.25,
         "orientation": "v",
         "showlegend": true,
         "type": "scatter",
         "x": [
          -700,
          -550,
          -250,
          -200,
          -150,
          -50,
          0,
          50,
          100,
          150,
          200,
          250,
          300,
          350,
          400,
          450,
          500,
          550,
          600,
          650,
          700,
          750,
          800,
          850,
          900,
          950,
          1000,
          1050,
          1100,
          1150,
          1200,
          1250,
          1300,
          1350,
          1400,
          1450,
          1500,
          1550,
          1600,
          1650,
          1700,
          1750,
          1800
         ],
         "xaxis": "x",
         "y": [
          2,
          2,
          1,
          3,
          5,
          1,
          2,
          5,
          1,
          12,
          9,
          5,
          5,
          3,
          2,
          6,
          2,
          11,
          17,
          12,
          32,
          27,
          18,
          17,
          17,
          12,
          21,
          18,
          17,
          17,
          20,
          59,
          49,
          62,
          34,
          50,
          75,
          51,
          207,
          179,
          117,
          218,
          198
         ],
         "yaxis": "y"
        },
        {
         "hovertemplate": "identifier_name=ctext data entity ID (People's Republic of China)<br>decade=%{x}<br>score=%{y}<extra></extra>",
         "legendgroup": "ctext data entity ID (People's Republic of China)",
         "line": {
          "color": "#FF7F0E",
          "dash": "solid"
         },
         "marker": {
          "symbol": "circle"
         },
         "mode": "lines",
         "name": "ctext data entity ID (People's Republic of China)",
         "opacity": 0.25,
         "orientation": "v",
         "showlegend": true,
         "type": "scatter",
         "x": [
          -700,
          -550,
          -500,
          -400,
          -350,
          -300,
          -250,
          -200,
          -150,
          -50,
          0,
          50,
          100,
          150,
          200,
          250,
          300,
          350,
          400,
          450,
          500,
          550,
          600,
          650,
          700,
          750,
          800,
          850,
          900,
          950,
          1000,
          1050,
          1100,
          1150,
          1200,
          1250,
          1300,
          1350,
          1400,
          1450,
          1500,
          1550,
          1600,
          1650,
          1700,
          1750,
          1800
         ],
         "xaxis": "x",
         "y": [
          1,
          2,
          1,
          1,
          1,
          1,
          3,
          1,
          4,
          6,
          2,
          7,
          4,
          16,
          20,
          16,
          10,
          6,
          3,
          5,
          3,
          10,
          11,
          6,
          19,
          19,
          12,
          14,
          12,
          12,
          21,
          18,
          15,
          14,
          12,
          38,
          35,
          40,
          19,
          26,
          55,
          41,
          135,
          120,
          84,
          129,
          93
         ],
         "yaxis": "y"
        },
        {
         "hovertemplate": "identifier_name=GND ID (Germany)<br>decade=%{x}<br>score=%{y}<extra></extra>",
         "legendgroup": "GND ID (Germany)",
         "line": {
          "color": "#2CA02C",
          "dash": "solid"
         },
         "marker": {
          "symbol": "circle"
         },
         "mode": "lines",
         "name": "GND ID (Germany)",
         "opacity": 0.25,
         "orientation": "v",
         "showlegend": true,
         "type": "scatter",
         "x": [
          -700,
          -550,
          -500,
          -450,
          -400,
          -350,
          -300,
          -250,
          -200,
          -150,
          -50,
          0,
          50,
          100,
          150,
          200,
          250,
          300,
          350,
          400,
          450,
          500,
          550,
          600,
          650,
          700,
          750,
          800,
          850,
          900,
          950,
          1000,
          1050,
          1100,
          1150,
          1200,
          1250,
          1300,
          1350,
          1400,
          1450,
          1500,
          1550,
          1600,
          1650,
          1700,
          1750,
          1800
         ],
         "xaxis": "x",
         "y": [
          1,
          3,
          1,
          1,
          3,
          2,
          3,
          2,
          2,
          5,
          5,
          2,
          7,
          2,
          6,
          10,
          8,
          4,
          9,
          6,
          6,
          4,
          8,
          11,
          8,
          16,
          12,
          10,
          11,
          5,
          5,
          22,
          18,
          14,
          10,
          10,
          34,
          16,
          18,
          10,
          19,
          25,
          35,
          91,
          66,
          55,
          55,
          70
         ],
         "yaxis": "y"
        },
        {
         "hovertemplate": "identifier_name=Academia Sinica authority ID (Taiwan)<br>decade=%{x}<br>score=%{y}<extra></extra>",
         "legendgroup": "Academia Sinica authority ID (Taiwan)",
         "line": {
          "color": "#D62728",
          "dash": "solid"
         },
         "marker": {
          "symbol": "circle"
         },
         "mode": "lines",
         "name": "Academia Sinica authority ID (Taiwan)",
         "opacity": 0.25,
         "orientation": "v",
         "showlegend": true,
         "type": "scatter",
         "x": [
          -150,
          150,
          200,
          300,
          350,
          450,
          550,
          600,
          750,
          800,
          950,
          1000,
          1050,
          1100,
          1150,
          1250,
          1300,
          1350,
          1400,
          1450,
          1500,
          1550,
          1600,
          1650,
          1700,
          1750,
          1800
         ],
         "xaxis": "x",
         "y": [
          2,
          2,
          2,
          1,
          1,
          1,
          1,
          1,
          5,
          1,
          1,
          4,
          4,
          3,
          2,
          4,
          26,
          40,
          20,
          32,
          43,
          35,
          121,
          94,
          71,
          102,
          64
         ],
         "yaxis": "y"
        },
        {
         "hovertemplate": "identifier_name=NLA Trove people ID (Australia)<br>decade=%{x}<br>score=%{y}<extra></extra>",
         "legendgroup": "NLA Trove people ID (Australia)",
         "line": {
          "color": "#9467BD",
          "dash": "solid"
         },
         "marker": {
          "symbol": "circle"
         },
         "mode": "lines",
         "name": "NLA Trove people ID (Australia)",
         "opacity": 0.25,
         "orientation": "v",
         "showlegend": true,
         "type": "scatter",
         "x": [
          -550,
          -500,
          -400,
          -350,
          -250,
          -150,
          -50,
          0,
          50,
          100,
          150,
          200,
          250,
          300,
          350,
          400,
          450,
          500,
          550,
          600,
          650,
          700,
          750,
          800,
          850,
          900,
          950,
          1000,
          1050,
          1100,
          1150,
          1200,
          1250,
          1300,
          1350,
          1400,
          1450,
          1500,
          1550,
          1600,
          1650,
          1700,
          1750,
          1800
         ],
         "xaxis": "x",
         "y": [
          3,
          1,
          2,
          2,
          2,
          4,
          2,
          2,
          5,
          2,
          5,
          5,
          7,
          4,
          8,
          6,
          4,
          2,
          8,
          9,
          5,
          19,
          13,
          6,
          5,
          7,
          8,
          17,
          19,
          12,
          9,
          5,
          24,
          16,
          21,
          13,
          19,
          37,
          35,
          85,
          52,
          51,
          58,
          61
         ],
         "yaxis": "y"
        },
        {
         "hovertemplate": "identifier_name=Nationale Thesaurus voor Auteurs ID (Netherlands)<br>decade=%{x}<br>score=%{y}<extra></extra>",
         "legendgroup": "Nationale Thesaurus voor Auteurs ID (Netherlands)",
         "line": {
          "color": "#8C564B",
          "dash": "solid"
         },
         "marker": {
          "symbol": "circle"
         },
         "mode": "lines",
         "name": "Nationale Thesaurus voor Auteurs ID (Netherlands)",
         "opacity": 0.25,
         "orientation": "v",
         "showlegend": true,
         "type": "scatter",
         "x": [
          -700,
          -550,
          -450,
          -400,
          -350,
          -300,
          -250,
          -200,
          -150,
          -50,
          0,
          50,
          100,
          150,
          200,
          250,
          300,
          350,
          400,
          450,
          500,
          550,
          600,
          650,
          700,
          750,
          800,
          850,
          900,
          950,
          1000,
          1050,
          1100,
          1150,
          1200,
          1250,
          1300,
          1350,
          1400,
          1450,
          1500,
          1550,
          1600,
          1650,
          1700,
          1750,
          1800
         ],
         "xaxis": "x",
         "y": [
          1,
          3,
          1,
          2,
          2,
          2,
          2,
          2,
          5,
          4,
          1,
          7,
          2,
          6,
          9,
          7,
          6,
          7,
          7,
          5,
          4,
          8,
          12,
          9,
          15,
          10,
          7,
          9,
          4,
          3,
          21,
          17,
          12,
          9,
          4,
          24,
          19,
          17,
          11,
          15,
          26,
          31,
          85,
          46,
          43,
          43,
          60
         ],
         "yaxis": "y"
        },
        {
         "hovertemplate": "identifier_name=IdRef ID (France)<br>decade=%{x}<br>score=%{y}<extra></extra>",
         "legendgroup": "IdRef ID (France)",
         "line": {
          "color": "#E377C2",
          "dash": "solid"
         },
         "marker": {
          "symbol": "circle"
         },
         "mode": "lines",
         "name": "IdRef ID (France)",
         "opacity": 0.25,
         "orientation": "v",
         "showlegend": true,
         "type": "scatter",
         "x": [
          -700,
          -550,
          -500,
          -450,
          -400,
          -350,
          -300,
          -250,
          -200,
          -150,
          -50,
          0,
          50,
          100,
          150,
          200,
          250,
          300,
          350,
          400,
          450,
          500,
          550,
          600,
          650,
          700,
          750,
          800,
          850,
          900,
          950,
          1000,
          1050,
          1100,
          1150,
          1200,
          1250,
          1300,
          1350,
          1400,
          1450,
          1500,
          1550,
          1600,
          1650,
          1700,
          1750,
          1800
         ],
         "xaxis": "x",
         "y": [
          1,
          3,
          1,
          1,
          2,
          2,
          2,
          2,
          2,
          4,
          5,
          2,
          5,
          1,
          7,
          7,
          6,
          3,
          8,
          6,
          4,
          3,
          8,
          10,
          6,
          14,
          11,
          6,
          6,
          4,
          2,
          17,
          14,
          10,
          10,
          6,
          18,
          10,
          9,
          7,
          12,
          18,
          27,
          57,
          46,
          36,
          36,
          33
         ],
         "yaxis": "y"
        },
        {
         "hovertemplate": "identifier_name=National Library of Israel J9U ID (Israel)<br>decade=%{x}<br>score=%{y}<extra></extra>",
         "legendgroup": "National Library of Israel J9U ID (Israel)",
         "line": {
          "color": "#7F7F7F",
          "dash": "solid"
         },
         "marker": {
          "symbol": "circle"
         },
         "mode": "lines",
         "name": "National Library of Israel J9U ID (Israel)",
         "opacity": 0.25,
         "orientation": "v",
         "showlegend": true,
         "type": "scatter",
         "x": [
          -700,
          -550,
          -500,
          -450,
          -400,
          -350,
          -300,
          -250,
          -200,
          -150,
          -50,
          0,
          50,
          100,
          150,
          200,
          250,
          300,
          350,
          400,
          450,
          500,
          550,
          600,
          650,
          700,
          750,
          800,
          850,
          900,
          950,
          1000,
          1050,
          1100,
          1150,
          1200,
          1250,
          1300,
          1350,
          1400,
          1450,
          1500,
          1550,
          1600,
          1650,
          1700,
          1750,
          1800
         ],
         "xaxis": "x",
         "y": [
          1,
          3,
          1,
          1,
          2,
          2,
          2,
          2,
          1,
          5,
          5,
          2,
          7,
          1,
          7,
          9,
          7,
          3,
          6,
          6,
          4,
          4,
          8,
          9,
          6,
          12,
          11,
          8,
          4,
          5,
          1,
          18,
          16,
          11,
          8,
          4,
          16,
          11,
          11,
          8,
          8,
          17,
          21,
          55,
          37,
          30,
          26,
          35
         ],
         "yaxis": "y"
        },
        {
         "hovertemplate": "identifier_name=NDL Authority ID (Japan)<br>decade=%{x}<br>score=%{y}<extra></extra>",
         "legendgroup": "NDL Authority ID (Japan)",
         "line": {
          "color": "#BCBD22",
          "dash": "solid"
         },
         "marker": {
          "symbol": "circle"
         },
         "mode": "lines",
         "name": "NDL Authority ID (Japan)",
         "opacity": 0.25,
         "orientation": "v",
         "showlegend": true,
         "type": "scatter",
         "x": [
          -550,
          -400,
          -350,
          -300,
          -250,
          -150,
          -50,
          0,
          50,
          100,
          150,
          200,
          250,
          300,
          350,
          400,
          450,
          500,
          550,
          600,
          650,
          700,
          750,
          800,
          850,
          950,
          1000,
          1050,
          1100,
          1150,
          1200,
          1250,
          1300,
          1350,
          1400,
          1450,
          1500,
          1550,
          1600,
          1650,
          1700,
          1750,
          1800
         ],
         "xaxis": "x",
         "y": [
          3,
          1,
          2,
          1,
          2,
          3,
          2,
          1,
          5,
          2,
          3,
          7,
          7,
          3,
          8,
          5,
          3,
          4,
          7,
          9,
          4,
          11,
          9,
          5,
          4,
          2,
          10,
          10,
          9,
          7,
          1,
          9,
          7,
          7,
          3,
          6,
          10,
          14,
          34,
          23,
          26,
          25,
          35
         ],
         "yaxis": "y"
        },
        {
         "hovertemplate": "identifier_name=Encyclopædia Britannica Online ID (United Kingdom)<br>decade=%{x}<br>score=%{y}<extra></extra>",
         "legendgroup": "Encyclopædia Britannica Online ID (United Kingdom)",
         "line": {
          "color": "#17BECF",
          "dash": "solid"
         },
         "marker": {
          "symbol": "circle"
         },
         "mode": "lines",
         "name": "Encyclopædia Britannica Online ID (United Kingdom)",
         "opacity": 0.25,
         "orientation": "v",
         "showlegend": true,
         "type": "scatter",
         "x": [
          -550,
          -500,
          -450,
          -400,
          -350,
          -300,
          -250,
          -200,
          -150,
          -50,
          0,
          50,
          150,
          200,
          250,
          300,
          350,
          400,
          450,
          500,
          550,
          600,
          650,
          700,
          750,
          800,
          850,
          900,
          950,
          1000,
          1050,
          1100,
          1150,
          1200,
          1250,
          1300,
          1350,
          1400,
          1450,
          1500,
          1550,
          1600,
          1650,
          1700,
          1750,
          1800
         ],
         "xaxis": "x",
         "y": [
          3,
          1,
          1,
          1,
          2,
          2,
          2,
          2,
          6,
          1,
          2,
          6,
          2,
          6,
          3,
          4,
          8,
          6,
          3,
          3,
          5,
          4,
          5,
          9,
          7,
          5,
          4,
          3,
          4,
          16,
          10,
          7,
          7,
          9,
          17,
          10,
          2,
          6,
          7,
          10,
          11,
          20,
          14,
          10,
          3,
          9
         ],
         "yaxis": "y"
        },
        {
         "hovertemplate": "identifier_name=National Library of Korea ID (South Korea)<br>decade=%{x}<br>score=%{y}<extra></extra>",
         "legendgroup": "National Library of Korea ID (South Korea)",
         "line": {
          "color": "#1F77B4",
          "dash": "solid"
         },
         "marker": {
          "symbol": "circle"
         },
         "mode": "lines",
         "name": "National Library of Korea ID (South Korea)",
         "opacity": 0.25,
         "orientation": "v",
         "showlegend": true,
         "type": "scatter",
         "x": [
          -700,
          -550,
          -400,
          -350,
          -300,
          -250,
          -200,
          -150,
          -50,
          0,
          50,
          150,
          200,
          250,
          300,
          350,
          400,
          450,
          500,
          550,
          600,
          650,
          700,
          750,
          800,
          850,
          900,
          950,
          1000,
          1050,
          1100,
          1150,
          1200,
          1250,
          1300,
          1350,
          1400,
          1450,
          1500,
          1550,
          1600,
          1650,
          1700,
          1750,
          1800
         ],
         "xaxis": "x",
         "y": [
          1,
          3,
          1,
          2,
          2,
          1,
          1,
          3,
          3,
          1,
          2,
          4,
          6,
          5,
          2,
          4,
          4,
          3,
          4,
          7,
          7,
          5,
          9,
          7,
          5,
          1,
          2,
          2,
          11,
          8,
          6,
          7,
          2,
          6,
          3,
          4,
          2,
          4,
          11,
          13,
          28,
          13,
          13,
          10,
          14
         ],
         "yaxis": "y"
        },
        {
         "hovertemplate": "identifier_name=NKCR AUT ID (Czech Republic)<br>decade=%{x}<br>score=%{y}<extra></extra>",
         "legendgroup": "NKCR AUT ID (Czech Republic)",
         "line": {
          "color": "#FF7F0E",
          "dash": "solid"
         },
         "marker": {
          "symbol": "circle"
         },
         "mode": "lines",
         "name": "NKCR AUT ID (Czech Republic)",
         "opacity": 0.25,
         "orientation": "v",
         "showlegend": true,
         "type": "scatter",
         "x": [
          -700,
          -550,
          -450,
          -400,
          -350,
          -300,
          -250,
          -200,
          -150,
          -50,
          0,
          50,
          100,
          150,
          200,
          250,
          300,
          350,
          400,
          450,
          500,
          550,
          600,
          650,
          700,
          750,
          800,
          850,
          900,
          1000,
          1050,
          1100,
          1150,
          1200,
          1250,
          1300,
          1350,
          1400,
          1450,
          1500,
          1550,
          1600,
          1650,
          1700,
          1750,
          1800
         ],
         "xaxis": "x",
         "y": [
          1,
          3,
          1,
          2,
          2,
          1,
          1,
          1,
          4,
          2,
          1,
          3,
          1,
          2,
          4,
          1,
          2,
          4,
          2,
          1,
          1,
          1,
          2,
          3,
          8,
          6,
          5,
          1,
          1,
          13,
          7,
          3,
          4,
          2,
          1,
          3,
          2,
          1,
          2,
          5,
          9,
          14,
          13,
          14,
          5,
          13
         ],
         "yaxis": "y"
        },
        {
         "hovertemplate": "identifier_name=NUKAT ID (Poland)<br>decade=%{x}<br>score=%{y}<extra></extra>",
         "legendgroup": "NUKAT ID (Poland)",
         "line": {
          "color": "#2CA02C",
          "dash": "solid"
         },
         "marker": {
          "symbol": "circle"
         },
         "mode": "lines",
         "name": "NUKAT ID (Poland)",
         "opacity": 0.25,
         "orientation": "v",
         "showlegend": true,
         "type": "scatter",
         "x": [
          -550,
          -450,
          -400,
          -350,
          -300,
          -250,
          -150,
          -50,
          50,
          200,
          250,
          300,
          350,
          550,
          600,
          650,
          700,
          750,
          800,
          900,
          1000,
          1050,
          1100,
          1150,
          1200,
          1250,
          1300,
          1350,
          1400,
          1450,
          1500,
          1550,
          1600,
          1650,
          1700,
          1750,
          1800
         ],
         "xaxis": "x",
         "y": [
          3,
          1,
          1,
          2,
          2,
          1,
          1,
          2,
          1,
          3,
          2,
          1,
          2,
          3,
          3,
          2,
          5,
          3,
          1,
          1,
          8,
          6,
          7,
          6,
          1,
          2,
          4,
          2,
          4,
          3,
          3,
          7,
          20,
          15,
          13,
          4,
          13
         ],
         "yaxis": "y"
        },
        {
         "hovertemplate": "identifier_name=NORAF ID (Norway)<br>decade=%{x}<br>score=%{y}<extra></extra>",
         "legendgroup": "NORAF ID (Norway)",
         "line": {
          "color": "#D62728",
          "dash": "solid"
         },
         "marker": {
          "symbol": "circle"
         },
         "mode": "lines",
         "name": "NORAF ID (Norway)",
         "opacity": 0.25,
         "orientation": "v",
         "showlegend": true,
         "type": "scatter",
         "x": [
          -550,
          -450,
          -400,
          -350,
          -300,
          -250,
          -200,
          -150,
          -50,
          50,
          150,
          200,
          250,
          300,
          350,
          400,
          450,
          550,
          600,
          650,
          700,
          750,
          800,
          1000,
          1050,
          1100,
          1150,
          1200,
          1250,
          1300,
          1350,
          1400,
          1450,
          1500,
          1550,
          1600,
          1650,
          1700,
          1750,
          1800
         ],
         "xaxis": "x",
         "y": [
          3,
          1,
          2,
          2,
          1,
          1,
          1,
          2,
          1,
          1,
          2,
          2,
          3,
          2,
          3,
          2,
          1,
          3,
          5,
          2,
          5,
          5,
          3,
          9,
          5,
          5,
          3,
          1,
          3,
          2,
          2,
          1,
          6,
          2,
          7,
          10,
          8,
          10,
          1,
          4
         ],
         "yaxis": "y"
        },
        {
         "hovertemplate": "identifier_name=Great Russian Encyclopedia Online ID (old version) (Russia)<br>decade=%{x}<br>score=%{y}<extra></extra>",
         "legendgroup": "Great Russian Encyclopedia Online ID (old version) (Russia)",
         "line": {
          "color": "#9467BD",
          "dash": "solid"
         },
         "marker": {
          "symbol": "circle"
         },
         "mode": "lines",
         "name": "Great Russian Encyclopedia Online ID (old version) (Russia)",
         "opacity": 0.25,
         "orientation": "v",
         "showlegend": true,
         "type": "scatter",
         "x": [
          -550,
          -500,
          -350,
          -300,
          -250,
          -150,
          -50,
          0,
          50,
          150,
          200,
          250,
          300,
          350,
          400,
          500,
          600,
          650,
          700,
          750,
          800,
          950,
          1000,
          1050,
          1100,
          1150,
          1200,
          1250,
          1450,
          1500,
          1550,
          1600,
          1650,
          1700,
          1800
         ],
         "xaxis": "x",
         "y": [
          3,
          1,
          1,
          2,
          2,
          4,
          1,
          1,
          4,
          1,
          3,
          2,
          1,
          4,
          2,
          1,
          3,
          1,
          6,
          4,
          3,
          1,
          11,
          7,
          1,
          4,
          2,
          4,
          1,
          1,
          1,
          5,
          3,
          5,
          3
         ],
         "yaxis": "y"
        },
        {
         "hovertemplate": "identifier_name=SELIBR ID (Sweden)<br>decade=%{x}<br>score=%{y}<extra></extra>",
         "legendgroup": "SELIBR ID (Sweden)",
         "line": {
          "color": "#8C564B",
          "dash": "solid"
         },
         "marker": {
          "symbol": "circle"
         },
         "mode": "lines",
         "name": "SELIBR ID (Sweden)",
         "opacity": 0.25,
         "orientation": "v",
         "showlegend": true,
         "type": "scatter",
         "x": [
          -700,
          -550,
          -400,
          -350,
          -250,
          -150,
          0,
          50,
          150,
          200,
          250,
          300,
          350,
          500,
          550,
          600,
          650,
          700,
          750,
          800,
          950,
          1000,
          1050,
          1100,
          1150,
          1200,
          1250,
          1300,
          1350,
          1450,
          1500,
          1550,
          1600,
          1650,
          1700,
          1750,
          1800
         ],
         "xaxis": "x",
         "y": [
          1,
          3,
          1,
          2,
          1,
          2,
          1,
          1,
          1,
          1,
          1,
          2,
          2,
          1,
          1,
          3,
          1,
          3,
          3,
          1,
          1,
          3,
          4,
          3,
          1,
          1,
          2,
          1,
          3,
          2,
          4,
          5,
          10,
          4,
          7,
          3,
          5
         ],
         "yaxis": "y"
        },
        {
         "hovertemplate": "identifier_name=Biblioteca Nacional de España ID (Spain)<br>decade=%{x}<br>score=%{y}<extra></extra>",
         "legendgroup": "Biblioteca Nacional de España ID (Spain)",
         "line": {
          "color": "#E377C2",
          "dash": "solid"
         },
         "marker": {
          "symbol": "circle"
         },
         "mode": "lines",
         "name": "Biblioteca Nacional de España ID (Spain)",
         "opacity": 0.25,
         "orientation": "v",
         "showlegend": true,
         "type": "scatter",
         "x": [
          -550,
          -450,
          -400,
          -350,
          -300,
          -150,
          250,
          350,
          400,
          500,
          600,
          650,
          700,
          750,
          800,
          850,
          1000,
          1050,
          1100,
          1150,
          1200,
          1250,
          1300,
          1350,
          1400,
          1500,
          1550,
          1600,
          1650,
          1700,
          1750,
          1800
         ],
         "xaxis": "x",
         "y": [
          3,
          1,
          1,
          1,
          1,
          1,
          3,
          3,
          1,
          1,
          1,
          1,
          4,
          1,
          1,
          1,
          3,
          2,
          1,
          1,
          1,
          1,
          1,
          3,
          1,
          3,
          6,
          7,
          8,
          6,
          2,
          5
         ],
         "yaxis": "y"
        },
        {
         "hovertemplate": "identifier_name=Den Store Danske ID (Denmark)<br>decade=%{x}<br>score=%{y}<extra></extra>",
         "legendgroup": "Den Store Danske ID (Denmark)",
         "line": {
          "color": "#7F7F7F",
          "dash": "solid"
         },
         "marker": {
          "symbol": "circle"
         },
         "mode": "lines",
         "name": "Den Store Danske ID (Denmark)",
         "opacity": 0.25,
         "orientation": "v",
         "showlegend": true,
         "type": "scatter",
         "x": [
          -550,
          -350,
          -250,
          -200,
          -150,
          -50,
          100,
          150,
          200,
          250,
          350,
          400,
          500,
          550,
          600,
          650,
          700,
          750,
          800,
          850,
          1000,
          1050,
          1100,
          1150,
          1200,
          1250,
          1300,
          1350,
          1400,
          1450,
          1550,
          1600,
          1650,
          1700,
          1800
         ],
         "xaxis": "x",
         "y": [
          1,
          1,
          1,
          1,
          2,
          1,
          1,
          1,
          1,
          2,
          1,
          1,
          1,
          1,
          1,
          2,
          3,
          2,
          1,
          1,
          7,
          7,
          1,
          3,
          1,
          3,
          3,
          2,
          2,
          3,
          2,
          3,
          3,
          4,
          4
         ],
         "yaxis": "y"
        },
        {
         "hovertemplate": "identifier_name=SHARE Catalogue author ID (Italy)<br>decade=%{x}<br>score=%{y}<extra></extra>",
         "legendgroup": "SHARE Catalogue author ID (Italy)",
         "line": {
          "color": "#BCBD22",
          "dash": "solid"
         },
         "marker": {
          "symbol": "circle"
         },
         "mode": "lines",
         "name": "SHARE Catalogue author ID (Italy)",
         "opacity": 0.25,
         "orientation": "v",
         "showlegend": true,
         "type": "scatter",
         "x": [
          -550,
          -450,
          -400,
          -350,
          -300,
          -150,
          -50,
          50,
          200,
          250,
          350,
          400,
          550,
          600,
          700,
          750,
          800,
          1000,
          1050,
          1100,
          1150,
          1250,
          1300,
          1350,
          1400,
          1450,
          1500,
          1550,
          1600,
          1650,
          1700,
          1750,
          1800
         ],
         "xaxis": "x",
         "y": [
          2,
          1,
          1,
          2,
          2,
          1,
          1,
          1,
          1,
          2,
          2,
          1,
          1,
          2,
          2,
          1,
          1,
          1,
          1,
          2,
          1,
          2,
          1,
          1,
          2,
          1,
          3,
          4,
          7,
          9,
          6,
          2,
          6
         ],
         "yaxis": "y"
        },
        {
         "hovertemplate": "identifier_name=Canadiana Name Authority ID (Canada)<br>decade=%{x}<br>score=%{y}<extra></extra>",
         "legendgroup": "Canadiana Name Authority ID (Canada)",
         "line": {
          "color": "#17BECF",
          "dash": "solid"
         },
         "marker": {
          "symbol": "circle"
         },
         "mode": "lines",
         "name": "Canadiana Name Authority ID (Canada)",
         "opacity": 0.25,
         "orientation": "v",
         "showlegend": true,
         "type": "scatter",
         "x": [
          -550,
          -450,
          -350,
          -150,
          50,
          150,
          200,
          250,
          300,
          350,
          400,
          550,
          600,
          650,
          700,
          750,
          800,
          900,
          950,
          1000,
          1050,
          1100,
          1150,
          1400,
          1450,
          1500,
          1550,
          1600,
          1650,
          1700,
          1800
         ],
         "xaxis": "x",
         "y": [
          2,
          1,
          2,
          2,
          1,
          1,
          1,
          2,
          1,
          2,
          1,
          2,
          3,
          2,
          3,
          4,
          1,
          1,
          1,
          3,
          2,
          3,
          1,
          1,
          2,
          2,
          4,
          3,
          4,
          5,
          3
         ],
         "yaxis": "y"
        },
        {
         "hovertemplate": "identifier_name=average<br>decade=%{x}<br>score=%{y}<extra></extra>",
         "legendgroup": "average",
         "line": {
          "color": "#1F77B4",
          "dash": "solid",
          "width": 3
         },
         "marker": {
          "symbol": "circle"
         },
         "mode": "lines",
         "name": "average",
         "orientation": "v",
         "showlegend": true,
         "type": "scatter",
         "x": [
          -700,
          -550,
          -500,
          -450,
          -400,
          -350,
          -300,
          -250,
          -200,
          -150,
          -50,
          0,
          50,
          100,
          150,
          200,
          250,
          300,
          350,
          400,
          450,
          500,
          550,
          600,
          650,
          700,
          750,
          800,
          850,
          900,
          950,
          1000,
          1050,
          1100,
          1150,
          1200,
          1250,
          1300,
          1350,
          1400,
          1450,
          1500,
          1550,
          1600,
          1650,
          1700,
          1750,
          1800
         ],
         "xaxis": "x",
         "y": [
          1.1111111111111112,
          2.6842105263157894,
          1,
          1,
          1.5333333333333334,
          1.7777777777777777,
          1.7142857142857142,
          1.625,
          1.5454545454545454,
          3.25,
          2.625,
          1.5384615384615385,
          4,
          1.7,
          4.588235294117647,
          5.578947368421052,
          4.684210526315789,
          3.176470588235294,
          4.55,
          3.588235294117647,
          3.5384615384615383,
          2.533333333333333,
          5.166666666666667,
          6.15,
          4.444444444444445,
          10.263157894736842,
          8,
          5,
          6,
          5.166666666666667,
          3.9285714285714284,
          11.8,
          9.65,
          7.1,
          6.2,
          4.823529411764706,
          14.052631578947368,
          12.055555555555555,
          13.666666666666666,
          8.055555555555555,
          11.473684210526315,
          18.42105263157895,
          17.95,
          49.85,
          37.85,
          30.3,
          42.470588235294116,
          36.4
         ],
         "yaxis": "y"
        }
       ],
       "layout": {
        "height": 800,
        "legend": {
         "title": {
          "text": "Identifiers"
         }
        },
        "template": {
         "data": {
          "bar": [
           {
            "error_x": {
             "color": "rgb(36,36,36)"
            },
            "error_y": {
             "color": "rgb(36,36,36)"
            },
            "marker": {
             "line": {
              "color": "white",
              "width": 0.5
             },
             "pattern": {
              "fillmode": "overlay",
              "size": 10,
              "solidity": 0.2
             }
            },
            "type": "bar"
           }
          ],
          "barpolar": [
           {
            "marker": {
             "line": {
              "color": "white",
              "width": 0.5
             },
             "pattern": {
              "fillmode": "overlay",
              "size": 10,
              "solidity": 0.2
             }
            },
            "type": "barpolar"
           }
          ],
          "carpet": [
           {
            "aaxis": {
             "endlinecolor": "rgb(36,36,36)",
             "gridcolor": "white",
             "linecolor": "white",
             "minorgridcolor": "white",
             "startlinecolor": "rgb(36,36,36)"
            },
            "baxis": {
             "endlinecolor": "rgb(36,36,36)",
             "gridcolor": "white",
             "linecolor": "white",
             "minorgridcolor": "white",
             "startlinecolor": "rgb(36,36,36)"
            },
            "type": "carpet"
           }
          ],
          "choropleth": [
           {
            "colorbar": {
             "outlinewidth": 1,
             "tickcolor": "rgb(36,36,36)",
             "ticks": "outside"
            },
            "type": "choropleth"
           }
          ],
          "contour": [
           {
            "colorbar": {
             "outlinewidth": 1,
             "tickcolor": "rgb(36,36,36)",
             "ticks": "outside"
            },
            "colorscale": [
             [
              0,
              "#440154"
             ],
             [
              0.1111111111111111,
              "#482878"
             ],
             [
              0.2222222222222222,
              "#3e4989"
             ],
             [
              0.3333333333333333,
              "#31688e"
             ],
             [
              0.4444444444444444,
              "#26828e"
             ],
             [
              0.5555555555555556,
              "#1f9e89"
             ],
             [
              0.6666666666666666,
              "#35b779"
             ],
             [
              0.7777777777777778,
              "#6ece58"
             ],
             [
              0.8888888888888888,
              "#b5de2b"
             ],
             [
              1,
              "#fde725"
             ]
            ],
            "type": "contour"
           }
          ],
          "contourcarpet": [
           {
            "colorbar": {
             "outlinewidth": 1,
             "tickcolor": "rgb(36,36,36)",
             "ticks": "outside"
            },
            "type": "contourcarpet"
           }
          ],
          "heatmap": [
           {
            "colorbar": {
             "outlinewidth": 1,
             "tickcolor": "rgb(36,36,36)",
             "ticks": "outside"
            },
            "colorscale": [
             [
              0,
              "#440154"
             ],
             [
              0.1111111111111111,
              "#482878"
             ],
             [
              0.2222222222222222,
              "#3e4989"
             ],
             [
              0.3333333333333333,
              "#31688e"
             ],
             [
              0.4444444444444444,
              "#26828e"
             ],
             [
              0.5555555555555556,
              "#1f9e89"
             ],
             [
              0.6666666666666666,
              "#35b779"
             ],
             [
              0.7777777777777778,
              "#6ece58"
             ],
             [
              0.8888888888888888,
              "#b5de2b"
             ],
             [
              1,
              "#fde725"
             ]
            ],
            "type": "heatmap"
           }
          ],
          "heatmapgl": [
           {
            "colorbar": {
             "outlinewidth": 1,
             "tickcolor": "rgb(36,36,36)",
             "ticks": "outside"
            },
            "colorscale": [
             [
              0,
              "#440154"
             ],
             [
              0.1111111111111111,
              "#482878"
             ],
             [
              0.2222222222222222,
              "#3e4989"
             ],
             [
              0.3333333333333333,
              "#31688e"
             ],
             [
              0.4444444444444444,
              "#26828e"
             ],
             [
              0.5555555555555556,
              "#1f9e89"
             ],
             [
              0.6666666666666666,
              "#35b779"
             ],
             [
              0.7777777777777778,
              "#6ece58"
             ],
             [
              0.8888888888888888,
              "#b5de2b"
             ],
             [
              1,
              "#fde725"
             ]
            ],
            "type": "heatmapgl"
           }
          ],
          "histogram": [
           {
            "marker": {
             "line": {
              "color": "white",
              "width": 0.6
             }
            },
            "type": "histogram"
           }
          ],
          "histogram2d": [
           {
            "colorbar": {
             "outlinewidth": 1,
             "tickcolor": "rgb(36,36,36)",
             "ticks": "outside"
            },
            "colorscale": [
             [
              0,
              "#440154"
             ],
             [
              0.1111111111111111,
              "#482878"
             ],
             [
              0.2222222222222222,
              "#3e4989"
             ],
             [
              0.3333333333333333,
              "#31688e"
             ],
             [
              0.4444444444444444,
              "#26828e"
             ],
             [
              0.5555555555555556,
              "#1f9e89"
             ],
             [
              0.6666666666666666,
              "#35b779"
             ],
             [
              0.7777777777777778,
              "#6ece58"
             ],
             [
              0.8888888888888888,
              "#b5de2b"
             ],
             [
              1,
              "#fde725"
             ]
            ],
            "type": "histogram2d"
           }
          ],
          "histogram2dcontour": [
           {
            "colorbar": {
             "outlinewidth": 1,
             "tickcolor": "rgb(36,36,36)",
             "ticks": "outside"
            },
            "colorscale": [
             [
              0,
              "#440154"
             ],
             [
              0.1111111111111111,
              "#482878"
             ],
             [
              0.2222222222222222,
              "#3e4989"
             ],
             [
              0.3333333333333333,
              "#31688e"
             ],
             [
              0.4444444444444444,
              "#26828e"
             ],
             [
              0.5555555555555556,
              "#1f9e89"
             ],
             [
              0.6666666666666666,
              "#35b779"
             ],
             [
              0.7777777777777778,
              "#6ece58"
             ],
             [
              0.8888888888888888,
              "#b5de2b"
             ],
             [
              1,
              "#fde725"
             ]
            ],
            "type": "histogram2dcontour"
           }
          ],
          "mesh3d": [
           {
            "colorbar": {
             "outlinewidth": 1,
             "tickcolor": "rgb(36,36,36)",
             "ticks": "outside"
            },
            "type": "mesh3d"
           }
          ],
          "parcoords": [
           {
            "line": {
             "colorbar": {
              "outlinewidth": 1,
              "tickcolor": "rgb(36,36,36)",
              "ticks": "outside"
             }
            },
            "type": "parcoords"
           }
          ],
          "pie": [
           {
            "automargin": true,
            "type": "pie"
           }
          ],
          "scatter": [
           {
            "fillpattern": {
             "fillmode": "overlay",
             "size": 10,
             "solidity": 0.2
            },
            "type": "scatter"
           }
          ],
          "scatter3d": [
           {
            "line": {
             "colorbar": {
              "outlinewidth": 1,
              "tickcolor": "rgb(36,36,36)",
              "ticks": "outside"
             }
            },
            "marker": {
             "colorbar": {
              "outlinewidth": 1,
              "tickcolor": "rgb(36,36,36)",
              "ticks": "outside"
             }
            },
            "type": "scatter3d"
           }
          ],
          "scattercarpet": [
           {
            "marker": {
             "colorbar": {
              "outlinewidth": 1,
              "tickcolor": "rgb(36,36,36)",
              "ticks": "outside"
             }
            },
            "type": "scattercarpet"
           }
          ],
          "scattergeo": [
           {
            "marker": {
             "colorbar": {
              "outlinewidth": 1,
              "tickcolor": "rgb(36,36,36)",
              "ticks": "outside"
             }
            },
            "type": "scattergeo"
           }
          ],
          "scattergl": [
           {
            "marker": {
             "colorbar": {
              "outlinewidth": 1,
              "tickcolor": "rgb(36,36,36)",
              "ticks": "outside"
             }
            },
            "type": "scattergl"
           }
          ],
          "scattermapbox": [
           {
            "marker": {
             "colorbar": {
              "outlinewidth": 1,
              "tickcolor": "rgb(36,36,36)",
              "ticks": "outside"
             }
            },
            "type": "scattermapbox"
           }
          ],
          "scatterpolar": [
           {
            "marker": {
             "colorbar": {
              "outlinewidth": 1,
              "tickcolor": "rgb(36,36,36)",
              "ticks": "outside"
             }
            },
            "type": "scatterpolar"
           }
          ],
          "scatterpolargl": [
           {
            "marker": {
             "colorbar": {
              "outlinewidth": 1,
              "tickcolor": "rgb(36,36,36)",
              "ticks": "outside"
             }
            },
            "type": "scatterpolargl"
           }
          ],
          "scatterternary": [
           {
            "marker": {
             "colorbar": {
              "outlinewidth": 1,
              "tickcolor": "rgb(36,36,36)",
              "ticks": "outside"
             }
            },
            "type": "scatterternary"
           }
          ],
          "surface": [
           {
            "colorbar": {
             "outlinewidth": 1,
             "tickcolor": "rgb(36,36,36)",
             "ticks": "outside"
            },
            "colorscale": [
             [
              0,
              "#440154"
             ],
             [
              0.1111111111111111,
              "#482878"
             ],
             [
              0.2222222222222222,
              "#3e4989"
             ],
             [
              0.3333333333333333,
              "#31688e"
             ],
             [
              0.4444444444444444,
              "#26828e"
             ],
             [
              0.5555555555555556,
              "#1f9e89"
             ],
             [
              0.6666666666666666,
              "#35b779"
             ],
             [
              0.7777777777777778,
              "#6ece58"
             ],
             [
              0.8888888888888888,
              "#b5de2b"
             ],
             [
              1,
              "#fde725"
             ]
            ],
            "type": "surface"
           }
          ],
          "table": [
           {
            "cells": {
             "fill": {
              "color": "rgb(237,237,237)"
             },
             "line": {
              "color": "white"
             }
            },
            "header": {
             "fill": {
              "color": "rgb(217,217,217)"
             },
             "line": {
              "color": "white"
             }
            },
            "type": "table"
           }
          ]
         },
         "layout": {
          "annotationdefaults": {
           "arrowhead": 0,
           "arrowwidth": 1
          },
          "autotypenumbers": "strict",
          "coloraxis": {
           "colorbar": {
            "outlinewidth": 1,
            "tickcolor": "rgb(36,36,36)",
            "ticks": "outside"
           }
          },
          "colorscale": {
           "diverging": [
            [
             0,
             "rgb(103,0,31)"
            ],
            [
             0.1,
             "rgb(178,24,43)"
            ],
            [
             0.2,
             "rgb(214,96,77)"
            ],
            [
             0.3,
             "rgb(244,165,130)"
            ],
            [
             0.4,
             "rgb(253,219,199)"
            ],
            [
             0.5,
             "rgb(247,247,247)"
            ],
            [
             0.6,
             "rgb(209,229,240)"
            ],
            [
             0.7,
             "rgb(146,197,222)"
            ],
            [
             0.8,
             "rgb(67,147,195)"
            ],
            [
             0.9,
             "rgb(33,102,172)"
            ],
            [
             1,
             "rgb(5,48,97)"
            ]
           ],
           "sequential": [
            [
             0,
             "#440154"
            ],
            [
             0.1111111111111111,
             "#482878"
            ],
            [
             0.2222222222222222,
             "#3e4989"
            ],
            [
             0.3333333333333333,
             "#31688e"
            ],
            [
             0.4444444444444444,
             "#26828e"
            ],
            [
             0.5555555555555556,
             "#1f9e89"
            ],
            [
             0.6666666666666666,
             "#35b779"
            ],
            [
             0.7777777777777778,
             "#6ece58"
            ],
            [
             0.8888888888888888,
             "#b5de2b"
            ],
            [
             1,
             "#fde725"
            ]
           ],
           "sequentialminus": [
            [
             0,
             "#440154"
            ],
            [
             0.1111111111111111,
             "#482878"
            ],
            [
             0.2222222222222222,
             "#3e4989"
            ],
            [
             0.3333333333333333,
             "#31688e"
            ],
            [
             0.4444444444444444,
             "#26828e"
            ],
            [
             0.5555555555555556,
             "#1f9e89"
            ],
            [
             0.6666666666666666,
             "#35b779"
            ],
            [
             0.7777777777777778,
             "#6ece58"
            ],
            [
             0.8888888888888888,
             "#b5de2b"
            ],
            [
             1,
             "#fde725"
            ]
           ]
          },
          "colorway": [
           "#1F77B4",
           "#FF7F0E",
           "#2CA02C",
           "#D62728",
           "#9467BD",
           "#8C564B",
           "#E377C2",
           "#7F7F7F",
           "#BCBD22",
           "#17BECF"
          ],
          "font": {
           "color": "rgb(36,36,36)"
          },
          "geo": {
           "bgcolor": "white",
           "lakecolor": "white",
           "landcolor": "white",
           "showlakes": true,
           "showland": true,
           "subunitcolor": "white"
          },
          "hoverlabel": {
           "align": "left"
          },
          "hovermode": "closest",
          "mapbox": {
           "style": "light"
          },
          "paper_bgcolor": "white",
          "plot_bgcolor": "white",
          "polar": {
           "angularaxis": {
            "gridcolor": "rgb(232,232,232)",
            "linecolor": "rgb(36,36,36)",
            "showgrid": false,
            "showline": true,
            "ticks": "outside"
           },
           "bgcolor": "white",
           "radialaxis": {
            "gridcolor": "rgb(232,232,232)",
            "linecolor": "rgb(36,36,36)",
            "showgrid": false,
            "showline": true,
            "ticks": "outside"
           }
          },
          "scene": {
           "xaxis": {
            "backgroundcolor": "white",
            "gridcolor": "rgb(232,232,232)",
            "gridwidth": 2,
            "linecolor": "rgb(36,36,36)",
            "showbackground": true,
            "showgrid": false,
            "showline": true,
            "ticks": "outside",
            "zeroline": false,
            "zerolinecolor": "rgb(36,36,36)"
           },
           "yaxis": {
            "backgroundcolor": "white",
            "gridcolor": "rgb(232,232,232)",
            "gridwidth": 2,
            "linecolor": "rgb(36,36,36)",
            "showbackground": true,
            "showgrid": false,
            "showline": true,
            "ticks": "outside",
            "zeroline": false,
            "zerolinecolor": "rgb(36,36,36)"
           },
           "zaxis": {
            "backgroundcolor": "white",
            "gridcolor": "rgb(232,232,232)",
            "gridwidth": 2,
            "linecolor": "rgb(36,36,36)",
            "showbackground": true,
            "showgrid": false,
            "showline": true,
            "ticks": "outside",
            "zeroline": false,
            "zerolinecolor": "rgb(36,36,36)"
           }
          },
          "shapedefaults": {
           "fillcolor": "black",
           "line": {
            "width": 0
           },
           "opacity": 0.3
          },
          "ternary": {
           "aaxis": {
            "gridcolor": "rgb(232,232,232)",
            "linecolor": "rgb(36,36,36)",
            "showgrid": false,
            "showline": true,
            "ticks": "outside"
           },
           "baxis": {
            "gridcolor": "rgb(232,232,232)",
            "linecolor": "rgb(36,36,36)",
            "showgrid": false,
            "showline": true,
            "ticks": "outside"
           },
           "bgcolor": "white",
           "caxis": {
            "gridcolor": "rgb(232,232,232)",
            "linecolor": "rgb(36,36,36)",
            "showgrid": false,
            "showline": true,
            "ticks": "outside"
           }
          },
          "title": {
           "x": 0.05
          },
          "xaxis": {
           "automargin": true,
           "gridcolor": "rgb(232,232,232)",
           "linecolor": "rgb(36,36,36)",
           "showgrid": false,
           "showline": true,
           "ticks": "outside",
           "title": {
            "standoff": 15
           },
           "zeroline": false,
           "zerolinecolor": "rgb(36,36,36)"
          },
          "yaxis": {
           "automargin": true,
           "gridcolor": "rgb(232,232,232)",
           "linecolor": "rgb(36,36,36)",
           "showgrid": false,
           "showline": true,
           "ticks": "outside",
           "title": {
            "standoff": 15
           },
           "zeroline": false,
           "zerolinecolor": "rgb(36,36,36)"
          }
         }
        },
        "title": {
         "text": "Chinese world"
        },
        "width": 1300,
        "xaxis": {
         "dtick": 100,
         "title": {
          "text": ""
         }
        },
        "yaxis": {
         "title": {
          "text": "Number of Individuals"
         }
        }
       }
      }
     },
     "metadata": {},
     "output_type": "display_data"
    }
   ],
   "source": [
    "fig, df_fig = make_figure(df_fig_fifty, region_name = 'Chinese world', min_decade = -800, max_decade = 1800, top_identifiers = 20,\n",
    "                  one_id_country = True)\n",
    "\n",
    "fig.write_image(f\"figures/china_identifiers.png\", scale=7)\n",
    "fig.show()"
   ]
  },
  {
   "cell_type": "markdown",
   "id": "12a46427-dd4f-47a7-9ff2-4743d1b88f67",
   "metadata": {},
   "source": [
    "## Count catalogs per country and continents"
   ]
  },
  {
   "cell_type": "code",
   "execution_count": 14,
   "metadata": {},
   "outputs": [
    {
     "data": {
      "text/plain": [
       "['Low countries',\n",
       " 'Western Europe',\n",
       " 'Greece',\n",
       " 'Germany',\n",
       " 'Belgium',\n",
       " 'Northern China',\n",
       " 'France',\n",
       " 'Switzerland',\n",
       " 'Iceland',\n",
       " 'Northwestern Europe',\n",
       " 'Slav world',\n",
       " 'Finland',\n",
       " 'mediterranean World',\n",
       " 'Northern Japan',\n",
       " 'Ottoman Turkey',\n",
       " 'Japan',\n",
       " 'Italy',\n",
       " 'Persian world',\n",
       " 'Spain',\n",
       " 'Indian world',\n",
       " 'Muslim world',\n",
       " 'Central Europe',\n",
       " 'British Islands',\n",
       " 'Netherlands',\n",
       " 'Ireland',\n",
       " 'Southern France',\n",
       " 'Northern Italy',\n",
       " 'Eastern Europe',\n",
       " 'Southern Italy',\n",
       " 'Nordic countries',\n",
       " 'United Kingdom',\n",
       " 'Latin World',\n",
       " 'Denmark',\n",
       " 'Southern Japan',\n",
       " 'Sweden',\n",
       " 'Portugal',\n",
       " 'Northern France',\n",
       " 'Ottoman world',\n",
       " 'Balkans',\n",
       " 'Northern India',\n",
       " 'Austria',\n",
       " 'Southern China',\n",
       " 'Southern India',\n",
       " 'Arabian peninsula',\n",
       " 'Southwestern Europe',\n",
       " 'South East Asia',\n",
       " 'Chinese world',\n",
       " 'Yangtze',\n",
       " 'Norway',\n",
       " 'Korea',\n",
       " 'Greek World',\n",
       " 'German world',\n",
       " 'Arabic world']"
      ]
     },
     "execution_count": 14,
     "metadata": {},
     "output_type": "execute_result"
    }
   ],
   "source": [
    "list(set(df_fig_fifty.region_name))"
   ]
  },
  {
   "cell_type": "code",
   "execution_count": 15,
   "metadata": {},
   "outputs": [
    {
     "data": {
      "application/vnd.plotly.v1+json": {
       "config": {
        "plotlyServerURL": "https://plot.ly"
       },
       "data": [
        {
         "hovertemplate": "identifier_name=Library of Congress authority ID (United States of America)<br>decade=%{x}<br>score=%{y}<extra></extra>",
         "legendgroup": "Library of Congress authority ID (United States of America)",
         "line": {
          "color": "#1F77B4",
          "dash": "solid"
         },
         "marker": {
          "symbol": "circle"
         },
         "mode": "lines",
         "name": "Library of Congress authority ID (United States of America)",
         "opacity": 0.25,
         "orientation": "v",
         "showlegend": true,
         "type": "scatter",
         "x": [
          500,
          550,
          600,
          650,
          700,
          750,
          800,
          850,
          900,
          950,
          1000,
          1050,
          1100,
          1150,
          1200,
          1250,
          1300,
          1350,
          1400,
          1450,
          1500,
          1550,
          1600,
          1650,
          1700,
          1750,
          1800
         ],
         "xaxis": "x",
         "y": [
          6,
          12,
          13,
          23,
          33,
          40,
          44,
          38,
          47,
          59,
          54,
          44,
          58,
          63,
          96,
          50,
          51,
          32,
          34,
          32,
          25,
          36,
          32,
          27,
          24,
          44,
          116
         ],
         "yaxis": "y"
        },
        {
         "hovertemplate": "identifier_name=GND ID (Germany)<br>decade=%{x}<br>score=%{y}<extra></extra>",
         "legendgroup": "GND ID (Germany)",
         "line": {
          "color": "#FF7F0E",
          "dash": "solid"
         },
         "marker": {
          "symbol": "circle"
         },
         "mode": "lines",
         "name": "GND ID (Germany)",
         "opacity": 0.25,
         "orientation": "v",
         "showlegend": true,
         "type": "scatter",
         "x": [
          500,
          550,
          600,
          650,
          700,
          750,
          800,
          850,
          900,
          950,
          1000,
          1050,
          1100,
          1150,
          1200,
          1250,
          1300,
          1350,
          1400,
          1450,
          1500,
          1550,
          1600,
          1650,
          1700,
          1750,
          1800
         ],
         "xaxis": "x",
         "y": [
          6,
          6,
          12,
          19,
          26,
          40,
          39,
          31,
          40,
          54,
          52,
          36,
          50,
          57,
          76,
          41,
          43,
          24,
          30,
          30,
          25,
          26,
          27,
          20,
          14,
          41,
          110
         ],
         "yaxis": "y"
        },
        {
         "hovertemplate": "identifier_name=National Library of Israel J9U ID (Israel)<br>decade=%{x}<br>score=%{y}<extra></extra>",
         "legendgroup": "National Library of Israel J9U ID (Israel)",
         "line": {
          "color": "#2CA02C",
          "dash": "solid"
         },
         "marker": {
          "symbol": "circle"
         },
         "mode": "lines",
         "name": "National Library of Israel J9U ID (Israel)",
         "opacity": 0.25,
         "orientation": "v",
         "showlegend": true,
         "type": "scatter",
         "x": [
          500,
          550,
          600,
          650,
          700,
          750,
          800,
          850,
          900,
          950,
          1000,
          1050,
          1100,
          1150,
          1200,
          1250,
          1300,
          1350,
          1400,
          1450,
          1500,
          1550,
          1600,
          1650,
          1700,
          1750,
          1800
         ],
         "xaxis": "x",
         "y": [
          6,
          10,
          11,
          21,
          30,
          35,
          36,
          34,
          40,
          55,
          50,
          42,
          50,
          59,
          79,
          45,
          49,
          24,
          30,
          26,
          22,
          30,
          25,
          23,
          11,
          34,
          78
         ],
         "yaxis": "y"
        },
        {
         "hovertemplate": "identifier_name=Nationale Thesaurus voor Auteurs ID (Netherlands)<br>decade=%{x}<br>score=%{y}<extra></extra>",
         "legendgroup": "Nationale Thesaurus voor Auteurs ID (Netherlands)",
         "line": {
          "color": "#D62728",
          "dash": "solid"
         },
         "marker": {
          "symbol": "circle"
         },
         "mode": "lines",
         "name": "Nationale Thesaurus voor Auteurs ID (Netherlands)",
         "opacity": 0.25,
         "orientation": "v",
         "showlegend": true,
         "type": "scatter",
         "x": [
          500,
          550,
          600,
          650,
          700,
          750,
          800,
          850,
          900,
          950,
          1000,
          1050,
          1100,
          1150,
          1200,
          1250,
          1300,
          1350,
          1400,
          1450,
          1500,
          1550,
          1600,
          1650,
          1700,
          1750,
          1800
         ],
         "xaxis": "x",
         "y": [
          3,
          6,
          5,
          12,
          18,
          32,
          31,
          33,
          37,
          50,
          48,
          33,
          42,
          46,
          61,
          37,
          36,
          26,
          24,
          21,
          16,
          23,
          18,
          16,
          12,
          26,
          63
         ],
         "yaxis": "y"
        },
        {
         "hovertemplate": "identifier_name=IdRef ID (France)<br>decade=%{x}<br>score=%{y}<extra></extra>",
         "legendgroup": "IdRef ID (France)",
         "line": {
          "color": "#9467BD",
          "dash": "solid"
         },
         "marker": {
          "symbol": "circle"
         },
         "mode": "lines",
         "name": "IdRef ID (France)",
         "opacity": 0.25,
         "orientation": "v",
         "showlegend": true,
         "type": "scatter",
         "x": [
          500,
          550,
          600,
          650,
          700,
          750,
          800,
          850,
          900,
          950,
          1000,
          1050,
          1100,
          1150,
          1200,
          1250,
          1300,
          1350,
          1400,
          1450,
          1500,
          1550,
          1600,
          1650,
          1700,
          1750,
          1800
         ],
         "xaxis": "x",
         "y": [
          4,
          5,
          8,
          12,
          16,
          25,
          29,
          30,
          34,
          47,
          46,
          29,
          45,
          50,
          65,
          31,
          34,
          21,
          21,
          21,
          20,
          22,
          13,
          17,
          14,
          26,
          76
         ],
         "yaxis": "y"
        },
        {
         "hovertemplate": "identifier_name=SELIBR ID (Sweden)<br>decade=%{x}<br>score=%{y}<extra></extra>",
         "legendgroup": "SELIBR ID (Sweden)",
         "line": {
          "color": "#8C564B",
          "dash": "solid"
         },
         "marker": {
          "symbol": "circle"
         },
         "mode": "lines",
         "name": "SELIBR ID (Sweden)",
         "opacity": 0.25,
         "orientation": "v",
         "showlegend": true,
         "type": "scatter",
         "x": [
          500,
          550,
          600,
          650,
          700,
          750,
          800,
          850,
          900,
          950,
          1000,
          1050,
          1100,
          1150,
          1200,
          1250,
          1300,
          1350,
          1400,
          1450,
          1500,
          1550,
          1600,
          1650,
          1700,
          1750,
          1800
         ],
         "xaxis": "x",
         "y": [
          2,
          8,
          8,
          13,
          17,
          20,
          27,
          25,
          28,
          39,
          29,
          25,
          34,
          39,
          46,
          31,
          32,
          13,
          16,
          12,
          11,
          14,
          7,
          10,
          3,
          12,
          29
         ],
         "yaxis": "y"
        },
        {
         "hovertemplate": "identifier_name=TDV İslam Ansiklopedisi ID (Turkey)<br>decade=%{x}<br>score=%{y}<extra></extra>",
         "legendgroup": "TDV İslam Ansiklopedisi ID (Turkey)",
         "line": {
          "color": "#E377C2",
          "dash": "solid"
         },
         "marker": {
          "symbol": "circle"
         },
         "mode": "lines",
         "name": "TDV İslam Ansiklopedisi ID (Turkey)",
         "opacity": 0.25,
         "orientation": "v",
         "showlegend": true,
         "type": "scatter",
         "x": [
          500,
          550,
          600,
          650,
          700,
          750,
          800,
          850,
          900,
          950,
          1000,
          1050,
          1100,
          1150,
          1200,
          1250,
          1300,
          1350,
          1400,
          1450,
          1500,
          1550,
          1600,
          1650,
          1700,
          1750,
          1800
         ],
         "xaxis": "x",
         "y": [
          2,
          5,
          12,
          15,
          21,
          26,
          27,
          22,
          18,
          26,
          20,
          16,
          16,
          23,
          27,
          19,
          17,
          10,
          13,
          10,
          11,
          10,
          5,
          4,
          5,
          5,
          10
         ],
         "yaxis": "y"
        },
        {
         "hovertemplate": "identifier_name=EGAXA ID (Egypt)<br>decade=%{x}<br>score=%{y}<extra></extra>",
         "legendgroup": "EGAXA ID (Egypt)",
         "line": {
          "color": "#7F7F7F",
          "dash": "solid"
         },
         "marker": {
          "symbol": "circle"
         },
         "mode": "lines",
         "name": "EGAXA ID (Egypt)",
         "opacity": 0.25,
         "orientation": "v",
         "showlegend": true,
         "type": "scatter",
         "x": [
          500,
          550,
          600,
          650,
          700,
          750,
          800,
          850,
          900,
          950,
          1000,
          1050,
          1100,
          1150,
          1200,
          1250,
          1300,
          1350,
          1400,
          1450,
          1500,
          1550,
          1600,
          1650,
          1700,
          1750,
          1800
         ],
         "xaxis": "x",
         "y": [
          2,
          3,
          6,
          10,
          13,
          15,
          18,
          17,
          16,
          22,
          19,
          15,
          21,
          29,
          34,
          16,
          23,
          11,
          15,
          12,
          4,
          5,
          9,
          8,
          6,
          8,
          15
         ],
         "yaxis": "y"
        },
        {
         "hovertemplate": "identifier_name=Encyclopædia Britannica Online ID (United Kingdom)<br>decade=%{x}<br>score=%{y}<extra></extra>",
         "legendgroup": "Encyclopædia Britannica Online ID (United Kingdom)",
         "line": {
          "color": "#BCBD22",
          "dash": "solid"
         },
         "marker": {
          "symbol": "circle"
         },
         "mode": "lines",
         "name": "Encyclopædia Britannica Online ID (United Kingdom)",
         "opacity": 0.25,
         "orientation": "v",
         "showlegend": true,
         "type": "scatter",
         "x": [
          500,
          550,
          600,
          650,
          700,
          750,
          800,
          850,
          900,
          950,
          1000,
          1050,
          1100,
          1150,
          1200,
          1250,
          1300,
          1350,
          1400,
          1450,
          1500,
          1550,
          1600,
          1650,
          1700,
          1750,
          1800
         ],
         "xaxis": "x",
         "y": [
          6,
          8,
          10,
          8,
          20,
          18,
          19,
          16,
          18,
          20,
          25,
          15,
          19,
          15,
          18,
          11,
          14,
          8,
          10,
          11,
          8,
          9,
          5,
          3,
          2,
          8,
          22
         ],
         "yaxis": "y"
        },
        {
         "hovertemplate": "identifier_name=Vatican Library VcBA ID (Vatican City)<br>decade=%{x}<br>score=%{y}<extra></extra>",
         "legendgroup": "Vatican Library VcBA ID (Vatican City)",
         "line": {
          "color": "#17BECF",
          "dash": "solid"
         },
         "marker": {
          "symbol": "circle"
         },
         "mode": "lines",
         "name": "Vatican Library VcBA ID (Vatican City)",
         "opacity": 0.25,
         "orientation": "v",
         "showlegend": true,
         "type": "scatter",
         "x": [
          500,
          550,
          600,
          650,
          700,
          750,
          800,
          850,
          900,
          950,
          1000,
          1050,
          1100,
          1150,
          1200,
          1250,
          1300,
          1350,
          1400,
          1450,
          1500,
          1550,
          1600,
          1650,
          1700,
          1750,
          1800
         ],
         "xaxis": "x",
         "y": [
          3,
          1,
          3,
          2,
          6,
          6,
          17,
          14,
          14,
          14,
          26,
          17,
          22,
          22,
          30,
          18,
          15,
          8,
          7,
          9,
          9,
          8,
          6,
          7,
          1,
          8,
          23
         ],
         "yaxis": "y"
        },
        {
         "hovertemplate": "identifier_name=NUKAT ID (Poland)<br>decade=%{x}<br>score=%{y}<extra></extra>",
         "legendgroup": "NUKAT ID (Poland)",
         "line": {
          "color": "#1F77B4",
          "dash": "solid"
         },
         "marker": {
          "symbol": "circle"
         },
         "mode": "lines",
         "name": "NUKAT ID (Poland)",
         "opacity": 0.25,
         "orientation": "v",
         "showlegend": true,
         "type": "scatter",
         "x": [
          500,
          600,
          650,
          700,
          750,
          800,
          850,
          900,
          950,
          1000,
          1050,
          1100,
          1150,
          1200,
          1250,
          1300,
          1350,
          1400,
          1450,
          1500,
          1550,
          1600,
          1650,
          1700,
          1750,
          1800
         ],
         "xaxis": "x",
         "y": [
          1,
          1,
          2,
          6,
          6,
          13,
          12,
          12,
          22,
          22,
          12,
          19,
          15,
          27,
          11,
          10,
          5,
          6,
          10,
          7,
          6,
          5,
          5,
          6,
          15,
          32
         ],
         "yaxis": "y"
        },
        {
         "hovertemplate": "identifier_name=Biblioteca Nacional de España ID (Spain)<br>decade=%{x}<br>score=%{y}<extra></extra>",
         "legendgroup": "Biblioteca Nacional de España ID (Spain)",
         "line": {
          "color": "#FF7F0E",
          "dash": "solid"
         },
         "marker": {
          "symbol": "circle"
         },
         "mode": "lines",
         "name": "Biblioteca Nacional de España ID (Spain)",
         "opacity": 0.25,
         "orientation": "v",
         "showlegend": true,
         "type": "scatter",
         "x": [
          500,
          600,
          700,
          750,
          800,
          850,
          900,
          950,
          1000,
          1050,
          1100,
          1150,
          1200,
          1250,
          1300,
          1350,
          1400,
          1450,
          1500,
          1550,
          1600,
          1650,
          1700,
          1750,
          1800
         ],
         "xaxis": "x",
         "y": [
          2,
          2,
          2,
          3,
          8,
          11,
          9,
          19,
          17,
          14,
          15,
          17,
          21,
          10,
          13,
          4,
          8,
          3,
          7,
          4,
          3,
          2,
          1,
          8,
          24
         ],
         "yaxis": "y"
        },
        {
         "hovertemplate": "identifier_name=Great Russian Encyclopedia Online ID (old version) (Russia)<br>decade=%{x}<br>score=%{y}<extra></extra>",
         "legendgroup": "Great Russian Encyclopedia Online ID (old version) (Russia)",
         "line": {
          "color": "#2CA02C",
          "dash": "solid"
         },
         "marker": {
          "symbol": "circle"
         },
         "mode": "lines",
         "name": "Great Russian Encyclopedia Online ID (old version) (Russia)",
         "opacity": 0.25,
         "orientation": "v",
         "showlegend": true,
         "type": "scatter",
         "x": [
          500,
          550,
          600,
          650,
          700,
          750,
          800,
          850,
          900,
          950,
          1000,
          1050,
          1100,
          1150,
          1200,
          1250,
          1300,
          1350,
          1400,
          1450,
          1500,
          1550,
          1600,
          1650,
          1700,
          1750,
          1800
         ],
         "xaxis": "x",
         "y": [
          2,
          1,
          4,
          7,
          9,
          8,
          17,
          12,
          7,
          16,
          15,
          12,
          16,
          10,
          8,
          6,
          8,
          5,
          4,
          7,
          9,
          4,
          1,
          2,
          4,
          2,
          20
         ],
         "yaxis": "y"
        },
        {
         "hovertemplate": "identifier_name=NORAF ID (Norway)<br>decade=%{x}<br>score=%{y}<extra></extra>",
         "legendgroup": "NORAF ID (Norway)",
         "line": {
          "color": "#D62728",
          "dash": "solid"
         },
         "marker": {
          "symbol": "circle"
         },
         "mode": "lines",
         "name": "NORAF ID (Norway)",
         "opacity": 0.25,
         "orientation": "v",
         "showlegend": true,
         "type": "scatter",
         "x": [
          500,
          550,
          600,
          650,
          700,
          750,
          800,
          850,
          900,
          950,
          1000,
          1050,
          1100,
          1150,
          1200,
          1250,
          1300,
          1350,
          1400,
          1450,
          1500,
          1550,
          1600,
          1650,
          1700,
          1750,
          1800
         ],
         "xaxis": "x",
         "y": [
          1,
          1,
          1,
          4,
          5,
          5,
          11,
          13,
          8,
          15,
          13,
          11,
          10,
          16,
          16,
          8,
          11,
          4,
          6,
          6,
          1,
          3,
          3,
          3,
          1,
          7,
          15
         ],
         "yaxis": "y"
        },
        {
         "hovertemplate": "identifier_name=CiNii Books author ID (Japan)<br>decade=%{x}<br>score=%{y}<extra></extra>",
         "legendgroup": "CiNii Books author ID (Japan)",
         "line": {
          "color": "#9467BD",
          "dash": "solid"
         },
         "marker": {
          "symbol": "circle"
         },
         "mode": "lines",
         "name": "CiNii Books author ID (Japan)",
         "opacity": 0.25,
         "orientation": "v",
         "showlegend": true,
         "type": "scatter",
         "x": [
          500,
          550,
          600,
          650,
          700,
          750,
          800,
          850,
          900,
          950,
          1000,
          1050,
          1100,
          1150,
          1200,
          1250,
          1300,
          1350,
          1400,
          1450,
          1500,
          1550,
          1600,
          1650,
          1700,
          1750,
          1800
         ],
         "xaxis": "x",
         "y": [
          1,
          2,
          1,
          4,
          4,
          6,
          7,
          10,
          9,
          12,
          11,
          9,
          9,
          15,
          13,
          9,
          16,
          4,
          7,
          5,
          2,
          3,
          3,
          6,
          2,
          4,
          12
         ],
         "yaxis": "y"
        },
        {
         "hovertemplate": "identifier_name=NKCR AUT ID (Czech Republic)<br>decade=%{x}<br>score=%{y}<extra></extra>",
         "legendgroup": "NKCR AUT ID (Czech Republic)",
         "line": {
          "color": "#8C564B",
          "dash": "solid"
         },
         "marker": {
          "symbol": "circle"
         },
         "mode": "lines",
         "name": "NKCR AUT ID (Czech Republic)",
         "opacity": 0.25,
         "orientation": "v",
         "showlegend": true,
         "type": "scatter",
         "x": [
          500,
          550,
          600,
          650,
          700,
          750,
          800,
          850,
          900,
          950,
          1000,
          1050,
          1100,
          1150,
          1200,
          1250,
          1300,
          1350,
          1400,
          1450,
          1500,
          1550,
          1600,
          1650,
          1700,
          1750,
          1800
         ],
         "xaxis": "x",
         "y": [
          2,
          1,
          1,
          3,
          6,
          3,
          9,
          13,
          12,
          14,
          10,
          6,
          13,
          13,
          15,
          9,
          4,
          2,
          6,
          1,
          6,
          4,
          3,
          1,
          1,
          5,
          17
         ],
         "yaxis": "y"
        },
        {
         "hovertemplate": "identifier_name=NLA Trove people ID (Australia)<br>decade=%{x}<br>score=%{y}<extra></extra>",
         "legendgroup": "NLA Trove people ID (Australia)",
         "line": {
          "color": "#E377C2",
          "dash": "solid"
         },
         "marker": {
          "symbol": "circle"
         },
         "mode": "lines",
         "name": "NLA Trove people ID (Australia)",
         "opacity": 0.25,
         "orientation": "v",
         "showlegend": true,
         "type": "scatter",
         "x": [
          550,
          600,
          650,
          700,
          750,
          800,
          850,
          900,
          950,
          1000,
          1050,
          1100,
          1150,
          1200,
          1250,
          1300,
          1350,
          1400,
          1450,
          1500,
          1550,
          1650,
          1700,
          1750,
          1800
         ],
         "xaxis": "x",
         "y": [
          1,
          3,
          1,
          2,
          2,
          10,
          6,
          3,
          12,
          9,
          6,
          7,
          7,
          13,
          4,
          7,
          3,
          5,
          4,
          3,
          2,
          2,
          1,
          7,
          18
         ],
         "yaxis": "y"
        },
        {
         "hovertemplate": "identifier_name=SHARE Catalogue author ID (Italy)<br>decade=%{x}<br>score=%{y}<extra></extra>",
         "legendgroup": "SHARE Catalogue author ID (Italy)",
         "line": {
          "color": "#7F7F7F",
          "dash": "solid"
         },
         "marker": {
          "symbol": "circle"
         },
         "mode": "lines",
         "name": "SHARE Catalogue author ID (Italy)",
         "opacity": 0.25,
         "orientation": "v",
         "showlegend": true,
         "type": "scatter",
         "x": [
          550,
          700,
          750,
          800,
          850,
          900,
          950,
          1000,
          1050,
          1100,
          1150,
          1200,
          1250,
          1300,
          1350,
          1400,
          1450,
          1550,
          1650,
          1700,
          1750,
          1800
         ],
         "xaxis": "x",
         "y": [
          1,
          1,
          1,
          3,
          7,
          3,
          8,
          6,
          8,
          4,
          8,
          9,
          1,
          4,
          1,
          1,
          4,
          3,
          1,
          1,
          3,
          13
         ],
         "yaxis": "y"
        },
        {
         "hovertemplate": "identifier_name=Canadiana Name Authority ID (Canada)<br>decade=%{x}<br>score=%{y}<extra></extra>",
         "legendgroup": "Canadiana Name Authority ID (Canada)",
         "line": {
          "color": "#BCBD22",
          "dash": "solid"
         },
         "marker": {
          "symbol": "circle"
         },
         "mode": "lines",
         "name": "Canadiana Name Authority ID (Canada)",
         "opacity": 0.25,
         "orientation": "v",
         "showlegend": true,
         "type": "scatter",
         "x": [
          600,
          650,
          700,
          750,
          800,
          850,
          900,
          950,
          1000,
          1050,
          1100,
          1150,
          1200,
          1250,
          1300,
          1350,
          1400,
          1450,
          1500,
          1550,
          1700,
          1750,
          1800
         ],
         "xaxis": "x",
         "y": [
          1,
          2,
          2,
          1,
          4,
          4,
          3,
          6,
          3,
          8,
          7,
          7,
          7,
          3,
          5,
          2,
          1,
          1,
          3,
          1,
          3,
          2,
          8
         ],
         "yaxis": "y"
        },
        {
         "hovertemplate": "identifier_name=Hrvatska enciklopedija ID (Croatia)<br>decade=%{x}<br>score=%{y}<extra></extra>",
         "legendgroup": "Hrvatska enciklopedija ID (Croatia)",
         "line": {
          "color": "#17BECF",
          "dash": "solid"
         },
         "marker": {
          "symbol": "circle"
         },
         "mode": "lines",
         "name": "Hrvatska enciklopedija ID (Croatia)",
         "opacity": 0.25,
         "orientation": "v",
         "showlegend": true,
         "type": "scatter",
         "x": [
          500,
          600,
          650,
          700,
          750,
          800,
          850,
          900,
          950,
          1000,
          1050,
          1100,
          1150,
          1200,
          1300,
          1350,
          1400,
          1450,
          1500,
          1550,
          1600,
          1650,
          1700,
          1750,
          1800
         ],
         "xaxis": "x",
         "y": [
          1,
          1,
          1,
          1,
          3,
          2,
          3,
          4,
          6,
          6,
          3,
          5,
          8,
          2,
          2,
          1,
          2,
          5,
          2,
          1,
          1,
          1,
          1,
          2,
          11
         ],
         "yaxis": "y"
        },
        {
         "hovertemplate": "identifier_name=average<br>decade=%{x}<br>score=%{y}<extra></extra>",
         "legendgroup": "average",
         "line": {
          "color": "#1F77B4",
          "dash": "solid",
          "width": 3
         },
         "marker": {
          "symbol": "circle"
         },
         "mode": "lines",
         "name": "average",
         "orientation": "v",
         "showlegend": true,
         "type": "scatter",
         "x": [
          500,
          550,
          600,
          650,
          700,
          750,
          800,
          850,
          900,
          950,
          1000,
          1050,
          1100,
          1150,
          1200,
          1250,
          1300,
          1350,
          1400,
          1450,
          1500,
          1550,
          1600,
          1650,
          1700,
          1750,
          1800
         ],
         "xaxis": "x",
         "y": [
          2.9411764705882355,
          4.4375,
          5.421052631578948,
          8.833333333333334,
          11.9,
          14.75,
          18.55,
          17.55,
          18.1,
          25.8,
          24.05,
          18.05,
          23.1,
          25.95,
          33.15,
          18.94736842105263,
          19.7,
          10.4,
          12.3,
          11.5,
          10.052631578947368,
          10.7,
          9.764705882352942,
          8.31578947368421,
          5.65,
          13.35,
          35.6
         ],
         "yaxis": "y"
        }
       ],
       "layout": {
        "height": 800,
        "legend": {
         "title": {
          "text": "Identifiers"
         }
        },
        "template": {
         "data": {
          "bar": [
           {
            "error_x": {
             "color": "rgb(36,36,36)"
            },
            "error_y": {
             "color": "rgb(36,36,36)"
            },
            "marker": {
             "line": {
              "color": "white",
              "width": 0.5
             },
             "pattern": {
              "fillmode": "overlay",
              "size": 10,
              "solidity": 0.2
             }
            },
            "type": "bar"
           }
          ],
          "barpolar": [
           {
            "marker": {
             "line": {
              "color": "white",
              "width": 0.5
             },
             "pattern": {
              "fillmode": "overlay",
              "size": 10,
              "solidity": 0.2
             }
            },
            "type": "barpolar"
           }
          ],
          "carpet": [
           {
            "aaxis": {
             "endlinecolor": "rgb(36,36,36)",
             "gridcolor": "white",
             "linecolor": "white",
             "minorgridcolor": "white",
             "startlinecolor": "rgb(36,36,36)"
            },
            "baxis": {
             "endlinecolor": "rgb(36,36,36)",
             "gridcolor": "white",
             "linecolor": "white",
             "minorgridcolor": "white",
             "startlinecolor": "rgb(36,36,36)"
            },
            "type": "carpet"
           }
          ],
          "choropleth": [
           {
            "colorbar": {
             "outlinewidth": 1,
             "tickcolor": "rgb(36,36,36)",
             "ticks": "outside"
            },
            "type": "choropleth"
           }
          ],
          "contour": [
           {
            "colorbar": {
             "outlinewidth": 1,
             "tickcolor": "rgb(36,36,36)",
             "ticks": "outside"
            },
            "colorscale": [
             [
              0,
              "#440154"
             ],
             [
              0.1111111111111111,
              "#482878"
             ],
             [
              0.2222222222222222,
              "#3e4989"
             ],
             [
              0.3333333333333333,
              "#31688e"
             ],
             [
              0.4444444444444444,
              "#26828e"
             ],
             [
              0.5555555555555556,
              "#1f9e89"
             ],
             [
              0.6666666666666666,
              "#35b779"
             ],
             [
              0.7777777777777778,
              "#6ece58"
             ],
             [
              0.8888888888888888,
              "#b5de2b"
             ],
             [
              1,
              "#fde725"
             ]
            ],
            "type": "contour"
           }
          ],
          "contourcarpet": [
           {
            "colorbar": {
             "outlinewidth": 1,
             "tickcolor": "rgb(36,36,36)",
             "ticks": "outside"
            },
            "type": "contourcarpet"
           }
          ],
          "heatmap": [
           {
            "colorbar": {
             "outlinewidth": 1,
             "tickcolor": "rgb(36,36,36)",
             "ticks": "outside"
            },
            "colorscale": [
             [
              0,
              "#440154"
             ],
             [
              0.1111111111111111,
              "#482878"
             ],
             [
              0.2222222222222222,
              "#3e4989"
             ],
             [
              0.3333333333333333,
              "#31688e"
             ],
             [
              0.4444444444444444,
              "#26828e"
             ],
             [
              0.5555555555555556,
              "#1f9e89"
             ],
             [
              0.6666666666666666,
              "#35b779"
             ],
             [
              0.7777777777777778,
              "#6ece58"
             ],
             [
              0.8888888888888888,
              "#b5de2b"
             ],
             [
              1,
              "#fde725"
             ]
            ],
            "type": "heatmap"
           }
          ],
          "heatmapgl": [
           {
            "colorbar": {
             "outlinewidth": 1,
             "tickcolor": "rgb(36,36,36)",
             "ticks": "outside"
            },
            "colorscale": [
             [
              0,
              "#440154"
             ],
             [
              0.1111111111111111,
              "#482878"
             ],
             [
              0.2222222222222222,
              "#3e4989"
             ],
             [
              0.3333333333333333,
              "#31688e"
             ],
             [
              0.4444444444444444,
              "#26828e"
             ],
             [
              0.5555555555555556,
              "#1f9e89"
             ],
             [
              0.6666666666666666,
              "#35b779"
             ],
             [
              0.7777777777777778,
              "#6ece58"
             ],
             [
              0.8888888888888888,
              "#b5de2b"
             ],
             [
              1,
              "#fde725"
             ]
            ],
            "type": "heatmapgl"
           }
          ],
          "histogram": [
           {
            "marker": {
             "line": {
              "color": "white",
              "width": 0.6
             }
            },
            "type": "histogram"
           }
          ],
          "histogram2d": [
           {
            "colorbar": {
             "outlinewidth": 1,
             "tickcolor": "rgb(36,36,36)",
             "ticks": "outside"
            },
            "colorscale": [
             [
              0,
              "#440154"
             ],
             [
              0.1111111111111111,
              "#482878"
             ],
             [
              0.2222222222222222,
              "#3e4989"
             ],
             [
              0.3333333333333333,
              "#31688e"
             ],
             [
              0.4444444444444444,
              "#26828e"
             ],
             [
              0.5555555555555556,
              "#1f9e89"
             ],
             [
              0.6666666666666666,
              "#35b779"
             ],
             [
              0.7777777777777778,
              "#6ece58"
             ],
             [
              0.8888888888888888,
              "#b5de2b"
             ],
             [
              1,
              "#fde725"
             ]
            ],
            "type": "histogram2d"
           }
          ],
          "histogram2dcontour": [
           {
            "colorbar": {
             "outlinewidth": 1,
             "tickcolor": "rgb(36,36,36)",
             "ticks": "outside"
            },
            "colorscale": [
             [
              0,
              "#440154"
             ],
             [
              0.1111111111111111,
              "#482878"
             ],
             [
              0.2222222222222222,
              "#3e4989"
             ],
             [
              0.3333333333333333,
              "#31688e"
             ],
             [
              0.4444444444444444,
              "#26828e"
             ],
             [
              0.5555555555555556,
              "#1f9e89"
             ],
             [
              0.6666666666666666,
              "#35b779"
             ],
             [
              0.7777777777777778,
              "#6ece58"
             ],
             [
              0.8888888888888888,
              "#b5de2b"
             ],
             [
              1,
              "#fde725"
             ]
            ],
            "type": "histogram2dcontour"
           }
          ],
          "mesh3d": [
           {
            "colorbar": {
             "outlinewidth": 1,
             "tickcolor": "rgb(36,36,36)",
             "ticks": "outside"
            },
            "type": "mesh3d"
           }
          ],
          "parcoords": [
           {
            "line": {
             "colorbar": {
              "outlinewidth": 1,
              "tickcolor": "rgb(36,36,36)",
              "ticks": "outside"
             }
            },
            "type": "parcoords"
           }
          ],
          "pie": [
           {
            "automargin": true,
            "type": "pie"
           }
          ],
          "scatter": [
           {
            "fillpattern": {
             "fillmode": "overlay",
             "size": 10,
             "solidity": 0.2
            },
            "type": "scatter"
           }
          ],
          "scatter3d": [
           {
            "line": {
             "colorbar": {
              "outlinewidth": 1,
              "tickcolor": "rgb(36,36,36)",
              "ticks": "outside"
             }
            },
            "marker": {
             "colorbar": {
              "outlinewidth": 1,
              "tickcolor": "rgb(36,36,36)",
              "ticks": "outside"
             }
            },
            "type": "scatter3d"
           }
          ],
          "scattercarpet": [
           {
            "marker": {
             "colorbar": {
              "outlinewidth": 1,
              "tickcolor": "rgb(36,36,36)",
              "ticks": "outside"
             }
            },
            "type": "scattercarpet"
           }
          ],
          "scattergeo": [
           {
            "marker": {
             "colorbar": {
              "outlinewidth": 1,
              "tickcolor": "rgb(36,36,36)",
              "ticks": "outside"
             }
            },
            "type": "scattergeo"
           }
          ],
          "scattergl": [
           {
            "marker": {
             "colorbar": {
              "outlinewidth": 1,
              "tickcolor": "rgb(36,36,36)",
              "ticks": "outside"
             }
            },
            "type": "scattergl"
           }
          ],
          "scattermapbox": [
           {
            "marker": {
             "colorbar": {
              "outlinewidth": 1,
              "tickcolor": "rgb(36,36,36)",
              "ticks": "outside"
             }
            },
            "type": "scattermapbox"
           }
          ],
          "scatterpolar": [
           {
            "marker": {
             "colorbar": {
              "outlinewidth": 1,
              "tickcolor": "rgb(36,36,36)",
              "ticks": "outside"
             }
            },
            "type": "scatterpolar"
           }
          ],
          "scatterpolargl": [
           {
            "marker": {
             "colorbar": {
              "outlinewidth": 1,
              "tickcolor": "rgb(36,36,36)",
              "ticks": "outside"
             }
            },
            "type": "scatterpolargl"
           }
          ],
          "scatterternary": [
           {
            "marker": {
             "colorbar": {
              "outlinewidth": 1,
              "tickcolor": "rgb(36,36,36)",
              "ticks": "outside"
             }
            },
            "type": "scatterternary"
           }
          ],
          "surface": [
           {
            "colorbar": {
             "outlinewidth": 1,
             "tickcolor": "rgb(36,36,36)",
             "ticks": "outside"
            },
            "colorscale": [
             [
              0,
              "#440154"
             ],
             [
              0.1111111111111111,
              "#482878"
             ],
             [
              0.2222222222222222,
              "#3e4989"
             ],
             [
              0.3333333333333333,
              "#31688e"
             ],
             [
              0.4444444444444444,
              "#26828e"
             ],
             [
              0.5555555555555556,
              "#1f9e89"
             ],
             [
              0.6666666666666666,
              "#35b779"
             ],
             [
              0.7777777777777778,
              "#6ece58"
             ],
             [
              0.8888888888888888,
              "#b5de2b"
             ],
             [
              1,
              "#fde725"
             ]
            ],
            "type": "surface"
           }
          ],
          "table": [
           {
            "cells": {
             "fill": {
              "color": "rgb(237,237,237)"
             },
             "line": {
              "color": "white"
             }
            },
            "header": {
             "fill": {
              "color": "rgb(217,217,217)"
             },
             "line": {
              "color": "white"
             }
            },
            "type": "table"
           }
          ]
         },
         "layout": {
          "annotationdefaults": {
           "arrowhead": 0,
           "arrowwidth": 1
          },
          "autotypenumbers": "strict",
          "coloraxis": {
           "colorbar": {
            "outlinewidth": 1,
            "tickcolor": "rgb(36,36,36)",
            "ticks": "outside"
           }
          },
          "colorscale": {
           "diverging": [
            [
             0,
             "rgb(103,0,31)"
            ],
            [
             0.1,
             "rgb(178,24,43)"
            ],
            [
             0.2,
             "rgb(214,96,77)"
            ],
            [
             0.3,
             "rgb(244,165,130)"
            ],
            [
             0.4,
             "rgb(253,219,199)"
            ],
            [
             0.5,
             "rgb(247,247,247)"
            ],
            [
             0.6,
             "rgb(209,229,240)"
            ],
            [
             0.7,
             "rgb(146,197,222)"
            ],
            [
             0.8,
             "rgb(67,147,195)"
            ],
            [
             0.9,
             "rgb(33,102,172)"
            ],
            [
             1,
             "rgb(5,48,97)"
            ]
           ],
           "sequential": [
            [
             0,
             "#440154"
            ],
            [
             0.1111111111111111,
             "#482878"
            ],
            [
             0.2222222222222222,
             "#3e4989"
            ],
            [
             0.3333333333333333,
             "#31688e"
            ],
            [
             0.4444444444444444,
             "#26828e"
            ],
            [
             0.5555555555555556,
             "#1f9e89"
            ],
            [
             0.6666666666666666,
             "#35b779"
            ],
            [
             0.7777777777777778,
             "#6ece58"
            ],
            [
             0.8888888888888888,
             "#b5de2b"
            ],
            [
             1,
             "#fde725"
            ]
           ],
           "sequentialminus": [
            [
             0,
             "#440154"
            ],
            [
             0.1111111111111111,
             "#482878"
            ],
            [
             0.2222222222222222,
             "#3e4989"
            ],
            [
             0.3333333333333333,
             "#31688e"
            ],
            [
             0.4444444444444444,
             "#26828e"
            ],
            [
             0.5555555555555556,
             "#1f9e89"
            ],
            [
             0.6666666666666666,
             "#35b779"
            ],
            [
             0.7777777777777778,
             "#6ece58"
            ],
            [
             0.8888888888888888,
             "#b5de2b"
            ],
            [
             1,
             "#fde725"
            ]
           ]
          },
          "colorway": [
           "#1F77B4",
           "#FF7F0E",
           "#2CA02C",
           "#D62728",
           "#9467BD",
           "#8C564B",
           "#E377C2",
           "#7F7F7F",
           "#BCBD22",
           "#17BECF"
          ],
          "font": {
           "color": "rgb(36,36,36)"
          },
          "geo": {
           "bgcolor": "white",
           "lakecolor": "white",
           "landcolor": "white",
           "showlakes": true,
           "showland": true,
           "subunitcolor": "white"
          },
          "hoverlabel": {
           "align": "left"
          },
          "hovermode": "closest",
          "mapbox": {
           "style": "light"
          },
          "paper_bgcolor": "white",
          "plot_bgcolor": "white",
          "polar": {
           "angularaxis": {
            "gridcolor": "rgb(232,232,232)",
            "linecolor": "rgb(36,36,36)",
            "showgrid": false,
            "showline": true,
            "ticks": "outside"
           },
           "bgcolor": "white",
           "radialaxis": {
            "gridcolor": "rgb(232,232,232)",
            "linecolor": "rgb(36,36,36)",
            "showgrid": false,
            "showline": true,
            "ticks": "outside"
           }
          },
          "scene": {
           "xaxis": {
            "backgroundcolor": "white",
            "gridcolor": "rgb(232,232,232)",
            "gridwidth": 2,
            "linecolor": "rgb(36,36,36)",
            "showbackground": true,
            "showgrid": false,
            "showline": true,
            "ticks": "outside",
            "zeroline": false,
            "zerolinecolor": "rgb(36,36,36)"
           },
           "yaxis": {
            "backgroundcolor": "white",
            "gridcolor": "rgb(232,232,232)",
            "gridwidth": 2,
            "linecolor": "rgb(36,36,36)",
            "showbackground": true,
            "showgrid": false,
            "showline": true,
            "ticks": "outside",
            "zeroline": false,
            "zerolinecolor": "rgb(36,36,36)"
           },
           "zaxis": {
            "backgroundcolor": "white",
            "gridcolor": "rgb(232,232,232)",
            "gridwidth": 2,
            "linecolor": "rgb(36,36,36)",
            "showbackground": true,
            "showgrid": false,
            "showline": true,
            "ticks": "outside",
            "zeroline": false,
            "zerolinecolor": "rgb(36,36,36)"
           }
          },
          "shapedefaults": {
           "fillcolor": "black",
           "line": {
            "width": 0
           },
           "opacity": 0.3
          },
          "ternary": {
           "aaxis": {
            "gridcolor": "rgb(232,232,232)",
            "linecolor": "rgb(36,36,36)",
            "showgrid": false,
            "showline": true,
            "ticks": "outside"
           },
           "baxis": {
            "gridcolor": "rgb(232,232,232)",
            "linecolor": "rgb(36,36,36)",
            "showgrid": false,
            "showline": true,
            "ticks": "outside"
           },
           "bgcolor": "white",
           "caxis": {
            "gridcolor": "rgb(232,232,232)",
            "linecolor": "rgb(36,36,36)",
            "showgrid": false,
            "showline": true,
            "ticks": "outside"
           }
          },
          "title": {
           "x": 0.05
          },
          "xaxis": {
           "automargin": true,
           "gridcolor": "rgb(232,232,232)",
           "linecolor": "rgb(36,36,36)",
           "showgrid": false,
           "showline": true,
           "ticks": "outside",
           "title": {
            "standoff": 15
           },
           "zeroline": false,
           "zerolinecolor": "rgb(36,36,36)"
          },
          "yaxis": {
           "automargin": true,
           "gridcolor": "rgb(232,232,232)",
           "linecolor": "rgb(36,36,36)",
           "showgrid": false,
           "showline": true,
           "ticks": "outside",
           "title": {
            "standoff": 15
           },
           "zeroline": false,
           "zerolinecolor": "rgb(36,36,36)"
          }
         }
        },
        "title": {
         "text": "Muslim world"
        },
        "width": 1300,
        "xaxis": {
         "dtick": 100,
         "title": {
          "text": ""
         }
        },
        "yaxis": {
         "title": {
          "text": "Number of Individuals"
         }
        }
       }
      }
     },
     "metadata": {},
     "output_type": "display_data"
    }
   ],
   "source": [
    "fig, df_fig = make_figure(df_fig_fifty, region_name = 'Muslim world', min_decade = 500, max_decade = 1800, top_identifiers = 20,\n",
    "                  one_id_country = True)\n",
    "\n",
    "fig.write_image(f\"figures/mena_identifiers.png\", scale=7)\n",
    "fig.show()"
   ]
  },
  {
   "cell_type": "code",
   "execution_count": 16,
   "metadata": {},
   "outputs": [
    {
     "data": {
      "text/plain": [
       "0.7926302281522886"
      ]
     },
     "execution_count": 16,
     "metadata": {},
     "output_type": "execute_result"
    }
   ],
   "source": [
    "df_corr = df_fig.pivot(index ='decade', columns = 'identifier_name', values = 'score')\n",
    "df_corr = df_corr.fillna(0)\n",
    "df_corr.corr().stack().mean()"
   ]
  },
  {
   "cell_type": "code",
   "execution_count": 17,
   "metadata": {},
   "outputs": [
    {
     "data": {
      "application/vnd.plotly.v1+json": {
       "config": {
        "plotlyServerURL": "https://plot.ly"
       },
       "data": [
        {
         "hovertemplate": "identifier_name=Biografisch Portaal van Nederland ID (Netherlands)<br>decade=%{x}<br>score=%{y}<extra></extra>",
         "legendgroup": "Biografisch Portaal van Nederland ID (Netherlands)",
         "line": {
          "color": "#1F77B4",
          "dash": "solid"
         },
         "marker": {
          "symbol": "circle"
         },
         "mode": "lines",
         "name": "Biografisch Portaal van Nederland ID (Netherlands)",
         "opacity": 0.25,
         "orientation": "v",
         "showlegend": true,
         "type": "scatter",
         "x": [
          1200,
          1250,
          1300,
          1350,
          1400,
          1450,
          1500,
          1550,
          1600,
          1650,
          1700,
          1750,
          1800
         ],
         "xaxis": "x",
         "y": [
          3,
          1,
          2,
          9,
          25,
          58,
          196,
          428,
          1298,
          905,
          573,
          905,
          1686
         ],
         "yaxis": "y"
        },
        {
         "hovertemplate": "identifier_name=GND ID (Germany)<br>decade=%{x}<br>score=%{y}<extra></extra>",
         "legendgroup": "GND ID (Germany)",
         "line": {
          "color": "#FF7F0E",
          "dash": "solid"
         },
         "marker": {
          "symbol": "circle"
         },
         "mode": "lines",
         "name": "GND ID (Germany)",
         "opacity": 0.25,
         "orientation": "v",
         "showlegend": true,
         "type": "scatter",
         "x": [
          1200,
          1250,
          1300,
          1350,
          1400,
          1450,
          1500,
          1550,
          1600,
          1650,
          1700,
          1750,
          1800
         ],
         "xaxis": "x",
         "y": [
          7,
          5,
          3,
          17,
          45,
          74,
          226,
          400,
          926,
          608,
          430,
          476,
          1113
         ],
         "yaxis": "y"
        },
        {
         "hovertemplate": "identifier_name=Union List of Artist Names ID (United States of America)<br>decade=%{x}<br>score=%{y}<extra></extra>",
         "legendgroup": "Union List of Artist Names ID (United States of America)",
         "line": {
          "color": "#2CA02C",
          "dash": "solid"
         },
         "marker": {
          "symbol": "circle"
         },
         "mode": "lines",
         "name": "Union List of Artist Names ID (United States of America)",
         "opacity": 0.25,
         "orientation": "v",
         "showlegend": true,
         "type": "scatter",
         "x": [
          1350,
          1400,
          1450,
          1500,
          1550,
          1600,
          1650,
          1700,
          1750,
          1800
         ],
         "xaxis": "x",
         "y": [
          8,
          22,
          47,
          123,
          231,
          947,
          590,
          266,
          404,
          909
         ],
         "yaxis": "y"
        },
        {
         "hovertemplate": "identifier_name=Bibliothèque nationale de France ID (France)<br>decade=%{x}<br>score=%{y}<extra></extra>",
         "legendgroup": "Bibliothèque nationale de France ID (France)",
         "line": {
          "color": "#D62728",
          "dash": "solid"
         },
         "marker": {
          "symbol": "circle"
         },
         "mode": "lines",
         "name": "Bibliothèque nationale de France ID (France)",
         "opacity": 0.25,
         "orientation": "v",
         "showlegend": true,
         "type": "scatter",
         "x": [
          1200,
          1250,
          1300,
          1350,
          1400,
          1450,
          1500,
          1550,
          1600,
          1650,
          1700,
          1750,
          1800
         ],
         "xaxis": "x",
         "y": [
          5,
          5,
          3,
          9,
          28,
          47,
          132,
          255,
          550,
          349,
          210,
          232,
          516
         ],
         "yaxis": "y"
        },
        {
         "hovertemplate": "identifier_name=British Museum person or institution ID (United Kingdom)<br>decade=%{x}<br>score=%{y}<extra></extra>",
         "legendgroup": "British Museum person or institution ID (United Kingdom)",
         "line": {
          "color": "#9467BD",
          "dash": "solid"
         },
         "marker": {
          "symbol": "circle"
         },
         "mode": "lines",
         "name": "British Museum person or institution ID (United Kingdom)",
         "opacity": 0.25,
         "orientation": "v",
         "showlegend": true,
         "type": "scatter",
         "x": [
          1350,
          1400,
          1450,
          1500,
          1550,
          1600,
          1650,
          1700,
          1750,
          1800
         ],
         "xaxis": "x",
         "y": [
          3,
          7,
          17,
          86,
          159,
          505,
          285,
          153,
          168,
          267
         ],
         "yaxis": "y"
        },
        {
         "hovertemplate": "identifier_name=NUKAT ID (Poland)<br>decade=%{x}<br>score=%{y}<extra></extra>",
         "legendgroup": "NUKAT ID (Poland)",
         "line": {
          "color": "#8C564B",
          "dash": "solid"
         },
         "marker": {
          "symbol": "circle"
         },
         "mode": "lines",
         "name": "NUKAT ID (Poland)",
         "opacity": 0.25,
         "orientation": "v",
         "showlegend": true,
         "type": "scatter",
         "x": [
          1200,
          1250,
          1300,
          1350,
          1400,
          1450,
          1500,
          1550,
          1600,
          1650,
          1700,
          1750,
          1800
         ],
         "xaxis": "x",
         "y": [
          4,
          4,
          2,
          8,
          17,
          23,
          109,
          205,
          307,
          199,
          109,
          63,
          272
         ],
         "yaxis": "y"
        },
        {
         "hovertemplate": "identifier_name=National Library of Israel J9U ID (Israel)<br>decade=%{x}<br>score=%{y}<extra></extra>",
         "legendgroup": "National Library of Israel J9U ID (Israel)",
         "line": {
          "color": "#E377C2",
          "dash": "solid"
         },
         "marker": {
          "symbol": "circle"
         },
         "mode": "lines",
         "name": "National Library of Israel J9U ID (Israel)",
         "opacity": 0.25,
         "orientation": "v",
         "showlegend": true,
         "type": "scatter",
         "x": [
          1200,
          1250,
          1300,
          1350,
          1400,
          1450,
          1500,
          1550,
          1600,
          1650,
          1700,
          1750,
          1800
         ],
         "xaxis": "x",
         "y": [
          5,
          4,
          1,
          8,
          23,
          33,
          79,
          146,
          296,
          176,
          120,
          61,
          192
         ],
         "yaxis": "y"
        },
        {
         "hovertemplate": "identifier_name=Dictionnaire des peintres belges ID (Belgium)<br>decade=%{x}<br>score=%{y}<extra></extra>",
         "legendgroup": "Dictionnaire des peintres belges ID (Belgium)",
         "line": {
          "color": "#7F7F7F",
          "dash": "solid"
         },
         "marker": {
          "symbol": "circle"
         },
         "mode": "lines",
         "name": "Dictionnaire des peintres belges ID (Belgium)",
         "opacity": 0.25,
         "orientation": "v",
         "showlegend": true,
         "type": "scatter",
         "x": [
          1350,
          1400,
          1450,
          1500,
          1550,
          1600,
          1650,
          1700,
          1750,
          1800
         ],
         "xaxis": "x",
         "y": [
          5,
          9,
          25,
          66,
          74,
          224,
          140,
          68,
          98,
          426
         ],
         "yaxis": "y"
        },
        {
         "hovertemplate": "identifier_name=Vatican Library VcBA ID (Vatican City)<br>decade=%{x}<br>score=%{y}<extra></extra>",
         "legendgroup": "Vatican Library VcBA ID (Vatican City)",
         "line": {
          "color": "#BCBD22",
          "dash": "solid"
         },
         "marker": {
          "symbol": "circle"
         },
         "mode": "lines",
         "name": "Vatican Library VcBA ID (Vatican City)",
         "opacity": 0.25,
         "orientation": "v",
         "showlegend": true,
         "type": "scatter",
         "x": [
          1200,
          1250,
          1300,
          1350,
          1400,
          1450,
          1500,
          1550,
          1600,
          1650,
          1700,
          1750,
          1800
         ],
         "xaxis": "x",
         "y": [
          4,
          2,
          2,
          9,
          18,
          13,
          100,
          174,
          273,
          172,
          101,
          54,
          210
         ],
         "yaxis": "y"
        },
        {
         "hovertemplate": "identifier_name=Biblioteca Nacional de España ID (Spain)<br>decade=%{x}<br>score=%{y}<extra></extra>",
         "legendgroup": "Biblioteca Nacional de España ID (Spain)",
         "line": {
          "color": "#17BECF",
          "dash": "solid"
         },
         "marker": {
          "symbol": "circle"
         },
         "mode": "lines",
         "name": "Biblioteca Nacional de España ID (Spain)",
         "opacity": 0.25,
         "orientation": "v",
         "showlegend": true,
         "type": "scatter",
         "x": [
          1200,
          1250,
          1300,
          1350,
          1400,
          1450,
          1500,
          1550,
          1600,
          1650,
          1700,
          1750,
          1800
         ],
         "xaxis": "x",
         "y": [
          5,
          3,
          1,
          4,
          12,
          26,
          84,
          196,
          361,
          175,
          85,
          41,
          117
         ],
         "yaxis": "y"
        },
        {
         "hovertemplate": "identifier_name=NKCR AUT ID (Czech Republic)<br>decade=%{x}<br>score=%{y}<extra></extra>",
         "legendgroup": "NKCR AUT ID (Czech Republic)",
         "line": {
          "color": "#1F77B4",
          "dash": "solid"
         },
         "marker": {
          "symbol": "circle"
         },
         "mode": "lines",
         "name": "NKCR AUT ID (Czech Republic)",
         "opacity": 0.25,
         "orientation": "v",
         "showlegend": true,
         "type": "scatter",
         "x": [
          1200,
          1250,
          1350,
          1400,
          1450,
          1500,
          1550,
          1600,
          1650,
          1700,
          1750,
          1800
         ],
         "xaxis": "x",
         "y": [
          4,
          1,
          5,
          17,
          23,
          86,
          161,
          249,
          201,
          143,
          63,
          112
         ],
         "yaxis": "y"
        },
        {
         "hovertemplate": "identifier_name=SELIBR ID (Sweden)<br>decade=%{x}<br>score=%{y}<extra></extra>",
         "legendgroup": "SELIBR ID (Sweden)",
         "line": {
          "color": "#FF7F0E",
          "dash": "solid"
         },
         "marker": {
          "symbol": "circle"
         },
         "mode": "lines",
         "name": "SELIBR ID (Sweden)",
         "opacity": 0.25,
         "orientation": "v",
         "showlegend": true,
         "type": "scatter",
         "x": [
          1200,
          1250,
          1300,
          1350,
          1400,
          1450,
          1500,
          1550,
          1600,
          1650,
          1700,
          1750,
          1800
         ],
         "xaxis": "x",
         "y": [
          3,
          4,
          1,
          5,
          11,
          12,
          61,
          112,
          178,
          114,
          49,
          17,
          52
         ],
         "yaxis": "y"
        },
        {
         "hovertemplate": "identifier_name=Athenaeum person ID (Finland)<br>decade=%{x}<br>score=%{y}<extra></extra>",
         "legendgroup": "Athenaeum person ID (Finland)",
         "line": {
          "color": "#2CA02C",
          "dash": "solid"
         },
         "marker": {
          "symbol": "circle"
         },
         "mode": "lines",
         "name": "Athenaeum person ID (Finland)",
         "opacity": 0.25,
         "orientation": "v",
         "showlegend": true,
         "type": "scatter",
         "x": [
          1350,
          1400,
          1450,
          1500,
          1550,
          1600,
          1650,
          1700,
          1750,
          1800
         ],
         "xaxis": "x",
         "y": [
          4,
          5,
          15,
          28,
          47,
          254,
          94,
          11,
          28,
          131
         ],
         "yaxis": "y"
        },
        {
         "hovertemplate": "identifier_name=Kunstindeks Danmark Artist ID (Denmark)<br>decade=%{x}<br>score=%{y}<extra></extra>",
         "legendgroup": "Kunstindeks Danmark Artist ID (Denmark)",
         "line": {
          "color": "#D62728",
          "dash": "solid"
         },
         "marker": {
          "symbol": "circle"
         },
         "mode": "lines",
         "name": "Kunstindeks Danmark Artist ID (Denmark)",
         "opacity": 0.25,
         "orientation": "v",
         "showlegend": true,
         "type": "scatter",
         "x": [
          1400,
          1450,
          1500,
          1550,
          1600,
          1650,
          1700,
          1750,
          1800
         ],
         "xaxis": "x",
         "y": [
          3,
          10,
          25,
          63,
          298,
          128,
          16,
          11,
          5
         ],
         "yaxis": "y"
        },
        {
         "hovertemplate": "identifier_name=Portuguese National Library author ID (Portugal)<br>decade=%{x}<br>score=%{y}<extra></extra>",
         "legendgroup": "Portuguese National Library author ID (Portugal)",
         "line": {
          "color": "#9467BD",
          "dash": "solid"
         },
         "marker": {
          "symbol": "circle"
         },
         "mode": "lines",
         "name": "Portuguese National Library author ID (Portugal)",
         "opacity": 0.25,
         "orientation": "v",
         "showlegend": true,
         "type": "scatter",
         "x": [
          1200,
          1250,
          1350,
          1400,
          1450,
          1500,
          1550,
          1600,
          1650,
          1700,
          1750,
          1800
         ],
         "xaxis": "x",
         "y": [
          1,
          1,
          3,
          5,
          10,
          54,
          90,
          130,
          102,
          57,
          23,
          71
         ],
         "yaxis": "y"
        },
        {
         "hovertemplate": "identifier_name=DigitaltMuseum ID (Norway)<br>decade=%{x}<br>score=%{y}<extra></extra>",
         "legendgroup": "DigitaltMuseum ID (Norway)",
         "line": {
          "color": "#8C564B",
          "dash": "solid"
         },
         "marker": {
          "symbol": "circle"
         },
         "mode": "lines",
         "name": "DigitaltMuseum ID (Norway)",
         "opacity": 0.25,
         "orientation": "v",
         "showlegend": true,
         "type": "scatter",
         "x": [
          1400,
          1450,
          1500,
          1550,
          1600,
          1650,
          1700,
          1750,
          1800
         ],
         "xaxis": "x",
         "y": [
          3,
          6,
          26,
          59,
          253,
          109,
          28,
          30,
          29
         ],
         "yaxis": "y"
        },
        {
         "hovertemplate": "identifier_name=NLA Trove people ID (Australia)<br>decade=%{x}<br>score=%{y}<extra></extra>",
         "legendgroup": "NLA Trove people ID (Australia)",
         "line": {
          "color": "#E377C2",
          "dash": "solid"
         },
         "marker": {
          "symbol": "circle"
         },
         "mode": "lines",
         "name": "NLA Trove people ID (Australia)",
         "opacity": 0.25,
         "orientation": "v",
         "showlegend": true,
         "type": "scatter",
         "x": [
          1200,
          1300,
          1350,
          1400,
          1450,
          1500,
          1550,
          1600,
          1650,
          1700,
          1750,
          1800
         ],
         "xaxis": "x",
         "y": [
          3,
          1,
          4,
          10,
          10,
          30,
          72,
          114,
          71,
          45,
          29,
          92
         ],
         "yaxis": "y"
        },
        {
         "hovertemplate": "identifier_name=Unione Romana Biblioteche Scientifiche ID (Italy)<br>decade=%{x}<br>score=%{y}<extra></extra>",
         "legendgroup": "Unione Romana Biblioteche Scientifiche ID (Italy)",
         "line": {
          "color": "#7F7F7F",
          "dash": "solid"
         },
         "marker": {
          "symbol": "circle"
         },
         "mode": "lines",
         "name": "Unione Romana Biblioteche Scientifiche ID (Italy)",
         "opacity": 0.25,
         "orientation": "v",
         "showlegend": true,
         "type": "scatter",
         "x": [
          1200,
          1350,
          1400,
          1450,
          1500,
          1550,
          1600,
          1650,
          1700,
          1750,
          1800
         ],
         "xaxis": "x",
         "y": [
          1,
          7,
          8,
          13,
          36,
          54,
          119,
          58,
          32,
          26,
          102
         ],
         "yaxis": "y"
        },
        {
         "hovertemplate": "identifier_name=National Library of Greece ID (Greece)<br>decade=%{x}<br>score=%{y}<extra></extra>",
         "legendgroup": "National Library of Greece ID (Greece)",
         "line": {
          "color": "#BCBD22",
          "dash": "solid"
         },
         "marker": {
          "symbol": "circle"
         },
         "mode": "lines",
         "name": "National Library of Greece ID (Greece)",
         "opacity": 0.25,
         "orientation": "v",
         "showlegend": true,
         "type": "scatter",
         "x": [
          1200,
          1350,
          1400,
          1450,
          1500,
          1550,
          1600,
          1650,
          1700,
          1750,
          1800
         ],
         "xaxis": "x",
         "y": [
          1,
          2,
          4,
          1,
          20,
          39,
          57,
          62,
          46,
          20,
          87
         ],
         "yaxis": "y"
        },
        {
         "hovertemplate": "identifier_name=Web umenia creator ID (Slovakia)<br>decade=%{x}<br>score=%{y}<extra></extra>",
         "legendgroup": "Web umenia creator ID (Slovakia)",
         "line": {
          "color": "#17BECF",
          "dash": "solid"
         },
         "marker": {
          "symbol": "circle"
         },
         "mode": "lines",
         "name": "Web umenia creator ID (Slovakia)",
         "opacity": 0.25,
         "orientation": "v",
         "showlegend": true,
         "type": "scatter",
         "x": [
          1400,
          1450,
          1500,
          1550,
          1600,
          1650,
          1700,
          1750,
          1800
         ],
         "xaxis": "x",
         "y": [
          2,
          6,
          15,
          50,
          157,
          57,
          13,
          6,
          16
         ],
         "yaxis": "y"
        },
        {
         "hovertemplate": "identifier_name=average<br>decade=%{x}<br>score=%{y}<extra></extra>",
         "legendgroup": "average",
         "line": {
          "color": "#1F77B4",
          "dash": "solid",
          "width": 3
         },
         "marker": {
          "symbol": "circle"
         },
         "mode": "lines",
         "name": "average",
         "orientation": "v",
         "showlegend": true,
         "type": "scatter",
         "x": [
          1200,
          1250,
          1300,
          1350,
          1400,
          1450,
          1500,
          1550,
          1600,
          1650,
          1700,
          1750,
          1800
         ],
         "xaxis": "x",
         "y": [
          3.5384615384615383,
          3,
          1.7777777777777777,
          6.470588235294118,
          13.7,
          23.45,
          79.1,
          150.75,
          374.8,
          229.75,
          127.75,
          137.75,
          320.25
         ],
         "yaxis": "y"
        }
       ],
       "layout": {
        "height": 800,
        "legend": {
         "title": {
          "text": "Identifiers"
         }
        },
        "template": {
         "data": {
          "bar": [
           {
            "error_x": {
             "color": "rgb(36,36,36)"
            },
            "error_y": {
             "color": "rgb(36,36,36)"
            },
            "marker": {
             "line": {
              "color": "white",
              "width": 0.5
             },
             "pattern": {
              "fillmode": "overlay",
              "size": 10,
              "solidity": 0.2
             }
            },
            "type": "bar"
           }
          ],
          "barpolar": [
           {
            "marker": {
             "line": {
              "color": "white",
              "width": 0.5
             },
             "pattern": {
              "fillmode": "overlay",
              "size": 10,
              "solidity": 0.2
             }
            },
            "type": "barpolar"
           }
          ],
          "carpet": [
           {
            "aaxis": {
             "endlinecolor": "rgb(36,36,36)",
             "gridcolor": "white",
             "linecolor": "white",
             "minorgridcolor": "white",
             "startlinecolor": "rgb(36,36,36)"
            },
            "baxis": {
             "endlinecolor": "rgb(36,36,36)",
             "gridcolor": "white",
             "linecolor": "white",
             "minorgridcolor": "white",
             "startlinecolor": "rgb(36,36,36)"
            },
            "type": "carpet"
           }
          ],
          "choropleth": [
           {
            "colorbar": {
             "outlinewidth": 1,
             "tickcolor": "rgb(36,36,36)",
             "ticks": "outside"
            },
            "type": "choropleth"
           }
          ],
          "contour": [
           {
            "colorbar": {
             "outlinewidth": 1,
             "tickcolor": "rgb(36,36,36)",
             "ticks": "outside"
            },
            "colorscale": [
             [
              0,
              "#440154"
             ],
             [
              0.1111111111111111,
              "#482878"
             ],
             [
              0.2222222222222222,
              "#3e4989"
             ],
             [
              0.3333333333333333,
              "#31688e"
             ],
             [
              0.4444444444444444,
              "#26828e"
             ],
             [
              0.5555555555555556,
              "#1f9e89"
             ],
             [
              0.6666666666666666,
              "#35b779"
             ],
             [
              0.7777777777777778,
              "#6ece58"
             ],
             [
              0.8888888888888888,
              "#b5de2b"
             ],
             [
              1,
              "#fde725"
             ]
            ],
            "type": "contour"
           }
          ],
          "contourcarpet": [
           {
            "colorbar": {
             "outlinewidth": 1,
             "tickcolor": "rgb(36,36,36)",
             "ticks": "outside"
            },
            "type": "contourcarpet"
           }
          ],
          "heatmap": [
           {
            "colorbar": {
             "outlinewidth": 1,
             "tickcolor": "rgb(36,36,36)",
             "ticks": "outside"
            },
            "colorscale": [
             [
              0,
              "#440154"
             ],
             [
              0.1111111111111111,
              "#482878"
             ],
             [
              0.2222222222222222,
              "#3e4989"
             ],
             [
              0.3333333333333333,
              "#31688e"
             ],
             [
              0.4444444444444444,
              "#26828e"
             ],
             [
              0.5555555555555556,
              "#1f9e89"
             ],
             [
              0.6666666666666666,
              "#35b779"
             ],
             [
              0.7777777777777778,
              "#6ece58"
             ],
             [
              0.8888888888888888,
              "#b5de2b"
             ],
             [
              1,
              "#fde725"
             ]
            ],
            "type": "heatmap"
           }
          ],
          "heatmapgl": [
           {
            "colorbar": {
             "outlinewidth": 1,
             "tickcolor": "rgb(36,36,36)",
             "ticks": "outside"
            },
            "colorscale": [
             [
              0,
              "#440154"
             ],
             [
              0.1111111111111111,
              "#482878"
             ],
             [
              0.2222222222222222,
              "#3e4989"
             ],
             [
              0.3333333333333333,
              "#31688e"
             ],
             [
              0.4444444444444444,
              "#26828e"
             ],
             [
              0.5555555555555556,
              "#1f9e89"
             ],
             [
              0.6666666666666666,
              "#35b779"
             ],
             [
              0.7777777777777778,
              "#6ece58"
             ],
             [
              0.8888888888888888,
              "#b5de2b"
             ],
             [
              1,
              "#fde725"
             ]
            ],
            "type": "heatmapgl"
           }
          ],
          "histogram": [
           {
            "marker": {
             "line": {
              "color": "white",
              "width": 0.6
             }
            },
            "type": "histogram"
           }
          ],
          "histogram2d": [
           {
            "colorbar": {
             "outlinewidth": 1,
             "tickcolor": "rgb(36,36,36)",
             "ticks": "outside"
            },
            "colorscale": [
             [
              0,
              "#440154"
             ],
             [
              0.1111111111111111,
              "#482878"
             ],
             [
              0.2222222222222222,
              "#3e4989"
             ],
             [
              0.3333333333333333,
              "#31688e"
             ],
             [
              0.4444444444444444,
              "#26828e"
             ],
             [
              0.5555555555555556,
              "#1f9e89"
             ],
             [
              0.6666666666666666,
              "#35b779"
             ],
             [
              0.7777777777777778,
              "#6ece58"
             ],
             [
              0.8888888888888888,
              "#b5de2b"
             ],
             [
              1,
              "#fde725"
             ]
            ],
            "type": "histogram2d"
           }
          ],
          "histogram2dcontour": [
           {
            "colorbar": {
             "outlinewidth": 1,
             "tickcolor": "rgb(36,36,36)",
             "ticks": "outside"
            },
            "colorscale": [
             [
              0,
              "#440154"
             ],
             [
              0.1111111111111111,
              "#482878"
             ],
             [
              0.2222222222222222,
              "#3e4989"
             ],
             [
              0.3333333333333333,
              "#31688e"
             ],
             [
              0.4444444444444444,
              "#26828e"
             ],
             [
              0.5555555555555556,
              "#1f9e89"
             ],
             [
              0.6666666666666666,
              "#35b779"
             ],
             [
              0.7777777777777778,
              "#6ece58"
             ],
             [
              0.8888888888888888,
              "#b5de2b"
             ],
             [
              1,
              "#fde725"
             ]
            ],
            "type": "histogram2dcontour"
           }
          ],
          "mesh3d": [
           {
            "colorbar": {
             "outlinewidth": 1,
             "tickcolor": "rgb(36,36,36)",
             "ticks": "outside"
            },
            "type": "mesh3d"
           }
          ],
          "parcoords": [
           {
            "line": {
             "colorbar": {
              "outlinewidth": 1,
              "tickcolor": "rgb(36,36,36)",
              "ticks": "outside"
             }
            },
            "type": "parcoords"
           }
          ],
          "pie": [
           {
            "automargin": true,
            "type": "pie"
           }
          ],
          "scatter": [
           {
            "fillpattern": {
             "fillmode": "overlay",
             "size": 10,
             "solidity": 0.2
            },
            "type": "scatter"
           }
          ],
          "scatter3d": [
           {
            "line": {
             "colorbar": {
              "outlinewidth": 1,
              "tickcolor": "rgb(36,36,36)",
              "ticks": "outside"
             }
            },
            "marker": {
             "colorbar": {
              "outlinewidth": 1,
              "tickcolor": "rgb(36,36,36)",
              "ticks": "outside"
             }
            },
            "type": "scatter3d"
           }
          ],
          "scattercarpet": [
           {
            "marker": {
             "colorbar": {
              "outlinewidth": 1,
              "tickcolor": "rgb(36,36,36)",
              "ticks": "outside"
             }
            },
            "type": "scattercarpet"
           }
          ],
          "scattergeo": [
           {
            "marker": {
             "colorbar": {
              "outlinewidth": 1,
              "tickcolor": "rgb(36,36,36)",
              "ticks": "outside"
             }
            },
            "type": "scattergeo"
           }
          ],
          "scattergl": [
           {
            "marker": {
             "colorbar": {
              "outlinewidth": 1,
              "tickcolor": "rgb(36,36,36)",
              "ticks": "outside"
             }
            },
            "type": "scattergl"
           }
          ],
          "scattermapbox": [
           {
            "marker": {
             "colorbar": {
              "outlinewidth": 1,
              "tickcolor": "rgb(36,36,36)",
              "ticks": "outside"
             }
            },
            "type": "scattermapbox"
           }
          ],
          "scatterpolar": [
           {
            "marker": {
             "colorbar": {
              "outlinewidth": 1,
              "tickcolor": "rgb(36,36,36)",
              "ticks": "outside"
             }
            },
            "type": "scatterpolar"
           }
          ],
          "scatterpolargl": [
           {
            "marker": {
             "colorbar": {
              "outlinewidth": 1,
              "tickcolor": "rgb(36,36,36)",
              "ticks": "outside"
             }
            },
            "type": "scatterpolargl"
           }
          ],
          "scatterternary": [
           {
            "marker": {
             "colorbar": {
              "outlinewidth": 1,
              "tickcolor": "rgb(36,36,36)",
              "ticks": "outside"
             }
            },
            "type": "scatterternary"
           }
          ],
          "surface": [
           {
            "colorbar": {
             "outlinewidth": 1,
             "tickcolor": "rgb(36,36,36)",
             "ticks": "outside"
            },
            "colorscale": [
             [
              0,
              "#440154"
             ],
             [
              0.1111111111111111,
              "#482878"
             ],
             [
              0.2222222222222222,
              "#3e4989"
             ],
             [
              0.3333333333333333,
              "#31688e"
             ],
             [
              0.4444444444444444,
              "#26828e"
             ],
             [
              0.5555555555555556,
              "#1f9e89"
             ],
             [
              0.6666666666666666,
              "#35b779"
             ],
             [
              0.7777777777777778,
              "#6ece58"
             ],
             [
              0.8888888888888888,
              "#b5de2b"
             ],
             [
              1,
              "#fde725"
             ]
            ],
            "type": "surface"
           }
          ],
          "table": [
           {
            "cells": {
             "fill": {
              "color": "rgb(237,237,237)"
             },
             "line": {
              "color": "white"
             }
            },
            "header": {
             "fill": {
              "color": "rgb(217,217,217)"
             },
             "line": {
              "color": "white"
             }
            },
            "type": "table"
           }
          ]
         },
         "layout": {
          "annotationdefaults": {
           "arrowhead": 0,
           "arrowwidth": 1
          },
          "autotypenumbers": "strict",
          "coloraxis": {
           "colorbar": {
            "outlinewidth": 1,
            "tickcolor": "rgb(36,36,36)",
            "ticks": "outside"
           }
          },
          "colorscale": {
           "diverging": [
            [
             0,
             "rgb(103,0,31)"
            ],
            [
             0.1,
             "rgb(178,24,43)"
            ],
            [
             0.2,
             "rgb(214,96,77)"
            ],
            [
             0.3,
             "rgb(244,165,130)"
            ],
            [
             0.4,
             "rgb(253,219,199)"
            ],
            [
             0.5,
             "rgb(247,247,247)"
            ],
            [
             0.6,
             "rgb(209,229,240)"
            ],
            [
             0.7,
             "rgb(146,197,222)"
            ],
            [
             0.8,
             "rgb(67,147,195)"
            ],
            [
             0.9,
             "rgb(33,102,172)"
            ],
            [
             1,
             "rgb(5,48,97)"
            ]
           ],
           "sequential": [
            [
             0,
             "#440154"
            ],
            [
             0.1111111111111111,
             "#482878"
            ],
            [
             0.2222222222222222,
             "#3e4989"
            ],
            [
             0.3333333333333333,
             "#31688e"
            ],
            [
             0.4444444444444444,
             "#26828e"
            ],
            [
             0.5555555555555556,
             "#1f9e89"
            ],
            [
             0.6666666666666666,
             "#35b779"
            ],
            [
             0.7777777777777778,
             "#6ece58"
            ],
            [
             0.8888888888888888,
             "#b5de2b"
            ],
            [
             1,
             "#fde725"
            ]
           ],
           "sequentialminus": [
            [
             0,
             "#440154"
            ],
            [
             0.1111111111111111,
             "#482878"
            ],
            [
             0.2222222222222222,
             "#3e4989"
            ],
            [
             0.3333333333333333,
             "#31688e"
            ],
            [
             0.4444444444444444,
             "#26828e"
            ],
            [
             0.5555555555555556,
             "#1f9e89"
            ],
            [
             0.6666666666666666,
             "#35b779"
            ],
            [
             0.7777777777777778,
             "#6ece58"
            ],
            [
             0.8888888888888888,
             "#b5de2b"
            ],
            [
             1,
             "#fde725"
            ]
           ]
          },
          "colorway": [
           "#1F77B4",
           "#FF7F0E",
           "#2CA02C",
           "#D62728",
           "#9467BD",
           "#8C564B",
           "#E377C2",
           "#7F7F7F",
           "#BCBD22",
           "#17BECF"
          ],
          "font": {
           "color": "rgb(36,36,36)"
          },
          "geo": {
           "bgcolor": "white",
           "lakecolor": "white",
           "landcolor": "white",
           "showlakes": true,
           "showland": true,
           "subunitcolor": "white"
          },
          "hoverlabel": {
           "align": "left"
          },
          "hovermode": "closest",
          "mapbox": {
           "style": "light"
          },
          "paper_bgcolor": "white",
          "plot_bgcolor": "white",
          "polar": {
           "angularaxis": {
            "gridcolor": "rgb(232,232,232)",
            "linecolor": "rgb(36,36,36)",
            "showgrid": false,
            "showline": true,
            "ticks": "outside"
           },
           "bgcolor": "white",
           "radialaxis": {
            "gridcolor": "rgb(232,232,232)",
            "linecolor": "rgb(36,36,36)",
            "showgrid": false,
            "showline": true,
            "ticks": "outside"
           }
          },
          "scene": {
           "xaxis": {
            "backgroundcolor": "white",
            "gridcolor": "rgb(232,232,232)",
            "gridwidth": 2,
            "linecolor": "rgb(36,36,36)",
            "showbackground": true,
            "showgrid": false,
            "showline": true,
            "ticks": "outside",
            "zeroline": false,
            "zerolinecolor": "rgb(36,36,36)"
           },
           "yaxis": {
            "backgroundcolor": "white",
            "gridcolor": "rgb(232,232,232)",
            "gridwidth": 2,
            "linecolor": "rgb(36,36,36)",
            "showbackground": true,
            "showgrid": false,
            "showline": true,
            "ticks": "outside",
            "zeroline": false,
            "zerolinecolor": "rgb(36,36,36)"
           },
           "zaxis": {
            "backgroundcolor": "white",
            "gridcolor": "rgb(232,232,232)",
            "gridwidth": 2,
            "linecolor": "rgb(36,36,36)",
            "showbackground": true,
            "showgrid": false,
            "showline": true,
            "ticks": "outside",
            "zeroline": false,
            "zerolinecolor": "rgb(36,36,36)"
           }
          },
          "shapedefaults": {
           "fillcolor": "black",
           "line": {
            "width": 0
           },
           "opacity": 0.3
          },
          "ternary": {
           "aaxis": {
            "gridcolor": "rgb(232,232,232)",
            "linecolor": "rgb(36,36,36)",
            "showgrid": false,
            "showline": true,
            "ticks": "outside"
           },
           "baxis": {
            "gridcolor": "rgb(232,232,232)",
            "linecolor": "rgb(36,36,36)",
            "showgrid": false,
            "showline": true,
            "ticks": "outside"
           },
           "bgcolor": "white",
           "caxis": {
            "gridcolor": "rgb(232,232,232)",
            "linecolor": "rgb(36,36,36)",
            "showgrid": false,
            "showline": true,
            "ticks": "outside"
           }
          },
          "title": {
           "x": 0.05
          },
          "xaxis": {
           "automargin": true,
           "gridcolor": "rgb(232,232,232)",
           "linecolor": "rgb(36,36,36)",
           "showgrid": false,
           "showline": true,
           "ticks": "outside",
           "title": {
            "standoff": 15
           },
           "zeroline": false,
           "zerolinecolor": "rgb(36,36,36)"
          },
          "yaxis": {
           "automargin": true,
           "gridcolor": "rgb(232,232,232)",
           "linecolor": "rgb(36,36,36)",
           "showgrid": false,
           "showline": true,
           "ticks": "outside",
           "title": {
            "standoff": 15
           },
           "zeroline": false,
           "zerolinecolor": "rgb(36,36,36)"
          }
         }
        },
        "title": {
         "text": "Low countries"
        },
        "width": 1300,
        "xaxis": {
         "dtick": 100,
         "title": {
          "text": ""
         }
        },
        "yaxis": {
         "title": {
          "text": "Number of Individuals"
         }
        }
       }
      }
     },
     "metadata": {},
     "output_type": "display_data"
    }
   ],
   "source": [
    "fig, df_fig = make_figure(df_fig_fifty, region_name = 'Low countries', min_decade = 1200, max_decade = 1800, top_identifiers = 20,\n",
    "                  one_id_country = True)\n",
    "\n",
    "fig.write_image(f\"figures/low_countries_identifiers.png\", scale=7)\n",
    "fig.show()"
   ]
  },
  {
   "cell_type": "code",
   "execution_count": 18,
   "metadata": {},
   "outputs": [
    {
     "data": {
      "text/plain": [
       "0.8901595863749558"
      ]
     },
     "execution_count": 18,
     "metadata": {},
     "output_type": "execute_result"
    }
   ],
   "source": [
    "df_corr = df_fig_italy.pivot(index ='decade', columns = 'identifier_name', values = 'score')\n",
    "df_corr = df_corr.fillna(0)\n",
    "df_corr.corr().stack().mean()"
   ]
  },
  {
   "cell_type": "code",
   "execution_count": null,
   "id": "56de0b81-3f73-4d15-a335-3ed6585bcd92",
   "metadata": {
    "tags": []
   },
   "outputs": [],
   "source": []
  },
  {
   "cell_type": "code",
   "execution_count": 23,
   "id": "98f39a54-daaa-4e21-8717-06a729ce29c4",
   "metadata": {},
   "outputs": [
    {
     "data": {
      "image/png": "[encoded data removed]",
      "text/plain": [
       "<Figure size 900x700 with 1 Axes>"
      ]
     },
     "metadata": {},
     "output_type": "display_data"
    },
    {
     "data": {
      "text/plain": [
       "0.899587324385561"
      ]
     },
     "execution_count": 23,
     "metadata": {},
     "output_type": "execute_result"
    }
   ],
   "source": [
    "import matplotlib.pyplot as plt\n",
    "import pandas as pd\n",
    "import numpy as np\n",
    "import statsmodels.api as sm\n",
    "\n",
    "def make_figure(df_graph_bis, region_name, min_decade=-500, max_decade=1800, top_identifiers=5, one_id_country=False):\n",
    "    df_fig = df_graph_bis[df_graph_bis['region_name'] == region_name]\n",
    "    df_fig = df_fig[(df_fig['decade'] <= max_decade) & (df_fig['decade'] >= min_decade)]\n",
    "    \n",
    "    if one_id_country:\n",
    "        df_fig = df_fig[df_fig['country_name'] != '']\n",
    "        one_id_country = df_fig.groupby(['country_name', 'identifier_name'])['score'].sum().reset_index()\n",
    "        one_id_country = one_id_country.sort_values(['country_name', 'score'], ascending=(False, False))\n",
    "        one_id_country = one_id_country.groupby('country_name').head(1)\n",
    "        one_id_country = list(one_id_country['identifier_name'])\n",
    "        df_fig = df_fig[df_fig['identifier_name'].isin(one_id_country)]\n",
    "    \n",
    "    top_ids = df_fig.groupby('identifier_name')['score'].sum().reset_index().sort_values('score', ascending=False)\n",
    "    top_ids = list(top_ids['identifier_name'][:top_identifiers])\n",
    "    df_fig = df_fig[df_fig['identifier_name'].isin(top_ids)]\n",
    "    \n",
    "    df_fig_mean = df_fig.groupby('decade')['score'].mean().reset_index()\n",
    "    df_fig_mean['identifier_name'] = 'average'\n",
    "\n",
    "    plt.figure(figsize=(9, 7))\n",
    "\n",
    "\n",
    "    # Plot LOWESS regression for each top identifier with alpha\n",
    "    for identifier in top_ids:\n",
    "        subset = df_fig[df_fig['identifier_name'] == identifier]\n",
    "        lowess = sm.nonparametric.lowess(subset['score'], subset['decade'], frac=0.15)\n",
    "        plt.plot(lowess[:, 0], lowess[:, 1], label=identifier, linewidth=2, alpha=0.25)\n",
    "\n",
    "    # Calculate and plot LOWESS for the average score without alpha\n",
    "    lowess_mean = sm.nonparametric.lowess(df_fig_mean['score'], df_fig_mean['decade'], frac=0.15)\n",
    "    plt.plot(lowess_mean[:, 0], lowess_mean[:, 1], label='average', linewidth=3, color='black')\n",
    "\n",
    "    # Set the title and labels\n",
    "    plt.title(region_name, fontsize=20)\n",
    "    plt.xlabel('', fontsize=20)\n",
    "    plt.ylabel('Log Number of CPs', fontsize=20)\n",
    "    \n",
    "    # Set the scale, limits, and ticks\n",
    "    plt.yscale('log')\n",
    "    plt.xticks(np.arange(min_decade, max_decade + 1, 500), fontsize=20)\n",
    "    plt.yticks(fontsize=20)\n",
    "    plt.xlim(min_decade, max_decade)\n",
    "    \n",
    "    # Add the legend and grid\n",
    "    plt.legend(title='', fontsize=10, title_fontsize=15)\n",
    "    plt.grid(False)\n",
    "\n",
    "    # Save the figure\n",
    "    plt.savefig(f\"figures/{region_name.lower()}_identifiers.png\", dpi=300)\n",
    "    \n",
    "    plt.show()\n",
    "\n",
    "    return df_fig\n",
    "\n",
    "# Example usage:\n",
    "# Assuming df_fig_fifty is already defined and contains the data\n",
    "\n",
    "region_name = 'Chinese world'\n",
    "\n",
    "df_fig = make_figure(df_fig_fifty,\n",
    "            region_name=region_name,\n",
    "            min_decade=-500,\n",
    "            max_decade=1800,\n",
    "            top_identifiers=10,\n",
    "            one_id_country=True)\n",
    "\n",
    "\n",
    "df_corr = df_fig.pivot(index ='decade', columns = 'identifier_name', values = 'score')\n",
    "df_corr = df_corr.fillna(0)\n",
    "df_corr.corr().stack().mean()\n",
    "\n"
   ]
  },
  {
   "cell_type": "code",
   "execution_count": 22,
   "id": "f1747775-37b4-4fb9-9df3-ee9ea8ede6c3",
   "metadata": {},
   "outputs": [
    {
     "data": {
      "text/html": [
       "<div>\n",
       "<style scoped>\n",
       "    .dataframe tbody tr th:only-of-type {\n",
       "        vertical-align: middle;\n",
       "    }\n",
       "\n",
       "    .dataframe tbody tr th {\n",
       "        vertical-align: top;\n",
       "    }\n",
       "\n",
       "    .dataframe thead th {\n",
       "        text-align: right;\n",
       "    }\n",
       "</style>\n",
       "<table border=\"1\" class=\"dataframe\">\n",
       "  <thead>\n",
       "    <tr style=\"text-align: right;\">\n",
       "      <th></th>\n",
       "      <th>identifier_name</th>\n",
       "      <th>country_name</th>\n",
       "      <th>region_name</th>\n",
       "      <th>decade</th>\n",
       "      <th>score</th>\n",
       "    </tr>\n",
       "  </thead>\n",
       "  <tbody>\n",
       "    <tr>\n",
       "      <th>0</th>\n",
       "      <td>1914-1918-Online ID</td>\n",
       "      <td></td>\n",
       "      <td>Arabic world</td>\n",
       "      <td>1850</td>\n",
       "      <td>1</td>\n",
       "    </tr>\n",
       "    <tr>\n",
       "      <th>1</th>\n",
       "      <td>1914-1918-Online ID</td>\n",
       "      <td></td>\n",
       "      <td>Austria</td>\n",
       "      <td>1850</td>\n",
       "      <td>1</td>\n",
       "    </tr>\n",
       "    <tr>\n",
       "      <th>2</th>\n",
       "      <td>1914-1918-Online ID</td>\n",
       "      <td></td>\n",
       "      <td>Belgium</td>\n",
       "      <td>1850</td>\n",
       "      <td>1</td>\n",
       "    </tr>\n",
       "    <tr>\n",
       "      <th>3</th>\n",
       "      <td>1914-1918-Online ID</td>\n",
       "      <td></td>\n",
       "      <td>British Islands</td>\n",
       "      <td>1850</td>\n",
       "      <td>2</td>\n",
       "    </tr>\n",
       "    <tr>\n",
       "      <th>4</th>\n",
       "      <td>1914-1918-Online ID</td>\n",
       "      <td></td>\n",
       "      <td>Central Europe</td>\n",
       "      <td>1850</td>\n",
       "      <td>3</td>\n",
       "    </tr>\n",
       "    <tr>\n",
       "      <th>...</th>\n",
       "      <td>...</td>\n",
       "      <td>...</td>\n",
       "      <td>...</td>\n",
       "      <td>...</td>\n",
       "      <td>...</td>\n",
       "    </tr>\n",
       "    <tr>\n",
       "      <th>242937</th>\n",
       "      <td>Český hudební slovník osob a institucí ID (Cze...</td>\n",
       "      <td>Czech Republic</td>\n",
       "      <td>Western Europe</td>\n",
       "      <td>1650</td>\n",
       "      <td>4</td>\n",
       "    </tr>\n",
       "    <tr>\n",
       "      <th>242938</th>\n",
       "      <td>Český hudební slovník osob a institucí ID (Cze...</td>\n",
       "      <td>Czech Republic</td>\n",
       "      <td>Western Europe</td>\n",
       "      <td>1700</td>\n",
       "      <td>16</td>\n",
       "    </tr>\n",
       "    <tr>\n",
       "      <th>242939</th>\n",
       "      <td>Český hudební slovník osob a institucí ID (Cze...</td>\n",
       "      <td>Czech Republic</td>\n",
       "      <td>Western Europe</td>\n",
       "      <td>1750</td>\n",
       "      <td>31</td>\n",
       "    </tr>\n",
       "    <tr>\n",
       "      <th>242940</th>\n",
       "      <td>Český hudební slovník osob a institucí ID (Cze...</td>\n",
       "      <td>Czech Republic</td>\n",
       "      <td>Western Europe</td>\n",
       "      <td>1800</td>\n",
       "      <td>26</td>\n",
       "    </tr>\n",
       "    <tr>\n",
       "      <th>242941</th>\n",
       "      <td>Český hudební slovník osob a institucí ID (Cze...</td>\n",
       "      <td>Czech Republic</td>\n",
       "      <td>Western Europe</td>\n",
       "      <td>1850</td>\n",
       "      <td>21</td>\n",
       "    </tr>\n",
       "  </tbody>\n",
       "</table>\n",
       "<p>242942 rows × 5 columns</p>\n",
       "</div>"
      ],
      "text/plain": [
       "                                          identifier_name    country_name  \\\n",
       "0                                     1914-1918-Online ID                   \n",
       "1                                     1914-1918-Online ID                   \n",
       "2                                     1914-1918-Online ID                   \n",
       "3                                     1914-1918-Online ID                   \n",
       "4                                     1914-1918-Online ID                   \n",
       "...                                                   ...             ...   \n",
       "242937  Český hudební slovník osob a institucí ID (Cze...  Czech Republic   \n",
       "242938  Český hudební slovník osob a institucí ID (Cze...  Czech Republic   \n",
       "242939  Český hudební slovník osob a institucí ID (Cze...  Czech Republic   \n",
       "242940  Český hudební slovník osob a institucí ID (Cze...  Czech Republic   \n",
       "242941  Český hudební slovník osob a institucí ID (Cze...  Czech Republic   \n",
       "\n",
       "            region_name  decade  score  \n",
       "0          Arabic world    1850      1  \n",
       "1               Austria    1850      1  \n",
       "2               Belgium    1850      1  \n",
       "3       British Islands    1850      2  \n",
       "4        Central Europe    1850      3  \n",
       "...                 ...     ...    ...  \n",
       "242937   Western Europe    1650      4  \n",
       "242938   Western Europe    1700     16  \n",
       "242939   Western Europe    1750     31  \n",
       "242940   Western Europe    1800     26  \n",
       "242941   Western Europe    1850     21  \n",
       "\n",
       "[242942 rows x 5 columns]"
      ]
     },
     "execution_count": 22,
     "metadata": {},
     "output_type": "execute_result"
    }
   ],
   "source": []
  }
 ],
 "metadata": {
  "kernelspec": {
   "display_name": "Python 3 (ipykernel)",
   "language": "python",
   "name": "python3"
  },
  "language_info": {
   "codemirror_mode": {
    "name": "ipython",
    "version": 3
   },
   "file_extension": ".py",
   "mimetype": "text/x-python",
   "name": "python",
   "nbconvert_exporter": "python",
   "pygments_lexer": "ipython3",
   "version": "3.11.5"
  }
 },
 "nbformat": 4,
 "nbformat_minor": 5
}
