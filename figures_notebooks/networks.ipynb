{
 "cells": [
  {
   "cell_type": "code",
   "execution_count": 9,
   "metadata": {},
   "outputs": [],
   "source": [
    "# Laod occupations, compute co-occurenxce\n",
    "\n",
    "import sqlite3\n",
    "import pandas as pd\n",
    "import plotly.express as px\n",
    "import sys\n",
    "import plotly.graph_objects as go\n",
    "\n",
    "sys.path.append('../')\n",
    "from functions_env import DB_PATH\n",
    "\n",
    "\n",
    "conn = sqlite3.connect(DB_PATH)\n",
    "cursor = conn.cursor()\n"
   ]
  },
  {
   "cell_type": "code",
   "execution_count": 12,
   "metadata": {},
   "outputs": [
    {
     "data": {
      "text/html": [
       "<div>\n",
       "<style scoped>\n",
       "    .dataframe tbody tr th:only-of-type {\n",
       "        vertical-align: middle;\n",
       "    }\n",
       "\n",
       "    .dataframe tbody tr th {\n",
       "        vertical-align: top;\n",
       "    }\n",
       "\n",
       "    .dataframe thead th {\n",
       "        text-align: right;\n",
       "    }\n",
       "</style>\n",
       "<table border=\"1\" class=\"dataframe\">\n",
       "  <thead>\n",
       "    <tr style=\"text-align: right;\">\n",
       "      <th></th>\n",
       "      <th>individual_wikidata_id</th>\n",
       "      <th>birthyear</th>\n",
       "      <th>individual_name</th>\n",
       "      <th>productive_year</th>\n",
       "      <th>decade</th>\n",
       "    </tr>\n",
       "  </thead>\n",
       "  <tbody>\n",
       "    <tr>\n",
       "      <th>0</th>\n",
       "      <td>Q55844134</td>\n",
       "      <td>1810.0</td>\n",
       "      <td>Ernst von Heeringen</td>\n",
       "      <td>1845.0</td>\n",
       "      <td>1840</td>\n",
       "    </tr>\n",
       "    <tr>\n",
       "      <th>1</th>\n",
       "      <td>Q202809</td>\n",
       "      <td>1803.0</td>\n",
       "      <td>Frederick Coombs</td>\n",
       "      <td>1838.0</td>\n",
       "      <td>1840</td>\n",
       "    </tr>\n",
       "    <tr>\n",
       "      <th>3</th>\n",
       "      <td>Q33934701</td>\n",
       "      <td>1768.0</td>\n",
       "      <td>Margarethe Sömmering</td>\n",
       "      <td>1803.0</td>\n",
       "      <td>1800</td>\n",
       "    </tr>\n",
       "    <tr>\n",
       "      <th>4</th>\n",
       "      <td>Q4350107</td>\n",
       "      <td>1785.0</td>\n",
       "      <td>Vassili Perevoštšikov</td>\n",
       "      <td>1820.0</td>\n",
       "      <td>1820</td>\n",
       "    </tr>\n",
       "    <tr>\n",
       "      <th>5</th>\n",
       "      <td>Q1028749</td>\n",
       "      <td>1683.0</td>\n",
       "      <td>Christian Friedrich Zincke</td>\n",
       "      <td>1718.0</td>\n",
       "      <td>1720</td>\n",
       "    </tr>\n",
       "    <tr>\n",
       "      <th>...</th>\n",
       "      <td>...</td>\n",
       "      <td>...</td>\n",
       "      <td>...</td>\n",
       "      <td>...</td>\n",
       "      <td>...</td>\n",
       "    </tr>\n",
       "    <tr>\n",
       "      <th>220497</th>\n",
       "      <td>Q2977815</td>\n",
       "      <td>1752.0</td>\n",
       "      <td>Claude Michallon</td>\n",
       "      <td>1787.0</td>\n",
       "      <td>1790</td>\n",
       "    </tr>\n",
       "    <tr>\n",
       "      <th>220498</th>\n",
       "      <td>Q12331758</td>\n",
       "      <td>1706.0</td>\n",
       "      <td>Peter Wichmann</td>\n",
       "      <td>1741.0</td>\n",
       "      <td>1740</td>\n",
       "    </tr>\n",
       "    <tr>\n",
       "      <th>220499</th>\n",
       "      <td>Q6408679</td>\n",
       "      <td>696.0</td>\n",
       "      <td>Kim Gyo-gak</td>\n",
       "      <td>731.0</td>\n",
       "      <td>730</td>\n",
       "    </tr>\n",
       "    <tr>\n",
       "      <th>220500</th>\n",
       "      <td>Q312788</td>\n",
       "      <td>1686.0</td>\n",
       "      <td>Nicola Porpora</td>\n",
       "      <td>1721.0</td>\n",
       "      <td>1720</td>\n",
       "    </tr>\n",
       "    <tr>\n",
       "      <th>220502</th>\n",
       "      <td>Q55191347</td>\n",
       "      <td>1732.0</td>\n",
       "      <td>Jean-Baptiste Daubanton</td>\n",
       "      <td>1767.0</td>\n",
       "      <td>1770</td>\n",
       "    </tr>\n",
       "  </tbody>\n",
       "</table>\n",
       "<p>151143 rows × 5 columns</p>\n",
       "</div>"
      ],
      "text/plain": [
       "       individual_wikidata_id  birthyear             individual_name  \\\n",
       "0                   Q55844134     1810.0         Ernst von Heeringen   \n",
       "1                     Q202809     1803.0            Frederick Coombs   \n",
       "3                   Q33934701     1768.0        Margarethe Sömmering   \n",
       "4                    Q4350107     1785.0       Vassili Perevoštšikov   \n",
       "5                    Q1028749     1683.0  Christian Friedrich Zincke   \n",
       "...                       ...        ...                         ...   \n",
       "220497               Q2977815     1752.0            Claude Michallon   \n",
       "220498              Q12331758     1706.0              Peter Wichmann   \n",
       "220499               Q6408679      696.0                 Kim Gyo-gak   \n",
       "220500                Q312788     1686.0              Nicola Porpora   \n",
       "220502              Q55191347     1732.0     Jean-Baptiste Daubanton   \n",
       "\n",
       "        productive_year  decade  \n",
       "0                1845.0    1840  \n",
       "1                1838.0    1840  \n",
       "3                1803.0    1800  \n",
       "4                1820.0    1820  \n",
       "5                1718.0    1720  \n",
       "...                 ...     ...  \n",
       "220497           1787.0    1790  \n",
       "220498           1741.0    1740  \n",
       "220499            731.0     730  \n",
       "220500           1721.0    1720  \n",
       "220502           1767.0    1770  \n",
       "\n",
       "[151143 rows x 5 columns]"
      ]
     },
     "execution_count": 12,
     "metadata": {},
     "output_type": "execute_result"
    }
   ],
   "source": [
    "df_ind = pd.read_sql_query(\"SELECT * FROM individuals_main_information\", conn)\n",
    "\n",
    "\n",
    "df_ind_year = df_ind[[\"individual_wikidata_id\", \"birthyear\", \"individual_name\"]].drop_duplicates()\n",
    "df_ind_year = df_ind_year[~df_ind_year['birthyear'].isna()]\n",
    "df_ind_year[\"productive_year\"] = df_ind_year[\"birthyear\"] + 35\n",
    "temporal_resolution = 10\n",
    "df_ind_year[\"decade\"] = df_ind_year[\"productive_year\"].apply(lambda x: round(x / temporal_resolution) * temporal_resolution)\n",
    "df_ind_year = df_ind_year[df_ind_year['decade']<=1850]"
   ]
  },
  {
   "cell_type": "code",
   "execution_count": 75,
   "metadata": {},
   "outputs": [],
   "source": [
    "df_occupation = pd.read_sql_query(\"SELECT * FROM individual_occupations\", conn)\n",
    "top_occupations = df_occupation.occupations_name.value_counts().head(100)\n",
    "top_occupations = list(top_occupations.index)\n",
    "\n",
    "df_occupation = df_occupation[df_occupation['occupations_name'].isin(top_occupations)]\n",
    "df_occupation\n",
    "\n",
    "df_final = pd.merge(df_ind_year, df_occupation, on = 'individual_wikidata_id')\n",
    "df_final = df_final[['individual_wikidata_id', 'birthyear', 'occupations_name']].drop_duplicates()\n",
    "\n",
    "df_before = df_final[df_final['birthyear']<=1500]\n",
    "\n",
    "import random\n",
    "\n",
    "\n",
    "list_individuals = list(df_before.individual_wikidata_id)\n",
    "sample_ind = random.sample(list_individuals, 1000)\n",
    "df_before = df_before[df_before['individual_wikidata_id'].isin(sample_ind)]\n",
    "df_before = df_before.reset_index(drop=True)\n",
    "\n",
    "df_after = df_final[df_final['birthyear']>1500]\n",
    "list_individuals = list(df_after.individual_wikidata_id)\n",
    "sample_ind = random.sample(list_individuals, 1000)\n",
    "df_after = df_after[df_after['individual_wikidata_id'].isin(sample_ind)]\n",
    "df_after = df_after.reset_index(drop=True)"
   ]
  },
  {
   "cell_type": "code",
   "execution_count": null,
   "metadata": {},
   "outputs": [],
   "source": []
  },
  {
   "cell_type": "code",
   "execution_count": 76,
   "metadata": {},
   "outputs": [],
   "source": [
    "import typing as t\n",
    "def coocurrence_multiple(data_network:pd.DataFrame(),index_var :str, variables:t.List[str]) -> pd.DataFrame:\n",
    "\n",
    "        fin_list = []\n",
    "        for var in variables:\n",
    "            df_var = data_network[[index_var, var]]\n",
    "            df_var = df_var.drop_duplicates()\n",
    "            df_var = (\n",
    "                df_var.groupby([index_var, var])[index_var]\n",
    "                .count()\n",
    "                .rename(\"weight\")\n",
    "                .reset_index()\n",
    "            )\n",
    "            df_var = df_var.rename(columns={var: \"data\"})\n",
    "            df_var[\"entity\"] = var\n",
    "            fin_list.append(df_var)\n",
    "        \n",
    "        fin = pd.concat([x for x in fin_list])\n",
    "        df_co = pd.merge(fin, fin, on=index_var)\n",
    "        df_co[\"product\"] = df_co[\"weight_x\"] * df_co[\"weight_y\"]\n",
    "        edges = df_co.groupby([\"data_x\", \"data_y\"])[\"product\"].sum().reset_index()\n",
    "        edges.columns = [\"source\", \"target\", \"weight\"]\n",
    "\n",
    "        return edges"
   ]
  },
  {
   "cell_type": "code",
   "execution_count": null,
   "metadata": {},
   "outputs": [],
   "source": []
  },
  {
   "cell_type": "code",
   "execution_count": 77,
   "metadata": {},
   "outputs": [
    {
     "data": {
      "application/vnd.jupyter.widget-view+json": {
       "model_id": "cf4b898e778744b4913bdc5ae003d840",
       "version_major": 2,
       "version_minor": 0
      },
      "text/plain": [
       "Computing transition probabilities:   0%|          | 0/74 [00:00<?, ?it/s]"
      ]
     },
     "metadata": {},
     "output_type": "display_data"
    },
    {
     "name": "stderr",
     "output_type": "stream",
     "text": [
      "Generating walks (CPU: 1): 100%|██████████| 2/2 [00:00<00:00, 77.60it/s]\n",
      "Generating walks (CPU: 2): 100%|██████████| 2/2 [00:00<00:00, 77.93it/s]\n",
      "Generating walks (CPU: 3): 100%|██████████| 2/2 [00:00<00:00, 77.24it/s]\n",
      "Generating walks (CPU: 4): 100%|██████████| 2/2 [00:00<00:00, 78.00it/s]\n",
      "Generating walks (CPU: 5): 100%|██████████| 2/2 [00:00<00:00, 77.04it/s]\n"
     ]
    },
    {
     "data": {
      "application/vnd.jupyter.widget-view+json": {
       "model_id": "7b89c141d78f4846b8ee3c3c0479e890",
       "version_major": 2,
       "version_minor": 0
      },
      "text/plain": [
       "Computing transition probabilities:   0%|          | 0/98 [00:00<?, ?it/s]"
      ]
     },
     "metadata": {},
     "output_type": "display_data"
    },
    {
     "name": "stderr",
     "output_type": "stream",
     "text": [
      "Generating walks (CPU: 1): 100%|██████████| 2/2 [00:00<00:00, 53.87it/s]\n",
      "Generating walks (CPU: 2): 100%|██████████| 2/2 [00:00<00:00, 46.79it/s]\n",
      "Generating walks (CPU: 3): 100%|██████████| 2/2 [00:00<00:00, 45.97it/s]\n",
      "Generating walks (CPU: 4): 100%|██████████| 2/2 [00:00<00:00, 53.37it/s]\n",
      "Generating walks (CPU: 5): 100%|██████████| 2/2 [00:00<00:00, 50.39it/s]\n"
     ]
    }
   ],
   "source": [
    "\n",
    "from node2vec import Node2Vec\n",
    "\n",
    "import networkx as nx\n",
    "\n",
    "def compute_mean(df_before):\n",
    "\n",
    "    df_edge = coocurrence_multiple(df_before, index_var='individual_wikidata_id', variables = ['occupations_name'])\n",
    "    G = nx.from_pandas_edgelist(\n",
    "                df_edge, source=\"source\", target=\"target\", edge_attr=\"weight\"\n",
    "            )\n",
    "\n",
    "    node2vec = Node2Vec(G, dimensions=700, workers=5)\n",
    "    model = node2vec.fit(window=30, min_count=1)\n",
    "\n",
    "    nodes = list(map(str, G.nodes()))\n",
    "    embeddings = np.array([model.wv[x] for x in nodes])\n",
    "    df_embeddings = pd.DataFrame(embeddings)\n",
    "    df_embeddings.index = nodes\n",
    "\n",
    "    dist_cos = cosine_similarity(df_embeddings)\n",
    "    dist_cos = pd.DataFrame(dist_cos, index=df_embeddings.index, columns=df_embeddings.index)\n",
    "    dist_cos = 1 - dist_cos\n",
    "    average_mean = dist_cos.mean()\n",
    "    average_mean = average_mean.reset_index()\n",
    "    average_mean.columns = ['occupation', 'distance']\n",
    "\n",
    "    return average_mean\n",
    "\n",
    "\n",
    "average_mean_before = compute_mean(df_before)\n",
    "average_mean_before['type'] = 'before_1500'\n",
    "\n",
    "average_mean_after = compute_mean(df_after)\n",
    "average_mean_after['type'] = 'after_1500'"
   ]
  },
  {
   "cell_type": "code",
   "execution_count": 61,
   "metadata": {},
   "outputs": [
    {
     "data": {
      "text/plain": [
       "0.63904613"
      ]
     },
     "execution_count": 61,
     "metadata": {},
     "output_type": "execute_result"
    }
   ],
   "source": [
    "average_mean_before['distance'].mean()"
   ]
  },
  {
   "cell_type": "code",
   "execution_count": 62,
   "metadata": {},
   "outputs": [
    {
     "data": {
      "text/plain": [
       "0.5755061"
      ]
     },
     "execution_count": 62,
     "metadata": {},
     "output_type": "execute_result"
    }
   ],
   "source": [
    "average_mean_after['distance'].mean()"
   ]
  },
  {
   "cell_type": "code",
   "execution_count": 80,
   "metadata": {},
   "outputs": [
    {
     "name": "stderr",
     "output_type": "stream",
     "text": [
      "/var/folders/lx/9b13r6ln63jb54_3xlf9b_380000gn/T/ipykernel_28656/4171646763.py:9: FutureWarning: \n",
      "\n",
      "Passing `palette` without assigning `hue` is deprecated and will be removed in v0.14.0. Assign the `x` variable to `hue` and set `legend=False` for the same effect.\n",
      "\n",
      "  sns.boxplot(x='type', y='distance', data=df_fig, palette='Set2')\n"
     ]
    },
    {
     "data": {
      "image/png": "[encoded data removed]",
      "text/plain": [
       "<Figure size 1000x600 with 1 Axes>"
      ]
     },
     "metadata": {},
     "output_type": "display_data"
    }
   ],
   "source": [
    "df_fig = pd.concat([average_mean_before,average_mean_after])\n",
    "df_fig = df_fig.drop('occupation', axis=1)\n",
    "\n",
    "import seaborn as sns\n",
    "import matplotlib.pyplot as plt\n",
    "\n",
    "# Assuming df is your DataFrame\n",
    "plt.figure(figsize=(10, 6))\n",
    "sns.boxplot(x='type', y='distance', data=df_fig, palette='Set2')\n",
    "plt.title('Specialization')\n",
    "plt.xlabel('')\n",
    "plt.ylabel('average pairwise distance cosine')\n",
    "plt.savefig('figures/wikidata_stats/specialization.png', dpi = 200)\n",
    "\n",
    "plt.show()"
   ]
  },
  {
   "cell_type": "code",
   "execution_count": null,
   "metadata": {},
   "outputs": [],
   "source": []
  },
  {
   "cell_type": "code",
   "execution_count": null,
   "metadata": {},
   "outputs": [],
   "source": []
  },
  {
   "cell_type": "code",
   "execution_count": null,
   "metadata": {},
   "outputs": [],
   "source": []
  }
 ],
 "metadata": {
  "kernelspec": {
   "display_name": ".venv",
   "language": "python",
   "name": "python3"
  },
  "language_info": {
   "codemirror_mode": {
    "name": "ipython",
    "version": 3
   },
   "file_extension": ".py",
   "mimetype": "text/x-python",
   "name": "python",
   "nbconvert_exporter": "python",
   "pygments_lexer": "ipython3",
   "version": "3.11.5"
  }
 },
 "nbformat": 4,
 "nbformat_minor": 2
}
