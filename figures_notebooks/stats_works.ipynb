{
 "cells": [
  {
   "cell_type": "code",
   "execution_count": 121,
   "id": "71328b71-7bf9-49fe-ae52-dffb96ff123d",
   "metadata": {
    "tags": []
   },
   "outputs": [],
   "source": [
    "import sqlite3\n",
    "import pandas as pd\n",
    "import plotly.express as px\n",
    "import sys\n",
    "from plotly.subplots import make_subplots\n",
    "import plotly.graph_objects as go\n",
    "\n",
    "sys.path.append('../')\n",
    "from functions_env import DB_PATH\n",
    "\n",
    "\n",
    "conn = sqlite3.connect(DB_PATH)\n",
    "cursor = conn.cursor()"
   ]
  },
  {
   "cell_type": "code",
   "execution_count": 122,
   "id": "ce7c72ba-0ce4-42a4-a683-36514b8b36e7",
   "metadata": {
    "tags": []
   },
   "outputs": [],
   "source": [
    "df_works = pd.read_sql_query(\"SELECT * FROM individual_created_work\", conn)\n",
    "individuals = pd.read_sql_query(\"SELECT * FROM individuals_kept\", conn)\n",
    "\n",
    "df_works = df_works[df_works['individual_wikidata_id'].isin(list(set(individuals.individual_wikidata_id)))]"
   ]
  },
  {
   "cell_type": "code",
   "execution_count": 123,
   "id": "fb3b6e37-ab7d-46f1-9eaa-daa69acbb772",
   "metadata": {
    "tags": []
   },
   "outputs": [],
   "source": [
    "df_count_works = df_works.groupby('individual_wikidata_id')['work_wikidata_id'].count().reset_index()\n",
    "df_count_works = df_count_works.sort_values('work_wikidata_id', ascending=False).reset_index(drop=True)"
   ]
  },
  {
   "cell_type": "code",
   "execution_count": 124,
   "id": "a8c20cdb-7684-498f-8751-f684274a6fb9",
   "metadata": {
    "tags": []
   },
   "outputs": [
    {
     "data": {
      "text/plain": [
       "24.401886685230437"
      ]
     },
     "execution_count": 124,
     "metadata": {},
     "output_type": "execute_result"
    }
   ],
   "source": [
    "# % of individuals with at least 1 work\n",
    "38646/len(individuals)*100"
   ]
  },
  {
   "cell_type": "code",
   "execution_count": 125,
   "id": "ab1c099f-407b-44c2-9ff0-557f24dbfebf",
   "metadata": {
    "tags": []
   },
   "outputs": [],
   "source": [
    "# median of works per individuals"
   ]
  },
  {
   "cell_type": "code",
   "execution_count": 126,
   "id": "d7752eee-5c16-4cc3-b6e1-17eae50263bb",
   "metadata": {
    "tags": []
   },
   "outputs": [
    {
     "data": {
      "text/plain": [
       "3.0"
      ]
     },
     "execution_count": 126,
     "metadata": {},
     "output_type": "execute_result"
    }
   ],
   "source": [
    "df_count_works.work_wikidata_id.median()"
   ]
  },
  {
   "cell_type": "code",
   "execution_count": null,
   "id": "8be0cc3d-17e0-488d-b955-d649c41f0192",
   "metadata": {
    "tags": []
   },
   "outputs": [],
   "source": []
  },
  {
   "cell_type": "code",
   "execution_count": 127,
   "id": "44c6cc72-c0c7-463c-a208-50255ad50643",
   "metadata": {
    "tags": []
   },
   "outputs": [],
   "source": [
    "created_work = pd.read_sql_query(\"SELECT * FROM created_work\", conn)\n",
    "created_work = created_work[created_work['work_wikidata_id'].isin(list(set(df_works.work_wikidata_id)))]\n",
    "created_work = created_work[['work_wikidata_id', 'instance_label']].drop_duplicates()"
   ]
  },
  {
   "cell_type": "code",
   "execution_count": null,
   "id": "a707b23c-ff88-4673-a133-158cad9814ef",
   "metadata": {
    "tags": []
   },
   "outputs": [],
   "source": []
  },
  {
   "cell_type": "code",
   "execution_count": 131,
   "id": "2c99f536-19ed-43a1-81c5-1478fa616200",
   "metadata": {
    "tags": []
   },
   "outputs": [],
   "source": [
    "df_count_instance = created_work.instance_label.value_counts().rename('count_works').head(20).reset_index()\n",
    "df_count_instance['percent'] = round(df_count_instance['count_works']/len(set(created_work.work_wikidata_id))*100, 1)\n",
    "df_count_instance.columns = ['Type of work', 'N Works', '%']"
   ]
  },
  {
   "cell_type": "code",
   "execution_count": null,
   "id": "731a6d16-571c-4885-a216-a51c10e5832c",
   "metadata": {
    "tags": []
   },
   "outputs": [],
   "source": []
  },
  {
   "cell_type": "code",
   "execution_count": null,
   "id": "33b39f78-cfa0-48a9-a017-887c8d6f2270",
   "metadata": {
    "tags": []
   },
   "outputs": [],
   "source": []
  },
  {
   "cell_type": "code",
   "execution_count": null,
   "id": "93fc3049-1df2-4455-b328-f9baef26d5c5",
   "metadata": {},
   "outputs": [],
   "source": []
  },
  {
   "cell_type": "code",
   "execution_count": null,
   "id": "fc7f1ed9-1e6d-42c0-ba8f-f432c37c6a9c",
   "metadata": {},
   "outputs": [],
   "source": []
  }
 ],
 "metadata": {
  "kernelspec": {
   "display_name": "Python 3 (ipykernel)",
   "language": "python",
   "name": "python3"
  },
  "language_info": {
   "codemirror_mode": {
    "name": "ipython",
    "version": 3
   },
   "file_extension": ".py",
   "mimetype": "text/x-python",
   "name": "python",
   "nbconvert_exporter": "python",
   "pygments_lexer": "ipython3",
   "version": "3.8.18"
  }
 },
 "nbformat": 4,
 "nbformat_minor": 5
}
