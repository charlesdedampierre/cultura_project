{
 "cells": [
  {
   "cell_type": "code",
   "execution_count": 3,
   "id": "70480209-ac1c-495a-96f2-74f996ccd012",
   "metadata": {
    "tags": []
   },
   "outputs": [
    {
     "ename": "ModuleNotFoundError",
     "evalue": "No module named 'src'",
     "output_type": "error",
     "traceback": [
      "\u001b[0;31m---------------------------------------------------------------------------\u001b[0m",
      "\u001b[0;31mModuleNotFoundError\u001b[0m                       Traceback (most recent call last)",
      "\u001b[1;32m/Users/charlesdedampierre/Desktop/cultura_project/figures_notebooks/online_catalogs_trends_with_continent.ipynb Cell 1\u001b[0m line \u001b[0;36m9\n\u001b[1;32m      <a href='vscode-notebook-cell:/Users/charlesdedampierre/Desktop/cultura_project/figures_notebooks/online_catalogs_trends_with_continent.ipynb#W0sZmlsZQ%3D%3D?line=5'>6</a>\u001b[0m \u001b[39mimport\u001b[39;00m \u001b[39mplotly\u001b[39;00m\u001b[39m.\u001b[39;00m\u001b[39mgraph_objects\u001b[39;00m \u001b[39mas\u001b[39;00m \u001b[39mgo\u001b[39;00m\n\u001b[1;32m      <a href='vscode-notebook-cell:/Users/charlesdedampierre/Desktop/cultura_project/figures_notebooks/online_catalogs_trends_with_continent.ipynb#W0sZmlsZQ%3D%3D?line=7'>8</a>\u001b[0m sys\u001b[39m.\u001b[39mpath\u001b[39m.\u001b[39mappend(\u001b[39m'\u001b[39m\u001b[39m../\u001b[39m\u001b[39m'\u001b[39m)\n\u001b[0;32m----> <a href='vscode-notebook-cell:/Users/charlesdedampierre/Desktop/cultura_project/figures_notebooks/online_catalogs_trends_with_continent.ipynb#W0sZmlsZQ%3D%3D?line=8'>9</a>\u001b[0m \u001b[39mfrom\u001b[39;00m \u001b[39msrc\u001b[39;00m\u001b[39m.\u001b[39;00m\u001b[39mfunctions_env\u001b[39;00m \u001b[39mimport\u001b[39;00m DB_PATH\n\u001b[1;32m     <a href='vscode-notebook-cell:/Users/charlesdedampierre/Desktop/cultura_project/figures_notebooks/online_catalogs_trends_with_continent.ipynb#W0sZmlsZQ%3D%3D?line=11'>12</a>\u001b[0m conn \u001b[39m=\u001b[39m sqlite3\u001b[39m.\u001b[39mconnect(DB_PATH)\n\u001b[1;32m     <a href='vscode-notebook-cell:/Users/charlesdedampierre/Desktop/cultura_project/figures_notebooks/online_catalogs_trends_with_continent.ipynb#W0sZmlsZQ%3D%3D?line=12'>13</a>\u001b[0m cursor \u001b[39m=\u001b[39m conn\u001b[39m.\u001b[39mcursor()\n",
      "\u001b[0;31mModuleNotFoundError\u001b[0m: No module named 'src'"
     ]
    }
   ],
   "source": [
    "import sqlite3\n",
    "import pandas as pd\n",
    "import plotly.express as px\n",
    "import sys\n",
    "from plotly.subplots import make_subplots\n",
    "import plotly.graph_objects as go\n",
    "\n",
    "sys.path.append('../')\n",
    "from src.functions_env import DB_PATH\n",
    "\n",
    "\n",
    "conn = sqlite3.connect(DB_PATH)\n",
    "cursor = conn.cursor()\n",
    "\n",
    "df_individual = pd.read_sql_query(\"SELECT * FROM individuals_main_information\", conn)\n",
    "df_individual = df_individual[['individual_wikidata_id', 'birthyear']]\n",
    "df_individual_region = pd.read_sql_query(\"SELECT * FROM individuals_regions\", conn)\n",
    "df_individual_region = df_individual_region[['individual_wikidata_id', 'region_name']].drop_duplicates()\n",
    "\n",
    "\n",
    "df_identifiers = pd.read_sql_query(\"SELECT * FROM identifiers\", conn)\n",
    "df_identifiers['country_name'][df_identifiers['country_name'].isna()]=''\n",
    "df_identifiers['identifier_name'] = df_identifiers.apply(lambda x : x['identifier_name'] + ' ('  + x['country_name'] + ')' if x['country_name']!='' else x['identifier_name'], axis=1)\n",
    "df_identifiers = df_identifiers.drop(['country_wikidata_id', 'count_records', 'identifier_url'], axis=1).drop_duplicates()\n",
    "\n",
    "df_country =  pd.read_sql_query(\"SELECT * FROM country_continent\", conn)\n",
    "df_country = df_country[['country_name', 'continent_name']]\n",
    "df_country = df_country.drop_duplicates('country_name', keep='first')\n",
    "df_identifiers = pd.merge(df_identifiers, df_country, on = 'country_name', how = 'left')\n",
    "\n",
    "df_ind_identifiers = pd.read_sql_query(\"SELECT * FROM individual_identifiers\", conn)\n",
    "df_ind_identifiers = df_ind_identifiers.drop('identifier_name', axis=1)\n",
    "df_ind_identifiers = pd.merge(df_ind_identifiers, df_identifiers, on = 'identifiers_wikidata_id', how = 'left')\n",
    "\n",
    "df_final = pd.merge(df_individual, df_ind_identifiers, on = 'individual_wikidata_id', how = 'left')\n",
    "df_final = pd.merge(df_final, df_individual_region, on = 'individual_wikidata_id')\n",
    "\n",
    "df_final = df_final[~df_final['birthyear'].isna()]\n",
    "df_final['decade'] = df_final['birthyear'].apply(lambda x : int(x/10)*10)\n",
    "\n",
    "df_fig = df_final[['individual_wikidata_id', 'decade', 'identifier_name', 'country_name', 'region_name']]\n",
    "df_fig = df_fig.groupby(['identifier_name', 'country_name', 'region_name', 'decade'])['individual_wikidata_id'].count().rename(\"score\").reset_index()"
   ]
  },
  {
   "cell_type": "code",
   "execution_count": null,
   "id": "183f3769-7738-4dff-89ac-f7844bc4f548",
   "metadata": {
    "tags": []
   },
   "outputs": [
    {
     "data": {
      "application/vnd.plotly.v1+json": {
       "config": {
        "plotlyServerURL": "https://plot.ly"
       },
       "data": [
        {
         "hovertemplate": "identifier_name=VIAF ID<br>decade=%{x}<br>score=%{y}<extra></extra>",
         "legendgroup": "VIAF ID",
         "line": {
          "color": "#1F77B4",
          "dash": "solid"
         },
         "marker": {
          "symbol": "circle"
         },
         "mode": "lines",
         "name": "VIAF ID",
         "opacity": 0.25,
         "orientation": "v",
         "showlegend": true,
         "type": "scatter",
         "x": [
          -300,
          -250,
          -200,
          -150,
          -100,
          -50,
          0,
          50,
          100,
          150,
          200,
          250,
          300,
          350,
          400,
          450,
          500
         ],
         "xaxis": "x",
         "y": [
          1,
          8,
          18,
          23,
          40,
          41,
          14,
          19,
          21,
          11,
          18,
          14,
          13,
          16,
          29,
          1,
          6
         ],
         "yaxis": "y"
        },
        {
         "hovertemplate": "identifier_name=GND ID (Germany)<br>decade=%{x}<br>score=%{y}<extra></extra>",
         "legendgroup": "GND ID (Germany)",
         "line": {
          "color": "#FF7F0E",
          "dash": "solid"
         },
         "marker": {
          "symbol": "circle"
         },
         "mode": "lines",
         "name": "GND ID (Germany)",
         "opacity": 0.25,
         "orientation": "v",
         "showlegend": true,
         "type": "scatter",
         "x": [
          -300,
          -250,
          -200,
          -150,
          -100,
          -50,
          0,
          50,
          100,
          150,
          200,
          250,
          300,
          350,
          400,
          450,
          500
         ],
         "xaxis": "x",
         "y": [
          1,
          7,
          17,
          21,
          37,
          41,
          14,
          16,
          19,
          11,
          18,
          13,
          13,
          15,
          29,
          1,
          6
         ],
         "yaxis": "y"
        },
        {
         "hovertemplate": "identifier_name=CIRIS author ID (France)<br>decade=%{x}<br>score=%{y}<extra></extra>",
         "legendgroup": "CIRIS author ID (France)",
         "line": {
          "color": "#2CA02C",
          "dash": "solid"
         },
         "marker": {
          "symbol": "circle"
         },
         "mode": "lines",
         "name": "CIRIS author ID (France)",
         "opacity": 0.25,
         "orientation": "v",
         "showlegend": true,
         "type": "scatter",
         "x": [
          -300,
          -250,
          -200,
          -150,
          -100,
          -50,
          0,
          50,
          100,
          150,
          200,
          250,
          300,
          350,
          400,
          450,
          500
         ],
         "xaxis": "x",
         "y": [
          1,
          6,
          15,
          19,
          35,
          35,
          9,
          14,
          18,
          11,
          16,
          13,
          12,
          13,
          27,
          1,
          6
         ],
         "yaxis": "y"
        },
        {
         "hovertemplate": "identifier_name=Library of Congress authority ID (United States of America)<br>decade=%{x}<br>score=%{y}<extra></extra>",
         "legendgroup": "Library of Congress authority ID (United States of America)",
         "line": {
          "color": "#D62728",
          "dash": "solid"
         },
         "marker": {
          "symbol": "circle"
         },
         "mode": "lines",
         "name": "Library of Congress authority ID (United States of America)",
         "opacity": 0.25,
         "orientation": "v",
         "showlegend": true,
         "type": "scatter",
         "x": [
          -300,
          -250,
          -200,
          -150,
          -100,
          -50,
          0,
          50,
          100,
          150,
          200,
          250,
          300,
          350,
          400,
          450,
          500
         ],
         "xaxis": "x",
         "y": [
          1,
          7,
          14,
          19,
          32,
          32,
          12,
          12,
          18,
          10,
          14,
          10,
          10,
          15,
          26,
          1,
          6
         ],
         "yaxis": "y"
        },
        {
         "hovertemplate": "identifier_name=Treccani ID (Italy)<br>decade=%{x}<br>score=%{y}<extra></extra>",
         "legendgroup": "Treccani ID (Italy)",
         "line": {
          "color": "#9467BD",
          "dash": "solid"
         },
         "marker": {
          "symbol": "circle"
         },
         "mode": "lines",
         "name": "Treccani ID (Italy)",
         "opacity": 0.25,
         "orientation": "v",
         "showlegend": true,
         "type": "scatter",
         "x": [
          -300,
          -250,
          -200,
          -150,
          -100,
          -50,
          0,
          50,
          100,
          150,
          200,
          250,
          300,
          350,
          400,
          450,
          500
         ],
         "xaxis": "x",
         "y": [
          1,
          7,
          10,
          16,
          37,
          26,
          11,
          10,
          13,
          7,
          12,
          8,
          12,
          14,
          17,
          1,
          5
         ],
         "yaxis": "y"
        },
        {
         "hovertemplate": "identifier_name=Nationale Thesaurus voor Auteurs ID (Netherlands)<br>decade=%{x}<br>score=%{y}<extra></extra>",
         "legendgroup": "Nationale Thesaurus voor Auteurs ID (Netherlands)",
         "line": {
          "color": "#8C564B",
          "dash": "solid"
         },
         "marker": {
          "symbol": "circle"
         },
         "mode": "lines",
         "name": "Nationale Thesaurus voor Auteurs ID (Netherlands)",
         "opacity": 0.25,
         "orientation": "v",
         "showlegend": true,
         "type": "scatter",
         "x": [
          -250,
          -200,
          -150,
          -100,
          -50,
          0,
          50,
          100,
          150,
          200,
          250,
          300,
          350,
          400,
          450,
          500
         ],
         "xaxis": "x",
         "y": [
          7,
          8,
          10,
          24,
          28,
          12,
          12,
          15,
          8,
          12,
          12,
          11,
          13,
          27,
          1,
          5
         ],
         "yaxis": "y"
        },
        {
         "hovertemplate": "identifier_name=NUKAT ID (Poland)<br>decade=%{x}<br>score=%{y}<extra></extra>",
         "legendgroup": "NUKAT ID (Poland)",
         "line": {
          "color": "#E377C2",
          "dash": "solid"
         },
         "marker": {
          "symbol": "circle"
         },
         "mode": "lines",
         "name": "NUKAT ID (Poland)",
         "opacity": 0.25,
         "orientation": "v",
         "showlegend": true,
         "type": "scatter",
         "x": [
          -250,
          -200,
          -150,
          -100,
          -50,
          0,
          50,
          100,
          150,
          200,
          250,
          300,
          350,
          400,
          450,
          500
         ],
         "xaxis": "x",
         "y": [
          5,
          5,
          5,
          24,
          21,
          10,
          11,
          15,
          7,
          9,
          8,
          10,
          12,
          24,
          1,
          5
         ],
         "yaxis": "y"
        },
        {
         "hovertemplate": "identifier_name=National Library of Israel J9U ID (Israel)<br>decade=%{x}<br>score=%{y}<extra></extra>",
         "legendgroup": "National Library of Israel J9U ID (Israel)",
         "line": {
          "color": "#7F7F7F",
          "dash": "solid"
         },
         "marker": {
          "symbol": "circle"
         },
         "mode": "lines",
         "name": "National Library of Israel J9U ID (Israel)",
         "opacity": 0.25,
         "orientation": "v",
         "showlegend": true,
         "type": "scatter",
         "x": [
          -250,
          -200,
          -150,
          -100,
          -50,
          0,
          50,
          100,
          150,
          200,
          250,
          300,
          350,
          400,
          450,
          500
         ],
         "xaxis": "x",
         "y": [
          5,
          6,
          9,
          22,
          19,
          10,
          12,
          13,
          7,
          11,
          6,
          10,
          11,
          23,
          1,
          5
         ],
         "yaxis": "y"
        },
        {
         "hovertemplate": "identifier_name=Vatican Library VcBA ID (Vatican City)<br>decade=%{x}<br>score=%{y}<extra></extra>",
         "legendgroup": "Vatican Library VcBA ID (Vatican City)",
         "line": {
          "color": "#BCBD22",
          "dash": "solid"
         },
         "marker": {
          "symbol": "circle"
         },
         "mode": "lines",
         "name": "Vatican Library VcBA ID (Vatican City)",
         "opacity": 0.25,
         "orientation": "v",
         "showlegend": true,
         "type": "scatter",
         "x": [
          -250,
          -200,
          -150,
          -100,
          -50,
          0,
          50,
          100,
          150,
          200,
          250,
          300,
          350,
          400,
          450,
          500
         ],
         "xaxis": "x",
         "y": [
          6,
          5,
          5,
          20,
          21,
          9,
          13,
          14,
          6,
          11,
          8,
          10,
          13,
          22,
          1,
          5
         ],
         "yaxis": "y"
        },
        {
         "hovertemplate": "identifier_name=NORAF ID (Norway)<br>decade=%{x}<br>score=%{y}<extra></extra>",
         "legendgroup": "NORAF ID (Norway)",
         "line": {
          "color": "#17BECF",
          "dash": "solid"
         },
         "marker": {
          "symbol": "circle"
         },
         "mode": "lines",
         "name": "NORAF ID (Norway)",
         "opacity": 0.25,
         "orientation": "v",
         "showlegend": true,
         "type": "scatter",
         "x": [
          -250,
          -200,
          -150,
          -100,
          -50,
          0,
          50,
          100,
          150,
          200,
          250,
          300,
          350,
          400,
          450,
          500
         ],
         "xaxis": "x",
         "y": [
          5,
          3,
          5,
          22,
          18,
          8,
          12,
          14,
          8,
          7,
          4,
          8,
          11,
          23,
          1,
          4
         ],
         "yaxis": "y"
        },
        {
         "hovertemplate": "identifier_name=average<br>decade=%{x}<br>score=%{y}<extra></extra>",
         "legendgroup": "average",
         "line": {
          "color": "#1F77B4",
          "dash": "solid",
          "width": 3
         },
         "marker": {
          "symbol": "circle"
         },
         "mode": "lines",
         "name": "average",
         "orientation": "v",
         "showlegend": true,
         "type": "scatter",
         "x": [
          -300,
          -250,
          -200,
          -150,
          -100,
          -50,
          0,
          50,
          100,
          150,
          200,
          250,
          300,
          350,
          400,
          450,
          500
         ],
         "xaxis": "x",
         "y": [
          1,
          6.3,
          10.1,
          13.2,
          29.3,
          28.2,
          10.9,
          13.1,
          16,
          8.6,
          12.8,
          9.6,
          10.9,
          13.3,
          24.7,
          1,
          5.3
         ],
         "yaxis": "y"
        }
       ],
       "layout": {
        "height": 600,
        "legend": {
         "title": {
          "text": "Identifiers"
         }
        },
        "template": {
         "data": {
          "bar": [
           {
            "error_x": {
             "color": "rgb(36,36,36)"
            },
            "error_y": {
             "color": "rgb(36,36,36)"
            },
            "marker": {
             "line": {
              "color": "white",
              "width": 0.5
             },
             "pattern": {
              "fillmode": "overlay",
              "size": 10,
              "solidity": 0.2
             }
            },
            "type": "bar"
           }
          ],
          "barpolar": [
           {
            "marker": {
             "line": {
              "color": "white",
              "width": 0.5
             },
             "pattern": {
              "fillmode": "overlay",
              "size": 10,
              "solidity": 0.2
             }
            },
            "type": "barpolar"
           }
          ],
          "carpet": [
           {
            "aaxis": {
             "endlinecolor": "rgb(36,36,36)",
             "gridcolor": "white",
             "linecolor": "white",
             "minorgridcolor": "white",
             "startlinecolor": "rgb(36,36,36)"
            },
            "baxis": {
             "endlinecolor": "rgb(36,36,36)",
             "gridcolor": "white",
             "linecolor": "white",
             "minorgridcolor": "white",
             "startlinecolor": "rgb(36,36,36)"
            },
            "type": "carpet"
           }
          ],
          "choropleth": [
           {
            "colorbar": {
             "outlinewidth": 1,
             "tickcolor": "rgb(36,36,36)",
             "ticks": "outside"
            },
            "type": "choropleth"
           }
          ],
          "contour": [
           {
            "colorbar": {
             "outlinewidth": 1,
             "tickcolor": "rgb(36,36,36)",
             "ticks": "outside"
            },
            "colorscale": [
             [
              0,
              "#440154"
             ],
             [
              0.1111111111111111,
              "#482878"
             ],
             [
              0.2222222222222222,
              "#3e4989"
             ],
             [
              0.3333333333333333,
              "#31688e"
             ],
             [
              0.4444444444444444,
              "#26828e"
             ],
             [
              0.5555555555555556,
              "#1f9e89"
             ],
             [
              0.6666666666666666,
              "#35b779"
             ],
             [
              0.7777777777777778,
              "#6ece58"
             ],
             [
              0.8888888888888888,
              "#b5de2b"
             ],
             [
              1,
              "#fde725"
             ]
            ],
            "type": "contour"
           }
          ],
          "contourcarpet": [
           {
            "colorbar": {
             "outlinewidth": 1,
             "tickcolor": "rgb(36,36,36)",
             "ticks": "outside"
            },
            "type": "contourcarpet"
           }
          ],
          "heatmap": [
           {
            "colorbar": {
             "outlinewidth": 1,
             "tickcolor": "rgb(36,36,36)",
             "ticks": "outside"
            },
            "colorscale": [
             [
              0,
              "#440154"
             ],
             [
              0.1111111111111111,
              "#482878"
             ],
             [
              0.2222222222222222,
              "#3e4989"
             ],
             [
              0.3333333333333333,
              "#31688e"
             ],
             [
              0.4444444444444444,
              "#26828e"
             ],
             [
              0.5555555555555556,
              "#1f9e89"
             ],
             [
              0.6666666666666666,
              "#35b779"
             ],
             [
              0.7777777777777778,
              "#6ece58"
             ],
             [
              0.8888888888888888,
              "#b5de2b"
             ],
             [
              1,
              "#fde725"
             ]
            ],
            "type": "heatmap"
           }
          ],
          "heatmapgl": [
           {
            "colorbar": {
             "outlinewidth": 1,
             "tickcolor": "rgb(36,36,36)",
             "ticks": "outside"
            },
            "colorscale": [
             [
              0,
              "#440154"
             ],
             [
              0.1111111111111111,
              "#482878"
             ],
             [
              0.2222222222222222,
              "#3e4989"
             ],
             [
              0.3333333333333333,
              "#31688e"
             ],
             [
              0.4444444444444444,
              "#26828e"
             ],
             [
              0.5555555555555556,
              "#1f9e89"
             ],
             [
              0.6666666666666666,
              "#35b779"
             ],
             [
              0.7777777777777778,
              "#6ece58"
             ],
             [
              0.8888888888888888,
              "#b5de2b"
             ],
             [
              1,
              "#fde725"
             ]
            ],
            "type": "heatmapgl"
           }
          ],
          "histogram": [
           {
            "marker": {
             "line": {
              "color": "white",
              "width": 0.6
             }
            },
            "type": "histogram"
           }
          ],
          "histogram2d": [
           {
            "colorbar": {
             "outlinewidth": 1,
             "tickcolor": "rgb(36,36,36)",
             "ticks": "outside"
            },
            "colorscale": [
             [
              0,
              "#440154"
             ],
             [
              0.1111111111111111,
              "#482878"
             ],
             [
              0.2222222222222222,
              "#3e4989"
             ],
             [
              0.3333333333333333,
              "#31688e"
             ],
             [
              0.4444444444444444,
              "#26828e"
             ],
             [
              0.5555555555555556,
              "#1f9e89"
             ],
             [
              0.6666666666666666,
              "#35b779"
             ],
             [
              0.7777777777777778,
              "#6ece58"
             ],
             [
              0.8888888888888888,
              "#b5de2b"
             ],
             [
              1,
              "#fde725"
             ]
            ],
            "type": "histogram2d"
           }
          ],
          "histogram2dcontour": [
           {
            "colorbar": {
             "outlinewidth": 1,
             "tickcolor": "rgb(36,36,36)",
             "ticks": "outside"
            },
            "colorscale": [
             [
              0,
              "#440154"
             ],
             [
              0.1111111111111111,
              "#482878"
             ],
             [
              0.2222222222222222,
              "#3e4989"
             ],
             [
              0.3333333333333333,
              "#31688e"
             ],
             [
              0.4444444444444444,
              "#26828e"
             ],
             [
              0.5555555555555556,
              "#1f9e89"
             ],
             [
              0.6666666666666666,
              "#35b779"
             ],
             [
              0.7777777777777778,
              "#6ece58"
             ],
             [
              0.8888888888888888,
              "#b5de2b"
             ],
             [
              1,
              "#fde725"
             ]
            ],
            "type": "histogram2dcontour"
           }
          ],
          "mesh3d": [
           {
            "colorbar": {
             "outlinewidth": 1,
             "tickcolor": "rgb(36,36,36)",
             "ticks": "outside"
            },
            "type": "mesh3d"
           }
          ],
          "parcoords": [
           {
            "line": {
             "colorbar": {
              "outlinewidth": 1,
              "tickcolor": "rgb(36,36,36)",
              "ticks": "outside"
             }
            },
            "type": "parcoords"
           }
          ],
          "pie": [
           {
            "automargin": true,
            "type": "pie"
           }
          ],
          "scatter": [
           {
            "marker": {
             "colorbar": {
              "outlinewidth": 1,
              "tickcolor": "rgb(36,36,36)",
              "ticks": "outside"
             }
            },
            "type": "scatter"
           }
          ],
          "scatter3d": [
           {
            "line": {
             "colorbar": {
              "outlinewidth": 1,
              "tickcolor": "rgb(36,36,36)",
              "ticks": "outside"
             }
            },
            "marker": {
             "colorbar": {
              "outlinewidth": 1,
              "tickcolor": "rgb(36,36,36)",
              "ticks": "outside"
             }
            },
            "type": "scatter3d"
           }
          ],
          "scattercarpet": [
           {
            "marker": {
             "colorbar": {
              "outlinewidth": 1,
              "tickcolor": "rgb(36,36,36)",
              "ticks": "outside"
             }
            },
            "type": "scattercarpet"
           }
          ],
          "scattergeo": [
           {
            "marker": {
             "colorbar": {
              "outlinewidth": 1,
              "tickcolor": "rgb(36,36,36)",
              "ticks": "outside"
             }
            },
            "type": "scattergeo"
           }
          ],
          "scattergl": [
           {
            "marker": {
             "colorbar": {
              "outlinewidth": 1,
              "tickcolor": "rgb(36,36,36)",
              "ticks": "outside"
             }
            },
            "type": "scattergl"
           }
          ],
          "scattermapbox": [
           {
            "marker": {
             "colorbar": {
              "outlinewidth": 1,
              "tickcolor": "rgb(36,36,36)",
              "ticks": "outside"
             }
            },
            "type": "scattermapbox"
           }
          ],
          "scatterpolar": [
           {
            "marker": {
             "colorbar": {
              "outlinewidth": 1,
              "tickcolor": "rgb(36,36,36)",
              "ticks": "outside"
             }
            },
            "type": "scatterpolar"
           }
          ],
          "scatterpolargl": [
           {
            "marker": {
             "colorbar": {
              "outlinewidth": 1,
              "tickcolor": "rgb(36,36,36)",
              "ticks": "outside"
             }
            },
            "type": "scatterpolargl"
           }
          ],
          "scatterternary": [
           {
            "marker": {
             "colorbar": {
              "outlinewidth": 1,
              "tickcolor": "rgb(36,36,36)",
              "ticks": "outside"
             }
            },
            "type": "scatterternary"
           }
          ],
          "surface": [
           {
            "colorbar": {
             "outlinewidth": 1,
             "tickcolor": "rgb(36,36,36)",
             "ticks": "outside"
            },
            "colorscale": [
             [
              0,
              "#440154"
             ],
             [
              0.1111111111111111,
              "#482878"
             ],
             [
              0.2222222222222222,
              "#3e4989"
             ],
             [
              0.3333333333333333,
              "#31688e"
             ],
             [
              0.4444444444444444,
              "#26828e"
             ],
             [
              0.5555555555555556,
              "#1f9e89"
             ],
             [
              0.6666666666666666,
              "#35b779"
             ],
             [
              0.7777777777777778,
              "#6ece58"
             ],
             [
              0.8888888888888888,
              "#b5de2b"
             ],
             [
              1,
              "#fde725"
             ]
            ],
            "type": "surface"
           }
          ],
          "table": [
           {
            "cells": {
             "fill": {
              "color": "rgb(237,237,237)"
             },
             "line": {
              "color": "white"
             }
            },
            "header": {
             "fill": {
              "color": "rgb(217,217,217)"
             },
             "line": {
              "color": "white"
             }
            },
            "type": "table"
           }
          ]
         },
         "layout": {
          "annotationdefaults": {
           "arrowhead": 0,
           "arrowwidth": 1
          },
          "autotypenumbers": "strict",
          "coloraxis": {
           "colorbar": {
            "outlinewidth": 1,
            "tickcolor": "rgb(36,36,36)",
            "ticks": "outside"
           }
          },
          "colorscale": {
           "diverging": [
            [
             0,
             "rgb(103,0,31)"
            ],
            [
             0.1,
             "rgb(178,24,43)"
            ],
            [
             0.2,
             "rgb(214,96,77)"
            ],
            [
             0.3,
             "rgb(244,165,130)"
            ],
            [
             0.4,
             "rgb(253,219,199)"
            ],
            [
             0.5,
             "rgb(247,247,247)"
            ],
            [
             0.6,
             "rgb(209,229,240)"
            ],
            [
             0.7,
             "rgb(146,197,222)"
            ],
            [
             0.8,
             "rgb(67,147,195)"
            ],
            [
             0.9,
             "rgb(33,102,172)"
            ],
            [
             1,
             "rgb(5,48,97)"
            ]
           ],
           "sequential": [
            [
             0,
             "#440154"
            ],
            [
             0.1111111111111111,
             "#482878"
            ],
            [
             0.2222222222222222,
             "#3e4989"
            ],
            [
             0.3333333333333333,
             "#31688e"
            ],
            [
             0.4444444444444444,
             "#26828e"
            ],
            [
             0.5555555555555556,
             "#1f9e89"
            ],
            [
             0.6666666666666666,
             "#35b779"
            ],
            [
             0.7777777777777778,
             "#6ece58"
            ],
            [
             0.8888888888888888,
             "#b5de2b"
            ],
            [
             1,
             "#fde725"
            ]
           ],
           "sequentialminus": [
            [
             0,
             "#440154"
            ],
            [
             0.1111111111111111,
             "#482878"
            ],
            [
             0.2222222222222222,
             "#3e4989"
            ],
            [
             0.3333333333333333,
             "#31688e"
            ],
            [
             0.4444444444444444,
             "#26828e"
            ],
            [
             0.5555555555555556,
             "#1f9e89"
            ],
            [
             0.6666666666666666,
             "#35b779"
            ],
            [
             0.7777777777777778,
             "#6ece58"
            ],
            [
             0.8888888888888888,
             "#b5de2b"
            ],
            [
             1,
             "#fde725"
            ]
           ]
          },
          "colorway": [
           "#1F77B4",
           "#FF7F0E",
           "#2CA02C",
           "#D62728",
           "#9467BD",
           "#8C564B",
           "#E377C2",
           "#7F7F7F",
           "#BCBD22",
           "#17BECF"
          ],
          "font": {
           "color": "rgb(36,36,36)"
          },
          "geo": {
           "bgcolor": "white",
           "lakecolor": "white",
           "landcolor": "white",
           "showlakes": true,
           "showland": true,
           "subunitcolor": "white"
          },
          "hoverlabel": {
           "align": "left"
          },
          "hovermode": "closest",
          "mapbox": {
           "style": "light"
          },
          "paper_bgcolor": "white",
          "plot_bgcolor": "white",
          "polar": {
           "angularaxis": {
            "gridcolor": "rgb(232,232,232)",
            "linecolor": "rgb(36,36,36)",
            "showgrid": false,
            "showline": true,
            "ticks": "outside"
           },
           "bgcolor": "white",
           "radialaxis": {
            "gridcolor": "rgb(232,232,232)",
            "linecolor": "rgb(36,36,36)",
            "showgrid": false,
            "showline": true,
            "ticks": "outside"
           }
          },
          "scene": {
           "xaxis": {
            "backgroundcolor": "white",
            "gridcolor": "rgb(232,232,232)",
            "gridwidth": 2,
            "linecolor": "rgb(36,36,36)",
            "showbackground": true,
            "showgrid": false,
            "showline": true,
            "ticks": "outside",
            "zeroline": false,
            "zerolinecolor": "rgb(36,36,36)"
           },
           "yaxis": {
            "backgroundcolor": "white",
            "gridcolor": "rgb(232,232,232)",
            "gridwidth": 2,
            "linecolor": "rgb(36,36,36)",
            "showbackground": true,
            "showgrid": false,
            "showline": true,
            "ticks": "outside",
            "zeroline": false,
            "zerolinecolor": "rgb(36,36,36)"
           },
           "zaxis": {
            "backgroundcolor": "white",
            "gridcolor": "rgb(232,232,232)",
            "gridwidth": 2,
            "linecolor": "rgb(36,36,36)",
            "showbackground": true,
            "showgrid": false,
            "showline": true,
            "ticks": "outside",
            "zeroline": false,
            "zerolinecolor": "rgb(36,36,36)"
           }
          },
          "shapedefaults": {
           "fillcolor": "black",
           "line": {
            "width": 0
           },
           "opacity": 0.3
          },
          "ternary": {
           "aaxis": {
            "gridcolor": "rgb(232,232,232)",
            "linecolor": "rgb(36,36,36)",
            "showgrid": false,
            "showline": true,
            "ticks": "outside"
           },
           "baxis": {
            "gridcolor": "rgb(232,232,232)",
            "linecolor": "rgb(36,36,36)",
            "showgrid": false,
            "showline": true,
            "ticks": "outside"
           },
           "bgcolor": "white",
           "caxis": {
            "gridcolor": "rgb(232,232,232)",
            "linecolor": "rgb(36,36,36)",
            "showgrid": false,
            "showline": true,
            "ticks": "outside"
           }
          },
          "title": {
           "x": 0.05
          },
          "xaxis": {
           "automargin": true,
           "gridcolor": "rgb(232,232,232)",
           "linecolor": "rgb(36,36,36)",
           "showgrid": false,
           "showline": true,
           "ticks": "outside",
           "title": {
            "standoff": 15
           },
           "zeroline": false,
           "zerolinecolor": "rgb(36,36,36)"
          },
          "yaxis": {
           "automargin": true,
           "gridcolor": "rgb(232,232,232)",
           "linecolor": "rgb(36,36,36)",
           "showgrid": false,
           "showline": true,
           "ticks": "outside",
           "title": {
            "standoff": 15
           },
           "zeroline": false,
           "zerolinecolor": "rgb(36,36,36)"
          }
         }
        },
        "title": {
         "text": "Italy"
        },
        "width": 1200,
        "xaxis": {
         "autorange": true,
         "dtick": 100,
         "range": [
          -300,
          500
         ],
         "title": {
          "text": ""
         },
         "type": "linear"
        },
        "yaxis": {
         "autorange": true,
         "range": [
          -1.2222222222222223,
          43.22222222222222
         ],
         "title": {
          "text": "Number of Individuals"
         },
         "type": "linear"
        }
       }
      },
      "image/png": "[encoded data removed]",
      "text/html": [
       "<div>                            <div id=\"8bb8f7c9-ec62-415f-9f38-deb3c70fcc6f\" class=\"plotly-graph-div\" style=\"height:600px; width:1200px;\"></div>            <script type=\"text/javascript\">                require([\"plotly\"], function(Plotly) {                    window.PLOTLYENV=window.PLOTLYENV || {};                                    if (document.getElementById(\"8bb8f7c9-ec62-415f-9f38-deb3c70fcc6f\")) {                    Plotly.newPlot(                        \"8bb8f7c9-ec62-415f-9f38-deb3c70fcc6f\",                        [{\"hovertemplate\":\"identifier_name=VIAF ID<br>decade=%{x}<br>score=%{y}<extra></extra>\",\"legendgroup\":\"VIAF ID\",\"line\":{\"color\":\"#1F77B4\",\"dash\":\"solid\"},\"marker\":{\"symbol\":\"circle\"},\"mode\":\"lines\",\"name\":\"VIAF ID\",\"opacity\":0.25,\"orientation\":\"v\",\"showlegend\":true,\"x\":[-300,-250,-200,-150,-100,-50,0,50,100,150,200,250,300,350,400,450,500],\"xaxis\":\"x\",\"y\":[1,8,18,23,40,41,14,19,21,11,18,14,13,16,29,1,6],\"yaxis\":\"y\",\"type\":\"scatter\"},{\"hovertemplate\":\"identifier_name=GND ID (Germany)<br>decade=%{x}<br>score=%{y}<extra></extra>\",\"legendgroup\":\"GND ID (Germany)\",\"line\":{\"color\":\"#FF7F0E\",\"dash\":\"solid\"},\"marker\":{\"symbol\":\"circle\"},\"mode\":\"lines\",\"name\":\"GND ID (Germany)\",\"opacity\":0.25,\"orientation\":\"v\",\"showlegend\":true,\"x\":[-300,-250,-200,-150,-100,-50,0,50,100,150,200,250,300,350,400,450,500],\"xaxis\":\"x\",\"y\":[1,7,17,21,37,41,14,16,19,11,18,13,13,15,29,1,6],\"yaxis\":\"y\",\"type\":\"scatter\"},{\"hovertemplate\":\"identifier_name=CIRIS author ID (France)<br>decade=%{x}<br>score=%{y}<extra></extra>\",\"legendgroup\":\"CIRIS author ID (France)\",\"line\":{\"color\":\"#2CA02C\",\"dash\":\"solid\"},\"marker\":{\"symbol\":\"circle\"},\"mode\":\"lines\",\"name\":\"CIRIS author ID (France)\",\"opacity\":0.25,\"orientation\":\"v\",\"showlegend\":true,\"x\":[-300,-250,-200,-150,-100,-50,0,50,100,150,200,250,300,350,400,450,500],\"xaxis\":\"x\",\"y\":[1,6,15,19,35,35,9,14,18,11,16,13,12,13,27,1,6],\"yaxis\":\"y\",\"type\":\"scatter\"},{\"hovertemplate\":\"identifier_name=Library of Congress authority ID (United States of America)<br>decade=%{x}<br>score=%{y}<extra></extra>\",\"legendgroup\":\"Library of Congress authority ID (United States of America)\",\"line\":{\"color\":\"#D62728\",\"dash\":\"solid\"},\"marker\":{\"symbol\":\"circle\"},\"mode\":\"lines\",\"name\":\"Library of Congress authority ID (United States of America)\",\"opacity\":0.25,\"orientation\":\"v\",\"showlegend\":true,\"x\":[-300,-250,-200,-150,-100,-50,0,50,100,150,200,250,300,350,400,450,500],\"xaxis\":\"x\",\"y\":[1,7,14,19,32,32,12,12,18,10,14,10,10,15,26,1,6],\"yaxis\":\"y\",\"type\":\"scatter\"},{\"hovertemplate\":\"identifier_name=Treccani ID (Italy)<br>decade=%{x}<br>score=%{y}<extra></extra>\",\"legendgroup\":\"Treccani ID (Italy)\",\"line\":{\"color\":\"#9467BD\",\"dash\":\"solid\"},\"marker\":{\"symbol\":\"circle\"},\"mode\":\"lines\",\"name\":\"Treccani ID (Italy)\",\"opacity\":0.25,\"orientation\":\"v\",\"showlegend\":true,\"x\":[-300,-250,-200,-150,-100,-50,0,50,100,150,200,250,300,350,400,450,500],\"xaxis\":\"x\",\"y\":[1,7,10,16,37,26,11,10,13,7,12,8,12,14,17,1,5],\"yaxis\":\"y\",\"type\":\"scatter\"},{\"hovertemplate\":\"identifier_name=Nationale Thesaurus voor Auteurs ID (Netherlands)<br>decade=%{x}<br>score=%{y}<extra></extra>\",\"legendgroup\":\"Nationale Thesaurus voor Auteurs ID (Netherlands)\",\"line\":{\"color\":\"#8C564B\",\"dash\":\"solid\"},\"marker\":{\"symbol\":\"circle\"},\"mode\":\"lines\",\"name\":\"Nationale Thesaurus voor Auteurs ID (Netherlands)\",\"opacity\":0.25,\"orientation\":\"v\",\"showlegend\":true,\"x\":[-250,-200,-150,-100,-50,0,50,100,150,200,250,300,350,400,450,500],\"xaxis\":\"x\",\"y\":[7,8,10,24,28,12,12,15,8,12,12,11,13,27,1,5],\"yaxis\":\"y\",\"type\":\"scatter\"},{\"hovertemplate\":\"identifier_name=NUKAT ID (Poland)<br>decade=%{x}<br>score=%{y}<extra></extra>\",\"legendgroup\":\"NUKAT ID (Poland)\",\"line\":{\"color\":\"#E377C2\",\"dash\":\"solid\"},\"marker\":{\"symbol\":\"circle\"},\"mode\":\"lines\",\"name\":\"NUKAT ID (Poland)\",\"opacity\":0.25,\"orientation\":\"v\",\"showlegend\":true,\"x\":[-250,-200,-150,-100,-50,0,50,100,150,200,250,300,350,400,450,500],\"xaxis\":\"x\",\"y\":[5,5,5,24,21,10,11,15,7,9,8,10,12,24,1,5],\"yaxis\":\"y\",\"type\":\"scatter\"},{\"hovertemplate\":\"identifier_name=National Library of Israel J9U ID (Israel)<br>decade=%{x}<br>score=%{y}<extra></extra>\",\"legendgroup\":\"National Library of Israel J9U ID (Israel)\",\"line\":{\"color\":\"#7F7F7F\",\"dash\":\"solid\"},\"marker\":{\"symbol\":\"circle\"},\"mode\":\"lines\",\"name\":\"National Library of Israel J9U ID (Israel)\",\"opacity\":0.25,\"orientation\":\"v\",\"showlegend\":true,\"x\":[-250,-200,-150,-100,-50,0,50,100,150,200,250,300,350,400,450,500],\"xaxis\":\"x\",\"y\":[5,6,9,22,19,10,12,13,7,11,6,10,11,23,1,5],\"yaxis\":\"y\",\"type\":\"scatter\"},{\"hovertemplate\":\"identifier_name=Vatican Library VcBA ID (Vatican City)<br>decade=%{x}<br>score=%{y}<extra></extra>\",\"legendgroup\":\"Vatican Library VcBA ID (Vatican City)\",\"line\":{\"color\":\"#BCBD22\",\"dash\":\"solid\"},\"marker\":{\"symbol\":\"circle\"},\"mode\":\"lines\",\"name\":\"Vatican Library VcBA ID (Vatican City)\",\"opacity\":0.25,\"orientation\":\"v\",\"showlegend\":true,\"x\":[-250,-200,-150,-100,-50,0,50,100,150,200,250,300,350,400,450,500],\"xaxis\":\"x\",\"y\":[6,5,5,20,21,9,13,14,6,11,8,10,13,22,1,5],\"yaxis\":\"y\",\"type\":\"scatter\"},{\"hovertemplate\":\"identifier_name=NORAF ID (Norway)<br>decade=%{x}<br>score=%{y}<extra></extra>\",\"legendgroup\":\"NORAF ID (Norway)\",\"line\":{\"color\":\"#17BECF\",\"dash\":\"solid\"},\"marker\":{\"symbol\":\"circle\"},\"mode\":\"lines\",\"name\":\"NORAF ID (Norway)\",\"opacity\":0.25,\"orientation\":\"v\",\"showlegend\":true,\"x\":[-250,-200,-150,-100,-50,0,50,100,150,200,250,300,350,400,450,500],\"xaxis\":\"x\",\"y\":[5,3,5,22,18,8,12,14,8,7,4,8,11,23,1,4],\"yaxis\":\"y\",\"type\":\"scatter\"},{\"hovertemplate\":\"identifier_name=average<br>decade=%{x}<br>score=%{y}<extra></extra>\",\"legendgroup\":\"average\",\"line\":{\"color\":\"#1F77B4\",\"dash\":\"solid\",\"width\":3},\"marker\":{\"symbol\":\"circle\"},\"mode\":\"lines\",\"name\":\"average\",\"orientation\":\"v\",\"showlegend\":true,\"x\":[-300,-250,-200,-150,-100,-50,0,50,100,150,200,250,300,350,400,450,500],\"xaxis\":\"x\",\"y\":[1.0,6.3,10.1,13.2,29.3,28.2,10.9,13.1,16.0,8.6,12.8,9.6,10.9,13.3,24.7,1.0,5.3],\"yaxis\":\"y\",\"type\":\"scatter\"}],                        {\"template\":{\"data\":{\"barpolar\":[{\"marker\":{\"line\":{\"color\":\"white\",\"width\":0.5},\"pattern\":{\"fillmode\":\"overlay\",\"size\":10,\"solidity\":0.2}},\"type\":\"barpolar\"}],\"bar\":[{\"error_x\":{\"color\":\"rgb(36,36,36)\"},\"error_y\":{\"color\":\"rgb(36,36,36)\"},\"marker\":{\"line\":{\"color\":\"white\",\"width\":0.5},\"pattern\":{\"fillmode\":\"overlay\",\"size\":10,\"solidity\":0.2}},\"type\":\"bar\"}],\"carpet\":[{\"aaxis\":{\"endlinecolor\":\"rgb(36,36,36)\",\"gridcolor\":\"white\",\"linecolor\":\"white\",\"minorgridcolor\":\"white\",\"startlinecolor\":\"rgb(36,36,36)\"},\"baxis\":{\"endlinecolor\":\"rgb(36,36,36)\",\"gridcolor\":\"white\",\"linecolor\":\"white\",\"minorgridcolor\":\"white\",\"startlinecolor\":\"rgb(36,36,36)\"},\"type\":\"carpet\"}],\"choropleth\":[{\"colorbar\":{\"outlinewidth\":1,\"tickcolor\":\"rgb(36,36,36)\",\"ticks\":\"outside\"},\"type\":\"choropleth\"}],\"contourcarpet\":[{\"colorbar\":{\"outlinewidth\":1,\"tickcolor\":\"rgb(36,36,36)\",\"ticks\":\"outside\"},\"type\":\"contourcarpet\"}],\"contour\":[{\"colorbar\":{\"outlinewidth\":1,\"tickcolor\":\"rgb(36,36,36)\",\"ticks\":\"outside\"},\"colorscale\":[[0.0,\"#440154\"],[0.1111111111111111,\"#482878\"],[0.2222222222222222,\"#3e4989\"],[0.3333333333333333,\"#31688e\"],[0.4444444444444444,\"#26828e\"],[0.5555555555555556,\"#1f9e89\"],[0.6666666666666666,\"#35b779\"],[0.7777777777777778,\"#6ece58\"],[0.8888888888888888,\"#b5de2b\"],[1.0,\"#fde725\"]],\"type\":\"contour\"}],\"heatmapgl\":[{\"colorbar\":{\"outlinewidth\":1,\"tickcolor\":\"rgb(36,36,36)\",\"ticks\":\"outside\"},\"colorscale\":[[0.0,\"#440154\"],[0.1111111111111111,\"#482878\"],[0.2222222222222222,\"#3e4989\"],[0.3333333333333333,\"#31688e\"],[0.4444444444444444,\"#26828e\"],[0.5555555555555556,\"#1f9e89\"],[0.6666666666666666,\"#35b779\"],[0.7777777777777778,\"#6ece58\"],[0.8888888888888888,\"#b5de2b\"],[1.0,\"#fde725\"]],\"type\":\"heatmapgl\"}],\"heatmap\":[{\"colorbar\":{\"outlinewidth\":1,\"tickcolor\":\"rgb(36,36,36)\",\"ticks\":\"outside\"},\"colorscale\":[[0.0,\"#440154\"],[0.1111111111111111,\"#482878\"],[0.2222222222222222,\"#3e4989\"],[0.3333333333333333,\"#31688e\"],[0.4444444444444444,\"#26828e\"],[0.5555555555555556,\"#1f9e89\"],[0.6666666666666666,\"#35b779\"],[0.7777777777777778,\"#6ece58\"],[0.8888888888888888,\"#b5de2b\"],[1.0,\"#fde725\"]],\"type\":\"heatmap\"}],\"histogram2dcontour\":[{\"colorbar\":{\"outlinewidth\":1,\"tickcolor\":\"rgb(36,36,36)\",\"ticks\":\"outside\"},\"colorscale\":[[0.0,\"#440154\"],[0.1111111111111111,\"#482878\"],[0.2222222222222222,\"#3e4989\"],[0.3333333333333333,\"#31688e\"],[0.4444444444444444,\"#26828e\"],[0.5555555555555556,\"#1f9e89\"],[0.6666666666666666,\"#35b779\"],[0.7777777777777778,\"#6ece58\"],[0.8888888888888888,\"#b5de2b\"],[1.0,\"#fde725\"]],\"type\":\"histogram2dcontour\"}],\"histogram2d\":[{\"colorbar\":{\"outlinewidth\":1,\"tickcolor\":\"rgb(36,36,36)\",\"ticks\":\"outside\"},\"colorscale\":[[0.0,\"#440154\"],[0.1111111111111111,\"#482878\"],[0.2222222222222222,\"#3e4989\"],[0.3333333333333333,\"#31688e\"],[0.4444444444444444,\"#26828e\"],[0.5555555555555556,\"#1f9e89\"],[0.6666666666666666,\"#35b779\"],[0.7777777777777778,\"#6ece58\"],[0.8888888888888888,\"#b5de2b\"],[1.0,\"#fde725\"]],\"type\":\"histogram2d\"}],\"histogram\":[{\"marker\":{\"line\":{\"color\":\"white\",\"width\":0.6}},\"type\":\"histogram\"}],\"mesh3d\":[{\"colorbar\":{\"outlinewidth\":1,\"tickcolor\":\"rgb(36,36,36)\",\"ticks\":\"outside\"},\"type\":\"mesh3d\"}],\"parcoords\":[{\"line\":{\"colorbar\":{\"outlinewidth\":1,\"tickcolor\":\"rgb(36,36,36)\",\"ticks\":\"outside\"}},\"type\":\"parcoords\"}],\"pie\":[{\"automargin\":true,\"type\":\"pie\"}],\"scatter3d\":[{\"line\":{\"colorbar\":{\"outlinewidth\":1,\"tickcolor\":\"rgb(36,36,36)\",\"ticks\":\"outside\"}},\"marker\":{\"colorbar\":{\"outlinewidth\":1,\"tickcolor\":\"rgb(36,36,36)\",\"ticks\":\"outside\"}},\"type\":\"scatter3d\"}],\"scattercarpet\":[{\"marker\":{\"colorbar\":{\"outlinewidth\":1,\"tickcolor\":\"rgb(36,36,36)\",\"ticks\":\"outside\"}},\"type\":\"scattercarpet\"}],\"scattergeo\":[{\"marker\":{\"colorbar\":{\"outlinewidth\":1,\"tickcolor\":\"rgb(36,36,36)\",\"ticks\":\"outside\"}},\"type\":\"scattergeo\"}],\"scattergl\":[{\"marker\":{\"colorbar\":{\"outlinewidth\":1,\"tickcolor\":\"rgb(36,36,36)\",\"ticks\":\"outside\"}},\"type\":\"scattergl\"}],\"scattermapbox\":[{\"marker\":{\"colorbar\":{\"outlinewidth\":1,\"tickcolor\":\"rgb(36,36,36)\",\"ticks\":\"outside\"}},\"type\":\"scattermapbox\"}],\"scatterpolargl\":[{\"marker\":{\"colorbar\":{\"outlinewidth\":1,\"tickcolor\":\"rgb(36,36,36)\",\"ticks\":\"outside\"}},\"type\":\"scatterpolargl\"}],\"scatterpolar\":[{\"marker\":{\"colorbar\":{\"outlinewidth\":1,\"tickcolor\":\"rgb(36,36,36)\",\"ticks\":\"outside\"}},\"type\":\"scatterpolar\"}],\"scatter\":[{\"marker\":{\"colorbar\":{\"outlinewidth\":1,\"tickcolor\":\"rgb(36,36,36)\",\"ticks\":\"outside\"}},\"type\":\"scatter\"}],\"scatterternary\":[{\"marker\":{\"colorbar\":{\"outlinewidth\":1,\"tickcolor\":\"rgb(36,36,36)\",\"ticks\":\"outside\"}},\"type\":\"scatterternary\"}],\"surface\":[{\"colorbar\":{\"outlinewidth\":1,\"tickcolor\":\"rgb(36,36,36)\",\"ticks\":\"outside\"},\"colorscale\":[[0.0,\"#440154\"],[0.1111111111111111,\"#482878\"],[0.2222222222222222,\"#3e4989\"],[0.3333333333333333,\"#31688e\"],[0.4444444444444444,\"#26828e\"],[0.5555555555555556,\"#1f9e89\"],[0.6666666666666666,\"#35b779\"],[0.7777777777777778,\"#6ece58\"],[0.8888888888888888,\"#b5de2b\"],[1.0,\"#fde725\"]],\"type\":\"surface\"}],\"table\":[{\"cells\":{\"fill\":{\"color\":\"rgb(237,237,237)\"},\"line\":{\"color\":\"white\"}},\"header\":{\"fill\":{\"color\":\"rgb(217,217,217)\"},\"line\":{\"color\":\"white\"}},\"type\":\"table\"}]},\"layout\":{\"annotationdefaults\":{\"arrowhead\":0,\"arrowwidth\":1},\"autotypenumbers\":\"strict\",\"coloraxis\":{\"colorbar\":{\"outlinewidth\":1,\"tickcolor\":\"rgb(36,36,36)\",\"ticks\":\"outside\"}},\"colorscale\":{\"diverging\":[[0.0,\"rgb(103,0,31)\"],[0.1,\"rgb(178,24,43)\"],[0.2,\"rgb(214,96,77)\"],[0.3,\"rgb(244,165,130)\"],[0.4,\"rgb(253,219,199)\"],[0.5,\"rgb(247,247,247)\"],[0.6,\"rgb(209,229,240)\"],[0.7,\"rgb(146,197,222)\"],[0.8,\"rgb(67,147,195)\"],[0.9,\"rgb(33,102,172)\"],[1.0,\"rgb(5,48,97)\"]],\"sequential\":[[0.0,\"#440154\"],[0.1111111111111111,\"#482878\"],[0.2222222222222222,\"#3e4989\"],[0.3333333333333333,\"#31688e\"],[0.4444444444444444,\"#26828e\"],[0.5555555555555556,\"#1f9e89\"],[0.6666666666666666,\"#35b779\"],[0.7777777777777778,\"#6ece58\"],[0.8888888888888888,\"#b5de2b\"],[1.0,\"#fde725\"]],\"sequentialminus\":[[0.0,\"#440154\"],[0.1111111111111111,\"#482878\"],[0.2222222222222222,\"#3e4989\"],[0.3333333333333333,\"#31688e\"],[0.4444444444444444,\"#26828e\"],[0.5555555555555556,\"#1f9e89\"],[0.6666666666666666,\"#35b779\"],[0.7777777777777778,\"#6ece58\"],[0.8888888888888888,\"#b5de2b\"],[1.0,\"#fde725\"]]},\"colorway\":[\"#1F77B4\",\"#FF7F0E\",\"#2CA02C\",\"#D62728\",\"#9467BD\",\"#8C564B\",\"#E377C2\",\"#7F7F7F\",\"#BCBD22\",\"#17BECF\"],\"font\":{\"color\":\"rgb(36,36,36)\"},\"geo\":{\"bgcolor\":\"white\",\"lakecolor\":\"white\",\"landcolor\":\"white\",\"showlakes\":true,\"showland\":true,\"subunitcolor\":\"white\"},\"hoverlabel\":{\"align\":\"left\"},\"hovermode\":\"closest\",\"mapbox\":{\"style\":\"light\"},\"paper_bgcolor\":\"white\",\"plot_bgcolor\":\"white\",\"polar\":{\"angularaxis\":{\"gridcolor\":\"rgb(232,232,232)\",\"linecolor\":\"rgb(36,36,36)\",\"showgrid\":false,\"showline\":true,\"ticks\":\"outside\"},\"bgcolor\":\"white\",\"radialaxis\":{\"gridcolor\":\"rgb(232,232,232)\",\"linecolor\":\"rgb(36,36,36)\",\"showgrid\":false,\"showline\":true,\"ticks\":\"outside\"}},\"scene\":{\"xaxis\":{\"backgroundcolor\":\"white\",\"gridcolor\":\"rgb(232,232,232)\",\"gridwidth\":2,\"linecolor\":\"rgb(36,36,36)\",\"showbackground\":true,\"showgrid\":false,\"showline\":true,\"ticks\":\"outside\",\"zeroline\":false,\"zerolinecolor\":\"rgb(36,36,36)\"},\"yaxis\":{\"backgroundcolor\":\"white\",\"gridcolor\":\"rgb(232,232,232)\",\"gridwidth\":2,\"linecolor\":\"rgb(36,36,36)\",\"showbackground\":true,\"showgrid\":false,\"showline\":true,\"ticks\":\"outside\",\"zeroline\":false,\"zerolinecolor\":\"rgb(36,36,36)\"},\"zaxis\":{\"backgroundcolor\":\"white\",\"gridcolor\":\"rgb(232,232,232)\",\"gridwidth\":2,\"linecolor\":\"rgb(36,36,36)\",\"showbackground\":true,\"showgrid\":false,\"showline\":true,\"ticks\":\"outside\",\"zeroline\":false,\"zerolinecolor\":\"rgb(36,36,36)\"}},\"shapedefaults\":{\"fillcolor\":\"black\",\"line\":{\"width\":0},\"opacity\":0.3},\"ternary\":{\"aaxis\":{\"gridcolor\":\"rgb(232,232,232)\",\"linecolor\":\"rgb(36,36,36)\",\"showgrid\":false,\"showline\":true,\"ticks\":\"outside\"},\"baxis\":{\"gridcolor\":\"rgb(232,232,232)\",\"linecolor\":\"rgb(36,36,36)\",\"showgrid\":false,\"showline\":true,\"ticks\":\"outside\"},\"bgcolor\":\"white\",\"caxis\":{\"gridcolor\":\"rgb(232,232,232)\",\"linecolor\":\"rgb(36,36,36)\",\"showgrid\":false,\"showline\":true,\"ticks\":\"outside\"}},\"title\":{\"x\":0.05},\"xaxis\":{\"automargin\":true,\"gridcolor\":\"rgb(232,232,232)\",\"linecolor\":\"rgb(36,36,36)\",\"showgrid\":false,\"showline\":true,\"ticks\":\"outside\",\"title\":{\"standoff\":15},\"zeroline\":false,\"zerolinecolor\":\"rgb(36,36,36)\"},\"yaxis\":{\"automargin\":true,\"gridcolor\":\"rgb(232,232,232)\",\"linecolor\":\"rgb(36,36,36)\",\"showgrid\":false,\"showline\":true,\"ticks\":\"outside\",\"title\":{\"standoff\":15},\"zeroline\":false,\"zerolinecolor\":\"rgb(36,36,36)\"}}},\"xaxis\":{\"title\":{\"text\":\"\"},\"dtick\":100},\"yaxis\":{\"title\":{\"text\":\"Number of Individuals\"}},\"width\":1200,\"height\":600,\"title\":{\"text\":\"Italy\"},\"legend\":{\"title\":{\"text\":\"Identifiers\"}}},                        {\"responsive\": true}                    ).then(function(){\n",
       "                            \n",
       "var gd = document.getElementById('8bb8f7c9-ec62-415f-9f38-deb3c70fcc6f');\n",
       "var x = new MutationObserver(function (mutations, observer) {{\n",
       "        var display = window.getComputedStyle(gd).display;\n",
       "        if (!display || display === 'none') {{\n",
       "            console.log([gd, 'removed!']);\n",
       "            Plotly.purge(gd);\n",
       "            observer.disconnect();\n",
       "        }}\n",
       "}});\n",
       "\n",
       "// Listen for the removal of the full notebook cells\n",
       "var notebookContainer = gd.closest('#notebook-container');\n",
       "if (notebookContainer) {{\n",
       "    x.observe(notebookContainer, {childList: true});\n",
       "}}\n",
       "\n",
       "// Listen for the clearing of the current output cell\n",
       "var outputEl = gd.closest('.output');\n",
       "if (outputEl) {{\n",
       "    x.observe(outputEl, {childList: true});\n",
       "}}\n",
       "\n",
       "                        })                };                });            </script>        </div>"
      ]
     },
     "metadata": {},
     "output_type": "display_data"
    }
   ],
   "source": [
    "def make_figure(df_graph_bis, region_name, min_decade = 1200, max_decade = 1800, top_identifiers = 5):\n",
    "\n",
    "    df_fig = df_graph_bis[df_graph_bis['region_name']==region_name]\n",
    "    df_fig = df_fig[df_fig['decade']<=max_decade]\n",
    "    df_fig = df_fig[df_fig['decade']>=min_decade]\n",
    "\n",
    "    one_id_country = df_fig.groupby(['country_name', 'identifier_name'])['score'].sum().reset_index()\n",
    "    one_id_country = one_id_country.sort_values(['country_name', 'score'], ascending=(False, False))\n",
    "    one_id_country = one_id_country.groupby('country_name').head(1)\n",
    "    one_id_country = list(one_id_country['identifier_name'])\n",
    "\n",
    "    df_fig = df_fig[df_fig['identifier_name'].isin(one_id_country)]\n",
    "    top_ids = df_fig.groupby(['identifier_name'])['score'].sum().reset_index().sort_values('score', ascending=False)\n",
    "\n",
    "    #top_ids = top_ids[top_ids['identifier_name']!='all_identifiers']\n",
    "    top_ids = list(top_ids['identifier_name'][:top_identifiers])\n",
    "    df_fig = df_fig[df_fig['identifier_name'].isin(top_ids)]\n",
    "    df_fig_mean = df_fig.groupby(['decade'])['score'].mean().reset_index()\n",
    "    df_fig_mean['identifier_name'] = 'average'\n",
    "\n",
    "    #df_fig = pd.concat([df_fig, df_fig_mean])\n",
    "\n",
    "    fig = px.line(df_fig, x = 'decade', y = 'score', color = 'identifier_name',\n",
    "                  width = 1200, \n",
    "                  height = 600, \n",
    "                  title = region_name, \n",
    "                  template = 'simple_white',\n",
    "                  category_orders={'identifier_name': top_ids})\n",
    "                 #line_shape='spline')\n",
    "\n",
    "\n",
    "    #fig.update_layout(legend=dict(title=dict(text='Top 5 Immaterial Production')))\n",
    "    fig.update_traces(opacity=0.25)\n",
    "\n",
    "    fig2 = px.line(df_fig_mean, x = 'decade', y = 'score',color = 'identifier_name',\n",
    "              width = 1200, \n",
    "              height = 600, \n",
    "              title = region_name, \n",
    "              template = 'simple_white')  \n",
    "                   #line_shape='spline')\n",
    "\n",
    "    fig2.update_traces(line=dict(width=3))\n",
    "    fig3 = go.Figure(data=fig.data + fig2.data)\n",
    "    fig3.update_layout(xaxis_title='', yaxis_title='Number of Individuals',  \n",
    "                       template = 'simple_white',  \n",
    "                       width = 1200, \n",
    "                       height = 600,\n",
    "                      title = region_name)\n",
    "\n",
    "# Update the layout with the category order\n",
    "\n",
    "\n",
    "    #ig3.for_each_trace(lambda t: t.update(name=legend_order.index(t.name)))\n",
    "    fig3.update_layout(legend=dict(title=dict(text='Identifiers')))\n",
    "    #fig3.update_layout(category_orders={'Identifiers': top_ids})\n",
    "    fig3.update_layout(xaxis=dict(dtick=100))\n",
    "\n",
    "    return fig3\n",
    "\n",
    "region_name = 'Italy'\n",
    "\n",
    "df_fig_fifty = df_fig.copy()\n",
    "df_fig_fifty['decade'] = df_fig_fifty['decade'].apply(lambda x : round(x/50)*50)\n",
    "df_fig_fifty['decade'] = df_fig_fifty['decade'].apply(lambda x : round(x/50)*50)\n",
    "df_fig_fifty = df_fig_fifty.groupby(['identifier_name', 'country_name', 'region_name', 'decade'])['score'].sum().reset_index()\n",
    "\n",
    "fig3 = make_figure(df_fig_fifty, region_name = region_name, min_decade = -300, max_decade = 500, top_identifiers = 10)\n",
    "\n",
    "fig3.show()\n",
    "#fig3.write_image(f\"graph_18_05/{region_name}_identifiers.png\", scale=7)"
   ]
  },
  {
   "cell_type": "code",
   "execution_count": null,
   "id": "b44a4737-37c9-4f82-bf1d-3219990e329c",
   "metadata": {},
   "outputs": [],
   "source": []
  },
  {
   "cell_type": "code",
   "execution_count": null,
   "id": "94986217-c851-46e7-8fa4-6e2118ffc6c2",
   "metadata": {},
   "outputs": [],
   "source": []
  },
  {
   "cell_type": "code",
   "execution_count": null,
   "id": "6b63ed16-6a2e-4d2d-9c99-05e8fb0c662a",
   "metadata": {},
   "outputs": [],
   "source": []
  },
  {
   "cell_type": "code",
   "execution_count": null,
   "id": "3ac3b071-2b61-483f-8d71-75a5596a413b",
   "metadata": {
    "tags": []
   },
   "outputs": [],
   "source": []
  },
  {
   "cell_type": "code",
   "execution_count": null,
   "id": "afdd79b1-5d66-4cbe-b9c2-ef70885cdeb1",
   "metadata": {},
   "outputs": [],
   "source": []
  },
  {
   "cell_type": "code",
   "execution_count": null,
   "id": "d6aeefc3-33ae-4bb9-a59e-8de15ad14eb4",
   "metadata": {
    "tags": []
   },
   "outputs": [],
   "source": [
    "df_final_all = df_final.drop(['identifiers_wikidata_id', 'identifier_name'], axis=1).drop_duplicates()\n",
    "df_final_all['identifier_name'] = 'all_identifiers'\n",
    "\n",
    "df_graph_bis =  pd.concat([df_final, df_final_all])\n",
    "df_graph_bis = df_graph_bis.dropna()\n",
    "\n",
    "df_graph_bis['decade'] = df_graph_bis['birthyear'].apply(lambda x : int(x/10)*10)\n",
    "df_graph_bis = df_graph_bis.groupby(['identifier_name', 'region_name', 'decade'])['individual_wikidata_id'].count().rename(\"score\").reset_index()"
   ]
  },
  {
   "cell_type": "code",
   "execution_count": null,
   "id": "3544daf7-883f-4af3-b762-2e94f38a73c1",
   "metadata": {},
   "outputs": [],
   "source": []
  },
  {
   "cell_type": "code",
   "execution_count": null,
   "id": "6d6e7a9f-5f8e-48e2-83f0-edce04231adc",
   "metadata": {},
   "outputs": [],
   "source": []
  },
  {
   "cell_type": "code",
   "execution_count": null,
   "id": "cc3c3438-c218-4f82-a22b-4ce28bc7338c",
   "metadata": {},
   "outputs": [],
   "source": []
  },
  {
   "cell_type": "code",
   "execution_count": null,
   "id": "a9c45388-cd58-4337-90da-0ea8dc4b3667",
   "metadata": {},
   "outputs": [],
   "source": []
  },
  {
   "cell_type": "code",
   "execution_count": null,
   "id": "209d3932-2303-49e3-b1cd-6a012e7385c8",
   "metadata": {
    "tags": []
   },
   "outputs": [],
   "source": []
  },
  {
   "cell_type": "code",
   "execution_count": null,
   "id": "71ce8038-d9b9-4820-b4f4-074b54385875",
   "metadata": {},
   "outputs": [],
   "source": []
  },
  {
   "cell_type": "code",
   "execution_count": null,
   "id": "552cf104-f449-4229-ac20-640c0869fb6b",
   "metadata": {},
   "outputs": [],
   "source": []
  },
  {
   "cell_type": "code",
   "execution_count": null,
   "id": "55ebf761-4f8a-498e-ac03-ab50fd7826d9",
   "metadata": {},
   "outputs": [],
   "source": []
  },
  {
   "cell_type": "code",
   "execution_count": null,
   "id": "6ed3cfbd-7fa5-4251-908f-278ce705f844",
   "metadata": {},
   "outputs": [],
   "source": []
  },
  {
   "cell_type": "code",
   "execution_count": null,
   "id": "858f367f-fd42-41c7-a91b-b4da44519f24",
   "metadata": {},
   "outputs": [],
   "source": []
  },
  {
   "cell_type": "code",
   "execution_count": null,
   "id": "2c8c2021-6cef-4646-ba1b-e6b97a51de17",
   "metadata": {},
   "outputs": [],
   "source": []
  },
  {
   "cell_type": "code",
   "execution_count": null,
   "id": "c58d4af5-bbfa-41c8-bd38-7ba69025cc31",
   "metadata": {},
   "outputs": [],
   "source": []
  },
  {
   "cell_type": "code",
   "execution_count": null,
   "id": "916e426a-0b19-4ec5-9cea-83ddaf1137aa",
   "metadata": {},
   "outputs": [],
   "source": []
  },
  {
   "cell_type": "code",
   "execution_count": null,
   "id": "5c16ad64-ba27-44e3-8ec0-a9ef1318b6b7",
   "metadata": {},
   "outputs": [],
   "source": []
  },
  {
   "cell_type": "code",
   "execution_count": null,
   "id": "0907b89f-e12e-4f4e-bfbc-92930dfa9b07",
   "metadata": {},
   "outputs": [],
   "source": []
  },
  {
   "cell_type": "code",
   "execution_count": null,
   "id": "6e53d0d4-ea3c-403e-b570-44dc9a0b950d",
   "metadata": {},
   "outputs": [],
   "source": []
  },
  {
   "cell_type": "code",
   "execution_count": null,
   "id": "2646db26-5587-4145-8a32-aececb2ba4bf",
   "metadata": {},
   "outputs": [],
   "source": [
    "test = df_final[['identifier_name', 'country_name', 'continent_name']].drop_duplicates().dropna()"
   ]
  },
  {
   "cell_type": "code",
   "execution_count": null,
   "id": "e53ca1e3-7e5c-4793-aed9-1c4e4c2234ef",
   "metadata": {},
   "outputs": [],
   "source": []
  },
  {
   "cell_type": "code",
   "execution_count": null,
   "id": "0a1f2192-7fb9-43fc-b4d5-49c4bcaa9d7f",
   "metadata": {},
   "outputs": [],
   "source": []
  },
  {
   "cell_type": "code",
   "execution_count": null,
   "id": "799a1b47-dfb4-4fd6-9a17-4beeb129f4fc",
   "metadata": {},
   "outputs": [],
   "source": []
  },
  {
   "cell_type": "code",
   "execution_count": null,
   "id": "10cdecd1-b0a3-4d6d-a247-51c6bf36b7b3",
   "metadata": {},
   "outputs": [],
   "source": [
    "df_final_region = df_final.groupby(['region_name', 'decade', 'continent_name'])['individual_wikidata_id'].count().rename('score').reset_index()\n",
    "df_final_region = df_final_region[~df_final_region['continent_name'].isna()]"
   ]
  },
  {
   "cell_type": "code",
   "execution_count": null,
   "id": "c73c5ddf-cdbc-46b8-b81a-989fe30cd861",
   "metadata": {},
   "outputs": [],
   "source": [
    "def make_continent_figure(df, region_name = 'Low countries', min_decade = 1200, max_decade = 1800,  continent = ['Asia']):\n",
    "\n",
    "    df_fig = df[df['region_name']==region_name]\n",
    "    df_fig = df_fig[df_fig['decade']<=max_decade]\n",
    "    df_fig = df_fig[df_fig['decade']>=min_decade]\n",
    "    df_fig = df_fig[df_fig['continent_name'].isin(continent)]\n",
    "    df_fig['score'] = df_fig.groupby('continent_name')['score'].transform(lambda x: (x - x.min()) / (x.max() - x.min()) * 9 + 1)\n",
    "    \n",
    "    fig = px.line(df_fig, x = 'decade', y = 'score', color = 'continent_name',\n",
    "                  width = 1200, \n",
    "                  height = 600, \n",
    "                  title = region_name, \n",
    "                  template = 'simple_white')\n",
    "                  #line_shape='spline')\n",
    "    \n",
    "    fig.update_layout(legend=dict(title=dict(text='Identifiers Continent')))\n",
    "    fig.update_layout(xaxis=dict(dtick=100))\n",
    "    fig.update_layout(xaxis_title='', yaxis_title='Normalised Score')\n",
    "    \n",
    "    return fig"
   ]
  },
  {
   "cell_type": "code",
   "execution_count": null,
   "id": "5b2b7e36-446e-43b3-a8b6-a4b8d0ff1837",
   "metadata": {},
   "outputs": [],
   "source": []
  },
  {
   "cell_type": "code",
   "execution_count": null,
   "id": "77a67252-2513-434a-92e2-6f926b7c3af9",
   "metadata": {},
   "outputs": [],
   "source": [
    "df_final_region_fifty = df_final_region.copy()\n",
    "df_final_region_fifty['decade'] = df_final_region_fifty['decade'].apply(lambda x: int(x/50)*50)\n",
    "df_final_region_fifty = df_final_region_fifty.groupby(['region_name', 'decade', 'continent_name'])['score'].sum().reset_index()\n",
    "df_final_region_fifty = df_final_region_fifty[df_final_region_fifty['continent_name']!='Africa']"
   ]
  },
  {
   "cell_type": "code",
   "execution_count": null,
   "id": "49c53762-fcc5-4207-8fb3-aab3463e3d9a",
   "metadata": {},
   "outputs": [],
   "source": []
  },
  {
   "cell_type": "code",
   "execution_count": null,
   "id": "ff634c8f-a8c1-4440-8720-2d1ee5b36678",
   "metadata": {},
   "outputs": [],
   "source": [
    "fig = make_continent_figure(df_final_region_fifty,region_name = 'Chinese world', min_decade = -500, max_decade = 1800,  continent = all_continents)\n",
    "fig.show()"
   ]
  },
  {
   "cell_type": "code",
   "execution_count": null,
   "id": "43c66313-8b95-4133-947b-da0b0c488ade",
   "metadata": {
    "tags": []
   },
   "outputs": [],
   "source": []
  },
  {
   "cell_type": "code",
   "execution_count": null,
   "id": "c7342602-b326-4150-ac34-4b2bd851e843",
   "metadata": {
    "tags": []
   },
   "outputs": [],
   "source": []
  },
  {
   "cell_type": "code",
   "execution_count": null,
   "id": "cb456954-f66c-4d2a-875f-a4ff90c59d72",
   "metadata": {
    "tags": []
   },
   "outputs": [],
   "source": []
  },
  {
   "cell_type": "code",
   "execution_count": null,
   "id": "be0cfbed-fbba-4a36-988d-994ae4b0c1d2",
   "metadata": {
    "tags": []
   },
   "outputs": [],
   "source": []
  },
  {
   "cell_type": "code",
   "execution_count": null,
   "id": "ed807462-3f12-4c50-b1a9-697f8a635a9f",
   "metadata": {},
   "outputs": [],
   "source": []
  },
  {
   "cell_type": "code",
   "execution_count": null,
   "id": "00957cf7-a202-4ab4-9767-285a3ca57dba",
   "metadata": {
    "tags": []
   },
   "outputs": [],
   "source": []
  },
  {
   "cell_type": "code",
   "execution_count": null,
   "id": "8c6e4c25-4628-4fc8-b89f-8afb2c6f0b26",
   "metadata": {
    "tags": []
   },
   "outputs": [],
   "source": []
  },
  {
   "cell_type": "code",
   "execution_count": null,
   "id": "544d8375-3e08-45b8-b865-5b291290e5c5",
   "metadata": {
    "tags": []
   },
   "outputs": [],
   "source": [
    "df_identifiers_new = pd.read_sql_query(\"SELECT * FROM identifiers\", conn)\n",
    "df_identifiers_new = df_identifiers_new[['identifier_name', 'country_name']].copy()\n",
    "df_identifiers_new['country_name'][df_identifiers_new['country_name'].isna()]=''\n",
    "#df_identifiers_new = df_identifiers_new.rename(columns = {'identifier_name':'old_identifier_name'})\n",
    "df_identifiers_new['identifier_name'] = df_identifiers_new.apply(lambda x : x['identifier_name'] + ' ('  + x['country_name'] + ')' if x['country_name']!='' else x['identifier_name'], axis=1)\n"
   ]
  },
  {
   "cell_type": "code",
   "execution_count": null,
   "id": "0ce51567-4973-490c-9af7-b60e130a38a2",
   "metadata": {
    "tags": []
   },
   "outputs": [],
   "source": [
    "df_graph_bis = pd.merge(df_graph_bis,df_identifiers_new, on = 'identifier_name')"
   ]
  },
  {
   "cell_type": "code",
   "execution_count": null,
   "id": "744715d7-994a-4e19-bf03-6401bc323339",
   "metadata": {
    "tags": []
   },
   "outputs": [],
   "source": []
  },
  {
   "cell_type": "code",
   "execution_count": null,
   "id": "fe5c002d-67e5-4d03-be64-84933987c80f",
   "metadata": {
    "tags": []
   },
   "outputs": [],
   "source": []
  },
  {
   "cell_type": "code",
   "execution_count": null,
   "id": "3ceacaf8-b7e5-4448-9082-09b8f653ad6c",
   "metadata": {},
   "outputs": [],
   "source": [
    "set(df_graph_bis[df_graph_bis['country_name']=='Netherlands'].identifier_name)"
   ]
  },
  {
   "cell_type": "code",
   "execution_count": null,
   "id": "9f4f6ef3-a9a4-45c3-b6f6-75b10a9b5eed",
   "metadata": {
    "tags": []
   },
   "outputs": [],
   "source": []
  },
  {
   "cell_type": "code",
   "execution_count": null,
   "id": "0ecd5250-5604-42cf-8091-3168e3f45b65",
   "metadata": {
    "tags": []
   },
   "outputs": [],
   "source": []
  },
  {
   "cell_type": "code",
   "execution_count": null,
   "id": "b31a770c-9700-42cd-9f39-d41114982a89",
   "metadata": {
    "tags": []
   },
   "outputs": [],
   "source": []
  },
  {
   "cell_type": "code",
   "execution_count": null,
   "id": "28718a62-fd58-4cdb-a140-8ce53ada80f8",
   "metadata": {
    "tags": []
   },
   "outputs": [],
   "source": []
  },
  {
   "cell_type": "code",
   "execution_count": null,
   "id": "23b840ea-0fbb-41a9-b69d-69f9f0e13021",
   "metadata": {
    "tags": []
   },
   "outputs": [],
   "source": []
  },
  {
   "cell_type": "code",
   "execution_count": null,
   "id": "db6ad161-1ff4-486b-8e56-88e2fa67396d",
   "metadata": {
    "tags": []
   },
   "outputs": [],
   "source": [
    "#for region_name in list(set(df_graph_bis['region_name']))[:10]:\n"
   ]
  },
  {
   "cell_type": "code",
   "execution_count": null,
   "id": "44536494-a7d0-4dd2-8b80-54d14902b123",
   "metadata": {},
   "outputs": [],
   "source": []
  },
  {
   "cell_type": "code",
   "execution_count": null,
   "id": "2958c751-4e04-48c5-835c-7c8eec11f152",
   "metadata": {
    "tags": []
   },
   "outputs": [],
   "source": []
  },
  {
   "cell_type": "code",
   "execution_count": null,
   "id": "236bb21d-f21c-49f7-be64-8cbc02e3b378",
   "metadata": {},
   "outputs": [],
   "source": [
    "df_count = df_final[['decade', 'region_name', 'individual_wikidata_id']].drop_duplicates()\n",
    "df_count = df_count.groupby(['decade', 'region_name'])['individual_wikidata_id'].count().rename('score').reset_index()\n",
    "df_count['type'] = 'count'\n",
    "df_sum = df_final.groupby(['decade', 'region_name'])['identifiers_wikidata_id'].count().rename('score').reset_index()\n",
    "df_sum['type'] = 'sum'\n",
    "df_graph = pd.concat([df_count, df_sum])\n",
    "#df_count['decade'] = df_count['decade'].apply(lambda x: int(x/50)*50)\n",
    "#df_count = df_count.groupby(['region_name', 'decade'])['score'].sum().reset_index()"
   ]
  },
  {
   "cell_type": "code",
   "execution_count": null,
   "id": "c47a3003-b898-4509-a5f2-10090f563820",
   "metadata": {},
   "outputs": [],
   "source": []
  },
  {
   "cell_type": "code",
   "execution_count": null,
   "id": "ed6bb50d-c0a5-4f4d-90ca-9f872a40ed3f",
   "metadata": {},
   "outputs": [],
   "source": [
    "def make_figure_comparison(df, region_name = 'Low countries', min_decade = 1200, max_decade = 1800):\n",
    "\n",
    "    df_fig = df[df['region_name']==region_name]\n",
    "    df_fig = df_fig[df_fig['decade']<=max_decade]\n",
    "    df_fig = df_fig[df_fig['decade']>=min_decade]\n",
    "    df_fig['score'] = df_fig.groupby('type')['score'].transform(lambda x: (x - x.min()) / (x.max() - x.min()) * 9 + 1)\n",
    "    \n",
    "    fig = px.line(df_fig, \n",
    "                  x = 'decade', \n",
    "                  y = 'score',\n",
    "                  color = 'type',\n",
    "                  width = 1200, \n",
    "                  height = 600, \n",
    "                  title = region_name, \n",
    "                  template = 'simple_white')\n",
    "                  #line_shape='spline')\n",
    "    \n",
    "    fig.update_layout(legend=dict(title=dict(text='Score Type')))\n",
    "    fig.update_layout(xaxis=dict(dtick=100))\n",
    "    \n",
    "    return df_fig, fig"
   ]
  },
  {
   "cell_type": "code",
   "execution_count": null,
   "id": "9453a2c4-08c8-4d2c-882a-71a8eba6baaa",
   "metadata": {},
   "outputs": [],
   "source": [
    "df_fig, fig = make_figure_comparison(df_graph, region_name = 'Chinese world', min_decade = -500, max_decade = 1800)"
   ]
  },
  {
   "cell_type": "code",
   "execution_count": null,
   "id": "db42a262-5d48-4a3d-8617-7e6991e0117d",
   "metadata": {},
   "outputs": [],
   "source": []
  },
  {
   "cell_type": "code",
   "execution_count": null,
   "id": "61a67ece-6c9f-4249-bf60-a5d8d2355869",
   "metadata": {},
   "outputs": [],
   "source": []
  },
  {
   "cell_type": "code",
   "execution_count": null,
   "id": "5bb9acc3-5ac8-4e66-8b32-428d4ab95e2b",
   "metadata": {},
   "outputs": [],
   "source": [
    "import sys\n",
    "sys.path.append('../')\n",
    "from functions_environment import get_population\n",
    "data_path_environment = '../data_env'\n",
    "\n",
    "df_population_decade = get_population(data_path_environment)\n",
    "df_population_decade = df_population_decade.rename(columns={'year':'decade'})"
   ]
  },
  {
   "cell_type": "code",
   "execution_count": null,
   "id": "44bf55cc-0f9b-49dd-8728-2a518feccae1",
   "metadata": {},
   "outputs": [],
   "source": [
    "df_individual_region = pd.read_sql_query(\"SELECT * FROM individuals_regions\", conn)\n",
    "df_regions = df_individual_region[['region_code', 'region_name']].drop_duplicates()"
   ]
  },
  {
   "cell_type": "code",
   "execution_count": null,
   "id": "5cc6f6ac-4522-41ef-a7dd-add56c68fab9",
   "metadata": {},
   "outputs": [],
   "source": []
  },
  {
   "cell_type": "code",
   "execution_count": null,
   "id": "495899b4-c833-44e8-9adf-1df5cb1745fe",
   "metadata": {},
   "outputs": [],
   "source": [
    "df_trend = pd.merge(df_count, df_regions, on = 'region_name')\n",
    "df_trend = pd.merge(df_trend, df_population_decade, on =['region_code', 'decade'])\n",
    "df_trend['score_capita'] = df_trend['score']/df_trend['population']\n"
   ]
  },
  {
   "cell_type": "code",
   "execution_count": null,
   "id": "47e87017-e801-412b-afa1-36e19b5df1b5",
   "metadata": {},
   "outputs": [],
   "source": []
  },
  {
   "cell_type": "code",
   "execution_count": null,
   "id": "80121d84-cced-4a08-bceb-3c131df78207",
   "metadata": {},
   "outputs": [],
   "source": [
    "#set(df_count.region_name)"
   ]
  },
  {
   "cell_type": "code",
   "execution_count": null,
   "id": "9d39bc33-a8c2-4e55-918f-64ebb6f27688",
   "metadata": {},
   "outputs": [],
   "source": [
    "# russian world?"
   ]
  },
  {
   "cell_type": "code",
   "execution_count": null,
   "id": "b772295d-4eed-42b9-86d1-d70e83912c7d",
   "metadata": {},
   "outputs": [],
   "source": [
    "set(df_trend.region_name)"
   ]
  },
  {
   "cell_type": "code",
   "execution_count": null,
   "id": "c935ac51-2d49-4e67-9db4-14f75ebcd37d",
   "metadata": {},
   "outputs": [],
   "source": [
    "df_trend.to_csv('data_to_r/df_individual_trend.csv')"
   ]
  },
  {
   "cell_type": "code",
   "execution_count": null,
   "id": "6cb48cfc-0e6e-41b5-8aa8-6278daa83ccd",
   "metadata": {},
   "outputs": [],
   "source": [
    "import numpy as np"
   ]
  },
  {
   "cell_type": "code",
   "execution_count": null,
   "id": "74547b52-e4a4-4af3-9f27-4022c87f394f",
   "metadata": {},
   "outputs": [],
   "source": [
    "def make_score_per_capita(df, region_name = 'Low countries', min_decade = 1200, max_decade = 1800):\n",
    "\n",
    "    df_fig = df[df['region_name']==region_name]\n",
    "    df_fig = df_fig[df_fig['decade']<=max_decade]\n",
    "    df_fig = df_fig[df_fig['decade']>=min_decade]\n",
    "    df_fig['score_capita'] = np.log(1 + df_fig['score_capita'])\n",
    "    #df_fig['score'] = df_fig.groupby('continent_name')['score'].transform(lambda x: (x - x.min()) / (x.max() - x.min()) * 9 + 1)\n",
    "    fig = px.line(df_fig, x = 'decade', y = 'score_capita',\n",
    "                  width = 1200, \n",
    "                  height = 600, \n",
    "                  title = region_name, \n",
    "                  template = 'simple_white')\n",
    "                  #line_shape='spline')\n",
    "    \n",
    "    fig.update_layout(legend=dict(title=dict(text='Identifiers Continent')))\n",
    "    fig.update_layout(xaxis=dict(dtick=100))\n",
    "    fig.update_layout(xaxis_title='', yaxis_title='Log Score per Capita')\n",
    "    \n",
    "    return fig"
   ]
  },
  {
   "cell_type": "code",
   "execution_count": null,
   "id": "357a1a2e-55b0-444b-a338-536bc8326365",
   "metadata": {},
   "outputs": [],
   "source": [
    "region_name = 'Japan'\n",
    "fig = make_score_per_capita(df_trend, region_name = region_name, min_decade = -500, max_decade = 1850)\n",
    "fig.show()\n",
    "fig.write_image(f\"graph_18_05/{region_name}_cultural_score.png\", scale=7)"
   ]
  },
  {
   "cell_type": "code",
   "execution_count": null,
   "id": "80e8ba4f-1162-4911-bb4e-d3027879fc81",
   "metadata": {},
   "outputs": [],
   "source": []
  },
  {
   "cell_type": "code",
   "execution_count": null,
   "id": "bf2ba589-2eb4-45ee-b75b-eb5f25199357",
   "metadata": {},
   "outputs": [],
   "source": []
  },
  {
   "cell_type": "code",
   "execution_count": null,
   "id": "3401ef69-6446-4a52-b373-61b12213a2f5",
   "metadata": {},
   "outputs": [],
   "source": []
  },
  {
   "cell_type": "code",
   "execution_count": null,
   "id": "4168a551-b480-4361-85bd-e8139c10c2f8",
   "metadata": {},
   "outputs": [],
   "source": []
  },
  {
   "cell_type": "code",
   "execution_count": null,
   "id": "ee9be353-e813-4f42-951e-eee8c2eaeb5e",
   "metadata": {},
   "outputs": [],
   "source": []
  },
  {
   "cell_type": "code",
   "execution_count": null,
   "id": "d77775ea-d7ee-46c7-a8fa-cc8ac5aa294f",
   "metadata": {},
   "outputs": [],
   "source": []
  },
  {
   "cell_type": "code",
   "execution_count": null,
   "id": "080258ea-6677-4a27-8ab7-58d6a0b9e9ec",
   "metadata": {},
   "outputs": [],
   "source": []
  },
  {
   "cell_type": "code",
   "execution_count": null,
   "id": "a806a0d3-3719-488b-8871-8d7ffa7a6376",
   "metadata": {},
   "outputs": [],
   "source": []
  },
  {
   "cell_type": "code",
   "execution_count": null,
   "id": "5623ef92-0f98-4a63-9baa-3b0a15be95fc",
   "metadata": {},
   "outputs": [],
   "source": []
  },
  {
   "cell_type": "code",
   "execution_count": null,
   "id": "b939fa5f-aad1-430b-a7c8-c007b52daa63",
   "metadata": {
    "tags": []
   },
   "outputs": [],
   "source": []
  },
  {
   "cell_type": "code",
   "execution_count": null,
   "id": "7dbdd7ae-28f0-4daf-83fa-76d3c19653ce",
   "metadata": {
    "tags": []
   },
   "outputs": [],
   "source": []
  },
  {
   "cell_type": "code",
   "execution_count": null,
   "id": "80c145e9-33cf-4276-8dbb-3816d0a52998",
   "metadata": {
    "tags": []
   },
   "outputs": [],
   "source": []
  },
  {
   "cell_type": "code",
   "execution_count": null,
   "id": "b7c471b9-4825-49c7-a299-e272e6987649",
   "metadata": {
    "tags": []
   },
   "outputs": [],
   "source": []
  },
  {
   "cell_type": "code",
   "execution_count": null,
   "id": "9396d55b-5004-4ae0-9a27-df2d604c4dd4",
   "metadata": {
    "tags": []
   },
   "outputs": [],
   "source": []
  },
  {
   "cell_type": "code",
   "execution_count": null,
   "id": "16864be7-c63c-418e-a2ca-95b87206556f",
   "metadata": {},
   "outputs": [],
   "source": []
  }
 ],
 "metadata": {
  "kernelspec": {
   "display_name": "Python 3 (ipykernel)",
   "language": "python",
   "name": "python3"
  },
  "language_info": {
   "codemirror_mode": {
    "name": "ipython",
    "version": 3
   },
   "file_extension": ".py",
   "mimetype": "text/x-python",
   "name": "python",
   "nbconvert_exporter": "python",
   "pygments_lexer": "ipython3",
   "version": "3.11.7"
  }
 },
 "nbformat": 4,
 "nbformat_minor": 5
}
