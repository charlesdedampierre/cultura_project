{
 "cells": [
  {
   "cell_type": "code",
   "execution_count": 38,
   "metadata": {},
   "outputs": [
    {
     "name": "stdout",
     "output_type": "stream",
     "text": [
      "0.5144766146993318\n"
     ]
    }
   ],
   "source": [
    "import pandas as pd\n",
    "\n",
    "data = pd.read_csv('../immaterial_index/results/df_individuals_score.csv', index_col = [0])\n",
    "\n",
    "region_name =  \"Latin World\"\n",
    "min_date = -800\n",
    "max_date = 1800\n",
    "\n",
    "data = data[data['region_name']==region_name]\n",
    "data = data[(data['productive_year']>=min_date)&(data['productive_year']<=max_date)]\n",
    "\n",
    "filtered_birthyears = data[data['birthyear'].apply(lambda x: x % 100 == 50 or x % 100 == 0)]\n",
    "\n",
    "print(len(filtered_birthyears)/len(data))"
   ]
  }
 ],
 "metadata": {
  "kernelspec": {
   "display_name": ".venv",
   "language": "python",
   "name": "python3"
  },
  "language_info": {
   "codemirror_mode": {
    "name": "ipython",
    "version": 3
   },
   "file_extension": ".py",
   "mimetype": "text/x-python",
   "name": "python",
   "nbconvert_exporter": "python",
   "pygments_lexer": "ipython3",
   "version": "3.11.5"
  }
 },
 "nbformat": 4,
 "nbformat_minor": 2
}
