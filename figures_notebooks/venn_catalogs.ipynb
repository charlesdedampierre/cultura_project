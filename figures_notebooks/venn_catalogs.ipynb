{
 "cells": [
  {
   "cell_type": "code",
   "execution_count": 1,
   "id": "82d29e56-c612-42fa-848f-d20449a585e5",
   "metadata": {
    "tags": []
   },
   "outputs": [],
   "source": [
    "import sys\n",
    "\n",
    "sys.path.append('../')\n",
    "\n",
    "from functions_env import DB_PATH\n",
    "import sqlite3\n",
    "import pandas as pd\n",
    "import plotly.express as px\n",
    "import matplotlib.pyplot as plt\n",
    "from matplotlib_venn import venn3"
   ]
  },
  {
   "cell_type": "code",
   "execution_count": 2,
   "id": "1edafedf-a3f7-4b49-b725-2b8d32d52e06",
   "metadata": {
    "tags": []
   },
   "outputs": [],
   "source": [
    "conn = sqlite3.connect(DB_PATH)"
   ]
  },
  {
   "cell_type": "code",
   "execution_count": 3,
   "id": "71f4a94b-b86d-4df8-ab71-198821071e80",
   "metadata": {
    "tags": []
   },
   "outputs": [],
   "source": [
    "df_identifiers = pd.read_sql_query(\"SELECT * FROM individual_identifiers\", conn)\n",
    "identifiers = pd.read_sql_query(\"SELECT * FROM identifiers\", conn)\n",
    "continent = pd.read_sql_query(\"SELECT * FROM country_continent\", conn)"
   ]
  },
  {
   "cell_type": "code",
   "execution_count": null,
   "id": "f4e2ad85-ce8a-4f11-8710-b91581ee08f3",
   "metadata": {
    "tags": []
   },
   "outputs": [],
   "source": []
  },
  {
   "cell_type": "code",
   "execution_count": 4,
   "id": "114bd3ea-bfec-4046-bdcf-c4a25bee45fc",
   "metadata": {
    "tags": []
   },
   "outputs": [],
   "source": [
    "# Born before 1850"
   ]
  },
  {
   "cell_type": "code",
   "execution_count": null,
   "id": "02d001e9-e7ec-442b-9387-f47b2da1bdf5",
   "metadata": {
    "tags": []
   },
   "outputs": [],
   "source": []
  },
  {
   "cell_type": "code",
   "execution_count": 5,
   "id": "157133b0-b9b9-4fee-b5a3-c613ebf666f4",
   "metadata": {
    "tags": []
   },
   "outputs": [
    {
     "name": "stderr",
     "output_type": "stream",
     "text": [
      "/var/folders/lx/9b13r6ln63jb54_3xlf9b_380000gn/T/ipykernel_17585/184260537.py:3: SettingWithCopyWarning: \n",
      "A value is trying to be set on a copy of a slice from a DataFrame\n",
      "\n",
      "See the caveats in the documentation: https://pandas.pydata.org/pandas-docs/stable/user_guide/indexing.html#returning-a-view-versus-a-copy\n",
      "  df['continent_name'][df['continent_name']=='Eurasia'] = 'Asia'\n"
     ]
    }
   ],
   "source": [
    "df = pd.merge(identifiers, df_identifiers, on = ['identifiers_wikidata_id', 'identifier_name'])\n",
    "df = pd.merge(df, continent, on = 'country_name')\n",
    "df['continent_name'][df['continent_name']=='Eurasia'] = 'Asia'"
   ]
  },
  {
   "cell_type": "code",
   "execution_count": 6,
   "id": "8112a37b-58a4-4bbb-949b-0c882b69ef0d",
   "metadata": {
    "tags": []
   },
   "outputs": [
    {
     "data": {
      "application/vnd.plotly.v1+json": {
       "config": {
        "plotlyServerURL": "https://plot.ly"
       },
       "data": [
        {
         "domain": {
          "x": [
           0,
           1
          ],
          "y": [
           0,
           1
          ]
         },
         "hovertemplate": "region=%{label}<br>count_catalogs=%{value}<extra></extra>",
         "labels": [
          "Europe",
          "North America",
          "Asia",
          "Insular Oceania",
          "South America",
          "Africa"
         ],
         "legendgroup": "",
         "name": "",
         "showlegend": true,
         "type": "pie",
         "values": [
          335,
          64,
          39,
          17,
          6,
          1
         ]
        }
       ],
       "layout": {
        "height": 500,
        "legend": {
         "tracegroupgap": 0
        },
        "margin": {
         "t": 60
        },
        "template": {
         "data": {
          "bar": [
           {
            "error_x": {
             "color": "rgb(36,36,36)"
            },
            "error_y": {
             "color": "rgb(36,36,36)"
            },
            "marker": {
             "line": {
              "color": "white",
              "width": 0.5
             },
             "pattern": {
              "fillmode": "overlay",
              "size": 10,
              "solidity": 0.2
             }
            },
            "type": "bar"
           }
          ],
          "barpolar": [
           {
            "marker": {
             "line": {
              "color": "white",
              "width": 0.5
             },
             "pattern": {
              "fillmode": "overlay",
              "size": 10,
              "solidity": 0.2
             }
            },
            "type": "barpolar"
           }
          ],
          "carpet": [
           {
            "aaxis": {
             "endlinecolor": "rgb(36,36,36)",
             "gridcolor": "white",
             "linecolor": "white",
             "minorgridcolor": "white",
             "startlinecolor": "rgb(36,36,36)"
            },
            "baxis": {
             "endlinecolor": "rgb(36,36,36)",
             "gridcolor": "white",
             "linecolor": "white",
             "minorgridcolor": "white",
             "startlinecolor": "rgb(36,36,36)"
            },
            "type": "carpet"
           }
          ],
          "choropleth": [
           {
            "colorbar": {
             "outlinewidth": 1,
             "tickcolor": "rgb(36,36,36)",
             "ticks": "outside"
            },
            "type": "choropleth"
           }
          ],
          "contour": [
           {
            "colorbar": {
             "outlinewidth": 1,
             "tickcolor": "rgb(36,36,36)",
             "ticks": "outside"
            },
            "colorscale": [
             [
              0,
              "#440154"
             ],
             [
              0.1111111111111111,
              "#482878"
             ],
             [
              0.2222222222222222,
              "#3e4989"
             ],
             [
              0.3333333333333333,
              "#31688e"
             ],
             [
              0.4444444444444444,
              "#26828e"
             ],
             [
              0.5555555555555556,
              "#1f9e89"
             ],
             [
              0.6666666666666666,
              "#35b779"
             ],
             [
              0.7777777777777778,
              "#6ece58"
             ],
             [
              0.8888888888888888,
              "#b5de2b"
             ],
             [
              1,
              "#fde725"
             ]
            ],
            "type": "contour"
           }
          ],
          "contourcarpet": [
           {
            "colorbar": {
             "outlinewidth": 1,
             "tickcolor": "rgb(36,36,36)",
             "ticks": "outside"
            },
            "type": "contourcarpet"
           }
          ],
          "heatmap": [
           {
            "colorbar": {
             "outlinewidth": 1,
             "tickcolor": "rgb(36,36,36)",
             "ticks": "outside"
            },
            "colorscale": [
             [
              0,
              "#440154"
             ],
             [
              0.1111111111111111,
              "#482878"
             ],
             [
              0.2222222222222222,
              "#3e4989"
             ],
             [
              0.3333333333333333,
              "#31688e"
             ],
             [
              0.4444444444444444,
              "#26828e"
             ],
             [
              0.5555555555555556,
              "#1f9e89"
             ],
             [
              0.6666666666666666,
              "#35b779"
             ],
             [
              0.7777777777777778,
              "#6ece58"
             ],
             [
              0.8888888888888888,
              "#b5de2b"
             ],
             [
              1,
              "#fde725"
             ]
            ],
            "type": "heatmap"
           }
          ],
          "heatmapgl": [
           {
            "colorbar": {
             "outlinewidth": 1,
             "tickcolor": "rgb(36,36,36)",
             "ticks": "outside"
            },
            "colorscale": [
             [
              0,
              "#440154"
             ],
             [
              0.1111111111111111,
              "#482878"
             ],
             [
              0.2222222222222222,
              "#3e4989"
             ],
             [
              0.3333333333333333,
              "#31688e"
             ],
             [
              0.4444444444444444,
              "#26828e"
             ],
             [
              0.5555555555555556,
              "#1f9e89"
             ],
             [
              0.6666666666666666,
              "#35b779"
             ],
             [
              0.7777777777777778,
              "#6ece58"
             ],
             [
              0.8888888888888888,
              "#b5de2b"
             ],
             [
              1,
              "#fde725"
             ]
            ],
            "type": "heatmapgl"
           }
          ],
          "histogram": [
           {
            "marker": {
             "line": {
              "color": "white",
              "width": 0.6
             }
            },
            "type": "histogram"
           }
          ],
          "histogram2d": [
           {
            "colorbar": {
             "outlinewidth": 1,
             "tickcolor": "rgb(36,36,36)",
             "ticks": "outside"
            },
            "colorscale": [
             [
              0,
              "#440154"
             ],
             [
              0.1111111111111111,
              "#482878"
             ],
             [
              0.2222222222222222,
              "#3e4989"
             ],
             [
              0.3333333333333333,
              "#31688e"
             ],
             [
              0.4444444444444444,
              "#26828e"
             ],
             [
              0.5555555555555556,
              "#1f9e89"
             ],
             [
              0.6666666666666666,
              "#35b779"
             ],
             [
              0.7777777777777778,
              "#6ece58"
             ],
             [
              0.8888888888888888,
              "#b5de2b"
             ],
             [
              1,
              "#fde725"
             ]
            ],
            "type": "histogram2d"
           }
          ],
          "histogram2dcontour": [
           {
            "colorbar": {
             "outlinewidth": 1,
             "tickcolor": "rgb(36,36,36)",
             "ticks": "outside"
            },
            "colorscale": [
             [
              0,
              "#440154"
             ],
             [
              0.1111111111111111,
              "#482878"
             ],
             [
              0.2222222222222222,
              "#3e4989"
             ],
             [
              0.3333333333333333,
              "#31688e"
             ],
             [
              0.4444444444444444,
              "#26828e"
             ],
             [
              0.5555555555555556,
              "#1f9e89"
             ],
             [
              0.6666666666666666,
              "#35b779"
             ],
             [
              0.7777777777777778,
              "#6ece58"
             ],
             [
              0.8888888888888888,
              "#b5de2b"
             ],
             [
              1,
              "#fde725"
             ]
            ],
            "type": "histogram2dcontour"
           }
          ],
          "mesh3d": [
           {
            "colorbar": {
             "outlinewidth": 1,
             "tickcolor": "rgb(36,36,36)",
             "ticks": "outside"
            },
            "type": "mesh3d"
           }
          ],
          "parcoords": [
           {
            "line": {
             "colorbar": {
              "outlinewidth": 1,
              "tickcolor": "rgb(36,36,36)",
              "ticks": "outside"
             }
            },
            "type": "parcoords"
           }
          ],
          "pie": [
           {
            "automargin": true,
            "type": "pie"
           }
          ],
          "scatter": [
           {
            "fillpattern": {
             "fillmode": "overlay",
             "size": 10,
             "solidity": 0.2
            },
            "type": "scatter"
           }
          ],
          "scatter3d": [
           {
            "line": {
             "colorbar": {
              "outlinewidth": 1,
              "tickcolor": "rgb(36,36,36)",
              "ticks": "outside"
             }
            },
            "marker": {
             "colorbar": {
              "outlinewidth": 1,
              "tickcolor": "rgb(36,36,36)",
              "ticks": "outside"
             }
            },
            "type": "scatter3d"
           }
          ],
          "scattercarpet": [
           {
            "marker": {
             "colorbar": {
              "outlinewidth": 1,
              "tickcolor": "rgb(36,36,36)",
              "ticks": "outside"
             }
            },
            "type": "scattercarpet"
           }
          ],
          "scattergeo": [
           {
            "marker": {
             "colorbar": {
              "outlinewidth": 1,
              "tickcolor": "rgb(36,36,36)",
              "ticks": "outside"
             }
            },
            "type": "scattergeo"
           }
          ],
          "scattergl": [
           {
            "marker": {
             "colorbar": {
              "outlinewidth": 1,
              "tickcolor": "rgb(36,36,36)",
              "ticks": "outside"
             }
            },
            "type": "scattergl"
           }
          ],
          "scattermapbox": [
           {
            "marker": {
             "colorbar": {
              "outlinewidth": 1,
              "tickcolor": "rgb(36,36,36)",
              "ticks": "outside"
             }
            },
            "type": "scattermapbox"
           }
          ],
          "scatterpolar": [
           {
            "marker": {
             "colorbar": {
              "outlinewidth": 1,
              "tickcolor": "rgb(36,36,36)",
              "ticks": "outside"
             }
            },
            "type": "scatterpolar"
           }
          ],
          "scatterpolargl": [
           {
            "marker": {
             "colorbar": {
              "outlinewidth": 1,
              "tickcolor": "rgb(36,36,36)",
              "ticks": "outside"
             }
            },
            "type": "scatterpolargl"
           }
          ],
          "scatterternary": [
           {
            "marker": {
             "colorbar": {
              "outlinewidth": 1,
              "tickcolor": "rgb(36,36,36)",
              "ticks": "outside"
             }
            },
            "type": "scatterternary"
           }
          ],
          "surface": [
           {
            "colorbar": {
             "outlinewidth": 1,
             "tickcolor": "rgb(36,36,36)",
             "ticks": "outside"
            },
            "colorscale": [
             [
              0,
              "#440154"
             ],
             [
              0.1111111111111111,
              "#482878"
             ],
             [
              0.2222222222222222,
              "#3e4989"
             ],
             [
              0.3333333333333333,
              "#31688e"
             ],
             [
              0.4444444444444444,
              "#26828e"
             ],
             [
              0.5555555555555556,
              "#1f9e89"
             ],
             [
              0.6666666666666666,
              "#35b779"
             ],
             [
              0.7777777777777778,
              "#6ece58"
             ],
             [
              0.8888888888888888,
              "#b5de2b"
             ],
             [
              1,
              "#fde725"
             ]
            ],
            "type": "surface"
           }
          ],
          "table": [
           {
            "cells": {
             "fill": {
              "color": "rgb(237,237,237)"
             },
             "line": {
              "color": "white"
             }
            },
            "header": {
             "fill": {
              "color": "rgb(217,217,217)"
             },
             "line": {
              "color": "white"
             }
            },
            "type": "table"
           }
          ]
         },
         "layout": {
          "annotationdefaults": {
           "arrowhead": 0,
           "arrowwidth": 1
          },
          "autotypenumbers": "strict",
          "coloraxis": {
           "colorbar": {
            "outlinewidth": 1,
            "tickcolor": "rgb(36,36,36)",
            "ticks": "outside"
           }
          },
          "colorscale": {
           "diverging": [
            [
             0,
             "rgb(103,0,31)"
            ],
            [
             0.1,
             "rgb(178,24,43)"
            ],
            [
             0.2,
             "rgb(214,96,77)"
            ],
            [
             0.3,
             "rgb(244,165,130)"
            ],
            [
             0.4,
             "rgb(253,219,199)"
            ],
            [
             0.5,
             "rgb(247,247,247)"
            ],
            [
             0.6,
             "rgb(209,229,240)"
            ],
            [
             0.7,
             "rgb(146,197,222)"
            ],
            [
             0.8,
             "rgb(67,147,195)"
            ],
            [
             0.9,
             "rgb(33,102,172)"
            ],
            [
             1,
             "rgb(5,48,97)"
            ]
           ],
           "sequential": [
            [
             0,
             "#440154"
            ],
            [
             0.1111111111111111,
             "#482878"
            ],
            [
             0.2222222222222222,
             "#3e4989"
            ],
            [
             0.3333333333333333,
             "#31688e"
            ],
            [
             0.4444444444444444,
             "#26828e"
            ],
            [
             0.5555555555555556,
             "#1f9e89"
            ],
            [
             0.6666666666666666,
             "#35b779"
            ],
            [
             0.7777777777777778,
             "#6ece58"
            ],
            [
             0.8888888888888888,
             "#b5de2b"
            ],
            [
             1,
             "#fde725"
            ]
           ],
           "sequentialminus": [
            [
             0,
             "#440154"
            ],
            [
             0.1111111111111111,
             "#482878"
            ],
            [
             0.2222222222222222,
             "#3e4989"
            ],
            [
             0.3333333333333333,
             "#31688e"
            ],
            [
             0.4444444444444444,
             "#26828e"
            ],
            [
             0.5555555555555556,
             "#1f9e89"
            ],
            [
             0.6666666666666666,
             "#35b779"
            ],
            [
             0.7777777777777778,
             "#6ece58"
            ],
            [
             0.8888888888888888,
             "#b5de2b"
            ],
            [
             1,
             "#fde725"
            ]
           ]
          },
          "colorway": [
           "#1F77B4",
           "#FF7F0E",
           "#2CA02C",
           "#D62728",
           "#9467BD",
           "#8C564B",
           "#E377C2",
           "#7F7F7F",
           "#BCBD22",
           "#17BECF"
          ],
          "font": {
           "color": "rgb(36,36,36)"
          },
          "geo": {
           "bgcolor": "white",
           "lakecolor": "white",
           "landcolor": "white",
           "showlakes": true,
           "showland": true,
           "subunitcolor": "white"
          },
          "hoverlabel": {
           "align": "left"
          },
          "hovermode": "closest",
          "mapbox": {
           "style": "light"
          },
          "paper_bgcolor": "white",
          "plot_bgcolor": "white",
          "polar": {
           "angularaxis": {
            "gridcolor": "rgb(232,232,232)",
            "linecolor": "rgb(36,36,36)",
            "showgrid": false,
            "showline": true,
            "ticks": "outside"
           },
           "bgcolor": "white",
           "radialaxis": {
            "gridcolor": "rgb(232,232,232)",
            "linecolor": "rgb(36,36,36)",
            "showgrid": false,
            "showline": true,
            "ticks": "outside"
           }
          },
          "scene": {
           "xaxis": {
            "backgroundcolor": "white",
            "gridcolor": "rgb(232,232,232)",
            "gridwidth": 2,
            "linecolor": "rgb(36,36,36)",
            "showbackground": true,
            "showgrid": false,
            "showline": true,
            "ticks": "outside",
            "zeroline": false,
            "zerolinecolor": "rgb(36,36,36)"
           },
           "yaxis": {
            "backgroundcolor": "white",
            "gridcolor": "rgb(232,232,232)",
            "gridwidth": 2,
            "linecolor": "rgb(36,36,36)",
            "showbackground": true,
            "showgrid": false,
            "showline": true,
            "ticks": "outside",
            "zeroline": false,
            "zerolinecolor": "rgb(36,36,36)"
           },
           "zaxis": {
            "backgroundcolor": "white",
            "gridcolor": "rgb(232,232,232)",
            "gridwidth": 2,
            "linecolor": "rgb(36,36,36)",
            "showbackground": true,
            "showgrid": false,
            "showline": true,
            "ticks": "outside",
            "zeroline": false,
            "zerolinecolor": "rgb(36,36,36)"
           }
          },
          "shapedefaults": {
           "fillcolor": "black",
           "line": {
            "width": 0
           },
           "opacity": 0.3
          },
          "ternary": {
           "aaxis": {
            "gridcolor": "rgb(232,232,232)",
            "linecolor": "rgb(36,36,36)",
            "showgrid": false,
            "showline": true,
            "ticks": "outside"
           },
           "baxis": {
            "gridcolor": "rgb(232,232,232)",
            "linecolor": "rgb(36,36,36)",
            "showgrid": false,
            "showline": true,
            "ticks": "outside"
           },
           "bgcolor": "white",
           "caxis": {
            "gridcolor": "rgb(232,232,232)",
            "linecolor": "rgb(36,36,36)",
            "showgrid": false,
            "showline": true,
            "ticks": "outside"
           }
          },
          "title": {
           "x": 0.05
          },
          "xaxis": {
           "automargin": true,
           "gridcolor": "rgb(232,232,232)",
           "linecolor": "rgb(36,36,36)",
           "showgrid": false,
           "showline": true,
           "ticks": "outside",
           "title": {
            "standoff": 15
           },
           "zeroline": false,
           "zerolinecolor": "rgb(36,36,36)"
          },
          "yaxis": {
           "automargin": true,
           "gridcolor": "rgb(232,232,232)",
           "linecolor": "rgb(36,36,36)",
           "showgrid": false,
           "showline": true,
           "ticks": "outside",
           "title": {
            "standoff": 15
           },
           "zeroline": false,
           "zerolinecolor": "rgb(36,36,36)"
          }
         }
        },
        "width": 500
       }
      }
     },
     "metadata": {},
     "output_type": "display_data"
    }
   ],
   "source": [
    "df_count_regions = df[['continent_name', 'identifier_name', 'count_records']].drop_duplicates()\n",
    "df_count_regions = df_count_regions.dropna()\n",
    "\n",
    "df_pie = df_count_regions.continent_name.value_counts().reset_index()\n",
    "df_pie.columns = ['region', 'count_catalogs']\n",
    "\n",
    "fig = px.pie(df_pie, names = 'region', values ='count_catalogs', width = 500, height = 500, template = 'simple_white')\n",
    "#fig = fig.update_traces(textposition='inside', textinfo='percent+label')\n",
    "fig"
   ]
  },
  {
   "cell_type": "code",
   "execution_count": null,
   "id": "5003fc1f-275c-4ba2-8065-d4c2c2b5996e",
   "metadata": {},
   "outputs": [],
   "source": []
  },
  {
   "cell_type": "code",
   "execution_count": 7,
   "metadata": {},
   "outputs": [
    {
     "data": {
      "text/html": [
       "<div>\n",
       "<style scoped>\n",
       "    .dataframe tbody tr th:only-of-type {\n",
       "        vertical-align: middle;\n",
       "    }\n",
       "\n",
       "    .dataframe tbody tr th {\n",
       "        vertical-align: top;\n",
       "    }\n",
       "\n",
       "    .dataframe thead th {\n",
       "        text-align: right;\n",
       "    }\n",
       "</style>\n",
       "<table border=\"1\" class=\"dataframe\">\n",
       "  <thead>\n",
       "    <tr style=\"text-align: right;\">\n",
       "      <th></th>\n",
       "      <th>continent_name</th>\n",
       "      <th>identifier_name</th>\n",
       "      <th>country_name</th>\n",
       "    </tr>\n",
       "  </thead>\n",
       "  <tbody>\n",
       "    <tr>\n",
       "      <th>1417407</th>\n",
       "      <td>South America</td>\n",
       "      <td>Todotango.com person ID</td>\n",
       "      <td>Argentina</td>\n",
       "    </tr>\n",
       "    <tr>\n",
       "      <th>668235</th>\n",
       "      <td>Asia</td>\n",
       "      <td>bgm.tv person ID</td>\n",
       "      <td>People's Republic of China</td>\n",
       "    </tr>\n",
       "    <tr>\n",
       "      <th>855072</th>\n",
       "      <td>Insular Oceania</td>\n",
       "      <td>Dictionary of Sydney ID</td>\n",
       "      <td>Australia</td>\n",
       "    </tr>\n",
       "    <tr>\n",
       "      <th>1359951</th>\n",
       "      <td>Europe</td>\n",
       "      <td>Bashkir encyclopedia (Russian version) ID (for...</td>\n",
       "      <td>Russia</td>\n",
       "    </tr>\n",
       "    <tr>\n",
       "      <th>457578</th>\n",
       "      <td>North America</td>\n",
       "      <td>BookBub author ID</td>\n",
       "      <td>United States of America</td>\n",
       "    </tr>\n",
       "    <tr>\n",
       "      <th>461547</th>\n",
       "      <td>North America</td>\n",
       "      <td>FamousFix topic ID</td>\n",
       "      <td>United States of America</td>\n",
       "    </tr>\n",
       "    <tr>\n",
       "      <th>661817</th>\n",
       "      <td>Europe</td>\n",
       "      <td>French Inspector General for Education (1802-1...</td>\n",
       "      <td>France</td>\n",
       "    </tr>\n",
       "    <tr>\n",
       "      <th>859644</th>\n",
       "      <td>Insular Oceania</td>\n",
       "      <td>Indigenous Australia ID</td>\n",
       "      <td>Australia</td>\n",
       "    </tr>\n",
       "    <tr>\n",
       "      <th>666818</th>\n",
       "      <td>Asia</td>\n",
       "      <td>DLCM ID</td>\n",
       "      <td>People's Republic of China</td>\n",
       "    </tr>\n",
       "    <tr>\n",
       "      <th>998467</th>\n",
       "      <td>Europe</td>\n",
       "      <td>BCU Ecrivainsvd ID</td>\n",
       "      <td>Switzerland</td>\n",
       "    </tr>\n",
       "  </tbody>\n",
       "</table>\n",
       "</div>"
      ],
      "text/plain": [
       "          continent_name                                    identifier_name  \\\n",
       "1417407    South America                            Todotango.com person ID   \n",
       "668235              Asia                                   bgm.tv person ID   \n",
       "855072   Insular Oceania                            Dictionary of Sydney ID   \n",
       "1359951           Europe  Bashkir encyclopedia (Russian version) ID (for...   \n",
       "457578     North America                                  BookBub author ID   \n",
       "461547     North America                                 FamousFix topic ID   \n",
       "661817            Europe  French Inspector General for Education (1802-1...   \n",
       "859644   Insular Oceania                            Indigenous Australia ID   \n",
       "666818              Asia                                            DLCM ID   \n",
       "998467            Europe                                 BCU Ecrivainsvd ID   \n",
       "\n",
       "                       country_name  \n",
       "1417407                   Argentina  \n",
       "668235   People's Republic of China  \n",
       "855072                    Australia  \n",
       "1359951                      Russia  \n",
       "457578     United States of America  \n",
       "461547     United States of America  \n",
       "661817                       France  \n",
       "859644                    Australia  \n",
       "666818   People's Republic of China  \n",
       "998467                  Switzerland  "
      ]
     },
     "execution_count": 7,
     "metadata": {},
     "output_type": "execute_result"
    }
   ],
   "source": [
    "df_count_country = df[['continent_name', 'identifier_name', 'country_name']].drop_duplicates()\n",
    "df_count_country.sample(10)"
   ]
  },
  {
   "cell_type": "code",
   "execution_count": 17,
   "id": "d9d9dd35-ee06-4b93-a81f-a07c213c6f20",
   "metadata": {
    "tags": []
   },
   "outputs": [],
   "source": [
    "df_count_country = df[['continent_name', 'identifier_name', 'country_name']].drop_duplicates()\n",
    "df_count_country = df_count_country.dropna()\n",
    "df_count_country = df_count_country[~df_count_country['continent_name'].isin(['Europe', 'North America'])]\n",
    "df_count_country = df_count_country.country_name.value_counts().reset_index()\n",
    "df_count_country.columns = ['country', 'count_catalogs']\n",
    "fig = px.pie(df_count_country, names='country', values='count_catalogs', height = 500,width = 500, template = 'simple_white')\n",
    "fig = fig.update_traces(textposition='inside', textinfo='percent+label')\n",
    "fig = fig.update_layout(showlegend=False)\n",
    "fig.write_image('figures/number_of_catalogs_per_country.png', scale=3)\n"
   ]
  },
  {
   "cell_type": "code",
   "execution_count": 9,
   "id": "2cbf7b7c-26c1-42b9-92b9-7b93152500fe",
   "metadata": {
    "tags": []
   },
   "outputs": [],
   "source": [
    "\n",
    "df_count = df[['identifier_name', 'country_name', 'individual_wikidata_id']].drop_duplicates()\n",
    "df_count['country_name'][df_count['country_name'].isna()] = \"international\"\n",
    "\n",
    "df_international = df_count.groupby(['identifier_name', 'country_name'])['individual_wikidata_id'].count().reset_index().sort_values('individual_wikidata_id', ascending=False)\n",
    "\n",
    "df_count = df_count.dropna()\n",
    "df_count = df_count.groupby(['country_name', 'identifier_name'])['individual_wikidata_id'].count().reset_index()\n",
    "df_count = df_count.sort_values(['country_name', 'individual_wikidata_id'], ascending = (False, False))\n",
    "df_count = df_count.groupby('country_name').head(1).reset_index(drop=True)"
   ]
  },
  {
   "cell_type": "code",
   "execution_count": 10,
   "id": "be64a8b8-b4f5-4146-bc92-c03d2a952651",
   "metadata": {
    "tags": []
   },
   "outputs": [
    {
     "data": {
      "text/html": [
       "<div>\n",
       "<style scoped>\n",
       "    .dataframe tbody tr th:only-of-type {\n",
       "        vertical-align: middle;\n",
       "    }\n",
       "\n",
       "    .dataframe tbody tr th {\n",
       "        vertical-align: top;\n",
       "    }\n",
       "\n",
       "    .dataframe thead th {\n",
       "        text-align: right;\n",
       "    }\n",
       "</style>\n",
       "<table border=\"1\" class=\"dataframe\">\n",
       "  <thead>\n",
       "    <tr style=\"text-align: right;\">\n",
       "      <th></th>\n",
       "      <th>country_name</th>\n",
       "      <th>identifier_name</th>\n",
       "      <th>individual_wikidata_id</th>\n",
       "    </tr>\n",
       "  </thead>\n",
       "  <tbody>\n",
       "    <tr>\n",
       "      <th>37</th>\n",
       "      <td>Germany</td>\n",
       "      <td>GND ID</td>\n",
       "      <td>121651</td>\n",
       "    </tr>\n",
       "    <tr>\n",
       "      <th>1</th>\n",
       "      <td>United States of America</td>\n",
       "      <td>Library of Congress authority ID</td>\n",
       "      <td>85710</td>\n",
       "    </tr>\n",
       "    <tr>\n",
       "      <th>38</th>\n",
       "      <td>France</td>\n",
       "      <td>IdRef ID</td>\n",
       "      <td>59075</td>\n",
       "    </tr>\n",
       "    <tr>\n",
       "      <th>17</th>\n",
       "      <td>Poland</td>\n",
       "      <td>NUKAT ID</td>\n",
       "      <td>44152</td>\n",
       "    </tr>\n",
       "    <tr>\n",
       "      <th>31</th>\n",
       "      <td>Israel</td>\n",
       "      <td>National Library of Israel J9U ID</td>\n",
       "      <td>35982</td>\n",
       "    </tr>\n",
       "    <tr>\n",
       "      <th>43</th>\n",
       "      <td>Czech Republic</td>\n",
       "      <td>NKCR AUT ID</td>\n",
       "      <td>35504</td>\n",
       "    </tr>\n",
       "    <tr>\n",
       "      <th>55</th>\n",
       "      <td>Australia</td>\n",
       "      <td>NLA Trove people ID</td>\n",
       "      <td>18259</td>\n",
       "    </tr>\n",
       "    <tr>\n",
       "      <th>2</th>\n",
       "      <td>United Kingdom</td>\n",
       "      <td>British Museum person or institution ID</td>\n",
       "      <td>17318</td>\n",
       "    </tr>\n",
       "    <tr>\n",
       "      <th>30</th>\n",
       "      <td>Italy</td>\n",
       "      <td>SHARE Catalogue author ID</td>\n",
       "      <td>15656</td>\n",
       "    </tr>\n",
       "    <tr>\n",
       "      <th>7</th>\n",
       "      <td>Sweden</td>\n",
       "      <td>SELIBR ID</td>\n",
       "      <td>14625</td>\n",
       "    </tr>\n",
       "    <tr>\n",
       "      <th>20</th>\n",
       "      <td>Norway</td>\n",
       "      <td>NORAF ID</td>\n",
       "      <td>13102</td>\n",
       "    </tr>\n",
       "    <tr>\n",
       "      <th>16</th>\n",
       "      <td>Portugal</td>\n",
       "      <td>Portuguese National Library author ID</td>\n",
       "      <td>12612</td>\n",
       "    </tr>\n",
       "    <tr>\n",
       "      <th>36</th>\n",
       "      <td>Greece</td>\n",
       "      <td>National Library of Greece ID</td>\n",
       "      <td>12199</td>\n",
       "    </tr>\n",
       "    <tr>\n",
       "      <th>6</th>\n",
       "      <td>Switzerland</td>\n",
       "      <td>RERO ID (obsolete)</td>\n",
       "      <td>12092</td>\n",
       "    </tr>\n",
       "    <tr>\n",
       "      <th>10</th>\n",
       "      <td>Slovenia</td>\n",
       "      <td>CONOR.SI ID</td>\n",
       "      <td>10076</td>\n",
       "    </tr>\n",
       "    <tr>\n",
       "      <th>29</th>\n",
       "      <td>Japan</td>\n",
       "      <td>CiNii Books author ID</td>\n",
       "      <td>8277</td>\n",
       "    </tr>\n",
       "    <tr>\n",
       "      <th>54</th>\n",
       "      <td>Austria</td>\n",
       "      <td>Austrian Biographical Encylopedia ID</td>\n",
       "      <td>6905</td>\n",
       "    </tr>\n",
       "    <tr>\n",
       "      <th>24</th>\n",
       "      <td>Lithuania</td>\n",
       "      <td>National Library of Lithuania ID</td>\n",
       "      <td>6133</td>\n",
       "    </tr>\n",
       "    <tr>\n",
       "      <th>48</th>\n",
       "      <td>Canada</td>\n",
       "      <td>Canadiana Name Authority ID</td>\n",
       "      <td>5988</td>\n",
       "    </tr>\n",
       "    <tr>\n",
       "      <th>46</th>\n",
       "      <td>Croatia</td>\n",
       "      <td>Hrvatska enciklopedija ID</td>\n",
       "      <td>5590</td>\n",
       "    </tr>\n",
       "    <tr>\n",
       "      <th>13</th>\n",
       "      <td>Russia</td>\n",
       "      <td>Great Russian Encyclopedia Online ID (old vers...</td>\n",
       "      <td>5574</td>\n",
       "    </tr>\n",
       "    <tr>\n",
       "      <th>39</th>\n",
       "      <td>Finland</td>\n",
       "      <td>Athenaeum person ID</td>\n",
       "      <td>5531</td>\n",
       "    </tr>\n",
       "    <tr>\n",
       "      <th>42</th>\n",
       "      <td>Denmark</td>\n",
       "      <td>Den Store Danske ID</td>\n",
       "      <td>5476</td>\n",
       "    </tr>\n",
       "    <tr>\n",
       "      <th>27</th>\n",
       "      <td>Latvia</td>\n",
       "      <td>National Library of Latvia ID</td>\n",
       "      <td>3598</td>\n",
       "    </tr>\n",
       "    <tr>\n",
       "      <th>11</th>\n",
       "      <td>Slovakia</td>\n",
       "      <td>Web umenia creator ID</td>\n",
       "      <td>2873</td>\n",
       "    </tr>\n",
       "    <tr>\n",
       "      <th>47</th>\n",
       "      <td>Chile</td>\n",
       "      <td>National Library of Chile ID</td>\n",
       "      <td>2556</td>\n",
       "    </tr>\n",
       "    <tr>\n",
       "      <th>49</th>\n",
       "      <td>Bulgaria</td>\n",
       "      <td>CONOR.BG ID</td>\n",
       "      <td>2540</td>\n",
       "    </tr>\n",
       "    <tr>\n",
       "      <th>40</th>\n",
       "      <td>Estonia</td>\n",
       "      <td>ELNET ID</td>\n",
       "      <td>2338</td>\n",
       "    </tr>\n",
       "    <tr>\n",
       "      <th>51</th>\n",
       "      <td>Belgium</td>\n",
       "      <td>KBR person ID</td>\n",
       "      <td>2156</td>\n",
       "    </tr>\n",
       "    <tr>\n",
       "      <th>15</th>\n",
       "      <td>Republic of Ireland</td>\n",
       "      <td>National Library of Ireland ID</td>\n",
       "      <td>2069</td>\n",
       "    </tr>\n",
       "    <tr>\n",
       "      <th>8</th>\n",
       "      <td>South Korea</td>\n",
       "      <td>National Library of Korea ID</td>\n",
       "      <td>2014</td>\n",
       "    </tr>\n",
       "    <tr>\n",
       "      <th>35</th>\n",
       "      <td>Hungary</td>\n",
       "      <td>PIM authority ID</td>\n",
       "      <td>1924</td>\n",
       "    </tr>\n",
       "    <tr>\n",
       "      <th>50</th>\n",
       "      <td>Brazil</td>\n",
       "      <td>National Library of Brazil ID</td>\n",
       "      <td>1920</td>\n",
       "    </tr>\n",
       "    <tr>\n",
       "      <th>21</th>\n",
       "      <td>New Zealand</td>\n",
       "      <td>Alexander Turnbull Library ID</td>\n",
       "      <td>1847</td>\n",
       "    </tr>\n",
       "    <tr>\n",
       "      <th>18</th>\n",
       "      <td>People's Republic of China</td>\n",
       "      <td>ctext data entity ID</td>\n",
       "      <td>1666</td>\n",
       "    </tr>\n",
       "    <tr>\n",
       "      <th>57</th>\n",
       "      <td>Argentina</td>\n",
       "      <td>BNMM authority ID</td>\n",
       "      <td>900</td>\n",
       "    </tr>\n",
       "    <tr>\n",
       "      <th>41</th>\n",
       "      <td>Egypt</td>\n",
       "      <td>EGAXA ID</td>\n",
       "      <td>883</td>\n",
       "    </tr>\n",
       "    <tr>\n",
       "      <th>44</th>\n",
       "      <td>Cyprus</td>\n",
       "      <td>Cyprus University of Technology ID</td>\n",
       "      <td>757</td>\n",
       "    </tr>\n",
       "    <tr>\n",
       "      <th>5</th>\n",
       "      <td>Taiwan</td>\n",
       "      <td>Academia Sinica authority ID</td>\n",
       "      <td>743</td>\n",
       "    </tr>\n",
       "    <tr>\n",
       "      <th>4</th>\n",
       "      <td>Turkey</td>\n",
       "      <td>TDV İslam Ansiklopedisi ID</td>\n",
       "      <td>720</td>\n",
       "    </tr>\n",
       "    <tr>\n",
       "      <th>56</th>\n",
       "      <td>Armenia</td>\n",
       "      <td>Union Catalog of Armenian Libraries authority ID</td>\n",
       "      <td>468</td>\n",
       "    </tr>\n",
       "    <tr>\n",
       "      <th>9</th>\n",
       "      <td>South Africa</td>\n",
       "      <td>S2A3 Biographical Database ID</td>\n",
       "      <td>306</td>\n",
       "    </tr>\n",
       "    <tr>\n",
       "      <th>26</th>\n",
       "      <td>Lebanon</td>\n",
       "      <td>Lebanese National Library ID</td>\n",
       "      <td>300</td>\n",
       "    </tr>\n",
       "    <tr>\n",
       "      <th>34</th>\n",
       "      <td>Iceland</td>\n",
       "      <td>National Library of Iceland ID</td>\n",
       "      <td>286</td>\n",
       "    </tr>\n",
       "    <tr>\n",
       "      <th>33</th>\n",
       "      <td>India</td>\n",
       "      <td>WBPLN author ID</td>\n",
       "      <td>272</td>\n",
       "    </tr>\n",
       "    <tr>\n",
       "      <th>32</th>\n",
       "      <td>Iran</td>\n",
       "      <td>Iranica ID</td>\n",
       "      <td>196</td>\n",
       "    </tr>\n",
       "    <tr>\n",
       "      <th>0</th>\n",
       "      <td>Uruguay</td>\n",
       "      <td>autores.uy ID</td>\n",
       "      <td>175</td>\n",
       "    </tr>\n",
       "    <tr>\n",
       "      <th>25</th>\n",
       "      <td>Liechtenstein</td>\n",
       "      <td>e-archiv.li ID</td>\n",
       "      <td>153</td>\n",
       "    </tr>\n",
       "    <tr>\n",
       "      <th>58</th>\n",
       "      <td>Albania</td>\n",
       "      <td>CONOR.AL ID</td>\n",
       "      <td>118</td>\n",
       "    </tr>\n",
       "    <tr>\n",
       "      <th>23</th>\n",
       "      <td>Mexico</td>\n",
       "      <td>Enciclopedia de la Literatura en México ID</td>\n",
       "      <td>114</td>\n",
       "    </tr>\n",
       "    <tr>\n",
       "      <th>19</th>\n",
       "      <td>Paraguay</td>\n",
       "      <td>Namuwiki ID</td>\n",
       "      <td>69</td>\n",
       "    </tr>\n",
       "    <tr>\n",
       "      <th>53</th>\n",
       "      <td>Bangladesh</td>\n",
       "      <td>Banglapedia ID (English)</td>\n",
       "      <td>59</td>\n",
       "    </tr>\n",
       "    <tr>\n",
       "      <th>3</th>\n",
       "      <td>United Arab Emirates</td>\n",
       "      <td>UAE University Libraries ID</td>\n",
       "      <td>43</td>\n",
       "    </tr>\n",
       "    <tr>\n",
       "      <th>14</th>\n",
       "      <td>Romania</td>\n",
       "      <td>National Library of Romania ID</td>\n",
       "      <td>41</td>\n",
       "    </tr>\n",
       "    <tr>\n",
       "      <th>28</th>\n",
       "      <td>Kosovo</td>\n",
       "      <td>CONOR.KS ID</td>\n",
       "      <td>33</td>\n",
       "    </tr>\n",
       "    <tr>\n",
       "      <th>12</th>\n",
       "      <td>Singapore</td>\n",
       "      <td>National Library Board Singapore ID</td>\n",
       "      <td>27</td>\n",
       "    </tr>\n",
       "    <tr>\n",
       "      <th>52</th>\n",
       "      <td>Belarus</td>\n",
       "      <td>Belarus in persons and events ID</td>\n",
       "      <td>19</td>\n",
       "    </tr>\n",
       "    <tr>\n",
       "      <th>45</th>\n",
       "      <td>Cuba</td>\n",
       "      <td>EcuRed article</td>\n",
       "      <td>7</td>\n",
       "    </tr>\n",
       "    <tr>\n",
       "      <th>22</th>\n",
       "      <td>Morocco</td>\n",
       "      <td>BNRM ID</td>\n",
       "      <td>4</td>\n",
       "    </tr>\n",
       "  </tbody>\n",
       "</table>\n",
       "</div>"
      ],
      "text/plain": [
       "                  country_name  \\\n",
       "37                     Germany   \n",
       "1     United States of America   \n",
       "38                      France   \n",
       "17                      Poland   \n",
       "31                      Israel   \n",
       "43              Czech Republic   \n",
       "55                   Australia   \n",
       "2               United Kingdom   \n",
       "30                       Italy   \n",
       "7                       Sweden   \n",
       "20                      Norway   \n",
       "16                    Portugal   \n",
       "36                      Greece   \n",
       "6                  Switzerland   \n",
       "10                    Slovenia   \n",
       "29                       Japan   \n",
       "54                     Austria   \n",
       "24                   Lithuania   \n",
       "48                      Canada   \n",
       "46                     Croatia   \n",
       "13                      Russia   \n",
       "39                     Finland   \n",
       "42                     Denmark   \n",
       "27                      Latvia   \n",
       "11                    Slovakia   \n",
       "47                       Chile   \n",
       "49                    Bulgaria   \n",
       "40                     Estonia   \n",
       "51                     Belgium   \n",
       "15         Republic of Ireland   \n",
       "8                  South Korea   \n",
       "35                     Hungary   \n",
       "50                      Brazil   \n",
       "21                 New Zealand   \n",
       "18  People's Republic of China   \n",
       "57                   Argentina   \n",
       "41                       Egypt   \n",
       "44                      Cyprus   \n",
       "5                       Taiwan   \n",
       "4                       Turkey   \n",
       "56                     Armenia   \n",
       "9                 South Africa   \n",
       "26                     Lebanon   \n",
       "34                     Iceland   \n",
       "33                       India   \n",
       "32                        Iran   \n",
       "0                      Uruguay   \n",
       "25               Liechtenstein   \n",
       "58                     Albania   \n",
       "23                      Mexico   \n",
       "19                    Paraguay   \n",
       "53                  Bangladesh   \n",
       "3         United Arab Emirates   \n",
       "14                     Romania   \n",
       "28                      Kosovo   \n",
       "12                   Singapore   \n",
       "52                     Belarus   \n",
       "45                        Cuba   \n",
       "22                     Morocco   \n",
       "\n",
       "                                      identifier_name  individual_wikidata_id  \n",
       "37                                             GND ID                  121651  \n",
       "1                    Library of Congress authority ID                   85710  \n",
       "38                                           IdRef ID                   59075  \n",
       "17                                           NUKAT ID                   44152  \n",
       "31                  National Library of Israel J9U ID                   35982  \n",
       "43                                        NKCR AUT ID                   35504  \n",
       "55                                NLA Trove people ID                   18259  \n",
       "2             British Museum person or institution ID                   17318  \n",
       "30                          SHARE Catalogue author ID                   15656  \n",
       "7                                           SELIBR ID                   14625  \n",
       "20                                           NORAF ID                   13102  \n",
       "16              Portuguese National Library author ID                   12612  \n",
       "36                      National Library of Greece ID                   12199  \n",
       "6                                  RERO ID (obsolete)                   12092  \n",
       "10                                        CONOR.SI ID                   10076  \n",
       "29                              CiNii Books author ID                    8277  \n",
       "54               Austrian Biographical Encylopedia ID                    6905  \n",
       "24                   National Library of Lithuania ID                    6133  \n",
       "48                        Canadiana Name Authority ID                    5988  \n",
       "46                          Hrvatska enciklopedija ID                    5590  \n",
       "13  Great Russian Encyclopedia Online ID (old vers...                    5574  \n",
       "39                                Athenaeum person ID                    5531  \n",
       "42                                Den Store Danske ID                    5476  \n",
       "27                      National Library of Latvia ID                    3598  \n",
       "11                              Web umenia creator ID                    2873  \n",
       "47                       National Library of Chile ID                    2556  \n",
       "49                                        CONOR.BG ID                    2540  \n",
       "40                                           ELNET ID                    2338  \n",
       "51                                      KBR person ID                    2156  \n",
       "15                     National Library of Ireland ID                    2069  \n",
       "8                        National Library of Korea ID                    2014  \n",
       "35                                   PIM authority ID                    1924  \n",
       "50                      National Library of Brazil ID                    1920  \n",
       "21                      Alexander Turnbull Library ID                    1847  \n",
       "18                               ctext data entity ID                    1666  \n",
       "57                                  BNMM authority ID                     900  \n",
       "41                                           EGAXA ID                     883  \n",
       "44                 Cyprus University of Technology ID                     757  \n",
       "5                        Academia Sinica authority ID                     743  \n",
       "4                          TDV İslam Ansiklopedisi ID                     720  \n",
       "56   Union Catalog of Armenian Libraries authority ID                     468  \n",
       "9                       S2A3 Biographical Database ID                     306  \n",
       "26                       Lebanese National Library ID                     300  \n",
       "34                     National Library of Iceland ID                     286  \n",
       "33                                    WBPLN author ID                     272  \n",
       "32                                         Iranica ID                     196  \n",
       "0                                       autores.uy ID                     175  \n",
       "25                                     e-archiv.li ID                     153  \n",
       "58                                        CONOR.AL ID                     118  \n",
       "23         Enciclopedia de la Literatura en México ID                     114  \n",
       "19                                        Namuwiki ID                      69  \n",
       "53                           Banglapedia ID (English)                      59  \n",
       "3                         UAE University Libraries ID                      43  \n",
       "14                     National Library of Romania ID                      41  \n",
       "28                                        CONOR.KS ID                      33  \n",
       "12                National Library Board Singapore ID                      27  \n",
       "52                   Belarus in persons and events ID                      19  \n",
       "45                                     EcuRed article                       7  \n",
       "22                                            BNRM ID                       4  "
      ]
     },
     "execution_count": 10,
     "metadata": {},
     "output_type": "execute_result"
    }
   ],
   "source": [
    "df_count.sort_values('individual_wikidata_id', ascending=False)"
   ]
  },
  {
   "cell_type": "code",
   "execution_count": 11,
   "id": "2c56853c-fe98-41fc-8bde-7e73a11d1f09",
   "metadata": {
    "tags": []
   },
   "outputs": [],
   "source": [
    "# crossig between catalogs in China, US and Israel"
   ]
  },
  {
   "cell_type": "code",
   "execution_count": 12,
   "id": "b78cfffa-72cc-421d-983e-6dda63612135",
   "metadata": {
    "tags": []
   },
   "outputs": [
    {
     "data": {
      "image/png": "[encoded data removed]",
      "text/plain": [
       "<Figure size 640x480 with 1 Axes>"
      ]
     },
     "metadata": {},
     "output_type": "display_data"
    }
   ],
   "source": [
    "countries = ['Poland', \"Italy\", \"Japan\"]\n",
    "\n",
    "df_cross = df[['individual_wikidata_id', 'country_name', 'identifier_name']].drop_duplicates()\n",
    "df_cross = df_cross[df_cross['country_name'].isin(countries)].reset_index(drop=True)\n",
    "df_cross = df_cross[['individual_wikidata_id', 'country_name']].drop_duplicates()\n",
    "\n",
    "country_1 = df_cross[df_cross['country_name']==countries[0]]\n",
    "country_2 = df_cross[df_cross['country_name']==countries[1]]\n",
    "country_3 = df_cross[df_cross['country_name']==countries[2]]\n",
    "\n",
    "# Define the sets\n",
    "df_country_1 = set(country_1['individual_wikidata_id'])\n",
    "df_country_2 = set(country_2['individual_wikidata_id'])\n",
    "df_country_3 = set(country_3['individual_wikidata_id'])\n",
    "\n",
    "# Create the Venn diagram\n",
    "venn = venn3([df_country_1, df_country_2, df_country_3], set_labels=countries)\n",
    "plt.savefig('figures/venn/venn_diagram_country.png')"
   ]
  },
  {
   "cell_type": "code",
   "execution_count": 13,
   "id": "01d69d47-f8af-41c0-a350-87c294fe5d62",
   "metadata": {
    "tags": []
   },
   "outputs": [
    {
     "data": {
      "text/plain": [
       "matplotlib_venn._common.VennDiagram"
      ]
     },
     "execution_count": 13,
     "metadata": {},
     "output_type": "execute_result"
    }
   ],
   "source": [
    "type(venn)"
   ]
  },
  {
   "cell_type": "code",
   "execution_count": 14,
   "id": "4016a1ff-39af-49ef-b6a1-3ddcaeb7b51e",
   "metadata": {
    "tags": []
   },
   "outputs": [
    {
     "data": {
      "image/png": "[encoded data removed]",
      "text/plain": [
       "<Figure size 640x480 with 1 Axes>"
      ]
     },
     "metadata": {},
     "output_type": "display_data"
    }
   ],
   "source": [
    "continents = ['Africa', \"Asia\", \"South America\"]\n",
    "\n",
    "df_cross = df[['individual_wikidata_id', 'continent_name', 'identifier_name']].drop_duplicates()\n",
    "\n",
    "\n",
    "df_cross = df_cross[df_cross['continent_name'].isin(continents)].reset_index(drop=True)\n",
    "df_cross = df_cross[['individual_wikidata_id', 'continent_name']].drop_duplicates()\n",
    "\n",
    "continent_1 = df_cross[df_cross['continent_name']==continents[0]]\n",
    "continent_2 = df_cross[df_cross['continent_name']==continents[1]]\n",
    "continent_3 = df_cross[df_cross['continent_name']==continents[2]]\n",
    "\n",
    "# Define the sets\n",
    "df_continent_1 = set(continent_1['individual_wikidata_id'])\n",
    "df_continent_2 = set(continent_2['individual_wikidata_id'])\n",
    "df_continent_3 = set(continent_3['individual_wikidata_id'])\n",
    "\n",
    "# Create the Venn diagram\n",
    "venn = venn3([df_continent_1, df_continent_2, df_continent_3], set_labels=continents)\n",
    "plt.savefig('figures/venn/venn_diagram_contient.png')\n"
   ]
  },
  {
   "cell_type": "code",
   "execution_count": null,
   "id": "5f08060d-1adf-4107-a6d1-30af78a4f8f5",
   "metadata": {
    "tags": []
   },
   "outputs": [],
   "source": []
  },
  {
   "cell_type": "code",
   "execution_count": null,
   "id": "8801a62c-abe2-4dbb-98d4-dd3fce7c2396",
   "metadata": {},
   "outputs": [],
   "source": []
  },
  {
   "cell_type": "code",
   "execution_count": 15,
   "id": "56ef8ad1-abc8-418f-a1ad-fef53a8e410e",
   "metadata": {
    "tags": []
   },
   "outputs": [],
   "source": [
    "#df.to_sql('top_catalog_country', conn, if_exists = 'replace', index=False)"
   ]
  },
  {
   "cell_type": "code",
   "execution_count": null,
   "id": "005c11a9-f49a-43f3-bc0f-84730ef63522",
   "metadata": {
    "tags": []
   },
   "outputs": [],
   "source": []
  },
  {
   "cell_type": "code",
   "execution_count": null,
   "id": "db0dec64-124c-40eb-a5d3-250df8947d63",
   "metadata": {},
   "outputs": [],
   "source": []
  }
 ],
 "metadata": {
  "kernelspec": {
   "display_name": "Python 3 (ipykernel)",
   "language": "python",
   "name": "python3"
  },
  "language_info": {
   "codemirror_mode": {
    "name": "ipython",
    "version": 3
   },
   "file_extension": ".py",
   "mimetype": "text/x-python",
   "name": "python",
   "nbconvert_exporter": "python",
   "pygments_lexer": "ipython3",
   "version": "3.11.5"
  }
 },
 "nbformat": 4,
 "nbformat_minor": 5
}
