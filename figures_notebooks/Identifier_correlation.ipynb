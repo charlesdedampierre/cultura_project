{
 "cells": [
  {
   "cell_type": "code",
   "execution_count": 1,
   "id": "b50717e1-818f-4dcd-89b1-4039f7ce2af5",
   "metadata": {},
   "outputs": [],
   "source": [
    "import sys\n",
    "sys.path.append('../')"
   ]
  },
  {
   "cell_type": "code",
   "execution_count": 2,
   "id": "a66d3518-9dc8-4c93-86fd-c754d294078d",
   "metadata": {},
   "outputs": [],
   "source": [
    "import seaborn as sns\n",
    "from data_model import Individual\n",
    "from sys_utils import load_model\n",
    "import plotly.express as px"
   ]
  },
  {
   "cell_type": "code",
   "execution_count": 3,
   "id": "cc70c654-14a7-475a-8edc-d336f10810ba",
   "metadata": {},
   "outputs": [],
   "source": [
    "checkpoint_path = '../checkpoints_dev'"
   ]
  },
  {
   "cell_type": "code",
   "execution_count": 4,
   "id": "5717c181-894a-4d20-891e-42ac59e3fa74",
   "metadata": {},
   "outputs": [],
   "source": [
    "individuals = load_model(\n",
    "        Individual, name=checkpoint_path + \"/individuals.jsonl\"\n",
    "    )\n",
    "\n"
   ]
  },
  {
   "cell_type": "code",
   "execution_count": null,
   "id": "b109d17c-b5fb-498e-a386-2d74ca340e95",
   "metadata": {},
   "outputs": [],
   "source": []
  },
  {
   "cell_type": "code",
   "execution_count": 5,
   "id": "a147ae7a-e3b0-4218-8fc6-8a6bf2b4bde9",
   "metadata": {},
   "outputs": [],
   "source": [
    "individuals_filtered = [x for x in individuals if x.regions != None]\n",
    "individuals_filtered = [x for x in individuals_filtered if x.identifiers != None]\n",
    "\n",
    "df_individuals = [\n",
    "    {\n",
    "        \"wikidata_id\": x.id.wikidata_id,\n",
    "        \"identifier\":[y.name for y in x.identifiers],\n",
    "        \"region_code\": x.regions,\n",
    "         \"year\": x.impact_years,\n",
    "    }\n",
    "    for x in individuals_filtered\n",
    "]\n"
   ]
  },
  {
   "cell_type": "code",
   "execution_count": null,
   "id": "2726d360-02f9-4a20-a550-f010ff22755b",
   "metadata": {},
   "outputs": [],
   "source": []
  },
  {
   "cell_type": "code",
   "execution_count": 7,
   "id": "ffc8d67b-630b-4267-a5de-4958b14042b8",
   "metadata": {},
   "outputs": [],
   "source": [
    "import pandas as pd"
   ]
  },
  {
   "cell_type": "code",
   "execution_count": 8,
   "id": "da1fff44-e379-47de-a815-546e43041f35",
   "metadata": {},
   "outputs": [],
   "source": [
    "from data_model_region import Region\n",
    "df = pd.DataFrame(df_individuals)\n",
    "df = df.explode('region_code')\n",
    "\n",
    "regions = load_model(\n",
    "    Region, name=checkpoint_path + \"/regions.jsonl\"\n",
    ")\n",
    "\n",
    "df_regions = [\n",
    "        {\n",
    "            \"region_code\": x.code,\n",
    "            \"region_name\": x.name,\n",
    "        }\n",
    "        for x in regions\n",
    "    ]\n",
    "\n",
    "df_regions = pd.DataFrame(df_regions)\n",
    "df = pd.merge(df, df_regions, on = 'region_code')"
   ]
  },
  {
   "cell_type": "code",
   "execution_count": 1,
   "id": "36d9f516-7ce4-4119-9f12-37cd168cc6c4",
   "metadata": {
    "tags": []
   },
   "outputs": [],
   "source": [
    "import sys\n",
    "\n",
    "sys.path.append('../')\n",
    "\n",
    "from functions_env import DB_PATH\n",
    "import sqlite3\n",
    "import pandas as pd\n",
    "import plotly.express as px\n",
    "import matplotlib.pyplot as plt\n",
    "from matplotlib_venn import venn3"
   ]
  },
  {
   "cell_type": "code",
   "execution_count": 2,
   "id": "ea32304f-34a4-40c5-89a6-36d8778f9c7f",
   "metadata": {
    "tags": []
   },
   "outputs": [],
   "source": [
    "conn = sqlite3.connect(DB_PATH)"
   ]
  },
  {
   "cell_type": "code",
   "execution_count": 3,
   "id": "d51cca0e-5d71-4327-badd-33f3a400b708",
   "metadata": {
    "tags": []
   },
   "outputs": [],
   "source": [
    "\n",
    "df_individual = pd.read_sql_query(\"SELECT * FROM individuals_main_information\", conn)\n",
    "df_individual = df_individual[['individual_wikidata_id', 'birthyear']]\n",
    "df_individual_region = pd.read_sql_query(\"SELECT * FROM individuals_regions\", conn)\n",
    "df_individual_region = df_individual_region[['individual_wikidata_id', 'region_name']].drop_duplicates()"
   ]
  },
  {
   "cell_type": "code",
   "execution_count": 6,
   "id": "f3df160f-22a5-4371-8bf0-b2dee92e520f",
   "metadata": {
    "tags": []
   },
   "outputs": [
    {
     "name": "stderr",
     "output_type": "stream",
     "text": [
      "/var/folders/lx/9b13r6ln63jb54_3xlf9b_380000gn/T/ipykernel_34841/1610848963.py:2: SettingWithCopyWarning: \n",
      "A value is trying to be set on a copy of a slice from a DataFrame\n",
      "\n",
      "See the caveats in the documentation: https://pandas.pydata.org/pandas-docs/stable/user_guide/indexing.html#returning-a-view-versus-a-copy\n",
      "  df_identifiers['country_name'][df_identifiers['country_name'].isna()]=''\n"
     ]
    }
   ],
   "source": [
    "df_identifiers = pd.read_sql_query(\"SELECT * FROM identifiers\", conn)\n",
    "df_identifiers['country_name'][df_identifiers['country_name'].isna()]=''\n",
    "df_identifiers['identifier_name'] = df_identifiers.apply(lambda x : x['identifier_name'] + ' ('  + x['country_name'] + ')' if x['country_name']!='' else x['identifier_name'], axis=1)\n",
    "df_identifiers = df_identifiers.drop(['country_wikidata_id', 'count_records', 'identifier_url'], axis=1).drop_duplicates()"
   ]
  },
  {
   "cell_type": "code",
   "execution_count": 8,
   "id": "8be25199-746b-457b-9e48-6850f81f2eb7",
   "metadata": {
    "tags": []
   },
   "outputs": [],
   "source": [
    "df_ind_identifiers = pd.read_sql_query(\"SELECT * FROM individual_identifiers\", conn)\n",
    "df_ind_identifiers = df_ind_identifiers.drop('identifier_name', axis=1)\n",
    "df_ind_identifiers = pd.merge(df_ind_identifiers, df_identifiers, on = 'identifiers_wikidata_id', how = 'left')\n",
    "\n",
    "df_final = pd.merge(df_individual, df_ind_identifiers, on = 'individual_wikidata_id', how = 'left')\n",
    "df_final = pd.merge(df_final, df_individual_region, on = 'individual_wikidata_id')"
   ]
  },
  {
   "cell_type": "code",
   "execution_count": null,
   "id": "6b1d79e8-7a86-4904-82dc-8864acce0a26",
   "metadata": {
    "tags": []
   },
   "outputs": [],
   "source": []
  },
  {
   "cell_type": "code",
   "execution_count": 11,
   "id": "a94636b3-efb6-4b36-954f-dfd4fdc53981",
   "metadata": {
    "tags": []
   },
   "outputs": [],
   "source": [
    "region_name = 'Low countries'\n",
    "min_year = 1300\n",
    "max_year = 1850"
   ]
  },
  {
   "cell_type": "code",
   "execution_count": 42,
   "id": "056fc8c2-0ed1-4870-9c32-75e6fdc58fab",
   "metadata": {
    "tags": []
   },
   "outputs": [],
   "source": [
    "df_country = df_final[df_final['region_name']=='Low countries']\n",
    "df_country = df_country[(df_country['birthyear']>=min_year)&(df_country['birthyear']<=max_year)].reset_index(drop=True)\n",
    "df_country[\"year\"] = df_country[\"birthyear\"].apply(lambda x : round(x/10)*10)\n",
    "df_country = df_country.groupby(['year', 'identifiers_wikidata_id'])['individual_wikidata_id'].count().reset_index()"
   ]
  },
  {
   "cell_type": "code",
   "execution_count": 39,
   "id": "e0b00afe-4d97-47d6-a5e0-4b742bc2db09",
   "metadata": {
    "tags": []
   },
   "outputs": [],
   "source": [
    "df_country = df_country[df_country['identifiers_wikidata_id']=='P1006']"
   ]
  },
  {
   "cell_type": "code",
   "execution_count": null,
   "id": "2310c8ee-b1bb-4c7d-b0ef-57e57e3ee48b",
   "metadata": {
    "tags": []
   },
   "outputs": [],
   "source": []
  },
  {
   "cell_type": "code",
   "execution_count": null,
   "id": "033e3367-718d-48e7-b364-26ce7e99cc66",
   "metadata": {},
   "outputs": [],
   "source": []
  },
  {
   "cell_type": "code",
   "execution_count": null,
   "id": "e204d08c-29fe-478d-8320-16c09a612673",
   "metadata": {
    "tags": []
   },
   "outputs": [],
   "source": []
  },
  {
   "cell_type": "code",
   "execution_count": 37,
   "id": "60b80763-bccc-4be6-aa5e-389a4a9a12b9",
   "metadata": {
    "tags": []
   },
   "outputs": [
    {
     "data": {
      "text/html": [
       "<div>\n",
       "<style scoped>\n",
       "    .dataframe tbody tr th:only-of-type {\n",
       "        vertical-align: middle;\n",
       "    }\n",
       "\n",
       "    .dataframe tbody tr th {\n",
       "        vertical-align: top;\n",
       "    }\n",
       "\n",
       "    .dataframe thead th {\n",
       "        text-align: right;\n",
       "    }\n",
       "</style>\n",
       "<table border=\"1\" class=\"dataframe\">\n",
       "  <thead>\n",
       "    <tr style=\"text-align: right;\">\n",
       "      <th></th>\n",
       "      <th>identifiers_wikidata_id</th>\n",
       "      <th>individual_wikidata_id</th>\n",
       "    </tr>\n",
       "    <tr>\n",
       "      <th>year</th>\n",
       "      <th></th>\n",
       "      <th></th>\n",
       "    </tr>\n",
       "  </thead>\n",
       "  <tbody>\n",
       "    <tr>\n",
       "      <th>1300</th>\n",
       "      <td>P1006</td>\n",
       "      <td>2</td>\n",
       "    </tr>\n",
       "  </tbody>\n",
       "</table>\n",
       "</div>"
      ],
      "text/plain": [
       "     identifiers_wikidata_id  individual_wikidata_id\n",
       "year                                                \n",
       "1300                   P1006                       2"
      ]
     },
     "execution_count": 37,
     "metadata": {},
     "output_type": "execute_result"
    }
   ],
   "source": []
  },
  {
   "cell_type": "code",
   "execution_count": null,
   "id": "d24e6c52-4392-4251-a1e8-76443a0f1266",
   "metadata": {},
   "outputs": [],
   "source": []
  },
  {
   "cell_type": "code",
   "execution_count": null,
   "id": "da250e68-ea4f-4f48-bdf0-1cf61a883be8",
   "metadata": {
    "tags": []
   },
   "outputs": [],
   "source": []
  },
  {
   "cell_type": "code",
   "execution_count": null,
   "id": "affe9cf4-9936-4464-83d8-96e855b4be7f",
   "metadata": {},
   "outputs": [],
   "source": []
  },
  {
   "cell_type": "code",
   "execution_count": null,
   "id": "f7ccfa3b-385e-4779-a281-4baa9fd560cb",
   "metadata": {},
   "outputs": [],
   "source": []
  },
  {
   "cell_type": "code",
   "execution_count": null,
   "id": "260e9f89-b4da-4a01-819c-021eac2b8284",
   "metadata": {},
   "outputs": [],
   "source": []
  },
  {
   "cell_type": "code",
   "execution_count": 9,
   "id": "d4ec8eb2-3646-4d6b-b116-beaf16d179ef",
   "metadata": {},
   "outputs": [
    {
     "name": "stderr",
     "output_type": "stream",
     "text": [
      "/var/folders/lx/9b13r6ln63jb54_3xlf9b_380000gn/T/ipykernel_25876/2564892623.py:6: SettingWithCopyWarning: \n",
      "A value is trying to be set on a copy of a slice from a DataFrame.\n",
      "Try using .loc[row_indexer,col_indexer] = value instead\n",
      "\n",
      "See the caveats in the documentation: https://pandas.pydata.org/pandas-docs/stable/user_guide/indexing.html#returning-a-view-versus-a-copy\n",
      "  df_country[\"year\"] = df_country[\"year\"].apply(\n"
     ]
    }
   ],
   "source": [
    "\n",
    "\n",
    "df_country = df[df['region_name']==region_name]\n",
    "df_country[\"year\"] = df_country[\"year\"].apply(\n",
    "        lambda x: [year for year in range(int(x[0]), int(x[1]) + 10, 10)]\n",
    "    )\n",
    "\n",
    "df_country = df_country.explode('year').reset_index(drop=True)\n",
    "\n",
    "top_identifiers = df_country[['wikidata_id','identifier']].explode('identifier').drop_duplicates().reset_index(drop=True)\n",
    "top_identifiers = top_identifiers['identifier'].value_counts().reset_index().head(40)\n",
    "top_identifiers = list(top_identifiers['index'])\n",
    "\n",
    "df_country_fil = df_country.explode('identifier')\n",
    "df_country_fil = df_country_fil[df_country_fil['identifier'].isin(top_identifiers)].reset_index(drop=True)\n",
    "\n",
    "\n",
    "df_fig = df_country_fil.groupby(['identifier', 'year'])['wikidata_id'].count().reset_index()\n",
    "df_fig = df_fig[(df_fig['year']<= max_year)&(df_fig['year']>= min_year)]\n",
    "\n",
    "df_fig = df_fig.rename(columns = {'wikidata_id':'Number of Individuals'})\n",
    "\n"
   ]
  },
  {
   "cell_type": "code",
   "execution_count": null,
   "id": "038e1454-da31-470c-b049-5667beb5af4a",
   "metadata": {},
   "outputs": [],
   "source": []
  },
  {
   "cell_type": "code",
   "execution_count": 15,
   "id": "2d992465-ec14-4f4f-a430-d6c627d88da2",
   "metadata": {},
   "outputs": [
    {
     "data": {
      "text/plain": [
       "'temp-plot.html'"
      ]
     },
     "execution_count": 15,
     "metadata": {},
     "output_type": "execute_result"
    }
   ],
   "source": [
    "fig = px.line(df_fig, x = 'year', \n",
    "              y = 'Number of Individuals', \n",
    "              color = 'identifier', \n",
    "              width = 2000, \n",
    "              height = 1000, \n",
    "              title = \"Low Countres - Relations between identifiers\", \n",
    "              template = 'plotly_white')\n",
    "\n",
    "fig.update_xaxes(showgrid=False, showticklabels=True, zeroline=False)\n",
    "fig.update_yaxes(showgrid=False, showticklabels=True, zeroline=False)\n",
    "fig.update_layout(title_font=dict(size=30))\n",
    "\n",
    "fig.update_layout(\n",
    "    xaxis_title=\"\",\n",
    "    yaxis_title='Number of Individuals added')\n",
    "import plotly\n",
    "plotly.offline.plot(fig)\n",
    "#fig.write_image(f\"save_figures/identifiers_line.png\", scale=7)"
   ]
  },
  {
   "cell_type": "code",
   "execution_count": null,
   "id": "be79ab35-44df-4acf-9191-e5fdcbc17932",
   "metadata": {},
   "outputs": [],
   "source": [
    "import plotly"
   ]
  },
  {
   "cell_type": "code",
   "execution_count": null,
   "id": "15e6d301-4e0f-4aa7-bb35-62e3a9c607e9",
   "metadata": {},
   "outputs": [],
   "source": [
    "plotly.offline.plot(fig)"
   ]
  },
  {
   "cell_type": "code",
   "execution_count": null,
   "id": "c0f05ad4-819f-4650-8405-5e095c843e4a",
   "metadata": {},
   "outputs": [],
   "source": []
  }
 ],
 "metadata": {
  "kernelspec": {
   "display_name": "Python 3 (ipykernel)",
   "language": "python",
   "name": "python3"
  },
  "language_info": {
   "codemirror_mode": {
    "name": "ipython",
    "version": 3
   },
   "file_extension": ".py",
   "mimetype": "text/x-python",
   "name": "python",
   "nbconvert_exporter": "python",
   "pygments_lexer": "ipython3",
   "version": "3.8.18"
  }
 },
 "nbformat": 4,
 "nbformat_minor": 5
}
