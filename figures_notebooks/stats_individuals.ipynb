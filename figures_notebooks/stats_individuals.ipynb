{
 "cells": [
  {
   "cell_type": "code",
   "execution_count": 3,
   "metadata": {},
   "outputs": [
    {
     "name": "stdout",
     "output_type": "stream",
     "text": [
      "      individual_wikidata_id  birthyear  productive_year  decade  \\\n",
      "28104                Q538902     1000.0           1035.0    1040   \n",
      "28105                Q538902     1000.0           1035.0    1040   \n",
      "\n",
      "         individual_name  score       region_code    region_name  \n",
      "28104  Abu-Mansur Daqiqi     17   re_muslim_world   Muslim world  \n",
      "28105  Abu-Mansur Daqiqi     17  re_persian_world  Persian world  \n",
      "0.5144766146993318\n"
     ]
    }
   ],
   "source": [
    "import pandas as pd\n",
    "\n",
    "data = pd.read_csv('../immaterial_index/results/df_individuals_score.csv', index_col = [0])\n",
    "print(data[data['individual_wikidata_id']=='Q538902'])\n",
    "\n",
    "region_name =  \"Latin World\"\n",
    "min_date = -800\n",
    "max_date = 1800\n",
    "\n",
    "data = data[data['region_name']==region_name]\n",
    "data = data[(data['productive_year']>=min_date)&(data['productive_year']<=max_date)]\n",
    "\n",
    "filtered_birthyears = data[data['birthyear'].apply(lambda x: x % 100 == 50 or x % 100 == 0)]\n",
    "\n",
    "print(len(filtered_birthyears)/len(data))\n",
    "\n",
    "\n"
   ]
  }
 ],
 "metadata": {
  "kernelspec": {
   "display_name": ".venv",
   "language": "python",
   "name": "python3"
  },
  "language_info": {
   "codemirror_mode": {
    "name": "ipython",
    "version": 3
   },
   "file_extension": ".py",
   "mimetype": "text/x-python",
   "name": "python",
   "nbconvert_exporter": "python",
   "pygments_lexer": "ipython3",
   "version": "3.11.5"
  }
 },
 "nbformat": 4,
 "nbformat_minor": 2
}
