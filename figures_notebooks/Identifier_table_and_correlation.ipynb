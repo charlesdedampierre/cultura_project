{
 "cells": [
  {
   "cell_type": "code",
   "execution_count": 187,
   "id": "36d9f516-7ce4-4119-9f12-37cd168cc6c4",
   "metadata": {
    "tags": []
   },
   "outputs": [],
   "source": [
    "import sys\n",
    "\n",
    "sys.path.append('../')\n",
    "\n",
    "from functions_env import DB_PATH\n",
    "import sqlite3\n",
    "import pandas as pd\n",
    "import plotly.express as px\n",
    "import matplotlib.pyplot as plt\n",
    "from matplotlib_venn import venn3"
   ]
  },
  {
   "cell_type": "code",
   "execution_count": 188,
   "id": "ea32304f-34a4-40c5-89a6-36d8778f9c7f",
   "metadata": {
    "tags": []
   },
   "outputs": [],
   "source": [
    "conn = sqlite3.connect(DB_PATH)"
   ]
  },
  {
   "cell_type": "code",
   "execution_count": 189,
   "id": "d51cca0e-5d71-4327-badd-33f3a400b708",
   "metadata": {
    "tags": []
   },
   "outputs": [],
   "source": [
    "\n",
    "df_individual = pd.read_sql_query(\"SELECT * FROM individuals_main_information\", conn)\n",
    "df_individual = df_individual[['individual_wikidata_id', 'birthyear']]\n",
    "df_individual_region = pd.read_sql_query(\"SELECT * FROM individuals_regions\", conn)\n",
    "df_individual_region = df_individual_region[['individual_wikidata_id', 'region_name']].drop_duplicates()"
   ]
  },
  {
   "cell_type": "code",
   "execution_count": 190,
   "id": "f3df160f-22a5-4371-8bf0-b2dee92e520f",
   "metadata": {
    "tags": []
   },
   "outputs": [
    {
     "name": "stderr",
     "output_type": "stream",
     "text": [
      "/var/folders/lx/9b13r6ln63jb54_3xlf9b_380000gn/T/ipykernel_2150/1610848963.py:2: SettingWithCopyWarning: \n",
      "A value is trying to be set on a copy of a slice from a DataFrame\n",
      "\n",
      "See the caveats in the documentation: https://pandas.pydata.org/pandas-docs/stable/user_guide/indexing.html#returning-a-view-versus-a-copy\n",
      "  df_identifiers['country_name'][df_identifiers['country_name'].isna()]=''\n"
     ]
    }
   ],
   "source": [
    "df_identifiers = pd.read_sql_query(\"SELECT * FROM identifiers\", conn)\n",
    "df_identifiers['country_name'][df_identifiers['country_name'].isna()]=''\n",
    "df_identifiers['identifier_name'] = df_identifiers.apply(lambda x : x['identifier_name'] + ' ('  + x['country_name'] + ')' if x['country_name']!='' else x['identifier_name'], axis=1)\n",
    "df_identifiers = df_identifiers.drop(['country_wikidata_id', 'count_records', 'identifier_url'], axis=1).drop_duplicates()"
   ]
  },
  {
   "cell_type": "code",
   "execution_count": 191,
   "id": "a9213dba-45d7-46b7-8018-306ee2cb845d",
   "metadata": {
    "tags": []
   },
   "outputs": [],
   "source": [
    "df_ind_identifiers = pd.read_sql_query(\"SELECT * FROM individual_identifiers\", conn)\n",
    "df_ind_identifiers = df_ind_identifiers.drop('identifier_name', axis=1)\n",
    "df_ind_identifiers = pd.merge(df_ind_identifiers, df_identifiers, on = 'identifiers_wikidata_id', how = 'left')\n",
    "\n",
    "# Freebase is now mixed with Google ID\n",
    "df_ind_identifiers['identifier_name'][df_ind_identifiers['identifier_name']=='Freebase ID'] = 'Google Knowledge Graph ID'\n",
    "df_ind_identifiers['identifiers_wikidata_id'][df_ind_identifiers['identifiers_wikidata_id']=='P646'] = 'P2671'\n",
    "\n",
    "# Mix the two GND\n",
    "df_ind_identifiers['identifier_name'][df_ind_identifiers['identifier_name']=='Deutsche Biographie (GND) ID (Germany)'] = 'GND ID (Germany)'\n",
    "df_ind_identifiers['identifiers_wikidata_id'][df_ind_identifiers['identifiers_wikidata_id']=='P7902'] = 'P227'\n",
    "\n",
    "# Remove superceded\n",
    "df_ind_identifiers = df_ind_identifiers[~df_ind_identifiers['identifier_name'].str.contains('superceded')]\n",
    "\n",
    "df_ind_identifiers = df_ind_identifiers.drop_duplicates()\n",
    "\n",
    "df_final = pd.merge(df_individual, df_ind_identifiers, on = 'individual_wikidata_id', how = 'left')\n",
    "df_final = pd.merge(df_final, df_individual_region, on = 'individual_wikidata_id')\n"
   ]
  },
  {
   "cell_type": "code",
   "execution_count": null,
   "id": "a94636b3-efb6-4b36-954f-dfd4fdc53981",
   "metadata": {
    "tags": []
   },
   "outputs": [],
   "source": []
  },
  {
   "cell_type": "code",
   "execution_count": 192,
   "id": "c105c555-b1e1-4f53-be6f-617f0be5f9d2",
   "metadata": {
    "tags": []
   },
   "outputs": [
    {
     "data": {
      "text/plain": [
       "0.91"
      ]
     },
     "execution_count": 192,
     "metadata": {},
     "output_type": "execute_result"
    }
   ],
   "source": [
    "region_name = 'Latin World'\n",
    "min_year = -800\n",
    "max_year = 300\n",
    "\n",
    "df_country = df_final[df_final['region_name']==region_name]\n",
    "df_country = df_country[(df_country['birthyear']>=min_year)&(df_country['birthyear']<=max_year)].reset_index(drop=True)\n",
    "df_country[\"year\"] = df_country[\"birthyear\"].apply(lambda x : round(x/10)*10)\n",
    "\n",
    "top_catalogs = df_country[['individual_wikidata_id', 'identifier_name']].drop_duplicates()\n",
    "top_catalogs = top_catalogs.identifier_name.value_counts().head(20)\n",
    "top_catalogs = list(top_catalogs.index)\n",
    "\n",
    "df_country = df_country.groupby(['year', 'identifier_name'])['individual_wikidata_id'].count().reset_index()\n",
    "df_country = df_country[df_country['identifier_name'].isin(top_catalogs)]\n",
    "df_country = df_country.pivot(index = 'year', columns = 'identifier_name', values = 'individual_wikidata_id')\n",
    "df_country = df_country.reset_index()\n",
    "df_country = df_country.sort_values('year', ascending=True)\n",
    "df_country = df_country.fillna(0)\n",
    "df_country = df_country.set_index('year')\n",
    "mean_overall_correlation = df_country.corr().stack().mean()\n",
    "round(mean_overall_correlation, 2)"
   ]
  },
  {
   "cell_type": "code",
   "execution_count": 193,
   "id": "f04b11ac-dcc6-437c-849a-4f69630b0a24",
   "metadata": {
    "tags": []
   },
   "outputs": [
    {
     "name": "stdout",
     "output_type": "stream",
     "text": [
      "1040\n"
     ]
    }
   ],
   "source": [
    "region_name = 'Greek World'\n",
    "min_year = -800\n",
    "max_year = 500\n",
    "\n",
    "df_table_1 = df_final[df_final['region_name']==region_name]\n",
    "df_table_1 = df_table_1[~df_table_1['individual_name'].isna()]\n",
    "\n",
    "# Get rid of mistakenly obejcts classifiers as humans\n",
    "df_table_1 = df_table_1[~df_table_1['individual_name'].str.contains('Painter')]\n",
    "\n",
    "\n",
    "df_table_1 = df_table_1.dropna()\n",
    "df_table_1 = df_table_1[(df_table_1['birthyear']>=min_year)&(df_table_1['birthyear']<=max_year)].reset_index(drop=True)\n",
    "df_filter = df_table_1[['individual_wikidata_id', 'identifier_name']].drop_duplicates()\n",
    "df_filter['identifier_name'] = df_filter['identifier_name'].astype(str)\n",
    "df_filter = df_filter[~df_filter['identifier_name'].str.contains('superceded')]\n",
    "df_filter[df_filter['identifier_name']=='Deutsche Biographie (GND) ID (Germany)'] = 'GND ID (Germany)'\n",
    "df_filter = df_filter.drop_duplicates()\n",
    "top_catalogs_1 = df_filter.identifier_name.value_counts().head(20).reset_index()\n",
    "#top_catalogs_1['region'] = 'Latin World'\n",
    "top_catalogs_1['percent_of_total'] = top_catalogs_1['identifier_name']/len(set(df_table_1.individual_wikidata_id))\n",
    "top_catalogs_1['percent_of_total'] = round(top_catalogs_1['percent_of_total'], 2)\n",
    "top_catalogs_1.columns = ['catalog', 'number of individuals', '% of individuals']\n",
    "top_catalogs_1.to_clipboard(index=False)\n",
    "print(len(set(df_table_1.individual_wikidata_id)))"
   ]
  },
  {
   "cell_type": "code",
   "execution_count": 194,
   "id": "b737a261-d328-439d-8b2b-e2a3a6dc9c20",
   "metadata": {
    "tags": []
   },
   "outputs": [
    {
     "name": "stdout",
     "output_type": "stream",
     "text": [
      "422\n"
     ]
    }
   ],
   "source": [
    "region_name = 'Latin World'\n",
    "min_year = -300\n",
    "max_year = 500\n",
    "\n",
    "df_table_1 = df_final[df_final['region_name']==region_name]\n",
    "df_table_1 = df_table_1[(df_table_1['birthyear']>=min_year)&(df_table_1['birthyear']<=max_year)].reset_index(drop=True)\n",
    "df_filter = df_table_1[['individual_wikidata_id', 'identifier_name']].drop_duplicates()\n",
    "df_filter['identifier_name'] = df_filter['identifier_name'].astype(str)\n",
    "df_filter = df_filter[~df_filter['identifier_name'].str.contains('superceded')]\n",
    "df_filter[df_filter['identifier_name']=='Deutsche Biographie (GND) ID (Germany)'] = 'GND ID (Germany)'\n",
    "df_filter = df_filter.drop_duplicates()\n",
    "top_catalogs_2 = df_filter.identifier_name.value_counts().head(20).reset_index()\n",
    "#top_catalogs_1['region'] = 'Latin World'\n",
    "top_catalogs_2['percent_of_total'] = top_catalogs_2['identifier_name']/len(set(df_table_1.individual_wikidata_id))\n",
    "top_catalogs_2['percent_of_total'] = round(top_catalogs_2['percent_of_total'], 2)\n",
    "top_catalogs_2.columns = ['catalog', 'number of individuals', '% of individuals']\n",
    "top_catalogs_2.to_clipboard(index=False)\n",
    "print(len(set(df_table_1.individual_wikidata_id)))"
   ]
  },
  {
   "cell_type": "code",
   "execution_count": 195,
   "id": "8232ce95-2f4b-45c6-95fe-724aea7f3cbb",
   "metadata": {
    "tags": []
   },
   "outputs": [],
   "source": [
    "final_catalog = pd.merge(top_catalogs_1, top_catalogs_2, on = 'catalog')\n",
    "final_catalog.to_clipboard(index=False)"
   ]
  },
  {
   "cell_type": "code",
   "execution_count": null,
   "id": "f24c408f-bea1-4ed9-ac01-4a953a99348b",
   "metadata": {},
   "outputs": [],
   "source": []
  },
  {
   "cell_type": "code",
   "execution_count": null,
   "id": "69af6f4b-e911-4d0e-aee3-f1f21cc5cdff",
   "metadata": {},
   "outputs": [],
   "source": []
  },
  {
   "cell_type": "code",
   "execution_count": null,
   "id": "881d647b-c5f7-4ec6-a442-4eb7ffed81ed",
   "metadata": {},
   "outputs": [],
   "source": []
  }
 ],
 "metadata": {
  "kernelspec": {
   "display_name": "Python 3 (ipykernel)",
   "language": "python",
   "name": "python3"
  },
  "language_info": {
   "codemirror_mode": {
    "name": "ipython",
    "version": 3
   },
   "file_extension": ".py",
   "mimetype": "text/x-python",
   "name": "python",
   "nbconvert_exporter": "python",
   "pygments_lexer": "ipython3",
   "version": "3.8.18"
  }
 },
 "nbformat": 4,
 "nbformat_minor": 5
}
