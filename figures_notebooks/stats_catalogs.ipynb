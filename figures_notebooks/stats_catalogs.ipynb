{
 "cells": [
  {
   "cell_type": "code",
   "execution_count": 1,
   "id": "d441781a-5e58-44aa-a30f-caf5722c9110",
   "metadata": {
    "tags": []
   },
   "outputs": [],
   "source": [
    "import sqlite3\n",
    "import pandas as pd\n",
    "import plotly.express as px\n",
    "import sys\n",
    "from plotly.subplots import make_subplots\n",
    "import plotly.graph_objects as go\n",
    "\n",
    "sys.path.append('../')\n",
    "from functions_env import DB_PATH\n",
    "\n",
    "\n",
    "conn = sqlite3.connect(DB_PATH)\n",
    "cursor = conn.cursor()"
   ]
  },
  {
   "cell_type": "code",
   "execution_count": 67,
   "id": "9df70217-5d2d-4221-ad69-f8b9f231f901",
   "metadata": {
    "tags": []
   },
   "outputs": [],
   "source": [
    "# Load individuals Main Informations\n",
    "individuals = pd.read_sql_query(\"SELECT * FROM individuals_kept\", conn)\n"
   ]
  },
  {
   "cell_type": "code",
   "execution_count": 68,
   "id": "cd39e07e-1946-4d7a-b20a-abb24bf15c7c",
   "metadata": {
    "tags": []
   },
   "outputs": [
    {
     "name": "stderr",
     "output_type": "stream",
     "text": [
      "/var/folders/lx/9b13r6ln63jb54_3xlf9b_380000gn/T/ipykernel_89703/4189010349.py:3: SettingWithCopyWarning: \n",
      "A value is trying to be set on a copy of a slice from a DataFrame\n",
      "\n",
      "See the caveats in the documentation: https://pandas.pydata.org/pandas-docs/stable/user_guide/indexing.html#returning-a-view-versus-a-copy\n",
      "  df_identifiers['country_name'][df_identifiers['country_name'].isna()]=''\n"
     ]
    }
   ],
   "source": [
    "# Load identifiers meta-data\n",
    "df_identifiers = pd.read_sql_query(\"SELECT * FROM identifiers\", conn)\n",
    "df_identifiers['country_name'][df_identifiers['country_name'].isna()]=''\n",
    "df_identifiers['identifier_name'] = df_identifiers.apply(lambda x : x['identifier_name'] + ' ('  + x['country_name'] + ')' if x['country_name']!='' else x['identifier_name'], axis=1)\n",
    "df_identifiers = df_identifiers.drop(['country_wikidata_id', 'count_records', 'identifier_url'], axis=1).drop_duplicates()\n",
    "df_identifiers = df_identifiers.drop(['country_name', 'identifier_name_country'], axis=1).drop_duplicates()"
   ]
  },
  {
   "cell_type": "code",
   "execution_count": 69,
   "id": "0723fbf5-db85-46c3-b8cc-7d1b12217169",
   "metadata": {
    "tags": []
   },
   "outputs": [],
   "source": [
    "# Load infirmation about individuals and identifiers\n",
    "df_ind_identifiers = pd.read_sql_query(\"SELECT * FROM individual_identifiers\", conn)\n",
    "df_ind_identifiers = df_ind_identifiers.drop('identifier_name', axis=1)\n",
    "df_ind_identifiers = pd.merge(df_ind_identifiers, df_identifiers, on = 'identifiers_wikidata_id', how = 'left')\n",
    "\n",
    "# Freebase is now mixed with Google ID\n",
    "df_ind_identifiers['identifier_name'][df_ind_identifiers['identifier_name']=='Freebase ID'] = 'Google Knowledge Graph ID'\n",
    "df_ind_identifiers['identifiers_wikidata_id'][df_ind_identifiers['identifiers_wikidata_id']=='P646'] = 'P2671'\n",
    "\n",
    "# Mix the two GND\n",
    "df_ind_identifiers['identifier_name'][df_ind_identifiers['identifier_name']=='Deutsche Biographie (GND) ID (Germany)'] = 'GND ID (Germany)'\n",
    "df_ind_identifiers['identifiers_wikidata_id'][df_ind_identifiers['identifiers_wikidata_id']=='P7902'] = 'P227'\n",
    "\n",
    "# Clean wrong objects\n",
    "df_ind_identifiers = df_ind_identifiers[~df_ind_identifiers['individual_name'].str.contains('Painter')]\n",
    "\n",
    "# Remove superceded\n",
    "df_ind_identifiers = df_ind_identifiers[~df_ind_identifiers['identifier_name'].str.contains('superceded')]\n",
    "df_ind_identifiers = df_ind_identifiers[~df_ind_identifiers['identifier_name'].str.contains('obsolete')]\n",
    "\n",
    "# Drop duplicated after mergeing GND and Freebase\n",
    "df_ind_identifiers = df_ind_identifiers.drop_duplicates()"
   ]
  },
  {
   "cell_type": "code",
   "execution_count": 72,
   "id": "b315f9bc-6dae-4d44-b5b7-136545d3a43c",
   "metadata": {
    "tags": []
   },
   "outputs": [],
   "source": [
    "df_final = pd.merge(df_ind_identifiers, individuals, on = 'individual_wikidata_id')\n",
    "df_stats = df_final[['individual_wikidata_id', 'identifier_name']].drop_duplicates()"
   ]
  },
  {
   "cell_type": "code",
   "execution_count": 97,
   "id": "8019da45-14ad-47aa-acf7-34b53e33d824",
   "metadata": {
    "tags": []
   },
   "outputs": [
    {
     "data": {
      "text/html": [
       "<div>\n",
       "<style scoped>\n",
       "    .dataframe tbody tr th:only-of-type {\n",
       "        vertical-align: middle;\n",
       "    }\n",
       "\n",
       "    .dataframe tbody tr th {\n",
       "        vertical-align: top;\n",
       "    }\n",
       "\n",
       "    .dataframe thead th {\n",
       "        text-align: right;\n",
       "    }\n",
       "</style>\n",
       "<table border=\"1\" class=\"dataframe\">\n",
       "  <thead>\n",
       "    <tr style=\"text-align: right;\">\n",
       "      <th></th>\n",
       "      <th>Catalog</th>\n",
       "      <th>Number of notable individuals</th>\n",
       "      <th>%</th>\n",
       "    </tr>\n",
       "  </thead>\n",
       "  <tbody>\n",
       "    <tr>\n",
       "      <th>0</th>\n",
       "      <td>VIAF ID</td>\n",
       "      <td>128048</td>\n",
       "      <td>80.9</td>\n",
       "    </tr>\n",
       "    <tr>\n",
       "      <th>1</th>\n",
       "      <td>Google Knowledge Graph ID</td>\n",
       "      <td>117874</td>\n",
       "      <td>74.4</td>\n",
       "    </tr>\n",
       "    <tr>\n",
       "      <th>2</th>\n",
       "      <td>GND ID (Germany)</td>\n",
       "      <td>94978</td>\n",
       "      <td>60.0</td>\n",
       "    </tr>\n",
       "    <tr>\n",
       "      <th>3</th>\n",
       "      <td>ISNI</td>\n",
       "      <td>92200</td>\n",
       "      <td>58.2</td>\n",
       "    </tr>\n",
       "    <tr>\n",
       "      <th>4</th>\n",
       "      <td>CERL Thesaurus ID</td>\n",
       "      <td>75089</td>\n",
       "      <td>47.4</td>\n",
       "    </tr>\n",
       "    <tr>\n",
       "      <th>5</th>\n",
       "      <td>Library of Congress authority ID (US)</td>\n",
       "      <td>68631</td>\n",
       "      <td>43.3</td>\n",
       "    </tr>\n",
       "    <tr>\n",
       "      <th>6</th>\n",
       "      <td>IdRef ID (France)</td>\n",
       "      <td>50868</td>\n",
       "      <td>32.1</td>\n",
       "    </tr>\n",
       "    <tr>\n",
       "      <th>7</th>\n",
       "      <td>Nationale Thesaurus voor Auteurs ID (Netherlands)</td>\n",
       "      <td>48340</td>\n",
       "      <td>30.5</td>\n",
       "    </tr>\n",
       "    <tr>\n",
       "      <th>8</th>\n",
       "      <td>Bibliothèque nationale de France ID (France)</td>\n",
       "      <td>48177</td>\n",
       "      <td>30.4</td>\n",
       "    </tr>\n",
       "    <tr>\n",
       "      <th>9</th>\n",
       "      <td>FAST ID</td>\n",
       "      <td>39471</td>\n",
       "      <td>24.9</td>\n",
       "    </tr>\n",
       "    <tr>\n",
       "      <th>10</th>\n",
       "      <td>Open Library ID (US)</td>\n",
       "      <td>38486</td>\n",
       "      <td>24.3</td>\n",
       "    </tr>\n",
       "    <tr>\n",
       "      <th>11</th>\n",
       "      <td>NUKAT ID (Poland)</td>\n",
       "      <td>38400</td>\n",
       "      <td>24.2</td>\n",
       "    </tr>\n",
       "    <tr>\n",
       "      <th>12</th>\n",
       "      <td>PLWABN ID (Poland)</td>\n",
       "      <td>33169</td>\n",
       "      <td>20.9</td>\n",
       "    </tr>\n",
       "    <tr>\n",
       "      <th>13</th>\n",
       "      <td>NKCR AUT ID (Czech Republic)</td>\n",
       "      <td>31192</td>\n",
       "      <td>19.7</td>\n",
       "    </tr>\n",
       "    <tr>\n",
       "      <th>14</th>\n",
       "      <td>National Library of Israel J9U ID (Israel)</td>\n",
       "      <td>30120</td>\n",
       "      <td>19.0</td>\n",
       "    </tr>\n",
       "    <tr>\n",
       "      <th>15</th>\n",
       "      <td>Union List of Artist Names ID (US)</td>\n",
       "      <td>29099</td>\n",
       "      <td>18.4</td>\n",
       "    </tr>\n",
       "    <tr>\n",
       "      <th>16</th>\n",
       "      <td>Benezit ID</td>\n",
       "      <td>27795</td>\n",
       "      <td>17.6</td>\n",
       "    </tr>\n",
       "    <tr>\n",
       "      <th>17</th>\n",
       "      <td>RKDartists ID (Netherlands)</td>\n",
       "      <td>27746</td>\n",
       "      <td>17.5</td>\n",
       "    </tr>\n",
       "    <tr>\n",
       "      <th>18</th>\n",
       "      <td>Vatican Library VcBA ID (Vatican City)</td>\n",
       "      <td>26233</td>\n",
       "      <td>16.6</td>\n",
       "    </tr>\n",
       "    <tr>\n",
       "      <th>19</th>\n",
       "      <td>Prabook ID</td>\n",
       "      <td>23651</td>\n",
       "      <td>14.9</td>\n",
       "    </tr>\n",
       "  </tbody>\n",
       "</table>\n",
       "</div>"
      ],
      "text/plain": [
       "                                              Catalog  \\\n",
       "0                                             VIAF ID   \n",
       "1                           Google Knowledge Graph ID   \n",
       "2                                    GND ID (Germany)   \n",
       "3                                                ISNI   \n",
       "4                                   CERL Thesaurus ID   \n",
       "5               Library of Congress authority ID (US)   \n",
       "6                                   IdRef ID (France)   \n",
       "7   Nationale Thesaurus voor Auteurs ID (Netherlands)   \n",
       "8        Bibliothèque nationale de France ID (France)   \n",
       "9                                             FAST ID   \n",
       "10                               Open Library ID (US)   \n",
       "11                                  NUKAT ID (Poland)   \n",
       "12                                 PLWABN ID (Poland)   \n",
       "13                       NKCR AUT ID (Czech Republic)   \n",
       "14         National Library of Israel J9U ID (Israel)   \n",
       "15                 Union List of Artist Names ID (US)   \n",
       "16                                         Benezit ID   \n",
       "17                        RKDartists ID (Netherlands)   \n",
       "18             Vatican Library VcBA ID (Vatican City)   \n",
       "19                                         Prabook ID   \n",
       "\n",
       "    Number of notable individuals     %  \n",
       "0                          128048  80.9  \n",
       "1                          117874  74.4  \n",
       "2                           94978  60.0  \n",
       "3                           92200  58.2  \n",
       "4                           75089  47.4  \n",
       "5                           68631  43.3  \n",
       "6                           50868  32.1  \n",
       "7                           48340  30.5  \n",
       "8                           48177  30.4  \n",
       "9                           39471  24.9  \n",
       "10                          38486  24.3  \n",
       "11                          38400  24.2  \n",
       "12                          33169  20.9  \n",
       "13                          31192  19.7  \n",
       "14                          30120  19.0  \n",
       "15                          29099  18.4  \n",
       "16                          27795  17.6  \n",
       "17                          27746  17.5  \n",
       "18                          26233  16.6  \n",
       "19                          23651  14.9  "
      ]
     },
     "execution_count": 97,
     "metadata": {},
     "output_type": "execute_result"
    }
   ],
   "source": [
    "# Group by 'identifier_name' and calculate the count and percentage\n",
    "grouped = df_stats.groupby('identifier_name').size().reset_index(name='count')\n",
    "grouped = grouped.sort_values('count', ascending=False).reset_index(drop=True)\n",
    "grouped['percent'] = round(grouped['count']/len(individuals)*100, 1)\n",
    "grouped.columns = ['Catalog', 'N Individuals', '%']\n",
    "\n",
    "\n",
    "\n",
    "grouped['Catalog'] = grouped['Catalog'].str.replace('United States of America', 'US')\n",
    "grouped.head(20)\n"
   ]
  },
  {
   "cell_type": "code",
   "execution_count": null,
   "id": "3a50dbbc-702f-4c20-92bc-856b6904186b",
   "metadata": {
    "tags": []
   },
   "outputs": [],
   "source": []
  },
  {
   "cell_type": "code",
   "execution_count": null,
   "id": "6e4dc290-7c2e-4d55-98eb-1e4da57f7551",
   "metadata": {
    "tags": []
   },
   "outputs": [],
   "source": []
  },
  {
   "cell_type": "code",
   "execution_count": 22,
   "id": "a11c9495-da60-484a-a716-88c1ea16187f",
   "metadata": {
    "tags": []
   },
   "outputs": [],
   "source": []
  },
  {
   "cell_type": "code",
   "execution_count": null,
   "id": "9b0602be-1999-4366-93a9-fb042c4a1d94",
   "metadata": {},
   "outputs": [],
   "source": []
  }
 ],
 "metadata": {
  "kernelspec": {
   "display_name": "Python 3 (ipykernel)",
   "language": "python",
   "name": "python3"
  },
  "language_info": {
   "codemirror_mode": {
    "name": "ipython",
    "version": 3
   },
   "file_extension": ".py",
   "mimetype": "text/x-python",
   "name": "python",
   "nbconvert_exporter": "python",
   "pygments_lexer": "ipython3",
   "version": "3.8.18"
  }
 },
 "nbformat": 4,
 "nbformat_minor": 5
}
