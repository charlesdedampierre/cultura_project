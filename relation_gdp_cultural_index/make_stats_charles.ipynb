{
 "cells": [
  {
   "cell_type": "code",
   "execution_count": 1,
   "id": "ef6e087a-be73-4dc5-857b-b7033e64c693",
   "metadata": {
    "tags": []
   },
   "outputs": [],
   "source": [
    "import pandas as pd\n",
    "import matplotlib.pyplot as plt\n",
    "import numpy as np\n",
    "\n",
    "import warnings\n",
    "\n",
    "# Ignore FutureWarning\n",
    "warnings.simplefilter(action='ignore', category=FutureWarning)\n",
    "\n",
    "\n",
    "pd.options.mode.chained_assignment = None\n",
    "\n",
    "import sqlite3\n",
    "from dotenv import load_dotenv\n",
    "\n",
    "load_dotenv()\n",
    "import os\n",
    "\n",
    "DB_PATH = os.getenv(\"DB_PATH\")\n",
    "DATA_PATH = \"data\"\n",
    "\n",
    "conn = sqlite3.connect(DB_PATH)"
   ]
  },
  {
   "cell_type": "code",
   "execution_count": 2,
   "metadata": {},
   "outputs": [
    {
     "data": {
      "text/html": [
       "<div>\n",
       "<style scoped>\n",
       "    .dataframe tbody tr th:only-of-type {\n",
       "        vertical-align: middle;\n",
       "    }\n",
       "\n",
       "    .dataframe tbody tr th {\n",
       "        vertical-align: top;\n",
       "    }\n",
       "\n",
       "    .dataframe thead th {\n",
       "        text-align: right;\n",
       "    }\n",
       "</style>\n",
       "<table border=\"1\" class=\"dataframe\">\n",
       "  <thead>\n",
       "    <tr style=\"text-align: right;\">\n",
       "      <th></th>\n",
       "      <th>region_name</th>\n",
       "      <th>decade</th>\n",
       "      <th>score</th>\n",
       "    </tr>\n",
       "  </thead>\n",
       "  <tbody>\n",
       "    <tr>\n",
       "      <th>4652</th>\n",
       "      <td>Southwestern Europe</td>\n",
       "      <td>1850</td>\n",
       "      <td>1373</td>\n",
       "    </tr>\n",
       "    <tr>\n",
       "      <th>5466</th>\n",
       "      <td>mediterranean World</td>\n",
       "      <td>1440</td>\n",
       "      <td>5</td>\n",
       "    </tr>\n",
       "    <tr>\n",
       "      <th>4265</th>\n",
       "      <td>Southern Italy</td>\n",
       "      <td>-120</td>\n",
       "      <td>4</td>\n",
       "    </tr>\n",
       "    <tr>\n",
       "      <th>3813</th>\n",
       "      <td>Portugal</td>\n",
       "      <td>1660</td>\n",
       "      <td>8</td>\n",
       "    </tr>\n",
       "    <tr>\n",
       "      <th>234</th>\n",
       "      <td>Arabic world</td>\n",
       "      <td>1490</td>\n",
       "      <td>3</td>\n",
       "    </tr>\n",
       "  </tbody>\n",
       "</table>\n",
       "</div>"
      ],
      "text/plain": [
       "              region_name  decade  score\n",
       "4652  Southwestern Europe    1850   1373\n",
       "5466  mediterranean World    1440      5\n",
       "4265       Southern Italy    -120      4\n",
       "3813             Portugal    1660      8\n",
       "234          Arabic world    1490      3"
      ]
     },
     "execution_count": 2,
     "metadata": {},
     "output_type": "execute_result"
    }
   ],
   "source": [
    "df_score_region = pd.read_csv('../immaterial_index/results/df_region_score.csv', index_col = [0])\n",
    "df_score_region.sample(5)\n"
   ]
  },
  {
   "cell_type": "code",
   "execution_count": 3,
   "id": "40ec2608-412e-4e24-80d0-801284316626",
   "metadata": {
    "tags": []
   },
   "outputs": [],
   "source": [
    "df_unseen_model = pd.read_csv('../unseen_species_model/results/estimations_charles.csv')\n",
    "df_unseen_model = df_unseen_model[df_unseen_model['decade']<=1880]\n",
    "\n",
    "df_score_region = pd.read_csv('../immaterial_index/results/df_region_score.csv', index_col=[0])\n",
    "df_score_region = df_score_region.rename(columns = {'region_name':'region'})\n",
    "\n",
    "new_df = pd.merge(df_unseen_model, df_score_region, on = ['decade', 'region'])\n",
    "new_df = new_df.rename(columns = {'region':'region_name', 'decade':'year'})\n",
    "\n",
    "#new_df['year'] = new_df['year'].astype(int)\n",
    "#new_df['year'] = new_df['year'].apply(lambda x: round(x/10)*10)\n",
    "#new_df = new_df.groupby(['region_name', 'year']).mean().reset_index()\n",
    "#new_df = new_df[new_df['year']<=1840]\n",
    "\n",
    "\n",
    "#new_df = new_df[~new_df['N_est'].isna()]\n",
    "# When there is no individuals for the 'score' index, replace by 0\n",
    "#new_df = new_df.fillna(0)\n"
   ]
  },
  {
   "cell_type": "markdown",
   "id": "b6e418d3-30f3-417b-92f1-3a00a1cd332b",
   "metadata": {},
   "source": [
    "### Load GDP and Population Data"
   ]
  },
  {
   "cell_type": "code",
   "execution_count": 4,
   "id": "6c09cb94-0bf4-4432-b4f6-9b05d23f9ee0",
   "metadata": {
    "tags": []
   },
   "outputs": [],
   "source": [
    "#df_region_code = pd.read_sql_query(\"SELECT * FROM region_code\", conn)\n",
    "df_region_code = pd.read_csv(\"../environnement_data/region_code.csv\", index_col = [0])\n",
    "\n",
    "#df_gdp = pd.read_sql_query(\"SELECT * FROM gdp\", conn)\n",
    "df_gdp = pd.read_csv(\"../environnement_data/gdp.csv\", index_col=[0])\n",
    "\n",
    "df_gdp = df_gdp.drop(['country_code_maddison'], axis=1)\n",
    "df_gdp = df_gdp[df_gdp['year']<=1880]\n",
    "df_gdp = pd.merge(df_gdp, df_region_code, on = 'region_code')\n",
    "df_gdp.sample(5)\n",
    "\n",
    "#df_gdp_clean =  pd.read_sql_query(\"SELECT * FROM gdp_clean\", conn)\n",
    "df_gdp_clean = pd.read_csv(\"../environnement_data/gdp_clean.csv\", index_col=[0])\n",
    "df_gdp_clean = pd.merge(df_gdp_clean, df_region_code, on = 'region_code')\n"
   ]
  },
  {
   "cell_type": "code",
   "execution_count": 5,
   "id": "f1c3e787-f616-4aee-8f98-f3b7d42bdbc6",
   "metadata": {
    "tags": []
   },
   "outputs": [
    {
     "data": {
      "text/html": [
       "<div>\n",
       "<style scoped>\n",
       "    .dataframe tbody tr th:only-of-type {\n",
       "        vertical-align: middle;\n",
       "    }\n",
       "\n",
       "    .dataframe tbody tr th {\n",
       "        vertical-align: top;\n",
       "    }\n",
       "\n",
       "    .dataframe thead th {\n",
       "        text-align: right;\n",
       "    }\n",
       "</style>\n",
       "<table border=\"1\" class=\"dataframe\">\n",
       "  <thead>\n",
       "    <tr style=\"text-align: right;\">\n",
       "      <th></th>\n",
       "      <th>year</th>\n",
       "      <th>population</th>\n",
       "      <th>region_name</th>\n",
       "    </tr>\n",
       "  </thead>\n",
       "  <tbody>\n",
       "    <tr>\n",
       "      <th>8435</th>\n",
       "      <td>-660</td>\n",
       "      <td>0.035000</td>\n",
       "      <td>Sweden</td>\n",
       "    </tr>\n",
       "    <tr>\n",
       "      <th>1552</th>\n",
       "      <td>920</td>\n",
       "      <td>2.728000</td>\n",
       "      <td>Central Europe</td>\n",
       "    </tr>\n",
       "    <tr>\n",
       "      <th>4588</th>\n",
       "      <td>1630</td>\n",
       "      <td>141.000000</td>\n",
       "      <td>Indian world</td>\n",
       "    </tr>\n",
       "    <tr>\n",
       "      <th>6828</th>\n",
       "      <td>-170</td>\n",
       "      <td>8.158618</td>\n",
       "      <td>Northwestern Europe</td>\n",
       "    </tr>\n",
       "    <tr>\n",
       "      <th>4770</th>\n",
       "      <td>740</td>\n",
       "      <td>0.254000</td>\n",
       "      <td>Ireland</td>\n",
       "    </tr>\n",
       "  </tbody>\n",
       "</table>\n",
       "</div>"
      ],
      "text/plain": [
       "      year  population          region_name\n",
       "8435  -660    0.035000               Sweden\n",
       "1552   920    2.728000       Central Europe\n",
       "4588  1630  141.000000         Indian world\n",
       "6828  -170    8.158618  Northwestern Europe\n",
       "4770   740    0.254000              Ireland"
      ]
     },
     "execution_count": 5,
     "metadata": {},
     "output_type": "execute_result"
    }
   ],
   "source": [
    "#df_population = pd.read_sql_query(\"SELECT * FROM population\", conn)\n",
    "df_population = pd.read_csv(\"../environnement_data/population.csv\", index_col=[0])\n",
    "\n",
    "df_population = pd.merge(df_population, df_region_code, on = 'region_code')\n",
    "df_population = df_population.drop('region_code', axis=1)\n",
    "df_population.sample(5)\n"
   ]
  },
  {
   "cell_type": "code",
   "execution_count": 6,
   "id": "7b4c8f15-ff1d-44bf-bce8-83dcec6bab0c",
   "metadata": {
    "tags": []
   },
   "outputs": [],
   "source": [
    "def interpolate_function(df, value=\"value\", category=\"region_code\", year=\"year\", size_interpolation = 10):\n",
    "    df_interpolated_list = []\n",
    "    for reg in set(df[category]):\n",
    "        res = df[df[category] == reg]\n",
    "\n",
    "        min_date = min(res[\"year\"])\n",
    "        max_date = max(res[\"year\"])\n",
    "\n",
    "        year_range = np.arange(round(min_date), round(max_date), size_interpolation)\n",
    "        df_year = pd.DataFrame(year_range, columns=[year]).reset_index(drop=True)\n",
    "\n",
    "        res = pd.merge(res, df_year, on=year, how=\"outer\")\n",
    "        res[category] = reg\n",
    "        res = res.sort_values(year, ascending=True)\n",
    "        res[f\"{value}_interpolated\"] = res[value].interpolate(method=\"linear\")\n",
    "        res = res.reset_index(drop=True)\n",
    "        res = res[~res[f\"{value}_interpolated\"].isna()]\n",
    "\n",
    "        df_interpolated_list.append(res)\n",
    "\n",
    "    df_interpolated = pd.concat([x for x in df_interpolated_list])\n",
    "    df_interpolated = df_interpolated.reset_index(drop=True)\n",
    "    df_interpolated = df_interpolated.drop(value, axis=1)\n",
    "\n",
    "    return df_interpolated\n",
    "\n",
    "df_population_interpolation = interpolate_function(df_population, \n",
    "                                                   value = 'population', \n",
    "                                                   year = 'year', \n",
    "                                                   category=\"region_name\",\n",
    "                                                   size_interpolation = 10)"
   ]
  },
  {
   "cell_type": "code",
   "execution_count": 7,
   "metadata": {},
   "outputs": [
    {
     "data": {
      "text/plain": [
       "1880"
      ]
     },
     "execution_count": 7,
     "metadata": {},
     "output_type": "execute_result"
    }
   ],
   "source": [
    "max(df_gdp.year)"
   ]
  },
  {
   "cell_type": "code",
   "execution_count": 8,
   "metadata": {},
   "outputs": [],
   "source": [
    "# Linear interpolation on the proxies in order to merge with the GDP data excatly (that are at the year level)\n",
    "\n",
    "final = pd.merge(df_population_interpolation, new_df, on = ['region_name', 'year'])\n",
    "final['score_cap'] = final['score']/final['population_interpolated']\n",
    "final['lower_cap'] = final['lower']/final['population_interpolated']\n",
    "final['N_est_cap'] = final['N_est']/final['population_interpolated']\n",
    "final['upper_cap'] = final['upper']/final['population_interpolated']\n",
    "\n",
    "data_stats = pd.merge(final, df_gdp, on = ['region_name', 'year'])\n",
    "#data_stats.to_csv(f'results/data_stats.csv')\n",
    "\n",
    "df_stats_clean = pd.merge(final, df_gdp_clean, on = ['region_name', 'year'])\n",
    "df_stats_clean.to_csv(f'results/data_stats_clean_gdp_charles.csv')"
   ]
  },
  {
   "cell_type": "code",
   "execution_count": 9,
   "metadata": {},
   "outputs": [
    {
     "data": {
      "text/html": [
       "<div>\n",
       "<style scoped>\n",
       "    .dataframe tbody tr th:only-of-type {\n",
       "        vertical-align: middle;\n",
       "    }\n",
       "\n",
       "    .dataframe tbody tr th {\n",
       "        vertical-align: top;\n",
       "    }\n",
       "\n",
       "    .dataframe thead th {\n",
       "        text-align: right;\n",
       "    }\n",
       "</style>\n",
       "<table border=\"1\" class=\"dataframe\">\n",
       "  <thead>\n",
       "    <tr style=\"text-align: right;\">\n",
       "      <th></th>\n",
       "      <th>year</th>\n",
       "      <th>region_name</th>\n",
       "      <th>population_interpolated</th>\n",
       "      <th>N_est</th>\n",
       "      <th>lower</th>\n",
       "      <th>upper</th>\n",
       "      <th>score</th>\n",
       "      <th>score_cap</th>\n",
       "      <th>lower_cap</th>\n",
       "      <th>N_est_cap</th>\n",
       "      <th>upper_cap</th>\n",
       "      <th>region_code</th>\n",
       "      <th>country_code_maddison</th>\n",
       "      <th>gdp_per_capita</th>\n",
       "    </tr>\n",
       "  </thead>\n",
       "  <tbody>\n",
       "    <tr>\n",
       "      <th>24</th>\n",
       "      <td>1830</td>\n",
       "      <td>France</td>\n",
       "      <td>33.200</td>\n",
       "      <td>9473.148243</td>\n",
       "      <td>9137.669157</td>\n",
       "      <td>9819.291895</td>\n",
       "      <td>1314</td>\n",
       "      <td>39.578313</td>\n",
       "      <td>275.230999</td>\n",
       "      <td>285.335790</td>\n",
       "      <td>295.761804</td>\n",
       "      <td>re_france</td>\n",
       "      <td>FRA</td>\n",
       "      <td>1898</td>\n",
       "    </tr>\n",
       "    <tr>\n",
       "      <th>5</th>\n",
       "      <td>1860</td>\n",
       "      <td>Nordic countries</td>\n",
       "      <td>5.568</td>\n",
       "      <td>9864.405555</td>\n",
       "      <td>9157.698755</td>\n",
       "      <td>10576.393052</td>\n",
       "      <td>896</td>\n",
       "      <td>160.919540</td>\n",
       "      <td>1644.701644</td>\n",
       "      <td>1771.624561</td>\n",
       "      <td>1899.495879</td>\n",
       "      <td>re_nordic_countries</td>\n",
       "      <td>SWE</td>\n",
       "      <td>1941</td>\n",
       "    </tr>\n",
       "    <tr>\n",
       "      <th>13</th>\n",
       "      <td>1860</td>\n",
       "      <td>United Kingdom</td>\n",
       "      <td>24.300</td>\n",
       "      <td>12655.413433</td>\n",
       "      <td>12110.796830</td>\n",
       "      <td>13214.802307</td>\n",
       "      <td>1846</td>\n",
       "      <td>75.967078</td>\n",
       "      <td>498.386701</td>\n",
       "      <td>520.798907</td>\n",
       "      <td>543.819025</td>\n",
       "      <td>re_united_kingdom</td>\n",
       "      <td>GBR</td>\n",
       "      <td>5086</td>\n",
       "    </tr>\n",
       "    <tr>\n",
       "      <th>14</th>\n",
       "      <td>1870</td>\n",
       "      <td>United Kingdom</td>\n",
       "      <td>27.600</td>\n",
       "      <td>10072.588618</td>\n",
       "      <td>9622.137302</td>\n",
       "      <td>10531.236925</td>\n",
       "      <td>1457</td>\n",
       "      <td>52.789855</td>\n",
       "      <td>348.628163</td>\n",
       "      <td>364.948863</td>\n",
       "      <td>381.566555</td>\n",
       "      <td>re_united_kingdom</td>\n",
       "      <td>GBR</td>\n",
       "      <td>5829</td>\n",
       "    </tr>\n",
       "    <tr>\n",
       "      <th>44</th>\n",
       "      <td>1880</td>\n",
       "      <td>Eastern Europe</td>\n",
       "      <td>54.300</td>\n",
       "      <td>75573.125713</td>\n",
       "      <td>70854.394116</td>\n",
       "      <td>80385.546585</td>\n",
       "      <td>3748</td>\n",
       "      <td>69.023941</td>\n",
       "      <td>1304.869137</td>\n",
       "      <td>1391.770271</td>\n",
       "      <td>1480.396806</td>\n",
       "      <td>re_eastern_europe</td>\n",
       "      <td>POL</td>\n",
       "      <td>1886</td>\n",
       "    </tr>\n",
       "  </tbody>\n",
       "</table>\n",
       "</div>"
      ],
      "text/plain": [
       "    year       region_name  population_interpolated         N_est  \\\n",
       "24  1830            France                   33.200   9473.148243   \n",
       "5   1860  Nordic countries                    5.568   9864.405555   \n",
       "13  1860    United Kingdom                   24.300  12655.413433   \n",
       "14  1870    United Kingdom                   27.600  10072.588618   \n",
       "44  1880    Eastern Europe                   54.300  75573.125713   \n",
       "\n",
       "           lower         upper  score   score_cap    lower_cap    N_est_cap  \\\n",
       "24   9137.669157   9819.291895   1314   39.578313   275.230999   285.335790   \n",
       "5    9157.698755  10576.393052    896  160.919540  1644.701644  1771.624561   \n",
       "13  12110.796830  13214.802307   1846   75.967078   498.386701   520.798907   \n",
       "14   9622.137302  10531.236925   1457   52.789855   348.628163   364.948863   \n",
       "44  70854.394116  80385.546585   3748   69.023941  1304.869137  1391.770271   \n",
       "\n",
       "      upper_cap          region_code country_code_maddison  gdp_per_capita  \n",
       "24   295.761804            re_france                   FRA            1898  \n",
       "5   1899.495879  re_nordic_countries                   SWE            1941  \n",
       "13   543.819025    re_united_kingdom                   GBR            5086  \n",
       "14   381.566555    re_united_kingdom                   GBR            5829  \n",
       "44  1480.396806    re_eastern_europe                   POL            1886  "
      ]
     },
     "execution_count": 9,
     "metadata": {},
     "output_type": "execute_result"
    }
   ],
   "source": [
    "df_stats_clean.sample(5)"
   ]
  },
  {
   "cell_type": "code",
   "execution_count": 10,
   "id": "f7361855-aed8-4132-aeb7-eadab425f8ff",
   "metadata": {
    "tags": []
   },
   "outputs": [
    {
     "name": "stdout",
     "output_type": "stream",
     "text": [
      "2080\n"
     ]
    }
   ],
   "source": [
    "years = np.arange(-1000, 1881, 1)\n",
    "\n",
    "print(len(final))\n",
    "\n",
    "concat_list = []\n",
    "\n",
    "for region in final.region_name.unique():\n",
    "    df_years = pd.DataFrame(years, columns = ['year'])\n",
    "    df_years['region_name'] = region\n",
    "    \n",
    "    final_filtered = final[final['region_name']==region]\n",
    "    mix = pd.merge(df_years, final_filtered, on = ['year', 'region_name'], how = 'outer')\n",
    "    concat_list.append(mix)\n",
    "    \n",
    "new_final = pd.concat(concat_list)\n",
    "new_final = new_final.sort_values(['region_name', 'year'])\n",
    "\n",
    "new_final = new_final.set_index('year')\n",
    "grouped = new_final.groupby('region_name')\n",
    "\n",
    "interpolated_data = []\n",
    "for name, group in grouped:\n",
    "    interpolated_group = group.interpolate(method='linear')\n",
    "    interpolated_data.append(interpolated_group)\n",
    "\n",
    "# Concatenate the interpolated data for all regions\n",
    "interpolated_df = pd.concat(interpolated_data)\n",
    "\n",
    "# Reset the index to restore the 'year' column\n",
    "interpolated_df = interpolated_df.reset_index()\n",
    "interpolated_df = interpolated_df.drop_duplicates().dropna().reset_index(drop=True)"
   ]
  },
  {
   "cell_type": "code",
   "execution_count": 11,
   "metadata": {},
   "outputs": [],
   "source": [
    "data_stats_interpolated = pd.merge(interpolated_df, df_gdp, on = ['region_name', 'year'])\n",
    "data_stats_interpolated = data_stats_interpolated.reset_index(drop=True)\n",
    "#data_stats_interpolated.to_csv(f'results/data_stats_interpolated.csv')\n",
    "\n",
    "data_stats_interpolated_clean_gdp = pd.merge(interpolated_df, df_gdp_clean, on = ['region_name', 'year'])\n",
    "data_stats_interpolated_clean_gdp = data_stats_interpolated_clean_gdp.reset_index(drop=True)\n",
    "#data_stats_interpolated_clean_gdp.to_csv(f'results/data_stats_interpolated_clean_gdp.csv')"
   ]
  },
  {
   "cell_type": "code",
   "execution_count": 12,
   "metadata": {},
   "outputs": [
    {
     "data": {
      "text/plain": [
       "1880"
      ]
     },
     "execution_count": 12,
     "metadata": {},
     "output_type": "execute_result"
    }
   ],
   "source": [
    "max(data_stats_interpolated.year)"
   ]
  }
 ],
 "metadata": {
  "kernelspec": {
   "display_name": "Python 3 (ipykernel)",
   "language": "python",
   "name": "python3"
  },
  "language_info": {
   "codemirror_mode": {
    "name": "ipython",
    "version": 3
   },
   "file_extension": ".py",
   "mimetype": "text/x-python",
   "name": "python",
   "nbconvert_exporter": "python",
   "pygments_lexer": "ipython3",
   "version": "3.11.5"
  }
 },
 "nbformat": 4,
 "nbformat_minor": 5
}
