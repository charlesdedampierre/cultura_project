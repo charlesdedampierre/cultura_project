{
 "cells": [
  {
   "cell_type": "code",
   "execution_count": 1,
   "metadata": {},
   "outputs": [
    {
     "data": {
      "text/plain": [
       "region_name\n",
       "Greek World         14\n",
       "United Kingdom      14\n",
       "Chinese world       12\n",
       "France              12\n",
       "Nordic countries    12\n",
       "Spain               12\n",
       "Low countries       11\n",
       "Italy                9\n",
       "Japan                9\n",
       "German world         8\n",
       "Arabic world         7\n",
       "Portugal             7\n",
       "Indian world         6\n",
       "Korea                2\n",
       "Persian world        2\n",
       "Name: count, dtype: int64"
      ]
     },
     "execution_count": 1,
     "metadata": {},
     "output_type": "execute_result"
    }
   ],
   "source": [
    "import pandas as pd\n",
    "granularity = 50\n",
    "\n",
    "if granularity == 50:\n",
    "\n",
    "    df_gdp = pd.read_csv(\"../gdp_analysis/results/gdp_weighted_pop_fifty.csv\")\n",
    "    df_gdp = df_gdp.rename(columns={\"region\": \"region_name\"})\n",
    "\n",
    "    #df_cultura = pd.read_csv(\"../unseen_species_model/results/occupation/raw_results.csv\", index_col = [0])\n",
    "    df_cultura = pd.read_csv(\"../unseen_species_model/results_50/raw_results.csv\", index_col = [0])\n",
    "\n",
    "elif granularity == 10:\n",
    "\n",
    "    df_gdp = pd.read_csv(\"../gdp_analysis/results/gdp_weighted_pop_decade.csv\")\n",
    "    df_gdp = df_gdp.rename(columns={\"region\": \"region_name\"})\n",
    "\n",
    "    df_cultura = pd.read_csv(\"../unseen_species_model/results_10/raw_results.csv\", index_col = [0])\n",
    "\n",
    "\n",
    "df_cultura['N_est'] = df_cultura['f0'] + df_cultura['f1'] + df_cultura['f2']# plus the individual\n",
    "df_cultura = df_cultura.groupby(['region_name', 'decade']).agg({'N_est': 'sum', 'individual_wikidata_id':'count'}).reset_index()\n",
    "df_cultura = df_cultura.rename(columns={\"individual_wikidata_id\": \"score\"})\n",
    "df_cultura['survival_ratio'] = df_cultura['score']/df_cultura['N_est']\n",
    "\n",
    "df = pd.merge(df_gdp, df_cultura, on = ['region_name', 'decade'])\n",
    "df = df.rename(columns = {'decade': 'year', 'gdp_pc_weighted':'gdp_per_capita'})\n",
    "df['score_cap'] = df['score']/df['pop']\n",
    "df['N_est_cap'] = df['N_est']/df['pop']\n",
    "    \n",
    "if granularity == 10:\n",
    "    df = df[df['year']>=1800]\n",
    "\n",
    "list(set(df.region_name))\n",
    "df.region_name.value_counts()"
   ]
  },
  {
   "cell_type": "code",
   "execution_count": null,
   "metadata": {},
   "outputs": [],
   "source": [
    "df_norm = df[['region_name', 'year', 'gdp_per_capita', 'N_est']].copy()"
   ]
  },
  {
   "cell_type": "code",
   "execution_count": 3,
   "metadata": {},
   "outputs": [
    {
     "data": {
      "text/plain": [
       "{'Arabic world',\n",
       " 'Chinese world',\n",
       " 'France',\n",
       " 'German world',\n",
       " 'Greek World',\n",
       " 'Indian world',\n",
       " 'Italy',\n",
       " 'Japan',\n",
       " 'Korea',\n",
       " 'Low countries',\n",
       " 'Nordic countries',\n",
       " 'Persian world',\n",
       " 'Portugal',\n",
       " 'Spain',\n",
       " 'United Kingdom'}"
      ]
     },
     "execution_count": 3,
     "metadata": {},
     "output_type": "execute_result"
    }
   ],
   "source": [
    "\n",
    "\n",
    "\n",
    "df_1850 = df_norm[df_norm['year']==1850]\n",
    "df_1850 = df_1850.rename(columns = {'gdp_per_capita': 'gdp_per_capita_1850'})\n",
    "df_1850 = df_1850.drop(columns = ['N_est', 'year'])\n",
    "\n",
    "df_norm = pd.merge(df_norm, df_1850, on = ['region_name'])\n",
    "df_norm['N_est_norm'] = df_norm['N_est']/df_norm['gdp_per_capita_1850']\n",
    "\n",
    "set(df_norm.region_name)"
   ]
  },
  {
   "cell_type": "code",
   "execution_count": null,
   "metadata": {},
   "outputs": [],
   "source": []
  }
 ],
 "metadata": {
  "kernelspec": {
   "display_name": ".venv",
   "language": "python",
   "name": "python3"
  },
  "language_info": {
   "codemirror_mode": {
    "name": "ipython",
    "version": 3
   },
   "file_extension": ".py",
   "mimetype": "text/x-python",
   "name": "python",
   "nbconvert_exporter": "python",
   "pygments_lexer": "ipython3",
   "version": "3.11.7"
  }
 },
 "nbformat": 4,
 "nbformat_minor": 2
}
