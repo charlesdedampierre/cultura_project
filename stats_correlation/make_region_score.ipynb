{
 "cells": [
  {
   "cell_type": "markdown",
   "id": "03e94bd1-2052-4819-ad35-5b6c4825f744",
   "metadata": {},
   "source": [
    "We charge the sqlite3 Database"
   ]
  },
  {
   "cell_type": "code",
   "execution_count": 50,
   "id": "8f696190-3c1c-406b-ad2a-257644f21534",
   "metadata": {
    "tags": []
   },
   "outputs": [],
   "source": [
    "import sys\n",
    "\n",
    "sys.path.append(\"../\")\n",
    "\n",
    "import pandas as pd\n",
    "import numpy as np\n",
    "\n",
    "from dotenv import load_dotenv\n",
    "\n",
    "load_dotenv()\n",
    "import os\n",
    "\n",
    "import sqlite3\n",
    "\n",
    "DB_PATH = os.getenv(\"DB_PATH\")\n",
    "DATA_PATH = \"data\"\n",
    "\n",
    "conn = sqlite3.connect(DB_PATH)\n",
    "\n",
    "import numpy as np"
   ]
  },
  {
   "cell_type": "markdown",
   "id": "4570023e-bd1f-4117-91a1-e4da5dd67be0",
   "metadata": {},
   "source": [
    "We get the number of individuals per region (with at least one information in the catalogs of one country)"
   ]
  },
  {
   "cell_type": "code",
   "execution_count": 51,
   "id": "201f321f-2988-4547-b2b6-4416f62fa5ef",
   "metadata": {
    "tags": []
   },
   "outputs": [
    {
     "data": {
      "text/plain": [
       "5363"
      ]
     },
     "execution_count": 51,
     "metadata": {},
     "output_type": "execute_result"
    }
   ],
   "source": [
    "# Individuals Regions\n",
    "df_ind_regions = pd.read_sql_query(\"SELECT * FROM individuals_regions\", conn)\n",
    "\n",
    "# Years\n",
    "df_ind = pd.read_sql_query(\"SELECT * FROM individuals_main_information\", conn)\n",
    "df_ind_year = df_ind[[\"individual_wikidata_id\", \"birthyear\"]].drop_duplicates()\n",
    "df_ind_year = df_ind_year.dropna()\n",
    "#df_ind_year = df_ind_year[df_ind_year['decade']<=1800]\n",
    "\n",
    "temporal_resolution = 10\n",
    "df_ind_year[\"decade\"] = df_ind_year[\"birthyear\"].apply(lambda x: round(x / temporal_resolution) * temporal_resolution)\n",
    "\n",
    "# Load Catalogs Informations\n",
    "df_catalogs_id = pd.read_sql_query(\"SELECT * FROM individual_identifiers\", conn)\n",
    "df_catalogs = pd.read_sql_query(\"SELECT * FROM identifiers\", conn)\n",
    "df_catalogs = df_catalogs[['identifiers_wikidata_id', 'country_name']].dropna()\n",
    "\n",
    "df_cat = pd.merge(df_catalogs_id, df_catalogs, on = 'identifiers_wikidata_id')\n",
    "df_cat_filtered = df_cat[['individual_wikidata_id','individual_name', 'country_name']].drop_duplicates()\n",
    "df_cat_country = df_cat_filtered.groupby(['individual_name', 'individual_wikidata_id'])['country_name'].count().rename('score').reset_index()\n",
    "df_cat_country = df_cat_country.sort_values('score', ascending=False).reset_index(drop=True)\n",
    "\n",
    "df = pd.merge(df_ind_regions,df_ind_year, on = 'individual_wikidata_id')\n",
    "df = pd.merge(df, df_cat_country, on = 'individual_wikidata_id')\n",
    "\n",
    "df_final = df[['individual_wikidata_id', 'region_name', 'decade']].drop_duplicates()\n",
    "df_final['score'] = 1\n",
    "df_final = df_final.groupby(['region_name', 'decade'])['score'].sum().reset_index()\n",
    "df_final.to_sql('region_score',conn, if_exists = 'replace', index=False)"
   ]
  },
  {
   "cell_type": "markdown",
   "id": "8e4e519e-6217-4cc0-aef0-7e0a150146bb",
   "metadata": {},
   "source": [
    "Plot the different trends"
   ]
  },
  {
   "cell_type": "code",
   "execution_count": 52,
   "id": "9f120382-b9b0-4cb0-af32-357a1b12face",
   "metadata": {
    "tags": []
   },
   "outputs": [
    {
     "data": {
      "text/plain": [
       "\"\\n\\nimport pandas as pd\\nimport matplotlib.pyplot as plt\\n\\n# Assuming you have a DataFrame called df\\n# Replace 'df' with your actual DataFrame name\\n\\n# Get unique regions (countries)\\nunique_regions = df_final['region_name'].unique()\\n\\n# Loop through each region and create a line plot\\nfor region in unique_regions:\\n    region_data = df_final[df_final['region_name'] == region]\\n    region_data = region_data[region_data['decade']<1850]\\n\\n    plt.figure(figsize=(8, 4))\\n    plt.plot(region_data['decade'], region_data['score'])\\n    plt.title(f'Score Over Decades for {region}')\\n    plt.xlabel('Decade')\\n    plt.ylabel('Score')\\n    plt.grid(True)\\n    plt.show()\\n    \\n\""
      ]
     },
     "execution_count": 52,
     "metadata": {},
     "output_type": "execute_result"
    }
   ],
   "source": [
    "\"\"\"\n",
    "\n",
    "import pandas as pd\n",
    "import matplotlib.pyplot as plt\n",
    "\n",
    "# Assuming you have a DataFrame called df\n",
    "# Replace 'df' with your actual DataFrame name\n",
    "\n",
    "# Get unique regions (countries)\n",
    "unique_regions = df_final['region_name'].unique()\n",
    "\n",
    "# Loop through each region and create a line plot\n",
    "for region in unique_regions:\n",
    "    region_data = df_final[df_final['region_name'] == region]\n",
    "    region_data = region_data[region_data['decade']<1850]\n",
    "\n",
    "    plt.figure(figsize=(8, 4))\n",
    "    plt.plot(region_data['decade'], region_data['score'])\n",
    "    plt.title(f'Score Over Decades for {region}')\n",
    "    plt.xlabel('Decade')\n",
    "    plt.ylabel('Score')\n",
    "    plt.grid(True)\n",
    "    plt.show()\n",
    "    \n",
    "\"\"\"\n"
   ]
  },
  {
   "cell_type": "markdown",
   "id": "8d639c74-8ff7-4a40-89d4-33d756ad99b6",
   "metadata": {},
   "source": [
    "Only subset the top 50% individuals in terms of number of references in international catalogs"
   ]
  },
  {
   "cell_type": "code",
   "execution_count": 58,
   "id": "fc744811-b4fe-46e1-8f8d-33b2177575aa",
   "metadata": {
    "tags": []
   },
   "outputs": [
    {
     "name": "stdout",
     "output_type": "stream",
     "text": [
      "1     0.121739\n",
      "2     0.280428\n",
      "3     0.389469\n",
      "4     0.472690\n",
      "5     0.540014\n",
      "6     0.594747\n",
      "7     0.640916\n",
      "8     0.680669\n",
      "9     0.714042\n",
      "10    0.743381\n",
      "11    0.769292\n",
      "12    0.792272\n",
      "13    0.811567\n",
      "14    0.828863\n",
      "15    0.844627\n",
      "16    0.859068\n",
      "17    0.871101\n",
      "18    0.882073\n",
      "19    0.892051\n",
      "20    0.900430\n",
      "Name: identifiers_wikidata_id, dtype: float64\n"
     ]
    }
   ],
   "source": [
    "df_count_cat = df_cat[['individual_wikidata_id', 'identifiers_wikidata_id']].drop_duplicates()\n",
    "df_count_cat = df_count_cat.groupby('individual_wikidata_id')['identifiers_wikidata_id'].count().reset_index()\n",
    "value_counts_normalized = df_count_cat['identifiers_wikidata_id'].value_counts(normalize=True).sort_index()\n",
    "cumulative_sum = value_counts_normalized.cumsum()\n",
    "print(cumulative_sum.head(20))"
   ]
  },
  {
   "cell_type": "markdown",
   "id": "8f3cbb7a-75d3-44da-a79a-d5beeedabca7",
   "metadata": {
    "tags": []
   },
   "source": [
    "We note that if we take indiviudals with at least 5 mention in catalogs, we remove 55% of the data"
   ]
  },
  {
   "cell_type": "code",
   "execution_count": null,
   "id": "feceac61-40eb-4be0-bed2-cc9b537d0d3f",
   "metadata": {
    "tags": []
   },
   "outputs": [],
   "source": []
  },
  {
   "cell_type": "code",
   "execution_count": 59,
   "id": "ff8fe6d3-25a2-4d2f-a922-db8e0a697bf9",
   "metadata": {
    "tags": []
   },
   "outputs": [],
   "source": [
    "df_top = df_count_cat[df_count_cat['identifiers_wikidata_id']>20]\n",
    "df_top = pd.merge(df_top,df_ind_year, on = 'individual_wikidata_id')\n",
    "df_top = pd.merge(df_top, df_ind_regions, on = 'individual_wikidata_id')\n",
    "\n",
    "# We remove data before 1850 because we round data at the decade and the max birthyear we have is 1850. \n",
    "# 1850 rounded will be lower than 1840 because 1851, 1852, 1853 and 1854 will not be taken into account in the score\n",
    "df_top = df_top[df_top['decade']<1850]"
   ]
  },
  {
   "cell_type": "markdown",
   "id": "7139f320-2b85-48ed-b895-c3d743ebe977",
   "metadata": {},
   "source": [
    "Then we sum the number of individuals for every region only taking the top 50% individuals"
   ]
  },
  {
   "cell_type": "code",
   "execution_count": 60,
   "id": "1927a42c-38e0-4878-985c-0c914bfa6695",
   "metadata": {
    "tags": []
   },
   "outputs": [
    {
     "data": {
      "text/plain": [
       "3530"
      ]
     },
     "execution_count": 60,
     "metadata": {},
     "output_type": "execute_result"
    }
   ],
   "source": [
    "df_final_top = df_top[['individual_wikidata_id', 'region_name', 'decade']].drop_duplicates()\n",
    "df_final_top = df_final_top.groupby(['region_name', 'decade'])['individual_wikidata_id'].count().rename('score').reset_index()\n",
    "df_final_top.to_sql('region_score_top_10',conn, if_exists = 'replace', index=False)"
   ]
  },
  {
   "cell_type": "code",
   "execution_count": null,
   "id": "c343bdf8-e9d6-4792-91eb-eaa744652b26",
   "metadata": {},
   "outputs": [],
   "source": []
  },
  {
   "cell_type": "markdown",
   "id": "c114e836-c1a3-468f-96f5-1e0cf18432b9",
   "metadata": {},
   "source": [
    "Plot the results"
   ]
  },
  {
   "cell_type": "code",
   "execution_count": 56,
   "id": "f2c2cbb9-c707-4c1d-93a6-505c74ffb810",
   "metadata": {
    "tags": []
   },
   "outputs": [
    {
     "data": {
      "text/plain": [
       "\"\\n\\nimport pandas as pd\\nimport matplotlib.pyplot as plt\\n\\n# Get unique regions (countries)\\nunique_regions = df_final_top['region_name'].unique()\\n\\n# Loop through each region and create a line plot\\nfor region in unique_regions:\\n    region_data = df_final_top[df_final_top['region_name'] == region]\\n    region_data = region_data[region_data['decade']<1850]\\n\\n    plt.figure(figsize=(8, 4))\\n    plt.plot(region_data['decade'], region_data['score'])\\n    plt.title(f'Score Over Decades for {region}')\\n    plt.xlabel('Decade')\\n    plt.ylabel('Score')\\n    plt.grid(True)\\n    plt.show()\\n    \\n\""
      ]
     },
     "execution_count": 56,
     "metadata": {},
     "output_type": "execute_result"
    }
   ],
   "source": [
    "'''\n",
    "\n",
    "import pandas as pd\n",
    "import matplotlib.pyplot as plt\n",
    "\n",
    "# Get unique regions (countries)\n",
    "unique_regions = df_final_top['region_name'].unique()\n",
    "\n",
    "# Loop through each region and create a line plot\n",
    "for region in unique_regions:\n",
    "    region_data = df_final_top[df_final_top['region_name'] == region]\n",
    "    region_data = region_data[region_data['decade']<1850]\n",
    "\n",
    "    plt.figure(figsize=(8, 4))\n",
    "    plt.plot(region_data['decade'], region_data['score'])\n",
    "    plt.title(f'Score Over Decades for {region}')\n",
    "    plt.xlabel('Decade')\n",
    "    plt.ylabel('Score')\n",
    "    plt.grid(True)\n",
    "    plt.show()\n",
    "    \n",
    "'''"
   ]
  },
  {
   "cell_type": "code",
   "execution_count": null,
   "id": "dd1a5631-c746-4952-9684-e5cf36598876",
   "metadata": {},
   "outputs": [],
   "source": []
  },
  {
   "cell_type": "code",
   "execution_count": null,
   "id": "d8a05098-642b-40ea-83ce-354aeb70f2a6",
   "metadata": {
    "tags": []
   },
   "outputs": [],
   "source": [
    "\n"
   ]
  }
 ],
 "metadata": {
  "kernelspec": {
   "display_name": "Python 3 (ipykernel)",
   "language": "python",
   "name": "python3"
  },
  "language_info": {
   "codemirror_mode": {
    "name": "ipython",
    "version": 3
   },
   "file_extension": ".py",
   "mimetype": "text/x-python",
   "name": "python",
   "nbconvert_exporter": "python",
   "pygments_lexer": "ipython3",
   "version": "3.8.18"
  }
 },
 "nbformat": 4,
 "nbformat_minor": 5
}
