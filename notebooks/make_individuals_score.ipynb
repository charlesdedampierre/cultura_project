{
 "cells": [
  {
   "cell_type": "code",
   "execution_count": 2,
   "id": "d5d2810d-0dd2-4485-a4b6-fd1b4d0ee6d5",
   "metadata": {
    "tags": []
   },
   "outputs": [],
   "source": [
    "import sys\n",
    "\n",
    "sys.path.append(\"../\")\n",
    "\n",
    "import numpy as np\n",
    "import pandas as pd\n",
    "from dotenv import load_dotenv\n",
    "\n",
    "load_dotenv()\n",
    "import os\n",
    "import sqlite3\n",
    "\n",
    "DB_PATH = os.getenv(\"DB_PATH\")\n",
    "\n",
    "conn = sqlite3.connect(DB_PATH)"
   ]
  },
  {
   "cell_type": "code",
   "execution_count": 33,
   "id": "dbbf18b6-b62f-4cdd-bd85-9bad4dd9a9f3",
   "metadata": {
    "tags": []
   },
   "outputs": [
    {
     "data": {
      "text/html": [
       "<div>\n",
       "<style scoped>\n",
       "    .dataframe tbody tr th:only-of-type {\n",
       "        vertical-align: middle;\n",
       "    }\n",
       "\n",
       "    .dataframe tbody tr th {\n",
       "        vertical-align: top;\n",
       "    }\n",
       "\n",
       "    .dataframe thead th {\n",
       "        text-align: right;\n",
       "    }\n",
       "</style>\n",
       "<table border=\"1\" class=\"dataframe\">\n",
       "  <thead>\n",
       "    <tr style=\"text-align: right;\">\n",
       "      <th></th>\n",
       "      <th>individual_wikidata_id</th>\n",
       "      <th>birthyear</th>\n",
       "      <th>decade</th>\n",
       "      <th>individual_name</th>\n",
       "      <th>score</th>\n",
       "    </tr>\n",
       "  </thead>\n",
       "  <tbody>\n",
       "    <tr>\n",
       "      <th>0</th>\n",
       "      <td>Q6121397</td>\n",
       "      <td>1841.0</td>\n",
       "      <td>1840</td>\n",
       "      <td>Santos Domínguez y Benguria</td>\n",
       "      <td>1</td>\n",
       "    </tr>\n",
       "    <tr>\n",
       "      <th>1</th>\n",
       "      <td>Q55696859</td>\n",
       "      <td>1824.0</td>\n",
       "      <td>1820</td>\n",
       "      <td>Albert Lemoine</td>\n",
       "      <td>15</td>\n",
       "    </tr>\n",
       "    <tr>\n",
       "      <th>2</th>\n",
       "      <td>Q861742</td>\n",
       "      <td>1694.0</td>\n",
       "      <td>1690</td>\n",
       "      <td>Edmond Plumier</td>\n",
       "      <td>4</td>\n",
       "    </tr>\n",
       "    <tr>\n",
       "      <th>3</th>\n",
       "      <td>Q1611181</td>\n",
       "      <td>1824.0</td>\n",
       "      <td>1820</td>\n",
       "      <td>Hermann Gebhardt</td>\n",
       "      <td>3</td>\n",
       "    </tr>\n",
       "    <tr>\n",
       "      <th>4</th>\n",
       "      <td>Q13129165</td>\n",
       "      <td>1805.0</td>\n",
       "      <td>1800</td>\n",
       "      <td>Hugh Hughes</td>\n",
       "      <td>3</td>\n",
       "    </tr>\n",
       "    <tr>\n",
       "      <th>...</th>\n",
       "      <td>...</td>\n",
       "      <td>...</td>\n",
       "      <td>...</td>\n",
       "      <td>...</td>\n",
       "      <td>...</td>\n",
       "    </tr>\n",
       "    <tr>\n",
       "      <th>195125</th>\n",
       "      <td>Q41260928</td>\n",
       "      <td>1830.0</td>\n",
       "      <td>1830</td>\n",
       "      <td>Albert Usteri</td>\n",
       "      <td>3</td>\n",
       "    </tr>\n",
       "    <tr>\n",
       "      <th>195126</th>\n",
       "      <td>Q4228920</td>\n",
       "      <td>1850.0</td>\n",
       "      <td>1850</td>\n",
       "      <td>Bruno Eugen Julius Kolbe</td>\n",
       "      <td>2</td>\n",
       "    </tr>\n",
       "    <tr>\n",
       "      <th>195127</th>\n",
       "      <td>Q60442324</td>\n",
       "      <td>1818.0</td>\n",
       "      <td>1820</td>\n",
       "      <td>Ferdinand Raisp</td>\n",
       "      <td>2</td>\n",
       "    </tr>\n",
       "    <tr>\n",
       "      <th>195128</th>\n",
       "      <td>Q55914754</td>\n",
       "      <td>1675.0</td>\n",
       "      <td>1680</td>\n",
       "      <td>Georg Heinrich Paritius</td>\n",
       "      <td>6</td>\n",
       "    </tr>\n",
       "    <tr>\n",
       "      <th>195129</th>\n",
       "      <td>Q307365</td>\n",
       "      <td>1078.0</td>\n",
       "      <td>1080</td>\n",
       "      <td>Abdul Qadir Gilani</td>\n",
       "      <td>19</td>\n",
       "    </tr>\n",
       "  </tbody>\n",
       "</table>\n",
       "<p>195130 rows × 5 columns</p>\n",
       "</div>"
      ],
      "text/plain": [
       "       individual_wikidata_id  birthyear  decade              individual_name  \\\n",
       "0                    Q6121397     1841.0    1840  Santos Domínguez y Benguria   \n",
       "1                   Q55696859     1824.0    1820               Albert Lemoine   \n",
       "2                     Q861742     1694.0    1690               Edmond Plumier   \n",
       "3                    Q1611181     1824.0    1820             Hermann Gebhardt   \n",
       "4                   Q13129165     1805.0    1800                  Hugh Hughes   \n",
       "...                       ...        ...     ...                          ...   \n",
       "195125              Q41260928     1830.0    1830                Albert Usteri   \n",
       "195126               Q4228920     1850.0    1850     Bruno Eugen Julius Kolbe   \n",
       "195127              Q60442324     1818.0    1820              Ferdinand Raisp   \n",
       "195128              Q55914754     1675.0    1680      Georg Heinrich Paritius   \n",
       "195129                Q307365     1078.0    1080           Abdul Qadir Gilani   \n",
       "\n",
       "        score  \n",
       "0           1  \n",
       "1          15  \n",
       "2           4  \n",
       "3           3  \n",
       "4           3  \n",
       "...       ...  \n",
       "195125      3  \n",
       "195126      2  \n",
       "195127      2  \n",
       "195128      6  \n",
       "195129     19  \n",
       "\n",
       "[195130 rows x 5 columns]"
      ]
     },
     "execution_count": 33,
     "metadata": {},
     "output_type": "execute_result"
    }
   ],
   "source": [
    "# Individuals Regions\n",
    "df_ind_regions = pd.read_sql_query(\"SELECT * FROM individuals_regions\", conn)\n",
    "\n",
    "# Years\n",
    "df_ind = pd.read_sql_query(\"SELECT * FROM individuals_main_information\", conn)\n",
    "df_ind_year = df_ind[[\"individual_wikidata_id\", \"birthyear\"]].drop_duplicates()\n",
    "df_ind_year = df_ind_year.dropna()\n",
    "df_ind_year = df_ind_year[df_ind_year['birthyear']<=1850]\n",
    "\n",
    "\n",
    "temporal_resolution = 10\n",
    "df_ind_year[\"decade\"] = df_ind_year[\"birthyear\"].apply(lambda x: round(x / temporal_resolution) * temporal_resolution)\n",
    "\n",
    "df_catalogs_id = pd.read_sql_query(\"SELECT * FROM individual_identifiers\", conn)\n",
    "\n",
    "df_catalogs = pd.read_sql_query(\"SELECT * FROM identifiers\", conn)\n",
    "df_catalogs = df_catalogs[['identifiers_wikidata_id', 'country_name']].dropna()\n",
    "\n",
    "df_cat = pd.merge(df_catalogs_id, df_catalogs, on = 'identifiers_wikidata_id')\n",
    "df_cat = df_cat[['individual_wikidata_id','individual_name', 'country_name']].drop_duplicates()\n",
    "df_cat = df_cat.groupby(['individual_name', 'individual_wikidata_id'])['country_name'].count().rename('score').reset_index()\n",
    "df_cat = df_cat.sort_values('score', ascending=False).reset_index(drop=True)\n",
    "\n",
    "df_final = pd.merge(df_ind_year, df_cat, on = 'individual_wikidata_id')\n",
    "df_final = pd.merge(df_final, df_ind_regions, on = ['individual_wikidata_id', 'individual_name'])"
   ]
  },
  {
   "cell_type": "code",
   "execution_count": 35,
   "id": "f0e7d240-9ca7-4c59-a694-e060dce7c265",
   "metadata": {
    "tags": []
   },
   "outputs": [],
   "source": []
  },
  {
   "cell_type": "code",
   "execution_count": null,
   "id": "a190dde6-b13f-4631-84d1-323672287ca4",
   "metadata": {
    "tags": []
   },
   "outputs": [],
   "source": []
  },
  {
   "cell_type": "code",
   "execution_count": null,
   "id": "49e3bb10-0935-413f-9abe-1569f22799f5",
   "metadata": {
    "tags": []
   },
   "outputs": [],
   "source": []
  },
  {
   "cell_type": "code",
   "execution_count": null,
   "id": "4ba23517-4863-4fad-9088-742f475d0bc9",
   "metadata": {},
   "outputs": [],
   "source": []
  },
  {
   "cell_type": "code",
   "execution_count": null,
   "id": "65b0afb6-91c6-4dc3-b870-8fc92e9aa3cb",
   "metadata": {
    "tags": []
   },
   "outputs": [],
   "source": []
  },
  {
   "cell_type": "code",
   "execution_count": null,
   "id": "1523144e-2808-4b38-b7e2-f8d5491b0994",
   "metadata": {
    "tags": []
   },
   "outputs": [],
   "source": []
  },
  {
   "cell_type": "code",
   "execution_count": null,
   "id": "e5af44ef-12c8-497d-b586-7d6d84f788a7",
   "metadata": {},
   "outputs": [],
   "source": []
  },
  {
   "cell_type": "code",
   "execution_count": 20,
   "id": "5f5e0363-0cc6-4bad-accd-61712adb217b",
   "metadata": {
    "tags": []
   },
   "outputs": [],
   "source": [
    "#list(set(df_catalogs.country_name))"
   ]
  },
  {
   "cell_type": "code",
   "execution_count": null,
   "id": "053ea493-c546-4e0e-8a8b-07102a33f453",
   "metadata": {
    "tags": []
   },
   "outputs": [],
   "source": []
  },
  {
   "cell_type": "code",
   "execution_count": null,
   "id": "7f32fad7-6d96-491c-ac4b-e37c4d23f599",
   "metadata": {
    "tags": []
   },
   "outputs": [],
   "source": []
  },
  {
   "cell_type": "code",
   "execution_count": null,
   "id": "aca2562e-d9a5-4de6-8f25-7abf4221c66b",
   "metadata": {},
   "outputs": [],
   "source": []
  },
  {
   "cell_type": "code",
   "execution_count": null,
   "id": "7fc374c7-297f-4793-b9ca-6ace5d2a49fe",
   "metadata": {},
   "outputs": [],
   "source": []
  },
  {
   "cell_type": "code",
   "execution_count": null,
   "id": "35cf3352-9ff7-47df-966d-dfad01a4cd5a",
   "metadata": {},
   "outputs": [],
   "source": []
  }
 ],
 "metadata": {
  "kernelspec": {
   "display_name": "Python 3 (ipykernel)",
   "language": "python",
   "name": "python3"
  },
  "language_info": {
   "codemirror_mode": {
    "name": "ipython",
    "version": 3
   },
   "file_extension": ".py",
   "mimetype": "text/x-python",
   "name": "python",
   "nbconvert_exporter": "python",
   "pygments_lexer": "ipython3",
   "version": "3.8.18"
  }
 },
 "nbformat": 4,
 "nbformat_minor": 5
}
