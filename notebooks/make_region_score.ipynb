{
 "cells": [
  {
   "cell_type": "markdown",
   "id": "4570023e-bd1f-4117-91a1-e4da5dd67be0",
   "metadata": {},
   "source": [
    "We get the number of individuals per region (with at least one information in the catalogs)"
   ]
  },
  {
   "cell_type": "code",
   "execution_count": 1,
   "id": "8f696190-3c1c-406b-ad2a-257644f21534",
   "metadata": {
    "tags": []
   },
   "outputs": [],
   "source": [
    "import sys\n",
    "\n",
    "sys.path.append(\"../\")\n",
    "\n",
    "import pandas as pd\n",
    "import numpy as np\n",
    "\n",
    "from dotenv import load_dotenv\n",
    "\n",
    "load_dotenv()\n",
    "import os\n",
    "\n",
    "import sqlite3\n",
    "\n",
    "DB_PATH = os.getenv(\"DB_PATH\")\n",
    "DATA_PATH = \"data\"\n",
    "\n",
    "conn = sqlite3.connect(DB_PATH)\n",
    "\n",
    "import numpy as np"
   ]
  },
  {
   "cell_type": "code",
   "execution_count": 25,
   "id": "97674083-0c14-4efc-b0e0-bcfd867548b6",
   "metadata": {
    "tags": []
   },
   "outputs": [
    {
     "data": {
      "text/plain": [
       "5363"
      ]
     },
     "execution_count": 25,
     "metadata": {},
     "output_type": "execute_result"
    }
   ],
   "source": [
    "# Individuals Regions\n",
    "df_ind_regions = pd.read_sql_query(\"SELECT * FROM individuals_regions\", conn)\n",
    "\n",
    "# Years\n",
    "df_ind = pd.read_sql_query(\"SELECT * FROM individuals_main_information\", conn)\n",
    "df_ind_year = df_ind[[\"individual_wikidata_id\", \"birthyear\"]].drop_duplicates()\n",
    "df_ind_year = df_ind_year.dropna()\n",
    "\n",
    "temporal_resolution = 10\n",
    "df_ind_year[\"decade\"] = df_ind_year[\"birthyear\"].apply(lambda x: round(x / temporal_resolution) * temporal_resolution)\n",
    "\n",
    "df_catalogs_id = pd.read_sql_query(\"SELECT * FROM individual_identifiers\", conn)\n",
    "\n",
    "df_catalogs = pd.read_sql_query(\"SELECT * FROM identifiers\", conn)\n",
    "df_catalogs = df_catalogs[['identifiers_wikidata_id', 'country_name']].dropna()\n",
    "\n",
    "df_cat = pd.merge(df_catalogs_id, df_catalogs, on = 'identifiers_wikidata_id')\n",
    "df_cat = df_cat[['individual_wikidata_id','individual_name', 'country_name']].drop_duplicates()\n",
    "df_cat = df_cat.groupby(['individual_name', 'individual_wikidata_id'])['country_name'].count().rename('score').reset_index()\n",
    "df_cat = df_cat.sort_values('score', ascending=False).reset_index(drop=True)\n",
    "\n",
    "df = pd.merge(df_ind_regions,df_ind_year, on = 'individual_wikidata_id')\n",
    "df = pd.merge(df, df_cat, on = 'individual_wikidata_id')\n",
    "df = df[['individual_wikidata_id', 'region_name', 'decade']].drop_duplicates()\n",
    "df['score'] = 1\n",
    "\n",
    "df = df.groupby(['region_name', 'decade'])['score'].sum().reset_index()\n",
    "df.to_sql('region_score',conn, if_exists = 'replace', index=False)"
   ]
  },
  {
   "cell_type": "code",
   "execution_count": null,
   "id": "6a4f2552-0a27-46d0-9c15-b6bbb398e1e8",
   "metadata": {
    "tags": []
   },
   "outputs": [],
   "source": []
  },
  {
   "cell_type": "code",
   "execution_count": null,
   "id": "88f5832d-4c2a-4658-8a86-19abed7feac5",
   "metadata": {
    "tags": []
   },
   "outputs": [],
   "source": []
  }
 ],
 "metadata": {
  "kernelspec": {
   "display_name": "Python 3 (ipykernel)",
   "language": "python",
   "name": "python3"
  },
  "language_info": {
   "codemirror_mode": {
    "name": "ipython",
    "version": 3
   },
   "file_extension": ".py",
   "mimetype": "text/x-python",
   "name": "python",
   "nbconvert_exporter": "python",
   "pygments_lexer": "ipython3",
   "version": "3.8.18"
  }
 },
 "nbformat": 4,
 "nbformat_minor": 5
}
