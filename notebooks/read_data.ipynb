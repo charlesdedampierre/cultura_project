{
 "cells": [
  {
   "cell_type": "code",
   "execution_count": 55,
   "id": "65ea501e-f8ea-409b-8304-31c947c1a7c2",
   "metadata": {
    "tags": []
   },
   "outputs": [],
   "source": [
    "from dotenv import load_dotenv\n",
    "\n",
    "load_dotenv()\n",
    "import os\n",
    "import pandas as pd\n",
    "import sqlite3\n",
    "\n",
    "DB_PATH = os.getenv(\"DB_PATH\")\n",
    "DATA_PATH = \"data\"\n",
    "conn = sqlite3.connect(DB_PATH)"
   ]
  },
  {
   "cell_type": "code",
   "execution_count": 56,
   "id": "863f1910-0e1f-4f63-92fb-581d763ddb1d",
   "metadata": {
    "tags": []
   },
   "outputs": [],
   "source": [
    "# Individuals Regions\n",
    "df_gdp = pd.read_sql_query(\"SELECT * FROM gdp\", conn)"
   ]
  },
  {
   "cell_type": "code",
   "execution_count": null,
   "id": "d595993f-90d6-4b20-8e8b-a1edbb58a302",
   "metadata": {
    "tags": []
   },
   "outputs": [],
   "source": []
  },
  {
   "cell_type": "code",
   "execution_count": 57,
   "id": "c09a02ad-b461-450c-9c9b-13b53b7aa274",
   "metadata": {
    "tags": []
   },
   "outputs": [
    {
     "data": {
      "text/plain": [
       "{'re_arabic_world',\n",
       " 're_austria',\n",
       " 're_belgium',\n",
       " 're_chinese_world',\n",
       " 're_denmark',\n",
       " 're_eastern_europe',\n",
       " 're_finland',\n",
       " 're_france',\n",
       " 're_german_world',\n",
       " 're_germany',\n",
       " 're_greece',\n",
       " 're_greek_world',\n",
       " 're_ireland',\n",
       " 're_italy',\n",
       " 're_japan',\n",
       " 're_korea',\n",
       " 're_latin',\n",
       " 're_netherlands',\n",
       " 're_norway',\n",
       " 're_ottoman_turkey',\n",
       " 're_portugal',\n",
       " 're_spain',\n",
       " 're_sweden',\n",
       " 're_switzerland',\n",
       " 're_united_kingdom'}"
      ]
     },
     "execution_count": 57,
     "metadata": {},
     "output_type": "execute_result"
    }
   ],
   "source": [
    "set(df_gdp.region_code)"
   ]
  },
  {
   "cell_type": "code",
   "execution_count": 58,
   "id": "bd890eca-1923-413e-9e24-2ae53d0fe000",
   "metadata": {
    "tags": []
   },
   "outputs": [],
   "source": [
    "# re_netherlands\n",
    "# re_nordic_countries"
   ]
  },
  {
   "cell_type": "code",
   "execution_count": 59,
   "id": "c32ddc04-7a6b-4c33-90e6-208d0d19bf9b",
   "metadata": {
    "tags": []
   },
   "outputs": [],
   "source": [
    "# Individuals Regions\n",
    "df_population = pd.read_sql_query(\"SELECT * FROM population\", conn)"
   ]
  },
  {
   "cell_type": "code",
   "execution_count": null,
   "id": "411efb0a-9292-405a-9a3f-fadd12cb3a09",
   "metadata": {},
   "outputs": [],
   "source": []
  },
  {
   "cell_type": "code",
   "execution_count": 60,
   "id": "fb850cf3-f595-4fca-b156-80a4ec83e11a",
   "metadata": {
    "tags": []
   },
   "outputs": [
    {
     "data": {
      "text/plain": [
       "{'re_arabic_world',\n",
       " 're_austria',\n",
       " 're_balkans',\n",
       " 're_belgium',\n",
       " 're_british_islands',\n",
       " 're_central_europe',\n",
       " 're_chinese_world',\n",
       " 're_denmark',\n",
       " 're_eastern_europe',\n",
       " 're_france',\n",
       " 're_german_world',\n",
       " 're_germany',\n",
       " 're_greece',\n",
       " 're_greek_world',\n",
       " 're_iceland',\n",
       " 're_indian_world',\n",
       " 're_ireland',\n",
       " 're_italy',\n",
       " 're_japan',\n",
       " 're_korea',\n",
       " 're_latin',\n",
       " 're_low_countries',\n",
       " 're_muslim_world',\n",
       " 're_netherlands',\n",
       " 're_nordic_countries',\n",
       " 're_northwestern_europe',\n",
       " 're_ottoman_turkey',\n",
       " 're_persian_world',\n",
       " 're_portugal',\n",
       " 're_southwestern_europe',\n",
       " 're_spain',\n",
       " 're_sweden',\n",
       " 're_switzerland',\n",
       " 're_united_kingdom',\n",
       " 're_western_europe'}"
      ]
     },
     "execution_count": 60,
     "metadata": {},
     "output_type": "execute_result"
    }
   ],
   "source": [
    "set(df_population.region_code)"
   ]
  },
  {
   "cell_type": "code",
   "execution_count": 61,
   "id": "ed19f4a9-948d-4169-91ab-1f7aa140e266",
   "metadata": {
    "tags": []
   },
   "outputs": [],
   "source": [
    "data_env_path = '/Users/charlesdedampierre/Desktop/ENS Projects/cultural_index/src/enricher/data_env'"
   ]
  },
  {
   "cell_type": "code",
   "execution_count": 62,
   "id": "fc4cfd83-48b3-4b6c-af39-5530b026c969",
   "metadata": {
    "tags": []
   },
   "outputs": [],
   "source": [
    "df_maddison = pd.read_csv(\n",
    "    data_env_path + \"/gdp_per_capita_maddison.csv\", index_col=[0]\n",
    ")\n",
    "\n",
    "# region_code #code_country_maddison #code_country\n",
    "gdp_equiv = pd.read_csv(\n",
    "    data_env_path\n",
    "    + \"/ENS - Cultural Index - Countries Databases - gdp_consolidate_table.csv\"\n",
    ")\n",
    "gdp_equiv = gdp_equiv[[\"region_code\", \"code_country_maddison\"]]\n",
    "gdp_equiv = gdp_equiv.dropna()\n",
    "gdp_equiv.columns = [\"region_code\", \"country_code_maddison\"]\n",
    "\n",
    "df_maddison_stats = pd.merge(gdp_equiv, df_maddison, on=\"country_code_maddison\")\n",
    "df_maddison_stats = df_maddison_stats[df_maddison_stats['year']<=1850]"
   ]
  },
  {
   "cell_type": "code",
   "execution_count": null,
   "id": "e24b1b98-f59e-4d00-9a40-cdce2bca7de2",
   "metadata": {
    "tags": []
   },
   "outputs": [],
   "source": []
  },
  {
   "cell_type": "code",
   "execution_count": null,
   "id": "3e509f50-dfc5-4004-a0f6-868d2e772db8",
   "metadata": {
    "tags": []
   },
   "outputs": [],
   "source": []
  },
  {
   "cell_type": "code",
   "execution_count": 67,
   "id": "363bff81-18c1-404d-9271-2bdb8fbb645b",
   "metadata": {
    "tags": []
   },
   "outputs": [],
   "source": [
    "data = pd.read_csv('../stats_correlation/data_stats.csv')"
   ]
  },
  {
   "cell_type": "code",
   "execution_count": null,
   "id": "06824b45-78da-4661-86a9-e3a8de7a39b4",
   "metadata": {
    "tags": []
   },
   "outputs": [],
   "source": []
  },
  {
   "cell_type": "code",
   "execution_count": null,
   "id": "d6e2477a-081f-40da-a0e5-7ec475c48b0d",
   "metadata": {},
   "outputs": [],
   "source": []
  }
 ],
 "metadata": {
  "kernelspec": {
   "display_name": "Python 3 (ipykernel)",
   "language": "python",
   "name": "python3"
  },
  "language_info": {
   "codemirror_mode": {
    "name": "ipython",
    "version": 3
   },
   "file_extension": ".py",
   "mimetype": "text/x-python",
   "name": "python",
   "nbconvert_exporter": "python",
   "pygments_lexer": "ipython3",
   "version": "3.8.17"
  }
 },
 "nbformat": 4,
 "nbformat_minor": 5
}
