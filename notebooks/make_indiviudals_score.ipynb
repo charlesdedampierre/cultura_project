{
 "cells": [
  {
   "cell_type": "code",
   "execution_count": 2,
   "id": "d5d2810d-0dd2-4485-a4b6-fd1b4d0ee6d5",
   "metadata": {
    "tags": []
   },
   "outputs": [],
   "source": [
    "import sys\n",
    "\n",
    "sys.path.append(\"../\")\n",
    "\n",
    "import pandas as pd\n",
    "from dotenv import load_dotenv\n",
    "\n",
    "load_dotenv()\n",
    "import os\n",
    "import sqlite3\n",
    "\n",
    "DB_PATH = os.getenv(\"DB_PATH\")\n",
    "\n",
    "conn = sqlite3.connect(DB_PATH)"
   ]
  },
  {
   "cell_type": "code",
   "execution_count": 56,
   "id": "fcaac11f-d1d5-4101-8af2-b6349a24c63c",
   "metadata": {
    "tags": []
   },
   "outputs": [],
   "source": [
    "only_country = False\n",
    "\n",
    "# Individuals Regions\n",
    "df_ind_regions = pd.read_sql_query(\"SELECT * FROM individuals_regions\", conn)\n",
    "\n",
    "# Years\n",
    "df_ind = pd.read_sql_query(\"SELECT * FROM individuals_main_information\", conn)\n",
    "df_ind_year = df_ind[[\"individual_wikidata_id\", \"birthyear\"]].drop_duplicates()\n",
    "df_ind_year = df_ind_year.dropna()\n",
    "df_ind_year = df_ind_year[df_ind_year['birthyear']<=1850]\n",
    "\n",
    "\n",
    "temporal_resolution = 10\n",
    "df_ind_year[\"decade\"] = df_ind_year[\"birthyear\"].apply(lambda x: round(x / temporal_resolution) * temporal_resolution)\n",
    "\n",
    "df_catalogs_id = pd.read_sql_query(\"SELECT * FROM individual_identifiers\", conn)\n",
    "df_catalogs = pd.read_sql_query(\"SELECT * FROM identifiers\", conn)\n",
    "\n",
    "if only_country:\n",
    "    df_catalogs = df_catalogs[['identifiers_wikidata_id', 'country_name']].dropna()\n",
    "    df_cat = pd.merge(df_catalogs_id, df_catalogs, on = 'identifiers_wikidata_id')\n",
    "    df_cat = df_cat[['individual_wikidata_id','individual_name', 'country_name']].drop_duplicates()\n",
    "    df_cat = df_cat.groupby(['individual_name', 'individual_wikidata_id'])['country_name'].count().rename('score').reset_index()\n",
    "    df_cat = df_cat.sort_values('score', ascending=False).reset_index(drop=True)\n",
    "else:\n",
    "    df_cat = df_catalogs_id.groupby(['individual_name', 'individual_wikidata_id'])['identifiers_wikidata_id'].count().rename('score').reset_index()\n",
    "    df_cat = df_cat.sort_values('score', ascending=False).reset_index(drop=True)\n",
    "    \n",
    "df_final = pd.merge(df_ind_year, df_cat, on = 'individual_wikidata_id')\n",
    "df_final = pd.merge(df_final, df_ind_regions, on = ['individual_wikidata_id', 'individual_name'])\n",
    "df_final.to_csv('../data/df_individuals_score.csv')"
   ]
  },
  {
   "cell_type": "code",
   "execution_count": 59,
   "id": "48fd1a22-a3a6-40b0-b611-96edd9875bb6",
   "metadata": {
    "tags": []
   },
   "outputs": [
    {
     "data": {
      "text/html": [
       "<div>\n",
       "<style scoped>\n",
       "    .dataframe tbody tr th:only-of-type {\n",
       "        vertical-align: middle;\n",
       "    }\n",
       "\n",
       "    .dataframe tbody tr th {\n",
       "        vertical-align: top;\n",
       "    }\n",
       "\n",
       "    .dataframe thead th {\n",
       "        text-align: right;\n",
       "    }\n",
       "</style>\n",
       "<table border=\"1\" class=\"dataframe\">\n",
       "  <thead>\n",
       "    <tr style=\"text-align: right;\">\n",
       "      <th></th>\n",
       "      <th>individual_wikidata_id</th>\n",
       "      <th>birthyear</th>\n",
       "      <th>decade</th>\n",
       "      <th>individual_name</th>\n",
       "      <th>score</th>\n",
       "      <th>region_code</th>\n",
       "      <th>region_name</th>\n",
       "    </tr>\n",
       "  </thead>\n",
       "  <tbody>\n",
       "    <tr>\n",
       "      <th>432388</th>\n",
       "      <td>Q4589013</td>\n",
       "      <td>1808.0</td>\n",
       "      <td>1810</td>\n",
       "      <td>Auguste-Joseph De Mersseman</td>\n",
       "      <td>6</td>\n",
       "      <td>re_western_europe</td>\n",
       "      <td>Western Europe</td>\n",
       "    </tr>\n",
       "    <tr>\n",
       "      <th>240476</th>\n",
       "      <td>Q43139930</td>\n",
       "      <td>1849.0</td>\n",
       "      <td>1850</td>\n",
       "      <td>James Thomas Wheeler</td>\n",
       "      <td>4</td>\n",
       "      <td>re_british_islands</td>\n",
       "      <td>British Islands</td>\n",
       "    </tr>\n",
       "    <tr>\n",
       "      <th>57442</th>\n",
       "      <td>Q18528720</td>\n",
       "      <td>1811.0</td>\n",
       "      <td>1810</td>\n",
       "      <td>Emily Stackhouse</td>\n",
       "      <td>12</td>\n",
       "      <td>re_northwestern_europe</td>\n",
       "      <td>Northwestern Europe</td>\n",
       "    </tr>\n",
       "  </tbody>\n",
       "</table>\n",
       "</div>"
      ],
      "text/plain": [
       "       individual_wikidata_id  birthyear  decade              individual_name  \\\n",
       "432388               Q4589013     1808.0    1810  Auguste-Joseph De Mersseman   \n",
       "240476              Q43139930     1849.0    1850         James Thomas Wheeler   \n",
       "57442               Q18528720     1811.0    1810             Emily Stackhouse   \n",
       "\n",
       "        score             region_code          region_name  \n",
       "432388      6       re_western_europe       Western Europe  \n",
       "240476      4      re_british_islands      British Islands  \n",
       "57442      12  re_northwestern_europe  Northwestern Europe  "
      ]
     },
     "execution_count": 59,
     "metadata": {},
     "output_type": "execute_result"
    }
   ],
   "source": [
    "df_final.sort_values('score', ascending=False).sample(3)"
   ]
  },
  {
   "cell_type": "code",
   "execution_count": 54,
   "id": "8a65899d-6b79-48b6-adac-fac88a81b2a6",
   "metadata": {
    "tags": []
   },
   "outputs": [],
   "source": []
  },
  {
   "cell_type": "code",
   "execution_count": null,
   "id": "bc81e5b9-d87d-4227-9475-112e468ea1fd",
   "metadata": {
    "tags": []
   },
   "outputs": [],
   "source": []
  }
 ],
 "metadata": {
  "kernelspec": {
   "display_name": "Python 3 (ipykernel)",
   "language": "python",
   "name": "python3"
  },
  "language_info": {
   "codemirror_mode": {
    "name": "ipython",
    "version": 3
   },
   "file_extension": ".py",
   "mimetype": "text/x-python",
   "name": "python",
   "nbconvert_exporter": "python",
   "pygments_lexer": "ipython3",
   "version": "3.8.18"
  }
 },
 "nbformat": 4,
 "nbformat_minor": 5
}
