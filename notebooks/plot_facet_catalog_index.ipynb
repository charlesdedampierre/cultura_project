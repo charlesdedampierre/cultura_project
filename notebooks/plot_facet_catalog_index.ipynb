{
 "cells": [
  {
   "cell_type": "code",
   "execution_count": 41,
   "id": "8b2de990-50d3-4c5b-a1bd-346d267eab07",
   "metadata": {},
   "outputs": [],
   "source": [
    "# plot number of individuals per region as a Facet Graph"
   ]
  },
  {
   "cell_type": "code",
   "execution_count": 42,
   "id": "9ff58cf3-9823-4a80-bfb2-6007dd224eee",
   "metadata": {
    "tags": []
   },
   "outputs": [],
   "source": [
    "import sys\n",
    "\n",
    "sys.path.append(\"../\")\n",
    "\n",
    "import pandas as pd\n",
    "import numpy as np\n",
    "\n",
    "from dotenv import load_dotenv\n",
    "\n",
    "load_dotenv()\n",
    "import os\n",
    "\n",
    "import sqlite3\n",
    "\n",
    "DB_PATH = os.getenv(\"DB_PATH\")\n",
    "DATA_PATH = \"data\"\n",
    "\n",
    "conn = sqlite3.connect(DB_PATH)\n",
    "\n",
    "import numpy as np"
   ]
  },
  {
   "cell_type": "code",
   "execution_count": 43,
   "id": "7a282ffc-efc9-42d8-b1b0-a475dff3c892",
   "metadata": {
    "tags": []
   },
   "outputs": [],
   "source": [
    "# Individuals Regions\n",
    "df_ind_regions = pd.read_sql_query(\"SELECT * FROM individuals_regions\", conn)\n",
    "\n",
    "# Years\n",
    "df_ind = pd.read_sql_query(\"SELECT * FROM individuals_main_information\", conn)\n",
    "df_ind_year = df_ind[[\"individual_wikidata_id\", \"birthyear\"]].drop_duplicates()\n",
    "df_ind_year = df_ind_year.dropna()\n",
    "\n",
    "temporal_resolution = 10\n",
    "df_ind_year[\"decade\"] = df_ind_year[\"birthyear\"].apply(lambda x: round(x / temporal_resolution) * temporal_resolution)\n",
    "\n",
    "df_catalogs_id = pd.read_sql_query(\"SELECT * FROM individual_identifiers\", conn)\n",
    "\n",
    "df_catalogs = pd.read_sql_query(\"SELECT * FROM identifiers\", conn)\n",
    "df_catalogs = df_catalogs[['identifiers_wikidata_id', 'country_name']].dropna()\n",
    "\n",
    "df_cat = pd.merge(df_catalogs_id, df_catalogs, on = 'identifiers_wikidata_id')\n",
    "df_cat = df_cat[['individual_wikidata_id','individual_name', 'country_name']].drop_duplicates()\n",
    "df_cat = df_cat.groupby(['individual_name', 'individual_wikidata_id'])['country_name'].count().rename('score').reset_index()\n",
    "df_cat = df_cat.sort_values('score', ascending=False).reset_index(drop=True)\n",
    "\n",
    "df = pd.merge(df_ind_regions,df_ind_year, on = 'individual_wikidata_id')\n",
    "df = pd.merge(df, df_cat, on = 'individual_wikidata_id')\n",
    "df = df[['individual_wikidata_id', 'region_name', 'decade']].drop_duplicates()\n",
    "df['score'] = 1"
   ]
  },
  {
   "cell_type": "code",
   "execution_count": 49,
   "id": "2765a625-19ae-4ff9-bfea-53d35fccddc5",
   "metadata": {
    "tags": []
   },
   "outputs": [
    {
     "data": {
      "text/html": [
       "<div>\n",
       "<style scoped>\n",
       "    .dataframe tbody tr th:only-of-type {\n",
       "        vertical-align: middle;\n",
       "    }\n",
       "\n",
       "    .dataframe tbody tr th {\n",
       "        vertical-align: top;\n",
       "    }\n",
       "\n",
       "    .dataframe thead th {\n",
       "        text-align: right;\n",
       "    }\n",
       "</style>\n",
       "<table border=\"1\" class=\"dataframe\">\n",
       "  <thead>\n",
       "    <tr style=\"text-align: right;\">\n",
       "      <th></th>\n",
       "      <th>region_name</th>\n",
       "      <th>decade</th>\n",
       "      <th>score</th>\n",
       "    </tr>\n",
       "  </thead>\n",
       "  <tbody>\n",
       "    <tr>\n",
       "      <th>0</th>\n",
       "      <td>Arabian peninsula</td>\n",
       "      <td>440</td>\n",
       "      <td>1</td>\n",
       "    </tr>\n",
       "    <tr>\n",
       "      <th>1</th>\n",
       "      <td>Arabian peninsula</td>\n",
       "      <td>450</td>\n",
       "      <td>1</td>\n",
       "    </tr>\n",
       "    <tr>\n",
       "      <th>2</th>\n",
       "      <td>Arabian peninsula</td>\n",
       "      <td>500</td>\n",
       "      <td>2</td>\n",
       "    </tr>\n",
       "    <tr>\n",
       "      <th>3</th>\n",
       "      <td>Arabian peninsula</td>\n",
       "      <td>520</td>\n",
       "      <td>2</td>\n",
       "    </tr>\n",
       "    <tr>\n",
       "      <th>4</th>\n",
       "      <td>Arabian peninsula</td>\n",
       "      <td>530</td>\n",
       "      <td>1</td>\n",
       "    </tr>\n",
       "    <tr>\n",
       "      <th>...</th>\n",
       "      <td>...</td>\n",
       "      <td>...</td>\n",
       "      <td>...</td>\n",
       "    </tr>\n",
       "    <tr>\n",
       "      <th>5358</th>\n",
       "      <td>mediterranean World</td>\n",
       "      <td>1810</td>\n",
       "      <td>33</td>\n",
       "    </tr>\n",
       "    <tr>\n",
       "      <th>5359</th>\n",
       "      <td>mediterranean World</td>\n",
       "      <td>1820</td>\n",
       "      <td>42</td>\n",
       "    </tr>\n",
       "    <tr>\n",
       "      <th>5360</th>\n",
       "      <td>mediterranean World</td>\n",
       "      <td>1830</td>\n",
       "      <td>36</td>\n",
       "    </tr>\n",
       "    <tr>\n",
       "      <th>5361</th>\n",
       "      <td>mediterranean World</td>\n",
       "      <td>1840</td>\n",
       "      <td>75</td>\n",
       "    </tr>\n",
       "    <tr>\n",
       "      <th>5362</th>\n",
       "      <td>mediterranean World</td>\n",
       "      <td>1850</td>\n",
       "      <td>39</td>\n",
       "    </tr>\n",
       "  </tbody>\n",
       "</table>\n",
       "<p>5363 rows × 3 columns</p>\n",
       "</div>"
      ],
      "text/plain": [
       "              region_name  decade  score\n",
       "0       Arabian peninsula     440      1\n",
       "1       Arabian peninsula     450      1\n",
       "2       Arabian peninsula     500      2\n",
       "3       Arabian peninsula     520      2\n",
       "4       Arabian peninsula     530      1\n",
       "...                   ...     ...    ...\n",
       "5358  mediterranean World    1810     33\n",
       "5359  mediterranean World    1820     42\n",
       "5360  mediterranean World    1830     36\n",
       "5361  mediterranean World    1840     75\n",
       "5362  mediterranean World    1850     39\n",
       "\n",
       "[5363 rows x 3 columns]"
      ]
     },
     "execution_count": 49,
     "metadata": {},
     "output_type": "execute_result"
    }
   ],
   "source": [
    "df"
   ]
  },
  {
   "cell_type": "code",
   "execution_count": 44,
   "id": "fa05e753-2043-4073-8045-596672dff431",
   "metadata": {
    "tags": []
   },
   "outputs": [
    {
     "data": {
      "text/plain": [
       "147330"
      ]
     },
     "execution_count": 44,
     "metadata": {},
     "output_type": "execute_result"
    }
   ],
   "source": [
    "len(set(df.individual_wikidata_id))"
   ]
  },
  {
   "cell_type": "code",
   "execution_count": 45,
   "id": "594c47a9-f5e9-4900-bb43-95238756e39f",
   "metadata": {
    "tags": []
   },
   "outputs": [
    {
     "data": {
      "text/plain": [
       "5363"
      ]
     },
     "execution_count": 45,
     "metadata": {},
     "output_type": "execute_result"
    }
   ],
   "source": [
    "df = df.groupby(['region_name', 'decade'])['score'].sum().reset_index()\n",
    "df.to_sql('region_score',conn, if_exists = 'replace', index=False)"
   ]
  },
  {
   "cell_type": "code",
   "execution_count": 46,
   "id": "60ff5fc9-cd5e-42ca-b871-437c6f1c1940",
   "metadata": {
    "tags": []
   },
   "outputs": [
    {
     "data": {
      "text/plain": [
       "195130"
      ]
     },
     "execution_count": 46,
     "metadata": {},
     "output_type": "execute_result"
    }
   ],
   "source": [
    "len(set(df_cat.individual_wikidata_id))"
   ]
  },
  {
   "cell_type": "code",
   "execution_count": 47,
   "id": "f4134c3b-535c-40d3-aa10-4470791f9ef5",
   "metadata": {
    "tags": []
   },
   "outputs": [],
   "source": [
    "df_fig = df.copy()\n",
    "df_fig['log_cultural_score'] = np.log(1 + df_fig['score'])\n",
    "df_fig['normalized_cultural_score'] = df_fig.groupby('region_name')['log_cultural_score'].transform(lambda x: (x - x.min()) / (x.max() - x.min()))\n",
    "df_fig = df_fig[df_fig['decade']<=1840]"
   ]
  },
  {
   "cell_type": "code",
   "execution_count": 48,
   "id": "ffecc87e-f8fb-4830-8c3f-fa94b95527bf",
   "metadata": {
    "tags": []
   },
   "outputs": [
    {
     "data": {
      "text/plain": [
       "'temp-plot.html'"
      ]
     },
     "execution_count": 48,
     "metadata": {},
     "output_type": "execute_result"
    }
   ],
   "source": [
    "import plotly.express as px\n",
    "import plotly\n",
    "\n",
    "fig = px.line(df_fig, \n",
    "              x=\"decade\", \n",
    "              y=\"normalized_cultural_score\", \n",
    "              facet_col=\"region_name\", \n",
    "              facet_col_wrap=6, \n",
    "              width = 3000, \n",
    "              height = 3000, \n",
    "              template = 'simple_white')\n",
    "\n",
    "\n",
    "fig.update_xaxes(tickmode='linear', dtick=200)\n",
    "fig.for_each_xaxis(lambda xaxis: xaxis.update(showticklabels=True))\n",
    "fig.for_each_yaxis(lambda yaxis: yaxis.update(showticklabels=True))\n",
    "\n",
    "for region_name in df['region_name'].unique():\n",
    "    fig.update_xaxes(title_text='decade', col=region_name)\n",
    "    \n",
    "\n",
    "plotly.offline.plot(fig)"
   ]
  },
  {
   "cell_type": "code",
   "execution_count": null,
   "id": "495a9ff6-b7c0-4388-a637-c1b6d48fd5b8",
   "metadata": {},
   "outputs": [],
   "source": []
  }
 ],
 "metadata": {
  "kernelspec": {
   "display_name": "Python 3 (ipykernel)",
   "language": "python",
   "name": "python3"
  },
  "language_info": {
   "codemirror_mode": {
    "name": "ipython",
    "version": 3
   },
   "file_extension": ".py",
   "mimetype": "text/x-python",
   "name": "python",
   "nbconvert_exporter": "python",
   "pygments_lexer": "ipython3",
   "version": "3.8.18"
  }
 },
 "nbformat": 4,
 "nbformat_minor": 5
}
