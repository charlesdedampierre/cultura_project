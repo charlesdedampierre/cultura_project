{
 "cells": [
  {
   "cell_type": "code",
   "execution_count": null,
   "id": "8b2de990-50d3-4c5b-a1bd-346d267eab07",
   "metadata": {},
   "outputs": [],
   "source": [
    "# plot number of individuals per region as a Facet Graph"
   ]
  },
  {
   "cell_type": "code",
   "execution_count": 1,
   "id": "9ff58cf3-9823-4a80-bfb2-6007dd224eee",
   "metadata": {
    "tags": []
   },
   "outputs": [],
   "source": [
    "import sys\n",
    "\n",
    "sys.path.append(\"../\")\n",
    "\n",
    "import pandas as pd\n",
    "import numpy as np\n",
    "\n",
    "from dotenv import load_dotenv\n",
    "\n",
    "load_dotenv()\n",
    "import os\n",
    "\n",
    "import sqlite3\n",
    "\n",
    "DB_PATH = os.getenv(\"DB_PATH\")\n",
    "DATA_PATH = \"data\"\n",
    "\n",
    "conn = sqlite3.connect(DB_PATH)\n",
    "\n",
    "import numpy as np"
   ]
  },
  {
   "cell_type": "code",
   "execution_count": 2,
   "id": "7a282ffc-efc9-42d8-b1b0-a475dff3c892",
   "metadata": {
    "tags": []
   },
   "outputs": [],
   "source": [
    "# Individuals Regions\n",
    "df_ind_regions = pd.read_sql_query(\"SELECT * FROM individuals_regions\", conn)\n",
    "\n",
    "# Years\n",
    "df_ind = pd.read_sql_query(\"SELECT * FROM individuals_main_information\", conn)\n",
    "df_ind_year = df_ind[[\"individual_wikidata_id\", \"birthyear\"]].drop_duplicates()\n",
    "df_ind_year = df_ind_year.dropna()\n",
    "\n",
    "temporal_resolution = 10\n",
    "df_ind_year[\"decade\"] = df_ind_year[\"birthyear\"].apply(lambda x: round(x / temporal_resolution) * temporal_resolution)"
   ]
  },
  {
   "cell_type": "code",
   "execution_count": null,
   "id": "f5519419-2a31-4041-be60-f8739e226dff",
   "metadata": {
    "tags": []
   },
   "outputs": [],
   "source": []
  },
  {
   "cell_type": "code",
   "execution_count": 3,
   "id": "427afc0c-8b1a-4f26-afc6-32ce10e5dff7",
   "metadata": {
    "tags": []
   },
   "outputs": [],
   "source": [
    "df_catalogs_id = pd.read_sql_query(\"SELECT * FROM individual_identifiers\", conn)"
   ]
  },
  {
   "cell_type": "code",
   "execution_count": null,
   "id": "65497b08-7048-4983-aedf-29d881d3c90f",
   "metadata": {
    "tags": []
   },
   "outputs": [],
   "source": []
  },
  {
   "cell_type": "code",
   "execution_count": 4,
   "id": "4df4b76c-6ab4-432a-8f07-07624ba7891d",
   "metadata": {
    "tags": []
   },
   "outputs": [],
   "source": [
    "df_catalogs = pd.read_sql_query(\"SELECT * FROM identifiers\", conn)\n",
    "df_catalogs = df_catalogs[['identifiers_wikidata_id', 'country_name']].dropna()"
   ]
  },
  {
   "cell_type": "code",
   "execution_count": 5,
   "id": "eed3e685-b24a-411d-8571-6d09654e0448",
   "metadata": {
    "tags": []
   },
   "outputs": [],
   "source": [
    "df_cat = pd.merge(df_catalogs_id, df_catalogs, on = 'identifiers_wikidata_id')\n",
    "df_cat = df_cat[['individual_wikidata_id','individual_name', 'country_name']].drop_duplicates()\n",
    "df_cat = df_cat.groupby(['individual_name', 'individual_wikidata_id'])['country_name'].count().rename('score').reset_index()\n",
    "df_cat = df_cat.sort_values('score', ascending=False).reset_index(drop=True)"
   ]
  },
  {
   "cell_type": "code",
   "execution_count": 6,
   "id": "dca7deac-127f-4b26-9204-a1a284b56ca7",
   "metadata": {
    "tags": []
   },
   "outputs": [],
   "source": [
    "#df_cat.head(20)"
   ]
  },
  {
   "cell_type": "code",
   "execution_count": 7,
   "id": "c2ef1e6c-8ae3-4386-a532-aff4ecb98aa8",
   "metadata": {
    "tags": []
   },
   "outputs": [
    {
     "data": {
      "text/plain": [
       "5363"
      ]
     },
     "execution_count": 7,
     "metadata": {},
     "output_type": "execute_result"
    }
   ],
   "source": [
    "df = pd.merge(df_ind_regions,df_ind_year, on = 'individual_wikidata_id')\n",
    "df = pd.merge(df, df_cat, on = 'individual_wikidata_id')\n",
    "df = df[['individual_wikidata_id', 'region_name', 'decade']].drop_duplicates()\n",
    "df['score'] = 1\n",
    "\n",
    "df = df.groupby(['region_name', 'decade'])['score'].sum().reset_index()\n",
    "df.to_sql('region_score',conn, if_exists = 'replace', index=False)"
   ]
  },
  {
   "cell_type": "code",
   "execution_count": null,
   "id": "d7798c98-5789-4762-b46c-bce6824f9f8b",
   "metadata": {
    "tags": []
   },
   "outputs": [],
   "source": []
  },
  {
   "cell_type": "code",
   "execution_count": 8,
   "id": "f4134c3b-535c-40d3-aa10-4470791f9ef5",
   "metadata": {
    "tags": []
   },
   "outputs": [],
   "source": [
    "df_fig = df.copy()\n",
    "df_fig['log_cultural_score'] = np.log(1 + df_fig['score'])\n",
    "df_fig['normalized_cultural_score'] = df_fig.groupby('region_name')['log_cultural_score'].transform(lambda x: (x - x.min()) / (x.max() - x.min()))\n",
    "df_fig = df_fig[df_fig['decade']<=1840]"
   ]
  },
  {
   "cell_type": "code",
   "execution_count": 9,
   "id": "ffecc87e-f8fb-4830-8c3f-fa94b95527bf",
   "metadata": {
    "tags": []
   },
   "outputs": [
    {
     "data": {
      "text/plain": [
       "'temp-plot.html'"
      ]
     },
     "execution_count": 9,
     "metadata": {},
     "output_type": "execute_result"
    }
   ],
   "source": [
    "import plotly.express as px\n",
    "import plotly\n",
    "\n",
    "fig = px.line(df_fig, \n",
    "              x=\"decade\", \n",
    "              y=\"normalized_cultural_score\", \n",
    "              facet_col=\"region_name\", \n",
    "              facet_col_wrap=6, \n",
    "              width = 3000, \n",
    "              height = 3000, \n",
    "              template = 'simple_white')\n",
    "\n",
    "\n",
    "fig.update_xaxes(tickmode='linear', dtick=200)\n",
    "fig.for_each_xaxis(lambda xaxis: xaxis.update(showticklabels=True))\n",
    "fig.for_each_yaxis(lambda yaxis: yaxis.update(showticklabels=True))\n",
    "\n",
    "for region_name in df['region_name'].unique():\n",
    "    fig.update_xaxes(title_text='decade', col=region_name)\n",
    "    \n",
    "\n",
    "plotly.offline.plot(fig)"
   ]
  },
  {
   "cell_type": "code",
   "execution_count": null,
   "id": "3a85bdea-6d06-44ee-b10c-5377c780a776",
   "metadata": {},
   "outputs": [],
   "source": []
  },
  {
   "cell_type": "code",
   "execution_count": null,
   "id": "c6f7cb55-2090-4997-be11-c1c1f92a436c",
   "metadata": {},
   "outputs": [],
   "source": []
  },
  {
   "cell_type": "code",
   "execution_count": 10,
   "id": "c15f7b6e-e3b5-4023-9066-403fc9e989eb",
   "metadata": {
    "tags": []
   },
   "outputs": [
    {
     "data": {
      "text/plain": [
       "'\\n\\n\\nfrom plotnine.data import economics\\nfrom plotnine import ggplot, aes, geom_line, geom_smooth, facet_wrap, theme_classic\\n\\n(\\n    ggplot(df_fig)  # What data to use\\n    + aes(x=\"decade\", y=\"normalized_cultural_score\")  # What variable to use\\n    + geom_line()  # Geometric object to use for drawing\\n    + geom_smooth(method = \"loess\", span = 0.2, level = 0.95, colour = \"darkblue\")\\n    + facet_wrap(\"~region_name\")\\n    + theme_classic()\\n)\\n\\n\\n'"
      ]
     },
     "execution_count": 10,
     "metadata": {},
     "output_type": "execute_result"
    }
   ],
   "source": [
    "\"\"\"\n",
    "\n",
    "\n",
    "from plotnine.data import economics\n",
    "from plotnine import ggplot, aes, geom_line, geom_smooth, facet_wrap, theme_classic\n",
    "\n",
    "(\n",
    "    ggplot(df_fig)  # What data to use\n",
    "    + aes(x=\"decade\", y=\"normalized_cultural_score\")  # What variable to use\n",
    "    + geom_line()  # Geometric object to use for drawing\n",
    "    + geom_smooth(method = \"loess\", span = 0.2, level = 0.95, colour = \"darkblue\")\n",
    "    + facet_wrap(\"~region_name\")\n",
    "    + theme_classic()\n",
    ")\n",
    "\n",
    "\n",
    "\"\"\""
   ]
  },
  {
   "cell_type": "code",
   "execution_count": null,
   "id": "07d5c71e-b586-4993-891e-af89ad6ae617",
   "metadata": {
    "tags": []
   },
   "outputs": [],
   "source": []
  },
  {
   "cell_type": "code",
   "execution_count": null,
   "id": "e3e95f11-31f5-4eb6-84ec-b24c3b9a57f5",
   "metadata": {},
   "outputs": [],
   "source": []
  },
  {
   "cell_type": "code",
   "execution_count": null,
   "id": "545fa76c-dcdf-4924-97b1-91ef9d9b7cec",
   "metadata": {
    "tags": []
   },
   "outputs": [],
   "source": []
  },
  {
   "cell_type": "code",
   "execution_count": null,
   "id": "6e506de6-6d06-4a06-8a44-8e0901b79be8",
   "metadata": {
    "tags": []
   },
   "outputs": [],
   "source": []
  },
  {
   "cell_type": "code",
   "execution_count": null,
   "id": "3daee052-95e8-4fdd-86bc-040a88c5d688",
   "metadata": {
    "tags": []
   },
   "outputs": [],
   "source": []
  },
  {
   "cell_type": "code",
   "execution_count": null,
   "id": "c60b8d65-c55a-48de-b6f7-bd7e66dfc36e",
   "metadata": {
    "tags": []
   },
   "outputs": [],
   "source": []
  },
  {
   "cell_type": "code",
   "execution_count": null,
   "id": "abd77dd7-5986-4e4c-993e-5eca7d755855",
   "metadata": {
    "tags": []
   },
   "outputs": [],
   "source": []
  },
  {
   "cell_type": "code",
   "execution_count": null,
   "id": "9e5581ab-ed36-40ed-a0a0-15968be73f3f",
   "metadata": {},
   "outputs": [],
   "source": []
  }
 ],
 "metadata": {
  "kernelspec": {
   "display_name": "Python 3 (ipykernel)",
   "language": "python",
   "name": "python3"
  },
  "language_info": {
   "codemirror_mode": {
    "name": "ipython",
    "version": 3
   },
   "file_extension": ".py",
   "mimetype": "text/x-python",
   "name": "python",
   "nbconvert_exporter": "python",
   "pygments_lexer": "ipython3",
   "version": "3.8.17"
  }
 },
 "nbformat": 4,
 "nbformat_minor": 5
}
