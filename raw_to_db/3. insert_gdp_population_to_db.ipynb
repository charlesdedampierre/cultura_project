{
 "cells": [
  {
   "cell_type": "code",
   "execution_count": 1,
   "id": "29912036-6931-4a92-92ff-bc68abbcaf3d",
   "metadata": {
    "tags": []
   },
   "outputs": [],
   "source": [
    "# Plot gdp per capita and cultural_index per capita on the same graph for every region\n",
    "# to show how the cultural index can completer the gdp per capita index"
   ]
  },
  {
   "cell_type": "code",
   "execution_count": 2,
   "id": "5b66a38d-8284-44dd-9010-f81bada6d3e9",
   "metadata": {
    "tags": []
   },
   "outputs": [],
   "source": [
    "import sys\n",
    "\n",
    "sys.path.append(\"../\")\n",
    "\n",
    "import pandas as pd\n",
    "import numpy as np\n",
    "\n",
    "from dotenv import load_dotenv\n",
    "\n",
    "load_dotenv()\n",
    "import os\n",
    "\n",
    "import sqlite3\n",
    "\n",
    "NEW_DB_PATH = os.getenv(\"NEW_DB_PATH\")\n",
    "DATA_ENV_PATH = os.getenv(\"DATA_ENV_PATH\")\n",
    "\n",
    "conn = sqlite3.connect(NEW_DB_PATH)"
   ]
  },
  {
   "cell_type": "code",
   "execution_count": null,
   "id": "2d3f2811-96f2-4d70-9a9d-218f5dd49e58",
   "metadata": {
    "tags": []
   },
   "outputs": [],
   "source": []
  },
  {
   "cell_type": "code",
   "execution_count": 3,
   "id": "7bb807b8-8081-459f-bdbe-8a22f9f0e8d8",
   "metadata": {},
   "outputs": [],
   "source": [
    "# Load GDP DATA"
   ]
  },
  {
   "cell_type": "code",
   "execution_count": 4,
   "id": "0e847198-ef17-4215-80b9-19d3139253ff",
   "metadata": {
    "tags": []
   },
   "outputs": [],
   "source": [
    "def get_population(data_path_environment):\n",
    "    pop_region = pd.read_csv(\n",
    "        data_path_environment\n",
    "        + \"/ENS - Cultural Index - Countries Databases - population_region.csv\"\n",
    "    )\n",
    "    pop_value = pd.read_csv(\n",
    "        data_path_environment\n",
    "        + \"/ENS - Cultural Index - Countries Databases - population_value.csv\"\n",
    "    )\n",
    "    df_population = pd.merge(pop_region, pop_value, on=\"region_code_atlas\")\n",
    "\n",
    "    df_population = df_population[~df_population[\"value\"].isna()]\n",
    "    df_population[\"value\"] = df_population[\"value\"].apply(lambda x: x.replace(\",\", \".\"))\n",
    "    df_population[\"value\"] = df_population[\"value\"].astype(float)\n",
    "    df_population[\"year\"] = df_population[\"year\"].astype(int)\n",
    "    df_population = df_population.drop_duplicates()\n",
    "\n",
    "    df_equiv = (\n",
    "        df_population[[\"region_code\", \"region_code_atlas\"]]\n",
    "        .drop_duplicates()\n",
    "        .reset_index(drop=True)\n",
    "    )\n",
    "\n",
    "    df_population = df_population.drop(\"region_code\", axis=1)\n",
    "    df_population = df_population.drop_duplicates().reset_index(drop=True)\n",
    "\n",
    "    # in case there is two different values for the same region_code_atlas/year by mistakes, things could add up\n",
    "    df_population = df_population.drop_duplicates(\n",
    "        [\"region_code_atlas\", \"year\"], keep=\"first\"\n",
    "    )\n",
    "    df_population = df_population.dropna().reset_index(drop=True)\n",
    "\n",
    "    # create a new DataFrame with year values for every 10 years\n",
    "    # new_years = list(range(min(df_population['year']), max(df_population['year'])+1, 10))\n",
    "\n",
    "    full_list = []\n",
    "    for region_code in list(set(df_population[\"region_code_atlas\"])):\n",
    "        df_population_filtered = df_population[\n",
    "            df_population[\"region_code_atlas\"] == region_code\n",
    "        ]\n",
    "\n",
    "        # create a new DataFrame with year values for every 10 years\n",
    "        new_years = list(\n",
    "            range(\n",
    "                min(df_population_filtered[\"year\"]),\n",
    "                max(df_population_filtered[\"year\"]) + 1,\n",
    "                10,\n",
    "            )\n",
    "        )\n",
    "\n",
    "        new_df = pd.DataFrame({\"year\": new_years})\n",
    "        new_df[\"region_code_atlas\"] = region_code\n",
    "\n",
    "        new_df = pd.merge(\n",
    "            new_df,\n",
    "            df_population_filtered,\n",
    "            on=[\"year\", \"region_code_atlas\"],\n",
    "            how=\"outer\",\n",
    "        )\n",
    "        new_df = new_df.sort_values(\"year\")\n",
    "        new_df[\"value\"] = new_df[\"value\"].interpolate(method=\"linear\")\n",
    "        new_df = new_df.dropna().reset_index(drop=True)\n",
    "\n",
    "        full_list.append(new_df)\n",
    "\n",
    "    df_years = pd.concat([x for x in full_list])\n",
    "    df_years = df_years.reset_index(drop=True)\n",
    "\n",
    "    final = pd.merge(df_equiv, df_years, on=\"region_code_atlas\")\n",
    "    final = final.groupby([\"region_code\", \"year\"])[\"value\"].sum().reset_index()\n",
    "    df_years = final.rename(columns={\"value\": \"population\"})\n",
    "\n",
    "    return df_years\n",
    "\n",
    "\n",
    "\n",
    "def get_maddison_data(data_path_environment):\n",
    "    # country_code_maddison #year #gdp_per_capita\n",
    "    df_maddison = pd.read_csv(\n",
    "        data_path_environment + \"/gdp_per_capita_maddison.csv\", index_col=[0]\n",
    "    )\n",
    "\n",
    "    # region_code #code_country_maddison #code_country\n",
    "    gdp_equiv = pd.read_csv(\n",
    "        data_path_environment\n",
    "        + \"/ENS - Cultural Index - Countries Databases - gdp_consolidate_table.csv\"\n",
    "    )\n",
    "   \n",
    "    gdp_equiv = gdp_equiv[[\"region_code\", \"code_country_maddison\"]]\n",
    "    gdp_equiv.columns = [\"region_code\", \"country_code_maddison\"]\n",
    "    gdp_equiv = gdp_equiv.dropna().reset_index(drop=True)\n",
    "\n",
    "    df_maddison_stats = pd.merge(gdp_equiv, df_maddison, on=\"country_code_maddison\")\n",
    "\n",
    "    return df_maddison_stats"
   ]
  },
  {
   "cell_type": "code",
   "execution_count": 5,
   "id": "081b216e-8b73-4d8b-bf0b-4e1e1445755c",
   "metadata": {
    "tags": []
   },
   "outputs": [],
   "source": [
    "data_gdp = get_maddison_data(DATA_ENV_PATH)"
   ]
  },
  {
   "cell_type": "code",
   "execution_count": 6,
   "id": "ab7d48ef-ff97-4660-a17f-43fd04bf674a",
   "metadata": {
    "tags": []
   },
   "outputs": [
    {
     "data": {
      "text/plain": [
       "5785"
      ]
     },
     "execution_count": 6,
     "metadata": {},
     "output_type": "execute_result"
    }
   ],
   "source": [
    "data_gdp =data_gdp[data_gdp['year']<=1850]\n",
    "data_gdp.to_sql('gdp', conn, if_exists = 'replace', index=False)"
   ]
  },
  {
   "cell_type": "code",
   "execution_count": 7,
   "id": "59e5114f-f58f-4ffc-9d6c-352729ca05cc",
   "metadata": {
    "tags": []
   },
   "outputs": [
    {
     "data": {
      "text/plain": [
       "9872"
      ]
     },
     "execution_count": 7,
     "metadata": {},
     "output_type": "execute_result"
    }
   ],
   "source": [
    "df_population = get_population(DATA_ENV_PATH)\n",
    "df_population.to_sql('population', conn, if_exists = 'replace', index=False)"
   ]
  },
  {
   "cell_type": "markdown",
   "id": "80e9b3af-b59c-47f0-83c6-1d91c8d1ac32",
   "metadata": {},
   "source": [
    "### Insert Clean GDP"
   ]
  },
  {
   "cell_type": "code",
   "execution_count": 9,
   "id": "1a85f67d-78e4-4f5c-ba4a-b351684fdf26",
   "metadata": {},
   "outputs": [],
   "source": [
    "df_gdp_clean = data_gdp[data_gdp['year']>=1810]\n",
    "count_points = df_gdp_clean.region_code.value_counts()\n",
    "count_points = count_points[count_points>10]\n",
    "\n",
    "df_gdp_clean = df_gdp_clean[df_gdp_clean['region_code'].isin(list(count_points.index))]\n",
    "\n",
    "regions = ['re_eastern_europe',\n",
    " 're_france',\n",
    " 're_italy',\n",
    " 're_low_countries',\n",
    " 're_nordic_countries',\n",
    " 're_united_kingdom']\n",
    "\n",
    "df_gdp_clean = df_gdp_clean[df_gdp_clean['region_code'].isin(regions)]\n",
    "df_gdp_clean = df_gdp_clean.reset_index(drop=True)"
   ]
  },
  {
   "cell_type": "code",
   "execution_count": 11,
   "id": "8b4aa333-e0ba-4fc9-ba93-24c0bce6d509",
   "metadata": {
    "tags": []
   },
   "outputs": [
    {
     "data": {
      "text/plain": [
       "230"
      ]
     },
     "execution_count": 11,
     "metadata": {},
     "output_type": "execute_result"
    }
   ],
   "source": [
    "df_gdp_clean.to_sql('gdp_clean', conn, if_exists = 'replace', index=False)"
   ]
  },
  {
   "cell_type": "code",
   "execution_count": 16,
   "id": "c19de619-6c2a-4351-a394-62fda8c9e151",
   "metadata": {
    "tags": []
   },
   "outputs": [],
   "source": [
    "df_ind_regions = pd.read_sql_query(\"SELECT * FROM individuals_regions\", conn)\n",
    "df_clean_gdp = pd.read_sql_query(\"SELECT * FROM gdp_clean\", conn)"
   ]
  },
  {
   "cell_type": "code",
   "execution_count": 34,
   "id": "27cb5a73-9e8a-452a-8eb7-d8a154097eef",
   "metadata": {
    "tags": []
   },
   "outputs": [
    {
     "data": {
      "text/plain": [
       "1810"
      ]
     },
     "execution_count": 34,
     "metadata": {},
     "output_type": "execute_result"
    }
   ],
   "source": [
    "min(df_clean_gdp.year)"
   ]
  },
  {
   "cell_type": "code",
   "execution_count": 31,
   "id": "3966e8d6-4375-4ca1-8962-1c68a458a9cb",
   "metadata": {
    "tags": []
   },
   "outputs": [
    {
     "data": {
      "text/html": [
       "<div>\n",
       "<style scoped>\n",
       "    .dataframe tbody tr th:only-of-type {\n",
       "        vertical-align: middle;\n",
       "    }\n",
       "\n",
       "    .dataframe tbody tr th {\n",
       "        vertical-align: top;\n",
       "    }\n",
       "\n",
       "    .dataframe thead th {\n",
       "        text-align: right;\n",
       "    }\n",
       "</style>\n",
       "<table border=\"1\" class=\"dataframe\">\n",
       "  <thead>\n",
       "    <tr style=\"text-align: right;\">\n",
       "      <th></th>\n",
       "      <th>region_code</th>\n",
       "      <th>country_code_maddison</th>\n",
       "      <th>year</th>\n",
       "      <th>gdp_per_capita</th>\n",
       "    </tr>\n",
       "  </thead>\n",
       "  <tbody>\n",
       "    <tr>\n",
       "      <th>0</th>\n",
       "      <td>re_italy</td>\n",
       "      <td>ITA</td>\n",
       "      <td>1810</td>\n",
       "      <td>2558</td>\n",
       "    </tr>\n",
       "    <tr>\n",
       "      <th>1</th>\n",
       "      <td>re_italy</td>\n",
       "      <td>ITA</td>\n",
       "      <td>1811</td>\n",
       "      <td>2473</td>\n",
       "    </tr>\n",
       "    <tr>\n",
       "      <th>2</th>\n",
       "      <td>re_italy</td>\n",
       "      <td>ITA</td>\n",
       "      <td>1812</td>\n",
       "      <td>2527</td>\n",
       "    </tr>\n",
       "    <tr>\n",
       "      <th>3</th>\n",
       "      <td>re_italy</td>\n",
       "      <td>ITA</td>\n",
       "      <td>1813</td>\n",
       "      <td>2596</td>\n",
       "    </tr>\n",
       "    <tr>\n",
       "      <th>4</th>\n",
       "      <td>re_italy</td>\n",
       "      <td>ITA</td>\n",
       "      <td>1814</td>\n",
       "      <td>2627</td>\n",
       "    </tr>\n",
       "    <tr>\n",
       "      <th>...</th>\n",
       "      <td>...</td>\n",
       "      <td>...</td>\n",
       "      <td>...</td>\n",
       "      <td>...</td>\n",
       "    </tr>\n",
       "    <tr>\n",
       "      <th>225</th>\n",
       "      <td>re_united_kingdom</td>\n",
       "      <td>GBR</td>\n",
       "      <td>1846</td>\n",
       "      <td>4334</td>\n",
       "    </tr>\n",
       "    <tr>\n",
       "      <th>226</th>\n",
       "      <td>re_united_kingdom</td>\n",
       "      <td>GBR</td>\n",
       "      <td>1847</td>\n",
       "      <td>4234</td>\n",
       "    </tr>\n",
       "    <tr>\n",
       "      <th>227</th>\n",
       "      <td>re_united_kingdom</td>\n",
       "      <td>GBR</td>\n",
       "      <td>1848</td>\n",
       "      <td>4361</td>\n",
       "    </tr>\n",
       "    <tr>\n",
       "      <th>228</th>\n",
       "      <td>re_united_kingdom</td>\n",
       "      <td>GBR</td>\n",
       "      <td>1849</td>\n",
       "      <td>4422</td>\n",
       "    </tr>\n",
       "    <tr>\n",
       "      <th>229</th>\n",
       "      <td>re_united_kingdom</td>\n",
       "      <td>GBR</td>\n",
       "      <td>1850</td>\n",
       "      <td>4332</td>\n",
       "    </tr>\n",
       "  </tbody>\n",
       "</table>\n",
       "<p>230 rows × 4 columns</p>\n",
       "</div>"
      ],
      "text/plain": [
       "           region_code country_code_maddison  year  gdp_per_capita\n",
       "0             re_italy                   ITA  1810            2558\n",
       "1             re_italy                   ITA  1811            2473\n",
       "2             re_italy                   ITA  1812            2527\n",
       "3             re_italy                   ITA  1813            2596\n",
       "4             re_italy                   ITA  1814            2627\n",
       "..                 ...                   ...   ...             ...\n",
       "225  re_united_kingdom                   GBR  1846            4334\n",
       "226  re_united_kingdom                   GBR  1847            4234\n",
       "227  re_united_kingdom                   GBR  1848            4361\n",
       "228  re_united_kingdom                   GBR  1849            4422\n",
       "229  re_united_kingdom                   GBR  1850            4332\n",
       "\n",
       "[230 rows x 4 columns]"
      ]
     },
     "execution_count": 31,
     "metadata": {},
     "output_type": "execute_result"
    }
   ],
   "source": [
    "df_clean_gdp"
   ]
  },
  {
   "cell_type": "code",
   "execution_count": null,
   "id": "9458ca7a-7064-40bc-879d-3c5a90cbedfb",
   "metadata": {
    "tags": []
   },
   "outputs": [],
   "source": []
  },
  {
   "cell_type": "code",
   "execution_count": null,
   "id": "8c22d38f-ccf5-4a53-b273-eeafc3c01af2",
   "metadata": {},
   "outputs": [],
   "source": []
  }
 ],
 "metadata": {
  "kernelspec": {
   "display_name": "Python 3 (ipykernel)",
   "language": "python",
   "name": "python3"
  },
  "language_info": {
   "codemirror_mode": {
    "name": "ipython",
    "version": 3
   },
   "file_extension": ".py",
   "mimetype": "text/x-python",
   "name": "python",
   "nbconvert_exporter": "python",
   "pygments_lexer": "ipython3",
   "version": "3.8.18"
  }
 },
 "nbformat": 4,
 "nbformat_minor": 5
}
