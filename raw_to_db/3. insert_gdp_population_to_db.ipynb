{
 "cells": [
  {
   "cell_type": "code",
   "execution_count": 1,
   "id": "29912036-6931-4a92-92ff-bc68abbcaf3d",
   "metadata": {
    "tags": []
   },
   "outputs": [],
   "source": [
    "# Plot gdp per capita and cultural_index per capita on the same graph for every region\n",
    "# to show how the cultural index can completer the gdp per capita index"
   ]
  },
  {
   "cell_type": "code",
   "execution_count": 2,
   "id": "5b66a38d-8284-44dd-9010-f81bada6d3e9",
   "metadata": {
    "tags": []
   },
   "outputs": [],
   "source": [
    "import sys\n",
    "\n",
    "sys.path.append(\"../\")\n",
    "\n",
    "import pandas as pd\n",
    "import numpy as np\n",
    "\n",
    "from dotenv import load_dotenv\n",
    "\n",
    "load_dotenv()\n",
    "import os\n",
    "\n",
    "import sqlite3\n",
    "\n",
    "NEW_DB_PATH = os.getenv(\"NEW_DB_PATH\")\n",
    "DATA_ENV_PATH = os.getenv(\"DATA_ENV_PATH\")\n",
    "\n",
    "conn = sqlite3.connect(NEW_DB_PATH)"
   ]
  },
  {
   "cell_type": "code",
   "execution_count": 3,
   "id": "7bb807b8-8081-459f-bdbe-8a22f9f0e8d8",
   "metadata": {},
   "outputs": [],
   "source": [
    "# Load GDP DATA"
   ]
  },
  {
   "cell_type": "code",
   "execution_count": 4,
   "id": "0e847198-ef17-4215-80b9-19d3139253ff",
   "metadata": {
    "tags": []
   },
   "outputs": [],
   "source": [
    "def get_population(data_path_environment):\n",
    "    pop_region = pd.read_csv(\n",
    "        data_path_environment\n",
    "        + \"/ENS - Cultural Index - Countries Databases - population_region.csv\"\n",
    "    )\n",
    "    pop_value = pd.read_csv(\n",
    "        data_path_environment\n",
    "        + \"/ENS - Cultural Index - Countries Databases - population_value.csv\"\n",
    "    )\n",
    "    df_population = pd.merge(pop_region, pop_value, on=\"region_code_atlas\")\n",
    "\n",
    "    df_population = df_population[~df_population[\"value\"].isna()]\n",
    "    df_population[\"value\"] = df_population[\"value\"].apply(lambda x: x.replace(\",\", \".\"))\n",
    "    df_population[\"value\"] = df_population[\"value\"].astype(float)\n",
    "    df_population[\"year\"] = df_population[\"year\"].astype(int)\n",
    "    df_population = df_population.drop_duplicates()\n",
    "\n",
    "    df_equiv = (\n",
    "        df_population[[\"region_code\", \"region_code_atlas\"]]\n",
    "        .drop_duplicates()\n",
    "        .reset_index(drop=True)\n",
    "    )\n",
    "\n",
    "    df_population = df_population.drop(\"region_code\", axis=1)\n",
    "    df_population = df_population.drop_duplicates().reset_index(drop=True)\n",
    "\n",
    "    # in case there is two different values for the same region_code_atlas/year by mistakes, things could add up\n",
    "    df_population = df_population.drop_duplicates(\n",
    "        [\"region_code_atlas\", \"year\"], keep=\"first\"\n",
    "    )\n",
    "    df_population = df_population.dropna().reset_index(drop=True)\n",
    "\n",
    "    # create a new DataFrame with year values for every 10 years\n",
    "    # new_years = list(range(min(df_population['year']), max(df_population['year'])+1, 10))\n",
    "\n",
    "    full_list = []\n",
    "    for region_code in list(set(df_population[\"region_code_atlas\"])):\n",
    "        df_population_filtered = df_population[\n",
    "            df_population[\"region_code_atlas\"] == region_code\n",
    "        ]\n",
    "\n",
    "        # create a new DataFrame with year values for every 10 years\n",
    "        new_years = list(\n",
    "            range(\n",
    "                min(df_population_filtered[\"year\"]),\n",
    "                max(df_population_filtered[\"year\"]) + 1,\n",
    "                10,\n",
    "            )\n",
    "        )\n",
    "\n",
    "        new_df = pd.DataFrame({\"year\": new_years})\n",
    "        new_df[\"region_code_atlas\"] = region_code\n",
    "\n",
    "        new_df = pd.merge(\n",
    "            new_df,\n",
    "            df_population_filtered,\n",
    "            on=[\"year\", \"region_code_atlas\"],\n",
    "            how=\"outer\",\n",
    "        )\n",
    "        new_df = new_df.sort_values(\"year\")\n",
    "        new_df[\"value\"] = new_df[\"value\"].interpolate(method=\"linear\")\n",
    "        new_df = new_df.dropna().reset_index(drop=True)\n",
    "\n",
    "        full_list.append(new_df)\n",
    "\n",
    "    df_years = pd.concat([x for x in full_list])\n",
    "    df_years = df_years.reset_index(drop=True)\n",
    "\n",
    "    final = pd.merge(df_equiv, df_years, on=\"region_code_atlas\")\n",
    "    final = final.groupby([\"region_code\", \"year\"])[\"value\"].sum().reset_index()\n",
    "    df_years = final.rename(columns={\"value\": \"population\"})\n",
    "\n",
    "    return df_years\n",
    "\n",
    "\n",
    "\n",
    "def get_maddison_data(data_path_environment):\n",
    "    # country_code_maddison #year #gdp_per_capita\n",
    "    df_maddison = pd.read_csv(\n",
    "        data_path_environment + \"/gdp_per_capita_maddison.csv\", index_col=[0]\n",
    "    )\n",
    "\n",
    "    # region_code #code_country_maddison #code_country\n",
    "    gdp_equiv = pd.read_csv(\n",
    "        data_path_environment\n",
    "        + \"/ENS - Cultural Index - Countries Databases - gdp_consolidate_table.csv\"\n",
    "    )\n",
    "   \n",
    "    gdp_equiv = gdp_equiv[[\"region_code\", \"code_country_maddison\"]]\n",
    "    gdp_equiv.columns = [\"region_code\", \"country_code_maddison\"]\n",
    "    gdp_equiv = gdp_equiv.dropna().reset_index(drop=True)\n",
    "\n",
    "    df_maddison_stats = pd.merge(gdp_equiv, df_maddison, on=\"country_code_maddison\")\n",
    "\n",
    "    return df_maddison_stats"
   ]
  },
  {
   "cell_type": "code",
   "execution_count": 5,
   "id": "081b216e-8b73-4d8b-bf0b-4e1e1445755c",
   "metadata": {
    "tags": []
   },
   "outputs": [],
   "source": [
    "data_gdp = get_maddison_data(DATA_ENV_PATH)\n",
    "data_gdp =data_gdp[data_gdp['year']<=1880]\n",
    "data_gdp.to_sql('gdp', conn, if_exists = 'replace', index=False)\n",
    "data_gdp.to_csv('../environnement_data/gdp.csv')"
   ]
  },
  {
   "cell_type": "code",
   "execution_count": 6,
   "id": "b0d9f5ab",
   "metadata": {},
   "outputs": [],
   "source": [
    "df_population = get_population(DATA_ENV_PATH)\n",
    "# get the smooth of the population\n",
    "import statsmodels.api as sm\n",
    "lowess = sm.nonparametric.lowess"
   ]
  },
  {
   "cell_type": "code",
   "execution_count": 7,
   "id": "b66787e9",
   "metadata": {},
   "outputs": [],
   "source": [
    "list_population_smoothed = []\n",
    "for region  in df_population['region_code'].unique():\n",
    "    df_loess = df_population[df_population['region_code']==region]\n",
    "    df_loess =df_loess.sort_values(by='year')\n",
    "    # Fit a LOESS regression\n",
    "    population_smooth = lowess(df_loess['population'], df_loess['year'], frac=0.2)\n",
    "    smoothed_df = pd.DataFrame(population_smooth, columns=['year', 'population'])\n",
    "    smoothed_df['region_code'] = region\n",
    "    list_population_smoothed.append(smoothed_df)\n",
    "\n",
    "df_population_smoothed = pd.concat([x for x in list_population_smoothed])"
   ]
  },
  {
   "cell_type": "code",
   "execution_count": 8,
   "id": "edb8032b",
   "metadata": {},
   "outputs": [
    {
     "data": {
      "text/plain": [
       "<Axes: xlabel='year'>"
      ]
     },
     "execution_count": 8,
     "metadata": {},
     "output_type": "execute_result"
    },
    {
     "data": {
      "image/png": "[encoded data removed]",
      "text/plain": [
       "<Figure size 640x480 with 1 Axes>"
      ]
     },
     "metadata": {},
     "output_type": "display_data"
    }
   ],
   "source": [
    "df_region = pd.read_csv('../environnement_data/region_code_region_name.csv')\n",
    "df_population_smoothed_clean_region = pd.merge(df_population_smoothed, df_region, on = 'region_code')\n",
    "df_population_smoothed_clean_region[df_population_smoothed_clean_region['region_code']=='re_chinese_world'].plot(x=\"year\", y = 'population')"
   ]
  },
  {
   "cell_type": "code",
   "execution_count": 9,
   "id": "ed830c91",
   "metadata": {},
   "outputs": [],
   "source": [
    "\n",
    "df_population_smoothed_clean_region.to_csv('../environnement_data/population_region_name.csv')\n",
    "df_population_smoothed.to_sql('population', conn, if_exists = 'replace', index=False)\n",
    "df_population_smoothed.to_csv('../environnement_data/population.csv')\n"
   ]
  },
  {
   "cell_type": "markdown",
   "id": "80e9b3af-b59c-47f0-83c6-1d91c8d1ac32",
   "metadata": {},
   "source": [
    "### Insert Clean GDP"
   ]
  },
  {
   "cell_type": "code",
   "execution_count": 10,
   "id": "1a85f67d-78e4-4f5c-ba4a-b351684fdf26",
   "metadata": {},
   "outputs": [],
   "source": [
    "df_gdp_clean = data_gdp[data_gdp['year']>=1810]\n",
    "count_points = df_gdp_clean.region_code.value_counts()\n",
    "count_points = count_points[count_points>10]\n",
    "\n",
    "df_gdp_clean = df_gdp_clean[df_gdp_clean['region_code'].isin(list(count_points.index))]\n",
    "\n",
    "regions = ['re_eastern_europe',\n",
    " 're_france',\n",
    " 're_italy',\n",
    " 're_low_countries',\n",
    " 're_nordic_countries',\n",
    " 're_united_kingdom']\n",
    "\n",
    "df_gdp_clean = df_gdp_clean[df_gdp_clean['region_code'].isin(regions)]\n",
    "df_gdp_clean = df_gdp_clean.reset_index(drop=True)"
   ]
  },
  {
   "cell_type": "code",
   "execution_count": 11,
   "id": "8b4aa333-e0ba-4fc9-ba93-24c0bce6d509",
   "metadata": {
    "tags": []
   },
   "outputs": [],
   "source": [
    "df_gdp_clean.to_sql('gdp_clean', conn, if_exists = 'replace', index=False)\n",
    "df_gdp_clean.to_csv('../environnement_data/gdp_clean.csv')"
   ]
  }
 ],
 "metadata": {
  "kernelspec": {
   "display_name": "Python 3 (ipykernel)",
   "language": "python",
   "name": "python3"
  },
  "language_info": {
   "codemirror_mode": {
    "name": "ipython",
    "version": 3
   },
   "file_extension": ".py",
   "mimetype": "text/x-python",
   "name": "python",
   "nbconvert_exporter": "python",
   "pygments_lexer": "ipython3",
   "version": "3.11.7"
  }
 },
 "nbformat": 4,
 "nbformat_minor": 5
}
