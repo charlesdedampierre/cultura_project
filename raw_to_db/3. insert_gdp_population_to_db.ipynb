{
 "cells": [
  {
   "cell_type": "code",
   "execution_count": 49,
   "id": "29912036-6931-4a92-92ff-bc68abbcaf3d",
   "metadata": {
    "tags": []
   },
   "outputs": [],
   "source": [
    "# Plot gdp per capita and cultural_index per capita on the same graph for every region\n",
    "# to show how the cultural index can completer the gdp per capita index"
   ]
  },
  {
   "cell_type": "code",
   "execution_count": 9,
   "id": "5b66a38d-8284-44dd-9010-f81bada6d3e9",
   "metadata": {
    "tags": []
   },
   "outputs": [],
   "source": [
    "import sys\n",
    "\n",
    "sys.path.append(\"../\")\n",
    "\n",
    "import pandas as pd\n",
    "import numpy as np\n",
    "\n",
    "from dotenv import load_dotenv\n",
    "\n",
    "load_dotenv()\n",
    "import os\n",
    "\n",
    "import sqlite3\n",
    "\n",
    "NEW_DB_PATH = os.getenv(\"NEW_DB_PATH\")\n",
    "DATA_ENV_PATH = os.getenv(\"DATA_ENV_PATH\")\n",
    "\n",
    "conn = sqlite3.connect(NEW_DB_PATH)"
   ]
  },
  {
   "cell_type": "code",
   "execution_count": null,
   "id": "2d3f2811-96f2-4d70-9a9d-218f5dd49e58",
   "metadata": {
    "tags": []
   },
   "outputs": [],
   "source": []
  },
  {
   "cell_type": "code",
   "execution_count": 74,
   "id": "7bb807b8-8081-459f-bdbe-8a22f9f0e8d8",
   "metadata": {},
   "outputs": [],
   "source": [
    "# Load GDP DATA"
   ]
  },
  {
   "cell_type": "code",
   "execution_count": 8,
   "id": "0e847198-ef17-4215-80b9-19d3139253ff",
   "metadata": {
    "tags": []
   },
   "outputs": [],
   "source": [
    "def get_population(data_path_environment):\n",
    "    pop_region = pd.read_csv(\n",
    "        data_path_environment\n",
    "        + \"/ENS - Cultural Index - Countries Databases - population_region.csv\"\n",
    "    )\n",
    "    pop_value = pd.read_csv(\n",
    "        data_path_environment\n",
    "        + \"/ENS - Cultural Index - Countries Databases - population_value.csv\"\n",
    "    )\n",
    "    df_population = pd.merge(pop_region, pop_value, on=\"region_code_atlas\")\n",
    "\n",
    "    df_population = df_population[~df_population[\"value\"].isna()]\n",
    "    df_population[\"value\"] = df_population[\"value\"].apply(lambda x: x.replace(\",\", \".\"))\n",
    "    df_population[\"value\"] = df_population[\"value\"].astype(float)\n",
    "    df_population[\"year\"] = df_population[\"year\"].astype(int)\n",
    "    df_population = df_population.drop_duplicates()\n",
    "\n",
    "    df_equiv = (\n",
    "        df_population[[\"region_code\", \"region_code_atlas\"]]\n",
    "        .drop_duplicates()\n",
    "        .reset_index(drop=True)\n",
    "    )\n",
    "\n",
    "    df_population = df_population.drop(\"region_code\", axis=1)\n",
    "    df_population = df_population.drop_duplicates().reset_index(drop=True)\n",
    "\n",
    "    # in case there is two different values for the same region_code_atlas/year by mistakes, things could add up\n",
    "    df_population = df_population.drop_duplicates(\n",
    "        [\"region_code_atlas\", \"year\"], keep=\"first\"\n",
    "    )\n",
    "    df_population = df_population.dropna().reset_index(drop=True)\n",
    "\n",
    "    # create a new DataFrame with year values for every 10 years\n",
    "    # new_years = list(range(min(df_population['year']), max(df_population['year'])+1, 10))\n",
    "\n",
    "    full_list = []\n",
    "    for region_code in list(set(df_population[\"region_code_atlas\"])):\n",
    "        df_population_filtered = df_population[\n",
    "            df_population[\"region_code_atlas\"] == region_code\n",
    "        ]\n",
    "\n",
    "        # create a new DataFrame with year values for every 10 years\n",
    "        new_years = list(\n",
    "            range(\n",
    "                min(df_population_filtered[\"year\"]),\n",
    "                max(df_population_filtered[\"year\"]) + 1,\n",
    "                10,\n",
    "            )\n",
    "        )\n",
    "\n",
    "        new_df = pd.DataFrame({\"year\": new_years})\n",
    "        new_df[\"region_code_atlas\"] = region_code\n",
    "\n",
    "        new_df = pd.merge(\n",
    "            new_df,\n",
    "            df_population_filtered,\n",
    "            on=[\"year\", \"region_code_atlas\"],\n",
    "            how=\"outer\",\n",
    "        )\n",
    "        new_df = new_df.sort_values(\"year\")\n",
    "        new_df[\"value\"] = new_df[\"value\"].interpolate(method=\"linear\")\n",
    "        new_df = new_df.dropna().reset_index(drop=True)\n",
    "\n",
    "        full_list.append(new_df)\n",
    "\n",
    "    df_years = pd.concat([x for x in full_list])\n",
    "    df_years = df_years.reset_index(drop=True)\n",
    "\n",
    "    final = pd.merge(df_equiv, df_years, on=\"region_code_atlas\")\n",
    "    final = final.groupby([\"region_code\", \"year\"])[\"value\"].sum().reset_index()\n",
    "    df_years = final.rename(columns={\"value\": \"population\"})\n",
    "\n",
    "    return df_years\n",
    "\n",
    "\n",
    "\n",
    "def get_maddison_data(data_path_environment):\n",
    "    # country_code_maddison #year #gdp_per_capita\n",
    "    df_maddison = pd.read_csv(\n",
    "        data_path_environment + \"/gdp_per_capita_maddison.csv\", index_col=[0]\n",
    "    )\n",
    "\n",
    "    # region_code #code_country_maddison #code_country\n",
    "    gdp_equiv = pd.read_csv(\n",
    "        data_path_environment\n",
    "        + \"/ENS - Cultural Index - Countries Databases - gdp_consolidate_table.csv\"\n",
    "    )\n",
    "   \n",
    "    gdp_equiv = gdp_equiv[[\"region_code\", \"code_country_maddison\"]]\n",
    "    gdp_equiv.columns = [\"region_code\", \"country_code_maddison\"]\n",
    "    gdp_equiv = gdp_equiv.dropna().reset_index(drop=True)\n",
    "\n",
    "    df_maddison_stats = pd.merge(gdp_equiv, df_maddison, on=\"country_code_maddison\")\n",
    "\n",
    "    return df_maddison_stats"
   ]
  },
  {
   "cell_type": "code",
   "execution_count": 18,
   "id": "ab7d48ef-ff97-4660-a17f-43fd04bf674a",
   "metadata": {
    "tags": []
   },
   "outputs": [
    {
     "data": {
      "text/plain": [
       "5785"
      ]
     },
     "execution_count": 18,
     "metadata": {},
     "output_type": "execute_result"
    }
   ],
   "source": [
    "data_gdp = get_maddison_data(DATA_ENV_PATH)\n",
    "data_gdp =data_gdp[data_gdp['year']<=1850]\n",
    "data_gdp.to_sql('gdp', conn, if_exists = 'replace', index=False)"
   ]
  },
  {
   "cell_type": "code",
   "execution_count": 27,
   "id": "59e5114f-f58f-4ffc-9d6c-352729ca05cc",
   "metadata": {
    "tags": []
   },
   "outputs": [
    {
     "data": {
      "text/plain": [
       "9872"
      ]
     },
     "execution_count": 27,
     "metadata": {},
     "output_type": "execute_result"
    }
   ],
   "source": [
    "df_population = get_population(DATA_ENV_PATH)\n",
    "df_population.to_sql('population', conn, if_exists = 'replace', index=False)"
   ]
  },
  {
   "cell_type": "code",
   "execution_count": null,
   "id": "1a85f67d-78e4-4f5c-ba4a-b351684fdf26",
   "metadata": {},
   "outputs": [],
   "source": []
  }
 ],
 "metadata": {
  "kernelspec": {
   "display_name": "Python 3 (ipykernel)",
   "language": "python",
   "name": "python3"
  },
  "language_info": {
   "codemirror_mode": {
    "name": "ipython",
    "version": 3
   },
   "file_extension": ".py",
   "mimetype": "text/x-python",
   "name": "python",
   "nbconvert_exporter": "python",
   "pygments_lexer": "ipython3",
   "version": "3.8.18"
  }
 },
 "nbformat": 4,
 "nbformat_minor": 5
}
