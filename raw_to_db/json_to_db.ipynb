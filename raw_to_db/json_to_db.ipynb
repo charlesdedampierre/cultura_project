{
 "cells": [
  {
   "cell_type": "code",
   "execution_count": 43,
   "id": "db2209cc-cbeb-4383-b417-c8c333a14bf1",
   "metadata": {
    "tags": []
   },
   "outputs": [],
   "source": [
    "import sys\n",
    "\n",
    "sys.path.append('../')\n",
    "\n",
    "import pandas as pd\n",
    "\n",
    "from dotenv import load_dotenv\n",
    "\n",
    "load_dotenv()\n",
    "import os\n",
    "\n",
    "import sqlite3\n",
    "import re\n",
    "import seaborn as sns\n",
    "from data_model import Individual\n",
    "from sys_utils import load_model"
   ]
  },
  {
   "cell_type": "code",
   "execution_count": 44,
   "id": "def926ff-6a96-4f54-b645-7208f37bd709",
   "metadata": {
    "tags": []
   },
   "outputs": [],
   "source": [
    "WIKIDATA_RAW_DATA = os.getenv(\"WIKIDATA_RAW_DATA\")\n",
    "MANUAL_DATA = os.getenv(\"MANUAL_DATA\")\n",
    "CHECKPOINT_PATH = os.getenv(\"CHECKPOINT_PATH\")\n",
    "DB_ENV = os.getenv(\"DB_PATH\")"
   ]
  },
  {
   "cell_type": "code",
   "execution_count": null,
   "id": "c5ed5298-e73e-49e4-b4df-c61f40f9bdfd",
   "metadata": {},
   "outputs": [],
   "source": []
  },
  {
   "cell_type": "code",
   "execution_count": 45,
   "id": "2b5a8106-c640-4a5b-90a8-d14e5aae468b",
   "metadata": {
    "tags": []
   },
   "outputs": [],
   "source": [
    "individuals = load_model(\n",
    "        Individual, name=CHECKPOINT_PATH + \"/individuals.jsonl\"\n",
    "    )"
   ]
  },
  {
   "cell_type": "code",
   "execution_count": 46,
   "id": "93ea285c-0c50-4ab5-86d9-3d2acddc9b5e",
   "metadata": {},
   "outputs": [],
   "source": [
    "conn = sqlite3.connect('/cultura.db')\n",
    "\n",
    "# create a cursor object\n",
    "cursor = conn.cursor()\n",
    "\n",
    "# get a list of all tables in the database\n",
    "cursor.execute(\"SELECT name FROM sqlite_master WHERE type='table'\")\n",
    "tables = cursor.fetchall()\n",
    "\n",
    "# drop each table in the database\n",
    "for table in tables:\n",
    "    cursor.execute(f\"DROP TABLE IF EXISTS {table[0]}\")\n",
    "\n",
    "# commit the changes and close the connection\n",
    "conn.commit()"
   ]
  },
  {
   "attachments": {},
   "cell_type": "markdown",
   "id": "07e96f6b-5940-475f-b44f-df75d344f119",
   "metadata": {
    "tags": []
   },
   "source": [
    "#### Move Individuals"
   ]
  },
  {
   "cell_type": "code",
   "execution_count": 47,
   "id": "1fdbd812-bef7-4206-91ec-8c93ee34f013",
   "metadata": {},
   "outputs": [
    {
     "data": {
      "text/plain": [
       "Individual(id=RawIndividual(wikidata_id='Q6121397', name='Santos Domínguez y Benguria', birthyear=1841, gender=['male'], raw_nationalities=[RawNationality(wikidata_id='Q29', name='Spain', location='Point(-3.5 40.2)')], raw_birthcities=None, occupations=[Occupation(wikidata_id='Q42973', name='architect', category=['artist'])]), impact_years=(1850, 1900), cultural_score=0.10024749047065873, country=Country(name='Spain', code='es'), wikipedia_pages=[WikipediaPage(url='https://es.wikipedia.org/wiki/Santos_Dom%C3%ADnguez_y_Benguria', language='es', links_ext_count=5, links_out_count=25, links_in_count=9, author='Doctor seisdedos', author_editcount=2986, editors=16, minor_edits=9, revisions=26, pageviews=23, characters=1187, references=0, unique_references=0, words=199, created_at='2006-11-19')], regions=['re_western_europe', 're_spain'], identifiers=[ExternalID(wikidata_id='P213', name='ISNI'), ExternalID(wikidata_id='P214', name='VIAF ID'), ExternalID(wikidata_id='P244', name='Library of Congress authority ID'), ExternalID(wikidata_id='P2163', name='FAST ID'), ExternalID(wikidata_id='P2671', name='Google Knowledge Graph ID'), ExternalID(wikidata_id='P7859', name='WorldCat Identities ID')])"
      ]
     },
     "execution_count": 47,
     "metadata": {},
     "output_type": "execute_result"
    }
   ],
   "source": [
    "individuals[1]"
   ]
  },
  {
   "cell_type": "code",
   "execution_count": 48,
   "id": "62d79338-feb8-428d-99d5-db671c067723",
   "metadata": {},
   "outputs": [],
   "source": [
    "df_fil = [\n",
    "    {\"individual_wikidata_id\":x.id.wikidata_id,\n",
    "        \"individual_name\": x.id.name,\n",
    "        \"wikipedia_cultural_score\":x.cultural_score if x.cultural_score is not None else None,\n",
    "        \"gender\": x.id.gender,\n",
    "        \"birthyear\": x.id.birthyear,\n",
    "        \"individual_impact_years\": x.impact_years,\n",
    "        \"nationality_wikidata_id\": [y.wikidata_id for y in x.id.raw_nationalities] if x.id.raw_nationalities is not None else [],\n",
    "        \"nationality_name\": [y.name for y in x.id.raw_nationalities] if x.id.raw_nationalities is not None else [],\n",
    "        \"nationality_location\": [y.location for y in x.id.raw_nationalities] if x.id.raw_nationalities is not None else [],\n",
    "        \"occupations_wikidata_id\": [y.wikidata_id for y in x.id.occupations] if x.id.occupations is not None else [],\n",
    "        \"birthcity_wikidata_id\": [y.wikidata_id for y in x.id.raw_birthcities] if x.id.raw_birthcities is not None else [],\n",
    "         \"birthcity_name\": [y.name for y in x.id.raw_birthcities] if x.id.raw_birthcities is not None else [],\n",
    "        \"birthcity_country_wikidata_id\": [y.country_wikidata_id for y in x.id.raw_birthcities] if x.id.raw_birthcities is not None else [],\n",
    "        \"birthcity_country_name\": [y.country_name for y in x.id.raw_birthcities] if x.id.raw_birthcities is not None else [],\n",
    "        \"birthcity_country_location\": [y.country_location for y in x.id.raw_birthcities] if x.id.raw_birthcities is not None else [],     \n",
    "        \"country_code\":x.country.code if x.country is not None else None,\n",
    "        \"country_name\":x.country.name if x.country is not None else None,\n",
    "        \"region_code\": [y for y in x.regions] if x.regions is not None else [],\n",
    "        \"identifiers_wikidata_id\":[y.wikidata_id for y in x.identifiers] if x.identifiers is not None else [],\n",
    "        \"wikipedia_page_url\": [y.url for y in x.wikipedia_pages] if  x.wikipedia_pages is not None else []\n",
    "     \n",
    "         \n",
    "    }\n",
    "    for x in individuals\n",
    "]\n",
    "df_fil = pd.DataFrame(df_fil)\n",
    "\n",
    "\n",
    "pattern = re.compile('^Q\\d')\n",
    "df_fil = df_fil[~df_fil['individual_name'].apply(lambda x: bool(pattern.match(x)))]"
   ]
  },
  {
   "cell_type": "code",
   "execution_count": null,
   "id": "84ea3092-1e25-4d57-899c-0eb1853fc3a5",
   "metadata": {},
   "outputs": [],
   "source": []
  },
  {
   "cell_type": "code",
   "execution_count": 49,
   "id": "4da3de9b-6160-4431-923e-231b1d1301e2",
   "metadata": {},
   "outputs": [
    {
     "data": {
      "text/plain": [
       "218085"
      ]
     },
     "execution_count": 49,
     "metadata": {},
     "output_type": "execute_result"
    }
   ],
   "source": [
    "# Move Gender\n",
    "\n",
    "df_insert = df_fil[['individual_wikidata_id', 'individual_name', 'gender']]\n",
    "df_insert = df_insert.explode('gender')\n",
    "df_insert = df_insert.dropna()\n",
    "df_insert = df_insert[~df_insert['gender'].str.startswith('http')]\n",
    "df_insert = df_insert.drop_duplicates().reset_index(drop=True)\n",
    "df_insert.to_sql(f'individual_gender', conn, if_exists = 'replace', index=False)"
   ]
  },
  {
   "cell_type": "code",
   "execution_count": 50,
   "id": "49778889-b5d4-4bfd-b96e-9978ea4886fd",
   "metadata": {},
   "outputs": [
    {
     "data": {
      "text/plain": [
       "148543"
      ]
     },
     "execution_count": 50,
     "metadata": {},
     "output_type": "execute_result"
    }
   ],
   "source": [
    "# Move nationality\n",
    "\n",
    "df_insert = df_fil[['individual_wikidata_id', 'individual_name','nationality_wikidata_id', 'nationality_name', 'nationality_location']]\n",
    "df_insert = df_insert.explode(['nationality_wikidata_id', 'nationality_name', 'nationality_location'])\n",
    "df_insert = df_insert.dropna(subset=['nationality_wikidata_id'])\n",
    "df_insert['nationality_location'][df_insert['nationality_location']=='nan'] = None\n",
    "\n",
    "df_insert['nationality_longitude'] = df_insert['nationality_location'].apply(lambda x: x.split(' ')[0].split('(')[1] if x is not None else None).astype(float)\n",
    "df_insert['nationality_latitude'] = df_insert['nationality_location'].apply(lambda x: x.split(' ')[1].split(')')[0]  if x is not None else None).astype(float)\n",
    "df_insert.to_sql(f'individual_nationality', conn, if_exists = 'replace', index=False)"
   ]
  },
  {
   "cell_type": "code",
   "execution_count": 51,
   "id": "6242dfd4-4a2e-49fa-a65b-513ccc8859d1",
   "metadata": {},
   "outputs": [],
   "source": [
    "# move birthcity"
   ]
  },
  {
   "cell_type": "code",
   "execution_count": 52,
   "id": "a4d9579e-7d85-46e4-8bb7-04155163f3da",
   "metadata": {},
   "outputs": [
    {
     "data": {
      "text/plain": [
       "147828"
      ]
     },
     "execution_count": 52,
     "metadata": {},
     "output_type": "execute_result"
    }
   ],
   "source": [
    "df_ind_birthcity = df_fil[['individual_wikidata_id', 'individual_name', 'birthcity_wikidata_id', 'birthcity_name']]\n",
    "df_ind_birthcity = df_ind_birthcity.explode(['birthcity_wikidata_id', 'birthcity_name'])\n",
    "df_ind_birthcity = df_ind_birthcity.dropna()\n",
    "df_ind_birthcity.to_sql(f'individual_birthcity', conn, if_exists = 'replace', index=False)"
   ]
  },
  {
   "cell_type": "code",
   "execution_count": null,
   "id": "6d17f817-7c95-48c4-a217-0b88bcf4ee04",
   "metadata": {},
   "outputs": [],
   "source": []
  },
  {
   "cell_type": "code",
   "execution_count": 53,
   "id": "2d8acf38-57f6-4f4a-a62e-5ef035c075e2",
   "metadata": {},
   "outputs": [],
   "source": [
    "# add birthcity meta_data"
   ]
  },
  {
   "cell_type": "code",
   "execution_count": 54,
   "id": "7cc9c698-7719-45fb-9fef-8388909096e7",
   "metadata": {},
   "outputs": [
    {
     "data": {
      "text/plain": [
       "34072"
      ]
     },
     "execution_count": 54,
     "metadata": {},
     "output_type": "execute_result"
    }
   ],
   "source": [
    "df_birthcity = df_fil[['birthcity_wikidata_id', 'birthcity_name', 'birthcity_country_wikidata_id', 'birthcity_country_name', 'birthcity_country_location']]\n",
    "cols = ['birthcity_wikidata_id', 'birthcity_name', 'birthcity_country_wikidata_id', 'birthcity_country_name', 'birthcity_country_location']\n",
    "df_birthcity = df_birthcity.explode(cols)\n",
    "df_birthcity = df_birthcity.drop_duplicates()\n",
    "df_birthcity = df_birthcity.dropna(subset=['birthcity_wikidata_id'])\n",
    "df_birthcity['birthcity_country_location'][df_birthcity['birthcity_country_location']=='nan'] = None\n",
    "df_birthcity['country_longitude'] = df_birthcity['birthcity_country_location'].apply(lambda x: x.split(' ')[0].split('(')[1] if x is not None else None).astype(float)\n",
    "df_birthcity['country_latitude'] = df_birthcity['birthcity_country_location'].apply(lambda x: x.split(' ')[1].split(')')[0]  if x is not None else None).astype(float)\n",
    "df_birthcity.to_sql(f'birthcity', conn, if_exists = 'replace', index=False)"
   ]
  },
  {
   "cell_type": "code",
   "execution_count": 55,
   "id": "c6cef19f-923b-4f8f-8b6e-e6a2ef583a10",
   "metadata": {},
   "outputs": [],
   "source": [
    "# add idenfiers"
   ]
  },
  {
   "cell_type": "code",
   "execution_count": null,
   "id": "b11fda08-a3a8-4c27-9890-f1725dfb1313",
   "metadata": {},
   "outputs": [],
   "source": []
  },
  {
   "cell_type": "code",
   "execution_count": 56,
   "id": "512716d3-daac-45a1-862b-024c042ad247",
   "metadata": {},
   "outputs": [],
   "source": [
    "df_insert = df_fil[[\"individual_wikidata_id\",'individual_name', 'identifiers_wikidata_id']]\n",
    "df_insert = df_insert.explode('identifiers_wikidata_id')\n",
    "df_insert = df_insert.dropna().reset_index(drop=True)"
   ]
  },
  {
   "cell_type": "code",
   "execution_count": 57,
   "id": "9dc5eaaa-ba8c-4e49-bcf3-b87796baef36",
   "metadata": {},
   "outputs": [
    {
     "data": {
      "text/plain": [
       "8022"
      ]
     },
     "execution_count": 57,
     "metadata": {},
     "output_type": "execute_result"
    }
   ],
   "source": [
    "df_id = pd.read_csv(WIKIDATA_RAW_DATA + '/identifiers.csv')\n",
    "df_id['property'] = df_id['property'].apply(lambda x : x.split('entity/')[1])\n",
    "df_id['country'] = df_id['country'].apply(lambda x: x.split('entity/')[1] if (x is not None) and (not isinstance(x, float)) else None)\n",
    "df_id['count_records'][df_id['count_records'].fillna(\"\").str.contains('http')] = None\n",
    "df_id['count_records'] = df_id['count_records'].astype(float)\n",
    "df_id = df_id.rename(columns = {'property':'identifiers_wikidata_id'})\n",
    "df_id = df_id.rename(columns = {'country':'country_wikidata_id'})\n",
    "df_id = df_id.rename(columns = {'source_url':'identifier_url'})\n",
    "df_id = df_id.rename(columns = {'count_records':'count_records'})\n",
    "df_id = df_id.rename(columns = {'countryLabel':'country_name'})\n",
    "df_id = df_id.rename(columns = {'propertyLabel':'identifier_name'})\n",
    "df_id = df_id.drop_duplicates('identifiers_wikidata_id', keep='first')\n",
    "df_id['identifier_name_country'] = df_id.fillna(\"\").apply(lambda x : x['identifier_name'] + ' ('  + x['country_name'] + ')' if x['country_name']!='' else x['identifier_name'], axis=1)\n",
    "df_id.to_sql('identifiers', conn, if_exists = 'replace', index=False)\n",
    "\n"
   ]
  },
  {
   "cell_type": "code",
   "execution_count": null,
   "id": "62c2f4fb-58dc-4f03-8930-547e5860025e",
   "metadata": {},
   "outputs": [],
   "source": []
  },
  {
   "cell_type": "code",
   "execution_count": 58,
   "id": "8d338bfb-cd8b-4dff-b2cd-65cead1c3aa2",
   "metadata": {},
   "outputs": [],
   "source": [
    "# add the rest of identifiers"
   ]
  },
  {
   "cell_type": "code",
   "execution_count": 59,
   "id": "172b1b2f-24b3-4152-b0a2-dc8a050463a4",
   "metadata": {
    "tags": []
   },
   "outputs": [],
   "source": [
    "import json\n",
    "\n",
    "with open(WIKIDATA_RAW_DATA + '/external_identifiers_missing.json', 'r') as f:\n",
    "    data_rest = json.load(f)"
   ]
  },
  {
   "cell_type": "code",
   "execution_count": 60,
   "id": "5b815f18-1f16-4869-b0d0-427ea3610961",
   "metadata": {
    "tags": []
   },
   "outputs": [],
   "source": [
    "data_fil = [x for x in data_rest if x != []]\n",
    "data_fil = [x for x in data_fil if x is not None]"
   ]
  },
  {
   "cell_type": "code",
   "execution_count": null,
   "id": "6e1d547b-78fd-453f-be2e-a5e37b00b629",
   "metadata": {
    "tags": []
   },
   "outputs": [],
   "source": []
  },
  {
   "cell_type": "code",
   "execution_count": 61,
   "id": "0ab7c1f7-9641-426e-9f36-48de6aa3e87f",
   "metadata": {
    "tags": []
   },
   "outputs": [],
   "source": [
    "individual_wikidata_id = [x[0]['p']['value'] for x in data_fil]\n",
    "individual_name = [x[0]['pLabel']['value'] for x in data_fil]\n",
    "\n",
    "identifiers_wikidata_id = [[y['p']['value'] for y in x[1:]] for x in data_fil]\n",
    "identifier_name = [[y['pLabel']['value'] for y in x[1:]] for x in data_fil]\n",
    "\n",
    "df_rest =  pd.DataFrame({'individual_wikidata_id':individual_wikidata_id, \n",
    "                         'individual_name':individual_name, \n",
    "                         'identifiers_wikidata_id': identifiers_wikidata_id,\n",
    "                         'identifier_name':identifier_name\n",
    "                     \n",
    "                       })\n",
    "df_rest = df_rest.explode(['identifiers_wikidata_id', 'identifier_name'])\n",
    "df_rest['individual_wikidata_id'] = df_rest['individual_wikidata_id'].apply(lambda x : x.split('/entity/')[1])\n",
    "df_rest = df_rest.dropna()\n",
    "df_rest['identifiers_wikidata_id'] = df_rest['identifiers_wikidata_id'].apply(lambda x : x.split('/entity/')[1] if ('entity' in x and x is not None) else None)\n",
    "df_rest = df_rest[~df_rest['individual_wikidata_id'].str.startswith('P')]\n",
    "df_rest = df_rest.drop(['identifier_name'], axis=1)\n",
    "\n",
    "final_insert = pd.concat([df_insert, df_rest])"
   ]
  },
  {
   "cell_type": "code",
   "execution_count": 62,
   "id": "68bea597-a752-474d-84ee-35cb4f5dd72d",
   "metadata": {},
   "outputs": [
    {
     "data": {
      "text/plain": [
       "3003272"
      ]
     },
     "execution_count": 62,
     "metadata": {},
     "output_type": "execute_result"
    }
   ],
   "source": [
    "df_final_id = pd.merge(final_insert, df_id[['identifiers_wikidata_id', 'identifier_name']], on = 'identifiers_wikidata_id')\n",
    "df_final_id = df_final_id.drop_duplicates()\n",
    "df_final_id.to_sql(f'individual_identifiers', conn, if_exists = 'replace', index=False)"
   ]
  },
  {
   "cell_type": "code",
   "execution_count": null,
   "id": "6c2627f5-58f2-4759-b022-7819af9c5509",
   "metadata": {},
   "outputs": [],
   "source": []
  },
  {
   "cell_type": "code",
   "execution_count": 63,
   "id": "c197af92-388d-468f-88ed-6155e9e984d3",
   "metadata": {},
   "outputs": [],
   "source": [
    "df_count_id = df_final_id.groupby(['individual_wikidata_id', 'individual_name'])['identifiers_wikidata_id'].count().rename('identifier_score').reset_index()"
   ]
  },
  {
   "cell_type": "code",
   "execution_count": null,
   "id": "d68f800b-7ccf-4571-8708-4044c7703b77",
   "metadata": {},
   "outputs": [],
   "source": []
  },
  {
   "attachments": {},
   "cell_type": "markdown",
   "id": "6b8b0b5c-eb24-4aa8-8bf2-f8a481f6904c",
   "metadata": {},
   "source": [
    "#### Add Wikipedia Page"
   ]
  },
  {
   "cell_type": "code",
   "execution_count": 64,
   "id": "95be29ae-ef0c-44cc-b56f-3318947dc4de",
   "metadata": {},
   "outputs": [],
   "source": [
    "df_wikipedia = [\n",
    "    {\"individual_wikidata_id\":x.id.wikidata_id,\n",
    "    \"individual_name\": x.id.name,\n",
    "    \"wikipedia_page_url\": [y.url for y in x.wikipedia_pages] if  x.wikipedia_pages is not None else [],\n",
    "    \"language\": [y.language for y in x.wikipedia_pages] if  x.wikipedia_pages is not None else [],\n",
    "    \"links_ext_count\": [y.links_ext_count for y in x.wikipedia_pages] if  x.wikipedia_pages is not None else [],\n",
    "    \"links_out_count\": [y.links_out_count for y in x.wikipedia_pages] if  x.wikipedia_pages is not None else [],\n",
    "    \"links_in_count\": [y.links_in_count for y in x.wikipedia_pages] if  x.wikipedia_pages is not None else [],\n",
    "    \"author\": [y.author for y in x.wikipedia_pages] if  x.wikipedia_pages is not None else [],\n",
    "    \"author_editcount\": [y.author_editcount for y in x.wikipedia_pages] if  x.wikipedia_pages is not None else [],\n",
    "    \"editors\": [y.editors for y in x.wikipedia_pages] if  x.wikipedia_pages is not None else [],\n",
    "    \"minor_edits\": [y.minor_edits for y in x.wikipedia_pages] if  x.wikipedia_pages is not None else [],\n",
    "    \"revisions\": [y.revisions for y in x.wikipedia_pages] if  x.wikipedia_pages is not None else [],\n",
    "    \"pageviews\": [y.pageviews for y in x.wikipedia_pages] if  x.wikipedia_pages is not None else [],\n",
    "    \"characters\": [y.characters for y in x.wikipedia_pages] if  x.wikipedia_pages is not None else [],\n",
    "    \"references\": [y.references for y in x.wikipedia_pages] if  x.wikipedia_pages is not None else [],\n",
    "    \"unique_references\": [y.unique_references for y in x.wikipedia_pages] if  x.wikipedia_pages is not None else [],\n",
    "    \"words\": [y.words for y in x.wikipedia_pages] if  x.wikipedia_pages is not None else [],\n",
    "    \"created_at\": [y.created_at for y in x.wikipedia_pages] if  x.wikipedia_pages is not None else []\n",
    "    } \n",
    "    \n",
    "    for x in individuals]\n",
    "\n",
    "df_wikipedia = pd.DataFrame(df_wikipedia)\n",
    "pattern = re.compile('^Q\\d')\n",
    "df_wikipedia = df_wikipedia[~df_wikipedia['individual_name'].apply(lambda x: bool(pattern.match(x)))]"
   ]
  },
  {
   "cell_type": "code",
   "execution_count": null,
   "id": "5a528bf5-8e5b-4751-bd8f-8e23985d3f10",
   "metadata": {},
   "outputs": [],
   "source": []
  },
  {
   "cell_type": "code",
   "execution_count": 65,
   "id": "79f6ad6f-685c-48fa-a779-348f27409033",
   "metadata": {},
   "outputs": [
    {
     "data": {
      "text/plain": [
       "699019"
      ]
     },
     "execution_count": 65,
     "metadata": {},
     "output_type": "execute_result"
    }
   ],
   "source": [
    "df_wikipedia = df_wikipedia.explode(['wikipedia_page_url',\n",
    "       'language', 'links_ext_count', 'links_out_count', 'links_in_count',\n",
    "       'author', 'author_editcount', 'editors', 'minor_edits', 'revisions',\n",
    "       'pageviews', 'characters', 'references', 'unique_references', 'words',\n",
    "       'created_at'])\n",
    "\n",
    "df_wikipedia = df_wikipedia.dropna(subset=['wikipedia_page_url'])\n",
    "df_wikipedia = df_wikipedia[df_wikipedia['wikipedia_page_url'].str.contains('wikipedia.org')]\n",
    "df_wikipedia = df_wikipedia.rename(columns = {'language':'language_code'})\n",
    "\n",
    "df_wiki_language = pd.read_csv(MANUAL_DATA + '/Wikipedia_language - code.csv')\n",
    "df_wiki_language = df_wiki_language.rename(columns = {'code':'language_code'})\n",
    "\n",
    "df_wikipedia = pd.merge(df_wikipedia, df_wiki_language, on = 'language_code')\n",
    "\n",
    "df_wikipedia = df_wikipedia.sort_values('individual_wikidata_id')\n",
    "df_wikipedia.to_sql('individual_wikipedia', conn, if_exists = 'replace', index=False)"
   ]
  },
  {
   "attachments": {},
   "cell_type": "markdown",
   "id": "51ce0580-02d2-4e05-ac9d-f4862596f72c",
   "metadata": {},
   "source": [
    "#### Occupation"
   ]
  },
  {
   "cell_type": "code",
   "execution_count": 66,
   "id": "a65c5034-59d6-42bc-b94a-b73788a32486",
   "metadata": {},
   "outputs": [
    {
     "data": {
      "text/plain": [
       "Individual(id=RawIndividual(wikidata_id='Q77297362', name='Jean Jacques Morgan', birthyear=1756, gender=['male'], raw_nationalities=[RawNationality(wikidata_id='Q142', name='France', location='Point(2.0 47.0)')], raw_birthcities=None, occupations=[Occupation(wikidata_id='Q1281618', name='sculptor', category=['artist'])]), impact_years=(1770, 1820), cultural_score=None, country=Country(name='France', code='fr'), wikipedia_pages=None, regions=['re_northwestern_europe', 're_western_europe', 're_france'], identifiers=None)"
      ]
     },
     "execution_count": 66,
     "metadata": {},
     "output_type": "execute_result"
    }
   ],
   "source": [
    "individuals[0]"
   ]
  },
  {
   "cell_type": "code",
   "execution_count": 67,
   "id": "6977b812-6be7-4fcb-9444-050ae00d2a03",
   "metadata": {},
   "outputs": [
    {
     "data": {
      "text/plain": [
       "319563"
      ]
     },
     "execution_count": 67,
     "metadata": {},
     "output_type": "execute_result"
    }
   ],
   "source": [
    "df_occupations = [\n",
    "    {\"individual_wikidata_id\":x.id.wikidata_id,\n",
    "        \"individual_name\": x.id.name,\n",
    "        \"occupations_wikidata_id\": [y.wikidata_id for y in x.id.occupations] if x.id.occupations is not None else [],\n",
    "       \"occupations_name\": [y.name for y in x.id.occupations] if x.id.occupations is not None else [],\n",
    "     \"occupations_category\": [y.category for y in x.id.occupations] if x.id.occupations is not None else [],\n",
    "         \n",
    "    }\n",
    "    for x in individuals\n",
    "]\n",
    "df_occupations = pd.DataFrame(df_occupations)\n",
    "\n",
    "pattern = re.compile('^Q\\d')\n",
    "df_occupations = df_occupations[~df_occupations['individual_name'].apply(lambda x: bool(pattern.match(x)))]\n",
    "df_occupations = df_occupations.explode(['occupations_wikidata_id', 'occupations_name', 'occupations_category'])\n",
    "df_occupations['occupations_category'] = df_occupations['occupations_category'].apply(lambda x: \"|\".join(x))\n",
    "df_occupations = df_occupations[~df_occupations['occupations_name'].apply(lambda x: bool(pattern.match(x)))]\n",
    "df_occupations = df_occupations.drop_duplicates().reset_index(drop=True)\n",
    "df_occupations.to_sql(f'individual_occupations', conn, if_exists = 'replace', index=False)"
   ]
  },
  {
   "attachments": {},
   "cell_type": "markdown",
   "id": "7864aeb9-29c5-46d9-8b60-c56e5a67ce9c",
   "metadata": {},
   "source": [
    "#### Main Individuals information"
   ]
  },
  {
   "cell_type": "code",
   "execution_count": 68,
   "id": "c71b327b-d421-4dd4-91bc-ba26ef3bca72",
   "metadata": {},
   "outputs": [],
   "source": [
    "df_ind = df_fil[['individual_wikidata_id', 'individual_name', 'birthyear', 'individual_impact_years', 'country_code', 'country_name', 'wikipedia_cultural_score']].copy()\n",
    "df_ind['individual_impact_years'] = df_ind['individual_impact_years'].apply(lambda x: str(x[0]) + '-' + str(x[1]))\n",
    "df_ind = pd.merge(df_ind, df_count_id, on = ['individual_wikidata_id', 'individual_name'], how = 'outer')"
   ]
  },
  {
   "cell_type": "code",
   "execution_count": 69,
   "id": "89044708-4b44-45b7-8b7d-7b90e22eca88",
   "metadata": {},
   "outputs": [
    {
     "data": {
      "text/plain": [
       "220770"
      ]
     },
     "execution_count": 69,
     "metadata": {},
     "output_type": "execute_result"
    }
   ],
   "source": [
    "df_ind.to_sql(f'individuals_main_information', conn, if_exists = 'replace', index=False)"
   ]
  },
  {
   "cell_type": "code",
   "execution_count": 70,
   "id": "4e8eac5f-0b94-4118-84b4-d9d4a4ccb3d3",
   "metadata": {},
   "outputs": [],
   "source": [
    "test = df_ind[~df_ind['identifier_score'].isna()]"
   ]
  },
  {
   "cell_type": "code",
   "execution_count": 71,
   "id": "fe7d5315-718d-4551-94b4-caf57fddbb19",
   "metadata": {},
   "outputs": [
    {
     "data": {
      "text/html": [
       "<div>\n",
       "<style scoped>\n",
       "    .dataframe tbody tr th:only-of-type {\n",
       "        vertical-align: middle;\n",
       "    }\n",
       "\n",
       "    .dataframe tbody tr th {\n",
       "        vertical-align: top;\n",
       "    }\n",
       "\n",
       "    .dataframe thead th {\n",
       "        text-align: right;\n",
       "    }\n",
       "</style>\n",
       "<table border=\"1\" class=\"dataframe\">\n",
       "  <thead>\n",
       "    <tr style=\"text-align: right;\">\n",
       "      <th></th>\n",
       "      <th>individual_wikidata_id</th>\n",
       "      <th>individual_name</th>\n",
       "      <th>birthyear</th>\n",
       "      <th>individual_impact_years</th>\n",
       "      <th>country_code</th>\n",
       "      <th>country_name</th>\n",
       "      <th>wikipedia_cultural_score</th>\n",
       "      <th>identifier_score</th>\n",
       "    </tr>\n",
       "  </thead>\n",
       "  <tbody>\n",
       "    <tr>\n",
       "      <th>43914</th>\n",
       "      <td>Q11668738</td>\n",
       "      <td>Kōzan Takai</td>\n",
       "      <td>1806.0</td>\n",
       "      <td>1820-1870</td>\n",
       "      <td>jp</td>\n",
       "      <td>Japan</td>\n",
       "      <td>0.100411</td>\n",
       "      <td>11.0</td>\n",
       "    </tr>\n",
       "    <tr>\n",
       "      <th>10728</th>\n",
       "      <td>Q32227</td>\n",
       "      <td>Alfred Malherbe</td>\n",
       "      <td>1804.0</td>\n",
       "      <td>1810-1860</td>\n",
       "      <td>mu</td>\n",
       "      <td>Mauritius</td>\n",
       "      <td>0.104475</td>\n",
       "      <td>21.0</td>\n",
       "    </tr>\n",
       "    <tr>\n",
       "      <th>99309</th>\n",
       "      <td>Q17352254</td>\n",
       "      <td>Luc-Vincent Thiéry</td>\n",
       "      <td>1734.0</td>\n",
       "      <td>1740-1790</td>\n",
       "      <td>fr</td>\n",
       "      <td>France</td>\n",
       "      <td>0.100114</td>\n",
       "      <td>15.0</td>\n",
       "    </tr>\n",
       "    <tr>\n",
       "      <th>168739</th>\n",
       "      <td>Q55281046</td>\n",
       "      <td>Alessandro Romani</td>\n",
       "      <td>1800.0</td>\n",
       "      <td>1810-1860</td>\n",
       "      <td>it</td>\n",
       "      <td>Italy</td>\n",
       "      <td>0.100245</td>\n",
       "      <td>10.0</td>\n",
       "    </tr>\n",
       "    <tr>\n",
       "      <th>220331</th>\n",
       "      <td>Q15821313</td>\n",
       "      <td>Johann Ketzmann</td>\n",
       "      <td>1487.0</td>\n",
       "      <td>1500-1550</td>\n",
       "      <td>de</td>\n",
       "      <td>Germany</td>\n",
       "      <td>0.100143</td>\n",
       "      <td>7.0</td>\n",
       "    </tr>\n",
       "    <tr>\n",
       "      <th>17265</th>\n",
       "      <td>Q96364395</td>\n",
       "      <td>Urs Füeg</td>\n",
       "      <td>1671.0</td>\n",
       "      <td>1680-1730</td>\n",
       "      <td>ch</td>\n",
       "      <td>Switzerland</td>\n",
       "      <td>NaN</td>\n",
       "      <td>8.0</td>\n",
       "    </tr>\n",
       "    <tr>\n",
       "      <th>115248</th>\n",
       "      <td>Q50842915</td>\n",
       "      <td>Ignác Klimkovič</td>\n",
       "      <td>1800.0</td>\n",
       "      <td>1810-1860</td>\n",
       "      <td>sk</td>\n",
       "      <td>Slovakia</td>\n",
       "      <td>0.100262</td>\n",
       "      <td>6.0</td>\n",
       "    </tr>\n",
       "    <tr>\n",
       "      <th>125957</th>\n",
       "      <td>Q102234</td>\n",
       "      <td>Balthasar Bebel</td>\n",
       "      <td>1632.0</td>\n",
       "      <td>1640-1690</td>\n",
       "      <td>fr</td>\n",
       "      <td>France</td>\n",
       "      <td>0.100526</td>\n",
       "      <td>24.0</td>\n",
       "    </tr>\n",
       "    <tr>\n",
       "      <th>37654</th>\n",
       "      <td>Q2073203</td>\n",
       "      <td>Annibale Stabile</td>\n",
       "      <td>1535.0</td>\n",
       "      <td>1550-1600</td>\n",
       "      <td>it</td>\n",
       "      <td>Italy</td>\n",
       "      <td>0.103332</td>\n",
       "      <td>23.0</td>\n",
       "    </tr>\n",
       "    <tr>\n",
       "      <th>20666</th>\n",
       "      <td>Q28790249</td>\n",
       "      <td>Alexis-Hervé-Jacques de Rougé</td>\n",
       "      <td>1841.0</td>\n",
       "      <td>1850-1900</td>\n",
       "      <td>None</td>\n",
       "      <td>None</td>\n",
       "      <td>NaN</td>\n",
       "      <td>9.0</td>\n",
       "    </tr>\n",
       "  </tbody>\n",
       "</table>\n",
       "</div>"
      ],
      "text/plain": [
       "       individual_wikidata_id                individual_name  birthyear  \\\n",
       "43914               Q11668738                    Kōzan Takai     1806.0   \n",
       "10728                  Q32227                Alfred Malherbe     1804.0   \n",
       "99309               Q17352254             Luc-Vincent Thiéry     1734.0   \n",
       "168739              Q55281046              Alessandro Romani     1800.0   \n",
       "220331              Q15821313                Johann Ketzmann     1487.0   \n",
       "17265               Q96364395                       Urs Füeg     1671.0   \n",
       "115248              Q50842915                Ignác Klimkovič     1800.0   \n",
       "125957                Q102234                Balthasar Bebel     1632.0   \n",
       "37654                Q2073203               Annibale Stabile     1535.0   \n",
       "20666               Q28790249  Alexis-Hervé-Jacques de Rougé     1841.0   \n",
       "\n",
       "       individual_impact_years country_code country_name  \\\n",
       "43914                1820-1870           jp        Japan   \n",
       "10728                1810-1860           mu    Mauritius   \n",
       "99309                1740-1790           fr       France   \n",
       "168739               1810-1860           it        Italy   \n",
       "220331               1500-1550           de      Germany   \n",
       "17265                1680-1730           ch  Switzerland   \n",
       "115248               1810-1860           sk     Slovakia   \n",
       "125957               1640-1690           fr       France   \n",
       "37654                1550-1600           it        Italy   \n",
       "20666                1850-1900         None         None   \n",
       "\n",
       "        wikipedia_cultural_score  identifier_score  \n",
       "43914                   0.100411              11.0  \n",
       "10728                   0.104475              21.0  \n",
       "99309                   0.100114              15.0  \n",
       "168739                  0.100245              10.0  \n",
       "220331                  0.100143               7.0  \n",
       "17265                        NaN               8.0  \n",
       "115248                  0.100262               6.0  \n",
       "125957                  0.100526              24.0  \n",
       "37654                   0.103332              23.0  \n",
       "20666                        NaN               9.0  "
      ]
     },
     "execution_count": 71,
     "metadata": {},
     "output_type": "execute_result"
    }
   ],
   "source": [
    "df_ind.sort_values('identifier_score', ascending=False).sample(10)"
   ]
  },
  {
   "attachments": {},
   "cell_type": "markdown",
   "id": "e29b99d6-8df8-4fb9-a657-50bf4bf73a8b",
   "metadata": {},
   "source": [
    "#### Add Indiviudal region_code"
   ]
  },
  {
   "cell_type": "code",
   "execution_count": 72,
   "id": "a74313fe-cb43-4483-b170-3917edeb1a81",
   "metadata": {},
   "outputs": [],
   "source": [
    "from data_model_region import Region"
   ]
  },
  {
   "cell_type": "code",
   "execution_count": 74,
   "id": "12f972e6-8efc-42ab-9182-d0df66941818",
   "metadata": {},
   "outputs": [],
   "source": [
    "regions = load_model(\n",
    "    Region, name=CHECKPOINT_PATH + \"/regions.jsonl\"\n",
    ")\n",
    "\n",
    "df_regions = [\n",
    "        {\n",
    "            \"region_code\": x.code,\n",
    "            \"region_name\": x.name,\n",
    "        }\n",
    "        for x in regions\n",
    "    ]\n",
    "\n",
    "df_regions = pd.DataFrame(df_regions)"
   ]
  },
  {
   "cell_type": "code",
   "execution_count": 75,
   "id": "9421cf2b-0393-450c-91f9-26f85665329c",
   "metadata": {},
   "outputs": [],
   "source": [
    "df_ind_region = df_fil[['individual_wikidata_id', 'individual_name', 'region_code']].copy()\n",
    "df_ind_region = df_ind_region.explode('region_code')\n",
    "df_ind_region = df_ind_region.dropna()\n",
    "df_ind_region = pd.merge(df_ind_region, df_regions, on = 'region_code')"
   ]
  },
  {
   "cell_type": "code",
   "execution_count": 76,
   "id": "9addb1ab-4482-4e34-9370-a35a48e4229c",
   "metadata": {},
   "outputs": [
    {
     "data": {
      "text/plain": [
       "571305"
      ]
     },
     "execution_count": 76,
     "metadata": {},
     "output_type": "execute_result"
    }
   ],
   "source": [
    "df_ind_region.to_sql(f'individuals_regions', conn, if_exists = 'replace', index=False)"
   ]
  },
  {
   "attachments": {},
   "cell_type": "markdown",
   "id": "8caaffbc-d9ed-40de-bd86-6aace73e6343",
   "metadata": {},
   "source": [
    "#### Add notable work"
   ]
  },
  {
   "cell_type": "code",
   "execution_count": 77,
   "id": "15221768-0eb6-44a8-9084-52fa65a79f9c",
   "metadata": {},
   "outputs": [],
   "source": [
    "import json\n",
    "\n",
    "with open(WIKIDATA_RAW_DATA + '/notable_work.json', 'r') as f:\n",
    "    data_notable = json.load(f)\n",
    "    \n",
    "data_fil = [x for x in data_notable if x != []]"
   ]
  },
  {
   "cell_type": "code",
   "execution_count": 78,
   "id": "1a67f1e4-78e1-4156-9f87-ce24e795d7c0",
   "metadata": {},
   "outputs": [],
   "source": [
    "wikidata_indi = [[y['subject']['value'] for y in x] if x is not None else [] for x in data_fil]\n",
    "wikidata_indi_label = [[y['subjectLabel']['value'] for y in x] if x is not None else [] for x in data_fil]\n",
    "wikidata_work = [[y['work']['value'] for y in x] if x is not None else []  for x in data_fil]\n",
    "wikidata_work_label = [[y['workLabel']['value'] for y in x] if x is not None else []  for x in data_fil]\n",
    "instance_label = [[y.get('instanceLabel', {}).get('value', None) for y in x] if x is not None else []  for x in data_fil]\n",
    "inception = [[y.get('inception', {}).get('value') for y in x] if x is not None else [] for x in data_fil]"
   ]
  },
  {
   "cell_type": "code",
   "execution_count": 79,
   "id": "282d24cb-9635-46df-b2c2-37d92e414c70",
   "metadata": {},
   "outputs": [],
   "source": [
    "df =  pd.DataFrame({'individual_wikidata_id':wikidata_indi, \n",
    "                     'individual_name':wikidata_indi_label, \n",
    "                     'notable_work_wikidata_id':wikidata_work,\n",
    "                     'notable_work_name':wikidata_work_label,\n",
    "                     'instance_label':instance_label,\n",
    "                    'inception':inception\n",
    "                   \n",
    "                   })\n",
    "\n",
    "df = df.apply(lambda col: col.explode())\n",
    "df = df.dropna(subset=['individual_wikidata_id'])\n",
    "df['individual_wikidata_id'] = df['individual_wikidata_id'].apply(lambda x : x.split('/entity/')[1])\n",
    "df['notable_work_wikidata_id'] = df['notable_work_wikidata_id'].apply(lambda x : x.split('/entity/')[1] if 'entity' in x else None)\n",
    "\n",
    "\n",
    "pattern = re.compile('^Q\\d')\n",
    "df = df[~df['individual_name'].apply(lambda x: bool(pattern.match(x)))]\n",
    "df = df[~df['notable_work_name'].apply(lambda x: bool(pattern.match(x)))]"
   ]
  },
  {
   "cell_type": "code",
   "execution_count": 80,
   "id": "916fffe0-82fd-412b-9fa9-756d48415c50",
   "metadata": {},
   "outputs": [],
   "source": [
    "def clean_date(raw_date):\n",
    "    try:\n",
    "        if raw_date.startswith(\"-\"):\n",
    "            clean_date = int(raw_date[:5])\n",
    "        else:\n",
    "            clean_date = int(raw_date[:4])\n",
    "\n",
    "    except:\n",
    "        clean_date = None\n",
    "    return clean_date"
   ]
  },
  {
   "cell_type": "code",
   "execution_count": null,
   "id": "75f45e9e-d8bb-40cf-98af-c540b92a3c84",
   "metadata": {},
   "outputs": [],
   "source": []
  },
  {
   "cell_type": "code",
   "execution_count": 81,
   "id": "4f21825f-9445-4ddb-a150-671d107eb6ea",
   "metadata": {},
   "outputs": [
    {
     "data": {
      "text/plain": [
       "20238"
      ]
     },
     "execution_count": 81,
     "metadata": {},
     "output_type": "execute_result"
    }
   ],
   "source": [
    "df_notable_work = df[['notable_work_wikidata_id', 'notable_work_name', 'instance_label', 'inception']].drop_duplicates()\n",
    "df_notable_work['year'] = df_notable_work['inception'].apply(lambda x : clean_date(x))\n",
    "df_notable_work.to_sql(f'notable_work', conn, if_exists = 'replace', index=False)"
   ]
  },
  {
   "cell_type": "code",
   "execution_count": null,
   "id": "78f04133-d00b-48b4-a1ab-635b248b9ece",
   "metadata": {},
   "outputs": [],
   "source": []
  },
  {
   "attachments": {},
   "cell_type": "markdown",
   "id": "a56a74bc-8588-46bc-848f-734a4d2b502f",
   "metadata": {},
   "source": [
    "#### Add authors and Creators"
   ]
  },
  {
   "cell_type": "code",
   "execution_count": 82,
   "id": "33159cb8-6613-47a5-aea3-3821f324eba1",
   "metadata": {},
   "outputs": [],
   "source": [
    "import json\n",
    "\n",
    "with open(WIKIDATA_RAW_DATA + '/work_as_creator_or_author.json', 'r') as f:\n",
    "    data_creator = json.load(f)\n",
    "    \n",
    "data_fil = [x for x in data_creator if x != []]\n",
    "data_fil = [x for x in data_fil if x is not None]\n",
    "\n",
    "wikidata_indi = [[y['subject']['value'] for y in x] if x is not None else [] for x in data_fil]\n",
    "wikidata_indi_label = [[y['subjectLabel']['value'] for y in x] if x is not None else [] for x in data_fil]\n",
    "wikidata_object = [[y['object']['value'] for y in x] if x is not None else []  for x in data_fil]\n",
    "wikidata_objectlabel = [[y['objectLabel']['value'] for y in x] if x is not None else []  for x in data_fil]\n",
    "instance_label = [[y.get('instanceLabel', {}).get('value') for y in x] if x is not None else []  for x in data_fil]\n",
    "instance = [[y.get('instance', {}).get('value') for y in x] if x is not None else []  for x in data_fil]\n",
    "inception = [[y.get('inception', {}).get('value') for y in x] if x is not None else [] for x in data_fil]\n",
    "publication_date = [[y.get('publication_date', {}).get('value') for y in x] if x is not None else [] for x in data_fil]\n",
    "\n",
    "df_object =  pd.DataFrame({'individual_wikidata_id':wikidata_indi, \n",
    "                         'individual_name':wikidata_indi_label, \n",
    "                         'work_wikidata_id':wikidata_object,\n",
    "                         'work_name':wikidata_objectlabel,\n",
    "                         'instance_label':instance_label,\n",
    "                        'instance_wikidata_id':instance,\n",
    "                         'inception':inception,\n",
    "                         'publication_date':publication_date\n",
    "                       })\n",
    "\n",
    "df_object = df_object.apply(lambda col: col.explode())\n"
   ]
  },
  {
   "cell_type": "code",
   "execution_count": 83,
   "id": "e7874057-6672-4484-b4e3-ff6fcd9d13c9",
   "metadata": {},
   "outputs": [],
   "source": [
    "\n",
    "\n",
    "df_object = df_object.dropna(subset=['individual_wikidata_id'])\n",
    "df_object['individual_wikidata_id'] = df_object['individual_wikidata_id'].apply(lambda x : x.split('/entity/')[1])\n",
    "df_object['work_wikidata_id'] = df_object['work_wikidata_id'].apply(lambda x : x.split('/entity/')[1] if 'entity' in x else None)\n",
    "df_object['instance_wikidata_id'] = df_object['instance_wikidata_id'].apply(lambda x : x.split('/entity/')[1] if x is not None else None)\n",
    "df_object['creation_year'] = df_object.apply(lambda row: row['publication_date'] if row['publication_date'] is not None else row['inception'], axis=1)\n",
    "df_object['creation_year'] = df_object['creation_year'].apply(lambda x: clean_date(x))"
   ]
  },
  {
   "cell_type": "code",
   "execution_count": 84,
   "id": "0a38c737-bc55-4832-b9e5-e2ce05d97174",
   "metadata": {},
   "outputs": [],
   "source": [
    "df_object_insert = df_object.drop(['individual_wikidata_id', 'individual_name'], axis=1).drop_duplicates()"
   ]
  },
  {
   "cell_type": "code",
   "execution_count": 85,
   "id": "9cb88dff-c013-4156-9e15-d724a354da37",
   "metadata": {},
   "outputs": [],
   "source": [
    "df_indi_object = df_object[['individual_wikidata_id', 'individual_name', 'work_wikidata_id', 'work_name']].drop_duplicates()"
   ]
  },
  {
   "cell_type": "code",
   "execution_count": 86,
   "id": "7ef8a225-df3e-4c82-a913-317de6a7ff21",
   "metadata": {},
   "outputs": [
    {
     "data": {
      "text/plain": [
       "778826"
      ]
     },
     "execution_count": 86,
     "metadata": {},
     "output_type": "execute_result"
    }
   ],
   "source": [
    "df_indi_object.to_sql('individual_created_work', conn, if_exists = 'replace', index=False)"
   ]
  },
  {
   "cell_type": "code",
   "execution_count": 87,
   "id": "9f9b7508-4e6e-41c8-aba6-58601390f5ac",
   "metadata": {},
   "outputs": [],
   "source": [
    "with open(WIKIDATA_RAW_DATA + \"/instance_of_work_instance.json\", 'r') as f:\n",
    "    data_category = json.load(f)\n",
    "data_category = [x for x in data_category if x != []]\n",
    "data_category = [x for x in data_category if x is not None]"
   ]
  },
  {
   "cell_type": "code",
   "execution_count": null,
   "id": "7e10ff62-40b7-49ce-b4ac-33a430b94d8a",
   "metadata": {},
   "outputs": [],
   "source": []
  },
  {
   "cell_type": "code",
   "execution_count": 88,
   "id": "f7a9420d-850e-4629-b260-f6513f03a7fe",
   "metadata": {},
   "outputs": [],
   "source": [
    "work_wikidata_id = [[y['subject']['value'] for y in x] if x is not None else [] for x in data_category]\n",
    "work_label = [[y['subjectLabel']['value'] for y in x] if x is not None else [] for x in data_category]\n",
    "instance_label = [[y.get('instanceLabel', {}).get('value') for y in x] if x is not None else []  for x in data_category]\n",
    "instance = [[y.get('instance', {}).get('value') for y in x] if x is not None else []  for x in data_category]"
   ]
  },
  {
   "cell_type": "code",
   "execution_count": 89,
   "id": "0944de90-6fbf-4b1f-ab39-4deaa00961fd",
   "metadata": {},
   "outputs": [],
   "source": [
    "\n",
    "df_category =  pd.DataFrame({'instance_wikidata_id':work_wikidata_id, \n",
    "                         'instance_label':work_label, \n",
    "                         'super_instance_label':instance_label,\n",
    "                        'super_instance_wikidata_id':instance,\n",
    "                       })\n",
    "\n",
    "df_category = df_category.apply(lambda col: col.explode())\n",
    "df_category['super_instance_wikidata_id'] = df_category['super_instance_wikidata_id'].apply(lambda x : x.split('/entity/')[1])\n",
    "df_category['instance_wikidata_id'] = df_category['instance_wikidata_id'].apply(lambda x : x.split('/entity/')[1] if 'entity' in x else None)"
   ]
  },
  {
   "cell_type": "code",
   "execution_count": 90,
   "id": "5eb78e00-aaa9-463c-84c2-38f6a8dc7f8a",
   "metadata": {},
   "outputs": [],
   "source": [
    "df_object_insert = pd.merge(df_object_insert, df_category, on = ['instance_wikidata_id', 'instance_label'], how = 'outer')"
   ]
  },
  {
   "cell_type": "code",
   "execution_count": 91,
   "id": "31aae48a-d3da-4ab7-baae-3b6727bed21d",
   "metadata": {},
   "outputs": [],
   "source": [
    "df_instance_category = pd.read_csv(WIKIDATA_RAW_DATA + '/ENS - Clean Instance work - data.csv')\n",
    "df_instance_category = df_instance_category[~df_instance_category['work_category'].isna()]\n",
    "df_instance_category = df_instance_category[['instance_label', 'work_category']].drop_duplicates().reset_index(drop=True)"
   ]
  },
  {
   "cell_type": "code",
   "execution_count": 92,
   "id": "beba3637-90ce-4ef4-b6c8-e1937d72a88d",
   "metadata": {},
   "outputs": [],
   "source": [
    "df_object_insert_category = pd.merge(df_object_insert, df_instance_category, on = 'instance_label', how = 'outer')"
   ]
  },
  {
   "cell_type": "code",
   "execution_count": 93,
   "id": "dbda355b-8392-4e0a-a11d-3d36a38939a3",
   "metadata": {},
   "outputs": [],
   "source": [
    "df_work_object_creation_year = pd.read_csv(WIKIDATA_RAW_DATA + '/work_aggregated_year.csv', index_col = [0])\n",
    "df_object_insert_category = pd.merge(df_object_insert_category, df_work_object_creation_year, on = ['work_wikidata_id', 'work_name'], how = 'outer')\n",
    "df_object_insert_category = df_object_insert_category[~df_object_insert_category['work_name'].isna()]\n"
   ]
  },
  {
   "cell_type": "code",
   "execution_count": 94,
   "id": "d88ea41c-c98e-4ce5-b267-0310df794a77",
   "metadata": {},
   "outputs": [
    {
     "data": {
      "text/plain": [
       "980876"
      ]
     },
     "execution_count": 94,
     "metadata": {},
     "output_type": "execute_result"
    }
   ],
   "source": [
    "df_object_insert_category.to_sql('created_work', conn, if_exists = 'replace', index=False)"
   ]
  },
  {
   "cell_type": "code",
   "execution_count": null,
   "id": "5bd0fc22-a349-40fe-b89a-6a0b3da62cf7",
   "metadata": {},
   "outputs": [],
   "source": []
  },
  {
   "cell_type": "code",
   "execution_count": 95,
   "id": "bf353790-1fb9-4821-b391-11d12970d102",
   "metadata": {},
   "outputs": [],
   "source": [
    "import glob\n",
    "from tqdm import tqdm"
   ]
  },
  {
   "cell_type": "code",
   "execution_count": 96,
   "id": "0cd3bb51-fe74-449c-a185-d2da26d2b8ec",
   "metadata": {},
   "outputs": [],
   "source": [
    "paths = glob.glob(WIKIDATA_RAW_DATA + '/object_identifiers/*')"
   ]
  },
  {
   "cell_type": "code",
   "execution_count": null,
   "id": "4ca59b6d-1355-41dc-8e5d-667752a0e7d0",
   "metadata": {},
   "outputs": [],
   "source": []
  },
  {
   "cell_type": "code",
   "execution_count": 97,
   "id": "8bcb6da2-1975-4953-9ed4-5eaf409fcd7c",
   "metadata": {},
   "outputs": [
    {
     "name": "stderr",
     "output_type": "stream",
     "text": [
      "100%|████████████████████████████████████████████████████████████████████████████████████████████████████████████████████████| 8/8 [01:01<00:00,  7.63s/it]\n"
     ]
    }
   ],
   "source": [
    "data_fil = []\n",
    "\n",
    "for path in tqdm(paths):\n",
    "    with open(path, 'r') as f:\n",
    "        res = json.load(f)\n",
    "        res = [x for x in res if x != []]\n",
    "        res = [x for x in res if x is not None]\n",
    "        data_fil.append(res)"
   ]
  },
  {
   "cell_type": "code",
   "execution_count": 98,
   "id": "7a6e48b5-c192-434d-bb27-39fcbb7cce9a",
   "metadata": {},
   "outputs": [],
   "source": [
    "data_work_id = [item for sublist in data_fil for item in sublist]\n",
    "data_work_id = [x for x in data_work_id if len(x) >1]"
   ]
  },
  {
   "cell_type": "code",
   "execution_count": 99,
   "id": "0919dafd-8901-4d36-ad7d-4d765ce120cf",
   "metadata": {},
   "outputs": [],
   "source": [
    "individual_wikidata_id = [x[0]['p']['value'] for x in data_work_id]\n",
    "individual_name = [x[0]['pLabel']['value'] for x in data_work_id]\n",
    "\n",
    "identifiers_wikidata_id = [[y['p']['value'] for y in x[1:]] for x in data_work_id]\n",
    "identifier_name = [[y['pLabel']['value'] for y in x[1:]] for x in data_work_id]\n",
    "\n",
    "df_rest =  pd.DataFrame({'individual_wikidata_id':individual_wikidata_id, \n",
    "                         'individual_name':individual_name, \n",
    "                         'identifiers_wikidata_id': identifiers_wikidata_id,\n",
    "                         'identifier_name':identifier_name\n",
    "                     \n",
    "                       })"
   ]
  },
  {
   "cell_type": "code",
   "execution_count": 100,
   "id": "15f52cb5-f983-4996-8640-256df946ea42",
   "metadata": {},
   "outputs": [],
   "source": [
    "df_rest = df_rest.explode(['identifiers_wikidata_id', 'identifier_name'])\n",
    "df_rest['individual_wikidata_id'] = df_rest['individual_wikidata_id'].apply(lambda x : x.split('/entity/')[1])\n",
    "df_rest = df_rest.dropna()\n",
    "df_rest['identifiers_wikidata_id'] = df_rest['identifiers_wikidata_id'].apply(lambda x : x.split('/entity/')[1] if ('entity' in x and x is not None) else None)\n",
    "df_rest = df_rest[~df_rest['individual_wikidata_id'].str.startswith('P')]\n",
    "df_rest = df_rest.drop(['identifier_name'], axis=1)"
   ]
  },
  {
   "cell_type": "code",
   "execution_count": null,
   "id": "0915bf9d-4ff5-48ea-8854-7d5f49985942",
   "metadata": {},
   "outputs": [],
   "source": []
  },
  {
   "cell_type": "code",
   "execution_count": null,
   "id": "6106f067-1281-4f47-8cd0-b82a60fa0dad",
   "metadata": {},
   "outputs": [],
   "source": []
  },
  {
   "cell_type": "code",
   "execution_count": 101,
   "id": "e76f6462-38f4-40e4-b14f-aba49264ea28",
   "metadata": {},
   "outputs": [],
   "source": [
    "df_rest = pd.merge(df_rest, df_id[['identifiers_wikidata_id', 'identifier_name_country']].drop_duplicates(), on = ['identifiers_wikidata_id'])"
   ]
  },
  {
   "cell_type": "code",
   "execution_count": 102,
   "id": "9039f7e9-a397-4ce1-97dd-4974f2504b9c",
   "metadata": {},
   "outputs": [
    {
     "data": {
      "text/plain": [
       "604688"
      ]
     },
     "execution_count": 102,
     "metadata": {},
     "output_type": "execute_result"
    }
   ],
   "source": [
    "df_rest.to_sql('created_work_identifiers', conn, if_exists = 'replace', index=False)"
   ]
  },
  {
   "cell_type": "code",
   "execution_count": 103,
   "id": "277f05e2-e164-4b1f-bb83-4bc1f8838d85",
   "metadata": {},
   "outputs": [],
   "source": [
    "#df_rest.identifier_name_country.value_counts().head(20)"
   ]
  },
  {
   "attachments": {},
   "cell_type": "markdown",
   "id": "8353c82b-e4e0-4cea-af1b-e3485958dc7a",
   "metadata": {},
   "source": [
    "#### Add VIAF Id"
   ]
  },
  {
   "cell_type": "code",
   "execution_count": 104,
   "id": "755b408c-8085-4719-9b10-f87b63d29689",
   "metadata": {},
   "outputs": [
    {
     "data": {
      "text/plain": [
       "178669"
      ]
     },
     "execution_count": 104,
     "metadata": {},
     "output_type": "execute_result"
    }
   ],
   "source": [
    "import json\n",
    "\n",
    "with open(WIKIDATA_RAW_DATA + '/notable_viaf_id.json', 'r') as f:\n",
    "    data_viaf = json.load(f)\n",
    "    \n",
    "data_fil = [x for x in data_viaf if x != []]\n",
    "\n",
    "wikidata_indi = [[y['subject']['value'] for y in x] if x is not None else [] for x in data_fil]\n",
    "wikidata_indi_label = [[y['subjectLabel']['value'] for y in x] if x is not None else [] for x in data_fil]\n",
    "viaf_id = [[y['viaf_id']['value'] for y in x] if x is not None else []  for x in data_fil]\n",
    "\n",
    "df =  pd.DataFrame({'individual_wikidata_id':wikidata_indi, \n",
    "                     'individual_name':wikidata_indi_label, \n",
    "                     'viaf_id':viaf_id               \n",
    "                   })\n",
    "\n",
    "df = df.apply(lambda col: col.explode())\n",
    "df = df.dropna(subset=['individual_wikidata_id'])\n",
    "df['individual_wikidata_id'] = df['individual_wikidata_id'].apply(lambda x : x.split('/entity/')[1])\n",
    "df.to_sql(f'individual_viaf_id', conn, if_exists = 'replace', index=False)"
   ]
  },
  {
   "cell_type": "code",
   "execution_count": 105,
   "id": "fe9379bf-9a3a-47c9-aadc-c7558487174a",
   "metadata": {},
   "outputs": [],
   "source": [
    "# add countries and continent information"
   ]
  },
  {
   "cell_type": "code",
   "execution_count": 106,
   "id": "41dcf948-b75a-43fd-870b-40e14abf9433",
   "metadata": {},
   "outputs": [],
   "source": [
    "df_country = pd.read_csv(WIKIDATA_RAW_DATA + '/countries_continent.csv')\n",
    "df_country['country'] = df_country['country'].apply(lambda x : x.split('/entity/')[1])\n",
    "df_country['continent'] = df_country['continent'].apply(lambda x : x.split('/entity/')[1])\n",
    "df_country = df_country.rename(columns = {'countryLabel':'country_name', 'continentLabel':'continent_name'})"
   ]
  },
  {
   "cell_type": "code",
   "execution_count": 107,
   "id": "91abd851-7f98-4da8-8345-89a57a6dec6d",
   "metadata": {
    "tags": []
   },
   "outputs": [
    {
     "data": {
      "text/plain": [
       "212"
      ]
     },
     "execution_count": 107,
     "metadata": {},
     "output_type": "execute_result"
    }
   ],
   "source": [
    "df_country.to_sql('country_continent', conn, if_exists = 'replace', index=False)"
   ]
  },
  {
   "cell_type": "code",
   "execution_count": null,
   "id": "c0e940dc-eb7e-4f01-a202-897dcdb77398",
   "metadata": {},
   "outputs": [],
   "source": []
  },
  {
   "cell_type": "code",
   "execution_count": null,
   "id": "a381150e-7a7f-4807-9c2b-8a127c6c33b9",
   "metadata": {
    "tags": []
   },
   "outputs": [],
   "source": []
  }
 ],
 "metadata": {
  "kernelspec": {
   "display_name": "Python 3 (ipykernel)",
   "language": "python",
   "name": "python3"
  },
  "language_info": {
   "codemirror_mode": {
    "name": "ipython",
    "version": 3
   },
   "file_extension": ".py",
   "mimetype": "text/x-python",
   "name": "python",
   "nbconvert_exporter": "python",
   "pygments_lexer": "ipython3",
   "version": "3.8.17"
  }
 },
 "nbformat": 4,
 "nbformat_minor": 5
}
