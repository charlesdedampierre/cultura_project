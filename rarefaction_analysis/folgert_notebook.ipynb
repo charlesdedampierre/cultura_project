{
 "cells": [
  {
   "cell_type": "markdown",
   "metadata": {},
   "source": [
    "I like the missing species model, but there are better biological tools to apply from paleontology. There are a variety of methods, starting with “rarefaction” analysis. You can look that up, look up David Raup, preservation bias, taphonomic bias, and maybe also some of the work on lagerstatten, which could be revelant here too.\n",
    "\n",
    "I think the problem is that someone could say that the number of CPs is a function of three things:\n",
    "- the amount of cultural production that happens (the signal – what you want)\n",
    "- random noise (which the missing species model corrects for, invisible or irrelevant factors shaping the preservation of CPs or their inclusion in databases)\n",
    "- AND an inherent decay of memory over time or if you prefer simply recency bias. If #3 is important, then the deviations from trend are interesting, and comparisons between cultures is interesting but the general upward trend cannot be interpreted as growth. \n",
    "\n",
    "I think some kind of rarefaction analysis could really help here. I am not experienced in using them, but if it would be helpful, I can connect with people at SFI like Doug Erwin for ideas/discussions or possible collaboration."
   ]
  },
  {
   "cell_type": "code",
   "execution_count": null,
   "metadata": {},
   "outputs": [],
   "source": [
    "# the rarefaction curve is more about what we might expect to find theoretically as we keep adding more items. "
   ]
  },
  {
   "cell_type": "code",
   "execution_count": 2,
   "metadata": {},
   "outputs": [],
   "source": [
    "#Rarefaction curves thus serve as a benchmark, showing us the expected diversity in a collection if items were gathered randomly and without any specific focus or bias\n",
    "# It’s a theoretical model that represents an idealized, unbiased collection process"
   ]
  },
  {
   "cell_type": "code",
   "execution_count": 1,
   "metadata": {},
   "outputs": [],
   "source": [
    "import numpy as np\n",
    "\n",
    "A = np.arange(50)\n",
    "pA = np.array([0.3] + [0.1] + [0.05] * 3 + [0.01] * 45)\n",
    "\n",
    "B = np.arange(50, 100)\n",
    "pB = pA.copy()\n"
   ]
  },
  {
   "cell_type": "code",
   "execution_count": 3,
   "metadata": {},
   "outputs": [],
   "source": [
    "# when taking n indiviudals\n",
    "\n",
    "# how many different"
   ]
  },
  {
   "cell_type": "code",
   "execution_count": 10,
   "metadata": {},
   "outputs": [
    {
     "data": {
      "text/plain": [
       "array([50, 51, 52, 53, 54, 55, 56, 57, 58, 59, 60, 61, 62, 63, 64, 65, 66,\n",
       "       67, 68, 69, 70, 71, 72, 73, 74, 75, 76, 77, 78, 79, 80, 81, 82, 83,\n",
       "       84, 85, 86, 87, 88, 89, 90, 91, 92, 93, 94, 95, 96, 97, 98, 99])"
      ]
     },
     "execution_count": 10,
     "metadata": {},
     "output_type": "execute_result"
    }
   ],
   "source": [
    "# sample curves for the type of objetc computed.\n",
    "\n",
    "# Imagine there are 2000 individuals in the Chinese world. I sample form 1 to 1000 and then I count the number of unique types (diversity) of the work"
   ]
  }
 ],
 "metadata": {
  "kernelspec": {
   "display_name": ".venv",
   "language": "python",
   "name": "python3"
  },
  "language_info": {
   "codemirror_mode": {
    "name": "ipython",
    "version": 3
   },
   "file_extension": ".py",
   "mimetype": "text/x-python",
   "name": "python",
   "nbconvert_exporter": "python",
   "pygments_lexer": "ipython3",
   "version": "3.10.12"
  }
 },
 "nbformat": 4,
 "nbformat_minor": 2
}
