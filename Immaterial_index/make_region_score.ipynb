{
 "cells": [
  {
   "cell_type": "code",
   "execution_count": 1,
   "id": "8b2de990-50d3-4c5b-a1bd-346d267eab07",
   "metadata": {},
   "outputs": [],
   "source": [
    "# plot number of individuals per region as a Facet Graph"
   ]
  },
  {
   "cell_type": "code",
   "execution_count": 2,
   "id": "9ff58cf3-9823-4a80-bfb2-6007dd224eee",
   "metadata": {
    "tags": []
   },
   "outputs": [],
   "source": [
    "import sys\n",
    "\n",
    "sys.path.append(\"../\")\n",
    "\n",
    "import pandas as pd\n",
    "import numpy as np\n",
    "\n",
    "from dotenv import load_dotenv\n",
    "load_dotenv()\n",
    "import os\n",
    "\n",
    "import sqlite3\n",
    "\n",
    "DB_PATH = os.getenv(\"DB_PATH\")\n",
    "\n",
    "conn = sqlite3.connect(DB_PATH)"
   ]
  },
  {
   "cell_type": "code",
   "execution_count": 3,
   "id": "6afdb0e3-7135-4c80-b705-c1e16c982ff9",
   "metadata": {
    "tags": []
   },
   "outputs": [],
   "source": [
    "# Years\n",
    "df_ind = pd.read_sql_query(\"SELECT * FROM individuals_main_information\", conn)\n",
    "df_ind_year = df_ind[[\"individual_wikidata_id\", \"birthyear\", \"individual_name\"]].drop_duplicates()\n",
    "df_ind_year = df_ind_year[~df_ind_year['birthyear'].isna()]\n",
    "\n",
    "# Individuals Regions\n",
    "df_ind_regions = pd.read_sql_query(\"SELECT * FROM individuals_regions\", conn)\n",
    "df_ind_regions = df_ind_regions[['individual_wikidata_id', 'region_name']].drop_duplicates()\n",
    "df_ind_year[\"productive_year\"] = df_ind_year[\"birthyear\"] + 35\n",
    "temporal_resolution = 10\n",
    "df_ind_year[\"decade\"] = df_ind_year[\"productive_year\"].apply(lambda x: round(x / temporal_resolution) * temporal_resolution)\n",
    "df_ind_year = df_ind_year[df_ind_year['decade']<=1890]\n"
   ]
  },
  {
   "cell_type": "code",
   "execution_count": 4,
   "metadata": {},
   "outputs": [
    {
     "data": {
      "text/plain": [
       "1885.0"
      ]
     },
     "execution_count": 4,
     "metadata": {},
     "output_type": "execute_result"
    }
   ],
   "source": [
    "max(df_ind_year.productive_year)"
   ]
  },
  {
   "cell_type": "code",
   "execution_count": 5,
   "id": "c850f3c3-14bf-4460-b03f-971022662b2b",
   "metadata": {
    "tags": []
   },
   "outputs": [
    {
     "data": {
      "text/plain": [
       "164094"
      ]
     },
     "execution_count": 5,
     "metadata": {},
     "output_type": "execute_result"
    }
   ],
   "source": [
    "len(set(df_ind_regions.individual_wikidata_id))"
   ]
  },
  {
   "cell_type": "code",
   "execution_count": 6,
   "id": "1cbc0e78-3e55-46e9-9b84-754e9b71de7f",
   "metadata": {},
   "outputs": [],
   "source": [
    "\n",
    "df_catalogs_id = pd.read_sql_query(\"SELECT * FROM individual_identifiers\", conn)\n",
    "df = pd.merge(df_ind_regions, df_ind_year, on = 'individual_wikidata_id')\n",
    "df = pd.merge(df, df_catalogs_id, on = 'individual_wikidata_id')\n",
    "df = df[['individual_wikidata_id', 'region_name', 'decade']].drop_duplicates()\n",
    "df['score'] = 1\n",
    "\n",
    "kept_individuals = pd.read_sql('SELECT * FROM individuals_kept', conn)\n",
    "kept_individuals_list = list(kept_individuals['individual_wikidata_id'])\n",
    "df = df[df['individual_wikidata_id'].isin(kept_individuals_list)]"
   ]
  },
  {
   "cell_type": "code",
   "execution_count": 7,
   "id": "ebba543f-67e1-4075-bb6a-99d8665d2c9f",
   "metadata": {
    "tags": []
   },
   "outputs": [
    {
     "data": {
      "text/plain": [
       "159745"
      ]
     },
     "execution_count": 7,
     "metadata": {},
     "output_type": "execute_result"
    }
   ],
   "source": [
    "len(set(df.individual_wikidata_id))"
   ]
  },
  {
   "cell_type": "code",
   "execution_count": 8,
   "id": "a99c6bb7-e9c2-4e2e-8eee-9bf0e06d23a8",
   "metadata": {},
   "outputs": [
    {
     "data": {
      "text/plain": [
       "159745"
      ]
     },
     "execution_count": 8,
     "metadata": {},
     "output_type": "execute_result"
    }
   ],
   "source": [
    "len(set(df.individual_wikidata_id))"
   ]
  },
  {
   "cell_type": "code",
   "execution_count": 9,
   "id": "594c47a9-f5e9-4900-bb43-95238756e39f",
   "metadata": {
    "tags": []
   },
   "outputs": [],
   "source": [
    "df_group = df.groupby(['region_name', 'decade'])['score'].sum().reset_index()\n",
    "df_group.to_sql('region_score',conn, if_exists = 'replace', index=False)\n",
    "df_group.to_csv('results/df_region_score.csv')"
   ]
  },
  {
   "cell_type": "code",
   "execution_count": 10,
   "metadata": {},
   "outputs": [],
   "source": [
    "# score for science\n",
    "df_scientists = pd.read_sql_query(\"SELECT * FROM individual_occupations\", conn)\n",
    "df_scientists = df_scientists[df_scientists['occupations_category'].str.contains('science')]\n",
    "\n",
    "\n",
    "top_scientific_occupations = df_scientists.occupations_name.value_counts()\n",
    "top_scientific_occupations = top_scientific_occupations.head(50).index\n",
    "occupations_to_remove = ['pedagogue', 'explorer', 'music pedagogue', 'land surveyor', 'music theorist', 'folklorist', 'conquistador', 'urban planner', 'settler']\n",
    "filtered_occupation_list = [occupation for occupation in top_scientific_occupations if occupation not in occupations_to_remove]\n",
    "df_scientists = df_scientists[df_scientists['occupations_name'].isin(filtered_occupation_list)]\n",
    "\n",
    "\n",
    "list_scientists = list(set(df_scientists['individual_wikidata_id']))\n",
    "\n",
    "df_scientists = df[df['individual_wikidata_id'].isin(list_scientists)]\n",
    "df_group_science = df_scientists.groupby(['region_name', 'decade'])['score'].sum().reset_index()\n",
    "\n",
    "df_group_science.to_sql('region_score_science',conn, if_exists = 'replace', index=False)\n",
    "df_group_science.to_csv('results/df_region_score_science.csv')\n"
   ]
  },
  {
   "cell_type": "code",
   "execution_count": null,
   "metadata": {},
   "outputs": [],
   "source": []
  },
  {
   "cell_type": "code",
   "execution_count": 11,
   "metadata": {},
   "outputs": [
    {
     "data": {
      "text/plain": [
       "[<matplotlib.lines.Line2D at 0x2eb5aced0>]"
      ]
     },
     "execution_count": 11,
     "metadata": {},
     "output_type": "execute_result"
    },
    {
     "data": {
      "image/png": "[encoded data removed]",
      "text/plain": [
       "<Figure size 640x480 with 1 Axes>"
      ]
     },
     "metadata": {},
     "output_type": "display_data"
    }
   ],
   "source": [
    "df_test = df_group[df_group['region_name']=='Low countries']\n",
    "\n",
    "import matplotlib.pyplot as plt\n",
    "plt.plot(df_test['decade'],df_test['score'])"
   ]
  },
  {
   "cell_type": "code",
   "execution_count": null,
   "metadata": {},
   "outputs": [],
   "source": []
  },
  {
   "cell_type": "markdown",
   "id": "678aa3b3-8db7-4e12-bee0-324348202602",
   "metadata": {},
   "source": [
    "#### Plot Score for every region"
   ]
  },
  {
   "cell_type": "code",
   "execution_count": 12,
   "id": "f4134c3b-535c-40d3-aa10-4470791f9ef5",
   "metadata": {
    "tags": []
   },
   "outputs": [
    {
     "data": {
      "text/plain": [
       "'\\n\\nimport plotly.express as px\\nimport plotly\\n\\ndf_fig = df.copy()\\ndf_fig[\\'log_cultural_score\\'] = np.log(1 + df_fig[\\'score\\'])\\ndf_fig[\\'normalized_cultural_score\\'] = df_fig.groupby(\\'region_name\\')[\\'log_cultural_score\\'].transform(lambda x: (x - x.min()) / (x.max() - x.min()))\\ndf_fig = df_fig[df_fig[\\'decade\\']<=1850]\\n\\n\\nfig = px.line(df_fig, \\n              x=\"decade\", \\n              y=\"normalized_cultural_score\", \\n              facet_col=\"region_name\", \\n              facet_col_wrap=6, \\n              width = 800, \\n              height = 800, \\n              template = \\'simple_white\\')\\n\\n\\nfig.update_xaxes(tickmode=\\'linear\\', dtick=200)\\nfig.for_each_xaxis(lambda xaxis: xaxis.update(showticklabels=True))\\nfig.for_each_yaxis(lambda yaxis: yaxis.update(showticklabels=True))\\n\\nfor region_name in df[\\'region_name\\'].unique():\\n    fig.update_xaxes(title_text=\\'decade\\', col=region_name)\\n    \\nfig.show()\\n#plotly.offline.plot(fig)\\n\\n\\n'"
      ]
     },
     "execution_count": 12,
     "metadata": {},
     "output_type": "execute_result"
    }
   ],
   "source": [
    "\"\"\"\n",
    "\n",
    "import plotly.express as px\n",
    "import plotly\n",
    "\n",
    "df_fig = df.copy()\n",
    "df_fig['log_cultural_score'] = np.log(1 + df_fig['score'])\n",
    "df_fig['normalized_cultural_score'] = df_fig.groupby('region_name')['log_cultural_score'].transform(lambda x: (x - x.min()) / (x.max() - x.min()))\n",
    "df_fig = df_fig[df_fig['decade']<=1850]\n",
    "\n",
    "\n",
    "fig = px.line(df_fig, \n",
    "              x=\"decade\", \n",
    "              y=\"normalized_cultural_score\", \n",
    "              facet_col=\"region_name\", \n",
    "              facet_col_wrap=6, \n",
    "              width = 800, \n",
    "              height = 800, \n",
    "              template = 'simple_white')\n",
    "\n",
    "\n",
    "fig.update_xaxes(tickmode='linear', dtick=200)\n",
    "fig.for_each_xaxis(lambda xaxis: xaxis.update(showticklabels=True))\n",
    "fig.for_each_yaxis(lambda yaxis: yaxis.update(showticklabels=True))\n",
    "\n",
    "for region_name in df['region_name'].unique():\n",
    "    fig.update_xaxes(title_text='decade', col=region_name)\n",
    "    \n",
    "fig.show()\n",
    "#plotly.offline.plot(fig)\n",
    "\n",
    "\n",
    "\"\"\""
   ]
  },
  {
   "cell_type": "code",
   "execution_count": null,
   "id": "c2a13183-3cb4-44eb-8dc8-9dec0fdd9838",
   "metadata": {},
   "outputs": [],
   "source": []
  },
  {
   "cell_type": "code",
   "execution_count": null,
   "id": "57096097-29e6-4bb8-aa98-56ec70870aa5",
   "metadata": {
    "tags": []
   },
   "outputs": [],
   "source": []
  },
  {
   "cell_type": "code",
   "execution_count": null,
   "id": "a1cf9a05-11bc-450d-882a-0e6fc1ee1e2b",
   "metadata": {},
   "outputs": [],
   "source": []
  }
 ],
 "metadata": {
  "kernelspec": {
   "display_name": "Python 3 (ipykernel)",
   "language": "python",
   "name": "python3"
  },
  "language_info": {
   "codemirror_mode": {
    "name": "ipython",
    "version": 3
   },
   "file_extension": ".py",
   "mimetype": "text/x-python",
   "name": "python",
   "nbconvert_exporter": "python",
   "pygments_lexer": "ipython3",
   "version": "3.11.5"
  }
 },
 "nbformat": 4,
 "nbformat_minor": 5
}
