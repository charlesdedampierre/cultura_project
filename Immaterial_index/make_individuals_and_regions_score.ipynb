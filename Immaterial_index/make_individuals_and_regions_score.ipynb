{
 "cells": [
  {
   "cell_type": "code",
   "execution_count": 16,
   "id": "d5d2810d-0dd2-4485-a4b6-fd1b4d0ee6d5",
   "metadata": {
    "tags": []
   },
   "outputs": [],
   "source": [
    "import sys\n",
    "\n",
    "sys.path.append(\"../\")\n",
    "\n",
    "import pandas as pd\n",
    "from dotenv import load_dotenv\n",
    "\n",
    "load_dotenv()\n",
    "import os\n",
    "import sqlite3\n",
    "\n",
    "DB_PATH = os.getenv(\"DB_PATH\")\n",
    "\n",
    "conn = sqlite3.connect(DB_PATH)\n",
    "pd.options.mode.chained_assignment = None"
   ]
  },
  {
   "cell_type": "code",
   "execution_count": 17,
   "id": "3f0b938f",
   "metadata": {},
   "outputs": [],
   "source": [
    "only_country = False\n",
    "\n",
    "# Individuals Regions\n",
    "df_ind_regions = pd.read_sql_query(\"SELECT * FROM individuals_regions\", conn)\n",
    "\n",
    "# Years\n",
    "df_ind = pd.read_sql_query(\"SELECT * FROM individuals_main_information\", conn)\n",
    "\n",
    "df_ind_birthyear = df_ind[[\"individual_wikidata_id\", \"birthyear\"]].drop_duplicates()\n",
    "df_ind_deathyear = pd.read_sql_query(\"SELECT * FROM deathyear\", conn)\n",
    "df_ind_year = pd.merge(df_ind_birthyear, df_ind_deathyear, on = 'individual_wikidata_id', how = 'outer')\n",
    "\n",
    "df_ind_year['birthyear'][(df_ind_year['birthyear'] % 100 == 0)&(df_ind_year['deathyear'].isna())] = df_ind_year['birthyear'] - 50"
   ]
  },
  {
   "cell_type": "code",
   "execution_count": 18,
   "id": "fc9030dc",
   "metadata": {},
   "outputs": [],
   "source": [
    "# Function to calculate productive_year\n",
    "def calculate_productive_year(row):\n",
    "    if pd.isna(row['birthyear']):\n",
    "        return row['deathyear']\n",
    "    productive_year = row['birthyear'] + 35\n",
    "    if pd.notna(row['deathyear']) and productive_year > row['deathyear']:\n",
    "        return row['deathyear']\n",
    "    return productive_year\n",
    "\n",
    "\n",
    "# Apply the function to the DataFrame\n",
    "df_ind_year['productive_year'] = df_ind_year.apply(calculate_productive_year, axis=1)\n",
    "#df_ind_year = df_ind_year[df_ind_year['productive_year']<=1880]\n",
    "\n",
    "df_ind_year = df_ind_year[~df_ind_year['productive_year'].isna()]\n",
    "\n",
    "temporal_resolution = 10\n",
    "df_ind_year[\"decade\"] = df_ind_year[\"productive_year\"].apply(lambda x: round(x / temporal_resolution) * temporal_resolution)\n",
    "\n",
    "#df_ind_year = df_ind_year[df_ind_year['productive_year']<=1880]"
   ]
  },
  {
   "cell_type": "code",
   "execution_count": 23,
   "id": "87c3b740",
   "metadata": {},
   "outputs": [],
   "source": [
    "df_catalogs_id = pd.read_sql_query(\"SELECT * FROM individual_identifiers\", conn)\n",
    "df_catalogs = pd.read_sql_query(\"SELECT * FROM identifiers\", conn)\n",
    "\n",
    "\n",
    "if only_country:\n",
    "    df_catalogs = df_catalogs[['identifiers_wikidata_id', 'country_name']].dropna()\n",
    "    df_cat = pd.merge(df_catalogs_id, df_catalogs, on = 'identifiers_wikidata_id')\n",
    "    df_cat = df_cat[['individual_wikidata_id','individual_name', 'country_name']].drop_duplicates()\n",
    "    df_cat = df_cat.groupby(['individual_name', 'individual_wikidata_id'])['country_name'].count().rename('score').reset_index()\n",
    "    df_cat = df_cat.sort_values('score', ascending=False).reset_index(drop=True)\n",
    "else:\n",
    "    df_cat = df_catalogs_id.groupby(['individual_name', 'individual_wikidata_id'])['identifiers_wikidata_id'].count().rename('score').reset_index()\n",
    "    df_cat = df_cat.sort_values('score', ascending=False).reset_index(drop=True)\n",
    "    \n",
    "df_final = pd.merge(df_ind_year, df_cat, on = 'individual_wikidata_id')\n",
    "df_final = pd.merge(df_final, df_ind_regions, on = ['individual_wikidata_id', 'individual_name'])\n",
    "df_final = df_final.drop(['birthyear', 'deathyear'], axis=1)\n",
    "df_final.to_csv('results/df_individuals_score.csv')"
   ]
  },
  {
   "cell_type": "code",
   "execution_count": null,
   "id": "c077a5ea",
   "metadata": {},
   "outputs": [],
   "source": [
    "\n",
    "df_final.sort_values('score', ascending=False).sample(3)"
   ]
  },
  {
   "cell_type": "markdown",
   "id": "0605f74c",
   "metadata": {},
   "source": [
    "### Make scores for regions"
   ]
  },
  {
   "cell_type": "code",
   "execution_count": 20,
   "id": "de9e69db",
   "metadata": {},
   "outputs": [],
   "source": [
    "# Make groups\n",
    "df_group = df_final[['individual_wikidata_id', 'region_name', 'decade', 'score']].drop_duplicates()\n",
    "df_group = df_group.reset_index(drop=True)\n",
    "\n",
    "df_group = df_group.groupby(['region_name', 'decade'])['score'].sum().reset_index()\n",
    "df_group.to_sql('region_score',conn, if_exists = 'replace', index=False)\n",
    "df_group.to_csv('results/df_region_score.csv')"
   ]
  },
  {
   "cell_type": "code",
   "execution_count": 21,
   "id": "bc81e5b9-d87d-4227-9475-112e468ea1fd",
   "metadata": {
    "tags": []
   },
   "outputs": [],
   "source": [
    "# Individuals that are only scientists\n",
    "df_scientists = pd.read_sql_query(\"SELECT * FROM individual_occupations\", conn)\n",
    "df_scientists = df_scientists[df_scientists['occupations_category'].str.contains('science')]\n",
    "\n",
    "top_scientific_occupations = df_scientists.occupations_name.value_counts()\n",
    "top_scientific_occupations = top_scientific_occupations.head(50).index\n",
    "occupations_to_remove = ['pedagogue','explorer','music pedagogue', 'land surveyor', 'music theorist', 'folklorist', 'conquistador', 'urban planner', 'settler']\n",
    "filtered_occupation_list = [occupation for occupation in top_scientific_occupations if occupation not in occupations_to_remove]\n",
    "df_scientists = df_scientists[df_scientists['occupations_name'].isin(filtered_occupation_list)]\n",
    "\n",
    "list_scientists = list(set(df_scientists['individual_wikidata_id']))\n",
    "df_final_scientists = df_final[df_final['individual_wikidata_id'].isin(list_scientists)]\n",
    "len(df_final_scientists)\n",
    "\n",
    "df_final_scientists.to_csv('results/df_individuals_score_science.csv')"
   ]
  },
  {
   "cell_type": "markdown",
   "id": "793b029f",
   "metadata": {},
   "source": [
    "### Make groups for scientists in regions"
   ]
  },
  {
   "cell_type": "code",
   "execution_count": 22,
   "id": "813cf368",
   "metadata": {},
   "outputs": [],
   "source": [
    "# Make groups\n",
    "df_group = df_final_scientists[['individual_wikidata_id', 'region_name', 'decade', 'score']].drop_duplicates()\n",
    "df_group = df_group.reset_index(drop=True)\n",
    "\n",
    "df_group = df_group.groupby(['region_name', 'decade'])['score'].sum().reset_index()\n",
    "df_group.to_sql('region_score_science',conn, if_exists = 'replace', index=False)\n",
    "df_group.to_csv('results/df_region_score_science.csv')"
   ]
  }
 ],
 "metadata": {
  "kernelspec": {
   "display_name": "Python 3 (ipykernel)",
   "language": "python",
   "name": "python3"
  },
  "language_info": {
   "codemirror_mode": {
    "name": "ipython",
    "version": 3
   },
   "file_extension": ".py",
   "mimetype": "text/x-python",
   "name": "python",
   "nbconvert_exporter": "python",
   "pygments_lexer": "ipython3",
   "version": "3.11.5"
  }
 },
 "nbformat": 4,
 "nbformat_minor": 5
}
