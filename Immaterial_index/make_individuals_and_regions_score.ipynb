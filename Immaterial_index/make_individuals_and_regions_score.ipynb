{
 "cells": [
  {
   "cell_type": "code",
   "execution_count": 8,
   "id": "d5d2810d-0dd2-4485-a4b6-fd1b4d0ee6d5",
   "metadata": {
    "tags": []
   },
   "outputs": [],
   "source": [
    "import sys\n",
    "\n",
    "sys.path.append(\"../\")\n",
    "\n",
    "import pandas as pd\n",
    "from dotenv import load_dotenv\n",
    "\n",
    "load_dotenv()\n",
    "import os\n",
    "import sqlite3\n",
    "\n",
    "DB_PATH = os.getenv(\"DB_PATH\")\n",
    "\n",
    "conn = sqlite3.connect(DB_PATH)\n",
    "pd.options.mode.chained_assignment = None"
   ]
  },
  {
   "cell_type": "code",
   "execution_count": 9,
   "id": "3f0b938f",
   "metadata": {},
   "outputs": [],
   "source": [
    "only_country = False\n",
    "\n",
    "# Individuals Regions\n",
    "df_ind_regions = pd.read_sql_query(\"SELECT * FROM individuals_regions\", conn)\n",
    "\n",
    "# Years\n",
    "df_ind = pd.read_sql_query(\"SELECT * FROM individuals_main_information\", conn)\n",
    "\n",
    "df_ind_birthyear = df_ind[[\"individual_wikidata_id\", \"birthyear\"]].drop_duplicates()\n",
    "df_ind_deathyear = pd.read_sql_query(\"SELECT * FROM deathyear\", conn)\n",
    "df_ind_year = pd.merge(df_ind_birthyear, df_ind_deathyear, on = 'individual_wikidata_id', how = 'outer')\n",
    "\n",
    "\n",
    "df_ind_year['birthyear'][(df_ind_year['birthyear'] < 0) & \n",
    "            (df_ind_year['birthyear'] % 100 == 0) & \n",
    "            (df_ind_year['deathyear'].isna())] = df_ind_year['birthyear'] + 50\n"
   ]
  },
  {
   "cell_type": "code",
   "execution_count": 10,
   "id": "6c1410a2",
   "metadata": {},
   "outputs": [
    {
     "data": {
      "text/html": [
       "<div>\n",
       "<style scoped>\n",
       "    .dataframe tbody tr th:only-of-type {\n",
       "        vertical-align: middle;\n",
       "    }\n",
       "\n",
       "    .dataframe tbody tr th {\n",
       "        vertical-align: top;\n",
       "    }\n",
       "\n",
       "    .dataframe thead th {\n",
       "        text-align: right;\n",
       "    }\n",
       "</style>\n",
       "<table border=\"1\" class=\"dataframe\">\n",
       "  <thead>\n",
       "    <tr style=\"text-align: right;\">\n",
       "      <th></th>\n",
       "      <th>individual_wikidata_id</th>\n",
       "      <th>birthyear</th>\n",
       "      <th>deathyear</th>\n",
       "    </tr>\n",
       "  </thead>\n",
       "  <tbody>\n",
       "    <tr>\n",
       "      <th>21502</th>\n",
       "      <td>Q44233</td>\n",
       "      <td>-750.0</td>\n",
       "      <td>NaN</td>\n",
       "    </tr>\n",
       "  </tbody>\n",
       "</table>\n",
       "</div>"
      ],
      "text/plain": [
       "      individual_wikidata_id  birthyear  deathyear\n",
       "21502                 Q44233     -750.0        NaN"
      ]
     },
     "execution_count": 10,
     "metadata": {},
     "output_type": "execute_result"
    }
   ],
   "source": [
    "df_ind_year[df_ind_year['individual_wikidata_id']=='Q44233']"
   ]
  },
  {
   "cell_type": "code",
   "execution_count": 11,
   "id": "d4836dcb",
   "metadata": {},
   "outputs": [],
   "source": [
    "# Function to calculate productive_year\n",
    "def calculate_productive_year(row):\n",
    "    if pd.isna(row['birthyear']):\n",
    "        return row['deathyear']\n",
    "    productive_year = row['birthyear'] + 35\n",
    "    if pd.notna(row['deathyear']) and productive_year > row['deathyear']:\n",
    "        return row['deathyear']\n",
    "    return productive_year\n",
    "\n",
    "\n",
    "# Apply the function to the DataFrame\n",
    "df_ind_year['productive_year'] = df_ind_year.apply(calculate_productive_year, axis=1)\n",
    "#df_ind_year = df_ind_year[df_ind_year['productive_year']<=1880]"
   ]
  },
  {
   "cell_type": "code",
   "execution_count": 12,
   "id": "95ce0a40",
   "metadata": {},
   "outputs": [
    {
     "data": {
      "text/html": [
       "<div>\n",
       "<style scoped>\n",
       "    .dataframe tbody tr th:only-of-type {\n",
       "        vertical-align: middle;\n",
       "    }\n",
       "\n",
       "    .dataframe tbody tr th {\n",
       "        vertical-align: top;\n",
       "    }\n",
       "\n",
       "    .dataframe thead th {\n",
       "        text-align: right;\n",
       "    }\n",
       "</style>\n",
       "<table border=\"1\" class=\"dataframe\">\n",
       "  <thead>\n",
       "    <tr style=\"text-align: right;\">\n",
       "      <th></th>\n",
       "      <th>individual_wikidata_id</th>\n",
       "      <th>birthyear</th>\n",
       "      <th>deathyear</th>\n",
       "      <th>productive_year</th>\n",
       "    </tr>\n",
       "  </thead>\n",
       "  <tbody>\n",
       "    <tr>\n",
       "      <th>218656</th>\n",
       "      <td>Q6691</td>\n",
       "      <td>-900.0</td>\n",
       "      <td>-800.0</td>\n",
       "      <td>-865.0</td>\n",
       "    </tr>\n",
       "  </tbody>\n",
       "</table>\n",
       "</div>"
      ],
      "text/plain": [
       "       individual_wikidata_id  birthyear  deathyear  productive_year\n",
       "218656                  Q6691     -900.0     -800.0           -865.0"
      ]
     },
     "execution_count": 12,
     "metadata": {},
     "output_type": "execute_result"
    }
   ],
   "source": [
    "df_ind_year[df_ind_year['individual_wikidata_id']=='Q6691']"
   ]
  },
  {
   "cell_type": "code",
   "execution_count": 13,
   "id": "fc9030dc",
   "metadata": {},
   "outputs": [
    {
     "data": {
      "text/html": [
       "<div>\n",
       "<style scoped>\n",
       "    .dataframe tbody tr th:only-of-type {\n",
       "        vertical-align: middle;\n",
       "    }\n",
       "\n",
       "    .dataframe tbody tr th {\n",
       "        vertical-align: top;\n",
       "    }\n",
       "\n",
       "    .dataframe thead th {\n",
       "        text-align: right;\n",
       "    }\n",
       "</style>\n",
       "<table border=\"1\" class=\"dataframe\">\n",
       "  <thead>\n",
       "    <tr style=\"text-align: right;\">\n",
       "      <th></th>\n",
       "      <th>individual_wikidata_id</th>\n",
       "      <th>birthyear</th>\n",
       "      <th>deathyear</th>\n",
       "      <th>productive_year</th>\n",
       "      <th>decade</th>\n",
       "    </tr>\n",
       "  </thead>\n",
       "  <tbody>\n",
       "    <tr>\n",
       "      <th>218656</th>\n",
       "      <td>Q6691</td>\n",
       "      <td>-900.0</td>\n",
       "      <td>-800.0</td>\n",
       "      <td>-865.0</td>\n",
       "      <td>-860</td>\n",
       "    </tr>\n",
       "  </tbody>\n",
       "</table>\n",
       "</div>"
      ],
      "text/plain": [
       "       individual_wikidata_id  birthyear  deathyear  productive_year  decade\n",
       "218656                  Q6691     -900.0     -800.0           -865.0    -860"
      ]
     },
     "execution_count": 13,
     "metadata": {},
     "output_type": "execute_result"
    }
   ],
   "source": [
    "\n",
    "df_ind_year = df_ind_year[~df_ind_year['productive_year'].isna()]\n",
    "\n",
    "temporal_resolution = 10\n",
    "df_ind_year[\"decade\"] = df_ind_year[\"productive_year\"].apply(lambda x: round(x / temporal_resolution) * temporal_resolution)\n",
    "\n",
    "#df_ind_year = df_ind_year[df_ind_year['productive_year']<=1880]\n",
    "\n",
    "df_ind_year[df_ind_year['individual_wikidata_id']=='Q6691']"
   ]
  },
  {
   "cell_type": "code",
   "execution_count": 14,
   "id": "87c3b740",
   "metadata": {},
   "outputs": [],
   "source": [
    "df_catalogs_id = pd.read_sql_query(\"SELECT * FROM individual_identifiers\", conn)\n",
    "df_catalogs = pd.read_sql_query(\"SELECT * FROM identifiers\", conn)\n",
    "\n",
    "\n",
    "if only_country:\n",
    "    df_catalogs = df_catalogs[['identifiers_wikidata_id', 'country_name']].dropna()\n",
    "    df_cat = pd.merge(df_catalogs_id, df_catalogs, on = 'identifiers_wikidata_id')\n",
    "    df_cat = df_cat[['individual_wikidata_id','individual_name', 'country_name']].drop_duplicates()\n",
    "    df_cat = df_cat.groupby(['individual_name', 'individual_wikidata_id'])['country_name'].count().rename('score').reset_index()\n",
    "    df_cat = df_cat.sort_values('score', ascending=False).reset_index(drop=True)\n",
    "else:\n",
    "    df_cat = df_catalogs_id.groupby(['individual_name', 'individual_wikidata_id'])['identifiers_wikidata_id'].count().rename('score').reset_index()\n",
    "    df_cat = df_cat.sort_values('score', ascending=False).reset_index(drop=True)\n",
    "    \n",
    "df_final = pd.merge(df_ind_year, df_cat, on = 'individual_wikidata_id')\n",
    "df_final = pd.merge(df_final, df_ind_regions, on = ['individual_wikidata_id', 'individual_name'])\n",
    "df_final = df_final.drop(['birthyear', 'deathyear'], axis=1)\n",
    "\n",
    "df_final = df_final.drop_duplicates()\n",
    "\n",
    "df_final.to_csv('results/df_individuals_score.csv')"
   ]
  },
  {
   "cell_type": "code",
   "execution_count": 15,
   "id": "6e8ee0e7",
   "metadata": {},
   "outputs": [],
   "source": [
    "test = df_final[df_final['region_name']=='Arabian peninsula']\n",
    "test = test[test['decade']<=800]\n",
    "test = test.sort_values('decade', ascending=True)\n"
   ]
  },
  {
   "cell_type": "code",
   "execution_count": 16,
   "id": "c077a5ea",
   "metadata": {},
   "outputs": [
    {
     "data": {
      "text/html": [
       "<div>\n",
       "<style scoped>\n",
       "    .dataframe tbody tr th:only-of-type {\n",
       "        vertical-align: middle;\n",
       "    }\n",
       "\n",
       "    .dataframe tbody tr th {\n",
       "        vertical-align: top;\n",
       "    }\n",
       "\n",
       "    .dataframe thead th {\n",
       "        text-align: right;\n",
       "    }\n",
       "</style>\n",
       "<table border=\"1\" class=\"dataframe\">\n",
       "  <thead>\n",
       "    <tr style=\"text-align: right;\">\n",
       "      <th></th>\n",
       "      <th>individual_wikidata_id</th>\n",
       "      <th>productive_year</th>\n",
       "      <th>decade</th>\n",
       "      <th>individual_name</th>\n",
       "      <th>score</th>\n",
       "      <th>region_code</th>\n",
       "      <th>region_name</th>\n",
       "    </tr>\n",
       "  </thead>\n",
       "  <tbody>\n",
       "    <tr>\n",
       "      <th>71311</th>\n",
       "      <td>Q16933564</td>\n",
       "      <td>1866.0</td>\n",
       "      <td>1870</td>\n",
       "      <td>Andrew Scoble</td>\n",
       "      <td>13</td>\n",
       "      <td>re_western_europe</td>\n",
       "      <td>Western Europe</td>\n",
       "    </tr>\n",
       "    <tr>\n",
       "      <th>511127</th>\n",
       "      <td>Q782832</td>\n",
       "      <td>1857.0</td>\n",
       "      <td>1860</td>\n",
       "      <td>Carlo Alfredo Piatti</td>\n",
       "      <td>60</td>\n",
       "      <td>re_italy</td>\n",
       "      <td>Italy</td>\n",
       "    </tr>\n",
       "    <tr>\n",
       "      <th>1664</th>\n",
       "      <td>Q1526151</td>\n",
       "      <td>1628.0</td>\n",
       "      <td>1630</td>\n",
       "      <td>Giovanni Giacomo Tencalla</td>\n",
       "      <td>13</td>\n",
       "      <td>re_southwestern_europe</td>\n",
       "      <td>Southwestern Europe</td>\n",
       "    </tr>\n",
       "  </tbody>\n",
       "</table>\n",
       "</div>"
      ],
      "text/plain": [
       "       individual_wikidata_id  productive_year  decade  \\\n",
       "71311               Q16933564           1866.0    1870   \n",
       "511127                Q782832           1857.0    1860   \n",
       "1664                 Q1526151           1628.0    1630   \n",
       "\n",
       "                  individual_name  score             region_code  \\\n",
       "71311               Andrew Scoble     13       re_western_europe   \n",
       "511127       Carlo Alfredo Piatti     60                re_italy   \n",
       "1664    Giovanni Giacomo Tencalla     13  re_southwestern_europe   \n",
       "\n",
       "                region_name  \n",
       "71311        Western Europe  \n",
       "511127                Italy  \n",
       "1664    Southwestern Europe  "
      ]
     },
     "execution_count": 16,
     "metadata": {},
     "output_type": "execute_result"
    }
   ],
   "source": [
    "df_final.sort_values('score', ascending=False).sample(3)"
   ]
  },
  {
   "cell_type": "markdown",
   "id": "0605f74c",
   "metadata": {},
   "source": [
    "### Make scores for regions"
   ]
  },
  {
   "cell_type": "code",
   "execution_count": 17,
   "id": "a13dff44",
   "metadata": {},
   "outputs": [],
   "source": [
    "import math\n",
    "\n",
    "def get_century(decade):\n",
    "    return math.ceil(decade / 100)"
   ]
  },
  {
   "cell_type": "code",
   "execution_count": 18,
   "id": "b39800ad",
   "metadata": {},
   "outputs": [
    {
     "data": {
      "text/html": [
       "<div>\n",
       "<style scoped>\n",
       "    .dataframe tbody tr th:only-of-type {\n",
       "        vertical-align: middle;\n",
       "    }\n",
       "\n",
       "    .dataframe tbody tr th {\n",
       "        vertical-align: top;\n",
       "    }\n",
       "\n",
       "    .dataframe thead th {\n",
       "        text-align: right;\n",
       "    }\n",
       "</style>\n",
       "<table border=\"1\" class=\"dataframe\">\n",
       "  <thead>\n",
       "    <tr style=\"text-align: right;\">\n",
       "      <th></th>\n",
       "      <th>region_name</th>\n",
       "      <th>decade</th>\n",
       "      <th>score</th>\n",
       "      <th>century</th>\n",
       "    </tr>\n",
       "  </thead>\n",
       "  <tbody>\n",
       "    <tr>\n",
       "      <th>693</th>\n",
       "      <td>Chinese world</td>\n",
       "      <td>-280</td>\n",
       "      <td>1</td>\n",
       "      <td>-2</td>\n",
       "    </tr>\n",
       "    <tr>\n",
       "      <th>694</th>\n",
       "      <td>Chinese world</td>\n",
       "      <td>-270</td>\n",
       "      <td>1</td>\n",
       "      <td>-2</td>\n",
       "    </tr>\n",
       "    <tr>\n",
       "      <th>695</th>\n",
       "      <td>Chinese world</td>\n",
       "      <td>-260</td>\n",
       "      <td>2</td>\n",
       "      <td>-2</td>\n",
       "    </tr>\n",
       "    <tr>\n",
       "      <th>696</th>\n",
       "      <td>Chinese world</td>\n",
       "      <td>-240</td>\n",
       "      <td>2</td>\n",
       "      <td>-2</td>\n",
       "    </tr>\n",
       "    <tr>\n",
       "      <th>697</th>\n",
       "      <td>Chinese world</td>\n",
       "      <td>-230</td>\n",
       "      <td>2</td>\n",
       "      <td>-2</td>\n",
       "    </tr>\n",
       "    <tr>\n",
       "      <th>...</th>\n",
       "      <td>...</td>\n",
       "      <td>...</td>\n",
       "      <td>...</td>\n",
       "      <td>...</td>\n",
       "    </tr>\n",
       "    <tr>\n",
       "      <th>885</th>\n",
       "      <td>Chinese world</td>\n",
       "      <td>1840</td>\n",
       "      <td>50</td>\n",
       "      <td>19</td>\n",
       "    </tr>\n",
       "    <tr>\n",
       "      <th>886</th>\n",
       "      <td>Chinese world</td>\n",
       "      <td>1850</td>\n",
       "      <td>43</td>\n",
       "      <td>19</td>\n",
       "    </tr>\n",
       "    <tr>\n",
       "      <th>887</th>\n",
       "      <td>Chinese world</td>\n",
       "      <td>1860</td>\n",
       "      <td>66</td>\n",
       "      <td>19</td>\n",
       "    </tr>\n",
       "    <tr>\n",
       "      <th>888</th>\n",
       "      <td>Chinese world</td>\n",
       "      <td>1870</td>\n",
       "      <td>58</td>\n",
       "      <td>19</td>\n",
       "    </tr>\n",
       "    <tr>\n",
       "      <th>889</th>\n",
       "      <td>Chinese world</td>\n",
       "      <td>1880</td>\n",
       "      <td>54</td>\n",
       "      <td>19</td>\n",
       "    </tr>\n",
       "  </tbody>\n",
       "</table>\n",
       "<p>197 rows × 4 columns</p>\n",
       "</div>"
      ],
      "text/plain": [
       "       region_name  decade  score  century\n",
       "693  Chinese world    -280      1       -2\n",
       "694  Chinese world    -270      1       -2\n",
       "695  Chinese world    -260      2       -2\n",
       "696  Chinese world    -240      2       -2\n",
       "697  Chinese world    -230      2       -2\n",
       "..             ...     ...    ...      ...\n",
       "885  Chinese world    1840     50       19\n",
       "886  Chinese world    1850     43       19\n",
       "887  Chinese world    1860     66       19\n",
       "888  Chinese world    1870     58       19\n",
       "889  Chinese world    1880     54       19\n",
       "\n",
       "[197 rows x 4 columns]"
      ]
     },
     "execution_count": 18,
     "metadata": {},
     "output_type": "execute_result"
    }
   ],
   "source": [
    "# Make groups\n",
    "df_group = df_final[['individual_wikidata_id', 'region_name', 'decade', 'score']].drop_duplicates()\n",
    "df_group = df_group.reset_index(drop=True)\n",
    "df_group['score'] = 1\n",
    "\n",
    "df_group = df_group.groupby(['region_name', 'decade'])['score'].sum().reset_index()\n",
    "df_group['century'] = df_group['decade'].apply(get_century)\n",
    "\n",
    "df_start = df_group.copy()\n",
    "\n",
    "min_individuals = 8\n",
    "\n",
    "#def find_min_individuals()\n",
    "\n",
    "# Applying the function to the 'decade' column\n",
    "df_start['century'] = df_start['decade'].apply(get_century)\n",
    "df_start = df_start.groupby(['region_name', 'century'])['score'].sum().reset_index()\n",
    "df_start= df_start.reset_index()\n",
    "\n",
    "# Filter rows with score >= 10\n",
    "filtered_df = df_start[df_start['score'] >= min_individuals]\n",
    "\n",
    "# Get index of the first occurrence of each region\n",
    "indices = filtered_df.groupby('region_name').apply(lambda x: x.index[0])\n",
    "\n",
    "df_index = indices.reset_index()\n",
    "df_index.columns = ['region_name', 'min_index']\n",
    "\n",
    "\n",
    "# For every region filter by the min century\n",
    "final_new_region = []\n",
    "for region in df_index['region_name'].unique():\n",
    "    region_min_index = df_index[df_index['region_name']==region]['min_index'].iloc[0]\n",
    "    df_filtered_region = df_start[(df_start['region_name']==region)&(df_start['index']>=region_min_index)]\n",
    "    final_new_region.append(df_filtered_region)\n",
    "df_final_new_region = pd.concat([x for x in final_new_region])\n",
    "df_final_new_region = df_final_new_region[['region_name', 'century']].copy()\n",
    "\n",
    "\n",
    "df_final_group = pd.merge(df_group, df_final_new_region, on = ['region_name', 'century'])\n",
    "df_final_group = df_final_group.reset_index(drop=True)\n",
    "df_final_group[df_final_group['region_name']=='Chinese world']"
   ]
  },
  {
   "cell_type": "code",
   "execution_count": null,
   "id": "90f24174",
   "metadata": {},
   "outputs": [],
   "source": []
  },
  {
   "cell_type": "markdown",
   "id": "d242abd9",
   "metadata": {},
   "source": [
    "### this is a function to find the earlier date for every region with at least n indiviudla in a century\n"
   ]
  },
  {
   "cell_type": "code",
   "execution_count": 19,
   "id": "de9e69db",
   "metadata": {},
   "outputs": [],
   "source": [
    "df_group = df_final_group.copy()\n",
    "df_group.to_sql('region_score',conn, if_exists = 'replace', index=False)\n",
    "df_group.to_csv('results/df_region_score.csv')"
   ]
  },
  {
   "cell_type": "code",
   "execution_count": 20,
   "id": "bc81e5b9-d87d-4227-9475-112e468ea1fd",
   "metadata": {
    "tags": []
   },
   "outputs": [],
   "source": [
    "# Individuals that are only scientists\n",
    "df_scientists = pd.read_sql_query(\"SELECT * FROM individual_occupations\", conn)\n",
    "df_scientists = df_scientists[df_scientists['occupations_category'].str.contains('science')]\n",
    "\n",
    "top_scientific_occupations = df_scientists.occupations_name.value_counts()\n",
    "top_scientific_occupations = top_scientific_occupations.head(50).index\n",
    "occupations_to_remove = ['pedagogue','explorer','music pedagogue', 'land surveyor', 'music theorist', 'folklorist', 'conquistador', 'urban planner', 'settler']\n",
    "filtered_occupation_list = [occupation for occupation in top_scientific_occupations if occupation not in occupations_to_remove]\n",
    "df_scientists = df_scientists[df_scientists['occupations_name'].isin(filtered_occupation_list)]\n",
    "\n",
    "list_scientists = list(set(df_scientists['individual_wikidata_id']))\n",
    "df_final_scientists = df_final[df_final['individual_wikidata_id'].isin(list_scientists)]\n",
    "len(df_final_scientists)\n",
    "\n",
    "df_final_scientists = df_final_scientists.drop_duplicates()\n",
    "df_final_scientists.to_csv('results/df_individuals_score_science.csv')"
   ]
  },
  {
   "cell_type": "markdown",
   "id": "793b029f",
   "metadata": {},
   "source": [
    "### Make groups for scientists in regions"
   ]
  },
  {
   "cell_type": "code",
   "execution_count": 21,
   "id": "39b2f71f",
   "metadata": {},
   "outputs": [],
   "source": [
    "# Make groups\n",
    "df_group = df_final_scientists[['individual_wikidata_id', 'region_name', 'decade', 'score']].drop_duplicates()\n",
    "df_group = df_group.reset_index(drop=True)\n",
    "df_group['score'] = 1"
   ]
  },
  {
   "cell_type": "code",
   "execution_count": 22,
   "id": "813cf368",
   "metadata": {},
   "outputs": [],
   "source": [
    "\n",
    "\n",
    "df_group = df_group.groupby(['region_name', 'decade'])['score'].sum().reset_index()\n",
    "df_group.to_sql('region_score_science',conn, if_exists = 'replace', index=False)\n",
    "df_group.to_csv('results/df_region_score_science.csv')"
   ]
  },
  {
   "cell_type": "markdown",
   "id": "f72e3df8",
   "metadata": {},
   "source": [
    "## Make complexity score for regions"
   ]
  },
  {
   "cell_type": "code",
   "execution_count": 23,
   "id": "36634e78",
   "metadata": {},
   "outputs": [],
   "source": [
    "df_occupations = pd.read_sql_query(\"SELECT * FROM individual_occupations\", conn)"
   ]
  },
  {
   "cell_type": "code",
   "execution_count": 24,
   "id": "e1a67a75",
   "metadata": {},
   "outputs": [],
   "source": [
    "df_complexity = pd.merge(df_final,df_occupations, on = 'individual_wikidata_id')"
   ]
  },
  {
   "cell_type": "code",
   "execution_count": 25,
   "id": "4ba943ec",
   "metadata": {},
   "outputs": [],
   "source": [
    "df_complexity_group = df_complexity[['occupations_wikidata_id', 'region_name', 'decade']].copy()\n",
    "df_complexity_group = df_complexity_group.groupby(['region_name', 'decade'])['occupations_wikidata_id'].apply(lambda x : len(set(x))).reset_index()\n",
    "df_complexity_group = df_complexity_group.rename(columns={'occupations_wikidata_id':'score'})\n"
   ]
  },
  {
   "cell_type": "code",
   "execution_count": 26,
   "id": "22aead8c",
   "metadata": {},
   "outputs": [],
   "source": [
    "df_complexity_group.to_csv('results/df_region_score_complexity.csv')"
   ]
  },
  {
   "cell_type": "code",
   "execution_count": 27,
   "id": "9032e2cf",
   "metadata": {},
   "outputs": [],
   "source": [
    "#df_complexity_group[df_complexity_group['region_name']=='Japan'].sample(10)"
   ]
  }
 ],
 "metadata": {
  "kernelspec": {
   "display_name": "Python 3 (ipykernel)",
   "language": "python",
   "name": "python3"
  },
  "language_info": {
   "codemirror_mode": {
    "name": "ipython",
    "version": 3
   },
   "file_extension": ".py",
   "mimetype": "text/x-python",
   "name": "python",
   "nbconvert_exporter": "python",
   "pygments_lexer": "ipython3",
   "version": "3.11.7"
  }
 },
 "nbformat": 4,
 "nbformat_minor": 5
}
