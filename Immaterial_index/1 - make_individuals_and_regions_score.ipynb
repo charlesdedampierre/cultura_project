{
   "cells": [
      {
         "cell_type": "code",
         "execution_count": null,
         "id": "d5d2810d-0dd2-4485-a4b6-fd1b4d0ee6d5",
         "metadata": {
            "tags": []
         },
         "outputs": [],
         "source": [
            "import sys\n",
            "\n",
            "sys.path.append(\"../\")\n",
            "\n",
            "import pandas as pd\n",
            "from dotenv import load_dotenv\n",
            "\n",
            "load_dotenv()\n",
            "import os\n",
            "import sqlite3\n",
            "\n",
            "DB_PATH = os.getenv(\"DB_PATH\")\n",
            "\n",
            "conn = sqlite3.connect(DB_PATH)\n",
            "pd.options.mode.chained_assignment = None\n",
            "\n",
            "only_country = False\n",
            "\n",
            "# Individuals Regions\n",
            "df_ind_regions = pd.read_sql_query(\"SELECT * FROM individuals_regions\", conn)\n",
            "df_ind_regions = df_ind_regions.drop('region_code', axis=1)\n",
            "\n",
            "\n",
            "## CLEAN WITH MANUAL REGIONS\n",
            "\n",
            "# form this document: https://docs.google.com/spreadsheets/d/1xfYOFveqGTxeHbmVoq6svZ4c8AczhyKriUHLfEV8AjA/edit#gid=848448289\n",
            "\n",
            "df_manual_regions = pd.read_csv('manual_data/Cultural Index cleaning 05_02_2024 - Sheet1.csv')\n",
            "df_manual_regions_1 = df_manual_regions[['individual_wikidata_id', 'manual_region_name']]\n",
            "df_manual_regions_1 = df_manual_regions_1.dropna()\n",
            "\n",
            "df_manual_regions_2 = df_manual_regions[['individual_wikidata_id', 'manual_region_name_2']]\n",
            "df_manual_regions_2 = df_manual_regions_2.dropna()\n",
            "\n",
            "df_manual_regions_2 = df_manual_regions_2.rename(columns={'manual_region_name_2':'manual_region_name'})\n",
            "df_manual_regions_3 = df_manual_regions[['individual_wikidata_id', 'manual_region_name_3']]\n",
            "df_manual_regions_3 = df_manual_regions_3.rename(columns={'manual_region_name_3':'manual_region_name'})\n",
            "df_manual_regions_3 = df_manual_regions_3.dropna()\n",
            "\n",
            "df_concat = pd.concat([df_manual_regions_1, df_manual_regions_2, df_manual_regions_3])\n",
            "df_concat = df_concat.reset_index(drop=True)\n",
            "\n",
            "merged_df = pd.merge(df_concat, df_ind_regions,on = 'individual_wikidata_id', how='outer')\n",
            "\n",
            "merged_df['manual_region_name'] = merged_df['manual_region_name'].fillna(merged_df['region_name'])\n",
            "merged_df = merged_df.drop(columns=['region_name'])\n",
            "merged_df = merged_df.rename(columns={'manual_region_name':'region_name'})\n",
            "merged_df = merged_df.drop_duplicates()\n",
            "\n",
            "df_ind_regions = merged_df.copy()\n"
         ]
      },
      {
         "cell_type": "code",
         "execution_count": null,
         "id": "3f0b938f",
         "metadata": {},
         "outputs": [],
         "source": [
            "# Years\n",
            "df_ind = pd.read_sql_query(\"SELECT * FROM individuals_main_information\", conn)\n",
            "\n",
            "df_ind_birthyear = df_ind[[\"individual_wikidata_id\", \"birthyear\"]].drop_duplicates()\n",
            "df_ind_deathyear = pd.read_sql_query(\"SELECT * FROM deathyear\", conn)\n",
            "df_ind_year = pd.merge(df_ind_birthyear, df_ind_deathyear, on = 'individual_wikidata_id', how = 'outer')\n",
            "\n",
            "\n",
            "df_ind_year['birthyear'][(df_ind_year['birthyear'] < 0) & \n",
            "            (df_ind_year['birthyear'] % 100 == 0) & \n",
            "            (df_ind_year['deathyear'].isna())] = df_ind_year['birthyear'] + 50\n"
         ]
      },
      {
         "cell_type": "code",
         "execution_count": null,
         "id": "6c1410a2",
         "metadata": {},
         "outputs": [
            {
               "data": {
                  "text/html": [
                     "<div>\n",
                     "<style scoped>\n",
                     "    .dataframe tbody tr th:only-of-type {\n",
                     "        vertical-align: middle;\n",
                     "    }\n",
                     "\n",
                     "    .dataframe tbody tr th {\n",
                     "        vertical-align: top;\n",
                     "    }\n",
                     "\n",
                     "    .dataframe thead th {\n",
                     "        text-align: right;\n",
                     "    }\n",
                     "</style>\n",
                     "<table border=\"1\" class=\"dataframe\">\n",
                     "  <thead>\n",
                     "    <tr style=\"text-align: right;\">\n",
                     "      <th></th>\n",
                     "      <th>individual_wikidata_id</th>\n",
                     "      <th>birthyear</th>\n",
                     "      <th>deathyear</th>\n",
                     "    </tr>\n",
                     "  </thead>\n",
                     "  <tbody>\n",
                     "    <tr>\n",
                     "      <th>127490</th>\n",
                     "      <td>Q44233</td>\n",
                     "      <td>-750.0</td>\n",
                     "      <td>NaN</td>\n",
                     "    </tr>\n",
                     "  </tbody>\n",
                     "</table>\n",
                     "</div>"
                  ],
                  "text/plain": [
                     "       individual_wikidata_id  birthyear  deathyear\n",
                     "127490                 Q44233     -750.0        NaN"
                  ]
               },
               "execution_count": 3,
               "metadata": {},
               "output_type": "execute_result"
            }
         ],
         "source": [
            "df_ind_year[df_ind_year['individual_wikidata_id']=='Q44233']"
         ]
      },
      {
         "cell_type": "code",
         "execution_count": null,
         "id": "d4836dcb",
         "metadata": {},
         "outputs": [],
         "source": [
            "# Function to calculate productive_year\n",
            "def calculate_productive_year(row):\n",
            "    if pd.isna(row['birthyear']):\n",
            "        return row['deathyear']\n",
            "    productive_year = row['birthyear'] + 35\n",
            "    if pd.notna(row['deathyear']) and productive_year > row['deathyear']:\n",
            "        return row['deathyear']\n",
            "    return productive_year\n",
            "\n",
            "\n",
            "# Apply the function to the DataFrame\n",
            "df_ind_year['productive_year'] = df_ind_year.apply(calculate_productive_year, axis=1)\n",
            "#df_ind_year = df_ind_year[df_ind_year['productive_year']<=1880]"
         ]
      },
      {
         "cell_type": "code",
         "execution_count": null,
         "id": "95ce0a40",
         "metadata": {},
         "outputs": [
            {
               "data": {
                  "text/html": [
                     "<div>\n",
                     "<style scoped>\n",
                     "    .dataframe tbody tr th:only-of-type {\n",
                     "        vertical-align: middle;\n",
                     "    }\n",
                     "\n",
                     "    .dataframe tbody tr th {\n",
                     "        vertical-align: top;\n",
                     "    }\n",
                     "\n",
                     "    .dataframe thead th {\n",
                     "        text-align: right;\n",
                     "    }\n",
                     "</style>\n",
                     "<table border=\"1\" class=\"dataframe\">\n",
                     "  <thead>\n",
                     "    <tr style=\"text-align: right;\">\n",
                     "      <th></th>\n",
                     "      <th>individual_wikidata_id</th>\n",
                     "      <th>birthyear</th>\n",
                     "      <th>deathyear</th>\n",
                     "      <th>productive_year</th>\n",
                     "    </tr>\n",
                     "  </thead>\n",
                     "  <tbody>\n",
                     "    <tr>\n",
                     "      <th>95337</th>\n",
                     "      <td>Q6691</td>\n",
                     "      <td>-900.0</td>\n",
                     "      <td>-800.0</td>\n",
                     "      <td>-865.0</td>\n",
                     "    </tr>\n",
                     "  </tbody>\n",
                     "</table>\n",
                     "</div>"
                  ],
                  "text/plain": [
                     "      individual_wikidata_id  birthyear  deathyear  productive_year\n",
                     "95337                  Q6691     -900.0     -800.0           -865.0"
                  ]
               },
               "execution_count": 5,
               "metadata": {},
               "output_type": "execute_result"
            }
         ],
         "source": [
            "df_ind_year[df_ind_year['individual_wikidata_id']=='Q6691']"
         ]
      },
      {
         "cell_type": "code",
         "execution_count": null,
         "id": "fc9030dc",
         "metadata": {},
         "outputs": [
            {
               "data": {
                  "text/html": [
                     "<div>\n",
                     "<style scoped>\n",
                     "    .dataframe tbody tr th:only-of-type {\n",
                     "        vertical-align: middle;\n",
                     "    }\n",
                     "\n",
                     "    .dataframe tbody tr th {\n",
                     "        vertical-align: top;\n",
                     "    }\n",
                     "\n",
                     "    .dataframe thead th {\n",
                     "        text-align: right;\n",
                     "    }\n",
                     "</style>\n",
                     "<table border=\"1\" class=\"dataframe\">\n",
                     "  <thead>\n",
                     "    <tr style=\"text-align: right;\">\n",
                     "      <th></th>\n",
                     "      <th>individual_wikidata_id</th>\n",
                     "      <th>birthyear</th>\n",
                     "      <th>deathyear</th>\n",
                     "      <th>productive_year</th>\n",
                     "      <th>decade</th>\n",
                     "    </tr>\n",
                     "  </thead>\n",
                     "  <tbody>\n",
                     "    <tr>\n",
                     "      <th>95337</th>\n",
                     "      <td>Q6691</td>\n",
                     "      <td>-900.0</td>\n",
                     "      <td>-800.0</td>\n",
                     "      <td>-865.0</td>\n",
                     "      <td>-860</td>\n",
                     "    </tr>\n",
                     "  </tbody>\n",
                     "</table>\n",
                     "</div>"
                  ],
                  "text/plain": [
                     "      individual_wikidata_id  birthyear  deathyear  productive_year  decade\n",
                     "95337                  Q6691     -900.0     -800.0           -865.0    -860"
                  ]
               },
               "execution_count": 6,
               "metadata": {},
               "output_type": "execute_result"
            }
         ],
         "source": [
            "\n",
            "df_ind_year = df_ind_year[~df_ind_year['productive_year'].isna()]\n",
            "\n",
            "temporal_resolution = 10\n",
            "df_ind_year[\"decade\"] = df_ind_year[\"productive_year\"].apply(lambda x: round(x / temporal_resolution) * temporal_resolution)\n",
            "\n",
            "#df_ind_year = df_ind_year[df_ind_year['productive_year']<=1880]\n",
            "\n",
            "df_ind_year[df_ind_year['individual_wikidata_id']=='Q6691']"
         ]
      },
      {
         "cell_type": "code",
         "execution_count": null,
         "id": "87c3b740",
         "metadata": {},
         "outputs": [],
         "source": [
            "df_catalogs_id = pd.read_sql_query(\"SELECT * FROM individual_identifiers\", conn)\n",
            "df_catalogs = pd.read_sql_query(\"SELECT * FROM identifiers\", conn)\n",
            "\n",
            "\n",
            "if only_country:\n",
            "    df_catalogs = df_catalogs[['identifiers_wikidata_id', 'country_name']].dropna()\n",
            "    df_cat = pd.merge(df_catalogs_id, df_catalogs, on = 'identifiers_wikidata_id')\n",
            "    df_cat = df_cat[['individual_wikidata_id','individual_name', 'country_name']].drop_duplicates()\n",
            "    df_cat = df_cat.groupby(['individual_name', 'individual_wikidata_id'])['country_name'].count().rename('score').reset_index()\n",
            "    df_cat = df_cat.sort_values('score', ascending=False).reset_index(drop=True)\n",
            "else:\n",
            "    df_cat = df_catalogs_id.groupby(['individual_name', 'individual_wikidata_id'])['identifiers_wikidata_id'].count().rename('score').reset_index()\n",
            "    df_cat = df_cat.sort_values('score', ascending=False).reset_index(drop=True)\n",
            "    \n",
            "df_final = pd.merge(df_ind_year, df_cat, on = 'individual_wikidata_id')\n",
            "df_final = pd.merge(df_final, df_ind_regions, on = ['individual_wikidata_id', 'individual_name'])\n",
            "df_final = df_final.drop(['birthyear', 'deathyear'], axis=1)\n",
            "\n",
            "df_final = df_final.drop_duplicates()\n",
            "\n",
            "df_final.to_csv('results/df_individuals_score.csv')"
         ]
      },
      {
         "cell_type": "code",
         "execution_count": 27,
         "id": "cabfc303",
         "metadata": {},
         "outputs": [
            {
               "data": {
                  "text/html": [
                     "<div>\n",
                     "<style scoped>\n",
                     "    .dataframe tbody tr th:only-of-type {\n",
                     "        vertical-align: middle;\n",
                     "    }\n",
                     "\n",
                     "    .dataframe tbody tr th {\n",
                     "        vertical-align: top;\n",
                     "    }\n",
                     "\n",
                     "    .dataframe thead th {\n",
                     "        text-align: right;\n",
                     "    }\n",
                     "</style>\n",
                     "<table border=\"1\" class=\"dataframe\">\n",
                     "  <thead>\n",
                     "    <tr style=\"text-align: right;\">\n",
                     "      <th></th>\n",
                     "      <th>individual_wikidata_id</th>\n",
                     "      <th>productive_year</th>\n",
                     "      <th>decade</th>\n",
                     "      <th>individual_name</th>\n",
                     "      <th>score</th>\n",
                     "      <th>region_name</th>\n",
                     "    </tr>\n",
                     "  </thead>\n",
                     "  <tbody>\n",
                     "    <tr>\n",
                     "      <th>435843</th>\n",
                     "      <td>Q243201</td>\n",
                     "      <td>1774.0</td>\n",
                     "      <td>1770</td>\n",
                     "      <td>Grigory Potemkin</td>\n",
                     "      <td>64</td>\n",
                     "      <td>Slav world</td>\n",
                     "    </tr>\n",
                     "  </tbody>\n",
                     "</table>\n",
                     "</div>"
                  ],
                  "text/plain": [
                     "       individual_wikidata_id  productive_year  decade   individual_name  \\\n",
                     "435843                Q243201           1774.0    1770  Grigory Potemkin   \n",
                     "\n",
                     "        score region_name  \n",
                     "435843     64  Slav world  "
                  ]
               },
               "execution_count": 27,
               "metadata": {},
               "output_type": "execute_result"
            }
         ],
         "source": []
      },
      {
         "cell_type": "code",
         "execution_count": 8,
         "id": "6e8ee0e7",
         "metadata": {},
         "outputs": [],
         "source": [
            "test = df_final[df_final['region_name']=='Arabian peninsula']\n",
            "test = test[test['decade']<=800]\n",
            "test = test.sort_values('decade', ascending=True)\n"
         ]
      },
      {
         "cell_type": "code",
         "execution_count": null,
         "id": "c077a5ea",
         "metadata": {},
         "outputs": [
            {
               "data": {
                  "text/html": [
                     "<div>\n",
                     "<style scoped>\n",
                     "    .dataframe tbody tr th:only-of-type {\n",
                     "        vertical-align: middle;\n",
                     "    }\n",
                     "\n",
                     "    .dataframe tbody tr th {\n",
                     "        vertical-align: top;\n",
                     "    }\n",
                     "\n",
                     "    .dataframe thead th {\n",
                     "        text-align: right;\n",
                     "    }\n",
                     "</style>\n",
                     "<table border=\"1\" class=\"dataframe\">\n",
                     "  <thead>\n",
                     "    <tr style=\"text-align: right;\">\n",
                     "      <th></th>\n",
                     "      <th>individual_wikidata_id</th>\n",
                     "      <th>productive_year</th>\n",
                     "      <th>decade</th>\n",
                     "      <th>individual_name</th>\n",
                     "      <th>score</th>\n",
                     "      <th>region_name</th>\n",
                     "    </tr>\n",
                     "  </thead>\n",
                     "  <tbody>\n",
                     "    <tr>\n",
                     "      <th>210801</th>\n",
                     "      <td>Q1581143</td>\n",
                     "      <td>1524.0</td>\n",
                     "      <td>1520</td>\n",
                     "      <td>Hans Luterer</td>\n",
                     "      <td>7</td>\n",
                     "      <td>Germany</td>\n",
                     "    </tr>\n",
                     "    <tr>\n",
                     "      <th>156313</th>\n",
                     "      <td>Q106066464</td>\n",
                     "      <td>1873.0</td>\n",
                     "      <td>1870</td>\n",
                     "      <td>Louise Nyström-Hamilton</td>\n",
                     "      <td>13</td>\n",
                     "      <td>Northwestern Europe</td>\n",
                     "    </tr>\n",
                     "    <tr>\n",
                     "      <th>96061</th>\n",
                     "      <td>Q18576901</td>\n",
                     "      <td>1795.0</td>\n",
                     "      <td>1800</td>\n",
                     "      <td>Robert Deverell</td>\n",
                     "      <td>10</td>\n",
                     "      <td>British Islands</td>\n",
                     "    </tr>\n",
                     "  </tbody>\n",
                     "</table>\n",
                     "</div>"
                  ],
                  "text/plain": [
                     "       individual_wikidata_id  productive_year  decade  \\\n",
                     "210801               Q1581143           1524.0    1520   \n",
                     "156313             Q106066464           1873.0    1870   \n",
                     "96061               Q18576901           1795.0    1800   \n",
                     "\n",
                     "                individual_name  score          region_name  \n",
                     "210801             Hans Luterer      7              Germany  \n",
                     "156313  Louise Nyström-Hamilton     13  Northwestern Europe  \n",
                     "96061           Robert Deverell     10      British Islands  "
                  ]
               },
               "execution_count": 9,
               "metadata": {},
               "output_type": "execute_result"
            }
         ],
         "source": [
            "df_final.sort_values('score', ascending=False).sample(3)"
         ]
      },
      {
         "cell_type": "markdown",
         "id": "0605f74c",
         "metadata": {},
         "source": [
            "### Make scores for regions"
         ]
      },
      {
         "cell_type": "code",
         "execution_count": 10,
         "id": "a13dff44",
         "metadata": {},
         "outputs": [],
         "source": [
            "import math\n",
            "\n",
            "def get_century(decade):\n",
            "    return math.ceil(decade / 100)"
         ]
      },
      {
         "cell_type": "code",
         "execution_count": 11,
         "id": "969af7fc",
         "metadata": {},
         "outputs": [],
         "source": [
            "# Make groups\n",
            "df_group = df_final[['individual_wikidata_id', 'region_name', 'decade', 'score']].drop_duplicates()\n",
            "df_group = df_group.reset_index(drop=True)\n",
            "df_group['score'] = 1\n",
            "\n",
            "df_group = df_group.groupby(['region_name', 'decade'])['score'].sum().reset_index()"
         ]
      },
      {
         "cell_type": "code",
         "execution_count": 12,
         "id": "b39800ad",
         "metadata": {},
         "outputs": [
            {
               "data": {
                  "text/html": [
                     "<div>\n",
                     "<style scoped>\n",
                     "    .dataframe tbody tr th:only-of-type {\n",
                     "        vertical-align: middle;\n",
                     "    }\n",
                     "\n",
                     "    .dataframe tbody tr th {\n",
                     "        vertical-align: top;\n",
                     "    }\n",
                     "\n",
                     "    .dataframe thead th {\n",
                     "        text-align: right;\n",
                     "    }\n",
                     "</style>\n",
                     "<table border=\"1\" class=\"dataframe\">\n",
                     "  <thead>\n",
                     "    <tr style=\"text-align: right;\">\n",
                     "      <th></th>\n",
                     "      <th>region_name</th>\n",
                     "      <th>decade</th>\n",
                     "      <th>score</th>\n",
                     "      <th>century</th>\n",
                     "    </tr>\n",
                     "  </thead>\n",
                     "  <tbody>\n",
                     "    <tr>\n",
                     "      <th>751</th>\n",
                     "      <td>Chinese world</td>\n",
                     "      <td>-280</td>\n",
                     "      <td>1</td>\n",
                     "      <td>-2</td>\n",
                     "    </tr>\n",
                     "    <tr>\n",
                     "      <th>752</th>\n",
                     "      <td>Chinese world</td>\n",
                     "      <td>-270</td>\n",
                     "      <td>1</td>\n",
                     "      <td>-2</td>\n",
                     "    </tr>\n",
                     "    <tr>\n",
                     "      <th>753</th>\n",
                     "      <td>Chinese world</td>\n",
                     "      <td>-260</td>\n",
                     "      <td>2</td>\n",
                     "      <td>-2</td>\n",
                     "    </tr>\n",
                     "    <tr>\n",
                     "      <th>754</th>\n",
                     "      <td>Chinese world</td>\n",
                     "      <td>-240</td>\n",
                     "      <td>2</td>\n",
                     "      <td>-2</td>\n",
                     "    </tr>\n",
                     "    <tr>\n",
                     "      <th>755</th>\n",
                     "      <td>Chinese world</td>\n",
                     "      <td>-230</td>\n",
                     "      <td>2</td>\n",
                     "      <td>-2</td>\n",
                     "    </tr>\n",
                     "    <tr>\n",
                     "      <th>...</th>\n",
                     "      <td>...</td>\n",
                     "      <td>...</td>\n",
                     "      <td>...</td>\n",
                     "      <td>...</td>\n",
                     "    </tr>\n",
                     "    <tr>\n",
                     "      <th>943</th>\n",
                     "      <td>Chinese world</td>\n",
                     "      <td>1840</td>\n",
                     "      <td>50</td>\n",
                     "      <td>19</td>\n",
                     "    </tr>\n",
                     "    <tr>\n",
                     "      <th>944</th>\n",
                     "      <td>Chinese world</td>\n",
                     "      <td>1850</td>\n",
                     "      <td>43</td>\n",
                     "      <td>19</td>\n",
                     "    </tr>\n",
                     "    <tr>\n",
                     "      <th>945</th>\n",
                     "      <td>Chinese world</td>\n",
                     "      <td>1860</td>\n",
                     "      <td>66</td>\n",
                     "      <td>19</td>\n",
                     "    </tr>\n",
                     "    <tr>\n",
                     "      <th>946</th>\n",
                     "      <td>Chinese world</td>\n",
                     "      <td>1870</td>\n",
                     "      <td>58</td>\n",
                     "      <td>19</td>\n",
                     "    </tr>\n",
                     "    <tr>\n",
                     "      <th>947</th>\n",
                     "      <td>Chinese world</td>\n",
                     "      <td>1880</td>\n",
                     "      <td>21</td>\n",
                     "      <td>19</td>\n",
                     "    </tr>\n",
                     "  </tbody>\n",
                     "</table>\n",
                     "<p>197 rows × 4 columns</p>\n",
                     "</div>"
                  ],
                  "text/plain": [
                     "       region_name  decade  score  century\n",
                     "751  Chinese world    -280      1       -2\n",
                     "752  Chinese world    -270      1       -2\n",
                     "753  Chinese world    -260      2       -2\n",
                     "754  Chinese world    -240      2       -2\n",
                     "755  Chinese world    -230      2       -2\n",
                     "..             ...     ...    ...      ...\n",
                     "943  Chinese world    1840     50       19\n",
                     "944  Chinese world    1850     43       19\n",
                     "945  Chinese world    1860     66       19\n",
                     "946  Chinese world    1870     58       19\n",
                     "947  Chinese world    1880     21       19\n",
                     "\n",
                     "[197 rows x 4 columns]"
                  ]
               },
               "execution_count": 12,
               "metadata": {},
               "output_type": "execute_result"
            }
         ],
         "source": [
            "min_individuals = 8\n",
            "\n",
            "def filter_by_number_of_individuals(df_group, min_individuals = 8):\n",
            "\n",
            "\n",
            "    df_group['century'] = df_group['decade'].apply(get_century)\n",
            "\n",
            "\n",
            "    df_start = df_group.copy()\n",
            "\n",
            "    # Applying the function to the 'decade' column\n",
            "    df_start['century'] = df_start['decade'].apply(get_century)\n",
            "    df_start = df_start.groupby(['region_name', 'century'])['score'].sum().reset_index()\n",
            "    df_start= df_start.reset_index()\n",
            "\n",
            "    # Filter rows with score >= 10\n",
            "    filtered_df = df_start[df_start['score'] >= min_individuals]\n",
            "\n",
            "    # Get index of the first occurrence of each region\n",
            "    indices = filtered_df.groupby('region_name').apply(lambda x: x.index[0])\n",
            "\n",
            "    df_index = indices.reset_index()\n",
            "    df_index.columns = ['region_name', 'min_index']\n",
            "\n",
            "\n",
            "    # For every region filter by the min century\n",
            "    final_new_region = []\n",
            "    for region in df_index['region_name'].unique():\n",
            "        region_min_index = df_index[df_index['region_name']==region]['min_index'].iloc[0]\n",
            "        df_filtered_region = df_start[(df_start['region_name']==region)&(df_start['index']>=region_min_index)]\n",
            "        final_new_region.append(df_filtered_region)\n",
            "    df_final_new_region = pd.concat([x for x in final_new_region])\n",
            "    df_final_new_region = df_final_new_region[['region_name', 'century']].copy()\n",
            "\n",
            "\n",
            "    df_final_group = pd.merge(df_group, df_final_new_region, on = ['region_name', 'century'])\n",
            "    df_final_group = df_final_group.reset_index(drop=True)\n",
            "\n",
            "    return df_final_group\n",
            "\n",
            "df_final_group = filter_by_number_of_individuals(df_group, min_individuals = 8)\n",
            "df_final_group[df_final_group['region_name']=='Chinese world']"
         ]
      },
      {
         "cell_type": "markdown",
         "id": "d242abd9",
         "metadata": {},
         "source": [
            "### this is a function to find the earlier date for every region with at least n indiviudla in a century\n"
         ]
      },
      {
         "cell_type": "code",
         "execution_count": 13,
         "id": "de9e69db",
         "metadata": {},
         "outputs": [],
         "source": [
            "df_group = df_final_group.copy()\n",
            "df_group.to_sql('region_score',conn, if_exists = 'replace', index=False)\n",
            "df_group.to_csv('results/df_region_score.csv')"
         ]
      },
      {
         "cell_type": "code",
         "execution_count": 14,
         "id": "bc81e5b9-d87d-4227-9475-112e468ea1fd",
         "metadata": {
            "tags": []
         },
         "outputs": [],
         "source": [
            "# Individuals that are only scientists\n",
            "df_scientists = pd.read_sql_query(\"SELECT * FROM individual_occupations\", conn)\n",
            "df_scientists = df_scientists[df_scientists['occupations_category'].str.contains('science')]\n",
            "\n",
            "top_scientific_occupations = df_scientists.occupations_name.value_counts()\n",
            "top_scientific_occupations = top_scientific_occupations.head(50).index\n",
            "occupations_to_remove = ['pedagogue','explorer','music pedagogue', 'land surveyor', 'music theorist', 'folklorist', 'conquistador', 'urban planner', 'settler']\n",
            "filtered_occupation_list = [occupation for occupation in top_scientific_occupations if occupation not in occupations_to_remove]\n",
            "df_scientists = df_scientists[df_scientists['occupations_name'].isin(filtered_occupation_list)]\n",
            "\n",
            "list_scientists = list(set(df_scientists['individual_wikidata_id']))\n",
            "df_final_scientists = df_final[df_final['individual_wikidata_id'].isin(list_scientists)]\n",
            "len(df_final_scientists)\n",
            "\n",
            "df_final_scientists = df_final_scientists.drop_duplicates()\n",
            "df_final_scientists.to_csv('results/df_individuals_score_science.csv')"
         ]
      },
      {
         "cell_type": "markdown",
         "id": "793b029f",
         "metadata": {},
         "source": [
            "### Make groups for scientists in regions"
         ]
      },
      {
         "cell_type": "code",
         "execution_count": 15,
         "id": "39b2f71f",
         "metadata": {},
         "outputs": [],
         "source": [
            "# Make groups\n",
            "df_group = df_final_scientists[['individual_wikidata_id', 'region_name', 'decade', 'score']].drop_duplicates()\n",
            "df_group = df_group.reset_index(drop=True)\n",
            "df_group['score'] = 1"
         ]
      },
      {
         "cell_type": "code",
         "execution_count": 16,
         "id": "813cf368",
         "metadata": {},
         "outputs": [],
         "source": [
            "\n",
            "\n",
            "df_group = df_group.groupby(['region_name', 'decade'])['score'].sum().reset_index()\n",
            "df_group.to_sql('region_score_science',conn, if_exists = 'replace', index=False)\n",
            "df_group.to_csv('results/df_region_score_science.csv')"
         ]
      },
      {
         "cell_type": "markdown",
         "id": "f72e3df8",
         "metadata": {},
         "source": [
            "## Make complexity score for regions"
         ]
      },
      {
         "cell_type": "code",
         "execution_count": 17,
         "id": "160e0216",
         "metadata": {},
         "outputs": [],
         "source": [
            "df_occupations = pd.read_sql_query(\"SELECT * FROM individual_occupations\", conn)\n",
            "df_occupations = df_occupations[df_occupations['occupations_category'].str.contains('science')]"
         ]
      },
      {
         "cell_type": "code",
         "execution_count": 18,
         "id": "1f0bf589",
         "metadata": {},
         "outputs": [],
         "source": [
            "\n",
            "df_complexity = pd.merge(df_final,df_occupations, on = 'individual_wikidata_id')\n",
            "df_complexity_group = df_complexity[['occupations_wikidata_id', 'region_name', 'decade']].copy()\n",
            "df_complexity_group = df_complexity_group.groupby(['region_name', 'decade'])['occupations_wikidata_id'].apply(lambda x : len(set(x))).reset_index()\n",
            "df_complexity_group = df_complexity_group.rename(columns={'occupations_wikidata_id':'score'})\n",
            "df_test = df_complexity[['individual_wikidata_id', 'occupations_wikidata_id', 'decade', 'region_name']]\n",
            "df_test['decade'] = df_test['decade'].apply(lambda x: round(x / 100) * 100)"
         ]
      },
      {
         "cell_type": "code",
         "execution_count": 19,
         "id": "36634e78",
         "metadata": {},
         "outputs": [
            {
               "data": {
                  "image/png": "[encoded data removed]",
                  "text/plain": [
                     "<Figure size 1000x600 with 1 Axes>"
                  ]
               },
               "metadata": {},
               "output_type": "display_data"
            }
         ],
         "source": [
            "\n",
            "\n",
            "df_complexity_total = df_test.groupby(['decade', 'region_name'])['occupations_wikidata_id'].apply(lambda x: len(set(x))).reset_index()\n",
            "test = df_complexity_total[df_complexity_total['region_name']=='Chinese world']\n",
            "test = test[test['decade']>=900]\n",
            "\n",
            "import matplotlib.pyplot as plt\n",
            "\n",
            "plt.figure(figsize=(10, 6))\n",
            "plt.plot(test['decade'], test['occupations_wikidata_id'], label='Unique Occupations', color='blue')\n",
            "plt.xlabel('')\n",
            "plt.ylabel('Unique Occupations')\n",
            "plt.title('Chinese world')\n",
            "plt.legend()\n",
            "plt.grid(True)\n",
            "plt.show()"
         ]
      },
      {
         "cell_type": "code",
         "execution_count": 20,
         "id": "4ba943ec",
         "metadata": {},
         "outputs": [
            {
               "name": "stderr",
               "output_type": "stream",
               "text": [
                  "/Users/charlesdedampierre/Desktop/cultura_project/.venv/lib/python3.11/site-packages/scipy/stats/_distn_infrastructure.py:2241: RuntimeWarning: invalid value encountered in multiply\n",
                  "  lower_bound = _a * scale + loc\n",
                  "/Users/charlesdedampierre/Desktop/cultura_project/.venv/lib/python3.11/site-packages/scipy/stats/_distn_infrastructure.py:2242: RuntimeWarning: invalid value encountered in multiply\n",
                  "  upper_bound = _b * scale + loc\n"
               ]
            }
         ],
         "source": [
            "import pandas as pd\n",
            "import numpy as np\n",
            "from sklearn.utils import resample\n",
            "from scipy.stats import sem, t\n",
            "import random\n",
            "\n",
            "\n",
            "# Define a function to calculate unique occupations in a sample\n",
            "def calculate_unique_occupations(sample_data):\n",
            "    return len(sample_data['occupations_wikidata_id'].unique())\n",
            "\n",
            "# Number of samples\n",
            "num_samples = 50\n",
            "n_ind = 5\n",
            "\n",
            "grouped = df_test.groupby(['region_name', 'decade'])\n",
            "results = []\n",
            "for (region, decade), group in grouped:\n",
            "    sample_results = []\n",
            "    for _ in range(num_samples):\n",
            "        if len(group)<n_ind:\n",
            "              sample = group\n",
            "        else:\n",
            "            sample = group.sample(n_ind)\n",
            "        # n_unique_ind = list(set(group.individual_wikidata_id))\n",
            "        # if len(n_unique_ind)<n_ind:\n",
            "        #     sample = group\n",
            "        # else:\n",
            "        #     sample_individuals = random.sample(n_unique_ind, n_ind)\n",
            "        #     sample = group[group['individual_wikidata_id'].isin(sample_individuals)]\n",
            "        unique_occupations = calculate_unique_occupations(sample)\n",
            "        sample_results.append(unique_occupations)\n",
            "    median_unique_occupations = np.median(sample_results)\n",
            "    ci = t.interval(0.95, len(sample_results) - 1, loc=np.median(sample_results), scale=sem(sample_results))\n",
            "    results.append({'region_name': region, 'decade': decade, 'median_unique_occupations': median_unique_occupations,\n",
            "                    'lower_bound': ci[0], 'upper_bound': ci[1]})\n"
         ]
      },
      {
         "cell_type": "code",
         "execution_count": 21,
         "id": "2a8ed481",
         "metadata": {},
         "outputs": [],
         "source": [
            "\n",
            "# Create a DataFrame for the results\n",
            "result_df = pd.DataFrame(results)\n",
            "result_df['lower_bound'].fillna(result_df['median_unique_occupations'], inplace=True)\n",
            "result_df['upper_bound'].fillna(result_df['median_unique_occupations'], inplace=True)\n",
            "result_df['median_unique_occupations'] = result_df['median_unique_occupations'].astype(float)\n",
            "result_df['lower_bound'] = result_df['lower_bound'].astype(float)\n",
            "result_df['upper_bound'] = result_df['upper_bound'].astype(float)\n",
            "\n",
            "result_df['decade'] = result_df['decade'].astype(int)\n",
            "result_df.to_csv('results/df_region_score_complexity.csv')\n",
            "\n",
            "test = result_df[result_df['region_name']=='Chinese world']\n",
            "test = test[test['decade']>=900]\n",
            "\n"
         ]
      },
      {
         "cell_type": "code",
         "execution_count": 22,
         "id": "24ec2790",
         "metadata": {},
         "outputs": [
            {
               "data": {
                  "image/png": "[encoded data removed]",
                  "text/plain": [
                     "<Figure size 1000x600 with 1 Axes>"
                  ]
               },
               "metadata": {},
               "output_type": "display_data"
            }
         ],
         "source": [
            "import matplotlib.pyplot as plt\n",
            "\n",
            "plt.figure(figsize=(10, 6))\n",
            "plt.plot(test['decade'], test['median_unique_occupations'], label='Median Unique Occupations', color='blue')\n",
            "plt.fill_between(test['decade'], test['lower_bound'], test['upper_bound'], color='skyblue', alpha=0.4, label='Confidence Interval (95%)')\n",
            "plt.xlabel('')\n",
            "plt.ylabel('Unique Occupations')\n",
            "plt.title('Chinese world')\n",
            "plt.legend()\n",
            "plt.grid(True)\n",
            "plt.show()"
         ]
      },
      {
         "cell_type": "code",
         "execution_count": null,
         "id": "22aead8c",
         "metadata": {},
         "outputs": [],
         "source": []
      },
      {
         "cell_type": "code",
         "execution_count": null,
         "id": "65e7eb75",
         "metadata": {},
         "outputs": [],
         "source": []
      },
      {
         "cell_type": "code",
         "execution_count": 23,
         "id": "9032e2cf",
         "metadata": {},
         "outputs": [],
         "source": [
            "#df_complexity_group[df_complexity_group['region_name']=='Japan'].sample(10)"
         ]
      },
      {
         "cell_type": "markdown",
         "id": "c5099959",
         "metadata": {},
         "source": [
            "## Make Score for occupations"
         ]
      },
      {
         "cell_type": "code",
         "execution_count": 24,
         "id": "74bbbc25",
         "metadata": {},
         "outputs": [],
         "source": [
            "df_occupations_clean = df_occupations[['individual_wikidata_id', 'occupations_name']].drop_duplicates()\n",
            "df_final_occupation = pd.merge(df_final, df_occupations_clean, on = 'individual_wikidata_id')\n",
            "df_final_occupation['score'] = 1\n",
            "\n",
            "df_group_occupations = df_final_occupation.groupby(['region_name', 'occupations_name', 'decade'])['score'].sum().reset_index()\n",
            "\n",
            "\n",
            "get_top_5_occupations = df_group_occupations.groupby(['region_name', 'occupations_name'])['score'].sum().reset_index()\n",
            "get_top_5_occupations = get_top_5_occupations.sort_values(['region_name', 'score'], ascending=(False, False))\n",
            "get_top_5_occupations = get_top_5_occupations.groupby('region_name').head(10)                                    \n",
            "get_top_5_occupations = get_top_5_occupations.rename(columns={'score': 'count_occupations'})\n",
            "\n",
            "df_group_occupations = pd.merge(df_group_occupations, get_top_5_occupations, on = ['region_name', 'occupations_name'])\n",
            "df_group_occupations = pd.merge(df_group_occupations, df_group[['region_name', 'decade']], on = ['region_name', 'decade'])\n",
            "df_group_occupations.to_csv('results/df_region_score_occupations.csv')\n",
            "\n",
            "# Megre with df_group to start at the right moment in history"
         ]
      },
      {
         "cell_type": "code",
         "execution_count": 25,
         "id": "e06d42cf",
         "metadata": {},
         "outputs": [
            {
               "data": {
                  "text/html": [
                     "<div>\n",
                     "<style scoped>\n",
                     "    .dataframe tbody tr th:only-of-type {\n",
                     "        vertical-align: middle;\n",
                     "    }\n",
                     "\n",
                     "    .dataframe tbody tr th {\n",
                     "        vertical-align: top;\n",
                     "    }\n",
                     "\n",
                     "    .dataframe thead th {\n",
                     "        text-align: right;\n",
                     "    }\n",
                     "</style>\n",
                     "<table border=\"1\" class=\"dataframe\">\n",
                     "  <thead>\n",
                     "    <tr style=\"text-align: right;\">\n",
                     "      <th></th>\n",
                     "      <th>individual_wikidata_id</th>\n",
                     "      <th>individual_name</th>\n",
                     "      <th>occupations_wikidata_id</th>\n",
                     "      <th>occupations_name</th>\n",
                     "      <th>occupations_category</th>\n",
                     "    </tr>\n",
                     "  </thead>\n",
                     "  <tbody>\n",
                     "  </tbody>\n",
                     "</table>\n",
                     "</div>"
                  ],
                  "text/plain": [
                     "Empty DataFrame\n",
                     "Columns: [individual_wikidata_id, individual_name, occupations_wikidata_id, occupations_name, occupations_category]\n",
                     "Index: []"
                  ]
               },
               "execution_count": 25,
               "metadata": {},
               "output_type": "execute_result"
            }
         ],
         "source": [
            "\n",
            "df_occupations[df_occupations['occupations_name'].str.contains('Attic')]"
         ]
      },
      {
         "cell_type": "code",
         "execution_count": null,
         "id": "9ee139d8",
         "metadata": {},
         "outputs": [],
         "source": []
      },
      {
         "cell_type": "code",
         "execution_count": null,
         "id": "8c5ac299",
         "metadata": {},
         "outputs": [],
         "source": []
      }
   ],
   "metadata": {
      "kernelspec": {
         "display_name": "Python 3 (ipykernel)",
         "language": "python",
         "name": "python3"
      },
      "language_info": {
         "codemirror_mode": {
            "name": "ipython",
            "version": 3
         },
         "file_extension": ".py",
         "mimetype": "text/x-python",
         "name": "python",
         "nbconvert_exporter": "python",
         "pygments_lexer": "ipython3",
         "version": "3.11.5"
      }
   },
   "nbformat": 4,
   "nbformat_minor": 5
}
