{
 "cells": [
  {
   "cell_type": "code",
   "execution_count": 1,
   "id": "ef6e087a-be73-4dc5-857b-b7033e64c693",
   "metadata": {
    "tags": []
   },
   "outputs": [],
   "source": [
    "import pandas as pd\n",
    "import matplotlib.pyplot as plt\n",
    "import numpy as np\n",
    "\n",
    "import warnings\n",
    "\n",
    "# Ignore FutureWarning\n",
    "warnings.simplefilter(action='ignore', category=FutureWarning)\n",
    "\n",
    "\n",
    "pd.options.mode.chained_assignment = None\n",
    "\n",
    "import sqlite3\n",
    "from dotenv import load_dotenv\n",
    "\n",
    "load_dotenv()\n",
    "import os\n",
    "\n",
    "DB_PATH = os.getenv(\"DB_PATH\")\n",
    "DATA_PATH = \"data\"\n",
    "\n",
    "conn = sqlite3.connect(DB_PATH)"
   ]
  },
  {
   "cell_type": "code",
   "execution_count": 2,
   "metadata": {},
   "outputs": [
    {
     "data": {
      "text/html": [
       "<div>\n",
       "<style scoped>\n",
       "    .dataframe tbody tr th:only-of-type {\n",
       "        vertical-align: middle;\n",
       "    }\n",
       "\n",
       "    .dataframe tbody tr th {\n",
       "        vertical-align: top;\n",
       "    }\n",
       "\n",
       "    .dataframe thead th {\n",
       "        text-align: right;\n",
       "    }\n",
       "</style>\n",
       "<table border=\"1\" class=\"dataframe\">\n",
       "  <thead>\n",
       "    <tr style=\"text-align: right;\">\n",
       "      <th></th>\n",
       "      <th>region_name</th>\n",
       "      <th>decade</th>\n",
       "      <th>score</th>\n",
       "    </tr>\n",
       "  </thead>\n",
       "  <tbody>\n",
       "    <tr>\n",
       "      <th>223</th>\n",
       "      <td>Arabic world</td>\n",
       "      <td>1380</td>\n",
       "      <td>7</td>\n",
       "    </tr>\n",
       "    <tr>\n",
       "      <th>347</th>\n",
       "      <td>Balkans</td>\n",
       "      <td>-580</td>\n",
       "      <td>1</td>\n",
       "    </tr>\n",
       "    <tr>\n",
       "      <th>3902</th>\n",
       "      <td>South East Asia</td>\n",
       "      <td>1180</td>\n",
       "      <td>1</td>\n",
       "    </tr>\n",
       "    <tr>\n",
       "      <th>5466</th>\n",
       "      <td>mediterranean World</td>\n",
       "      <td>1440</td>\n",
       "      <td>5</td>\n",
       "    </tr>\n",
       "    <tr>\n",
       "      <th>4911</th>\n",
       "      <td>United Kingdom</td>\n",
       "      <td>1300</td>\n",
       "      <td>3</td>\n",
       "    </tr>\n",
       "  </tbody>\n",
       "</table>\n",
       "</div>"
      ],
      "text/plain": [
       "              region_name  decade  score\n",
       "223          Arabic world    1380      7\n",
       "347               Balkans    -580      1\n",
       "3902      South East Asia    1180      1\n",
       "5466  mediterranean World    1440      5\n",
       "4911       United Kingdom    1300      3"
      ]
     },
     "execution_count": 2,
     "metadata": {},
     "output_type": "execute_result"
    }
   ],
   "source": [
    "df_score_region = pd.read_csv('../immaterial_index/results/df_region_score.csv', index_col = [0])\n",
    "df_score_region.sample(5)\n"
   ]
  },
  {
   "cell_type": "code",
   "execution_count": 3,
   "id": "40ec2608-412e-4e24-80d0-801284316626",
   "metadata": {
    "tags": []
   },
   "outputs": [],
   "source": [
    "df_unseen_model = pd.read_csv('../unseen_species_model/results/estimations.csv')\n",
    "df_unseen_model = df_unseen_model[df_unseen_model['decade']<=1880]\n",
    "\n",
    "df_score_region = pd.read_csv('../immaterial_index/results/df_region_score.csv', index_col=[0])\n",
    "df_score_region = df_score_region.rename(columns = {'region_name':'region'})\n",
    "\n",
    "new_df = pd.merge(df_unseen_model, df_score_region, on = ['decade', 'region'])\n",
    "new_df = new_df.rename(columns = {'region':'region_name', 'decade':'year'})\n",
    "\n",
    "#new_df['year'] = new_df['year'].astype(int)\n",
    "#new_df['year'] = new_df['year'].apply(lambda x: round(x/10)*10)\n",
    "#new_df = new_df.groupby(['region_name', 'year']).mean().reset_index()\n",
    "#new_df = new_df[new_df['year']<=1840]\n",
    "\n",
    "\n",
    "#new_df = new_df[~new_df['N_est'].isna()]\n",
    "# When there is no individuals for the 'score' index, replace by 0\n",
    "#new_df = new_df.fillna(0)\n"
   ]
  },
  {
   "cell_type": "markdown",
   "id": "b6e418d3-30f3-417b-92f1-3a00a1cd332b",
   "metadata": {},
   "source": [
    "### Load GDP and Population Data"
   ]
  },
  {
   "cell_type": "code",
   "execution_count": 4,
   "id": "6c09cb94-0bf4-4432-b4f6-9b05d23f9ee0",
   "metadata": {
    "tags": []
   },
   "outputs": [],
   "source": [
    "#df_region_code = pd.read_sql_query(\"SELECT * FROM region_code\", conn)\n",
    "df_region_code = pd.read_csv(\"../environnement_data/region_code.csv\", index_col = [0])\n",
    "\n",
    "#df_gdp = pd.read_sql_query(\"SELECT * FROM gdp\", conn)\n",
    "df_gdp = pd.read_csv(\"../environnement_data/gdp.csv\", index_col=[0])\n",
    "\n",
    "df_gdp = df_gdp.drop(['country_code_maddison'], axis=1)\n",
    "df_gdp = df_gdp[df_gdp['year']<=1880]\n",
    "df_gdp = pd.merge(df_gdp, df_region_code, on = 'region_code')\n",
    "df_gdp.sample(5)\n",
    "\n",
    "#df_gdp_clean =  pd.read_sql_query(\"SELECT * FROM gdp_clean\", conn)\n",
    "df_gdp_clean = pd.read_csv(\"../environnement_data/gdp_clean.csv\", index_col=[0])\n",
    "df_gdp_clean = pd.merge(df_gdp_clean, df_region_code, on = 'region_code')\n"
   ]
  },
  {
   "cell_type": "code",
   "execution_count": 5,
   "id": "f1c3e787-f616-4aee-8f98-f3b7d42bdbc6",
   "metadata": {
    "tags": []
   },
   "outputs": [
    {
     "data": {
      "text/html": [
       "<div>\n",
       "<style scoped>\n",
       "    .dataframe tbody tr th:only-of-type {\n",
       "        vertical-align: middle;\n",
       "    }\n",
       "\n",
       "    .dataframe tbody tr th {\n",
       "        vertical-align: top;\n",
       "    }\n",
       "\n",
       "    .dataframe thead th {\n",
       "        text-align: right;\n",
       "    }\n",
       "</style>\n",
       "<table border=\"1\" class=\"dataframe\">\n",
       "  <thead>\n",
       "    <tr style=\"text-align: right;\">\n",
       "      <th></th>\n",
       "      <th>year</th>\n",
       "      <th>population</th>\n",
       "      <th>region_name</th>\n",
       "    </tr>\n",
       "  </thead>\n",
       "  <tbody>\n",
       "    <tr>\n",
       "      <th>1441</th>\n",
       "      <td>-190</td>\n",
       "      <td>1.42000</td>\n",
       "      <td>Central Europe</td>\n",
       "    </tr>\n",
       "    <tr>\n",
       "      <th>4685</th>\n",
       "      <td>-110</td>\n",
       "      <td>0.08625</td>\n",
       "      <td>Ireland</td>\n",
       "    </tr>\n",
       "    <tr>\n",
       "      <th>4462</th>\n",
       "      <td>370</td>\n",
       "      <td>46.10000</td>\n",
       "      <td>Indian world</td>\n",
       "    </tr>\n",
       "    <tr>\n",
       "      <th>8063</th>\n",
       "      <td>1140</td>\n",
       "      <td>12.03000</td>\n",
       "      <td>Southwestern Europe</td>\n",
       "    </tr>\n",
       "    <tr>\n",
       "      <th>4771</th>\n",
       "      <td>750</td>\n",
       "      <td>0.25500</td>\n",
       "      <td>Ireland</td>\n",
       "    </tr>\n",
       "  </tbody>\n",
       "</table>\n",
       "</div>"
      ],
      "text/plain": [
       "      year  population          region_name\n",
       "1441  -190     1.42000       Central Europe\n",
       "4685  -110     0.08625              Ireland\n",
       "4462   370    46.10000         Indian world\n",
       "8063  1140    12.03000  Southwestern Europe\n",
       "4771   750     0.25500              Ireland"
      ]
     },
     "execution_count": 5,
     "metadata": {},
     "output_type": "execute_result"
    }
   ],
   "source": [
    "#df_population = pd.read_sql_query(\"SELECT * FROM population\", conn)\n",
    "df_population = pd.read_csv(\"../environnement_data/population.csv\", index_col=[0])\n",
    "\n",
    "df_population = pd.merge(df_population, df_region_code, on = 'region_code')\n",
    "df_population = df_population.drop('region_code', axis=1)\n",
    "df_population.sample(5)\n"
   ]
  },
  {
   "cell_type": "code",
   "execution_count": 6,
   "id": "7b4c8f15-ff1d-44bf-bce8-83dcec6bab0c",
   "metadata": {
    "tags": []
   },
   "outputs": [],
   "source": [
    "def interpolate_function(df, value=\"value\", category=\"region_code\", year=\"year\", size_interpolation = 10):\n",
    "    df_interpolated_list = []\n",
    "    for reg in set(df[category]):\n",
    "        res = df[df[category] == reg]\n",
    "\n",
    "        min_date = min(res[\"year\"])\n",
    "        max_date = max(res[\"year\"])\n",
    "\n",
    "        year_range = np.arange(round(min_date), round(max_date), size_interpolation)\n",
    "        df_year = pd.DataFrame(year_range, columns=[year]).reset_index(drop=True)\n",
    "\n",
    "        res = pd.merge(res, df_year, on=year, how=\"outer\")\n",
    "        res[category] = reg\n",
    "        res = res.sort_values(year, ascending=True)\n",
    "        res[f\"{value}_interpolated\"] = res[value].interpolate(method=\"linear\")\n",
    "        res = res.reset_index(drop=True)\n",
    "        res = res[~res[f\"{value}_interpolated\"].isna()]\n",
    "\n",
    "        df_interpolated_list.append(res)\n",
    "\n",
    "    df_interpolated = pd.concat([x for x in df_interpolated_list])\n",
    "    df_interpolated = df_interpolated.reset_index(drop=True)\n",
    "    df_interpolated = df_interpolated.drop(value, axis=1)\n",
    "\n",
    "    return df_interpolated\n",
    "\n",
    "df_population_interpolation = interpolate_function(df_population, \n",
    "                                                   value = 'population', \n",
    "                                                   year = 'year', \n",
    "                                                   category=\"region_name\",\n",
    "                                                   size_interpolation = 10)"
   ]
  },
  {
   "cell_type": "code",
   "execution_count": 7,
   "metadata": {},
   "outputs": [
    {
     "data": {
      "text/plain": [
       "1880"
      ]
     },
     "execution_count": 7,
     "metadata": {},
     "output_type": "execute_result"
    }
   ],
   "source": [
    "max(df_gdp.year)"
   ]
  },
  {
   "cell_type": "code",
   "execution_count": 8,
   "metadata": {},
   "outputs": [],
   "source": [
    "# Linear interpolation on the proxies in order to merge with the GDP data excatly (that are at the year level)\n",
    "\n",
    "final = pd.merge(df_population_interpolation, new_df, on = ['region_name', 'year'])\n",
    "final['score_cap'] = final['score']/final['population_interpolated']\n",
    "final['lower_cap'] = final['lower']/final['population_interpolated']\n",
    "final['N_est_cap'] = final['N_est']/final['population_interpolated']\n",
    "final['upper_cap'] = final['upper']/final['population_interpolated']\n",
    "\n",
    "data_stats = pd.merge(final, df_gdp, on = ['region_name', 'year'])\n",
    "data_stats.to_csv(f'results/data_stats.csv')\n",
    "\n",
    "df_stats_clean = pd.merge(final, df_gdp_clean, on = ['region_name', 'year'])\n",
    "df_stats_clean.to_csv(f'results/data_stats_clean_gdp.csv')"
   ]
  },
  {
   "cell_type": "code",
   "execution_count": 9,
   "metadata": {},
   "outputs": [
    {
     "data": {
      "text/html": [
       "<div>\n",
       "<style scoped>\n",
       "    .dataframe tbody tr th:only-of-type {\n",
       "        vertical-align: middle;\n",
       "    }\n",
       "\n",
       "    .dataframe tbody tr th {\n",
       "        vertical-align: top;\n",
       "    }\n",
       "\n",
       "    .dataframe thead th {\n",
       "        text-align: right;\n",
       "    }\n",
       "</style>\n",
       "<table border=\"1\" class=\"dataframe\">\n",
       "  <thead>\n",
       "    <tr style=\"text-align: right;\">\n",
       "      <th></th>\n",
       "      <th>year</th>\n",
       "      <th>region_name</th>\n",
       "      <th>population_interpolated</th>\n",
       "      <th>N_est</th>\n",
       "      <th>lower</th>\n",
       "      <th>upper</th>\n",
       "      <th>score</th>\n",
       "      <th>score_cap</th>\n",
       "      <th>lower_cap</th>\n",
       "      <th>N_est_cap</th>\n",
       "      <th>upper_cap</th>\n",
       "      <th>region_code</th>\n",
       "      <th>country_code_maddison</th>\n",
       "      <th>gdp_per_capita</th>\n",
       "    </tr>\n",
       "  </thead>\n",
       "  <tbody>\n",
       "    <tr>\n",
       "      <th>18</th>\n",
       "      <td>1850</td>\n",
       "      <td>Eastern Europe</td>\n",
       "      <td>40.500</td>\n",
       "      <td>34513.510491</td>\n",
       "      <td>32257.234815</td>\n",
       "      <td>36855.239122</td>\n",
       "      <td>1640</td>\n",
       "      <td>40.493827</td>\n",
       "      <td>796.474934</td>\n",
       "      <td>852.185444</td>\n",
       "      <td>910.005904</td>\n",
       "      <td>re_eastern_europe</td>\n",
       "      <td>POL</td>\n",
       "      <td>985</td>\n",
       "    </tr>\n",
       "    <tr>\n",
       "      <th>3</th>\n",
       "      <td>1840</td>\n",
       "      <td>Nordic countries</td>\n",
       "      <td>4.762</td>\n",
       "      <td>6776.092828</td>\n",
       "      <td>6244.213315</td>\n",
       "      <td>7319.573693</td>\n",
       "      <td>600</td>\n",
       "      <td>125.997480</td>\n",
       "      <td>1311.258571</td>\n",
       "      <td>1422.951035</td>\n",
       "      <td>1537.079734</td>\n",
       "      <td>re_nordic_countries</td>\n",
       "      <td>SWE</td>\n",
       "      <td>1568</td>\n",
       "    </tr>\n",
       "    <tr>\n",
       "      <th>17</th>\n",
       "      <td>1840</td>\n",
       "      <td>Eastern Europe</td>\n",
       "      <td>38.250</td>\n",
       "      <td>33499.613297</td>\n",
       "      <td>31177.546347</td>\n",
       "      <td>35901.428537</td>\n",
       "      <td>1588</td>\n",
       "      <td>41.516340</td>\n",
       "      <td>815.099251</td>\n",
       "      <td>875.806884</td>\n",
       "      <td>938.599439</td>\n",
       "      <td>re_eastern_europe</td>\n",
       "      <td>POL</td>\n",
       "      <td>907</td>\n",
       "    </tr>\n",
       "    <tr>\n",
       "      <th>6</th>\n",
       "      <td>1870</td>\n",
       "      <td>Nordic countries</td>\n",
       "      <td>6.071</td>\n",
       "      <td>9468.356219</td>\n",
       "      <td>8598.983097</td>\n",
       "      <td>10394.339009</td>\n",
       "      <td>879</td>\n",
       "      <td>144.786691</td>\n",
       "      <td>1416.403080</td>\n",
       "      <td>1559.604055</td>\n",
       "      <td>1712.129634</td>\n",
       "      <td>re_nordic_countries</td>\n",
       "      <td>SWE</td>\n",
       "      <td>2144</td>\n",
       "    </tr>\n",
       "    <tr>\n",
       "      <th>5</th>\n",
       "      <td>1860</td>\n",
       "      <td>Nordic countries</td>\n",
       "      <td>5.568</td>\n",
       "      <td>9880.151116</td>\n",
       "      <td>9066.952173</td>\n",
       "      <td>10711.894204</td>\n",
       "      <td>896</td>\n",
       "      <td>160.919540</td>\n",
       "      <td>1628.403767</td>\n",
       "      <td>1774.452428</td>\n",
       "      <td>1923.831574</td>\n",
       "      <td>re_nordic_countries</td>\n",
       "      <td>SWE</td>\n",
       "      <td>1941</td>\n",
       "    </tr>\n",
       "  </tbody>\n",
       "</table>\n",
       "</div>"
      ],
      "text/plain": [
       "    year       region_name  population_interpolated         N_est  \\\n",
       "18  1850    Eastern Europe                   40.500  34513.510491   \n",
       "3   1840  Nordic countries                    4.762   6776.092828   \n",
       "17  1840    Eastern Europe                   38.250  33499.613297   \n",
       "6   1870  Nordic countries                    6.071   9468.356219   \n",
       "5   1860  Nordic countries                    5.568   9880.151116   \n",
       "\n",
       "           lower         upper  score   score_cap    lower_cap    N_est_cap  \\\n",
       "18  32257.234815  36855.239122   1640   40.493827   796.474934   852.185444   \n",
       "3    6244.213315   7319.573693    600  125.997480  1311.258571  1422.951035   \n",
       "17  31177.546347  35901.428537   1588   41.516340   815.099251   875.806884   \n",
       "6    8598.983097  10394.339009    879  144.786691  1416.403080  1559.604055   \n",
       "5    9066.952173  10711.894204    896  160.919540  1628.403767  1774.452428   \n",
       "\n",
       "      upper_cap          region_code country_code_maddison  gdp_per_capita  \n",
       "18   910.005904    re_eastern_europe                   POL             985  \n",
       "3   1537.079734  re_nordic_countries                   SWE            1568  \n",
       "17   938.599439    re_eastern_europe                   POL             907  \n",
       "6   1712.129634  re_nordic_countries                   SWE            2144  \n",
       "5   1923.831574  re_nordic_countries                   SWE            1941  "
      ]
     },
     "execution_count": 9,
     "metadata": {},
     "output_type": "execute_result"
    }
   ],
   "source": [
    "df_stats_clean.sample(5)"
   ]
  },
  {
   "cell_type": "code",
   "execution_count": 10,
   "id": "f7361855-aed8-4132-aeb7-eadab425f8ff",
   "metadata": {
    "tags": []
   },
   "outputs": [
    {
     "name": "stdout",
     "output_type": "stream",
     "text": [
      "1979\n"
     ]
    }
   ],
   "source": [
    "years = np.arange(-1000, 1881, 1)\n",
    "\n",
    "print(len(final))\n",
    "\n",
    "concat_list = []\n",
    "\n",
    "for region in final.region_name.unique():\n",
    "    df_years = pd.DataFrame(years, columns = ['year'])\n",
    "    df_years['region_name'] = region\n",
    "    \n",
    "    final_filtered = final[final['region_name']==region]\n",
    "    mix = pd.merge(df_years, final_filtered, on = ['year', 'region_name'], how = 'outer')\n",
    "    concat_list.append(mix)\n",
    "    \n",
    "new_final = pd.concat(concat_list)\n",
    "new_final = new_final.sort_values(['region_name', 'year'])\n",
    "\n",
    "new_final = new_final.set_index('year')\n",
    "grouped = new_final.groupby('region_name')\n",
    "\n",
    "interpolated_data = []\n",
    "for name, group in grouped:\n",
    "    interpolated_group = group.interpolate(method='linear')\n",
    "    interpolated_data.append(interpolated_group)\n",
    "\n",
    "# Concatenate the interpolated data for all regions\n",
    "interpolated_df = pd.concat(interpolated_data)\n",
    "\n",
    "# Reset the index to restore the 'year' column\n",
    "interpolated_df = interpolated_df.reset_index()\n",
    "interpolated_df = interpolated_df.drop_duplicates().dropna().reset_index(drop=True)"
   ]
  },
  {
   "cell_type": "code",
   "execution_count": 11,
   "metadata": {},
   "outputs": [],
   "source": [
    "data_stats_interpolated = pd.merge(interpolated_df, df_gdp, on = ['region_name', 'year'])\n",
    "data_stats_interpolated = data_stats_interpolated.reset_index(drop=True)\n",
    "data_stats_interpolated.to_csv(f'results/data_stats_interpolated.csv')\n",
    "\n",
    "data_stats_interpolated_clean_gdp = pd.merge(interpolated_df, df_gdp_clean, on = ['region_name', 'year'])\n",
    "data_stats_interpolated_clean_gdp = data_stats_interpolated_clean_gdp.reset_index(drop=True)\n",
    "data_stats_interpolated_clean_gdp.to_csv(f'results/data_stats_interpolated_clean_gdp.csv')"
   ]
  },
  {
   "cell_type": "code",
   "execution_count": 12,
   "metadata": {},
   "outputs": [
    {
     "data": {
      "text/plain": [
       "1880"
      ]
     },
     "execution_count": 12,
     "metadata": {},
     "output_type": "execute_result"
    }
   ],
   "source": [
    "max(data_stats_interpolated.year)"
   ]
  }
 ],
 "metadata": {
  "kernelspec": {
   "display_name": "Python 3 (ipykernel)",
   "language": "python",
   "name": "python3"
  },
  "language_info": {
   "codemirror_mode": {
    "name": "ipython",
    "version": 3
   },
   "file_extension": ".py",
   "mimetype": "text/x-python",
   "name": "python",
   "nbconvert_exporter": "python",
   "pygments_lexer": "ipython3",
   "version": "3.11.5"
  }
 },
 "nbformat": 4,
 "nbformat_minor": 5
}
