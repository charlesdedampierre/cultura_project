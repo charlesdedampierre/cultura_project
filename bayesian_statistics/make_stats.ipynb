{
 "cells": [
  {
   "cell_type": "code",
   "execution_count": 1,
   "id": "ef6e087a-be73-4dc5-857b-b7033e64c693",
   "metadata": {
    "tags": []
   },
   "outputs": [],
   "source": [
    "import pandas as pd\n",
    "import matplotlib.pyplot as plt\n",
    "import numpy as np\n",
    "\n",
    "pd.options.mode.chained_assignment = None\n",
    "\n",
    "import sqlite3\n",
    "from dotenv import load_dotenv\n",
    "\n",
    "load_dotenv()\n",
    "import os\n",
    "\n",
    "DB_PATH = os.getenv(\"DB_PATH\")\n",
    "DATA_PATH = \"data\"\n",
    "\n",
    "conn = sqlite3.connect(DB_PATH)"
   ]
  },
  {
   "cell_type": "code",
   "execution_count": 2,
   "metadata": {},
   "outputs": [
    {
     "data": {
      "text/html": [
       "<div>\n",
       "<style scoped>\n",
       "    .dataframe tbody tr th:only-of-type {\n",
       "        vertical-align: middle;\n",
       "    }\n",
       "\n",
       "    .dataframe tbody tr th {\n",
       "        vertical-align: top;\n",
       "    }\n",
       "\n",
       "    .dataframe thead th {\n",
       "        text-align: right;\n",
       "    }\n",
       "</style>\n",
       "<table border=\"1\" class=\"dataframe\">\n",
       "  <thead>\n",
       "    <tr style=\"text-align: right;\">\n",
       "      <th></th>\n",
       "      <th>region_name</th>\n",
       "      <th>decade</th>\n",
       "      <th>score</th>\n",
       "    </tr>\n",
       "  </thead>\n",
       "  <tbody>\n",
       "    <tr>\n",
       "      <th>4261</th>\n",
       "      <td>Southern Italy</td>\n",
       "      <td>1620</td>\n",
       "      <td>70</td>\n",
       "    </tr>\n",
       "    <tr>\n",
       "      <th>5341</th>\n",
       "      <td>mediterranean World</td>\n",
       "      <td>1340</td>\n",
       "      <td>2</td>\n",
       "    </tr>\n",
       "    <tr>\n",
       "      <th>3868</th>\n",
       "      <td>Southern China</td>\n",
       "      <td>170</td>\n",
       "      <td>1</td>\n",
       "    </tr>\n",
       "    <tr>\n",
       "      <th>3669</th>\n",
       "      <td>Persian world</td>\n",
       "      <td>1830</td>\n",
       "      <td>14</td>\n",
       "    </tr>\n",
       "    <tr>\n",
       "      <th>602</th>\n",
       "      <td>British Islands</td>\n",
       "      <td>1510</td>\n",
       "      <td>9</td>\n",
       "    </tr>\n",
       "  </tbody>\n",
       "</table>\n",
       "</div>"
      ],
      "text/plain": [
       "              region_name  decade  score\n",
       "4261       Southern Italy    1620     70\n",
       "5341  mediterranean World    1340      2\n",
       "3868       Southern China     170      1\n",
       "3669        Persian world    1830     14\n",
       "602       British Islands    1510      9"
      ]
     },
     "execution_count": 2,
     "metadata": {},
     "output_type": "execute_result"
    }
   ],
   "source": [
    "df_score_region = pd.read_csv('../immaterial_index/results/df_region_score.csv', index_col = [0])\n",
    "df_score_region.sample(5)\n"
   ]
  },
  {
   "cell_type": "code",
   "execution_count": 3,
   "id": "40ec2608-412e-4e24-80d0-801284316626",
   "metadata": {
    "tags": []
   },
   "outputs": [],
   "source": [
    "df_unseen_model = pd.read_csv('../unseen_species_model/results/estimations.csv')\n",
    "df_unseen_model = df_unseen_model[df_unseen_model['decade']<=1880]\n",
    "\n",
    "df_score_region = pd.read_csv('../immaterial_index/results/df_region_score.csv', index_col=[0])\n",
    "df_score_region = df_score_region.rename(columns = {'region_name':'region'})\n",
    "\n",
    "new_df = pd.merge(df_unseen_model, df_score_region, on = ['decade', 'region'])\n",
    "new_df = new_df.rename(columns = {'region':'region_name', 'decade':'year'})\n",
    "\n",
    "#new_df['year'] = new_df['year'].astype(int)\n",
    "#new_df['year'] = new_df['year'].apply(lambda x: round(x/10)*10)\n",
    "#new_df = new_df.groupby(['region_name', 'year']).mean().reset_index()\n",
    "#new_df = new_df[new_df['year']<=1840]\n",
    "\n",
    "\n",
    "#new_df = new_df[~new_df['N_est'].isna()]\n",
    "# When there is no individuals for the 'score' index, replace by 0\n",
    "#new_df = new_df.fillna(0)\n"
   ]
  },
  {
   "cell_type": "markdown",
   "id": "b6e418d3-30f3-417b-92f1-3a00a1cd332b",
   "metadata": {},
   "source": [
    "### Load GDP and Population Data"
   ]
  },
  {
   "cell_type": "code",
   "execution_count": 4,
   "id": "6c09cb94-0bf4-4432-b4f6-9b05d23f9ee0",
   "metadata": {
    "tags": []
   },
   "outputs": [],
   "source": [
    "#df_region_code = pd.read_sql_query(\"SELECT * FROM region_code\", conn)\n",
    "df_region_code = pd.read_csv(\"../environnement_data/region_code.csv\", index_col = [0])\n",
    "\n",
    "#df_gdp = pd.read_sql_query(\"SELECT * FROM gdp\", conn)\n",
    "df_gdp = pd.read_csv(\"../environnement_data/gdp.csv\", index_col=[0])\n",
    "\n",
    "df_gdp = df_gdp.drop(['country_code_maddison'], axis=1)\n",
    "df_gdp = df_gdp[df_gdp['year']<=1880]\n",
    "df_gdp = pd.merge(df_gdp, df_region_code, on = 'region_code')\n",
    "df_gdp.sample(5)\n",
    "\n",
    "#df_gdp_clean =  pd.read_sql_query(\"SELECT * FROM gdp_clean\", conn)\n",
    "df_gdp_clean = pd.read_csv(\"../environnement_data/gdp_clean.csv\", index_col=[0])\n",
    "\n",
    "df_gdp_clean = pd.merge(df_gdp_clean, df_region_code, on = 'region_code')"
   ]
  },
  {
   "cell_type": "code",
   "execution_count": 5,
   "id": "f1c3e787-f616-4aee-8f98-f3b7d42bdbc6",
   "metadata": {
    "tags": []
   },
   "outputs": [
    {
     "data": {
      "text/html": [
       "<div>\n",
       "<style scoped>\n",
       "    .dataframe tbody tr th:only-of-type {\n",
       "        vertical-align: middle;\n",
       "    }\n",
       "\n",
       "    .dataframe tbody tr th {\n",
       "        vertical-align: top;\n",
       "    }\n",
       "\n",
       "    .dataframe thead th {\n",
       "        text-align: right;\n",
       "    }\n",
       "</style>\n",
       "<table border=\"1\" class=\"dataframe\">\n",
       "  <thead>\n",
       "    <tr style=\"text-align: right;\">\n",
       "      <th></th>\n",
       "      <th>year</th>\n",
       "      <th>population</th>\n",
       "      <th>region_name</th>\n",
       "    </tr>\n",
       "  </thead>\n",
       "  <tbody>\n",
       "    <tr>\n",
       "      <th>1753</th>\n",
       "      <td>-130</td>\n",
       "      <td>43.500</td>\n",
       "      <td>Chinese world</td>\n",
       "    </tr>\n",
       "    <tr>\n",
       "      <th>4188</th>\n",
       "      <td>-2370</td>\n",
       "      <td>5.075</td>\n",
       "      <td>Indian world</td>\n",
       "    </tr>\n",
       "    <tr>\n",
       "      <th>6202</th>\n",
       "      <td>1850</td>\n",
       "      <td>28.000</td>\n",
       "      <td>Muslim world</td>\n",
       "    </tr>\n",
       "    <tr>\n",
       "      <th>8259</th>\n",
       "      <td>340</td>\n",
       "      <td>4.650</td>\n",
       "      <td>Spain</td>\n",
       "    </tr>\n",
       "    <tr>\n",
       "      <th>9480</th>\n",
       "      <td>1510</td>\n",
       "      <td>54.634</td>\n",
       "      <td>Western Europe</td>\n",
       "    </tr>\n",
       "  </tbody>\n",
       "</table>\n",
       "</div>"
      ],
      "text/plain": [
       "      year  population     region_name\n",
       "1753  -130      43.500   Chinese world\n",
       "4188 -2370       5.075    Indian world\n",
       "6202  1850      28.000    Muslim world\n",
       "8259   340       4.650           Spain\n",
       "9480  1510      54.634  Western Europe"
      ]
     },
     "execution_count": 5,
     "metadata": {},
     "output_type": "execute_result"
    }
   ],
   "source": [
    "#df_population = pd.read_sql_query(\"SELECT * FROM population\", conn)\n",
    "df_population = pd.read_csv(\"../environnement_data/population.csv\", index_col=[0])\n",
    "\n",
    "df_population = pd.merge(df_population, df_region_code, on = 'region_code')\n",
    "df_population = df_population.drop('region_code', axis=1)\n",
    "df_population.sample(5)\n"
   ]
  },
  {
   "cell_type": "code",
   "execution_count": 6,
   "id": "7b4c8f15-ff1d-44bf-bce8-83dcec6bab0c",
   "metadata": {
    "tags": []
   },
   "outputs": [],
   "source": [
    "def interpolate_function(df, value=\"value\", category=\"region_code\", year=\"year\", size_interpolation = 10):\n",
    "    df_interpolated_list = []\n",
    "    for reg in set(df[category]):\n",
    "        res = df[df[category] == reg]\n",
    "\n",
    "        min_date = min(res[\"year\"])\n",
    "        max_date = max(res[\"year\"])\n",
    "\n",
    "        year_range = np.arange(round(min_date), round(max_date), size_interpolation)\n",
    "        df_year = pd.DataFrame(year_range, columns=[year]).reset_index(drop=True)\n",
    "\n",
    "        res = pd.merge(res, df_year, on=year, how=\"outer\")\n",
    "        res[category] = reg\n",
    "        res = res.sort_values(year, ascending=True)\n",
    "        res[f\"{value}_interpolated\"] = res[value].interpolate(method=\"linear\")\n",
    "        res = res.reset_index(drop=True)\n",
    "        res = res[~res[f\"{value}_interpolated\"].isna()]\n",
    "\n",
    "        df_interpolated_list.append(res)\n",
    "\n",
    "    df_interpolated = pd.concat([x for x in df_interpolated_list])\n",
    "    df_interpolated = df_interpolated.reset_index(drop=True)\n",
    "    df_interpolated = df_interpolated.drop(value, axis=1)\n",
    "\n",
    "    return df_interpolated\n",
    "\n",
    "df_population_interpolation = interpolate_function(df_population, \n",
    "                                                   value = 'population', \n",
    "                                                   year = 'year', \n",
    "                                                   category=\"region_name\",\n",
    "                                                   size_interpolation = 10)"
   ]
  },
  {
   "cell_type": "code",
   "execution_count": 7,
   "metadata": {},
   "outputs": [
    {
     "data": {
      "text/plain": [
       "1880"
      ]
     },
     "execution_count": 7,
     "metadata": {},
     "output_type": "execute_result"
    }
   ],
   "source": [
    "max(df_gdp.year)"
   ]
  },
  {
   "cell_type": "code",
   "execution_count": 8,
   "metadata": {},
   "outputs": [],
   "source": [
    "# Linear interpolation on the proxies in order to merge with the GDP data excatly (that are at the year level)\n",
    "\n",
    "final = pd.merge(df_population_interpolation, new_df, on = ['region_name', 'year'])\n",
    "final['score_cap'] = final['score']/final['population_interpolated']\n",
    "final['lower_cap'] = final['lower']/final['population_interpolated']\n",
    "final['N_est_cap'] = final['N_est']/final['population_interpolated']\n",
    "final['upper_cap'] = final['upper']/final['population_interpolated']\n",
    "\n",
    "data_stats = pd.merge(final, df_gdp, on = ['region_name', 'year'])\n",
    "data_stats.to_csv(f'results/data_stats.csv')\n",
    "\n",
    "df_stats_clean = pd.merge(final, df_gdp_clean, on = ['region_name', 'year'])\n",
    "df_stats_clean.to_csv(f'results/data_stats_clean_gdp.csv')"
   ]
  },
  {
   "cell_type": "code",
   "execution_count": 9,
   "metadata": {},
   "outputs": [
    {
     "data": {
      "text/html": [
       "<div>\n",
       "<style scoped>\n",
       "    .dataframe tbody tr th:only-of-type {\n",
       "        vertical-align: middle;\n",
       "    }\n",
       "\n",
       "    .dataframe tbody tr th {\n",
       "        vertical-align: top;\n",
       "    }\n",
       "\n",
       "    .dataframe thead th {\n",
       "        text-align: right;\n",
       "    }\n",
       "</style>\n",
       "<table border=\"1\" class=\"dataframe\">\n",
       "  <thead>\n",
       "    <tr style=\"text-align: right;\">\n",
       "      <th></th>\n",
       "      <th>year</th>\n",
       "      <th>region_name</th>\n",
       "      <th>population_interpolated</th>\n",
       "      <th>N_est</th>\n",
       "      <th>lower</th>\n",
       "      <th>upper</th>\n",
       "      <th>score</th>\n",
       "      <th>score_cap</th>\n",
       "      <th>lower_cap</th>\n",
       "      <th>N_est_cap</th>\n",
       "      <th>upper_cap</th>\n",
       "      <th>region_code</th>\n",
       "      <th>country_code_maddison</th>\n",
       "      <th>gdp_per_capita</th>\n",
       "    </tr>\n",
       "  </thead>\n",
       "  <tbody>\n",
       "    <tr>\n",
       "      <th>36</th>\n",
       "      <td>1880</td>\n",
       "      <td>Low countries</td>\n",
       "      <td>10.35</td>\n",
       "      <td>14692.383167</td>\n",
       "      <td>13093.398461</td>\n",
       "      <td>16411.163487</td>\n",
       "      <td>1287</td>\n",
       "      <td>124.347826</td>\n",
       "      <td>1265.062653</td>\n",
       "      <td>1419.553929</td>\n",
       "      <td>1585.619661</td>\n",
       "      <td>re_low_countries</td>\n",
       "      <td>NLD</td>\n",
       "      <td>4666</td>\n",
       "    </tr>\n",
       "    <tr>\n",
       "      <th>40</th>\n",
       "      <td>1840</td>\n",
       "      <td>United Kingdom</td>\n",
       "      <td>18.95</td>\n",
       "      <td>9606.202483</td>\n",
       "      <td>9162.294683</td>\n",
       "      <td>10068.132604</td>\n",
       "      <td>1505</td>\n",
       "      <td>79.419525</td>\n",
       "      <td>483.498400</td>\n",
       "      <td>506.923614</td>\n",
       "      <td>531.299874</td>\n",
       "      <td>re_united_kingdom</td>\n",
       "      <td>GBR</td>\n",
       "      <td>4018</td>\n",
       "    </tr>\n",
       "    <tr>\n",
       "      <th>13</th>\n",
       "      <td>1870</td>\n",
       "      <td>France</td>\n",
       "      <td>38.00</td>\n",
       "      <td>13997.846834</td>\n",
       "      <td>13297.867134</td>\n",
       "      <td>14721.940675</td>\n",
       "      <td>1976</td>\n",
       "      <td>52.000000</td>\n",
       "      <td>349.943872</td>\n",
       "      <td>368.364390</td>\n",
       "      <td>387.419491</td>\n",
       "      <td>re_france</td>\n",
       "      <td>FRA</td>\n",
       "      <td>2990</td>\n",
       "    </tr>\n",
       "    <tr>\n",
       "      <th>11</th>\n",
       "      <td>1850</td>\n",
       "      <td>France</td>\n",
       "      <td>36.00</td>\n",
       "      <td>14649.831979</td>\n",
       "      <td>14082.737193</td>\n",
       "      <td>15219.657370</td>\n",
       "      <td>2141</td>\n",
       "      <td>59.472222</td>\n",
       "      <td>391.187144</td>\n",
       "      <td>406.939777</td>\n",
       "      <td>422.768260</td>\n",
       "      <td>re_france</td>\n",
       "      <td>FRA</td>\n",
       "      <td>2546</td>\n",
       "    </tr>\n",
       "    <tr>\n",
       "      <th>42</th>\n",
       "      <td>1860</td>\n",
       "      <td>United Kingdom</td>\n",
       "      <td>24.30</td>\n",
       "      <td>11812.504755</td>\n",
       "      <td>11220.128512</td>\n",
       "      <td>12412.387804</td>\n",
       "      <td>1837</td>\n",
       "      <td>75.596708</td>\n",
       "      <td>461.733684</td>\n",
       "      <td>486.111307</td>\n",
       "      <td>510.797852</td>\n",
       "      <td>re_united_kingdom</td>\n",
       "      <td>GBR</td>\n",
       "      <td>5086</td>\n",
       "    </tr>\n",
       "  </tbody>\n",
       "</table>\n",
       "</div>"
      ],
      "text/plain": [
       "    year     region_name  population_interpolated         N_est         lower  \\\n",
       "36  1880   Low countries                    10.35  14692.383167  13093.398461   \n",
       "40  1840  United Kingdom                    18.95   9606.202483   9162.294683   \n",
       "13  1870          France                    38.00  13997.846834  13297.867134   \n",
       "11  1850          France                    36.00  14649.831979  14082.737193   \n",
       "42  1860  United Kingdom                    24.30  11812.504755  11220.128512   \n",
       "\n",
       "           upper  score   score_cap    lower_cap    N_est_cap    upper_cap  \\\n",
       "36  16411.163487   1287  124.347826  1265.062653  1419.553929  1585.619661   \n",
       "40  10068.132604   1505   79.419525   483.498400   506.923614   531.299874   \n",
       "13  14721.940675   1976   52.000000   349.943872   368.364390   387.419491   \n",
       "11  15219.657370   2141   59.472222   391.187144   406.939777   422.768260   \n",
       "42  12412.387804   1837   75.596708   461.733684   486.111307   510.797852   \n",
       "\n",
       "          region_code country_code_maddison  gdp_per_capita  \n",
       "36   re_low_countries                   NLD            4666  \n",
       "40  re_united_kingdom                   GBR            4018  \n",
       "13          re_france                   FRA            2990  \n",
       "11          re_france                   FRA            2546  \n",
       "42  re_united_kingdom                   GBR            5086  "
      ]
     },
     "execution_count": 9,
     "metadata": {},
     "output_type": "execute_result"
    }
   ],
   "source": [
    "df_stats_clean.sample(5)"
   ]
  },
  {
   "cell_type": "code",
   "execution_count": 10,
   "id": "f7361855-aed8-4132-aeb7-eadab425f8ff",
   "metadata": {
    "tags": []
   },
   "outputs": [
    {
     "name": "stdout",
     "output_type": "stream",
     "text": [
      "2013\n"
     ]
    },
    {
     "name": "stderr",
     "output_type": "stream",
     "text": [
      "/var/folders/lx/9b13r6ln63jb54_3xlf9b_380000gn/T/ipykernel_56264/1381052388.py:23: FutureWarning: DataFrame.interpolate with object dtype is deprecated and will raise in a future version. Call obj.infer_objects(copy=False) before interpolating instead.\n",
      "  interpolated_group = group.interpolate(method='linear')\n",
      "/var/folders/lx/9b13r6ln63jb54_3xlf9b_380000gn/T/ipykernel_56264/1381052388.py:23: FutureWarning: DataFrame.interpolate with object dtype is deprecated and will raise in a future version. Call obj.infer_objects(copy=False) before interpolating instead.\n",
      "  interpolated_group = group.interpolate(method='linear')\n",
      "/var/folders/lx/9b13r6ln63jb54_3xlf9b_380000gn/T/ipykernel_56264/1381052388.py:23: FutureWarning: DataFrame.interpolate with object dtype is deprecated and will raise in a future version. Call obj.infer_objects(copy=False) before interpolating instead.\n",
      "  interpolated_group = group.interpolate(method='linear')\n",
      "/var/folders/lx/9b13r6ln63jb54_3xlf9b_380000gn/T/ipykernel_56264/1381052388.py:23: FutureWarning: DataFrame.interpolate with object dtype is deprecated and will raise in a future version. Call obj.infer_objects(copy=False) before interpolating instead.\n",
      "  interpolated_group = group.interpolate(method='linear')\n",
      "/var/folders/lx/9b13r6ln63jb54_3xlf9b_380000gn/T/ipykernel_56264/1381052388.py:23: FutureWarning: DataFrame.interpolate with object dtype is deprecated and will raise in a future version. Call obj.infer_objects(copy=False) before interpolating instead.\n",
      "  interpolated_group = group.interpolate(method='linear')\n",
      "/var/folders/lx/9b13r6ln63jb54_3xlf9b_380000gn/T/ipykernel_56264/1381052388.py:23: FutureWarning: DataFrame.interpolate with object dtype is deprecated and will raise in a future version. Call obj.infer_objects(copy=False) before interpolating instead.\n",
      "  interpolated_group = group.interpolate(method='linear')\n",
      "/var/folders/lx/9b13r6ln63jb54_3xlf9b_380000gn/T/ipykernel_56264/1381052388.py:23: FutureWarning: DataFrame.interpolate with object dtype is deprecated and will raise in a future version. Call obj.infer_objects(copy=False) before interpolating instead.\n",
      "  interpolated_group = group.interpolate(method='linear')\n",
      "/var/folders/lx/9b13r6ln63jb54_3xlf9b_380000gn/T/ipykernel_56264/1381052388.py:23: FutureWarning: DataFrame.interpolate with object dtype is deprecated and will raise in a future version. Call obj.infer_objects(copy=False) before interpolating instead.\n",
      "  interpolated_group = group.interpolate(method='linear')\n",
      "/var/folders/lx/9b13r6ln63jb54_3xlf9b_380000gn/T/ipykernel_56264/1381052388.py:23: FutureWarning: DataFrame.interpolate with object dtype is deprecated and will raise in a future version. Call obj.infer_objects(copy=False) before interpolating instead.\n",
      "  interpolated_group = group.interpolate(method='linear')\n",
      "/var/folders/lx/9b13r6ln63jb54_3xlf9b_380000gn/T/ipykernel_56264/1381052388.py:23: FutureWarning: DataFrame.interpolate with object dtype is deprecated and will raise in a future version. Call obj.infer_objects(copy=False) before interpolating instead.\n",
      "  interpolated_group = group.interpolate(method='linear')\n",
      "/var/folders/lx/9b13r6ln63jb54_3xlf9b_380000gn/T/ipykernel_56264/1381052388.py:23: FutureWarning: DataFrame.interpolate with object dtype is deprecated and will raise in a future version. Call obj.infer_objects(copy=False) before interpolating instead.\n",
      "  interpolated_group = group.interpolate(method='linear')\n",
      "/var/folders/lx/9b13r6ln63jb54_3xlf9b_380000gn/T/ipykernel_56264/1381052388.py:23: FutureWarning: DataFrame.interpolate with object dtype is deprecated and will raise in a future version. Call obj.infer_objects(copy=False) before interpolating instead.\n",
      "  interpolated_group = group.interpolate(method='linear')\n",
      "/var/folders/lx/9b13r6ln63jb54_3xlf9b_380000gn/T/ipykernel_56264/1381052388.py:23: FutureWarning: DataFrame.interpolate with object dtype is deprecated and will raise in a future version. Call obj.infer_objects(copy=False) before interpolating instead.\n",
      "  interpolated_group = group.interpolate(method='linear')\n",
      "/var/folders/lx/9b13r6ln63jb54_3xlf9b_380000gn/T/ipykernel_56264/1381052388.py:23: FutureWarning: DataFrame.interpolate with object dtype is deprecated and will raise in a future version. Call obj.infer_objects(copy=False) before interpolating instead.\n",
      "  interpolated_group = group.interpolate(method='linear')\n",
      "/var/folders/lx/9b13r6ln63jb54_3xlf9b_380000gn/T/ipykernel_56264/1381052388.py:23: FutureWarning: DataFrame.interpolate with object dtype is deprecated and will raise in a future version. Call obj.infer_objects(copy=False) before interpolating instead.\n",
      "  interpolated_group = group.interpolate(method='linear')\n",
      "/var/folders/lx/9b13r6ln63jb54_3xlf9b_380000gn/T/ipykernel_56264/1381052388.py:23: FutureWarning: DataFrame.interpolate with object dtype is deprecated and will raise in a future version. Call obj.infer_objects(copy=False) before interpolating instead.\n",
      "  interpolated_group = group.interpolate(method='linear')\n",
      "/var/folders/lx/9b13r6ln63jb54_3xlf9b_380000gn/T/ipykernel_56264/1381052388.py:23: FutureWarning: DataFrame.interpolate with object dtype is deprecated and will raise in a future version. Call obj.infer_objects(copy=False) before interpolating instead.\n",
      "  interpolated_group = group.interpolate(method='linear')\n",
      "/var/folders/lx/9b13r6ln63jb54_3xlf9b_380000gn/T/ipykernel_56264/1381052388.py:23: FutureWarning: DataFrame.interpolate with object dtype is deprecated and will raise in a future version. Call obj.infer_objects(copy=False) before interpolating instead.\n",
      "  interpolated_group = group.interpolate(method='linear')\n",
      "/var/folders/lx/9b13r6ln63jb54_3xlf9b_380000gn/T/ipykernel_56264/1381052388.py:23: FutureWarning: DataFrame.interpolate with object dtype is deprecated and will raise in a future version. Call obj.infer_objects(copy=False) before interpolating instead.\n",
      "  interpolated_group = group.interpolate(method='linear')\n"
     ]
    }
   ],
   "source": [
    "years = np.arange(-1000, 1881, 1)\n",
    "\n",
    "print(len(final))\n",
    "\n",
    "concat_list = []\n",
    "\n",
    "for region in final.region_name.unique():\n",
    "    df_years = pd.DataFrame(years, columns = ['year'])\n",
    "    df_years['region_name'] = region\n",
    "    \n",
    "    final_filtered = final[final['region_name']==region]\n",
    "    mix = pd.merge(df_years, final_filtered, on = ['year', 'region_name'], how = 'outer')\n",
    "    concat_list.append(mix)\n",
    "    \n",
    "new_final = pd.concat(concat_list)\n",
    "new_final = new_final.sort_values(['region_name', 'year'])\n",
    "\n",
    "new_final = new_final.set_index('year')\n",
    "grouped = new_final.groupby('region_name')\n",
    "\n",
    "interpolated_data = []\n",
    "for name, group in grouped:\n",
    "    interpolated_group = group.interpolate(method='linear')\n",
    "    interpolated_data.append(interpolated_group)\n",
    "\n",
    "# Concatenate the interpolated data for all regions\n",
    "interpolated_df = pd.concat(interpolated_data)\n",
    "\n",
    "# Reset the index to restore the 'year' column\n",
    "interpolated_df = interpolated_df.reset_index()\n",
    "interpolated_df = interpolated_df.drop_duplicates().dropna().reset_index(drop=True)"
   ]
  },
  {
   "cell_type": "code",
   "execution_count": 11,
   "metadata": {},
   "outputs": [],
   "source": [
    "data_stats_interpolated = pd.merge(interpolated_df, df_gdp, on = ['region_name', 'year'])\n",
    "data_stats_interpolated = data_stats_interpolated.reset_index(drop=True)\n",
    "data_stats_interpolated.to_csv(f'results/data_stats_interpolated.csv')\n",
    "\n",
    "data_stats_interpolated_clean_gdp = pd.merge(interpolated_df, df_gdp_clean, on = ['region_name', 'year'])\n",
    "data_stats_interpolated_clean_gdp = data_stats_interpolated_clean_gdp.reset_index(drop=True)\n",
    "data_stats_interpolated_clean_gdp.to_csv(f'results/data_stats_interpolated_clean_gdp.csv')"
   ]
  },
  {
   "cell_type": "code",
   "execution_count": 12,
   "metadata": {},
   "outputs": [
    {
     "data": {
      "text/plain": [
       "1880"
      ]
     },
     "execution_count": 12,
     "metadata": {},
     "output_type": "execute_result"
    }
   ],
   "source": [
    "max(data_stats_interpolated.year)"
   ]
  }
 ],
 "metadata": {
  "kernelspec": {
   "display_name": "Python 3 (ipykernel)",
   "language": "python",
   "name": "python3"
  },
  "language_info": {
   "codemirror_mode": {
    "name": "ipython",
    "version": 3
   },
   "file_extension": ".py",
   "mimetype": "text/x-python",
   "name": "python",
   "nbconvert_exporter": "python",
   "pygments_lexer": "ipython3",
   "version": "3.11.5"
  }
 },
 "nbformat": 4,
 "nbformat_minor": 5
}
