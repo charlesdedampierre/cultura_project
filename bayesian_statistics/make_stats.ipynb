{
 "cells": [
  {
   "cell_type": "code",
   "execution_count": 15,
   "id": "ef6e087a-be73-4dc5-857b-b7033e64c693",
   "metadata": {
    "tags": []
   },
   "outputs": [],
   "source": [
    "import pandas as pd\n",
    "import matplotlib.pyplot as plt\n",
    "import numpy as np\n",
    "\n",
    "import warnings\n",
    "\n",
    "# Ignore FutureWarning\n",
    "warnings.simplefilter(action='ignore', category=FutureWarning)\n",
    "\n",
    "\n",
    "pd.options.mode.chained_assignment = None\n",
    "\n",
    "import sqlite3\n",
    "from dotenv import load_dotenv\n",
    "\n",
    "load_dotenv()\n",
    "import os\n",
    "\n",
    "DB_PATH = os.getenv(\"DB_PATH\")\n",
    "DATA_PATH = \"data\"\n",
    "\n",
    "conn = sqlite3.connect(DB_PATH)"
   ]
  },
  {
   "cell_type": "code",
   "execution_count": 16,
   "metadata": {},
   "outputs": [
    {
     "data": {
      "text/html": [
       "<div>\n",
       "<style scoped>\n",
       "    .dataframe tbody tr th:only-of-type {\n",
       "        vertical-align: middle;\n",
       "    }\n",
       "\n",
       "    .dataframe tbody tr th {\n",
       "        vertical-align: top;\n",
       "    }\n",
       "\n",
       "    .dataframe thead th {\n",
       "        text-align: right;\n",
       "    }\n",
       "</style>\n",
       "<table border=\"1\" class=\"dataframe\">\n",
       "  <thead>\n",
       "    <tr style=\"text-align: right;\">\n",
       "      <th></th>\n",
       "      <th>region_name</th>\n",
       "      <th>decade</th>\n",
       "      <th>score</th>\n",
       "    </tr>\n",
       "  </thead>\n",
       "  <tbody>\n",
       "    <tr>\n",
       "      <th>3683</th>\n",
       "      <td>Portugal</td>\n",
       "      <td>1210</td>\n",
       "      <td>1</td>\n",
       "    </tr>\n",
       "    <tr>\n",
       "      <th>3524</th>\n",
       "      <td>Ottoman world</td>\n",
       "      <td>1540</td>\n",
       "      <td>17</td>\n",
       "    </tr>\n",
       "    <tr>\n",
       "      <th>1175</th>\n",
       "      <td>France</td>\n",
       "      <td>630</td>\n",
       "      <td>1</td>\n",
       "    </tr>\n",
       "    <tr>\n",
       "      <th>108</th>\n",
       "      <td>Arabic world</td>\n",
       "      <td>80</td>\n",
       "      <td>3</td>\n",
       "    </tr>\n",
       "    <tr>\n",
       "      <th>4281</th>\n",
       "      <td>Southern Italy</td>\n",
       "      <td>1820</td>\n",
       "      <td>108</td>\n",
       "    </tr>\n",
       "  </tbody>\n",
       "</table>\n",
       "</div>"
      ],
      "text/plain": [
       "         region_name  decade  score\n",
       "3683        Portugal    1210      1\n",
       "3524   Ottoman world    1540     17\n",
       "1175          France     630      1\n",
       "108     Arabic world      80      3\n",
       "4281  Southern Italy    1820    108"
      ]
     },
     "execution_count": 16,
     "metadata": {},
     "output_type": "execute_result"
    }
   ],
   "source": [
    "df_score_region = pd.read_csv('../immaterial_index/results/df_region_score.csv', index_col = [0])\n",
    "df_score_region.sample(5)\n"
   ]
  },
  {
   "cell_type": "code",
   "execution_count": 17,
   "id": "40ec2608-412e-4e24-80d0-801284316626",
   "metadata": {
    "tags": []
   },
   "outputs": [],
   "source": [
    "df_unseen_model = pd.read_csv('../unseen_species_model/results/estimations.csv')\n",
    "df_unseen_model = df_unseen_model[df_unseen_model['decade']<=1880]\n",
    "\n",
    "df_score_region = pd.read_csv('../immaterial_index/results/df_region_score.csv', index_col=[0])\n",
    "df_score_region = df_score_region.rename(columns = {'region_name':'region'})\n",
    "\n",
    "new_df = pd.merge(df_unseen_model, df_score_region, on = ['decade', 'region'])\n",
    "new_df = new_df.rename(columns = {'region':'region_name', 'decade':'year'})\n",
    "\n",
    "#new_df['year'] = new_df['year'].astype(int)\n",
    "#new_df['year'] = new_df['year'].apply(lambda x: round(x/10)*10)\n",
    "#new_df = new_df.groupby(['region_name', 'year']).mean().reset_index()\n",
    "#new_df = new_df[new_df['year']<=1840]\n",
    "\n",
    "\n",
    "#new_df = new_df[~new_df['N_est'].isna()]\n",
    "# When there is no individuals for the 'score' index, replace by 0\n",
    "#new_df = new_df.fillna(0)\n"
   ]
  },
  {
   "cell_type": "markdown",
   "id": "b6e418d3-30f3-417b-92f1-3a00a1cd332b",
   "metadata": {},
   "source": [
    "### Load GDP and Population Data"
   ]
  },
  {
   "cell_type": "code",
   "execution_count": 29,
   "id": "6c09cb94-0bf4-4432-b4f6-9b05d23f9ee0",
   "metadata": {
    "tags": []
   },
   "outputs": [
    {
     "name": "stdout",
     "output_type": "stream",
     "text": [
      "           region_code country_code_maddison  year  gdp_per_capita\n",
      "0             re_italy                   ITA  1810            2558\n",
      "1             re_italy                   ITA  1811            2473\n",
      "2             re_italy                   ITA  1812            2527\n",
      "3             re_italy                   ITA  1813            2596\n",
      "4             re_italy                   ITA  1814            2627\n",
      "..                 ...                   ...   ...             ...\n",
      "405  re_united_kingdom                   GBR  1876            5938\n",
      "406  re_united_kingdom                   GBR  1877            5923\n",
      "407  re_united_kingdom                   GBR  1878            5879\n",
      "408  re_united_kingdom                   GBR  1879            5786\n",
      "409  re_united_kingdom                   GBR  1880            5997\n",
      "\n",
      "[410 rows x 4 columns]\n"
     ]
    }
   ],
   "source": [
    "#df_region_code = pd.read_sql_query(\"SELECT * FROM region_code\", conn)\n",
    "df_region_code = pd.read_csv(\"../environnement_data/region_code.csv\", index_col = [0])\n",
    "\n",
    "#df_gdp = pd.read_sql_query(\"SELECT * FROM gdp\", conn)\n",
    "df_gdp = pd.read_csv(\"../environnement_data/gdp.csv\", index_col=[0])\n",
    "\n",
    "df_gdp = df_gdp.drop(['country_code_maddison'], axis=1)\n",
    "df_gdp = df_gdp[df_gdp['year']<=1880]\n",
    "df_gdp = pd.merge(df_gdp, df_region_code, on = 'region_code')\n",
    "df_gdp.sample(5)\n",
    "\n",
    "#df_gdp_clean =  pd.read_sql_query(\"SELECT * FROM gdp_clean\", conn)\n",
    "df_gdp_clean = pd.read_csv(\"../environnement_data/gdp_clean.csv\", index_col=[0])\n",
    "df_gdp_clean = pd.merge(df_gdp_clean, df_region_code, on = 'region_code')\n"
   ]
  },
  {
   "cell_type": "code",
   "execution_count": 19,
   "id": "f1c3e787-f616-4aee-8f98-f3b7d42bdbc6",
   "metadata": {
    "tags": []
   },
   "outputs": [
    {
     "data": {
      "text/html": [
       "<div>\n",
       "<style scoped>\n",
       "    .dataframe tbody tr th:only-of-type {\n",
       "        vertical-align: middle;\n",
       "    }\n",
       "\n",
       "    .dataframe tbody tr th {\n",
       "        vertical-align: top;\n",
       "    }\n",
       "\n",
       "    .dataframe thead th {\n",
       "        text-align: right;\n",
       "    }\n",
       "</style>\n",
       "<table border=\"1\" class=\"dataframe\">\n",
       "  <thead>\n",
       "    <tr style=\"text-align: right;\">\n",
       "      <th></th>\n",
       "      <th>year</th>\n",
       "      <th>population</th>\n",
       "      <th>region_name</th>\n",
       "    </tr>\n",
       "  </thead>\n",
       "  <tbody>\n",
       "    <tr>\n",
       "      <th>4007</th>\n",
       "      <td>1780</td>\n",
       "      <td>0.050</td>\n",
       "      <td>Iceland</td>\n",
       "    </tr>\n",
       "    <tr>\n",
       "      <th>638</th>\n",
       "      <td>60</td>\n",
       "      <td>4.165</td>\n",
       "      <td>Balkans</td>\n",
       "    </tr>\n",
       "    <tr>\n",
       "      <th>5830</th>\n",
       "      <td>890</td>\n",
       "      <td>0.590</td>\n",
       "      <td>Low countries</td>\n",
       "    </tr>\n",
       "    <tr>\n",
       "      <th>2766</th>\n",
       "      <td>1820</td>\n",
       "      <td>31.800</td>\n",
       "      <td>France</td>\n",
       "    </tr>\n",
       "    <tr>\n",
       "      <th>6345</th>\n",
       "      <td>520</td>\n",
       "      <td>0.165</td>\n",
       "      <td>Netherlands</td>\n",
       "    </tr>\n",
       "  </tbody>\n",
       "</table>\n",
       "</div>"
      ],
      "text/plain": [
       "      year  population    region_name\n",
       "4007  1780       0.050        Iceland\n",
       "638     60       4.165        Balkans\n",
       "5830   890       0.590  Low countries\n",
       "2766  1820      31.800         France\n",
       "6345   520       0.165    Netherlands"
      ]
     },
     "execution_count": 19,
     "metadata": {},
     "output_type": "execute_result"
    }
   ],
   "source": [
    "#df_population = pd.read_sql_query(\"SELECT * FROM population\", conn)\n",
    "df_population = pd.read_csv(\"../environnement_data/population.csv\", index_col=[0])\n",
    "\n",
    "df_population = pd.merge(df_population, df_region_code, on = 'region_code')\n",
    "df_population = df_population.drop('region_code', axis=1)\n",
    "df_population.sample(5)\n"
   ]
  },
  {
   "cell_type": "code",
   "execution_count": 20,
   "id": "7b4c8f15-ff1d-44bf-bce8-83dcec6bab0c",
   "metadata": {
    "tags": []
   },
   "outputs": [],
   "source": [
    "def interpolate_function(df, value=\"value\", category=\"region_code\", year=\"year\", size_interpolation = 10):\n",
    "    df_interpolated_list = []\n",
    "    for reg in set(df[category]):\n",
    "        res = df[df[category] == reg]\n",
    "\n",
    "        min_date = min(res[\"year\"])\n",
    "        max_date = max(res[\"year\"])\n",
    "\n",
    "        year_range = np.arange(round(min_date), round(max_date), size_interpolation)\n",
    "        df_year = pd.DataFrame(year_range, columns=[year]).reset_index(drop=True)\n",
    "\n",
    "        res = pd.merge(res, df_year, on=year, how=\"outer\")\n",
    "        res[category] = reg\n",
    "        res = res.sort_values(year, ascending=True)\n",
    "        res[f\"{value}_interpolated\"] = res[value].interpolate(method=\"linear\")\n",
    "        res = res.reset_index(drop=True)\n",
    "        res = res[~res[f\"{value}_interpolated\"].isna()]\n",
    "\n",
    "        df_interpolated_list.append(res)\n",
    "\n",
    "    df_interpolated = pd.concat([x for x in df_interpolated_list])\n",
    "    df_interpolated = df_interpolated.reset_index(drop=True)\n",
    "    df_interpolated = df_interpolated.drop(value, axis=1)\n",
    "\n",
    "    return df_interpolated\n",
    "\n",
    "df_population_interpolation = interpolate_function(df_population, \n",
    "                                                   value = 'population', \n",
    "                                                   year = 'year', \n",
    "                                                   category=\"region_name\",\n",
    "                                                   size_interpolation = 10)"
   ]
  },
  {
   "cell_type": "code",
   "execution_count": 21,
   "metadata": {},
   "outputs": [
    {
     "data": {
      "text/plain": [
       "1880"
      ]
     },
     "execution_count": 21,
     "metadata": {},
     "output_type": "execute_result"
    }
   ],
   "source": [
    "max(df_gdp.year)"
   ]
  },
  {
   "cell_type": "code",
   "execution_count": 22,
   "metadata": {},
   "outputs": [],
   "source": [
    "# Linear interpolation on the proxies in order to merge with the GDP data excatly (that are at the year level)\n",
    "\n",
    "final = pd.merge(df_population_interpolation, new_df, on = ['region_name', 'year'])\n",
    "final['score_cap'] = final['score']/final['population_interpolated']\n",
    "final['lower_cap'] = final['lower']/final['population_interpolated']\n",
    "final['N_est_cap'] = final['N_est']/final['population_interpolated']\n",
    "final['upper_cap'] = final['upper']/final['population_interpolated']\n",
    "\n",
    "data_stats = pd.merge(final, df_gdp, on = ['region_name', 'year'])\n",
    "data_stats.to_csv(f'results/data_stats.csv')\n",
    "\n",
    "df_stats_clean = pd.merge(final, df_gdp_clean, on = ['region_name', 'year'])\n",
    "df_stats_clean.to_csv(f'results/data_stats_clean_gdp.csv')"
   ]
  },
  {
   "cell_type": "code",
   "execution_count": 23,
   "metadata": {},
   "outputs": [
    {
     "data": {
      "text/html": [
       "<div>\n",
       "<style scoped>\n",
       "    .dataframe tbody tr th:only-of-type {\n",
       "        vertical-align: middle;\n",
       "    }\n",
       "\n",
       "    .dataframe tbody tr th {\n",
       "        vertical-align: top;\n",
       "    }\n",
       "\n",
       "    .dataframe thead th {\n",
       "        text-align: right;\n",
       "    }\n",
       "</style>\n",
       "<table border=\"1\" class=\"dataframe\">\n",
       "  <thead>\n",
       "    <tr style=\"text-align: right;\">\n",
       "      <th></th>\n",
       "      <th>year</th>\n",
       "      <th>region_name</th>\n",
       "      <th>population_interpolated</th>\n",
       "      <th>N_est</th>\n",
       "      <th>lower</th>\n",
       "      <th>upper</th>\n",
       "      <th>score</th>\n",
       "      <th>score_cap</th>\n",
       "      <th>lower_cap</th>\n",
       "      <th>N_est_cap</th>\n",
       "      <th>upper_cap</th>\n",
       "      <th>region_code</th>\n",
       "      <th>country_code_maddison</th>\n",
       "      <th>gdp_per_capita</th>\n",
       "    </tr>\n",
       "  </thead>\n",
       "  <tbody>\n",
       "    <tr>\n",
       "      <th>16</th>\n",
       "      <td>1830</td>\n",
       "      <td>Eastern Europe</td>\n",
       "      <td>36.000</td>\n",
       "      <td>20341.590458</td>\n",
       "      <td>18811.454244</td>\n",
       "      <td>21923.955007</td>\n",
       "      <td>959</td>\n",
       "      <td>26.638889</td>\n",
       "      <td>522.540396</td>\n",
       "      <td>565.044179</td>\n",
       "      <td>608.998750</td>\n",
       "      <td>re_eastern_europe</td>\n",
       "      <td>POL</td>\n",
       "      <td>942</td>\n",
       "    </tr>\n",
       "    <tr>\n",
       "      <th>42</th>\n",
       "      <td>1860</td>\n",
       "      <td>United Kingdom</td>\n",
       "      <td>24.300</td>\n",
       "      <td>11812.504755</td>\n",
       "      <td>11220.128512</td>\n",
       "      <td>12412.387804</td>\n",
       "      <td>1837</td>\n",
       "      <td>75.596708</td>\n",
       "      <td>461.733684</td>\n",
       "      <td>486.111307</td>\n",
       "      <td>510.797852</td>\n",
       "      <td>re_united_kingdom</td>\n",
       "      <td>GBR</td>\n",
       "      <td>5086</td>\n",
       "    </tr>\n",
       "    <tr>\n",
       "      <th>22</th>\n",
       "      <td>1810</td>\n",
       "      <td>Nordic countries</td>\n",
       "      <td>3.853</td>\n",
       "      <td>3377.009654</td>\n",
       "      <td>3063.630578</td>\n",
       "      <td>3703.452619</td>\n",
       "      <td>282</td>\n",
       "      <td>73.189722</td>\n",
       "      <td>795.128621</td>\n",
       "      <td>876.462407</td>\n",
       "      <td>961.186768</td>\n",
       "      <td>re_nordic_countries</td>\n",
       "      <td>SWE</td>\n",
       "      <td>1320</td>\n",
       "    </tr>\n",
       "    <tr>\n",
       "      <th>36</th>\n",
       "      <td>1880</td>\n",
       "      <td>Low countries</td>\n",
       "      <td>10.350</td>\n",
       "      <td>14692.383167</td>\n",
       "      <td>13093.398461</td>\n",
       "      <td>16411.163487</td>\n",
       "      <td>1287</td>\n",
       "      <td>124.347826</td>\n",
       "      <td>1265.062653</td>\n",
       "      <td>1419.553929</td>\n",
       "      <td>1585.619661</td>\n",
       "      <td>re_low_countries</td>\n",
       "      <td>NLD</td>\n",
       "      <td>4666</td>\n",
       "    </tr>\n",
       "    <tr>\n",
       "      <th>18</th>\n",
       "      <td>1850</td>\n",
       "      <td>Eastern Europe</td>\n",
       "      <td>40.500</td>\n",
       "      <td>34513.510491</td>\n",
       "      <td>32257.234815</td>\n",
       "      <td>36855.239122</td>\n",
       "      <td>1627</td>\n",
       "      <td>40.172840</td>\n",
       "      <td>796.474934</td>\n",
       "      <td>852.185444</td>\n",
       "      <td>910.005904</td>\n",
       "      <td>re_eastern_europe</td>\n",
       "      <td>POL</td>\n",
       "      <td>985</td>\n",
       "    </tr>\n",
       "  </tbody>\n",
       "</table>\n",
       "</div>"
      ],
      "text/plain": [
       "    year       region_name  population_interpolated         N_est  \\\n",
       "16  1830    Eastern Europe                   36.000  20341.590458   \n",
       "42  1860    United Kingdom                   24.300  11812.504755   \n",
       "22  1810  Nordic countries                    3.853   3377.009654   \n",
       "36  1880     Low countries                   10.350  14692.383167   \n",
       "18  1850    Eastern Europe                   40.500  34513.510491   \n",
       "\n",
       "           lower         upper  score   score_cap    lower_cap    N_est_cap  \\\n",
       "16  18811.454244  21923.955007    959   26.638889   522.540396   565.044179   \n",
       "42  11220.128512  12412.387804   1837   75.596708   461.733684   486.111307   \n",
       "22   3063.630578   3703.452619    282   73.189722   795.128621   876.462407   \n",
       "36  13093.398461  16411.163487   1287  124.347826  1265.062653  1419.553929   \n",
       "18  32257.234815  36855.239122   1627   40.172840   796.474934   852.185444   \n",
       "\n",
       "      upper_cap          region_code country_code_maddison  gdp_per_capita  \n",
       "16   608.998750    re_eastern_europe                   POL             942  \n",
       "42   510.797852    re_united_kingdom                   GBR            5086  \n",
       "22   961.186768  re_nordic_countries                   SWE            1320  \n",
       "36  1585.619661     re_low_countries                   NLD            4666  \n",
       "18   910.005904    re_eastern_europe                   POL             985  "
      ]
     },
     "execution_count": 23,
     "metadata": {},
     "output_type": "execute_result"
    }
   ],
   "source": [
    "df_stats_clean.sample(5)"
   ]
  },
  {
   "cell_type": "code",
   "execution_count": 24,
   "id": "f7361855-aed8-4132-aeb7-eadab425f8ff",
   "metadata": {
    "tags": []
   },
   "outputs": [
    {
     "name": "stdout",
     "output_type": "stream",
     "text": [
      "2013\n"
     ]
    }
   ],
   "source": [
    "years = np.arange(-1000, 1881, 1)\n",
    "\n",
    "print(len(final))\n",
    "\n",
    "concat_list = []\n",
    "\n",
    "for region in final.region_name.unique():\n",
    "    df_years = pd.DataFrame(years, columns = ['year'])\n",
    "    df_years['region_name'] = region\n",
    "    \n",
    "    final_filtered = final[final['region_name']==region]\n",
    "    mix = pd.merge(df_years, final_filtered, on = ['year', 'region_name'], how = 'outer')\n",
    "    concat_list.append(mix)\n",
    "    \n",
    "new_final = pd.concat(concat_list)\n",
    "new_final = new_final.sort_values(['region_name', 'year'])\n",
    "\n",
    "new_final = new_final.set_index('year')\n",
    "grouped = new_final.groupby('region_name')\n",
    "\n",
    "interpolated_data = []\n",
    "for name, group in grouped:\n",
    "    interpolated_group = group.interpolate(method='linear')\n",
    "    interpolated_data.append(interpolated_group)\n",
    "\n",
    "# Concatenate the interpolated data for all regions\n",
    "interpolated_df = pd.concat(interpolated_data)\n",
    "\n",
    "# Reset the index to restore the 'year' column\n",
    "interpolated_df = interpolated_df.reset_index()\n",
    "interpolated_df = interpolated_df.drop_duplicates().dropna().reset_index(drop=True)"
   ]
  },
  {
   "cell_type": "code",
   "execution_count": 25,
   "metadata": {},
   "outputs": [],
   "source": [
    "data_stats_interpolated = pd.merge(interpolated_df, df_gdp, on = ['region_name', 'year'])\n",
    "data_stats_interpolated = data_stats_interpolated.reset_index(drop=True)\n",
    "data_stats_interpolated.to_csv(f'results/data_stats_interpolated.csv')\n",
    "\n",
    "data_stats_interpolated_clean_gdp = pd.merge(interpolated_df, df_gdp_clean, on = ['region_name', 'year'])\n",
    "data_stats_interpolated_clean_gdp = data_stats_interpolated_clean_gdp.reset_index(drop=True)\n",
    "data_stats_interpolated_clean_gdp.to_csv(f'results/data_stats_interpolated_clean_gdp.csv')"
   ]
  },
  {
   "cell_type": "code",
   "execution_count": 26,
   "metadata": {},
   "outputs": [
    {
     "data": {
      "text/plain": [
       "1880"
      ]
     },
     "execution_count": 26,
     "metadata": {},
     "output_type": "execute_result"
    }
   ],
   "source": [
    "max(data_stats_interpolated.year)"
   ]
  }
 ],
 "metadata": {
  "kernelspec": {
   "display_name": "Python 3 (ipykernel)",
   "language": "python",
   "name": "python3"
  },
  "language_info": {
   "codemirror_mode": {
    "name": "ipython",
    "version": 3
   },
   "file_extension": ".py",
   "mimetype": "text/x-python",
   "name": "python",
   "nbconvert_exporter": "python",
   "pygments_lexer": "ipython3",
   "version": "3.11.5"
  }
 },
 "nbformat": 4,
 "nbformat_minor": 5
}
