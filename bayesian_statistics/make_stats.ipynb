{
 "cells": [
  {
   "cell_type": "code",
   "execution_count": 119,
   "id": "ef6e087a-be73-4dc5-857b-b7033e64c693",
   "metadata": {
    "tags": []
   },
   "outputs": [],
   "source": [
    "import pandas as pd\n",
    "import matplotlib.pyplot as plt\n",
    "import numpy as np\n",
    "\n",
    "pd.options.mode.chained_assignment = None\n",
    "\n",
    "import sqlite3\n",
    "from dotenv import load_dotenv\n",
    "\n",
    "load_dotenv()\n",
    "import os\n",
    "\n",
    "DB_PATH = os.getenv(\"DB_PATH\")\n",
    "DATA_PATH = \"data\"\n",
    "\n",
    "conn = sqlite3.connect(DB_PATH)"
   ]
  },
  {
   "cell_type": "code",
   "execution_count": 120,
   "metadata": {},
   "outputs": [
    {
     "data": {
      "text/html": [
       "<div>\n",
       "<style scoped>\n",
       "    .dataframe tbody tr th:only-of-type {\n",
       "        vertical-align: middle;\n",
       "    }\n",
       "\n",
       "    .dataframe tbody tr th {\n",
       "        vertical-align: top;\n",
       "    }\n",
       "\n",
       "    .dataframe thead th {\n",
       "        text-align: right;\n",
       "    }\n",
       "</style>\n",
       "<table border=\"1\" class=\"dataframe\">\n",
       "  <thead>\n",
       "    <tr style=\"text-align: right;\">\n",
       "      <th></th>\n",
       "      <th>region_name</th>\n",
       "      <th>decade</th>\n",
       "      <th>score</th>\n",
       "    </tr>\n",
       "  </thead>\n",
       "  <tbody>\n",
       "    <tr>\n",
       "      <th>762</th>\n",
       "      <td>Chinese world</td>\n",
       "      <td>270</td>\n",
       "      <td>5</td>\n",
       "    </tr>\n",
       "    <tr>\n",
       "      <th>3432</th>\n",
       "      <td>Norway</td>\n",
       "      <td>1710</td>\n",
       "      <td>3</td>\n",
       "    </tr>\n",
       "    <tr>\n",
       "      <th>4237</th>\n",
       "      <td>Southern Italy</td>\n",
       "      <td>1380</td>\n",
       "      <td>4</td>\n",
       "    </tr>\n",
       "    <tr>\n",
       "      <th>400</th>\n",
       "      <td>Balkans</td>\n",
       "      <td>1040</td>\n",
       "      <td>1</td>\n",
       "    </tr>\n",
       "    <tr>\n",
       "      <th>3910</th>\n",
       "      <td>Southern China</td>\n",
       "      <td>870</td>\n",
       "      <td>2</td>\n",
       "    </tr>\n",
       "  </tbody>\n",
       "</table>\n",
       "</div>"
      ],
      "text/plain": [
       "         region_name  decade  score\n",
       "762    Chinese world     270      5\n",
       "3432          Norway    1710      3\n",
       "4237  Southern Italy    1380      4\n",
       "400          Balkans    1040      1\n",
       "3910  Southern China     870      2"
      ]
     },
     "execution_count": 120,
     "metadata": {},
     "output_type": "execute_result"
    }
   ],
   "source": [
    "df_score_region = pd.read_csv('../immaterial_index/results/df_region_score.csv', index_col = [0])\n",
    "df_score_region.sample(5)\n"
   ]
  },
  {
   "cell_type": "code",
   "execution_count": 121,
   "id": "40ec2608-412e-4e24-80d0-801284316626",
   "metadata": {
    "tags": []
   },
   "outputs": [],
   "source": [
    "df_unseen_model = pd.read_csv('../unseen_species_model/results/estimations.csv')\n",
    "df_unseen_model = df_unseen_model[df_unseen_model['decade']<=1880]\n",
    "\n",
    "df_score_region = pd.read_csv('../immaterial_index/results/df_region_score.csv', index_col=[0])\n",
    "df_score_region = df_score_region.rename(columns = {'region_name':'region'})\n",
    "\n",
    "new_df = pd.merge(df_unseen_model, df_score_region, on = ['decade', 'region'])\n",
    "new_df = new_df.rename(columns = {'region':'region_name', 'decade':'year'})\n",
    "\n",
    "#new_df['year'] = new_df['year'].astype(int)\n",
    "#new_df['year'] = new_df['year'].apply(lambda x: round(x/10)*10)\n",
    "#new_df = new_df.groupby(['region_name', 'year']).mean().reset_index()\n",
    "#new_df = new_df[new_df['year']<=1840]\n",
    "\n",
    "\n",
    "#new_df = new_df[~new_df['N_est'].isna()]\n",
    "# When there is no individuals for the 'score' index, replace by 0\n",
    "#new_df = new_df.fillna(0)\n"
   ]
  },
  {
   "cell_type": "markdown",
   "id": "b6e418d3-30f3-417b-92f1-3a00a1cd332b",
   "metadata": {},
   "source": [
    "### Load GDP and Population Data"
   ]
  },
  {
   "cell_type": "code",
   "execution_count": 122,
   "id": "6c09cb94-0bf4-4432-b4f6-9b05d23f9ee0",
   "metadata": {
    "tags": []
   },
   "outputs": [],
   "source": [
    "#df_region_code = pd.read_sql_query(\"SELECT * FROM region_code\", conn)\n",
    "df_region_code = pd.read_csv(\"../environnement_data/region_code.csv\", index_col = [0])\n",
    "\n",
    "#df_gdp = pd.read_sql_query(\"SELECT * FROM gdp\", conn)\n",
    "df_gdp = pd.read_csv(\"../environnement_data/gdp.csv\", index_col=[0])\n",
    "\n",
    "df_gdp = df_gdp.drop(['country_code_maddison'], axis=1)\n",
    "df_gdp = df_gdp[df_gdp['year']<=1880]\n",
    "df_gdp = pd.merge(df_gdp, df_region_code, on = 'region_code')\n",
    "df_gdp.sample(5)\n",
    "\n",
    "#df_gdp_clean =  pd.read_sql_query(\"SELECT * FROM gdp_clean\", conn)\n",
    "df_gdp_clean = pd.read_csv(\"../environnement_data/gdp_clean.csv\", index_col=[0])\n",
    "\n",
    "df_gdp_clean = pd.merge(df_gdp_clean, df_region_code, on = 'region_code')"
   ]
  },
  {
   "cell_type": "code",
   "execution_count": 123,
   "id": "f1c3e787-f616-4aee-8f98-f3b7d42bdbc6",
   "metadata": {
    "tags": []
   },
   "outputs": [
    {
     "data": {
      "text/html": [
       "<div>\n",
       "<style scoped>\n",
       "    .dataframe tbody tr th:only-of-type {\n",
       "        vertical-align: middle;\n",
       "    }\n",
       "\n",
       "    .dataframe tbody tr th {\n",
       "        vertical-align: top;\n",
       "    }\n",
       "\n",
       "    .dataframe thead th {\n",
       "        text-align: right;\n",
       "    }\n",
       "</style>\n",
       "<table border=\"1\" class=\"dataframe\">\n",
       "  <thead>\n",
       "    <tr style=\"text-align: right;\">\n",
       "      <th></th>\n",
       "      <th>year</th>\n",
       "      <th>population</th>\n",
       "      <th>region_name</th>\n",
       "    </tr>\n",
       "  </thead>\n",
       "  <tbody>\n",
       "    <tr>\n",
       "      <th>6836</th>\n",
       "      <td>-90</td>\n",
       "      <td>9.220029</td>\n",
       "      <td>Northwestern Europe</td>\n",
       "    </tr>\n",
       "    <tr>\n",
       "      <th>2402</th>\n",
       "      <td>940</td>\n",
       "      <td>5.211000</td>\n",
       "      <td>Eastern Europe</td>\n",
       "    </tr>\n",
       "    <tr>\n",
       "      <th>3357</th>\n",
       "      <td>-550</td>\n",
       "      <td>1.750000</td>\n",
       "      <td>Greece</td>\n",
       "    </tr>\n",
       "    <tr>\n",
       "      <th>2808</th>\n",
       "      <td>-520</td>\n",
       "      <td>1.385000</td>\n",
       "      <td>German world</td>\n",
       "    </tr>\n",
       "    <tr>\n",
       "      <th>5032</th>\n",
       "      <td>600</td>\n",
       "      <td>3.500000</td>\n",
       "      <td>Italy</td>\n",
       "    </tr>\n",
       "  </tbody>\n",
       "</table>\n",
       "</div>"
      ],
      "text/plain": [
       "      year  population          region_name\n",
       "6836   -90    9.220029  Northwestern Europe\n",
       "2402   940    5.211000       Eastern Europe\n",
       "3357  -550    1.750000               Greece\n",
       "2808  -520    1.385000         German world\n",
       "5032   600    3.500000                Italy"
      ]
     },
     "execution_count": 123,
     "metadata": {},
     "output_type": "execute_result"
    }
   ],
   "source": [
    "#df_population = pd.read_sql_query(\"SELECT * FROM population\", conn)\n",
    "df_population = pd.read_csv(\"../environnement_data/population.csv\", index_col=[0])\n",
    "\n",
    "df_population = pd.merge(df_population, df_region_code, on = 'region_code')\n",
    "df_population = df_population.drop('region_code', axis=1)\n",
    "df_population.sample(5)\n"
   ]
  },
  {
   "cell_type": "code",
   "execution_count": 124,
   "id": "7b4c8f15-ff1d-44bf-bce8-83dcec6bab0c",
   "metadata": {
    "tags": []
   },
   "outputs": [],
   "source": [
    "def interpolate_function(df, value=\"value\", category=\"region_code\", year=\"year\", size_interpolation = 10):\n",
    "    df_interpolated_list = []\n",
    "    for reg in set(df[category]):\n",
    "        res = df[df[category] == reg]\n",
    "\n",
    "        min_date = min(res[\"year\"])\n",
    "        max_date = max(res[\"year\"])\n",
    "\n",
    "        year_range = np.arange(round(min_date), round(max_date), size_interpolation)\n",
    "        df_year = pd.DataFrame(year_range, columns=[year]).reset_index(drop=True)\n",
    "\n",
    "        res = pd.merge(res, df_year, on=year, how=\"outer\")\n",
    "        res[category] = reg\n",
    "        res = res.sort_values(year, ascending=True)\n",
    "        res[f\"{value}_interpolated\"] = res[value].interpolate(method=\"linear\")\n",
    "        res = res.reset_index(drop=True)\n",
    "        res = res[~res[f\"{value}_interpolated\"].isna()]\n",
    "\n",
    "        df_interpolated_list.append(res)\n",
    "\n",
    "    df_interpolated = pd.concat([x for x in df_interpolated_list])\n",
    "    df_interpolated = df_interpolated.reset_index(drop=True)\n",
    "    df_interpolated = df_interpolated.drop(value, axis=1)\n",
    "\n",
    "    return df_interpolated\n",
    "\n",
    "df_population_interpolation = interpolate_function(df_population, \n",
    "                                                   value = 'population', \n",
    "                                                   year = 'year', \n",
    "                                                   category=\"region_name\",\n",
    "                                                   size_interpolation = 10)"
   ]
  },
  {
   "cell_type": "code",
   "execution_count": 125,
   "metadata": {},
   "outputs": [
    {
     "data": {
      "text/plain": [
       "1880"
      ]
     },
     "execution_count": 125,
     "metadata": {},
     "output_type": "execute_result"
    }
   ],
   "source": [
    "max(df_gdp.year)"
   ]
  },
  {
   "cell_type": "code",
   "execution_count": 126,
   "metadata": {},
   "outputs": [],
   "source": [
    "# Linear interpolation on the proxies in order to merge with the GDP data excatly (that are at the year level)\n",
    "\n",
    "final = pd.merge(df_population_interpolation, new_df, on = ['region_name', 'year'])\n",
    "final['score_cap'] = final['score']/final['population_interpolated']\n",
    "final['lower_cap'] = final['lower']/final['population_interpolated']\n",
    "final['N_est_cap'] = final['N_est']/final['population_interpolated']\n",
    "final['upper_cap'] = final['upper']/final['population_interpolated']\n",
    "\n",
    "data_stats = pd.merge(final, df_gdp, on = ['region_name', 'year'])\n",
    "data_stats.to_csv(f'results/data_stats.csv')\n",
    "\n",
    "df_stats_clean = pd.merge(final, df_gdp_clean, on = ['region_name', 'year'])\n",
    "df_stats_clean.to_csv(f'results/data_stats_clean_gdp.csv')"
   ]
  },
  {
   "cell_type": "code",
   "execution_count": 127,
   "metadata": {},
   "outputs": [
    {
     "data": {
      "text/html": [
       "<div>\n",
       "<style scoped>\n",
       "    .dataframe tbody tr th:only-of-type {\n",
       "        vertical-align: middle;\n",
       "    }\n",
       "\n",
       "    .dataframe tbody tr th {\n",
       "        vertical-align: top;\n",
       "    }\n",
       "\n",
       "    .dataframe thead th {\n",
       "        text-align: right;\n",
       "    }\n",
       "</style>\n",
       "<table border=\"1\" class=\"dataframe\">\n",
       "  <thead>\n",
       "    <tr style=\"text-align: right;\">\n",
       "      <th></th>\n",
       "      <th>year</th>\n",
       "      <th>region_name</th>\n",
       "      <th>population_interpolated</th>\n",
       "      <th>N_est</th>\n",
       "      <th>lower</th>\n",
       "      <th>upper</th>\n",
       "      <th>score</th>\n",
       "      <th>score_cap</th>\n",
       "      <th>lower_cap</th>\n",
       "      <th>N_est_cap</th>\n",
       "      <th>upper_cap</th>\n",
       "      <th>region_code</th>\n",
       "      <th>country_code_maddison</th>\n",
       "      <th>gdp_per_capita</th>\n",
       "    </tr>\n",
       "  </thead>\n",
       "  <tbody>\n",
       "    <tr>\n",
       "      <th>13</th>\n",
       "      <td>1810</td>\n",
       "      <td>Nordic countries</td>\n",
       "      <td>3.853</td>\n",
       "      <td>8157.352081</td>\n",
       "      <td>7528.471725</td>\n",
       "      <td>8828.466121</td>\n",
       "      <td>282</td>\n",
       "      <td>73.189722</td>\n",
       "      <td>1953.924663</td>\n",
       "      <td>2117.143027</td>\n",
       "      <td>2291.322637</td>\n",
       "      <td>re_nordic_countries</td>\n",
       "      <td>SWE</td>\n",
       "      <td>1320</td>\n",
       "    </tr>\n",
       "    <tr>\n",
       "      <th>5</th>\n",
       "      <td>1830</td>\n",
       "      <td>Low countries</td>\n",
       "      <td>6.600</td>\n",
       "      <td>8201.784429</td>\n",
       "      <td>7559.061266</td>\n",
       "      <td>8849.375364</td>\n",
       "      <td>363</td>\n",
       "      <td>55.000000</td>\n",
       "      <td>1145.312313</td>\n",
       "      <td>1242.694611</td>\n",
       "      <td>1340.814449</td>\n",
       "      <td>re_low_countries</td>\n",
       "      <td>NLD</td>\n",
       "      <td>3038</td>\n",
       "    </tr>\n",
       "    <tr>\n",
       "      <th>8</th>\n",
       "      <td>1810</td>\n",
       "      <td>Italy</td>\n",
       "      <td>20.200</td>\n",
       "      <td>15948.407187</td>\n",
       "      <td>14656.110934</td>\n",
       "      <td>17264.374553</td>\n",
       "      <td>437</td>\n",
       "      <td>21.633663</td>\n",
       "      <td>725.550046</td>\n",
       "      <td>789.525108</td>\n",
       "      <td>854.672008</td>\n",
       "      <td>re_italy</td>\n",
       "      <td>ITA</td>\n",
       "      <td>2558</td>\n",
       "    </tr>\n",
       "    <tr>\n",
       "      <th>1</th>\n",
       "      <td>1830</td>\n",
       "      <td>Eastern Europe</td>\n",
       "      <td>36.000</td>\n",
       "      <td>38990.968413</td>\n",
       "      <td>36589.619093</td>\n",
       "      <td>41512.183895</td>\n",
       "      <td>959</td>\n",
       "      <td>26.638889</td>\n",
       "      <td>1016.378308</td>\n",
       "      <td>1083.082456</td>\n",
       "      <td>1153.116219</td>\n",
       "      <td>re_eastern_europe</td>\n",
       "      <td>POL</td>\n",
       "      <td>942</td>\n",
       "    </tr>\n",
       "    <tr>\n",
       "      <th>12</th>\n",
       "      <td>1850</td>\n",
       "      <td>Italy</td>\n",
       "      <td>25.000</td>\n",
       "      <td>12778.325722</td>\n",
       "      <td>11097.788797</td>\n",
       "      <td>14574.788229</td>\n",
       "      <td>944</td>\n",
       "      <td>37.760000</td>\n",
       "      <td>443.911552</td>\n",
       "      <td>511.133029</td>\n",
       "      <td>582.991529</td>\n",
       "      <td>re_italy</td>\n",
       "      <td>ITA</td>\n",
       "      <td>2611</td>\n",
       "    </tr>\n",
       "  </tbody>\n",
       "</table>\n",
       "</div>"
      ],
      "text/plain": [
       "    year       region_name  population_interpolated         N_est  \\\n",
       "13  1810  Nordic countries                    3.853   8157.352081   \n",
       "5   1830     Low countries                    6.600   8201.784429   \n",
       "8   1810             Italy                   20.200  15948.407187   \n",
       "1   1830    Eastern Europe                   36.000  38990.968413   \n",
       "12  1850             Italy                   25.000  12778.325722   \n",
       "\n",
       "           lower         upper  score  score_cap    lower_cap    N_est_cap  \\\n",
       "13   7528.471725   8828.466121    282  73.189722  1953.924663  2117.143027   \n",
       "5    7559.061266   8849.375364    363  55.000000  1145.312313  1242.694611   \n",
       "8   14656.110934  17264.374553    437  21.633663   725.550046   789.525108   \n",
       "1   36589.619093  41512.183895    959  26.638889  1016.378308  1083.082456   \n",
       "12  11097.788797  14574.788229    944  37.760000   443.911552   511.133029   \n",
       "\n",
       "      upper_cap          region_code country_code_maddison  gdp_per_capita  \n",
       "13  2291.322637  re_nordic_countries                   SWE            1320  \n",
       "5   1340.814449     re_low_countries                   NLD            3038  \n",
       "8    854.672008             re_italy                   ITA            2558  \n",
       "1   1153.116219    re_eastern_europe                   POL             942  \n",
       "12   582.991529             re_italy                   ITA            2611  "
      ]
     },
     "execution_count": 127,
     "metadata": {},
     "output_type": "execute_result"
    }
   ],
   "source": [
    "df_stats_clean.sample(5)"
   ]
  },
  {
   "cell_type": "code",
   "execution_count": 128,
   "id": "f7361855-aed8-4132-aeb7-eadab425f8ff",
   "metadata": {
    "tags": []
   },
   "outputs": [
    {
     "name": "stdout",
     "output_type": "stream",
     "text": [
      "1686\n"
     ]
    },
    {
     "name": "stderr",
     "output_type": "stream",
     "text": [
      "/var/folders/lx/9b13r6ln63jb54_3xlf9b_380000gn/T/ipykernel_29188/1381052388.py:23: FutureWarning: DataFrame.interpolate with object dtype is deprecated and will raise in a future version. Call obj.infer_objects(copy=False) before interpolating instead.\n",
      "  interpolated_group = group.interpolate(method='linear')\n",
      "/var/folders/lx/9b13r6ln63jb54_3xlf9b_380000gn/T/ipykernel_29188/1381052388.py:23: FutureWarning: DataFrame.interpolate with object dtype is deprecated and will raise in a future version. Call obj.infer_objects(copy=False) before interpolating instead.\n",
      "  interpolated_group = group.interpolate(method='linear')\n",
      "/var/folders/lx/9b13r6ln63jb54_3xlf9b_380000gn/T/ipykernel_29188/1381052388.py:23: FutureWarning: DataFrame.interpolate with object dtype is deprecated and will raise in a future version. Call obj.infer_objects(copy=False) before interpolating instead.\n",
      "  interpolated_group = group.interpolate(method='linear')\n",
      "/var/folders/lx/9b13r6ln63jb54_3xlf9b_380000gn/T/ipykernel_29188/1381052388.py:23: FutureWarning: DataFrame.interpolate with object dtype is deprecated and will raise in a future version. Call obj.infer_objects(copy=False) before interpolating instead.\n",
      "  interpolated_group = group.interpolate(method='linear')\n",
      "/var/folders/lx/9b13r6ln63jb54_3xlf9b_380000gn/T/ipykernel_29188/1381052388.py:23: FutureWarning: DataFrame.interpolate with object dtype is deprecated and will raise in a future version. Call obj.infer_objects(copy=False) before interpolating instead.\n",
      "  interpolated_group = group.interpolate(method='linear')\n",
      "/var/folders/lx/9b13r6ln63jb54_3xlf9b_380000gn/T/ipykernel_29188/1381052388.py:23: FutureWarning: DataFrame.interpolate with object dtype is deprecated and will raise in a future version. Call obj.infer_objects(copy=False) before interpolating instead.\n",
      "  interpolated_group = group.interpolate(method='linear')\n",
      "/var/folders/lx/9b13r6ln63jb54_3xlf9b_380000gn/T/ipykernel_29188/1381052388.py:23: FutureWarning: DataFrame.interpolate with object dtype is deprecated and will raise in a future version. Call obj.infer_objects(copy=False) before interpolating instead.\n",
      "  interpolated_group = group.interpolate(method='linear')\n",
      "/var/folders/lx/9b13r6ln63jb54_3xlf9b_380000gn/T/ipykernel_29188/1381052388.py:23: FutureWarning: DataFrame.interpolate with object dtype is deprecated and will raise in a future version. Call obj.infer_objects(copy=False) before interpolating instead.\n",
      "  interpolated_group = group.interpolate(method='linear')\n",
      "/var/folders/lx/9b13r6ln63jb54_3xlf9b_380000gn/T/ipykernel_29188/1381052388.py:23: FutureWarning: DataFrame.interpolate with object dtype is deprecated and will raise in a future version. Call obj.infer_objects(copy=False) before interpolating instead.\n",
      "  interpolated_group = group.interpolate(method='linear')\n",
      "/var/folders/lx/9b13r6ln63jb54_3xlf9b_380000gn/T/ipykernel_29188/1381052388.py:23: FutureWarning: DataFrame.interpolate with object dtype is deprecated and will raise in a future version. Call obj.infer_objects(copy=False) before interpolating instead.\n",
      "  interpolated_group = group.interpolate(method='linear')\n",
      "/var/folders/lx/9b13r6ln63jb54_3xlf9b_380000gn/T/ipykernel_29188/1381052388.py:23: FutureWarning: DataFrame.interpolate with object dtype is deprecated and will raise in a future version. Call obj.infer_objects(copy=False) before interpolating instead.\n",
      "  interpolated_group = group.interpolate(method='linear')\n",
      "/var/folders/lx/9b13r6ln63jb54_3xlf9b_380000gn/T/ipykernel_29188/1381052388.py:23: FutureWarning: DataFrame.interpolate with object dtype is deprecated and will raise in a future version. Call obj.infer_objects(copy=False) before interpolating instead.\n",
      "  interpolated_group = group.interpolate(method='linear')\n",
      "/var/folders/lx/9b13r6ln63jb54_3xlf9b_380000gn/T/ipykernel_29188/1381052388.py:23: FutureWarning: DataFrame.interpolate with object dtype is deprecated and will raise in a future version. Call obj.infer_objects(copy=False) before interpolating instead.\n",
      "  interpolated_group = group.interpolate(method='linear')\n",
      "/var/folders/lx/9b13r6ln63jb54_3xlf9b_380000gn/T/ipykernel_29188/1381052388.py:23: FutureWarning: DataFrame.interpolate with object dtype is deprecated and will raise in a future version. Call obj.infer_objects(copy=False) before interpolating instead.\n",
      "  interpolated_group = group.interpolate(method='linear')\n",
      "/var/folders/lx/9b13r6ln63jb54_3xlf9b_380000gn/T/ipykernel_29188/1381052388.py:23: FutureWarning: DataFrame.interpolate with object dtype is deprecated and will raise in a future version. Call obj.infer_objects(copy=False) before interpolating instead.\n",
      "  interpolated_group = group.interpolate(method='linear')\n",
      "/var/folders/lx/9b13r6ln63jb54_3xlf9b_380000gn/T/ipykernel_29188/1381052388.py:23: FutureWarning: DataFrame.interpolate with object dtype is deprecated and will raise in a future version. Call obj.infer_objects(copy=False) before interpolating instead.\n",
      "  interpolated_group = group.interpolate(method='linear')\n",
      "/var/folders/lx/9b13r6ln63jb54_3xlf9b_380000gn/T/ipykernel_29188/1381052388.py:23: FutureWarning: DataFrame.interpolate with object dtype is deprecated and will raise in a future version. Call obj.infer_objects(copy=False) before interpolating instead.\n",
      "  interpolated_group = group.interpolate(method='linear')\n",
      "/var/folders/lx/9b13r6ln63jb54_3xlf9b_380000gn/T/ipykernel_29188/1381052388.py:23: FutureWarning: DataFrame.interpolate with object dtype is deprecated and will raise in a future version. Call obj.infer_objects(copy=False) before interpolating instead.\n",
      "  interpolated_group = group.interpolate(method='linear')\n",
      "/var/folders/lx/9b13r6ln63jb54_3xlf9b_380000gn/T/ipykernel_29188/1381052388.py:23: FutureWarning: DataFrame.interpolate with object dtype is deprecated and will raise in a future version. Call obj.infer_objects(copy=False) before interpolating instead.\n",
      "  interpolated_group = group.interpolate(method='linear')\n"
     ]
    }
   ],
   "source": [
    "years = np.arange(-1000, 1881, 1)\n",
    "\n",
    "print(len(final))\n",
    "\n",
    "concat_list = []\n",
    "\n",
    "for region in final.region_name.unique():\n",
    "    df_years = pd.DataFrame(years, columns = ['year'])\n",
    "    df_years['region_name'] = region\n",
    "    \n",
    "    final_filtered = final[final['region_name']==region]\n",
    "    mix = pd.merge(df_years, final_filtered, on = ['year', 'region_name'], how = 'outer')\n",
    "    concat_list.append(mix)\n",
    "    \n",
    "new_final = pd.concat(concat_list)\n",
    "new_final = new_final.sort_values(['region_name', 'year'])\n",
    "\n",
    "new_final = new_final.set_index('year')\n",
    "grouped = new_final.groupby('region_name')\n",
    "\n",
    "interpolated_data = []\n",
    "for name, group in grouped:\n",
    "    interpolated_group = group.interpolate(method='linear')\n",
    "    interpolated_data.append(interpolated_group)\n",
    "\n",
    "# Concatenate the interpolated data for all regions\n",
    "interpolated_df = pd.concat(interpolated_data)\n",
    "\n",
    "# Reset the index to restore the 'year' column\n",
    "interpolated_df = interpolated_df.reset_index()\n",
    "interpolated_df = interpolated_df.drop_duplicates().dropna().reset_index(drop=True)"
   ]
  },
  {
   "cell_type": "code",
   "execution_count": 129,
   "metadata": {},
   "outputs": [],
   "source": [
    "data_stats_interpolated = pd.merge(interpolated_df, df_gdp, on = ['region_name', 'year'])\n",
    "data_stats_interpolated = data_stats_interpolated.reset_index(drop=True)\n",
    "data_stats_interpolated.to_csv(f'results/data_stats_interpolated.csv')\n",
    "\n",
    "data_stats_interpolated_clean_gdp = pd.merge(interpolated_df, df_gdp_clean, on = ['region_name', 'year'])\n",
    "data_stats_interpolated_clean_gdp = data_stats_interpolated_clean_gdp.reset_index(drop=True)\n",
    "data_stats_interpolated_clean_gdp.to_csv(f'results/data_stats_interpolated_clean_gdp.csv')"
   ]
  },
  {
   "cell_type": "code",
   "execution_count": 130,
   "metadata": {},
   "outputs": [
    {
     "data": {
      "text/plain": [
       "1880"
      ]
     },
     "execution_count": 130,
     "metadata": {},
     "output_type": "execute_result"
    }
   ],
   "source": [
    "max(data_stats_interpolated.year)"
   ]
  },
  {
   "cell_type": "code",
   "execution_count": null,
   "metadata": {},
   "outputs": [],
   "source": []
  },
  {
   "cell_type": "code",
   "execution_count": 131,
   "id": "4e1d3529-1a31-4f16-a5a1-8ea9e1017598",
   "metadata": {
    "tags": []
   },
   "outputs": [],
   "source": [
    "\n",
    "\n",
    "import statsmodels.api as sm\n",
    "\n",
    "def plot_trend(decades, scores, N_est, lower, upper, color=\"C0\", label=None, ax=None, logy=False, figsize=None, lowess = True):\n",
    "    if ax is None:\n",
    "        fig, ax = plt.subplots(figsize=figsize)\n",
    "    \n",
    "    if lowess:\n",
    "        \n",
    "            # Add LOWESS regression lines\n",
    "        lowess_scores = sm.nonparametric.lowess(scores, decades, frac=lowess_span)\n",
    "        ax.plot(decades, lowess_scores[:, 1], color='black', label='LOWESS Scores')\n",
    "\n",
    "        lowess_lower = sm.nonparametric.lowess(lower, decades, frac=lowess_span)\n",
    "        lowess_upper = sm.nonparametric.lowess(upper, decades, frac=lowess_span)\n",
    "\n",
    "        lowess_N_est = sm.nonparametric.lowess(N_est, decades, frac=lowess_span)\n",
    "        ax.plot(decades, lowess_N_est[:, 1], color=\"C0\", label='LOWESS N_est')\n",
    "\n",
    "        ax.fill_between(decades, lowess_lower[:, 1], lowess_upper[:, 1], alpha=0.4, color=color)\n",
    "\n",
    "    else:\n",
    "        # Plot predicted line\n",
    "        ax.plot(decades, N_est, color=color, label='Estimated diversity')\n",
    "        ax.plot(decades, scores, color='black', label='Raw index')\n",
    "\n",
    "    # Plot credibility bands\n",
    "        #ax.fill_between(decades, lower, upper, alpha=0.4, color=color)\n",
    "\n",
    "    ax.set(xlabel=\"time\", ylabel=\"Number of Individuals\")\n",
    "    if logy:\n",
    "        ax.set_yscale(\"log\")\n",
    "        \n",
    "    ax.set_title(label)\n",
    "    ax.legend()\n",
    "\n",
    "    return ax\n",
    "\n"
   ]
  },
  {
   "cell_type": "code",
   "execution_count": 133,
   "id": "0f1cb58b-226a-42b4-b703-93f69cefaf39",
   "metadata": {
    "tags": []
   },
   "outputs": [
    {
     "data": {
      "text/plain": [
       "(-500.0, 1880.0)"
      ]
     },
     "execution_count": 133,
     "metadata": {},
     "output_type": "execute_result"
    },
    {
     "data": {
      "image/png": "[encoded data removed]",
      "text/plain": [
       "<Figure size 640x480 with 1 Axes>"
      ]
     },
     "metadata": {},
     "output_type": "display_data"
    }
   ],
   "source": [
    "lowess_span = 0.05\n",
    "\n",
    "region = 'Chinese world'\n",
    "\n",
    "df = new_df[new_df['region_name']==region]\n",
    "\n",
    "N_est = list(df['N_est'])\n",
    "lower = list(df['lower'])\n",
    "upper = list(df['upper'])\n",
    "decades = list(df['year'])\n",
    "scores = list(df['score'])\n",
    "\n",
    "ax = plot_trend(decades, scores, N_est, lower, upper, label=region, logy = False, lowess = False)\n",
    "ax.set_xlim(-500, 1880)"
   ]
  }
 ],
 "metadata": {
  "kernelspec": {
   "display_name": "Python 3 (ipykernel)",
   "language": "python",
   "name": "python3"
  },
  "language_info": {
   "codemirror_mode": {
    "name": "ipython",
    "version": 3
   },
   "file_extension": ".py",
   "mimetype": "text/x-python",
   "name": "python",
   "nbconvert_exporter": "python",
   "pygments_lexer": "ipython3",
   "version": "3.11.5"
  }
 },
 "nbformat": 4,
 "nbformat_minor": 5
}
