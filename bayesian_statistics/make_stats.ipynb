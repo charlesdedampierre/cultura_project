{
 "cells": [
  {
   "cell_type": "code",
   "execution_count": 2,
   "id": "ef6e087a-be73-4dc5-857b-b7033e64c693",
   "metadata": {
    "tags": []
   },
   "outputs": [],
   "source": [
    "import pandas as pd\n",
    "import matplotlib.pyplot as plt\n",
    "import numpy as np\n",
    "\n",
    "pd.options.mode.chained_assignment = None\n",
    "\n",
    "import sqlite3\n",
    "from dotenv import load_dotenv\n",
    "\n",
    "load_dotenv()\n",
    "import os\n",
    "\n",
    "DB_PATH = os.getenv(\"DB_PATH\")\n",
    "DATA_PATH = \"data\"\n",
    "\n",
    "conn = sqlite3.connect(DB_PATH)"
   ]
  },
  {
   "cell_type": "code",
   "execution_count": 23,
   "id": "40ec2608-412e-4e24-80d0-801284316626",
   "metadata": {
    "tags": []
   },
   "outputs": [],
   "source": [
    "df_unseen_model = pd.read_csv('../unseen_species_model/results/estimations.csv')\n",
    "df_unseen_model = df_unseen_model[df_unseen_model['decade']<=1850]\n",
    "\n",
    "df_score_region = pd.read_sql_query(f\"SELECT * FROM region_score\", conn)\n",
    "df_score_region = df_score_region.rename(columns = {'region_name':'region'})\n",
    "\n",
    "new_df = pd.merge(df_unseen_model, df_score_region, on = ['decade', 'region'])\n",
    "new_df = new_df.rename(columns = {'region':'region_name', 'decade':'year'})\n",
    "\n",
    "#new_df['year'] = new_df['year'].astype(int)\n",
    "#new_df['year'] = new_df['year'].apply(lambda x: round(x/10)*10)\n",
    "#new_df = new_df.groupby(['region_name', 'year']).mean().reset_index()\n",
    "#new_df = new_df[new_df['year']<=1840]\n",
    "\n",
    "\n",
    "#new_df = new_df[~new_df['N_est'].isna()]\n",
    "# When there is no individuals for the 'score' index, replace by 0\n",
    "#new_df = new_df.fillna(0)\n"
   ]
  },
  {
   "cell_type": "markdown",
   "id": "b6e418d3-30f3-417b-92f1-3a00a1cd332b",
   "metadata": {},
   "source": [
    "### Load GDP and Population Data"
   ]
  },
  {
   "cell_type": "code",
   "execution_count": 31,
   "id": "6c09cb94-0bf4-4432-b4f6-9b05d23f9ee0",
   "metadata": {
    "tags": []
   },
   "outputs": [
    {
     "data": {
      "text/html": [
       "<div>\n",
       "<style scoped>\n",
       "    .dataframe tbody tr th:only-of-type {\n",
       "        vertical-align: middle;\n",
       "    }\n",
       "\n",
       "    .dataframe tbody tr th {\n",
       "        vertical-align: top;\n",
       "    }\n",
       "\n",
       "    .dataframe thead th {\n",
       "        text-align: right;\n",
       "    }\n",
       "</style>\n",
       "<table border=\"1\" class=\"dataframe\">\n",
       "  <thead>\n",
       "    <tr style=\"text-align: right;\">\n",
       "      <th></th>\n",
       "      <th>region_code</th>\n",
       "      <th>year</th>\n",
       "      <th>gdp_per_capita</th>\n",
       "      <th>region_name</th>\n",
       "    </tr>\n",
       "  </thead>\n",
       "  <tbody>\n",
       "    <tr>\n",
       "      <th>3776</th>\n",
       "      <td>re_netherlands</td>\n",
       "      <td>1618</td>\n",
       "      <td>5118</td>\n",
       "      <td>Netherlands</td>\n",
       "    </tr>\n",
       "    <tr>\n",
       "      <th>70</th>\n",
       "      <td>re_latin</td>\n",
       "      <td>1379</td>\n",
       "      <td>2373</td>\n",
       "      <td>Latin World</td>\n",
       "    </tr>\n",
       "    <tr>\n",
       "      <th>500</th>\n",
       "      <td>re_latin</td>\n",
       "      <td>1809</td>\n",
       "      <td>2773</td>\n",
       "      <td>Latin World</td>\n",
       "    </tr>\n",
       "    <tr>\n",
       "      <th>2229</th>\n",
       "      <td>re_nordic_countries</td>\n",
       "      <td>1592</td>\n",
       "      <td>1305</td>\n",
       "      <td>Nordic countries</td>\n",
       "    </tr>\n",
       "    <tr>\n",
       "      <th>5002</th>\n",
       "      <td>re_united_kingdom</td>\n",
       "      <td>1614</td>\n",
       "      <td>1555</td>\n",
       "      <td>United Kingdom</td>\n",
       "    </tr>\n",
       "  </tbody>\n",
       "</table>\n",
       "</div>"
      ],
      "text/plain": [
       "              region_code  year  gdp_per_capita       region_name\n",
       "3776       re_netherlands  1618            5118       Netherlands\n",
       "70               re_latin  1379            2373       Latin World\n",
       "500              re_latin  1809            2773       Latin World\n",
       "2229  re_nordic_countries  1592            1305  Nordic countries\n",
       "5002    re_united_kingdom  1614            1555    United Kingdom"
      ]
     },
     "execution_count": 31,
     "metadata": {},
     "output_type": "execute_result"
    }
   ],
   "source": [
    "df_region_code = pd.read_sql_query(\"SELECT * FROM region_code\", conn)\n",
    "\n",
    "df_gdp = pd.read_sql_query(\"SELECT * FROM gdp\", conn)\n",
    "df_gdp = df_gdp.drop(['country_code_maddison'], axis=1)\n",
    "df_gdp = df_gdp[df_gdp['year']<=1840]\n",
    "df_gdp = pd.merge(df_gdp, df_region_code, on = 'region_code')\n",
    "df_gdp.sample(5)"
   ]
  },
  {
   "cell_type": "code",
   "execution_count": 32,
   "id": "f1c3e787-f616-4aee-8f98-f3b7d42bdbc6",
   "metadata": {
    "tags": []
   },
   "outputs": [
    {
     "data": {
      "text/html": [
       "<div>\n",
       "<style scoped>\n",
       "    .dataframe tbody tr th:only-of-type {\n",
       "        vertical-align: middle;\n",
       "    }\n",
       "\n",
       "    .dataframe tbody tr th {\n",
       "        vertical-align: top;\n",
       "    }\n",
       "\n",
       "    .dataframe thead th {\n",
       "        text-align: right;\n",
       "    }\n",
       "</style>\n",
       "<table border=\"1\" class=\"dataframe\">\n",
       "  <thead>\n",
       "    <tr style=\"text-align: right;\">\n",
       "      <th></th>\n",
       "      <th>year</th>\n",
       "      <th>population</th>\n",
       "      <th>region_name</th>\n",
       "    </tr>\n",
       "  </thead>\n",
       "  <tbody>\n",
       "    <tr>\n",
       "      <th>4588</th>\n",
       "      <td>1630</td>\n",
       "      <td>141.000000</td>\n",
       "      <td>Indian world</td>\n",
       "    </tr>\n",
       "    <tr>\n",
       "      <th>7088</th>\n",
       "      <td>-330</td>\n",
       "      <td>4.408750</td>\n",
       "      <td>Ottoman Turkey</td>\n",
       "    </tr>\n",
       "    <tr>\n",
       "      <th>4263</th>\n",
       "      <td>-1620</td>\n",
       "      <td>10.813333</td>\n",
       "      <td>Indian world</td>\n",
       "    </tr>\n",
       "    <tr>\n",
       "      <th>392</th>\n",
       "      <td>360</td>\n",
       "      <td>0.520000</td>\n",
       "      <td>Austria</td>\n",
       "    </tr>\n",
       "    <tr>\n",
       "      <th>7054</th>\n",
       "      <td>-670</td>\n",
       "      <td>4.016250</td>\n",
       "      <td>Ottoman Turkey</td>\n",
       "    </tr>\n",
       "  </tbody>\n",
       "</table>\n",
       "</div>"
      ],
      "text/plain": [
       "      year  population     region_name\n",
       "4588  1630  141.000000    Indian world\n",
       "7088  -330    4.408750  Ottoman Turkey\n",
       "4263 -1620   10.813333    Indian world\n",
       "392    360    0.520000         Austria\n",
       "7054  -670    4.016250  Ottoman Turkey"
      ]
     },
     "execution_count": 32,
     "metadata": {},
     "output_type": "execute_result"
    }
   ],
   "source": [
    "df_population = pd.read_sql_query(\"SELECT * FROM population\", conn)\n",
    "df_population = pd.merge(df_population, df_region_code, on = 'region_code')\n",
    "df_population = df_population.drop('region_code', axis=1)\n",
    "df_population.sample(5)"
   ]
  },
  {
   "cell_type": "code",
   "execution_count": 33,
   "id": "7b4c8f15-ff1d-44bf-bce8-83dcec6bab0c",
   "metadata": {
    "tags": []
   },
   "outputs": [],
   "source": [
    "def interpolate_function(df, value=\"value\", category=\"region_code\", year=\"year\", size_interpolation = 10):\n",
    "    df_interpolated_list = []\n",
    "    for reg in set(df[category]):\n",
    "        res = df[df[category] == reg]\n",
    "\n",
    "        min_date = min(res[\"year\"])\n",
    "        max_date = max(res[\"year\"])\n",
    "\n",
    "        year_range = np.arange(round(min_date), round(max_date), size_interpolation)\n",
    "        df_year = pd.DataFrame(year_range, columns=[year]).reset_index(drop=True)\n",
    "\n",
    "        res = pd.merge(res, df_year, on=year, how=\"outer\")\n",
    "        res[category] = reg\n",
    "        res = res.sort_values(year, ascending=True)\n",
    "        res[f\"{value}_interpolated\"] = res[value].interpolate(method=\"linear\")\n",
    "        res = res.reset_index(drop=True)\n",
    "        res = res[~res[f\"{value}_interpolated\"].isna()]\n",
    "\n",
    "        df_interpolated_list.append(res)\n",
    "\n",
    "    df_interpolated = pd.concat([x for x in df_interpolated_list])\n",
    "    df_interpolated = df_interpolated.reset_index(drop=True)\n",
    "    df_interpolated = df_interpolated.drop(value, axis=1)\n",
    "\n",
    "    return df_interpolated\n",
    "\n",
    "df_population_interpolation = interpolate_function(df_population, \n",
    "                                                   value = 'population', \n",
    "                                                   year = 'year', \n",
    "                                                   category=\"region_name\",\n",
    "                                                   size_interpolation = 10)"
   ]
  },
  {
   "cell_type": "code",
   "execution_count": 35,
   "id": "f7361855-aed8-4132-aeb7-eadab425f8ff",
   "metadata": {
    "tags": []
   },
   "outputs": [
    {
     "name": "stdout",
     "output_type": "stream",
     "text": [
      "1686\n"
     ]
    }
   ],
   "source": [
    "# Linear interpolation on the proxies in order to merge with the GDP data excatly (that are at the year level)\n",
    "\n",
    "\n",
    "final = pd.merge(df_population_interpolation, new_df, on = ['region_name', 'year'])\n",
    "final['score_cap'] = final['score']/final['population_interpolated']\n",
    "final['lower_cap'] = final['lower']/final['population_interpolated']\n",
    "final['N_est_cap'] = final['N_est']/final['population_interpolated']\n",
    "final['upper_cap'] = final['upper']/final['population_interpolated']\n",
    "\n",
    "years = np.arange(-1000, 1840, 1)\n",
    "\n",
    "print(len(final))\n",
    "\n",
    "concat_list = []\n",
    "\n",
    "for region in final.region_name.unique():\n",
    "    df_years = pd.DataFrame(years, columns = ['year'])\n",
    "    df_years['region_name'] = region\n",
    "    \n",
    "    final_filtered = final[final['region_name']==region]\n",
    "    mix = pd.merge(df_years, final_filtered, on = ['year', 'region_name'], how = 'outer')\n",
    "    concat_list.append(mix)\n",
    "    \n",
    "new_final = pd.concat(concat_list)\n",
    "new_final = new_final.sort_values(['region_name', 'year'])\n",
    "\n",
    "new_final = new_final.set_index('year')\n",
    "grouped = new_final.groupby('region_name')\n",
    "\n",
    "interpolated_data = []\n",
    "for name, group in grouped:\n",
    "    interpolated_group = group.interpolate(method='linear')\n",
    "    interpolated_data.append(interpolated_group)\n",
    "\n",
    "# Concatenate the interpolated data for all regions\n",
    "interpolated_df = pd.concat(interpolated_data)\n",
    "\n",
    "# Reset the index to restore the 'year' column\n",
    "interpolated_df = interpolated_df.reset_index()\n",
    "interpolated_df = interpolated_df.drop_duplicates().dropna().reset_index(drop=True)"
   ]
  },
  {
   "cell_type": "markdown",
   "id": "90952b59-3934-4f7e-80c7-ff977b68d725",
   "metadata": {},
   "source": [
    "### Merge with GDP DATA"
   ]
  },
  {
   "cell_type": "code",
   "execution_count": 36,
   "id": "d80cbbf0-d987-4e71-bdf8-c21e9fe26af7",
   "metadata": {
    "tags": []
   },
   "outputs": [],
   "source": [
    "df_stats = pd.merge(interpolated_df, df_gdp, on = ['region_name', 'year'])"
   ]
  },
  {
   "cell_type": "code",
   "execution_count": 40,
   "id": "573a0a57-393a-4d6b-8977-d23871992910",
   "metadata": {
    "tags": []
   },
   "outputs": [],
   "source": [
    "df_stats.to_csv(f'results/data_stats.csv')"
   ]
  },
  {
   "cell_type": "code",
   "execution_count": null,
   "id": "f4e577da-332c-4a84-82ad-95bc84e0e0c1",
   "metadata": {},
   "outputs": [],
   "source": []
  },
  {
   "cell_type": "code",
   "execution_count": null,
   "id": "93bc05a2-5e40-4d81-8ba0-86bce4a68807",
   "metadata": {},
   "outputs": [],
   "source": []
  },
  {
   "cell_type": "code",
   "execution_count": 24,
   "id": "85399ac2-2034-4fa8-bc35-da21656b48a3",
   "metadata": {
    "tags": []
   },
   "outputs": [],
   "source": [
    "import statsmodels.api as sm"
   ]
  },
  {
   "cell_type": "code",
   "execution_count": 25,
   "id": "4e1d3529-1a31-4f16-a5a1-8ea9e1017598",
   "metadata": {
    "tags": []
   },
   "outputs": [],
   "source": [
    "def plot_trend(decades, scores, N_est, lower, upper, color=\"C0\", label=None, ax=None, logy=False, figsize=None, lowess = True):\n",
    "    if ax is None:\n",
    "        fig, ax = plt.subplots(figsize=figsize)\n",
    "    \n",
    "    if lowess:\n",
    "        \n",
    "            # Add LOWESS regression lines\n",
    "        lowess_scores = sm.nonparametric.lowess(scores, decades, frac=lowess_span)\n",
    "        ax.plot(decades, lowess_scores[:, 1], color='black', label='LOWESS Scores')\n",
    "\n",
    "        lowess_lower = sm.nonparametric.lowess(lower, decades, frac=lowess_span)\n",
    "        lowess_upper = sm.nonparametric.lowess(upper, decades, frac=lowess_span)\n",
    "\n",
    "        lowess_N_est = sm.nonparametric.lowess(N_est, decades, frac=lowess_span)\n",
    "        ax.plot(decades, lowess_N_est[:, 1], color=\"C0\", label='LOWESS N_est')\n",
    "\n",
    "        ax.fill_between(decades, lowess_lower[:, 1], lowess_upper[:, 1], alpha=0.4, color=color)\n",
    "\n",
    "    else:\n",
    "        # Plot predicted line\n",
    "        ax.plot(decades, N_est, color=color, label='Estimated diversity')\n",
    "        ax.plot(decades, scores, color='black', label='Raw index')\n",
    "\n",
    "    # Plot credibility bands\n",
    "        #ax.fill_between(decades, lower, upper, alpha=0.4, color=color)\n",
    "\n",
    "    ax.set(xlabel=\"time\", ylabel=\"Number of Individuals\")\n",
    "    if logy:\n",
    "        ax.set_yscale(\"log\")\n",
    "        \n",
    "    ax.set_title(label)\n",
    "    ax.legend()\n",
    "\n",
    "    return ax"
   ]
  },
  {
   "cell_type": "code",
   "execution_count": 26,
   "id": "0f1cb58b-226a-42b4-b703-93f69cefaf39",
   "metadata": {
    "tags": []
   },
   "outputs": [
    {
     "data": {
      "text/plain": [
       "(-500.0, 1840.0)"
      ]
     },
     "execution_count": 26,
     "metadata": {},
     "output_type": "execute_result"
    },
    {
     "data": {
      "image/png": "[encoded data removed]",
      "text/plain": [
       "<Figure size 640x480 with 1 Axes>"
      ]
     },
     "metadata": {},
     "output_type": "display_data"
    }
   ],
   "source": [
    "lowess_span = 0.05\n",
    "\n",
    "region = 'Chinese world'\n",
    "\n",
    "df = new_df[new_df['region_name']==region]\n",
    "\n",
    "N_est = list(df['N_est'])\n",
    "lower = list(df['lower'])\n",
    "upper = list(df['upper'])\n",
    "decades = list(df['year'])\n",
    "scores = list(df['score'])\n",
    "\n",
    "ax = plot_trend(decades, scores, N_est, lower, upper, label=region, logy = False, lowess = False)\n",
    "ax.set_xlim(-500, 1840)"
   ]
  },
  {
   "cell_type": "code",
   "execution_count": 190,
   "id": "12352282-5f16-4fb0-8027-f060389e8e0e",
   "metadata": {
    "tags": []
   },
   "outputs": [],
   "source": []
  },
  {
   "cell_type": "markdown",
   "id": "f689e707-7bff-4945-a1ca-34b616550ef9",
   "metadata": {},
   "source": [
    "Create a restricted List and a full list"
   ]
  },
  {
   "cell_type": "code",
   "execution_count": 192,
   "id": "124fcc3b-ab3b-4783-a75b-8af8d04f0183",
   "metadata": {
    "tags": []
   },
   "outputs": [],
   "source": [
    "restricted = ['United Kingdom',\n",
    "'Low countries',\n",
    "'Italy',\n",
    "'France',\n",
    "'Eastern Europe',\n",
    "'Nordic countries']\n",
    "\n",
    "inclusive = ['United Kingdom',\n",
    "'Low countries',\n",
    "'Italy',\n",
    "'France',\n",
    "'Eastern Europe',\n",
    "'Nordic countries',\n",
    "'German world',\n",
    "'Japan',\n",
    "'Chinese world',\n",
    "'Spain']\n",
    "\n",
    "df_stats_fil = df_stats[df_stats['region_name'].isin(inclusive)]\n",
    "df_stats_fil['inclusive'] = '1'\n",
    "df_stats_fil['restricted'] = np.nan\n",
    "df_stats_fil['restricted'] [df_stats_fil['region_name'].isin(restricted)] = '1'\n",
    "df_stats_fil['restricted'] [~df_stats_fil['region_name'].isin(restricted)] = '0'\n",
    "df_stats_fil = df_stats_fil.reset_index(drop=True)\n",
    "\n",
    "df_stats_fil.to_csv(f'data/data_stats_filtered.csv')\n",
    "df_stats_fil.head(5)"
   ]
  },
  {
   "cell_type": "markdown",
   "id": "0a8ab6cc-a7fa-49d5-b767-371e7647550a",
   "metadata": {
    "tags": []
   },
   "source": [
    "Save the data"
   ]
  },
  {
   "cell_type": "code",
   "execution_count": null,
   "id": "1a72f0db-d0ab-468c-9290-6b6286c50e6e",
   "metadata": {
    "tags": []
   },
   "outputs": [],
   "source": []
  },
  {
   "cell_type": "code",
   "execution_count": null,
   "id": "b2337aae-9c7e-4731-b908-06f233e4c2cb",
   "metadata": {},
   "outputs": [],
   "source": []
  }
 ],
 "metadata": {
  "kernelspec": {
   "display_name": "Python 3 (ipykernel)",
   "language": "python",
   "name": "python3"
  },
  "language_info": {
   "codemirror_mode": {
    "name": "ipython",
    "version": 3
   },
   "file_extension": ".py",
   "mimetype": "text/x-python",
   "name": "python",
   "nbconvert_exporter": "python",
   "pygments_lexer": "ipython3",
   "version": "3.8.18"
  }
 },
 "nbformat": 4,
 "nbformat_minor": 5
}
