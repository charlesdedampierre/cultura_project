{
 "cells": [
  {
   "cell_type": "markdown",
   "id": "45ef90c3",
   "metadata": {
    "jp-MarkdownHeadingCollapsed": true,
    "tags": []
   },
   "source": [
    "# Regression Analysis Cultura Data\n",
    "\n",
    "This notebook provides an overview of the statistical analysis that complements the main results in our paper. We primarily aim to test the hypothesis that the cultural production score can serve as a proxy for GDP. To evaluate this proposition, we use regression models where GDP is the dependent variable, and cultural production is one of the independent variables. We employ Bayesian Regression Modeling with Bambi—built upon PyMC—for a robust assessment of the correlation between these two variables. But before we delve into the models, we will first load and normalize the data to streamline the processing.\n",
    "\n",
    "## Data Preparation"
   ]
  },
  {
   "cell_type": "code",
   "execution_count": 7,
   "id": "5d9cab91-df01-4fb6-92ef-dc74072bfffd",
   "metadata": {
    "tags": []
   },
   "outputs": [
    {
     "name": "stdout",
     "output_type": "stream",
     "text": [
      "N = 3228\n"
     ]
    },
    {
     "data": {
      "text/plain": [
       "United Kingdom      590\n",
       "Nordic countries    541\n",
       "France              532\n",
       "Italy               532\n",
       "Low countries       487\n",
       "Eastern Europe      423\n",
       "Spain                58\n",
       "Chinese world        46\n",
       "Japan                12\n",
       "German world          7\n",
       "Name: region_name, dtype: int64"
      ]
     },
     "execution_count": 7,
     "metadata": {},
     "output_type": "execute_result"
    }
   ],
   "source": [
    "import pandas as pd\n",
    "import numpy as np\n",
    "import bambi as bmb\n",
    "import arviz as az\n",
    "\n",
    "df = pd.read_csv(\"data/data_stats_filtered.csv\", index_col=0)\n",
    "df[\"region_name_id\"] = pd.factorize(df[\"region_name\"])[0]\n",
    "print(f\"N = {df.shape[0]}\")\n",
    "\n",
    "\n",
    "top_gdp_countries = df.region_name.value_counts()\n",
    "top_gdp_countries"
   ]
  },
  {
   "cell_type": "code",
   "execution_count": 8,
   "id": "b8bfaf2f-bc16-431e-a489-6416741b2035",
   "metadata": {
    "tags": []
   },
   "outputs": [],
   "source": [
    "df = df[df['year']>=1800]"
   ]
  },
  {
   "cell_type": "code",
   "execution_count": null,
   "id": "66f81138-9ab9-4c69-bc33-81a61ab3497b",
   "metadata": {},
   "outputs": [],
   "source": []
  },
  {
   "cell_type": "markdown",
   "id": "598b4b46",
   "metadata": {},
   "source": [
    "We have GDP data for the following 10 regions:"
   ]
  },
  {
   "cell_type": "code",
   "execution_count": 9,
   "id": "98889eb5",
   "metadata": {
    "tags": []
   },
   "outputs": [
    {
     "data": {
      "text/plain": [
       "Italy               41\n",
       "Nordic countries    41\n",
       "United Kingdom      41\n",
       "Low countries       35\n",
       "Eastern Europe      31\n",
       "France              21\n",
       "Chinese world        5\n",
       "Spain                5\n",
       "Japan                3\n",
       "German world         2\n",
       "Name: region_name, dtype: int64"
      ]
     },
     "execution_count": 9,
     "metadata": {},
     "output_type": "execute_result"
    }
   ],
   "source": [
    "df[\"region_name\"].value_counts()"
   ]
  },
  {
   "cell_type": "markdown",
   "id": "31a5d270",
   "metadata": {},
   "source": [
    "We apply a logarithmic transformation to the GDP to account for its exponential growth, as our interest lies in variables that maintain a linear correlation with GDP. We also center this at 1, which aids in straightforward interpretation. We employ the same strategy to both the production score (`score`) and the bias-corrected production score (`N_est`):"
   ]
  },
  {
   "cell_type": "code",
   "execution_count": 10,
   "id": "fbf7442b",
   "metadata": {},
   "outputs": [
    {
     "data": {
      "text/html": [
       "<div>\n",
       "<style scoped>\n",
       "    .dataframe tbody tr th:only-of-type {\n",
       "        vertical-align: middle;\n",
       "    }\n",
       "\n",
       "    .dataframe tbody tr th {\n",
       "        vertical-align: top;\n",
       "    }\n",
       "\n",
       "    .dataframe thead th {\n",
       "        text-align: right;\n",
       "    }\n",
       "</style>\n",
       "<table border=\"1\" class=\"dataframe\">\n",
       "  <thead>\n",
       "    <tr style=\"text-align: right;\">\n",
       "      <th></th>\n",
       "      <th>year</th>\n",
       "      <th>region_name</th>\n",
       "      <th>population_interpolated</th>\n",
       "      <th>N_est</th>\n",
       "      <th>lower</th>\n",
       "      <th>upper</th>\n",
       "      <th>score</th>\n",
       "      <th>score_cap</th>\n",
       "      <th>lower_cap</th>\n",
       "      <th>N_est_cap</th>\n",
       "      <th>...</th>\n",
       "      <th>score_log</th>\n",
       "      <th>score_cap_log</th>\n",
       "      <th>N_est_log</th>\n",
       "      <th>N_est_cap_log</th>\n",
       "      <th>score_log_std</th>\n",
       "      <th>score_cap_log_std</th>\n",
       "      <th>N_est_log_std</th>\n",
       "      <th>N_est_cap_log_std</th>\n",
       "      <th>log_gdp</th>\n",
       "      <th>log_gdp_std</th>\n",
       "    </tr>\n",
       "  </thead>\n",
       "  <tbody>\n",
       "    <tr>\n",
       "      <th>3190</th>\n",
       "      <td>1803</td>\n",
       "      <td>United Kingdom</td>\n",
       "      <td>11.365</td>\n",
       "      <td>9746.335452</td>\n",
       "      <td>9283.649128</td>\n",
       "      <td>10220.468188</td>\n",
       "      <td>1323.5</td>\n",
       "      <td>117.310429</td>\n",
       "      <td>822.754222</td>\n",
       "      <td>863.817566</td>\n",
       "      <td>...</td>\n",
       "      <td>7.188790</td>\n",
       "      <td>4.773312</td>\n",
       "      <td>9.184749</td>\n",
       "      <td>6.762519</td>\n",
       "      <td>1.033932</td>\n",
       "      <td>1.095793</td>\n",
       "      <td>0.969614</td>\n",
       "      <td>0.991711</td>\n",
       "      <td>8.087333</td>\n",
       "      <td>1.060960</td>\n",
       "    </tr>\n",
       "    <tr>\n",
       "      <th>41</th>\n",
       "      <td>1800</td>\n",
       "      <td>Chinese world</td>\n",
       "      <td>325.000</td>\n",
       "      <td>657.855132</td>\n",
       "      <td>528.467723</td>\n",
       "      <td>799.458822</td>\n",
       "      <td>66.0</td>\n",
       "      <td>0.203077</td>\n",
       "      <td>1.626055</td>\n",
       "      <td>2.024170</td>\n",
       "      <td>...</td>\n",
       "      <td>4.204693</td>\n",
       "      <td>0.184882</td>\n",
       "      <td>6.490504</td>\n",
       "      <td>1.106637</td>\n",
       "      <td>0.604742</td>\n",
       "      <td>-0.366620</td>\n",
       "      <td>0.685188</td>\n",
       "      <td>0.103428</td>\n",
       "      <td>6.831954</td>\n",
       "      <td>0.896269</td>\n",
       "    </tr>\n",
       "    <tr>\n",
       "      <th>998</th>\n",
       "      <td>1838</td>\n",
       "      <td>France</td>\n",
       "      <td>34.320</td>\n",
       "      <td>17195.116179</td>\n",
       "      <td>16271.253377</td>\n",
       "      <td>18123.863279</td>\n",
       "      <td>2258.2</td>\n",
       "      <td>65.720976</td>\n",
       "      <td>473.576968</td>\n",
       "      <td>500.436288</td>\n",
       "      <td>...</td>\n",
       "      <td>7.722766</td>\n",
       "      <td>4.200519</td>\n",
       "      <td>9.752439</td>\n",
       "      <td>6.217477</td>\n",
       "      <td>1.110732</td>\n",
       "      <td>0.962544</td>\n",
       "      <td>1.029543</td>\n",
       "      <td>0.911645</td>\n",
       "      <td>7.701652</td>\n",
       "      <td>1.010363</td>\n",
       "    </tr>\n",
       "    <tr>\n",
       "      <th>980</th>\n",
       "      <td>1820</td>\n",
       "      <td>France</td>\n",
       "      <td>31.800</td>\n",
       "      <td>18252.829725</td>\n",
       "      <td>17528.458927</td>\n",
       "      <td>19000.969313</td>\n",
       "      <td>2440.0</td>\n",
       "      <td>76.729560</td>\n",
       "      <td>551.209400</td>\n",
       "      <td>573.988356</td>\n",
       "      <td>...</td>\n",
       "      <td>7.800163</td>\n",
       "      <td>4.353236</td>\n",
       "      <td>9.812130</td>\n",
       "      <td>6.354350</td>\n",
       "      <td>1.121863</td>\n",
       "      <td>0.998160</td>\n",
       "      <td>1.035845</td>\n",
       "      <td>0.931758</td>\n",
       "      <td>7.501082</td>\n",
       "      <td>0.984051</td>\n",
       "    </tr>\n",
       "    <tr>\n",
       "      <th>1534</th>\n",
       "      <td>1835</td>\n",
       "      <td>Italy</td>\n",
       "      <td>23.200</td>\n",
       "      <td>20447.861194</td>\n",
       "      <td>18286.989537</td>\n",
       "      <td>22727.281795</td>\n",
       "      <td>1029.5</td>\n",
       "      <td>44.217855</td>\n",
       "      <td>785.929687</td>\n",
       "      <td>878.615444</td>\n",
       "      <td>...</td>\n",
       "      <td>6.937799</td>\n",
       "      <td>3.811492</td>\n",
       "      <td>9.925682</td>\n",
       "      <td>6.779485</td>\n",
       "      <td>0.997833</td>\n",
       "      <td>0.871407</td>\n",
       "      <td>1.047832</td>\n",
       "      <td>0.994203</td>\n",
       "      <td>7.968666</td>\n",
       "      <td>1.045392</td>\n",
       "    </tr>\n",
       "  </tbody>\n",
       "</table>\n",
       "<p>5 rows × 26 columns</p>\n",
       "</div>"
      ],
      "text/plain": [
       "      year     region_name  population_interpolated         N_est  \\\n",
       "3190  1803  United Kingdom                   11.365   9746.335452   \n",
       "41    1800   Chinese world                  325.000    657.855132   \n",
       "998   1838          France                   34.320  17195.116179   \n",
       "980   1820          France                   31.800  18252.829725   \n",
       "1534  1835           Italy                   23.200  20447.861194   \n",
       "\n",
       "             lower         upper   score   score_cap   lower_cap   N_est_cap  \\\n",
       "3190   9283.649128  10220.468188  1323.5  117.310429  822.754222  863.817566   \n",
       "41      528.467723    799.458822    66.0    0.203077    1.626055    2.024170   \n",
       "998   16271.253377  18123.863279  2258.2   65.720976  473.576968  500.436288   \n",
       "980   17528.458927  19000.969313  2440.0   76.729560  551.209400  573.988356   \n",
       "1534  18286.989537  22727.281795  1029.5   44.217855  785.929687  878.615444   \n",
       "\n",
       "      ...  score_log  score_cap_log  N_est_log  N_est_cap_log  score_log_std  \\\n",
       "3190  ...   7.188790       4.773312   9.184749       6.762519       1.033932   \n",
       "41    ...   4.204693       0.184882   6.490504       1.106637       0.604742   \n",
       "998   ...   7.722766       4.200519   9.752439       6.217477       1.110732   \n",
       "980   ...   7.800163       4.353236   9.812130       6.354350       1.121863   \n",
       "1534  ...   6.937799       3.811492   9.925682       6.779485       0.997833   \n",
       "\n",
       "      score_cap_log_std  N_est_log_std  N_est_cap_log_std   log_gdp  \\\n",
       "3190           1.095793       0.969614           0.991711  8.087333   \n",
       "41            -0.366620       0.685188           0.103428  6.831954   \n",
       "998            0.962544       1.029543           0.911645  7.701652   \n",
       "980            0.998160       1.035845           0.931758  7.501082   \n",
       "1534           0.871407       1.047832           0.994203  7.968666   \n",
       "\n",
       "      log_gdp_std  \n",
       "3190     1.060960  \n",
       "41       0.896269  \n",
       "998      1.010363  \n",
       "980      0.984051  \n",
       "1534     1.045392  \n",
       "\n",
       "[5 rows x 26 columns]"
      ]
     },
     "execution_count": 10,
     "metadata": {},
     "output_type": "execute_result"
    }
   ],
   "source": [
    "# Apply normalization\n",
    "\n",
    "df[\"century\"] = df[\"year\"].round(-2)\n",
    "df[\"score_log\"] = np.log(1 + df[\"score\"])\n",
    "df[\"score_cap_log\"] = np.log(1 + df[\"score_cap\"])\n",
    "df[\"N_est_log\"] = np.log(1 + df[\"N_est\"])\n",
    "df[\"N_est_cap_log\"] = np.log(1 + df[\"N_est_cap\"])\n",
    "df[\"score_log_std\"] = df[\"score_log\"] / df[\"score_log\"].mean()\n",
    "df[\"score_cap_log_std\"] = np.log(df[\"score_cap\"]) / df[\"score_cap_log\"].mean()\n",
    "df[\"N_est_log_std\"] = df[\"N_est_log\"] / df[\"N_est_log\"].mean()\n",
    "df[\"N_est_cap_log_std\"] = np.log(df[\"N_est_cap\"]) / df[\"N_est_cap_log\"].mean()\n",
    "df[\"log_gdp\"] = np.log(1 + df[\"gdp_per_capita\"])\n",
    "df[\"log_gdp_std\"] = df[\"log_gdp\"] / df[\"log_gdp\"].mean()\n",
    "df.sample(5)"
   ]
  },
  {
   "cell_type": "markdown",
   "id": "069672e9",
   "metadata": {},
   "source": [
    "The distribution of the logged GDP values is clearly trimodal:"
   ]
  },
  {
   "cell_type": "code",
   "execution_count": 11,
   "id": "ba2ccd3c",
   "metadata": {},
   "outputs": [
    {
     "data": {
      "image/png": "[encoded data removed]",
      "text/plain": [
       "<Figure size 640x480 with 1 Axes>"
      ]
     },
     "metadata": {},
     "output_type": "display_data"
    }
   ],
   "source": [
    "import matplotlib.pyplot as plt\n",
    "\n",
    "plt.hist(df[\"log_gdp\"].values, histtype=\"step\", color=\"k\", bins=\"fd\");"
   ]
  },
  {
   "cell_type": "markdown",
   "id": "8220403d",
   "metadata": {},
   "source": [
    "We observe an intriguing trimodal structure. It was suggested by Charles that this might be due to \"the fact that the Maddison data always tend to have an estimation for a region at date year=1 and then jump up to over year=1000\". Filtering these instances, doesn't seem to alter the trimodal structure, however:"
   ]
  },
  {
   "cell_type": "code",
   "execution_count": 12,
   "id": "f3b68998",
   "metadata": {},
   "outputs": [
    {
     "data": {
      "image/png": "[encoded data removed]",
      "text/plain": [
       "<Figure size 640x480 with 1 Axes>"
      ]
     },
     "metadata": {},
     "output_type": "display_data"
    }
   ],
   "source": [
    "plt.hist(df.loc[df[\"year\"] >= 1000, \"log_gdp\"].values, histtype=\"step\", color=\"k\", bins=\"fd\");"
   ]
  },
  {
   "cell_type": "markdown",
   "id": "878c67e6",
   "metadata": {},
   "source": [
    "The trimodality of the data is somewhat hidden when plotting against the unnormalized score and bias-corrected score. However, after log transformation, the structure becomes visible again:"
   ]
  },
  {
   "cell_type": "code",
   "execution_count": 13,
   "id": "ee631082",
   "metadata": {},
   "outputs": [
    {
     "data": {
      "image/png": "[encoded data removed]",
      "text/plain": [
       "<Figure size 800x600 with 4 Axes>"
      ]
     },
     "metadata": {},
     "output_type": "display_data"
    }
   ],
   "source": [
    "fig, axes = plt.subplots(ncols=2, nrows=2, figsize=(8, 6), constrained_layout=True)\n",
    "axes = axes.flatten()\n",
    "\n",
    "axes[0].scatter(df[\"score\"], df[\"gdp_per_capita\"], alpha=0.1, color=\"k\")\n",
    "axes[0].set_title(\"unnormalized score\")\n",
    "\n",
    "axes[1].scatter(df[\"N_est\"], df[\"gdp_per_capita\"], alpha=0.1, color=\"k\")\n",
    "axes[1].set_title(\"unnormalized N_est\")\n",
    "\n",
    "axes[2].scatter(df[\"score_log\"], df[\"gdp_per_capita\"], alpha=0.1, color=\"k\")\n",
    "axes[2].set_title(\"logged score\")\n",
    "\n",
    "axes[3].scatter(df[\"N_est_log\"], df[\"gdp_per_capita\"], alpha=0.1, color=\"k\")\n",
    "axes[3].set_title(\"logged N_est\");"
   ]
  },
  {
   "cell_type": "markdown",
   "id": "0d363a18",
   "metadata": {},
   "source": [
    "### Varying Slopes for Cultural Production in Different Regions\n",
    "\n",
    "In our previous analysis, we presumed a global, uniform effect of cultural production on GDP per capita. However, upon observing significant discrepancies in the GDP intercepts per region, it's plausible that the relationship's slope between the cultural production score and GDP also varies. To cater to this, we construct a varying slope model with the following specification:\n",
    "\n",
    "\\begin{align*}\n",
    "\\log(\\text{GDP}_i) & \\sim \\text{Normal}(\\mu_i, \\sigma) \\\\\n",
    "\\mu_i & = \\alpha + \\alpha_{\\text{region}[i]} + (\\beta + \\beta_{\\text{region}[i]}) x_i \\\\\n",
    "\\alpha_\\text{region} & \\sim \\text{Normal}(0, \\sigma_{\\alpha}) \\\\\n",
    "\\beta_\\text{region} & \\sim \\text{Normal}(0, \\sigma_{\\beta}) \\\\\n",
    "\\alpha & \\sim \\text{Normal}(1, 1) \\\\\n",
    "\\beta & \\sim \\text{Normal}(0, 1) \\\\\n",
    "\\sigma_{\\alpha} & \\sim \\text{HalfNormal}(1) \\\\\n",
    "\\sigma_{\\beta} & \\sim \\text{HalfNormal}(1) \\\\\n",
    "\\sigma & \\sim \\text{Exponential}(1)\n",
    "\\end{align*} \n",
    "\n",
    "As daunting as this might seem, it can be implemented relatively straightforward, as shown below. Also note that we could further improve the model by modeling the dependence of the priors on the varying slopes and intercepts. For now we treat them as independent priors, which may not be the most efficient way to do it."
   ]
  },
  {
   "cell_type": "code",
   "execution_count": 14,
   "id": "8b7b05a9-bcc2-41a7-bed2-f41757aa4850",
   "metadata": {
    "tags": []
   },
   "outputs": [],
   "source": [
    "models = {}"
   ]
  },
  {
   "cell_type": "code",
   "execution_count": 15,
   "id": "347b7bcc",
   "metadata": {},
   "outputs": [],
   "source": [
    "priors = {\n",
    "    \"Intercept\": bmb.Prior(\"Normal\", mu=1, sigma=1),\n",
    "    \"common\": bmb.Prior(\"Normal\", mu=0, sigma=1),\n",
    "    \"1|region_name\": bmb.Prior(\"Normal\", mu=0, sigma=bmb.Prior(\"HalfNormal\", sigma=1)),\n",
    "    \"score_log_std|region_name\": bmb.Prior(\"Normal\", mu=0, sigma=bmb.Prior(\"HalfNormal\", sigma=1)),\n",
    "    \"sigma\": bmb.Prior(\"Exponential\", lam=1)\n",
    "}\n",
    "\n",
    "m_score_vs = bmb.Model(\n",
    "    \"log_gdp_std ~ score_log_std + (score_log_std|region_name)\", \n",
    "    df, \n",
    "    family=\"gaussian\", \n",
    "    noncentered=True,\n",
    "    priors=priors\n",
    ")\n"
   ]
  },
  {
   "cell_type": "markdown",
   "id": "04ed9347",
   "metadata": {},
   "source": [
    "The model graph looks as follows:"
   ]
  },
  {
   "cell_type": "markdown",
   "id": "c3675cdd",
   "metadata": {},
   "source": [
    "Despite a considerable surge in the model's complexity, efficient sampling persists, marked by commendable $\\hat{r}$ values and satisfactory effective sample sizes. The model's summary is provided below. A key observation we promptly make is the elimination of the unmistakably positive main, global effect of the cultural production score. Instead, it intersects 0 within the 97% confidence intervals, suggesting the effect is not solely positive. We'll elaborate on this further in the ensuing section."
   ]
  },
  {
   "cell_type": "code",
   "execution_count": null,
   "id": "5d858744-8065-42a6-9888-53f266420522",
   "metadata": {},
   "outputs": [
    {
     "name": "stderr",
     "output_type": "stream",
     "text": [
      "Auto-assigning NUTS sampler...\n",
      "Initializing NUTS using jitter+adapt_diag...\n",
      "Multiprocess sampling (4 chains in 4 jobs)\n",
      "NUTS: [log_gdp_std_sigma, Intercept, score_log_std, 1|region_name_sigma, 1|region_name_offset, score_log_std|region_name_sigma, score_log_std|region_name_offset]\n"
     ]
    },
    {
     "data": {
      "text/html": [
       "\n",
       "<style>\n",
       "    /* Turns off some styling */\n",
       "    progress {\n",
       "        /* gets rid of default border in Firefox and Opera. */\n",
       "        border: none;\n",
       "        /* Needs to be in here for Safari polyfill so background images work as expected. */\n",
       "        background-size: auto;\n",
       "    }\n",
       "    progress:not([value]), progress:not([value])::-webkit-progress-bar {\n",
       "        background: repeating-linear-gradient(45deg, #7e7e7e, #7e7e7e 10px, #5c5c5c 10px, #5c5c5c 20px);\n",
       "    }\n",
       "    .progress-bar-interrupted, .progress-bar-interrupted::-webkit-progress-bar {\n",
       "        background: #F44336;\n",
       "    }\n",
       "</style>\n"
      ],
      "text/plain": [
       "<IPython.core.display.HTML object>"
      ]
     },
     "metadata": {},
     "output_type": "display_data"
    },
    {
     "data": {
      "text/html": [
       "\n",
       "    <div>\n",
       "      <progress value='3759' class='' max='12000' style='width:300px; height:20px; vertical-align: middle;'></progress>\n",
       "      31.32% [3759/12000 01:09&lt;02:32 Sampling 4 chains, 0 divergences]\n",
       "    </div>\n",
       "    "
      ],
      "text/plain": [
       "<IPython.core.display.HTML object>"
      ]
     },
     "metadata": {},
     "output_type": "display_data"
    }
   ],
   "source": [
    "m_score_vs_fit = m_score_vs.fit(\n",
    "    draws=2000, \n",
    "    chains=4, \n",
    "    target_accept=0.9,\n",
    "    idata_kwargs={\"log_likelihood\": True})"
   ]
  },
  {
   "cell_type": "code",
   "execution_count": null,
   "id": "549b57cd-8ce1-45b8-82e3-d8e143a0291e",
   "metadata": {},
   "outputs": [],
   "source": [
    "models[\"log_gdp_std ~ score_log_std + (score_log_std|region_name)\"] = m_score_vs_fit\n",
    "az.summary(m_score_vs_fit)"
   ]
  },
  {
   "cell_type": "markdown",
   "id": "7b6c1b55",
   "metadata": {},
   "source": [
    "Echoing our previous approach, we conduct a posterior predictive check and find that the model aligns with the data far more effectively. The difference with the simpler models is really remarkable:"
   ]
  },
  {
   "cell_type": "code",
   "execution_count": null,
   "id": "3098f1cc",
   "metadata": {},
   "outputs": [],
   "source": [
    "m_score_vs.predict(m_score_vs_fit, kind=\"pps\")\n",
    "az.plot_ppc(m_score_vs_fit);"
   ]
  },
  {
   "cell_type": "markdown",
   "id": "8f0a74ea",
   "metadata": {},
   "source": [
    "The superior model fit becomes palpably apparent when we map the posterior predictions against the observations per region. In most instances, the varying slopes seem to align seamlessly with the data. A vital insight garnered from this plot is that the relationship between GDP and cultural production isn't universally positive across all regions. A pronounced positive correlation between the two variables is noticeable for the Low Countries, the United Kingdom, Japan, and to a slightly lesser degree, Spain. Conversely, the relationship appears inverted for the Chinese World, Eastern Europe, Italy, and the Arabic World. Portugal, France, and Central Europe do not appear to exhibit a distinct relationship, neither positive nor negative."
   ]
  },
  {
   "cell_type": "code",
   "execution_count": null,
   "id": "433fce03-6e51-4536-be84-d23b9da21bd6",
   "metadata": {
    "tags": []
   },
   "outputs": [],
   "source": [
    "import xarray as xr\n"
   ]
  },
  {
   "cell_type": "code",
   "execution_count": null,
   "id": "2efc54c5",
   "metadata": {},
   "outputs": [],
   "source": [
    "fig, axes = plt.subplots(ncols=5, nrows=2, figsize=(12, 5), constrained_layout=True)\n",
    "axes = axes.flatten()\n",
    "\n",
    "for i, region_name in enumerate(df[\"region_name\"].unique()):\n",
    "\n",
    "    data_0 = df[df[\"region_name\"] == region_name]\n",
    "\n",
    "    posterior = az.extract(m_score_vs_fit)\n",
    "    intercept_common = posterior[\"Intercept\"]\n",
    "    slope_common = posterior[\"score_log_std\"]\n",
    "    score = np.array([0, 2])\n",
    "\n",
    "    intercept_specific_0 = posterior[\"1|region_name\"].sel(region_name__factor_dim=region_name)\n",
    "    slope_specific_0 = posterior[\"score_log_std|region_name\"].sel(region_name__factor_dim=region_name)\n",
    "    a = (intercept_common + intercept_specific_0)\n",
    "    b = (slope_common + slope_specific_0)\n",
    "\n",
    "    score_xi = xr.DataArray(score)\n",
    "    axes[i].plot(score_xi, (a + b * score_xi).T, color=\"C1\", alpha=0.2, lw=0.1)\n",
    "    axes[i].plot(score_xi, a.mean() + b.mean() * score_xi, color=\"black\")\n",
    "    axes[i].scatter(data_0[\"score_log_std\"], data_0[\"log_gdp_std\"], zorder=2, s=20, \n",
    "                    facecolors=\"none\", edgecolors='grey')\n",
    "    axes[i].set(ylabel=\"gdp (log, std)\", xlabel=\"score (log std)\", title=region_name)"
   ]
  },
  {
   "cell_type": "markdown",
   "id": "335345bd",
   "metadata": {},
   "source": [
    "The ensuing plot illustrates the mean posterior distribution for each region, facilitating a more discernible understanding of regions that showcase a positive correlation between GDP and cultural production, and those that bear a negative or ambiguous relationship. The plot vividly indicates that some regions maintain a positive association, while others harbor a negative one. Thus, this analysis affirms that the incorporation of varying slopes in our model was justified and introduces valuable nuance to our exploration. **It underlines that we cannot unequivocally assert a positive correlation between cultural production and GDP, as this relationship varies by region.**"
   ]
  },
  {
   "cell_type": "code",
   "execution_count": null,
   "id": "3833b923",
   "metadata": {},
   "outputs": [],
   "source": [
    "from matplotlib.lines import Line2D\n",
    "\n",
    "intercept_group_specific = posterior[\"1|region_name\"]\n",
    "slope_group_specific = posterior[\"score_log_std|region_name\"]\n",
    "\n",
    "a = intercept_common + intercept_group_specific\n",
    "b = slope_common + slope_group_specific\n",
    "\n",
    "score_xi = xr.DataArray(score)\n",
    "\n",
    "fig, ax = plt.subplots()\n",
    "for region in df[\"region_name\"].unique():\n",
    "\n",
    "    a_region = a.sel(region_name__factor_dim=region)\n",
    "    b_region = b.sel(region_name__factor_dim=region)\n",
    "    \n",
    "    Y = (a_region + b_region * score_xi)\n",
    "    Y_mean = Y.mean(axis=0)\n",
    "\n",
    "    color = (\"C0\" if (Y[:, 1].quantile(0.025) > Y[:, 0].quantile(0.975)) else \n",
    "             \"C1\" if (Y[:, 0].quantile(0.025) > Y[:, 1].quantile(0.975)) else \n",
    "             \"grey\")\n",
    "    ax.plot(score_xi, Y_mean, color=color, alpha=0.7, lw=0.8, label=region)\n",
    "    ax.text(\n",
    "        score_xi[-1],\n",
    "        Y_mean[-1],\n",
    "        \" — \" + region,\n",
    "        size=\"small\",\n",
    "        color=color,\n",
    "        ha=\"left\",\n",
    "        va=\"center\",\n",
    "    )\n",
    "    \n",
    "ax.spines[['right', 'top']].set_visible(False)\n",
    "custom_lines = [Line2D([0], [0], color=c, lw=1) for c in (\"C0\", \"C1\", \"grey\")]\n",
    "ax.legend(custom_lines, ['positive relationship', 'negative relationship', 'inconclusive relationship'], \n",
    "           loc=\"upper center\", ncol=4, bbox_to_anchor=(0.5, 1.1), frameon=False)\n",
    "ax.set(ylabel=\"gdp (log, std)\", xlabel=\"score (log std)\");"
   ]
  },
  {
   "cell_type": "markdown",
   "id": "c600c00d",
   "metadata": {
    "tags": []
   },
   "source": [
    "#### Covarying slopes and intercepts\n",
    "\n",
    "To further scrutinize the region-specific slope attributes, we illustrate the covariance between region-specific intercepts and slopes. The hypothesis is the potential correlation between the intercepts and slopes, which may indicate, for instance, an enhanced or diminished GDP increase or decrease corresponding to higher or lower intercepts. The ensuing plot depicts this relationship. Although most regions don't seem to manifest a distinctly pronounced relationship between intercepts and slopes, there are a handful of intriguing cases where interaction is noticeable. For instance, in the German world, the Greek world, and in the Latin world, a negative correlation is observed, implying a decrease in slope as the intercept escalates. Contrarily, regions like the Low Countries, although having an average intercept (hence its position around zero), boast an above-average slope. On the other hand, the Chinese world, despite having an average intercept, showcases a below-average slope."
   ]
  },
  {
   "cell_type": "code",
   "execution_count": null,
   "id": "e2822c2a",
   "metadata": {},
   "outputs": [],
   "source": [
    "import matplotlib\n",
    "\n",
    "regions = df[\"region_name\"].unique()\n",
    "\n",
    "fig, axes = plt.subplots(ncols=5, nrows=2, figsize=(12, 5), sharex=True, sharey=True, constrained_layout=True)\n",
    "\n",
    "# #  extract a subsample from the posterior and stack the chain and draw dims\n",
    "posterior = az.extract(m_score_vs_fit, num_samples=500)\n",
    "for i, (region, ax) in enumerate(zip(regions, axes.flatten())):\n",
    "    post = posterior.sel(region_name__factor_dim=region)\n",
    "    X = post[\"1|region_name\"].data\n",
    "    Y = post[\"score_log_std|region_name\"].data\n",
    "    ax.scatter(\n",
    "        X, Y,\n",
    "        facecolor=\"C1\", edgecolor=\"none\", alpha=0.2)\n",
    "    ax.set(title=region)\n",
    "\n",
    "    ax.axhline(c=\"0.25\", ls=\"--\")\n",
    "    ax.axvline(c=\"0.25\", ls=\"--\")\n",
    "    \n",
    "fig.supylabel('Region-specific slope')\n",
    "fig.supxlabel('Region-specific intercept');\n",
    "plt.savefig(\"covariance-plot.pdf\")"
   ]
  },
  {
   "cell_type": "markdown",
   "id": "bcfb27be",
   "metadata": {},
   "source": [
    "Below, I repeat the analysis, again swapping cultural production for the bias-corrected score."
   ]
  },
  {
   "cell_type": "code",
   "execution_count": null,
   "id": "0b75c6e9",
   "metadata": {},
   "outputs": [],
   "source": [
    "priors = {\n",
    "    \"Intercept\": bmb.Prior(\"Normal\", mu=1, sigma=1),\n",
    "    \"common\": bmb.Prior(\"Normal\", mu=0, sigma=1),\n",
    "    \"1|region_name\": bmb.Prior(\"Normal\", mu=0, sigma=bmb.Prior(\"HalfNormal\", sigma=1)),\n",
    "    \"N_est_log_std|region_name\": bmb.Prior(\"Normal\", mu=0, sigma=bmb.Prior(\"HalfNormal\", sigma=1)),\n",
    "    \"sigma\": bmb.Prior(\"Exponential\", lam=1)\n",
    "}\n",
    "\n",
    "m_est_vs = bmb.Model(\n",
    "    \"log_gdp_std ~  N_est_log_std + (N_est_log_std|region_name)\", \n",
    "    df, \n",
    "    family=\"gaussian\", \n",
    "    noncentered=True,\n",
    "    priors=priors\n",
    ")\n",
    "m_est_vs"
   ]
  },
  {
   "cell_type": "code",
   "execution_count": null,
   "id": "180cfb4d",
   "metadata": {},
   "outputs": [],
   "source": [
    "m_est_vs_fit = m_est_vs.fit(\n",
    "    draws=2000, \n",
    "    chains=4, \n",
    "    target_accept=0.95,\n",
    "    idata_kwargs={\"log_likelihood\": True})\n",
    "\n",
    "models[\"log_gdp_std ~ N_est_log_std + (N_est_log_std|region_name)\"] = m_est_vs_fit\n",
    "az.summary(m_est_vs_fit)\n",
    "\n",
    "# NB: hitting max_treedepth is not much of a concern, at least not for model validity\n",
    "# For more information about this and other warnings, see https://mc-stan.org/misc/warnings.html\n",
    "# TODO, see if we can improve efficiency"
   ]
  },
  {
   "cell_type": "code",
   "execution_count": null,
   "id": "1f4cdbfe",
   "metadata": {},
   "outputs": [],
   "source": [
    "fig, axes = plt.subplots(ncols=5, nrows=2, figsize=(12, 5), constrained_layout=True)\n",
    "axes = axes.flatten()\n",
    "\n",
    "for i, region_name in enumerate(df[\"region_name\"].unique()):\n",
    "\n",
    "    data_0 = df[df[\"region_name\"] == region_name]\n",
    "\n",
    "    posterior = az.extract(m_est_vs_fit)\n",
    "    intercept_common = posterior[\"Intercept\"]\n",
    "    slope_common = posterior[\"N_est_log_std\"]\n",
    "    score = np.array([0, 2])\n",
    "\n",
    "    intercept_specific_0 = posterior[\"1|region_name\"].sel(region_name__factor_dim=region_name)\n",
    "    slope_specific_0 = posterior[\"N_est_log_std|region_name\"].sel(region_name__factor_dim=region_name)\n",
    "    a = (intercept_common + intercept_specific_0)\n",
    "    b = (slope_common + slope_specific_0)\n",
    "\n",
    "    score_xi = xr.DataArray(score)\n",
    "    axes[i].plot(score_xi, (a + b * score_xi).T, color=\"C1\", alpha=0.2, lw=0.1)\n",
    "    axes[i].plot(score_xi, a.mean() + b.mean() * score_xi, color=\"black\")\n",
    "    axes[i].scatter(data_0[\"N_est_log_std\"], data_0[\"log_gdp_std\"], zorder=2, s=20, \n",
    "                    facecolors=\"none\", edgecolors='grey')\n",
    "    axes[i].set(ylabel=\"gdp (log, std)\", xlabel=\"N_est (log std)\", title=region_name)"
   ]
  },
  {
   "cell_type": "code",
   "execution_count": null,
   "id": "6b7ab68e",
   "metadata": {},
   "outputs": [],
   "source": [
    "from matplotlib.lines import Line2D\n",
    "\n",
    "intercept_group_specific = posterior[\"1|region_name\"]\n",
    "slope_group_specific = posterior[\"N_est_log_std|region_name\"]\n",
    "\n",
    "a = intercept_common + intercept_group_specific\n",
    "b = slope_common + slope_group_specific\n",
    "\n",
    "score_xi = xr.DataArray(score)\n",
    "\n",
    "fig, ax = plt.subplots()\n",
    "for region in df[\"region_name\"].unique():\n",
    "\n",
    "    a_region = a.sel(region_name__factor_dim=region)\n",
    "    b_region = b.sel(region_name__factor_dim=region)\n",
    "    \n",
    "    Y = (a_region + b_region * score_xi)\n",
    "    Y_mean = Y.mean(axis=0)\n",
    "\n",
    "    color = (\"C0\" if (Y[:, 1].quantile(0.025) > Y[:, 0].quantile(0.975)) else \n",
    "             \"C1\" if (Y[:, 0].quantile(0.025) > Y[:, 1].quantile(0.975)) else \n",
    "             \"grey\")\n",
    "    ax.plot(score_xi, Y_mean, color=color, alpha=0.7, lw=0.8, label=region)\n",
    "    ax.text(\n",
    "        score_xi[-1],\n",
    "        Y_mean[-1],\n",
    "        \" — \" + region,\n",
    "        size=\"small\",\n",
    "        color=color,\n",
    "        ha=\"left\",\n",
    "        va=\"center\",\n",
    "    )\n",
    "    \n",
    "ax.spines[['right', 'top']].set_visible(False)\n",
    "custom_lines = [Line2D([0], [0], color=c, lw=1) for c in (\"C0\", \"C1\", \"grey\")]\n",
    "ax.legend(custom_lines, ['positive relationship', 'negative relationship', 'inconclusive relationship'], \n",
    "           loc=\"upper center\", ncol=4, bbox_to_anchor=(0.5, 1.1), frameon=False)\n",
    "ax.set(ylabel=\"gdp (log, std)\", xlabel=\"N_est (log std)\");"
   ]
  },
  {
   "cell_type": "markdown",
   "id": "d77b0768",
   "metadata": {},
   "source": [
    "#### Model comparison\n",
    "\n",
    "Finally, we execute a comparison across all models evaluated thus far. The comparison decisively underscores that incorporating varying slopes dramatically enhances the model fit, considerably outpacing the performance of the other models."
   ]
  },
  {
   "cell_type": "code",
   "execution_count": null,
   "id": "526dd011",
   "metadata": {},
   "outputs": [],
   "source": [
    "waic_compare = az.compare(models, ic='LOO')\n",
    "waic_compare"
   ]
  },
  {
   "cell_type": "code",
   "execution_count": null,
   "id": "7b0cb408",
   "metadata": {},
   "outputs": [],
   "source": [
    "az.plot_compare(waic_compare.loc[waic_compare.index.str.contains(\"region_name\")], insample_dev=True);"
   ]
  },
  {
   "cell_type": "markdown",
   "id": "c3e6a3ab-bfec-4cef-b4f6-58a841000557",
   "metadata": {},
   "source": [
    "## Per Capita"
   ]
  },
  {
   "cell_type": "code",
   "execution_count": null,
   "id": "4e4afd80-dc50-47f2-850e-a35cb6042a39",
   "metadata": {
    "tags": []
   },
   "outputs": [],
   "source": [
    "priors = {\n",
    "    \"Intercept\": bmb.Prior(\"Normal\", mu=1, sigma=1),\n",
    "    \"common\": bmb.Prior(\"Normal\", mu=0, sigma=1),\n",
    "    \"1|region_name\": bmb.Prior(\"Normal\", mu=0, sigma=bmb.Prior(\"HalfNormal\", sigma=1)),\n",
    "    \"score_cap_log_std|region_name\": bmb.Prior(\"Normal\", mu=0, sigma=bmb.Prior(\"HalfNormal\", sigma=1)),\n",
    "    \"sigma\": bmb.Prior(\"Exponential\", lam=1)\n",
    "}\n",
    "\n",
    "score_cap_log_std = bmb.Model(\n",
    "    \"log_gdp_std ~  score_cap_log_std + (score_cap_log_std|region_name)\", \n",
    "    df, \n",
    "    family=\"gaussian\", \n",
    "    noncentered=True,\n",
    "    priors=priors\n",
    ")\n",
    "score_cap_log_std"
   ]
  },
  {
   "cell_type": "code",
   "execution_count": null,
   "id": "c88e573c-f7d6-4532-8f70-abcf91708112",
   "metadata": {
    "tags": []
   },
   "outputs": [],
   "source": [
    "score_cap_log_std_fit = score_cap_log_std.fit(\n",
    "    draws=2000, \n",
    "    chains=4, \n",
    "    target_accept=0.9,\n",
    "    idata_kwargs={\"log_likelihood\": True})"
   ]
  },
  {
   "cell_type": "code",
   "execution_count": null,
   "id": "7edd9ed4-7f23-4072-9793-e919c63d48bc",
   "metadata": {
    "tags": []
   },
   "outputs": [],
   "source": [
    "models[\"log_gdp_std ~  score_cap_log_std + (score_cap_log_std|region_name)\"] = score_cap_log_std_fit"
   ]
  },
  {
   "cell_type": "code",
   "execution_count": null,
   "id": "f66bceb0-ba10-4f84-9973-05084d981d3e",
   "metadata": {
    "tags": []
   },
   "outputs": [],
   "source": [
    "az.summary(score_cap_log_std_fit)"
   ]
  },
  {
   "cell_type": "code",
   "execution_count": null,
   "id": "9e935f84-2c5e-4d70-84fe-465ef73d7bb1",
   "metadata": {
    "tags": []
   },
   "outputs": [],
   "source": [
    "fig, axes = plt.subplots(ncols=6, nrows=1, figsize=(12, 2), constrained_layout=True)\n",
    "axes = axes.flatten()\n",
    "\n",
    "for i, region_name in enumerate(df[\"region_name\"].unique()):\n",
    "\n",
    "    data_0 = df[df[\"region_name\"] == region_name]\n",
    "\n",
    "    posterior = az.extract(score_cap_log_std_fit)\n",
    "    intercept_common = posterior[\"Intercept\"]\n",
    "    slope_common = posterior[\"score_cap_log_std\"]\n",
    "    score = np.array([-1.5, 2])\n",
    "\n",
    "    intercept_specific_0 = posterior[\"1|region_name\"].sel(region_name__factor_dim=region_name)\n",
    "    slope_specific_0 = posterior[\"score_cap_log_std|region_name\"].sel(region_name__factor_dim=region_name)\n",
    "    a = (intercept_common + intercept_specific_0)\n",
    "    b = (slope_common + slope_specific_0)\n",
    "\n",
    "    score_xi = xr.DataArray(score)\n",
    "    axes[i].plot(score_xi, (a + b * score_xi).T, color=\"C1\", alpha=0.2, lw=0.1)\n",
    "    axes[i].plot(score_xi, a.mean() + b.mean() * score_xi, color=\"black\")\n",
    "    axes[i].scatter(data_0[\"score_cap_log_std\"], data_0[\"log_gdp_std\"], zorder=2, s=20, \n",
    "                    facecolors=\"none\", edgecolors='grey')\n",
    "    axes[i].set(ylabel=\"gdp (log, std)\", xlabel=\"N_est per capita (log std)\", title=region_name)"
   ]
  },
  {
   "cell_type": "code",
   "execution_count": null,
   "id": "58ecbfee-03c4-4c31-881d-e50ad0ad6381",
   "metadata": {},
   "outputs": [],
   "source": []
  },
  {
   "cell_type": "code",
   "execution_count": null,
   "id": "44e32ebf-b25a-4930-9c7b-9d412664edca",
   "metadata": {
    "tags": []
   },
   "outputs": [],
   "source": [
    "from matplotlib.lines import Line2D\n",
    "\n",
    "intercept_group_specific = posterior[\"1|region_name\"]\n",
    "slope_group_specific = posterior[\"score_cap_log_std|region_name\"]\n",
    "\n",
    "a = intercept_common + intercept_group_specific\n",
    "b = slope_common + slope_group_specific\n",
    "\n",
    "score_xi = xr.DataArray(score)\n",
    "\n",
    "fig, ax = plt.subplots()\n",
    "for region in df[\"region_name\"].unique():\n",
    "\n",
    "    a_region = a.sel(region_name__factor_dim=region)\n",
    "    b_region = b.sel(region_name__factor_dim=region)\n",
    "    \n",
    "    Y = (a_region + b_region * score_xi)\n",
    "    Y_mean = Y.mean(axis=0)\n",
    "\n",
    "    color = (\"C0\" if (Y[:, 1].quantile(0.025) > Y[:, 0].quantile(0.975)) else \n",
    "             \"C1\" if (Y[:, 0].quantile(0.025) > Y[:, 1].quantile(0.975)) else \n",
    "             \"grey\")\n",
    "    ax.plot(score_xi, Y_mean, color=color, alpha=0.7, lw=0.8, label=region)\n",
    "    ax.text(\n",
    "        score_xi[-1],\n",
    "        Y_mean[-1],\n",
    "        \" — \" + region,\n",
    "        size=\"small\",\n",
    "        color=color,\n",
    "        ha=\"left\",\n",
    "        va=\"center\",\n",
    "    )\n",
    "    \n",
    "ax.spines[['right', 'top']].set_visible(False)\n",
    "custom_lines = [Line2D([0], [0], color=c, lw=1) for c in (\"C0\", \"C1\", \"grey\")]\n",
    "ax.legend(custom_lines, ['positive relationship', 'negative relationship', 'inconclusive relationship'], \n",
    "           loc=\"upper center\", ncol=4, bbox_to_anchor=(0.5, 1.1), frameon=False)\n",
    "ax.set(ylabel=\"gdp (log, std)\", xlabel=\"score_cap_log_std (log std)\");"
   ]
  },
  {
   "cell_type": "code",
   "execution_count": null,
   "id": "a0fb141f-e2fb-479e-8e00-5ceda9c9fa0c",
   "metadata": {},
   "outputs": [],
   "source": []
  },
  {
   "cell_type": "code",
   "execution_count": null,
   "id": "fc702f3b-c88f-4baf-a2b4-a1fcb41d2f1a",
   "metadata": {},
   "outputs": [],
   "source": []
  },
  {
   "cell_type": "code",
   "execution_count": null,
   "id": "28514511-c487-4c94-a2ad-b7718c45bb18",
   "metadata": {},
   "outputs": [],
   "source": []
  },
  {
   "cell_type": "code",
   "execution_count": null,
   "id": "f045c6d0-6c60-4d87-bfce-b48139b22073",
   "metadata": {
    "tags": []
   },
   "outputs": [],
   "source": [
    "priors = {\n",
    "    \"Intercept\": bmb.Prior(\"Normal\", mu=1, sigma=1),\n",
    "    \"common\": bmb.Prior(\"Normal\", mu=0, sigma=1),\n",
    "    \"1|region_name\": bmb.Prior(\"Normal\", mu=0, sigma=bmb.Prior(\"HalfNormal\", sigma=1)),\n",
    "    \"N_est_cap_log_std|region_name\": bmb.Prior(\"Normal\", mu=0, sigma=bmb.Prior(\"HalfNormal\", sigma=1)),\n",
    "    \"sigma\": bmb.Prior(\"Exponential\", lam=1)\n",
    "}\n",
    "\n",
    "N_est_cap_log_std = bmb.Model(\n",
    "    \"log_gdp_std ~  N_est_cap_log_std + (N_est_cap_log_std|region_name)\", \n",
    "    df, \n",
    "    family=\"gaussian\", \n",
    "    noncentered=True,\n",
    "    priors=priors\n",
    ")\n",
    "N_est_cap_log_std_fit = N_est_cap_log_std.fit(\n",
    "    draws=2000, \n",
    "    chains=4, \n",
    "    target_accept=0.9,\n",
    "    idata_kwargs={\"log_likelihood\": True})\n",
    "\n",
    "\n",
    "models[\"log_gdp_std ~  N_est_cap_log_std + (N_est_cap_log_std|region_name)\"] = N_est_cap_log_std_fit\n",
    "az.summary(N_est_cap_log_std_fit)"
   ]
  },
  {
   "cell_type": "markdown",
   "id": "b9aa65ce-1321-4946-9399-fa6ae1e8fa18",
   "metadata": {},
   "source": [
    "#### Plot the slops"
   ]
  },
  {
   "cell_type": "code",
   "execution_count": null,
   "id": "c5bb25a5-8d58-459b-ba17-2f2bd1913eb5",
   "metadata": {
    "tags": []
   },
   "outputs": [],
   "source": []
  },
  {
   "cell_type": "markdown",
   "id": "d0ddc8ba-6a60-4aff-b642-1deaa6049544",
   "metadata": {},
   "source": [
    "#### Compare models"
   ]
  },
  {
   "cell_type": "code",
   "execution_count": null,
   "id": "a2604657-bc2c-42e0-8db5-dfad51385cc3",
   "metadata": {
    "tags": []
   },
   "outputs": [],
   "source": [
    "az.compare(models, ic='LOO')"
   ]
  },
  {
   "cell_type": "code",
   "execution_count": null,
   "id": "05c91c17-7662-420e-aec1-2375e4caaeb7",
   "metadata": {},
   "outputs": [],
   "source": []
  },
  {
   "cell_type": "code",
   "execution_count": null,
   "id": "f927d839-782a-4fcb-bdad-5d6c133d10c4",
   "metadata": {},
   "outputs": [],
   "source": []
  },
  {
   "cell_type": "code",
   "execution_count": null,
   "id": "613719c6-7516-460b-9a9c-87918603113f",
   "metadata": {},
   "outputs": [],
   "source": []
  },
  {
   "cell_type": "code",
   "execution_count": null,
   "id": "33ed759d-2aaf-4e5a-a0fa-47f0d9145a28",
   "metadata": {},
   "outputs": [],
   "source": []
  }
 ],
 "metadata": {
  "kernelspec": {
   "display_name": "Python 3 (ipykernel)",
   "language": "python",
   "name": "python3"
  },
  "language_info": {
   "codemirror_mode": {
    "name": "ipython",
    "version": 3
   },
   "file_extension": ".py",
   "mimetype": "text/x-python",
   "name": "python",
   "nbconvert_exporter": "python",
   "pygments_lexer": "ipython3",
   "version": "3.8.18"
  }
 },
 "nbformat": 4,
 "nbformat_minor": 5
}
