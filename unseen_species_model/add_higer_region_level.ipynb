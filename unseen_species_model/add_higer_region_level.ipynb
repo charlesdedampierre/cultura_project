{
 "cells": [
  {
   "cell_type": "code",
   "execution_count": 1,
   "metadata": {},
   "outputs": [
    {
     "name": "stdout",
     "output_type": "stream",
     "text": [
      "{'Indian world', 'France', 'Chinese world', 'Balkans', 'United Kingdom', 'Central Europe', 'Italy', 'Latin World', 'Nordic countries', 'Slav world', 'Japan', 'Portugal', 'German world', 'Greek World', 'Spain', 'Low countries', 'Arabic world', 'Eastern Europe', 'Persian world', 'Korea'}\n"
     ]
    }
   ],
   "source": [
    "import pandas as pd\n",
    "pd.options.mode.chained_assignment = None\n",
    "\n",
    "data_unseen =pd.read_csv('results/estimations_charles.csv')\n",
    "print(set(data_unseen.region))\n",
    "\n",
    "bigger_reggions = {'Western Europe':['France',\n",
    " 'German world',\n",
    " 'Italy',\n",
    " 'Japan',\n",
    " 'Low countries',\n",
    " 'Nordic countries',\n",
    " 'Portugal',\n",
    " 'Spain',\n",
    " 'United Kingdom'], \n",
    " 'mediterranean World':['Greek World', 'Latin World'], 'Muslim world':['Arabic world', 'Persian world']}"
   ]
  },
  {
   "cell_type": "code",
   "execution_count": 2,
   "metadata": {},
   "outputs": [],
   "source": [
    "final = []\n",
    "\n",
    "for region in list(bigger_reggions.keys()):\n",
    "\n",
    "    data_bigger = data_unseen.copy()\n",
    "    data_bigger['region'][data_bigger['region'].isin(bigger_reggions[region])] = region\n",
    "    data_bigger = data_bigger[data_bigger['region']==region]\n",
    "    data_bigger = data_bigger.groupby(['region', 'decade']).sum().reset_index()\n",
    "    final.append(data_bigger)\n",
    "\n",
    "df_final = pd.concat([x for x in final])\n",
    "final_unseen = pd.concat([data_unseen, df_final])\n",
    "final_unseen.to_csv('results/estimations_charles_big_regions.csv')"
   ]
  }
 ],
 "metadata": {
  "kernelspec": {
   "display_name": "bunka",
   "language": "python",
   "name": "bunka"
  },
  "language_info": {
   "codemirror_mode": {
    "name": "ipython",
    "version": 3
   },
   "file_extension": ".py",
   "mimetype": "text/x-python",
   "name": "python",
   "nbconvert_exporter": "python",
   "pygments_lexer": "ipython3",
   "version": "3.9.7"
  }
 },
 "nbformat": 4,
 "nbformat_minor": 2
}
