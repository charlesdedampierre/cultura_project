{
 "cells": [
  {
   "cell_type": "code",
   "execution_count": 62,
   "metadata": {},
   "outputs": [
    {
     "data": {
      "text/plain": [
       "1810"
      ]
     },
     "execution_count": 62,
     "metadata": {},
     "output_type": "execute_result"
    }
   ],
   "source": [
    "import pandas as pd\n",
    "import bambi as bmb\n",
    "import arviz as az\n",
    "import numpy as np\n",
    "import matplotlib.pyplot as plt\n",
    "\n",
    "df = pd.read_csv(\"data/df_indi_works_occupations.csv\", index_col=0)\n"
   ]
  },
  {
   "cell_type": "code",
   "execution_count": null,
   "metadata": {},
   "outputs": [],
   "source": [
    "\n",
    "\n",
    "regions = pd.read_csv('data/ENS - Cultural Index - Countries Databases - region_level.csv')\n",
    "regions['region_name'][regions['region_name']=='Slav world'] = 'East Slavic'\n",
    "\n",
    "regions = regions[regions['level'] == 2]\n",
    "regions = set(regions['region_name'])\n",
    "df = df[df['region_name'].isin(regions)]\n",
    "\n",
    "df[\"century\"] = df[\"decade\"].round(-2)\n",
    "df = df[~((df[\"region_name\"] == \"Italy\") & (df[\"decade\"] < 500))]\n",
    "#df = df[df['decade']>=1800]\n",
    "\n",
    "\n",
    "df['count'] = df['count_works']\n",
    "df_m = df.copy()\n",
    "df_m = df_m[df_m['count'].isin({0, 1, 2})] # Not more ?\n",
    "df_m['y'] = df_m['count'].map({0: 0, 1: 0, 2: 1})\n",
    "\n",
    "# about 6% of women compared to men\n",
    "df_m = df_m[df_m['decade']<=1880]\n",
    "\n",
    "# knots\n",
    "num_knots = 5\n",
    "knots = np.linspace(df[\"century\"].min(), df[\"century\"].max(), num_knots)\n",
    "iknots = knots[1:-1]\n",
    "\n",
    "sample = df_m.copy()\n",
    "#sample = sample.sample(1000, random_state=42)\n",
    "sample = sample.drop('occupation', axis=1).drop_duplicates()\n",
    "sample = sample.sample(1000, random_state=42)"
   ]
  },
  {
   "cell_type": "code",
   "execution_count": null,
   "metadata": {},
   "outputs": [],
   "source": []
  },
  {
   "cell_type": "code",
   "execution_count": 8,
   "metadata": {},
   "outputs": [
    {
     "name": "stderr",
     "output_type": "stream",
     "text": [
      "Modeling the probability that y==1\n",
      "Compiling...\n",
      "2024-03-07 16:48:49.536040: W external/xla/xla/service/gpu/nvptx_compiler.cc:742] The NVIDIA driver's CUDA version is 12.2 which is older than the ptxas CUDA version (12.3.107). Because the driver is older than the ptxas version, XLA is disabling parallel compilation, which may slow down compilation. You should update your NVIDIA driver or use the NVIDIA-provided CUDA forward compatibility packages.\n",
      "/home/charles/.venv/lib/python3.10/site-packages/pymc/sampling/jax.py:687: UserWarning: There are not enough devices to run parallel chains: expected 4 but got 1. Chains will be drawn sequentially. If you are running MCMC in CPU, consider using `numpyro.set_host_device_count(4)` at the beginning of your program. You can double-check how many devices are available in your system using `jax.local_device_count()`.\n",
      "  pmap_numpyro = MCMC(\n",
      "Compilation time = 0:00:03.177906\n",
      "Sampling...\n",
      "sample: 100%|██████████| 2000/2000 [00:26<00:00, 76.49it/s, 31 steps of size 1.27e-01. acc. prob=0.94]\n",
      "sample: 100%|██████████| 2000/2000 [00:24<00:00, 82.66it/s, 31 steps of size 1.55e-01. acc. prob=0.92]\n",
      "sample: 100%|██████████| 2000/2000 [00:22<00:00, 88.17it/s, 31 steps of size 1.50e-01. acc. prob=0.92] \n",
      "sample: 100%|██████████| 2000/2000 [00:22<00:00, 89.72it/s, 31 steps of size 1.67e-01. acc. prob=0.91] \n",
      "Sampling time = 0:01:39.993773\n",
      "Transforming variables...\n",
      "Transformation time = 0:00:00.349087\n",
      "Computing Log Likelihood...\n",
      "Log Likelihood time = 0:00:00.405922\n"
     ]
    }
   ],
   "source": [
    "# SECOND MODEL\n",
    "priors_base_model = {\n",
    "    \"Intercept\": bmb.Prior(\"Normal\", mu=0, sigma=5),\n",
    "    \"common\": bmb.Prior(\"Normal\", mu=0, sigma=5),\n",
    "    \"1|region_name\": bmb.Prior(\"Normal\", mu=0, sigma=bmb.Prior(\"HalfNormal\", sigma=5))\n",
    "}\n",
    "\n",
    "base_model = bmb.Model(\n",
    "    'y ~ bs(decade, knots=iknots, intercept=True) + (1|region_name)', \n",
    "    sample[['decade','region_name', 'y']], \n",
    "    family='bernoulli', \n",
    "    priors=priors_base_model)\n",
    "\n",
    "base_model_fitted = base_model.fit(\n",
    "    draws=1000, chains=4, inference_method='nuts_numpyro',idata_kwargs={\"log_likelihood\": True}\n",
    "\n",
    ")  # important to run faster and sample more efficiently\n"
   ]
  },
  {
   "cell_type": "code",
   "execution_count": null,
   "metadata": {},
   "outputs": [],
   "source": [
    "# get the real number of indiviudals"
   ]
  },
  {
   "cell_type": "code",
   "execution_count": 20,
   "metadata": {},
   "outputs": [
    {
     "data": {
      "text/plain": [
       "['France',\n",
       " 'Italy',\n",
       " 'Low countries',\n",
       " 'Nordic countries',\n",
       " 'Eastern Europe',\n",
       " 'United Kingdom']"
      ]
     },
     "execution_count": 20,
     "metadata": {},
     "output_type": "execute_result"
    }
   ],
   "source": [
    "list(set(df.region_name))"
   ]
  },
  {
   "cell_type": "code",
   "execution_count": 56,
   "metadata": {},
   "outputs": [
    {
     "data": {
      "text/plain": [
       "[1860, 1830, 1870, 1840, 1810, 1880, 1850, 1820]"
      ]
     },
     "execution_count": 56,
     "metadata": {},
     "output_type": "execute_result"
    }
   ],
   "source": []
  },
  {
   "cell_type": "code",
   "execution_count": 53,
   "metadata": {},
   "outputs": [],
   "source": [
    "region ='France'\n",
    "new_data = {}\n",
    "\n",
    "data = df[df[\"region_name\"] == region]\n",
    "new_data[\"decade\"] = data[\"decade\"].values \n",
    "new_data[\"region_name\"] = [region] * len(data[\"decade\"].values)\n",
    "new_data = pd.DataFrame(new_data)\n",
    "base_model.predict(base_model_fitted, data=new_data)"
   ]
  },
  {
   "cell_type": "code",
   "execution_count": 52,
   "metadata": {},
   "outputs": [],
   "source": []
  },
  {
   "cell_type": "code",
   "execution_count": 42,
   "metadata": {},
   "outputs": [
    {
     "ename": "NameError",
     "evalue": "name 'obs_data' is not defined",
     "output_type": "error",
     "traceback": [
      "\u001b[0;31m---------------------------------------------------------------------------\u001b[0m",
      "\u001b[0;31mNameError\u001b[0m                                 Traceback (most recent call last)",
      "Cell \u001b[0;32mIn[42], line 1\u001b[0m\n\u001b[0;32m----> 1\u001b[0m \u001b[43mobs_data\u001b[49m\n",
      "\u001b[0;31mNameError\u001b[0m: name 'obs_data' is not defined"
     ]
    }
   ],
   "source": []
  },
  {
   "cell_type": "code",
   "execution_count": 41,
   "metadata": {},
   "outputs": [
    {
     "ename": "NameError",
     "evalue": "name 'plot_knots' is not defined",
     "output_type": "error",
     "traceback": [
      "\u001b[0;31m---------------------------------------------------------------------------\u001b[0m",
      "\u001b[0;31mNameError\u001b[0m                                 Traceback (most recent call last)",
      "Cell \u001b[0;32mIn[41], line 1\u001b[0m\n\u001b[0;32m----> 1\u001b[0m \u001b[43mplot_estimations\u001b[49m\u001b[43m(\u001b[49m\u001b[43msample\u001b[49m\u001b[43m,\u001b[49m\u001b[43m \u001b[49m\u001b[43msample\u001b[49m\u001b[43m,\u001b[49m\u001b[43m \u001b[49m\u001b[43mbase_model_fitted\u001b[49m\u001b[43m,\u001b[49m\u001b[43m \u001b[49m\u001b[43mbase_model\u001b[49m\u001b[43m,\u001b[49m\u001b[43m \u001b[49m\u001b[43mregion\u001b[49m\u001b[43m \u001b[49m\u001b[38;5;241;43m=\u001b[39;49m\u001b[43m \u001b[49m\u001b[38;5;124;43m'\u001b[39;49m\u001b[38;5;124;43mFrance\u001b[39;49m\u001b[38;5;124;43m'\u001b[39;49m\u001b[43m)\u001b[49m\n",
      "Cell \u001b[0;32mIn[39], line 50\u001b[0m, in \u001b[0;36mplot_estimations\u001b[0;34m(data, obs_data, idata, model, region, ax, logy, plot_knot_lines, color)\u001b[0m\n\u001b[1;32m     48\u001b[0m \u001b[38;5;66;03m# Add knots\u001b[39;00m\n\u001b[1;32m     49\u001b[0m \u001b[38;5;28;01mif\u001b[39;00m plot_knot_lines:\n\u001b[0;32m---> 50\u001b[0m     \u001b[43mplot_knots\u001b[49m(knots, ax)\n\u001b[1;32m     51\u001b[0m ax\u001b[38;5;241m.\u001b[39mset(xlabel\u001b[38;5;241m=\u001b[39m\u001b[38;5;124m\"\u001b[39m\u001b[38;5;124mtime\u001b[39m\u001b[38;5;124m\"\u001b[39m, ylabel\u001b[38;5;241m=\u001b[39m\u001b[38;5;124m\"\u001b[39m\u001b[38;5;124mEstimated diversity\u001b[39m\u001b[38;5;124m\"\u001b[39m)\n\u001b[1;32m     52\u001b[0m \u001b[38;5;28;01mif\u001b[39;00m logy:\n",
      "\u001b[0;31mNameError\u001b[0m: name 'plot_knots' is not defined"
     ]
    },
    {
     "data": {
      "image/png": "[encoded data removed]",
      "text/plain": [
       "<Figure size 640x480 with 1 Axes>"
      ]
     },
     "metadata": {},
     "output_type": "display_data"
    }
   ],
   "source": [
    "plot_estimations(sample, sample, base_model_fitted, base_model, region = 'France')"
   ]
  },
  {
   "cell_type": "code",
   "execution_count": 39,
   "metadata": {},
   "outputs": [],
   "source": [
    "def plot_estimations(data, obs_data, idata, model, region=None, ax=None, logy=False, \n",
    "                     plot_knot_lines=True, color=\"C0\"):\n",
    "    if ax is None:\n",
    "        fig, ax = plt.subplots()\n",
    "    \n",
    "    new_data = {}\n",
    "    data = data[data[\"region_name\"] == region]\n",
    "    obs_data = obs_data[obs_data[\"region_name\"] == region]   \n",
    "    \n",
    "    new_data[\"decade\"] = data[\"decade\"].values \n",
    "    new_data[\"region_name\"] = [region] * len(data[\"decade\"].values)\n",
    "    \n",
    "    new_data = pd.DataFrame(new_data)\n",
    "    \n",
    "    model.predict(idata, data=new_data)\n",
    "\n",
    "    posterior_stacked = az.extract(idata)\n",
    "    # Extract these predictions\n",
    "    p = posterior_stacked[\"y_mean\"].values\n",
    "    l = (2 * p) / (1 - p)\n",
    "    f0 = (1 / (l + (l**2) / 2))\n",
    "\n",
    "    decades = np.array(sorted(data[\"decade\"].unique()))\n",
    "    \n",
    "    N_est = np.zeros((len(decades), f0.shape[1]))\n",
    "    unseen = np.zeros((len(decades), f0.shape[1]))\n",
    "    \n",
    "    for i, decade in enumerate(decades):\n",
    "        n_obs_di = data.loc[data[\"decade\"] == decade, \"individual_wikidata_id\"].nunique()\n",
    "        mask = (new_data[\"decade\"] == decade).astype(int).values[:, None]\n",
    "        f0_di = (f0 * mask).sum(0)\n",
    "        S_di = n_obs_di + f0_di\n",
    "        N_est[i] = S_di\n",
    "        unseen[i] = f0_di\n",
    "\n",
    "    # Compute 94% credible intervals for the predictions, plotted as bands\n",
    "    hdi_data = np.quantile(N_est, [0.11, 0.89], axis=1)\n",
    "\n",
    "    # Plot predicted line\n",
    "    ax.plot(decades, N_est.mean(1), color=color, label=region)\n",
    "    \n",
    "    df[df[\"region_name\"] == region].groupby(\"decade\")[\"individual_wikidata_id\"].count().plot(\n",
    "        ax=ax, ls=\"--\", color=\"red\")\n",
    "    \n",
    "    # Plot credibility bands\n",
    "    ax.fill_between(decades, hdi_data[0], hdi_data[1], alpha=0.4, color=color)\n",
    "\n",
    "    # Add knots\n",
    "    if plot_knot_lines:\n",
    "        plot_knots(knots, ax)\n",
    "    ax.set(xlabel=\"time\", ylabel=\"Estimated diversity\")\n",
    "    if logy:\n",
    "        ax.set_yscale(\"log\")\n",
    "    \n",
    "    return unseen, N_est, hdi_data, decades\n"
   ]
  },
  {
   "cell_type": "code",
   "execution_count": null,
   "metadata": {},
   "outputs": [],
   "source": [
    "\n",
    "\n",
    "models['base-model'] = base_model_fitted\n",
    "az.waic(models['base-model'])\n",
    "\n"
   ]
  },
  {
   "cell_type": "code",
   "execution_count": null,
   "metadata": {},
   "outputs": [],
   "source": [
    "\n",
    "models = {}\n",
    "\n",
    "priors = {\n",
    "    \"Intercept\": bmb.Prior(\"Normal\", mu=0, sigma=5),\n",
    "    \"common\": bmb.Prior(\"Normal\", mu=0, sigma=5),\n",
    "    \"1|region_name\": bmb.Prior(\"Normal\", mu=0, sigma=bmb.Prior(\"HalfNormal\", sigma=5))}\n",
    "\n",
    "occupation_model = bmb.Model(\n",
    "    'y ~ bs(decade, knots=iknots, intercept=True) + occupation + (1|region_name)', \n",
    "    sample[['decade','region_name', 'occupation', 'y']], \n",
    "    family='bernoulli', \n",
    "    priors=priors)\n",
    "\n",
    "occupation_model_fitted = occupation_model.fit(\n",
    "    draws=1000, chains=4, inference_method='nuts_numpyro',idata_kwargs={\"log_likelihood\": True}\n",
    "\n",
    ")  # important to run faster and sample more efficiently\n",
    "\n",
    "models['occupation-model'] = occupation_model_fitted\n",
    "az.waic(models['occupation-model'])\n",
    "\n",
    "forest_plot = az.plot_forest(\n",
    "    data=occupation_model_fitted, \n",
    "    figsize=(6, 4), \n",
    "    var_names=[\"occupation\"], \n",
    "    r_hat=True, \n",
    "    combined=True, \n",
    "    textsize=8,\n",
    "    ess=True\n",
    ")\n",
    "\n",
    "fig = forest_plot[0].get_figure()\n",
    "fig.set_size_inches(8, 4)  # Adjust size as needed\n",
    "fig.tight_layout()\n",
    "\n",
    "fig.savefig('results/occupation/forest_plot.png')\n",
    "\n",
    "\n",
    "\n",
    "\n",
    "# Comparison\n",
    "waic_compare = az.compare(models, ic='LOO')\n",
    "az.plot_compare(waic_compare, insample_dev=True)\n",
    "\n",
    "waic_compare.to_csv('results/occupation/model_comparison.csv')\n",
    "\n",
    "compare_plot = az.plot_compare(waic_compare, insample_dev=True)\n",
    "fig = compare_plot.get_figure()\n",
    "fig.set_size_inches(8, 4)  # Adjust size as needed\n",
    "fig.tight_layout()\n",
    "\n",
    "fig.savefig('results/occupation/compare_plot.png')\n",
    "\n",
    "\n",
    "list_summaries = []\n",
    "\n",
    "for key, item in models.items():\n",
    "    res = az.summary(item)\n",
    "    res['model'] = key\n",
    "    list_summaries.append(res)\n",
    "\n",
    "\n",
    "\n",
    "from datetime import datetime\n",
    "df_summaries = pd.concat([x for x in list_summaries])\n",
    "# Add a column with the current time\n",
    "current_time = datetime.now().strftime('%Y-%m-%d %H:%M:%S')\n",
    "df_summaries['time'] = current_time\n",
    "df_summaries.to_csv('results/occupation/model_results.csv')"
   ]
  }
 ],
 "metadata": {
  "kernelspec": {
   "display_name": ".venv",
   "language": "python",
   "name": "python3"
  },
  "language_info": {
   "codemirror_mode": {
    "name": "ipython",
    "version": 3
   },
   "file_extension": ".py",
   "mimetype": "text/x-python",
   "name": "python",
   "nbconvert_exporter": "python",
   "pygments_lexer": "ipython3",
   "version": "3.10.12"
  }
 },
 "nbformat": 4,
 "nbformat_minor": 2
}
