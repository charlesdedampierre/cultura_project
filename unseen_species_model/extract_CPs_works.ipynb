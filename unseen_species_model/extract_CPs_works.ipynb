{
   "cells": [
      {
         "cell_type": "code",
         "execution_count": 1,
         "metadata": {},
         "outputs": [
            {
               "name": "stderr",
               "output_type": "stream",
               "text": [
                  "/Users/charlesdedampierre/opt/anaconda3/lib/python3.9/site-packages/pandas/core/computation/expressions.py:21: UserWarning: Pandas requires version '2.8.4' or newer of 'numexpr' (version '2.7.3' currently installed).\n",
                  "  from pandas.core.computation.check import NUMEXPR_INSTALLED\n",
                  "/Users/charlesdedampierre/opt/anaconda3/lib/python3.9/site-packages/pandas/core/arrays/masked.py:60: UserWarning: Pandas requires version '1.3.6' or newer of 'bottleneck' (version '1.3.2' currently installed).\n",
                  "  from pandas.core import (\n"
               ]
            }
         ],
         "source": [
            "import sys\n",
            "\n",
            "sys.path.append(\"../\")\n",
            "\n",
            "import pandas as pd\n",
            "from dotenv import load_dotenv\n",
            "\n",
            "load_dotenv()\n",
            "import os\n",
            "import sqlite3\n",
            "\n",
            "DB_PATH = os.getenv(\"DB_PATH\")\n",
            "DATA_PATH = \"data\"\n",
            "\n",
            "conn = sqlite3.connect(DB_PATH)\n",
            "\n",
            "if not os.path.exists(DATA_PATH):\n",
            "    os.makedirs(DATA_PATH)"
         ]
      },
      {
         "cell_type": "code",
         "execution_count": 2,
         "metadata": {},
         "outputs": [
            {
               "name": "stdout",
               "output_type": "stream",
               "text": [
                  "172951\n"
               ]
            },
            {
               "data": {
                  "text/html": [
                     "<div>\n",
                     "<style scoped>\n",
                     "    .dataframe tbody tr th:only-of-type {\n",
                     "        vertical-align: middle;\n",
                     "    }\n",
                     "\n",
                     "    .dataframe tbody tr th {\n",
                     "        vertical-align: top;\n",
                     "    }\n",
                     "\n",
                     "    .dataframe thead th {\n",
                     "        text-align: right;\n",
                     "    }\n",
                     "</style>\n",
                     "<table border=\"1\" class=\"dataframe\">\n",
                     "  <thead>\n",
                     "    <tr style=\"text-align: right;\">\n",
                     "      <th></th>\n",
                     "      <th>individual_wikidata_id</th>\n",
                     "      <th>productive_year</th>\n",
                     "      <th>decade</th>\n",
                     "      <th>individual_name</th>\n",
                     "      <th>score</th>\n",
                     "      <th>region_name</th>\n",
                     "    </tr>\n",
                     "  </thead>\n",
                     "  <tbody>\n",
                     "    <tr>\n",
                     "      <th>385999</th>\n",
                     "      <td>Q44233</td>\n",
                     "      <td>-765.0</td>\n",
                     "      <td>-760</td>\n",
                     "      <td>Hesiod</td>\n",
                     "      <td>147</td>\n",
                     "      <td>Balkans</td>\n",
                     "    </tr>\n",
                     "    <tr>\n",
                     "      <th>386000</th>\n",
                     "      <td>Q44233</td>\n",
                     "      <td>-765.0</td>\n",
                     "      <td>-760</td>\n",
                     "      <td>Hesiod</td>\n",
                     "      <td>147</td>\n",
                     "      <td>Eastern Europe</td>\n",
                     "    </tr>\n",
                     "    <tr>\n",
                     "      <th>386001</th>\n",
                     "      <td>Q44233</td>\n",
                     "      <td>-765.0</td>\n",
                     "      <td>-760</td>\n",
                     "      <td>Hesiod</td>\n",
                     "      <td>147</td>\n",
                     "      <td>Greek World</td>\n",
                     "    </tr>\n",
                     "    <tr>\n",
                     "      <th>386002</th>\n",
                     "      <td>Q44233</td>\n",
                     "      <td>-765.0</td>\n",
                     "      <td>-760</td>\n",
                     "      <td>Hesiod</td>\n",
                     "      <td>147</td>\n",
                     "      <td>mediterranean World</td>\n",
                     "    </tr>\n",
                     "  </tbody>\n",
                     "</table>\n",
                     "</div>"
                  ],
                  "text/plain": [
                     "       individual_wikidata_id  productive_year  decade individual_name  score  \\\n",
                     "385999                 Q44233           -765.0    -760          Hesiod    147   \n",
                     "386000                 Q44233           -765.0    -760          Hesiod    147   \n",
                     "386001                 Q44233           -765.0    -760          Hesiod    147   \n",
                     "386002                 Q44233           -765.0    -760          Hesiod    147   \n",
                     "\n",
                     "                region_name  \n",
                     "385999              Balkans  \n",
                     "386000       Eastern Europe  \n",
                     "386001          Greek World  \n",
                     "386002  mediterranean World  "
                  ]
               },
               "execution_count": 2,
               "metadata": {},
               "output_type": "execute_result"
            }
         ],
         "source": [
            "# Individuals Regions\n",
            "\n",
            "df = pd.read_csv(\"../immaterial_index/results/df_individuals_score.csv\", index_col=[0])\n",
            "print(len(set(df.individual_wikidata_id)))\n",
            "\n",
            "df[df['individual_name']=='Hesiod']"
         ]
      },
      {
         "cell_type": "code",
         "execution_count": 3,
         "metadata": {},
         "outputs": [],
         "source": [
            "# Load works of individuals\n",
            "\n",
            "df_ind_works = pd.read_sql_query(\"SELECT * FROM individual_created_work\", conn)\n",
            "\n",
            "df_count_work = (\n",
            "    df_ind_works.groupby(\"individual_wikidata_id\")[\"work_wikidata_id\"]\n",
            "    .count()\n",
            "    .rename(\"count_works\")\n",
            "    .reset_index()\n",
            ")\n",
            "df_final = pd.merge(df, df_count_work, on=\"individual_wikidata_id\", how=\"left\")\n",
            "df_final = df_final.fillna(0)  # When there is no works we add 0\n",
            "df_final = df_final.drop('productive_year', axis=1)\n",
            "df_final.to_csv(DATA_PATH + \"/df_indi_works.csv\")"
         ]
      },
      {
         "cell_type": "markdown",
         "metadata": {},
         "source": [
            "## Add gender"
         ]
      },
      {
         "cell_type": "code",
         "execution_count": 4,
         "metadata": {},
         "outputs": [],
         "source": [
            "df_gender = pd.read_sql_query(\"SELECT * FROM individual_gender\", conn)\n",
            "df_final_gender = pd.merge(df_gender[['individual_wikidata_id', 'gender']], df_final, on = 'individual_wikidata_id')\n",
            "df_final_gender.to_csv(DATA_PATH + \"/df_indi_works_gender.csv\")"
         ]
      },
      {
         "cell_type": "markdown",
         "metadata": {},
         "source": [
            "## Associate a category to CPs based on the type of their work"
         ]
      },
      {
         "cell_type": "code",
         "execution_count": 5,
         "metadata": {},
         "outputs": [],
         "source": [
            "# df_work_type = pd.read_sql_query(\"SELECT * FROM created_work\", conn)\n",
            "# df_work_category = df_work_type[['work_wikidata_id', 'instance_label']].drop_duplicates()\n",
            "# df_work_covariate = pd.merge(df_ind_works, df_work_category, on = ['work_wikidata_id'])\n",
            "# df_work_covariate['instance_label'].value_counts().head(20)\n",
            "# df_work_covariate.category.value_counts()\n",
            "\n",
            "# # took the top 20 categories that occur the most and group them\n",
            "\n",
            "# # Define mapping of original categories to new categories\n",
            "# category_mapping = {\n",
            "#     'painting': 'painting',\n",
            "#     'biographical article': 'literary work',\n",
            "#     'poem': 'literary work',\n",
            "#     'print': 'print',\n",
            "#     'literary work': 'literary work',\n",
            "#     'version, edition, or translation': 'literary work',\n",
            "#     'drawing': 'drawing',\n",
            "#     'encyclopedia article': 'literary work',\n",
            "#     'article': 'literary work',\n",
            "#     'photograph': 'photograph',\n",
            "#     'publication': 'literary work',\n",
            "#     'watercolor painting': 'painting',\n",
            "#     'scholarly article': 'literary work',\n",
            "#     'sculpture': 'sculpture',\n",
            "#     'engraving': 'print',\n",
            "#     'poetry': 'literary work',\n",
            "#     'written work': 'literary work',\n",
            "#     'etching print': 'print',\n",
            "# }\n",
            "# df_work_covariate['category']  = df_work_covariate['instance_label'].apply(lambda x:category_mapping.get(x, None)) # drop None otherwise\n",
            "# df_work_covariate = df_work_covariate.dropna()\n",
            "# df_work_covariate = df_work_covariate[['individual_wikidata_id', 'work_wikidata_id', 'category']].drop_duplicates()\n",
            "\n",
            "\n",
            "\n",
            "\n",
            "# count_works = df_work_covariate.groupby(['individual_wikidata_id', 'category']).size().reset_index()\n",
            "\n",
            "# # Handle indivuals who have two of the same category\n",
            "# diverse_categories = count_works[count_works['individual_wikidata_id'].duplicated(keep=False)]\n",
            "# filtered_df = diverse_categories.groupby('individual_wikidata_id').filter(lambda x: x[0].nunique() == 1)\n",
            "# filtered_df = filtered_df.sample(frac=1, random_state=42).reset_index(drop=True)\n",
            "# filtered_df = filtered_df.drop_duplicates('individual_wikidata_id', keep = 'first')\n",
            "# filtered_df = filtered_df[['individual_wikidata_id', 'category']]\n",
            "\n",
            "# # now do the rest\n",
            "# # remove already handled individuals\n",
            "# other_categories = count_works[~count_works['individual_wikidata_id'].isin(filtered_df['individual_wikidata_id'])]\n",
            "# other_categories = other_categories.sort_values(['individual_wikidata_id', 0], ascending=(False, False))\n",
            "# other_categories = other_categories.groupby('individual_wikidata_id').head(1)\n",
            "# other_categories = other_categories[['individual_wikidata_id', 'category']]\n",
            "\n",
            "# final_categories = pd.concat([other_categories, filtered_df])\n",
            "# final_categories = final_categories.reset_index(drop=True)\n",
            "\n",
            "# df_final_category = pd.merge(df_final, final_categories, on = ['individual_wikidata_id'])\n",
            "# df_final_category.to_csv(DATA_PATH + \"/df_indi_works_category.csv\")\n",
            "\n",
            "# len(set(final_categories.individual_wikidata_id)) == 40732\n",
            "\n",
            "# final_categories.category.value_counts()"
         ]
      },
      {
         "cell_type": "markdown",
         "metadata": {},
         "source": [
            "## Extract Occupations"
         ]
      },
      {
         "cell_type": "code",
         "execution_count": 6,
         "metadata": {},
         "outputs": [],
         "source": [
            "df_occupations = pd.read_sql_query(\"SELECT * FROM individual_occupations\", conn)\n",
            "df_occupations.groupby('individual_wikidata_id')['occupations_wikidata_id'].count().mean()\n",
            "\n",
            "top_occupations= list(df_occupations.occupations_name.value_counts().head(50).index)"
         ]
      },
      {
         "cell_type": "code",
         "execution_count": 7,
         "metadata": {},
         "outputs": [
            {
               "data": {
                  "text/plain": [
                     "occupation\n",
                     "Painter                   42163\n",
                     "Scientist                 37704\n",
                     "Musician                  29267\n",
                     "Writer                    20375\n",
                     "Poet                      19754\n",
                     "Sculptor                  13925\n",
                     "Historian                 13084\n",
                     "Theologian                12144\n",
                     "Architect                 11599\n",
                     "Visual Artist             11082\n",
                     "Theater-related Artist     5736\n",
                     "Name: count, dtype: int64"
                  ]
               },
               "execution_count": 7,
               "metadata": {},
               "output_type": "execute_result"
            }
         ],
         "source": [
            "occupation_categories = {\n",
            "    'painter': 'Painter',\n",
            "    'poet': 'Poet',\n",
            "    'composer': 'Musician',\n",
            "    #'university teacher': 'Educator',\n",
            "    'historian': 'Historian',\n",
            "    'theologian': 'Theologian',\n",
            "    'architect': 'Architect',\n",
            "    'sculptor': 'Sculptor',\n",
            "    'translator': 'Writer',\n",
            "    'botanist': 'Scientist',\n",
            "    #'artist': 'Visual Artist',\n",
            "    'philosopher': 'Writer',\n",
            "    'drawer': 'Visual Artist',\n",
            "    #'photographer': 'Visual Artist',\n",
            "    'mathematician': 'Scientist',\n",
            "    #'pedagogue': 'Educator',\n",
            "    'engraver': 'Sculptor',\n",
            "    'playwright': 'Theater-related Artist',\n",
            "    #'explorer': 'Adventurer',\n",
            "    'singer': 'Musician',\n",
            "    'musician': 'Musician',\n",
            "    'chemist': 'Scientist',\n",
            "    'linguist': 'Writer',\n",
            "    'organist': 'Musician',\n",
            "    'astronomer': 'Scientist',\n",
            "    'entomologist': 'Scientist',\n",
            "    'editor': 'Writer',\n",
            "    'philologist': 'Scientist',\n",
            "    'stage actor': 'Theater-related Artist',\n",
            "    'archaeologist': 'Scientist',\n",
            "    'naturalist': 'Scientist',\n",
            "    'printmaker': 'Visual Artist',\n",
            "    'physicist': 'Scientist',\n",
            "    'opera singer': 'Musician',\n",
            "    'novelist': 'Writer',\n",
            "    'conductor': 'Musician',\n",
            "    'classical philologist': 'Scientist',\n",
            "    #'professor': 'Educator',\n",
            "    'cartographer': 'Scientist',\n",
            "    'pianist': 'Musician',\n",
            "    'economist': 'Scientist',\n",
            "    'copperplate engraver': 'Sculptor',\n",
            "    'illustrator': 'Visual Artist',\n",
            "    'geologist': 'Scientist',\n",
            "    'zoologist': 'Scientist',\n",
            "    'scientific illustrator': 'Visual Artist',\n",
            "    'scientist': 'Scientist',\n",
            "    'geographer': 'Scientist',\n",
            "    'art historian': 'Visual Artist',\n",
            "    'violinist': 'Musician'\n",
            "}\n",
            "\n",
            "df_occupations['occupation'] = df_occupations['occupations_name'].apply(lambda x: occupation_categories.get(x, None))\n",
            "df_occupations = df_occupations.dropna()\n",
            "df_occupations.occupation.value_counts()"
         ]
      },
      {
         "cell_type": "code",
         "execution_count": 8,
         "metadata": {},
         "outputs": [],
         "source": [
            "\n",
            "\n",
            "df_unique_occupations = df_occupations[['individual_wikidata_id', 'occupation']].drop_duplicates()\n",
            "df_unique_occupations = df_unique_occupations.sample(frac=1, random_state=42).reset_index(drop=True)\n",
            "df_unique_occupations = df_unique_occupations.drop_duplicates('individual_wikidata_id', keep = 'first')\n",
            "\n",
            "df_final_occupation = pd.merge(df_final, df_unique_occupations, on = 'individual_wikidata_id')\n",
            "df_final_occupation = df_final_occupation[['individual_wikidata_id', 'decade', 'region_name', 'count_works', 'occupation']].drop_duplicates()\n",
            "\n",
            "\n",
            "# Change paintings\n",
            "#df_final_occupation['occupation'][(df_final_occupation['occupation'] == 'Painter') & (df_final_occupation['decade'] >= 1600)] = 'Painting Post-1600'\n",
            "#df_final_occupation['occupation'][(df_final_occupation['occupation'] == 'Painter') & (df_final_occupation['decade'] < 1600)] = 'Painting Pre-1600'"
         ]
      },
      {
         "cell_type": "code",
         "execution_count": 9,
         "metadata": {},
         "outputs": [
            {
               "data": {
                  "text/plain": [
                     "occupation\n",
                     "Painter                   111070\n",
                     "Scientist                  76858\n",
                     "Musician                   55128\n",
                     "Poet                       38980\n",
                     "Writer                     37677\n",
                     "Sculptor                   32295\n",
                     "Historian                  29994\n",
                     "Theologian                 29968\n",
                     "Architect                  29354\n",
                     "Visual Artist              18905\n",
                     "Theater-related Artist     13740\n",
                     "Name: count, dtype: int64"
                  ]
               },
               "execution_count": 9,
               "metadata": {},
               "output_type": "execute_result"
            }
         ],
         "source": [
            "df_final_occupation.occupation.value_counts()"
         ]
      },
      {
         "cell_type": "code",
         "execution_count": 10,
         "metadata": {},
         "outputs": [],
         "source": [
            "\n",
            "df_final_occupation.to_csv(DATA_PATH + \"/df_indi_works_occupations.csv\")"
         ]
      },
      {
         "cell_type": "markdown",
         "metadata": {},
         "source": []
      },
      {
         "cell_type": "code",
         "execution_count": 11,
         "metadata": {},
         "outputs": [
            {
               "data": {
                  "text/plain": [
                     "occupation\n",
                     "Painter                   76511\n",
                     "Scientist                 68966\n",
                     "Musician                  54532\n",
                     "Poet                      33853\n",
                     "Writer                    33487\n",
                     "Theologian                29222\n",
                     "Architect                 28215\n",
                     "Historian                 27401\n",
                     "Sculptor                  25929\n",
                     "Visual Artist             14068\n",
                     "Theater-related Artist    12390\n",
                     "Name: count, dtype: int64"
                  ]
               },
               "execution_count": 11,
               "metadata": {},
               "output_type": "execute_result"
            }
         ],
         "source": [
            "df_final_occupation[df_final_occupation['count_works']<=2].occupation.value_counts()"
         ]
      },
      {
         "cell_type": "code",
         "execution_count": 12,
         "metadata": {},
         "outputs": [],
         "source": [
            "# df_clean_gdp = pd.read_sql_query(\"SELECT * FROM gdp_clean\", conn)\n",
            "\n",
            "# region_code = pd.read_csv('../environnement_data/region_code_region_name.csv')\n",
            "# df_clean_gdp = pd.merge(df_clean_gdp, region_code, on  = 'region_code')\n",
            "\n",
            "\n",
            "# regions_clean = list(set(df_clean_gdp[\"region_name\"]))\n",
            "\n",
            "# df = df[df[\"region_name\"].isin(regions_clean)]\n",
            "# df = df[df[\"decade\"] >= min(df_clean_gdp.year)]\n",
            "\n",
            "\n",
            "# df_final = pd.merge(df, df_count_work, on=\"individual_wikidata_id\", how=\"left\")\n",
            "# df_final = df_final.fillna(0)  # When there is no works we add 0\n",
            "# df_final.to_csv(DATA_PATH + \"/df_indi_works_clean_gdp.csv\")"
         ]
      }
   ],
   "metadata": {
      "kernelspec": {
         "display_name": "bunka",
         "language": "python",
         "name": "bunka"
      },
      "language_info": {
         "codemirror_mode": {
            "name": "ipython",
            "version": 3
         },
         "file_extension": ".py",
         "mimetype": "text/x-python",
         "name": "python",
         "nbconvert_exporter": "python",
         "pygments_lexer": "ipython3",
         "version": "3.9.7"
      }
   },
   "nbformat": 4,
   "nbformat_minor": 2
}
