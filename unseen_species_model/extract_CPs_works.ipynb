{
   "cells": [
      {
         "cell_type": "code",
         "execution_count": 1,
         "metadata": {},
         "outputs": [],
         "source": [
            "import sys\n",
            "\n",
            "sys.path.append(\"../\")\n",
            "\n",
            "import pandas as pd\n",
            "from dotenv import load_dotenv\n",
            "\n",
            "load_dotenv()\n",
            "import os\n",
            "import sqlite3\n",
            "\n",
            "DB_PATH = os.getenv(\"DB_PATH\")\n",
            "DATA_PATH = \"data\"\n",
            "\n",
            "conn = sqlite3.connect(DB_PATH)\n",
            "\n",
            "if not os.path.exists(DATA_PATH):\n",
            "    os.makedirs(DATA_PATH)"
         ]
      },
      {
         "cell_type": "code",
         "execution_count": 2,
         "metadata": {},
         "outputs": [
            {
               "name": "stdout",
               "output_type": "stream",
               "text": [
                  "159340\n"
               ]
            },
            {
               "data": {
                  "text/html": [
                     "<div>\n",
                     "<style scoped>\n",
                     "    .dataframe tbody tr th:only-of-type {\n",
                     "        vertical-align: middle;\n",
                     "    }\n",
                     "\n",
                     "    .dataframe tbody tr th {\n",
                     "        vertical-align: top;\n",
                     "    }\n",
                     "\n",
                     "    .dataframe thead th {\n",
                     "        text-align: right;\n",
                     "    }\n",
                     "</style>\n",
                     "<table border=\"1\" class=\"dataframe\">\n",
                     "  <thead>\n",
                     "    <tr style=\"text-align: right;\">\n",
                     "      <th></th>\n",
                     "      <th>Unnamed: 0</th>\n",
                     "      <th>individual_wikidata_id</th>\n",
                     "      <th>productive_year</th>\n",
                     "      <th>decade</th>\n",
                     "      <th>individual_name</th>\n",
                     "      <th>score</th>\n",
                     "      <th>region_name</th>\n",
                     "    </tr>\n",
                     "  </thead>\n",
                     "  <tbody>\n",
                     "    <tr>\n",
                     "      <th>297556</th>\n",
                     "      <td>312663</td>\n",
                     "      <td>Q44233</td>\n",
                     "      <td>-715.0</td>\n",
                     "      <td>-720</td>\n",
                     "      <td>Hesiod</td>\n",
                     "      <td>147</td>\n",
                     "      <td>Eastern Europe</td>\n",
                     "    </tr>\n",
                     "    <tr>\n",
                     "      <th>297557</th>\n",
                     "      <td>312664</td>\n",
                     "      <td>Q44233</td>\n",
                     "      <td>-715.0</td>\n",
                     "      <td>-720</td>\n",
                     "      <td>Hesiod</td>\n",
                     "      <td>147</td>\n",
                     "      <td>Balkans</td>\n",
                     "    </tr>\n",
                     "    <tr>\n",
                     "      <th>297558</th>\n",
                     "      <td>312665</td>\n",
                     "      <td>Q44233</td>\n",
                     "      <td>-715.0</td>\n",
                     "      <td>-720</td>\n",
                     "      <td>Hesiod</td>\n",
                     "      <td>147</td>\n",
                     "      <td>mediterranean World</td>\n",
                     "    </tr>\n",
                     "    <tr>\n",
                     "      <th>297559</th>\n",
                     "      <td>312666</td>\n",
                     "      <td>Q44233</td>\n",
                     "      <td>-715.0</td>\n",
                     "      <td>-720</td>\n",
                     "      <td>Hesiod</td>\n",
                     "      <td>147</td>\n",
                     "      <td>Greek World</td>\n",
                     "    </tr>\n",
                     "  </tbody>\n",
                     "</table>\n",
                     "</div>"
                  ],
                  "text/plain": [
                     "        Unnamed: 0 individual_wikidata_id  productive_year  decade  \\\n",
                     "297556      312663                 Q44233           -715.0    -720   \n",
                     "297557      312664                 Q44233           -715.0    -720   \n",
                     "297558      312665                 Q44233           -715.0    -720   \n",
                     "297559      312666                 Q44233           -715.0    -720   \n",
                     "\n",
                     "       individual_name  score          region_name  \n",
                     "297556          Hesiod    147       Eastern Europe  \n",
                     "297557          Hesiod    147              Balkans  \n",
                     "297558          Hesiod    147  mediterranean World  \n",
                     "297559          Hesiod    147          Greek World  "
                  ]
               },
               "execution_count": 2,
               "metadata": {},
               "output_type": "execute_result"
            }
         ],
         "source": [
            "# Individuals Regions\n",
            "\n",
            "df = pd.read_csv(\"../immaterial_index/results/df_individuals_score.csv\")\n",
            "print(len(set(df.individual_wikidata_id)))\n",
            "\n",
            "df[df['individual_name']=='Hesiod']"
         ]
      },
      {
         "cell_type": "code",
         "execution_count": 3,
         "metadata": {},
         "outputs": [],
         "source": [
            "\n",
            "\n",
            "# Load works of individuals\n",
            "\n",
            "df_ind_works = pd.read_sql_query(\"SELECT * FROM individual_created_work\", conn)\n",
            "\n",
            "df_count_work = (\n",
            "    df_ind_works.groupby(\"individual_wikidata_id\")[\"work_wikidata_id\"]\n",
            "    .count()\n",
            "    .rename(\"count_works\")\n",
            "    .reset_index()\n",
            ")\n",
            "df_final = pd.merge(df, df_count_work, on=\"individual_wikidata_id\", how=\"left\")\n",
            "df_final = df_final.fillna(0)  # When there is no works we add 0\n",
            "df_final = df_final.drop('Unnamed: 0', axis=1)\n",
            "df_final = df_final.drop('productive_year', axis=1)\n",
            "df_final.to_csv(DATA_PATH + \"/df_indi_works.csv\")"
         ]
      },
      {
         "cell_type": "code",
         "execution_count": 4,
         "metadata": {},
         "outputs": [],
         "source": [
            "df_gender = pd.read_sql_query(\"SELECT * FROM individual_gender\", conn)\n",
            "df_final_gender = pd.merge(df_gender[['individual_wikidata_id', 'gender']], df_final, on = 'individual_wikidata_id')\n",
            "df_final_gender.to_csv(DATA_PATH + \"/df_indi_works_gender.csv\")"
         ]
      },
      {
         "cell_type": "code",
         "execution_count": 5,
         "metadata": {},
         "outputs": [],
         "source": [
            "\n",
            "   # \"source\": [\n",
            "   #    \"# Individuals Regions\\n\",\n",
            "   #    \"\\n\",\n",
            "   #    \"df = pd.read_csv(\\\"../immaterial_index/results/df_individuals_score.csv\\\")\\n\",\n",
            "   #    \"print(len(set(df.individual_wikidata_id)))\\n\",\n",
            "   #    \"\\n\",\n",
            "   #    \"df[df['individual_name']=='Hesiod']\"\n",
            "   # ]"
         ]
      },
      {
         "cell_type": "markdown",
         "metadata": {},
         "source": [
            "## Associate a category to CPs based on the type of their work"
         ]
      },
      {
         "cell_type": "code",
         "execution_count": 6,
         "metadata": {},
         "outputs": [],
         "source": [
            "df_work_type = pd.read_sql_query(\"SELECT * FROM created_work\", conn)"
         ]
      },
      {
         "cell_type": "code",
         "execution_count": 7,
         "metadata": {},
         "outputs": [
            {
               "data": {
                  "text/plain": [
                     "instance_label\n",
                     "painting                            245949\n",
                     "biographical article                 95720\n",
                     "poem                                 66697\n",
                     "print                                59306\n",
                     "literary work                        50841\n",
                     "version, edition, or translation     40825\n",
                     "drawing                              29176\n",
                     "encyclopedia article                 28886\n",
                     "article                              24221\n",
                     "photograph                           20282\n",
                     "publication                          15320\n",
                     "watercolor painting                  11061\n",
                     "scholarly article                    10703\n",
                     "sculpture                             8181\n",
                     "engraving                             7618\n",
                     "poetry                                6371\n",
                     "work of art                           5657\n",
                     "written work                          5299\n",
                     "etching print                         5085\n",
                     "scenography sketch                    3305\n",
                     "Name: count, dtype: int64"
                  ]
               },
               "execution_count": 7,
               "metadata": {},
               "output_type": "execute_result"
            }
         ],
         "source": [
            "df_work_category = df_work_type[['work_wikidata_id', 'instance_label']].drop_duplicates()\n",
            "df_work_covariate = pd.merge(df_ind_works, df_work_category, on = ['work_wikidata_id'])\n",
            "df_work_covariate['instance_label'].value_counts().head(20)"
         ]
      },
      {
         "cell_type": "code",
         "execution_count": 8,
         "metadata": {},
         "outputs": [],
         "source": [
            "\n",
            "\n",
            "# took the top 20 categories that occur the most and group them\n",
            "\n",
            "# Define mapping of original categories to new categories\n",
            "category_mapping = {\n",
            "    'painting': 'painting',\n",
            "    'biographical article': 'literary work',\n",
            "    'poem': 'literary work',\n",
            "    'print': 'print',\n",
            "    'literary work': 'literary work',\n",
            "    'version, edition, or translation': 'literary work',\n",
            "    'drawing': 'drawing',\n",
            "    'encyclopedia article': 'literary work',\n",
            "    'article': 'literary work',\n",
            "    'photograph': 'photograph',\n",
            "    'publication': 'literary work',\n",
            "    'watercolor painting': 'painting',\n",
            "    'scholarly article': 'literary work',\n",
            "    'sculpture': 'sculpture',\n",
            "    'engraving': 'print',\n",
            "    'poetry': 'literary work',\n",
            "    'written work': 'literary work',\n",
            "    'etching print': 'print',\n",
            "}\n",
            "df_work_covariate['category']  = df_work_covariate['instance_label'].apply(lambda x:category_mapping.get(x, None)) # drop None otherwise\n",
            "df_work_covariate = df_work_covariate.dropna()\n",
            "df_work_covariate = df_work_covariate[['individual_wikidata_id', 'work_wikidata_id', 'category']].drop_duplicates()\n",
            "\n"
         ]
      },
      {
         "cell_type": "code",
         "execution_count": 9,
         "metadata": {},
         "outputs": [
            {
               "data": {
                  "text/plain": [
                     "category\n",
                     "literary work    322170\n",
                     "painting         256858\n",
                     "print             62153\n",
                     "drawing           29176\n",
                     "photograph        20282\n",
                     "sculpture          8181\n",
                     "Name: count, dtype: int64"
                  ]
               },
               "execution_count": 9,
               "metadata": {},
               "output_type": "execute_result"
            }
         ],
         "source": [
            "df_work_covariate.category.value_counts()"
         ]
      },
      {
         "cell_type": "code",
         "execution_count": 10,
         "metadata": {},
         "outputs": [],
         "source": [
            "count_works = df_work_covariate.groupby(['individual_wikidata_id', 'category']).size().reset_index()\n",
            "\n",
            "# Handle indivuals who have two of the same category\n",
            "diverse_categories = count_works[count_works['individual_wikidata_id'].duplicated(keep=False)]\n",
            "filtered_df = diverse_categories.groupby('individual_wikidata_id').filter(lambda x: x[0].nunique() == 1)\n",
            "filtered_df = filtered_df.sample(frac=1, random_state=42).reset_index(drop=True)\n",
            "filtered_df = filtered_df.drop_duplicates('individual_wikidata_id', keep = 'first')\n",
            "filtered_df = filtered_df[['individual_wikidata_id', 'category']]\n",
            "\n",
            "# now do the rest\n",
            "\n",
            "\n",
            "# remove already handled individuals\n",
            "other_categories = count_works[~count_works['individual_wikidata_id'].isin(filtered_df['individual_wikidata_id'])]\n",
            "other_categories = other_categories.sort_values(['individual_wikidata_id', 0], ascending=(False, False))\n",
            "other_categories = other_categories.groupby('individual_wikidata_id').head(1)\n",
            "other_categories = other_categories[['individual_wikidata_id', 'category']]\n",
            "\n",
            "final_categories = pd.concat([other_categories, filtered_df])\n",
            "final_categories = final_categories.reset_index(drop=True)\n",
            "\n",
            "df_final_category = pd.merge(df_final, final_categories, on = ['individual_wikidata_id'])\n",
            "df_final_category.to_csv(DATA_PATH + \"/df_indi_works_category.csv\")"
         ]
      },
      {
         "cell_type": "code",
         "execution_count": 11,
         "metadata": {},
         "outputs": [
            {
               "data": {
                  "text/plain": [
                     "True"
                  ]
               },
               "execution_count": 11,
               "metadata": {},
               "output_type": "execute_result"
            }
         ],
         "source": [
            "len(set(final_categories.individual_wikidata_id)) == 40732"
         ]
      },
      {
         "cell_type": "code",
         "execution_count": 12,
         "metadata": {},
         "outputs": [
            {
               "data": {
                  "text/plain": [
                     "category\n",
                     "literary work    17801\n",
                     "painting         17412\n",
                     "print             2518\n",
                     "sculpture         1509\n",
                     "drawing           1020\n",
                     "photograph         472\n",
                     "Name: count, dtype: int64"
                  ]
               },
               "execution_count": 12,
               "metadata": {},
               "output_type": "execute_result"
            }
         ],
         "source": [
            "final_categories.category.value_counts()"
         ]
      },
      {
         "cell_type": "markdown",
         "metadata": {},
         "source": [
            "## Extract Occupations"
         ]
      },
      {
         "cell_type": "code",
         "execution_count": 22,
         "metadata": {},
         "outputs": [],
         "source": [
            "df_occupations = pd.read_sql_query(\"SELECT * FROM individual_occupations\", conn)\n",
            "df_occupations.groupby('individual_wikidata_id')['occupations_wikidata_id'].count().mean()\n",
            "\n",
            "top_occupations= list(df_occupations.occupations_name.value_counts().head(50).index)"
         ]
      },
      {
         "cell_type": "code",
         "execution_count": 32,
         "metadata": {},
         "outputs": [
            {
               "data": {
                  "text/plain": [
                     "occupation\n",
                     "Written work    66595\n",
                     "Work of art     53588\n",
                     "Scientist       35488\n",
                     "Music           29267\n",
                     "Sculpture       12344\n",
                     "Architecture    11599\n",
                     "Theater          5736\n",
                     "Science          2216\n",
                     "Name: count, dtype: int64"
                  ]
               },
               "execution_count": 32,
               "metadata": {},
               "output_type": "execute_result"
            }
         ],
         "source": [
            "occupation_categories = {\n",
            "    'painter': 'Work of art',\n",
            "    'poet': 'Written work',\n",
            "    'composer': 'Music',\n",
            "    #'university teacher': 'Educator',\n",
            "    'historian': 'Written work',\n",
            "    'theologian': 'Written work',\n",
            "    'architect': 'Architecture',\n",
            "    'sculptor': 'Sculpture',\n",
            "    'translator': 'Written work',\n",
            "    'botanist': 'Scientist',\n",
            "    #'artist': 'Visual Artist',\n",
            "    'philosopher': 'Written work',\n",
            "    'drawer': 'Work of art',\n",
            "    #'photographer': 'Visual Artist',\n",
            "    'mathematician': 'Scientist',\n",
            "    #'pedagogue': 'Educator',\n",
            "    'engraver': 'Sculpture',\n",
            "    'playwright': 'Theater',\n",
            "    #'explorer': 'Adventurer',\n",
            "    'singer': 'Music',\n",
            "    'musician': 'Music',\n",
            "    'chemist': 'Scientist',\n",
            "    'linguist': 'Written work',\n",
            "    'organist': 'Music',\n",
            "    'astronomer': 'Scientist',\n",
            "    'entomologist': 'Scientist',\n",
            "    'editor': 'Written work',\n",
            "    'philologist': 'Science',\n",
            "    'stage actor': 'Theater',\n",
            "    'archaeologist': 'Scientist',\n",
            "    'naturalist': 'Scientist',\n",
            "    'printmaker': 'Work of art',\n",
            "    'physicist': 'Scientist',\n",
            "    'opera singer': 'Music',\n",
            "    'novelist': 'Written work',\n",
            "    'conductor': 'Music',\n",
            "    'classical philologist': 'Scientist',\n",
            "    #'professor': 'Educator',\n",
            "    'cartographer': 'Scientist',\n",
            "    'pianist': 'Music',\n",
            "    'economist': 'Scientist',\n",
            "    'copperplate engraver': 'Work of art',\n",
            "    'illustrator': 'Work of art',\n",
            "    'geologist': 'Scientist',\n",
            "    'zoologist': 'Scientist',\n",
            "    'scientific illustrator': 'Work of art',\n",
            "    'scientist': 'Scientist',\n",
            "    'geographer': 'Scientist',\n",
            "    'art historian': 'Written work',\n",
            "    'violinist': 'Music'\n",
            "}\n",
            "\n",
            "df_occupations['occupation'] = df_occupations['occupations_name'].apply(lambda x: occupation_categories.get(x, None))\n",
            "df_occupations = df_occupations.dropna()\n",
            "df_occupations.occupation.value_counts()"
         ]
      },
      {
         "cell_type": "code",
         "execution_count": 36,
         "metadata": {},
         "outputs": [],
         "source": [
            "df_final_occupation = pd.merge(df_final, df_occupations, on = 'individual_wikidata_id')\n",
            "df_final_occupation = df_final_occupation[['individual_wikidata_id', 'decade', 'region_name', 'count_works', 'occupation']].drop_duplicates()\n",
            "df_final_occupation.to_csv(DATA_PATH + \"/df_indi_works_occupations.csv\")"
         ]
      },
      {
         "cell_type": "code",
         "execution_count": 38,
         "metadata": {},
         "outputs": [
            {
               "data": {
                  "text/html": [
                     "<div>\n",
                     "<style scoped>\n",
                     "    .dataframe tbody tr th:only-of-type {\n",
                     "        vertical-align: middle;\n",
                     "    }\n",
                     "\n",
                     "    .dataframe tbody tr th {\n",
                     "        vertical-align: top;\n",
                     "    }\n",
                     "\n",
                     "    .dataframe thead th {\n",
                     "        text-align: right;\n",
                     "    }\n",
                     "</style>\n",
                     "<table border=\"1\" class=\"dataframe\">\n",
                     "  <thead>\n",
                     "    <tr style=\"text-align: right;\">\n",
                     "      <th></th>\n",
                     "      <th>individual_wikidata_id</th>\n",
                     "      <th>decade</th>\n",
                     "      <th>region_name</th>\n",
                     "      <th>count_works</th>\n",
                     "      <th>occupation</th>\n",
                     "    </tr>\n",
                     "  </thead>\n",
                     "  <tbody>\n",
                     "    <tr>\n",
                     "      <th>0</th>\n",
                     "      <td>Q60835032</td>\n",
                     "      <td>1820</td>\n",
                     "      <td>Eastern Europe</td>\n",
                     "      <td>0.0</td>\n",
                     "      <td>Music</td>\n",
                     "    </tr>\n",
                     "    <tr>\n",
                     "      <th>1</th>\n",
                     "      <td>Q1100854</td>\n",
                     "      <td>1860</td>\n",
                     "      <td>Eastern Europe</td>\n",
                     "      <td>0.0</td>\n",
                     "      <td>Written work</td>\n",
                     "    </tr>\n",
                     "    <tr>\n",
                     "      <th>2</th>\n",
                     "      <td>Q3048804</td>\n",
                     "      <td>1870</td>\n",
                     "      <td>United Kingdom</td>\n",
                     "      <td>0.0</td>\n",
                     "      <td>Written work</td>\n",
                     "    </tr>\n",
                     "    <tr>\n",
                     "      <th>3</th>\n",
                     "      <td>Q1974313</td>\n",
                     "      <td>1860</td>\n",
                     "      <td>France</td>\n",
                     "      <td>3.0</td>\n",
                     "      <td>Scientist</td>\n",
                     "    </tr>\n",
                     "    <tr>\n",
                     "      <th>4</th>\n",
                     "      <td>Q12630095</td>\n",
                     "      <td>1870</td>\n",
                     "      <td>Italy</td>\n",
                     "      <td>0.0</td>\n",
                     "      <td>Written work</td>\n",
                     "    </tr>\n",
                     "    <tr>\n",
                     "      <th>...</th>\n",
                     "      <td>...</td>\n",
                     "      <td>...</td>\n",
                     "      <td>...</td>\n",
                     "      <td>...</td>\n",
                     "      <td>...</td>\n",
                     "    </tr>\n",
                     "    <tr>\n",
                     "      <th>53291</th>\n",
                     "      <td>Q11814103</td>\n",
                     "      <td>1860</td>\n",
                     "      <td>Eastern Europe</td>\n",
                     "      <td>0.0</td>\n",
                     "      <td>Architecture</td>\n",
                     "    </tr>\n",
                     "    <tr>\n",
                     "      <th>53292</th>\n",
                     "      <td>Q367749</td>\n",
                     "      <td>1820</td>\n",
                     "      <td>France</td>\n",
                     "      <td>6.0</td>\n",
                     "      <td>Scientist</td>\n",
                     "    </tr>\n",
                     "    <tr>\n",
                     "      <th>53293</th>\n",
                     "      <td>Q59850609</td>\n",
                     "      <td>1820</td>\n",
                     "      <td>United Kingdom</td>\n",
                     "      <td>0.0</td>\n",
                     "      <td>Sculpture</td>\n",
                     "    </tr>\n",
                     "    <tr>\n",
                     "      <th>53294</th>\n",
                     "      <td>Q6218728</td>\n",
                     "      <td>1820</td>\n",
                     "      <td>United Kingdom</td>\n",
                     "      <td>0.0</td>\n",
                     "      <td>Written work</td>\n",
                     "    </tr>\n",
                     "    <tr>\n",
                     "      <th>53295</th>\n",
                     "      <td>Q162038</td>\n",
                     "      <td>1860</td>\n",
                     "      <td>France</td>\n",
                     "      <td>0.0</td>\n",
                     "      <td>Work of art</td>\n",
                     "    </tr>\n",
                     "  </tbody>\n",
                     "</table>\n",
                     "<p>45343 rows × 5 columns</p>\n",
                     "</div>"
                  ],
                  "text/plain": [
                     "      individual_wikidata_id  decade     region_name  count_works  \\\n",
                     "0                  Q60835032    1820  Eastern Europe          0.0   \n",
                     "1                   Q1100854    1860  Eastern Europe          0.0   \n",
                     "2                   Q3048804    1870  United Kingdom          0.0   \n",
                     "3                   Q1974313    1860          France          3.0   \n",
                     "4                  Q12630095    1870           Italy          0.0   \n",
                     "...                      ...     ...             ...          ...   \n",
                     "53291              Q11814103    1860  Eastern Europe          0.0   \n",
                     "53292                Q367749    1820          France          6.0   \n",
                     "53293              Q59850609    1820  United Kingdom          0.0   \n",
                     "53294               Q6218728    1820  United Kingdom          0.0   \n",
                     "53295                Q162038    1860          France          0.0   \n",
                     "\n",
                     "         occupation  \n",
                     "0             Music  \n",
                     "1      Written work  \n",
                     "2      Written work  \n",
                     "3         Scientist  \n",
                     "4      Written work  \n",
                     "...             ...  \n",
                     "53291  Architecture  \n",
                     "53292     Scientist  \n",
                     "53293     Sculpture  \n",
                     "53294  Written work  \n",
                     "53295   Work of art  \n",
                     "\n",
                     "[45343 rows x 5 columns]"
                  ]
               },
               "execution_count": 38,
               "metadata": {},
               "output_type": "execute_result"
            }
         ],
         "source": []
      },
      {
         "cell_type": "code",
         "execution_count": 16,
         "metadata": {},
         "outputs": [],
         "source": [
            "df_clean_gdp = pd.read_sql_query(\"SELECT * FROM gdp_clean\", conn)\n",
            "\n",
            "region_code = pd.read_csv('../environnement_data/region_code_region_name.csv')\n",
            "df_clean_gdp = pd.merge(df_clean_gdp, region_code, on  = 'region_code')\n",
            "\n",
            "\n",
            "regions_clean = list(set(df_clean_gdp[\"region_name\"]))\n",
            "\n",
            "df = df[df[\"region_name\"].isin(regions_clean)]\n",
            "df = df[df[\"decade\"] >= min(df_clean_gdp.year)]\n",
            "\n",
            "\n",
            "df_final = pd.merge(df, df_count_work, on=\"individual_wikidata_id\", how=\"left\")\n",
            "df_final = df_final.fillna(0)  # When there is no works we add 0\n",
            "df_final.to_csv(DATA_PATH + \"/df_indi_works_clean_gdp.csv\")"
         ]
      }
   ],
   "metadata": {
      "kernelspec": {
         "display_name": ".venv",
         "language": "python",
         "name": "python3"
      },
      "language_info": {
         "codemirror_mode": {
            "name": "ipython",
            "version": 3
         },
         "file_extension": ".py",
         "mimetype": "text/x-python",
         "name": "python",
         "nbconvert_exporter": "python",
         "pygments_lexer": "ipython3",
         "version": "3.11.7"
      }
   },
   "nbformat": 4,
   "nbformat_minor": 2
}
