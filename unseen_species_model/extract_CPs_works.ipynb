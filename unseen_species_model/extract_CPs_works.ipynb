{
 "cells": [
  {
   "cell_type": "code",
   "execution_count": 6,
   "metadata": {},
   "outputs": [],
   "source": [
    "import sys\n",
    "\n",
    "sys.path.append(\"../\")\n",
    "\n",
    "import pandas as pd\n",
    "from dotenv import load_dotenv\n",
    "\n",
    "load_dotenv()\n",
    "import os\n",
    "import sqlite3\n",
    "\n",
    "DB_PATH = os.getenv(\"DB_PATH\")\n",
    "DATA_PATH = \"data\"\n",
    "\n",
    "conn = sqlite3.connect(DB_PATH)\n",
    "\n",
    "if not os.path.exists(DATA_PATH):\n",
    "    os.makedirs(DATA_PATH)"
   ]
  },
  {
   "cell_type": "code",
   "execution_count": 7,
   "metadata": {},
   "outputs": [
    {
     "name": "stdout",
     "output_type": "stream",
     "text": [
      "159693\n"
     ]
    },
    {
     "data": {
      "text/html": [
       "<div>\n",
       "<style scoped>\n",
       "    .dataframe tbody tr th:only-of-type {\n",
       "        vertical-align: middle;\n",
       "    }\n",
       "\n",
       "    .dataframe tbody tr th {\n",
       "        vertical-align: top;\n",
       "    }\n",
       "\n",
       "    .dataframe thead th {\n",
       "        text-align: right;\n",
       "    }\n",
       "</style>\n",
       "<table border=\"1\" class=\"dataframe\">\n",
       "  <thead>\n",
       "    <tr style=\"text-align: right;\">\n",
       "      <th></th>\n",
       "      <th>Unnamed: 0</th>\n",
       "      <th>individual_wikidata_id</th>\n",
       "      <th>productive_year</th>\n",
       "      <th>decade</th>\n",
       "      <th>individual_name</th>\n",
       "      <th>score</th>\n",
       "      <th>region_code</th>\n",
       "      <th>region_name</th>\n",
       "    </tr>\n",
       "  </thead>\n",
       "  <tbody>\n",
       "    <tr>\n",
       "      <th>52954</th>\n",
       "      <td>55510</td>\n",
       "      <td>Q44233</td>\n",
       "      <td>-715.0</td>\n",
       "      <td>-720</td>\n",
       "      <td>Hesiod</td>\n",
       "      <td>147</td>\n",
       "      <td>re_eastern_europe</td>\n",
       "      <td>Eastern Europe</td>\n",
       "    </tr>\n",
       "    <tr>\n",
       "      <th>52955</th>\n",
       "      <td>55511</td>\n",
       "      <td>Q44233</td>\n",
       "      <td>-715.0</td>\n",
       "      <td>-720</td>\n",
       "      <td>Hesiod</td>\n",
       "      <td>147</td>\n",
       "      <td>re_balkans</td>\n",
       "      <td>Balkans</td>\n",
       "    </tr>\n",
       "    <tr>\n",
       "      <th>52956</th>\n",
       "      <td>55512</td>\n",
       "      <td>Q44233</td>\n",
       "      <td>-715.0</td>\n",
       "      <td>-720</td>\n",
       "      <td>Hesiod</td>\n",
       "      <td>147</td>\n",
       "      <td>re_greek_world</td>\n",
       "      <td>Greek World</td>\n",
       "    </tr>\n",
       "    <tr>\n",
       "      <th>52957</th>\n",
       "      <td>55513</td>\n",
       "      <td>Q44233</td>\n",
       "      <td>-715.0</td>\n",
       "      <td>-720</td>\n",
       "      <td>Hesiod</td>\n",
       "      <td>147</td>\n",
       "      <td>re_mediterreanean</td>\n",
       "      <td>mediterranean World</td>\n",
       "    </tr>\n",
       "  </tbody>\n",
       "</table>\n",
       "</div>"
      ],
      "text/plain": [
       "       Unnamed: 0 individual_wikidata_id  productive_year  decade  \\\n",
       "52954       55510                 Q44233           -715.0    -720   \n",
       "52955       55511                 Q44233           -715.0    -720   \n",
       "52956       55512                 Q44233           -715.0    -720   \n",
       "52957       55513                 Q44233           -715.0    -720   \n",
       "\n",
       "      individual_name  score        region_code          region_name  \n",
       "52954          Hesiod    147  re_eastern_europe       Eastern Europe  \n",
       "52955          Hesiod    147         re_balkans              Balkans  \n",
       "52956          Hesiod    147     re_greek_world          Greek World  \n",
       "52957          Hesiod    147  re_mediterreanean  mediterranean World  "
      ]
     },
     "execution_count": 7,
     "metadata": {},
     "output_type": "execute_result"
    }
   ],
   "source": [
    "# Individuals Regions\n",
    "\n",
    "df = pd.read_csv(\"../immaterial_index/results/df_individuals_score.csv\")\n",
    "print(len(set(df.individual_wikidata_id)))\n",
    "\n",
    "df[df['individual_name']=='Hesiod']"
   ]
  },
  {
   "cell_type": "code",
   "execution_count": 8,
   "metadata": {},
   "outputs": [],
   "source": [
    "\n",
    "\n",
    "# Load works of individuals\n",
    "\n",
    "df_ind_works = pd.read_sql_query(\"SELECT * FROM individual_created_work\", conn)\n",
    "\n",
    "df_count_work = (\n",
    "    df_ind_works.groupby(\"individual_wikidata_id\")[\"work_wikidata_id\"]\n",
    "    .count()\n",
    "    .rename(\"count_works\")\n",
    "    .reset_index()\n",
    ")\n",
    "df_final = pd.merge(df, df_count_work, on=\"individual_wikidata_id\", how=\"left\")\n",
    "df_final = df_final.fillna(0)  # When there is no works we add 0\n",
    "df_final = df_final.drop('Unnamed: 0', axis=1)\n",
    "df_final = df_final.drop('productive_year', axis=1)\n",
    "df_final.to_csv(DATA_PATH + \"/df_indi_works.csv\")\n"
   ]
  },
  {
   "cell_type": "code",
   "execution_count": 9,
   "metadata": {},
   "outputs": [],
   "source": [
    "df_clean_gdp = pd.read_sql_query(\"SELECT * FROM gdp_clean\", conn)\n",
    "regions_clean = list(set(df_clean_gdp[\"region_code\"]))\n",
    "df = df[df[\"region_code\"].isin(regions_clean)]\n",
    "df = df[df[\"decade\"] >= min(df_clean_gdp.year)]\n",
    "\n",
    "df_final = pd.merge(df, df_count_work, on=\"individual_wikidata_id\", how=\"left\")\n",
    "df_final = df_final.fillna(0)  # When there is no works we add 0\n",
    "df_final.to_csv(DATA_PATH + \"/df_indi_works_clean_gdp.csv\")"
   ]
  }
 ],
 "metadata": {
  "kernelspec": {
   "display_name": ".venv",
   "language": "python",
   "name": "python3"
  },
  "language_info": {
   "codemirror_mode": {
    "name": "ipython",
    "version": 3
   },
   "file_extension": ".py",
   "mimetype": "text/x-python",
   "name": "python",
   "nbconvert_exporter": "python",
   "pygments_lexer": "ipython3",
   "version": "3.11.7"
  }
 },
 "nbformat": 4,
 "nbformat_minor": 2
}
