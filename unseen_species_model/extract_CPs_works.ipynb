{
 "cells": [
  {
   "cell_type": "code",
   "execution_count": 1,
   "metadata": {},
   "outputs": [
    {
     "name": "stdout",
     "output_type": "stream",
     "text": [
      "159693\n"
     ]
    }
   ],
   "source": [
    "import sys\n",
    "\n",
    "sys.path.append(\"../\")\n",
    "\n",
    "import pandas as pd\n",
    "from dotenv import load_dotenv\n",
    "\n",
    "load_dotenv()\n",
    "import os\n",
    "import sqlite3\n",
    "\n",
    "DB_PATH = os.getenv(\"DB_PATH\")\n",
    "DATA_PATH = \"data\"\n",
    "\n",
    "conn = sqlite3.connect(DB_PATH)\n",
    "\n",
    "if not os.path.exists(DATA_PATH):\n",
    "    os.makedirs(DATA_PATH)"
   ]
  },
  {
   "cell_type": "code",
   "execution_count": 5,
   "metadata": {},
   "outputs": [
    {
     "name": "stdout",
     "output_type": "stream",
     "text": [
      "159693\n"
     ]
    }
   ],
   "source": [
    "# Individuals Regions\n",
    "\n",
    "df = pd.read_csv(\"../immaterial_index/results/df_individuals_score.csv\")\n",
    "print(len(set(df.individual_wikidata_id)))\n",
    "\n",
    "# Load works of individuals\n",
    "\n",
    "df_ind_works = pd.read_sql_query(\"SELECT * FROM individual_created_work\", conn)\n",
    "\n",
    "df_count_work = (\n",
    "    df_ind_works.groupby(\"individual_wikidata_id\")[\"work_wikidata_id\"]\n",
    "    .count()\n",
    "    .rename(\"count_works\")\n",
    "    .reset_index()\n",
    ")\n",
    "df_final = pd.merge(df, df_count_work, on=\"individual_wikidata_id\", how=\"left\")\n",
    "df_final = df_final.fillna(0)  # When there is no works we add 0\n",
    "df_final = df_final.drop('Unnamed: 0', axis=1)\n",
    "df_final = df_final.drop('productive_year', axis=1)\n",
    "df_final.to_csv(DATA_PATH + \"/df_indi_works.csv\")\n"
   ]
  },
  {
   "cell_type": "markdown",
   "metadata": {},
   "source": [
    "### Extract with Clean GDP"
   ]
  },
  {
   "cell_type": "code",
   "execution_count": 7,
   "metadata": {},
   "outputs": [],
   "source": [
    "df_clean_gdp = pd.read_sql_query(\"SELECT * FROM gdp_clean\", conn)\n",
    "regions_clean = list(set(df_clean_gdp[\"region_code\"]))\n",
    "df = df[df[\"region_code\"].isin(regions_clean)]\n",
    "df = df[df[\"decade\"] >= min(df_clean_gdp.year)]\n",
    "\n",
    "\n",
    "df_final = pd.merge(df, df_count_work, on=\"individual_wikidata_id\", how=\"left\")\n",
    "df_final = df_final.fillna(0)  # When there is no works we add 0\n",
    "df_final.to_csv(DATA_PATH + \"/df_indi_works_clean_gdp.csv\")"
   ]
  }
 ],
 "metadata": {
  "kernelspec": {
   "display_name": ".venv",
   "language": "python",
   "name": "python3"
  },
  "language_info": {
   "codemirror_mode": {
    "name": "ipython",
    "version": 3
   },
   "file_extension": ".py",
   "mimetype": "text/x-python",
   "name": "python",
   "nbconvert_exporter": "python",
   "pygments_lexer": "ipython3",
   "version": "3.11.5"
  }
 },
 "nbformat": 4,
 "nbformat_minor": 2
}
