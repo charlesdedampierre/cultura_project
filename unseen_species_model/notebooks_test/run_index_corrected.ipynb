{
 "cells": [
  {
   "cell_type": "code",
   "execution_count": 125,
   "metadata": {},
   "outputs": [
    {
     "name": "stdout",
     "output_type": "stream",
     "text": [
      "95955\n"
     ]
    }
   ],
   "source": [
    "import pandas as pd\n",
    "granularity = 50\n",
    "\n",
    "if granularity == 50:\n",
    "\n",
    "\n",
    "    df_cultura = pd.read_csv(\"../results_50/raw_results.csv\", index_col = [0])\n",
    "\n",
    "elif granularity == 10:\n",
    "\n",
    "\n",
    "    df_cultura = pd.read_csv(\"../results_10/raw_results.csv\", index_col = [0])\n",
    "\n",
    "\n",
    "df_cultura['N_est'] = df_cultura['f0'] + df_cultura['f1'] + df_cultura['f2']# plus the individual\n",
    "df_cultura['N_est_min']  =  df_cultura['min_f0'] + df_cultura['f1'] + df_cultura['f2']# plus the individual\n",
    "df_cultura['N_est_max']  =  df_cultura['max_f0'] + df_cultura['f1'] + df_cultura['f2']# plus the individual\n",
    "\n",
    "print(len(set(df_cultura.individual_wikidata_id)))\n",
    "\n",
    "df_cultura = df_cultura.groupby(['region_name', 'decade']).agg({'N_est': 'sum', 'N_est_min':'sum', 'N_est_max':'sum', 'individual_wikidata_id':'count'}).reset_index()\n",
    "df_cultura = df_cultura.rename(columns={\"individual_wikidata_id\": \"score\"})\n",
    "df_cultura = df_cultura[df_cultura['decade'] <=1870]\n",
    "\n",
    "df_cultura_world = df_cultura.drop('region_name', axis=1).groupby('decade').sum().reset_index()\n",
    "df_cultura_world['region_name']='world'\n",
    "\n",
    "df_cultura = pd.concat([df_cultura_world, df_cultura])\n"
   ]
  },
  {
   "cell_type": "markdown",
   "metadata": {},
   "source": [
    "# Index for Chinese World and Low Countries"
   ]
  },
  {
   "cell_type": "code",
   "execution_count": 126,
   "metadata": {},
   "outputs": [],
   "source": [
    "df_cultura['survival_rate'] = df_cultura['score']/ df_cultura['N_est']\n",
    "df_cultura['survival_rate_min'] = df_cultura['score']/ df_cultura['N_est_min']\n",
    "df_cultura['survival_rate_max'] = df_cultura['score']/ df_cultura['N_est_max']"
   ]
  },
  {
   "cell_type": "code",
   "execution_count": 127,
   "metadata": {},
   "outputs": [
    {
     "data": {
      "text/html": [
       "<div>\n",
       "<style scoped>\n",
       "    .dataframe tbody tr th:only-of-type {\n",
       "        vertical-align: middle;\n",
       "    }\n",
       "\n",
       "    .dataframe tbody tr th {\n",
       "        vertical-align: top;\n",
       "    }\n",
       "\n",
       "    .dataframe thead th {\n",
       "        text-align: right;\n",
       "    }\n",
       "</style>\n",
       "<table border=\"1\" class=\"dataframe\">\n",
       "  <thead>\n",
       "    <tr style=\"text-align: right;\">\n",
       "      <th></th>\n",
       "      <th>decade</th>\n",
       "      <th>N_est</th>\n",
       "      <th>N_est_min</th>\n",
       "      <th>N_est_max</th>\n",
       "      <th>score</th>\n",
       "      <th>region_name</th>\n",
       "      <th>survival_rate</th>\n",
       "      <th>survival_rate_min</th>\n",
       "      <th>survival_rate_max</th>\n",
       "    </tr>\n",
       "  </thead>\n",
       "  <tbody>\n",
       "    <tr>\n",
       "      <th>5</th>\n",
       "      <td>-500</td>\n",
       "      <td>447.270235</td>\n",
       "      <td>329.086995</td>\n",
       "      <td>666.646417</td>\n",
       "      <td>44</td>\n",
       "      <td>world</td>\n",
       "      <td>0.098375</td>\n",
       "      <td>0.133703</td>\n",
       "      <td>0.066002</td>\n",
       "    </tr>\n",
       "    <tr>\n",
       "      <th>6</th>\n",
       "      <td>-450</td>\n",
       "      <td>599.884357</td>\n",
       "      <td>448.570066</td>\n",
       "      <td>870.459254</td>\n",
       "      <td>67</td>\n",
       "      <td>world</td>\n",
       "      <td>0.111688</td>\n",
       "      <td>0.149364</td>\n",
       "      <td>0.076971</td>\n",
       "    </tr>\n",
       "    <tr>\n",
       "      <th>7</th>\n",
       "      <td>-400</td>\n",
       "      <td>622.337276</td>\n",
       "      <td>472.174418</td>\n",
       "      <td>879.424738</td>\n",
       "      <td>64</td>\n",
       "      <td>world</td>\n",
       "      <td>0.102838</td>\n",
       "      <td>0.135543</td>\n",
       "      <td>0.072775</td>\n",
       "    </tr>\n",
       "    <tr>\n",
       "      <th>8</th>\n",
       "      <td>-350</td>\n",
       "      <td>594.280080</td>\n",
       "      <td>465.745637</td>\n",
       "      <td>804.996851</td>\n",
       "      <td>68</td>\n",
       "      <td>world</td>\n",
       "      <td>0.114424</td>\n",
       "      <td>0.146002</td>\n",
       "      <td>0.084472</td>\n",
       "    </tr>\n",
       "    <tr>\n",
       "      <th>9</th>\n",
       "      <td>-300</td>\n",
       "      <td>603.266129</td>\n",
       "      <td>470.962023</td>\n",
       "      <td>820.816294</td>\n",
       "      <td>62</td>\n",
       "      <td>world</td>\n",
       "      <td>0.102774</td>\n",
       "      <td>0.131645</td>\n",
       "      <td>0.075535</td>\n",
       "    </tr>\n",
       "  </tbody>\n",
       "</table>\n",
       "</div>"
      ],
      "text/plain": [
       "   decade       N_est   N_est_min   N_est_max  score region_name  \\\n",
       "5    -500  447.270235  329.086995  666.646417     44       world   \n",
       "6    -450  599.884357  448.570066  870.459254     67       world   \n",
       "7    -400  622.337276  472.174418  879.424738     64       world   \n",
       "8    -350  594.280080  465.745637  804.996851     68       world   \n",
       "9    -300  603.266129  470.962023  820.816294     62       world   \n",
       "\n",
       "   survival_rate  survival_rate_min  survival_rate_max  \n",
       "5       0.098375           0.133703           0.066002  \n",
       "6       0.111688           0.149364           0.076971  \n",
       "7       0.102838           0.135543           0.072775  \n",
       "8       0.114424           0.146002           0.084472  \n",
       "9       0.102774           0.131645           0.075535  "
      ]
     },
     "execution_count": 127,
     "metadata": {},
     "output_type": "execute_result"
    }
   ],
   "source": [
    "region_name = 'world'\n",
    "df = df_cultura[df_cultura['region_name']==region_name]\n",
    "df = df[df['decade']>=-500]\n",
    "df.head(5)"
   ]
  },
  {
   "cell_type": "code",
   "execution_count": 131,
   "metadata": {},
   "outputs": [
    {
     "data": {
      "application/vnd.plotly.v1+json": {
       "config": {
        "plotlyServerURL": "https://plot.ly"
       },
       "data": [
        {
         "error_y": {
          "array": [
           219.3761814654087,
           270.57489626213385,
           257.087461357679,
           210.71677058107173,
           217.5501650788567,
           140.83965562016607,
           101.06936887159515,
           109.52662757058522,
           291.87602095585453,
           186.918057789748,
           75.01043602587538,
           167.24925256368817,
           119.10388958154124,
           141.28077945472086,
           67.15227072583801,
           60.618219955542656,
           41.36030909432347,
           39.80207570376703,
           61.467903937023436,
           56.466667822685196,
           71.70983229024401,
           86.08102584228902,
           109.46724603773731,
           207.33350103534144,
           215.52445279505628,
           150.7168745305047,
           205.5551558105317,
           155.29076461265936,
           154.58179374503095,
           191.6070851256029,
           238.56050621926556,
           150.95150363596338,
           182.83464668589795,
           324.2384138805148,
           798.3287959778531,
           946.3225670241172,
           881.8080246007321,
           746.6792211941847,
           1419.3808054731762,
           2036.6468561042639,
           5937.024355753885,
           12179.897354055429,
           21082.74413471663,
           18958.0331002576,
           26645.413178061746,
           39690.9684036597,
           70675.01780043333,
           145704.5377835019
          ],
          "arrayminus": [
           118.18323997140936,
           151.3142913774633,
           150.16285810925052,
           128.53444272174073,
           132.30410617534437,
           78.9979399022723,
           54.98059299084329,
           60.43554320401776,
           165.2277457574752,
           110.80768684925829,
           45.09302849194893,
           90.6073873621574,
           69.35804464580605,
           84.24258664106054,
           41.48048308846268,
           38.45672884395492,
           26.0148451515106,
           24.75499525567315,
           37.78116756462208,
           34.01498762974214,
           47.02967895665745,
           53.81520188173812,
           66.63137887905489,
           120.56298179760012,
           131.29237950980308,
           97.68444753468782,
           137.3049741300514,
           106.8857401033273,
           104.19638441795132,
           127.7619011976974,
           165.34789914089424,
           108.60789277933941,
           136.18001003874974,
           240.65740011033927,
           574.7878460301072,
           692.2360747200228,
           650.1929221905848,
           566.5142726167055,
           1074.6350404638742,
           1568.2903976039015,
           4593.01661209562,
           9451.312667145,
           16349.999018230257,
           14943.533287711281,
           21049.91470045544,
           31118.738009642024,
           55017.35207328497,
           112705.80774005491
          ],
          "symmetric": false,
          "type": "data"
         },
         "line": {
          "color": "royalblue"
         },
         "mode": "lines+markers",
         "name": "Corrected CPI",
         "type": "scatter",
         "x": [
          -500,
          -450,
          -400,
          -350,
          -300,
          -250,
          -200,
          -150,
          -100,
          -50,
          0,
          50,
          100,
          150,
          200,
          250,
          300,
          350,
          400,
          450,
          500,
          550,
          600,
          650,
          700,
          750,
          800,
          850,
          900,
          950,
          1000,
          1050,
          1100,
          1150,
          1200,
          1250,
          1300,
          1350,
          1400,
          1450,
          1500,
          1550,
          1600,
          1650,
          1700,
          1750,
          1800,
          1850
         ],
         "y": [
          447.2702351665152,
          599.8843573125412,
          622.3372764716469,
          594.2800800941893,
          603.2661292472711,
          327.91514376603783,
          216.6949186620579,
          244.21085320250904,
          681.547939794269,
          496.7093162306561,
          203.62848379636324,
          349.8101453168233,
          294.5292043377697,
          361.293362712382,
          201.45505954004776,
          196.40471761330434,
          136.0097898020579,
          126.2164377189601,
          186.64807577429195,
          164.80087243659062,
          243.28630410067709,
          265.43247434886456,
          301.4428043563664,
          501.83478012119997,
          590.0993334903162,
          494.94352807640814,
          730.3761628642094,
          620.9562677610431,
          583.6719111407567,
          706.4142798459037,
          978.5121732268624,
          708.9235642757427,
          977.8160907506899,
          1751.433961707194,
          3820.536254040518,
          4679.0740785044445,
          4761.806748231803,
          4533.783197267464,
          8674.91761209843,
          13506.948835113097,
          40250.383117964826,
          84258.06521706471,
          142109.26195130835,
          137672.5988304453,
          190718.74890646242,
          275316.9708566756,
          489439.12576572294,
          999377.1798953242
         ],
         "yaxis": "y"
        },
        {
         "line": {
          "color": "firebrick"
         },
         "mode": "lines+markers",
         "name": "CPI",
         "type": "scatter",
         "x": [
          -500,
          -450,
          -400,
          -350,
          -300,
          -250,
          -200,
          -150,
          -100,
          -50,
          0,
          50,
          100,
          150,
          200,
          250,
          300,
          350,
          400,
          450,
          500,
          550,
          600,
          650,
          700,
          750,
          800,
          850,
          900,
          950,
          1000,
          1050,
          1100,
          1150,
          1200,
          1250,
          1300,
          1350,
          1400,
          1450,
          1500,
          1550,
          1600,
          1650,
          1700,
          1750,
          1800,
          1850
         ],
         "y": [
          44,
          67,
          64,
          68,
          62,
          40,
          31,
          33,
          67,
          65,
          32,
          31,
          46,
          57,
          41,
          45,
          38,
          35,
          46,
          36,
          50,
          44,
          37,
          53,
          74,
          66,
          87,
          86,
          83,
          111,
          153,
          116,
          161,
          232,
          339,
          394,
          451,
          394,
          595,
          816,
          1912,
          3568,
          5149,
          5839,
          7288,
          9981,
          17903,
          39109
         ],
         "yaxis": "y"
        },
        {
         "error_y": {
          "array": [
           -0.03237252704696525,
           -0.03471733015182907,
           -0.030063281046947166,
           -0.029951781571334463,
           -0.027239315830776517,
           -0.03665031779560138,
           -0.045501680155097604,
           -0.041839608867234646,
           -0.02947642286570812,
           -0.03578020843464781,
           -0.04230496722086741,
           -0.028665072360458135,
           -0.04497178580851109,
           -0.0443504279321006,
           -0.050880166046385594,
           -0.054037082710957446,
           -0.06515035622843784,
           -0.06648157908302396,
           -0.06105594859191818,
           -0.055746479554073386,
           -0.046787067266693155,
           -0.04059420547940487,
           -0.032698981923959994,
           -0.030877013729352393,
           -0.03354832691004228,
           -0.031127626922199184,
           -0.026161163563953746,
           -0.02770659213789342,
           -0.02977570177788602,
           -0.03352651438946119,
           -0.03064835941533453,
           -0.02872504141733742,
           -0.02593735233527819,
           -0.020691876558666014,
           -0.015336345863376247,
           -0.014165188164274603,
           -0.01479862825634784,
           -0.012288463476099187,
           -0.009644381806731314,
           -0.007915842489460992,
           -0.006106088777225807,
           -0.005348216322189826,
           -0.004680893550570872,
           -0.00513342878737464,
           -0.004684351680040666,
           -0.004567844052515403,
           -0.004615476191383874,
           -0.004979478708241392
          ],
          "arrayminus": [
           -0.035328715737145355,
           -0.03767531784531572,
           -0.03270500582545617,
           -0.03157827939163811,
           -0.02887155544483666,
           -0.03871322661288601,
           -0.04863779654724748,
           -0.044437973426235816,
           -0.03145880778156898,
           -0.03757546187577279,
           -0.0446986545098689,
           -0.030977993378294336,
           -0.04810758367301926,
           -0.047971930368637256,
           -0.052771387631575656,
           -0.05578517995687604,
           -0.0660787694660761,
           -0.06765718758218164,
           -0.06254772541943138,
           -0.0568136166819625,
           -0.04924929649878479,
           -0.042155328921463425,
           -0.034830232887988546,
           -0.033395996748429524,
           -0.03588526216081775,
           -0.03278988377838887,
           -0.027577323002979146,
           -0.028796154763898546,
           -0.030902634345855245,
           -0.034693421473566716,
           -0.031794030703831216,
           -0.029603310713962105,
           -0.0266414410857784,
           -0.02110052204282914,
           -0.015713325125750174,
           -0.014620490385283888,
           -0.014977340232014802,
           -0.012409511578328716,
           -0.009698015302042437,
           -0.007936040218061255,
           -0.006118805109275524,
           -0.005350134400962291,
           -0.004710621994041292,
           -0.005164126027690508,
           -0.004740926684853021,
           -0.004619771894674621,
           -0.004632497864036703,
           -0.004974287608543515
          ],
          "color": "lightgreen",
          "symmetric": false,
          "thickness": 1.5,
          "type": "data",
          "width": 10
         },
         "marker": {
          "color": "rgba(144, 238, 144, 0.5)"
         },
         "name": "Survival Rate",
         "textposition": "outside",
         "texttemplate": "%{y:.2f}%",
         "type": "bar",
         "x": [
          -500,
          -450,
          -400,
          -350,
          -300,
          -250,
          -200,
          -150,
          -100,
          -50,
          0,
          50,
          100,
          150,
          200,
          250,
          300,
          350,
          400,
          450,
          500,
          550,
          600,
          650,
          700,
          750,
          800,
          850,
          900,
          950,
          1000,
          1050,
          1100,
          1150,
          1200,
          1250,
          1300,
          1350,
          1400,
          1450,
          1500,
          1550,
          1600,
          1650,
          1700,
          1750,
          1800,
          1850
         ],
         "y": [
          0.09837453186130113,
          0.11168819320469936,
          0.10283812720145775,
          0.11442416173401347,
          0.10277387871479021,
          0.12198277743628502,
          0.14305826916202596,
          0.13512912946843983,
          0.09830563059177394,
          0.13086124595620843,
          0.1571489381220424,
          0.08861949950571982,
          0.15618145610866702,
          0.1577665295926748,
          0.20351933624109106,
          0.22911873272107047,
          0.279391653022208,
          0.27730144054558703,
          0.24645311669661385,
          0.21844544551092404,
          0.20551917291369154,
          0.16576720730173242,
          0.1227430194560508,
          0.10561244875693904,
          0.12540261579742043,
          0.133348546361457,
          0.11911670235625547,
          0.13849606560875327,
          0.142203176846014,
          0.15713159142849348,
          0.15635983300590767,
          0.1636283597350993,
          0.1646526392058009,
          0.13246288759517952,
          0.08873099938300043,
          0.084204693789745,
          0.094711949443868,
          0.08690314089951764,
          0.06858854765031845,
          0.060413347970838555,
          0.047502653438014686,
          0.042346094594127665,
          0.036232684128387274,
          0.042412216008148367,
          0.038213337921875645,
          0.03625275975158068,
          0.036578604074594415,
          0.039133373051500255
         ],
         "yaxis": "y2"
        }
       ],
       "layout": {
        "font": {
         "color": "black",
         "family": "Arial, sans-serif",
         "size": 12
        },
        "hovermode": "x unified",
        "legend": {
         "title": {
          "text": "Metrics"
         }
        },
        "margin": {
         "t": 50
        },
        "plot_bgcolor": "white",
        "template": {
         "data": {
          "bar": [
           {
            "error_x": {
             "color": "#2a3f5f"
            },
            "error_y": {
             "color": "#2a3f5f"
            },
            "marker": {
             "line": {
              "color": "#E5ECF6",
              "width": 0.5
             },
             "pattern": {
              "fillmode": "overlay",
              "size": 10,
              "solidity": 0.2
             }
            },
            "type": "bar"
           }
          ],
          "barpolar": [
           {
            "marker": {
             "line": {
              "color": "#E5ECF6",
              "width": 0.5
             },
             "pattern": {
              "fillmode": "overlay",
              "size": 10,
              "solidity": 0.2
             }
            },
            "type": "barpolar"
           }
          ],
          "carpet": [
           {
            "aaxis": {
             "endlinecolor": "#2a3f5f",
             "gridcolor": "white",
             "linecolor": "white",
             "minorgridcolor": "white",
             "startlinecolor": "#2a3f5f"
            },
            "baxis": {
             "endlinecolor": "#2a3f5f",
             "gridcolor": "white",
             "linecolor": "white",
             "minorgridcolor": "white",
             "startlinecolor": "#2a3f5f"
            },
            "type": "carpet"
           }
          ],
          "choropleth": [
           {
            "colorbar": {
             "outlinewidth": 0,
             "ticks": ""
            },
            "type": "choropleth"
           }
          ],
          "contour": [
           {
            "colorbar": {
             "outlinewidth": 0,
             "ticks": ""
            },
            "colorscale": [
             [
              0,
              "#0d0887"
             ],
             [
              0.1111111111111111,
              "#46039f"
             ],
             [
              0.2222222222222222,
              "#7201a8"
             ],
             [
              0.3333333333333333,
              "#9c179e"
             ],
             [
              0.4444444444444444,
              "#bd3786"
             ],
             [
              0.5555555555555556,
              "#d8576b"
             ],
             [
              0.6666666666666666,
              "#ed7953"
             ],
             [
              0.7777777777777778,
              "#fb9f3a"
             ],
             [
              0.8888888888888888,
              "#fdca26"
             ],
             [
              1,
              "#f0f921"
             ]
            ],
            "type": "contour"
           }
          ],
          "contourcarpet": [
           {
            "colorbar": {
             "outlinewidth": 0,
             "ticks": ""
            },
            "type": "contourcarpet"
           }
          ],
          "heatmap": [
           {
            "colorbar": {
             "outlinewidth": 0,
             "ticks": ""
            },
            "colorscale": [
             [
              0,
              "#0d0887"
             ],
             [
              0.1111111111111111,
              "#46039f"
             ],
             [
              0.2222222222222222,
              "#7201a8"
             ],
             [
              0.3333333333333333,
              "#9c179e"
             ],
             [
              0.4444444444444444,
              "#bd3786"
             ],
             [
              0.5555555555555556,
              "#d8576b"
             ],
             [
              0.6666666666666666,
              "#ed7953"
             ],
             [
              0.7777777777777778,
              "#fb9f3a"
             ],
             [
              0.8888888888888888,
              "#fdca26"
             ],
             [
              1,
              "#f0f921"
             ]
            ],
            "type": "heatmap"
           }
          ],
          "heatmapgl": [
           {
            "colorbar": {
             "outlinewidth": 0,
             "ticks": ""
            },
            "colorscale": [
             [
              0,
              "#0d0887"
             ],
             [
              0.1111111111111111,
              "#46039f"
             ],
             [
              0.2222222222222222,
              "#7201a8"
             ],
             [
              0.3333333333333333,
              "#9c179e"
             ],
             [
              0.4444444444444444,
              "#bd3786"
             ],
             [
              0.5555555555555556,
              "#d8576b"
             ],
             [
              0.6666666666666666,
              "#ed7953"
             ],
             [
              0.7777777777777778,
              "#fb9f3a"
             ],
             [
              0.8888888888888888,
              "#fdca26"
             ],
             [
              1,
              "#f0f921"
             ]
            ],
            "type": "heatmapgl"
           }
          ],
          "histogram": [
           {
            "marker": {
             "pattern": {
              "fillmode": "overlay",
              "size": 10,
              "solidity": 0.2
             }
            },
            "type": "histogram"
           }
          ],
          "histogram2d": [
           {
            "colorbar": {
             "outlinewidth": 0,
             "ticks": ""
            },
            "colorscale": [
             [
              0,
              "#0d0887"
             ],
             [
              0.1111111111111111,
              "#46039f"
             ],
             [
              0.2222222222222222,
              "#7201a8"
             ],
             [
              0.3333333333333333,
              "#9c179e"
             ],
             [
              0.4444444444444444,
              "#bd3786"
             ],
             [
              0.5555555555555556,
              "#d8576b"
             ],
             [
              0.6666666666666666,
              "#ed7953"
             ],
             [
              0.7777777777777778,
              "#fb9f3a"
             ],
             [
              0.8888888888888888,
              "#fdca26"
             ],
             [
              1,
              "#f0f921"
             ]
            ],
            "type": "histogram2d"
           }
          ],
          "histogram2dcontour": [
           {
            "colorbar": {
             "outlinewidth": 0,
             "ticks": ""
            },
            "colorscale": [
             [
              0,
              "#0d0887"
             ],
             [
              0.1111111111111111,
              "#46039f"
             ],
             [
              0.2222222222222222,
              "#7201a8"
             ],
             [
              0.3333333333333333,
              "#9c179e"
             ],
             [
              0.4444444444444444,
              "#bd3786"
             ],
             [
              0.5555555555555556,
              "#d8576b"
             ],
             [
              0.6666666666666666,
              "#ed7953"
             ],
             [
              0.7777777777777778,
              "#fb9f3a"
             ],
             [
              0.8888888888888888,
              "#fdca26"
             ],
             [
              1,
              "#f0f921"
             ]
            ],
            "type": "histogram2dcontour"
           }
          ],
          "mesh3d": [
           {
            "colorbar": {
             "outlinewidth": 0,
             "ticks": ""
            },
            "type": "mesh3d"
           }
          ],
          "parcoords": [
           {
            "line": {
             "colorbar": {
              "outlinewidth": 0,
              "ticks": ""
             }
            },
            "type": "parcoords"
           }
          ],
          "pie": [
           {
            "automargin": true,
            "type": "pie"
           }
          ],
          "scatter": [
           {
            "fillpattern": {
             "fillmode": "overlay",
             "size": 10,
             "solidity": 0.2
            },
            "type": "scatter"
           }
          ],
          "scatter3d": [
           {
            "line": {
             "colorbar": {
              "outlinewidth": 0,
              "ticks": ""
             }
            },
            "marker": {
             "colorbar": {
              "outlinewidth": 0,
              "ticks": ""
             }
            },
            "type": "scatter3d"
           }
          ],
          "scattercarpet": [
           {
            "marker": {
             "colorbar": {
              "outlinewidth": 0,
              "ticks": ""
             }
            },
            "type": "scattercarpet"
           }
          ],
          "scattergeo": [
           {
            "marker": {
             "colorbar": {
              "outlinewidth": 0,
              "ticks": ""
             }
            },
            "type": "scattergeo"
           }
          ],
          "scattergl": [
           {
            "marker": {
             "colorbar": {
              "outlinewidth": 0,
              "ticks": ""
             }
            },
            "type": "scattergl"
           }
          ],
          "scattermapbox": [
           {
            "marker": {
             "colorbar": {
              "outlinewidth": 0,
              "ticks": ""
             }
            },
            "type": "scattermapbox"
           }
          ],
          "scatterpolar": [
           {
            "marker": {
             "colorbar": {
              "outlinewidth": 0,
              "ticks": ""
             }
            },
            "type": "scatterpolar"
           }
          ],
          "scatterpolargl": [
           {
            "marker": {
             "colorbar": {
              "outlinewidth": 0,
              "ticks": ""
             }
            },
            "type": "scatterpolargl"
           }
          ],
          "scatterternary": [
           {
            "marker": {
             "colorbar": {
              "outlinewidth": 0,
              "ticks": ""
             }
            },
            "type": "scatterternary"
           }
          ],
          "surface": [
           {
            "colorbar": {
             "outlinewidth": 0,
             "ticks": ""
            },
            "colorscale": [
             [
              0,
              "#0d0887"
             ],
             [
              0.1111111111111111,
              "#46039f"
             ],
             [
              0.2222222222222222,
              "#7201a8"
             ],
             [
              0.3333333333333333,
              "#9c179e"
             ],
             [
              0.4444444444444444,
              "#bd3786"
             ],
             [
              0.5555555555555556,
              "#d8576b"
             ],
             [
              0.6666666666666666,
              "#ed7953"
             ],
             [
              0.7777777777777778,
              "#fb9f3a"
             ],
             [
              0.8888888888888888,
              "#fdca26"
             ],
             [
              1,
              "#f0f921"
             ]
            ],
            "type": "surface"
           }
          ],
          "table": [
           {
            "cells": {
             "fill": {
              "color": "#EBF0F8"
             },
             "line": {
              "color": "white"
             }
            },
            "header": {
             "fill": {
              "color": "#C8D4E3"
             },
             "line": {
              "color": "white"
             }
            },
            "type": "table"
           }
          ]
         },
         "layout": {
          "annotationdefaults": {
           "arrowcolor": "#2a3f5f",
           "arrowhead": 0,
           "arrowwidth": 1
          },
          "autotypenumbers": "strict",
          "coloraxis": {
           "colorbar": {
            "outlinewidth": 0,
            "ticks": ""
           }
          },
          "colorscale": {
           "diverging": [
            [
             0,
             "#8e0152"
            ],
            [
             0.1,
             "#c51b7d"
            ],
            [
             0.2,
             "#de77ae"
            ],
            [
             0.3,
             "#f1b6da"
            ],
            [
             0.4,
             "#fde0ef"
            ],
            [
             0.5,
             "#f7f7f7"
            ],
            [
             0.6,
             "#e6f5d0"
            ],
            [
             0.7,
             "#b8e186"
            ],
            [
             0.8,
             "#7fbc41"
            ],
            [
             0.9,
             "#4d9221"
            ],
            [
             1,
             "#276419"
            ]
           ],
           "sequential": [
            [
             0,
             "#0d0887"
            ],
            [
             0.1111111111111111,
             "#46039f"
            ],
            [
             0.2222222222222222,
             "#7201a8"
            ],
            [
             0.3333333333333333,
             "#9c179e"
            ],
            [
             0.4444444444444444,
             "#bd3786"
            ],
            [
             0.5555555555555556,
             "#d8576b"
            ],
            [
             0.6666666666666666,
             "#ed7953"
            ],
            [
             0.7777777777777778,
             "#fb9f3a"
            ],
            [
             0.8888888888888888,
             "#fdca26"
            ],
            [
             1,
             "#f0f921"
            ]
           ],
           "sequentialminus": [
            [
             0,
             "#0d0887"
            ],
            [
             0.1111111111111111,
             "#46039f"
            ],
            [
             0.2222222222222222,
             "#7201a8"
            ],
            [
             0.3333333333333333,
             "#9c179e"
            ],
            [
             0.4444444444444444,
             "#bd3786"
            ],
            [
             0.5555555555555556,
             "#d8576b"
            ],
            [
             0.6666666666666666,
             "#ed7953"
            ],
            [
             0.7777777777777778,
             "#fb9f3a"
            ],
            [
             0.8888888888888888,
             "#fdca26"
            ],
            [
             1,
             "#f0f921"
            ]
           ]
          },
          "colorway": [
           "#636efa",
           "#EF553B",
           "#00cc96",
           "#ab63fa",
           "#FFA15A",
           "#19d3f3",
           "#FF6692",
           "#B6E880",
           "#FF97FF",
           "#FECB52"
          ],
          "font": {
           "color": "#2a3f5f"
          },
          "geo": {
           "bgcolor": "white",
           "lakecolor": "white",
           "landcolor": "#E5ECF6",
           "showlakes": true,
           "showland": true,
           "subunitcolor": "white"
          },
          "hoverlabel": {
           "align": "left"
          },
          "hovermode": "closest",
          "mapbox": {
           "style": "light"
          },
          "paper_bgcolor": "white",
          "plot_bgcolor": "#E5ECF6",
          "polar": {
           "angularaxis": {
            "gridcolor": "white",
            "linecolor": "white",
            "ticks": ""
           },
           "bgcolor": "#E5ECF6",
           "radialaxis": {
            "gridcolor": "white",
            "linecolor": "white",
            "ticks": ""
           }
          },
          "scene": {
           "xaxis": {
            "backgroundcolor": "#E5ECF6",
            "gridcolor": "white",
            "gridwidth": 2,
            "linecolor": "white",
            "showbackground": true,
            "ticks": "",
            "zerolinecolor": "white"
           },
           "yaxis": {
            "backgroundcolor": "#E5ECF6",
            "gridcolor": "white",
            "gridwidth": 2,
            "linecolor": "white",
            "showbackground": true,
            "ticks": "",
            "zerolinecolor": "white"
           },
           "zaxis": {
            "backgroundcolor": "#E5ECF6",
            "gridcolor": "white",
            "gridwidth": 2,
            "linecolor": "white",
            "showbackground": true,
            "ticks": "",
            "zerolinecolor": "white"
           }
          },
          "shapedefaults": {
           "line": {
            "color": "#2a3f5f"
           }
          },
          "ternary": {
           "aaxis": {
            "gridcolor": "white",
            "linecolor": "white",
            "ticks": ""
           },
           "baxis": {
            "gridcolor": "white",
            "linecolor": "white",
            "ticks": ""
           },
           "bgcolor": "#E5ECF6",
           "caxis": {
            "gridcolor": "white",
            "linecolor": "white",
            "ticks": ""
           }
          },
          "title": {
           "x": 0.05
          },
          "xaxis": {
           "automargin": true,
           "gridcolor": "white",
           "linecolor": "white",
           "ticks": "",
           "title": {
            "standoff": 15
           },
           "zerolinecolor": "white",
           "zerolinewidth": 2
          },
          "yaxis": {
           "automargin": true,
           "gridcolor": "white",
           "linecolor": "white",
           "ticks": "",
           "title": {
            "standoff": 15
           },
           "zerolinecolor": "white",
           "zerolinewidth": 2
          }
         }
        },
        "title": {
         "text": "world"
        },
        "xaxis": {
         "showgrid": false,
         "title": {
          "text": ""
         }
        },
        "yaxis": {
         "showgrid": true,
         "tickfont": {
          "color": "black"
         },
         "title": {
          "font": {
           "color": "black"
          },
          "text": "Number of CPs (Log Scale)"
         },
         "type": "log"
        },
        "yaxis2": {
         "anchor": "free",
         "overlaying": "y",
         "position": 0.98,
         "showgrid": true,
         "side": "right",
         "tickfont": {
          "color": "white"
         },
         "title": {
          "font": {
           "color": "white"
          },
          "text": "Survival Rate"
         }
        }
       }
      }
     },
     "metadata": {},
     "output_type": "display_data"
    }
   ],
   "source": [
    "import plotly.graph_objects as go\n",
    "\n",
    "# Create a plot\n",
    "fig = go.Figure()\n",
    "\n",
    "# Add trace for N_est with error bars on the left y-axis\n",
    "fig.add_trace(go.Scatter(\n",
    "    x=df['decade'], y=df['N_est'],\n",
    "    mode='lines+markers',\n",
    "    name='Corrected CPI',\n",
    "    line=dict(color='royalblue'),\n",
    "    yaxis='y1',  # Assign to the left y-axis\n",
    "    error_y=dict(\n",
    "        type='data',  # represent data variability\n",
    "        symmetric=False,\n",
    "        array=df['N_est_max'] - df['N_est'],\n",
    "        arrayminus=df['N_est'] - df['N_est_min']\n",
    "    )\n",
    "))\n",
    "\n",
    "# Add trace for score on the left y-axis\n",
    "fig.add_trace(go.Scatter(\n",
    "    x=df['decade'], y=df['score'],\n",
    "    mode='lines+markers',\n",
    "    name='CPI',\n",
    "    line=dict(color='firebrick'),\n",
    "    yaxis='y1'  # Keep on the left y-axis\n",
    "))\n",
    "\n",
    "# Add bar trace for survival_rate with error bars on the right y-axis\n",
    "fig.add_trace(go.Bar(\n",
    "    x=df['decade'], y=df['survival_rate'],\n",
    "    name='Survival Rate',\n",
    "    marker=dict(color='rgba(144, 238, 144, 0.5)'),\n",
    "    yaxis='y2',  # Assign to the right y-axis\n",
    "    error_y=dict(\n",
    "        type='data',\n",
    "        symmetric=False,\n",
    "        array=df['survival_rate_max'] - df['survival_rate'],\n",
    "        arrayminus=df['survival_rate'] - df['survival_rate_min'],\n",
    "        color='lightgreen',  # Color of the error bars\n",
    "        thickness=1.5,  # Set the thickness of the error bars (optional)\n",
    "        width=10  # Set the width of the error bar caps (optional)\n",
    "    )\n",
    "))\n",
    "\n",
    "fig.update_traces(texttemplate='%{y:.2f}%', textposition='outside', selector=dict(type='bar'))\n",
    "\n",
    "# Customize the layout with a secondary y-axis\n",
    "fig.update_layout(\n",
    "    title=region_name,\n",
    "    xaxis_title='',\n",
    "    yaxis=dict(\n",
    "        title='Number of CPs (Log Scale)',\n",
    "        titlefont=dict(color='black'),\n",
    "        tickfont=dict(color='black')\n",
    "    ),\n",
    "    yaxis2=dict(\n",
    "        title='Survival Rate',\n",
    "        titlefont=dict(color='white'),\n",
    "        tickfont=dict(color='white'),\n",
    "        anchor=\"free\",\n",
    "        overlaying=\"y\",\n",
    "        side=\"right\",\n",
    "        position=0.98\n",
    "    ),\n",
    "    legend_title='Metrics',\n",
    "    font=dict(\n",
    "        family=\"Arial, sans-serif\",\n",
    "        size=12,\n",
    "        color=\"black\"\n",
    "    ),\n",
    "    plot_bgcolor='white',\n",
    "    hovermode=\"x unified\"\n",
    ")\n",
    "\n",
    "fig.update_layout(yaxis_type='log')\n",
    "fig.update_xaxes(showgrid=False)\n",
    "fig.update_yaxes(showgrid=True)\n",
    "fig.update_layout(\n",
    "    margin=dict(t=50)  # Increase the top margin\n",
    ")\n",
    "\n",
    "# Show the figure\n",
    "fig.show()"
   ]
  },
  {
   "cell_type": "code",
   "execution_count": 129,
   "metadata": {},
   "outputs": [],
   "source": [
    "df_cultura['decade'] = df_cultura['decade'].astype(int)"
   ]
  },
  {
   "cell_type": "code",
   "execution_count": 130,
   "metadata": {},
   "outputs": [
    {
     "data": {
      "image/png": "[encoded data removed]",
      "text/plain": [
       "<Figure size 1000x600 with 1 Axes>"
      ]
     },
     "metadata": {},
     "output_type": "display_data"
    }
   ],
   "source": [
    "\n",
    "\n",
    "# Get unique region names\n",
    "regions = df['region_name'].unique()\n",
    "\n",
    "# Iterate through each region\n",
    "for region in regions:\n",
    "    # Subset data for the current region\n",
    "    df_region = df[df['region_name'] == region]\n",
    "    \n",
    "    # Plot\n",
    "    plt.figure(figsize=(10, 6))\n",
    "\n",
    "    # Add LOESS regression lines for N_est, N_est_min, and N_est_max\n",
    "    n = 0.1\n",
    "    lowess = sm.nonparametric.lowess(df_region['N_est'], df_region['decade'], frac=n)\n",
    "    plt.plot(lowess[:, 0], lowess[:, 1], label='N_est', color='blue')\n",
    "\n",
    "    # Compute LOESS regressions for N_est_min and N_est_max\n",
    "    lowess_min = sm.nonparametric.lowess(df_region['N_est_min'], df_region['decade'], frac=n)\n",
    "    lowess_max = sm.nonparametric.lowess(df_region['N_est_max'], df_region['decade'], frac=n)\n",
    "\n",
    "    # Fill between N_est_min and N_est_max LOESS regressions\n",
    "    plt.fill_between(lowess_min[:, 0], lowess_min[:, 1], lowess_max[:, 1], color='lightgrey', alpha=0.5)\n",
    "\n",
    "    # Set y-axis ticks to every 100\n",
    "    plt.gca().yaxis.set_major_locator(MultipleLocator(100))\n",
    "    \n",
    "    # Set y-axis to log scale\n",
    "    plt.yscale('log')\n",
    "\n",
    "    # Add title and labels\n",
    "    plt.title(region)\n",
    "    plt.xlabel('')\n",
    "    plt.ylabel('Log Corrected Index')\n",
    "\n",
    "    # Show plot\n",
    "    plt.tight_layout()\n",
    "    plt.savefig(f'corrected_index/{region}.png')\n",
    "    plt.show()\n",
    "    \n",
    " \n"
   ]
  }
 ],
 "metadata": {
  "kernelspec": {
   "display_name": ".venv",
   "language": "python",
   "name": "python3"
  },
  "language_info": {
   "codemirror_mode": {
    "name": "ipython",
    "version": 3
   },
   "file_extension": ".py",
   "mimetype": "text/x-python",
   "name": "python",
   "nbconvert_exporter": "python",
   "pygments_lexer": "ipython3",
   "version": "3.11.7"
  }
 },
 "nbformat": 4,
 "nbformat_minor": 2
}
