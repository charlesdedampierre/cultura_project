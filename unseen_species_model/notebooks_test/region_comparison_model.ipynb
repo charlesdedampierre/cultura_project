{
 "cells": [
  {
   "cell_type": "code",
   "execution_count": 3,
   "metadata": {},
   "outputs": [
    {
     "name": "stdout",
     "output_type": "stream",
     "text": [
      "\n",
      "\u001b[1m[\u001b[0m\u001b[34;49mnotice\u001b[0m\u001b[1;39;49m]\u001b[0m\u001b[39;49m A new release of pip is available: \u001b[0m\u001b[31;49m23.3.1\u001b[0m\u001b[39;49m -> \u001b[0m\u001b[32;49m24.0\u001b[0m\n",
      "\u001b[1m[\u001b[0m\u001b[34;49mnotice\u001b[0m\u001b[1;39;49m]\u001b[0m\u001b[39;49m To update, run: \u001b[0m\u001b[32;49mpip install --upgrade pip\u001b[0m\n"
     ]
    }
   ],
   "source": [
    "!pip -q install git+https://github.com/mikekestemont/copia.git@feature/coverage-based-rarefaction"
   ]
  },
  {
   "cell_type": "code",
   "execution_count": 4,
   "metadata": {},
   "outputs": [],
   "source": [
    "import pandas as pd\n",
    "\n",
    "from copia.data import to_copia_dataset"
   ]
  },
  {
   "cell_type": "code",
   "execution_count": null,
   "metadata": {},
   "outputs": [],
   "source": [
    "#This function aThis function allows you to make a dataset object based on counts or observations (in our case, probably counts):\n",
    "#Allows you to make a dataset object based on counts or observations (in our case, probably counts):"
   ]
  },
  {
   "cell_type": "code",
   "execution_count": 41,
   "metadata": {},
   "outputs": [
    {
     "name": "stdout",
     "output_type": "stream",
     "text": [
      "occupation\n",
      "Written work    125054\n",
      "Work of art     115210\n",
      "Science          65822\n",
      "Music            48289\n",
      "Sculpture        27231\n",
      "Architecture     24493\n",
      "Theater          11977\n",
      "Name: count, dtype: int64\n"
     ]
    },
    {
     "data": {
      "text/html": [
       "<div>\n",
       "<style scoped>\n",
       "    .dataframe tbody tr th:only-of-type {\n",
       "        vertical-align: middle;\n",
       "    }\n",
       "\n",
       "    .dataframe tbody tr th {\n",
       "        vertical-align: top;\n",
       "    }\n",
       "\n",
       "    .dataframe thead th {\n",
       "        text-align: right;\n",
       "    }\n",
       "</style>\n",
       "<table border=\"1\" class=\"dataframe\">\n",
       "  <thead>\n",
       "    <tr style=\"text-align: right;\">\n",
       "      <th></th>\n",
       "      <th>individual_wikidata_id</th>\n",
       "      <th>count_works</th>\n",
       "      <th>region_name</th>\n",
       "    </tr>\n",
       "  </thead>\n",
       "  <tbody>\n",
       "    <tr>\n",
       "      <th>12</th>\n",
       "      <td>Q3568446</td>\n",
       "      <td>1</td>\n",
       "      <td>France</td>\n",
       "    </tr>\n",
       "    <tr>\n",
       "      <th>47</th>\n",
       "      <td>Q2861953</td>\n",
       "      <td>1</td>\n",
       "      <td>France</td>\n",
       "    </tr>\n",
       "    <tr>\n",
       "      <th>62</th>\n",
       "      <td>Q923557</td>\n",
       "      <td>1</td>\n",
       "      <td>France</td>\n",
       "    </tr>\n",
       "    <tr>\n",
       "      <th>118</th>\n",
       "      <td>Q3430952</td>\n",
       "      <td>1</td>\n",
       "      <td>France</td>\n",
       "    </tr>\n",
       "    <tr>\n",
       "      <th>122</th>\n",
       "      <td>Q5954623</td>\n",
       "      <td>1</td>\n",
       "      <td>France</td>\n",
       "    </tr>\n",
       "    <tr>\n",
       "      <th>...</th>\n",
       "      <td>...</td>\n",
       "      <td>...</td>\n",
       "      <td>...</td>\n",
       "    </tr>\n",
       "    <tr>\n",
       "      <th>418143</th>\n",
       "      <td>Q3384589</td>\n",
       "      <td>1</td>\n",
       "      <td>France</td>\n",
       "    </tr>\n",
       "    <tr>\n",
       "      <th>418165</th>\n",
       "      <td>Q3136089</td>\n",
       "      <td>1</td>\n",
       "      <td>France</td>\n",
       "    </tr>\n",
       "    <tr>\n",
       "      <th>418176</th>\n",
       "      <td>Q15407046</td>\n",
       "      <td>1</td>\n",
       "      <td>France</td>\n",
       "    </tr>\n",
       "    <tr>\n",
       "      <th>418183</th>\n",
       "      <td>Q330515</td>\n",
       "      <td>1</td>\n",
       "      <td>France</td>\n",
       "    </tr>\n",
       "    <tr>\n",
       "      <th>418187</th>\n",
       "      <td>Q3260492</td>\n",
       "      <td>1</td>\n",
       "      <td>France</td>\n",
       "    </tr>\n",
       "  </tbody>\n",
       "</table>\n",
       "<p>15756 rows × 3 columns</p>\n",
       "</div>"
      ],
      "text/plain": [
       "       individual_wikidata_id  count_works region_name\n",
       "12                   Q3568446            1      France\n",
       "47                   Q2861953            1      France\n",
       "62                    Q923557            1      France\n",
       "118                  Q3430952            1      France\n",
       "122                  Q5954623            1      France\n",
       "...                       ...          ...         ...\n",
       "418143               Q3384589            1      France\n",
       "418165               Q3136089            1      France\n",
       "418176              Q15407046            1      France\n",
       "418183                Q330515            1      France\n",
       "418187               Q3260492            1      France\n",
       "\n",
       "[15756 rows x 3 columns]"
      ]
     },
     "execution_count": 41,
     "metadata": {},
     "output_type": "execute_result"
    }
   ],
   "source": [
    "import pandas as pd\n",
    "import bambi as bmb\n",
    "import arviz as az\n",
    "import numpy as np\n",
    "import matplotlib.pyplot as plt\n",
    "from tqdm import tqdm\n",
    "\n",
    "pd.options.mode.chained_assignment = None\n",
    "pd.options.display.float_format = '{:.2f}'.format\n",
    "\n",
    "\n",
    "df = pd.read_csv(\"../data/df_indi_works_occupations.csv\", index_col=0)\n",
    "print(df.occupation.value_counts())\n",
    "\n",
    "regions = pd.read_csv(\n",
    "    \"../data/ENS - Cultural Index - Countries Databases - region_level.csv\"\n",
    ")\n",
    "regions[\"region_name\"][regions[\"region_name\"] == \"Slav world\"] = \"East Slavic\"\n",
    "regions = regions[regions[\"level\"] == 2]\n",
    "regions = regions[regions[\"region_name\"] != \"Balkans\"]\n",
    "regions = regions[\n",
    "    regions[\"region_name\"] != \"Eastern Europe\"\n",
    "]  # remove because it takes East Slavic and Central Europe\n",
    "regions = set(regions[\"region_name\"])\n",
    "df = df[df[\"region_name\"].isin(regions)]\n",
    "\n",
    "df[\"century\"] = df[\"decade\"].round(-2)\n",
    "\n",
    "# Avoid overlapping with Antiquity\n",
    "\n",
    "df = df[~((df[\"region_name\"] == \"Italy\") & (df[\"decade\"] < 500))]\n",
    "df = df[~((df[\"region_name\"] == \"Italy\") & (df[\"decade\"] < 500))]\n",
    "df = df[~((df[\"region_name\"] == \"Portugal\") & (df[\"decade\"] < 500))]\n",
    "df = df[~((df[\"region_name\"] == \"Spain\") & (df[\"decade\"] < 500))]\n",
    "df = df[~((df[\"region_name\"] == \"Arabic world\") & (df[\"decade\"] < 500))]\n",
    "df = df[~((df[\"region_name\"] == \"Balkans\") & (df[\"decade\"] < 500))]\n",
    "df = df[~((df[\"region_name\"] == \"France\") & (df[\"decade\"] < 500))]\n",
    "df = df[~((df[\"region_name\"] == \"United Kingdom\") & (df[\"decade\"] < 500))]\n",
    "df = df[~((df[\"region_name\"] == \"Low countries\") & (df[\"decade\"] < 500))]\n",
    "df = df[~((df[\"region_name\"] == \"East Slavic\") & (df[\"decade\"] < 500))]\n",
    "df = df[~((df[\"region_name\"] == \"Central Europe\") & (df[\"decade\"] < 500))]\n",
    "df = df[~((df[\"region_name\"] == \"Eastern Europe\") & (df[\"decade\"] < 500))]\n",
    "df = df[~((df[\"region_name\"] == \"German world\") & (df[\"decade\"] < 500))]\n",
    "df = df[~((df[\"region_name\"] == \"Latin world\") & (df[\"decade\"] > 500))]\n",
    "\n",
    "\n",
    "df[\"count\"] = df[\"count_works\"]\n",
    "df_m = df.copy()\n",
    "df_m = df_m[df_m[\"count\"].isin({0, 1, 2})]  # Not more ?\n",
    "df_m['count_works'][df_m['count_works']==0] = 1\n",
    "\n",
    "#df_m[\"y\"] = df_m[\"count\"].map({0: 0, 1: 0, 2: 1})\n",
    "\n",
    "\n",
    "\n",
    "df_test = df_m[df_m['region_name']=='France']\n",
    "df_test = df_test[['individual_wikidata_id', 'count_works', 'region_name']].drop_duplicates()\n",
    "df_test['count_works'] = df_test['count_works'].astype(int)\n",
    "df_test"
   ]
  },
  {
   "cell_type": "code",
   "execution_count": 26,
   "metadata": {},
   "outputs": [],
   "source": [
    "ds = to_copia_dataset(df_test, data_type='abundance', input_type='counts',index_column='individual_wikidata_id', count_column='count_works')\n",
    "from copia.rarefaction_extrapolation import species_accumulation\n",
    "\n",
    "acc = species_accumulation(ds, step_size=10, compute_coverage=True)\n",
    "acc = acc.reset_index()\n"
   ]
  },
  {
   "cell_type": "code",
   "execution_count": 42,
   "metadata": {},
   "outputs": [
    {
     "data": {
      "text/html": [
       "<div>\n",
       "<style scoped>\n",
       "    .dataframe tbody tr th:only-of-type {\n",
       "        vertical-align: middle;\n",
       "    }\n",
       "\n",
       "    .dataframe tbody tr th {\n",
       "        vertical-align: top;\n",
       "    }\n",
       "\n",
       "    .dataframe thead th {\n",
       "        text-align: right;\n",
       "    }\n",
       "</style>\n",
       "<table border=\"1\" class=\"dataframe\">\n",
       "  <thead>\n",
       "    <tr style=\"text-align: right;\">\n",
       "      <th></th>\n",
       "      <th>steps</th>\n",
       "      <th>est</th>\n",
       "      <th>lci</th>\n",
       "      <th>uci</th>\n",
       "      <th>coverage</th>\n",
       "      <th>interpolated</th>\n",
       "    </tr>\n",
       "  </thead>\n",
       "  <tbody>\n",
       "    <tr>\n",
       "      <th>0</th>\n",
       "      <td>1</td>\n",
       "      <td>1.00</td>\n",
       "      <td>1.00</td>\n",
       "      <td>1.00</td>\n",
       "      <td>0.00</td>\n",
       "      <td>True</td>\n",
       "    </tr>\n",
       "    <tr>\n",
       "      <th>1</th>\n",
       "      <td>11</td>\n",
       "      <td>11.00</td>\n",
       "      <td>11.00</td>\n",
       "      <td>11.00</td>\n",
       "      <td>0.00</td>\n",
       "      <td>True</td>\n",
       "    </tr>\n",
       "    <tr>\n",
       "      <th>2</th>\n",
       "      <td>21</td>\n",
       "      <td>21.00</td>\n",
       "      <td>21.00</td>\n",
       "      <td>21.00</td>\n",
       "      <td>0.00</td>\n",
       "      <td>True</td>\n",
       "    </tr>\n",
       "    <tr>\n",
       "      <th>3</th>\n",
       "      <td>31</td>\n",
       "      <td>31.00</td>\n",
       "      <td>31.00</td>\n",
       "      <td>31.00</td>\n",
       "      <td>0.00</td>\n",
       "      <td>True</td>\n",
       "    </tr>\n",
       "    <tr>\n",
       "      <th>4</th>\n",
       "      <td>41</td>\n",
       "      <td>40.99</td>\n",
       "      <td>40.99</td>\n",
       "      <td>40.99</td>\n",
       "      <td>0.00</td>\n",
       "      <td>True</td>\n",
       "    </tr>\n",
       "    <tr>\n",
       "      <th>...</th>\n",
       "      <td>...</td>\n",
       "      <td>...</td>\n",
       "      <td>...</td>\n",
       "      <td>...</td>\n",
       "      <td>...</td>\n",
       "      <td>...</td>\n",
       "    </tr>\n",
       "    <tr>\n",
       "      <th>3343</th>\n",
       "      <td>33431</td>\n",
       "      <td>29575.93</td>\n",
       "      <td>29350.11</td>\n",
       "      <td>29816.28</td>\n",
       "      <td>0.23</td>\n",
       "      <td>False</td>\n",
       "    </tr>\n",
       "    <tr>\n",
       "      <th>3344</th>\n",
       "      <td>33441</td>\n",
       "      <td>29583.68</td>\n",
       "      <td>29357.73</td>\n",
       "      <td>29824.13</td>\n",
       "      <td>0.23</td>\n",
       "      <td>False</td>\n",
       "    </tr>\n",
       "    <tr>\n",
       "      <th>3345</th>\n",
       "      <td>33451</td>\n",
       "      <td>29591.42</td>\n",
       "      <td>29365.35</td>\n",
       "      <td>29831.99</td>\n",
       "      <td>0.23</td>\n",
       "      <td>False</td>\n",
       "    </tr>\n",
       "    <tr>\n",
       "      <th>3346</th>\n",
       "      <td>33461</td>\n",
       "      <td>29599.16</td>\n",
       "      <td>29372.97</td>\n",
       "      <td>29839.84</td>\n",
       "      <td>0.23</td>\n",
       "      <td>False</td>\n",
       "    </tr>\n",
       "    <tr>\n",
       "      <th>3347</th>\n",
       "      <td>33471</td>\n",
       "      <td>29606.90</td>\n",
       "      <td>29380.59</td>\n",
       "      <td>29847.69</td>\n",
       "      <td>0.23</td>\n",
       "      <td>False</td>\n",
       "    </tr>\n",
       "  </tbody>\n",
       "</table>\n",
       "<p>3348 rows × 6 columns</p>\n",
       "</div>"
      ],
      "text/plain": [
       "      steps      est      lci      uci  coverage  interpolated\n",
       "0         1     1.00     1.00     1.00      0.00          True\n",
       "1        11    11.00    11.00    11.00      0.00          True\n",
       "2        21    21.00    21.00    21.00      0.00          True\n",
       "3        31    31.00    31.00    31.00      0.00          True\n",
       "4        41    40.99    40.99    40.99      0.00          True\n",
       "...     ...      ...      ...      ...       ...           ...\n",
       "3343  33431 29575.93 29350.11 29816.28      0.23         False\n",
       "3344  33441 29583.68 29357.73 29824.13      0.23         False\n",
       "3345  33451 29591.42 29365.35 29831.99      0.23         False\n",
       "3346  33461 29599.16 29372.97 29839.84      0.23         False\n",
       "3347  33471 29606.90 29380.59 29847.69      0.23         False\n",
       "\n",
       "[3348 rows x 6 columns]"
      ]
     },
     "execution_count": 42,
     "metadata": {},
     "output_type": "execute_result"
    }
   ],
   "source": [
    "acc"
   ]
  },
  {
   "cell_type": "code",
   "execution_count": 43,
   "metadata": {},
   "outputs": [
    {
     "data": {
      "text/plain": [
       "<Axes: xlabel='steps'>"
      ]
     },
     "execution_count": 43,
     "metadata": {},
     "output_type": "execute_result"
    },
    {
     "data": {
      "image/png": "[encoded data removed]",
      "text/plain": [
       "<Figure size 640x480 with 1 Axes>"
      ]
     },
     "metadata": {},
     "output_type": "display_data"
    }
   ],
   "source": [
    "acc.plot(x='steps', y = 'coverage')"
   ]
  },
  {
   "cell_type": "code",
   "execution_count": 45,
   "metadata": {},
   "outputs": [
    {
     "name": "stdout",
     "output_type": "stream",
     "text": [
      "<|im_start|>user\n",
      "Quels sont les dispositifs de déductions fiscales disponibles pour les entreprises implantées dans certaines zones ?\n",
      "References :\n",
      "85da7a1b56c0d9de_0 : Exonérations en zones de restructuration de la défense (ZRD) Une entreprise installée dans une zone de restructuration de la défense (ZRD) peut bénéficier de plusieurs exonérations fiscales et sociales. Vous devez consulter la liste officielle des ZRD pour savoir si votre entreprise se trouve dans un territoire concerné. Voici une liste de différents cas possibles:\n",
      "- Impôt sur le revenu (IR) et impôt sur les sociétés (IS)\n",
      "- Cotisation foncière des entreprises (CFE)\n",
      "- Taxe foncière sur les propriétés bâties\n",
      "- Cotisations patronales \n",
      "\n",
      "5a151bc8aa551ceb_0 : Exonérations en zones de restructuration de la défense (ZRD) Impôt sur le revenu (IR) et impôt sur les sociétés (IS). Démarche. L’établissement doit fournir la preuve qu'il exerce une activité économique réelle dans la zone. Il doit pour cela fournir des éléments d'exploitation. Par exemple : loyers, salaires, factures d'achats de produits ou la preuve de stocks de marchandises en lien avec l'activité. Ces documents doivent être transmis à l'administration fiscale lors de la déclaration annuelle de résultats. Vous devez joindre à votre déclaration de résultats une déclaration spéciale et remplir les éléments nécessaires qui ouvrent un droit à cette exonération fiscale. \n",
      "\n",
      "ff7af464559274d7_0 : Exonérations d'impôts en zone de revitalisation rurale (ZRR) Exonération de l'impôt sur le revenu ou de l'impôt sur les sociétés. Entreprises concernées. L'exonération d'impôt sur le revenu ou d'impôt sur les sociétés est accordée à une entreprise créée ou reprise avant le 31 décembre 2023 et qui respecte les 5 conditions suivantes :\n",
      "- Exercer une activité industrielle, commerciale, artisanale ou libérale\n",
      "- Avoir son siège social et ses activités situés dans une ZRR\n",
      "- Être sous le régime réel d'imposition\n",
      "- Avoir moins de 11 salariés en CDI ou en CDD de 6 mois minimum\n",
      "- Avoir moins de 50 % de son capital détenu par d'autres sociétés\n",
      "(Rappel: Les micro-entrepreneurs sont exclus de cette exonération. Ils ne sont pas sous le régime réel d'imposition mais sous le régime fiscal de la micro-entreprise .) Si l'entreprise réalise plus de 25 % de son CA (chiffre d'affaires) en dehors de la ZRR, la part qui dépasse ces 25 % est imposée. (Exemple: Une société de transport routier de marchandises peut bénéficier du dispositif d'exonération d'impôt si le lieu de stationnement habituel des véhicules, le lieu d'implantation des installations d'entretien et celui de la direction effective sont situés en ZRR. Il faut également tenir du compte du prorata de chiffre d’affaires réalisé dans la ZRR. Pour le calcul du chiffre d’affaires effectivement réalisé en ZRR , il faut considérer le lieu de réalisation de la prestation de service. Pour des activités de transport de marchandises, le lieu de réalisation de la prestation de service est localisé en ZRR si le lieu de chargement et /ou de livraison est situé en ZRR.) \n",
      "\n",
      "ff532e5befb78a9e_0 : Exonérations d'impôts en zone de revitalisation rurale (ZRR) Une entreprise située ou qui souhaite s'implanter dans une zone de revitalisation rurale (ZRR) bénéficie d'exonérations fiscales sous certaines conditions. Ces critères sont liés notamment à l'effectif de ses salariés et à la nature de l'activité exercée. Ce dispositif est prolongé jusqu'au 31 décembre 2023. Les demandes d'exonération peuvent être faites jusqu'à cette date. Pour savoir si votre entreprise est située dans une ZRR, vous pouvez consulter la carte des zones concernées. Voici une liste de différents cas possibles:\n",
      "- Exonération de l'impôt sur le revenu ou de l'impôt sur les sociétés\n",
      "- Cotisation foncière des entreprises (CFE)\n",
      "- Taxe foncière sur les propriétés bâties (TFPB)\n",
      "- Taxe d'habitation sur les résidences secondaires \n",
      "\n",
      "4817ecdfffe51a7d_0 : Exonérations sur les bénéfices en zone franche urbaine-territoire entrepreneur (ZFU-TE) Une entreprise qui s'implante et embauche une main-d'œuvre locale dans une zone franche urbaine - territoire entrepreneurs (ZFU-TE) , peut bénéficier d'exonérations fiscales sous certaines conditions. Ce dispositif est valable jusqu'au 31 décembre 2023. Les règles diffèrent selon la date d'implantation de l'entreprise : à partir de 2016 ou en 2015 ou avant 2015. Voici une liste de différents cas possibles:\n",
      "- Votre entreprise est-elle située en ZFU ? - Quelle entreprise est concernée par l'exonération sur les bénéfices ? - Conditions liées à l'embauche de salariés\n",
      "- Montant et durée de l'exonération\n",
      "- Démarches\n",
      "- Quelle entreprise est concernée ?<|im_end|>\n",
      "<|im_start|> assistant\n",
      "\n"
     ]
    }
   ],
   "source": [
    "query = \"\"\"<|im_start|>user\\nQuels sont les dispositifs de déductions fiscales disponibles pour les entreprises implantées dans certaines zones ?\\nReferences :\\n85da7a1b56c0d9de_0 : Exonérations en zones de restructuration de la défense (ZRD) Une entreprise installée dans une zone de restructuration de la défense (ZRD) peut bénéficier de plusieurs exonérations fiscales et sociales. Vous devez consulter la liste officielle des ZRD pour savoir si votre entreprise se trouve dans un territoire concerné. Voici une liste de différents cas possibles:\\n- Impôt sur le revenu (IR) et impôt sur les sociétés (IS)\\n- Cotisation foncière des entreprises (CFE)\\n- Taxe foncière sur les propriétés bâties\\n- Cotisations patronales \\n\\n5a151bc8aa551ceb_0 : Exonérations en zones de restructuration de la défense (ZRD) Impôt sur le revenu (IR) et impôt sur les sociétés (IS). Démarche. L’établissement doit fournir la preuve qu'il exerce une activité économique réelle dans la zone. Il doit pour cela fournir des éléments d'exploitation. Par exemple : loyers, salaires, factures d'achats de produits ou la preuve de stocks de marchandises en lien avec l'activité. Ces documents doivent être transmis à l'administration fiscale lors de la déclaration annuelle de résultats. Vous devez joindre à votre déclaration de résultats une déclaration spéciale et remplir les éléments nécessaires qui ouvrent un droit à cette exonération fiscale. \\n\\nff7af464559274d7_0 : Exonérations d'impôts en zone de revitalisation rurale (ZRR) Exonération de l'impôt sur le revenu ou de l'impôt sur les sociétés. Entreprises concernées. L'exonération d'impôt sur le revenu ou d'impôt sur les sociétés est accordée à une entreprise créée ou reprise avant le 31 décembre 2023 et qui respecte les 5 conditions suivantes :\\n- Exercer une activité industrielle, commerciale, artisanale ou libérale\\n- Avoir son siège social et ses activités situés dans une ZRR\\n- Être sous le régime réel d'imposition\\n- Avoir moins de 11 salariés en CDI ou en CDD de 6 mois minimum\\n- Avoir moins de 50 % de son capital détenu par d'autres sociétés\\n(Rappel: Les micro-entrepreneurs sont exclus de cette exonération. Ils ne sont pas sous le régime réel d'imposition mais sous le régime fiscal de la micro-entreprise .) Si l'entreprise réalise plus de 25 % de son CA (chiffre d'affaires) en dehors de la ZRR, la part qui dépasse ces 25 % est imposée. (Exemple: Une société de transport routier de marchandises peut bénéficier du dispositif d'exonération d'impôt si le lieu de stationnement habituel des véhicules, le lieu d'implantation des installations d'entretien et celui de la direction effective sont situés en ZRR. Il faut également tenir du compte du prorata de chiffre d’affaires réalisé dans la ZRR. Pour le calcul du chiffre d’affaires effectivement réalisé en ZRR , il faut considérer le lieu de réalisation de la prestation de service. Pour des activités de transport de marchandises, le lieu de réalisation de la prestation de service est localisé en ZRR si le lieu de chargement et /ou de livraison est situé en ZRR.) \\n\\nff532e5befb78a9e_0 : Exonérations d'impôts en zone de revitalisation rurale (ZRR) Une entreprise située ou qui souhaite s'implanter dans une zone de revitalisation rurale (ZRR) bénéficie d'exonérations fiscales sous certaines conditions. Ces critères sont liés notamment à l'effectif de ses salariés et à la nature de l'activité exercée. Ce dispositif est prolongé jusqu'au 31 décembre 2023. Les demandes d'exonération peuvent être faites jusqu'à cette date. Pour savoir si votre entreprise est située dans une ZRR, vous pouvez consulter la carte des zones concernées. Voici une liste de différents cas possibles:\\n- Exonération de l'impôt sur le revenu ou de l'impôt sur les sociétés\\n- Cotisation foncière des entreprises (CFE)\\n- Taxe foncière sur les propriétés bâties (TFPB)\\n- Taxe d'habitation sur les résidences secondaires \\n\\n4817ecdfffe51a7d_0 : Exonérations sur les bénéfices en zone franche urbaine-territoire entrepreneur (ZFU-TE) Une entreprise qui s'implante et embauche une main-d'œuvre locale dans une zone franche urbaine - territoire entrepreneurs (ZFU-TE) , peut bénéficier d'exonérations fiscales sous certaines conditions. Ce dispositif est valable jusqu'au 31 décembre 2023. Les règles diffèrent selon la date d'implantation de l'entreprise : à partir de 2016 ou en 2015 ou avant 2015. Voici une liste de différents cas possibles:\\n- Votre entreprise est-elle située en ZFU ? - Quelle entreprise est concernée par l'exonération sur les bénéfices ? - Conditions liées à l'embauche de salariés\\n- Montant et durée de l'exonération\\n- Démarches\\n- Quelle entreprise est concernée ?<|im_end|>\\n<|im_start|> assistant\\n\"\"\"\n",
    "print(query)"
   ]
  },
  {
   "cell_type": "code",
   "execution_count": 34,
   "metadata": {},
   "outputs": [
    {
     "data": {
      "text/plain": [
       "[<matplotlib.lines.Line2D at 0x2985d7490>]"
      ]
     },
     "execution_count": 34,
     "metadata": {},
     "output_type": "execute_result"
    },
    {
     "data": {
      "image/png": "[encoded data removed]",
      "text/plain": [
       "<Figure size 1000x600 with 1 Axes>"
      ]
     },
     "metadata": {},
     "output_type": "display_data"
    }
   ],
   "source": [
    "import matplotlib.pyplot as plt\n",
    "\n",
    "# Plot\n",
    "plt.figure(figsize=(10, 6))\n",
    "\n",
    "# Plot the data\n",
    "plt.plot(list(acc['steps']), list(acc['uci']), marker='o', linestyle='-', color='b')"
   ]
  },
  {
   "cell_type": "code",
   "execution_count": null,
   "metadata": {},
   "outputs": [],
   "source": []
  },
  {
   "cell_type": "code",
   "execution_count": null,
   "metadata": {},
   "outputs": [],
   "source": [
    "#This function allows you to make a dataset object based on counts or observations (in our case, probably counts):\n",
    "ds = to_copia_dataset(X, input_type=\"counts”)"
   ]
  },
  {
   "cell_type": "code",
   "execution_count": null,
   "metadata": {},
   "outputs": [],
   "source": [
    "#Then, the rarefaction_extrapolation module contains a function called rarefaction_extrapolation:\n"
   ]
  },
  {
   "cell_type": "code",
   "execution_count": null,
   "metadata": {},
   "outputs": [],
   "source": [
    "\n",
    "\n",
    "\n",
    "\n",
    "\n",
    "\n",
    "from copia.rarefaction_extrapolation import rarefaction_extrapolation_curve\n",
    "\n",
    "Use this to compute interpolated and extrapolated richness values. Make sure to switch “compute_coverage” to True to also compute the coverage at each level:\n",
    "\n",
    "acc = rarefaction_extrapolation_curve(ds, step_size=10, compute_coverage=True)"
   ]
  }
 ],
 "metadata": {
  "kernelspec": {
   "display_name": ".venv",
   "language": "python",
   "name": "python3"
  },
  "language_info": {
   "codemirror_mode": {
    "name": "ipython",
    "version": 3
   },
   "file_extension": ".py",
   "mimetype": "text/x-python",
   "name": "python",
   "nbconvert_exporter": "python",
   "pygments_lexer": "ipython3",
   "version": "3.11.5"
  }
 },
 "nbformat": 4,
 "nbformat_minor": 2
}
