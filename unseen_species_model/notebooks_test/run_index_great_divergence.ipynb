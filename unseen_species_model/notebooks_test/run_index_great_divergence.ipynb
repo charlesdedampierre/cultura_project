{
 "cells": [
  {
   "cell_type": "code",
   "execution_count": 1,
   "metadata": {},
   "outputs": [
    {
     "ename": "FileNotFoundError",
     "evalue": "[Errno 2] No such file or directory: 'unseen_species_model.csv'",
     "output_type": "error",
     "traceback": [
      "\u001b[0;31m---------------------------------------------------------------------------\u001b[0m",
      "\u001b[0;31mFileNotFoundError\u001b[0m                         Traceback (most recent call last)",
      "Cell \u001b[0;32mIn[1], line 7\u001b[0m\n\u001b[1;32m      3\u001b[0m \u001b[38;5;28;01mimport\u001b[39;00m \u001b[38;5;21;01mplotly\u001b[39;00m\u001b[38;5;21;01m.\u001b[39;00m\u001b[38;5;21;01mexpress\u001b[39;00m \u001b[38;5;28;01mas\u001b[39;00m \u001b[38;5;21;01mpx\u001b[39;00m\n\u001b[1;32m      5\u001b[0m path \u001b[38;5;241m=\u001b[39m \u001b[38;5;124m'\u001b[39m\u001b[38;5;124munseen_species_model.csv\u001b[39m\u001b[38;5;124m'\u001b[39m\n\u001b[0;32m----> 7\u001b[0m df_cultura \u001b[38;5;241m=\u001b[39m \u001b[43mpd\u001b[49m\u001b[38;5;241;43m.\u001b[39;49m\u001b[43mread_csv\u001b[49m\u001b[43m(\u001b[49m\u001b[43mpath\u001b[49m\u001b[43m,\u001b[49m\u001b[43m \u001b[49m\u001b[43mindex_col\u001b[49m\u001b[43m \u001b[49m\u001b[38;5;241;43m=\u001b[39;49m\u001b[43m \u001b[49m\u001b[43m[\u001b[49m\u001b[38;5;241;43m0\u001b[39;49m\u001b[43m]\u001b[49m\u001b[43m)\u001b[49m\n\u001b[1;32m      8\u001b[0m df_cultura[\u001b[38;5;124m'\u001b[39m\u001b[38;5;124mN_est\u001b[39m\u001b[38;5;124m'\u001b[39m] \u001b[38;5;241m=\u001b[39m df_cultura[\u001b[38;5;124m'\u001b[39m\u001b[38;5;124mf0\u001b[39m\u001b[38;5;124m'\u001b[39m] \u001b[38;5;241m+\u001b[39m df_cultura[\u001b[38;5;124m'\u001b[39m\u001b[38;5;124mf1\u001b[39m\u001b[38;5;124m'\u001b[39m] \u001b[38;5;241m+\u001b[39m df_cultura[\u001b[38;5;124m'\u001b[39m\u001b[38;5;124mf2\u001b[39m\u001b[38;5;124m'\u001b[39m]\u001b[38;5;66;03m# plus the individual\u001b[39;00m\n\u001b[1;32m      9\u001b[0m df_cultura[\u001b[38;5;124m'\u001b[39m\u001b[38;5;124mN_est_min\u001b[39m\u001b[38;5;124m'\u001b[39m]  \u001b[38;5;241m=\u001b[39m  df_cultura[\u001b[38;5;124m'\u001b[39m\u001b[38;5;124mmin_f0\u001b[39m\u001b[38;5;124m'\u001b[39m] \u001b[38;5;241m+\u001b[39m df_cultura[\u001b[38;5;124m'\u001b[39m\u001b[38;5;124mf1\u001b[39m\u001b[38;5;124m'\u001b[39m] \u001b[38;5;241m+\u001b[39m df_cultura[\u001b[38;5;124m'\u001b[39m\u001b[38;5;124mf2\u001b[39m\u001b[38;5;124m'\u001b[39m]\u001b[38;5;66;03m# plus the individual\u001b[39;00m\n",
      "File \u001b[0;32m~/Desktop/cultura_project/.venv/lib/python3.11/site-packages/pandas/io/parsers/readers.py:948\u001b[0m, in \u001b[0;36mread_csv\u001b[0;34m(filepath_or_buffer, sep, delimiter, header, names, index_col, usecols, dtype, engine, converters, true_values, false_values, skipinitialspace, skiprows, skipfooter, nrows, na_values, keep_default_na, na_filter, verbose, skip_blank_lines, parse_dates, infer_datetime_format, keep_date_col, date_parser, date_format, dayfirst, cache_dates, iterator, chunksize, compression, thousands, decimal, lineterminator, quotechar, quoting, doublequote, escapechar, comment, encoding, encoding_errors, dialect, on_bad_lines, delim_whitespace, low_memory, memory_map, float_precision, storage_options, dtype_backend)\u001b[0m\n\u001b[1;32m    935\u001b[0m kwds_defaults \u001b[38;5;241m=\u001b[39m _refine_defaults_read(\n\u001b[1;32m    936\u001b[0m     dialect,\n\u001b[1;32m    937\u001b[0m     delimiter,\n\u001b[0;32m   (...)\u001b[0m\n\u001b[1;32m    944\u001b[0m     dtype_backend\u001b[38;5;241m=\u001b[39mdtype_backend,\n\u001b[1;32m    945\u001b[0m )\n\u001b[1;32m    946\u001b[0m kwds\u001b[38;5;241m.\u001b[39mupdate(kwds_defaults)\n\u001b[0;32m--> 948\u001b[0m \u001b[38;5;28;01mreturn\u001b[39;00m \u001b[43m_read\u001b[49m\u001b[43m(\u001b[49m\u001b[43mfilepath_or_buffer\u001b[49m\u001b[43m,\u001b[49m\u001b[43m \u001b[49m\u001b[43mkwds\u001b[49m\u001b[43m)\u001b[49m\n",
      "File \u001b[0;32m~/Desktop/cultura_project/.venv/lib/python3.11/site-packages/pandas/io/parsers/readers.py:611\u001b[0m, in \u001b[0;36m_read\u001b[0;34m(filepath_or_buffer, kwds)\u001b[0m\n\u001b[1;32m    608\u001b[0m _validate_names(kwds\u001b[38;5;241m.\u001b[39mget(\u001b[38;5;124m\"\u001b[39m\u001b[38;5;124mnames\u001b[39m\u001b[38;5;124m\"\u001b[39m, \u001b[38;5;28;01mNone\u001b[39;00m))\n\u001b[1;32m    610\u001b[0m \u001b[38;5;66;03m# Create the parser.\u001b[39;00m\n\u001b[0;32m--> 611\u001b[0m parser \u001b[38;5;241m=\u001b[39m \u001b[43mTextFileReader\u001b[49m\u001b[43m(\u001b[49m\u001b[43mfilepath_or_buffer\u001b[49m\u001b[43m,\u001b[49m\u001b[43m \u001b[49m\u001b[38;5;241;43m*\u001b[39;49m\u001b[38;5;241;43m*\u001b[39;49m\u001b[43mkwds\u001b[49m\u001b[43m)\u001b[49m\n\u001b[1;32m    613\u001b[0m \u001b[38;5;28;01mif\u001b[39;00m chunksize \u001b[38;5;129;01mor\u001b[39;00m iterator:\n\u001b[1;32m    614\u001b[0m     \u001b[38;5;28;01mreturn\u001b[39;00m parser\n",
      "File \u001b[0;32m~/Desktop/cultura_project/.venv/lib/python3.11/site-packages/pandas/io/parsers/readers.py:1448\u001b[0m, in \u001b[0;36mTextFileReader.__init__\u001b[0;34m(self, f, engine, **kwds)\u001b[0m\n\u001b[1;32m   1445\u001b[0m     \u001b[38;5;28mself\u001b[39m\u001b[38;5;241m.\u001b[39moptions[\u001b[38;5;124m\"\u001b[39m\u001b[38;5;124mhas_index_names\u001b[39m\u001b[38;5;124m\"\u001b[39m] \u001b[38;5;241m=\u001b[39m kwds[\u001b[38;5;124m\"\u001b[39m\u001b[38;5;124mhas_index_names\u001b[39m\u001b[38;5;124m\"\u001b[39m]\n\u001b[1;32m   1447\u001b[0m \u001b[38;5;28mself\u001b[39m\u001b[38;5;241m.\u001b[39mhandles: IOHandles \u001b[38;5;241m|\u001b[39m \u001b[38;5;28;01mNone\u001b[39;00m \u001b[38;5;241m=\u001b[39m \u001b[38;5;28;01mNone\u001b[39;00m\n\u001b[0;32m-> 1448\u001b[0m \u001b[38;5;28mself\u001b[39m\u001b[38;5;241m.\u001b[39m_engine \u001b[38;5;241m=\u001b[39m \u001b[38;5;28;43mself\u001b[39;49m\u001b[38;5;241;43m.\u001b[39;49m\u001b[43m_make_engine\u001b[49m\u001b[43m(\u001b[49m\u001b[43mf\u001b[49m\u001b[43m,\u001b[49m\u001b[43m \u001b[49m\u001b[38;5;28;43mself\u001b[39;49m\u001b[38;5;241;43m.\u001b[39;49m\u001b[43mengine\u001b[49m\u001b[43m)\u001b[49m\n",
      "File \u001b[0;32m~/Desktop/cultura_project/.venv/lib/python3.11/site-packages/pandas/io/parsers/readers.py:1705\u001b[0m, in \u001b[0;36mTextFileReader._make_engine\u001b[0;34m(self, f, engine)\u001b[0m\n\u001b[1;32m   1703\u001b[0m     \u001b[38;5;28;01mif\u001b[39;00m \u001b[38;5;124m\"\u001b[39m\u001b[38;5;124mb\u001b[39m\u001b[38;5;124m\"\u001b[39m \u001b[38;5;129;01mnot\u001b[39;00m \u001b[38;5;129;01min\u001b[39;00m mode:\n\u001b[1;32m   1704\u001b[0m         mode \u001b[38;5;241m+\u001b[39m\u001b[38;5;241m=\u001b[39m \u001b[38;5;124m\"\u001b[39m\u001b[38;5;124mb\u001b[39m\u001b[38;5;124m\"\u001b[39m\n\u001b[0;32m-> 1705\u001b[0m \u001b[38;5;28mself\u001b[39m\u001b[38;5;241m.\u001b[39mhandles \u001b[38;5;241m=\u001b[39m \u001b[43mget_handle\u001b[49m\u001b[43m(\u001b[49m\n\u001b[1;32m   1706\u001b[0m \u001b[43m    \u001b[49m\u001b[43mf\u001b[49m\u001b[43m,\u001b[49m\n\u001b[1;32m   1707\u001b[0m \u001b[43m    \u001b[49m\u001b[43mmode\u001b[49m\u001b[43m,\u001b[49m\n\u001b[1;32m   1708\u001b[0m \u001b[43m    \u001b[49m\u001b[43mencoding\u001b[49m\u001b[38;5;241;43m=\u001b[39;49m\u001b[38;5;28;43mself\u001b[39;49m\u001b[38;5;241;43m.\u001b[39;49m\u001b[43moptions\u001b[49m\u001b[38;5;241;43m.\u001b[39;49m\u001b[43mget\u001b[49m\u001b[43m(\u001b[49m\u001b[38;5;124;43m\"\u001b[39;49m\u001b[38;5;124;43mencoding\u001b[39;49m\u001b[38;5;124;43m\"\u001b[39;49m\u001b[43m,\u001b[49m\u001b[43m \u001b[49m\u001b[38;5;28;43;01mNone\u001b[39;49;00m\u001b[43m)\u001b[49m\u001b[43m,\u001b[49m\n\u001b[1;32m   1709\u001b[0m \u001b[43m    \u001b[49m\u001b[43mcompression\u001b[49m\u001b[38;5;241;43m=\u001b[39;49m\u001b[38;5;28;43mself\u001b[39;49m\u001b[38;5;241;43m.\u001b[39;49m\u001b[43moptions\u001b[49m\u001b[38;5;241;43m.\u001b[39;49m\u001b[43mget\u001b[49m\u001b[43m(\u001b[49m\u001b[38;5;124;43m\"\u001b[39;49m\u001b[38;5;124;43mcompression\u001b[39;49m\u001b[38;5;124;43m\"\u001b[39;49m\u001b[43m,\u001b[49m\u001b[43m \u001b[49m\u001b[38;5;28;43;01mNone\u001b[39;49;00m\u001b[43m)\u001b[49m\u001b[43m,\u001b[49m\n\u001b[1;32m   1710\u001b[0m \u001b[43m    \u001b[49m\u001b[43mmemory_map\u001b[49m\u001b[38;5;241;43m=\u001b[39;49m\u001b[38;5;28;43mself\u001b[39;49m\u001b[38;5;241;43m.\u001b[39;49m\u001b[43moptions\u001b[49m\u001b[38;5;241;43m.\u001b[39;49m\u001b[43mget\u001b[49m\u001b[43m(\u001b[49m\u001b[38;5;124;43m\"\u001b[39;49m\u001b[38;5;124;43mmemory_map\u001b[39;49m\u001b[38;5;124;43m\"\u001b[39;49m\u001b[43m,\u001b[49m\u001b[43m \u001b[49m\u001b[38;5;28;43;01mFalse\u001b[39;49;00m\u001b[43m)\u001b[49m\u001b[43m,\u001b[49m\n\u001b[1;32m   1711\u001b[0m \u001b[43m    \u001b[49m\u001b[43mis_text\u001b[49m\u001b[38;5;241;43m=\u001b[39;49m\u001b[43mis_text\u001b[49m\u001b[43m,\u001b[49m\n\u001b[1;32m   1712\u001b[0m \u001b[43m    \u001b[49m\u001b[43merrors\u001b[49m\u001b[38;5;241;43m=\u001b[39;49m\u001b[38;5;28;43mself\u001b[39;49m\u001b[38;5;241;43m.\u001b[39;49m\u001b[43moptions\u001b[49m\u001b[38;5;241;43m.\u001b[39;49m\u001b[43mget\u001b[49m\u001b[43m(\u001b[49m\u001b[38;5;124;43m\"\u001b[39;49m\u001b[38;5;124;43mencoding_errors\u001b[39;49m\u001b[38;5;124;43m\"\u001b[39;49m\u001b[43m,\u001b[49m\u001b[43m \u001b[49m\u001b[38;5;124;43m\"\u001b[39;49m\u001b[38;5;124;43mstrict\u001b[39;49m\u001b[38;5;124;43m\"\u001b[39;49m\u001b[43m)\u001b[49m\u001b[43m,\u001b[49m\n\u001b[1;32m   1713\u001b[0m \u001b[43m    \u001b[49m\u001b[43mstorage_options\u001b[49m\u001b[38;5;241;43m=\u001b[39;49m\u001b[38;5;28;43mself\u001b[39;49m\u001b[38;5;241;43m.\u001b[39;49m\u001b[43moptions\u001b[49m\u001b[38;5;241;43m.\u001b[39;49m\u001b[43mget\u001b[49m\u001b[43m(\u001b[49m\u001b[38;5;124;43m\"\u001b[39;49m\u001b[38;5;124;43mstorage_options\u001b[39;49m\u001b[38;5;124;43m\"\u001b[39;49m\u001b[43m,\u001b[49m\u001b[43m \u001b[49m\u001b[38;5;28;43;01mNone\u001b[39;49;00m\u001b[43m)\u001b[49m\u001b[43m,\u001b[49m\n\u001b[1;32m   1714\u001b[0m \u001b[43m\u001b[49m\u001b[43m)\u001b[49m\n\u001b[1;32m   1715\u001b[0m \u001b[38;5;28;01massert\u001b[39;00m \u001b[38;5;28mself\u001b[39m\u001b[38;5;241m.\u001b[39mhandles \u001b[38;5;129;01mis\u001b[39;00m \u001b[38;5;129;01mnot\u001b[39;00m \u001b[38;5;28;01mNone\u001b[39;00m\n\u001b[1;32m   1716\u001b[0m f \u001b[38;5;241m=\u001b[39m \u001b[38;5;28mself\u001b[39m\u001b[38;5;241m.\u001b[39mhandles\u001b[38;5;241m.\u001b[39mhandle\n",
      "File \u001b[0;32m~/Desktop/cultura_project/.venv/lib/python3.11/site-packages/pandas/io/common.py:863\u001b[0m, in \u001b[0;36mget_handle\u001b[0;34m(path_or_buf, mode, encoding, compression, memory_map, is_text, errors, storage_options)\u001b[0m\n\u001b[1;32m    858\u001b[0m \u001b[38;5;28;01melif\u001b[39;00m \u001b[38;5;28misinstance\u001b[39m(handle, \u001b[38;5;28mstr\u001b[39m):\n\u001b[1;32m    859\u001b[0m     \u001b[38;5;66;03m# Check whether the filename is to be opened in binary mode.\u001b[39;00m\n\u001b[1;32m    860\u001b[0m     \u001b[38;5;66;03m# Binary mode does not support 'encoding' and 'newline'.\u001b[39;00m\n\u001b[1;32m    861\u001b[0m     \u001b[38;5;28;01mif\u001b[39;00m ioargs\u001b[38;5;241m.\u001b[39mencoding \u001b[38;5;129;01mand\u001b[39;00m \u001b[38;5;124m\"\u001b[39m\u001b[38;5;124mb\u001b[39m\u001b[38;5;124m\"\u001b[39m \u001b[38;5;129;01mnot\u001b[39;00m \u001b[38;5;129;01min\u001b[39;00m ioargs\u001b[38;5;241m.\u001b[39mmode:\n\u001b[1;32m    862\u001b[0m         \u001b[38;5;66;03m# Encoding\u001b[39;00m\n\u001b[0;32m--> 863\u001b[0m         handle \u001b[38;5;241m=\u001b[39m \u001b[38;5;28;43mopen\u001b[39;49m\u001b[43m(\u001b[49m\n\u001b[1;32m    864\u001b[0m \u001b[43m            \u001b[49m\u001b[43mhandle\u001b[49m\u001b[43m,\u001b[49m\n\u001b[1;32m    865\u001b[0m \u001b[43m            \u001b[49m\u001b[43mioargs\u001b[49m\u001b[38;5;241;43m.\u001b[39;49m\u001b[43mmode\u001b[49m\u001b[43m,\u001b[49m\n\u001b[1;32m    866\u001b[0m \u001b[43m            \u001b[49m\u001b[43mencoding\u001b[49m\u001b[38;5;241;43m=\u001b[39;49m\u001b[43mioargs\u001b[49m\u001b[38;5;241;43m.\u001b[39;49m\u001b[43mencoding\u001b[49m\u001b[43m,\u001b[49m\n\u001b[1;32m    867\u001b[0m \u001b[43m            \u001b[49m\u001b[43merrors\u001b[49m\u001b[38;5;241;43m=\u001b[39;49m\u001b[43merrors\u001b[49m\u001b[43m,\u001b[49m\n\u001b[1;32m    868\u001b[0m \u001b[43m            \u001b[49m\u001b[43mnewline\u001b[49m\u001b[38;5;241;43m=\u001b[39;49m\u001b[38;5;124;43m\"\u001b[39;49m\u001b[38;5;124;43m\"\u001b[39;49m\u001b[43m,\u001b[49m\n\u001b[1;32m    869\u001b[0m \u001b[43m        \u001b[49m\u001b[43m)\u001b[49m\n\u001b[1;32m    870\u001b[0m     \u001b[38;5;28;01melse\u001b[39;00m:\n\u001b[1;32m    871\u001b[0m         \u001b[38;5;66;03m# Binary mode\u001b[39;00m\n\u001b[1;32m    872\u001b[0m         handle \u001b[38;5;241m=\u001b[39m \u001b[38;5;28mopen\u001b[39m(handle, ioargs\u001b[38;5;241m.\u001b[39mmode)\n",
      "\u001b[0;31mFileNotFoundError\u001b[0m: [Errno 2] No such file or directory: 'unseen_species_model.csv'"
     ]
    }
   ],
   "source": [
    "import pandas as pd\n",
    "import numpy as np\n",
    "import plotly.express as px\n",
    "\n",
    "df_cultura = pd.read_csv(\"../results_50/raw_results_north_south_china.csv\", index_col = [0])\n",
    "df_cultura = pd.read_csv(\"../results_50/raw_results.csv\", index_col = [0])\n",
    "df_cultura = pd.read_csv(\"../results_50/raw_results_north_south.csv\", index_col = [0])\n",
    "df_cultura['N_est'] = df_cultura['f0'] + df_cultura['f1'] + df_cultura['f2']# plus the individual\n",
    "df_cultura['N_est_min']  =  df_cultura['min_f0'] + df_cultura['f1'] + df_cultura['f2']# plus the individual\n",
    "df_cultura['N_est_max']  =  df_cultura['max_f0'] + df_cultura['f1'] + df_cultura['f2']# plus the individual\n",
    "\n",
    "print(len(set(df_cultura.individual_wikidata_id)))\n",
    "\n",
    "df_cultura = df_cultura.groupby(['region_name', 'decade']).agg({'N_est': 'sum', 'N_est_min':'sum', 'N_est_max':'sum', 'individual_wikidata_id':'count'}).reset_index()\n",
    "df_cultura = df_cultura.rename(columns={\"individual_wikidata_id\": \"score\"})\n",
    "df_cultura = df_cultura[df_cultura['decade'] <=1850]\n",
    "\n",
    "df_cultura_world = df_cultura.drop('region_name', axis=1).groupby('decade').sum().reset_index()\n",
    "df_cultura_world['region_name']='world'\n",
    "\n",
    "df_cultura = pd.concat([df_cultura_world, df_cultura])\n",
    "\n",
    "df_cultura[df_cultura['region_name']=='Latin World']\n"
   ]
  },
  {
   "cell_type": "code",
   "execution_count": null,
   "metadata": {},
   "outputs": [],
   "source": [
    "\n",
    "# df_cultural_latin_world_after = df_cultura[df_cultura['region_name'].isin(['East Slavic',\n",
    "#                 'Italy',\n",
    "#                 'Portugal',\n",
    "#                 'German world',\n",
    "#                 'United Kingdom',\n",
    "#                 'Spain',\n",
    "#                 'Low countries',\n",
    "#                 'France',\n",
    "#                 'Central Europe'])]\n",
    "\n",
    "\n",
    "# df_cultural_latin_world_after = df_cultural_latin_world_after.drop('region_name', axis=1).groupby('decade').sum().reset_index()\n",
    "# df_cultural_latin_world_after['region_name']='Latin World'\n",
    "# df_cultural_latin_world_after = df_cultural_latin_world_after[df_cultural_latin_world_after['decade']>500]\n",
    "\n",
    "# df_cultura = pd.concat([df_cultura, df_cultural_latin_world_after])\n",
    "\n",
    "list(set(df_cultura['region_name']))\n",
    "\n",
    "\n",
    "df_western = df_cultura[df_cultura['region_name'].isin([\n",
    "                'Italy',\n",
    "                'Portugal',\n",
    "                'German world',\n",
    "                'United Kingdom',\n",
    "                'Spain',\n",
    "                'Low countries',\n",
    "                'France',\n",
    "                'Nordic countries'])]\n",
    "\n",
    "df_western = df_western.drop('region_name', axis=1).groupby('decade').sum().reset_index()\n",
    "df_western['region_name']='Latin World'\n",
    "df_western = df_western[df_western['decade']>500]\n",
    "df_cultura = pd.concat([df_cultura, df_western])\n",
    "\n",
    "\n",
    "df_greek_latin= df_cultura[df_cultura['region_name'].isin([\n",
    "                'Latin World', 'Greek World'])]\n",
    "\n",
    "\n",
    "df_greek_latin = df_greek_latin.drop('region_name', axis=1).groupby('decade').sum().reset_index()\n",
    "df_greek_latin['region_name']='Greek Latin'\n",
    "#df_western = df_western[df_western['decade']>500]\n",
    "\n",
    "df_cultura = pd.concat([df_cultura, df_greek_latin])"
   ]
  },
  {
   "cell_type": "code",
   "execution_count": null,
   "metadata": {},
   "outputs": [
    {
     "name": "stderr",
     "output_type": "stream",
     "text": [
      "/var/folders/lx/9b13r6ln63jb54_3xlf9b_380000gn/T/ipykernel_13756/369001953.py:6: SettingWithCopyWarning:\n",
      "\n",
      "\n",
      "A value is trying to be set on a copy of a slice from a DataFrame.\n",
      "Try using .loc[row_indexer,col_indexer] = value instead\n",
      "\n",
      "See the caveats in the documentation: https://pandas.pydata.org/pandas-docs/stable/user_guide/indexing.html#returning-a-view-versus-a-copy\n",
      "\n"
     ]
    },
    {
     "data": {
      "text/html": [
       "<div>\n",
       "<style scoped>\n",
       "    .dataframe tbody tr th:only-of-type {\n",
       "        vertical-align: middle;\n",
       "    }\n",
       "\n",
       "    .dataframe tbody tr th {\n",
       "        vertical-align: top;\n",
       "    }\n",
       "\n",
       "    .dataframe thead th {\n",
       "        text-align: right;\n",
       "    }\n",
       "</style>\n",
       "<table border=\"1\" class=\"dataframe\">\n",
       "  <thead>\n",
       "    <tr style=\"text-align: right;\">\n",
       "      <th></th>\n",
       "      <th>region_name</th>\n",
       "      <th>decade</th>\n",
       "      <th>N_est</th>\n",
       "      <th>N_est_min</th>\n",
       "      <th>N_est_max</th>\n",
       "      <th>score</th>\n",
       "    </tr>\n",
       "  </thead>\n",
       "  <tbody>\n",
       "    <tr>\n",
       "      <th>0</th>\n",
       "      <td>MENA</td>\n",
       "      <td>-600</td>\n",
       "      <td>5.312871</td>\n",
       "      <td>3.290627</td>\n",
       "      <td>11.391894</td>\n",
       "      <td>1</td>\n",
       "    </tr>\n",
       "    <tr>\n",
       "      <th>1</th>\n",
       "      <td>MENA</td>\n",
       "      <td>-400</td>\n",
       "      <td>2.468366</td>\n",
       "      <td>1.983477</td>\n",
       "      <td>3.312445</td>\n",
       "      <td>1</td>\n",
       "    </tr>\n",
       "    <tr>\n",
       "      <th>2</th>\n",
       "      <td>MENA</td>\n",
       "      <td>-350</td>\n",
       "      <td>25.742815</td>\n",
       "      <td>19.922451</td>\n",
       "      <td>35.616573</td>\n",
       "      <td>5</td>\n",
       "    </tr>\n",
       "    <tr>\n",
       "      <th>3</th>\n",
       "      <td>MENA</td>\n",
       "      <td>-300</td>\n",
       "      <td>33.535516</td>\n",
       "      <td>26.148248</td>\n",
       "      <td>45.664301</td>\n",
       "      <td>6</td>\n",
       "    </tr>\n",
       "    <tr>\n",
       "      <th>4</th>\n",
       "      <td>MENA</td>\n",
       "      <td>-250</td>\n",
       "      <td>54.856449</td>\n",
       "      <td>42.472869</td>\n",
       "      <td>75.633249</td>\n",
       "      <td>10</td>\n",
       "    </tr>\n",
       "    <tr>\n",
       "      <th>5</th>\n",
       "      <td>MENA</td>\n",
       "      <td>-200</td>\n",
       "      <td>16.721950</td>\n",
       "      <td>12.924141</td>\n",
       "      <td>23.311039</td>\n",
       "      <td>3</td>\n",
       "    </tr>\n",
       "    <tr>\n",
       "      <th>6</th>\n",
       "      <td>MENA</td>\n",
       "      <td>-150</td>\n",
       "      <td>17.575478</td>\n",
       "      <td>13.742243</td>\n",
       "      <td>24.029172</td>\n",
       "      <td>3</td>\n",
       "    </tr>\n",
       "    <tr>\n",
       "      <th>7</th>\n",
       "      <td>MENA</td>\n",
       "      <td>-100</td>\n",
       "      <td>43.781008</td>\n",
       "      <td>34.854628</td>\n",
       "      <td>57.983694</td>\n",
       "      <td>7</td>\n",
       "    </tr>\n",
       "    <tr>\n",
       "      <th>8</th>\n",
       "      <td>MENA</td>\n",
       "      <td>-50</td>\n",
       "      <td>39.719610</td>\n",
       "      <td>31.993824</td>\n",
       "      <td>51.765085</td>\n",
       "      <td>6</td>\n",
       "    </tr>\n",
       "    <tr>\n",
       "      <th>9</th>\n",
       "      <td>MENA</td>\n",
       "      <td>0</td>\n",
       "      <td>13.591689</td>\n",
       "      <td>10.944308</td>\n",
       "      <td>17.818640</td>\n",
       "      <td>2</td>\n",
       "    </tr>\n",
       "    <tr>\n",
       "      <th>10</th>\n",
       "      <td>MENA</td>\n",
       "      <td>50</td>\n",
       "      <td>65.935769</td>\n",
       "      <td>51.377738</td>\n",
       "      <td>89.936757</td>\n",
       "      <td>5</td>\n",
       "    </tr>\n",
       "    <tr>\n",
       "      <th>11</th>\n",
       "      <td>MENA</td>\n",
       "      <td>100</td>\n",
       "      <td>30.432920</td>\n",
       "      <td>24.334653</td>\n",
       "      <td>40.201200</td>\n",
       "      <td>5</td>\n",
       "    </tr>\n",
       "    <tr>\n",
       "      <th>12</th>\n",
       "      <td>MENA</td>\n",
       "      <td>150</td>\n",
       "      <td>53.049401</td>\n",
       "      <td>43.001603</td>\n",
       "      <td>68.547582</td>\n",
       "      <td>10</td>\n",
       "    </tr>\n",
       "    <tr>\n",
       "      <th>13</th>\n",
       "      <td>MENA</td>\n",
       "      <td>200</td>\n",
       "      <td>27.154197</td>\n",
       "      <td>22.327885</td>\n",
       "      <td>34.179948</td>\n",
       "      <td>6</td>\n",
       "    </tr>\n",
       "    <tr>\n",
       "      <th>14</th>\n",
       "      <td>MENA</td>\n",
       "      <td>250</td>\n",
       "      <td>31.108164</td>\n",
       "      <td>26.077048</td>\n",
       "      <td>38.589859</td>\n",
       "      <td>8</td>\n",
       "    </tr>\n",
       "    <tr>\n",
       "      <th>15</th>\n",
       "      <td>MENA</td>\n",
       "      <td>300</td>\n",
       "      <td>27.662670</td>\n",
       "      <td>23.199443</td>\n",
       "      <td>34.299391</td>\n",
       "      <td>8</td>\n",
       "    </tr>\n",
       "    <tr>\n",
       "      <th>16</th>\n",
       "      <td>MENA</td>\n",
       "      <td>350</td>\n",
       "      <td>19.582362</td>\n",
       "      <td>16.361509</td>\n",
       "      <td>24.323989</td>\n",
       "      <td>6</td>\n",
       "    </tr>\n",
       "    <tr>\n",
       "      <th>17</th>\n",
       "      <td>MENA</td>\n",
       "      <td>400</td>\n",
       "      <td>48.027680</td>\n",
       "      <td>39.376445</td>\n",
       "      <td>61.183720</td>\n",
       "      <td>10</td>\n",
       "    </tr>\n",
       "    <tr>\n",
       "      <th>18</th>\n",
       "      <td>MENA</td>\n",
       "      <td>450</td>\n",
       "      <td>29.095370</td>\n",
       "      <td>24.454276</td>\n",
       "      <td>35.543527</td>\n",
       "      <td>8</td>\n",
       "    </tr>\n",
       "    <tr>\n",
       "      <th>19</th>\n",
       "      <td>MENA</td>\n",
       "      <td>500</td>\n",
       "      <td>29.043351</td>\n",
       "      <td>24.412780</td>\n",
       "      <td>35.333911</td>\n",
       "      <td>7</td>\n",
       "    </tr>\n",
       "    <tr>\n",
       "      <th>20</th>\n",
       "      <td>MENA</td>\n",
       "      <td>550</td>\n",
       "      <td>38.950662</td>\n",
       "      <td>31.957656</td>\n",
       "      <td>49.153076</td>\n",
       "      <td>8</td>\n",
       "    </tr>\n",
       "    <tr>\n",
       "      <th>21</th>\n",
       "      <td>MENA</td>\n",
       "      <td>600</td>\n",
       "      <td>99.874259</td>\n",
       "      <td>80.724053</td>\n",
       "      <td>129.199780</td>\n",
       "      <td>13</td>\n",
       "    </tr>\n",
       "    <tr>\n",
       "      <th>22</th>\n",
       "      <td>MENA</td>\n",
       "      <td>650</td>\n",
       "      <td>150.462443</td>\n",
       "      <td>120.447053</td>\n",
       "      <td>196.533123</td>\n",
       "      <td>19</td>\n",
       "    </tr>\n",
       "    <tr>\n",
       "      <th>23</th>\n",
       "      <td>MENA</td>\n",
       "      <td>700</td>\n",
       "      <td>172.201238</td>\n",
       "      <td>139.872420</td>\n",
       "      <td>220.316155</td>\n",
       "      <td>25</td>\n",
       "    </tr>\n",
       "    <tr>\n",
       "      <th>24</th>\n",
       "      <td>MENA</td>\n",
       "      <td>750</td>\n",
       "      <td>268.121406</td>\n",
       "      <td>220.471138</td>\n",
       "      <td>339.091560</td>\n",
       "      <td>34</td>\n",
       "    </tr>\n",
       "    <tr>\n",
       "      <th>25</th>\n",
       "      <td>MENA</td>\n",
       "      <td>800</td>\n",
       "      <td>367.036625</td>\n",
       "      <td>305.911239</td>\n",
       "      <td>454.580075</td>\n",
       "      <td>49</td>\n",
       "    </tr>\n",
       "    <tr>\n",
       "      <th>26</th>\n",
       "      <td>MENA</td>\n",
       "      <td>850</td>\n",
       "      <td>358.635421</td>\n",
       "      <td>301.167723</td>\n",
       "      <td>438.943169</td>\n",
       "      <td>45</td>\n",
       "    </tr>\n",
       "    <tr>\n",
       "      <th>27</th>\n",
       "      <td>MENA</td>\n",
       "      <td>900</td>\n",
       "      <td>193.960247</td>\n",
       "      <td>162.444647</td>\n",
       "      <td>238.219041</td>\n",
       "      <td>31</td>\n",
       "    </tr>\n",
       "    <tr>\n",
       "      <th>28</th>\n",
       "      <td>MENA</td>\n",
       "      <td>950</td>\n",
       "      <td>299.253157</td>\n",
       "      <td>249.131062</td>\n",
       "      <td>371.337254</td>\n",
       "      <td>50</td>\n",
       "    </tr>\n",
       "    <tr>\n",
       "      <th>29</th>\n",
       "      <td>MENA</td>\n",
       "      <td>1000</td>\n",
       "      <td>377.044803</td>\n",
       "      <td>316.443838</td>\n",
       "      <td>460.872558</td>\n",
       "      <td>65</td>\n",
       "    </tr>\n",
       "    <tr>\n",
       "      <th>30</th>\n",
       "      <td>MENA</td>\n",
       "      <td>1050</td>\n",
       "      <td>275.695640</td>\n",
       "      <td>233.748516</td>\n",
       "      <td>332.413996</td>\n",
       "      <td>49</td>\n",
       "    </tr>\n",
       "    <tr>\n",
       "      <th>31</th>\n",
       "      <td>MENA</td>\n",
       "      <td>1100</td>\n",
       "      <td>369.502542</td>\n",
       "      <td>315.002227</td>\n",
       "      <td>444.347105</td>\n",
       "      <td>61</td>\n",
       "    </tr>\n",
       "    <tr>\n",
       "      <th>32</th>\n",
       "      <td>MENA</td>\n",
       "      <td>1150</td>\n",
       "      <td>442.307639</td>\n",
       "      <td>380.107571</td>\n",
       "      <td>525.710000</td>\n",
       "      <td>76</td>\n",
       "    </tr>\n",
       "    <tr>\n",
       "      <th>33</th>\n",
       "      <td>MENA</td>\n",
       "      <td>1200</td>\n",
       "      <td>533.624718</td>\n",
       "      <td>458.423230</td>\n",
       "      <td>634.088629</td>\n",
       "      <td>79</td>\n",
       "    </tr>\n",
       "    <tr>\n",
       "      <th>34</th>\n",
       "      <td>MENA</td>\n",
       "      <td>1250</td>\n",
       "      <td>624.522447</td>\n",
       "      <td>533.759540</td>\n",
       "      <td>749.669779</td>\n",
       "      <td>85</td>\n",
       "    </tr>\n",
       "    <tr>\n",
       "      <th>35</th>\n",
       "      <td>MENA</td>\n",
       "      <td>1300</td>\n",
       "      <td>392.195835</td>\n",
       "      <td>333.369002</td>\n",
       "      <td>473.002965</td>\n",
       "      <td>52</td>\n",
       "    </tr>\n",
       "    <tr>\n",
       "      <th>36</th>\n",
       "      <td>MENA</td>\n",
       "      <td>1350</td>\n",
       "      <td>391.220665</td>\n",
       "      <td>332.322620</td>\n",
       "      <td>471.840982</td>\n",
       "      <td>45</td>\n",
       "    </tr>\n",
       "    <tr>\n",
       "      <th>37</th>\n",
       "      <td>MENA</td>\n",
       "      <td>1400</td>\n",
       "      <td>672.750875</td>\n",
       "      <td>560.195436</td>\n",
       "      <td>838.620203</td>\n",
       "      <td>48</td>\n",
       "    </tr>\n",
       "    <tr>\n",
       "      <th>38</th>\n",
       "      <td>MENA</td>\n",
       "      <td>1450</td>\n",
       "      <td>437.672543</td>\n",
       "      <td>372.419992</td>\n",
       "      <td>528.760774</td>\n",
       "      <td>38</td>\n",
       "    </tr>\n",
       "    <tr>\n",
       "      <th>39</th>\n",
       "      <td>MENA</td>\n",
       "      <td>1500</td>\n",
       "      <td>496.348185</td>\n",
       "      <td>418.038745</td>\n",
       "      <td>606.995481</td>\n",
       "      <td>34</td>\n",
       "    </tr>\n",
       "    <tr>\n",
       "      <th>40</th>\n",
       "      <td>MENA</td>\n",
       "      <td>1550</td>\n",
       "      <td>542.456488</td>\n",
       "      <td>458.505152</td>\n",
       "      <td>660.353118</td>\n",
       "      <td>41</td>\n",
       "    </tr>\n",
       "    <tr>\n",
       "      <th>41</th>\n",
       "      <td>MENA</td>\n",
       "      <td>1600</td>\n",
       "      <td>641.360702</td>\n",
       "      <td>543.809059</td>\n",
       "      <td>777.022460</td>\n",
       "      <td>46</td>\n",
       "    </tr>\n",
       "    <tr>\n",
       "      <th>42</th>\n",
       "      <td>MENA</td>\n",
       "      <td>1650</td>\n",
       "      <td>647.044017</td>\n",
       "      <td>549.043584</td>\n",
       "      <td>783.227778</td>\n",
       "      <td>41</td>\n",
       "    </tr>\n",
       "    <tr>\n",
       "      <th>43</th>\n",
       "      <td>MENA</td>\n",
       "      <td>1700</td>\n",
       "      <td>551.399478</td>\n",
       "      <td>464.148648</td>\n",
       "      <td>675.176873</td>\n",
       "      <td>35</td>\n",
       "    </tr>\n",
       "    <tr>\n",
       "      <th>44</th>\n",
       "      <td>MENA</td>\n",
       "      <td>1750</td>\n",
       "      <td>796.276109</td>\n",
       "      <td>673.191899</td>\n",
       "      <td>969.016918</td>\n",
       "      <td>49</td>\n",
       "    </tr>\n",
       "    <tr>\n",
       "      <th>45</th>\n",
       "      <td>MENA</td>\n",
       "      <td>1800</td>\n",
       "      <td>1241.726567</td>\n",
       "      <td>1054.801630</td>\n",
       "      <td>1501.173817</td>\n",
       "      <td>90</td>\n",
       "    </tr>\n",
       "    <tr>\n",
       "      <th>46</th>\n",
       "      <td>MENA</td>\n",
       "      <td>1850</td>\n",
       "      <td>4012.678177</td>\n",
       "      <td>3401.665335</td>\n",
       "      <td>4865.416759</td>\n",
       "      <td>252</td>\n",
       "    </tr>\n",
       "  </tbody>\n",
       "</table>\n",
       "</div>"
      ],
      "text/plain": [
       "   region_name  decade        N_est    N_est_min    N_est_max  score\n",
       "0         MENA    -600     5.312871     3.290627    11.391894      1\n",
       "1         MENA    -400     2.468366     1.983477     3.312445      1\n",
       "2         MENA    -350    25.742815    19.922451    35.616573      5\n",
       "3         MENA    -300    33.535516    26.148248    45.664301      6\n",
       "4         MENA    -250    54.856449    42.472869    75.633249     10\n",
       "5         MENA    -200    16.721950    12.924141    23.311039      3\n",
       "6         MENA    -150    17.575478    13.742243    24.029172      3\n",
       "7         MENA    -100    43.781008    34.854628    57.983694      7\n",
       "8         MENA     -50    39.719610    31.993824    51.765085      6\n",
       "9         MENA       0    13.591689    10.944308    17.818640      2\n",
       "10        MENA      50    65.935769    51.377738    89.936757      5\n",
       "11        MENA     100    30.432920    24.334653    40.201200      5\n",
       "12        MENA     150    53.049401    43.001603    68.547582     10\n",
       "13        MENA     200    27.154197    22.327885    34.179948      6\n",
       "14        MENA     250    31.108164    26.077048    38.589859      8\n",
       "15        MENA     300    27.662670    23.199443    34.299391      8\n",
       "16        MENA     350    19.582362    16.361509    24.323989      6\n",
       "17        MENA     400    48.027680    39.376445    61.183720     10\n",
       "18        MENA     450    29.095370    24.454276    35.543527      8\n",
       "19        MENA     500    29.043351    24.412780    35.333911      7\n",
       "20        MENA     550    38.950662    31.957656    49.153076      8\n",
       "21        MENA     600    99.874259    80.724053   129.199780     13\n",
       "22        MENA     650   150.462443   120.447053   196.533123     19\n",
       "23        MENA     700   172.201238   139.872420   220.316155     25\n",
       "24        MENA     750   268.121406   220.471138   339.091560     34\n",
       "25        MENA     800   367.036625   305.911239   454.580075     49\n",
       "26        MENA     850   358.635421   301.167723   438.943169     45\n",
       "27        MENA     900   193.960247   162.444647   238.219041     31\n",
       "28        MENA     950   299.253157   249.131062   371.337254     50\n",
       "29        MENA    1000   377.044803   316.443838   460.872558     65\n",
       "30        MENA    1050   275.695640   233.748516   332.413996     49\n",
       "31        MENA    1100   369.502542   315.002227   444.347105     61\n",
       "32        MENA    1150   442.307639   380.107571   525.710000     76\n",
       "33        MENA    1200   533.624718   458.423230   634.088629     79\n",
       "34        MENA    1250   624.522447   533.759540   749.669779     85\n",
       "35        MENA    1300   392.195835   333.369002   473.002965     52\n",
       "36        MENA    1350   391.220665   332.322620   471.840982     45\n",
       "37        MENA    1400   672.750875   560.195436   838.620203     48\n",
       "38        MENA    1450   437.672543   372.419992   528.760774     38\n",
       "39        MENA    1500   496.348185   418.038745   606.995481     34\n",
       "40        MENA    1550   542.456488   458.505152   660.353118     41\n",
       "41        MENA    1600   641.360702   543.809059   777.022460     46\n",
       "42        MENA    1650   647.044017   549.043584   783.227778     41\n",
       "43        MENA    1700   551.399478   464.148648   675.176873     35\n",
       "44        MENA    1750   796.276109   673.191899   969.016918     49\n",
       "45        MENA    1800  1241.726567  1054.801630  1501.173817     90\n",
       "46        MENA    1850  4012.678177  3401.665335  4865.416759    252"
      ]
     },
     "execution_count": 35,
     "metadata": {},
     "output_type": "execute_result"
    }
   ],
   "source": [
    "# df_cultura = pd.concat([df_cultura, df_cultura_latin_after])\n",
    "# df_cultura = df_cultura.reset_index(drop=True)\n",
    "\n",
    "\n",
    "df_cultura_muslim= df_cultura[df_cultura['region_name'].isin(['Arabic world', 'Persian world'])]\n",
    "df_cultura_muslim['region_name']='MENA'\n",
    "df_cultura_muslim = df_cultura_muslim.groupby(['region_name', 'decade']).sum().reset_index()\n",
    "# df_cultura_muslim = df_cultura_muslim[df_cultura_muslim['decade']>500]\n",
    "df_cultura_muslim"
   ]
  },
  {
   "cell_type": "code",
   "execution_count": null,
   "metadata": {},
   "outputs": [],
   "source": [
    "df_cultura = pd.concat([df_cultura, df_cultura_muslim])\n",
    "df_cultura = df_cultura.reset_index(drop=True)"
   ]
  },
  {
   "cell_type": "code",
   "execution_count": null,
   "metadata": {},
   "outputs": [],
   "source": [
    "df_pop = pd.read_csv('/Users/charlesdedampierre/Desktop/cultura_project/gdp_analysis/results/population_interpolated_regions.csv', index_col = [0])\n",
    "df_pop['decade'] = df_pop['year'].apply(lambda x: round(x /50) * 50)\n",
    "df_pop = df_pop.groupby(['region_name', 'decade'])['pop'].mean().reset_index()"
   ]
  },
  {
   "cell_type": "code",
   "execution_count": null,
   "metadata": {},
   "outputs": [
    {
     "name": "stderr",
     "output_type": "stream",
     "text": [
      "/var/folders/lx/9b13r6ln63jb54_3xlf9b_380000gn/T/ipykernel_13756/3793111182.py:10: SettingWithCopyWarning:\n",
      "\n",
      "\n",
      "A value is trying to be set on a copy of a slice from a DataFrame.\n",
      "Try using .loc[row_indexer,col_indexer] = value instead\n",
      "\n",
      "See the caveats in the documentation: https://pandas.pydata.org/pandas-docs/stable/user_guide/indexing.html#returning-a-view-versus-a-copy\n",
      "\n"
     ]
    }
   ],
   "source": [
    "\n",
    "\n",
    "# df_pop_latin_after = df_pop[df_pop['region_name'].isin(Latin_world_after)]\n",
    "# df_pop_latin_after['region_name']='Latin World'\n",
    "# df_pop_latin_after = df_pop_latin_after.groupby(['region_name', 'decade']).sum().reset_index()\n",
    "# df_pop_latin_after = df_pop_latin_after[df_pop_latin_after['decade']>500]\n",
    "# df_pop = pd.concat([df_pop, df_pop_latin_after])\n",
    "\n",
    "\n",
    "df_pop_muslim = df_pop[df_pop['region_name'].isin(['Arabic world','Persian world'])]\n",
    "\n",
    "df_pop_muslim['region_name']='MENA'\n",
    "df_pop_muslim = df_pop_muslim.groupby(['region_name', 'decade']).sum().reset_index()\n",
    "df_pop_muslim = df_pop_muslim[df_pop_muslim['decade']>500]\n",
    "\n",
    "df_pop = pd.concat([df_pop, df_pop_muslim])\n",
    "df_pop = df_pop.reset_index(drop=True)"
   ]
  },
  {
   "cell_type": "code",
   "execution_count": null,
   "metadata": {},
   "outputs": [],
   "source": [
    "pop = False\n",
    "if pop is True:\n",
    "\n",
    "    df_cultura= pd.merge(df_cultura, df_pop, on = ['region_name', 'decade'])\n",
    "    df_cultura['N_est'] = df_cultura['N_est']/ df_cultura['pop']\n",
    "\n",
    "    df_cultura['N_est'] = df_cultura['N_est']/df_cultura['pop']\n",
    "    df_cultura['N_est_min'] = df_cultura['N_est_min']/df_cultura['pop']\n",
    "    df_cultura['N_est_max'] = df_cultura['N_est_max']/df_cultura['pop']\n",
    "\n",
    "    print('Population updated')"
   ]
  },
  {
   "cell_type": "code",
   "execution_count": null,
   "metadata": {},
   "outputs": [
    {
     "data": {
      "text/html": [
       "<div>\n",
       "<style scoped>\n",
       "    .dataframe tbody tr th:only-of-type {\n",
       "        vertical-align: middle;\n",
       "    }\n",
       "\n",
       "    .dataframe tbody tr th {\n",
       "        vertical-align: top;\n",
       "    }\n",
       "\n",
       "    .dataframe thead th {\n",
       "        text-align: right;\n",
       "    }\n",
       "</style>\n",
       "<table border=\"1\" class=\"dataframe\">\n",
       "  <thead>\n",
       "    <tr style=\"text-align: right;\">\n",
       "      <th></th>\n",
       "      <th>decade</th>\n",
       "      <th>N_est</th>\n",
       "      <th>N_est_min</th>\n",
       "      <th>N_est_max</th>\n",
       "      <th>score</th>\n",
       "      <th>region_name</th>\n",
       "    </tr>\n",
       "  </thead>\n",
       "  <tbody>\n",
       "    <tr>\n",
       "      <th>401</th>\n",
       "      <td>-300</td>\n",
       "      <td>2.697387</td>\n",
       "      <td>2.159038</td>\n",
       "      <td>3.591965</td>\n",
       "      <td>1</td>\n",
       "      <td>Latin World</td>\n",
       "    </tr>\n",
       "    <tr>\n",
       "      <th>402</th>\n",
       "      <td>-250</td>\n",
       "      <td>4.744345</td>\n",
       "      <td>3.641640</td>\n",
       "      <td>6.592695</td>\n",
       "      <td>1</td>\n",
       "      <td>Latin World</td>\n",
       "    </tr>\n",
       "    <tr>\n",
       "      <th>403</th>\n",
       "      <td>-200</td>\n",
       "      <td>33.761550</td>\n",
       "      <td>26.003978</td>\n",
       "      <td>46.938081</td>\n",
       "      <td>7</td>\n",
       "      <td>Latin World</td>\n",
       "    </tr>\n",
       "    <tr>\n",
       "      <th>404</th>\n",
       "      <td>-150</td>\n",
       "      <td>52.865110</td>\n",
       "      <td>41.525491</td>\n",
       "      <td>71.451671</td>\n",
       "      <td>11</td>\n",
       "      <td>Latin World</td>\n",
       "    </tr>\n",
       "    <tr>\n",
       "      <th>405</th>\n",
       "      <td>-100</td>\n",
       "      <td>214.053186</td>\n",
       "      <td>169.933300</td>\n",
       "      <td>282.882139</td>\n",
       "      <td>34</td>\n",
       "      <td>Latin World</td>\n",
       "    </tr>\n",
       "    <tr>\n",
       "      <th>406</th>\n",
       "      <td>-50</td>\n",
       "      <td>278.746703</td>\n",
       "      <td>225.409609</td>\n",
       "      <td>358.320288</td>\n",
       "      <td>45</td>\n",
       "      <td>Latin World</td>\n",
       "    </tr>\n",
       "    <tr>\n",
       "      <th>407</th>\n",
       "      <td>0</td>\n",
       "      <td>138.327069</td>\n",
       "      <td>111.998695</td>\n",
       "      <td>177.230537</td>\n",
       "      <td>24</td>\n",
       "      <td>Latin World</td>\n",
       "    </tr>\n",
       "    <tr>\n",
       "      <th>408</th>\n",
       "      <td>50</td>\n",
       "      <td>105.780358</td>\n",
       "      <td>85.358738</td>\n",
       "      <td>137.353733</td>\n",
       "      <td>19</td>\n",
       "      <td>Latin World</td>\n",
       "    </tr>\n",
       "    <tr>\n",
       "      <th>409</th>\n",
       "      <td>100</td>\n",
       "      <td>153.833703</td>\n",
       "      <td>124.004119</td>\n",
       "      <td>199.534130</td>\n",
       "      <td>28</td>\n",
       "      <td>Latin World</td>\n",
       "    </tr>\n",
       "    <tr>\n",
       "      <th>410</th>\n",
       "      <td>150</td>\n",
       "      <td>91.648798</td>\n",
       "      <td>75.426986</td>\n",
       "      <td>116.130223</td>\n",
       "      <td>21</td>\n",
       "      <td>Latin World</td>\n",
       "    </tr>\n",
       "    <tr>\n",
       "      <th>411</th>\n",
       "      <td>200</td>\n",
       "      <td>61.394099</td>\n",
       "      <td>51.374443</td>\n",
       "      <td>76.040564</td>\n",
       "      <td>16</td>\n",
       "      <td>Latin World</td>\n",
       "    </tr>\n",
       "    <tr>\n",
       "      <th>412</th>\n",
       "      <td>250</td>\n",
       "      <td>64.967445</td>\n",
       "      <td>53.995696</td>\n",
       "      <td>80.874080</td>\n",
       "      <td>16</td>\n",
       "      <td>Latin World</td>\n",
       "    </tr>\n",
       "    <tr>\n",
       "      <th>413</th>\n",
       "      <td>300</td>\n",
       "      <td>48.557482</td>\n",
       "      <td>40.603012</td>\n",
       "      <td>59.879134</td>\n",
       "      <td>16</td>\n",
       "      <td>Latin World</td>\n",
       "    </tr>\n",
       "    <tr>\n",
       "      <th>414</th>\n",
       "      <td>350</td>\n",
       "      <td>37.303293</td>\n",
       "      <td>31.034767</td>\n",
       "      <td>46.550398</td>\n",
       "      <td>13</td>\n",
       "      <td>Latin World</td>\n",
       "    </tr>\n",
       "    <tr>\n",
       "      <th>415</th>\n",
       "      <td>400</td>\n",
       "      <td>52.646442</td>\n",
       "      <td>43.708998</td>\n",
       "      <td>66.126720</td>\n",
       "      <td>18</td>\n",
       "      <td>Latin World</td>\n",
       "    </tr>\n",
       "    <tr>\n",
       "      <th>416</th>\n",
       "      <td>450</td>\n",
       "      <td>52.403991</td>\n",
       "      <td>43.334728</td>\n",
       "      <td>65.977499</td>\n",
       "      <td>17</td>\n",
       "      <td>Latin World</td>\n",
       "    </tr>\n",
       "    <tr>\n",
       "      <th>417</th>\n",
       "      <td>500</td>\n",
       "      <td>25.227757</td>\n",
       "      <td>20.658687</td>\n",
       "      <td>32.197905</td>\n",
       "      <td>7</td>\n",
       "      <td>Latin World</td>\n",
       "    </tr>\n",
       "    <tr>\n",
       "      <th>707</th>\n",
       "      <td>550</td>\n",
       "      <td>33.831489</td>\n",
       "      <td>28.589529</td>\n",
       "      <td>40.945419</td>\n",
       "      <td>8</td>\n",
       "      <td>Latin World</td>\n",
       "    </tr>\n",
       "    <tr>\n",
       "      <th>708</th>\n",
       "      <td>600</td>\n",
       "      <td>77.343083</td>\n",
       "      <td>62.356793</td>\n",
       "      <td>100.137990</td>\n",
       "      <td>5</td>\n",
       "      <td>Latin World</td>\n",
       "    </tr>\n",
       "    <tr>\n",
       "      <th>709</th>\n",
       "      <td>650</td>\n",
       "      <td>61.888159</td>\n",
       "      <td>50.029648</td>\n",
       "      <td>79.883681</td>\n",
       "      <td>7</td>\n",
       "      <td>Latin World</td>\n",
       "    </tr>\n",
       "    <tr>\n",
       "      <th>710</th>\n",
       "      <td>700</td>\n",
       "      <td>9.238394</td>\n",
       "      <td>7.591056</td>\n",
       "      <td>11.717643</td>\n",
       "      <td>1</td>\n",
       "      <td>Latin World</td>\n",
       "    </tr>\n",
       "    <tr>\n",
       "      <th>711</th>\n",
       "      <td>750</td>\n",
       "      <td>74.330680</td>\n",
       "      <td>61.940146</td>\n",
       "      <td>91.837294</td>\n",
       "      <td>8</td>\n",
       "      <td>Latin World</td>\n",
       "    </tr>\n",
       "    <tr>\n",
       "      <th>712</th>\n",
       "      <td>800</td>\n",
       "      <td>152.699950</td>\n",
       "      <td>128.581282</td>\n",
       "      <td>185.856919</td>\n",
       "      <td>13</td>\n",
       "      <td>Latin World</td>\n",
       "    </tr>\n",
       "    <tr>\n",
       "      <th>713</th>\n",
       "      <td>850</td>\n",
       "      <td>137.423785</td>\n",
       "      <td>118.551467</td>\n",
       "      <td>162.664259</td>\n",
       "      <td>19</td>\n",
       "      <td>Latin World</td>\n",
       "    </tr>\n",
       "    <tr>\n",
       "      <th>714</th>\n",
       "      <td>900</td>\n",
       "      <td>200.341646</td>\n",
       "      <td>168.916432</td>\n",
       "      <td>243.433059</td>\n",
       "      <td>15</td>\n",
       "      <td>Latin World</td>\n",
       "    </tr>\n",
       "    <tr>\n",
       "      <th>715</th>\n",
       "      <td>950</td>\n",
       "      <td>100.011292</td>\n",
       "      <td>85.758187</td>\n",
       "      <td>118.782972</td>\n",
       "      <td>15</td>\n",
       "      <td>Latin World</td>\n",
       "    </tr>\n",
       "    <tr>\n",
       "      <th>716</th>\n",
       "      <td>1000</td>\n",
       "      <td>423.054933</td>\n",
       "      <td>361.221650</td>\n",
       "      <td>507.389418</td>\n",
       "      <td>46</td>\n",
       "      <td>Latin World</td>\n",
       "    </tr>\n",
       "    <tr>\n",
       "      <th>717</th>\n",
       "      <td>1050</td>\n",
       "      <td>286.045121</td>\n",
       "      <td>249.999482</td>\n",
       "      <td>332.696238</td>\n",
       "      <td>36</td>\n",
       "      <td>Latin World</td>\n",
       "    </tr>\n",
       "    <tr>\n",
       "      <th>718</th>\n",
       "      <td>1100</td>\n",
       "      <td>488.547022</td>\n",
       "      <td>434.923991</td>\n",
       "      <td>557.074368</td>\n",
       "      <td>74</td>\n",
       "      <td>Latin World</td>\n",
       "    </tr>\n",
       "    <tr>\n",
       "      <th>719</th>\n",
       "      <td>1150</td>\n",
       "      <td>1159.040627</td>\n",
       "      <td>1031.676891</td>\n",
       "      <td>1317.991042</td>\n",
       "      <td>129</td>\n",
       "      <td>Latin World</td>\n",
       "    </tr>\n",
       "    <tr>\n",
       "      <th>720</th>\n",
       "      <td>1200</td>\n",
       "      <td>2766.119676</td>\n",
       "      <td>2442.649544</td>\n",
       "      <td>3174.579248</td>\n",
       "      <td>204</td>\n",
       "      <td>Latin World</td>\n",
       "    </tr>\n",
       "    <tr>\n",
       "      <th>721</th>\n",
       "      <td>1250</td>\n",
       "      <td>3570.190953</td>\n",
       "      <td>3154.832001</td>\n",
       "      <td>4094.552299</td>\n",
       "      <td>245</td>\n",
       "      <td>Latin World</td>\n",
       "    </tr>\n",
       "    <tr>\n",
       "      <th>722</th>\n",
       "      <td>1300</td>\n",
       "      <td>3211.433524</td>\n",
       "      <td>2883.167304</td>\n",
       "      <td>3615.387156</td>\n",
       "      <td>288</td>\n",
       "      <td>Latin World</td>\n",
       "    </tr>\n",
       "    <tr>\n",
       "      <th>723</th>\n",
       "      <td>1350</td>\n",
       "      <td>3388.649973</td>\n",
       "      <td>3063.137355</td>\n",
       "      <td>3782.369544</td>\n",
       "      <td>266</td>\n",
       "      <td>Latin World</td>\n",
       "    </tr>\n",
       "    <tr>\n",
       "      <th>724</th>\n",
       "      <td>1400</td>\n",
       "      <td>6320.946911</td>\n",
       "      <td>5734.260068</td>\n",
       "      <td>7026.142962</td>\n",
       "      <td>414</td>\n",
       "      <td>Latin World</td>\n",
       "    </tr>\n",
       "    <tr>\n",
       "      <th>725</th>\n",
       "      <td>1450</td>\n",
       "      <td>11138.984294</td>\n",
       "      <td>10148.644207</td>\n",
       "      <td>12325.663146</td>\n",
       "      <td>653</td>\n",
       "      <td>Latin World</td>\n",
       "    </tr>\n",
       "    <tr>\n",
       "      <th>726</th>\n",
       "      <td>1500</td>\n",
       "      <td>36345.380246</td>\n",
       "      <td>33035.025378</td>\n",
       "      <td>40327.195524</td>\n",
       "      <td>1681</td>\n",
       "      <td>Latin World</td>\n",
       "    </tr>\n",
       "    <tr>\n",
       "      <th>727</th>\n",
       "      <td>1550</td>\n",
       "      <td>74713.977060</td>\n",
       "      <td>68038.713052</td>\n",
       "      <td>82731.537935</td>\n",
       "      <td>3132</td>\n",
       "      <td>Latin World</td>\n",
       "    </tr>\n",
       "    <tr>\n",
       "      <th>728</th>\n",
       "      <td>1600</td>\n",
       "      <td>126352.258137</td>\n",
       "      <td>114773.500843</td>\n",
       "      <td>140334.146731</td>\n",
       "      <td>4580</td>\n",
       "      <td>Latin World</td>\n",
       "    </tr>\n",
       "    <tr>\n",
       "      <th>729</th>\n",
       "      <td>1650</td>\n",
       "      <td>122057.982328</td>\n",
       "      <td>111470.331298</td>\n",
       "      <td>134654.927047</td>\n",
       "      <td>5165</td>\n",
       "      <td>Latin World</td>\n",
       "    </tr>\n",
       "    <tr>\n",
       "      <th>730</th>\n",
       "      <td>1700</td>\n",
       "      <td>170456.953047</td>\n",
       "      <td>155526.376843</td>\n",
       "      <td>188271.558000</td>\n",
       "      <td>6457</td>\n",
       "      <td>Latin World</td>\n",
       "    </tr>\n",
       "    <tr>\n",
       "      <th>731</th>\n",
       "      <td>1750</td>\n",
       "      <td>233873.935784</td>\n",
       "      <td>213155.141888</td>\n",
       "      <td>258686.142876</td>\n",
       "      <td>8685</td>\n",
       "      <td>Latin World</td>\n",
       "    </tr>\n",
       "    <tr>\n",
       "      <th>732</th>\n",
       "      <td>1800</td>\n",
       "      <td>399798.016151</td>\n",
       "      <td>364853.087934</td>\n",
       "      <td>442090.435496</td>\n",
       "      <td>15199</td>\n",
       "      <td>Latin World</td>\n",
       "    </tr>\n",
       "    <tr>\n",
       "      <th>733</th>\n",
       "      <td>1850</td>\n",
       "      <td>779000.380955</td>\n",
       "      <td>711161.556116</td>\n",
       "      <td>860557.835952</td>\n",
       "      <td>32808</td>\n",
       "      <td>Latin World</td>\n",
       "    </tr>\n",
       "  </tbody>\n",
       "</table>\n",
       "</div>"
      ],
      "text/plain": [
       "     decade          N_est      N_est_min      N_est_max  score  region_name\n",
       "401    -300       2.697387       2.159038       3.591965      1  Latin World\n",
       "402    -250       4.744345       3.641640       6.592695      1  Latin World\n",
       "403    -200      33.761550      26.003978      46.938081      7  Latin World\n",
       "404    -150      52.865110      41.525491      71.451671     11  Latin World\n",
       "405    -100     214.053186     169.933300     282.882139     34  Latin World\n",
       "406     -50     278.746703     225.409609     358.320288     45  Latin World\n",
       "407       0     138.327069     111.998695     177.230537     24  Latin World\n",
       "408      50     105.780358      85.358738     137.353733     19  Latin World\n",
       "409     100     153.833703     124.004119     199.534130     28  Latin World\n",
       "410     150      91.648798      75.426986     116.130223     21  Latin World\n",
       "411     200      61.394099      51.374443      76.040564     16  Latin World\n",
       "412     250      64.967445      53.995696      80.874080     16  Latin World\n",
       "413     300      48.557482      40.603012      59.879134     16  Latin World\n",
       "414     350      37.303293      31.034767      46.550398     13  Latin World\n",
       "415     400      52.646442      43.708998      66.126720     18  Latin World\n",
       "416     450      52.403991      43.334728      65.977499     17  Latin World\n",
       "417     500      25.227757      20.658687      32.197905      7  Latin World\n",
       "707     550      33.831489      28.589529      40.945419      8  Latin World\n",
       "708     600      77.343083      62.356793     100.137990      5  Latin World\n",
       "709     650      61.888159      50.029648      79.883681      7  Latin World\n",
       "710     700       9.238394       7.591056      11.717643      1  Latin World\n",
       "711     750      74.330680      61.940146      91.837294      8  Latin World\n",
       "712     800     152.699950     128.581282     185.856919     13  Latin World\n",
       "713     850     137.423785     118.551467     162.664259     19  Latin World\n",
       "714     900     200.341646     168.916432     243.433059     15  Latin World\n",
       "715     950     100.011292      85.758187     118.782972     15  Latin World\n",
       "716    1000     423.054933     361.221650     507.389418     46  Latin World\n",
       "717    1050     286.045121     249.999482     332.696238     36  Latin World\n",
       "718    1100     488.547022     434.923991     557.074368     74  Latin World\n",
       "719    1150    1159.040627    1031.676891    1317.991042    129  Latin World\n",
       "720    1200    2766.119676    2442.649544    3174.579248    204  Latin World\n",
       "721    1250    3570.190953    3154.832001    4094.552299    245  Latin World\n",
       "722    1300    3211.433524    2883.167304    3615.387156    288  Latin World\n",
       "723    1350    3388.649973    3063.137355    3782.369544    266  Latin World\n",
       "724    1400    6320.946911    5734.260068    7026.142962    414  Latin World\n",
       "725    1450   11138.984294   10148.644207   12325.663146    653  Latin World\n",
       "726    1500   36345.380246   33035.025378   40327.195524   1681  Latin World\n",
       "727    1550   74713.977060   68038.713052   82731.537935   3132  Latin World\n",
       "728    1600  126352.258137  114773.500843  140334.146731   4580  Latin World\n",
       "729    1650  122057.982328  111470.331298  134654.927047   5165  Latin World\n",
       "730    1700  170456.953047  155526.376843  188271.558000   6457  Latin World\n",
       "731    1750  233873.935784  213155.141888  258686.142876   8685  Latin World\n",
       "732    1800  399798.016151  364853.087934  442090.435496  15199  Latin World\n",
       "733    1850  779000.380955  711161.556116  860557.835952  32808  Latin World"
      ]
     },
     "execution_count": 40,
     "metadata": {},
     "output_type": "execute_result"
    }
   ],
   "source": [
    "df_cultura[df_cultura['region_name']=='Latin World']"
   ]
  },
  {
   "cell_type": "code",
   "execution_count": null,
   "metadata": {},
   "outputs": [],
   "source": [
    "# df_cultura_world = df_cultura.drop('region_name', axis=1).groupby('decade').sum().reset_index()\n",
    "# df_cultura_world['region_name']='world'\n"
   ]
  },
  {
   "cell_type": "code",
   "execution_count": null,
   "metadata": {},
   "outputs": [
    {
     "name": "stderr",
     "output_type": "stream",
     "text": [
      "/var/folders/lx/9b13r6ln63jb54_3xlf9b_380000gn/T/ipykernel_13756/1928412201.py:6: SettingWithCopyWarning:\n",
      "\n",
      "\n",
      "A value is trying to be set on a copy of a slice from a DataFrame.\n",
      "Try using .loc[row_indexer,col_indexer] = value instead\n",
      "\n",
      "See the caveats in the documentation: https://pandas.pydata.org/pandas-docs/stable/user_guide/indexing.html#returning-a-view-versus-a-copy\n",
      "\n"
     ]
    },
    {
     "data": {
      "application/vnd.plotly.v1+json": {
       "config": {
        "plotlyServerURL": "https://plot.ly"
       },
       "data": [
        {
         "hovertemplate": "Region=Chinese world<br>Decade=%{x}<br>Estimated Number=%{y}<extra></extra>",
         "legendgroup": "Chinese world",
         "line": {
          "color": "#636efa",
          "dash": "solid"
         },
         "marker": {
          "symbol": "circle"
         },
         "mode": "lines",
         "name": "Chinese world",
         "orientation": "v",
         "showlegend": true,
         "type": "scatter",
         "x": [
          -700,
          -500,
          -450,
          -400,
          -350,
          -300,
          -250,
          -200,
          -150,
          -100,
          -50,
          0,
          50,
          100,
          150,
          200,
          250,
          300,
          350,
          400,
          450,
          500,
          550,
          600,
          650,
          700,
          750,
          800,
          850,
          900,
          950,
          1000,
          1050,
          1100,
          1150,
          1200,
          1250,
          1300,
          1350,
          1400,
          1450,
          1500,
          1550,
          1600,
          1650,
          1700,
          1750,
          1800
         ],
         "xaxis": "x",
         "y": [
          0.9380768649078918,
          1.5504684015664867,
          2.635746175782637,
          2.6033789975748194,
          2.565676313608294,
          1.4333383400944641,
          3.025150189313848,
          2.123330705417169,
          2.576845252851929,
          3.2842466255833624,
          2.693294442443218,
          2.7184635554712218,
          2.2906630384486277,
          2.20733192920081,
          3.9163815174367476,
          4.033340098620435,
          3.5762441716516826,
          3.126638903971364,
          2.9510108034366693,
          3.39497212109179,
          1.7224976949490474,
          3.290288650130459,
          3.6468311486543015,
          3.296904660303638,
          2.9301845306327974,
          3.298342763814008,
          4.11223889851473,
          4.399281319432036,
          3.3689335441074757,
          3.9151705871929883,
          3.714879737670663,
          3.5538128597442737,
          3.7203250670349566,
          3.6104652786417404,
          3.310326418206644,
          3.3205176219810557,
          4.754864758092746,
          5.664499184083238,
          5.465203201443914,
          5.747060597607236,
          5.55666326781417,
          5.824923286424942,
          6.359586698146482,
          6.395545567015926,
          7.560560649553878,
          7.224042403505346,
          7.027962113693087,
          7.444874961407731
         ],
         "yaxis": "y"
        },
        {
         "hovertemplate": "Region=Greek World<br>Decade=%{x}<br>Estimated Number=%{y}<extra></extra>",
         "legendgroup": "Greek World",
         "line": {
          "color": "#EF553B",
          "dash": "solid"
         },
         "marker": {
          "symbol": "circle"
         },
         "mode": "lines",
         "name": "Greek World",
         "orientation": "v",
         "showlegend": true,
         "type": "scatter",
         "x": [
          -800,
          -700,
          -650,
          -600,
          -550,
          -500,
          -450,
          -400,
          -350,
          -300,
          -250,
          -200,
          -150,
          -100,
          -50,
          0,
          50,
          100,
          150,
          200,
          250,
          300,
          350,
          400,
          450,
          500,
          550,
          600,
          650,
          700,
          750,
          800,
          900,
          950,
          1000,
          1050,
          1100,
          1150,
          1200,
          1250,
          1300,
          1350,
          1400,
          1450,
          1500,
          1550,
          1600,
          1650,
          1700,
          1750,
          1800
         ],
         "xaxis": "x",
         "y": [
          2.1637411984446433,
          3.5365260095637376,
          3.2302809450572725,
          4.659223908470428,
          5.224809310776733,
          6.1259741610636755,
          6.317780007078704,
          6.313138312433824,
          6.216796315805693,
          6.2843255499335395,
          5.611005132112706,
          5.047730762785549,
          5.108786789737795,
          6.0394498375687515,
          5.27864639979692,
          3.718062375134212,
          5.517616163426699,
          4.927326588182231,
          5.427371843759868,
          4.391635729921149,
          4.518441522330619,
          4.0176678231574865,
          4.196123524388871,
          4.5627218466072925,
          4.35167336177955,
          4.682738615410068,
          4.894207424049992,
          4.325085631346325,
          5.142054992311582,
          5.154164515398953,
          3.0298023728253303,
          4.130283386365408,
          3.328628160263788,
          4.185336834099086,
          3.239091830949624,
          3.504728835252324,
          2.8104965521999605,
          3.751260993378167,
          5.573141255753532,
          4.695517001150262,
          5.839654479970321,
          5.32933245027369,
          5.648015966140985,
          5.449182231785536,
          5.15689282482085,
          5.774055840018714,
          5.788014793278714,
          4.542357880665705,
          4.916731985457302,
          5.5672239560061065,
          6.768481447625788
         ],
         "yaxis": "y"
        },
        {
         "hovertemplate": "Region=Indian world<br>Decade=%{x}<br>Estimated Number=%{y}<extra></extra>",
         "legendgroup": "Indian world",
         "line": {
          "color": "#00cc96",
          "dash": "solid"
         },
         "marker": {
          "symbol": "circle"
         },
         "mode": "lines",
         "name": "Indian world",
         "orientation": "v",
         "showlegend": true,
         "type": "scatter",
         "x": [
          -550,
          -500,
          -450,
          -400,
          -350,
          -200,
          -100,
          200,
          250,
          300,
          400,
          450,
          500,
          550,
          600,
          650,
          700,
          750,
          850,
          900,
          950,
          1000,
          1050,
          1100,
          1150,
          1200,
          1250,
          1300,
          1350,
          1400,
          1450,
          1500,
          1550,
          1600,
          1650,
          1700,
          1750,
          1800
         ],
         "xaxis": "x",
         "y": [
          1.3942087920248565,
          1.4284091759992337,
          2.1083370320501937,
          1.3834134495360721,
          2.445072678387754,
          1.3106092484202685,
          1.4174732956631186,
          1.119427698854741,
          0.983596699980112,
          0.8807670086952876,
          0.8487791610148988,
          0.9245617385995037,
          1.7341152897287841,
          2.2768889510083676,
          1.3133559669140744,
          2.5195317187494743,
          2.8687761462808403,
          2.1952316718335183,
          2.146060560461467,
          2.792508590106694,
          1.360885056145615,
          2.712401199152139,
          2.9156031103151827,
          1.9979558004835645,
          2.4248583233002208,
          2.761836477965791,
          3.7608570358117954,
          3.3632315065319833,
          2.8021057158833975,
          4.038407439715531,
          3.916385336203194,
          5.336412598615999,
          5.516310840640747,
          5.982710641028129,
          5.101881853209271,
          4.950825383603415,
          5.907586870442017,
          6.258487645417443
         ],
         "yaxis": "y"
        },
        {
         "hovertemplate": "Region=Japan<br>Decade=%{x}<br>Estimated Number=%{y}<extra></extra>",
         "legendgroup": "Japan",
         "line": {
          "color": "#ab63fa",
          "dash": "solid"
         },
         "marker": {
          "symbol": "circle"
         },
         "mode": "lines",
         "name": "Japan",
         "orientation": "v",
         "showlegend": true,
         "type": "scatter",
         "x": [
          0,
          300,
          600,
          650,
          700,
          750,
          800,
          850,
          900,
          950,
          1000,
          1050,
          1100,
          1150,
          1200,
          1250,
          1300,
          1350,
          1400,
          1450,
          1500,
          1550,
          1600,
          1650,
          1700,
          1750,
          1800
         ],
         "xaxis": "x",
         "y": [
          1.9558545705058636,
          1.2762954420008399,
          1.152733943276274,
          2.975972806136821,
          5.162725730117611,
          3.757122547734056,
          4.343009443706775,
          4.25514131786395,
          4.7536955764399,
          5.33764201578348,
          4.818864850456486,
          4.057497975098885,
          3.8103473486833397,
          4.131850929754352,
          5.075892396946923,
          4.695153082333693,
          5.0320763650989155,
          4.776634222678082,
          3.5754516954479767,
          4.2845709952822615,
          4.43378992068226,
          4.960676613864116,
          5.274687206612214,
          6.079670581234186,
          6.374046645347927,
          6.716174638928963,
          7.336695713676778
         ],
         "yaxis": "y"
        },
        {
         "hovertemplate": "Region=Latin World<br>Decade=%{x}<br>Estimated Number=%{y}<extra></extra>",
         "legendgroup": "Latin World",
         "line": {
          "color": "#FFA15A",
          "dash": "solid"
         },
         "marker": {
          "symbol": "circle"
         },
         "mode": "lines",
         "name": "Latin World",
         "orientation": "v",
         "showlegend": true,
         "type": "scatter",
         "x": [
          -300,
          -250,
          -200,
          -150,
          -100,
          -50,
          0,
          50,
          100,
          150,
          200,
          250,
          300,
          350,
          400,
          450,
          500,
          550,
          600,
          650,
          700,
          750,
          800,
          850,
          900,
          950,
          1000,
          1050,
          1100,
          1150,
          1200,
          1250,
          1300,
          1350,
          1400,
          1450,
          1500,
          1550,
          1600,
          1650,
          1700,
          1750,
          1800
         ],
         "xaxis": "x",
         "y": [
          0.9922835228478626,
          1.5569533019208837,
          3.519322588964945,
          3.9677435835731867,
          5.366224516819643,
          5.630303494793401,
          4.929620949655307,
          4.661364846431397,
          5.035872168271443,
          4.517963855412502,
          4.117313726344602,
          4.173886304517692,
          3.8827482978895786,
          3.619081613950422,
          3.9635986550559195,
          3.9589827551667045,
          3.2279448441697047,
          3.5213920054759815,
          4.348251144802334,
          4.125328869262444,
          2.2233680985610333,
          4.308523782974491,
          5.028474883852582,
          4.923069470925952,
          5.300024138715817,
          4.605283100942307,
          6.047502034773424,
          5.656149565639144,
          6.191435725157828,
          7.055347896402965,
          7.925200778100094,
          8.180374361624603,
          8.074472697028401,
          8.12818688287458,
          8.751624303654353,
          9.318206332813098,
          10.500822383989432,
          11.221422462854388,
          11.746828984737453,
          11.712251475799446,
          12.046238069028664,
          12.36253751320277,
          12.898714738933315
         ],
         "yaxis": "y"
        }
       ],
       "layout": {
        "height": 800,
        "legend": {
         "title": {
          "text": "Region"
         },
         "tracegroupgap": 0
        },
        "margin": {
         "t": 60
        },
        "template": {
         "data": {
          "bar": [
           {
            "error_x": {
             "color": "#2a3f5f"
            },
            "error_y": {
             "color": "#2a3f5f"
            },
            "marker": {
             "line": {
              "color": "white",
              "width": 0.5
             },
             "pattern": {
              "fillmode": "overlay",
              "size": 10,
              "solidity": 0.2
             }
            },
            "type": "bar"
           }
          ],
          "barpolar": [
           {
            "marker": {
             "line": {
              "color": "white",
              "width": 0.5
             },
             "pattern": {
              "fillmode": "overlay",
              "size": 10,
              "solidity": 0.2
             }
            },
            "type": "barpolar"
           }
          ],
          "carpet": [
           {
            "aaxis": {
             "endlinecolor": "#2a3f5f",
             "gridcolor": "#C8D4E3",
             "linecolor": "#C8D4E3",
             "minorgridcolor": "#C8D4E3",
             "startlinecolor": "#2a3f5f"
            },
            "baxis": {
             "endlinecolor": "#2a3f5f",
             "gridcolor": "#C8D4E3",
             "linecolor": "#C8D4E3",
             "minorgridcolor": "#C8D4E3",
             "startlinecolor": "#2a3f5f"
            },
            "type": "carpet"
           }
          ],
          "choropleth": [
           {
            "colorbar": {
             "outlinewidth": 0,
             "ticks": ""
            },
            "type": "choropleth"
           }
          ],
          "contour": [
           {
            "colorbar": {
             "outlinewidth": 0,
             "ticks": ""
            },
            "colorscale": [
             [
              0,
              "#0d0887"
             ],
             [
              0.1111111111111111,
              "#46039f"
             ],
             [
              0.2222222222222222,
              "#7201a8"
             ],
             [
              0.3333333333333333,
              "#9c179e"
             ],
             [
              0.4444444444444444,
              "#bd3786"
             ],
             [
              0.5555555555555556,
              "#d8576b"
             ],
             [
              0.6666666666666666,
              "#ed7953"
             ],
             [
              0.7777777777777778,
              "#fb9f3a"
             ],
             [
              0.8888888888888888,
              "#fdca26"
             ],
             [
              1,
              "#f0f921"
             ]
            ],
            "type": "contour"
           }
          ],
          "contourcarpet": [
           {
            "colorbar": {
             "outlinewidth": 0,
             "ticks": ""
            },
            "type": "contourcarpet"
           }
          ],
          "heatmap": [
           {
            "colorbar": {
             "outlinewidth": 0,
             "ticks": ""
            },
            "colorscale": [
             [
              0,
              "#0d0887"
             ],
             [
              0.1111111111111111,
              "#46039f"
             ],
             [
              0.2222222222222222,
              "#7201a8"
             ],
             [
              0.3333333333333333,
              "#9c179e"
             ],
             [
              0.4444444444444444,
              "#bd3786"
             ],
             [
              0.5555555555555556,
              "#d8576b"
             ],
             [
              0.6666666666666666,
              "#ed7953"
             ],
             [
              0.7777777777777778,
              "#fb9f3a"
             ],
             [
              0.8888888888888888,
              "#fdca26"
             ],
             [
              1,
              "#f0f921"
             ]
            ],
            "type": "heatmap"
           }
          ],
          "heatmapgl": [
           {
            "colorbar": {
             "outlinewidth": 0,
             "ticks": ""
            },
            "colorscale": [
             [
              0,
              "#0d0887"
             ],
             [
              0.1111111111111111,
              "#46039f"
             ],
             [
              0.2222222222222222,
              "#7201a8"
             ],
             [
              0.3333333333333333,
              "#9c179e"
             ],
             [
              0.4444444444444444,
              "#bd3786"
             ],
             [
              0.5555555555555556,
              "#d8576b"
             ],
             [
              0.6666666666666666,
              "#ed7953"
             ],
             [
              0.7777777777777778,
              "#fb9f3a"
             ],
             [
              0.8888888888888888,
              "#fdca26"
             ],
             [
              1,
              "#f0f921"
             ]
            ],
            "type": "heatmapgl"
           }
          ],
          "histogram": [
           {
            "marker": {
             "pattern": {
              "fillmode": "overlay",
              "size": 10,
              "solidity": 0.2
             }
            },
            "type": "histogram"
           }
          ],
          "histogram2d": [
           {
            "colorbar": {
             "outlinewidth": 0,
             "ticks": ""
            },
            "colorscale": [
             [
              0,
              "#0d0887"
             ],
             [
              0.1111111111111111,
              "#46039f"
             ],
             [
              0.2222222222222222,
              "#7201a8"
             ],
             [
              0.3333333333333333,
              "#9c179e"
             ],
             [
              0.4444444444444444,
              "#bd3786"
             ],
             [
              0.5555555555555556,
              "#d8576b"
             ],
             [
              0.6666666666666666,
              "#ed7953"
             ],
             [
              0.7777777777777778,
              "#fb9f3a"
             ],
             [
              0.8888888888888888,
              "#fdca26"
             ],
             [
              1,
              "#f0f921"
             ]
            ],
            "type": "histogram2d"
           }
          ],
          "histogram2dcontour": [
           {
            "colorbar": {
             "outlinewidth": 0,
             "ticks": ""
            },
            "colorscale": [
             [
              0,
              "#0d0887"
             ],
             [
              0.1111111111111111,
              "#46039f"
             ],
             [
              0.2222222222222222,
              "#7201a8"
             ],
             [
              0.3333333333333333,
              "#9c179e"
             ],
             [
              0.4444444444444444,
              "#bd3786"
             ],
             [
              0.5555555555555556,
              "#d8576b"
             ],
             [
              0.6666666666666666,
              "#ed7953"
             ],
             [
              0.7777777777777778,
              "#fb9f3a"
             ],
             [
              0.8888888888888888,
              "#fdca26"
             ],
             [
              1,
              "#f0f921"
             ]
            ],
            "type": "histogram2dcontour"
           }
          ],
          "mesh3d": [
           {
            "colorbar": {
             "outlinewidth": 0,
             "ticks": ""
            },
            "type": "mesh3d"
           }
          ],
          "parcoords": [
           {
            "line": {
             "colorbar": {
              "outlinewidth": 0,
              "ticks": ""
             }
            },
            "type": "parcoords"
           }
          ],
          "pie": [
           {
            "automargin": true,
            "type": "pie"
           }
          ],
          "scatter": [
           {
            "marker": {
             "colorbar": {
              "outlinewidth": 0,
              "ticks": ""
             }
            },
            "type": "scatter"
           }
          ],
          "scatter3d": [
           {
            "line": {
             "colorbar": {
              "outlinewidth": 0,
              "ticks": ""
             }
            },
            "marker": {
             "colorbar": {
              "outlinewidth": 0,
              "ticks": ""
             }
            },
            "type": "scatter3d"
           }
          ],
          "scattercarpet": [
           {
            "marker": {
             "colorbar": {
              "outlinewidth": 0,
              "ticks": ""
             }
            },
            "type": "scattercarpet"
           }
          ],
          "scattergeo": [
           {
            "marker": {
             "colorbar": {
              "outlinewidth": 0,
              "ticks": ""
             }
            },
            "type": "scattergeo"
           }
          ],
          "scattergl": [
           {
            "marker": {
             "colorbar": {
              "outlinewidth": 0,
              "ticks": ""
             }
            },
            "type": "scattergl"
           }
          ],
          "scattermapbox": [
           {
            "marker": {
             "colorbar": {
              "outlinewidth": 0,
              "ticks": ""
             }
            },
            "type": "scattermapbox"
           }
          ],
          "scatterpolar": [
           {
            "marker": {
             "colorbar": {
              "outlinewidth": 0,
              "ticks": ""
             }
            },
            "type": "scatterpolar"
           }
          ],
          "scatterpolargl": [
           {
            "marker": {
             "colorbar": {
              "outlinewidth": 0,
              "ticks": ""
             }
            },
            "type": "scatterpolargl"
           }
          ],
          "scatterternary": [
           {
            "marker": {
             "colorbar": {
              "outlinewidth": 0,
              "ticks": ""
             }
            },
            "type": "scatterternary"
           }
          ],
          "surface": [
           {
            "colorbar": {
             "outlinewidth": 0,
             "ticks": ""
            },
            "colorscale": [
             [
              0,
              "#0d0887"
             ],
             [
              0.1111111111111111,
              "#46039f"
             ],
             [
              0.2222222222222222,
              "#7201a8"
             ],
             [
              0.3333333333333333,
              "#9c179e"
             ],
             [
              0.4444444444444444,
              "#bd3786"
             ],
             [
              0.5555555555555556,
              "#d8576b"
             ],
             [
              0.6666666666666666,
              "#ed7953"
             ],
             [
              0.7777777777777778,
              "#fb9f3a"
             ],
             [
              0.8888888888888888,
              "#fdca26"
             ],
             [
              1,
              "#f0f921"
             ]
            ],
            "type": "surface"
           }
          ],
          "table": [
           {
            "cells": {
             "fill": {
              "color": "#EBF0F8"
             },
             "line": {
              "color": "white"
             }
            },
            "header": {
             "fill": {
              "color": "#C8D4E3"
             },
             "line": {
              "color": "white"
             }
            },
            "type": "table"
           }
          ]
         },
         "layout": {
          "annotationdefaults": {
           "arrowcolor": "#2a3f5f",
           "arrowhead": 0,
           "arrowwidth": 1
          },
          "autotypenumbers": "strict",
          "coloraxis": {
           "colorbar": {
            "outlinewidth": 0,
            "ticks": ""
           }
          },
          "colorscale": {
           "diverging": [
            [
             0,
             "#8e0152"
            ],
            [
             0.1,
             "#c51b7d"
            ],
            [
             0.2,
             "#de77ae"
            ],
            [
             0.3,
             "#f1b6da"
            ],
            [
             0.4,
             "#fde0ef"
            ],
            [
             0.5,
             "#f7f7f7"
            ],
            [
             0.6,
             "#e6f5d0"
            ],
            [
             0.7,
             "#b8e186"
            ],
            [
             0.8,
             "#7fbc41"
            ],
            [
             0.9,
             "#4d9221"
            ],
            [
             1,
             "#276419"
            ]
           ],
           "sequential": [
            [
             0,
             "#0d0887"
            ],
            [
             0.1111111111111111,
             "#46039f"
            ],
            [
             0.2222222222222222,
             "#7201a8"
            ],
            [
             0.3333333333333333,
             "#9c179e"
            ],
            [
             0.4444444444444444,
             "#bd3786"
            ],
            [
             0.5555555555555556,
             "#d8576b"
            ],
            [
             0.6666666666666666,
             "#ed7953"
            ],
            [
             0.7777777777777778,
             "#fb9f3a"
            ],
            [
             0.8888888888888888,
             "#fdca26"
            ],
            [
             1,
             "#f0f921"
            ]
           ],
           "sequentialminus": [
            [
             0,
             "#0d0887"
            ],
            [
             0.1111111111111111,
             "#46039f"
            ],
            [
             0.2222222222222222,
             "#7201a8"
            ],
            [
             0.3333333333333333,
             "#9c179e"
            ],
            [
             0.4444444444444444,
             "#bd3786"
            ],
            [
             0.5555555555555556,
             "#d8576b"
            ],
            [
             0.6666666666666666,
             "#ed7953"
            ],
            [
             0.7777777777777778,
             "#fb9f3a"
            ],
            [
             0.8888888888888888,
             "#fdca26"
            ],
            [
             1,
             "#f0f921"
            ]
           ]
          },
          "colorway": [
           "#636efa",
           "#EF553B",
           "#00cc96",
           "#ab63fa",
           "#FFA15A",
           "#19d3f3",
           "#FF6692",
           "#B6E880",
           "#FF97FF",
           "#FECB52"
          ],
          "font": {
           "color": "#2a3f5f"
          },
          "geo": {
           "bgcolor": "white",
           "lakecolor": "white",
           "landcolor": "white",
           "showlakes": true,
           "showland": true,
           "subunitcolor": "#C8D4E3"
          },
          "hoverlabel": {
           "align": "left"
          },
          "hovermode": "closest",
          "mapbox": {
           "style": "light"
          },
          "paper_bgcolor": "white",
          "plot_bgcolor": "white",
          "polar": {
           "angularaxis": {
            "gridcolor": "#EBF0F8",
            "linecolor": "#EBF0F8",
            "ticks": ""
           },
           "bgcolor": "white",
           "radialaxis": {
            "gridcolor": "#EBF0F8",
            "linecolor": "#EBF0F8",
            "ticks": ""
           }
          },
          "scene": {
           "xaxis": {
            "backgroundcolor": "white",
            "gridcolor": "#DFE8F3",
            "gridwidth": 2,
            "linecolor": "#EBF0F8",
            "showbackground": true,
            "ticks": "",
            "zerolinecolor": "#EBF0F8"
           },
           "yaxis": {
            "backgroundcolor": "white",
            "gridcolor": "#DFE8F3",
            "gridwidth": 2,
            "linecolor": "#EBF0F8",
            "showbackground": true,
            "ticks": "",
            "zerolinecolor": "#EBF0F8"
           },
           "zaxis": {
            "backgroundcolor": "white",
            "gridcolor": "#DFE8F3",
            "gridwidth": 2,
            "linecolor": "#EBF0F8",
            "showbackground": true,
            "ticks": "",
            "zerolinecolor": "#EBF0F8"
           }
          },
          "shapedefaults": {
           "line": {
            "color": "#2a3f5f"
           }
          },
          "ternary": {
           "aaxis": {
            "gridcolor": "#DFE8F3",
            "linecolor": "#A2B1C6",
            "ticks": ""
           },
           "baxis": {
            "gridcolor": "#DFE8F3",
            "linecolor": "#A2B1C6",
            "ticks": ""
           },
           "bgcolor": "white",
           "caxis": {
            "gridcolor": "#DFE8F3",
            "linecolor": "#A2B1C6",
            "ticks": ""
           }
          },
          "title": {
           "x": 0.05
          },
          "xaxis": {
           "automargin": true,
           "gridcolor": "#EBF0F8",
           "linecolor": "#EBF0F8",
           "ticks": "",
           "title": {
            "standoff": 15
           },
           "zerolinecolor": "#EBF0F8",
           "zerolinewidth": 2
          },
          "yaxis": {
           "automargin": true,
           "gridcolor": "#EBF0F8",
           "linecolor": "#EBF0F8",
           "ticks": "",
           "title": {
            "standoff": 15
           },
           "zerolinecolor": "#EBF0F8",
           "zerolinewidth": 2
          }
         }
        },
        "xaxis": {
         "anchor": "y",
         "domain": [
          0,
          1
         ],
         "title": {
          "text": ""
         }
        },
        "yaxis": {
         "anchor": "x",
         "domain": [
          0,
          1
         ],
         "title": {
          "text": "Log N_est"
         }
        }
       }
      }
     },
     "metadata": {},
     "output_type": "display_data"
    }
   ],
   "source": [
    "#df = df_cultura[df_cultura['region_name'].isin(['Chinese world', 'Italy', 'France', 'German world', 'United Kingdom'])]\n",
    "\n",
    "# Assuming df_cultura is already defined and contains the necessary columns\n",
    "# df = df_cultura[df_cultura['region_name'].isin(['Italy', 'France','United Kingdom'])]\n",
    "df = df_cultura[df_cultura['region_name'].isin(['Chinese world', 'Latin World', 'Muslim World', 'Greek World', 'Japan', 'Indian world'])]\n",
    "df['N_est'] = np.log(df['N_est'])\n",
    "\n",
    "#df = df[df['decade']>=600]\n",
    "df = df[df['decade']<=1800]\n",
    "\n",
    "# Creating a line plot using Plotly Express\n",
    "fig = px.line(df, x='decade', y='N_est', color='region_name', \n",
    "              title='',\n",
    "              labels={'N_est': 'Estimated Number', 'decade': 'Decade', 'region_name': 'Region'})\n",
    "\n",
    "# Enhancing the plot with additional settings\n",
    "fig.update_layout(\n",
    "    xaxis_title='',\n",
    "    yaxis_title='Log N_est',\n",
    "    legend_title='Region',\n",
    "    template='plotly_white',\n",
    "    height=800\n",
    ")\n",
    "\n",
    "# Show the plot\n",
    "fig.show()"
   ]
  },
  {
   "cell_type": "code",
   "execution_count": null,
   "metadata": {},
   "outputs": [
    {
     "name": "stderr",
     "output_type": "stream",
     "text": [
      "/var/folders/lx/9b13r6ln63jb54_3xlf9b_380000gn/T/ipykernel_13756/2281911089.py:9: FutureWarning:\n",
      "\n",
      "ChainedAssignmentError: behaviour will change in pandas 3.0!\n",
      "You are setting values through chained assignment. Currently this works in certain cases, but when using Copy-on-Write (which will become the default behaviour in pandas 3.0) this will never work to update the original DataFrame or Series, because the intermediate object on which we are setting values will behave as a copy.\n",
      "A typical example is when you are setting values in a column of a DataFrame, like:\n",
      "\n",
      "df[\"col\"][row_indexer] = value\n",
      "\n",
      "Use `df.loc[row_indexer, \"col\"] = values` instead, to perform the assignment in a single step and ensure this keeps updating the original `df`.\n",
      "\n",
      "See the caveats in the documentation: https://pandas.pydata.org/pandas-docs/stable/user_guide/indexing.html#returning-a-view-versus-a-copy\n",
      "\n",
      "\n",
      "/var/folders/lx/9b13r6ln63jb54_3xlf9b_380000gn/T/ipykernel_13756/2281911089.py:10: FutureWarning:\n",
      "\n",
      "ChainedAssignmentError: behaviour will change in pandas 3.0!\n",
      "You are setting values through chained assignment. Currently this works in certain cases, but when using Copy-on-Write (which will become the default behaviour in pandas 3.0) this will never work to update the original DataFrame or Series, because the intermediate object on which we are setting values will behave as a copy.\n",
      "A typical example is when you are setting values in a column of a DataFrame, like:\n",
      "\n",
      "df[\"col\"][row_indexer] = value\n",
      "\n",
      "Use `df.loc[row_indexer, \"col\"] = values` instead, to perform the assignment in a single step and ensure this keeps updating the original `df`.\n",
      "\n",
      "See the caveats in the documentation: https://pandas.pydata.org/pandas-docs/stable/user_guide/indexing.html#returning-a-view-versus-a-copy\n",
      "\n",
      "\n",
      "/var/folders/lx/9b13r6ln63jb54_3xlf9b_380000gn/T/ipykernel_13756/2281911089.py:10: SettingWithCopyWarning:\n",
      "\n",
      "\n",
      "A value is trying to be set on a copy of a slice from a DataFrame\n",
      "\n",
      "See the caveats in the documentation: https://pandas.pydata.org/pandas-docs/stable/user_guide/indexing.html#returning-a-view-versus-a-copy\n",
      "\n",
      "/var/folders/lx/9b13r6ln63jb54_3xlf9b_380000gn/T/ipykernel_13756/2281911089.py:11: FutureWarning:\n",
      "\n",
      "ChainedAssignmentError: behaviour will change in pandas 3.0!\n",
      "You are setting values through chained assignment. Currently this works in certain cases, but when using Copy-on-Write (which will become the default behaviour in pandas 3.0) this will never work to update the original DataFrame or Series, because the intermediate object on which we are setting values will behave as a copy.\n",
      "A typical example is when you are setting values in a column of a DataFrame, like:\n",
      "\n",
      "df[\"col\"][row_indexer] = value\n",
      "\n",
      "Use `df.loc[row_indexer, \"col\"] = values` instead, to perform the assignment in a single step and ensure this keeps updating the original `df`.\n",
      "\n",
      "See the caveats in the documentation: https://pandas.pydata.org/pandas-docs/stable/user_guide/indexing.html#returning-a-view-versus-a-copy\n",
      "\n",
      "\n",
      "/var/folders/lx/9b13r6ln63jb54_3xlf9b_380000gn/T/ipykernel_13756/2281911089.py:11: SettingWithCopyWarning:\n",
      "\n",
      "\n",
      "A value is trying to be set on a copy of a slice from a DataFrame\n",
      "\n",
      "See the caveats in the documentation: https://pandas.pydata.org/pandas-docs/stable/user_guide/indexing.html#returning-a-view-versus-a-copy\n",
      "\n",
      "/var/folders/lx/9b13r6ln63jb54_3xlf9b_380000gn/T/ipykernel_13756/2281911089.py:12: FutureWarning:\n",
      "\n",
      "ChainedAssignmentError: behaviour will change in pandas 3.0!\n",
      "You are setting values through chained assignment. Currently this works in certain cases, but when using Copy-on-Write (which will become the default behaviour in pandas 3.0) this will never work to update the original DataFrame or Series, because the intermediate object on which we are setting values will behave as a copy.\n",
      "A typical example is when you are setting values in a column of a DataFrame, like:\n",
      "\n",
      "df[\"col\"][row_indexer] = value\n",
      "\n",
      "Use `df.loc[row_indexer, \"col\"] = values` instead, to perform the assignment in a single step and ensure this keeps updating the original `df`.\n",
      "\n",
      "See the caveats in the documentation: https://pandas.pydata.org/pandas-docs/stable/user_guide/indexing.html#returning-a-view-versus-a-copy\n",
      "\n",
      "\n",
      "/var/folders/lx/9b13r6ln63jb54_3xlf9b_380000gn/T/ipykernel_13756/2281911089.py:12: SettingWithCopyWarning:\n",
      "\n",
      "\n",
      "A value is trying to be set on a copy of a slice from a DataFrame\n",
      "\n",
      "See the caveats in the documentation: https://pandas.pydata.org/pandas-docs/stable/user_guide/indexing.html#returning-a-view-versus-a-copy\n",
      "\n",
      "/var/folders/lx/9b13r6ln63jb54_3xlf9b_380000gn/T/ipykernel_13756/2281911089.py:13: FutureWarning:\n",
      "\n",
      "ChainedAssignmentError: behaviour will change in pandas 3.0!\n",
      "You are setting values through chained assignment. Currently this works in certain cases, but when using Copy-on-Write (which will become the default behaviour in pandas 3.0) this will never work to update the original DataFrame or Series, because the intermediate object on which we are setting values will behave as a copy.\n",
      "A typical example is when you are setting values in a column of a DataFrame, like:\n",
      "\n",
      "df[\"col\"][row_indexer] = value\n",
      "\n",
      "Use `df.loc[row_indexer, \"col\"] = values` instead, to perform the assignment in a single step and ensure this keeps updating the original `df`.\n",
      "\n",
      "See the caveats in the documentation: https://pandas.pydata.org/pandas-docs/stable/user_guide/indexing.html#returning-a-view-versus-a-copy\n",
      "\n",
      "\n",
      "/var/folders/lx/9b13r6ln63jb54_3xlf9b_380000gn/T/ipykernel_13756/2281911089.py:13: SettingWithCopyWarning:\n",
      "\n",
      "\n",
      "A value is trying to be set on a copy of a slice from a DataFrame\n",
      "\n",
      "See the caveats in the documentation: https://pandas.pydata.org/pandas-docs/stable/user_guide/indexing.html#returning-a-view-versus-a-copy\n",
      "\n"
     ]
    }
   ],
   "source": [
    "import matplotlib.pyplot as plt\n",
    "from statsmodels.nonparametric.smoothers_lowess import lowess\n",
    "\n",
    "df = df_cultura.copy()\n",
    "df = df_cultura[df_cultura['region_name'].isin(['Chinese world', 'Latin World', 'MENA', 'Greek World', 'Japan', 'Indian world', 'East Slavic'])]\n",
    "df = df[~((df['region_name'] == 'Japan') & (df['decade'] < 600))]\n",
    "\n",
    "\n",
    "df['region_name'][df['region_name']=='MENA'] = 'West Asia and North Africa'\n",
    "df['region_name'][df['region_name']=='Latin world'] = 'Western Europe'\n",
    "df['region_name'][df['region_name']=='East Slavic'] = 'East Slavic World'\n",
    "df['region_name'][df['region_name']=='Indian world'] = 'Indian World'\n",
    "df['region_name'][df['region_name']=='Chinese world'] = 'Chinese World'"
   ]
  },
  {
   "cell_type": "code",
   "execution_count": null,
   "metadata": {},
   "outputs": [
    {
     "name": "stderr",
     "output_type": "stream",
     "text": [
      "/var/folders/lx/9b13r6ln63jb54_3xlf9b_380000gn/T/ipykernel_13756/1229936418.py:23: SettingWithCopyWarning:\n",
      "\n",
      "\n",
      "A value is trying to be set on a copy of a slice from a DataFrame\n",
      "\n",
      "See the caveats in the documentation: https://pandas.pydata.org/pandas-docs/stable/user_guide/indexing.html#returning-a-view-versus-a-copy\n",
      "\n"
     ]
    },
    {
     "data": {
      "image/png": "[encoded data removed]",
      "text/plain": [
       "<Figure size 864x648 with 1 Axes>"
      ]
     },
     "metadata": {
      "needs_background": "light"
     },
     "output_type": "display_data"
    }
   ],
   "source": [
    "\n",
    "\n",
    "# Filtering logic\n",
    "df['N_est'] = np.log(df['N_est'])  # Applying log transformation\n",
    "df['N_est_min'] = np.log(df['N_est_min'])  # Min bound log\n",
    "df['N_est_max'] = np.log(df['N_est_max'])  # Max bound log\n",
    "\n",
    "\n",
    "# # Define your color scheme\n",
    "# colors = {\n",
    "#     \"Western Europe\": \"#00008b\",\n",
    "# }\n",
    "\n",
    "fig, ax = plt.subplots(figsize=(12, 9))\n",
    "\n",
    "# List for storing text annotations for later adjustment\n",
    "texts = []\n",
    "\n",
    "# Calculate the maximum smoothed value for normalization\n",
    "max_n_est = float('-inf')\n",
    "\n",
    "# Adding smoothing and plotting for each region\n",
    "for region in df['region_name'].unique():\n",
    "    region_data = df[df['region_name'] == region]\n",
    "    region_data.sort_values(by='decade', inplace=True)\n",
    "\n",
    "\n",
    "    n = 0.1\n",
    "\n",
    "    # LOESS smoothing\n",
    "    smoothed = lowess(region_data['N_est'], region_data['decade'], frac=n)\n",
    "    smoothed_min = lowess(region_data['N_est_min'], region_data['decade'], frac=n)\n",
    "    smoothed_max = lowess(region_data['N_est_max'], region_data['decade'], frac=n)\n",
    "\n",
    "    # Update maximum n_est if current is higher\n",
    "    max_n_est = max(max_n_est, max(smoothed[:, 1]))\n",
    "\n",
    "    # Plotting the smoothed mean estimate\n",
    "    ax.plot(smoothed[:, 0], smoothed[:, 1], label=region)\n",
    "\n",
    "    # Plotting the confidence interval as a fill between\n",
    "    ax.fill_between(smoothed[:, 0], smoothed_min[:, 1], smoothed_max[:, 1], alpha=0.3)\n",
    "\n",
    "\n",
    "# Set the size of x-axis and y-axis tick labels\n",
    "ax.tick_params(axis='x', labelsize=14)  # Increase x-axis tick label size\n",
    "ax.tick_params(axis='y', labelsize=14)  # Increase y-axis tick label size\n",
    "\n",
    "ax.set_xticks(np.arange(-800, 1801, 200))  # Set x-ticks every 200 years\n",
    "# Rotating x-ticks by 45 degrees for better readability\n",
    "ax.tick_params(axis='x', rotation=45)\n",
    "ax.set_xlabel('')\n",
    "ax.set_ylabel('Corrected CPI (Log Scale)', fontsize = 16)\n",
    "ax.set_title('The Great Divergences', fontsize = 16)\n",
    "ax.legend()\n",
    "plt.show()\n",
    "\n"
   ]
  },
  {
   "cell_type": "code",
   "execution_count": null,
   "metadata": {},
   "outputs": [
    {
     "data": {
      "text/plain": [
       "['Southern China',\n",
       " 'Southwestern Europe',\n",
       " 'MENA',\n",
       " 'Chinese world',\n",
       " 'Indian world',\n",
       " 'France',\n",
       " 'Greek World',\n",
       " 'world',\n",
       " 'Italy',\n",
       " 'Persian world',\n",
       " 'Portugal',\n",
       " 'Korea',\n",
       " 'Latin World',\n",
       " 'Nordic countries',\n",
       " 'Greek Latin',\n",
       " 'German world',\n",
       " 'Arabic world',\n",
       " 'Northwestern Europe',\n",
       " 'Central Europe',\n",
       " 'Japan',\n",
       " 'East Slavic',\n",
       " 'United Kingdom',\n",
       " 'Low countries',\n",
       " 'Spain',\n",
       " 'Northern China']"
      ]
     },
     "execution_count": 45,
     "metadata": {},
     "output_type": "execute_result"
    }
   ],
   "source": [
    "list(set(df_cultura['region_name']))"
   ]
  },
  {
   "cell_type": "code",
   "execution_count": null,
   "metadata": {},
   "outputs": [],
   "source": []
  }
 ],
 "metadata": {
  "kernelspec": {
   "display_name": ".venv",
   "language": "python",
   "name": "python3"
  },
  "language_info": {
   "codemirror_mode": {
    "name": "ipython",
    "version": 3
   },
   "file_extension": ".py",
   "mimetype": "text/x-python",
   "name": "python",
   "nbconvert_exporter": "python",
   "pygments_lexer": "ipython3",
   "version": "3.11.7"
  }
 },
 "nbformat": 4,
 "nbformat_minor": 2
}
