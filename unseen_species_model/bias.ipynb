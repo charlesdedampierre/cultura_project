{
 "cells": [
  {
   "cell_type": "code",
   "execution_count": 1,
   "id": "a42a3bd9",
   "metadata": {},
   "outputs": [],
   "source": [
    "import pandas as pd\n",
    "import numpy as np\n",
    "import matplotlib.pyplot as plt\n",
    "\n",
    "import copia\n",
    "from tqdm import tqdm\n",
    "import bambi as bmb\n",
    "import arviz as az"
   ]
  },
  {
   "cell_type": "code",
   "execution_count": 2,
   "id": "5f44fec1",
   "metadata": {},
   "outputs": [
    {
     "data": {
      "text/html": [
       "<div>\n",
       "<style scoped>\n",
       "    .dataframe tbody tr th:only-of-type {\n",
       "        vertical-align: middle;\n",
       "    }\n",
       "\n",
       "    .dataframe tbody tr th {\n",
       "        vertical-align: top;\n",
       "    }\n",
       "\n",
       "    .dataframe thead th {\n",
       "        text-align: right;\n",
       "    }\n",
       "</style>\n",
       "<table border=\"1\" class=\"dataframe\">\n",
       "  <thead>\n",
       "    <tr style=\"text-align: right;\">\n",
       "      <th></th>\n",
       "      <th>Unnamed: 0</th>\n",
       "      <th>individual_wikidata_id</th>\n",
       "      <th>birthyear</th>\n",
       "      <th>region_name</th>\n",
       "      <th>count_works</th>\n",
       "    </tr>\n",
       "  </thead>\n",
       "  <tbody>\n",
       "    <tr>\n",
       "      <th>88502</th>\n",
       "      <td>88502</td>\n",
       "      <td>Q3903068</td>\n",
       "      <td>1445.0</td>\n",
       "      <td>Southwestern Europe</td>\n",
       "      <td>5.0</td>\n",
       "    </tr>\n",
       "    <tr>\n",
       "      <th>141269</th>\n",
       "      <td>141269</td>\n",
       "      <td>Q111205773</td>\n",
       "      <td>1846.0</td>\n",
       "      <td>Italy</td>\n",
       "      <td>0.0</td>\n",
       "    </tr>\n",
       "    <tr>\n",
       "      <th>136390</th>\n",
       "      <td>136390</td>\n",
       "      <td>Q93493282</td>\n",
       "      <td>1754.0</td>\n",
       "      <td>Southern France</td>\n",
       "      <td>2.0</td>\n",
       "    </tr>\n",
       "    <tr>\n",
       "      <th>301851</th>\n",
       "      <td>301851</td>\n",
       "      <td>Q3557072</td>\n",
       "      <td>1832.0</td>\n",
       "      <td>Northwestern Europe</td>\n",
       "      <td>0.0</td>\n",
       "    </tr>\n",
       "    <tr>\n",
       "      <th>405227</th>\n",
       "      <td>405227</td>\n",
       "      <td>Q66305949</td>\n",
       "      <td>1842.0</td>\n",
       "      <td>Low countries</td>\n",
       "      <td>0.0</td>\n",
       "    </tr>\n",
       "  </tbody>\n",
       "</table>\n",
       "</div>"
      ],
      "text/plain": [
       "        Unnamed: 0 individual_wikidata_id  birthyear          region_name  \\\n",
       "88502        88502               Q3903068     1445.0  Southwestern Europe   \n",
       "141269      141269             Q111205773     1846.0                Italy   \n",
       "136390      136390              Q93493282     1754.0      Southern France   \n",
       "301851      301851               Q3557072     1832.0  Northwestern Europe   \n",
       "405227      405227              Q66305949     1842.0        Low countries   \n",
       "\n",
       "        count_works  \n",
       "88502           5.0  \n",
       "141269          0.0  \n",
       "136390          2.0  \n",
       "301851          0.0  \n",
       "405227          0.0  "
      ]
     },
     "execution_count": 2,
     "metadata": {},
     "output_type": "execute_result"
    }
   ],
   "source": [
    "df = pd.read_csv('number_of_works_individuals.csv')\n",
    "df.sample(5)"
   ]
  },
  {
   "cell_type": "code",
   "execution_count": 3,
   "id": "581f7f86",
   "metadata": {},
   "outputs": [
    {
     "data": {
      "text/plain": [
       "Western Europe         132680\n",
       "Northwestern Europe    105738\n",
       "German world            40629\n",
       "Germany                 31895\n",
       "France                  24577\n",
       "Eastern Europe          22102\n",
       "Southwestern Europe     19338\n",
       "British Islands         18580\n",
       "Italy                   18051\n",
       "United Kingdom          17521\n",
       "Northern France         15436\n",
       "Central Europe          13297\n",
       "Northern Italy          12993\n",
       "Low countries           12204\n",
       "Nordic countries         9668\n",
       "Spain                    7719\n",
       "Netherlands              7691\n",
       "Southern France          5029\n",
       "Slav world               4892\n",
       "Austria                  4647\n",
       "Sweden                   4607\n",
       "Belgium                  4516\n",
       "Southern Italy           4164\n",
       "Switzerland              4089\n",
       "Denmark                  2762\n",
       "Ottoman world            2723\n",
       "mediterranean World      2209\n",
       "Muslim world             2169\n",
       "Chinese world            2130\n",
       "Balkans                  2040\n",
       "Greek World              1935\n",
       "Japan                    1763\n",
       "Arabic world             1448\n",
       "Norway                   1289\n",
       "Portugal                 1166\n",
       "Ireland                  1136\n",
       "Finland                   837\n",
       "Persian world             735\n",
       "Greece                    684\n",
       "Southern China            598\n",
       "Indian world              586\n",
       "Southern Japan            460\n",
       "Ottoman Turkey            424\n",
       "Latin World               423\n",
       "Yangtze                   397\n",
       "Northern India            327\n",
       "Northern Japan            294\n",
       "Northern China            275\n",
       "Korea                     223\n",
       "Arabian peninsula         186\n",
       "South East Asia           175\n",
       "Iceland                   173\n",
       "Southern India            146\n",
       "Name: region_name, dtype: int64"
      ]
     },
     "execution_count": 3,
     "metadata": {},
     "output_type": "execute_result"
    }
   ],
   "source": [
    "df['region_name'].value_counts()"
   ]
  },
  {
   "cell_type": "code",
   "execution_count": 4,
   "id": "0da4c4fc",
   "metadata": {},
   "outputs": [],
   "source": [
    "df['count_works'] = [i if i > 0 else 1 for i in df['count_works']]"
   ]
  },
  {
   "cell_type": "markdown",
   "id": "5dce4bde",
   "metadata": {},
   "source": [
    "Lots of writers with 0 works: ignore them? Or one-smoothing?"
   ]
  },
  {
   "cell_type": "code",
   "execution_count": 5,
   "id": "a1f3062e",
   "metadata": {},
   "outputs": [
    {
     "name": "stdout",
     "output_type": "stream",
     "text": [
      "571776\n",
      "571776\n"
     ]
    },
    {
     "data": {
      "text/html": [
       "<div>\n",
       "<style scoped>\n",
       "    .dataframe tbody tr th:only-of-type {\n",
       "        vertical-align: middle;\n",
       "    }\n",
       "\n",
       "    .dataframe tbody tr th {\n",
       "        vertical-align: top;\n",
       "    }\n",
       "\n",
       "    .dataframe thead th {\n",
       "        text-align: right;\n",
       "    }\n",
       "</style>\n",
       "<table border=\"1\" class=\"dataframe\">\n",
       "  <thead>\n",
       "    <tr style=\"text-align: right;\">\n",
       "      <th></th>\n",
       "      <th>Unnamed: 0</th>\n",
       "      <th>individual_wikidata_id</th>\n",
       "      <th>birthyear</th>\n",
       "      <th>region_name</th>\n",
       "      <th>count_works</th>\n",
       "    </tr>\n",
       "  </thead>\n",
       "  <tbody>\n",
       "    <tr>\n",
       "      <th>433306</th>\n",
       "      <td>433306</td>\n",
       "      <td>Q112262748</td>\n",
       "      <td>1743.0</td>\n",
       "      <td>German world</td>\n",
       "      <td>1.0</td>\n",
       "    </tr>\n",
       "    <tr>\n",
       "      <th>513527</th>\n",
       "      <td>513527</td>\n",
       "      <td>Q1565839</td>\n",
       "      <td>1828.0</td>\n",
       "      <td>Western Europe</td>\n",
       "      <td>1.0</td>\n",
       "    </tr>\n",
       "    <tr>\n",
       "      <th>69500</th>\n",
       "      <td>69500</td>\n",
       "      <td>Q3094924</td>\n",
       "      <td>1846.0</td>\n",
       "      <td>Northern France</td>\n",
       "      <td>2.0</td>\n",
       "    </tr>\n",
       "    <tr>\n",
       "      <th>290004</th>\n",
       "      <td>290004</td>\n",
       "      <td>Q968197</td>\n",
       "      <td>1849.0</td>\n",
       "      <td>German world</td>\n",
       "      <td>1.0</td>\n",
       "    </tr>\n",
       "    <tr>\n",
       "      <th>179334</th>\n",
       "      <td>179334</td>\n",
       "      <td>Q29168216</td>\n",
       "      <td>1782.0</td>\n",
       "      <td>Northwestern Europe</td>\n",
       "      <td>1.0</td>\n",
       "    </tr>\n",
       "  </tbody>\n",
       "</table>\n",
       "</div>"
      ],
      "text/plain": [
       "        Unnamed: 0 individual_wikidata_id  birthyear          region_name  \\\n",
       "433306      433306             Q112262748     1743.0         German world   \n",
       "513527      513527               Q1565839     1828.0       Western Europe   \n",
       "69500        69500               Q3094924     1846.0      Northern France   \n",
       "290004      290004                Q968197     1849.0         German world   \n",
       "179334      179334              Q29168216     1782.0  Northwestern Europe   \n",
       "\n",
       "        count_works  \n",
       "433306          1.0  \n",
       "513527          1.0  \n",
       "69500           2.0  \n",
       "290004          1.0  \n",
       "179334          1.0  "
      ]
     },
     "execution_count": 5,
     "metadata": {},
     "output_type": "execute_result"
    }
   ],
   "source": [
    "print(len(df))\n",
    "df = df[df['count_works'] > 0]\n",
    "print(len(df))\n",
    "df.sample(5)"
   ]
  },
  {
   "cell_type": "code",
   "execution_count": 6,
   "id": "2bd48329",
   "metadata": {},
   "outputs": [
    {
     "name": "stdout",
     "output_type": "stream",
     "text": [
      "count    571776.000000\n",
      "mean       1713.800866\n",
      "std         250.810199\n",
      "min        -850.000000\n",
      "25%        1687.000000\n",
      "50%        1789.000000\n",
      "75%        1825.000000\n",
      "max        1850.000000\n",
      "Name: birthyear, dtype: float64\n"
     ]
    },
    {
     "data": {
      "image/png": "[encoded data removed]",
      "text/plain": [
       "<Figure size 640x480 with 1 Axes>"
      ]
     },
     "metadata": {},
     "output_type": "display_data"
    }
   ],
   "source": [
    "print(df['birthyear'].describe())\n",
    "df['birthyear'].plot.kde()\n",
    "plt.xlim(df['birthyear'].min(), df['birthyear'].max());"
   ]
  },
  {
   "cell_type": "code",
   "execution_count": 7,
   "id": "0d3aad8f",
   "metadata": {},
   "outputs": [
    {
     "data": {
      "text/html": [
       "<div>\n",
       "<style scoped>\n",
       "    .dataframe tbody tr th:only-of-type {\n",
       "        vertical-align: middle;\n",
       "    }\n",
       "\n",
       "    .dataframe tbody tr th {\n",
       "        vertical-align: top;\n",
       "    }\n",
       "\n",
       "    .dataframe thead th {\n",
       "        text-align: right;\n",
       "    }\n",
       "</style>\n",
       "<table border=\"1\" class=\"dataframe\">\n",
       "  <thead>\n",
       "    <tr style=\"text-align: right;\">\n",
       "      <th></th>\n",
       "      <th>year</th>\n",
       "      <th>S</th>\n",
       "      <th>N</th>\n",
       "      <th>chao1</th>\n",
       "    </tr>\n",
       "  </thead>\n",
       "  <tbody>\n",
       "    <tr>\n",
       "      <th>1798</th>\n",
       "      <td>998</td>\n",
       "      <td>1026</td>\n",
       "      <td>42367.0</td>\n",
       "      <td>6195.039008</td>\n",
       "    </tr>\n",
       "    <tr>\n",
       "      <th>1438</th>\n",
       "      <td>638</td>\n",
       "      <td>400</td>\n",
       "      <td>25789.0</td>\n",
       "      <td>2136.043791</td>\n",
       "    </tr>\n",
       "    <tr>\n",
       "      <th>2383</th>\n",
       "      <td>1583</td>\n",
       "      <td>54688</td>\n",
       "      <td>429110.0</td>\n",
       "      <td>483933.357710</td>\n",
       "    </tr>\n",
       "    <tr>\n",
       "      <th>1593</th>\n",
       "      <td>793</td>\n",
       "      <td>592</td>\n",
       "      <td>68828.0</td>\n",
       "      <td>3699.724078</td>\n",
       "    </tr>\n",
       "    <tr>\n",
       "      <th>1431</th>\n",
       "      <td>631</td>\n",
       "      <td>406</td>\n",
       "      <td>26161.0</td>\n",
       "      <td>2486.045488</td>\n",
       "    </tr>\n",
       "  </tbody>\n",
       "</table>\n",
       "</div>"
      ],
      "text/plain": [
       "      year      S         N          chao1\n",
       "1798   998   1026   42367.0    6195.039008\n",
       "1438   638    400   25789.0    2136.043791\n",
       "2383  1583  54688  429110.0  483933.357710\n",
       "1593   793    592   68828.0    3699.724078\n",
       "1431   631    406   26161.0    2486.045488"
      ]
     },
     "execution_count": 7,
     "metadata": {},
     "output_type": "execute_result"
    }
   ],
   "source": [
    "temporal_cnts = []\n",
    "window = 50\n",
    "for year in range(int(df['birthyear'].min() + window), int(df['birthyear'].max() - window + 1)):\n",
    "    y1, y2 = year - window, year + window\n",
    "    d = df[(df['birthyear'] >= y1) & (df['birthyear'] <= y2)]\n",
    "    S_obs = len(d)\n",
    "    N = sum(d['count_works'])\n",
    "    #div = copia.diversity(d['count_works'], method='chao1', CI=True, n_iter=100)\n",
    "    div = copia.diversity(d['count_works'], method='chao1')\n",
    "    ch1 = div\n",
    "    #ch1 = div['richness']\n",
    "    #ch1_lci = div['lci']\n",
    "    #ch1_uci = div['uci']\n",
    "    cnts = np.array(d['count_works'].astype(int))\n",
    "    #temporal_cnts.append((year, S_obs, N, ch1, ch1_lci, ch1_uci))\n",
    "    temporal_cnts.append((year, S_obs, N, ch1))\n",
    "#temporal_cnts = pd.DataFrame(temporal_cnts, columns=['year', 'S', 'N', 'chao1', 'chao1_lci', 'chao1_uci'])\n",
    "temporal_cnts = pd.DataFrame(temporal_cnts, columns=['year', 'S', 'N', 'chao1'])\n",
    "temporal_cnts.sample(5)"
   ]
  },
  {
   "cell_type": "code",
   "execution_count": 8,
   "id": "167ecb83",
   "metadata": {},
   "outputs": [
    {
     "data": {
      "image/png": "[encoded data removed]",
      "text/plain": [
       "<Figure size 640x480 with 1 Axes>"
      ]
     },
     "metadata": {},
     "output_type": "display_data"
    }
   ],
   "source": [
    "temporal_cnts.plot('year', 'S');"
   ]
  },
  {
   "cell_type": "code",
   "execution_count": 9,
   "id": "4edd97be",
   "metadata": {},
   "outputs": [
    {
     "data": {
      "image/png": "[encoded data removed]",
      "text/plain": [
       "<Figure size 640x480 with 1 Axes>"
      ]
     },
     "metadata": {},
     "output_type": "display_data"
    }
   ],
   "source": [
    "temporal_cnts.plot('year', 'N');"
   ]
  },
  {
   "cell_type": "code",
   "execution_count": 10,
   "id": "a28459c0",
   "metadata": {},
   "outputs": [
    {
     "data": {
      "image/png": "[encoded data removed]",
      "text/plain": [
       "<Figure size 640x480 with 1 Axes>"
      ]
     },
     "metadata": {},
     "output_type": "display_data"
    }
   ],
   "source": [
    "temporal_cnts['av'] = temporal_cnts['N'] / temporal_cnts['S']\n",
    "temporal_cnts.plot('year', 'av');"
   ]
  },
  {
   "cell_type": "code",
   "execution_count": 11,
   "id": "8db17c82",
   "metadata": {},
   "outputs": [
    {
     "data": {
      "image/png": "[encoded data removed]",
      "text/plain": [
       "<Figure size 640x480 with 1 Axes>"
      ]
     },
     "metadata": {},
     "output_type": "display_data"
    }
   ],
   "source": [
    "ax = temporal_cnts.plot('year', 'S');\n",
    "temporal_cnts.plot('year', 'chao1', ax=ax);"
   ]
  },
  {
   "cell_type": "code",
   "execution_count": 12,
   "id": "a487b7f3",
   "metadata": {},
   "outputs": [
    {
     "data": {
      "image/png": "[encoded data removed]",
      "text/plain": [
       "<Figure size 640x480 with 1 Axes>"
      ]
     },
     "metadata": {},
     "output_type": "display_data"
    }
   ],
   "source": [
    "temporal_cnts['cov'] = temporal_cnts['S'] / temporal_cnts['chao1']\n",
    "#temporal_cnts['cov_lci'] = temporal_cnts['S'] / temporal_cnts['chao1_lci']\n",
    "#temporal_cnts['cov_uci'] = temporal_cnts['S'] / temporal_cnts['chao1_uci']\n",
    "\n",
    "ax = temporal_cnts.plot('year', 'cov');\n",
    "#temporal_cnts.plot('year', 'cov_lci', ax=ax, c='grey');\n",
    "#temporal_cnts.plot('year', 'cov_uci', ax=ax, c='grey');\n",
    "#ax.fill_between(temporal_cnts['year'], temporal_cnts['cov_lci'], temporal_cnts['cov_uci'], color='lightblue');"
   ]
  },
  {
   "cell_type": "code",
   "execution_count": 13,
   "id": "f47c6f10",
   "metadata": {},
   "outputs": [
    {
     "name": "stdout",
     "output_type": "stream",
     "text": [
      "{'France', 'Indian world', 'German world', 'Arabic world', 'Italy', 'Korea', 'Portugal', 'Eastern Europe', 'United Kingdom', 'Low countries', 'Central Europe', 'Spain', 'Balkans', 'Persian world', 'Slav world', 'Nordic countries', 'Greek World', 'Latin World', 'Japan', 'Chinese world'}\n"
     ]
    }
   ],
   "source": [
    "region_df = pd.read_csv('ENS - Cultural Index - Countries Databases - region_level.csv')\n",
    "region_df = region_df[region_df['level'] == 2]\n",
    "regions = set(region_df['region_name'])\n",
    "print(regions)"
   ]
  },
  {
   "cell_type": "markdown",
   "id": "1c85821c",
   "metadata": {},
   "source": [
    "## Generalized Chao"
   ]
  },
  {
   "cell_type": "code",
   "execution_count": 14,
   "id": "7f68618d",
   "metadata": {},
   "outputs": [
    {
     "name": "stdout",
     "output_type": "stream",
     "text": [
      "571776\n",
      "183109\n"
     ]
    }
   ],
   "source": [
    "print(len(df))\n",
    "df = df[df['region_name'].isin(regions)]\n",
    "print(len(df))"
   ]
  },
  {
   "cell_type": "code",
   "execution_count": 15,
   "id": "8e0a153d",
   "metadata": {},
   "outputs": [
    {
     "data": {
      "text/html": [
       "<div>\n",
       "<style scoped>\n",
       "    .dataframe tbody tr th:only-of-type {\n",
       "        vertical-align: middle;\n",
       "    }\n",
       "\n",
       "    .dataframe tbody tr th {\n",
       "        vertical-align: top;\n",
       "    }\n",
       "\n",
       "    .dataframe thead th {\n",
       "        text-align: right;\n",
       "    }\n",
       "</style>\n",
       "<table border=\"1\" class=\"dataframe\">\n",
       "  <thead>\n",
       "    <tr style=\"text-align: right;\">\n",
       "      <th></th>\n",
       "      <th>Unnamed: 0</th>\n",
       "      <th>individual_wikidata_id</th>\n",
       "      <th>birthyear</th>\n",
       "      <th>region_name</th>\n",
       "      <th>count_works</th>\n",
       "      <th>date</th>\n",
       "      <th>region</th>\n",
       "    </tr>\n",
       "  </thead>\n",
       "  <tbody>\n",
       "    <tr>\n",
       "      <th>2</th>\n",
       "      <td>2</td>\n",
       "      <td>Q100035</td>\n",
       "      <td>1800.0</td>\n",
       "      <td>German world</td>\n",
       "      <td>2.0</td>\n",
       "      <td>0.323468</td>\n",
       "      <td>German world</td>\n",
       "    </tr>\n",
       "    <tr>\n",
       "      <th>6</th>\n",
       "      <td>6</td>\n",
       "      <td>Q1000899</td>\n",
       "      <td>1840.0</td>\n",
       "      <td>German world</td>\n",
       "      <td>2.0</td>\n",
       "      <td>0.450479</td>\n",
       "      <td>German world</td>\n",
       "    </tr>\n",
       "    <tr>\n",
       "      <th>8</th>\n",
       "      <td>8</td>\n",
       "      <td>Q1001063</td>\n",
       "      <td>1848.0</td>\n",
       "      <td>Eastern Europe</td>\n",
       "      <td>2.0</td>\n",
       "      <td>0.475881</td>\n",
       "      <td>Eastern Europe</td>\n",
       "    </tr>\n",
       "    <tr>\n",
       "      <th>9</th>\n",
       "      <td>9</td>\n",
       "      <td>Q1001063</td>\n",
       "      <td>1848.0</td>\n",
       "      <td>Central Europe</td>\n",
       "      <td>2.0</td>\n",
       "      <td>0.475881</td>\n",
       "      <td>Central Europe</td>\n",
       "    </tr>\n",
       "    <tr>\n",
       "      <th>12</th>\n",
       "      <td>12</td>\n",
       "      <td>Q100116</td>\n",
       "      <td>1654.0</td>\n",
       "      <td>German world</td>\n",
       "      <td>3.0</td>\n",
       "      <td>-0.140120</td>\n",
       "      <td>German world</td>\n",
       "    </tr>\n",
       "  </tbody>\n",
       "</table>\n",
       "</div>"
      ],
      "text/plain": [
       "    Unnamed: 0 individual_wikidata_id  birthyear     region_name  count_works  \\\n",
       "2            2                Q100035     1800.0    German world          2.0   \n",
       "6            6               Q1000899     1840.0    German world          2.0   \n",
       "8            8               Q1001063     1848.0  Eastern Europe          2.0   \n",
       "9            9               Q1001063     1848.0  Central Europe          2.0   \n",
       "12          12                Q100116     1654.0    German world          3.0   \n",
       "\n",
       "        date          region  \n",
       "2   0.323468    German world  \n",
       "6   0.450479    German world  \n",
       "8   0.475881  Eastern Europe  \n",
       "9   0.475881  Central Europe  \n",
       "12 -0.140120    German world  "
      ]
     },
     "execution_count": 15,
     "metadata": {},
     "output_type": "execute_result"
    }
   ],
   "source": [
    "from sklearn.preprocessing import StandardScaler\n",
    "date_scaler = StandardScaler()\n",
    "df['date'] = date_scaler.fit_transform(np.array(df['birthyear']).reshape(-1, 1)) # What does it mean to do that?\n",
    "df['region'] = df['region_name'].astype('category')\n",
    "df.head()"
   ]
  },
  {
   "cell_type": "code",
   "execution_count": 16,
   "id": "b5287f3c",
   "metadata": {},
   "outputs": [
    {
     "data": {
      "text/html": [
       "<div>\n",
       "<style scoped>\n",
       "    .dataframe tbody tr th:only-of-type {\n",
       "        vertical-align: middle;\n",
       "    }\n",
       "\n",
       "    .dataframe tbody tr th {\n",
       "        vertical-align: top;\n",
       "    }\n",
       "\n",
       "    .dataframe thead th {\n",
       "        text-align: right;\n",
       "    }\n",
       "</style>\n",
       "<table border=\"1\" class=\"dataframe\">\n",
       "  <thead>\n",
       "    <tr style=\"text-align: right;\">\n",
       "      <th></th>\n",
       "      <th>Unnamed: 0</th>\n",
       "      <th>individual_wikidata_id</th>\n",
       "      <th>birthyear</th>\n",
       "      <th>region_name</th>\n",
       "      <th>count_works</th>\n",
       "      <th>date</th>\n",
       "      <th>region</th>\n",
       "      <th>count</th>\n",
       "    </tr>\n",
       "  </thead>\n",
       "  <tbody>\n",
       "    <tr>\n",
       "      <th>2</th>\n",
       "      <td>2</td>\n",
       "      <td>Q100035</td>\n",
       "      <td>1800.0</td>\n",
       "      <td>German world</td>\n",
       "      <td>2.0</td>\n",
       "      <td>0.323468</td>\n",
       "      <td>German world</td>\n",
       "      <td>2</td>\n",
       "    </tr>\n",
       "    <tr>\n",
       "      <th>6</th>\n",
       "      <td>6</td>\n",
       "      <td>Q1000899</td>\n",
       "      <td>1840.0</td>\n",
       "      <td>German world</td>\n",
       "      <td>2.0</td>\n",
       "      <td>0.450479</td>\n",
       "      <td>German world</td>\n",
       "      <td>2</td>\n",
       "    </tr>\n",
       "    <tr>\n",
       "      <th>8</th>\n",
       "      <td>8</td>\n",
       "      <td>Q1001063</td>\n",
       "      <td>1848.0</td>\n",
       "      <td>Eastern Europe</td>\n",
       "      <td>2.0</td>\n",
       "      <td>0.475881</td>\n",
       "      <td>Eastern Europe</td>\n",
       "      <td>2</td>\n",
       "    </tr>\n",
       "    <tr>\n",
       "      <th>9</th>\n",
       "      <td>9</td>\n",
       "      <td>Q1001063</td>\n",
       "      <td>1848.0</td>\n",
       "      <td>Central Europe</td>\n",
       "      <td>2.0</td>\n",
       "      <td>0.475881</td>\n",
       "      <td>Central Europe</td>\n",
       "      <td>2</td>\n",
       "    </tr>\n",
       "    <tr>\n",
       "      <th>16</th>\n",
       "      <td>16</td>\n",
       "      <td>Q100156894</td>\n",
       "      <td>1817.0</td>\n",
       "      <td>Nordic countries</td>\n",
       "      <td>1.0</td>\n",
       "      <td>0.377448</td>\n",
       "      <td>Nordic countries</td>\n",
       "      <td>1</td>\n",
       "    </tr>\n",
       "  </tbody>\n",
       "</table>\n",
       "</div>"
      ],
      "text/plain": [
       "    Unnamed: 0 individual_wikidata_id  birthyear       region_name  \\\n",
       "2            2                Q100035     1800.0      German world   \n",
       "6            6               Q1000899     1840.0      German world   \n",
       "8            8               Q1001063     1848.0    Eastern Europe   \n",
       "9            9               Q1001063     1848.0    Central Europe   \n",
       "16          16             Q100156894     1817.0  Nordic countries   \n",
       "\n",
       "    count_works      date            region  count  \n",
       "2           2.0  0.323468      German world      2  \n",
       "6           2.0  0.450479      German world      2  \n",
       "8           2.0  0.475881    Eastern Europe      2  \n",
       "9           2.0  0.475881    Central Europe      2  \n",
       "16          1.0  0.377448  Nordic countries      1  "
      ]
     },
     "execution_count": 16,
     "metadata": {},
     "output_type": "execute_result"
    }
   ],
   "source": [
    "df['count'] = df['count_works'].astype(int)\n",
    "df = df[df['count'].isin({1, 2})]\n",
    "df.head()"
   ]
  },
  {
   "cell_type": "code",
   "execution_count": 17,
   "id": "39a644f0",
   "metadata": {},
   "outputs": [
    {
     "data": {
      "text/html": [
       "<div>\n",
       "<style scoped>\n",
       "    .dataframe tbody tr th:only-of-type {\n",
       "        vertical-align: middle;\n",
       "    }\n",
       "\n",
       "    .dataframe tbody tr th {\n",
       "        vertical-align: top;\n",
       "    }\n",
       "\n",
       "    .dataframe thead th {\n",
       "        text-align: right;\n",
       "    }\n",
       "</style>\n",
       "<table border=\"1\" class=\"dataframe\">\n",
       "  <thead>\n",
       "    <tr style=\"text-align: right;\">\n",
       "      <th></th>\n",
       "      <th>Unnamed: 0</th>\n",
       "      <th>individual_wikidata_id</th>\n",
       "      <th>birthyear</th>\n",
       "      <th>region_name</th>\n",
       "      <th>count_works</th>\n",
       "      <th>date</th>\n",
       "      <th>region</th>\n",
       "      <th>count</th>\n",
       "      <th>y</th>\n",
       "    </tr>\n",
       "  </thead>\n",
       "  <tbody>\n",
       "    <tr>\n",
       "      <th>2</th>\n",
       "      <td>2</td>\n",
       "      <td>Q100035</td>\n",
       "      <td>1800.0</td>\n",
       "      <td>German world</td>\n",
       "      <td>2.0</td>\n",
       "      <td>0.323468</td>\n",
       "      <td>German world</td>\n",
       "      <td>2</td>\n",
       "      <td>1</td>\n",
       "    </tr>\n",
       "    <tr>\n",
       "      <th>6</th>\n",
       "      <td>6</td>\n",
       "      <td>Q1000899</td>\n",
       "      <td>1840.0</td>\n",
       "      <td>German world</td>\n",
       "      <td>2.0</td>\n",
       "      <td>0.450479</td>\n",
       "      <td>German world</td>\n",
       "      <td>2</td>\n",
       "      <td>1</td>\n",
       "    </tr>\n",
       "    <tr>\n",
       "      <th>8</th>\n",
       "      <td>8</td>\n",
       "      <td>Q1001063</td>\n",
       "      <td>1848.0</td>\n",
       "      <td>Eastern Europe</td>\n",
       "      <td>2.0</td>\n",
       "      <td>0.475881</td>\n",
       "      <td>Eastern Europe</td>\n",
       "      <td>2</td>\n",
       "      <td>1</td>\n",
       "    </tr>\n",
       "    <tr>\n",
       "      <th>9</th>\n",
       "      <td>9</td>\n",
       "      <td>Q1001063</td>\n",
       "      <td>1848.0</td>\n",
       "      <td>Central Europe</td>\n",
       "      <td>2.0</td>\n",
       "      <td>0.475881</td>\n",
       "      <td>Central Europe</td>\n",
       "      <td>2</td>\n",
       "      <td>1</td>\n",
       "    </tr>\n",
       "    <tr>\n",
       "      <th>16</th>\n",
       "      <td>16</td>\n",
       "      <td>Q100156894</td>\n",
       "      <td>1817.0</td>\n",
       "      <td>Nordic countries</td>\n",
       "      <td>1.0</td>\n",
       "      <td>0.377448</td>\n",
       "      <td>Nordic countries</td>\n",
       "      <td>1</td>\n",
       "      <td>0</td>\n",
       "    </tr>\n",
       "    <tr>\n",
       "      <th>...</th>\n",
       "      <td>...</td>\n",
       "      <td>...</td>\n",
       "      <td>...</td>\n",
       "      <td>...</td>\n",
       "      <td>...</td>\n",
       "      <td>...</td>\n",
       "      <td>...</td>\n",
       "      <td>...</td>\n",
       "      <td>...</td>\n",
       "    </tr>\n",
       "    <tr>\n",
       "      <th>571765</th>\n",
       "      <td>571765</td>\n",
       "      <td>Q6169937</td>\n",
       "      <td>1789.0</td>\n",
       "      <td>France</td>\n",
       "      <td>1.0</td>\n",
       "      <td>0.288541</td>\n",
       "      <td>France</td>\n",
       "      <td>1</td>\n",
       "      <td>0</td>\n",
       "    </tr>\n",
       "    <tr>\n",
       "      <th>571768</th>\n",
       "      <td>571768</td>\n",
       "      <td>Q41260928</td>\n",
       "      <td>1830.0</td>\n",
       "      <td>German world</td>\n",
       "      <td>1.0</td>\n",
       "      <td>0.418726</td>\n",
       "      <td>German world</td>\n",
       "      <td>1</td>\n",
       "      <td>0</td>\n",
       "    </tr>\n",
       "    <tr>\n",
       "      <th>571770</th>\n",
       "      <td>571770</td>\n",
       "      <td>Q4228920</td>\n",
       "      <td>1850.0</td>\n",
       "      <td>Eastern Europe</td>\n",
       "      <td>1.0</td>\n",
       "      <td>0.482232</td>\n",
       "      <td>Eastern Europe</td>\n",
       "      <td>1</td>\n",
       "      <td>0</td>\n",
       "    </tr>\n",
       "    <tr>\n",
       "      <th>571771</th>\n",
       "      <td>571771</td>\n",
       "      <td>Q4228920</td>\n",
       "      <td>1850.0</td>\n",
       "      <td>Central Europe</td>\n",
       "      <td>1.0</td>\n",
       "      <td>0.482232</td>\n",
       "      <td>Central Europe</td>\n",
       "      <td>1</td>\n",
       "      <td>0</td>\n",
       "    </tr>\n",
       "    <tr>\n",
       "      <th>571775</th>\n",
       "      <td>571775</td>\n",
       "      <td>Q60442324</td>\n",
       "      <td>1818.0</td>\n",
       "      <td>Italy</td>\n",
       "      <td>1.0</td>\n",
       "      <td>0.380623</td>\n",
       "      <td>Italy</td>\n",
       "      <td>1</td>\n",
       "      <td>0</td>\n",
       "    </tr>\n",
       "  </tbody>\n",
       "</table>\n",
       "<p>159189 rows × 9 columns</p>\n",
       "</div>"
      ],
      "text/plain": [
       "        Unnamed: 0 individual_wikidata_id  birthyear       region_name  \\\n",
       "2                2                Q100035     1800.0      German world   \n",
       "6                6               Q1000899     1840.0      German world   \n",
       "8                8               Q1001063     1848.0    Eastern Europe   \n",
       "9                9               Q1001063     1848.0    Central Europe   \n",
       "16              16             Q100156894     1817.0  Nordic countries   \n",
       "...            ...                    ...        ...               ...   \n",
       "571765      571765               Q6169937     1789.0            France   \n",
       "571768      571768              Q41260928     1830.0      German world   \n",
       "571770      571770               Q4228920     1850.0    Eastern Europe   \n",
       "571771      571771               Q4228920     1850.0    Central Europe   \n",
       "571775      571775              Q60442324     1818.0             Italy   \n",
       "\n",
       "        count_works      date            region  count  y  \n",
       "2               2.0  0.323468      German world      2  1  \n",
       "6               2.0  0.450479      German world      2  1  \n",
       "8               2.0  0.475881    Eastern Europe      2  1  \n",
       "9               2.0  0.475881    Central Europe      2  1  \n",
       "16              1.0  0.377448  Nordic countries      1  0  \n",
       "...             ...       ...               ...    ... ..  \n",
       "571765          1.0  0.288541            France      1  0  \n",
       "571768          1.0  0.418726      German world      1  0  \n",
       "571770          1.0  0.482232    Eastern Europe      1  0  \n",
       "571771          1.0  0.482232    Central Europe      1  0  \n",
       "571775          1.0  0.380623             Italy      1  0  \n",
       "\n",
       "[159189 rows x 9 columns]"
      ]
     },
     "execution_count": 17,
     "metadata": {},
     "output_type": "execute_result"
    }
   ],
   "source": [
    "df['y'] = df['count'].map({1: 0, 2: 1})\n",
    "df"
   ]
  },
  {
   "cell_type": "code",
   "execution_count": 18,
   "id": "18d30d03",
   "metadata": {},
   "outputs": [],
   "source": [
    "#df = df.sample(100000)"
   ]
  },
  {
   "cell_type": "code",
   "execution_count": 19,
   "id": "87380cd6",
   "metadata": {},
   "outputs": [
    {
     "data": {
      "text/plain": [
       "0    151955\n",
       "1      7234\n",
       "Name: y, dtype: int64"
      ]
     },
     "execution_count": 19,
     "metadata": {},
     "output_type": "execute_result"
    }
   ],
   "source": [
    "df['y'].value_counts(dropna=False)"
   ]
  },
  {
   "cell_type": "code",
   "execution_count": 20,
   "id": "837aba50",
   "metadata": {},
   "outputs": [
    {
     "data": {
      "text/plain": [
       "count    159189.000000\n",
       "mean          0.015262\n",
       "std           0.974568\n",
       "min          -8.090976\n",
       "25%          -0.009934\n",
       "50%           0.304417\n",
       "75%           0.412376\n",
       "max           0.482232\n",
       "Name: date, dtype: float64"
      ]
     },
     "execution_count": 20,
     "metadata": {},
     "output_type": "execute_result"
    }
   ],
   "source": [
    "df['date'].describe()"
   ]
  },
  {
   "cell_type": "code",
   "execution_count": 21,
   "id": "6b92e223",
   "metadata": {},
   "outputs": [
    {
     "name": "stderr",
     "output_type": "stream",
     "text": [
      "Modeling the probability that y==1\n",
      "Auto-assigning NUTS sampler...\n",
      "Initializing NUTS using jitter+adapt_diag...\n",
      "Multiprocess sampling (4 chains in 4 jobs)\n",
      "NUTS: [Intercept]\n"
     ]
    },
    {
     "data": {
      "text/html": [
       "\n",
       "<style>\n",
       "    /* Turns off some styling */\n",
       "    progress {\n",
       "        /* gets rid of default border in Firefox and Opera. */\n",
       "        border: none;\n",
       "        /* Needs to be in here for Safari polyfill so background images work as expected. */\n",
       "        background-size: auto;\n",
       "    }\n",
       "    progress:not([value]), progress:not([value])::-webkit-progress-bar {\n",
       "        background: repeating-linear-gradient(45deg, #7e7e7e, #7e7e7e 10px, #5c5c5c 10px, #5c5c5c 20px);\n",
       "    }\n",
       "    .progress-bar-interrupted, .progress-bar-interrupted::-webkit-progress-bar {\n",
       "        background: #F44336;\n",
       "    }\n",
       "</style>\n"
      ],
      "text/plain": [
       "<IPython.core.display.HTML object>"
      ]
     },
     "metadata": {},
     "output_type": "display_data"
    },
    {
     "data": {
      "text/html": [
       "\n",
       "    <div>\n",
       "      <progress value='8000' class='' max='8000' style='width:300px; height:20px; vertical-align: middle;'></progress>\n",
       "      100.00% [8000/8000 00:02&lt;00:00 Sampling 4 chains, 0 divergences]\n",
       "    </div>\n",
       "    "
      ],
      "text/plain": [
       "<IPython.core.display.HTML object>"
      ]
     },
     "metadata": {},
     "output_type": "display_data"
    },
    {
     "name": "stderr",
     "output_type": "stream",
     "text": [
      "Sampling 4 chains for 1_000 tune and 1_000 draw iterations (4_000 + 4_000 draws total) took 2 seconds.\n"
     ]
    },
    {
     "data": {
      "text/html": [
       "<div>\n",
       "<style scoped>\n",
       "    .dataframe tbody tr th:only-of-type {\n",
       "        vertical-align: middle;\n",
       "    }\n",
       "\n",
       "    .dataframe tbody tr th {\n",
       "        vertical-align: top;\n",
       "    }\n",
       "\n",
       "    .dataframe thead th {\n",
       "        text-align: right;\n",
       "    }\n",
       "</style>\n",
       "<table border=\"1\" class=\"dataframe\">\n",
       "  <thead>\n",
       "    <tr style=\"text-align: right;\">\n",
       "      <th></th>\n",
       "      <th>mean</th>\n",
       "      <th>sd</th>\n",
       "      <th>hdi_3%</th>\n",
       "      <th>hdi_97%</th>\n",
       "      <th>mcse_mean</th>\n",
       "      <th>mcse_sd</th>\n",
       "      <th>ess_bulk</th>\n",
       "      <th>ess_tail</th>\n",
       "      <th>r_hat</th>\n",
       "    </tr>\n",
       "  </thead>\n",
       "  <tbody>\n",
       "    <tr>\n",
       "      <th>Intercept</th>\n",
       "      <td>-3.045</td>\n",
       "      <td>0.012</td>\n",
       "      <td>-3.068</td>\n",
       "      <td>-3.024</td>\n",
       "      <td>0.0</td>\n",
       "      <td>0.0</td>\n",
       "      <td>1503.0</td>\n",
       "      <td>2858.0</td>\n",
       "      <td>1.0</td>\n",
       "    </tr>\n",
       "  </tbody>\n",
       "</table>\n",
       "</div>"
      ],
      "text/plain": [
       "            mean     sd  hdi_3%  hdi_97%  mcse_mean  mcse_sd  ess_bulk  \\\n",
       "Intercept -3.045  0.012  -3.068   -3.024        0.0      0.0    1503.0   \n",
       "\n",
       "           ess_tail  r_hat  \n",
       "Intercept    2858.0    1.0  "
      ]
     },
     "execution_count": 21,
     "metadata": {},
     "output_type": "execute_result"
    }
   ],
   "source": [
    "intercept_model = bmb.Model('y ~ 1', df, family='bernoulli')\n",
    "intercept_fit = intercept_model.fit(draws=1000, chains=4, idata_kwargs={\"log_likelihood\": True})\n",
    "az.summary(intercept_fit)"
   ]
  },
  {
   "cell_type": "code",
   "execution_count": 22,
   "id": "f30733b2",
   "metadata": {},
   "outputs": [
    {
     "name": "stderr",
     "output_type": "stream",
     "text": [
      "Modeling the probability that y==1\n",
      "Auto-assigning NUTS sampler...\n",
      "Initializing NUTS using jitter+adapt_diag...\n",
      "Multiprocess sampling (4 chains in 4 jobs)\n",
      "NUTS: [Intercept, date]\n"
     ]
    },
    {
     "data": {
      "text/html": [
       "\n",
       "<style>\n",
       "    /* Turns off some styling */\n",
       "    progress {\n",
       "        /* gets rid of default border in Firefox and Opera. */\n",
       "        border: none;\n",
       "        /* Needs to be in here for Safari polyfill so background images work as expected. */\n",
       "        background-size: auto;\n",
       "    }\n",
       "    progress:not([value]), progress:not([value])::-webkit-progress-bar {\n",
       "        background: repeating-linear-gradient(45deg, #7e7e7e, #7e7e7e 10px, #5c5c5c 10px, #5c5c5c 20px);\n",
       "    }\n",
       "    .progress-bar-interrupted, .progress-bar-interrupted::-webkit-progress-bar {\n",
       "        background: #F44336;\n",
       "    }\n",
       "</style>\n"
      ],
      "text/plain": [
       "<IPython.core.display.HTML object>"
      ]
     },
     "metadata": {},
     "output_type": "display_data"
    },
    {
     "data": {
      "text/html": [
       "\n",
       "    <div>\n",
       "      <progress value='0' class='' max='8000' style='width:300px; height:20px; vertical-align: middle;'></progress>\n",
       "      0.00% [0/8000 00:00&lt;? Sampling 4 chains, 0 divergences]\n",
       "    </div>\n",
       "    "
      ],
      "text/plain": [
       "<IPython.core.display.HTML object>"
      ]
     },
     "metadata": {},
     "output_type": "display_data"
    },
    {
     "ename": "EOFError",
     "evalue": "",
     "output_type": "error",
     "traceback": [
      "\u001b[0;31m---------------------------------------------------------------------------\u001b[0m",
      "\u001b[0;31mEOFError\u001b[0m                                  Traceback (most recent call last)",
      "Cell \u001b[0;32mIn[22], line 2\u001b[0m\n\u001b[1;32m      1\u001b[0m date_model \u001b[38;5;241m=\u001b[39m bmb\u001b[38;5;241m.\u001b[39mModel(\u001b[38;5;124m'\u001b[39m\u001b[38;5;124my ~ date\u001b[39m\u001b[38;5;124m'\u001b[39m, df, family\u001b[38;5;241m=\u001b[39m\u001b[38;5;124m'\u001b[39m\u001b[38;5;124mbernoulli\u001b[39m\u001b[38;5;124m'\u001b[39m)\n\u001b[0;32m----> 2\u001b[0m date_fit \u001b[38;5;241m=\u001b[39m \u001b[43mdate_model\u001b[49m\u001b[38;5;241;43m.\u001b[39;49m\u001b[43mfit\u001b[49m\u001b[43m(\u001b[49m\u001b[43mdraws\u001b[49m\u001b[38;5;241;43m=\u001b[39;49m\u001b[38;5;241;43m1000\u001b[39;49m\u001b[43m,\u001b[49m\u001b[43m \u001b[49m\u001b[43mchains\u001b[49m\u001b[38;5;241;43m=\u001b[39;49m\u001b[38;5;241;43m4\u001b[39;49m\u001b[43m,\u001b[49m\u001b[43m \u001b[49m\u001b[43midata_kwargs\u001b[49m\u001b[38;5;241;43m=\u001b[39;49m\u001b[43m{\u001b[49m\u001b[38;5;124;43m\"\u001b[39;49m\u001b[38;5;124;43mlog_likelihood\u001b[39;49m\u001b[38;5;124;43m\"\u001b[39;49m\u001b[43m:\u001b[49m\u001b[43m \u001b[49m\u001b[38;5;28;43;01mTrue\u001b[39;49;00m\u001b[43m}\u001b[49m\u001b[43m)\u001b[49m\n\u001b[1;32m      3\u001b[0m az\u001b[38;5;241m.\u001b[39mplot_forest(date_fit, combined\u001b[38;5;241m=\u001b[39m\u001b[38;5;28;01mTrue\u001b[39;00m, figsize\u001b[38;5;241m=\u001b[39m(\u001b[38;5;241m12\u001b[39m, \u001b[38;5;241m6\u001b[39m))\n\u001b[1;32m      4\u001b[0m plt\u001b[38;5;241m.\u001b[39maxvline(\u001b[38;5;241m0\u001b[39m, c\u001b[38;5;241m=\u001b[39m\u001b[38;5;124m'\u001b[39m\u001b[38;5;124mlightgrey\u001b[39m\u001b[38;5;124m'\u001b[39m, ls\u001b[38;5;241m=\u001b[39m\u001b[38;5;124m'\u001b[39m\u001b[38;5;124m--\u001b[39m\u001b[38;5;124m'\u001b[39m);\n",
      "File \u001b[0;32m~/Library/Caches/pypoetry/virtualenvs/market_use_cases-Q45SxFKl-py3.8/lib/python3.8/site-packages/bambi/models.py:312\u001b[0m, in \u001b[0;36mModel.fit\u001b[0;34m(self, draws, tune, discard_tuned_samples, omit_offsets, include_mean, inference_method, init, n_init, chains, cores, random_seed, **kwargs)\u001b[0m\n\u001b[1;32m    305\u001b[0m     response \u001b[38;5;241m=\u001b[39m \u001b[38;5;28mself\u001b[39m\u001b[38;5;241m.\u001b[39mcomponents[\u001b[38;5;28mself\u001b[39m\u001b[38;5;241m.\u001b[39mresponse_name]\n\u001b[1;32m    306\u001b[0m     _log\u001b[38;5;241m.\u001b[39minfo(\n\u001b[1;32m    307\u001b[0m         \u001b[38;5;124m\"\u001b[39m\u001b[38;5;124mModeling the probability that \u001b[39m\u001b[38;5;132;01m%s\u001b[39;00m\u001b[38;5;124m==\u001b[39m\u001b[38;5;132;01m%s\u001b[39;00m\u001b[38;5;124m\"\u001b[39m,\n\u001b[1;32m    308\u001b[0m         response\u001b[38;5;241m.\u001b[39mresponse_term\u001b[38;5;241m.\u001b[39mname,\n\u001b[1;32m    309\u001b[0m         \u001b[38;5;28mstr\u001b[39m(response\u001b[38;5;241m.\u001b[39mresponse_term\u001b[38;5;241m.\u001b[39msuccess),\n\u001b[1;32m    310\u001b[0m     )\n\u001b[0;32m--> 312\u001b[0m \u001b[38;5;28;01mreturn\u001b[39;00m \u001b[38;5;28;43mself\u001b[39;49m\u001b[38;5;241;43m.\u001b[39;49m\u001b[43mbackend\u001b[49m\u001b[38;5;241;43m.\u001b[39;49m\u001b[43mrun\u001b[49m\u001b[43m(\u001b[49m\n\u001b[1;32m    313\u001b[0m \u001b[43m    \u001b[49m\u001b[43mdraws\u001b[49m\u001b[38;5;241;43m=\u001b[39;49m\u001b[43mdraws\u001b[49m\u001b[43m,\u001b[49m\n\u001b[1;32m    314\u001b[0m \u001b[43m    \u001b[49m\u001b[43mtune\u001b[49m\u001b[38;5;241;43m=\u001b[39;49m\u001b[43mtune\u001b[49m\u001b[43m,\u001b[49m\n\u001b[1;32m    315\u001b[0m \u001b[43m    \u001b[49m\u001b[43mdiscard_tuned_samples\u001b[49m\u001b[38;5;241;43m=\u001b[39;49m\u001b[43mdiscard_tuned_samples\u001b[49m\u001b[43m,\u001b[49m\n\u001b[1;32m    316\u001b[0m \u001b[43m    \u001b[49m\u001b[43momit_offsets\u001b[49m\u001b[38;5;241;43m=\u001b[39;49m\u001b[43momit_offsets\u001b[49m\u001b[43m,\u001b[49m\n\u001b[1;32m    317\u001b[0m \u001b[43m    \u001b[49m\u001b[43minclude_mean\u001b[49m\u001b[38;5;241;43m=\u001b[39;49m\u001b[43minclude_mean\u001b[49m\u001b[43m,\u001b[49m\n\u001b[1;32m    318\u001b[0m \u001b[43m    \u001b[49m\u001b[43minference_method\u001b[49m\u001b[38;5;241;43m=\u001b[39;49m\u001b[43minference_method\u001b[49m\u001b[43m,\u001b[49m\n\u001b[1;32m    319\u001b[0m \u001b[43m    \u001b[49m\u001b[43minit\u001b[49m\u001b[38;5;241;43m=\u001b[39;49m\u001b[43minit\u001b[49m\u001b[43m,\u001b[49m\n\u001b[1;32m    320\u001b[0m \u001b[43m    \u001b[49m\u001b[43mn_init\u001b[49m\u001b[38;5;241;43m=\u001b[39;49m\u001b[43mn_init\u001b[49m\u001b[43m,\u001b[49m\n\u001b[1;32m    321\u001b[0m \u001b[43m    \u001b[49m\u001b[43mchains\u001b[49m\u001b[38;5;241;43m=\u001b[39;49m\u001b[43mchains\u001b[49m\u001b[43m,\u001b[49m\n\u001b[1;32m    322\u001b[0m \u001b[43m    \u001b[49m\u001b[43mcores\u001b[49m\u001b[38;5;241;43m=\u001b[39;49m\u001b[43mcores\u001b[49m\u001b[43m,\u001b[49m\n\u001b[1;32m    323\u001b[0m \u001b[43m    \u001b[49m\u001b[43mrandom_seed\u001b[49m\u001b[38;5;241;43m=\u001b[39;49m\u001b[43mrandom_seed\u001b[49m\u001b[43m,\u001b[49m\n\u001b[1;32m    324\u001b[0m \u001b[43m    \u001b[49m\u001b[38;5;241;43m*\u001b[39;49m\u001b[38;5;241;43m*\u001b[39;49m\u001b[43mkwargs\u001b[49m\u001b[43m,\u001b[49m\n\u001b[1;32m    325\u001b[0m \u001b[43m\u001b[49m\u001b[43m)\u001b[49m\n",
      "File \u001b[0;32m~/Library/Caches/pypoetry/virtualenvs/market_use_cases-Q45SxFKl-py3.8/lib/python3.8/site-packages/bambi/backend/pymc.py:96\u001b[0m, in \u001b[0;36mPyMCModel.run\u001b[0;34m(self, draws, tune, discard_tuned_samples, omit_offsets, include_mean, inference_method, init, n_init, chains, cores, random_seed, **kwargs)\u001b[0m\n\u001b[1;32m     94\u001b[0m \u001b[38;5;66;03m# NOTE: Methods return different types of objects (idata, approximation, and dictionary)\u001b[39;00m\n\u001b[1;32m     95\u001b[0m \u001b[38;5;28;01mif\u001b[39;00m inference_method \u001b[38;5;129;01min\u001b[39;00m [\u001b[38;5;124m\"\u001b[39m\u001b[38;5;124mmcmc\u001b[39m\u001b[38;5;124m\"\u001b[39m, \u001b[38;5;124m\"\u001b[39m\u001b[38;5;124mnuts_numpyro\u001b[39m\u001b[38;5;124m\"\u001b[39m, \u001b[38;5;124m\"\u001b[39m\u001b[38;5;124mnuts_blackjax\u001b[39m\u001b[38;5;124m\"\u001b[39m]:\n\u001b[0;32m---> 96\u001b[0m     result \u001b[38;5;241m=\u001b[39m \u001b[38;5;28;43mself\u001b[39;49m\u001b[38;5;241;43m.\u001b[39;49m\u001b[43m_run_mcmc\u001b[49m\u001b[43m(\u001b[49m\n\u001b[1;32m     97\u001b[0m \u001b[43m        \u001b[49m\u001b[43mdraws\u001b[49m\u001b[43m,\u001b[49m\n\u001b[1;32m     98\u001b[0m \u001b[43m        \u001b[49m\u001b[43mtune\u001b[49m\u001b[43m,\u001b[49m\n\u001b[1;32m     99\u001b[0m \u001b[43m        \u001b[49m\u001b[43mdiscard_tuned_samples\u001b[49m\u001b[43m,\u001b[49m\n\u001b[1;32m    100\u001b[0m \u001b[43m        \u001b[49m\u001b[43momit_offsets\u001b[49m\u001b[43m,\u001b[49m\n\u001b[1;32m    101\u001b[0m \u001b[43m        \u001b[49m\u001b[43minclude_mean\u001b[49m\u001b[43m,\u001b[49m\n\u001b[1;32m    102\u001b[0m \u001b[43m        \u001b[49m\u001b[43minit\u001b[49m\u001b[43m,\u001b[49m\n\u001b[1;32m    103\u001b[0m \u001b[43m        \u001b[49m\u001b[43mn_init\u001b[49m\u001b[43m,\u001b[49m\n\u001b[1;32m    104\u001b[0m \u001b[43m        \u001b[49m\u001b[43mchains\u001b[49m\u001b[43m,\u001b[49m\n\u001b[1;32m    105\u001b[0m \u001b[43m        \u001b[49m\u001b[43mcores\u001b[49m\u001b[43m,\u001b[49m\n\u001b[1;32m    106\u001b[0m \u001b[43m        \u001b[49m\u001b[43mrandom_seed\u001b[49m\u001b[43m,\u001b[49m\n\u001b[1;32m    107\u001b[0m \u001b[43m        \u001b[49m\u001b[43minference_method\u001b[49m\u001b[43m,\u001b[49m\n\u001b[1;32m    108\u001b[0m \u001b[43m        \u001b[49m\u001b[38;5;241;43m*\u001b[39;49m\u001b[38;5;241;43m*\u001b[39;49m\u001b[43mkwargs\u001b[49m\u001b[43m,\u001b[49m\n\u001b[1;32m    109\u001b[0m \u001b[43m    \u001b[49m\u001b[43m)\u001b[49m\n\u001b[1;32m    110\u001b[0m \u001b[38;5;28;01melif\u001b[39;00m inference_method \u001b[38;5;241m==\u001b[39m \u001b[38;5;124m\"\u001b[39m\u001b[38;5;124mvi\u001b[39m\u001b[38;5;124m\"\u001b[39m:\n\u001b[1;32m    111\u001b[0m     result \u001b[38;5;241m=\u001b[39m \u001b[38;5;28mself\u001b[39m\u001b[38;5;241m.\u001b[39m_run_vi(\u001b[38;5;241m*\u001b[39m\u001b[38;5;241m*\u001b[39mkwargs)\n",
      "File \u001b[0;32m~/Library/Caches/pypoetry/virtualenvs/market_use_cases-Q45SxFKl-py3.8/lib/python3.8/site-packages/bambi/backend/pymc.py:172\u001b[0m, in \u001b[0;36mPyMCModel._run_mcmc\u001b[0;34m(self, draws, tune, discard_tuned_samples, omit_offsets, include_mean, init, n_init, chains, cores, random_seed, sampler_backend, **kwargs)\u001b[0m\n\u001b[1;32m    170\u001b[0m \u001b[38;5;28;01mif\u001b[39;00m sampler_backend \u001b[38;5;241m==\u001b[39m \u001b[38;5;124m\"\u001b[39m\u001b[38;5;124mmcmc\u001b[39m\u001b[38;5;124m\"\u001b[39m:\n\u001b[1;32m    171\u001b[0m     \u001b[38;5;28;01mtry\u001b[39;00m:\n\u001b[0;32m--> 172\u001b[0m         idata \u001b[38;5;241m=\u001b[39m \u001b[43mpm\u001b[49m\u001b[38;5;241;43m.\u001b[39;49m\u001b[43msample\u001b[49m\u001b[43m(\u001b[49m\n\u001b[1;32m    173\u001b[0m \u001b[43m            \u001b[49m\u001b[43mdraws\u001b[49m\u001b[38;5;241;43m=\u001b[39;49m\u001b[43mdraws\u001b[49m\u001b[43m,\u001b[49m\n\u001b[1;32m    174\u001b[0m \u001b[43m            \u001b[49m\u001b[43mtune\u001b[49m\u001b[38;5;241;43m=\u001b[39;49m\u001b[43mtune\u001b[49m\u001b[43m,\u001b[49m\n\u001b[1;32m    175\u001b[0m \u001b[43m            \u001b[49m\u001b[43mdiscard_tuned_samples\u001b[49m\u001b[38;5;241;43m=\u001b[39;49m\u001b[43mdiscard_tuned_samples\u001b[49m\u001b[43m,\u001b[49m\n\u001b[1;32m    176\u001b[0m \u001b[43m            \u001b[49m\u001b[43minit\u001b[49m\u001b[38;5;241;43m=\u001b[39;49m\u001b[43minit\u001b[49m\u001b[43m,\u001b[49m\n\u001b[1;32m    177\u001b[0m \u001b[43m            \u001b[49m\u001b[43mn_init\u001b[49m\u001b[38;5;241;43m=\u001b[39;49m\u001b[43mn_init\u001b[49m\u001b[43m,\u001b[49m\n\u001b[1;32m    178\u001b[0m \u001b[43m            \u001b[49m\u001b[43mchains\u001b[49m\u001b[38;5;241;43m=\u001b[39;49m\u001b[43mchains\u001b[49m\u001b[43m,\u001b[49m\n\u001b[1;32m    179\u001b[0m \u001b[43m            \u001b[49m\u001b[43mcores\u001b[49m\u001b[38;5;241;43m=\u001b[39;49m\u001b[43mcores\u001b[49m\u001b[43m,\u001b[49m\n\u001b[1;32m    180\u001b[0m \u001b[43m            \u001b[49m\u001b[43mrandom_seed\u001b[49m\u001b[38;5;241;43m=\u001b[39;49m\u001b[43mrandom_seed\u001b[49m\u001b[43m,\u001b[49m\n\u001b[1;32m    181\u001b[0m \u001b[43m            \u001b[49m\u001b[38;5;241;43m*\u001b[39;49m\u001b[38;5;241;43m*\u001b[39;49m\u001b[43mkwargs\u001b[49m\u001b[43m,\u001b[49m\n\u001b[1;32m    182\u001b[0m \u001b[43m        \u001b[49m\u001b[43m)\u001b[49m\n\u001b[1;32m    183\u001b[0m     \u001b[38;5;28;01mexcept\u001b[39;00m (\u001b[38;5;167;01mRuntimeError\u001b[39;00m, \u001b[38;5;167;01mValueError\u001b[39;00m):\n\u001b[1;32m    184\u001b[0m         \u001b[38;5;28;01mif\u001b[39;00m (\n\u001b[1;32m    185\u001b[0m             \u001b[38;5;124m\"\u001b[39m\u001b[38;5;124mValueError: Mass matrix contains\u001b[39m\u001b[38;5;124m\"\u001b[39m \u001b[38;5;129;01min\u001b[39;00m traceback\u001b[38;5;241m.\u001b[39mformat_exc()\n\u001b[1;32m    186\u001b[0m             \u001b[38;5;129;01mand\u001b[39;00m init \u001b[38;5;241m==\u001b[39m \u001b[38;5;124m\"\u001b[39m\u001b[38;5;124mauto\u001b[39m\u001b[38;5;124m\"\u001b[39m\n\u001b[1;32m    187\u001b[0m         ):\n",
      "File \u001b[0;32m~/Library/Caches/pypoetry/virtualenvs/market_use_cases-Q45SxFKl-py3.8/lib/python3.8/site-packages/pymc/sampling/mcmc.py:766\u001b[0m, in \u001b[0;36msample\u001b[0;34m(draws, tune, chains, cores, random_seed, progressbar, step, nuts_sampler, initvals, init, jitter_max_retries, n_init, trace, discard_tuned_samples, compute_convergence_checks, keep_warning_stat, return_inferencedata, idata_kwargs, nuts_sampler_kwargs, callback, mp_ctx, model, **kwargs)\u001b[0m\n\u001b[1;32m    764\u001b[0m _print_step_hierarchy(step)\n\u001b[1;32m    765\u001b[0m \u001b[38;5;28;01mtry\u001b[39;00m:\n\u001b[0;32m--> 766\u001b[0m     \u001b[43m_mp_sample\u001b[49m\u001b[43m(\u001b[49m\u001b[38;5;241;43m*\u001b[39;49m\u001b[38;5;241;43m*\u001b[39;49m\u001b[43msample_args\u001b[49m\u001b[43m,\u001b[49m\u001b[43m \u001b[49m\u001b[38;5;241;43m*\u001b[39;49m\u001b[38;5;241;43m*\u001b[39;49m\u001b[43mparallel_args\u001b[49m\u001b[43m)\u001b[49m\n\u001b[1;32m    767\u001b[0m \u001b[38;5;28;01mexcept\u001b[39;00m pickle\u001b[38;5;241m.\u001b[39mPickleError:\n\u001b[1;32m    768\u001b[0m     _log\u001b[38;5;241m.\u001b[39mwarning(\u001b[38;5;124m\"\u001b[39m\u001b[38;5;124mCould not pickle model, sampling singlethreaded.\u001b[39m\u001b[38;5;124m\"\u001b[39m)\n",
      "File \u001b[0;32m~/Library/Caches/pypoetry/virtualenvs/market_use_cases-Q45SxFKl-py3.8/lib/python3.8/site-packages/pymc/sampling/mcmc.py:1155\u001b[0m, in \u001b[0;36m_mp_sample\u001b[0;34m(draws, tune, step, chains, cores, random_seed, start, progressbar, traces, model, callback, mp_ctx, **kwargs)\u001b[0m\n\u001b[1;32m   1153\u001b[0m \u001b[38;5;28;01mtry\u001b[39;00m:\n\u001b[1;32m   1154\u001b[0m     \u001b[38;5;28;01mwith\u001b[39;00m sampler:\n\u001b[0;32m-> 1155\u001b[0m         \u001b[38;5;28;01mfor\u001b[39;00m draw \u001b[38;5;129;01min\u001b[39;00m sampler:\n\u001b[1;32m   1156\u001b[0m             strace \u001b[38;5;241m=\u001b[39m traces[draw\u001b[38;5;241m.\u001b[39mchain]\n\u001b[1;32m   1157\u001b[0m             strace\u001b[38;5;241m.\u001b[39mrecord(draw\u001b[38;5;241m.\u001b[39mpoint, draw\u001b[38;5;241m.\u001b[39mstats)\n",
      "File \u001b[0;32m~/Library/Caches/pypoetry/virtualenvs/market_use_cases-Q45SxFKl-py3.8/lib/python3.8/site-packages/pymc/sampling/parallel.py:448\u001b[0m, in \u001b[0;36mParallelSampler.__iter__\u001b[0;34m(self)\u001b[0m\n\u001b[1;32m    445\u001b[0m     \u001b[38;5;28mself\u001b[39m\u001b[38;5;241m.\u001b[39m_progress\u001b[38;5;241m.\u001b[39mupdate(\u001b[38;5;28mself\u001b[39m\u001b[38;5;241m.\u001b[39m_total_draws)\n\u001b[1;32m    447\u001b[0m \u001b[38;5;28;01mwhile\u001b[39;00m \u001b[38;5;28mself\u001b[39m\u001b[38;5;241m.\u001b[39m_active:\n\u001b[0;32m--> 448\u001b[0m     draw \u001b[38;5;241m=\u001b[39m \u001b[43mProcessAdapter\u001b[49m\u001b[38;5;241;43m.\u001b[39;49m\u001b[43mrecv_draw\u001b[49m\u001b[43m(\u001b[49m\u001b[38;5;28;43mself\u001b[39;49m\u001b[38;5;241;43m.\u001b[39;49m\u001b[43m_active\u001b[49m\u001b[43m)\u001b[49m\n\u001b[1;32m    449\u001b[0m     proc, is_last, draw, tuning, stats \u001b[38;5;241m=\u001b[39m draw\n\u001b[1;32m    450\u001b[0m     \u001b[38;5;28mself\u001b[39m\u001b[38;5;241m.\u001b[39m_total_draws \u001b[38;5;241m+\u001b[39m\u001b[38;5;241m=\u001b[39m \u001b[38;5;241m1\u001b[39m\n",
      "File \u001b[0;32m~/Library/Caches/pypoetry/virtualenvs/market_use_cases-Q45SxFKl-py3.8/lib/python3.8/site-packages/pymc/sampling/parallel.py:320\u001b[0m, in \u001b[0;36mProcessAdapter.recv_draw\u001b[0;34m(processes, timeout)\u001b[0m\n\u001b[1;32m    318\u001b[0m idxs \u001b[38;5;241m=\u001b[39m {\u001b[38;5;28mid\u001b[39m(proc\u001b[38;5;241m.\u001b[39m_msg_pipe): proc \u001b[38;5;28;01mfor\u001b[39;00m proc \u001b[38;5;129;01min\u001b[39;00m processes}\n\u001b[1;32m    319\u001b[0m proc \u001b[38;5;241m=\u001b[39m idxs[\u001b[38;5;28mid\u001b[39m(ready[\u001b[38;5;241m0\u001b[39m])]\n\u001b[0;32m--> 320\u001b[0m msg \u001b[38;5;241m=\u001b[39m \u001b[43mready\u001b[49m\u001b[43m[\u001b[49m\u001b[38;5;241;43m0\u001b[39;49m\u001b[43m]\u001b[49m\u001b[38;5;241;43m.\u001b[39;49m\u001b[43mrecv\u001b[49m\u001b[43m(\u001b[49m\u001b[43m)\u001b[49m\n\u001b[1;32m    322\u001b[0m \u001b[38;5;28;01mif\u001b[39;00m msg[\u001b[38;5;241m0\u001b[39m] \u001b[38;5;241m==\u001b[39m \u001b[38;5;124m\"\u001b[39m\u001b[38;5;124merror\u001b[39m\u001b[38;5;124m\"\u001b[39m:\n\u001b[1;32m    323\u001b[0m     old_error \u001b[38;5;241m=\u001b[39m msg[\u001b[38;5;241m1\u001b[39m]\n",
      "File \u001b[0;32m/opt/homebrew/opt/python@3.8/Frameworks/Python.framework/Versions/3.8/lib/python3.8/multiprocessing/connection.py:250\u001b[0m, in \u001b[0;36m_ConnectionBase.recv\u001b[0;34m(self)\u001b[0m\n\u001b[1;32m    248\u001b[0m \u001b[38;5;28mself\u001b[39m\u001b[38;5;241m.\u001b[39m_check_closed()\n\u001b[1;32m    249\u001b[0m \u001b[38;5;28mself\u001b[39m\u001b[38;5;241m.\u001b[39m_check_readable()\n\u001b[0;32m--> 250\u001b[0m buf \u001b[38;5;241m=\u001b[39m \u001b[38;5;28;43mself\u001b[39;49m\u001b[38;5;241;43m.\u001b[39;49m\u001b[43m_recv_bytes\u001b[49m\u001b[43m(\u001b[49m\u001b[43m)\u001b[49m\n\u001b[1;32m    251\u001b[0m \u001b[38;5;28;01mreturn\u001b[39;00m _ForkingPickler\u001b[38;5;241m.\u001b[39mloads(buf\u001b[38;5;241m.\u001b[39mgetbuffer())\n",
      "File \u001b[0;32m/opt/homebrew/opt/python@3.8/Frameworks/Python.framework/Versions/3.8/lib/python3.8/multiprocessing/connection.py:414\u001b[0m, in \u001b[0;36mConnection._recv_bytes\u001b[0;34m(self, maxsize)\u001b[0m\n\u001b[1;32m    413\u001b[0m \u001b[38;5;28;01mdef\u001b[39;00m \u001b[38;5;21m_recv_bytes\u001b[39m(\u001b[38;5;28mself\u001b[39m, maxsize\u001b[38;5;241m=\u001b[39m\u001b[38;5;28;01mNone\u001b[39;00m):\n\u001b[0;32m--> 414\u001b[0m     buf \u001b[38;5;241m=\u001b[39m \u001b[38;5;28;43mself\u001b[39;49m\u001b[38;5;241;43m.\u001b[39;49m\u001b[43m_recv\u001b[49m\u001b[43m(\u001b[49m\u001b[38;5;241;43m4\u001b[39;49m\u001b[43m)\u001b[49m\n\u001b[1;32m    415\u001b[0m     size, \u001b[38;5;241m=\u001b[39m struct\u001b[38;5;241m.\u001b[39munpack(\u001b[38;5;124m\"\u001b[39m\u001b[38;5;124m!i\u001b[39m\u001b[38;5;124m\"\u001b[39m, buf\u001b[38;5;241m.\u001b[39mgetvalue())\n\u001b[1;32m    416\u001b[0m     \u001b[38;5;28;01mif\u001b[39;00m size \u001b[38;5;241m==\u001b[39m \u001b[38;5;241m-\u001b[39m\u001b[38;5;241m1\u001b[39m:\n",
      "File \u001b[0;32m/opt/homebrew/opt/python@3.8/Frameworks/Python.framework/Versions/3.8/lib/python3.8/multiprocessing/connection.py:383\u001b[0m, in \u001b[0;36mConnection._recv\u001b[0;34m(self, size, read)\u001b[0m\n\u001b[1;32m    381\u001b[0m \u001b[38;5;28;01mif\u001b[39;00m n \u001b[38;5;241m==\u001b[39m \u001b[38;5;241m0\u001b[39m:\n\u001b[1;32m    382\u001b[0m     \u001b[38;5;28;01mif\u001b[39;00m remaining \u001b[38;5;241m==\u001b[39m size:\n\u001b[0;32m--> 383\u001b[0m         \u001b[38;5;28;01mraise\u001b[39;00m \u001b[38;5;167;01mEOFError\u001b[39;00m\n\u001b[1;32m    384\u001b[0m     \u001b[38;5;28;01melse\u001b[39;00m:\n\u001b[1;32m    385\u001b[0m         \u001b[38;5;28;01mraise\u001b[39;00m \u001b[38;5;167;01mOSError\u001b[39;00m(\u001b[38;5;124m\"\u001b[39m\u001b[38;5;124mgot end of file during message\u001b[39m\u001b[38;5;124m\"\u001b[39m)\n",
      "\u001b[0;31mEOFError\u001b[0m: "
     ]
    }
   ],
   "source": [
    "date_model = bmb.Model('y ~ date', df, family='bernoulli')\n",
    "date_fit = date_model.fit(draws=1000, chains=4, idata_kwargs={\"log_likelihood\": True})\n",
    "az.plot_forest(date_fit, combined=True, figsize=(12, 6))\n",
    "plt.axvline(0, c='lightgrey', ls='--');"
   ]
  },
  {
   "cell_type": "code",
   "execution_count": null,
   "id": "1d785551",
   "metadata": {},
   "outputs": [],
   "source": [
    "az.summary(date_fit)"
   ]
  },
  {
   "cell_type": "code",
   "execution_count": null,
   "id": "a745c4c9",
   "metadata": {},
   "outputs": [],
   "source": [
    "region_model = bmb.Model('y ~ region', df, family='bernoulli')\n",
    "region_fit = region_model.fit(draws=1000, chains=4, idata_kwargs={\"log_likelihood\": True})\n",
    "az.summary(region_fit)"
   ]
  },
  {
   "cell_type": "code",
   "execution_count": null,
   "id": "7dca92cf",
   "metadata": {},
   "outputs": [],
   "source": [
    "az.plot_forest(region_fit, combined=True, figsize=(12, 6))\n",
    "plt.axvline(0, c='lightgrey', ls='--');"
   ]
  },
  {
   "cell_type": "code",
   "execution_count": null,
   "id": "34df9a1c",
   "metadata": {},
   "outputs": [],
   "source": [
    "covariate_model = bmb.Model('y ~ region + date', df, family='bernoulli')\n",
    "covariate_fit = covariate_model.fit(draws=1000, chains=4, idata_kwargs={\"log_likelihood\": True})\n",
    "az.summary(covariate_fit)\n",
    "az.plot_forest(covariate_fit, combined=True, figsize=(12, 6))\n",
    "plt.axvline(0, c='lightgrey', ls='--');"
   ]
  },
  {
   "cell_type": "code",
   "execution_count": null,
   "id": "bf2c7860",
   "metadata": {},
   "outputs": [],
   "source": [
    "region_model_vi = bmb.Model('y ~ (1|region)', df, family='bernoulli')\n",
    "region_fit_vi = region_model_vi.fit(draws=1000, chains=4, idata_kwargs={\"log_likelihood\": True})\n",
    "az.summary(region_fit_vi)"
   ]
  },
  {
   "cell_type": "code",
   "execution_count": null,
   "id": "d6518967",
   "metadata": {},
   "outputs": [],
   "source": [
    "models_dict = {\n",
    "    \"date\": date_fit,\n",
    "    \"region\": region_fit,\n",
    "    \"region_vi\": region_fit_vi,\n",
    "#     \"covariate\": covariate_fit,\n",
    "     \"intercept\": intercept_fit\n",
    "}\n",
    "\n",
    "# loo_compare = az.compare(models_dict, ic='LOO')\n",
    "waic_compare = az.compare(models_dict, ic='WAIC')"
   ]
  },
  {
   "cell_type": "code",
   "execution_count": null,
   "id": "549ac9b7",
   "metadata": {},
   "outputs": [],
   "source": [
    "az.plot_compare(waic_compare, insample_dev=True);"
   ]
  },
  {
   "cell_type": "code",
   "execution_count": null,
   "id": "091164f7",
   "metadata": {},
   "outputs": [],
   "source": [
    "waic_compare"
   ]
  },
  {
   "cell_type": "code",
   "execution_count": null,
   "id": "ff97a285",
   "metadata": {},
   "outputs": [],
   "source": [
    "df_compare = pd.concat([loo_compare, waic_compare], axis=1)\n",
    "df_compare"
   ]
  },
  {
   "cell_type": "code",
   "execution_count": null,
   "id": "5e7c6661",
   "metadata": {},
   "outputs": [],
   "source": [
    "DATE = np.linspace(int(df['birthyear'].min()), int(df['birthyear'].max()))\n",
    "DATE_SCALED = date_scaler.transform(DATE.reshape(-1, 1)).flatten()"
   ]
  },
  {
   "cell_type": "code",
   "execution_count": null,
   "id": "d11a59b1",
   "metadata": {},
   "outputs": [],
   "source": [
    "fig, ax = plt.subplots()\n",
    "handles = []\n",
    "i = 0\n",
    "\n",
    "new_data = pd.DataFrame({\n",
    "            \"date\": DATE_SCALED,\n",
    "        })\n",
    "new_idata = date_model.predict(date_fit, data=new_data, inplace=False)\n",
    "mean = new_idata.posterior[\"y_mean\"].values\n",
    "\n",
    "az.plot_hdi(DATE, mean, ax=ax)\n",
    "\n",
    "ax.set_xlabel(\"Date\")\n",
    "ax.set_ylabel(f\"P($f_2$)\")\n",
    "ax.legend(handles=handles, loc=\"upper left\");"
   ]
  },
  {
   "cell_type": "code",
   "execution_count": null,
   "id": "fb3dba6d",
   "metadata": {},
   "outputs": [],
   "source": []
  }
 ],
 "metadata": {
  "kernelspec": {
   "display_name": "Python 3 (ipykernel)",
   "language": "python",
   "name": "python3"
  },
  "language_info": {
   "codemirror_mode": {
    "name": "ipython",
    "version": 3
   },
   "file_extension": ".py",
   "mimetype": "text/x-python",
   "name": "python",
   "nbconvert_exporter": "python",
   "pygments_lexer": "ipython3",
   "version": "3.8.17"
  }
 },
 "nbformat": 4,
 "nbformat_minor": 5
}
